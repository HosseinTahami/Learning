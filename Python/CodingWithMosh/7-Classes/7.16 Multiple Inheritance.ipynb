{
 "cells": [
  {
   "cell_type": "markdown",
   "id": "0935b045",
   "metadata": {},
   "source": [
    "# Multiple Inheritance"
   ]
  },
  {
   "cell_type": "markdown",
   "id": "5c1e4b14",
   "metadata": {},
   "source": [
    "In Multiple Inheritance, Python Interpreter will check for methods from left to right, so in `Manager` class it will check first the `Employee` Class and then if it can't find it, it will check `Person` Class."
   ]
  },
  {
   "cell_type": "code",
   "execution_count": 1,
   "id": "378da682",
   "metadata": {},
   "outputs": [],
   "source": [
    "class Employee:\n",
    "\n",
    "    def greet(self):\n",
    "        print(\"Employee Greet\")"
   ]
  },
  {
   "cell_type": "code",
   "execution_count": 2,
   "id": "324d680d",
   "metadata": {},
   "outputs": [],
   "source": [
    "class Person:\n",
    "    def greet(self):\n",
    "        print(\"Person Greet\")"
   ]
  },
  {
   "cell_type": "code",
   "execution_count": 3,
   "id": "a461625a",
   "metadata": {},
   "outputs": [],
   "source": [
    "class Manager(Employee, Person):\n",
    "    ..."
   ]
  },
  {
   "cell_type": "code",
   "execution_count": 5,
   "id": "fe45111d",
   "metadata": {},
   "outputs": [
    {
     "name": "stdout",
     "output_type": "stream",
     "text": [
      "Employee Greet\n"
     ]
    }
   ],
   "source": [
    "manager = Manager()\n",
    "manager.greet()"
   ]
  }
 ],
 "metadata": {
  "kernelspec": {
   "display_name": "pytopia-2023",
   "language": "python",
   "name": "python3"
  },
  "language_info": {
   "codemirror_mode": {
    "name": "ipython",
    "version": 3
   },
   "file_extension": ".py",
   "mimetype": "text/x-python",
   "name": "python",
   "nbconvert_exporter": "python",
   "pygments_lexer": "ipython3",
   "version": "3.10.18"
  }
 },
 "nbformat": 4,
 "nbformat_minor": 5
}
