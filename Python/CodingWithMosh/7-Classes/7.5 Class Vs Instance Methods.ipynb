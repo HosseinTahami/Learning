{
 "cells": [
  {
   "cell_type": "markdown",
   "id": "39d1b295",
   "metadata": {},
   "source": [
    "# Class Method Vs. Instance Methods\n",
    "\n",
    "## Instance Method:\n",
    "\n",
    "We need instance of the class to use these methods !\n",
    "\n",
    "## Class Method:\n",
    "\n",
    "We can use these methods directly from the Class itself !"
   ]
  },
  {
   "cell_type": "code",
   "execution_count": 7,
   "id": "9bac78a9",
   "metadata": {},
   "outputs": [],
   "source": [
    "class Point:\n",
    "\n",
    "    default_colour = \"Blue\"\n",
    "\n",
    "    def __init__(self, x, y): # Instance Method\n",
    "        self.x = x\n",
    "        self.y = y\n",
    "    \n",
    "    def draw(self): # Instance Method\n",
    "        print(f\"Point({self.x}, {self.y})\")\n",
    "\n",
    "    @classmethod\n",
    "    def zero(cls):\n",
    "        return cls(0, 0)"
   ]
  },
  {
   "cell_type": "code",
   "execution_count": 8,
   "id": "09f2ba34",
   "metadata": {},
   "outputs": [],
   "source": [
    "p1 = Point(1, 4)"
   ]
  },
  {
   "cell_type": "code",
   "execution_count": 9,
   "id": "f6699156",
   "metadata": {},
   "outputs": [
    {
     "name": "stdout",
     "output_type": "stream",
     "text": [
      "Point(1, 4)\n"
     ]
    }
   ],
   "source": [
    "p1.draw()"
   ]
  },
  {
   "cell_type": "code",
   "execution_count": 10,
   "id": "e0b46ed5",
   "metadata": {},
   "outputs": [],
   "source": [
    "p2 = Point.zero()"
   ]
  },
  {
   "cell_type": "code",
   "execution_count": 11,
   "id": "3f616629",
   "metadata": {},
   "outputs": [
    {
     "name": "stdout",
     "output_type": "stream",
     "text": [
      "Point(0, 0)\n"
     ]
    }
   ],
   "source": [
    "p2.draw()"
   ]
  },
  {
   "cell_type": "code",
   "execution_count": null,
   "id": "1d2aaa4c",
   "metadata": {},
   "outputs": [],
   "source": []
  }
 ],
 "metadata": {
  "kernelspec": {
   "display_name": "pytopia-2023",
   "language": "python",
   "name": "python3"
  },
  "language_info": {
   "codemirror_mode": {
    "name": "ipython",
    "version": 3
   },
   "file_extension": ".py",
   "mimetype": "text/x-python",
   "name": "python",
   "nbconvert_exporter": "python",
   "pygments_lexer": "ipython3",
   "version": "3.10.18"
  }
 },
 "nbformat": 4,
 "nbformat_minor": 5
}
