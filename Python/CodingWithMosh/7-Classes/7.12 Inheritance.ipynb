{
 "cells": [
  {
   "cell_type": "markdown",
   "id": "e9697ec8",
   "metadata": {},
   "source": [
    "# Inheritance\n",
    "\n",
    "Define a common behavior in one class and inherit it in other classes."
   ]
  },
  {
   "cell_type": "code",
   "execution_count": 7,
   "id": "0aa716e3",
   "metadata": {},
   "outputs": [],
   "source": [
    "class Animal:\n",
    "\n",
    "    def __init__(self):\n",
    "        self.age = 1\n",
    "\n",
    "    def eat(self):\n",
    "        print(\"Eat\")"
   ]
  },
  {
   "cell_type": "code",
   "execution_count": 8,
   "id": "01721a33",
   "metadata": {},
   "outputs": [],
   "source": [
    "class Mammal(Animal):\n",
    "\n",
    "    def walk(self):\n",
    "        print(\"Walk\")"
   ]
  },
  {
   "cell_type": "code",
   "execution_count": 9,
   "id": "ef90eccc",
   "metadata": {},
   "outputs": [],
   "source": [
    "class Fish(Animal):\n",
    "\n",
    "    def swim(self):\n",
    "        print(\"Swim\")"
   ]
  },
  {
   "cell_type": "code",
   "execution_count": 10,
   "id": "edfdf253",
   "metadata": {},
   "outputs": [
    {
     "data": {
      "text/plain": [
       "1"
      ]
     },
     "execution_count": 10,
     "metadata": {},
     "output_type": "execute_result"
    }
   ],
   "source": [
    "fish = Fish()\n",
    "fish.age"
   ]
  }
 ],
 "metadata": {
  "kernelspec": {
   "display_name": "pytopia-2023",
   "language": "python",
   "name": "python3"
  },
  "language_info": {
   "codemirror_mode": {
    "name": "ipython",
    "version": 3
   },
   "file_extension": ".py",
   "mimetype": "text/x-python",
   "name": "python",
   "nbconvert_exporter": "python",
   "pygments_lexer": "ipython3",
   "version": "3.10.18"
  }
 },
 "nbformat": 4,
 "nbformat_minor": 5
}
