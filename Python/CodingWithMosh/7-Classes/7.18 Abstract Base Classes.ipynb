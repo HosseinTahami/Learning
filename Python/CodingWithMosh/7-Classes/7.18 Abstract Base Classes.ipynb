{
 "cells": [
  {
   "cell_type": "markdown",
   "id": "fdb92bd9",
   "metadata": {},
   "source": [
    "# Abstract Base Class"
   ]
  },
  {
   "cell_type": "code",
   "execution_count": 1,
   "id": "e0bde33a",
   "metadata": {},
   "outputs": [],
   "source": [
    "class InvalidOperationError(Exception):\n",
    "    ..."
   ]
  },
  {
   "cell_type": "code",
   "execution_count": 5,
   "id": "a0535193",
   "metadata": {},
   "outputs": [],
   "source": [
    "from abc import ABC, abstractmethod"
   ]
  },
  {
   "cell_type": "code",
   "execution_count": 6,
   "id": "3f4a82a8",
   "metadata": {},
   "outputs": [],
   "source": [
    "class Stream(ABC):\n",
    "\n",
    "    def __init__(self):\n",
    "        self.opened = False\n",
    "\n",
    "    def open(self):\n",
    "        if self.opened:\n",
    "            raise InvalidOperationError(\"Stream, already open.\")\n",
    "        self.opened = True\n",
    "    \n",
    "    def close(self):\n",
    "        if not self.opened:\n",
    "            raise InvalidOperationError(\"Stream, already close.\")\n",
    "        self.opened = False\n",
    "    \n",
    "    @abstractmethod\n",
    "    def read(self):\n",
    "        ..."
   ]
  },
  {
   "cell_type": "code",
   "execution_count": 3,
   "id": "3f37b4d7",
   "metadata": {},
   "outputs": [],
   "source": [
    "class FileStream(Stream):\n",
    "\n",
    "    def read(self):\n",
    "        print(\"Reading data from a file.\")"
   ]
  },
  {
   "cell_type": "code",
   "execution_count": 4,
   "id": "002a4a89",
   "metadata": {},
   "outputs": [],
   "source": [
    "class NetworkStream(Stream):\n",
    "\n",
    "    def read(self):\n",
    "        print(\"Reading data from a network.\")"
   ]
  }
 ],
 "metadata": {
  "kernelspec": {
   "display_name": "pytopia-2023",
   "language": "python",
   "name": "python3"
  },
  "language_info": {
   "codemirror_mode": {
    "name": "ipython",
    "version": 3
   },
   "file_extension": ".py",
   "mimetype": "text/x-python",
   "name": "python",
   "nbconvert_exporter": "python",
   "pygments_lexer": "ipython3",
   "version": "3.10.18"
  }
 },
 "nbformat": 4,
 "nbformat_minor": 5
}
