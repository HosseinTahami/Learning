{
 "cells": [
  {
   "cell_type": "markdown",
   "id": "ab17407c",
   "metadata": {},
   "source": [
    "# Polymorphism"
   ]
  },
  {
   "cell_type": "code",
   "execution_count": 16,
   "id": "9717025b",
   "metadata": {},
   "outputs": [],
   "source": [
    "from abc import ABC, abstractmethod"
   ]
  },
  {
   "cell_type": "code",
   "execution_count": 17,
   "id": "11c4c051",
   "metadata": {},
   "outputs": [],
   "source": [
    "class UIControl(ABC):\n",
    "\n",
    "    @abstractmethod\n",
    "    def draw(self):\n",
    "        ..."
   ]
  },
  {
   "cell_type": "code",
   "execution_count": 18,
   "id": "31b27802",
   "metadata": {},
   "outputs": [],
   "source": [
    "class TextBox(UIControl):\n",
    "    def draw(self):\n",
    "        print(\"TextBox\")"
   ]
  },
  {
   "cell_type": "code",
   "execution_count": 19,
   "id": "36f61b09",
   "metadata": {},
   "outputs": [],
   "source": [
    "class DropDownList(UIControl):\n",
    "    def draw(self):\n",
    "        print(\"DropDownList\")"
   ]
  },
  {
   "cell_type": "code",
   "execution_count": 21,
   "id": "67b438a8",
   "metadata": {},
   "outputs": [],
   "source": [
    "def draw(*controls):\n",
    "    for control in controls:\n",
    "        control.draw()"
   ]
  },
  {
   "cell_type": "code",
   "execution_count": 22,
   "id": "2557df75",
   "metadata": {},
   "outputs": [],
   "source": [
    "ddl = DropDownList()\n",
    "textbox = TextBox()"
   ]
  },
  {
   "cell_type": "code",
   "execution_count": 23,
   "id": "ad56b132",
   "metadata": {},
   "outputs": [
    {
     "name": "stdout",
     "output_type": "stream",
     "text": [
      "DropDownList\n",
      "TextBox\n"
     ]
    }
   ],
   "source": [
    "draw(ddl, textbox)"
   ]
  }
 ],
 "metadata": {
  "kernelspec": {
   "display_name": "pytopia-2023",
   "language": "python",
   "name": "python3"
  },
  "language_info": {
   "codemirror_mode": {
    "name": "ipython",
    "version": 3
   },
   "file_extension": ".py",
   "mimetype": "text/x-python",
   "name": "python",
   "nbconvert_exporter": "python",
   "pygments_lexer": "ipython3",
   "version": "3.10.18"
  }
 },
 "nbformat": 4,
 "nbformat_minor": 5
}
