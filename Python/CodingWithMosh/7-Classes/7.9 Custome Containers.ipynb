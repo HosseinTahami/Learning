{
 "cells": [
  {
   "cell_type": "markdown",
   "id": "f7038a28",
   "metadata": {},
   "source": [
    "## Making Custom Containers"
   ]
  },
  {
   "cell_type": "markdown",
   "id": "b815bac4",
   "metadata": {},
   "source": [
    "This custome container looks a lot like dict data type but with a difference that all capital letters and lowrcase letters are the same !"
   ]
  },
  {
   "cell_type": "code",
   "execution_count": null,
   "id": "71f67978",
   "metadata": {},
   "outputs": [],
   "source": [
    "class TagCloud:\n",
    "    \n",
    "    def __init__(self):\n",
    "        self.tags = {}\n",
    "    \n",
    "    def __getitem__(self, tag):\n",
    "        return self.tags.get(tag.lower(), 0)\n",
    "    \n",
    "    def __setitem__(self, tag, count):\n",
    "        self.tags[tag.lower()] = count\n",
    "    \n",
    "    def __len__(self):\n",
    "        return len(self.tags)\n",
    "\n",
    "    def __itter__(self): # Now we can for loop inside it\n",
    "        iter(self.tags)\n",
    "\n",
    "    def add(self, tag):\n",
    "        self.tags[tag.lower()] = self.tags.get(tag.lower(), 0) + 1\n"
   ]
  },
  {
   "cell_type": "code",
   "execution_count": 46,
   "id": "f1faa409",
   "metadata": {},
   "outputs": [],
   "source": [
    "cloud = TagCloud()"
   ]
  },
  {
   "cell_type": "code",
   "execution_count": 47,
   "id": "ec7f9c54",
   "metadata": {},
   "outputs": [],
   "source": [
    "cloud.add(\"Python\")\n",
    "cloud.add(\"pYthOn\")"
   ]
  },
  {
   "cell_type": "code",
   "execution_count": 48,
   "id": "9a106613",
   "metadata": {},
   "outputs": [
    {
     "name": "stdout",
     "output_type": "stream",
     "text": [
      "{'python': 2}\n"
     ]
    }
   ],
   "source": [
    "print(cloud.tags)"
   ]
  },
  {
   "cell_type": "code",
   "execution_count": 49,
   "id": "bbcdbace",
   "metadata": {},
   "outputs": [
    {
     "data": {
      "text/plain": [
       "2"
      ]
     },
     "execution_count": 49,
     "metadata": {},
     "output_type": "execute_result"
    }
   ],
   "source": [
    "cloud[\"python\"]"
   ]
  },
  {
   "cell_type": "code",
   "execution_count": 50,
   "id": "d14a5f5c",
   "metadata": {},
   "outputs": [
    {
     "data": {
      "text/plain": [
       "0"
      ]
     },
     "execution_count": 50,
     "metadata": {},
     "output_type": "execute_result"
    }
   ],
   "source": [
    "cloud[\"Hello\"]"
   ]
  }
 ],
 "metadata": {
  "kernelspec": {
   "display_name": "pytopia-2023",
   "language": "python",
   "name": "python3"
  },
  "language_info": {
   "codemirror_mode": {
    "name": "ipython",
    "version": 3
   },
   "file_extension": ".py",
   "mimetype": "text/x-python",
   "name": "python",
   "nbconvert_exporter": "python",
   "pygments_lexer": "ipython3",
   "version": "3.10.18"
  }
 },
 "nbformat": 4,
 "nbformat_minor": 5
}
