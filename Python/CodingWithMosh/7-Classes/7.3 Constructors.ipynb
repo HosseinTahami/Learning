{
 "cells": [
  {
   "cell_type": "code",
   "execution_count": 4,
   "id": "9c17cbe6",
   "metadata": {},
   "outputs": [],
   "source": [
    "class Point:\n",
    "\n",
    "    def __init__(self, x, y):\n",
    "        self.x = x\n",
    "        self.y = y\n",
    "    \n",
    "    def draw(self):\n",
    "        print(f\"Point ({self.x}, {self.y})\")"
   ]
  },
  {
   "cell_type": "code",
   "execution_count": 5,
   "id": "c087e521",
   "metadata": {},
   "outputs": [],
   "source": [
    "p1 = Point(4, 5)"
   ]
  },
  {
   "cell_type": "code",
   "execution_count": 6,
   "id": "7136e289",
   "metadata": {},
   "outputs": [
    {
     "name": "stdout",
     "output_type": "stream",
     "text": [
      "Point (4, 5)\n"
     ]
    }
   ],
   "source": [
    "Point.draw(p1) # Sugar Syntax"
   ]
  },
  {
   "cell_type": "code",
   "execution_count": 7,
   "id": "2b155d9a",
   "metadata": {},
   "outputs": [
    {
     "name": "stdout",
     "output_type": "stream",
     "text": [
      "Point (4, 5)\n"
     ]
    }
   ],
   "source": [
    "p1.draw()"
   ]
  }
 ],
 "metadata": {
  "kernelspec": {
   "display_name": "pytopia-2023",
   "language": "python",
   "name": "python3"
  },
  "language_info": {
   "codemirror_mode": {
    "name": "ipython",
    "version": 3
   },
   "file_extension": ".py",
   "mimetype": "text/x-python",
   "name": "python",
   "nbconvert_exporter": "python",
   "pygments_lexer": "ipython3",
   "version": "3.10.18"
  }
 },
 "nbformat": 4,
 "nbformat_minor": 5
}
