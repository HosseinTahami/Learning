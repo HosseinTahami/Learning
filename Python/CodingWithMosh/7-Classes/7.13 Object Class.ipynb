{
 "cells": [
  {
   "cell_type": "markdown",
   "id": "b7fcea15",
   "metadata": {},
   "source": [
    "# Object Class\n",
    "\n",
    "All classes inherit from a class called `object`."
   ]
  },
  {
   "cell_type": "code",
   "execution_count": 1,
   "id": "5140f9c3",
   "metadata": {},
   "outputs": [],
   "source": [
    "class Animal:\n",
    "\n",
    "    def __init__(self):\n",
    "        self.age = 1\n",
    "\n",
    "    def eat(self):\n",
    "        print(\"Eat\")"
   ]
  },
  {
   "cell_type": "code",
   "execution_count": 2,
   "id": "640f809e",
   "metadata": {},
   "outputs": [],
   "source": [
    "class Mammal(Animal):\n",
    "\n",
    "    def walk(self):\n",
    "        print(\"Walk\")"
   ]
  },
  {
   "cell_type": "code",
   "execution_count": 3,
   "id": "db61e07b",
   "metadata": {},
   "outputs": [
    {
     "name": "stdout",
     "output_type": "stream",
     "text": [
      "True\n",
      "True\n",
      "True\n",
      "True\n"
     ]
    }
   ],
   "source": [
    "m = Mammal()\n",
    "print(isinstance(m, Mammal))\n",
    "print(isinstance(m, Animal))\n",
    "print(isinstance(m, object))\n",
    "print(issubclass(Mammal, object))"
   ]
  }
 ],
 "metadata": {
  "kernelspec": {
   "display_name": "pytopia-2023",
   "language": "python",
   "name": "python3"
  },
  "language_info": {
   "codemirror_mode": {
    "name": "ipython",
    "version": 3
   },
   "file_extension": ".py",
   "mimetype": "text/x-python",
   "name": "python",
   "nbconvert_exporter": "python",
   "pygments_lexer": "ipython3",
   "version": "3.10.18"
  }
 },
 "nbformat": 4,
 "nbformat_minor": 5
}
