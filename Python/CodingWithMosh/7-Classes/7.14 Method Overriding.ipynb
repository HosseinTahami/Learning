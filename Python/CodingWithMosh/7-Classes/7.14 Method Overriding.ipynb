{
 "cells": [
  {
   "cell_type": "markdown",
   "id": "c06b2d6e",
   "metadata": {},
   "source": [
    "# Method Overriding"
   ]
  },
  {
   "cell_type": "code",
   "execution_count": 6,
   "id": "9e9aa5c1",
   "metadata": {},
   "outputs": [],
   "source": [
    "class Animal:\n",
    "\n",
    "    def __init__(self):\n",
    "        print(\"Animal Constructor\")\n",
    "        self.age = 1\n",
    "    \n",
    "    def eat(self):\n",
    "        print(\"Eat\")"
   ]
  },
  {
   "cell_type": "code",
   "execution_count": 7,
   "id": "a7f24e1f",
   "metadata": {},
   "outputs": [],
   "source": [
    "class Mammal(Animal):\n",
    "\n",
    "    def __init__(self):\n",
    "        super().__init__()\n",
    "        print(\"Mammal Constructor\")\n",
    "        self.weight = 2\n",
    "\n",
    "    def walk(self):\n",
    "        print(\"Walk\")"
   ]
  },
  {
   "cell_type": "code",
   "execution_count": 8,
   "id": "8ce5d8e1",
   "metadata": {},
   "outputs": [
    {
     "name": "stdout",
     "output_type": "stream",
     "text": [
      "Animal Constructor\n",
      "Mammal Constructor\n"
     ]
    }
   ],
   "source": [
    "m = Mammal()"
   ]
  }
 ],
 "metadata": {
  "kernelspec": {
   "display_name": "pytopia-2023",
   "language": "python",
   "name": "python3"
  },
  "language_info": {
   "codemirror_mode": {
    "name": "ipython",
    "version": 3
   },
   "file_extension": ".py",
   "mimetype": "text/x-python",
   "name": "python",
   "nbconvert_exporter": "python",
   "pygments_lexer": "ipython3",
   "version": "3.10.18"
  }
 },
 "nbformat": 4,
 "nbformat_minor": 5
}
