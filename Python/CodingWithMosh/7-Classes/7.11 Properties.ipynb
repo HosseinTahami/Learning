{
 "cells": [
  {
   "cell_type": "markdown",
   "id": "6d9d9202",
   "metadata": {},
   "source": [
    "# Properties"
   ]
  },
  {
   "cell_type": "code",
   "execution_count": 15,
   "id": "f4a2c45b",
   "metadata": {},
   "outputs": [],
   "source": [
    "class Product:\n",
    "    def __init__(self, price):\n",
    "        self.price = price"
   ]
  },
  {
   "cell_type": "code",
   "execution_count": 16,
   "id": "40e5de42",
   "metadata": {},
   "outputs": [
    {
     "data": {
      "text/plain": [
       "<__main__.Product at 0x78d48c69aad0>"
      ]
     },
     "execution_count": 16,
     "metadata": {},
     "output_type": "execute_result"
    }
   ],
   "source": [
    "Product(-59)"
   ]
  },
  {
   "cell_type": "code",
   "execution_count": 17,
   "id": "bf1ba1de",
   "metadata": {},
   "outputs": [],
   "source": [
    "class Product:\n",
    "    def __init__(self, price):\n",
    "        self.set_price(price)\n",
    "        \n",
    "    def get_price(self):\n",
    "        return self.__price\n",
    "    \n",
    "    def set_price(self, value):\n",
    "        if value < 0:\n",
    "            raise ValueError(\"Price Cannot be negative !\")\n",
    "        self.__price = value"
   ]
  },
  {
   "cell_type": "code",
   "execution_count": 18,
   "id": "d76555cc",
   "metadata": {},
   "outputs": [
    {
     "ename": "ValueError",
     "evalue": "Price Cannot be negative !",
     "output_type": "error",
     "traceback": [
      "\u001b[0;31m---------------------------------------------------------------------------\u001b[0m",
      "\u001b[0;31mValueError\u001b[0m                                Traceback (most recent call last)",
      "Cell \u001b[0;32mIn[18], line 1\u001b[0m\n\u001b[0;32m----> 1\u001b[0m \u001b[43mProduct\u001b[49m\u001b[43m(\u001b[49m\u001b[38;5;241;43m-\u001b[39;49m\u001b[38;5;241;43m59\u001b[39;49m\u001b[43m)\u001b[49m\n",
      "Cell \u001b[0;32mIn[17], line 3\u001b[0m, in \u001b[0;36mProduct.__init__\u001b[0;34m(self, price)\u001b[0m\n\u001b[1;32m      2\u001b[0m \u001b[38;5;28;01mdef\u001b[39;00m\u001b[38;5;250m \u001b[39m\u001b[38;5;21m__init__\u001b[39m(\u001b[38;5;28mself\u001b[39m, price):\n\u001b[0;32m----> 3\u001b[0m     \u001b[38;5;28;43mself\u001b[39;49m\u001b[38;5;241;43m.\u001b[39;49m\u001b[43mset_price\u001b[49m\u001b[43m(\u001b[49m\u001b[43mprice\u001b[49m\u001b[43m)\u001b[49m\n",
      "Cell \u001b[0;32mIn[17], line 10\u001b[0m, in \u001b[0;36mProduct.set_price\u001b[0;34m(self, value)\u001b[0m\n\u001b[1;32m      8\u001b[0m \u001b[38;5;28;01mdef\u001b[39;00m\u001b[38;5;250m \u001b[39m\u001b[38;5;21mset_price\u001b[39m(\u001b[38;5;28mself\u001b[39m, value):\n\u001b[1;32m      9\u001b[0m     \u001b[38;5;28;01mif\u001b[39;00m value \u001b[38;5;241m<\u001b[39m \u001b[38;5;241m0\u001b[39m:\n\u001b[0;32m---> 10\u001b[0m         \u001b[38;5;28;01mraise\u001b[39;00m \u001b[38;5;167;01mValueError\u001b[39;00m(\u001b[38;5;124m\"\u001b[39m\u001b[38;5;124mPrice Cannot be negative !\u001b[39m\u001b[38;5;124m\"\u001b[39m)\n\u001b[1;32m     11\u001b[0m     \u001b[38;5;28mself\u001b[39m\u001b[38;5;241m.\u001b[39m__price \u001b[38;5;241m=\u001b[39m value\n",
      "\u001b[0;31mValueError\u001b[0m: Price Cannot be negative !"
     ]
    }
   ],
   "source": [
    "Product(-59)"
   ]
  },
  {
   "cell_type": "code",
   "execution_count": 19,
   "id": "1068fab9",
   "metadata": {},
   "outputs": [
    {
     "data": {
      "text/plain": [
       "<__main__.Product at 0x78d48c729150>"
      ]
     },
     "execution_count": 19,
     "metadata": {},
     "output_type": "execute_result"
    }
   ],
   "source": [
    "Product(33)"
   ]
  },
  {
   "cell_type": "markdown",
   "id": "998d3b5f",
   "metadata": {},
   "source": [
    "The above solution for managing price to not be negative is `None Pythonic`, instead we use `property()` !"
   ]
  },
  {
   "cell_type": "code",
   "execution_count": 20,
   "id": "45e544c2",
   "metadata": {},
   "outputs": [],
   "source": [
    "class Product:\n",
    "    def __init__(self, price):\n",
    "        self.set_price(price)\n",
    "    \n",
    "    def get_price(self):\n",
    "        return self.__price\n",
    "    \n",
    "    def set_price(self, value):\n",
    "        if value < 0:\n",
    "            raise ValueError(\"Price Cannot be negative !\")\n",
    "        self.__price = value\n",
    "    \n",
    "    price = property(get_price, set_price)"
   ]
  },
  {
   "cell_type": "code",
   "execution_count": 21,
   "id": "6662941d",
   "metadata": {},
   "outputs": [],
   "source": [
    "product = Product(10)"
   ]
  },
  {
   "cell_type": "code",
   "execution_count": 22,
   "id": "bbe50ef7",
   "metadata": {},
   "outputs": [
    {
     "data": {
      "text/plain": [
       "10"
      ]
     },
     "execution_count": 22,
     "metadata": {},
     "output_type": "execute_result"
    }
   ],
   "source": [
    "product.price"
   ]
  },
  {
   "cell_type": "code",
   "execution_count": 27,
   "id": "8ccda354",
   "metadata": {},
   "outputs": [],
   "source": [
    "class Product:\n",
    "\n",
    "    def __init__(self, price):\n",
    "        self.price = price\n",
    "\n",
    "    @property\n",
    "    def price(self):\n",
    "        return self.__price\n",
    "    \n",
    "    @price.setter\n",
    "    def price(self, value):\n",
    "        if value < 0:\n",
    "            raise ValueError(\"Price Cannot be negative !\")\n",
    "        self.__price = value\n",
    "    "
   ]
  },
  {
   "cell_type": "code",
   "execution_count": 28,
   "id": "c8737df0",
   "metadata": {},
   "outputs": [
    {
     "data": {
      "text/plain": [
       "10"
      ]
     },
     "execution_count": 28,
     "metadata": {},
     "output_type": "execute_result"
    }
   ],
   "source": [
    "product = Product(10)\n",
    "product.price"
   ]
  },
  {
   "cell_type": "code",
   "execution_count": 30,
   "id": "d9217132",
   "metadata": {},
   "outputs": [
    {
     "data": {
      "text/plain": [
       "9"
      ]
     },
     "execution_count": 30,
     "metadata": {},
     "output_type": "execute_result"
    }
   ],
   "source": [
    "product.price = 9\n",
    "product.price"
   ]
  }
 ],
 "metadata": {
  "kernelspec": {
   "display_name": "pytopia-2023",
   "language": "python",
   "name": "python3"
  },
  "language_info": {
   "codemirror_mode": {
    "name": "ipython",
    "version": 3
   },
   "file_extension": ".py",
   "mimetype": "text/x-python",
   "name": "python",
   "nbconvert_exporter": "python",
   "pygments_lexer": "ipython3",
   "version": "3.10.18"
  }
 },
 "nbformat": 4,
 "nbformat_minor": 5
}
