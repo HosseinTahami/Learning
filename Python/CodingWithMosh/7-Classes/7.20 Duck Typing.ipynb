{
 "cells": [
  {
   "cell_type": "markdown",
   "id": "ab17407c",
   "metadata": {},
   "source": [
    "# Duck Typing\n",
    "\n",
    "if it's walk like duck and quacks like a duck then it is a duck !!!"
   ]
  },
  {
   "cell_type": "code",
   "execution_count": 1,
   "id": "31b27802",
   "metadata": {},
   "outputs": [],
   "source": [
    "class TextBox:\n",
    "    def draw(self):\n",
    "        print(\"TextBox\")"
   ]
  },
  {
   "cell_type": "code",
   "execution_count": 2,
   "id": "36f61b09",
   "metadata": {},
   "outputs": [],
   "source": [
    "class DropDownList:\n",
    "    def draw(self):\n",
    "        print(\"DropDownList\")"
   ]
  },
  {
   "cell_type": "code",
   "execution_count": 3,
   "id": "67b438a8",
   "metadata": {},
   "outputs": [],
   "source": [
    "def draw(*controls):\n",
    "    for control in controls:\n",
    "        control.draw()"
   ]
  },
  {
   "cell_type": "code",
   "execution_count": 4,
   "id": "2557df75",
   "metadata": {},
   "outputs": [],
   "source": [
    "ddl = DropDownList()\n",
    "textbox = TextBox()"
   ]
  },
  {
   "cell_type": "code",
   "execution_count": 5,
   "id": "ad56b132",
   "metadata": {},
   "outputs": [
    {
     "name": "stdout",
     "output_type": "stream",
     "text": [
      "DropDownList\n",
      "TextBox\n"
     ]
    }
   ],
   "source": [
    "draw(ddl, textbox)"
   ]
  }
 ],
 "metadata": {
  "kernelspec": {
   "display_name": "pytopia-2023",
   "language": "python",
   "name": "python3"
  },
  "language_info": {
   "codemirror_mode": {
    "name": "ipython",
    "version": 3
   },
   "file_extension": ".py",
   "mimetype": "text/x-python",
   "name": "python",
   "nbconvert_exporter": "python",
   "pygments_lexer": "ipython3",
   "version": "3.10.18"
  }
 },
 "nbformat": 4,
 "nbformat_minor": 5
}
