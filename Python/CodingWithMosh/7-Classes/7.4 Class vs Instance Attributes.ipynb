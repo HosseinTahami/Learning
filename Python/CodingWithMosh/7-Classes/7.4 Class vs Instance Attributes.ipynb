{
 "cells": [
  {
   "cell_type": "code",
   "execution_count": 13,
   "id": "e14e0d2e",
   "metadata": {},
   "outputs": [],
   "source": [
    "class Point:\n",
    "\n",
    "    default_colour = \"Blue\"\n",
    "\n",
    "    def __init__(self, x, y):\n",
    "        self.x = x\n",
    "        self.y = y\n",
    "    \n",
    "    def draw(self):\n",
    "        print(f\"Point({self.x}, {self.y})\")"
   ]
  },
  {
   "cell_type": "code",
   "execution_count": 14,
   "id": "69826700",
   "metadata": {},
   "outputs": [],
   "source": [
    "p1 = Point(4, 5)\n",
    "\n",
    "p2 = Point(6, 0)"
   ]
  },
  {
   "cell_type": "markdown",
   "id": "cbb6ab11",
   "metadata": {},
   "source": [
    "## Instance Attributes:\n",
    "\n",
    "They are only specified for one instance !"
   ]
  },
  {
   "cell_type": "code",
   "execution_count": 15,
   "id": "a3d728e9",
   "metadata": {},
   "outputs": [
    {
     "name": "stdout",
     "output_type": "stream",
     "text": [
      "Point(4, 5)\n"
     ]
    }
   ],
   "source": [
    "p1.draw()"
   ]
  },
  {
   "cell_type": "code",
   "execution_count": 16,
   "id": "15c52c96",
   "metadata": {},
   "outputs": [
    {
     "name": "stdout",
     "output_type": "stream",
     "text": [
      "Point(6, 0)\n"
     ]
    }
   ],
   "source": [
    "p2.draw()"
   ]
  },
  {
   "cell_type": "markdown",
   "id": "ef76aa4a",
   "metadata": {},
   "source": [
    "## Class Attributes:\n",
    "\n",
    "They are shared between all instances !"
   ]
  },
  {
   "cell_type": "code",
   "execution_count": 17,
   "id": "71ee0331",
   "metadata": {},
   "outputs": [
    {
     "data": {
      "text/plain": [
       "'Blue'"
      ]
     },
     "execution_count": 17,
     "metadata": {},
     "output_type": "execute_result"
    }
   ],
   "source": [
    "p1.default_colour"
   ]
  },
  {
   "cell_type": "code",
   "execution_count": 18,
   "id": "9a26ad75",
   "metadata": {},
   "outputs": [
    {
     "data": {
      "text/plain": [
       "'Blue'"
      ]
     },
     "execution_count": 18,
     "metadata": {},
     "output_type": "execute_result"
    }
   ],
   "source": [
    "p2.default_colour"
   ]
  },
  {
   "cell_type": "markdown",
   "id": "04364caf",
   "metadata": {},
   "source": [
    "If you change the value of a class attribute the value will be effected in all the instance of that class."
   ]
  },
  {
   "cell_type": "code",
   "execution_count": 19,
   "id": "2837597b",
   "metadata": {},
   "outputs": [],
   "source": [
    "Point.default_colour = \"Red\""
   ]
  },
  {
   "cell_type": "code",
   "execution_count": 21,
   "id": "fe8dc3b1",
   "metadata": {},
   "outputs": [
    {
     "data": {
      "text/plain": [
       "'Red'"
      ]
     },
     "execution_count": 21,
     "metadata": {},
     "output_type": "execute_result"
    }
   ],
   "source": [
    "p1.default_colour"
   ]
  },
  {
   "cell_type": "code",
   "execution_count": 22,
   "id": "84e4b29c",
   "metadata": {},
   "outputs": [
    {
     "data": {
      "text/plain": [
       "'Red'"
      ]
     },
     "execution_count": 22,
     "metadata": {},
     "output_type": "execute_result"
    }
   ],
   "source": [
    "p2.default_colour"
   ]
  },
  {
   "cell_type": "code",
   "execution_count": null,
   "id": "40a16b7f",
   "metadata": {},
   "outputs": [],
   "source": []
  }
 ],
 "metadata": {
  "kernelspec": {
   "display_name": "pytopia-2023",
   "language": "python",
   "name": "python3"
  },
  "language_info": {
   "codemirror_mode": {
    "name": "ipython",
    "version": 3
   },
   "file_extension": ".py",
   "mimetype": "text/x-python",
   "name": "python",
   "nbconvert_exporter": "python",
   "pygments_lexer": "ipython3",
   "version": "3.10.18"
  }
 },
 "nbformat": 4,
 "nbformat_minor": 5
}
