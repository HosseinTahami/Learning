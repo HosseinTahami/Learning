{
 "cells": [
  {
   "cell_type": "markdown",
   "id": "d4ce5b84",
   "metadata": {},
   "source": [
    "## Magic Methods:"
   ]
  },
  {
   "cell_type": "code",
   "execution_count": 9,
   "id": "e88f9cae",
   "metadata": {},
   "outputs": [],
   "source": [
    "class Point:\n",
    "\n",
    "    default_colour = \"Blue\"\n",
    "\n",
    "    def __init__(self, x, y): # Instance Method\n",
    "        self.x = x\n",
    "        self.y = y\n",
    "    \n",
    "    def draw(self): # Instance Method\n",
    "        print(f\"Point({self.x}, {self.y})\")\n",
    "\n",
    "    @classmethod\n",
    "    def zero(cls):\n",
    "        return cls(0, 0)"
   ]
  },
  {
   "cell_type": "code",
   "execution_count": 10,
   "id": "5ada8c29",
   "metadata": {},
   "outputs": [],
   "source": [
    "p1 = Point(2, 3)"
   ]
  },
  {
   "cell_type": "code",
   "execution_count": 17,
   "id": "dba27d60",
   "metadata": {},
   "outputs": [
    {
     "name": "stdout",
     "output_type": "stream",
     "text": [
      "<__main__.Point object at 0x764101150a30>\n"
     ]
    }
   ],
   "source": [
    "print(p1)"
   ]
  },
  {
   "cell_type": "code",
   "execution_count": 18,
   "id": "38440743",
   "metadata": {},
   "outputs": [
    {
     "data": {
      "text/plain": [
       "'<__main__.Point object at 0x764101150a30>'"
      ]
     },
     "execution_count": 18,
     "metadata": {},
     "output_type": "execute_result"
    }
   ],
   "source": [
    "str(p1)"
   ]
  },
  {
   "cell_type": "code",
   "execution_count": 12,
   "id": "8242ca65",
   "metadata": {},
   "outputs": [],
   "source": [
    "class Point:\n",
    "\n",
    "    default_colour = \"Blue\"\n",
    "\n",
    "    def __init__(self, x, y): # Instance Method\n",
    "        self.x = x\n",
    "        self.y = y\n",
    "    \n",
    "    def __str__(self):\n",
    "        return f\"({self.x}, {self.y})\"\n",
    "    \n",
    "    def draw(self): # Instance Method\n",
    "        print(f\"Point({self.x}, {self.y})\")\n",
    "\n",
    "    @classmethod\n",
    "    def zero(cls):\n",
    "        return cls(0, 0)"
   ]
  },
  {
   "cell_type": "code",
   "execution_count": 14,
   "id": "a0e38bd8",
   "metadata": {},
   "outputs": [],
   "source": [
    "p2 = Point(9, 0)"
   ]
  },
  {
   "cell_type": "code",
   "execution_count": 16,
   "id": "6b3c4185",
   "metadata": {},
   "outputs": [
    {
     "name": "stdout",
     "output_type": "stream",
     "text": [
      "(9, 0)\n"
     ]
    }
   ],
   "source": [
    "print(p2)"
   ]
  },
  {
   "cell_type": "code",
   "execution_count": 19,
   "id": "18320dec",
   "metadata": {},
   "outputs": [
    {
     "data": {
      "text/plain": [
       "'(9, 0)'"
      ]
     },
     "execution_count": 19,
     "metadata": {},
     "output_type": "execute_result"
    }
   ],
   "source": [
    "str(p2)"
   ]
  }
 ],
 "metadata": {
  "kernelspec": {
   "display_name": "pytopia-2023",
   "language": "python",
   "name": "python3"
  },
  "language_info": {
   "codemirror_mode": {
    "name": "ipython",
    "version": 3
   },
   "file_extension": ".py",
   "mimetype": "text/x-python",
   "name": "python",
   "nbconvert_exporter": "python",
   "pygments_lexer": "ipython3",
   "version": "3.10.18"
  }
 },
 "nbformat": 4,
 "nbformat_minor": 5
}
