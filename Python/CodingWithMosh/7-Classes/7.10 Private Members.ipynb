{
 "cells": [
  {
   "cell_type": "code",
   "execution_count": 40,
   "id": "f629a7d6",
   "metadata": {},
   "outputs": [],
   "source": [
    "class TagCloud:\n",
    "    \n",
    "    def __init__(self):\n",
    "        self.tags = {}\n",
    "    \n",
    "    def __getitem__(self, tag):\n",
    "        return self.tags.get(tag.lower(), 0)\n",
    "    \n",
    "    def __setitem__(self, tag, count):\n",
    "        self.tags[tag.lower()] = count\n",
    "    \n",
    "    def __len__(self):\n",
    "        return len(self.tags)\n",
    "\n",
    "    def __itter__(self): # Now we can for loop inside it\n",
    "        iter(self.tags)\n",
    "\n",
    "    def add(self, tag):\n",
    "        self.tags[tag.lower()] = self.tags.get(tag.lower(), 0) + 1"
   ]
  },
  {
   "cell_type": "code",
   "execution_count": 41,
   "id": "bd268189",
   "metadata": {},
   "outputs": [],
   "source": [
    "cloud = TagCloud()"
   ]
  },
  {
   "cell_type": "code",
   "execution_count": 42,
   "id": "89ffa25b",
   "metadata": {},
   "outputs": [],
   "source": [
    "cloud.add(\"Python\")\n",
    "cloud.add(\"pyThON\")\n",
    "cloud.add(\"PyTHon\")"
   ]
  },
  {
   "cell_type": "code",
   "execution_count": 43,
   "id": "5c6dcef6",
   "metadata": {},
   "outputs": [
    {
     "data": {
      "text/plain": [
       "3"
      ]
     },
     "execution_count": 43,
     "metadata": {},
     "output_type": "execute_result"
    }
   ],
   "source": [
    "cloud[\"pytHON\"]"
   ]
  },
  {
   "cell_type": "code",
   "execution_count": 44,
   "id": "54bdbde1",
   "metadata": {},
   "outputs": [
    {
     "data": {
      "text/plain": [
       "{'python': 3}"
      ]
     },
     "execution_count": 44,
     "metadata": {},
     "output_type": "execute_result"
    }
   ],
   "source": [
    "cloud.tags"
   ]
  },
  {
   "cell_type": "markdown",
   "id": "7b80ab0b",
   "metadata": {},
   "source": [
    "The problem is that `cloud.tags` is a dictionary and `cloud.tags[\"Python\"]` will look for `\"Python\"` as a key inside the dictonary but there is no `\"Python\"` because we convert all to the lower case and because of that we don't want user to have access to our dictonary !"
   ]
  },
  {
   "cell_type": "code",
   "execution_count": 45,
   "id": "cccb95f0",
   "metadata": {},
   "outputs": [
    {
     "ename": "KeyError",
     "evalue": "'Python'",
     "output_type": "error",
     "traceback": [
      "\u001b[0;31m---------------------------------------------------------------------------\u001b[0m",
      "\u001b[0;31mKeyError\u001b[0m                                  Traceback (most recent call last)",
      "Cell \u001b[0;32mIn[45], line 1\u001b[0m\n\u001b[0;32m----> 1\u001b[0m \u001b[43mcloud\u001b[49m\u001b[38;5;241;43m.\u001b[39;49m\u001b[43mtags\u001b[49m\u001b[43m[\u001b[49m\u001b[38;5;124;43m\"\u001b[39;49m\u001b[38;5;124;43mPython\u001b[39;49m\u001b[38;5;124;43m\"\u001b[39;49m\u001b[43m]\u001b[49m\n",
      "\u001b[0;31mKeyError\u001b[0m: 'Python'"
     ]
    }
   ],
   "source": [
    "cloud.tags[\"Python\"]"
   ]
  },
  {
   "cell_type": "code",
   "execution_count": 46,
   "id": "1056388f",
   "metadata": {},
   "outputs": [],
   "source": [
    "class TagCloud:\n",
    "    \n",
    "    def __init__(self):\n",
    "        self.__tags = {}\n",
    "    \n",
    "    def __getitem__(self, tag):\n",
    "        return self.__tags.get(tag.lower(), 0)\n",
    "    \n",
    "    def __setitem__(self, tag, count):\n",
    "        self.__tags[tag.lower()] = count\n",
    "    \n",
    "    def __len__(self):\n",
    "        return len(self.__tags)\n",
    "\n",
    "    def __itter__(self): # Now we can for loop inside it\n",
    "        iter(self.__tags)\n",
    "\n",
    "    def add(self, tag):\n",
    "        self.__tags[tag.lower()] = self.__tags.get(tag.lower(), 0) + 1"
   ]
  },
  {
   "cell_type": "code",
   "execution_count": 47,
   "id": "3615a5a8",
   "metadata": {},
   "outputs": [],
   "source": [
    "cloud = TagCloud()"
   ]
  },
  {
   "cell_type": "code",
   "execution_count": 48,
   "id": "f04fa54f",
   "metadata": {},
   "outputs": [],
   "source": [
    "cloud.add(\"Python\")\n",
    "cloud.add(\"pyThON\")\n",
    "cloud.add(\"PyTHon\")"
   ]
  },
  {
   "cell_type": "code",
   "execution_count": 49,
   "id": "92ec1323",
   "metadata": {},
   "outputs": [
    {
     "data": {
      "text/plain": [
       "3"
      ]
     },
     "execution_count": 49,
     "metadata": {},
     "output_type": "execute_result"
    }
   ],
   "source": [
    "cloud[\"pytHON\"]"
   ]
  },
  {
   "cell_type": "code",
   "execution_count": 54,
   "id": "e75be54c",
   "metadata": {},
   "outputs": [
    {
     "ename": "AttributeError",
     "evalue": "'TagCloud' object has no attribute '__tags'",
     "output_type": "error",
     "traceback": [
      "\u001b[0;31m---------------------------------------------------------------------------\u001b[0m",
      "\u001b[0;31mAttributeError\u001b[0m                            Traceback (most recent call last)",
      "Cell \u001b[0;32mIn[54], line 1\u001b[0m\n\u001b[0;32m----> 1\u001b[0m \u001b[43mcloud\u001b[49m\u001b[38;5;241;43m.\u001b[39;49m\u001b[43m__tags\u001b[49m\n",
      "\u001b[0;31mAttributeError\u001b[0m: 'TagCloud' object has no attribute '__tags'"
     ]
    }
   ],
   "source": [
    "cloud.__tags"
   ]
  },
  {
   "cell_type": "code",
   "execution_count": 55,
   "id": "1f1334c2",
   "metadata": {},
   "outputs": [
    {
     "ename": "AttributeError",
     "evalue": "'TagCloud' object has no attribute '__tags'",
     "output_type": "error",
     "traceback": [
      "\u001b[0;31m---------------------------------------------------------------------------\u001b[0m",
      "\u001b[0;31mAttributeError\u001b[0m                            Traceback (most recent call last)",
      "Cell \u001b[0;32mIn[55], line 1\u001b[0m\n\u001b[0;32m----> 1\u001b[0m \u001b[43mcloud\u001b[49m\u001b[38;5;241;43m.\u001b[39;49m\u001b[43m__tags\u001b[49m[\u001b[38;5;124m\"\u001b[39m\u001b[38;5;124mPython\u001b[39m\u001b[38;5;124m\"\u001b[39m]\n",
      "\u001b[0;31mAttributeError\u001b[0m: 'TagCloud' object has no attribute '__tags'"
     ]
    }
   ],
   "source": [
    "cloud.__tags[\"Python\"]"
   ]
  },
  {
   "cell_type": "code",
   "execution_count": 56,
   "id": "113a2fca",
   "metadata": {},
   "outputs": [
    {
     "data": {
      "text/plain": [
       "{'python': 3}"
      ]
     },
     "execution_count": 56,
     "metadata": {},
     "output_type": "execute_result"
    }
   ],
   "source": [
    "cloud._TagCloud__tags"
   ]
  },
  {
   "cell_type": "code",
   "execution_count": 57,
   "id": "e8c68845",
   "metadata": {},
   "outputs": [
    {
     "data": {
      "text/plain": [
       "{'_TagCloud__tags': {'python': 3}}"
      ]
     },
     "execution_count": 57,
     "metadata": {},
     "output_type": "execute_result"
    }
   ],
   "source": [
    "cloud.__dict__"
   ]
  },
  {
   "cell_type": "code",
   "execution_count": 58,
   "id": "dfe498b1",
   "metadata": {},
   "outputs": [
    {
     "data": {
      "text/plain": [
       "['_TagCloud__tags',\n",
       " '__class__',\n",
       " '__delattr__',\n",
       " '__dict__',\n",
       " '__dir__',\n",
       " '__doc__',\n",
       " '__eq__',\n",
       " '__format__',\n",
       " '__ge__',\n",
       " '__getattribute__',\n",
       " '__getitem__',\n",
       " '__gt__',\n",
       " '__hash__',\n",
       " '__init__',\n",
       " '__init_subclass__',\n",
       " '__itter__',\n",
       " '__le__',\n",
       " '__len__',\n",
       " '__lt__',\n",
       " '__module__',\n",
       " '__ne__',\n",
       " '__new__',\n",
       " '__reduce__',\n",
       " '__reduce_ex__',\n",
       " '__repr__',\n",
       " '__setattr__',\n",
       " '__setitem__',\n",
       " '__sizeof__',\n",
       " '__str__',\n",
       " '__subclasshook__',\n",
       " '__weakref__',\n",
       " 'add']"
      ]
     },
     "execution_count": 58,
     "metadata": {},
     "output_type": "execute_result"
    }
   ],
   "source": [
    "dir(cloud)"
   ]
  },
  {
   "cell_type": "code",
   "execution_count": null,
   "id": "77342fe8",
   "metadata": {},
   "outputs": [],
   "source": []
  }
 ],
 "metadata": {
  "kernelspec": {
   "display_name": "pytopia-2023",
   "language": "python",
   "name": "python3"
  },
  "language_info": {
   "codemirror_mode": {
    "name": "ipython",
    "version": 3
   },
   "file_extension": ".py",
   "mimetype": "text/x-python",
   "name": "python",
   "nbconvert_exporter": "python",
   "pygments_lexer": "ipython3",
   "version": "3.10.18"
  }
 },
 "nbformat": 4,
 "nbformat_minor": 5
}
