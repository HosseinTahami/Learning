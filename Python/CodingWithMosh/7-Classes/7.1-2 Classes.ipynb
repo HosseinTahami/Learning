{
 "cells": [
  {
   "cell_type": "markdown",
   "id": "7b40eb40",
   "metadata": {},
   "source": [
    "# Classes\n",
    "\n",
    "Classes are blue print to create objects ! \n",
    "\n",
    "# Objectes\n",
    "\n",
    "Objects are instances of a class !"
   ]
  },
  {
   "cell_type": "code",
   "execution_count": 1,
   "id": "e6c22400",
   "metadata": {},
   "outputs": [],
   "source": [
    "class Point: # Pascal Naming Convention\n",
    "\n",
    "    def draw(self):\n",
    "        print(\"Draw\")"
   ]
  },
  {
   "cell_type": "code",
   "execution_count": 9,
   "id": "f3853755",
   "metadata": {},
   "outputs": [
    {
     "name": "stdout",
     "output_type": "stream",
     "text": [
      "Draw\n",
      "<class '__main__.Point'>\n",
      "True\n"
     ]
    }
   ],
   "source": [
    "point = Point()\n",
    "\n",
    "# Create Instance\n",
    "point.draw()\n",
    "\n",
    "# type of point object\n",
    "print(type(point))\n",
    "\n",
    "# isinstance function\n",
    "print(isinstance(point, Point))"
   ]
  }
 ],
 "metadata": {
  "kernelspec": {
   "display_name": "pytopia-2023",
   "language": "python",
   "name": "python3"
  },
  "language_info": {
   "codemirror_mode": {
    "name": "ipython",
    "version": 3
   },
   "file_extension": ".py",
   "mimetype": "text/x-python",
   "name": "python",
   "nbconvert_exporter": "python",
   "pygments_lexer": "ipython3",
   "version": "3.10.18"
  }
 },
 "nbformat": 4,
 "nbformat_minor": 5
}
