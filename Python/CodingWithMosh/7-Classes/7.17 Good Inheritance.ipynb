{
 "cells": [
  {
   "cell_type": "markdown",
   "id": "cf7740f3",
   "metadata": {},
   "source": [
    "# Inheritance Example"
   ]
  },
  {
   "cell_type": "code",
   "execution_count": 1,
   "id": "569733c5",
   "metadata": {},
   "outputs": [],
   "source": [
    "class InvalidOperationError(Exception):\n",
    "    ..."
   ]
  },
  {
   "cell_type": "code",
   "execution_count": 2,
   "id": "8cffab72",
   "metadata": {},
   "outputs": [],
   "source": [
    "class Stream:\n",
    "\n",
    "    def __init__(self):\n",
    "        self.opened = False\n",
    "\n",
    "    def open(self):\n",
    "        if self.opened:\n",
    "            raise InvalidOperationError(\"Stream, already open.\")\n",
    "        self.opened = True\n",
    "    \n",
    "    def close(self):\n",
    "        if not self.opened:\n",
    "            raise InvalidOperationError(\"Stream, already close.\")\n",
    "        self.opened = False"
   ]
  },
  {
   "cell_type": "code",
   "execution_count": 3,
   "id": "24524182",
   "metadata": {},
   "outputs": [],
   "source": [
    "class FileStream(Stream):\n",
    "\n",
    "    def read(self):\n",
    "        print(\"Reading data from a file.\")"
   ]
  },
  {
   "cell_type": "code",
   "execution_count": 4,
   "id": "fb8ecde4",
   "metadata": {},
   "outputs": [],
   "source": [
    "class NetworkStream(Stream):\n",
    "\n",
    "    def read(self):\n",
    "        print(\"Reading data from a network.\")"
   ]
  }
 ],
 "metadata": {
  "kernelspec": {
   "display_name": "pytopia-2023",
   "language": "python",
   "name": "python3"
  },
  "language_info": {
   "codemirror_mode": {
    "name": "ipython",
    "version": 3
   },
   "file_extension": ".py",
   "mimetype": "text/x-python",
   "name": "python",
   "nbconvert_exporter": "python",
   "pygments_lexer": "ipython3",
   "version": "3.10.18"
  }
 },
 "nbformat": 4,
 "nbformat_minor": 5
}
