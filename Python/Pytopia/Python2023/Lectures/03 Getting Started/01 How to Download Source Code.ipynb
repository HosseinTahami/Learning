{
 "cells": [
  {
   "cell_type": "markdown",
   "metadata": {},
   "source": [
    "<img src=\"./images/banner.png\" width=\"800\">"
   ]
  },
  {
   "cell_type": "markdown",
   "metadata": {},
   "source": [
    "**Table of contents**<a id='toc0_'></a>    \n",
    "- [Method 1: Using the Download Button](#toc1_)    \n",
    "  - [Step 1: Download the Repository ZIP](#toc1_1_)    \n",
    "  - [Step 2: Extract the ZIP](#toc1_2_)    \n",
    "- [Step 3: Open the Project in VS Code](#toc2_)    \n",
    "- [Method 2: Using Git](#toc3_)    \n",
    "  - [Step 1: Install Git (if not already installed)](#toc3_1_)    \n",
    "  - [Step 2: Clone the Repository](#toc3_2_)    \n",
    "  - [Step 3: Update the Repository](#toc3_3_)    \n",
    "  - [Refreshing Files:](#toc3_4_)    \n",
    "\n",
    "<!-- vscode-jupyter-toc-config\n",
    "\tnumbering=false\n",
    "\tanchor=true\n",
    "\tflat=false\n",
    "\tminLevel=2\n",
    "\tmaxLevel=6\n",
    "\t/vscode-jupyter-toc-config -->\n",
    "<!-- THIS CELL WILL BE REPLACED ON TOC UPDATE. DO NOT WRITE YOUR TEXT IN THIS CELL -->"
   ]
  },
  {
   "cell_type": "markdown",
   "metadata": {},
   "source": [
    "## <a id='toc1_'></a>[Method 1: Using the Download Button](#toc0_)"
   ]
  },
  {
   "cell_type": "markdown",
   "metadata": {},
   "source": [
    "\n",
    "### <a id='toc1_1_'></a>[Step 1: Download the Repository ZIP](#toc0_)\n",
    "\n",
    "1. **Open Your Web Browser** and navigate to the repository you want to download.\n",
    "\n",
    "2. **Click on \"Code\" Button**\n",
    "\n",
    "3. **Click \"Download ZIP\"** to download the repository as a ZIP file.\n"
   ]
  },
  {
   "cell_type": "markdown",
   "metadata": {},
   "source": [
    "<img src=\"./images/download-source-code.png\" width=\"800\">"
   ]
  },
  {
   "cell_type": "markdown",
   "metadata": {},
   "source": [
    "\n",
    "### <a id='toc1_2_'></a>[Step 2: Extract the ZIP](#toc0_)\n",
    "\n",
    "1. **Navigate to Downloads** or wherever your browser saves downloaded files.\n",
    "\n",
    "2. **Extract ZIP** by double clicking on the file. This will create a folder with the same name as the ZIP file.\n"
   ]
  },
  {
   "cell_type": "markdown",
   "metadata": {},
   "source": [
    "## <a id='toc2_'></a>[Step 3: Open the Project in VS Code](#toc0_)\n",
    "\n",
    "1. **Open the Terminal** in VS Code by clicking on \"Terminal\" in the top menu and then \"New Terminal\".\n",
    "2. **Navigate to the folder** you just extracted and click \"Open\".\n",
    "3. Open the project in VS Code by typing `code .` in the terminal and pressing enter."
   ]
  },
  {
   "cell_type": "markdown",
   "metadata": {},
   "source": [
    "## <a id='toc3_'></a>[Method 2: Using Git](#toc0_)\n"
   ]
  },
  {
   "cell_type": "markdown",
   "metadata": {},
   "source": [
    "\n",
    "### <a id='toc3_1_'></a>[Step 1: Install Git (if not already installed)](#toc0_)\n",
    "\n",
    "1. **Mac:**\n",
    "   - Open Terminal.\n",
    "   - Check if Git is installed: `git --version`\n",
    "   - If not installed, you'll be prompted to install the Xcode Command Line Tools.\n",
    "\n",
    "2. **Linux:**\n",
    "   - Open Terminal.\n",
    "   - Check if Git is installed: `git --version`\n",
    "   - If not installed, use your package manager to install Git. For example, on Debian-based systems: `sudo apt-get install git`\n",
    "\n",
    "3. **WSL:**\n",
    "   - Open your WSL terminal.\n",
    "   - Check if Git is installed: `git --version`\n",
    "   - If not installed, use your Linux package manager to install Git by following the Linux instructions above.\n"
   ]
  },
  {
   "cell_type": "markdown",
   "metadata": {},
   "source": [
    "\n",
    "### <a id='toc3_2_'></a>[Step 2: Clone the Repository](#toc0_)\n",
    "\n",
    "1. **Open Terminal (Mac and Linux) or Command Prompt (WSL)**\n",
    "\n",
    "2. **Navigate to Desired Directory**\n",
    "\n",
    "3. **Open Your Web Browser** and navigate to the repository you want to clone.\n",
    "\n",
    "4. **Click on \"Code\" Button** and copy the URL.\n",
    "\n",
    "5. **Clone the Repository** by typing `git clone <URL>` in the terminal and pressing enter. Replace `<URL>` with the URL you copied in the previous step.\n",
    "\n",
    "6. `cd` into the repository by typing `cd <REPO_NAME>` and pressing enter. Replace `<REPO_NAME>` with the name of the repository you just cloned.\n",
    "\n",
    "7. Open the project in VS Code by typing `code .` in the terminal and pressing enter."
   ]
  },
  {
   "cell_type": "markdown",
   "metadata": {},
   "source": [
    "\n",
    "### <a id='toc3_3_'></a>[Step 3: Update the Repository](#toc0_)\n",
    "\n",
    "1. **Navigate to Repository Directory**\n",
    "\n",
    "2. **Pull Changes**: `git pull origin main`\n"
   ]
  },
  {
   "cell_type": "markdown",
   "metadata": {},
   "source": [
    "\n",
    "### <a id='toc3_4_'></a>[Refreshing Files:](#toc0_)\n",
    "\n",
    "If you want to refresh the files using the Download button method, you can follow these steps:\n",
    "\n",
    "1. **Download ZIP Again:** Repeat the steps in \"Step 1: Download the Repository ZIP\" to download the ZIP file again.\n",
    "\n",
    "2. **Extract ZIP:** Repeat the steps in \"Step 2: Extract the ZIP\" to extract the newly downloaded ZIP file.\n",
    "\n",
    "By downloading and extracting the ZIP file again, you'll get the latest version of the repository's contents.\n"
   ]
  }
 ],
 "metadata": {
  "language_info": {
   "name": "python"
  },
  "orig_nbformat": 4
 },
 "nbformat": 4,
 "nbformat_minor": 2
}
