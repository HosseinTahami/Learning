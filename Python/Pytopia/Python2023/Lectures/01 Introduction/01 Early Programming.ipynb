{
 "cells": [
  {
   "attachments": {},
   "cell_type": "markdown",
   "metadata": {},
   "source": [
    "<img src=\"./images/banner.png\" width=\"800\">"
   ]
  },
  {
   "attachments": {},
   "cell_type": "markdown",
   "metadata": {},
   "source": [
    "# Early Programming\n"
   ]
  },
  {
   "cell_type": "markdown",
   "metadata": {},
   "source": [
    "Programming languages are the means by which humans communicate instructions to computers. They serve as the foundation for writing software and creating applications that can perform a wide range of tasks. Each programming language has its own unique syntax, rules, and capabilities, making it suitable for specific purposes.\n"
   ]
  },
  {
   "cell_type": "markdown",
   "metadata": {},
   "source": [
    "In the world of technology and computer science, understanding the origins of programming is essential to grasp the foundations of this ever-evolving field. Programming, at its core, is the art of giving instructions to a computer, enabling it to perform specific tasks and solve complex problems. To truly appreciate the programming languages and tools we have today, it is crucial to explore the early stages of programming and the first programming languages that laid the groundwork for what we now take for granted."
   ]
  },
  {
   "attachments": {},
   "cell_type": "markdown",
   "metadata": {},
   "source": [
    "Watch this episode of the Computer Science Crash Course YouTube playlist for an insightful exploration into the pioneers and milestones that shaped the field. Discover the foundations behind the programming languages we use today:"
   ]
  },
  {
   "attachments": {},
   "cell_type": "markdown",
   "metadata": {},
   "source": [
    "> 🔫 Watch [Instagram Video on Compiler](https://www.instagram.com/reel/CqdVl_6jtsf/?igshid=MzRlODBiNWFlZA==)"
   ]
  },
  {
   "cell_type": "markdown",
   "metadata": {},
   "source": [
    ">💡 Watch [Early Programming](https://www.youtube.com/watch?v=nwDq4adJwzM&list=PL8dPuuaLjXtNlUrzyH5r6jN9ulIgZBpdo&index=11)\n",
    "\n",
    "\n",
    "💡 Summary\n",
    "- Early computers relied on plug boards and physical wiring, making programming complex and time-consuming.\n",
    "- Punch cards were used to input and output data in early computers.\n",
    "- The development of electronic memory in the late 1940s and 1950s led to stored-program computers and the von Neumann architecture.\n",
    "- Punch cards were commonly used to load programming data into computers until electronic memory became feasible.\n",
    "- Panel programming, which involved switches and control panels, was another method used for programming early computers.\n",
    "- Early home computers, like the Altair 8800, relied on switches for programming.\n",
    "- Programming languages emerged as a simpler way to write programs, marking a significant advancement in computer programming.\n",
    "- The passage emphasizes the complexity and expertise required for early computer programming.\n",
    "- Punch cards and punched paper tape were important data storage methods in the early days of computing.\n",
    "- The passage hints at more advanced data storage technologies like hard drives, CDs, DVDs, and USB thumb drives.\n",
    "- The next episode will delve into programming languages and their role in simplifying the programming process.\n"
   ]
  },
  {
   "cell_type": "markdown",
   "metadata": {},
   "source": []
  }
 ],
 "metadata": {
  "language_info": {
   "name": "python"
  },
  "orig_nbformat": 4
 },
 "nbformat": 4,
 "nbformat_minor": 2
}
