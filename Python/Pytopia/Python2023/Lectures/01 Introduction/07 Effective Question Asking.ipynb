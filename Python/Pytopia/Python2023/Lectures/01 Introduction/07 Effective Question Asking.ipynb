{
 "cells": [
  {
   "cell_type": "markdown",
   "metadata": {},
   "source": [
    "<img src=\"./images/banner.png\" width=\"800\">"
   ]
  },
  {
   "cell_type": "markdown",
   "metadata": {},
   "source": [
    "# Effective Question Asking\n"
   ]
  },
  {
   "cell_type": "markdown",
   "metadata": {},
   "source": [
    "Asking questions is an essential skill for any programmer, and being able to ask effective questions can significantly improve your learning and problem-solving process. Here are some key principles and guidelines to follow when seeking help or asking questions in the programming community.\n"
   ]
  },
  {
   "cell_type": "markdown",
   "metadata": {},
   "source": [
    "**Table of contents**<a id='toc0_'></a>    \n",
    "- [No Hello](#toc1_)    \n",
    "- [Don't Ask to Ask, Just Ask!](#toc2_)    \n",
    "- [The XY Problem](#toc3_)    \n",
    "- [Question Format](#toc4_)    \n",
    "- [Examples of Good and Bad Questions](#toc5_)    \n",
    "  - [Bad Question #1](#toc5_1_)    \n",
    "  - [Good Question #1](#toc5_2_)    \n",
    "  - [Bad Question #2](#toc5_3_)    \n",
    "  - [Good Question #2](#toc5_4_)    \n",
    "  - [Bad Question #3](#toc5_5_)    \n",
    "  - [Good Question #3](#toc5_6_)    \n",
    "\n",
    "<!-- vscode-jupyter-toc-config\n",
    "\tnumbering=false\n",
    "\tanchor=true\n",
    "\tflat=false\n",
    "\tminLevel=2\n",
    "\tmaxLevel=6\n",
    "\t/vscode-jupyter-toc-config -->\n",
    "<!-- THIS CELL WILL BE REPLACED ON TOC UPDATE. DO NOT WRITE YOUR TEXT IN THIS CELL -->"
   ]
  },
  {
   "attachments": {},
   "cell_type": "markdown",
   "metadata": {},
   "source": [
    "## <a id='toc1_'></a>[No Hello](#toc0_)"
   ]
  },
  {
   "attachments": {},
   "cell_type": "markdown",
   "metadata": {},
   "source": [
    "In today's digital age, it's common for people to delay getting to the point in online chats as a way to be polite. However, this approach can often lead to unnecessary waiting time and decreased productivity. Unlike face-to-face or phone conversations, typing takes longer, causing the other person to wait while you formulate your question. In the year 2022, when chat conversations dominate, it's important to recognize that this practice can be counterproductive and somewhat frustrating."
   ]
  },
  {
   "attachments": {},
   "cell_type": "markdown",
   "metadata": {},
   "source": [
    "<img src=\"./images/how-to-ask/no-hello.png\" width=\"800\">"
   ]
  },
  {
   "cell_type": "markdown",
   "metadata": {},
   "source": [
    "If you find it too abrupt to dive straight into your question, you have the option to begin your message with pleasantries. Whether it's a casual greeting or a more formal introduction, adding these friendly words can help establish a positive tone. By presenting your question upfront, you enable asynchronous communication, ensuring that even if the other person is not immediately available, they can still address your inquiry when they return. This approach avoids leaving them confused by a simple greeting and allows for a more efficient exchange of information."
   ]
  },
  {
   "cell_type": "markdown",
   "metadata": {},
   "source": [
    "## <a id='toc2_'></a>[Don't Ask to Ask, Just Ask!](#toc0_)\n"
   ]
  },
  {
   "attachments": {},
   "cell_type": "markdown",
   "metadata": {},
   "source": [
    "When you have a question, avoid asking if anyone is available to help or if you can ask a question. Instead, jump straight to the point and ask your question directly. This approach respects the time and attention of others, and it increases the likelihood of receiving a prompt and helpful response.\n",
    "\n",
    "Also visit: https://dontasktoask.com/\n"
   ]
  },
  {
   "attachments": {},
   "cell_type": "markdown",
   "metadata": {},
   "source": [
    "<img src=\"./images/how-to-ask/dont-ask-to-ask.png\" width=\"800\">"
   ]
  },
  {
   "cell_type": "markdown",
   "metadata": {},
   "source": [
    "## <a id='toc3_'></a>[The XY Problem](#toc0_)\n"
   ]
  },
  {
   "cell_type": "markdown",
   "metadata": {},
   "source": [
    "The XY Problem is a common pitfall when seeking help. It occurs when someone has a problem (X) and comes up with a potential solution (Y) without fully understanding the problem. Instead of asking about the original problem, they focus on the proposed solution, resulting in an ineffective or misguided solution.\n"
   ]
  },
  {
   "cell_type": "markdown",
   "metadata": {},
   "source": [
    "To avoid the XY Problem, clearly explain the issue or the goal you are trying to achieve, rather than assuming a particular solution. By providing context and background information, you allow others to provide appropriate guidance and solutions.\n"
   ]
  },
  {
   "attachments": {},
   "cell_type": "markdown",
   "metadata": {},
   "source": [
    "<img src=\"./images/how-to-ask/xy-problem.png\" width=\"800\">"
   ]
  },
  {
   "cell_type": "markdown",
   "metadata": {},
   "source": [
    "## <a id='toc4_'></a>[Question Format](#toc0_)\n"
   ]
  },
  {
   "attachments": {},
   "cell_type": "markdown",
   "metadata": {},
   "source": [
    "When asking a question, follow these guidelines to ensure clarity and improve the chances of receiving helpful responses:\n",
    "\n",
    "1. **Be Specific**: Clearly state the problem you are facing or the information you need. Provide relevant details, including any error messages, code snippets, and steps you've already taken to solve the problem.\n",
    "\n",
    "2. **Provide Context**: Give a brief overview of the broader project or task you are working on. This helps responders understand the bigger picture and offer more relevant advice.\n",
    "\n",
    "3. **Be Concise**: While it's important to provide necessary details, avoid unnecessary verbosity. Make your question concise and to the point, ensuring that it can be easily understood by others.\n",
    "\n",
    "4. **Use Proper Formatting**: Format your code, error messages, and other technical content properly to make them readable. Use code blocks or formatting options provided by the platform or forum where you are asking the question.\n",
    "\n",
    "5. **Help others reproduce the problem**: Not all questions benefit from including code, but if your problem is with code you've written, you should include some. But don't just copy in your entire program! Not only is this likely to get you in trouble if you're posting your employer's code, it likely includes a lot of irrelevant details that readers will need to ignore when trying to reproduce the problem. Here are some guidelines:"
   ]
  },
  {
   "attachments": {},
   "cell_type": "markdown",
   "metadata": {},
   "source": [
    "Include just enough code to allow others to reproduce the problem. For help with this, read [How to create a Minimal, Complete, and Verifiable example](https://stackoverflow.com/help/minimal-reproducible-example).\n",
    "\n",
    "If it is possible to create a live example of the problem that you can link to (for example, on https://codeshare.io/, http://sqlfiddle.com/ or http://jsbin.com/ depending on what you're sharing) then do so - but also copy the code into the question itself. Not everyone can access external sites, and the links may break over time.\n",
    "\n",
    "**DO NOT** post images of code, data, error messages, etc. - copy or type the text into the question. Please reserve the use of images for diagrams or demonstrating rendering bugs, things that are impossible to describe accurately via text. For more information please see [Why not upload images of code/errors when asking a question?](https://meta.stackoverflow.com/questions/285551/why-should-i-not-upload-images-of-code-data-errors-when-asking-a-question/285557#285557)\n"
   ]
  },
  {
   "attachments": {},
   "cell_type": "markdown",
   "metadata": {},
   "source": []
  },
  {
   "cell_type": "markdown",
   "metadata": {},
   "source": [
    "## <a id='toc5_'></a>[Examples of Good and Bad Questions](#toc0_)\n"
   ]
  },
  {
   "cell_type": "markdown",
   "metadata": {},
   "source": [
    "To illustrate the difference between effective and ineffective questions, here are some examples:\n"
   ]
  },
  {
   "attachments": {},
   "cell_type": "markdown",
   "metadata": {},
   "source": [
    "### <a id='toc5_1_'></a>[❌ Bad Question #1](#toc0_)\n"
   ]
  },
  {
   "cell_type": "markdown",
   "metadata": {},
   "source": [
    "> \"I can't get my code to work. Can someone help?\"\n",
    "\n",
    "This question lacks context and specific details. It doesn't provide any information about the problem, making it difficult for others to provide assistance.\n"
   ]
  },
  {
   "attachments": {},
   "cell_type": "markdown",
   "metadata": {},
   "source": [
    "### <a id='toc5_2_'></a>[✅ Good Question #1](#toc0_)\n"
   ]
  },
  {
   "attachments": {},
   "cell_type": "markdown",
   "metadata": {},
   "source": [
    "> \"I'm trying to sort a list of integers in Python using the `sorted()` function, but the output is not as expected. Here's my code:\n",
    ">\n",
    ">```python\n",
    ">numbers = [5, 2, 9, 1, 7]\n",
    ">sorted_numbers = sorted(numbers, reverse=True)\n",
    ">print(sorted_numbers)\n",
    ">```\n",
    ">\n",
    ">The output I get is `[9, 7, 5, 2, 1]`, but I expected it to be `[1, 2, 5, 7, 9]`. What am I doing wrong? Can someone help me understand why the sorting is not working as I expected?\"\n",
    ">"
   ]
  },
  {
   "cell_type": "markdown",
   "metadata": {},
   "source": [
    "This question provides specific details about the problem, including the code snippet, expected and actual outputs, and the specific area of confusion. It enables others to understand the issue and offer targeted solutions or explanations.\n"
   ]
  },
  {
   "attachments": {},
   "cell_type": "markdown",
   "metadata": {},
   "source": [
    "### <a id='toc5_3_'></a>[❌ Bad Question #2](#toc0_)"
   ]
  },
  {
   "attachments": {},
   "cell_type": "markdown",
   "metadata": {},
   "source": [
    "> \"I need help with my code. It's not working. Can someone fix it?\""
   ]
  },
  {
   "cell_type": "markdown",
   "metadata": {},
   "source": [
    "This question is too vague and provides no specific information about the problem. It doesn't mention the programming language, the code itself, or any error messages. It makes it difficult for others to understand the issue and provide targeted assistance."
   ]
  },
  {
   "attachments": {},
   "cell_type": "markdown",
   "metadata": {},
   "source": [
    "### <a id='toc5_4_'></a>[✅ Good Question #2](#toc0_)"
   ]
  },
  {
   "attachments": {},
   "cell_type": "markdown",
   "metadata": {},
   "source": [
    "> \"I'm working on a Python program that reads data from a CSV file and calculates the average of a specific column. Here's the relevant code snippet:\n",
    ">import csv\n",
    ">\n",
    ">```python\n",
    ">def calculate_average(file_name, column_name):\n",
    ">    # Code to read the CSV file and calculate the average\n",
    ">\n",
    ">calculate_average('data.csv', 'price')\n",
    ">```\n",
    ">I'm encountering an error message: `TypeError: unsupported operand type(s) for +=: 'int' and 'str'`. It seems to be related to adding up the values from the 'price' column. Can someone help me understand why I'm getting this error and how I can fix it?\""
   ]
  },
  {
   "attachments": {},
   "cell_type": "markdown",
   "metadata": {},
   "source": [
    "This question provides the necessary context, including the programming language, the code snippet, and the specific error message. It also explains the desired outcome and asks for guidance on resolving the issue."
   ]
  },
  {
   "attachments": {},
   "cell_type": "markdown",
   "metadata": {},
   "source": [
    "### <a id='toc5_5_'></a>[❌ Bad Question #3](#toc0_)\n"
   ]
  },
  {
   "attachments": {},
   "cell_type": "markdown",
   "metadata": {},
   "source": [
    "> \"What's the best programming language for web development?\""
   ]
  },
  {
   "cell_type": "markdown",
   "metadata": {},
   "source": [
    "This question is subjective and lacks specificity. The \"best\" programming language for web development depends on various factors such as the project requirements, personal preferences, and the specific problem you're trying to solve. It's better to ask for recommendations based on specific criteria or explain the requirements of your project."
   ]
  },
  {
   "attachments": {},
   "cell_type": "markdown",
   "metadata": {},
   "source": [
    "### <a id='toc5_6_'></a>[✅ Good Question #3](#toc0_)\n"
   ]
  },
  {
   "cell_type": "markdown",
   "metadata": {},
   "source": [
    "\n",
    "> \"I'm interested in web development and want to build interactive web applications. I have some experience with HTML and CSS but haven't delved into programming languages yet. Which programming language would you recommend for me to learn as a beginner in web development, considering factors like ease of use, community support, and job opportunities?\""
   ]
  },
  {
   "cell_type": "markdown",
   "metadata": {},
   "source": [
    "This question provides context, specifies the criteria for the recommendation, and allows others to provide more tailored advice based on the individual's situation and goals.\n"
   ]
  },
  {
   "attachments": {},
   "cell_type": "markdown",
   "metadata": {},
   "source": [
    "By examining these examples, you can see the importance of providing specific details, context, and clear problem statements when asking questions. Doing so helps others understand your situation and provide more accurate and helpful responses."
   ]
  },
  {
   "cell_type": "markdown",
   "metadata": {},
   "source": [
    "By following these guidelines and providing clear, concise, and well-formulated questions, you increase the likelihood of receiving accurate and helpful responses, fostering a positive and productive learning environment.\n"
   ]
  },
  {
   "cell_type": "markdown",
   "metadata": {},
   "source": [
    "Remember, asking questions is an opportunity to learn and grow, so embrace the process and be open to the insights and expertise of others in the programming community.\n"
   ]
  }
 ],
 "metadata": {
  "language_info": {
   "name": "python"
  },
  "orig_nbformat": 4
 },
 "nbformat": 4,
 "nbformat_minor": 2
}
