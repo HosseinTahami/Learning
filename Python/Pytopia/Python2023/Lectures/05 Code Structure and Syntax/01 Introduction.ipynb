{
 "cells": [
  {
   "cell_type": "markdown",
   "metadata": {},
   "source": [
    "<img src=\"./images/banner.png\" width=\"800\">"
   ]
  },
  {
   "cell_type": "markdown",
   "metadata": {},
   "source": [
    "# Python Code Structure and Syntax"
   ]
  },
  {
   "cell_type": "markdown",
   "metadata": {},
   "source": [
    "Python is known for its clean and readable syntax, which often makes it an excellent language for beginners in programming. The structure and syntax of Python are designed to be intuitive and maintainable. In this introductory lecture, we will explore the high-level aspects of Python's code structure and syntax, setting the stage for a deeper dive into specific areas such as line continuation, comments, and whitespaces and indentation."
   ]
  },
  {
   "cell_type": "markdown",
   "metadata": {},
   "source": [
    "**Table of contents**<a id='toc0_'></a>    \n",
    "- [Python Syntax Overview](#toc1_)    \n",
    "  - [Simple Statements](#toc1_1_)    \n",
    "  - [Compound Statements](#toc1_2_)    \n",
    "- [Code Blocks and Indentation](#toc2_)    \n",
    "- [Executing Python Scripts](#toc3_)    \n",
    "- [The Importance of Readability](#toc4_)    \n",
    "\n",
    "<!-- vscode-jupyter-toc-config\n",
    "\tnumbering=false\n",
    "\tanchor=true\n",
    "\tflat=false\n",
    "\tminLevel=2\n",
    "\tmaxLevel=6\n",
    "\t/vscode-jupyter-toc-config -->\n",
    "<!-- THIS CELL WILL BE REPLACED ON TOC UPDATE. DO NOT WRITE YOUR TEXT IN THIS CELL -->"
   ]
  },
  {
   "cell_type": "markdown",
   "metadata": {},
   "source": [
    "## <a id='toc1_'></a>[Python Syntax Overview](#toc0_)"
   ]
  },
  {
   "cell_type": "markdown",
   "metadata": {},
   "source": [
    "<img src=\"./images/python-coding-syntax.jpeg\" width=\"400\">"
   ]
  },
  {
   "cell_type": "markdown",
   "metadata": {},
   "source": [
    "Python syntax refers to the set of rules that defines how a Python program is written and interpreted. Unlike many other programming languages, Python uses indentation to delimit blocks of code. This enforces readable code by design. Furthermore, Python is less cluttered visually, as it does not use semicolons or parentheses to denote the end of a line or block of code, unless specifically required for multiple statements on a single line or in the case of a complex expression.\n"
   ]
  },
  {
   "cell_type": "markdown",
   "metadata": {},
   "source": [
    "### <a id='toc1_1_'></a>[Simple Statements](#toc0_)\n"
   ]
  },
  {
   "cell_type": "markdown",
   "metadata": {},
   "source": [
    "In Python, a statement is typically written on a single line. Simple statements include assignments, function calls, and expression evaluations. Here is an example of a simple statement:\n"
   ]
  },
  {
   "cell_type": "markdown",
   "metadata": {},
   "source": [
    "```python\n",
    "x = 10\n",
    "print(x)\n",
    "```\n"
   ]
  },
  {
   "cell_type": "markdown",
   "metadata": {},
   "source": [
    "### <a id='toc1_2_'></a>[Compound Statements](#toc0_)\n"
   ]
  },
  {
   "cell_type": "markdown",
   "metadata": {},
   "source": [
    "Compound statements contain groups of other statements and allow for more complex operations. Examples of compound statements include `if`, `for`, `while`, and `def` for function definitions. These statements have a header line and a suite of statements that follow, which are indented relative to the header:\n"
   ]
  },
  {
   "cell_type": "markdown",
   "metadata": {},
   "source": [
    "```python\n",
    "if x > 5:\n",
    "    print(\"x is greater than 5\")\n",
    "```\n"
   ]
  },
  {
   "cell_type": "markdown",
   "metadata": {},
   "source": [
    "## <a id='toc2_'></a>[Code Blocks and Indentation](#toc0_)\n"
   ]
  },
  {
   "cell_type": "markdown",
   "metadata": {},
   "source": [
    "<img src=\"./images/python-indentation.png\" width=\"400\">"
   ]
  },
  {
   "cell_type": "markdown",
   "metadata": {},
   "source": [
    "A unique feature of Python is that code blocks are defined by their indentation. This means that all lines of code within a block must be indented by the same amount. The block begins where the indentation increases and ends where it decreases. This is different from other languages that use curly braces or keywords to define blocks.\n"
   ]
  },
  {
   "cell_type": "markdown",
   "metadata": {},
   "source": [
    "## <a id='toc3_'></a>[Executing Python Scripts](#toc0_)\n"
   ]
  },
  {
   "cell_type": "markdown",
   "metadata": {},
   "source": [
    "Python code is typically executed in one of two ways: by running a Python file (script) or by typing directly into the interactive Python interpreter. Jupyter notebooks, such as this one, allow for an interactive experience by combining executable Python cells with documentation.\n"
   ]
  },
  {
   "cell_type": "markdown",
   "metadata": {},
   "source": [
    "## <a id='toc4_'></a>[The Importance of Readability](#toc0_)\n"
   ]
  },
  {
   "cell_type": "markdown",
   "metadata": {},
   "source": [
    "Python's emphasis on readability is not just about aesthetics; it's a core philosophy of the language. Code is read much more often than it is written, so making it accessible to others (or to yourself in the future) is crucial. The structure and syntax of Python are designed to facilitate this readability.\n"
   ]
  },
  {
   "cell_type": "markdown",
   "metadata": {},
   "source": [
    "In the upcoming lectures, we will dive into specific aspects of Python's code structure and syntax. We'll explore line continuation for writing longer blocks of code, the use of comments for documentation and annotation, and the importance of whitespaces and indentation for defining the structure of your code effectively. Each of these elements plays a crucial role in writing clean, understandable Python code."
   ]
  }
 ],
 "metadata": {
  "kernelspec": {
   "display_name": "py310",
   "language": "python",
   "name": "python3"
  },
  "language_info": {
   "codemirror_mode": {
    "name": "ipython",
    "version": 3
   },
   "file_extension": ".py",
   "mimetype": "text/x-python",
   "name": "python",
   "nbconvert_exporter": "python",
   "pygments_lexer": "ipython3",
   "version": "3.10.12"
  }
 },
 "nbformat": 4,
 "nbformat_minor": 2
}
