{
 "cells": [
  {
   "cell_type": "markdown",
   "metadata": {},
   "source": [
    "<img src=\"./images/banner.png\" width=\"800\">"
   ]
  },
  {
   "cell_type": "markdown",
   "metadata": {},
   "source": [
    "# Line Continuation: Crafting Readable Code"
   ]
  },
  {
   "cell_type": "markdown",
   "metadata": {},
   "source": [
    "As you embark on more complex coding adventures, you'll undoubtedly write longer statements. Imagine you're working with variables that represent ages, and you want to check if any person is of working age:\n"
   ]
  },
  {
   "cell_type": "code",
   "execution_count": 2,
   "metadata": {},
   "outputs": [],
   "source": [
    "person1_age = 42\n",
    "person2_age = 16\n",
    "person3_age = 71\n",
    "\n",
    "someone_is_of_working_age = (person1_age >= 18 and person1_age <= 65) or (person2_age >= 18 and person2_age <= 65) or (person3_age >= 18 and person3_age <= 65)"
   ]
  },
  {
   "cell_type": "markdown",
   "metadata": {},
   "source": [
    "Or, you might be creating a large nested list that represents a matrix or a grid:\n"
   ]
  },
  {
   "cell_type": "code",
   "execution_count": 3,
   "metadata": {},
   "outputs": [],
   "source": [
    "grid = [[1, 2, 3, 4, 5], [6, 7, 8, 9, 10], [11, 12, 13, 14, 15], [16, 17, 18, 19, 20], [21, 22, 23, 24, 25]]"
   ]
  },
  {
   "cell_type": "markdown",
   "metadata": {},
   "source": [
    "These lines can get really long, and long lines are tough to read and manage. They can spill off the screen or require awkward scrolling that disrupts your focus. In a script file, you might see the text wrap at random places, which can make your code harder to follow.\n"
   ]
  },
  {
   "cell_type": "markdown",
   "metadata": {},
   "source": [
    "To keep our code tidy and readable, the Python community has agreed on a standard called PEP 8, which recommends that lines should be no longer than 79 characters. But don't worry! Python gives us tools to make long lines more manageable without sacrificing clarity.\n"
   ]
  },
  {
   "cell_type": "markdown",
   "metadata": {},
   "source": [
    "When we need to extend a Python statement over multiple lines, we can't just break it at any point. If we do, we might confuse the interpreter and see an error like this:\n"
   ]
  },
  {
   "cell_type": "code",
   "execution_count": 4,
   "metadata": {},
   "outputs": [
    {
     "ename": "SyntaxError",
     "evalue": "invalid syntax (1911760183.py, line 1)",
     "output_type": "error",
     "traceback": [
      "\u001b[0;36m  Cell \u001b[0;32mIn[4], line 1\u001b[0;36m\u001b[0m\n\u001b[0;31m    someone_is_of_working_age = person1_age >= 18 and person1_age <= 65 or\u001b[0m\n\u001b[0m                                                                          ^\u001b[0m\n\u001b[0;31mSyntaxError\u001b[0m\u001b[0;31m:\u001b[0m invalid syntax\n"
     ]
    }
   ],
   "source": [
    "someone_is_of_working_age = person1_age >= 18 and person1_age <= 65 or"
   ]
  },
  {
   "cell_type": "markdown",
   "metadata": {},
   "source": [
    "To avoid this, Python allows us to continue statements over multiple lines in two ways: **implicit line continuation** and **explicit line continuation**.\n"
   ]
  },
  {
   "cell_type": "markdown",
   "metadata": {},
   "source": [
    "In the following sections, we'll delve into how these two methods work, complete with examples, so you can write code that's not only correct but also clean and easy to read.\n"
   ]
  },
  {
   "cell_type": "markdown",
   "metadata": {},
   "source": [
    "**Table of contents**<a id='toc0_'></a>    \n",
    "- [Implicit Line Continuation](#toc1_)    \n",
    "- [Explicit Line Continuation](#toc2_)    \n",
    "- [Multiple Statements Per Line](#toc3_)    \n",
    "\n",
    "<!-- vscode-jupyter-toc-config\n",
    "\tnumbering=false\n",
    "\tanchor=true\n",
    "\tflat=false\n",
    "\tminLevel=2\n",
    "\tmaxLevel=6\n",
    "\t/vscode-jupyter-toc-config -->\n",
    "<!-- THIS CELL WILL BE REPLACED ON TOC UPDATE. DO NOT WRITE YOUR TEXT IN THIS CELL -->"
   ]
  },
  {
   "cell_type": "markdown",
   "metadata": {},
   "source": [
    "## <a id='toc1_'></a>[Implicit Line Continuation](#toc0_)"
   ]
  },
  {
   "cell_type": "markdown",
   "metadata": {},
   "source": [
    "When your Python code starts to stretch out like a long sentence that doesn't want to end, you'll need to find a good place to break it up. Luckily, Python is smart about understanding when you're not quite finished with a thought. This is where implicit line continuation comes into play.\n"
   ]
  },
  {
   "cell_type": "markdown",
   "metadata": {},
   "source": [
    "Implicit line continuation allows you to naturally extend a single statement over multiple lines without telling Python explicitly—you let the syntax of the language do the work for you. It occurs within parentheses `()`, brackets `[]`, or braces `{}`, which are used for grouping in Python. When you open one of these grouping symbols and don't close it, Python knows to keep reading onto the next line until it finds the closing symbol. This way, you can split long statements and still keep the code clean and error-free.\n"
   ]
  },
  {
   "cell_type": "markdown",
   "metadata": {},
   "source": [
    "Let's look at some examples where implicit line continuation can help improve readability:\n"
   ]
  },
  {
   "cell_type": "markdown",
   "metadata": {},
   "source": [
    "**Example 1: Long Expressions in Parentheses**\n"
   ]
  },
  {
   "cell_type": "markdown",
   "metadata": {},
   "source": [
    "For complex conditions or mathematical expressions, use parentheses to group and continue over lines:\n"
   ]
  },
  {
   "cell_type": "code",
   "execution_count": 8,
   "metadata": {},
   "outputs": [],
   "source": [
    "# A long conditional expression\n",
    "someone_is_of_working_age = (\n",
    "    (person1_age >= 18 and person1_age <= 65) or\n",
    "    (person2_age >= 18 and person2_age <= 65) or\n",
    "    (person3_age >= 18 and person3_age <= 65)\n",
    ")"
   ]
  },
  {
   "cell_type": "markdown",
   "metadata": {},
   "source": [
    "**Example 2: Lists That Just Keep Going**\n"
   ]
  },
  {
   "cell_type": "markdown",
   "metadata": {},
   "source": [
    "When defining a list with many elements, it's often clearer to list them on separate lines:\n"
   ]
  },
  {
   "cell_type": "code",
   "execution_count": 7,
   "metadata": {},
   "outputs": [],
   "source": [
    "# A lengthy list definition\n",
    "grid = [\n",
    "    [1, 2, 3, 4, 5],\n",
    "    [6, 7, 8, 9, 10],\n",
    "    [11, 12, 13, 14, 15],\n",
    "    [16, 17, 18, 19, 20],\n",
    "    [21, 22, 23, 24, 25]\n",
    "]"
   ]
  },
  {
   "cell_type": "markdown",
   "metadata": {},
   "source": [
    "**Example 3: Dictionaries with Many Pairs**\n"
   ]
  },
  {
   "cell_type": "markdown",
   "metadata": {},
   "source": [
    "Dictionaries with several key-value pairs are more readable when split across lines:\n"
   ]
  },
  {
   "cell_type": "code",
   "execution_count": 5,
   "metadata": {},
   "outputs": [],
   "source": [
    "# A complex dictionary\n",
    "user_data = {\n",
    "    'username': 'john_doe',\n",
    "    'password': 'secure_password123',\n",
    "    'email': 'john@example.com',\n",
    "    'subscription_status': 'active',\n",
    "    'role': 'admin'\n",
    "}"
   ]
  },
  {
   "cell_type": "markdown",
   "metadata": {},
   "source": [
    "**Example 4: Combining Data Structures**\n"
   ]
  },
  {
   "cell_type": "markdown",
   "metadata": {},
   "source": [
    "You can also mix types of brackets and braces in nested structures:\n"
   ]
  },
  {
   "cell_type": "code",
   "execution_count": 6,
   "metadata": {},
   "outputs": [],
   "source": [
    "# Nested data structures with implicit line continuation\n",
    "complex_structure = [\n",
    "    {\n",
    "        'key1': ['value1', 'value2'],\n",
    "        'key2': ['value3', 'value4']\n",
    "    },\n",
    "    [\n",
    "        ('tuple1_element1', 'tuple1_element2'),\n",
    "        ('tuple2_element1', 'tuple2_element2')\n",
    "    ]\n",
    "]"
   ]
  },
  {
   "cell_type": "markdown",
   "metadata": {},
   "source": [
    "In each of these examples, Python understands that the statement isn't complete until all parentheses, brackets, or braces are closed, so it continues reading the next line as part of the same statement.\n"
   ]
  },
  {
   "cell_type": "markdown",
   "metadata": {},
   "source": [
    "Implicit line continuation is a gift to Python programmers, allowing us to write lengthy statements that are still easy on the eyes. By using this feature thoughtfully, you can create code that's not just correct, but also clear and pleasant to read. Remember, readable code is maintainable code, and that's a win for everyone involved."
   ]
  },
  {
   "cell_type": "markdown",
   "metadata": {},
   "source": [
    "## <a id='toc2_'></a>[Explicit Line Continuation](#toc0_)"
   ]
  },
  {
   "cell_type": "markdown",
   "metadata": {},
   "source": [
    "Sometimes, your Python statements don't involve the grouping symbols like parentheses `()`, brackets `[]`, or braces `{}`. In such cases, implicit line continuation isn't an option, but you still may find yourself with lines that run on like a marathon with no finish line in sight. Fear not! Python provides another tool for your toolkit: explicit line continuation.\n"
   ]
  },
  {
   "cell_type": "markdown",
   "metadata": {},
   "source": [
    "Explicit line continuation is used when you need to break up a long line of code and there’s no natural break point provided by the language's syntax. To explicitly tell Python that a statement will continue on the next line, you place a backslash `\\` at the end of the line. This backslash is like a pause, informing Python that the statement isn't over and it should keep reading on the next line.\n"
   ]
  },
  {
   "cell_type": "markdown",
   "metadata": {},
   "source": [
    "Here's how to use explicit line continuation effectively:\n"
   ]
  },
  {
   "cell_type": "markdown",
   "metadata": {},
   "source": [
    "**Example 1: Long Mathematical Operations**\n"
   ]
  },
  {
   "cell_type": "markdown",
   "metadata": {},
   "source": [
    "If you're performing a calculation with several steps, you might run out of room on the line:\n"
   ]
  },
  {
   "cell_type": "code",
   "execution_count": 10,
   "metadata": {},
   "outputs": [],
   "source": [
    "score_part1 = 72\n",
    "score_part2 = 64\n",
    "score_part3 = 100\n",
    "bonus = 3\n",
    "penalty = 1\n",
    "score_adjustment = -2\n",
    "\n",
    "# A long calculation\n",
    "total_score = score_part1 + score_part2 + score_part3 + bonus \\\n",
    "              - penalty - score_adjustment"
   ]
  },
  {
   "cell_type": "markdown",
   "metadata": {},
   "source": [
    "**Example 2: String Concatenation**\n"
   ]
  },
  {
   "cell_type": "markdown",
   "metadata": {},
   "source": [
    "Long strings can be unwieldy, so you might want to split them across lines:\n"
   ]
  },
  {
   "cell_type": "code",
   "execution_count": 11,
   "metadata": {},
   "outputs": [],
   "source": [
    "# A lengthy string\n",
    "long_string = \"This is a really long string that just keeps going \" \\\n",
    "              \"and going and doesn't seem to stop anywhere soon.\""
   ]
  },
  {
   "cell_type": "markdown",
   "metadata": {},
   "source": [
    "**Example 3: Complex Function Calls**\n"
   ]
  },
  {
   "cell_type": "markdown",
   "metadata": {},
   "source": [
    "When calling a function with many arguments, you might want to organize them neatly:\n",
    "\n",
    "```python\n",
    "# A function call with many arguments\n",
    "plt.plot(x_data, y_data, linestyle='--', marker='o', color='b', \\\n",
    "         label='Data Label', linewidth=2)\n",
    "```"
   ]
  },
  {
   "cell_type": "markdown",
   "metadata": {},
   "source": [
    "In these examples, the backslash at the end of the line indicates that the statement continues. It’s crucial that the backslash be the very last character on the line—no spaces or comments can follow it.\n"
   ]
  },
  {
   "cell_type": "markdown",
   "metadata": {},
   "source": [
    "While explicit line continuation isn't the preferred method according to PEP 8, it has its time and place. It's especially useful in situations where implicit continuation isn't possible, and you need to maintain the readability of your code.\n"
   ]
  },
  {
   "cell_type": "markdown",
   "metadata": {},
   "source": [
    "Remember that the goal is always to write code that is logical, clear, and easy for others (and your future self!) to understand. Whether you use implicit or explicit line continuation, the intent is to make your code more readable and maintainable. Use these tools wisely, and your code will be a joy to work with!"
   ]
  },
  {
   "cell_type": "markdown",
   "metadata": {},
   "source": [
    "## <a id='toc3_'></a>[Multiple Statements Per Line](#toc0_)"
   ]
  },
  {
   "cell_type": "markdown",
   "metadata": {},
   "source": [
    "In your coding journey, you might stumble upon a scenario where you want to squeeze more action into a single line of Python. The language does permit you to place multiple statements on one line, separated by semicolons `;`. However, just because you can, doesn't always mean you should. This practice is generally discouraged because it can make your code harder to read and understand at a glance.\n"
   ]
  },
  {
   "cell_type": "markdown",
   "metadata": {},
   "source": [
    "Let's discuss when you might encounter multiple statements on a line and why it's usually better to avoid them:\n"
   ]
  },
  {
   "cell_type": "markdown",
   "metadata": {},
   "source": [
    "**Example of Multiple Statements on a Single Line**\n"
   ]
  },
  {
   "cell_type": "markdown",
   "metadata": {},
   "source": [
    "Here's a line of code that's packing in too much:"
   ]
  },
  {
   "cell_type": "code",
   "execution_count": 13,
   "metadata": {},
   "outputs": [],
   "source": [
    "x = 1; y = 2; z = 3"
   ]
  },
  {
   "cell_type": "markdown",
   "metadata": {},
   "source": [
    "It's compact, sure, but it's not very friendly to the human eye. The Pythonic way is all about clarity, and this isn't clear. The PEP 8 style guide specifically advises against cramming in statements like this.\n"
   ]
  },
  {
   "cell_type": "markdown",
   "metadata": {},
   "source": [
    "**The Pythonic Approach**\n"
   ]
  },
  {
   "cell_type": "markdown",
   "metadata": {},
   "source": [
    "Instead of jamming everything together, spread out your code. Give each statement some breathing room:\n"
   ]
  },
  {
   "cell_type": "code",
   "execution_count": 14,
   "metadata": {},
   "outputs": [],
   "source": [
    "x = 1\n",
    "y = 2\n",
    "z = 3"
   ]
  },
  {
   "cell_type": "markdown",
   "metadata": {},
   "source": [
    "Now each variable assignment gets its moment in the spotlight, making it easier for anyone reading the code to follow along.\n"
   ]
  },
  {
   "cell_type": "markdown",
   "metadata": {},
   "source": [
    "**When Semicolons Make Sense**\n"
   ]
  },
  {
   "cell_type": "markdown",
   "metadata": {},
   "source": [
    "There are rare occasions when you might see multiple statements separated by semicolons on a single line, and it doesn't look like a jumbled mess. For example, in a short script or when you're typing directly into the Python interpreter for quick tests. But even then, it's often just to save space or time, and it's not a habit you'd want to bring into larger, more complex codebases.\n"
   ]
  },
  {
   "cell_type": "markdown",
   "metadata": {},
   "source": [
    "**The Takeaway**\n"
   ]
  },
  {
   "cell_type": "markdown",
   "metadata": {},
   "source": [
    "The term \"Pythonic\" means writing code that fits with the spirit of the language: simple, readable, and elegant. Sticking to one statement per line aligns with this philosophy and helps ensure your code is as clean and readable as possible. If you ever find yourself tempted to squeeze multiple statements onto one line, take a step back and ask if there's a clearer way to express your ideas. More often than not, there is, and your fellow coders (including future you!) will thank you for taking the extra moment to prioritize readability over brevity."
   ]
  }
 ],
 "metadata": {
  "kernelspec": {
   "display_name": "py310",
   "language": "python",
   "name": "python3"
  },
  "language_info": {
   "codemirror_mode": {
    "name": "ipython",
    "version": 3
   },
   "file_extension": ".py",
   "mimetype": "text/x-python",
   "name": "python",
   "nbconvert_exporter": "python",
   "pygments_lexer": "ipython3",
   "version": "3.10.12"
  }
 },
 "nbformat": 4,
 "nbformat_minor": 2
}
