{
 "cells": [
  {
   "cell_type": "markdown",
   "metadata": {},
   "source": [
    "<img src=\"./images/banner.png\" width=\"800\">"
   ]
  },
  {
   "cell_type": "markdown",
   "metadata": {},
   "source": [
    "# Comments: Communicating Intent in Code"
   ]
  },
  {
   "cell_type": "markdown",
   "metadata": {},
   "source": [
    "When you're deep in the zone, coding up a storm, it's easy to forget that the masterpiece you're creating might be read by others—or even by you—in the future. That's where comments come in. In Python, comments are like little notes to fellow programmers (including future you) that explain what's going on in your code. They're the breadcrumbs you leave behind that make your code more accessible and maintainable.\n"
   ]
  },
  {
   "cell_type": "markdown",
   "metadata": {},
   "source": [
    "A comment in Python starts with the hash character `#` and extends to the end of the line. The Python interpreter recognizes this and disregards anything that follows `#` on that line, treating it as a note rather than a piece of code to execute.\n"
   ]
  },
  {
   "cell_type": "markdown",
   "metadata": {},
   "source": [
    "Here’s a simple example:\n"
   ]
  },
  {
   "cell_type": "code",
   "execution_count": 1,
   "metadata": {},
   "outputs": [],
   "source": [
    "# Calculate the square of a number\n",
    "square = 5 ** 2"
   ]
  },
  {
   "cell_type": "markdown",
   "metadata": {},
   "source": [
    "The comment above explains the purpose of the line of code that follows it. Anyone reading this line will quickly understand that `5 ** 2` is meant to calculate the square of the number 5.\n"
   ]
  },
  {
   "cell_type": "markdown",
   "metadata": {},
   "source": [
    "Comments are not just about explaining the obvious; they also provide context and rationale. Imagine you're using a specific algorithm because it's faster under certain conditions, or you're choosing one data structure over another due to memory constraints—these are the types of insights you can share in comments. Your code might tell us **how** it's doing something, but comments can tell us **why**.\n"
   ]
  },
  {
   "cell_type": "markdown",
   "metadata": {},
   "source": [
    "In this lecture, we'll explore the role of comments in Python programming, how to write them effectively, and the conventions that can help keep your codebase clean and understandable. Whether you're writing a quick script or laying down the foundations of a large project, good commenting practices will save you and your team countless hours of guesswork and head-scratching down the line. Let's dive in and learn how to use comments to your advantage."
   ]
  },
  {
   "cell_type": "markdown",
   "metadata": {},
   "source": [
    "**Table of contents**<a id='toc0_'></a>    \n",
    "- [Using Comments Effectively](#toc1_)    \n",
    "  - [Single-Line Comments](#toc1_1_)    \n",
    "  - [Inline Comments](#toc1_2_)    \n",
    "  - [Commenting Out Code](#toc1_3_)    \n",
    "  - [Multi-Line Comments](#toc1_4_)    \n",
    "- [Docstrings](#toc2_)    \n",
    "- [Best Practices for Writing Comments](#toc3_)    \n",
    "\n",
    "<!-- vscode-jupyter-toc-config\n",
    "\tnumbering=false\n",
    "\tanchor=true\n",
    "\tflat=false\n",
    "\tminLevel=2\n",
    "\tmaxLevel=6\n",
    "\t/vscode-jupyter-toc-config -->\n",
    "<!-- THIS CELL WILL BE REPLACED ON TOC UPDATE. DO NOT WRITE YOUR TEXT IN THIS CELL -->"
   ]
  },
  {
   "cell_type": "markdown",
   "metadata": {},
   "source": [
    "## <a id='toc1_'></a>[Using Comments Effectively](#toc0_)"
   ]
  },
  {
   "cell_type": "markdown",
   "metadata": {},
   "source": [
    "Comments are a critical tool in your coding toolkit. They allow you to leave notes and explanations directly in your code. In Python, comments start with the hash character `#`, and extend to the end of the physical line. Here's how to use them:\n"
   ]
  },
  {
   "cell_type": "markdown",
   "metadata": {},
   "source": [
    "### <a id='toc1_1_'></a>[Single-Line Comments](#toc0_)\n"
   ]
  },
  {
   "cell_type": "markdown",
   "metadata": {},
   "source": [
    "Single-line comments are used for brief explanations or for deactivating code:\n"
   ]
  },
  {
   "cell_type": "markdown",
   "metadata": {},
   "source": [
    "```python\n",
    "# This is a single-line comment in Python\n",
    "# print(\"This won't run because it's commented out\")\n",
    "```\n"
   ]
  },
  {
   "cell_type": "markdown",
   "metadata": {},
   "source": [
    "You can also place comments at the end of a line of code:\n"
   ]
  },
  {
   "cell_type": "code",
   "execution_count": 2,
   "metadata": {},
   "outputs": [],
   "source": [
    "x = 10  # Assigning 10 to variable x"
   ]
  },
  {
   "cell_type": "markdown",
   "metadata": {},
   "source": [
    "### <a id='toc1_2_'></a>[Inline Comments](#toc0_)\n"
   ]
  },
  {
   "cell_type": "markdown",
   "metadata": {},
   "source": [
    "Inline comments are placed on the same line as a statement. They should be used sparingly and only when they add significant value to the understanding of the code:\n"
   ]
  },
  {
   "cell_type": "code",
   "execution_count": 3,
   "metadata": {},
   "outputs": [],
   "source": [
    "y = x * 2  # Multiplying x by 2 for the new value of y"
   ]
  },
  {
   "cell_type": "markdown",
   "metadata": {},
   "source": [
    "### <a id='toc1_3_'></a>[Commenting Out Code](#toc0_)\n"
   ]
  },
  {
   "cell_type": "markdown",
   "metadata": {},
   "source": [
    "During development, you might want to temporarily disable certain parts of your code. You can \"comment out\" these lines—just add a `#` at the beginning of each line you want to deactivate:\n"
   ]
  },
  {
   "cell_type": "code",
   "execution_count": 5,
   "metadata": {},
   "outputs": [],
   "source": [
    "# print(\"This line is commented out and won't execute\")\n",
    "# x = x + 1  # This increment won't happen"
   ]
  },
  {
   "cell_type": "markdown",
   "metadata": {},
   "source": [
    "### <a id='toc1_4_'></a>[Multi-Line Comments](#toc0_)"
   ]
  },
  {
   "cell_type": "markdown",
   "metadata": {},
   "source": [
    "\n",
    "Python does not have a specific syntax for multi-line comments. However, you can use consecutive single-line comments:\n"
   ]
  },
  {
   "cell_type": "code",
   "execution_count": 6,
   "metadata": {},
   "outputs": [],
   "source": [
    "# The following code calculates the factorial of a number\n",
    "# and prints the result. The factorial of a number\n",
    "# is the product of all the integers from 1 to that number."
   ]
  },
  {
   "cell_type": "markdown",
   "metadata": {},
   "source": [
    "Alternatively, in Jupyter notebooks and script files, you can use triple-quoted strings (`'''` or `\"\"\"`). These strings aren't assigned to a variable and are not executed, so they serve as multi-line comments:\n"
   ]
  },
  {
   "cell_type": "code",
   "execution_count": 7,
   "metadata": {},
   "outputs": [
    {
     "data": {
      "text/plain": [
       "'\\nThis is a multi-line comment or block comment.\\nThe following code calculates the factorial of 5.\\n'"
      ]
     },
     "execution_count": 7,
     "metadata": {},
     "output_type": "execute_result"
    }
   ],
   "source": [
    "\"\"\"\n",
    "This is a multi-line comment or block comment.\n",
    "The following code calculates the factorial of 5.\n",
    "\"\"\""
   ]
  },
  {
   "cell_type": "markdown",
   "metadata": {},
   "source": [
    "However, it's important to note that triple-quoted strings are also used for docstrings (documented strings), which serve a different purpose—they document modules, classes, methods, and functions.\n"
   ]
  },
  {
   "cell_type": "markdown",
   "metadata": {},
   "source": [
    "## <a id='toc2_'></a>[Docstrings](#toc0_)\n"
   ]
  },
  {
   "cell_type": "markdown",
   "metadata": {},
   "source": [
    "Docstrings are special comments that document your code. They are written as the first statement within a module, function, class, or method and are enclosed in triple quotes. They can be accessed programmatically and are used by tools like Sphinx to generate documentation:\n"
   ]
  },
  {
   "cell_type": "code",
   "execution_count": 9,
   "metadata": {},
   "outputs": [],
   "source": [
    "def add(a, b):\n",
    "    \"\"\"\n",
    "    Add two numbers and return the result.\n",
    "\n",
    "    Parameters:\n",
    "    a (int): The first number to add.\n",
    "    b (int): The second number to add.\n",
    "\n",
    "    Returns:\n",
    "    int: The sum of a and b.\n",
    "    \"\"\"\n",
    "    return a + b"
   ]
  },
  {
   "cell_type": "markdown",
   "metadata": {},
   "source": [
    "## <a id='toc3_'></a>[Best Practices for Writing Comments](#toc0_)\n"
   ]
  },
  {
   "cell_type": "markdown",
   "metadata": {},
   "source": [
    "1. Keep comments concise and relevant.\n",
    "2. Update comments if you change the corresponding code.\n",
    "3. Avoid stating the obvious; focus on the \"why\" rather than the \"how.\"\n",
    "4. Use comments to clarify complex code or algorithms.\n",
    "5. Maintain a consistent style throughout your codebase.\n"
   ]
  },
  {
   "cell_type": "markdown",
   "metadata": {},
   "source": [
    "Comments play a pivotal role in making your code accessible and maintainable. When used appropriately, they can significantly enhance the readability and understanding of your code. As you develop larger projects or work in a team environment, the importance of good commenting practices will become increasingly clear. By taking the time to document your code with thoughtful comments, you're investing in its future clarity and usefulness."
   ]
  }
 ],
 "metadata": {
  "kernelspec": {
   "display_name": "py310",
   "language": "python",
   "name": "python3"
  },
  "language_info": {
   "codemirror_mode": {
    "name": "ipython",
    "version": 3
   },
   "file_extension": ".py",
   "mimetype": "text/x-python",
   "name": "python",
   "nbconvert_exporter": "python",
   "pygments_lexer": "ipython3",
   "version": "3.10.12"
  }
 },
 "nbformat": 4,
 "nbformat_minor": 2
}
