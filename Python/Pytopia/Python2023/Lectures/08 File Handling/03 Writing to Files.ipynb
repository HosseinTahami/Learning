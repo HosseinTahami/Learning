{
 "cells": [
  {
   "cell_type": "markdown",
   "metadata": {},
   "source": [
    "<img src=\"./images/banner.png\" width=\"800\">"
   ]
  },
  {
   "cell_type": "markdown",
   "metadata": {},
   "source": [
    "# Writing to Files"
   ]
  },
  {
   "cell_type": "markdown",
   "metadata": {},
   "source": [
    "Welcome to Lecture 3: Writing to Files. Writing to files is a fundamental aspect of programming that enables us to save data from our programs to persistent storage. This capability allows users to generate reports, save application state, log events, and more. Understanding how to write to files will enable you to create programs that can interact with data systems and provide output that persists beyond the life of the program itself.\n"
   ]
  },
  {
   "cell_type": "markdown",
   "metadata": {},
   "source": [
    "In this lecture, we will explore how to write text to files in Python using different modes. We'll delve into the nuances of the `write()` and `writelines()` methods, and discuss the implications of using different file opening modes, such as 'write' (`'w'`) and 'append' (`'a'`). Additionally, we'll cover best practices in file writing, including how to handle file buffering, and when to flush data to ensure it is actually written to the file system.\n"
   ]
  },
  {
   "cell_type": "markdown",
   "metadata": {},
   "source": [
    "By the end of this lecture, you'll have a thorough understanding of how to write to files in Python and be equipped with the knowledge to handle various file writing scenarios that you might encounter in your programming endeavors."
   ]
  },
  {
   "cell_type": "markdown",
   "metadata": {},
   "source": [
    "**Table of contents**<a id='toc0_'></a>    \n",
    "- [Opening Files for Writing](#toc1_)    \n",
    "  - [Using `open()` to Create File Objects for Writing](#toc1_1_)    \n",
    "  - [The Difference Between Writing to a New File vs. an Existing File](#toc1_2_)    \n",
    "- [The `write()` Method](#toc2_)    \n",
    "  - [The Concept of Strings and How They Are Written to Files](#toc2_1_)    \n",
    "- [The `writelines()` Method](#toc3_)    \n",
    "  - [The Difference between `write()` and `writelines()`](#toc3_1_)    \n",
    "- [Truncating and Overwriting vs. Appending](#toc4_)    \n",
    "  - [Append to the End of a File with Mode `'a'`](#toc4_1_)    \n",
    "  - [Potential Risks of Overwriting Data and How to Prevent It](#toc4_2_)    \n",
    "- [File Buffering and Flushing](#toc5_)    \n",
    "- [Practical Examples](#toc6_)    \n",
    "  - [Example: Writing Log Data to a File](#toc6_1_)    \n",
    "  - [Example: Generating and Saving a Report](#toc6_2_)    \n",
    "- [Practice Exercise](#toc7_)    \n",
    "  - [Solution](#toc7_1_)    \n",
    "\n",
    "<!-- vscode-jupyter-toc-config\n",
    "\tnumbering=false\n",
    "\tanchor=true\n",
    "\tflat=false\n",
    "\tminLevel=2\n",
    "\tmaxLevel=6\n",
    "\t/vscode-jupyter-toc-config -->\n",
    "<!-- THIS CELL WILL BE REPLACED ON TOC UPDATE. DO NOT WRITE YOUR TEXT IN THIS CELL -->"
   ]
  },
  {
   "cell_type": "markdown",
   "metadata": {},
   "source": [
    "## <a id='toc1_'></a>[Opening Files for Writing](#toc0_)"
   ]
  },
  {
   "cell_type": "markdown",
   "metadata": {},
   "source": [
    "When it comes to writing files in Python, the mode in which you open the file is crucial. There are two primary modes used for writing:\n"
   ]
  },
  {
   "cell_type": "markdown",
   "metadata": {},
   "source": [
    "- `'w'` (Write mode): Opens a file for writing only. If the file already exists, it will be overwritten. If the file does not exist, a new one will be created.\n",
    "- `'a'` (Append mode): Opens a file for appending new information to the end. If the file exists, the data you write will be added to the end of the file without altering the existing content. If the file does not exist, it will be created.\n"
   ]
  },
  {
   "cell_type": "markdown",
   "metadata": {},
   "source": [
    "It's important to choose the correct mode to avoid accidentally deleting data.\n"
   ]
  },
  {
   "cell_type": "markdown",
   "metadata": {},
   "source": [
    "### <a id='toc1_1_'></a>[Using `open()` to Create File Objects for Writing](#toc0_)\n"
   ]
  },
  {
   "cell_type": "markdown",
   "metadata": {},
   "source": [
    "To write to a file in Python, you use the `open()` function, which returns a file object. Here's the basic syntax for opening a file in writing mode:\n"
   ]
  },
  {
   "cell_type": "code",
   "execution_count": 1,
   "metadata": {},
   "outputs": [],
   "source": [
    "file = open('files/write-example.txt', 'w')"
   ]
  },
  {
   "cell_type": "markdown",
   "metadata": {},
   "source": [
    "And for append mode:\n"
   ]
  },
  {
   "cell_type": "code",
   "execution_count": 2,
   "metadata": {},
   "outputs": [],
   "source": [
    "file = open('files/write-example.txt', 'a')"
   ]
  },
  {
   "cell_type": "markdown",
   "metadata": {},
   "source": [
    "It's considered good practice to use the `with` statement when dealing with file operations. This ensures that the file is properly closed after its suite finishes, even if an error is raised. Here's an example:\n"
   ]
  },
  {
   "cell_type": "code",
   "execution_count": 3,
   "metadata": {},
   "outputs": [],
   "source": [
    "with open('files/write-example.txt', 'w') as file:\n",
    "    file.write(\"Hello, Python!\")"
   ]
  },
  {
   "cell_type": "markdown",
   "metadata": {},
   "source": [
    "### <a id='toc1_2_'></a>[The Difference Between Writing to a New File vs. an Existing File](#toc0_)\n"
   ]
  },
  {
   "cell_type": "markdown",
   "metadata": {},
   "source": [
    "Understanding the difference between writing to a new file and an existing file is crucial:\n",
    "\n",
    "- If you open a file in `'w'` mode that does not exist, Python will create it for you. If the file does exist, Python will clear the file's contents before returning the file object to you.\n",
    "- When you open a file in `'a'` mode, Python will create the file if it does not exist. If it does exist, Python will prepare to add new content to the end of the file's current contents.\n"
   ]
  },
  {
   "cell_type": "markdown",
   "metadata": {},
   "source": [
    "Here's a practical example of the difference:\n"
   ]
  },
  {
   "cell_type": "code",
   "execution_count": 4,
   "metadata": {},
   "outputs": [],
   "source": [
    "# This will overwrite the existing content or create a new file\n",
    "with open('files/write-example.txt', 'w') as file:\n",
    "    file.write(\"This text overwrites the file's content or creates a new file.\")\n"
   ]
  },
  {
   "cell_type": "code",
   "execution_count": 5,
   "metadata": {},
   "outputs": [],
   "source": [
    "# This will append the text to the existing content or create a new file\n",
    "with open('files/write-example.txt', 'a') as file:\n",
    "    file.write(\"\\nThis text appends to the file's existing content.\")"
   ]
  },
  {
   "cell_type": "markdown",
   "metadata": {},
   "source": [
    "Remember that using the wrong mode can lead to data loss if you're not careful. Always make sure you're using `'w'` or `'a'` appropriately depending on whether you intend to replace or add to the existing file content.\n"
   ]
  },
  {
   "cell_type": "markdown",
   "metadata": {},
   "source": [
    "## <a id='toc2_'></a>[The `write()` Method](#toc0_)"
   ]
  },
  {
   "cell_type": "markdown",
   "metadata": {},
   "source": [
    "The `write()` method in Python is used to write a specified string to a file. When you're writing to a file, you need to first open it in a mode that allows writing ('w' for overwrite or 'a' for append) and then you can use the `write()` method to add your text.\n"
   ]
  },
  {
   "cell_type": "markdown",
   "metadata": {},
   "source": [
    "Here's a simple example:\n"
   ]
  },
  {
   "cell_type": "code",
   "execution_count": 6,
   "metadata": {},
   "outputs": [],
   "source": [
    "# Open the file in write mode\n",
    "with open('files/write-example.txt', 'w') as file:\n",
    "    # Write a string to the file\n",
    "    file.write(\"Hello, World!\")"
   ]
  },
  {
   "cell_type": "markdown",
   "metadata": {},
   "source": [
    "This code will create a file called `example.txt` (if it doesn't already exist) and write the string \"Hello, World!\" to it. If `example.txt` does exist, its contents will be replaced with \"Hello, World!\".\n"
   ]
  },
  {
   "cell_type": "markdown",
   "metadata": {},
   "source": [
    "### <a id='toc2_1_'></a>[The Concept of Strings and How They Are Written to Files](#toc0_)\n"
   ]
  },
  {
   "cell_type": "markdown",
   "metadata": {},
   "source": [
    "In Python, strings are sequences of characters. When you use the `write()` method, you're telling Python to take the string you've provided and convert it into a sequence of bytes that can be stored on disk.\n"
   ]
  },
  {
   "cell_type": "markdown",
   "metadata": {},
   "source": [
    "Consider the following:\n"
   ]
  },
  {
   "cell_type": "code",
   "execution_count": 7,
   "metadata": {},
   "outputs": [],
   "source": [
    "# Open the file in write mode\n",
    "with open('files/write-example.txt', 'w') as file:\n",
    "    # Write multiple strings to the file\n",
    "    file.write(\"First line.\\n\")\n",
    "    file.write(\"Second line.\\n\")\n",
    "    file.write(\"Third line.\")"
   ]
  },
  {
   "cell_type": "markdown",
   "metadata": {},
   "source": [
    "This script writes three lines to `example.txt`. The `\\n` character is a special character that represents a new line. It tells Python to move the cursor to the next line of the file, so each call to `write()` starts on a new line.\n"
   ]
  },
  {
   "cell_type": "markdown",
   "metadata": {},
   "source": [
    "It's important to note that the `write()` method does not automatically add new line characters at the end of the string you pass to it. If you want to start a new line after writing some text, you need to include `\\n` explicitly.\n"
   ]
  },
  {
   "cell_type": "markdown",
   "metadata": {},
   "source": [
    "The `write()` method returns the number of characters written to the file. You can capture this return value if you need to:\n"
   ]
  },
  {
   "cell_type": "code",
   "execution_count": 8,
   "metadata": {},
   "outputs": [
    {
     "name": "stdout",
     "output_type": "stream",
     "text": [
      "13 characters were written to the file.\n"
     ]
    }
   ],
   "source": [
    "with open('files/write-example.txt', 'w') as file:\n",
    "    num_chars_written = file.write(\"Hello, World!\")\n",
    "    print(f\"{num_chars_written} characters were written to the file.\")"
   ]
  },
  {
   "cell_type": "markdown",
   "metadata": {},
   "source": [
    "This will output: \"13 characters were written to the file.\"\n"
   ]
  },
  {
   "cell_type": "markdown",
   "metadata": {},
   "source": [
    "Remember, the `write()` method only accepts strings. If you try to write another data type (like an integer or a list) directly to a file, Python will raise a `TypeError`. You'll need to convert any non-string data to a string before writing it to a file."
   ]
  },
  {
   "cell_type": "markdown",
   "metadata": {},
   "source": [
    "## <a id='toc3_'></a>[The `writelines()` Method](#toc0_)"
   ]
  },
  {
   "cell_type": "markdown",
   "metadata": {},
   "source": [
    "The `writelines()` method is a convenient way to write a list (or any iterable) of strings to a file. Unlike the `write()` method, which writes a single string, `writelines()` takes an iterable series of strings and writes them to the file in sequence, without adding line breaks in between.\n"
   ]
  },
  {
   "cell_type": "markdown",
   "metadata": {},
   "source": [
    "Here's an example that demonstrates the use of `writelines()`:\n"
   ]
  },
  {
   "cell_type": "code",
   "execution_count": 9,
   "metadata": {},
   "outputs": [],
   "source": [
    "# A list of strings to write to the file\n",
    "lines_to_write = [\n",
    "    \"First line.\\n\",\n",
    "    \"Second line.\\n\",\n",
    "    \"Third line.\\n\"\n",
    "]\n"
   ]
  },
  {
   "cell_type": "code",
   "execution_count": 10,
   "metadata": {},
   "outputs": [],
   "source": [
    "# Open the file in write mode\n",
    "with open('files/write-example.txt', 'w') as file:\n",
    "    # Write the list of strings to the file with writelines()\n",
    "    file.writelines(lines_to_write)"
   ]
  },
  {
   "cell_type": "markdown",
   "metadata": {},
   "source": [
    "This code snippet will write the three lines from the `lines_to_write` list to `example.txt`, each on a new line because we've included the newline character `\\n` at the end of each string.\n"
   ]
  },
  {
   "cell_type": "markdown",
   "metadata": {},
   "source": [
    "### <a id='toc3_1_'></a>[The Difference between `write()` and `writelines()`](#toc0_)\n"
   ]
  },
  {
   "cell_type": "markdown",
   "metadata": {},
   "source": [
    "The main difference between the `write()` and `writelines()` methods is their intended use case. `write()` is meant for writing a single string at a time, whereas `writelines()` is optimized for writing a series of strings in one go.\n"
   ]
  },
  {
   "cell_type": "markdown",
   "metadata": {},
   "source": [
    "Here are some key points to consider:\n",
    "\n",
    "- **Line Endings**: The `write()` method will write exactly what you tell it to, including line endings. The `writelines()` method, on the other hand, does not add any separators or line endings between the strings it writes; you must include them yourself at the end of each string if desired.\n",
    "- **Performance**: When you have a large number of strings to write to a file, `writelines()` might offer better performance because it is designed to handle multiple strings in one method call, reducing the overhead of multiple `write()` calls.\n",
    "- **Convenience**: If your data is already in the form of an iterable of strings (like a list or a generator), `writelines()` can be more straightforward to use than a loop with `write()` calls.\n"
   ]
  },
  {
   "cell_type": "markdown",
   "metadata": {},
   "source": [
    "It's worth noting that `writelines()` does not add newline characters automatically between strings. If you want each string to be on a new line, you must ensure that each string in the iterable ends with a newline character `\\n`.\n"
   ]
  },
  {
   "cell_type": "markdown",
   "metadata": {},
   "source": [
    "For example, if you have a list of strings without newline characters:\n"
   ]
  },
  {
   "cell_type": "code",
   "execution_count": 11,
   "metadata": {},
   "outputs": [],
   "source": [
    "lines_to_write = [\"First line.\", \"Second line.\", \"Third line.\"]"
   ]
  },
  {
   "cell_type": "markdown",
   "metadata": {},
   "source": [
    "And you use `writelines()` to write them to a file:\n"
   ]
  },
  {
   "cell_type": "code",
   "execution_count": 12,
   "metadata": {},
   "outputs": [],
   "source": [
    "with open('files/write-example.txt', 'w') as file:\n",
    "    file.writelines(lines_to_write)"
   ]
  },
  {
   "cell_type": "markdown",
   "metadata": {},
   "source": [
    "The resulting file `example.txt` will contain:\n"
   ]
  },
  {
   "cell_type": "markdown",
   "metadata": {},
   "source": [
    "```\n",
    "First line.Second line.Third line.\n",
    "```\n"
   ]
  },
  {
   "cell_type": "markdown",
   "metadata": {},
   "source": [
    "If you want each to appear on a new line, you'd need to modify the list to include newline characters:\n"
   ]
  },
  {
   "cell_type": "code",
   "execution_count": 13,
   "metadata": {},
   "outputs": [],
   "source": [
    "lines_to_write = [\"First line.\\n\", \"Second line.\\n\", \"Third line.\\n\"]"
   ]
  },
  {
   "cell_type": "markdown",
   "metadata": {},
   "source": [
    "In summary, use `write()` when dealing with individual strings and `writelines()` when you have a collection of strings that you want to write to a file efficiently."
   ]
  },
  {
   "cell_type": "markdown",
   "metadata": {},
   "source": [
    "## <a id='toc4_'></a>[Truncating and Overwriting vs. Appending](#toc0_)"
   ]
  },
  {
   "cell_type": "markdown",
   "metadata": {},
   "source": [
    "When you open a file in write mode (`'w'`), Python prepares to start writing from the beginning of the file. If the file already exists, its current contents are immediately truncated, meaning all the existing data in the file is deleted before you even start writing the new data. This behavior is useful when you want to create a file from scratch or completely replace the contents of an existing file.\n"
   ]
  },
  {
   "cell_type": "markdown",
   "metadata": {},
   "source": [
    "Here's an example that illustrates the truncation behavior:\n"
   ]
  },
  {
   "cell_type": "code",
   "execution_count": 14,
   "metadata": {},
   "outputs": [],
   "source": [
    "# This will truncate the existing file and start fresh\n",
    "with open('files/write-example.txt', 'w') as file:\n",
    "    file.write(\"New content in the file.\")"
   ]
  },
  {
   "cell_type": "markdown",
   "metadata": {},
   "source": [
    "After executing the code, `example.txt` will contain only the string \"New content in the file.\", regardless of what it contained before.\n"
   ]
  },
  {
   "cell_type": "markdown",
   "metadata": {},
   "source": [
    "### <a id='toc4_1_'></a>[Append to the End of a File with Mode `'a'`](#toc0_)\n"
   ]
  },
  {
   "cell_type": "markdown",
   "metadata": {},
   "source": [
    "In contrast, when you open a file in append mode (`'a'`), Python does not truncate the file. Instead, it moves the file pointer to the end of the existing content, so that anything you write is added without disturbing the current data. This is useful when you want to add new entries to a log file or when you are incrementally saving data over time.\n"
   ]
  },
  {
   "cell_type": "markdown",
   "metadata": {},
   "source": [
    "Below is an example of appending text to a file:\n"
   ]
  },
  {
   "cell_type": "code",
   "execution_count": 15,
   "metadata": {},
   "outputs": [],
   "source": [
    "# This will append the string to the end of the file's content\n",
    "with open('files/write-example.txt', 'a') as file:\n",
    "    file.write(\"\\nAppended content.\")"
   ]
  },
  {
   "cell_type": "markdown",
   "metadata": {},
   "source": [
    "If `example.txt` originally contained \"Old content.\", after the code runs, it will contain:\n"
   ]
  },
  {
   "cell_type": "markdown",
   "metadata": {},
   "source": [
    "```sh\n",
    "Old content.\n",
    "Appended content.\n",
    "```\n"
   ]
  },
  {
   "cell_type": "markdown",
   "metadata": {},
   "source": [
    "### <a id='toc4_2_'></a>[Potential Risks of Overwriting Data and How to Prevent It](#toc0_)\n"
   ]
  },
  {
   "cell_type": "markdown",
   "metadata": {},
   "source": [
    "One of the risks of using write mode (`'w'`) is that you can unintentionally overwrite valuable data. This can happen if you mistakenly open an important file in write mode instead of append mode, or if you intended to create a new file but a file with the target name already exists.\n"
   ]
  },
  {
   "cell_type": "markdown",
   "metadata": {},
   "source": [
    "To prevent data loss:\n",
    "\n",
    "- Always ensure you are using the correct mode (`'w'` vs. `'a'`) for your specific task.\n",
    "- Consider checking if the file exists before opening it in write mode. You can do this using the `os.path.exists()` function from the `os` module:\n"
   ]
  },
  {
   "cell_type": "code",
   "execution_count": 16,
   "metadata": {},
   "outputs": [
    {
     "name": "stdout",
     "output_type": "stream",
     "text": [
      "File already exists. Aborting to prevent data loss.\n"
     ]
    }
   ],
   "source": [
    "import os\n",
    "\n",
    "# Check if the file exists before opening it in write mode\n",
    "if not os.path.exists('files/important.txt'):\n",
    "    with open('files/important.txt', 'w') as file:\n",
    "        file.write(\"This is important data.\")\n",
    "else:\n",
    "    print(\"File already exists. Aborting to prevent data loss.\")"
   ]
  },
  {
   "cell_type": "markdown",
   "metadata": {},
   "source": [
    "> **Note:** You will learn more about the `os` module later after OOP and modules. You will also learn about `pathlib` which is a more modern way to handle file paths."
   ]
  },
  {
   "cell_type": "markdown",
   "metadata": {},
   "source": [
    "- It's also a good practice to create backups of important files before running scripts that modify them.\n"
   ]
  },
  {
   "cell_type": "markdown",
   "metadata": {},
   "source": [
    "By taking these precautions, you can help ensure that you do not accidentally lose data when working with file operations in Python.\n"
   ]
  },
  {
   "cell_type": "markdown",
   "metadata": {},
   "source": [
    "## <a id='toc5_'></a>[File Buffering and Flushing](#toc0_)"
   ]
  },
  {
   "cell_type": "markdown",
   "metadata": {},
   "source": [
    "File buffering is an important concept in file I/O operations. Buffering refers to the practice of temporarily holding data in memory (the buffer) before writing it to disk. This process improves performance by minimizing the number of expensive I/O operations. Instead of writing to disk each time a `write()` is called, Python collects or \"buffers\" the data and writes it in larger chunks.\n"
   ]
  },
  {
   "cell_type": "markdown",
   "metadata": {},
   "source": [
    "Python's file objects are line-buffered (if the file is opened in text mode and connected to a terminal) or block-buffered (if the file is not connected to a terminal). The buffer size can be controlled by the `buffering` parameter in the `open()` function:\n",
    "- A `buffering` value of `0` turns off buffering, meaning each `write()` will directly affect the file.\n",
    "- A `buffering` value of `1` enables line buffering, writing data to the file whenever a newline is encountered.\n",
    "- A `buffering` value greater than `1` sets the buffer size to that number of bytes.\n"
   ]
  },
  {
   "cell_type": "markdown",
   "metadata": {},
   "source": [
    "For example:\n"
   ]
  },
  {
   "cell_type": "code",
   "execution_count": 17,
   "metadata": {},
   "outputs": [
    {
     "data": {
      "text/plain": [
       "1"
      ]
     },
     "execution_count": 17,
     "metadata": {},
     "output_type": "execute_result"
    }
   ],
   "source": [
    "# Open a file with a specific buffer size\n",
    "file = open('files/buffered.txt', 'w', buffering=1024)\n",
    "file.write(\"This data is buffered.\")\n",
    "file.write('\\n')"
   ]
  },
  {
   "cell_type": "markdown",
   "metadata": {},
   "source": [
    "In the above example, the data may reside in the buffer and not be immediately written to `buffered.txt`. The write to disk will only occur when the buffer is full or when the file is closed.\n"
   ]
  },
  {
   "cell_type": "markdown",
   "metadata": {},
   "source": [
    "There are situations where you may want to ensure that all buffered data is written to disk immediately. For example, in the case of a program crash or if you need to generate real-time output that another process is watching.\n"
   ]
  },
  {
   "cell_type": "markdown",
   "metadata": {},
   "source": [
    "To manually flush the buffer and write data to disk, you can use the `flush()` method:\n"
   ]
  },
  {
   "cell_type": "code",
   "execution_count": 18,
   "metadata": {},
   "outputs": [],
   "source": [
    "file.write(\"This data might be buffered.\")\n",
    "# Ensure that data is written to disk\n",
    "file.flush()"
   ]
  },
  {
   "cell_type": "markdown",
   "metadata": {},
   "source": [
    "After calling `flush()`, you can be confident that all the data written up to that point has been physically written to disk.\n"
   ]
  },
  {
   "cell_type": "markdown",
   "metadata": {},
   "source": [
    "Another common scenario where you might want to flush the buffer is when dealing with user prompts. If you're writing a prompt to the screen and awaiting user input, you'll want to flush the output so that the prompt actually appears before the program pauses for input.\n"
   ]
  },
  {
   "cell_type": "markdown",
   "metadata": {},
   "source": [
    "Keep in mind that calling `flush()` too frequently can degrade performance since it negates the benefits of buffering by increasing the number of write operations. Use it judiciously when immediate writing of data is necessary.\n"
   ]
  },
  {
   "cell_type": "markdown",
   "metadata": {},
   "source": [
    "In summary, while Python handles buffering efficiently in the background, knowing when to use `flush()` gives you additional control over when your data gets persisted to disk, which can be crucial for data integrity and program behavior."
   ]
  },
  {
   "cell_type": "markdown",
   "metadata": {},
   "source": [
    "## <a id='toc6_'></a>[Practical Examples](#toc0_)"
   ]
  },
  {
   "cell_type": "markdown",
   "metadata": {},
   "source": [
    "### <a id='toc6_1_'></a>[Example: Writing Log Data to a File](#toc0_)\n"
   ]
  },
  {
   "cell_type": "markdown",
   "metadata": {},
   "source": [
    "Logging is an essential aspect of software development and maintenance. It helps in tracking events, debugging issues, and monitoring system behavior. Let's see a simple example of how to use file handling in Python to write log data to a file.\n"
   ]
  },
  {
   "cell_type": "code",
   "execution_count": 19,
   "metadata": {},
   "outputs": [],
   "source": [
    "import datetime\n",
    "\n",
    "# Function to log messages\n",
    "def log_message(log_file, message):\n",
    "    timestamp = datetime.datetime.now().strftime(\"%Y-%m-%d %H:%M:%S\")\n",
    "    with open(log_file, 'a') as file:\n",
    "        file.write(f\"[{timestamp}] {message}\\n\")\n",
    "\n",
    "# Log some messages\n",
    "log_message(\"files/app.log\", \"Application start\")\n",
    "log_message(\"files/app.log\", \"An important event occurred\")\n",
    "log_message(\"files/app.log\", \"Application end\")"
   ]
  },
  {
   "cell_type": "markdown",
   "metadata": {},
   "source": [
    "In this example, we define a `log_message` function that writes a message to a specified log file. Each message is prefixed with a timestamp. The log file is opened in append mode so that each message is added to the end without overwriting previous log entries.\n"
   ]
  },
  {
   "cell_type": "markdown",
   "metadata": {},
   "source": [
    "### <a id='toc6_2_'></a>[Example: Generating and Saving a Report](#toc0_)\n"
   ]
  },
  {
   "cell_type": "markdown",
   "metadata": {},
   "source": [
    "Another common file handling task is generating reports and saving them to a file. Below is an example of how to create a simple report and save it in a text file.\n"
   ]
  },
  {
   "cell_type": "code",
   "execution_count": 20,
   "metadata": {},
   "outputs": [],
   "source": [
    "# Data to include in the report\n",
    "report_data = {\n",
    "    'Title': 'Sales Report for March 2023',\n",
    "    'Total Sales': '9500',\n",
    "    'Top Product': 'Gadget Pro',\n",
    "    'Customer Satisfaction': '89%'\n",
    "}\n",
    "\n",
    "# Function to generate a report\n",
    "def generate_report(report_file, data):\n",
    "    with open(report_file, 'w') as file:\n",
    "        file.write(f\"{data['Title']}\\n\")\n",
    "        file.write(\"=\" * len(data['Title']) + \"\\n\")\n",
    "        for key, value in data.items():\n",
    "            if key != 'Title':\n",
    "                file.write(f\"{key}: {value}\\n\")\n",
    "\n",
    "# Generate and save the report\n",
    "generate_report(\"files/monthly_sales_report.txt\", report_data)\n"
   ]
  },
  {
   "cell_type": "markdown",
   "metadata": {},
   "source": [
    "In this example, we create a dictionary holding the data for our report. We then define a `generate_report` function that takes a filename and the report data as arguments. The report is written to the specified file, with the title underlined for emphasis. The file is opened in write mode (`'w'`), meaning that each time we generate a report, we start with a fresh file.\n"
   ]
  },
  {
   "cell_type": "markdown",
   "metadata": {},
   "source": [
    "These two examples demonstrate how Python's file handling capabilities can be used in applications to log information and generate reports, both of which are core functionalities in many software applications."
   ]
  },
  {
   "cell_type": "markdown",
   "metadata": {},
   "source": [
    "<img src=\"../images/exercise-banner.gif\" width=\"800\">"
   ]
  },
  {
   "cell_type": "markdown",
   "metadata": {},
   "source": [
    "## <a id='toc7_'></a>[Practice Exercise](#toc0_)"
   ]
  },
  {
   "cell_type": "markdown",
   "metadata": {},
   "source": [
    "In this exercise, you will be applying the concepts you've learned in Lecture 3 about writing to files. You will practice opening files, writing to them, and ensuring data is properly saved. This exercise will give you hands-on experience with file I/O, which is a crucial skill for any Python programmer.\n"
   ]
  },
  {
   "cell_type": "markdown",
   "metadata": {},
   "source": [
    "**Scenario:**\n",
    "You are tasked with creating a simple note-taking application that allows users to save notes to a file. Additionally, you will generate a report that summarizes the number of notes taken each session.\n"
   ]
  },
  {
   "cell_type": "markdown",
   "metadata": {},
   "source": [
    "**Tasks:**\n",
    "\n",
    "1. **Create a New Note**:\n",
    "   Write a function `create_note()` that takes a filename and a note (string) as parameters. The function should open the specified file in write mode and save the note to the file. If the file already exists, it should be overwritten.\n",
    "\n",
    "2. **Add to an Existing Note**:\n",
    "   Write a function `add_to_note()` that takes a filename and a note (string) as parameters. The function should open the specified file in append mode and add the note to the end of the file.\n",
    "\n",
    "3. **Save Multiple Notes**:\n",
    "   Write a function `save_notes()` that takes a filename and a list of notes. The function should use the `writelines()` method to write each note to the file. Ensure each note is on a new line.\n",
    "\n",
    "4. **Generate a Summary Report**:\n",
    "   After saving notes, write a function `generate_report()` that reads the file containing the notes and generates a report. The report should count the number of notes and summarize the content by showing the first 15 characters of each note. Save this report to a new file.\n",
    "\n",
    "5. **Bonus: Log Each Action**:\n",
    "   Create a function `log_action()` that takes a log message and writes it to a log file with the current timestamp. Use this function to log every time a note is created, appended, or when a report is generated.\n"
   ]
  },
  {
   "cell_type": "markdown",
   "metadata": {},
   "source": [
    "**Sample Output:**\n",
    "```sh\n",
    "Note created: 'Meeting at 10am...'\n",
    "Note appended: 'Buy groceries...'\n",
    "Notes saved: ['Meeting at 10am...', 'Buy groceries...', 'Call Alice...']\n",
    "Report generated: 'Notes_Report.txt'\n",
    "```\n"
   ]
  },
  {
   "cell_type": "markdown",
   "metadata": {},
   "source": [
    "Use this exercise to solidify your understanding of file operations in Python, including the various modes for opening files, writing strings and lists of strings to files, and handling file buffering. Remember to include error handling in your functions to manage situations like missing files or write permissions. Good luck!"
   ]
  },
  {
   "cell_type": "markdown",
   "metadata": {},
   "source": [
    "### <a id='toc7_1_'></a>[Solution](#toc0_)"
   ]
  },
  {
   "cell_type": "markdown",
   "metadata": {},
   "source": [
    "Below is a solution for the exercise, with functions to handle the creation of notes, appending to existing notes, saving multiple notes, generating a summary report, and logging actions."
   ]
  },
  {
   "cell_type": "markdown",
   "metadata": {},
   "source": [
    "> **Note:** The `log_action` function is a bonus task that logs each action to a file. This is useful for tracking the history of actions performed on the notes. However, it requires the `datetime` module, which you will learn about later in the course. You can still complete the exercise without the `log_action` function if you haven't learned about the `datetime` module yet."
   ]
  },
  {
   "cell_type": "code",
   "execution_count": 27,
   "metadata": {},
   "outputs": [],
   "source": [
    "import datetime"
   ]
  },
  {
   "cell_type": "code",
   "execution_count": 33,
   "metadata": {},
   "outputs": [],
   "source": [
    "# Bonus: Log Each Action\n",
    "def log_action(message):\n",
    "    timestamp = datetime.datetime.now().strftime(\"%Y-%m-%d %H:%M:%S\")\n",
    "    log_entry = f\"{timestamp} - {message}\\n\"\n",
    "    with open('files/notes_log.txt', 'a') as log_file:\n",
    "        log_file.write(log_entry)\n"
   ]
  },
  {
   "cell_type": "code",
   "execution_count": 34,
   "metadata": {},
   "outputs": [],
   "source": [
    "# Task 1: Create a New Note\n",
    "def create_note(filename, note):\n",
    "    with open(filename, 'w') as file:\n",
    "        file.write(note + '\\n')\n",
    "\n",
    "    # Bonus Task: Log the action\n",
    "    log_action(f\"Note created: '{note[:15]}...'\")\n"
   ]
  },
  {
   "cell_type": "code",
   "execution_count": 35,
   "metadata": {},
   "outputs": [],
   "source": [
    "# Task 2: Add to an Existing Note\n",
    "def add_to_note(filename, note):\n",
    "    with open(filename, 'a') as file:\n",
    "        file.write(note + '\\n')\n",
    "\n",
    "    # Bonus Task: Log the action\n",
    "    log_action(f\"Note appended: '{note[:15]}...'\")\n"
   ]
  },
  {
   "cell_type": "code",
   "execution_count": 36,
   "metadata": {},
   "outputs": [],
   "source": [
    "# Task 3: Save Multiple Notes\n",
    "def save_notes(filename, notes):\n",
    "    with open(filename, 'w') as file:\n",
    "        file.writelines(note + '\\n' for note in notes)\n",
    "\n",
    "    # Bonus Task: Log the action\n",
    "    log_action(f\"Notes saved: {notes}\")\n"
   ]
  },
  {
   "cell_type": "code",
   "execution_count": 37,
   "metadata": {},
   "outputs": [],
   "source": [
    "# Task 4: Generate a Summary Report\n",
    "def generate_report(notes_filename, report_filename):\n",
    "    with open(notes_filename, 'r') as file:\n",
    "        notes = file.readlines()\n",
    "\n",
    "    with open(report_filename, 'w') as file:\n",
    "        file.write(f\"Number of notes: {len(notes)}\\n\")\n",
    "        file.write(\"Summary of Notes:\\n\")\n",
    "        for note in notes:\n",
    "            file.write(note[:15] + '...\\n')\n",
    "\n",
    "    # Bonus Task: Log the action\n",
    "    log_action(f\"Report generated: '{report_filename}'\")\n"
   ]
  },
  {
   "cell_type": "code",
   "execution_count": 39,
   "metadata": {},
   "outputs": [],
   "source": [
    "# Example usage:\n",
    "create_note('files/mynotes.txt', 'Meeting at 10am with the design team.')\n",
    "add_to_note('files/mynotes.txt', 'Buy groceries after work.')\n",
    "save_notes('files/mynotes.txt', ['Meeting at 10am with the design team.',\n",
    "                            'Buy groceries after work.',\n",
    "                            'Call Alice about the trip.'])\n",
    "generate_report('files/mynotes.txt', 'files/Notes_Report.txt')"
   ]
  },
  {
   "cell_type": "markdown",
   "metadata": {},
   "source": [
    "This code provides all the functionality described in the tasks. It creates a note, appends a note, saves multiple notes, generates a summary report, and logs each action with a timestamp. The example usage at the end of the code demonstrates how these functions can be called. Remember to run this code in a Python environment with write permissions to the current directory, so the file operations can be executed successfully."
   ]
  }
 ],
 "metadata": {
  "kernelspec": {
   "display_name": "py310",
   "language": "python",
   "name": "python3"
  },
  "language_info": {
   "codemirror_mode": {
    "name": "ipython",
    "version": 3
   },
   "file_extension": ".py",
   "mimetype": "text/x-python",
   "name": "python",
   "nbconvert_exporter": "python",
   "pygments_lexer": "ipython3",
   "version": "3.10.12"
  }
 },
 "nbformat": 4,
 "nbformat_minor": 2
}
