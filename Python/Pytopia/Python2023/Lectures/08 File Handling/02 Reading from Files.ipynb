{
 "cells": [
  {
   "cell_type": "markdown",
   "metadata": {},
   "source": [
    "<img src=\"./images/banner.png\" width=\"800\">"
   ]
  },
  {
   "cell_type": "markdown",
   "metadata": {},
   "source": [
    "# Reading from Files\n"
   ]
  },
  {
   "cell_type": "code",
   "execution_count": null,
   "metadata": {},
   "outputs": [],
   "source": []
  },
  {
   "cell_type": "markdown",
   "metadata": {},
   "source": [
    "Files are a fundamental aspect of computing, serving as a standard way to store and share data. In Python, being able to read from files is crucial for a wide range of tasks, from data analysis to automating system administration. Whether it's processing a simple text file or parsing complex data formats, understanding how to read files is an essential skill for any Python programmer.\n"
   ]
  },
  {
   "cell_type": "markdown",
   "metadata": {},
   "source": [
    "In this lecture, we will dive into the world of file reading in Python. We'll start by exploring the various modes available for opening files, with a focus on the 'read' mode. Then, we'll cover the different methods Python provides for reading file contents, such as `read()`, `readline()`, and `readlines()`. Each method has its use cases and understanding when to use which method is key to efficient file handling.\n"
   ]
  },
  {
   "cell_type": "markdown",
   "metadata": {},
   "source": [
    "We will also look at how to iterate over files line by line, a common practice that is not only memory efficient but also a foundational technique for processing large files. Lastly, we'll discuss the importance of file paths, and how to correctly reference files using absolute and relative paths, ensuring that your Python scripts work reliably across different operating systems and directory structures.\n"
   ]
  },
  {
   "cell_type": "markdown",
   "metadata": {},
   "source": [
    "By the end of this lecture, you should be able to:\n",
    "\n",
    "- Understand different file opening modes and specifically how to open files for reading.\n",
    "- Master the various methods to read data from files in Python.\n",
    "- Iterate over a file's content line by line in an efficient manner.\n",
    "- Differentiate between absolute and relative file paths and construct them accurately in your code.\n"
   ]
  },
  {
   "cell_type": "markdown",
   "metadata": {},
   "source": [
    "With these skills, you'll be well on your way to working with file data in your Python projects, setting the foundation for more advanced file handling techniques in the future. Let's get started and open up the world of file reading!"
   ]
  },
  {
   "cell_type": "markdown",
   "metadata": {},
   "source": [
    "**Table of contents**<a id='toc0_'></a>    \n",
    "- [Opening Files for Reading ('r' mode)](#toc1_)    \n",
    "  - [How to Open a File Using `open()`](#toc1_1_)    \n",
    "- [The `read()`, `readline()`, and `readlines()` Methods](#toc2_)    \n",
    "  - [The `read()` Method](#toc2_1_)    \n",
    "  - [The `readline()` Method](#toc2_2_)    \n",
    "  - [The `readlines()` Method](#toc2_3_)    \n",
    "- [Iterating Over File Objects Line by Line](#toc3_)    \n",
    "  - [Efficiency Benefits](#toc3_1_)    \n",
    "- [Working with File Paths (Absolute vs. Relative)](#toc4_)    \n",
    "    - [Understanding File Paths](#toc4_1_1_)    \n",
    "    - [Platform-Independent File Paths](#toc4_1_2_)    \n",
    "- [Exercise: Exploring File Reading Techniques in Python](#toc5_)    \n",
    "  - [Solution](#toc5_1_)    \n",
    "\n",
    "<!-- vscode-jupyter-toc-config\n",
    "\tnumbering=false\n",
    "\tanchor=true\n",
    "\tflat=false\n",
    "\tminLevel=2\n",
    "\tmaxLevel=6\n",
    "\t/vscode-jupyter-toc-config -->\n",
    "<!-- THIS CELL WILL BE REPLACED ON TOC UPDATE. DO NOT WRITE YOUR TEXT IN THIS CELL -->"
   ]
  },
  {
   "cell_type": "markdown",
   "metadata": {},
   "source": [
    "## <a id='toc1_'></a>[Opening Files for Reading ('r' mode)](#toc0_)"
   ]
  },
  {
   "cell_type": "markdown",
   "metadata": {},
   "source": [
    "When we want to read from a file in Python, we open it in the default 'read' mode, which is denoted by `'r'`. This mode is specifically designed for reading text files. When a file is opened in 'r' mode, Python expects that the file exists. If the file does not exist, Python will raise an error.\n"
   ]
  },
  {
   "cell_type": "markdown",
   "metadata": {},
   "source": [
    "In 'r' mode, the file is opened, and the file pointer is placed at the beginning of the file, making it ready to read from the start. It's important to note that if you attempt to write to a file opened in 'r' mode, Python will throw an error as the file is only available to be read, not written to.\n"
   ]
  },
  {
   "cell_type": "markdown",
   "metadata": {},
   "source": [
    "### <a id='toc1_1_'></a>[How to Open a File Using `open()`](#toc0_)"
   ]
  },
  {
   "cell_type": "markdown",
   "metadata": {},
   "source": [
    "To open a file for reading in Python, you use the built-in `open()` function. The `open()` function requires at least one argument: the path to the file you want to open. Optionally, you can specify the mode, but if you omit it, Python will default to 'r' mode for reading text.\n"
   ]
  },
  {
   "cell_type": "markdown",
   "metadata": {},
   "source": [
    "Here's a simple example of how to open a file:"
   ]
  },
  {
   "cell_type": "code",
   "execution_count": 1,
   "metadata": {},
   "outputs": [],
   "source": [
    "# Opening a file from the current directory\n",
    "file_path = 'files/example.txt'\n",
    "file = open(file_path, 'r')\n",
    "\n",
    "# Now we can read from the file\n",
    "content = file.read()\n",
    "\n",
    "# Always remember to close the file when you're done\n",
    "file.close()"
   ]
  },
  {
   "cell_type": "markdown",
   "metadata": {},
   "source": [
    "In the example above, we opened the file `example.txt` in read mode. After reading the content, we closed the file using the `file.close()` method. It's a good practice to close the file to free up system resources.\n"
   ]
  },
  {
   "cell_type": "markdown",
   "metadata": {},
   "source": [
    "However, there is a more Pythonic way of handling files that takes care of closing the file automatically:"
   ]
  },
  {
   "cell_type": "code",
   "execution_count": 2,
   "metadata": {},
   "outputs": [],
   "source": [
    "# Using 'with' to open a file ensures it gets closed automatically\n",
    "with open('files/example.txt', 'r') as file:\n",
    "    content = file.read()\n",
    "\n",
    "# At this point, the file is already closed"
   ]
  },
  {
   "cell_type": "markdown",
   "metadata": {},
   "source": [
    "By using the `with` statement, also known as a context manager, Python will close the file for you as soon as the block of code is exited, even if an error occurs within the block. This approach helps prevent bugs and leaks by ensuring that the file is properly closed.\n"
   ]
  },
  {
   "cell_type": "markdown",
   "metadata": {},
   "source": [
    "Now that you understand the basics of opening files for reading in 'r' mode, we will move on to reading the contents of the file in various ways."
   ]
  },
  {
   "cell_type": "markdown",
   "metadata": {},
   "source": [
    "## <a id='toc2_'></a>[The `read()`, `readline()`, and `readlines()` Methods](#toc0_)"
   ]
  },
  {
   "cell_type": "markdown",
   "metadata": {},
   "source": [
    "Python provides multiple methods for reading content from text files, each serving a different purpose depending on your needs.\n"
   ]
  },
  {
   "cell_type": "markdown",
   "metadata": {},
   "source": [
    "### <a id='toc2_1_'></a>[The `read()` Method](#toc0_)\n"
   ]
  },
  {
   "cell_type": "markdown",
   "metadata": {},
   "source": [
    "The `read()` method is used to read the entire content of a file into a single string. When you call this method without any arguments, it reads everything from the current file position to the end of the file. If you provide an argument, you can specify the number of characters you want to read.\n"
   ]
  },
  {
   "cell_type": "markdown",
   "metadata": {},
   "source": [
    "Here's an example of using the `read()` method:\n"
   ]
  },
  {
   "cell_type": "code",
   "execution_count": 3,
   "metadata": {},
   "outputs": [
    {
     "name": "stdout",
     "output_type": "stream",
     "text": [
      "Welcome to the world of programming!\n",
      "\n",
      "Let's dive into the world of Python file handling and unleash the power of programming!\n",
      "\n"
     ]
    }
   ],
   "source": [
    "with open('files/example.txt', 'r') as file:\n",
    "    content = file.read()\n",
    "    print(content)"
   ]
  },
  {
   "cell_type": "markdown",
   "metadata": {},
   "source": [
    "In this code snippet, `content` will contain the entire contents of `example.txt`. Keep in mind that if the file is large, reading the entire file at once may consume a significant amount of memory.\n"
   ]
  },
  {
   "cell_type": "markdown",
   "metadata": {},
   "source": [
    "### <a id='toc2_2_'></a>[The `readline()` Method](#toc0_)\n"
   ]
  },
  {
   "cell_type": "markdown",
   "metadata": {},
   "source": [
    "The `readline()` method reads a single line from the file. A line is defined as a sequence of characters ending with a newline character (`\\n`). If the end of the file has been reached, `readline()` will return an empty string (`''`).\n"
   ]
  },
  {
   "cell_type": "markdown",
   "metadata": {},
   "source": [
    "Here's how to use `readline()`:\n"
   ]
  },
  {
   "cell_type": "code",
   "execution_count": 4,
   "metadata": {},
   "outputs": [
    {
     "name": "stdout",
     "output_type": "stream",
     "text": [
      "Welcome to the world of programming!\n",
      "\n",
      "Let's dive into the world of Python file handling and unleash the power of programming!\n"
     ]
    }
   ],
   "source": [
    "with open('files/example.txt', 'r') as file:\n",
    "    line = file.readline()\n",
    "    while line:\n",
    "        print(line, end='')  # The 'end' parameter prevents adding extra newlines\n",
    "        line = file.readline()"
   ]
  },
  {
   "cell_type": "markdown",
   "metadata": {},
   "source": [
    "This approach is useful when you're interested in processing a file line by line, which can be more memory-efficient than reading the entire file at once.\n"
   ]
  },
  {
   "cell_type": "markdown",
   "metadata": {},
   "source": [
    "### <a id='toc2_3_'></a>[The `readlines()` Method](#toc0_)\n"
   ]
  },
  {
   "cell_type": "markdown",
   "metadata": {},
   "source": [
    "When you want to read all the lines of a file and store them as a list, you can use the `readlines()` method. Each element in the returned list represents a line in the file, including the newline character at the end.\n"
   ]
  },
  {
   "cell_type": "markdown",
   "metadata": {},
   "source": [
    "Here's an example of using `readlines()`:\n"
   ]
  },
  {
   "cell_type": "code",
   "execution_count": 5,
   "metadata": {},
   "outputs": [
    {
     "name": "stdout",
     "output_type": "stream",
     "text": [
      "Welcome to the world of programming!\n",
      "\n",
      "Let's dive into the world of Python file handling and unleash the power of programming!\n"
     ]
    }
   ],
   "source": [
    "with open('files/example.txt', 'r') as file:\n",
    "    lines = file.readlines()\n",
    "\n",
    "# Now 'lines' is a list where each element is a line from 'example.txt'\n",
    "for line in lines:\n",
    "    print(line, end='')"
   ]
  },
  {
   "cell_type": "markdown",
   "metadata": {},
   "source": [
    "Using `readlines()` is particularly handy when you want to quickly read all lines and perhaps iterate over them multiple times. However, just like with `read()`, it's important to be cautious with large files, as all lines will be loaded into memory.\n"
   ]
  },
  {
   "cell_type": "markdown",
   "metadata": {},
   "source": [
    "Each of these methods has its use cases, and understanding them will allow you to choose the most suitable one for your file processing tasks. In the next section, we will explore how to efficiently iterate over a file object to read line by line."
   ]
  },
  {
   "cell_type": "markdown",
   "metadata": {},
   "source": [
    "## <a id='toc3_'></a>[Iterating Over File Objects Line by Line](#toc0_)"
   ]
  },
  {
   "cell_type": "markdown",
   "metadata": {},
   "source": [
    "One of the most common tasks when working with files is processing text data line by line. Python provides a convenient and efficient way to do this by treating file objects as iterables in a `for` loop. This approach automatically reads each line one after the other without loading the entire file into memory.\n"
   ]
  },
  {
   "cell_type": "markdown",
   "metadata": {},
   "source": [
    "Here's the recommended way to iterate over a file line by line:\n"
   ]
  },
  {
   "cell_type": "code",
   "execution_count": 6,
   "metadata": {},
   "outputs": [
    {
     "name": "stdout",
     "output_type": "stream",
     "text": [
      "Welcome to the world of programming!\n",
      "\n",
      "Let's dive into the world of Python file handling and unleash the power of programming!\n"
     ]
    }
   ],
   "source": [
    "with open('files/example.txt', 'r') as file:\n",
    "    for line in file:\n",
    "        print(line, end='')"
   ]
  },
  {
   "cell_type": "markdown",
   "metadata": {},
   "source": [
    "In this code snippet, the `for` loop reads each line sequentially. The `line` variable contains the text of the current line, including the trailing newline character. The `end=''` parameter in the `print` function is used to avoid adding an extra newline, as the `line` already includes one at the end.\n"
   ]
  },
  {
   "cell_type": "markdown",
   "metadata": {},
   "source": [
    "### <a id='toc3_1_'></a>[Efficiency Benefits](#toc0_)\n"
   ]
  },
  {
   "cell_type": "markdown",
   "metadata": {},
   "source": [
    "Iterating over a file object line by line is memory efficient because it reads one line at a time, processes it, and then discards it before moving on to the next line. This means that no matter the size of the file, the memory footprint remains small, allowing you to work with very large files without running into memory constraints.\n"
   ]
  },
  {
   "cell_type": "markdown",
   "metadata": {},
   "source": [
    "This method is also time-efficient, as it starts processing the file immediately without waiting for the entire file to be read. It is especially beneficial when you are searching for specific information or when only a part of the file is relevant to your task.\n"
   ]
  },
  {
   "cell_type": "markdown",
   "metadata": {},
   "source": [
    "In contrast, methods like `read()` or `readlines()` that read the entire file content at once can lead to high memory usage, which might be impractical for large files and could potentially slow down your program or even cause it to crash if the system runs out of memory.\n"
   ]
  },
  {
   "cell_type": "markdown",
   "metadata": {},
   "source": [
    "When using line-by-line iteration, it's also easier to handle large files in a way that's robust against interruptions. For example, you could process each line and immediately write the results to another file or database, which means that even if the program is stopped, you don't lose all of your progress and can resume processing from the last line read.\n"
   ]
  },
  {
   "cell_type": "markdown",
   "metadata": {},
   "source": [
    "By adhering to this best practice, you ensure that your file processing scripts are more scalable and can handle a wide range of file sizes efficiently. In the next sections, we will look at other aspects of file handling, such as dealing with file paths and managing exceptions."
   ]
  },
  {
   "cell_type": "markdown",
   "metadata": {},
   "source": [
    "## <a id='toc4_'></a>[Working with File Paths (Absolute vs. Relative)](#toc0_)"
   ]
  },
  {
   "cell_type": "markdown",
   "metadata": {},
   "source": [
    "Before we delve into the practicalities of file paths, it's important to note that we'll be using certain Python capabilities like modules and object-oriented programming. These are powerful features of Python that allow us to write more organized and reusable code. We will explore modules and OOP in greater depth after you've mastered the basics, but for now, let's focus on how they can help us with handling file paths.\n"
   ]
  },
  {
   "cell_type": "markdown",
   "metadata": {},
   "source": [
    "#### <a id='toc4_1_1_'></a>[Understanding File Paths](#toc0_)\n"
   ]
  },
  {
   "cell_type": "markdown",
   "metadata": {},
   "source": [
    "In Python programming, the way you specify the location of a file is through a file path. There are two types of file paths that you'll commonly work with:\n",
    "\n",
    "- **Absolute File Paths:**\n",
    "    - An absolute path is the full address of a file or a folder, starting from the root of the filesystem all the way to the target file or directory. It is independent of the current working directory, which means it doesn't change no matter where your script is running from.\n",
    "\n",
    "- **Relative File Paths:**\n",
    "    - In contrast, a relative path describes the location of a file relative to the current working directory of the script. It's often shorter and more convenient when your files are organized in a known structure.\n"
   ]
  },
  {
   "cell_type": "markdown",
   "metadata": {},
   "source": [
    "#### <a id='toc4_1_2_'></a>[Platform-Independent File Paths](#toc0_)\n"
   ]
  },
  {
   "cell_type": "markdown",
   "metadata": {},
   "source": [
    "<img src=\"./images/file-path-windows-linux.png\" width=\"600\">"
   ]
  },
  {
   "cell_type": "markdown",
   "metadata": {},
   "source": [
    "Given the differences between operating systems in how file paths are structured (like the use of different directory separators), Python provides tools to handle file paths in a way that works consistently across Windows, macOS, and Linux.\n"
   ]
  },
  {
   "cell_type": "markdown",
   "metadata": {},
   "source": [
    "For now, we'll use the `os.path` module, which allows us to work with file paths in a platform-independent way. The `os.path.join()` function is particularly useful for creating paths by joining names in a way that is correct for the operating system you are using:\n"
   ]
  },
  {
   "cell_type": "code",
   "execution_count": 7,
   "metadata": {},
   "outputs": [
    {
     "name": "stdout",
     "output_type": "stream",
     "text": [
      "folder/subfolder/example.txt\n"
     ]
    }
   ],
   "source": [
    "import os\n",
    "\n",
    "file_path = os.path.join('folder', 'subfolder', 'example.txt')\n",
    "print(file_path)  # Outputs a path that is appropriate for the OS"
   ]
  },
  {
   "cell_type": "markdown",
   "metadata": {},
   "source": [
    "Later in the course, once we've covered OOP and modules, we’ll revisit file paths and explore the `pathlib` module, which provides an OOP approach to handle filesystem paths. For now, remember that these tools are available for you to use and will be explained in more detail as you advance in your Python journey.\n"
   ]
  },
  {
   "cell_type": "markdown",
   "metadata": {},
   "source": [
    "In the upcoming sections, we'll continue to build on your file handling skills, preparing you for more complex programming tasks."
   ]
  },
  {
   "cell_type": "markdown",
   "metadata": {},
   "source": [
    "<img src=\"../images/exercise-banner.gif\" width=\"800\">"
   ]
  },
  {
   "cell_type": "markdown",
   "metadata": {},
   "source": [
    "## <a id='toc5_'></a>[Exercise: Exploring File Reading Techniques in Python](#toc0_)"
   ]
  },
  {
   "cell_type": "markdown",
   "metadata": {},
   "source": [
    "In this exercise, you will practice reading from text files using various methods and techniques introduced in Lecture 2: Reading from Files. You'll work with a sample text file to understand the different modes of file reading, master the use of file reading methods, and manage file paths effectively.\n"
   ]
  },
  {
   "cell_type": "markdown",
   "metadata": {},
   "source": [
    "**Given Sample File: `sample.txt`**\n",
    "Assume you have a text file named `sample.txt` with the following content:\n",
    "\n",
    "```sh\n",
    "Welcome to Python file reading.\n",
    "This is the second line.\n",
    "Here is the third line.\n",
    "End of the file.\n",
    "```\n"
   ]
  },
  {
   "cell_type": "markdown",
   "metadata": {},
   "source": [
    "**Tasks:**\n",
    "\n",
    "1. **Read Entire File Content**:\n",
    "   Write a Python script to open `sample.txt` in read mode and use the `read()` method to read the entire file content. Print the content and handle any exceptions that might occur.\n",
    "\n",
    "2. **Read File Line by Line**:\n",
    "   Modify your script to open `sample.txt` and use the `readline()` method in a loop to read each line one at a time. Print each line as it is read, and ensure all lines are read from the file.\n",
    "\n",
    "3. **Read All Lines into a List**:\n",
    "   Adjust your script to open `sample.txt` and use the `readlines()` method to read all lines into a list. Then, iterate over the list and print each line with its line number (starting from 1).\n",
    "\n",
    "4. **Efficient Line-by-Line Iteration**:\n",
    "   Use a `for` loop to iterate over the file object and read `sample.txt` line by line efficiently. Print each line, preceded by the line number.\n",
    "\n",
    "5. **Bonus: Working with Different File Paths**:\n",
    "   Modify your script to prompt the user for a file path to read from. Ensure that your script handles the case when the file at the given path does not exist by printing a friendly error message.\n"
   ]
  },
  {
   "cell_type": "markdown",
   "metadata": {},
   "source": [
    "**Sample Output for Tasks 3 and 4:**\n",
    "```sh\n",
    "1: Welcome to Python file reading.\n",
    "2: This is the second line.\n",
    "3: Here is the third line.\n",
    "4: End of the file.\n",
    "```\n"
   ]
  },
  {
   "cell_type": "markdown",
   "metadata": {},
   "source": [
    "Remember to use exception handling to gracefully handle scenarios where the file might not exist or other errors occur during file operations. This exercise will solidify your understanding of file reading techniques in Python, preparing you to work with file data in your future programming projects."
   ]
  },
  {
   "cell_type": "markdown",
   "metadata": {},
   "source": [
    "### <a id='toc5_1_'></a>[Solution](#toc0_)"
   ]
  },
  {
   "cell_type": "markdown",
   "metadata": {},
   "source": [
    "Here's the solution for the exercise, which includes reading a file using different methods in Python. The code includes exception handling and user input for the bonus task."
   ]
  },
  {
   "cell_type": "code",
   "execution_count": 8,
   "metadata": {},
   "outputs": [
    {
     "name": "stdout",
     "output_type": "stream",
     "text": [
      "Welcome to the world of programming!\n",
      "\n",
      "Let's dive into the world of Python file handling and unleash the power of programming!\n",
      "\n"
     ]
    }
   ],
   "source": [
    "# Task 1: Read Entire File Content\n",
    "with open('files/example.txt', 'r') as file:\n",
    "    content = file.read()\n",
    "print(content)\n"
   ]
  },
  {
   "cell_type": "code",
   "execution_count": 9,
   "metadata": {},
   "outputs": [
    {
     "name": "stdout",
     "output_type": "stream",
     "text": [
      "Welcome to the world of programming!\n",
      "\n",
      "Let's dive into the world of Python file handling and unleash the power of programming!\n"
     ]
    }
   ],
   "source": [
    "# Task 2: Read File Line by Line\n",
    "with open('files/example.txt', 'r') as file:\n",
    "    while True:\n",
    "        line = file.readline()\n",
    "        if not line:\n",
    "            break\n",
    "        print(line.strip())\n"
   ]
  },
  {
   "cell_type": "code",
   "execution_count": 10,
   "metadata": {},
   "outputs": [
    {
     "name": "stdout",
     "output_type": "stream",
     "text": [
      "1: Welcome to the world of programming!\n",
      "2: \n",
      "3: Let's dive into the world of Python file handling and unleash the power of programming!\n"
     ]
    }
   ],
   "source": [
    "# Task 3: Read All Lines into a List\n",
    "with open('files/example.txt', 'r') as file:\n",
    "    lines = file.readlines()\n",
    "for index, line in enumerate(lines, start=1):\n",
    "    print(f\"{index}: {line.strip()}\")\n"
   ]
  },
  {
   "cell_type": "code",
   "execution_count": 11,
   "metadata": {},
   "outputs": [
    {
     "name": "stdout",
     "output_type": "stream",
     "text": [
      "1: Welcome to the world of programming!\n",
      "2: \n",
      "3: Let's dive into the world of Python file handling and unleash the power of programming!\n"
     ]
    }
   ],
   "source": [
    "# Task 4: Efficient Line-by-Line Iteration\n",
    "with open('files/example.txt', 'r') as file:\n",
    "    for index, line in enumerate(file, start=1):\n",
    "        print(f\"{index}: {line.strip()}\")"
   ]
  },
  {
   "cell_type": "code",
   "execution_count": 12,
   "metadata": {},
   "outputs": [
    {
     "name": "stdout",
     "output_type": "stream",
     "text": [
      "Reading from files/example.txt\n",
      "1: Welcome to the world of programming!\n",
      "2: \n",
      "3: Let's dive into the world of Python file handling and unleash the power of programming!\n"
     ]
    }
   ],
   "source": [
    "# Bonus: Working with Different File Paths\n",
    "file_path = input(\"Please enter the path to the file: \")\n",
    "print(f\"Reading from {file_path}\")\n",
    "\n",
    "with open(file_path, 'r') as file:\n",
    "    for index, line in enumerate(file, start=1):\n",
    "        print(f\"{index}: {line.strip()}\")\n"
   ]
  },
  {
   "cell_type": "markdown",
   "metadata": {},
   "source": [
    "This code should be run in a Python environment where the `sample.txt` file exists in the same directory as the script. The user will be prompted to enter a file path for the bonus task. The solution demonstrates different ways to read from text files, along with best practices for handling exceptions and iterating over file contents in Python."
   ]
  }
 ],
 "metadata": {
  "kernelspec": {
   "display_name": "py310",
   "language": "python",
   "name": "python3"
  },
  "language_info": {
   "codemirror_mode": {
    "name": "ipython",
    "version": 3
   },
   "file_extension": ".py",
   "mimetype": "text/x-python",
   "name": "python",
   "nbconvert_exporter": "python",
   "pygments_lexer": "ipython3",
   "version": "3.10.12"
  }
 },
 "nbformat": 4,
 "nbformat_minor": 2
}
