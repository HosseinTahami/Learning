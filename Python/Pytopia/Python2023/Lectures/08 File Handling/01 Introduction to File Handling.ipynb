{
 "cells": [
  {
   "cell_type": "markdown",
   "metadata": {},
   "source": [
    "<img src=\"./images/banner.png\" width=\"800\">"
   ]
  },
  {
   "cell_type": "markdown",
   "metadata": {},
   "source": [
    "# Introduction to File Handling in Python"
   ]
  },
  {
   "cell_type": "markdown",
   "metadata": {},
   "source": [
    "Welcome to the first lecture on File Handling in Python! File handling is an essential aspect of programming as it allows you to store and retrieve data from one of the most basic and permanent storage forms: the file system. Whether you're dealing with configuration files, data analysis, or simply need to persist information between sessions, understanding how to read from and write to files is fundamental.\n"
   ]
  },
  {
   "cell_type": "markdown",
   "metadata": {},
   "source": [
    "In Python, file handling is straightforward and can be done with a minimal amount of code. By mastering file operations, you'll be able to create logs, export/import data in various formats (like CSV, JSON, XML), and work with media files like images and audio. This lecture will introduce you to the basic concepts of file handling, including opening and closing files, reading from files, and writing to files.\n"
   ]
  },
  {
   "cell_type": "markdown",
   "metadata": {},
   "source": [
    "By the end of this lecture, you should be able to:\n",
    "\n",
    "- Understand what files are and why they're important in programming.\n",
    "- Recognize various file operations and when to use them.\n",
    "- Open and close files using Python's built-in functions.\n",
    "- Read from and write to files in both text and binary formats.\n",
    "- Use the `with` statement to handle files safely and efficiently.\n"
   ]
  },
  {
   "cell_type": "markdown",
   "metadata": {},
   "source": [
    "Let's embark on this journey to unlock the power of file handling in your Python programs!"
   ]
  },
  {
   "cell_type": "markdown",
   "metadata": {},
   "source": [
    "**Table of contents**<a id='toc0_'></a>    \n",
    "- [What are files?](#toc1_)    \n",
    "  - [Text Files](#toc1_1_)    \n",
    "  - [Binary Files](#toc1_2_)    \n",
    "- [Why is file handling important?](#toc2_)    \n",
    "- [Basic file handling operations](#toc3_)    \n",
    "  - [Open](#toc3_1_)    \n",
    "  - [Read](#toc3_2_)    \n",
    "  - [Write](#toc3_3_)    \n",
    "  - [Close](#toc3_4_)    \n",
    "  - [Opening a file in Python](#toc3_5_)    \n",
    "- [The `open()` function and its modes](#toc4_)    \n",
    "  - [Code examples showing how to open files in different modes](#toc4_1_)    \n",
    "- [Text files vs. binary files](#toc5_)    \n",
    "  - [Use cases for each type](#toc5_1_)    \n",
    "- [The importance of closing files and using `with` statements for safety](#toc6_)    \n",
    "  - [Introduction to the `with` statement and context managers](#toc6_1_)    \n",
    "- [Practice Exercise](#toc7_)    \n",
    "  - [Solution](#toc7_1_)    \n",
    "\n",
    "<!-- vscode-jupyter-toc-config\n",
    "\tnumbering=false\n",
    "\tanchor=true\n",
    "\tflat=false\n",
    "\tminLevel=2\n",
    "\tmaxLevel=6\n",
    "\t/vscode-jupyter-toc-config -->\n",
    "<!-- THIS CELL WILL BE REPLACED ON TOC UPDATE. DO NOT WRITE YOUR TEXT IN THIS CELL -->"
   ]
  },
  {
   "cell_type": "markdown",
   "metadata": {},
   "source": [
    "## <a id='toc1_'></a>[What are files?](#toc0_)"
   ]
  },
  {
   "cell_type": "markdown",
   "metadata": {},
   "source": [
    "A file is a collection of data stored in a non-volatile storage medium, typically on a computer's hard drive, SSD, USB flash drive, or other persistent storage devices. In computing, files are used to organize and store information so that it's easily accessible and modifiable. They are identified by their names, which include a file name and sometimes an extension that indicates the file type."
   ]
  },
  {
   "cell_type": "markdown",
   "metadata": {},
   "source": [
    "Files are as diverse as the data they contain, and they can include a wide range of content such as documents, spreadsheets, images, videos, executable programs, and more. For example, a `.docx` file represents a document created in Microsoft Word, while a `.png` file indicates an image saved in the Portable Network Graphics format.\n"
   ]
  },
  {
   "cell_type": "markdown",
   "metadata": {},
   "source": [
    "Files can generally be categorized into two types: text files and binary files.\n"
   ]
  },
  {
   "cell_type": "markdown",
   "metadata": {},
   "source": [
    "### <a id='toc1_1_'></a>[Text Files](#toc0_)"
   ]
  },
  {
   "cell_type": "markdown",
   "metadata": {},
   "source": [
    "Text files contain data that is human-readable. They consist of a sequence of characters that can be opened and interpreted by text editors. Examples of text files include:\n",
    "\n",
    "- `.txt`: A plain text file with no formatting.\n",
    "- `.py`: A Python script file containing source code.\n",
    "- `.html` or `.css`: Files containing markup and styling information for web pages.\n",
    "- `.csv`: Comma-separated values file, often used for representing tabular data.\n"
   ]
  },
  {
   "cell_type": "markdown",
   "metadata": {},
   "source": [
    "> Text files usually have a character encoding, such as ASCII or UTF-8, which dictates how the bytes in the file are translated into characters. You will learn more about character encoding in the advanced topics.\n"
   ]
  },
  {
   "cell_type": "markdown",
   "metadata": {},
   "source": [
    "### <a id='toc1_2_'></a>[Binary Files](#toc0_)"
   ]
  },
  {
   "cell_type": "markdown",
   "metadata": {},
   "source": [
    "Binary files, on the other hand, contain data in a format that is not meant to be directly interpreted as text. They can store a wide variety of data types, ranging from compiled programs to images and music. Binary files are read by programs that understand the specific file format and can convert the binary data into a usable form. Examples of binary files include:\n",
    "\n",
    "- `.exe`: An executable file that contains a program.\n",
    "- `.jpg` or `.gif`: Files containing compressed image data.\n",
    "- `.mp3`: A file format for compressed audio.\n",
    "- `.pdf`: A file format for documents that preserves formatting across different platforms.\n"
   ]
  },
  {
   "cell_type": "markdown",
   "metadata": {},
   "source": [
    "Binary files are typically more efficient for storing complex data because they use all available byte values, which allows for a more compact representation of the content.\n"
   ]
  },
  {
   "cell_type": "markdown",
   "metadata": {},
   "source": [
    "Understanding the difference between text and binary files is crucial for handling them correctly in Python, as you'll need to specify the correct mode when opening them."
   ]
  },
  {
   "cell_type": "markdown",
   "metadata": {},
   "source": [
    "<img src=\"./images/encode-decode.png\" width=\"400\">"
   ]
  },
  {
   "cell_type": "markdown",
   "metadata": {},
   "source": [
    "## <a id='toc2_'></a>[Why is file handling important?](#toc0_)"
   ]
  },
  {
   "cell_type": "markdown",
   "metadata": {},
   "source": [
    "File handling is a vital skill for any programmer because files are one of the primary means through which data is stored, retrieved, and exchanged. Being able to manipulate files enables a program to persist data beyond the lifetime of the process and to interact with the data storage systems used by both individuals and organizations.\n"
   ]
  },
  {
   "cell_type": "markdown",
   "metadata": {},
   "source": [
    "The applications of file handling are virtually limitless, but here are some common real-world scenarios where file handling is essential:\n",
    "\n",
    "- **Data storage and retrieval**: Files serve as the fundamental units for storing data, such as user settings, application logs, or game saves. Accessing and updating these files is a routine part of software operation.\n",
    "- **Data analysis**: Data scientists and analysts often work with large datasets stored in files. They need to read, process, and analyze data from various file formats like CSV, JSON, or Excel spreadsheets.\n",
    "- **Content creation**: Applications like word processors, photo editors, and video editing software rely on file operations to open, save, and modify content.\n",
    "- **Configuration**: Many applications use files (e.g., `.ini`, `.conf`, `.json`) to store configuration settings that can be maintained across sessions and modified without changing the application code.\n",
    "- **Inter-process communication**: Files can act as a medium for communication between different processes or systems, where one process writes to a file and another reads from it.\n"
   ]
  },
  {
   "cell_type": "markdown",
   "metadata": {},
   "source": [
    "Improper file handling can lead to several problems, including:\n",
    "\n",
    "- **Data loss**: Failing to handle files correctly can result in the loss of critical data, either by not saving changes properly or by overwriting important information.\n",
    "- **Data corruption**: Opening and writing to files without proper error checking or in incorrect modes can lead to corrupted files that cannot be used or opened.\n",
    "- **Security vulnerabilities**: Insecure file handling can expose systems to security risks such as unauthorized access, data breaches, or execution of malicious code.\n",
    "- **Resource leakage**: Not closing files properly can lead to resource leaks, where file descriptors remain open and consume system resources, potentially leading to performance issues or crashes.\n",
    "- **Inconsistencies**: Without proper transactional mechanisms or checks, concurrent access to files can cause inconsistencies in the data, resulting in unreliable system behavior.\n",
    "- **Portability issues**: Ignoring platform-specific differences in file handling, such as path formats or newline characters, can lead to cross-platform compatibility issues.\n"
   ]
  },
  {
   "cell_type": "markdown",
   "metadata": {},
   "source": [
    "Mastering file handling means understanding how to avoid these pitfalls by implementing robust, secure, and efficient code that reliably manages files across different environments and use cases.\n"
   ]
  },
  {
   "cell_type": "markdown",
   "metadata": {},
   "source": [
    "## <a id='toc3_'></a>[Basic file handling operations](#toc0_)"
   ]
  },
  {
   "cell_type": "markdown",
   "metadata": {},
   "source": [
    "In Python, the basic file handling operations are opening a file, reading from it, writing to it, and finally closing it. Each of these operations is facilitated by built-in functions and methods that Python provides.\n"
   ]
  },
  {
   "cell_type": "markdown",
   "metadata": {},
   "source": [
    "### <a id='toc3_1_'></a>[Open](#toc0_)"
   ]
  },
  {
   "cell_type": "markdown",
   "metadata": {},
   "source": [
    "The `open()` function is the key to file handling in Python. It allows you to open a file and returns a file object, which then can be used to read from or write to the file. The syntax is as follows:\n"
   ]
  },
  {
   "cell_type": "markdown",
   "metadata": {},
   "source": [
    "```python\n",
    "file_object = open(file_name, mode)\n",
    "```"
   ]
  },
  {
   "cell_type": "markdown",
   "metadata": {},
   "source": [
    "- `file_name`: The name (and path) of the file you want to open.\n",
    "- `mode`: The mode in which the file should be opened, e.g., `'r'` for reading, `'w'` for writing, `'a'` for appending, and `'b'` for binary mode.\n"
   ]
  },
  {
   "cell_type": "markdown",
   "metadata": {},
   "source": [
    "### <a id='toc3_2_'></a>[Read](#toc0_)"
   ]
  },
  {
   "cell_type": "markdown",
   "metadata": {},
   "source": [
    "Once a file is opened in read mode (`'r'`), you can read its contents using methods like:\n",
    "\n",
    "- `read(size)`: Reads and returns the file's content up to `size` bytes or characters. If `size` is omitted or negative, the entire content of the file will be read.\n",
    "- `readline()`: Reads and returns one line from the file.\n",
    "- `readlines()`: Reads and returns a list of lines from the file.\n"
   ]
  },
  {
   "cell_type": "markdown",
   "metadata": {},
   "source": [
    "### <a id='toc3_3_'></a>[Write](#toc0_)"
   ]
  },
  {
   "cell_type": "markdown",
   "metadata": {},
   "source": [
    "To write to a file, you first open it in write (`'w'`) or append (`'a'`) mode. Then you can use the following methods:\n",
    "\n",
    "- `write(string)`: Writes the string to the file.\n",
    "- `writelines(list_of_strings)`: Writes a list of strings to the file.\n"
   ]
  },
  {
   "cell_type": "markdown",
   "metadata": {},
   "source": [
    "Note that opening a file in write mode will create a new file if it does not exist or truncate it (make it empty) if it does.\n"
   ]
  },
  {
   "cell_type": "markdown",
   "metadata": {},
   "source": [
    "### <a id='toc3_4_'></a>[Close](#toc0_)"
   ]
  },
  {
   "cell_type": "markdown",
   "metadata": {},
   "source": [
    "After you're done with a file, it is good practice to close it using the `close()` method:\n"
   ]
  },
  {
   "cell_type": "markdown",
   "metadata": {},
   "source": [
    "```python\n",
    "file_object.close()\n",
    "```\n"
   ]
  },
  {
   "cell_type": "markdown",
   "metadata": {},
   "source": [
    "Closing a file frees up the system resources associated with it and ensures that all buffered operations are carried out before the file is closed.\n"
   ]
  },
  {
   "cell_type": "markdown",
   "metadata": {},
   "source": [
    "### <a id='toc3_5_'></a>[Opening a file in Python](#toc0_)\n"
   ]
  },
  {
   "cell_type": "markdown",
   "metadata": {},
   "source": [
    "Here is a simple demonstration of opening a file, reading from it, and then closing it:\n"
   ]
  },
  {
   "cell_type": "code",
   "execution_count": 1,
   "metadata": {},
   "outputs": [
    {
     "name": "stdout",
     "output_type": "stream",
     "text": [
      "Welcome to the world of programming!\n",
      "\n",
      "Let's dive into the world of Python file handling and unleash the power of programming!\n",
      "\n"
     ]
    }
   ],
   "source": [
    "# Open a file in read mode\n",
    "file_object = open('files/example.txt', 'r')\n",
    "\n",
    "# Read the content of the file\n",
    "content = file_object.read()\n",
    "\n",
    "# Print the content\n",
    "print(content)\n",
    "\n",
    "# Close the file\n",
    "file_object.close()"
   ]
  },
  {
   "cell_type": "markdown",
   "metadata": {},
   "source": [
    "However, it is recommended to handle files using the `with` statement, as it ensures that the file is closed automatically when the block is exited, even if an error occurs:\n"
   ]
  },
  {
   "cell_type": "markdown",
   "metadata": {},
   "source": [
    "```python\n",
    "# Using with statement to open and read a file\n",
    "with open('example.txt', 'r') as file_object:\n",
    "    content = file_object.read()\n",
    "    print(content)\n",
    "# No need to explicitly close the file; it's automatically done by the with statement.\n",
    "```\n"
   ]
  },
  {
   "cell_type": "markdown",
   "metadata": {},
   "source": [
    "Using the `with` statement is a best practice in Python file handling because it helps prevent some common errors such as forgetting to close a file."
   ]
  },
  {
   "cell_type": "markdown",
   "metadata": {},
   "source": [
    "## <a id='toc4_'></a>[The `open()` function and its modes](#toc0_)"
   ]
  },
  {
   "cell_type": "markdown",
   "metadata": {},
   "source": [
    "The `open()` function in Python is the gateway to file manipulation, allowing you to specify exactly how you'd like to interact with a file. Depending on your needs, you can choose from several different modes when opening a file.\n"
   ]
  },
  {
   "cell_type": "markdown",
   "metadata": {},
   "source": [
    "Here's a list of the most commonly used modes:\n",
    "\n",
    "- `'r'`: Read mode. This is the default mode for `open()`. It allows you to read from a file. If the file does not exist, it raises an `IOError`.\n",
    "- `'w'`: Write mode. This mode is used for writing to a file. If the file exists, it will be overwritten. If the file does not exist, it will be created.\n",
    "- `'a'`: Append mode. This mode is used to add content to the end of the file. If the file does not exist, it will be created.\n",
    "- `'r+'`: Read/Write mode. This mode allows you to read from and write to the same file. If the file does not exist, it raises an `IOError`.\n",
    "- `'w+'`: Write/Read mode. Similar to `'r+'`, but if the file exists, it will be overwritten; otherwise, it will be created.\n",
    "- `'a+'`: Append/Read mode. This mode allows you to read from and append to a file. If the file does not exist, it will be created.\n"
   ]
  },
  {
   "cell_type": "markdown",
   "metadata": {},
   "source": [
    "Each mode can also be combined with `'b'` to open files in binary mode:\n",
    "\n",
    "- `'rb'`, `'wb'`, `'ab'`, `'r+b'`, `'w+b'`, `'a+b'`\n"
   ]
  },
  {
   "cell_type": "markdown",
   "metadata": {},
   "source": [
    "Binary mode is used for files that contain binary data, such as images or executable files.\n"
   ]
  },
  {
   "cell_type": "markdown",
   "metadata": {},
   "source": [
    "### <a id='toc4_1_'></a>[Code examples showing how to open files in different modes](#toc0_)\n"
   ]
  },
  {
   "cell_type": "markdown",
   "metadata": {},
   "source": [
    "- **Opening a file for reading (`'r'`)**"
   ]
  },
  {
   "cell_type": "code",
   "execution_count": 2,
   "metadata": {},
   "outputs": [
    {
     "name": "stdout",
     "output_type": "stream",
     "text": [
      "Welcome to the world of programming!\n",
      "\n",
      "Let's dive into the world of Python file handling and unleash the power of programming!\n",
      "\n"
     ]
    }
   ],
   "source": [
    "# Open a text file for reading\n",
    "with open('files/example.txt', 'r') as file:\n",
    "    content = file.read()\n",
    "    print(content)"
   ]
  },
  {
   "cell_type": "markdown",
   "metadata": {},
   "source": [
    "- **Opening a file for writing (`'w'`)**"
   ]
  },
  {
   "cell_type": "code",
   "execution_count": 3,
   "metadata": {},
   "outputs": [],
   "source": [
    "# Open a text file for writing\n",
    "with open('files/write-example.txt', 'w') as file:\n",
    "    file.write('Hello, World!')\n"
   ]
  },
  {
   "cell_type": "markdown",
   "metadata": {},
   "source": [
    "- **Opening a file for appending (`'a'`)**"
   ]
  },
  {
   "cell_type": "code",
   "execution_count": 4,
   "metadata": {},
   "outputs": [],
   "source": [
    "# Append to a text file\n",
    "with open('files/write-example.txt', 'a') as file:\n",
    "    file.write('\\nAppend this line.')\n"
   ]
  },
  {
   "cell_type": "markdown",
   "metadata": {},
   "source": [
    "- **Opening a file for reading and writing (`'r+'`)**\n"
   ]
  },
  {
   "cell_type": "code",
   "execution_count": 5,
   "metadata": {},
   "outputs": [
    {
     "name": "stdout",
     "output_type": "stream",
     "text": [
      "Current content: Hello, World!\n",
      "Append this line.\n"
     ]
    }
   ],
   "source": [
    "# Open for reading and writing to a text file\n",
    "with open('files/write-example.txt', 'r+') as file:\n",
    "    content = file.read()\n",
    "    print('Current content:', content)\n",
    "    file.write('\\nAdd this new line.')\n"
   ]
  },
  {
   "cell_type": "markdown",
   "metadata": {},
   "source": [
    "- **Opening a file in binary mode (`'rb'`, `'wb'`)**\n"
   ]
  },
  {
   "cell_type": "code",
   "execution_count": 6,
   "metadata": {},
   "outputs": [],
   "source": [
    "# Read from a binary file\n",
    "with open('files/image.png', 'rb') as binary_file:\n",
    "    binary_content = binary_file.read()"
   ]
  },
  {
   "cell_type": "code",
   "execution_count": 7,
   "metadata": {},
   "outputs": [],
   "source": [
    "# Write to a binary file\n",
    "with open('files/output.jpg', 'wb') as binary_file:\n",
    "    binary_file.write(binary_content)"
   ]
  },
  {
   "cell_type": "markdown",
   "metadata": {},
   "source": [
    "Each mode has its specific use case, and choosing the right one is crucial for the task at hand. The `with` statement ensures that the file is properly closed after the block of code is executed, even if an error occurs within the block."
   ]
  },
  {
   "cell_type": "markdown",
   "metadata": {},
   "source": [
    "## <a id='toc5_'></a>[Text files vs. binary files](#toc0_)"
   ]
  },
  {
   "cell_type": "markdown",
   "metadata": {},
   "source": [
    "Understanding the difference between text and binary files is crucial when it comes to file handling in Python, as it affects how you open, read, and write files.\n"
   ]
  },
  {
   "cell_type": "markdown",
   "metadata": {},
   "source": [
    "**Text Files:**\n",
    "- **Content**: Text files contain human-readable characters like letters, numbers, and symbols.\n",
    "- **Encoding**: They are encoded using character encoding standards like ASCII or UTF-8, which map characters to byte representations.\n",
    "- **Line Endings**: Text files use line endings ('newline' characters) to signify the end of a line, and these can vary between operating systems (e.g., `\\n` for Unix/Linux, `\\r\\n` for Windows).\n",
    "- **Reading/Writing**: When reading from or writing to text files, Python handles the underlying character encoding and line ending conversions automatically.\n"
   ]
  },
  {
   "cell_type": "markdown",
   "metadata": {},
   "source": [
    "**Binary Files:**\n",
    "- **Content**: Binary files contain data in a format that is not intended to be human-readable, such as compiled code or media data.\n",
    "- **Encoding**: There is no character encoding for binary files; they are a byte-for-byte representation of data.\n",
    "- **Line Endings**: The concept of line endings does not apply to binary files.\n",
    "- **Reading/Writing**: When dealing with binary files, data is read or written as a sequence of bytes without any automatic conversions.\n"
   ]
  },
  {
   "cell_type": "markdown",
   "metadata": {},
   "source": [
    "### <a id='toc5_1_'></a>[Use cases for each type](#toc0_)\n"
   ]
  },
  {
   "cell_type": "markdown",
   "metadata": {},
   "source": [
    "Text files are typically used for storing data that is intended to be read or edited by humans, or data that is primarily composed of printable characters. Common use cases include:\n",
    "\n",
    "- **Configuration files**: Many applications use text files (e.g., `.ini`, `.cfg`, `.json`, `.yaml`) for configuration because they are easy to read and edit.\n",
    "- **Source code**: Programming languages are typically written in plain text, such as `.py` files for Python.\n",
    "- **Documentation**: Text files are used for READMEs, logs, or any form of textual documentation.\n",
    "- **Data interchange**: Formats like CSV, XML, and JSON are text-based and commonly used for exchanging data between applications and systems.\n"
   ]
  },
  {
   "cell_type": "markdown",
   "metadata": {},
   "source": [
    "Binary files are used when data needs to be stored in a compact and efficient format that is not intended for direct human interpretation. Common use cases include:\n",
    "\n",
    "- **Executable programs**: Compiled programs are stored in binary format with extensions like `.exe` on Windows.\n",
    "- **Media files**: Images (`.jpg`, `.png`), audio (`.mp3`, `.wav`), and video (`.mp4`, `.avi`) files are binary files that store media content in various compression formats.\n",
    "- **Databases**: Many database systems store their data in binary format for efficiency and speed.\n",
    "- **Serialization**: Objects and data structures can be serialized into a binary format for persistence or network transmission (e.g., Python's `pickle` module).\n"
   ]
  },
  {
   "cell_type": "markdown",
   "metadata": {},
   "source": [
    "When handling text and binary files in Python, it is essential to specify the appropriate mode when opening the file:\n",
    "\n",
    "- For text files, use `'r'`, `'w'`, `'a'`, or their variations.\n",
    "- For binary files, append `'b'` to the mode, such as `'rb'`, `'wb'`, or `'ab'`.\n"
   ]
  },
  {
   "cell_type": "markdown",
   "metadata": {},
   "source": [
    "By understanding the distinctions between text and binary files and their use cases, you can choose the right approach for file handling based on the requirements of your application."
   ]
  },
  {
   "cell_type": "markdown",
   "metadata": {},
   "source": [
    "## <a id='toc6_'></a>[The importance of closing files and using `with` statements for safety](#toc0_)"
   ]
  },
  {
   "cell_type": "markdown",
   "metadata": {},
   "source": [
    "Proper file management is a critical aspect of file handling in Python, which includes closing files after operations are completed and ensuring that resources are appropriately managed. This practice not only promotes code reliability and safety but also prevents potential issues related to resource leaks and data integrity.\n"
   ]
  },
  {
   "cell_type": "markdown",
   "metadata": {},
   "source": [
    "When you open a file in Python, it consumes system resources. Each opened file maintains a file descriptor that keeps track of the file's state and position. These resources are limited, and leaving files open unnecessarily can exhaust them, leading to a situation where no new files can be opened. Moreover, closing a file ensures that all the data is flushed from the buffer and written to disk, finalizing the content and preventing data loss or corruption.\n"
   ]
  },
  {
   "cell_type": "markdown",
   "metadata": {},
   "source": [
    "### <a id='toc6_1_'></a>[Introduction to the `with` statement and context managers](#toc0_)\n"
   ]
  },
  {
   "cell_type": "markdown",
   "metadata": {},
   "source": [
    "To make file handling safer and more convenient, Python provides the `with` statement, which is used to wrap the execution of a block of code. The `with` statement is associated with context managers that are designed to simplify the setup and teardown of resources.\n"
   ]
  },
  {
   "cell_type": "markdown",
   "metadata": {},
   "source": [
    "A context manager for file handling ensures that a file is automatically closed once the block of code is exited, even if an error occurs within the block. This is preferable to manually managing file objects with `try...finally` statements to ensure files are closed correctly.\n"
   ]
  },
  {
   "cell_type": "markdown",
   "metadata": {},
   "source": [
    "Here's an example of using the `with` statement when working with files:\n"
   ]
  },
  {
   "cell_type": "code",
   "execution_count": 8,
   "metadata": {},
   "outputs": [
    {
     "name": "stdout",
     "output_type": "stream",
     "text": [
      "Welcome to the world of programming!\n",
      "\n",
      "Let's dive into the world of Python file handling and unleash the power of programming!\n",
      "\n"
     ]
    }
   ],
   "source": [
    "# Using the with statement for opening and reading from a file\n",
    "with open('files/example.txt', 'r') as file:\n",
    "    content = file.read()\n",
    "    print(content)\n",
    "# No need to explicitly close the file; it's automatically done after the block is exited."
   ]
  },
  {
   "cell_type": "markdown",
   "metadata": {},
   "source": [
    "In this example, the `open()` function is used as a context manager, and the `with` statement ensures that `file.close()` is implicitly called at the end of the block. This approach not only makes the code cleaner and more readable but also reduces the risk of leaving files open accidentally.\n"
   ]
  },
  {
   "cell_type": "markdown",
   "metadata": {},
   "source": [
    "The `with` statement can also be used with other resources that require clean-up after use, such as network connections or database sessions. By employing context managers and the `with` statement, you can write more robust and error-resistant Python code."
   ]
  },
  {
   "cell_type": "markdown",
   "metadata": {},
   "source": [
    "<img src=\"../images/exercise-banner.gif\" width=\"800\">"
   ]
  },
  {
   "cell_type": "markdown",
   "metadata": {},
   "source": [
    "## <a id='toc7_'></a>[Practice Exercise](#toc0_)"
   ]
  },
  {
   "cell_type": "markdown",
   "metadata": {},
   "source": [
    "For this exercise, you will apply the concepts learned in the lecture by performing basic file handling operations in Python. You will work with text files and practice opening, reading, writing, and closing them, as well as using the `with` statement to handle files safely.\n"
   ]
  },
  {
   "cell_type": "markdown",
   "metadata": {},
   "source": [
    "**Tasks:**\n",
    "\n",
    "1. **Read from a Text File**:\n",
    "   Given a text file named `example.txt` with some content, write a Python script to open the file in read mode and print its contents to the console.\n",
    "\n",
    "2. **Write to a Text File**:\n",
    "   Create a new text file named `output.txt` and write multiple lines of text to it using Python. Then, reopen the file in read mode and print its contents to verify that the writing was successful.\n",
    "\n",
    "3. **Append to a Text File**:\n",
    "   Reopen the `output.txt` file in append mode and add a new line of text. After appending, read and print the entire file to see the updated contents.\n",
    "\n",
    "4. **Using the `with` Statement**:\n",
    "   Modify the previous tasks to use the `with` statement to ensure that the file is properly closed after the operations are completed.\n",
    "\n",
    "5. **Bonus: Type Hinting and Docstrings**:\n",
    "   Write a function that takes a file name and a mode as parameters, opens the file with the given mode, and prints its contents. Include a docstring that explains the function's purpose, parameters, and behavior. Also, use type hints to indicate the types of the parameters.\n"
   ]
  },
  {
   "cell_type": "markdown",
   "metadata": {},
   "source": [
    "**Sample Data for Task 1:**\n",
    "Create an `example.txt` file with the following content:\n",
    "```sh\n",
    "Hello, World!\n",
    "This is a sample text file.\n",
    "```\n"
   ]
  },
  {
   "cell_type": "markdown",
   "metadata": {},
   "source": [
    "**Expected Output for Task 1:**\n",
    "```sh\n",
    "Hello, World!\n",
    "This is a sample text file.\n",
    "```\n"
   ]
  },
  {
   "cell_type": "markdown",
   "metadata": {},
   "source": [
    "**Expected Output for Task 2 and 3:**\n",
    "```sh\n",
    "This is the first line.\n",
    "This is the second line.\n",
    "```\n",
    "(And after appending)\n",
    "```sh\n",
    "This is the first line.\n",
    "This is the second line.\n",
    "This is a new line added in append mode.\n",
    "```\n"
   ]
  },
  {
   "cell_type": "markdown",
   "metadata": {},
   "source": [
    "Use this exercise to practice file handling, ensuring that you understand how to work with files in Python and the significance of closing files or using the `with` statement to manage file resources. Additionally, the bonus task will help you get familiar with writing annotated functions and documenting them using docstrings."
   ]
  },
  {
   "cell_type": "markdown",
   "metadata": {},
   "source": [
    "### <a id='toc7_1_'></a>[Solution](#toc0_)"
   ]
  },
  {
   "cell_type": "markdown",
   "metadata": {},
   "source": [
    "Here's a solution for the file handling exercise, including the bonus task with type hints and docstrings:"
   ]
  },
  {
   "cell_type": "code",
   "execution_count": 9,
   "metadata": {},
   "outputs": [
    {
     "name": "stdout",
     "output_type": "stream",
     "text": [
      "Welcome to the world of programming!\n",
      "\n",
      "Let's dive into the world of Python file handling and unleash the power of programming!\n",
      "\n"
     ]
    }
   ],
   "source": [
    "# Task 1: Read from a Text File\n",
    "# Ensure you have a file named 'example.txt' with the provided sample data\n",
    "with open('files/example.txt', 'r') as file:\n",
    "    contents = file.read()\n",
    "    print(contents)\n"
   ]
  },
  {
   "cell_type": "code",
   "execution_count": 10,
   "metadata": {},
   "outputs": [
    {
     "name": "stdout",
     "output_type": "stream",
     "text": [
      "This is the first line.\n",
      "This is the second line.\n",
      "\n"
     ]
    }
   ],
   "source": [
    "# Task 2: Write to a Text File\n",
    "lines_to_write = [\n",
    "    \"This is the first line.\\n\",\n",
    "    \"This is the second line.\\n\"\n",
    "]\n",
    "with open('files/output.txt', 'w') as file:\n",
    "    file.writelines(lines_to_write)\n",
    "\n",
    "# Verify the writing was successful\n",
    "with open('files/output.txt', 'r') as file:\n",
    "    contents = file.read()\n",
    "    print(contents)\n"
   ]
  },
  {
   "cell_type": "code",
   "execution_count": 11,
   "metadata": {},
   "outputs": [
    {
     "name": "stdout",
     "output_type": "stream",
     "text": [
      "This is the first line.\n",
      "This is the second line.\n",
      "This is a new line added in append mode.\n",
      "\n"
     ]
    }
   ],
   "source": [
    "# Task 3: Append to a Text File\n",
    "with open('files/output.txt', 'a') as file:\n",
    "    file.write(\"This is a new line added in append mode.\\n\")\n",
    "\n",
    "# Read and print the entire file to see the updated contents\n",
    "with open('files/output.txt', 'r') as file:\n",
    "    contents = file.read()\n",
    "    print(contents)\n"
   ]
  },
  {
   "cell_type": "code",
   "execution_count": 12,
   "metadata": {},
   "outputs": [],
   "source": [
    "# Task 4: Using the `with` Statement\n",
    "# Tasks 1 to 3 have already been modified to use the `with` statement\n"
   ]
  },
  {
   "cell_type": "code",
   "execution_count": 13,
   "metadata": {},
   "outputs": [
    {
     "name": "stdout",
     "output_type": "stream",
     "text": [
      "Welcome to the world of programming!\n",
      "\n",
      "Let's dive into the world of Python file handling and unleash the power of programming!\n",
      "\n"
     ]
    }
   ],
   "source": [
    "# Bonus: Type Hinting and Docstrings\n",
    "def print_file_contents(file_name: str, mode: str) -> None:\n",
    "    \"\"\"\n",
    "    Opens a file with the given name and mode, then prints its contents.\n",
    "\n",
    "    :param file_name: The name of the file to open.\n",
    "    :param mode: The mode in which to open the file ('r' for read, 'w' for write, etc.).\n",
    "    \"\"\"\n",
    "    with open(file_name, mode) as file:\n",
    "        contents = file.read()\n",
    "        print(contents)\n",
    "\n",
    "# Example usage of the bonus task function\n",
    "print_file_contents('files/example.txt', 'r')"
   ]
  },
  {
   "cell_type": "markdown",
   "metadata": {},
   "source": [
    "When you run the code above, it will perform the following operations:\n",
    "\n",
    "- Task 1 reads and prints the contents of `example.txt`.\n",
    "- Task 2 creates `output.txt`, writes two lines to it, and then prints the contents to verify the write operation.\n",
    "- Task 3 appends a new line to `output.txt` and prints the updated contents.\n",
    "- Task 4 is already demonstrated as the `with` statement is used in tasks 1-3.\n",
    "- The bonus task provides a function with type hints and a docstring that opens and prints the contents of a file.\n"
   ]
  },
  {
   "cell_type": "markdown",
   "metadata": {},
   "source": [
    "Make sure to create an `example.txt` file with the provided content before running the script. This exercise will help solidify your understanding of file handling in Python and the best practices associated with it."
   ]
  }
 ],
 "metadata": {
  "kernelspec": {
   "display_name": "py310",
   "language": "python",
   "name": "python3"
  },
  "language_info": {
   "codemirror_mode": {
    "name": "ipython",
    "version": 3
   },
   "file_extension": ".py",
   "mimetype": "text/x-python",
   "name": "python",
   "nbconvert_exporter": "python",
   "pygments_lexer": "ipython3",
   "version": "3.10.12"
  }
 },
 "nbformat": 4,
 "nbformat_minor": 2
}
