{
 "cells": [
  {
   "cell_type": "markdown",
   "metadata": {},
   "source": [
    "<img src=\"./images/banner.png\" width=\"800\">"
   ]
  },
  {
   "cell_type": "markdown",
   "metadata": {},
   "source": [
    "# Creating and Using Packages"
   ]
  },
  {
   "cell_type": "markdown",
   "metadata": {},
   "source": [
    "Python's power and flexibility stem not just from its syntax and built-in features, but also from its robust ecosystem of packages. As your Python projects grow in complexity, understanding how to create, use, and manage packages becomes crucial for writing maintainable and scalable code.\n"
   ]
  },
  {
   "cell_type": "markdown",
   "metadata": {},
   "source": [
    "Packages in Python are a way of structuring your code into reusable, organized units. They allow you to:\n",
    "\n",
    "- Group related modules together\n",
    "- Create hierarchical structures for your code\n",
    "- Manage namespaces to avoid naming conflicts\n",
    "- Share and distribute your code more easily\n"
   ]
  },
  {
   "cell_type": "markdown",
   "metadata": {},
   "source": [
    "In this lecture, we'll dive deep into the world of Python packages. We'll explore:\n",
    "\n",
    "- What packages are and how they differ from modules\n",
    "- How to create your own packages\n",
    "- Techniques for effectively using packages in your projects\n",
    "- Package management and distribution\n",
    "- Best practices for package design\n"
   ]
  },
  {
   "cell_type": "markdown",
   "metadata": {},
   "source": [
    "By the end of this lecture, you'll have a solid understanding of how to work with packages, enabling you to better organize your own code and leverage the vast ecosystem of third-party Python packages.\n"
   ]
  },
  {
   "cell_type": "markdown",
   "metadata": {},
   "source": [
    "💡 **Note**: Mastering packages is a key step in your journey from writing scripts to developing full-fledged Python applications and libraries.\n"
   ]
  },
  {
   "cell_type": "markdown",
   "metadata": {},
   "source": [
    "Whether you're building a data analysis toolkit, a web application, or a machine learning model, the skills you'll learn in this lecture will help you structure your projects more effectively and tap into the wealth of resources available in the Python community.\n"
   ]
  },
  {
   "cell_type": "markdown",
   "metadata": {},
   "source": [
    "Let's begin our exploration of Python packages!"
   ]
  },
  {
   "cell_type": "markdown",
   "metadata": {},
   "source": [
    "**Table of contents**<a id='toc0_'></a>    \n",
    "- [What is a Package in Python?](#toc1_)    \n",
    "  - [Package Structure](#toc1_1_)    \n",
    "  - [Benefits of Using Packages](#toc1_2_)    \n",
    "- [Creating a Package](#toc2_)    \n",
    "  - [Subpackage](#toc2_1_)    \n",
    "  - [Creating Package Modules](#toc2_2_)    \n",
    "  - [Putting It All Together](#toc2_3_)    \n",
    "- [Using Packages](#toc3_)    \n",
    "  - [Importing from Packages](#toc3_1_)    \n",
    "  - [Relative vs Absolute Imports](#toc3_2_)    \n",
    "  - [Importing Specific Functions or Classes](#toc3_3_)    \n",
    "  - [Handling Subpackages](#toc3_4_)    \n",
    "  - [Using `__all__`](#toc3_5_)    \n",
    "  - [Best Practices for Using Packages](#toc3_6_)    \n",
    "  - [Example: Using Our Math Package](#toc3_7_)    \n",
    "- [Best Practices for Package Design](#toc4_)    \n",
    "  - [Naming Conventions](#toc4_1_)    \n",
    "  - [Structure and Organization](#toc4_2_)    \n",
    "  - [Documentation](#toc4_3_)    \n",
    "  - [Error Handling](#toc4_4_)    \n",
    "  - [Version Control](#toc4_5_)    \n",
    "  - [Testing](#toc4_6_)    \n",
    "- [Common Python Packages](#toc5_)    \n",
    "  - [Data Science and Machine Learning](#toc5_1_)    \n",
    "  - [Web Development](#toc5_2_)    \n",
    "  - [Data Visualization](#toc5_3_)    \n",
    "  - [Network and Internet](#toc5_4_)    \n",
    "  - [Utility and Productivity](#toc5_5_)    \n",
    "  - [How to Find and Choose Packages](#toc5_6_)    \n",
    "- [Conclusion](#toc6_)    \n",
    "\n",
    "<!-- vscode-jupyter-toc-config\n",
    "\tnumbering=false\n",
    "\tanchor=true\n",
    "\tflat=false\n",
    "\tminLevel=2\n",
    "\tmaxLevel=6\n",
    "\t/vscode-jupyter-toc-config -->\n",
    "<!-- THIS CELL WILL BE REPLACED ON TOC UPDATE. DO NOT WRITE YOUR TEXT IN THIS CELL -->"
   ]
  },
  {
   "cell_type": "markdown",
   "metadata": {},
   "source": [
    "## <a id='toc1_'></a>[What is a Package in Python?](#toc0_)"
   ]
  },
  {
   "cell_type": "markdown",
   "metadata": {},
   "source": [
    "A package in Python is a way of organizing related modules into a directory hierarchy. It's essentially a directory that contains Python modules and a special `__init__.py` file, which tells Python that the directory should be treated as a package.\n"
   ]
  },
  {
   "cell_type": "markdown",
   "metadata": {},
   "source": [
    "To understand packages, let's first clarify the distinction between packages and modules:\n",
    "\n",
    "- **Module**: A single Python file containing Python definitions and statements.\n",
    "- **Package**: A directory of Python modules containing an additional `__init__.py` file.\n"
   ]
  },
  {
   "cell_type": "markdown",
   "metadata": {},
   "source": [
    "The key differences are:\n",
    "\n",
    "1. **Structure**: Modules are single files, while packages are directories that can contain multiple modules and even other packages (subpackages).\n",
    "2. **Hierarchy**: Packages can have a hierarchical structure, allowing for more complex organization of code.\n",
    "3. **Initialization**: Packages have an `__init__.py` file, which can be empty or contain initialization code.\n"
   ]
  },
  {
   "cell_type": "markdown",
   "metadata": {},
   "source": [
    "### <a id='toc1_1_'></a>[Package Structure](#toc0_)\n"
   ]
  },
  {
   "cell_type": "markdown",
   "metadata": {},
   "source": [
    "A typical package structure might look like this:\n"
   ]
  },
  {
   "cell_type": "markdown",
   "metadata": {},
   "source": [
    "```\n",
    "my_package/\n",
    "│\n",
    "├── __init__.py\n",
    "├── module1.py\n",
    "├── module2.py\n",
    "│\n",
    "└── subpackage/\n",
    "    ├── __init__.py\n",
    "    ├── module3.py\n",
    "    └── module4.py\n",
    "```\n"
   ]
  },
  {
   "cell_type": "markdown",
   "metadata": {},
   "source": [
    "In this structure:\n",
    "- `my_package` is the main package\n",
    "- `module1.py` and `module2.py` are modules within the main package\n",
    "- `subpackage` is a subpackage within `my_package`\n",
    "- `module3.py` and `module4.py` are modules within the subpackage\n"
   ]
  },
  {
   "cell_type": "markdown",
   "metadata": {},
   "source": [
    "The `__init__.py` file serves several purposes:\n",
    "1. It indicates that the directory should be treated as a package.\n",
    "2. It can be used to execute initialization code for the package.\n",
    "3. It can define what gets imported when `from package import *` is used.\n"
   ]
  },
  {
   "cell_type": "markdown",
   "metadata": {},
   "source": [
    "💡 **Note**: In Python 3.3+, the `__init__.py` file is not strictly necessary for a directory to be treated as a package (these are called \"namespace packages\"). However, it's still a good practice to include it for compatibility and to utilize its features.\n"
   ]
  },
  {
   "cell_type": "markdown",
   "metadata": {},
   "source": [
    "### <a id='toc1_2_'></a>[Benefits of Using Packages](#toc0_)\n"
   ]
  },
  {
   "cell_type": "markdown",
   "metadata": {},
   "source": [
    "Packages offer several advantages:\n",
    "\n",
    "1. **Organization**: They provide a clean way to organize related code.\n",
    "2. **Namespace Management**: They help avoid naming conflicts between modules.\n",
    "3. **Scalability**: They make it easier to manage large codebases.\n",
    "4. **Reusability**: Well-designed packages can be easily reused across different projects.\n",
    "5. **Distribution**: They simplify the process of sharing and distributing your code.\n"
   ]
  },
  {
   "cell_type": "markdown",
   "metadata": {},
   "source": [
    "By understanding and utilizing packages, you can create more structured, maintainable, and shareable Python projects. In the next sections, we'll explore how to create and use packages in more detail."
   ]
  },
  {
   "cell_type": "markdown",
   "metadata": {},
   "source": [
    "## <a id='toc2_'></a>[Creating a Package](#toc0_)"
   ]
  },
  {
   "cell_type": "markdown",
   "metadata": {},
   "source": [
    "Creating a package in Python is a straightforward process that involves organizing your code into a directory structure and adding a few key files. Let's go through the steps to create a basic package.\n"
   ]
  },
  {
   "cell_type": "markdown",
   "metadata": {},
   "source": [
    "To create a package, follow these steps:\n",
    "\n",
    "1. Create a directory with your package name.\n",
    "2. Inside this directory, create an `__init__.py` file.\n",
    "3. Add your Python modules (`.py` files) to this directory.\n"
   ]
  },
  {
   "cell_type": "markdown",
   "metadata": {},
   "source": [
    "Here's an example of a basic package structure:\n"
   ]
  },
  {
   "cell_type": "markdown",
   "metadata": {},
   "source": [
    "```\n",
    "my_math_package/\n",
    "│\n",
    "├── __init__.py\n",
    "├── basic_operations.py\n",
    "└── advanced_operations.py\n",
    "```\n"
   ]
  },
  {
   "cell_type": "markdown",
   "metadata": {},
   "source": [
    "\n",
    "The `__init__.py` file is crucial for a directory to be recognized as a Python package. It can be empty, or it can contain initialization code for your package.\n",
    "\n",
    "Here's what you can do with `__init__.py`:\n",
    "\n",
    "1. **Leave it empty**: This simply declares the directory as a Python package.\n",
    "\n",
    "2. **Import key functions**: Make important functions easily accessible.\n",
    "\n",
    "   ```python\n",
    "   from .basic_operations import add, subtract\n",
    "   from .advanced_operations import power\n",
    "   ```\n",
    "\n",
    "3. **Define `__all__`**: Control what is imported with `from package import *`.\n",
    "\n",
    "   ```python\n",
    "   __all__ = ['add', 'subtract', 'power']\n",
    "   ```\n",
    "\n",
    "4. **Perform package initialization**: Run any necessary setup code.\n",
    "\n",
    "   ```python\n",
    "   print(\"Initializing my_math_package\")\n",
    "   ```\n"
   ]
  },
  {
   "cell_type": "markdown",
   "metadata": {
    "vscode": {
     "languageId": "plaintext"
    }
   },
   "source": [
    "💡 **Note**: `import *` is different in modules and packages. In modules, it imports all names defined in the module. In packages, it imports all names defined in the `__init__.py` file. This is why defining `__all__` is important for packages. If `__all__` is not defined, `from package import *` will not import anything. So by default `import *` is disabled in packages but imports all names in modules."
   ]
  },
  {
   "cell_type": "markdown",
   "metadata": {
    "vscode": {
     "languageId": "plaintext"
    }
   },
   "source": [
    "To use `__all__` in a module, you need to define it in the module. For example, if you have a module `mymodule.py`:\n",
    "\n",
    "```python\n",
    "__all__ = ['myclass', 'myfunction']\n",
    "\n",
    "class myclass:\n",
    "    pass\n",
    "```\n",
    "\n",
    "Then, when you do `from mymodule import *`, only `myclass` and `myfunction` will be imported. If `__all__` is not defined, all names will be imported."
   ]
  },
  {
   "cell_type": "markdown",
   "metadata": {},
   "source": [
    "### <a id='toc2_1_'></a>[Subpackage](#toc0_)\n"
   ]
  },
  {
   "cell_type": "markdown",
   "metadata": {},
   "source": [
    "\n",
    "For more complex projects, you might want to create subpackages. This involves creating subdirectories within your main package directory, each with its own `__init__.py` file.\n",
    "\n",
    "Example structure with subpackages:\n",
    "\n",
    "```\n",
    "my_math_package/\n",
    "│\n",
    "├── __init__.py\n",
    "├── basic_operations.py\n",
    "│\n",
    "└── advanced/\n",
    "    ├── __init__.py\n",
    "    ├── trigonometry.py\n",
    "    └── calculus.py\n",
    "```\n"
   ]
  },
  {
   "cell_type": "markdown",
   "metadata": {},
   "source": [
    "### <a id='toc2_2_'></a>[Creating Package Modules](#toc0_)\n"
   ]
  },
  {
   "cell_type": "markdown",
   "metadata": {},
   "source": [
    "Now, let's create some simple modules for our `my_math_package`:\n"
   ]
  },
  {
   "cell_type": "markdown",
   "metadata": {},
   "source": [
    "`basic_operations.py`:"
   ]
  },
  {
   "cell_type": "markdown",
   "metadata": {},
   "source": [
    "```python\n",
    "def add(a, b):\n",
    "    return a + b\n",
    "\n",
    "def subtract(a, b):\n",
    "    return a - b\n",
    "```\n"
   ]
  },
  {
   "cell_type": "markdown",
   "metadata": {},
   "source": [
    "`advanced_operations.py`:"
   ]
  },
  {
   "cell_type": "markdown",
   "metadata": {},
   "source": [
    "```python\n",
    "def power(base, exponent):\n",
    "    return base ** exponent\n",
    "```\n"
   ]
  },
  {
   "cell_type": "markdown",
   "metadata": {},
   "source": [
    "### <a id='toc2_3_'></a>[Putting It All Together](#toc0_)\n"
   ]
  },
  {
   "cell_type": "markdown",
   "metadata": {},
   "source": [
    "Finally, in the `__init__.py` of `my_math_package`, we can import these functions to make them easily accessible:\n"
   ]
  },
  {
   "cell_type": "markdown",
   "metadata": {},
   "source": [
    "```python\n",
    "from .basic_operations import add, subtract\n",
    "from .advanced_operations import power\n",
    "\n",
    "__all__ = ['add', 'subtract', 'power']\n",
    "\n",
    "print(\"my_math_package initialized\")\n",
    "```\n"
   ]
  },
  {
   "cell_type": "markdown",
   "metadata": {},
   "source": [
    "Now you have a fully functional Python package! Users can import and use your package like this:\n"
   ]
  },
  {
   "cell_type": "markdown",
   "metadata": {},
   "source": [
    "```python\n",
    "import my_math_package\n",
    "\n",
    "result = my_math_package.add(5, 3)\n",
    "print(result)  # Output: 8\n",
    "```\n"
   ]
  },
  {
   "cell_type": "markdown",
   "metadata": {},
   "source": [
    "💡 **Tip**: Keep your package structure clean and logical. Group related functionality together and use subpackages for distinct categories of functionality.\n"
   ]
  },
  {
   "cell_type": "markdown",
   "metadata": {},
   "source": [
    "By following these steps, you can create well-organized packages that make your code more modular, reusable, and easier to maintain. In the next section, we'll explore how to use packages effectively in your Python projects."
   ]
  },
  {
   "cell_type": "markdown",
   "metadata": {},
   "source": [
    "## <a id='toc3_'></a>[Using Packages](#toc0_)"
   ]
  },
  {
   "cell_type": "markdown",
   "metadata": {},
   "source": [
    "Once you've created a package or want to use third-party packages, it's important to understand how to effectively incorporate them into your Python projects. Let's explore the various ways to import and use packages.\n"
   ]
  },
  {
   "cell_type": "markdown",
   "metadata": {},
   "source": [
    "### <a id='toc3_1_'></a>[Importing from Packages](#toc0_)\n"
   ]
  },
  {
   "cell_type": "markdown",
   "metadata": {},
   "source": [
    "There are several ways to import packages and their contents:\n",
    "\n",
    "1. **Importing the entire package**:\n",
    "   ```python\n",
    "   import my_math_package\n",
    "\n",
    "   result = my_math_package.add(5, 3)\n",
    "   ```\n",
    "\n",
    "2. **Importing specific modules**:\n",
    "   ```python\n",
    "   from my_math_package import basic_operations\n",
    "\n",
    "   result = basic_operations.add(5, 3)\n",
    "   ```\n",
    "\n",
    "3. **Importing specific functions or classes**:\n",
    "   ```python\n",
    "   from my_math_package.basic_operations import add, subtract\n",
    "\n",
    "   result = add(5, 3)\n",
    "   ```\n",
    "\n",
    "4. **Using aliases**:\n",
    "   ```python\n",
    "   import my_math_package as mmp\n",
    "\n",
    "   result = mmp.add(5, 3)\n",
    "   ```\n"
   ]
  },
  {
   "cell_type": "markdown",
   "metadata": {},
   "source": [
    "### <a id='toc3_2_'></a>[Relative vs Absolute Imports](#toc0_)\n"
   ]
  },
  {
   "cell_type": "markdown",
   "metadata": {},
   "source": [
    "When working within a package, you can use relative or absolute imports to access other modules in the same package."
   ]
  },
  {
   "cell_type": "markdown",
   "metadata": {},
   "source": [
    "1. **Absolute imports** use the full path from the project's root:"
   ]
  },
  {
   "cell_type": "markdown",
   "metadata": {},
   "source": [
    "```python\n",
    "from my_math_package.advanced_operations import power\n",
    "```"
   ]
  },
  {
   "cell_type": "markdown",
   "metadata": {},
   "source": [
    "2. **Relative imports** use dots to indicate the current and parent packages:"
   ]
  },
  {
   "cell_type": "markdown",
   "metadata": {},
   "source": [
    "```python\n",
    "from .basic_operations import add  # Same directory\n",
    "from ..advanced.trigonometry import sin  # Parent directory, then into 'advanced'\n",
    "```"
   ]
  },
  {
   "cell_type": "markdown",
   "metadata": {},
   "source": [
    "💡 **Note**: Relative imports are only used within a package. They can't be used in the main script.\n"
   ]
  },
  {
   "cell_type": "markdown",
   "metadata": {},
   "source": [
    "### <a id='toc3_3_'></a>[Importing Specific Functions or Classes](#toc0_)\n"
   ]
  },
  {
   "cell_type": "markdown",
   "metadata": {},
   "source": [
    "For cleaner code and to avoid namespace pollution, it's often best to import only what you need:\n"
   ]
  },
  {
   "cell_type": "markdown",
   "metadata": {},
   "source": [
    "```python\n",
    "from my_math_package import add, power\n",
    "\n",
    "result1 = add(5, 3)\n",
    "result2 = power(2, 3)\n",
    "```\n"
   ]
  },
  {
   "cell_type": "markdown",
   "metadata": {},
   "source": [
    "This approach makes it clear which package the functions come from and avoids potential naming conflicts.\n"
   ]
  },
  {
   "cell_type": "markdown",
   "metadata": {},
   "source": [
    "### <a id='toc3_4_'></a>[Handling Subpackages](#toc0_)\n"
   ]
  },
  {
   "cell_type": "markdown",
   "metadata": {},
   "source": [
    "When working with subpackages, you may need to import through multiple levels:\n"
   ]
  },
  {
   "cell_type": "markdown",
   "metadata": {},
   "source": [
    "```python\n",
    "from my_math_package.advanced.trigonometry import sin, cos\n",
    "\n",
    "angle = sin(0.5)\n",
    "```\n"
   ]
  },
  {
   "cell_type": "markdown",
   "metadata": {},
   "source": [
    "### <a id='toc3_5_'></a>[Using `__all__`](#toc0_)\n"
   ]
  },
  {
   "cell_type": "markdown",
   "metadata": {},
   "source": [
    "If a package defines `__all__` in its `__init__.py`, it controls what is imported with `from package import *`:\n"
   ]
  },
  {
   "cell_type": "markdown",
   "metadata": {},
   "source": [
    "```python\n",
    "from my_math_package import *\n",
    "\n",
    "result = add(5, 3)  # Works if 'add' is in __all__\n",
    "```\n"
   ]
  },
  {
   "cell_type": "markdown",
   "metadata": {},
   "source": [
    "> **Warning**: Using `import *` is generally discouraged as it can lead to unclear code and potential naming conflicts.\n"
   ]
  },
  {
   "cell_type": "markdown",
   "metadata": {},
   "source": [
    "### <a id='toc3_6_'></a>[Best Practices for Using Packages](#toc0_)\n"
   ]
  },
  {
   "cell_type": "markdown",
   "metadata": {},
   "source": [
    "1. **Be specific in imports**: Import only what you need to keep your namespace clean.\n",
    "2. **Use absolute imports** for clarity, especially in larger projects.\n",
    "3. **Avoid circular imports**: Structure your packages to prevent modules from importing each other circularly.\n",
    "4. **Use meaningful aliases**: If using aliases, choose names that are clear and descriptive.\n",
    "5. **Keep imports at the top**: Place all imports at the beginning of your file for better readability.\n"
   ]
  },
  {
   "cell_type": "markdown",
   "metadata": {},
   "source": [
    "### <a id='toc3_7_'></a>[Example: Using Our Math Package](#toc0_)\n"
   ]
  },
  {
   "cell_type": "markdown",
   "metadata": {},
   "source": [
    "Here's an example of how you might use the `my_math_package` we created earlier:\n"
   ]
  },
  {
   "cell_type": "markdown",
   "metadata": {},
   "source": [
    "```python\n",
    "from my_math_package import add, power\n",
    "from my_math_package.advanced import trigonometry\n",
    "\n",
    "result1 = add(10, 5)\n",
    "result2 = power(2, 3)\n",
    "sin_value = trigonometry.sin(0.5)\n",
    "\n",
    "print(f\"10 + 5 = {result1}\")\n",
    "print(f\"2^3 = {result2}\")\n",
    "print(f\"sin(0.5) ≈ {sin_value:.2f}\")\n",
    "```\n"
   ]
  },
  {
   "cell_type": "markdown",
   "metadata": {},
   "source": [
    "By understanding these concepts and following best practices, you can effectively use packages in your Python projects, leading to more organized, maintainable, and efficient code."
   ]
  },
  {
   "cell_type": "markdown",
   "metadata": {},
   "source": [
    "## <a id='toc4_'></a>[Best Practices for Package Design](#toc0_)"
   ]
  },
  {
   "cell_type": "markdown",
   "metadata": {},
   "source": [
    "Designing a well-structured and user-friendly package is crucial for maintainability, usability, and scalability. Here are some best practices to follow when designing your Python packages:\n"
   ]
  },
  {
   "cell_type": "markdown",
   "metadata": {},
   "source": [
    "### <a id='toc4_1_'></a>[Naming Conventions](#toc0_)\n"
   ]
  },
  {
   "cell_type": "markdown",
   "metadata": {},
   "source": [
    "1. **Package Names**: \n",
    "   - Use lowercase letters and underscores.\n",
    "   - Choose short, descriptive names.\n",
    "   - Avoid using Python reserved words or built-in module names.\n",
    "\n",
    "   ```python\n",
    "   # Good\n",
    "   my_awesome_package\n",
    "   data_processing\n",
    "\n",
    "   # Avoid\n",
    "   MyAwesomePackage  # CamelCase\n",
    "   string  # Built-in module name\n",
    "   ```\n"
   ]
  },
  {
   "cell_type": "markdown",
   "metadata": {},
   "source": [
    "2. **Module Names**:\n",
    "   - Follow the same conventions as package names.\n",
    "   - Be descriptive but concise.\n",
    "\n",
    "   ```python\n",
    "   # Good\n",
    "   data_cleaner.py\n",
    "   model_trainer.py\n",
    "\n",
    "   # Avoid\n",
    "   Utilities.py  # Capitalized\n",
    "   my_very_long_module_name.py  # Too verbose\n",
    "   ```\n"
   ]
  },
  {
   "cell_type": "markdown",
   "metadata": {},
   "source": [
    "### <a id='toc4_2_'></a>[Structure and Organization](#toc0_)\n"
   ]
  },
  {
   "cell_type": "markdown",
   "metadata": {},
   "source": [
    "1. **Logical Grouping**: Group related functionality into modules and subpackages.\n",
    "\n",
    "2. **Flat is Better than Nested**: Don't create unnecessarily deep hierarchies. Aim for a balance between organization and simplicity.\n",
    "\n",
    "3. **Separate Concerns**: Keep distinct functionalities in separate modules or subpackages.\n",
    "\n",
    "   ```\n",
    "   my_package/\n",
    "   ├── data/\n",
    "   │   ├── __init__.py\n",
    "   │   ├── loader.py\n",
    "   │   └── cleaner.py\n",
    "   ├── models/\n",
    "   │   ├── __init__.py\n",
    "   │   ├── linear.py\n",
    "   │   └── neural.py\n",
    "   ├── utils/\n",
    "   │   ├── __init__.py\n",
    "   │   └── helpers.py\n",
    "   └── __init__.py\n",
    "   ```\n"
   ]
  },
  {
   "cell_type": "markdown",
   "metadata": {},
   "source": [
    "### <a id='toc4_3_'></a>[Documentation](#toc0_)\n"
   ]
  },
  {
   "cell_type": "markdown",
   "metadata": {},
   "source": [
    "1. **README File**: Include a README.md with:\n",
    "   - Package description and purpose\n",
    "   - Installation instructions\n",
    "   - Basic usage examples\n",
    "   - Links to detailed documentation\n",
    "\n",
    "2. **Docstrings**: Use docstrings for all public modules, functions, classes, and methods.\n",
    "   \n",
    "   ```python\n",
    "   def calculate_mean(numbers):\n",
    "       \"\"\"\n",
    "       Calculate the arithmetic mean of a list of numbers.\n",
    "\n",
    "       Args:\n",
    "           numbers (list): A list of numbers.\n",
    "\n",
    "       Returns:\n",
    "           float: The arithmetic mean of the input numbers.\n",
    "\n",
    "       Raises:\n",
    "           ValueError: If the input list is empty.\n",
    "       \"\"\"\n",
    "       if not numbers:\n",
    "           raise ValueError(\"Cannot calculate mean of an empty list\")\n",
    "       return sum(numbers) / len(numbers)\n",
    "   ```\n",
    "\n",
    "3. **Comments**: Use inline comments sparingly, only when necessary to explain complex logic.\n"
   ]
  },
  {
   "cell_type": "markdown",
   "metadata": {},
   "source": [
    "### <a id='toc4_4_'></a>[Error Handling](#toc0_)\n"
   ]
  },
  {
   "cell_type": "markdown",
   "metadata": {},
   "source": [
    "1. **Custom Exceptions**: Define custom exceptions for your package when appropriate.\n",
    "\n",
    "2. **Informative Error Messages**: Provide clear, helpful error messages.\n",
    "\n",
    "   ```python\n",
    "   class InvalidDataFormatError(Exception):\n",
    "       \"\"\"Raised when the input data format is invalid.\"\"\"\n",
    "       pass\n",
    "\n",
    "   def process_data(data):\n",
    "       if not isinstance(data, list):\n",
    "           raise InvalidDataFormatError(\"Input must be a list\")\n",
    "       # Process data...\n",
    "   ```\n"
   ]
  },
  {
   "cell_type": "markdown",
   "metadata": {},
   "source": [
    "### <a id='toc4_5_'></a>[Version Control](#toc0_)\n"
   ]
  },
  {
   "cell_type": "markdown",
   "metadata": {},
   "source": [
    "1. **Semantic Versioning**: Use semantic versioning (MAJOR.MINOR.PATCH) for your package releases.\n",
    "\n",
    "2. **Changelog**: Maintain a CHANGELOG.md file to document changes between versions.\n"
   ]
  },
  {
   "cell_type": "markdown",
   "metadata": {},
   "source": [
    "### <a id='toc4_6_'></a>[Testing](#toc0_)\n"
   ]
  },
  {
   "cell_type": "markdown",
   "metadata": {},
   "source": [
    "1. **Unit Tests**: Write comprehensive unit tests for your package.\n",
    "\n",
    "2. **Test Coverage**: Aim for high test coverage, especially for critical functionality.\n",
    "\n",
    "3. **Continuous Integration**: Set up CI/CD pipelines for automated testing and deployment.\n"
   ]
  },
  {
   "cell_type": "markdown",
   "metadata": {},
   "source": [
    "💡 **Tip**: Always keep the end-user in mind. A well-designed package should be intuitive to use and easy to integrate into various projects.\n"
   ]
  },
  {
   "cell_type": "markdown",
   "metadata": {},
   "source": [
    "By following these best practices, you'll create packages that are not only functional but also user-friendly, maintainable, and scalable. Remember, good package design is an iterative process, and it's okay to refine your package structure as you gain more experience and receive user feedback."
   ]
  },
  {
   "cell_type": "markdown",
   "metadata": {},
   "source": [
    "## <a id='toc5_'></a>[Common Python Packages](#toc0_)"
   ]
  },
  {
   "cell_type": "markdown",
   "metadata": {},
   "source": [
    "Python's ecosystem is rich with packages that extend its functionality across various domains. Understanding some of the most common and popular packages can significantly enhance your productivity as a Python developer. Let's explore some widely-used packages across different categories.\n"
   ]
  },
  {
   "cell_type": "markdown",
   "metadata": {},
   "source": [
    "### <a id='toc5_1_'></a>[Data Science and Machine Learning](#toc0_)\n"
   ]
  },
  {
   "cell_type": "markdown",
   "metadata": {},
   "source": [
    "1. **NumPy**: \n",
    "   - Foundation for scientific computing in Python\n",
    "   - Provides support for large, multi-dimensional arrays and matrices\n",
    "\n",
    "   ```python\n",
    "   import numpy as np\n",
    "   arr = np.array([1, 2, 3, 4, 5])\n",
    "   print(arr.mean())  # Output: 3.0\n",
    "   ```\n"
   ]
  },
  {
   "cell_type": "markdown",
   "metadata": {},
   "source": [
    "2. **Pandas**: \n",
    "   - Data manipulation and analysis library\n",
    "   - Offers data structures like DataFrame for efficient data handling\n",
    "\n",
    "   ```python\n",
    "   import pandas as pd\n",
    "   df = pd.DataFrame({'A': [1, 2, 3], 'B': [4, 5, 6]})\n",
    "   print(df.describe())\n",
    "   ```\n"
   ]
  },
  {
   "cell_type": "markdown",
   "metadata": {},
   "source": [
    "3. **Scikit-learn**: \n",
    "   - Machine learning library for classification, regression, clustering, etc.\n",
    "   - Integrates well with NumPy and Pandas\n",
    "\n",
    "   ```python\n",
    "   from sklearn.model_selection import train_test_split\n",
    "   from sklearn.linear_model import LinearRegression\n",
    "   X_train, X_test, y_train, y_test = train_test_split(X, y, test_size=0.2)\n",
    "   model = LinearRegression().fit(X_train, y_train)\n",
    "   ```\n"
   ]
  },
  {
   "cell_type": "markdown",
   "metadata": {},
   "source": [
    "### <a id='toc5_2_'></a>[Web Development](#toc0_)\n"
   ]
  },
  {
   "cell_type": "markdown",
   "metadata": {},
   "source": [
    "1. **Django**: \n",
    "   - High-level web framework for rapid development\n",
    "   - Follows the model-template-view architectural pattern\n"
   ]
  },
  {
   "cell_type": "markdown",
   "metadata": {},
   "source": [
    "2. **Flask**: \n",
    "   - Lightweight web application framework\n",
    "   - Easy to get started with and highly flexible\n",
    "\n",
    "   ```python\n",
    "   from flask import Flask\n",
    "   app = Flask(__name__)\n",
    "\n",
    "   @app.route('/')\n",
    "   def hello_world():\n",
    "       return 'Hello, World!'\n",
    "   ```\n"
   ]
  },
  {
   "cell_type": "markdown",
   "metadata": {},
   "source": [
    "### <a id='toc5_3_'></a>[Data Visualization](#toc0_)\n"
   ]
  },
  {
   "cell_type": "markdown",
   "metadata": {},
   "source": [
    "1. **Matplotlib**: \n",
    "   - Comprehensive library for creating static, animated, and interactive visualizations\n",
    "\n",
    "   ```python\n",
    "   import matplotlib.pyplot as plt\n",
    "   plt.plot([1, 2, 3, 4], [1, 4, 2, 3])\n",
    "   plt.show()\n",
    "   ```\n"
   ]
  },
  {
   "cell_type": "markdown",
   "metadata": {},
   "source": [
    "2. **Seaborn**: \n",
    "   - Statistical data visualization based on matplotlib\n",
    "   - Provides a high-level interface for drawing attractive statistical graphics\n"
   ]
  },
  {
   "cell_type": "markdown",
   "metadata": {},
   "source": [
    "### <a id='toc5_4_'></a>[Network and Internet](#toc0_)\n"
   ]
  },
  {
   "cell_type": "markdown",
   "metadata": {},
   "source": [
    "1. **Requests**: \n",
    "   - HTTP library for making requests and handling responses\n",
    "\n",
    "   ```python\n",
    "   import requests\n",
    "   response = requests.get('https://api.github.com')\n",
    "   print(response.status_code)  # Output: 200\n",
    "   ```\n"
   ]
  },
  {
   "cell_type": "markdown",
   "metadata": {},
   "source": [
    "2. **Beautiful Soup**: \n",
    "   - Library for pulling data out of HTML and XML files\n",
    "   - Useful for web scraping projects\n"
   ]
  },
  {
   "cell_type": "markdown",
   "metadata": {},
   "source": [
    "### <a id='toc5_5_'></a>[Utility and Productivity](#toc0_)\n"
   ]
  },
  {
   "cell_type": "markdown",
   "metadata": {},
   "source": [
    "1. **PyTest**: \n",
    "   - Testing framework that makes it easy to write simple and scalable test cases\n"
   ]
  },
  {
   "cell_type": "markdown",
   "metadata": {},
   "source": [
    "2. **Black**: \n",
    "   - The uncompromising Python code formatter\n",
    "   - Helps maintain consistent code style across projects\n"
   ]
  },
  {
   "cell_type": "markdown",
   "metadata": {},
   "source": [
    "### <a id='toc5_6_'></a>[How to Find and Choose Packages](#toc0_)\n"
   ]
  },
  {
   "cell_type": "markdown",
   "metadata": {},
   "source": [
    "1. **PyPI (Python Package Index)**: \n",
    "   - The official repository for third-party Python packages\n",
    "   - Use `pip` to install packages from PyPI\n",
    "\n",
    "2. **GitHub**: \n",
    "   - Many Python packages are open-source and hosted on GitHub\n",
    "   - Check stars, forks, and recent activity to gauge popularity and maintenance\n",
    "\n",
    "3. **Documentation**: \n",
    "   - Good packages have clear, comprehensive documentation\n",
    "   - Look for packages with tutorials and examples\n",
    "\n",
    "4. **Community Support**: \n",
    "   - Active community support can be crucial for resolving issues\n",
    "   - Check Stack Overflow or the package's issues page on GitHub\n",
    "\n",
    "5. **Compatibility**: \n",
    "   - Ensure the package is compatible with your Python version\n",
    "   - Check for recent updates and maintenance\n"
   ]
  },
  {
   "cell_type": "markdown",
   "metadata": {},
   "source": [
    "💡 **Tip**: Before adding a new package to your project, check if the functionality you need is already available in Python's standard library or in packages you're already using.\n"
   ]
  },
  {
   "cell_type": "markdown",
   "metadata": {},
   "source": [
    "By familiarizing yourself with these common packages and understanding how to find and evaluate new ones, you'll be well-equipped to tackle a wide range of Python projects efficiently."
   ]
  },
  {
   "cell_type": "markdown",
   "metadata": {},
   "source": [
    "## <a id='toc6_'></a>[Conclusion](#toc0_)"
   ]
  },
  {
   "cell_type": "markdown",
   "metadata": {},
   "source": [
    "In this lecture, we've explored the world of Python packages, covering everything from their basic structure to best practices in design and usage. Let's recap the key points we've discussed:\n",
    "\n",
    "1. **Package Basics**: \n",
    "   - Packages are a way to organize related modules into a directory hierarchy.\n",
    "   - They consist of a directory containing Python files and a special `__init__.py` file.\n",
    "\n",
    "2. **Creating Packages**: \n",
    "   - We learned how to structure a package, create subpackages, and utilize the `__init__.py` file effectively.\n",
    "   - Proper organization of code into modules and packages enhances reusability and maintainability.\n",
    "\n",
    "3. **Using Packages**: \n",
    "   - We explored various ways to import and use packages in Python projects.\n",
    "   - Understanding relative vs. absolute imports is crucial for managing complex package structures.\n",
    "\n",
    "4. **Best Practices**: \n",
    "   - We covered naming conventions, documentation standards, and API design principles.\n",
    "   - Following these best practices leads to more user-friendly and maintainable packages.\n",
    "\n",
    "5. **Common Python Packages**: \n",
    "   - We surveyed popular packages across various domains like data science, web development, and utility tools.\n",
    "   - Knowing these packages and how to find new ones expands your Python capabilities significantly.\n"
   ]
  },
  {
   "cell_type": "markdown",
   "metadata": {},
   "source": [
    "🔑 **Key Takeaways**:\n",
    "\n",
    "- Packages are fundamental to organizing and scaling Python projects.\n",
    "- Well-designed packages improve code reusability, readability, and collaboration.\n",
    "- The Python ecosystem is rich with packages that can significantly boost your productivity.\n",
    "- Always consider best practices in package design, even for small projects – they pay off as your project grows.\n"
   ]
  },
  {
   "cell_type": "markdown",
   "metadata": {},
   "source": [
    "💡 **Moving Forward**:\n",
    "\n",
    "As you continue your Python journey, keep these points in mind:\n",
    "\n",
    "1. **Practice Package Creation**: Start organizing your own projects into packages, even if they're small. It's great practice for larger projects.\n",
    "\n",
    "2. **Explore the Ecosystem**: Regularly explore new packages in areas that interest you. The Python community is constantly developing new tools and libraries.\n",
    "\n",
    "3. **Contribute to Open Source**: Once you're comfortable with packages, consider contributing to open-source projects. It's an excellent way to learn and give back to the community.\n",
    "\n",
    "4. **Stay Updated**: Python and its ecosystem evolve. Keep an eye on new features and best practices in package development.\n",
    "\n",
    "5. **Balance Usage and Creation**: While it's important to leverage existing packages, don't shy away from creating your own when you have a unique need.\n"
   ]
  },
  {
   "cell_type": "markdown",
   "metadata": {},
   "source": [
    "Remember, mastering the art of creating and using packages is a journey. Each project you work on is an opportunity to refine your skills and deepen your understanding.\n"
   ]
  },
  {
   "cell_type": "markdown",
   "metadata": {},
   "source": [
    "By applying what you've learned in this lecture, you're well on your way to writing more organized, efficient, and professional Python code. Packages are not just a way to structure code; they're a powerful tool in your Python toolkit that will serve you well in any project, big or small.\n"
   ]
  },
  {
   "cell_type": "markdown",
   "metadata": {},
   "source": [
    "Happy coding, and may your packages always be well-structured and bug-free! 🐍📦"
   ]
  }
 ],
 "metadata": {
  "language_info": {
   "name": "python"
  }
 },
 "nbformat": 4,
 "nbformat_minor": 2
}
