{
 "cells": [
  {
   "cell_type": "markdown",
   "metadata": {},
   "source": [
    "<img src=\"./images/banner.png\" width=\"800\">"
   ]
  },
  {
   "cell_type": "markdown",
   "metadata": {},
   "source": [
    "# Creating and Importing Modules"
   ]
  },
  {
   "cell_type": "markdown",
   "metadata": {},
   "source": [
    "Modules are a fundamental concept in Python programming, serving as the building blocks for organizing and structuring code. They play a crucial role in making Python programs more manageable, reusable, and maintainable.\n"
   ]
  },
  {
   "cell_type": "markdown",
   "metadata": {},
   "source": [
    "In this lecture, we'll dive into the world of Python modules, exploring how to create them, import them, and use them effectively in your projects. We'll cover:\n",
    "\n",
    "- The concept of modules and their importance\n",
    "- How to create your own modules\n",
    "- Various techniques for importing modules\n",
    "- Best practices for module organization and usage\n",
    "- An introduction to packages as an extension of the module concept\n"
   ]
  },
  {
   "cell_type": "markdown",
   "metadata": {},
   "source": [
    "By the end of this lecture, you'll have a solid understanding of how to work with modules, enabling you to write more organized and efficient Python code. This knowledge is essential for transitioning from writing simple scripts to developing larger, more complex applications.\n"
   ]
  },
  {
   "cell_type": "markdown",
   "metadata": {},
   "source": [
    "> 💡 **Note**: Understanding modules is a key step in your journey from using Jupyter Notebooks to adopting modular programming practices.\n"
   ]
  },
  {
   "cell_type": "markdown",
   "metadata": {},
   "source": [
    "Whether you're building a data analysis pipeline, a web application, or any other Python project, the ability to create and use modules effectively will significantly enhance your coding capabilities. Let's begin our exploration of this fundamental Python concept!"
   ]
  },
  {
   "cell_type": "markdown",
   "metadata": {},
   "source": [
    "**Table of contents**<a id='toc0_'></a>    \n",
    "- [What is a Module?](#toc1_)    \n",
    "  - [Examples of Modules:](#toc1_1_)    \n",
    "- [Creating a Module](#toc2_)    \n",
    "  - [Basic Module Structure](#toc2_1_)    \n",
    "  - [Module Naming Conventions](#toc2_2_)    \n",
    "  - [Module Contents](#toc2_3_)    \n",
    "  - [Documenting Your Module](#toc2_4_)    \n",
    "- [Importing Modules](#toc3_)    \n",
    "  - [Basic Import Statement](#toc3_1_)    \n",
    "  - [From Import Statement](#toc3_2_)    \n",
    "  - [Import as Statement](#toc3_3_)    \n",
    "  - [Importing All Names (*)](#toc3_4_)    \n",
    "  - [Best Practices for Importing](#toc3_5_)    \n",
    "- [Modules vs. Scripts: Making Modules Executable](#toc4_)    \n",
    "  - [Modules vs. Scripts](#toc4_1_)    \n",
    "  - [Making Modules Executable](#toc4_2_)    \n",
    "  - [Benefits of This Approach](#toc4_3_)    \n",
    "  - [Example Usage](#toc4_4_)    \n",
    "- [Best Practices](#toc5_)    \n",
    "  - [Organizing Module Contents](#toc5_1_)    \n",
    "  - [Using if __name__ == \"__main__\"](#toc5_2_)    \n",
    "  - [Documenting Your Module](#toc5_3_)    \n",
    "  - [Import Best Practices](#toc5_4_)    \n",
    "- [Common Built-in Modules](#toc6_)    \n",
    "  - [os - Operating System Interface](#toc6_1_)    \n",
    "  - [sys - System-specific Parameters and Functions](#toc6_2_)    \n",
    "  - [datetime - Basic Date and Time Types](#toc6_3_)    \n",
    "  - [math - Mathematical Functions](#toc6_4_)    \n",
    "  - [random - Generate Pseudo-random Numbers](#toc6_5_)    \n",
    "  - [re - Regular Expression Operations](#toc6_6_)    \n",
    "  - [collections - Container Datatypes](#toc6_7_)    \n",
    "- [Conclusion](#toc7_)    \n",
    "\n",
    "<!-- vscode-jupyter-toc-config\n",
    "\tnumbering=false\n",
    "\tanchor=true\n",
    "\tflat=false\n",
    "\tminLevel=2\n",
    "\tmaxLevel=6\n",
    "\t/vscode-jupyter-toc-config -->\n",
    "<!-- THIS CELL WILL BE REPLACED ON TOC UPDATE. DO NOT WRITE YOUR TEXT IN THIS CELL -->"
   ]
  },
  {
   "cell_type": "markdown",
   "metadata": {},
   "source": [
    "## <a id='toc1_'></a>[What is a Module?](#toc0_)"
   ]
  },
  {
   "cell_type": "markdown",
   "metadata": {},
   "source": [
    "A module in Python is essentially a file containing Python definitions and statements. It serves as a way to organize related code into a single unit, making programs more structured and easier to manage.\n"
   ]
  },
  {
   "cell_type": "markdown",
   "metadata": {},
   "source": [
    "Key points about modules:\n",
    "\n",
    "1. **File-based**: Each Python file (.py) is a module. The filename becomes the module name.\n",
    "\n",
    "2. **Namespace**: Modules create their own namespace, which helps avoid naming conflicts between different parts of a program.\n",
    "\n",
    "3. **Reusability**: Code in modules can be reused across different programs, promoting the DRY (Don't Repeat Yourself) principle.\n",
    "\n",
    "4. **Encapsulation**: Modules allow you to group related functionality together, improving code organization.\n",
    "\n",
    "5. **Scope Control**: Modules help in controlling the scope of variables and functions, keeping the global namespace clean.\n"
   ]
  },
  {
   "cell_type": "markdown",
   "metadata": {},
   "source": [
    "Modules can be categorized into three types:\n",
    "\n",
    "- **Built-in Modules**: These are modules that come pre-installed with Python and are available for use without any additional installation.\n",
    "- **User-defined Modules**: These are modules created by users to organize their code and make it reusable across different projects.\n",
    "- **Third-party Modules**: These are modules developed by third-party developers and are not part of the Python standard library. They can be installed using package managers like `pip`."
   ]
  },
  {
   "cell_type": "markdown",
   "metadata": {},
   "source": [
    "<img src=\"./images/modules-type.png\" width=\"800\">"
   ]
  },
  {
   "cell_type": "markdown",
   "metadata": {},
   "source": [
    "1. **Built-in Modules**: Python comes with a variety of built-in modules like `math`, `random`, `datetime`, etc.\n",
    "\n",
    "   ```python\n",
    "   import math\n",
    "   print(math.pi)  # Outputs: 3.141592653589793\n",
    "   ```\n"
   ]
  },
  {
   "cell_type": "markdown",
   "metadata": {},
   "source": [
    "2. **Custom Modules**: Any Python file you create can be a module.\n",
    "\n",
    "   ```python\n",
    "   # In a file named 'my_module.py'\n",
    "   def greet(name):\n",
    "       return f\"Hello, {name}!\"\n",
    "\n",
    "   # In another file\n",
    "   import my_module\n",
    "   print(my_module.greet(\"Alice\"))  # Outputs: Hello, Alice!\n",
    "   ```\n"
   ]
  },
  {
   "cell_type": "markdown",
   "metadata": {},
   "source": [
    "3. **Third-party Modules**: Modules installed via package managers like pip (e.g., NumPy, Pandas).\n",
    "\n",
    "   ```python\n",
    "   import numpy as np\n",
    "   arr = np.array([1, 2, 3])\n",
    "   ```\n"
   ]
  },
  {
   "cell_type": "markdown",
   "metadata": {},
   "source": [
    "💡 **Tip**: Think of modules as containers for related code. They help in breaking down large programs into smaller, manageable files.\n"
   ]
  },
  {
   "cell_type": "markdown",
   "metadata": {},
   "source": [
    "By using modules, you can:\n",
    "- Organize code logically\n",
    "- Avoid naming conflicts\n",
    "- Reuse code across different projects\n",
    "- Manage complexity in larger applications\n"
   ]
  },
  {
   "cell_type": "markdown",
   "metadata": {},
   "source": [
    "Understanding modules is crucial for writing clean, efficient, and maintainable Python code. As we progress through this lecture, you'll learn how to create your own modules and leverage them effectively in your Python projects."
   ]
  },
  {
   "cell_type": "markdown",
   "metadata": {},
   "source": [
    "## <a id='toc2_'></a>[Creating a Module](#toc0_)"
   ]
  },
  {
   "cell_type": "markdown",
   "metadata": {},
   "source": [
    "Creating a module in Python is straightforward. At its core, a module is simply a Python file containing functions, classes, or variables that you want to reuse in other parts of your program.\n"
   ]
  },
  {
   "cell_type": "markdown",
   "metadata": {},
   "source": [
    "### <a id='toc2_1_'></a>[Basic Module Structure](#toc0_)\n"
   ]
  },
  {
   "cell_type": "markdown",
   "metadata": {},
   "source": [
    "To create a module:\n",
    "\n",
    "1. Create a new Python file with a `.py` extension.\n",
    "2. Write your Python code in this file.\n",
    "3. Save the file. The filename (without the .py extension) becomes the module name.\n"
   ]
  },
  {
   "cell_type": "markdown",
   "metadata": {},
   "source": [
    "Here's a simple example:\n"
   ]
  },
  {
   "cell_type": "markdown",
   "metadata": {},
   "source": [
    "```python\n",
    "# File: my_math.py\n",
    "\n",
    "def add(a, b):\n",
    "    return a + b\n",
    "\n",
    "def subtract(a, b):\n",
    "    return a - b\n",
    "\n",
    "PI = 3.14159\n",
    "\n",
    "class Circle:\n",
    "    def __init__(self, radius):\n",
    "        self.radius = radius\n",
    "    \n",
    "    def area(self):\n",
    "        return PI * self.radius ** 2\n",
    "```\n"
   ]
  },
  {
   "cell_type": "markdown",
   "metadata": {},
   "source": [
    "In this example, `my_math.py` is a module that contains two functions, a constant, and a class.\n"
   ]
  },
  {
   "cell_type": "markdown",
   "metadata": {},
   "source": [
    "### <a id='toc2_2_'></a>[Module Naming Conventions](#toc0_)\n"
   ]
  },
  {
   "cell_type": "markdown",
   "metadata": {},
   "source": [
    "When naming your modules, follow these conventions:\n",
    "\n",
    "1. Use lowercase letters for module names.\n",
    "2. Use underscores to separate words in multi-word module names.\n",
    "3. Avoid using Python keywords or built-in function names.\n",
    "4. Choose descriptive names that reflect the module's purpose.\n"
   ]
  },
  {
   "cell_type": "markdown",
   "metadata": {},
   "source": [
    "Good module names:\n",
    "- `data_processing.py`\n",
    "- `user_authentication.py`\n",
    "- `image_utils.py`\n"
   ]
  },
  {
   "cell_type": "markdown",
   "metadata": {},
   "source": [
    "Avoid names like:\n",
    "- `MyModule.py` (uses capital letters)\n",
    "- `print.py` (conflicts with a built-in function)\n",
    "- `module.py` (too generic)\n"
   ]
  },
  {
   "cell_type": "markdown",
   "metadata": {},
   "source": [
    "💡 **Tip**: Keep your modules focused on a specific functionality or theme. If a module grows too large or handles multiple unrelated tasks, consider splitting it into separate modules.\n"
   ]
  },
  {
   "cell_type": "markdown",
   "metadata": {},
   "source": [
    "### <a id='toc2_3_'></a>[Module Contents](#toc0_)\n"
   ]
  },
  {
   "cell_type": "markdown",
   "metadata": {},
   "source": [
    "A module can contain various Python elements:\n",
    "\n",
    "- Functions\n",
    "- Classes\n",
    "- Variables\n",
    "- Constants\n"
   ]
  },
  {
   "cell_type": "markdown",
   "metadata": {},
   "source": [
    "### <a id='toc2_4_'></a>[Documenting Your Module](#toc0_)\n"
   ]
  },
  {
   "cell_type": "markdown",
   "metadata": {},
   "source": [
    "It's good practice to include a docstring at the beginning of your module to describe its purpose and contents:\n"
   ]
  },
  {
   "cell_type": "markdown",
   "metadata": {},
   "source": [
    "```python\n",
    "\"\"\"\n",
    "My Math Module\n",
    "\n",
    "This module provides basic mathematical operations and a Circle class.\n",
    "\n",
    "Functions:\n",
    "    add(a, b) -> number\n",
    "    subtract(a, b) -> number\n",
    "\n",
    "Classes:\n",
    "    Circle\n",
    "\n",
    "Constants:\n",
    "    PI\n",
    "\"\"\"\n",
    "\n",
    "# Rest of the module code...\n",
    "```\n"
   ]
  },
  {
   "cell_type": "markdown",
   "metadata": {},
   "source": [
    "By following these guidelines, you can create well-structured, reusable modules that enhance the organization and efficiency of your Python projects. In the next sections, we'll explore how to import and use these modules, and we'll discuss the distinction between modules and scripts, including how to make modules executable."
   ]
  },
  {
   "cell_type": "markdown",
   "metadata": {},
   "source": [
    "## <a id='toc3_'></a>[Importing Modules](#toc0_)"
   ]
  },
  {
   "cell_type": "markdown",
   "metadata": {},
   "source": [
    "Once you've created a module, the next step is to use it in your Python programs. This is done through the process of importing. Python provides several ways to import modules, each with its own use cases and advantages.\n"
   ]
  },
  {
   "cell_type": "markdown",
   "metadata": {},
   "source": [
    "### <a id='toc3_1_'></a>[Basic Import Statement](#toc0_)\n"
   ]
  },
  {
   "cell_type": "markdown",
   "metadata": {},
   "source": [
    "The simplest way to import a module is using the `import` statement:\n"
   ]
  },
  {
   "cell_type": "markdown",
   "metadata": {},
   "source": [
    "```python\n",
    "import my_math\n",
    "\n",
    "result = my_math.add(5, 3)\n",
    "print(result)  # Output: 8\n",
    "```"
   ]
  },
  {
   "cell_type": "markdown",
   "metadata": {},
   "source": [
    "This method imports the entire module. You access its contents using dot notation (`module_name.item_name`).\n"
   ]
  },
  {
   "cell_type": "markdown",
   "metadata": {},
   "source": [
    "### <a id='toc3_2_'></a>[From Import Statement](#toc0_)\n"
   ]
  },
  {
   "cell_type": "markdown",
   "metadata": {},
   "source": [
    "If you only need specific items from a module, you can use the `from ... import ...` statement:\n"
   ]
  },
  {
   "cell_type": "markdown",
   "metadata": {},
   "source": [
    "```python\n",
    "from my_math import add, PI\n",
    "\n",
    "result = add(5, 3)\n",
    "print(result)  # Output: 8\n",
    "print(PI)      # Output: 3.14159\n",
    "```\n"
   ]
  },
  {
   "cell_type": "markdown",
   "metadata": {},
   "source": [
    "This approach allows you to use the imported items directly, without the module name prefix.\n"
   ]
  },
  {
   "cell_type": "markdown",
   "metadata": {},
   "source": [
    "### <a id='toc3_3_'></a>[Import as Statement](#toc0_)\n"
   ]
  },
  {
   "cell_type": "markdown",
   "metadata": {},
   "source": [
    "You can give a module or its contents an alias using the `as` keyword:\n"
   ]
  },
  {
   "cell_type": "markdown",
   "metadata": {},
   "source": [
    "```python\n",
    "import my_math as mm\n",
    "\n",
    "result = mm.subtract(10, 7)\n",
    "print(result)  # Output: 3\n",
    "```\n"
   ]
  },
  {
   "cell_type": "markdown",
   "metadata": {},
   "source": [
    "This is particularly useful for modules with long names or to avoid naming conflicts.\n"
   ]
  },
  {
   "cell_type": "markdown",
   "metadata": {},
   "source": [
    "### <a id='toc3_4_'></a>[Importing All Names (*)](#toc0_)\n"
   ]
  },
  {
   "cell_type": "markdown",
   "metadata": {},
   "source": [
    "You can import all names from a module using the asterisk:\n"
   ]
  },
  {
   "cell_type": "markdown",
   "metadata": {},
   "source": [
    "```python\n",
    "from my_math import *\n",
    "\n",
    "print(add(4, 2))    # Output: 6\n",
    "print(PI)           # Output: 3.14159\n",
    "c = Circle(5)\n",
    "print(c.area())     # Output: 78.53975\n",
    "```\n"
   ]
  },
  {
   "cell_type": "markdown",
   "metadata": {},
   "source": [
    "⚠️ **Warning**: While convenient, this method is generally discouraged as it can lead to naming conflicts and make code less readable. Use it sparingly and preferably only in interactive sessions.\n"
   ]
  },
  {
   "cell_type": "markdown",
   "metadata": {},
   "source": [
    "You can use `__all__` to control what is imported when using the `*` wildcard.\n",
    "\n",
    "For example, create a new file called `my_math.py` and add the following code:\n",
    "```python\n",
    "__all__ = ['add', 'subtract', 'Circle']\n",
    "\n",
    "def add(a, b):\n",
    "    return a + b\n",
    "\n",
    "def subtract(a, b):\n",
    "    return a - b\n",
    "\n",
    "class Circle:\n",
    "    def __init__(self, radius):\n",
    "        self.radius = radius\n",
    "\n",
    "PI = 3.14159\n",
    "def area(self):\n",
    "    return PI * self.radius ** 2\n",
    "```\n",
    "\n",
    "Here only `add`, `subtract`, and `Circle` will be imported when using the `*` wildcard."
   ]
  },
  {
   "cell_type": "markdown",
   "metadata": {},
   "source": [
    "### <a id='toc3_5_'></a>[Best Practices for Importing](#toc0_)\n"
   ]
  },
  {
   "cell_type": "markdown",
   "metadata": {},
   "source": [
    "1. **Import at the top**: Place your imports at the beginning of the file, after any module comments and docstrings.\n",
    "\n",
    "2. **One import per line**: For clarity, put each import on a separate line.\n",
    "\n",
    "3. **Group imports**: Standard practice is to group imports in the following order:\n",
    "   - Standard library imports\n",
    "   - Third-party imports\n",
    "   - Local application imports\n",
    "\n",
    "   Separate each group with a blank line.\n",
    "\n",
    "4. **Avoid circular imports**: Be careful not to create a situation where two modules import each other.\n",
    "\n",
    "5. **Use relative imports** for organizing packages (we'll cover this in more detail later).\n"
   ]
  },
  {
   "cell_type": "markdown",
   "metadata": {},
   "source": [
    "Example of well-organized imports:\n"
   ]
  },
  {
   "cell_type": "markdown",
   "metadata": {},
   "source": [
    "```python\n",
    "import os\n",
    "import sys\n",
    "\n",
    "import numpy as np\n",
    "import pandas as pd\n",
    "\n",
    "from my_package import my_module\n",
    "from .local_module import local_function\n",
    "```\n"
   ]
  },
  {
   "cell_type": "markdown",
   "metadata": {},
   "source": [
    "> 💡 **Tip**: The way you import can affect your code's readability and maintainability. Choose the import style that makes your code clearest and most concise.\n"
   ]
  },
  {
   "cell_type": "markdown",
   "metadata": {},
   "source": [
    "By mastering these import techniques, you'll be able to effectively use modules in your Python programs, leading to more organized and efficient code. In the next section, we'll explore the difference between modules and scripts, and how to make modules executable."
   ]
  },
  {
   "cell_type": "markdown",
   "metadata": {},
   "source": [
    "## <a id='toc4_'></a>[Modules vs. Scripts: Making Modules Executable](#toc0_)"
   ]
  },
  {
   "cell_type": "markdown",
   "metadata": {},
   "source": [
    "Understanding the distinction between modules and scripts, and knowing how to make modules executable, is crucial for creating versatile Python code. Let's explore these concepts:\n"
   ]
  },
  {
   "cell_type": "markdown",
   "metadata": {},
   "source": [
    "A script is generally a directly executable piece of code that performs a specific task. A module, on the other hand, is a reusable unit of code that can be imported and used in other programs. Note that there's no internal difference between a script and a module in Python; the distinction is based on how the code is intended to be used. Python allows for a file to serve both purposes - as a module when imported and as a script when executed directly.\n"
   ]
  },
  {
   "cell_type": "markdown",
   "metadata": {},
   "source": [
    "1. **Modules**:\n",
    "   - Designed to be imported and used by other Python files.\n",
    "   - Contain reusable functions, classes, and variables.\n",
    "   - Not typically meant to be run directly.\n",
    "\n",
    "2. **Scripts**:\n",
    "   - Standalone programs meant to be executed directly.\n",
    "   - Often perform a specific task or series of tasks.\n",
    "   - Can import and use modules.\n"
   ]
  },
  {
   "cell_type": "markdown",
   "metadata": {},
   "source": [
    "### <a id='toc4_2_'></a>[Making Modules Executable](#toc0_)\n"
   ]
  },
  {
   "cell_type": "markdown",
   "metadata": {},
   "source": [
    "Python uses a special variable `__name__` to determine how a file is being used. When a Python file is run directly, `__name__` is set to `\"__main__\"`. When it's imported as a module, `__name__` is set to the module's name.\n"
   ]
  },
  {
   "cell_type": "markdown",
   "metadata": {},
   "source": [
    "We can use this to make a module executable:\n"
   ]
  },
  {
   "cell_type": "markdown",
   "metadata": {},
   "source": [
    "```python\n",
    "# File: my_math.py\n",
    "\n",
    "def add(a, b):\n",
    "    return a + b\n",
    "\n",
    "def subtract(a, b):\n",
    "    return a - b\n",
    "\n",
    "if __name__ == \"__main__\":\n",
    "    print(\"This module is being run directly.\")\n",
    "    print(\"Example usage:\")\n",
    "    print(f\"5 + 3 = {add(5, 3)}\")\n",
    "    print(f\"10 - 7 = {subtract(10, 7)}\")\n",
    "else:\n",
    "    print(\"This module is being imported.\")\n",
    "```\n"
   ]
  },
  {
   "cell_type": "markdown",
   "metadata": {},
   "source": [
    "In this example:\n",
    "- When `my_math.py` is imported, only the functions are defined.\n",
    "- When `my_math.py` is run as a script, it executes the code inside the `if __name__ == \"__main__\":` block.\n"
   ]
  },
  {
   "cell_type": "markdown",
   "metadata": {},
   "source": [
    "### <a id='toc4_3_'></a>[Benefits of This Approach](#toc0_)\n"
   ]
  },
  {
   "cell_type": "markdown",
   "metadata": {},
   "source": [
    "1. **Versatility**: The same file can serve as both a module and a script.\n",
    "2. **Testing**: You can include example usage or tests in the `if __name__ == \"__main__\":` block.\n",
    "3. **Documentation**: Provides a way to demonstrate how to use the module.\n",
    "4. **Safety**: Prevents code from being executed unintentionally when the module is imported.\n"
   ]
  },
  {
   "cell_type": "markdown",
   "metadata": {},
   "source": [
    "### <a id='toc4_4_'></a>[Example Usage](#toc0_)\n"
   ]
  },
  {
   "cell_type": "markdown",
   "metadata": {},
   "source": [
    "When run as a script:"
   ]
  },
  {
   "cell_type": "markdown",
   "metadata": {},
   "source": [
    "```bash\n",
    "$ python my_math.py\n",
    "This module is being run directly.\n",
    "Example usage:\n",
    "5 + 3 = 8\n",
    "10 - 7 = 3\n",
    "```\n"
   ]
  },
  {
   "cell_type": "markdown",
   "metadata": {},
   "source": [
    "When imported in another file:\n",
    "```python\n",
    "import my_math\n",
    "# Output: This module is being imported.\n",
    "\n",
    "result = my_math.add(4, 6)\n",
    "print(result)  # Output: 10\n",
    "```\n"
   ]
  },
  {
   "cell_type": "markdown",
   "metadata": {},
   "source": [
    "💡 **Tip**: This pattern is so common in Python that it's often referred to as the \"main block\" or \"main guard\".\n"
   ]
  },
  {
   "cell_type": "markdown",
   "metadata": {},
   "source": [
    "By using this technique, you can create Python files that are both importable modules and executable scripts, providing maximum flexibility and reusability in your code."
   ]
  },
  {
   "cell_type": "markdown",
   "metadata": {},
   "source": [
    "## <a id='toc5_'></a>[Best Practices](#toc0_)"
   ]
  },
  {
   "cell_type": "markdown",
   "metadata": {},
   "source": [
    "When working with modules, following best practices ensures that your code remains clean, maintainable, and efficient. Let's explore some key guidelines for organizing and using modules effectively.\n"
   ]
  },
  {
   "cell_type": "markdown",
   "metadata": {},
   "source": [
    "### <a id='toc5_1_'></a>[Organizing Module Contents](#toc0_)\n"
   ]
  },
  {
   "cell_type": "markdown",
   "metadata": {},
   "source": [
    "1. **Single Responsibility Principle**\n",
    "   - Each module should have a single, well-defined purpose.\n",
    "   - If a module grows too large or handles multiple unrelated tasks, consider splitting it into separate modules.\n",
    "\n",
    "2. **Logical Grouping**\n",
    "   - Group related functions, classes, and variables together within the module.\n",
    "   - Use comments or docstrings to separate different sections if needed.\n",
    "\n",
    "3. **Minimize Global Variables**\n",
    "   - Limit the use of global variables in modules.\n",
    "   - If necessary, consider using a configuration class or module for shared constants.\n",
    "\n",
    "4. **Use Private Names**\n",
    "   - Prefix internal-use functions or variables with an underscore (e.g., `_internal_function`).\n",
    "   - This signals that these items are not part of the module's public API.\n"
   ]
  },
  {
   "cell_type": "markdown",
   "metadata": {},
   "source": [
    "### <a id='toc5_2_'></a>[Using if `__name__ == \"__main__\"`](#toc0_)\n"
   ]
  },
  {
   "cell_type": "markdown",
   "metadata": {},
   "source": [
    "As discussed in the previous section, this idiom is crucial for making modules executable:\n"
   ]
  },
  {
   "cell_type": "markdown",
   "metadata": {},
   "source": [
    "```python\n",
    "def main_function():\n",
    "    # Main logic here\n",
    "    pass\n",
    "\n",
    "if __name__ == \"__main__\":\n",
    "    main_function()\n",
    "```\n"
   ]
  },
  {
   "cell_type": "markdown",
   "metadata": {},
   "source": [
    "Benefits:\n",
    "- Allows the file to be both imported as a module and run as a script.\n",
    "- Provides a clear entry point for script execution.\n",
    "- Keeps the global scope clean.\n"
   ]
  },
  {
   "cell_type": "markdown",
   "metadata": {},
   "source": [
    "### <a id='toc5_3_'></a>[Documenting Your Module](#toc0_)\n"
   ]
  },
  {
   "cell_type": "markdown",
   "metadata": {},
   "source": [
    "1. **Module-level Docstring**\n",
    "   - Include a docstring at the beginning of your module explaining its purpose and contents.\n",
    "\n",
    "   ```python\n",
    "   \"\"\"\n",
    "   This module provides utility functions for data processing.\n",
    "\n",
    "   Functions:\n",
    "       clean_data(data): Removes duplicates and null values.\n",
    "       normalize_data(data): Scales numerical data to a 0-1 range.\n",
    "   \"\"\"\n",
    "   ```\n",
    "\n",
    "2. **Function and Class Docstrings**\n",
    "   - Document each public function and class with a clear docstring.\n",
    "   - Include information about parameters, return values, and any raised exceptions.\n",
    "\n",
    "   ```python\n",
    "   def clean_data(data):\n",
    "       \"\"\"\n",
    "       Remove duplicates and null values from the dataset.\n",
    "\n",
    "       Args:\n",
    "           data (pandas.DataFrame): The input dataset.\n",
    "\n",
    "       Returns:\n",
    "           pandas.DataFrame: The cleaned dataset.\n",
    "\n",
    "       Raises:\n",
    "           ValueError: If the input is not a pandas DataFrame.\n",
    "       \"\"\"\n",
    "       # Function implementation\n",
    "   ```\n"
   ]
  },
  {
   "cell_type": "markdown",
   "metadata": {},
   "source": [
    "### <a id='toc5_4_'></a>[Import Best Practices](#toc0_)\n"
   ]
  },
  {
   "cell_type": "markdown",
   "metadata": {},
   "source": [
    "1. **Import Order**\n",
    "   - Standard library imports\n",
    "   - Third-party library imports\n",
    "   - Local application imports\n",
    "\n",
    "2. **Avoid Wildcard Imports**\n",
    "   - Instead of `from module import *`, specify the names you need.\n",
    "   - This prevents namespace pollution and makes dependencies clear.\n",
    "\n",
    "3. **Use Absolute Imports**\n",
    "   - Prefer absolute imports over relative imports for clarity.\n",
    "   - Example: `from mypackage.mymodule import MyClass` instead of `from .mymodule import MyClass`\n",
    "\n",
    "4. **Import Only What You Need**\n",
    "   - Import specific functions or classes rather than entire modules when possible.\n",
    "   - This can improve performance and reduce memory usage in large applications.\n"
   ]
  },
  {
   "cell_type": "markdown",
   "metadata": {},
   "source": [
    "By following these guidelines, you'll create robust, well-organized modules that enhance the overall quality of your Python projects."
   ]
  },
  {
   "cell_type": "markdown",
   "metadata": {},
   "source": [
    "## <a id='toc6_'></a>[Common Built-in Modules](#toc0_)"
   ]
  },
  {
   "cell_type": "markdown",
   "metadata": {},
   "source": [
    "Python comes with a rich set of built-in modules that provide a wide range of functionality. These modules are part of the Python Standard Library and are available in any standard Python installation. Understanding and utilizing these modules can significantly enhance your programming capabilities and efficiency.\n"
   ]
  },
  {
   "cell_type": "markdown",
   "metadata": {},
   "source": [
    "Let's explore some of the most commonly used built-in modules:\n"
   ]
  },
  {
   "cell_type": "markdown",
   "metadata": {},
   "source": [
    "### <a id='toc6_1_'></a>[os - Operating System Interface](#toc0_)\n"
   ]
  },
  {
   "cell_type": "markdown",
   "metadata": {},
   "source": [
    "The `os` module provides a way to use operating system-dependent functionality.\n"
   ]
  },
  {
   "cell_type": "code",
   "execution_count": 2,
   "metadata": {},
   "outputs": [],
   "source": [
    "import os"
   ]
  },
  {
   "cell_type": "code",
   "execution_count": 3,
   "metadata": {},
   "outputs": [
    {
     "data": {
      "text/plain": [
       "'/Users/hejazizo/PERSONAL_DIR/pytopia/content/Python-Programming/Lectures/10 Modular Programming'"
      ]
     },
     "execution_count": 3,
     "metadata": {},
     "output_type": "execute_result"
    }
   ],
   "source": [
    "# Get current working directory\n",
    "os.getcwd()"
   ]
  },
  {
   "cell_type": "code",
   "execution_count": 4,
   "metadata": {},
   "outputs": [
    {
     "data": {
      "text/plain": [
       "['10 Debugging Modular Python Code.ipynb',\n",
       " '03 Creating and Importing Modules.ipynb',\n",
       " '08 The init.py File.ipynb',\n",
       " '01 Limitations of Jupyter Notebooks.ipynb',\n",
       " '09 Project Organization Strategies.ipynb',\n",
       " 'images',\n",
       " '07 Creating and Using Packages.ipynb',\n",
       " '06 Working with Built-in Modules.ipynb',\n",
       " '02 Modular Programming.ipynb',\n",
       " '04 The Python Module Search Path.ipynb',\n",
       " '05 Absolute vs. Relative Imports.ipynb']"
      ]
     },
     "execution_count": 4,
     "metadata": {},
     "output_type": "execute_result"
    }
   ],
   "source": [
    "# List files in a directory\n",
    "os.listdir('.')"
   ]
  },
  {
   "cell_type": "code",
   "execution_count": 5,
   "metadata": {},
   "outputs": [],
   "source": [
    "# Create a new directory\n",
    "os.mkdir('new_folder')"
   ]
  },
  {
   "cell_type": "code",
   "execution_count": 6,
   "metadata": {},
   "outputs": [
    {
     "data": {
      "text/plain": [
       "'folder/subfolder/file.txt'"
      ]
     },
     "execution_count": 6,
     "metadata": {},
     "output_type": "execute_result"
    }
   ],
   "source": [
    "# Join path components\n",
    "path = os.path.join('folder', 'subfolder', 'file.txt')\n",
    "path"
   ]
  },
  {
   "cell_type": "markdown",
   "metadata": {},
   "source": [
    "### <a id='toc6_2_'></a>[sys - System-specific Parameters and Functions](#toc0_)\n"
   ]
  },
  {
   "cell_type": "markdown",
   "metadata": {},
   "source": [
    "`sys` provides access to some variables and functions used or maintained by the Python interpreter.\n"
   ]
  },
  {
   "cell_type": "code",
   "execution_count": 7,
   "metadata": {},
   "outputs": [],
   "source": [
    "import sys"
   ]
  },
  {
   "cell_type": "code",
   "execution_count": 8,
   "metadata": {},
   "outputs": [
    {
     "data": {
      "text/plain": [
       "'3.10.12 (main, Jul  5 2023, 15:02:25) [Clang 14.0.6 ]'"
      ]
     },
     "execution_count": 8,
     "metadata": {},
     "output_type": "execute_result"
    }
   ],
   "source": [
    "# Get Python version\n",
    "sys.version"
   ]
  },
  {
   "cell_type": "code",
   "execution_count": 9,
   "metadata": {},
   "outputs": [
    {
     "data": {
      "text/plain": [
       "['/Users/hejazizo/miniconda3/envs/py310/lib/python3.10/site-packages/ipykernel_launcher.py',\n",
       " '--f=/Users/hejazizo/Library/Jupyter/runtime/kernel-v2-27802W07l9DeBgsLd.json']"
      ]
     },
     "execution_count": 9,
     "metadata": {},
     "output_type": "execute_result"
    }
   ],
   "source": [
    "# Get command line arguments\n",
    "sys.argv"
   ]
  },
  {
   "cell_type": "markdown",
   "metadata": {},
   "source": [
    "```python\n",
    "# Exit the program\n",
    "sys.exit(0)\n",
    "```"
   ]
  },
  {
   "cell_type": "markdown",
   "metadata": {},
   "source": [
    "### <a id='toc6_3_'></a>[datetime - Basic Date and Time Types](#toc0_)\n"
   ]
  },
  {
   "cell_type": "markdown",
   "metadata": {},
   "source": [
    "This module supplies classes for working with dates and times.\n"
   ]
  },
  {
   "cell_type": "code",
   "execution_count": 10,
   "metadata": {},
   "outputs": [],
   "source": [
    "from datetime import datetime, timedelta"
   ]
  },
  {
   "cell_type": "code",
   "execution_count": 11,
   "metadata": {},
   "outputs": [
    {
     "data": {
      "text/plain": [
       "datetime.datetime(2024, 7, 25, 10, 31, 46, 965922)"
      ]
     },
     "execution_count": 11,
     "metadata": {},
     "output_type": "execute_result"
    }
   ],
   "source": [
    "# Current date and time\n",
    "now = datetime.now()\n",
    "now"
   ]
  },
  {
   "cell_type": "code",
   "execution_count": 12,
   "metadata": {},
   "outputs": [
    {
     "data": {
      "text/plain": [
       "datetime.datetime(2024, 8, 24, 10, 31, 46, 965922)"
      ]
     },
     "execution_count": 12,
     "metadata": {},
     "output_type": "execute_result"
    }
   ],
   "source": [
    "# Date arithmetic\n",
    "future_date = now + timedelta(days=30)\n",
    "future_date"
   ]
  },
  {
   "cell_type": "markdown",
   "metadata": {},
   "source": [
    "### <a id='toc6_4_'></a>[math - Mathematical Functions](#toc0_)\n"
   ]
  },
  {
   "cell_type": "markdown",
   "metadata": {},
   "source": [
    "`math` provides access to mathematical functions defined by the C standard.\n"
   ]
  },
  {
   "cell_type": "code",
   "execution_count": 13,
   "metadata": {},
   "outputs": [],
   "source": [
    "import math"
   ]
  },
  {
   "cell_type": "code",
   "execution_count": 14,
   "metadata": {},
   "outputs": [
    {
     "data": {
      "text/plain": [
       "3.141592653589793"
      ]
     },
     "execution_count": 14,
     "metadata": {},
     "output_type": "execute_result"
    }
   ],
   "source": [
    "math.pi  # Pi constant"
   ]
  },
  {
   "cell_type": "code",
   "execution_count": 15,
   "metadata": {},
   "outputs": [
    {
     "data": {
      "text/plain": [
       "4.0"
      ]
     },
     "execution_count": 15,
     "metadata": {},
     "output_type": "execute_result"
    }
   ],
   "source": [
    "math.sqrt(16)  # Square root"
   ]
  },
  {
   "cell_type": "code",
   "execution_count": 16,
   "metadata": {},
   "outputs": [
    {
     "data": {
      "text/plain": [
       "0.49999999999999994"
      ]
     },
     "execution_count": 16,
     "metadata": {},
     "output_type": "execute_result"
    }
   ],
   "source": [
    "math.sin(math.radians(30))  # Sine of 30 degrees"
   ]
  },
  {
   "cell_type": "markdown",
   "metadata": {},
   "source": [
    "### <a id='toc6_5_'></a>[random - Generate Pseudo-random Numbers](#toc0_)\n"
   ]
  },
  {
   "cell_type": "markdown",
   "metadata": {},
   "source": [
    "This module implements pseudo-random number generators for various distributions.\n"
   ]
  },
  {
   "cell_type": "code",
   "execution_count": 17,
   "metadata": {},
   "outputs": [],
   "source": [
    "import random"
   ]
  },
  {
   "cell_type": "code",
   "execution_count": 18,
   "metadata": {},
   "outputs": [
    {
     "data": {
      "text/plain": [
       "4"
      ]
     },
     "execution_count": 18,
     "metadata": {},
     "output_type": "execute_result"
    }
   ],
   "source": [
    "random.randint(1, 10)  # Random integer between 1 and 10"
   ]
  },
  {
   "cell_type": "code",
   "execution_count": 19,
   "metadata": {},
   "outputs": [
    {
     "data": {
      "text/plain": [
       "'cherry'"
      ]
     },
     "execution_count": 19,
     "metadata": {},
     "output_type": "execute_result"
    }
   ],
   "source": [
    "random.choice(['apple', 'banana', 'cherry'])  # Random choice from a list"
   ]
  },
  {
   "cell_type": "markdown",
   "metadata": {},
   "source": [
    "### <a id='toc6_6_'></a>[re - Regular Expression Operations](#toc0_)\n"
   ]
  },
  {
   "cell_type": "markdown",
   "metadata": {},
   "source": [
    "This module provides support for regular expressions.\n"
   ]
  },
  {
   "cell_type": "code",
   "execution_count": 20,
   "metadata": {},
   "outputs": [],
   "source": [
    "import re"
   ]
  },
  {
   "cell_type": "code",
   "execution_count": 32,
   "metadata": {},
   "outputs": [
    {
     "name": "stdout",
     "output_type": "stream",
     "text": [
      "<re.Match object; span=(0, 16), match='user@example.com'>\n"
     ]
    }
   ],
   "source": [
    "pattern = r'\\b[A-Za-z0-9._%+-]+@[A-Za-z0-9.-]+\\.[A-Z|a-z]{2,}\\b'\n",
    "email = \"user@example.com\"\n",
    "print(re.match(pattern, email))"
   ]
  },
  {
   "cell_type": "code",
   "execution_count": 33,
   "metadata": {},
   "outputs": [
    {
     "name": "stdout",
     "output_type": "stream",
     "text": [
      "None\n"
     ]
    }
   ],
   "source": [
    "invalid_email = \"user@example\"\n",
    "print(re.match(pattern, invalid_email))"
   ]
  },
  {
   "cell_type": "markdown",
   "metadata": {},
   "source": [
    "### <a id='toc6_7_'></a>[collections - Container Datatypes](#toc0_)\n"
   ]
  },
  {
   "cell_type": "markdown",
   "metadata": {},
   "source": [
    "`collections` provides alternatives to Python's general purpose built-in containers.\n"
   ]
  },
  {
   "cell_type": "code",
   "execution_count": 28,
   "metadata": {},
   "outputs": [],
   "source": [
    "from collections import Counter, defaultdict"
   ]
  },
  {
   "cell_type": "code",
   "execution_count": 29,
   "metadata": {},
   "outputs": [
    {
     "name": "stdout",
     "output_type": "stream",
     "text": [
      "2\n"
     ]
    }
   ],
   "source": [
    "# Count occurrences\n",
    "c = Counter(['apple', 'banana', 'apple', 'cherry'])\n",
    "print(c['apple'])  # Output: 2"
   ]
  },
  {
   "cell_type": "code",
   "execution_count": 30,
   "metadata": {},
   "outputs": [],
   "source": [
    "# Default dictionary\n",
    "d = defaultdict(int)\n",
    "d['key'] += 1  # No KeyError for missing keys"
   ]
  },
  {
   "cell_type": "markdown",
   "metadata": {},
   "source": [
    "💡 **Tip**: Familiarize yourself with these common modules. They can save you time and effort by providing ready-to-use functionality for many common programming tasks.\n"
   ]
  },
  {
   "cell_type": "markdown",
   "metadata": {},
   "source": [
    "These are just a few examples of the powerful built-in modules available in Python. Exploring and utilizing these modules can greatly enhance your Python programming skills and efficiency. As you develop more complex projects, you'll likely find yourself reaching for these and other built-in modules to solve various programming challenges."
   ]
  },
  {
   "cell_type": "markdown",
   "metadata": {},
   "source": [
    "## <a id='toc7_'></a>[Conclusion](#toc0_)"
   ]
  },
  {
   "cell_type": "markdown",
   "metadata": {},
   "source": [
    "In this lecture, we've explored the fundamental concept of modules in Python, a crucial aspect of writing organized, maintainable, and efficient code. Let's recap the key points we've covered:\n",
    "\n",
    "1. **Understanding Modules**: We learned that modules are simply Python files containing reusable code, serving as the building blocks for larger programs.\n",
    "\n",
    "2. **Creating Modules**: We discussed how to create our own modules, following naming conventions and best practices for structuring module contents.\n",
    "\n",
    "3. **Importing Modules**: We explored various techniques for importing modules and their contents, including basic imports, from imports, and aliasing.\n",
    "\n",
    "4. **Modules vs. Scripts**: We examined the distinction between modules and scripts, and learned how to make modules executable using the `if __name__ == \"__main__\"` idiom.\n",
    "\n",
    "5. **Best Practices**: We covered important guidelines for organizing module contents, documenting code, and following import best practices.\n",
    "\n",
    "6. **Built-in Modules**: We introduced some common built-in modules from Python's standard library, showcasing their utility in various programming tasks.\n"
   ]
  },
  {
   "cell_type": "markdown",
   "metadata": {},
   "source": [
    "Key takeaways:\n",
    "\n",
    "- Modules are essential for code organization and reusability.\n",
    "- Proper module design and usage can significantly improve code maintainability and readability.\n",
    "- Understanding import mechanisms is crucial for effectively using modules in your projects.\n",
    "- The Python Standard Library provides a wealth of built-in modules that can simplify many programming tasks.\n"
   ]
  },
  {
   "cell_type": "markdown",
   "metadata": {},
   "source": [
    "🔑 **Remember**: As you continue to develop your Python skills, mastering the use of modules will be instrumental in your transition from writing simple scripts to developing complex, well-structured applications.\n"
   ]
  },
  {
   "cell_type": "markdown",
   "metadata": {},
   "source": [
    "Next steps:\n",
    "1. Practice creating your own modules for different functionalities.\n",
    "2. Experiment with various import techniques in your projects.\n",
    "3. Explore more built-in modules and third-party libraries to expand your Python toolkit.\n",
    "4. Start thinking about how you can modularize your existing code for better organization and reusability.\n"
   ]
  },
  {
   "cell_type": "markdown",
   "metadata": {},
   "source": [
    "By applying the concepts learned in this lecture, you're well on your way to writing more professional, efficient, and maintainable Python code. Remember, effective use of modules is a hallmark of experienced Python developers, and it's a skill that will serve you well in all your future Python endeavors."
   ]
  }
 ],
 "metadata": {
  "kernelspec": {
   "display_name": "py310",
   "language": "python",
   "name": "python3"
  },
  "language_info": {
   "codemirror_mode": {
    "name": "ipython",
    "version": 3
   },
   "file_extension": ".py",
   "mimetype": "text/x-python",
   "name": "python",
   "nbconvert_exporter": "python",
   "pygments_lexer": "ipython3",
   "version": "3.10.12"
  }
 },
 "nbformat": 4,
 "nbformat_minor": 2
}
