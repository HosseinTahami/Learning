{
 "cells": [
  {
   "cell_type": "markdown",
   "metadata": {},
   "source": [
    "<img src=\"./images/banner.png\" width=\"800\">"
   ]
  },
  {
   "cell_type": "markdown",
   "metadata": {},
   "source": [
    "# Module Search Path"
   ]
  },
  {
   "cell_type": "markdown",
   "metadata": {},
   "source": [
    "When you're working on Python projects, especially as they grow in complexity, understanding how Python finds and imports modules becomes crucial. The module search path is a fundamental concept that underlies Python's import system, determining where Python looks for modules when you use import statements in your code.\n"
   ]
  },
  {
   "cell_type": "markdown",
   "metadata": {},
   "source": [
    "In this lecture, we'll dive deep into the Python Module Search Path, exploring:\n",
    "\n",
    "- How Python's import system works\n",
    "- The default module search path and how to view it\n",
    "- Methods to modify the search path\n",
    "- Common pitfalls and best practices\n",
    "- The impact of virtual environments on the search path\n",
    "- Techniques for debugging import-related issues\n"
   ]
  },
  {
   "cell_type": "markdown",
   "metadata": {},
   "source": [
    "🎯 **Goal**: By the end of this lecture, you'll have a solid understanding of how Python locates modules, enabling you to structure your projects more effectively and resolve import-related problems with confidence.\n"
   ]
  },
  {
   "cell_type": "markdown",
   "metadata": {},
   "source": [
    "Understanding the module search path is essential for:\n",
    "- Organizing larger Python projects\n",
    "- Utilizing third-party libraries effectively\n",
    "- Debugging import errors\n",
    "- Creating your own reusable modules and packages\n"
   ]
  },
  {
   "cell_type": "markdown",
   "metadata": {},
   "source": [
    "💡 **Note**: This knowledge is particularly valuable as you transition from writing simple scripts to developing more complex, modular Python applications.\n"
   ]
  },
  {
   "cell_type": "markdown",
   "metadata": {},
   "source": [
    "Let's begin our exploration of Python's module search path and unlock the power of efficient module management in your Python projects."
   ]
  },
  {
   "cell_type": "markdown",
   "metadata": {},
   "source": [
    "**Table of contents**<a id='toc0_'></a>    \n",
    "- [Understanding Python's Import System](#toc1_)    \n",
    "- [The Module Search Path](#toc2_)    \n",
    "  - [Default Search Path](#toc2_1_)    \n",
    "  - [Viewing the Current Search Path](#toc2_2_)    \n",
    "- [Modifying the Module Search Path](#toc3_)    \n",
    "  - [Using `PYTHONPATH` Environment Variable](#toc3_1_)    \n",
    "  - [Modifying `sys.path` at Runtime](#toc3_2_)    \n",
    "  - [Using `.pth` Files](#toc3_3_)    \n",
    "  - [Best Practices for Modifying the Search Path](#toc3_4_)    \n",
    "- [Working with Virtual Environments](#toc4_)    \n",
    "  - [Impact on Module Search Path](#toc4_1_)    \n",
    "  - [Creating and Using Virtual Environments](#toc4_2_)    \n",
    "  - [Viewing the Modified Search Path](#toc4_3_)    \n",
    "  - [Best Practices for Virtual Environments](#toc4_4_)    \n",
    "- [Debugging Import Issues](#toc5_)    \n",
    "  - [Techniques for Troubleshooting](#toc5_1_)    \n",
    "  - [Advanced Debugging Techniques](#toc5_2_)    \n",
    "- [Conclusion](#toc6_)    \n",
    "\n",
    "<!-- vscode-jupyter-toc-config\n",
    "\tnumbering=false\n",
    "\tanchor=true\n",
    "\tflat=false\n",
    "\tminLevel=2\n",
    "\tmaxLevel=6\n",
    "\t/vscode-jupyter-toc-config -->\n",
    "<!-- THIS CELL WILL BE REPLACED ON TOC UPDATE. DO NOT WRITE YOUR TEXT IN THIS CELL -->"
   ]
  },
  {
   "cell_type": "markdown",
   "metadata": {},
   "source": [
    "## <a id='toc1_'></a>[Understanding Python's Import System](#toc0_)"
   ]
  },
  {
   "cell_type": "markdown",
   "metadata": {},
   "source": [
    "Before diving into the specifics of the module search path, it's crucial to understand how Python's import system works. This knowledge forms the foundation for comprehending where and how Python looks for modules.\n"
   ]
  },
  {
   "cell_type": "markdown",
   "metadata": {},
   "source": [
    "In Python, the `import` statement is used to bring external code into your current script. There are several ways to use import:\n",
    "\n",
    "1. **Simple import**:\n",
    "   ```python\n",
    "   import math\n",
    "   ```\n",
    "\n",
    "2. **Import with alias**:\n",
    "   ```python\n",
    "   import numpy as np\n",
    "   ```\n",
    "\n",
    "3. **From import**:\n",
    "   ```python\n",
    "   from datetime import datetime\n",
    "   ```\n",
    "\n",
    "4. **Import all (generally discouraged)**:\n",
    "   ```python\n",
    "   from module import *\n",
    "   ```\n"
   ]
  },
  {
   "cell_type": "markdown",
   "metadata": {},
   "source": [
    "When Python encounters an import statement, it follows a series of steps:\n",
    "\n",
    "1. **Check if the module is already in `sys.modules`**\n",
    "   - `sys.modules` is a cache of previously imported modules\n",
    "   - If found, Python uses the cached module\n",
    "\n",
    "2. **Find the module**\n",
    "   - Python searches for the module in various locations (we'll explore this in detail)\n",
    "\n",
    "3. **Load the module**\n",
    "   - Once found, Python loads the module into memory\n",
    "\n",
    "4. **Create a namespace for the module**\n",
    "   - This namespace contains the module's attributes and functions\n",
    "\n",
    "5. **Execute the module code**\n",
    "   - The code in the module is executed, populating the namespace\n",
    "\n",
    "6. **Add to `sys.modules`**\n",
    "   - The module is added to `sys.modules` for future reference\n"
   ]
  },
  {
   "cell_type": "markdown",
   "metadata": {},
   "source": [
    "💡 **Note**: This process ensures that each module is only loaded once, regardless of how many times it's imported in a program.\n"
   ]
  },
  {
   "cell_type": "markdown",
   "metadata": {},
   "source": [
    "## <a id='toc2_'></a>[The Module Search Path](#toc0_)"
   ]
  },
  {
   "cell_type": "markdown",
   "metadata": {},
   "source": [
    "The module search path is the sequence of locations where Python looks for modules when an import statement is executed. Understanding this path is crucial for organizing your projects and troubleshooting import issues. Let's explore the default search path and how Python uses it to locate modules."
   ]
  },
  {
   "cell_type": "markdown",
   "metadata": {},
   "source": [
    "### <a id='toc2_1_'></a>[Default Search Path](#toc0_)\n"
   ]
  },
  {
   "cell_type": "markdown",
   "metadata": {},
   "source": [
    "Python follows a specific order when searching for modules. The default search path includes the following locations:\n",
    "\n",
    "1. **The directory containing the input script**\n",
    "   - This is the current directory when running a Python script\n",
    "\n",
    "2. **PYTHONPATH**\n",
    "   - An environment variable containing a list of directories\n",
    "\n",
    "3. **Standard library directories**\n",
    "   - Built-in locations where Python's standard libraries are stored\n",
    "\n",
    "4. **Site-packages directories**\n",
    "   - Locations where third-party packages are installed\n",
    "\n",
    "5. **Additional directories specified in .pth files**\n",
    "   - These are text files that can add extra directories to the search path\n"
   ]
  },
  {
   "cell_type": "markdown",
   "metadata": {},
   "source": [
    "### <a id='toc2_2_'></a>[Viewing the Current Search Path](#toc0_)\n"
   ]
  },
  {
   "cell_type": "markdown",
   "metadata": {},
   "source": [
    "You can view the current module search path using the `sys.path` list. This list contains the directories where Python searches for modules. Let's see how to access and display the search path in Python:"
   ]
  },
  {
   "cell_type": "code",
   "execution_count": 1,
   "metadata": {},
   "outputs": [
    {
     "name": "stdout",
     "output_type": "stream",
     "text": [
      "/Users/hejazizo/PERSONAL_DIR/pytopia/content/Python-Programming/Lectures/10 Modular Programming\n",
      "/Users/hejazizo/miniconda3/envs/py310/lib/python310.zip\n",
      "/Users/hejazizo/miniconda3/envs/py310/lib/python3.10\n",
      "/Users/hejazizo/miniconda3/envs/py310/lib/python3.10/lib-dynload\n",
      "\n",
      "/Users/hejazizo/miniconda3/envs/py310/lib/python3.10/site-packages\n"
     ]
    }
   ],
   "source": [
    "import sys\n",
    "\n",
    "for path in sys.path:\n",
    "    print(path)"
   ]
  },
  {
   "cell_type": "markdown",
   "metadata": {},
   "source": [
    "💡 **Tip**: Run this code in different environments (e.g., script vs. interactive shell) to see how the search path can vary.\n"
   ]
  },
  {
   "cell_type": "markdown",
   "metadata": {},
   "source": [
    "`sys.path` is a list of strings that specifies the search path for modules. It's initialized from these sources:\n",
    "\n",
    "- The directory containing the input script (or the current directory when no file is specified)\n",
    "- The `PYTHONPATH` environment variable (if set)\n",
    "- The installation-dependent default path\n"
   ]
  },
  {
   "cell_type": "markdown",
   "metadata": {},
   "source": [
    "When you import a module, Python searches these locations in order:\n",
    "\n",
    "1. It first looks for built-in modules.\n",
    "2. If not found, it searches for a file named `<module_name>.py` in the directories listed in `sys.path`.\n"
   ]
  },
  {
   "cell_type": "markdown",
   "metadata": {},
   "source": [
    "For example, with `import mymodule`:\n",
    "\n",
    "1. Python checks if `mymodule` is a built-in module.\n",
    "2. If not, it looks for `mymodule.py` in the current directory.\n",
    "3. If not found, it checks the PYTHONPATH directories.\n",
    "4. Then it looks in the standard library directories.\n",
    "5. Finally, it searches in the site-packages directories.\n"
   ]
  },
  {
   "cell_type": "markdown",
   "metadata": {},
   "source": [
    "## <a id='toc3_'></a>[Modifying the Module Search Path](#toc0_)"
   ]
  },
  {
   "cell_type": "markdown",
   "metadata": {},
   "source": [
    "Sometimes, you may need to modify Python's module search path to include custom directories or to change the search order. Several methods allow you to customize the search path to suit your project's requirements. Some of these methods are more suitable for specific use cases, so let's explore each one in detail.\n"
   ]
  },
  {
   "cell_type": "markdown",
   "metadata": {},
   "source": [
    "### <a id='toc3_1_'></a>[Using `PYTHONPATH` Environment Variable](#toc0_)\n"
   ]
  },
  {
   "cell_type": "markdown",
   "metadata": {},
   "source": [
    "The PYTHONPATH environment variable is a convenient way to add directories to Python's search path.\n"
   ]
  },
  {
   "cell_type": "markdown",
   "metadata": {},
   "source": [
    "1. **Setting `PYTHONPATH`**:\n",
    "   - On Unix/Linux/macOS:\n",
    "     ```bash\n",
    "     export PYTHONPATH=\"/path/to/your/module:$PYTHONPATH\"\n",
    "     ```\n",
    "   - On Windows:\n",
    "     ```\n",
    "     set PYTHONPATH=C:\\path\\to\\your\\module;%PYTHONPATH%\n",
    "     ```\n"
   ]
  },
  {
   "cell_type": "markdown",
   "metadata": {},
   "source": [
    "2. **Checking `PYTHONPATH`**:\n",
    "   ```python\n",
    "   import os\n",
    "   print(os.environ.get('PYTHONPATH', 'Not Set'))\n",
    "   ```\n"
   ]
  },
  {
   "cell_type": "markdown",
   "metadata": {},
   "source": [
    "💡 **Tip**: `PYTHONPATH` is particularly useful for system-wide modifications or when you can't modify the Python code directly.\n"
   ]
  },
  {
   "cell_type": "markdown",
   "metadata": {},
   "source": [
    "### <a id='toc3_2_'></a>[Modifying `sys.path` at Runtime](#toc0_)\n"
   ]
  },
  {
   "cell_type": "markdown",
   "metadata": {},
   "source": [
    "You can also modify `sys.path` directly in your Python code:\n",
    "\n",
    "1. **Adding a directory**:\n",
    "   ```python\n",
    "   import sys\n",
    "   sys.path.append('/path/to/your/module')\n",
    "   ```\n",
    "\n",
    "2. **Inserting at the beginning**:\n",
    "   ```python\n",
    "   sys.path.insert(0, '/path/to/your/module')\n",
    "   ```\n",
    "\n",
    "3. **Removing a path**:\n",
    "   ```python\n",
    "   sys.path.remove('/path/to/remove')\n",
    "   ```\n"
   ]
  },
  {
   "cell_type": "markdown",
   "metadata": {},
   "source": [
    "> **Caution**: Modifying `sys.path` at runtime affects only the current Python session. It's generally better to use this method for temporary changes or debugging.\n"
   ]
  },
  {
   "cell_type": "markdown",
   "metadata": {},
   "source": [
    "### <a id='toc3_3_'></a>[Using `.pth` Files](#toc0_)\n"
   ]
  },
  {
   "cell_type": "markdown",
   "metadata": {},
   "source": [
    "You can create a `.pth` file in a directory that's already in the Python path to add more directories:\n",
    "\n",
    "1. Create a file with a `.pth` extension (e.g., `mypath.pth`).\n",
    "2. Add full paths to directories, one per line.\n",
    "3. Place this file in a directory that's in the Python path (e.g., site-packages).\n",
    "\n",
    "Example `mypath.pth`:\n",
    "```\n",
    "/home/user/my_python_modules\n",
    "/opt/project_libs\n",
    "```\n"
   ]
  },
  {
   "cell_type": "markdown",
   "metadata": {},
   "source": [
    "> 💡 **Note**: `.pth` files are processed in alphabetical order, so you can use naming conventions to control the order.\n"
   ]
  },
  {
   "cell_type": "markdown",
   "metadata": {},
   "source": [
    "### <a id='toc3_4_'></a>[Best Practices for Modifying the Search Path](#toc0_)\n"
   ]
  },
  {
   "cell_type": "markdown",
   "metadata": {},
   "source": [
    "1. **Use virtual environments**: They provide isolated environments with their own search paths.\n",
    "\n",
    "2. **Prefer project-relative paths**: Use relative paths when possible to make your project more portable.\n",
    "\n",
    "3. **Document any modifications**: If you modify the search path, make sure to document it for other developers.\n",
    "\n",
    "4. **Be cautious with system-wide changes**: Modifying PYTHONPATH or adding `.pth` files can affect all Python projects on your system."
   ]
  },
  {
   "cell_type": "markdown",
   "metadata": {},
   "source": [
    "Example of using relative paths:\n",
    "```python\n",
    "import os\n",
    "import sys\n",
    "\n",
    "# Get the directory of the current script\n",
    "current_dir = os.path.dirname(os.path.abspath(__file__))\n",
    "\n",
    "# Add a subdirectory to the path\n",
    "module_dir = os.path.join(current_dir, 'my_modules')\n",
    "sys.path.append(module_dir)\n",
    "```\n"
   ]
  },
  {
   "cell_type": "markdown",
   "metadata": {},
   "source": [
    "By understanding and properly utilizing these methods to modify the module search path, you can create more flexible and maintainable Python projects. However, always consider the implications of these modifications, especially in shared or production environments."
   ]
  },
  {
   "cell_type": "markdown",
   "metadata": {},
   "source": [
    "## <a id='toc4_'></a>[Working with Virtual Environments](#toc0_)"
   ]
  },
  {
   "cell_type": "markdown",
   "metadata": {},
   "source": [
    "Virtual environments are a crucial tool in Python development, providing isolated spaces where you can install packages and manage dependencies without affecting your system-wide Python installation. They also play a significant role in how Python searches for and imports modules.\n"
   ]
  },
  {
   "cell_type": "markdown",
   "metadata": {},
   "source": [
    "### <a id='toc4_1_'></a>[Impact on Module Search Path](#toc0_)\n"
   ]
  },
  {
   "cell_type": "markdown",
   "metadata": {},
   "source": [
    "When you activate a virtual environment, it modifies the module search path in several ways:\n",
    "\n",
    "1. **Prioritizes the virtual environment's directories**:\n",
    "   - The virtual environment's `site-packages` directory is added to the beginning of `sys.path`.\n",
    "   - This ensures that packages installed in the virtual environment are found before system-wide packages.\n",
    "\n",
    "2. **Isolates from system-wide packages**:\n",
    "   - By default, virtual environments don't have access to system-wide packages (except for a few core ones).\n",
    "\n",
    "3. **Creates a clean, project-specific environment**:\n",
    "   - Each virtual environment has its own Python interpreter and libraries.\n"
   ]
  },
  {
   "cell_type": "markdown",
   "metadata": {},
   "source": [
    "### <a id='toc4_2_'></a>[Creating and Using Virtual Environments](#toc0_)\n"
   ]
  },
  {
   "cell_type": "markdown",
   "metadata": {},
   "source": [
    "Here's a quick guide to working with virtual environments:\n",
    "\n",
    "1. **Creating a virtual environment**:\n",
    "   ```bash\n",
    "   python -m venv myenv\n",
    "   ```\n",
    "\n",
    "2. **Activating the environment**:\n",
    "   - On Unix/Linux/macOS:\n",
    "     ```bash\n",
    "     source myenv/bin/activate\n",
    "     ```\n",
    "   - On Windows:\n",
    "     ```\n",
    "     myenv\\Scripts\\activate\n",
    "     ```\n",
    "\n",
    "3. **Deactivating the environment**:\n",
    "   ```bash\n",
    "   deactivate\n",
    "   ```\n"
   ]
  },
  {
   "cell_type": "markdown",
   "metadata": {},
   "source": [
    "💡 **Tip**: Always activate your virtual environment before working on your project to ensure you're using the correct environment and dependencies.\n"
   ]
  },
  {
   "cell_type": "markdown",
   "metadata": {},
   "source": [
    "### <a id='toc4_3_'></a>[Viewing the Modified Search Path](#toc0_)\n"
   ]
  },
  {
   "cell_type": "markdown",
   "metadata": {},
   "source": [
    "Once a virtual environment is activated, you can see how it affects the search path:"
   ]
  },
  {
   "cell_type": "code",
   "execution_count": 6,
   "metadata": {},
   "outputs": [],
   "source": [
    "import sys"
   ]
  },
  {
   "cell_type": "code",
   "execution_count": 7,
   "metadata": {},
   "outputs": [
    {
     "name": "stdout",
     "output_type": "stream",
     "text": [
      "Virtual environment path:\n",
      "/Users/hejazizo/miniconda3/envs/py310\n"
     ]
    }
   ],
   "source": [
    "print(\"Virtual environment path:\")\n",
    "print(sys.prefix)"
   ]
  },
  {
   "cell_type": "code",
   "execution_count": 5,
   "metadata": {},
   "outputs": [
    {
     "name": "stdout",
     "output_type": "stream",
     "text": [
      "\n",
      "Module search path:\n",
      "/Users/hejazizo/PERSONAL_DIR/pytopia/content/Python-Programming/Lectures/10 Modular Programming\n",
      "/Users/hejazizo/miniconda3/envs/py310/lib/python310.zip\n",
      "/Users/hejazizo/miniconda3/envs/py310/lib/python3.10\n",
      "/Users/hejazizo/miniconda3/envs/py310/lib/python3.10/lib-dynload\n",
      "\n",
      "/Users/hejazizo/miniconda3/envs/py310/lib/python3.10/site-packages\n"
     ]
    }
   ],
   "source": [
    "print(\"\\nModule search path:\")\n",
    "for path in sys.path:\n",
    "    print(path)"
   ]
  },
  {
   "cell_type": "markdown",
   "metadata": {},
   "source": [
    "### <a id='toc4_4_'></a>[Best Practices for Virtual Environments](#toc0_)\n"
   ]
  },
  {
   "cell_type": "markdown",
   "metadata": {},
   "source": [
    "1. **Use one virtual environment per project**:\n",
    "   - This helps isolate dependencies and avoid conflicts between projects.\n",
    "\n",
    "2. **Include a `requirements.txt` file**:\n",
    "   - List all project dependencies for easy replication of the environment.\n",
    "   ```bash\n",
    "   pip freeze > requirements.txt\n",
    "   ```\n",
    "\n",
    "3. **Don't version control the virtual environment**:\n",
    "   - Add the virtual environment directory to your `.gitignore` file.\n",
    "\n",
    "4. **Use meaningful names for your environments**:\n",
    "   - Consider naming conventions like `venv_projectname` or `env_projectname`.\n",
    "\n",
    "5. **Consider using `virtualenvwrapper` or `pipenv`**:\n",
    "   - These tools provide additional features for managing virtual environments.\n",
    "\n",
    "6. **Be aware of the activated environment**:\n",
    "   - Many IDEs and text editors can automatically detect and use virtual environments.\n"
   ]
  },
  {
   "cell_type": "markdown",
   "metadata": {},
   "source": [
    "## <a id='toc5_'></a>[Debugging Import Issues](#toc0_)"
   ]
  },
  {
   "cell_type": "markdown",
   "metadata": {},
   "source": [
    "Import errors are common in Python development, especially when working with complex project structures or multiple environments. Understanding how to debug these issues is crucial for efficient development.\n"
   ]
  },
  {
   "cell_type": "markdown",
   "metadata": {},
   "source": [
    "Common import errors that you might encounter include:\n",
    "- **`ModuleNotFoundError`**: Python can't find the module you're trying to import.\n",
    "- **`ImportError`**: The module is found, but there's an error while importing it.\n",
    "- **`AttributeError`**: The module is imported, but the specified attribute or function doesn't exist.\n",
    "- **`CircularImportError`**: Two or more modules import each other, creating a circular dependency.\n"
   ]
  },
  {
   "cell_type": "markdown",
   "metadata": {},
   "source": [
    "### <a id='toc5_1_'></a>[Techniques for Troubleshooting](#toc0_)\n"
   ]
  },
  {
   "cell_type": "markdown",
   "metadata": {},
   "source": [
    "- **Check the Module Search Path**: Print out `sys.path` to see where Python is looking for modules:\n"
   ]
  },
  {
   "cell_type": "markdown",
   "metadata": {},
   "source": [
    "```python\n",
    "import sys\n",
    "print(\"\\n\".join(sys.path))\n",
    "```\n"
   ]
  },
  {
   "cell_type": "markdown",
   "metadata": {},
   "source": [
    "💡 **Tip**: Compare this with the location of your module to ensure it's in a directory Python is searching.\n"
   ]
  },
  {
   "cell_type": "markdown",
   "metadata": {},
   "source": [
    "- **Use Verbose Import**: Run Python with the `-v` flag to see detailed import information:\n"
   ]
  },
  {
   "cell_type": "markdown",
   "metadata": {},
   "source": [
    "```bash\n",
    "python -v your_script.py\n",
    "```\n"
   ]
  },
  {
   "cell_type": "markdown",
   "metadata": {},
   "source": [
    "This shows every module Python tries to import, helping you trace the import process.\n"
   ]
  },
  {
   "cell_type": "markdown",
   "metadata": {},
   "source": [
    "- **Check for Name Conflicts**: Ensure your module names don't conflict with built-in or third-party modules. Use unique, descriptive names for your modules.\n"
   ]
  },
  {
   "cell_type": "markdown",
   "metadata": {},
   "source": [
    "- **Verify File Permissions**: Make sure Python has read access to your module files, especially on Unix-based systems.\n"
   ]
  },
  {
   "cell_type": "markdown",
   "metadata": {},
   "source": [
    "- **Check for Syntax Errors**: A syntax error in a module will prevent it from being imported. Try running the module directly to catch any syntax errors:\n"
   ]
  },
  {
   "cell_type": "markdown",
   "metadata": {},
   "source": [
    "```bash\n",
    "python path/to/your_module.py\n",
    "```\n"
   ]
  },
  {
   "cell_type": "markdown",
   "metadata": {},
   "source": [
    "- **Use Absolute Imports**: When possible, use absolute imports to avoid ambiguity:\n"
   ]
  },
  {
   "cell_type": "markdown",
   "metadata": {},
   "source": [
    "```python\n",
    "from package.subpackage import module\n",
    "```\n"
   ]
  },
  {
   "cell_type": "markdown",
   "metadata": {},
   "source": [
    "Instead of:\n"
   ]
  },
  {
   "cell_type": "markdown",
   "metadata": {},
   "source": [
    "```python\n",
    "from .subpackage import module\n",
    "```\n"
   ]
  },
  {
   "cell_type": "markdown",
   "metadata": {},
   "source": [
    "- **Debug with `print` Statements**: Add print statements in your modules to trace the execution path:\n"
   ]
  },
  {
   "cell_type": "markdown",
   "metadata": {},
   "source": [
    "```python\n",
    "print(\"Importing module_name\")\n",
    "# Rest of your module code\n",
    "```\n"
   ]
  },
  {
   "cell_type": "markdown",
   "metadata": {},
   "source": [
    "- **Check for Circular Imports**: Restructure your code to avoid circular dependencies. Use import statements inside functions if necessary.\n"
   ]
  },
  {
   "cell_type": "markdown",
   "metadata": {},
   "source": [
    "- **Verify Virtual Environment**: Ensure you're using the correct virtual environment:\n"
   ]
  },
  {
   "cell_type": "markdown",
   "metadata": {},
   "source": [
    "```bash\n",
    "which python\n",
    "pip list\n",
    "```"
   ]
  },
  {
   "cell_type": "markdown",
   "metadata": {},
   "source": [
    "- **Use an IDE Debugger**: Most modern IDEs have powerful debuggers. Set breakpoints and step through the import process.\n"
   ]
  },
  {
   "cell_type": "markdown",
   "metadata": {},
   "source": [
    "### <a id='toc5_2_'></a>[Advanced Debugging Techniques](#toc0_)\n"
   ]
  },
  {
   "cell_type": "markdown",
   "metadata": {},
   "source": [
    "**Use `importlib` for Dynamic Imports**: The `importlib` module can help diagnose import issues:\n"
   ]
  },
  {
   "cell_type": "code",
   "execution_count": 10,
   "metadata": {},
   "outputs": [
    {
     "name": "stdout",
     "output_type": "stream",
     "text": [
      "Module found in /Users/hejazizo/miniconda3/envs/py310/lib/python3.10/site-packages/numpy/__init__.py\n"
     ]
    }
   ],
   "source": [
    "import importlib\n",
    "import importlib.util\n",
    "\n",
    "spec = importlib.util.find_spec(\"numpy\")\n",
    "if spec is None:\n",
    "    print(\"Module not found\")\n",
    "else:\n",
    "    print(f\"Module found in {spec.origin}\")"
   ]
  },
  {
   "cell_type": "code",
   "execution_count": 11,
   "metadata": {},
   "outputs": [
    {
     "name": "stdout",
     "output_type": "stream",
     "text": [
      "Module not found\n"
     ]
    }
   ],
   "source": [
    "import importlib\n",
    "import importlib.util\n",
    "\n",
    "spec = importlib.util.find_spec(\"no_module\")\n",
    "if spec is None:\n",
    "    print(\"Module not found\")\n",
    "else:\n",
    "    print(f\"Module found in {spec.origin}\")"
   ]
  },
  {
   "cell_type": "markdown",
   "metadata": {},
   "source": [
    "**Inspect `sys.modules`**: Check if a module is already imported:\n"
   ]
  },
  {
   "cell_type": "code",
   "execution_count": 12,
   "metadata": {},
   "outputs": [
    {
     "name": "stdout",
     "output_type": "stream",
     "text": [
      "False\n"
     ]
    }
   ],
   "source": [
    "import sys\n",
    "print(\"module_name\" in sys.modules)"
   ]
  },
  {
   "cell_type": "markdown",
   "metadata": {},
   "source": [
    "Follow these best practices to minimize import-related errors:\n",
    "\n",
    "1. Organize your project structure logically\n",
    "2. Use virtual environments consistently\n",
    "3. Keep your `PYTHONPATH` clean and project-specific\n",
    "4. Avoid wildcard imports (`from module import *`)\n",
    "5. Use relative imports judiciously\n",
    "6. Maintain a clear separation between your code and third-party libraries\n"
   ]
  },
  {
   "cell_type": "markdown",
   "metadata": {},
   "source": [
    "> **Warning**: Be cautious when modifying `sys.path` at runtime. It's often a sign that your project structure needs reorganization.\n"
   ]
  },
  {
   "cell_type": "markdown",
   "metadata": {},
   "source": [
    "By applying these debugging techniques and following best practices, you can efficiently resolve import issues and create more robust Python projects. Remember, most import problems stem from misunderstandings about the module search path or project structure, so a solid grasp of these concepts is your best defense against import headaches."
   ]
  },
  {
   "cell_type": "markdown",
   "metadata": {},
   "source": [
    "## <a id='toc6_'></a>[Conclusion](#toc0_)"
   ]
  },
  {
   "cell_type": "markdown",
   "metadata": {},
   "source": [
    "Understanding Python's module search path is a crucial skill for any Python developer, especially as you move beyond simple scripts to more complex, modular projects. Let's recap the key points we've covered in this lecture:\n",
    "\n",
    "1. **Module Search Path Basics**:\n",
    "   - Python follows a specific order when searching for modules to import.\n",
    "   - The search path includes the current directory, PYTHONPATH, standard library, and site-packages.\n",
    "\n",
    "2. **Viewing and Modifying the Search Path**:\n",
    "   - `sys.path` shows the current search path.\n",
    "   - You can modify the path using PYTHONPATH, `sys.path.append()`, or `.pth` files.\n",
    "\n",
    "3. **Virtual Environments**:\n",
    "   - They provide isolated Python environments for different projects.\n",
    "   - Virtual environments affect the module search path, prioritizing their own directories.\n",
    "\n",
    "4. **Debugging Import Issues**:\n",
    "   - Common errors include ModuleNotFoundError and ImportError.\n",
    "   - Techniques like verbose imports, print statements, and using `importlib` can help diagnose problems.\n"
   ]
  },
  {
   "cell_type": "markdown",
   "metadata": {},
   "source": [
    "🔑 **Key Takeaways**:\n",
    "- The module search path is dynamic and can be influenced by various factors.\n",
    "- Understanding this path is essential for organizing your projects effectively.\n",
    "- Virtual environments are a powerful tool for managing project-specific dependencies.\n",
    "- Most import issues can be resolved by understanding where Python looks for modules.\n"
   ]
  },
  {
   "cell_type": "markdown",
   "metadata": {},
   "source": [
    "> 💡 **Pro Tip**: Always strive for a clean, well-organized project structure. This can prevent many common import issues before they arise.\n"
   ]
  },
  {
   "cell_type": "markdown",
   "metadata": {},
   "source": [
    "As you continue to develop more complex Python applications, keep these concepts in mind:\n",
    "- Be mindful of your project structure and how it relates to imports.\n",
    "- Use virtual environments consistently to isolate project dependencies.\n",
    "- When troubleshooting, start by examining the module search path.\n",
    "- Document any custom modifications to the search path for other developers.\n"
   ]
  },
  {
   "cell_type": "markdown",
   "metadata": {},
   "source": [
    "Remember, mastering the module search path and import system is not just about solving problems—it's about designing better, more maintainable Python projects. As you apply these concepts in your work, you'll find yourself creating more robust and scalable applications.\n"
   ]
  },
  {
   "cell_type": "markdown",
   "metadata": {},
   "source": [
    "Keep experimenting, keep learning, and don't hesitate to dive deeper into Python's documentation on imports and modules. The more you understand these core concepts, the more proficient and confident you'll become as a Python developer."
   ]
  }
 ],
 "metadata": {
  "kernelspec": {
   "display_name": "py310",
   "language": "python",
   "name": "python3"
  },
  "language_info": {
   "codemirror_mode": {
    "name": "ipython",
    "version": 3
   },
   "file_extension": ".py",
   "mimetype": "text/x-python",
   "name": "python",
   "nbconvert_exporter": "python",
   "pygments_lexer": "ipython3",
   "version": "3.10.12"
  }
 },
 "nbformat": 4,
 "nbformat_minor": 2
}
