{
 "cells": [
  {
   "cell_type": "markdown",
   "metadata": {},
   "source": [
    "<img src=\"./images/banner.png\" width=\"800\">"
   ]
  },
  {
   "cell_type": "markdown",
   "metadata": {},
   "source": [
    "# Advanced Debugging Techniques in VSCode"
   ]
  },
  {
   "cell_type": "markdown",
   "metadata": {},
   "source": [
    "Breakpoints are fundamental tools in debugging, allowing developers to pause program execution at specific points. While we've covered basic line breakpoints in our previous lecture, VSCode offers a range of advanced breakpoint techniques that can significantly enhance your debugging capabilities. In this section, we'll explore these more sophisticated breakpoint types and learn how to leverage them for more efficient and targeted debugging.\n"
   ]
  },
  {
   "cell_type": "markdown",
   "metadata": {},
   "source": [
    "As your programming projects grow in complexity, you may find that simple line breakpoints are not always sufficient to isolate and understand intricate issues. Advanced breakpoint techniques provide more granular control over when and where your program pauses, allowing you to:\n",
    "\n",
    "1. Debug specific scenarios without modifying your code\n",
    "2. Reduce the number of unnecessary pauses during debugging\n",
    "3. Gather information about your program's execution without interrupting its flow\n",
    "4. Target specific conditions or events in your code\n"
   ]
  },
  {
   "cell_type": "markdown",
   "metadata": {},
   "source": [
    "Advanced breakpoints allow you to fine-tune your debugging process, making it more efficient and less intrusive.\n"
   ]
  },
  {
   "cell_type": "markdown",
   "metadata": {},
   "source": [
    "In this lecture, we'll cover four main types of advanced breakpoints:\n",
    "\n",
    "1. Function breakpoints\n",
    "2. Conditional breakpoints\n",
    "3. Hit count breakpoints\n",
    "4. Logpoints\n"
   ]
  },
  {
   "cell_type": "markdown",
   "metadata": {},
   "source": [
    "Each of these breakpoint types serves a unique purpose and can be incredibly powerful when used appropriately. By mastering these techniques, you'll be able to tackle more complex debugging scenarios with greater ease and precision. Combining different types of advanced breakpoints can create highly specific debugging scenarios, allowing you to zero in on elusive bugs quickly.\n"
   ]
  },
  {
   "cell_type": "markdown",
   "metadata": {},
   "source": [
    "As we dive into each type of advanced breakpoint, we'll explore:\n",
    "\n",
    "- How to set and configure them in VSCode\n",
    "- Typical use cases and scenarios where they're most effective\n",
    "- Best practices and potential pitfalls to be aware of\n"
   ]
  },
  {
   "cell_type": "markdown",
   "metadata": {},
   "source": [
    "Understanding and effectively using advanced breakpoint techniques can significantly reduce the time and effort required to identify and fix complex issues in your Python code. It allows you to create more targeted debugging sessions, leading to faster problem resolution and improved code quality.\n"
   ]
  },
  {
   "cell_type": "markdown",
   "metadata": {},
   "source": [
    "Throughout this section, we'll use practical examples to illustrate how these advanced breakpoints can be applied in real-world scenarios. By the end of this lecture, you'll have a comprehensive understanding of how to leverage VSCode's advanced breakpoint features to enhance your debugging workflow.\n"
   ]
  },
  {
   "cell_type": "markdown",
   "metadata": {},
   "source": [
    "❗️ **Important Note:** While advanced breakpoints are powerful tools, they should be used judiciously. Overuse can lead to cluttered debugging sessions and potentially impact performance. Always consider the most appropriate tool for your specific debugging needs.\n"
   ]
  },
  {
   "cell_type": "markdown",
   "metadata": {},
   "source": [
    "In the following subsections, we'll dive deep into each type of advanced breakpoint, providing you with the knowledge and skills to elevate your debugging techniques to the next level."
   ]
  },
  {
   "cell_type": "markdown",
   "metadata": {},
   "source": [
    "**Table of contents**<a id='toc0_'></a>    \n",
    "- [Advanced Breakpoint Techniques](#toc1_)    \n",
    "  - [Function Breakpoints](#toc1_1_)    \n",
    "  - [Data Breakpoints (Watchpoints)](#toc1_2_)    \n",
    "  - [Hit Count Breakpoints](#toc1_3_)    \n",
    "  - [Logpoints](#toc1_4_)    \n",
    "  - [Conditional Breakpoints](#toc1_5_)    \n",
    "  - [Best Practices and Considerations](#toc1_6_)    \n",
    "- [Working with the Call Stack](#toc2_)    \n",
    "  - [Viewing the Call Stack in VSCode](#toc2_1_)    \n",
    "  - [Navigating the Call Stack](#toc2_2_)    \n",
    "  - [Using the Call Stack for Debugging](#toc2_3_)    \n",
    "- [Debugging External Libraries and Modules](#toc3_)    \n",
    "  - [Stepping into External Code](#toc3_1_)    \n",
    "  - [Navigating External Library Code](#toc3_2_)    \n",
    "  - [Using the \"Just My Code\" Feature](#toc3_3_)    \n",
    "  - [Balancing \"Just My Code\" and External Debugging](#toc3_4_)    \n",
    "  - [Debugging Specific External Libraries](#toc3_5_)    \n",
    "- [Using Launch Configurations](#toc4_)    \n",
    "  - [Creating a Basic Launch Configuration](#toc4_1_)    \n",
    "  - [Customizing Launch Configurations](#toc4_2_)    \n",
    "  - [Advanced Launch Configuration Features](#toc4_3_)    \n",
    "  - [Best Practices for Launch Configurations](#toc4_4_)    \n",
    "- [Summary](#toc5_)    \n",
    "\n",
    "<!-- vscode-jupyter-toc-config\n",
    "\tnumbering=false\n",
    "\tanchor=true\n",
    "\tflat=false\n",
    "\tminLevel=2\n",
    "\tmaxLevel=6\n",
    "\t/vscode-jupyter-toc-config -->\n",
    "<!-- THIS CELL WILL BE REPLACED ON TOC UPDATE. DO NOT WRITE YOUR TEXT IN THIS CELL -->"
   ]
  },
  {
   "cell_type": "markdown",
   "metadata": {},
   "source": [
    "## <a id='toc1_'></a>[Advanced Breakpoint Techniques](#toc0_)"
   ]
  },
  {
   "cell_type": "markdown",
   "metadata": {},
   "source": [
    "In this section, we'll explore various advanced breakpoint techniques available in VSCode for Python debugging. These techniques allow for more precise and efficient debugging, especially in complex scenarios.\n"
   ]
  },
  {
   "cell_type": "markdown",
   "metadata": {},
   "source": [
    "### <a id='toc1_1_'></a>[Function Breakpoints](#toc0_)\n"
   ]
  },
  {
   "cell_type": "markdown",
   "metadata": {},
   "source": [
    "Function breakpoints pause execution when a specific function is called, regardless of where it's called from.\n",
    "\n",
    "To set a function breakpoint:\n",
    "1. Open the Breakpoints view in the Run and Debug sidebar\n",
    "2. Click the \"+\" button and select \"Function Breakpoint\"\n",
    "3. Enter the function name\n"
   ]
  },
  {
   "cell_type": "markdown",
   "metadata": {},
   "source": [
    "```python\n",
    "def calculate_area(length, width):\n",
    "    return length * width\n",
    "\n",
    "# Set a function breakpoint on 'calculate_area'\n",
    "result1 = calculate_area(5, 3)\n",
    "result2 = calculate_area(10, 7)\n",
    "```\n"
   ]
  },
  {
   "cell_type": "markdown",
   "metadata": {},
   "source": [
    "🔑 **Key Concept:** Function breakpoints are useful when you're interested in a function's execution regardless of where it's called from in your code.\n"
   ]
  },
  {
   "cell_type": "markdown",
   "metadata": {},
   "source": [
    "### <a id='toc1_2_'></a>[Data Breakpoints (Watchpoints)](#toc0_)\n"
   ]
  },
  {
   "cell_type": "markdown",
   "metadata": {},
   "source": [
    "Data breakpoints, also known as watchpoints, pause execution when a specific variable's value changes.\n"
   ]
  },
  {
   "cell_type": "markdown",
   "metadata": {},
   "source": [
    "To set a data breakpoint:\n",
    "1. During a debug session, right-click on a variable in the Variables view\n",
    "2. Select \"Break on Value Change\"\n"
   ]
  },
  {
   "cell_type": "markdown",
   "metadata": {},
   "source": [
    "```python\n",
    "counter = 0\n",
    "\n",
    "def increment():\n",
    "    global counter\n",
    "    counter += 1  # Data breakpoint will trigger here\n",
    "\n",
    "for _ in range(5):\n",
    "    increment()\n",
    "```\n"
   ]
  },
  {
   "cell_type": "markdown",
   "metadata": {},
   "source": [
    "Data breakpoints are particularly useful for identifying unexpected changes to variables, especially in complex loops or multi-threaded applications.\n"
   ]
  },
  {
   "cell_type": "markdown",
   "metadata": {},
   "source": [
    "### <a id='toc1_3_'></a>[Hit Count Breakpoints](#toc0_)\n"
   ]
  },
  {
   "cell_type": "markdown",
   "metadata": {},
   "source": [
    "Hit count breakpoints allow you to pause execution after a breakpoint has been hit a specific number of times.\n"
   ]
  },
  {
   "cell_type": "markdown",
   "metadata": {},
   "source": [
    "To set a hit count breakpoint:\n",
    "1. Set a regular breakpoint\n",
    "2. Right-click on the breakpoint and select \"Edit Breakpoint\"\n",
    "3. Choose \"Hit Count\" and specify the number of hits\n"
   ]
  },
  {
   "cell_type": "markdown",
   "metadata": {},
   "source": [
    "```python\n",
    "for i in range(100):\n",
    "    # Set a hit count breakpoint here with count = 50\n",
    "    print(i)\n",
    "```\n"
   ]
  },
  {
   "cell_type": "markdown",
   "metadata": {},
   "source": [
    "Hit count breakpoints are invaluable when debugging issues that only occur after a certain number of iterations or function calls.\n"
   ]
  },
  {
   "cell_type": "markdown",
   "metadata": {},
   "source": [
    "### <a id='toc1_4_'></a>[Logpoints](#toc0_)\n"
   ]
  },
  {
   "cell_type": "markdown",
   "metadata": {},
   "source": [
    "Logpoints allow you to log messages to the console without modifying your code or pausing execution.\n"
   ]
  },
  {
   "cell_type": "markdown",
   "metadata": {},
   "source": [
    "To set a logpoint:\n",
    "1. Right-click in the gutter where you'd set a breakpoint\n",
    "2. Select \"Add Logpoint\"\n",
    "3. Enter the message to log (can include expressions in curly braces {})\n"
   ]
  },
  {
   "cell_type": "markdown",
   "metadata": {},
   "source": [
    "```python\n",
    "def process_item(item):\n",
    "    # Add a logpoint here with message: \"Processing item: {item}\"\n",
    "    result = item * 2\n",
    "    return result\n",
    "\n",
    "items = [1, 2, 3, 4, 5]\n",
    "processed = [process_item(item) for item in items]\n",
    "```\n"
   ]
  },
  {
   "cell_type": "markdown",
   "metadata": {},
   "source": [
    "❗️ **Important Note:** Logpoints are non-breaking, making them ideal for gathering information without interrupting program flow.\n"
   ]
  },
  {
   "cell_type": "markdown",
   "metadata": {},
   "source": [
    "### <a id='toc1_5_'></a>[Conditional Breakpoints](#toc0_)\n"
   ]
  },
  {
   "cell_type": "markdown",
   "metadata": {},
   "source": [
    "Conditional breakpoints pause execution only when a specified condition is true.\n"
   ]
  },
  {
   "cell_type": "markdown",
   "metadata": {},
   "source": [
    "To set a conditional breakpoint:\n",
    "1. Set a regular breakpoint\n",
    "2. Right-click on the breakpoint and select \"Edit Breakpoint\"\n",
    "3. Choose \"Expression\" and enter your condition\n"
   ]
  },
  {
   "cell_type": "markdown",
   "metadata": {},
   "source": [
    "```python\n",
    "for i in range(100):\n",
    "    # Set a conditional breakpoint here with condition: i % 10 == 0\n",
    "    print(i)\n",
    "```\n"
   ]
  },
  {
   "cell_type": "markdown",
   "metadata": {},
   "source": [
    "💡 **Pro Tip:** Conditional breakpoints are excellent for focusing on specific scenarios without cluttering your code with temporary if statements.\n"
   ]
  },
  {
   "cell_type": "markdown",
   "metadata": {},
   "source": [
    "### <a id='toc1_6_'></a>[Best Practices and Considerations](#toc0_)\n"
   ]
  },
  {
   "cell_type": "markdown",
   "metadata": {},
   "source": [
    "1. **Combine techniques:** Use a mix of breakpoint types for comprehensive debugging.\n",
    "2. **Performance impact:** Be aware that some types (like data breakpoints) can significantly slow down execution.\n",
    "3. **Clear unnecessary breakpoints:** Remove or disable breakpoints when no longer needed to avoid clutter.\n",
    "4. **Use descriptive names:** For function breakpoints and logpoints, use clear and descriptive names/messages.\n",
    "5. **Regular review:** Periodically review your breakpoints to ensure they're still relevant and necessary.\n"
   ]
  },
  {
   "cell_type": "markdown",
   "metadata": {},
   "source": [
    "Advanced breakpoint techniques in VSCode provide powerful tools for precise and efficient debugging. By mastering function breakpoints, data breakpoints, hit count breakpoints, logpoints, conditional breakpoints, and exception breakpoints, you can significantly enhance your ability to identify and resolve complex issues in your Python code. Remember to use these techniques judiciously and in combination for the most effective debugging sessions."
   ]
  },
  {
   "cell_type": "markdown",
   "metadata": {},
   "source": [
    "## <a id='toc2_'></a>[Working with the Call Stack](#toc0_)"
   ]
  },
  {
   "cell_type": "markdown",
   "metadata": {},
   "source": [
    "The call stack is a crucial concept in programming and debugging, representing the sequence of function calls that led to the current point of execution. Understanding and effectively navigating the call stack can significantly enhance your debugging capabilities, allowing you to trace the flow of your program and understand the context of the current execution point.\n"
   ]
  },
  {
   "cell_type": "markdown",
   "metadata": {},
   "source": [
    "The call stack is a last-in, first-out (LIFO) data structure that keeps track of active subroutines (function calls) in a program. Each entry in the call stack is called a stack frame, which contains information about a function call, including local variables and the return address.\n"
   ]
  },
  {
   "cell_type": "markdown",
   "metadata": {},
   "source": [
    "🔑 **Key Concept:** The call stack helps you understand how your program reached its current state by showing the sequence of function calls.\n"
   ]
  },
  {
   "cell_type": "markdown",
   "metadata": {},
   "source": [
    "### <a id='toc2_1_'></a>[Viewing the Call Stack in VSCode](#toc0_)\n"
   ]
  },
  {
   "cell_type": "markdown",
   "metadata": {},
   "source": [
    "To view the call stack in VSCode:\n",
    "\n",
    "1. Start a debugging session\n",
    "2. When execution is paused (e.g., at a breakpoint), look for the \"CALL STACK\" section in the Debug view\n",
    "3. The top item in the stack represents the current function being executed\n"
   ]
  },
  {
   "cell_type": "markdown",
   "metadata": {},
   "source": [
    "```python\n",
    "def function_a():\n",
    "    print(\"In function_a\")\n",
    "    function_b()\n",
    "\n",
    "def function_b():\n",
    "    print(\"In function_b\")\n",
    "    function_c()\n",
    "\n",
    "def function_c():\n",
    "    print(\"In function_c\")\n",
    "    # Set a breakpoint here\n",
    "\n",
    "function_a()\n",
    "```\n"
   ]
  },
  {
   "cell_type": "markdown",
   "metadata": {},
   "source": [
    "When the breakpoint in `function_c` is hit, the call stack will show:"
   ]
  },
  {
   "cell_type": "markdown",
   "metadata": {},
   "source": [
    "```\n",
    "function_c\n",
    "function_b\n",
    "function_a\n",
    "<module>\n",
    "```\n"
   ]
  },
  {
   "cell_type": "markdown",
   "metadata": {},
   "source": [
    "The call stack reads from top to bottom, with the most recent call at the top and the earliest (usually the main program or module) at the bottom.\n"
   ]
  },
  {
   "cell_type": "markdown",
   "metadata": {},
   "source": [
    "### <a id='toc2_2_'></a>[Navigating the Call Stack](#toc0_)\n"
   ]
  },
  {
   "cell_type": "markdown",
   "metadata": {},
   "source": [
    "VSCode allows you to navigate through different stack frames:\n",
    "\n",
    "1. In the CALL STACK view, click on any frame to jump to that point in the code\n",
    "2. The Variables view will update to show the state of variables in the selected frame\n",
    "3. You can examine variables and execute code in the context of any frame in the call stack\n"
   ]
  },
  {
   "cell_type": "markdown",
   "metadata": {},
   "source": [
    "🤔 **Why This Matters:** Navigating the call stack allows you to understand the program's state at different points in its execution, helping you trace the origin of bugs or unexpected behavior.\n"
   ]
  },
  {
   "cell_type": "markdown",
   "metadata": {},
   "source": [
    "Each stack frame provides valuable information:\n",
    "\n",
    "1. **Function Name:** The name of the function in that frame\n",
    "2. **File Location:** The file and line number where the function call occurred\n",
    "3. **Local Variables:** Variables accessible in that function's scope\n"
   ]
  },
  {
   "cell_type": "markdown",
   "metadata": {},
   "source": [
    "To view detailed information about a stack frame:\n",
    "\n",
    "1. Expand a frame in the CALL STACK view\n",
    "2. Look for file path, line number, and sometimes additional context\n"
   ]
  },
  {
   "cell_type": "markdown",
   "metadata": {},
   "source": [
    "❗️ **Important Note:** Be aware that navigating to a previous frame in the call stack doesn't change the actual execution point of your program; it only allows you to inspect that point in time.\n"
   ]
  },
  {
   "cell_type": "markdown",
   "metadata": {},
   "source": [
    "### <a id='toc2_3_'></a>[Using the Call Stack for Debugging](#toc0_)\n"
   ]
  },
  {
   "cell_type": "markdown",
   "metadata": {},
   "source": [
    "Here are some effective ways to use the call stack during debugging:\n"
   ]
  },
  {
   "cell_type": "markdown",
   "metadata": {},
   "source": [
    "1. **Tracing Program Flow:** Follow the stack to understand how your program reached its current state.\n"
   ]
  },
  {
   "cell_type": "markdown",
   "metadata": {},
   "source": [
    "2. **Identifying Recursive Calls:** In recursive functions, you'll see the same function name repeated in the stack.\n"
   ]
  },
  {
   "cell_type": "markdown",
   "metadata": {},
   "source": [
    "```python\n",
    "def factorial(n):\n",
    "    if n <= 1:\n",
    "        return 1\n",
    "    return n * factorial(n - 1)  # Set a breakpoint here\n",
    "\n",
    "result = factorial(5)\n",
    "```\n"
   ]
  },
  {
   "cell_type": "markdown",
   "metadata": {},
   "source": [
    "3. **Debugging Complex Scenarios:** Use the call stack to jump between different levels of nested function calls.\n"
   ]
  },
  {
   "cell_type": "markdown",
   "metadata": {},
   "source": [
    "4. **Understanding Exception Origins:** When an exception occurs, the call stack shows you the exact path of execution that led to the error.\n"
   ]
  },
  {
   "cell_type": "markdown",
   "metadata": {},
   "source": [
    "```python\n",
    "def outer():\n",
    "    inner()\n",
    "\n",
    "def inner():\n",
    "    problematic()\n",
    "\n",
    "def problematic():\n",
    "    raise ValueError(\"Something went wrong\")\n",
    "\n",
    "try:\n",
    "    outer()\n",
    "except ValueError as e:\n",
    "    print(f\"Error: {e}\")\n",
    "    # Set a breakpoint here to examine the call stack\n",
    "```\n"
   ]
  },
  {
   "cell_type": "markdown",
   "metadata": {},
   "source": [
    "\n",
    "When working with the call stack, consider the following best practices:\n",
    "1. **Read from Top to Bottom:** Remember that the most recent call is at the top of the stack.\n",
    "\n",
    "2. **Use with Breakpoints:** Set strategic breakpoints to pause execution at key points and examine the call stack.\n",
    "\n",
    "3. **Combine with Other Tools:** Use the call stack in conjunction with the Variables view and Debug Console for comprehensive debugging.\n",
    "\n",
    "4. **Be Mindful of Async Code:** In asynchronous programming, the call stack might not always represent the full execution context.\n"
   ]
  },
  {
   "cell_type": "markdown",
   "metadata": {},
   "source": [
    "\n",
    "And try to avoid the following pitfalls:\n",
    "1. **Confusion in Multithreaded Applications:** Each thread has its own call stack, which can be confusing in multithreaded debugging scenarios.\n",
    "\n",
    "2. **Optimized Code:** In release builds or optimized code, some stack frames might be omitted for performance reasons.\n",
    "\n",
    "3. **Large Recursion Depths:** Very deep recursive calls can lead to extremely large call stacks, which might be difficult to navigate.\n"
   ]
  },
  {
   "cell_type": "markdown",
   "metadata": {},
   "source": [
    "Working with the call stack is an essential skill for effective debugging. It provides a roadmap of your program's execution, allowing you to trace the sequence of function calls, understand the context of the current execution point, and navigate through different levels of your code. By mastering the use of the call stack in VSCode, you can significantly enhance your ability to diagnose and fix complex issues in your Python programs. Remember to use the call stack in conjunction with other debugging tools and techniques for the most comprehensive understanding of your code's behavior."
   ]
  },
  {
   "cell_type": "markdown",
   "metadata": {},
   "source": [
    "## <a id='toc3_'></a>[Debugging External Libraries and Modules](#toc0_)"
   ]
  },
  {
   "cell_type": "markdown",
   "metadata": {},
   "source": [
    "When debugging Python applications, you often need to interact with external libraries and modules. Understanding how to navigate and debug this external code can be crucial for resolving complex issues. In this section, we'll explore techniques for debugging external libraries and how to use VSCode's \"Just My Code\" feature to streamline your debugging process.\n"
   ]
  },
  {
   "cell_type": "markdown",
   "metadata": {},
   "source": [
    "### <a id='toc3_1_'></a>[Stepping into External Code](#toc0_)\n"
   ]
  },
  {
   "cell_type": "markdown",
   "metadata": {},
   "source": [
    "By default, VSCode allows you to step into external library code during debugging. This can be both powerful and overwhelming, depending on the situation.\n"
   ]
  },
  {
   "cell_type": "markdown",
   "metadata": {},
   "source": [
    "To step into external code:\n",
    "\n",
    "1. Set a breakpoint where your code calls an external library function\n",
    "2. Start debugging and let execution pause at the breakpoint\n",
    "3. Use the \"Step Into\" (F11) command to enter the external function\n"
   ]
  },
  {
   "cell_type": "markdown",
   "metadata": {},
   "source": [
    "```python\n",
    "import requests\n",
    "\n",
    "def fetch_data(url):\n",
    "    response = requests.get(url)  # Set a breakpoint here\n",
    "    return response.json()\n",
    "\n",
    "data = fetch_data('https://api.example.com/data')\n",
    "print(data)\n",
    "```\n"
   ]
  },
  {
   "cell_type": "markdown",
   "metadata": {},
   "source": [
    "Stepping into external code allows you to see exactly how the library functions work, which can be invaluable for understanding unexpected behavior.\n"
   ]
  },
  {
   "cell_type": "markdown",
   "metadata": {},
   "source": [
    "### <a id='toc3_2_'></a>[Navigating External Library Code](#toc0_)\n"
   ]
  },
  {
   "cell_type": "markdown",
   "metadata": {},
   "source": [
    "When you step into external code, you might find yourself in unfamiliar territory. Here are some tips for navigation:\n",
    "\n",
    "1. Use the call stack to understand the execution path\n",
    "2. Utilize the \"Step Out\" (Shift+F11) command to return to your code\n",
    "3. Set temporary breakpoints in the library code to pause at specific points\n"
   ]
  },
  {
   "cell_type": "markdown",
   "metadata": {},
   "source": [
    "Many popular libraries have their source code available online. Familiarizing yourself with this code can make debugging easier.\n"
   ]
  },
  {
   "cell_type": "markdown",
   "metadata": {},
   "source": [
    "### <a id='toc3_3_'></a>[Using the \"Just My Code\" Feature](#toc0_)\n"
   ]
  },
  {
   "cell_type": "markdown",
   "metadata": {},
   "source": [
    "While stepping into external code can be useful, it's often unnecessary and can slow down your debugging process. VSCode's \"Just My Code\" feature allows you to focus on your own code during debugging.\n"
   ]
  },
  {
   "cell_type": "markdown",
   "metadata": {},
   "source": [
    "To enable \"Just My Code\":\n",
    "\n",
    "1. Go to File > Preferences > Settings (or Ctrl+,)\n",
    "2. Search for \"Python: Just My Code\"\n",
    "3. Ensure the checkbox is ticked\n"
   ]
  },
  {
   "cell_type": "markdown",
   "metadata": {},
   "source": [
    "With \"Just My Code\" enabled:\n",
    "- The debugger will not step into external library code\n",
    "- Exceptions in external code will be caught at the boundary of your code\n"
   ]
  },
  {
   "cell_type": "markdown",
   "metadata": {},
   "source": [
    "🤔 **Why This Matters:** \"Just My Code\" helps you focus on your own code, making the debugging process more efficient, especially in large projects with many dependencies.\n"
   ]
  },
  {
   "cell_type": "markdown",
   "metadata": {},
   "source": [
    "### <a id='toc3_4_'></a>[Balancing \"Just My Code\" and External Debugging](#toc0_)\n"
   ]
  },
  {
   "cell_type": "markdown",
   "metadata": {},
   "source": [
    "While \"Just My Code\" is generally helpful, there are times when you need to debug external libraries. Here's how to balance these approaches:\n",
    "\n",
    "1. Start with \"Just My Code\" enabled for efficient debugging of your own code\n",
    "2. If you suspect an issue in an external library, temporarily disable \"Just My Code\"\n",
    "3. Set strategic breakpoints at the interface between your code and the library\n"
   ]
  },
  {
   "cell_type": "markdown",
   "metadata": {},
   "source": [
    "```python\n",
    "import numpy as np\n",
    "\n",
    "def process_data(data):\n",
    "    # Disable \"Just My Code\" and set a breakpoint here to step into numpy\n",
    "    result = np.mean(data)\n",
    "    return result\n",
    "\n",
    "my_data = [1, 2, 3, 4, 5]\n",
    "average = process_data(my_data)\n",
    "print(f\"Average: {average}\")\n",
    "```\n"
   ]
  },
  {
   "cell_type": "markdown",
   "metadata": {},
   "source": [
    "### <a id='toc3_5_'></a>[Debugging Specific External Libraries](#toc0_)\n"
   ]
  },
  {
   "cell_type": "markdown",
   "metadata": {},
   "source": [
    "Some popular libraries require specific approaches:\n",
    "\n",
    "1. **NumPy and Pandas:** These often use C extensions. You may need to use print statements or logging when \"Just My Code\" is enabled.\n",
    "\n",
    "2. **Django and Flask:** Set breakpoints in your view functions and URL routing to debug request handling.\n",
    "\n",
    "3. **Asyncio:** Be aware that the call stack may not represent the full execution context in asynchronous code.\n"
   ]
  },
  {
   "cell_type": "markdown",
   "metadata": {},
   "source": [
    "❗️ **Important Note:** When debugging issues related to external libraries, always check if you're using the latest version and consult the library's documentation for known issues or debugging tips.\n"
   ]
  },
  {
   "cell_type": "markdown",
   "metadata": {},
   "source": [
    "Here are some best practices for debugging external libraries:\n",
    "\n",
    "1. **Read the Docs:** Familiarize yourself with the library's documentation and common issues.\n",
    "\n",
    "2. **Use Logging:** Insert logging statements at the interface between your code and external libraries.\n",
    "\n",
    "3. **Isolate the Issue:** Create minimal examples that reproduce the problem when dealing with library-related bugs.\n",
    "\n",
    "4. **Check GitHub Issues:** Many libraries have GitHub repositories where users report and discuss issues.\n",
    "\n",
    "5. **Update Libraries:** Ensure you're using the latest stable version of the external library.\n"
   ]
  },
  {
   "cell_type": "markdown",
   "metadata": {},
   "source": [
    "And try to avoid the following pitfalls:\n",
    "\n",
    "1. **Performance Impact:** Stepping through large external libraries can significantly slow down your debugging session.\n",
    "\n",
    "2. **Version Mismatches:** Ensure the library version in your debugging environment matches your production environment.\n",
    "\n",
    "3. **Compiled Extensions:** Some libraries use compiled extensions, which may not be easily debuggable in Python.\n"
   ]
  },
  {
   "cell_type": "markdown",
   "metadata": {},
   "source": [
    "Debugging external libraries and modules is an essential skill for Python developers. By understanding how to step into external code and effectively use the \"Just My Code\" feature, you can navigate complex debugging scenarios more efficiently. Remember to balance the depth of your debugging with the need for efficiency, and always leverage documentation and community resources when dealing with external library issues. With these techniques, you'll be better equipped to tackle a wide range of debugging challenges in your Python projects."
   ]
  },
  {
   "cell_type": "markdown",
   "metadata": {},
   "source": [
    "## <a id='toc4_'></a>[Using Launch Configurations](#toc0_)"
   ]
  },
  {
   "cell_type": "markdown",
   "metadata": {},
   "source": [
    "Launch configurations in VSCode are powerful tools that allow you to customize how your Python programs are run and debugged. They provide a way to specify various runtime parameters, environment variables, and debug settings, making it easier to manage different debugging scenarios for your projects.\n"
   ]
  },
  {
   "cell_type": "markdown",
   "metadata": {},
   "source": [
    "A launch configuration is a JSON-based specification that tells VSCode how to run or debug your Python program. It can include:\n",
    "\n",
    "- The script to run\n",
    "- Command-line arguments\n",
    "- Environment variables\n",
    "- Python interpreter to use\n",
    "- Debugging options\n"
   ]
  },
  {
   "cell_type": "markdown",
   "metadata": {
    "vscode": {
     "languageId": "plaintext"
    }
   },
   "source": [
    "Here are the key options in launch configurations for Python debugging in VSCode:"
   ]
  },
  {
   "cell_type": "markdown",
   "metadata": {},
   "source": [
    "| Option | Description |\n",
    "|--------|-------------|\n",
    "| `name` | Provides the name for the debug configuration that appears in the VS Code dropdown list. |\n",
    "| `type` | Identifies the type of debugger to use; should be set to `debugpy` for debugging Python code. Other programming languages have their own debuggers such as `node`, `php`, `ruby`, etc. |\n",
    "| `request` | Specifies the mode to start debugging: `launch` (start debugger on specified file) or `attach` (attach to running process). |\n",
    "| `program` | Fully qualified path to the Python program's entry module (startup file). Use `${file}` for the currently active file. |\n",
    "| `module` | Specifies the name of a module to be debugged, similar to the `-m` argument in command line. |\n",
    "| `python` | Full path to the Python interpreter for debugging. Defaults to the workspace interpreter if not specified. |\n",
    "| `pythonArgs` | Arguments to pass to the Python interpreter. Syntax: `[\"<arg1>\", \"<arg2>\",...]` |\n",
    "| `args` | Arguments to pass to the Python program. Syntax: `[\"--quiet\", \"--port\", \"1593\"]` |\n",
    "| `stopOnEntry` | When `true`, breaks at the first line of the program. Default is `false`. |\n",
    "| `console` | Specifies where to launch the debug target: `integratedTerminal` (inside VS Code) or `externalTerminal` (external). |\n",
    "| `cwd` | Sets the working directory for the debugger. |\n",
    "| `env` | Environment variables to set for the debug session. Format: `{\"VAR1\": \"value1\", \"VAR2\": \"value2\"}` |\n",
    "| `envFile` | Path to a file containing environment variable definitions. |\n"
   ]
  },
  {
   "cell_type": "markdown",
   "metadata": {},
   "source": [
    "These options allow you to customize how your Python program is run and debugged, providing flexibility for different debugging scenarios. You can use VS Code variables like `${workspaceFolder}` in these settings for more portable configurations.\n"
   ]
  },
  {
   "cell_type": "markdown",
   "metadata": {},
   "source": [
    "❗️ **Note:** Some options (like `module` and `program`) are mutually exclusive. Choose the appropriate one based on your debugging needs.\n"
   ]
  },
  {
   "cell_type": "markdown",
   "metadata": {},
   "source": [
    "Remember, you can have multiple configurations in your `launch.json` file, each tailored to a specific debugging scenario in your project. Launch configurations allow you to save and reuse specific debugging setups, making it easier to switch between different debugging scenarios."
   ]
  },
  {
   "cell_type": "markdown",
   "metadata": {},
   "source": [
    "### <a id='toc4_1_'></a>[Creating a Basic Launch Configuration](#toc0_)\n"
   ]
  },
  {
   "cell_type": "markdown",
   "metadata": {},
   "source": [
    "To create a launch configuration:\n",
    "\n",
    "1. Click on the Run and Debug view in the sidebar (Ctrl+Shift+D)\n",
    "2. Click on \"create a launch.json file\" or the gear icon to open `launch.json`\n",
    "3. Select \"Python\" as the environment\n"
   ]
  },
  {
   "cell_type": "markdown",
   "metadata": {},
   "source": [
    "VSCode will create a `launch.json` file in your project's `.vscode` folder with a basic configuration:\n"
   ]
  },
  {
   "cell_type": "markdown",
   "metadata": {},
   "source": [
    "```json\n",
    "{\n",
    "    \"version\": \"0.2.0\",\n",
    "    \"configurations\": [\n",
    "        {\n",
    "            \"name\": \"Python: Current File\",\n",
    "            \"type\": \"python\",\n",
    "            \"request\": \"launch\",\n",
    "            \"program\": \"${file}\",\n",
    "            \"console\": \"integratedTerminal\"\n",
    "        }\n",
    "    ]\n",
    "}\n",
    "```\n"
   ]
  },
  {
   "cell_type": "markdown",
   "metadata": {},
   "source": [
    "💡 **Pro Tip:** You can have multiple configurations in the same `launch.json` file, allowing you to easily switch between different debug setups.\n"
   ]
  },
  {
   "cell_type": "markdown",
   "metadata": {},
   "source": [
    "### <a id='toc4_2_'></a>[Customizing Launch Configurations](#toc0_)\n"
   ]
  },
  {
   "cell_type": "markdown",
   "metadata": {},
   "source": [
    "Let's explore some common customizations:\n"
   ]
  },
  {
   "cell_type": "markdown",
   "metadata": {},
   "source": [
    "1. **Specifying a Particular Script**\n",
    "\n",
    "To always debug a specific script, regardless of the currently open file:\n"
   ]
  },
  {
   "cell_type": "markdown",
   "metadata": {},
   "source": [
    "```json\n",
    "{\n",
    "    \"name\": \"Debug main.py\",\n",
    "    \"type\": \"python\",\n",
    "    \"request\": \"launch\",\n",
    "    \"program\": \"${workspaceFolder}/main.py\",\n",
    "    \"console\": \"integratedTerminal\"\n",
    "}\n",
    "```\n"
   ]
  },
  {
   "cell_type": "markdown",
   "metadata": {},
   "source": [
    "2. **Adding Command-Line Arguments**\n",
    "\n",
    "To pass command-line arguments to your script:\n"
   ]
  },
  {
   "cell_type": "markdown",
   "metadata": {},
   "source": [
    "```json\n",
    "{\n",
    "    \"name\": \"Debug with arguments\",\n",
    "    \"type\": \"python\",\n",
    "    \"request\": \"launch\",\n",
    "    \"program\": \"${file}\",\n",
    "    \"args\": [\"--verbose\", \"--output\", \"results.txt\"],\n",
    "    \"console\": \"integratedTerminal\"\n",
    "}\n",
    "```\n"
   ]
  },
  {
   "cell_type": "markdown",
   "metadata": {},
   "source": [
    "3. **Setting Environment Variables**\n",
    "\n",
    "To set environment variables for your debugging session:\n"
   ]
  },
  {
   "cell_type": "markdown",
   "metadata": {},
   "source": [
    "```json\n",
    "{\n",
    "    \"name\": \"Debug with environment\",\n",
    "    \"type\": \"python\",\n",
    "    \"request\": \"launch\",\n",
    "    \"program\": \"${file}\",\n",
    "    \"env\": {\n",
    "        \"API_KEY\": \"your-secret-key\",\n",
    "        \"DEBUG_MODE\": \"True\"\n",
    "    },\n",
    "    \"console\": \"integratedTerminal\"\n",
    "}\n",
    "```\n"
   ]
  },
  {
   "cell_type": "markdown",
   "metadata": {},
   "source": [
    "🤔 **Why This Matters:** Environment variables are crucial for configuring your application without changing code, especially for sensitive information like API keys.\n"
   ]
  },
  {
   "cell_type": "markdown",
   "metadata": {},
   "source": [
    "### <a id='toc4_3_'></a>[Advanced Launch Configuration Features](#toc0_)\n"
   ]
  },
  {
   "cell_type": "markdown",
   "metadata": {},
   "source": [
    "1. **Using a Python Module**\n",
    "\n",
    "To debug a Python module instead of a script:\n"
   ]
  },
  {
   "cell_type": "markdown",
   "metadata": {},
   "source": [
    "```json\n",
    "{\n",
    "    \"name\": \"Debug Module\",\n",
    "    \"type\": \"python\",\n",
    "    \"request\": \"launch\",\n",
    "    \"module\": \"your_module_name\",\n",
    "    \"console\": \"integratedTerminal\"\n",
    "}\n",
    "```\n"
   ]
  },
  {
   "cell_type": "markdown",
   "metadata": {},
   "source": [
    "2. **Django and Flask Configurations**\n",
    "\n",
    "For web frameworks, you can use specific configurations:\n"
   ]
  },
  {
   "cell_type": "markdown",
   "metadata": {},
   "source": [
    "Django:"
   ]
  },
  {
   "cell_type": "markdown",
   "metadata": {},
   "source": [
    "```json\n",
    "{\n",
    "    \"name\": \"Django\",\n",
    "    \"type\": \"python\",\n",
    "    \"request\": \"launch\",\n",
    "    \"program\": \"${workspaceFolder}/manage.py\",\n",
    "    \"args\": [\"runserver\"],\n",
    "    \"django\": true\n",
    "}\n",
    "```\n"
   ]
  },
  {
   "cell_type": "markdown",
   "metadata": {},
   "source": [
    "Flask:"
   ]
  },
  {
   "cell_type": "markdown",
   "metadata": {},
   "source": [
    "```json\n",
    "{\n",
    "    \"name\": \"Flask\",\n",
    "    \"type\": \"python\",\n",
    "    \"request\": \"launch\",\n",
    "    \"module\": \"flask\",\n",
    "    \"env\": {\n",
    "        \"FLASK_APP\": \"app.py\",\n",
    "        \"FLASK_ENV\": \"development\"\n",
    "    },\n",
    "    \"args\": [\"run\", \"--no-debugger\"]\n",
    "}\n",
    "```\n"
   ]
  },
  {
   "cell_type": "markdown",
   "metadata": {},
   "source": [
    "3. **Remote Debugging**\n"
   ]
  },
  {
   "cell_type": "markdown",
   "metadata": {},
   "source": [
    "For debugging code running on a remote machine:\n"
   ]
  },
  {
   "cell_type": "markdown",
   "metadata": {},
   "source": [
    "```json\n",
    "{\n",
    "    \"name\": \"Python: Remote Attach\",\n",
    "    \"type\": \"python\",\n",
    "    \"request\": \"attach\",\n",
    "    \"connect\": {\n",
    "        \"host\": \"localhost\",\n",
    "        \"port\": 5678\n",
    "    }\n",
    "}\n",
    "```\n"
   ]
  },
  {
   "cell_type": "markdown",
   "metadata": {},
   "source": [
    "❗️ **Important Note:** Remote debugging requires additional setup on the remote machine, including running the Python process with remote debugging enabled.\n"
   ]
  },
  {
   "cell_type": "markdown",
   "metadata": {},
   "source": [
    "### <a id='toc4_4_'></a>[Best Practices for Launch Configurations](#toc0_)\n"
   ]
  },
  {
   "cell_type": "markdown",
   "metadata": {},
   "source": [
    "Here are some best practices to follow:\n",
    "1. **Use Variables:** Leverage VSCode's predefined variables like `${workspaceFolder}` for portability.\n",
    "2. **Comment Your Configurations:** Use JSON comments to explain the purpose of each configuration.\n",
    "3. **Version Control:** Include `launch.json` in version control for team-wide consistency.\n",
    "4. **Organize Configurations:** Group related configurations and use descriptive names.\n",
    "5. **Secure Sensitive Data:** Avoid putting sensitive information directly in `launch.json`. Use environment variables or external configuration files instead.\n"
   ]
  },
  {
   "cell_type": "markdown",
   "metadata": {},
   "source": [
    "And try to avoid the following pitfalls:\n",
    "1. **Overcomplicating Configurations:** Start simple and add complexity as needed.\n",
    "2. **Ignoring Workspace vs User Settings:** Be aware of the difference between workspace-specific and user-wide launch configurations.\n",
    "3. **Forgetting to Update:** Keep your launch configurations updated as your project evolves.\n"
   ]
  },
  {
   "cell_type": "markdown",
   "metadata": {},
   "source": [
    "Launch configurations in VSCode provide a powerful way to customize and manage your Python debugging environments. By mastering launch configurations, you can streamline your debugging workflow, easily switch between different debugging scenarios, and ensure consistent setup across your team. Remember to start with simple configurations and gradually add complexity as your project requires. With well-crafted launch configurations, you'll be able to tackle a wide range of debugging scenarios efficiently and effectively."
   ]
  },
  {
   "cell_type": "markdown",
   "metadata": {},
   "source": [
    "## <a id='toc5_'></a>[Summary](#toc0_)"
   ]
  },
  {
   "cell_type": "markdown",
   "metadata": {},
   "source": [
    "Launch configurations in VSCode are a powerful feature that significantly enhance your Python debugging capabilities. They provide a flexible and customizable way to set up and manage various debugging scenarios for your projects. Here's a recap of the key points we've covered:\n",
    "\n",
    "1. **Customization:** Launch configurations allow you to tailor your debugging environment to specific needs, from simple script execution to complex web application debugging.\n",
    "\n",
    "2. **Reusability:** By saving configurations in `launch.json`, you can easily switch between different debugging setups without reconfiguring each time.\n",
    "\n",
    "3. **Versatility:** Options like specifying scripts, setting environment variables, passing arguments, and choosing Python interpreters offer comprehensive control over your debugging sessions.\n",
    "\n",
    "4. **Framework Support:** Special configurations for frameworks like Django and Flask streamline web application debugging.\n",
    "\n",
    "5. **Advanced Features:** Remote debugging and module-based launching extend the capabilities to more complex scenarios.\n"
   ]
  },
  {
   "cell_type": "markdown",
   "metadata": {},
   "source": [
    "For an effective launch configuration, you should:\n",
    "- Start with simple configurations and gradually add complexity as needed.\n",
    "- Use VSCode variables (like `${workspaceFolder}`) to make your configurations more portable.\n",
    "- Leverage environment variables for sensitive information rather than hardcoding them in `launch.json`.\n",
    "- Keep your launch configurations under version control for team-wide consistency.\n"
   ]
  },
  {
   "cell_type": "markdown",
   "metadata": {},
   "source": [
    "Mastering launch configurations can significantly improve your debugging workflow. It allows you to:\n",
    "- Quickly switch between different debugging scenarios\n",
    "- Ensure consistent debugging environments across your team\n",
    "- Save time by automating the setup of complex debugging situations\n",
    "- Adapt to various project requirements without manual reconfiguration\n"
   ]
  },
  {
   "cell_type": "markdown",
   "metadata": {},
   "source": [
    "By effectively utilizing launch configurations, you can create a more efficient, consistent, and powerful debugging environment in VSCode. This not only saves time but also helps in tackling complex debugging scenarios with ease, ultimately contributing to better code quality and faster problem resolution in your Python projects.\n"
   ]
  },
  {
   "cell_type": "markdown",
   "metadata": {},
   "source": [
    "Remember, the goal is to make debugging as smooth and efficient as possible. With well-crafted launch configurations, you're well-equipped to handle a wide range of debugging challenges in your Python development journey."
   ]
  }
 ],
 "metadata": {
  "language_info": {
   "name": "python"
  }
 },
 "nbformat": 4,
 "nbformat_minor": 2
}
