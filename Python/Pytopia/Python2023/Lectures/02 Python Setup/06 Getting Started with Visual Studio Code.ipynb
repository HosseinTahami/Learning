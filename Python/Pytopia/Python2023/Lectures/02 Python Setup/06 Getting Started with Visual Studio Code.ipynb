{
 "cells": [
  {
   "attachments": {},
   "cell_type": "markdown",
   "metadata": {},
   "source": [
    "<img src=\"./images/banner.png\" width=\"800\">"
   ]
  },
  {
   "cell_type": "markdown",
   "metadata": {},
   "source": [
    "# Getting Started with Visual Studio Code for Python Development\n"
   ]
  },
  {
   "cell_type": "markdown",
   "metadata": {},
   "source": [
    "In this lecture, we will explore how to work with Visual Studio Code (VS Code) for Python development. VS Code provides an excellent environment for coding in Python, and we will introduce two essential extensions that will elevate your Python development experience. These extensions are all you need for now to get started with productive Python programming in VS Code.\n"
   ]
  },
  {
   "cell_type": "markdown",
   "metadata": {},
   "source": [
    "**Table of contents**<a id='toc0_'></a>    \n",
    "- [Opening VS Code in Different Directories and Files](#toc1_)    \n",
    "- [Interface Tour](#toc2_)    \n",
    "- [Extensions](#toc3_)    \n",
    "  - [Python Extension](#toc3_1_)    \n",
    "  - [Jupyter Extension](#toc3_2_)    \n",
    "- [Basic Editing](#toc4_)    \n",
    "\n",
    "<!-- vscode-jupyter-toc-config\n",
    "\tnumbering=false\n",
    "\tanchor=true\n",
    "\tflat=false\n",
    "\tminLevel=2\n",
    "\tmaxLevel=6\n",
    "\t/vscode-jupyter-toc-config -->\n",
    "<!-- THIS CELL WILL BE REPLACED ON TOC UPDATE. DO NOT WRITE YOUR TEXT IN THIS CELL -->"
   ]
  },
  {
   "cell_type": "markdown",
   "metadata": {},
   "source": [
    "## <a id='toc1_'></a>[Opening VS Code in Different Directories and Files](#toc0_)"
   ]
  },
  {
   "cell_type": "markdown",
   "metadata": {},
   "source": [
    "VS Code's flexibility allows you to open it in various directories or project folders. There are a few ways to achieve this:\n",
    "\n",
    "- **Method 1:** Launch VS Code, and then go to `File -> Open Folder...` or use the keyboard shortcut `Ctrl+K Ctrl+O` (Windows/Linux) or `Cmd+K Cmd+O` (Mac). Browse to the desired directory and click \"Open.\"\n",
    "\n",
    "- **Method 2:** Right-click on the folder you want to open in VS Code in your file explorer, and select \"Open with Code\" (the option may be labeled differently based on your operating system).\n",
    "\n",
    "- **Method 3:** Open the terminal, navigate to the desired directory using the `cd` command, and then type `code .` (including the dot at the end). This command will open VS Code in the current directory.\n"
   ]
  },
  {
   "cell_type": "markdown",
   "metadata": {},
   "source": [
    "Sometimes you may want to work on a single file without opening the entire project. Here's how to open a single file in VS Code:\n",
    "\n",
    "- **Method 1:** Launch VS Code, and then go to `File -> Open...` or use the keyboard shortcut `Ctrl+O` (Windows/Linux) or `Cmd+O` (Mac). Browse to the file you want to open and click \"Open.\"\n",
    "\n",
    "- **Method 2:** In your file explorer, right-click on the file and select \"Open with Code\" (the option may be labeled differently based on your operating system).\n"
   ]
  },
  {
   "cell_type": "markdown",
   "metadata": {},
   "source": [
    "## <a id='toc2_'></a>[Interface Tour](#toc0_)\n"
   ]
  },
  {
   "cell_type": "markdown",
   "metadata": {},
   "source": [
    "Let's begin our journey by getting familiar with the VS Code interface. Upon launching VS Code, you'll notice a clean and straightforward layout designed to maximize productivity. The main components include:\n",
    "- **Editor:** The central area where you write and edit your code. It offers a plethora of functionalities to ease your coding experience.\n",
    "- **Sidebar:** On the left-hand side, you'll find the sidebar with various panels, such as the Explorer for file navigation, Source Control for version control, and Extensions for managing your installed extensions.\n",
    "- **Status Bar:** Situated at the bottom, the status bar displays essential information like the file type, line and column numbers, and indentation settings.\n",
    "- **Command Palette:** Accessible through `Ctrl+Shift+P` (Windows/Linux) or `Cmd+Shift+P` (Mac), the Command Palette allows you to execute commands and access various features with ease.\n"
   ]
  },
  {
   "cell_type": "markdown",
   "metadata": {},
   "source": [
    "## <a id='toc3_'></a>[Extensions](#toc0_)\n"
   ]
  },
  {
   "cell_type": "markdown",
   "metadata": {},
   "source": [
    "One of the most compelling aspects of VS Code is its extensibility. Extensions are add-ons that enhance the editor's capabilities, tailored to different programming languages, frameworks, and development workflows.\n"
   ]
  },
  {
   "cell_type": "markdown",
   "metadata": {},
   "source": [
    "### <a id='toc3_1_'></a>[Python Extension](#toc0_)\n"
   ]
  },
  {
   "cell_type": "markdown",
   "metadata": {},
   "source": [
    "<img src=\"./images/vscode-python-ext.png\" width=\"600\">"
   ]
  },
  {
   "cell_type": "markdown",
   "metadata": {},
   "source": [
    "The Python extension is a must-have for any Python developer using VS Code. It brings powerful Python language support, code linting, debugging, and testing capabilities right to your fingertips. With this extension, you'll benefit from features like:\n",
    "\n",
    "- **IntelliSense for Python:** Enjoy intelligent code completion, which suggests Python keywords, modules, classes, functions, and even your custom-defined objects as you type.\n",
    "- **Code Linting:** Catch potential errors and enforce coding standards using the integrated linter. This helps maintain clean and error-free code.\n",
    "- **Code Formatting:** Keep your code consistent and readable by automatically formatting it according to the PEP 8 style guide.\n",
    "- **Code Navigation:** Easily navigate through your codebase with features like \"Go to Definition\" and \"Find All References.\"\n",
    "- **Interactive Python Experience:** Run Python code interactively within VS Code's integrated terminal.\n"
   ]
  },
  {
   "cell_type": "markdown",
   "metadata": {},
   "source": [
    "### <a id='toc3_2_'></a>[Jupyter Extension](#toc0_)\n"
   ]
  },
  {
   "attachments": {},
   "cell_type": "markdown",
   "metadata": {},
   "source": [
    "<img src=\"./images/vscode-jupyter-ext.png\" width=\"600\">"
   ]
  },
  {
   "cell_type": "markdown",
   "metadata": {},
   "source": [
    "The Jupyter extension is another valuable addition to your Python toolkit in VS Code. It enables seamless integration with Jupyter notebooks, a popular choice for data analysis, visualization, and experimentation. With this extension, you can:\n",
    "\n",
    "- **Open and Edit Notebooks:** Easily create, open, and edit Jupyter notebooks right within the VS Code environment.\n",
    "- **Intelligent Notebook Editing:** Leverage VS Code's IntelliSense and code editing capabilities when working on Jupyter notebooks.\n",
    "- **Kernel Management:** Manage and switch between different Python kernels associated with your Jupyter notebooks.\n",
    "\n",
    "With these extensions installed, you'll have a robust and feature-rich Python development environment.\n"
   ]
  },
  {
   "cell_type": "markdown",
   "metadata": {},
   "source": [
    "## <a id='toc4_'></a>[Basic Editing](#toc0_)\n",
    "\n",
    "Before diving into advanced features, let's master the basics of code editing in VS Code. Open a file by clicking `File -> Open` or using the keyboard shortcut `Ctrl+O` (Windows/Linux) or `Cmd+O` (Mac). Save your changes with `Ctrl+S` (Windows/Linux) or `Cmd+S` (Mac). You can use essential editing commands such as cut, copy, paste, and undo with familiar shortcuts.\n"
   ]
  }
 ],
 "metadata": {
  "language_info": {
   "name": "python"
  },
  "orig_nbformat": 4
 },
 "nbformat": 4,
 "nbformat_minor": 2
}
