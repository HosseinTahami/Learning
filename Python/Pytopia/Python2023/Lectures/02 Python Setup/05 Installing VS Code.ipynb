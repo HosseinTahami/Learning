{
 "cells": [
  {
   "attachments": {},
   "cell_type": "markdown",
   "metadata": {},
   "source": [
    "<img src=\"./images/banner.png\" width=\"800\">"
   ]
  },
  {
   "cell_type": "markdown",
   "metadata": {},
   "source": [
    "# Installing Visual Studio Code (VS Code)\n"
   ]
  },
  {
   "cell_type": "markdown",
   "metadata": {},
   "source": [
    "Visual Studio Code (VS Code) is a popular and versatile code editor that provides excellent support for Python development. Follow the steps below to install and enhance VS Code for Python development:\n"
   ]
  },
  {
   "cell_type": "markdown",
   "metadata": {},
   "source": [
    "**Table of contents**<a id='toc0_'></a>    \n",
    "- [Installing VS Code](#toc1_)    \n",
    "  - [MacOS](#toc1_1_)    \n",
    "  - [Linux](#toc1_2_)    \n",
    "  - [WSL](#toc1_3_)    \n",
    "    - [Open a remote folder or workspace](#toc1_3_1_)    \n",
    "- [How to Launch Visual Studio Code (VSCode) from Terminal](#toc2_)    \n",
    "- [Installing the Jupyter Extension](#toc3_)    \n",
    "\n",
    "<!-- vscode-jupyter-toc-config\n",
    "\tnumbering=false\n",
    "\tanchor=true\n",
    "\tflat=false\n",
    "\tminLevel=2\n",
    "\tmaxLevel=6\n",
    "\t/vscode-jupyter-toc-config -->\n",
    "<!-- THIS CELL WILL BE REPLACED ON TOC UPDATE. DO NOT WRITE YOUR TEXT IN THIS CELL -->"
   ]
  },
  {
   "cell_type": "markdown",
   "metadata": {},
   "source": [
    "## <a id='toc1_'></a>[Installing VS Code](#toc0_)\n"
   ]
  },
  {
   "cell_type": "markdown",
   "metadata": {},
   "source": [
    "### <a id='toc1_1_'></a>[MacOS](#toc0_)"
   ]
  },
  {
   "cell_type": "markdown",
   "metadata": {},
   "source": [
    "1. [Download Visual Studio Code](https://go.microsoft.com/fwlink/?LinkID=534106) for macOS.\n",
    "2. Open the browser's download list and locate the downloaded app or archive.\n",
    "3. If archive, extract the archive contents. Use double-click for some browsers or select the 'magnifying glass' icon with Safari.\n",
    "4. Drag `Visual Studio Code.app` to the Applications folder, making it available in the macOS Launchpad.\n",
    "5. Open VS Code from the Applications folder, by double clicking the icon.\n",
    "6. Add VS Code to your Dock by right-clicking on the icon, located in the Dock, to bring up the context menu and choosing Options, Keep in Dock.\n",
    "\n",
    "For more information, see [Install Visual Studio Code on macOS](https://code.visualstudio.com/docs/setup/mac)."
   ]
  },
  {
   "cell_type": "markdown",
   "metadata": {},
   "source": [
    "To launch VS Code from the terminal, use the following command:\n",
    "\n",
    "```bash\n",
    "code\n",
    "```\n"
   ]
  },
  {
   "cell_type": "markdown",
   "metadata": {},
   "source": [
    "> **Important note for Mac Users:**\n",
    ">\n",
    "> - If the command `code` or `code .` doesn't work in your terminal, open the VS Code from the Applications folder or from Launchpad, then open the Command Palette via ⌘⇧P and type shell command to find the Shell Command:\n",
    "> - Use the Uninstall 'code' command in the PATH command before the \"Install 'code' command in PATH\" command.\n",
    "> - After executing the command, restart the terminal for the new $PATH value to take effect.\n",
    "> - You'll be able to simply type `code .` in any folder to start editing files in that folder. The \".\" Simply means \"current directory\""
   ]
  },
  {
   "cell_type": "markdown",
   "metadata": {},
   "source": [
    "<img src=\"./images/vscode-install-path-mac.png\" width=\"800\">"
   ]
  },
  {
   "cell_type": "markdown",
   "metadata": {},
   "source": [
    "### <a id='toc1_2_'></a>[Linux](#toc0_)"
   ]
  },
  {
   "cell_type": "markdown",
   "metadata": {},
   "source": [
    "For Ubuntu users, you can install vscode using the software center:"
   ]
  },
  {
   "cell_type": "markdown",
   "metadata": {},
   "source": [
    "<img src=\"./images/vscode-install-linux.webp\" width=\"800\">"
   ]
  },
  {
   "cell_type": "markdown",
   "metadata": {},
   "source": [
    "You can also download the `.deb` file from the official website and install it using the command line. The command line installation is as follows:\n",
    "```bash\n",
    "sudo apt install ./<file>.deb\n",
    "\n",
    "# If you're on an older Linux distribution, you will need to run this instead:\n",
    "# sudo dpkg -i <file>.deb\n",
    "# sudo apt-get install -f # Install dependencies\n",
    "```\n",
    "\n",
    "For more information, please refer to the [official website](https://code.visualstudio.com/docs/setup/linux)."
   ]
  },
  {
   "cell_type": "markdown",
   "metadata": {},
   "source": [
    "To launch VS Code from the terminal, use the following command:\n",
    "\n",
    "```bash\n",
    "code\n",
    "```\n"
   ]
  },
  {
   "cell_type": "markdown",
   "metadata": {},
   "source": [
    "### <a id='toc1_3_'></a>[WSL](#toc0_)"
   ]
  },
  {
   "cell_type": "markdown",
   "metadata": {},
   "source": [
    "The Visual Studio Code WSL extension lets you use the Windows Subsystem for Linux (WSL) as your full-time development environment right from VS Code. You can develop in a Linux-based environment, use Linux-specific toolchains and utilities, and run and debug your Linux-based applications all from the comfort of Windows.\n",
    "\n",
    "The extension runs commands and other extensions directly in WSL so you can edit files located in WSL or the mounted Windows filesystem (for example /mnt/c) without worrying about pathing issues, binary compatibility, or other cross-OS challenges."
   ]
  },
  {
   "cell_type": "markdown",
   "metadata": {},
   "source": [
    "<img src=\"./images/vscode-install-wsl.png\" width=\"800\">"
   ]
  },
  {
   "cell_type": "markdown",
   "metadata": {},
   "source": [
    "This lets VS Code provide a local-quality development experience — including full IntelliSense (completions), code navigation, and debugging — regardless of where your code is hosted."
   ]
  },
  {
   "cell_type": "markdown",
   "metadata": {},
   "source": [
    "To get started, you need to:\n",
    "\n",
    "- Install the [Windows Subsystem for Linux](https://learn.microsoft.com/windows/wsl/install) along with your preferred Linux distribution.\n",
    "> **Note:** WSL 1 does have some [known limitations](https://code.visualstudio.com/docs/remote/wsl#_known-limitations) for certain types of development. Also, extensions installed in Alpine Linux may not work due to glibc dependencies in native source code inside the extension. See the [Remote Development and Linux article](https://aka.ms/vscode-remote/linux) for details.\n",
    "- Install [Visual Studio Code](https://code.visualstudio.com/) **on the Windows side (not in WSL)**.\n",
    "> **Note:** When prompted to **Select Additional Tasks** during installation, be sure to check the **Add to PATH** option so you can easily open a folder in WSL using the code command.\n",
    "\n",
    "Install the [WSL extension](https://marketplace.visualstudio.com/items?itemName=ms-vscode-remote.remote-wsl). If you plan to work with other remote extensions in VS Code, you may choose to install the [Remote Development extension pack](https://aka.ms/vscode-remote/download/extension).\n",
    "\n",
    "For more information, please refer to the [official website](https://code.visualstudio.com/docs/remote/wsl).\n"
   ]
  },
  {
   "cell_type": "markdown",
   "metadata": {},
   "source": [
    "#### <a id='toc1_3_1_'></a>[Open a remote folder or workspace](#toc0_)"
   ]
  },
  {
   "cell_type": "markdown",
   "metadata": {},
   "source": [
    "**From the WSL terminal**\n",
    "Opening a folder inside the Windows Subsystem for Linux in VS Code is very similar to opening up a Windows folder from the command prompt or PowerShell.\n",
    "\n",
    "1. Open a WSL terminal window (using the start menu item or by typing wsl from a command prompt or PowerShell).\n",
    "2. Navigate to a folder you'd like to open in VS Code (including, but not limited to, Windows filesystem mounts like `/mnt/c`)\n",
    "3. Type `code .` in the terminal. When doing this for the first time, you should see VS Code fetching components needed to run in WSL. This should only take a short while, and is only needed once.\n",
    "\n",
    "> Note: If this command does not work, you may need to restart your terminal or you may not have added VS Code to your path when it was installed.\n",
    "\n",
    "4. After a moment, a new VS Code window will appear, and you'll see a notification that VS Code is opening the folder in WSL.\n",
    "<img src=\"./images/wsl-starting-notification.png\" width=\"800\">\n",
    "VS Code will now continue to configure itself in WSL and keep you up to date as it makes progress.\n",
    "\n",
    "5. Once finished, you now see a WSL indicator in the bottom left corner, and you'll be able to use VS Code as you would normally!\n",
    "<img src=\"./images/wsl-statusbar-indicator.png\" width=\"300\">\n",
    "\n",
    "That's it! Any VS Code operations you perform in this window will be executed in the WSL environment, everything from editing and file operations, to debugging, using terminals, and more.\n"
   ]
  },
  {
   "cell_type": "markdown",
   "metadata": {},
   "source": [
    "## <a id='toc2_'></a>[How to Launch Visual Studio Code (VSCode) from Terminal](#toc0_)\n",
    "\n",
    "1. **Ensure VSCode is Installed:** First, make sure you have Visual Studio Code installed on your system. If not, download and install it from the official website.\n",
    "\n",
    "2. **Add VSCode to the PATH (Optional):** If VSCode is not added to your system's PATH environment variable, you may need to add it manually. This step allows you to launch VSCode from the terminal without specifying the full installation path.\n",
    "\n",
    "3. **Launch VSCode from Terminal:**\n",
    "   - Open your terminal (Command Prompt on Windows, Terminal on macOS/Linux).\n",
    "   - To open VSCode in the current directory, simply type:\n",
    "     ```\n",
    "     code .\n",
    "     ```\n",
    "   - Press Enter to execute the command, and VSCode will launch, opening the current directory as the workspace.\n",
    "\n",
    "4. **Difference between \"code\" and \"code .\":**\n",
    "   - `code`: When you type `code` in the terminal and press Enter, it will launch Visual Studio Code, but without specifying any directory or file to open. This means VSCode will open with a blank workspace, and you will have to manually open a folder or file from within the VSCode interface.\n",
    "   - `code .`: Adding the dot (`.`) after the `code` command tells VSCode to open the current directory as the workspace. When you use `code .`, VSCode will launch and directly load the contents of the current directory, treating it as the workspace.\n",
    "\n",
    "5. **Opening VSCode in a Directory:**\n",
    "   - Opening VSCode in a directory means setting that directory as the \"workspace\" for the VSCode session. A workspace in VSCode is essentially a project context that allows you to group related files together and configure workspace-specific settings.\n",
    "   - When you open VSCode in a directory, all the files and subdirectories within that directory become part of the workspace, enabling you to work on those files collectively.\n",
    "   - This is helpful when you are working on a specific project because it allows you to access the project's files, manage extensions, and apply specific configurations unique to that project.\n",
    "\n",
    "Remember, opening VSCode in a directory using `code .` in the terminal provides a seamless way to start working on your projects quickly and efficiently.\n"
   ]
  },
  {
   "cell_type": "markdown",
   "metadata": {},
   "source": [
    "## <a id='toc3_'></a>[Installing the Jupyter Extension](#toc0_)\n"
   ]
  },
  {
   "cell_type": "markdown",
   "metadata": {},
   "source": [
    "The Jupyter extension for VS Code allows you to work with Jupyter notebooks directly within the editor. Jupyter notebooks provide an interactive environment for data analysis, visualization, and code experimentation.\n"
   ]
  },
  {
   "cell_type": "markdown",
   "metadata": {},
   "source": [
    "To install the Jupyter extension, follow these steps:\n",
    "\n",
    "1. Open VS Code.\n",
    "2. Click on the \"Extensions\" button in the left sidebar (or press `Ctrl+Shift+X`).\n",
    "3. In the search bar, type \"Jupyter\" and press Enter.\n",
    "4. Look for the \"Jupyter\" extension in the search results.\n",
    "5. Click the \"Install\" button next to the \"Jupyter\" extension to install it.\n"
   ]
  },
  {
   "attachments": {},
   "cell_type": "markdown",
   "metadata": {},
   "source": [
    "<img src=\"./images/vscode-jupyter-ext.png\" width=\"600\">"
   ]
  },
  {
   "cell_type": "markdown",
   "metadata": {},
   "source": [
    "By installing the Jupyter extension, you can take advantage of the interactive capabilities of Jupyter notebooks within the VS Code environment, enhancing your Python development experience.\n"
   ]
  },
  {
   "cell_type": "markdown",
   "metadata": {},
   "source": [
    "With Visual Studio Code installed, launched either through the graphical interface or the terminal, and the Jupyter extension installed, you're all set to start coding in Python and leveraging the power of Jupyter notebooks within the VS Code editor!"
   ]
  }
 ],
 "metadata": {
  "language_info": {
   "name": "python"
  },
  "orig_nbformat": 4
 },
 "nbformat": 4,
 "nbformat_minor": 2
}
