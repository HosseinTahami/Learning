{
 "cells": [
  {
   "attachments": {},
   "cell_type": "markdown",
   "metadata": {},
   "source": [
    "<img src=\"./images/banner.png\" width=\"800\">"
   ]
  },
  {
   "cell_type": "markdown",
   "metadata": {},
   "source": [
    "# Installing Conda\n"
   ]
  },
  {
   "cell_type": "markdown",
   "metadata": {},
   "source": [
    "\n",
    "In this section, we will walk you through the process of installing Conda, a popular package manager and environment management system. We recommend using Miniconda, which is a lightweight version of Anaconda. The installation steps provided below will ensure that you have the necessary tools to create and manage Python environments effectively.\n"
   ]
  },
  {
   "cell_type": "markdown",
   "metadata": {},
   "source": [
    "**Table of contents**<a id='toc0_'></a>    \n",
    "- [Understanding the Differences: Conda, Miniconda, and Anaconda](#toc1_)    \n",
    "- [Why Prefer Miniconda](#toc2_)    \n",
    "- [Installing miniconda with Command Line](#toc3_)    \n",
    "  - [Linux and Windows Subsystem for Linux (WSL)](#toc3_1_)    \n",
    "  - [macOS](#toc3_2_)    \n",
    "  - [Step by Step Installation Guide for Installing Conda with Command Line](#toc3_3_)    \n",
    "    - [Running Conda Initialization Manually](#toc3_3_1_)    \n",
    "- [Conclusion](#toc4_)    \n",
    "\n",
    "<!-- vscode-jupyter-toc-config\n",
    "\tnumbering=false\n",
    "\tanchor=true\n",
    "\tflat=false\n",
    "\tminLevel=2\n",
    "\tmaxLevel=6\n",
    "\t/vscode-jupyter-toc-config -->\n",
    "<!-- THIS CELL WILL BE REPLACED ON TOC UPDATE. DO NOT WRITE YOUR TEXT IN THIS CELL -->"
   ]
  },
  {
   "attachments": {},
   "cell_type": "markdown",
   "metadata": {},
   "source": [
    "<img src=\"./images/conda-miniconda-anaconda.png\" width=\"500\">"
   ]
  },
  {
   "cell_type": "markdown",
   "metadata": {},
   "source": [
    "## <a id='toc1_'></a>[Understanding the Differences: Conda, Miniconda, and Anaconda](#toc0_)"
   ]
  },
  {
   "cell_type": "markdown",
   "metadata": {},
   "source": [
    "\n",
    "When it comes to managing Python packages and creating isolated environments, Conda, Miniconda, and Anaconda are three popular choices. While they share the same underlying package manager, Conda, there are key differences between them that cater to different use cases. In this guide, we'll explore these differences and explain why Miniconda is often preferred over the others.\n",
    "\n",
    "**1. Conda:**\n",
    "Conda is the package manager at the core of both Miniconda and Anaconda. It is a powerful tool that allows you to install, update, and manage software packages and their dependencies. Additionally, Conda supports multiple platforms and is not limited to Python packages; it can manage packages written in other languages, making it versatile for various projects.\n",
    "\n",
    "**2. Miniconda:**\n",
    "Miniconda is a minimal version of Anaconda, designed to provide a lightweight and customizable installation. It includes only the Conda package manager and essential dependencies, leaving out the extensive collection of pre-installed Python packages that come with Anaconda. Miniconda allows users to have more control over the packages they install and saves disk space compared to a full Anaconda installation.\n",
    "\n",
    "**3. Anaconda:**\n",
    "Anaconda is a distribution that includes the Conda package manager and an extensive collection of pre-installed Python packages, along with popular data science libraries, tools, and environments. It is tailored specifically for data science, scientific computing, and machine learning tasks. Anaconda is an all-in-one solution that simplifies the setup for data scientists and researchers, providing a wide range of pre-configured tools.\n"
   ]
  },
  {
   "cell_type": "markdown",
   "metadata": {},
   "source": [
    "## <a id='toc2_'></a>[Why Prefer Miniconda](#toc0_)"
   ]
  },
  {
   "cell_type": "markdown",
   "metadata": {},
   "source": [
    "\n",
    "1. **Customizability:** Miniconda's minimalistic approach allows users to install only the packages they need. This level of control ensures that you can set up lightweight and efficient Python environments tailored to your specific project requirements.\n",
    "\n",
    "2. **Reduced Disk Space:** By installing only the necessary packages, Miniconda consumes less disk space compared to Anaconda. This can be crucial, especially on systems with limited storage capacity or when managing multiple environments.\n",
    "\n",
    "3. **Faster Installation:** Miniconda has a smaller download size and faster installation process compared to Anaconda. This makes it more convenient for quick installations and setting up isolated environments on-demand.\n"
   ]
  },
  {
   "cell_type": "markdown",
   "metadata": {},
   "source": [
    "While Conda is the common package manager shared by both Miniconda and Anaconda, the choice between the two depends on your specific needs. For users seeking greater flexibility, customizability, reduced disk space, and faster installation times, Miniconda is the preferred option. On the other hand, if you require a comprehensive data science environment with pre-installed packages, Anaconda provides a comprehensive and convenient solution. By understanding the differences between Conda, Miniconda, and Anaconda, you can make an informed decision based on your project's requirements and your preferences for package management and environment setup.\n"
   ]
  },
  {
   "cell_type": "markdown",
   "metadata": {},
   "source": [
    "## <a id='toc3_'></a>[Installing miniconda with Command Line](#toc0_)"
   ]
  },
  {
   "cell_type": "markdown",
   "metadata": {},
   "source": [
    "The command-line installation of Conda involves downloading and running a script specific to your operating system. Let's go through the installation process for each OS."
   ]
  },
  {
   "cell_type": "markdown",
   "metadata": {},
   "source": [
    "**Why Choose Command-Line Installation:**\n",
    "\n",
    "Here are some reasons why installing Conda via the command line is preferred:\n",
    "\n",
    "1. **Control and Flexibility:** Command-line installation allows you to customize the installation, choose installation paths, and set environment variables as needed.\n",
    "\n",
    "2. **Faster and Scriptable:** Command-line installations are often faster and can be easily automated using scripts, making them ideal for automated deployments and reproducibility.\n",
    "\n",
    "3. **Lightweight:** Command-line installations (e.g., Miniconda) provide a minimal installation, giving you more control over the packages you want to install, reducing disk space usage.\n",
    "\n",
    "4. **Compatibility:** Command-line installations work on remote servers and headless systems, where graphical interfaces are not available.\n"
   ]
  },
  {
   "cell_type": "markdown",
   "metadata": {},
   "source": [
    "### <a id='toc3_1_'></a>[Linux and Windows Subsystem for Linux (WSL)](#toc0_)\n"
   ]
  },
  {
   "cell_type": "markdown",
   "metadata": {},
   "source": [
    "\n",
    "WSL allows you to run a Linux distribution alongside your Windows OS. To install Conda in WSL, follow these steps:\n",
    "\n",
    "a. Open your WSL terminal (e.g., Ubuntu) and update the package lists:\n",
    "```bash\n",
    "sudo apt update\n",
    "```\n",
    "\n",
    "b. Download the Miniconda installer for Linux using `wget`:\n",
    "```bash\n",
    "wget https://repo.anaconda.com/miniconda/Miniconda3-latest-Linux-x86_64.sh\n",
    "```\n",
    "\n",
    "c. Run the installation script and follow the prompts:\n",
    "```bash\n",
    "bash Miniconda3-latest-Linux-x86_64.sh\n",
    "```"
   ]
  },
  {
   "cell_type": "markdown",
   "metadata": {},
   "source": [
    "### <a id='toc3_2_'></a>[macOS](#toc0_)"
   ]
  },
  {
   "cell_type": "markdown",
   "metadata": {},
   "source": [
    "To install Conda on Intel-based macOS, you can follow these steps:\n",
    "\n",
    "a. Open your terminal and download the Miniconda installer for macOS (Intel):\n",
    "```bash\n",
    "curl -O https://repo.anaconda.com/miniconda/Miniconda3-latest-MacOSX-x86_64.sh\n",
    "```\n",
    "\n",
    "or for macOS (Apple Silicon):\n",
    "```bash\n",
    "curl -O https://repo.anaconda.com/miniconda/Miniconda3-latest-MacOSX-arm64.sh\n",
    "```\n",
    "\n",
    "\n",
    "b. Run the installation script and follow the prompts:\n",
    "```bash\n",
    "bash Miniconda3-latest-MacOSX-x86_64.sh\n",
    "```\n",
    "\n",
    "or for macOS (Apple Silicon):\n",
    "```bash\n",
    "bash Miniconda3-latest-MacOSX-arm64.sh\n",
    "```"
   ]
  },
  {
   "cell_type": "markdown",
   "metadata": {},
   "source": [
    "### <a id='toc3_3_'></a>[Step by Step Installation Guide for Installing Conda with Command Line](#toc0_)"
   ]
  },
  {
   "cell_type": "markdown",
   "metadata": {},
   "source": [
    "**Step 1: Download Conda with wget (in Linux) or Curl (macOS)**"
   ]
  },
  {
   "cell_type": "markdown",
   "metadata": {},
   "source": [
    "<img src=\"./images/00-conda-download.png\" width=\"500\">"
   ]
  },
  {
   "cell_type": "markdown",
   "metadata": {},
   "source": [
    "<img src=\"./images/00-conda-download-mac.png\" width=\"500\">"
   ]
  },
  {
   "cell_type": "markdown",
   "metadata": {},
   "source": [
    "\n",
    "- Open your terminal or command prompt.\n",
    "- Use the `wget`/`curl` command to download the Conda installer script.\n",
    "- Example:\n",
    "  - Linux/WSL: `wget https://repo.anaconda.com/miniconda/Miniconda3-latest-Linux-x86_64.sh`\n",
    "  - MacOS (Intel): `curl -O https://repo.anaconda.com/miniconda/Miniconda3-latest-MacOSX-x86_64.sh`\n",
    "  - MacOS (Apple Silicon)`curl -O https://repo.anaconda.com/miniconda/Miniconda3-latest-MacOSX-arm64.sh`"
   ]
  },
  {
   "cell_type": "markdown",
   "metadata": {},
   "source": [
    "\n",
    "**Step 2: Start Conda Installation with Bash**\n"
   ]
  },
  {
   "cell_type": "markdown",
   "metadata": {},
   "source": [
    "<img src=\"./images/01-conda-install-start.png\" width=\"500\">"
   ]
  },
  {
   "cell_type": "markdown",
   "metadata": {},
   "source": [
    "<img src=\"./images/01-conda-install-start-mac.png\" width=\"500\">"
   ]
  },
  {
   "cell_type": "markdown",
   "metadata": {},
   "source": [
    "\n",
    "- After downloading the installer, begin the installation by running the bash script.\n",
    "- Example: `bash Miniconda3-latest-Linux-x86_64.sh`\n"
   ]
  },
  {
   "cell_type": "markdown",
   "metadata": {},
   "source": [
    "\n",
    "**Step 3: Skip Conda License with Space Key**\n"
   ]
  },
  {
   "cell_type": "markdown",
   "metadata": {},
   "source": [
    "<img src=\"./images/02-conda-license-skip.png\" width=\"500\">"
   ]
  },
  {
   "cell_type": "markdown",
   "metadata": {},
   "source": [
    "\n",
    "- The License Agreement will be displayed.\n",
    "- Press the space key to scroll through the License Agreement quickly.\n"
   ]
  },
  {
   "cell_type": "markdown",
   "metadata": {},
   "source": [
    "\n",
    "**Step 4: Accept Conda License**\n"
   ]
  },
  {
   "cell_type": "markdown",
   "metadata": {},
   "source": [
    "<img src=\"./images/03-conda-license.png\" width=\"500\">"
   ]
  },
  {
   "cell_type": "markdown",
   "metadata": {},
   "source": [
    "\n",
    "- After scrolling through the License Agreement, you will be prompted to accept it.\n",
    "- Type 'yes' (without quotes) to accept the License Agreement.\n"
   ]
  },
  {
   "cell_type": "markdown",
   "metadata": {},
   "source": [
    "\n",
    "**Step 5: Set Conda Installation Path**\n"
   ]
  },
  {
   "cell_type": "markdown",
   "metadata": {},
   "source": [
    "<img src=\"./images/04-conda-installation-path.png\" width=\"500\">\n"
   ]
  },
  {
   "cell_type": "markdown",
   "metadata": {},
   "source": [
    "\n",
    "- Choose the installation path for Conda.\n",
    "- Press 'Enter' to accept the default location or specify a custom path.\n"
   ]
  },
  {
   "cell_type": "markdown",
   "metadata": {},
   "source": [
    "\n",
    "**Step 6: Conda Init Setup and Its Importance**\n"
   ]
  },
  {
   "cell_type": "markdown",
   "metadata": {},
   "source": [
    "<img src=\"./images/05-init-conda.png\" width=\"500\">"
   ]
  },
  {
   "cell_type": "markdown",
   "metadata": {},
   "source": [
    "\n",
    "- You will be asked whether to initialize Conda.\n",
    "- Type 'yes' (without quotes) to initialize Conda.\n",
    "- Conda initialization sets up necessary configurations to recognize 'conda' commands in the terminal.\n"
   ]
  },
  {
   "cell_type": "markdown",
   "metadata": {},
   "source": [
    "\n",
    "**Important Note:**\n"
   ]
  },
  {
   "cell_type": "markdown",
   "metadata": {},
   "source": [
    "- If you choose not to initialize Conda by typing 'no', the 'conda' command won't work in the terminal.\n",
    "- To fix this, you will need to manually run `conda init` after the installation.\n"
   ]
  },
  {
   "cell_type": "markdown",
   "metadata": {},
   "source": [
    "\n",
    "**Step 7: Final Image of Conda Setup**\n"
   ]
  },
  {
   "cell_type": "markdown",
   "metadata": {},
   "source": [
    "<img src=\"./images/06-conda-setup-finished.png\" width=\"500\">"
   ]
  },
  {
   "cell_type": "markdown",
   "metadata": {},
   "source": [
    "\n",
    "- The installation process is now complete.\n",
    "- You have successfully installed Conda on your system.\n"
   ]
  },
  {
   "cell_type": "markdown",
   "metadata": {},
   "source": [
    "\n",
    "**Step 8: Check Installation by Running Conda --version**\n"
   ]
  },
  {
   "cell_type": "markdown",
   "metadata": {},
   "source": [
    "<img src=\"./images/07-conda-version.png\" width=\"500\">"
   ]
  },
  {
   "cell_type": "markdown",
   "metadata": {},
   "source": [
    "\n",
    "- To verify the installation, open a new terminal or command prompt.\n",
    "- Type `conda --version` and press 'Enter'.\n",
    "- If installed correctly, it will display the Conda version number.\n"
   ]
  },
  {
   "cell_type": "markdown",
   "metadata": {},
   "source": [
    "By following these step-by-step images and instructions, you have successfully installed Conda on your system. Conda is now ready to manage Python packages and create virtual environments for your Python projects. Enjoy the power of Conda for seamless Python development!\n"
   ]
  },
  {
   "cell_type": "markdown",
   "metadata": {},
   "source": [
    "🔫 Watch [Instagram Video](https://www.instagram.com/reel/CtR8GVZgxaK/?igshid=MzRlODBiNWFlZA%3D%3D)"
   ]
  },
  {
   "cell_type": "markdown",
   "metadata": {},
   "source": [
    "#### <a id='toc3_3_1_'></a>[Running Conda Initialization Manually](#toc0_)"
   ]
  },
  {
   "cell_type": "markdown",
   "metadata": {},
   "source": [
    "In some cases, during the installation of Conda, users may encounter the option to run conda init (Step 6) but choose to decline the initialization. This decision can result in the 'conda' command not being recognized in the terminal. However, there's a simple solution to rectify this situation."
   ]
  },
  {
   "cell_type": "markdown",
   "metadata": {},
   "source": [
    "**Step 1: Source Conda Script**\n",
    "\n",
    "After completing the Conda installation, open a new terminal or command prompt and run the following command to source the Conda script:\n",
    "\n",
    "```bash\n",
    "source ~/miniconda3/etc/profile.d/conda.sh\n",
    "```\n",
    "\n",
    "This command sets up the necessary environment variables to make 'conda' accessible in the current terminal session."
   ]
  },
  {
   "cell_type": "markdown",
   "metadata": {},
   "source": [
    "**Step 2: Initialize Conda**\n",
    "Next, if you are using linux or WSL, to ensure 'conda' works in every new terminal session, run the following command:\n",
    "\n",
    "```bash\n",
    "conda init bash\n",
    "```\n",
    "\n",
    "This will initialize Conda for the Bash shell, making the 'conda' command available automatically whenever you open a new terminal.\n",
    "\n",
    "If you are using the Zsh shell (Default on macOS), run the following command to initialize Conda for Zsh:\n",
    "\n",
    "```bash\n",
    "conda init zsh\n",
    "```\n",
    "This will enable the `conda` command to work in Zsh terminal sessions as well.\n",
    "\n",
    "> Users on WSL are most likely using the Bash shell by default, so the primary initialization command is `conda init bash`. On macOS, the default shell is Zsh, so you can also run `conda init zsh` if you prefer to use Zsh."
   ]
  },
  {
   "cell_type": "markdown",
   "metadata": {},
   "source": [
    "**Step 4: Restart the Terminal**\n",
    "\n",
    "After executing the above steps, close the current terminal and open a new one. The 'conda' command should now be recognized, and you can start using Conda to manage Python packages and environments."
   ]
  },
  {
   "cell_type": "markdown",
   "metadata": {},
   "source": [
    "**Important Note:**\n",
    "\n",
    "By declining conda init during installation, you are opting to initialize Conda manually after installation. Running the provided commands is essential to ensure a smooth and hassle-free experience with Conda. Initialization sets up the environment variables needed to access the 'conda' command system-wide."
   ]
  },
  {
   "cell_type": "markdown",
   "metadata": {},
   "source": [
    "If you've chosen not to run conda init during the installation process and find that the 'conda' command is not working, don't worry. Simply follow the steps above to source the Conda script and initialize Conda manually in your terminal. Once completed, you can fully leverage the power of Conda for seamless management of Python packages and environments, whether you are using Bash or Zsh as your default shell."
   ]
  },
  {
   "cell_type": "markdown",
   "metadata": {},
   "source": [
    "## <a id='toc4_'></a>[Conclusion](#toc0_)"
   ]
  },
  {
   "cell_type": "markdown",
   "metadata": {},
   "source": [
    "\n",
    "In summary, Conda is a powerful package manager that provides an efficient way to manage package dependencies and ensure code compatibility across different computers and projects. By creating isolated environments and handling package versions, Conda helps Python developers collaborate seamlessly, deploy projects reliably, and maintain code stability over time. Its ability to handle complex package requirements makes it a valuable tool in the Python ecosystem."
   ]
  }
 ],
 "metadata": {
  "kernelspec": {
   "display_name": "base",
   "language": "python",
   "name": "python3"
  },
  "language_info": {
   "name": "python",
   "version": "3.10.10"
  },
  "orig_nbformat": 4
 },
 "nbformat": 4,
 "nbformat_minor": 2
}
