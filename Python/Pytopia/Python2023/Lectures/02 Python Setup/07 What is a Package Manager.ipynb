{
 "cells": [
  {
   "attachments": {},
   "cell_type": "markdown",
   "metadata": {},
   "source": [
    "<img src=\"./images/banner.png\" width=\"800\">"
   ]
  },
  {
   "cell_type": "markdown",
   "metadata": {},
   "source": [
    "# What is a Package Manager?\n"
   ]
  },
  {
   "cell_type": "markdown",
   "metadata": {},
   "source": [
    "\n",
    "In this section, we will walk you through the process of installing Conda, a popular package manager and environment management system. We recommend using Miniconda, which is a lightweight version of Anaconda. The installation steps provided below will ensure that you have the necessary tools to create and manage Python environments effectively.\n"
   ]
  },
  {
   "cell_type": "markdown",
   "metadata": {},
   "source": [
    "**Table of contents**<a id='toc0_'></a>    \n",
    "- [How Package Managers Work](#toc1_)    \n",
    "- [Scenario: Two People Creating Conda Environments](#toc2_)    \n",
    "- [Benefits of Using a Package Manager](#toc3_)    \n",
    "\n",
    "<!-- vscode-jupyter-toc-config\n",
    "\tnumbering=false\n",
    "\tanchor=true\n",
    "\tflat=false\n",
    "\tminLevel=2\n",
    "\tmaxLevel=6\n",
    "\t/vscode-jupyter-toc-config -->\n",
    "<!-- THIS CELL WILL BE REPLACED ON TOC UPDATE. DO NOT WRITE YOUR TEXT IN THIS CELL -->"
   ]
  },
  {
   "cell_type": "markdown",
   "metadata": {},
   "source": [
    "\n",
    "## <a id='toc1_'></a>[How Package Managers Work](#toc0_)\n"
   ]
  },
  {
   "cell_type": "markdown",
   "metadata": {},
   "source": [
    "When you write Python code, it often relies on external libraries or tools to perform specific tasks, like handling data, plotting graphs, or connecting to databases. These external libraries are called packages. Think of them as ready-to-use modules that extend Python's capabilities and save you time by providing pre-built functionality."
   ]
  },
  {
   "cell_type": "markdown",
   "metadata": {},
   "source": [
    "\n",
    "Now, imagine you're a Python developer working on a project that uses several packages. The challenge arises when different projects might require different versions of the same package or even entirely different sets of packages. If you install all these packages globally on your computer, you may encounter conflicts, where one project needs an older version of a package, while another requires a newer version."
   ]
  },
  {
   "cell_type": "markdown",
   "metadata": {},
   "source": [
    "Here's where environments and package managers come to the rescue:\n",
    "\n",
    "- **Package Versions**: Packages can have multiple versions, each with its own set of features, bug fixes, and changes. However, not all projects may be compatible with the latest versions of packages they rely on. Therefore, it's crucial to manage specific package versions to maintain code stability and prevent unexpected behavior.\n",
    "\n",
    "- **Environment**: An environment is like a self-contained workspace for a Python project. It allows developers to isolate their project from the global Python installation and other projects. This isolation helps avoid conflicts between different projects that might rely on different package versions or have conflicting dependencies.\n",
    "\n",
    "- **Package Manager**: A package manager is a tool that simplifies the process of installing, updating, and removing packages within a specific environment. It keeps track of package versions and ensures that the required packages are available to the project when needed."
   ]
  },
  {
   "cell_type": "markdown",
   "metadata": {},
   "source": [
    "## <a id='toc2_'></a>[Scenario: Two People Creating Conda Environments](#toc0_)"
   ]
  },
  {
   "cell_type": "markdown",
   "metadata": {},
   "source": [
    "Now, let's relate this to our scenario with Person #1 and Person #2:\n",
    "\n",
    "- Person #1 has developed a Python code for a project that relies on specific packages (Python, tensorflow, sklearn, and numpy). To ensure their code runs without any issues, they use Conda, a popular package manager, to create a separate environment.\n",
    "\n",
    "- Person #2 also has the code, but they don't use Conda or have the same packages installed as Person #1."
   ]
  },
  {
   "cell_type": "markdown",
   "metadata": {},
   "source": [
    "<img src=\"./images/conda-environments.png\" width=\"800\">"
   ]
  },
  {
   "cell_type": "markdown",
   "metadata": {},
   "source": [
    "\n",
    "In our scenario with Person #1 and Person #2, Person #1 uses Conda as the package manager for their Python project. Here's how Conda helps:\n",
    "\n",
    "- **Person #1's Computer (Conda Environment)**: Person #1 creates a Conda environment specifically for their project. Within this environment, Conda ensures that the required packages (tensorflow, sklearn, and numpy) are installed with the correct versions. This isolation guarantees that Person #1's code runs smoothly and consistently, regardless of other packages installed on their computer.\n",
    "\n",
    "- **Person #2's Computer (Non-Conda Environment)**: Person #2 doesn't use Conda and might have a different set of packages installed, including Package_A. When they try to run Person #1's code without setting up a similar environment, issues arise. The code may fail due to missing dependencies (no tensorflow and wrong version for numpy) that are required for the code to work correctly."
   ]
  },
  {
   "cell_type": "markdown",
   "metadata": {},
   "source": [
    "By using Conda and environments, Python developers achieve code **portability** and **reproducibility**. Portability means that the code can be easily shared and run on different computers, as long as the recipient sets up the same Conda environment. Reproducibility ensures that the code will behave consistently over time, even if package versions change, as Conda keeps track of dependencies and versions within the environment."
   ]
  },
  {
   "cell_type": "markdown",
   "metadata": {},
   "source": [
    "## <a id='toc3_'></a>[Benefits of Using a Package Manager](#toc0_)"
   ]
  },
  {
   "cell_type": "markdown",
   "metadata": {},
   "source": [
    "<img src=\"./images/conda-python.jpg\" width=\"500\">"
   ]
  },
  {
   "cell_type": "markdown",
   "metadata": {},
   "source": [
    "\n",
    "A package manager, such as Conda, provides several benefits for Python development:\n"
   ]
  },
  {
   "cell_type": "markdown",
   "metadata": {},
   "source": [
    "\n",
    "1. **Dependency management**: Package managers handle the installation, upgrading, and removal of packages and their dependencies. This eliminates the need to manually manage complex dependency chains, ensuring that your project's dependencies are correctly installed and compatible with each other.\n",
    "\n",
    "2. **Environment isolation**: With Conda, you can create isolated environments, also known as virtual environments, for your Python projects. Each environment can have its own set of packages and dependencies, enabling you to work on different projects with varying requirements without conflicts.\n",
    "\n",
    "3. **Reproducibility**: By specifying the exact versions of packages in your Conda environment, you can ensure that your project can be reproduced in the future. This is particularly useful when sharing code with others or when deploying your project on different machines.\n"
   ]
  },
  {
   "cell_type": "markdown",
   "metadata": {},
   "source": [
    "While there are other Python package managers like `pip` and `poetry`, which is the standard package manager for Python, and other specialized package managers for specific use cases, we've selected Conda for its robust features, strong dependency management, and extensive support for scientific computing and data science projects."
   ]
  },
  {
   "cell_type": "markdown",
   "metadata": {},
   "source": [
    "By installing Miniconda and leveraging the power of Conda, you will have a robust package manager at your disposal. Later, we will use Conda to install Python and required packages, enabling you to create a tailored and efficient Python development environment.\n"
   ]
  }
 ],
 "metadata": {
  "kernelspec": {
   "display_name": "base",
   "language": "python",
   "name": "python3"
  },
  "language_info": {
   "name": "python",
   "version": "3.10.10"
  },
  "orig_nbformat": 4
 },
 "nbformat": 4,
 "nbformat_minor": 2
}
