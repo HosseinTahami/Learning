{
 "cells": [
  {
   "attachments": {},
   "cell_type": "markdown",
   "metadata": {},
   "source": [
    "<img src=\"./images/banner.png\" width=\"800\">"
   ]
  },
  {
   "cell_type": "markdown",
   "metadata": {},
   "source": [
    "# Managing Python Packages with Conda\n"
   ]
  },
  {
   "cell_type": "markdown",
   "metadata": {},
   "source": [
    "In this section, we will dive into the world of Conda environments, learning how to create and manage them effectively. We will explore how to activate and deactivate environments, list installed packages, and remove unnecessary environments. Additionally, we will master the art of installing, updating, and removing packages while exploring various channels to find the perfect packages for our projects. Get ready to take control of your Python projects and ensure smooth package management with Conda! Let's get started!"
   ]
  },
  {
   "cell_type": "markdown",
   "metadata": {},
   "source": [
    "**Table of contents**<a id='toc0_'></a>    \n",
    "- [Conda Environments](#toc1_)    \n",
    "  - [Creating a New Environment](#toc1_1_)    \n",
    "  - [Activating and Deactivating Environments](#toc1_2_)    \n",
    "  - [Listing Environments and Packages](#toc1_3_)    \n",
    "  - [Removing Environments](#toc1_4_)    \n",
    "- [Installing and Managing Packages](#toc2_)    \n",
    "  - [Installing Packages](#toc2_1_)    \n",
    "    - [Installing Packages with pip](#toc2_1_1_)    \n",
    "  - [Updating Packages](#toc2_2_)    \n",
    "  - [Removing Packages](#toc2_3_)    \n",
    "- [Environment Files](#toc3_)    \n",
    "  - [Exporting an Environment](#toc3_1_)    \n",
    "  - [Creating an Environment from a File](#toc3_2_)    \n",
    "- [Best Practices](#toc4_)    \n",
    "\n",
    "<!-- vscode-jupyter-toc-config\n",
    "\tnumbering=false\n",
    "\tanchor=true\n",
    "\tflat=false\n",
    "\tminLevel=2\n",
    "\tmaxLevel=6\n",
    "\t/vscode-jupyter-toc-config -->\n",
    "<!-- THIS CELL WILL BE REPLACED ON TOC UPDATE. DO NOT WRITE YOUR TEXT IN THIS CELL -->"
   ]
  },
  {
   "cell_type": "markdown",
   "metadata": {},
   "source": [
    "## <a id='toc1_'></a>[Conda Environments](#toc0_)"
   ]
  },
  {
   "cell_type": "markdown",
   "metadata": {},
   "source": [
    "Conda environments are isolated spaces that allow you to manage packages and dependencies separately for different projects. They help avoid conflicts between packages and ensure the reproducibility of your Python projects."
   ]
  },
  {
   "cell_type": "markdown",
   "metadata": {},
   "source": [
    "<img src=\"./images/how-conda-works.png\" width=\"800\">"
   ]
  },
  {
   "cell_type": "markdown",
   "metadata": {},
   "source": [
    "### <a id='toc1_1_'></a>[Creating a New Environment](#toc0_)"
   ]
  },
  {
   "cell_type": "markdown",
   "metadata": {},
   "source": [
    "To create a new Conda environment, use the conda create command followed by the desired environment name and the Python version you want to use:\n",
    "\n",
    "```bash\n",
    "conda create --name my_env python=3.10\n",
    "```"
   ]
  },
  {
   "cell_type": "markdown",
   "metadata": {},
   "source": [
    "Replace `my_env` with your preferred environment name, and `python=3.10` with the desired Python version."
   ]
  },
  {
   "cell_type": "markdown",
   "metadata": {},
   "source": [
    "### <a id='toc1_2_'></a>[Activating and Deactivating Environments](#toc0_)"
   ]
  },
  {
   "cell_type": "markdown",
   "metadata": {},
   "source": [
    "<img src=\"./images/conda-activate.png\" width=\"600\">"
   ]
  },
  {
   "cell_type": "markdown",
   "metadata": {},
   "source": [
    "Before using an environment, you need to activate it. To activate an environment, use the `conda activate` command:\n",
    "\n",
    "```bash\n",
    "conda activate my_env\n",
    "```"
   ]
  },
  {
   "cell_type": "markdown",
   "metadata": {},
   "source": [
    "Replace `my_env` with the name of the environment you want to activate."
   ]
  },
  {
   "cell_type": "markdown",
   "metadata": {},
   "source": [
    "To deactivate the current environment and return to the base environment, use the `conda deactivate` command:\n",
    "```bash\n",
    "conda deactivate\n",
    "```"
   ]
  },
  {
   "cell_type": "markdown",
   "metadata": {},
   "source": [
    "### <a id='toc1_3_'></a>[Listing Environments and Packages](#toc0_)"
   ]
  },
  {
   "cell_type": "markdown",
   "metadata": {},
   "source": [
    "To list all available environments on your system, use the following command:\n",
    "\n",
    "```bash\n",
    "conda env list\n",
    "```\n",
    "\n",
    "or\n",
    "\n",
    "```bash\n",
    "conda info --envs\n",
    "```"
   ]
  },
  {
   "cell_type": "markdown",
   "metadata": {},
   "source": [
    "To list the packages installed in a specific environment, first activate the environment and then use `conda list`:\n",
    "\n",
    "```bash\n",
    "conda activate my_env\n",
    "conda list\n",
    "```"
   ]
  },
  {
   "cell_type": "markdown",
   "metadata": {},
   "source": [
    "### <a id='toc1_4_'></a>[Removing Environments](#toc0_)\n"
   ]
  },
  {
   "cell_type": "markdown",
   "metadata": {},
   "source": [
    "If you no longer need an environment, you can remove it with the following command:\n",
    "\n",
    "```bash\n",
    "conda env remove --name my_env\n",
    "```\n",
    "\n",
    "Replace `my_env` with the name of the environment you want to remove."
   ]
  },
  {
   "cell_type": "markdown",
   "metadata": {},
   "source": [
    "## <a id='toc2_'></a>[Installing and Managing Packages](#toc0_)"
   ]
  },
  {
   "cell_type": "markdown",
   "metadata": {},
   "source": [
    "Conda makes it easy to install, update, and remove Python packages within your environments."
   ]
  },
  {
   "cell_type": "markdown",
   "metadata": {},
   "source": [
    "### <a id='toc2_1_'></a>[Installing Packages](#toc0_)"
   ]
  },
  {
   "cell_type": "markdown",
   "metadata": {},
   "source": [
    "To install a package, activate the desired environment and use the `conda install` command:\n",
    "\n",
    "```bash\n",
    "conda activate my_env\n",
    "conda install PACKAGE_NAME\n",
    "```\n",
    "\n",
    "Replace `my_env` with the environment name and `PACKAGE_NAME` with the name of the package you want to install."
   ]
  },
  {
   "cell_type": "markdown",
   "metadata": {},
   "source": [
    "To install a specific version of a package with Conda, you can use the following syntax:\n",
    "\n",
    "```bash\n",
    "conda install PACKAGE_NAME=VERSION\n",
    "```"
   ]
  },
  {
   "cell_type": "markdown",
   "metadata": {},
   "source": [
    "Replace `PACKAGE_NAME` with the name of the package you want to install, and `VERSION` with the specific version you desire. Conda will then install the specified version of the package in the currently activated environment."
   ]
  },
  {
   "cell_type": "markdown",
   "metadata": {},
   "source": [
    "For example, to install NumPy version 1.25, you would run:\n",
    "\n",
    "```\n",
    "conda install numpy=1.25\n",
    "```"
   ]
  },
  {
   "cell_type": "markdown",
   "metadata": {},
   "source": [
    "Keep in mind that not all packages will have all versions available in the Conda repositories. If the specific version you want is not available through Conda, you may need to explore other options, such as using pip or considering a different version that is available through Conda."
   ]
  },
  {
   "cell_type": "markdown",
   "metadata": {},
   "source": [
    "#### <a id='toc2_1_1_'></a>[Installing Packages with pip](#toc0_)"
   ]
  },
  {
   "cell_type": "markdown",
   "metadata": {},
   "source": [
    "Conda also supports installing packages using pip. To do this, activate the desired environment and use the `pip install` command:\n",
    "\n",
    "```bash\n",
    "conda activate my_env\n",
    "pip install PACKAGE_NAME\n",
    "```"
   ]
  },
  {
   "cell_type": "markdown",
   "metadata": {},
   "source": [
    "Replace `my_env` with the environment name and `PACKAGE_NAME` with the name of the package you want to install."
   ]
  },
  {
   "cell_type": "markdown",
   "metadata": {},
   "source": [
    "Keep in mind that while Conda can work seamlessly with `pip`, it is generally recommended to use Conda for package installations, especially when dealing with complex dependencies or data science projects. Conda excels at handling dependency conflicts and provides pre-compiled binary packages for faster installations. However, `pip` remains a valuable tool for installing packages not available through Conda."
   ]
  },
  {
   "cell_type": "markdown",
   "metadata": {},
   "source": [
    "Now you have the flexibility to manage your Python packages using Conda or pip, depending on your project's specific requirements. Let's explore more about managing and updating packages in our Conda environments!"
   ]
  },
  {
   "cell_type": "markdown",
   "metadata": {},
   "source": [
    "### <a id='toc2_2_'></a>[Updating Packages](#toc0_)"
   ]
  },
  {
   "cell_type": "markdown",
   "metadata": {},
   "source": [
    "To update a package, activate the environment and use the conda update command:\n",
    "\n",
    "```bash\n",
    "conda activate my_env\n",
    "conda update PACKAGE_NAME\n",
    "```"
   ]
  },
  {
   "cell_type": "markdown",
   "metadata": {},
   "source": [
    "To update all packages in the environment, use:\n",
    "\n",
    "```bash\n",
    "conda activate my_env\n",
    "conda update --all\n",
    "```"
   ]
  },
  {
   "cell_type": "markdown",
   "metadata": {},
   "source": [
    "### <a id='toc2_3_'></a>[Removing Packages](#toc0_)"
   ]
  },
  {
   "cell_type": "markdown",
   "metadata": {},
   "source": [
    "To remove a package from an environment, activate the environment and use the `conda remove` command:\n",
    "\n",
    "```bash\n",
    "conda activate my_env\n",
    "conda remove PACKAGE_NAME\n",
    "```\n",
    "\n",
    "Replace `my_env` with the environment name and `PACKAGE_NAME` with the name of the package you want to remove."
   ]
  },
  {
   "cell_type": "markdown",
   "metadata": {},
   "source": [
    "## <a id='toc3_'></a>[Environment Files](#toc0_)"
   ]
  },
  {
   "cell_type": "markdown",
   "metadata": {},
   "source": [
    "Conda allows you to export the environment configuration to a YAML file and recreate the same environment on another system."
   ]
  },
  {
   "cell_type": "markdown",
   "metadata": {},
   "source": [
    "### <a id='toc3_1_'></a>[Exporting an Environment](#toc0_)\n"
   ]
  },
  {
   "cell_type": "markdown",
   "metadata": {},
   "source": [
    "To export the environment to a file, activate it and use the `conda env export` command:\n",
    "\n",
    "```bash\n",
    "conda activate my_env\n",
    "conda env export > environment.yml\n",
    "```\n",
    "\n",
    "Replace `my_env` with the environment name and `environment.yml` with the desired filename."
   ]
  },
  {
   "cell_type": "markdown",
   "metadata": {},
   "source": [
    "### <a id='toc3_2_'></a>[Creating an Environment from a File](#toc0_)"
   ]
  },
  {
   "cell_type": "markdown",
   "metadata": {},
   "source": [
    "To create an environment from an environment file, use the `conda env create` command:\n",
    "\n",
    "```bash\n",
    "conda env create -f environment.yml\n",
    "```\n",
    "\n",
    "Replace `environment.yml` with the filename of your environment file."
   ]
  },
  {
   "cell_type": "markdown",
   "metadata": {},
   "source": [
    "## <a id='toc4_'></a>[Best Practices](#toc0_)"
   ]
  },
  {
   "cell_type": "markdown",
   "metadata": {},
   "source": [
    "- Create separate environments for different projects to avoid conflicts between packages.\n",
    "- Use Conda when packages have complex dependencies or when creating data science environments with scientific libraries."
   ]
  }
 ],
 "metadata": {
  "language_info": {
   "name": "python"
  },
  "orig_nbformat": 4
 },
 "nbformat": 4,
 "nbformat_minor": 2
}
