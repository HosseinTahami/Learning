{
 "cells": [
  {
   "cell_type": "markdown",
   "metadata": {},
   "source": [
    "<img src=\"./images/banner.png\" width=\"800\">"
   ]
  },
  {
   "cell_type": "markdown",
   "metadata": {},
   "source": [
    "# How the File System Works in Unix-Based Systems\n",
    "\n",
    "In Unix-based systems (such as Linux and macOS), the file system follows a hierarchical structure. It is organized as a tree-like directory structure, starting from the root directory and branching out into subdirectories."
   ]
  },
  {
   "cell_type": "markdown",
   "metadata": {},
   "source": [
    "**Table of contents**<a id='toc0_'></a>    \n",
    "- [The Root Directory](#toc1_)    \n",
    "- [Directory Structure](#toc2_)    \n",
    "- [Directory Tree Representation](#toc3_)    \n",
    "- [Difference from the Windows File System](#toc4_)    \n",
    "\n",
    "<!-- vscode-jupyter-toc-config\n",
    "\tnumbering=false\n",
    "\tanchor=true\n",
    "\tflat=false\n",
    "\tminLevel=2\n",
    "\tmaxLevel=6\n",
    "\t/vscode-jupyter-toc-config -->\n",
    "<!-- THIS CELL WILL BE REPLACED ON TOC UPDATE. DO NOT WRITE YOUR TEXT IN THIS CELL -->"
   ]
  },
  {
   "cell_type": "markdown",
   "metadata": {},
   "source": [
    "## <a id='toc1_'></a>[The Root Directory](#toc0_)"
   ]
  },
  {
   "cell_type": "markdown",
   "metadata": {},
   "source": [
    "\n",
    "The root directory, denoted by a forward slash (`/`), is the topmost directory in the file system hierarchy. All other directories and files are located within the root directory or its subdirectories. In Unix-based systems, the root directory is the equivalent of the `C:\\` drive in Windows.\n"
   ]
  },
  {
   "cell_type": "markdown",
   "metadata": {},
   "source": [
    "\n",
    "## <a id='toc2_'></a>[Directory Structure](#toc0_)\n"
   ]
  },
  {
   "cell_type": "markdown",
   "metadata": {},
   "source": [
    "<img src=\"./images/unix-file-system.png\" width=\"800\">"
   ]
  },
  {
   "cell_type": "markdown",
   "metadata": {},
   "source": [
    "\n",
    "Unix-based systems have a unified file system structure, where directories and files are represented as nodes in the directory tree. Here is an overview of common directories you may encounter in a Unix-based system:\n",
    "\n",
    "- **`/bin`**: Contains essential executable files (commands) for system boot and basic system functionality.\n",
    "- **`/boot`**: Contains files required for the system boot process, including the kernel, bootloader, and initial RAM disk.\n",
    "- **`/dev`**: Contains device files that represent hardware devices attached to the system, such as disk drives, printers, and terminals.\n",
    "- **`/etc`**: Stores system-wide configuration files, including network settings, user management, and application configurations.\n",
    "- **`/home`**: Each user on the system typically has a dedicated subdirectory within `/home`, where their personal files and settings are stored.\n",
    "- **`/lib`** and **/lib64**: Houses libraries required by the system and various applications.\n",
    "- **`/media`**: Mount point for removable media devices, such as USB drives or external hard disks.\n",
    "- **`/opt`**: Optionally holds software packages installed by the system administrator or third-party software.\n",
    "- **`/proc`**: Virtual file system that provides information about processes, system status, and configuration settings.\n",
    "- **`/root`**: The home directory for the root user (superuser) account.\n",
    "- **`/sbin`**: Contains system administration binaries (commands) used for system maintenance and management.\n",
    "- **`/tmp`**: Temporary directory for storing files that are only needed temporarily. Files in this directory are usually deleted on system reboot.\n",
    "- **`/usr`**: Holds user-related programs, libraries, and documentation. It is often the largest directory in the system.\n",
    "- **`/var`**: Contains variable data files, including log files, system databases, and caches.\n"
   ]
  },
  {
   "cell_type": "markdown",
   "metadata": {},
   "source": [
    "\n",
    "This is just a high-level overview of the directory structure in a Unix-based system. Depending on the specific distribution and configuration, additional directories may exist.\n"
   ]
  },
  {
   "cell_type": "markdown",
   "metadata": {},
   "source": [
    "\n",
    "## <a id='toc3_'></a>[Directory Tree Representation](#toc0_)\n"
   ]
  },
  {
   "cell_type": "markdown",
   "metadata": {},
   "source": [
    "\n",
    "Here's a representation of the directory structure starting from the root directory:\n",
    "```\n",
    "/\n",
    "|-- bin\n",
    "|-- boot\n",
    "|-- dev\n",
    "|-- etc\n",
    "|-- home\n",
    "| |-- user1\n",
    "| |-- user2\n",
    "|-- lib\n",
    "|-- lib64\n",
    "|-- media\n",
    "|-- opt\n",
    "|-- proc\n",
    "|-- root\n",
    "|-- sbin\n",
    "|-- tmp\n",
    "|-- usr\n",
    "|-- var\n",
    "```\n"
   ]
  },
  {
   "cell_type": "markdown",
   "metadata": {},
   "source": [
    "This representation uses \"|\" and \"-\" characters to illustrate the hierarchy of directories. Each \"|\" represents a level of indentation, and each \"-\" represents the connection between directories.\n"
   ]
  },
  {
   "cell_type": "markdown",
   "metadata": {},
   "source": [
    "\n",
    "## <a id='toc4_'></a>[Difference from the Windows File System](#toc0_)\n"
   ]
  },
  {
   "cell_type": "markdown",
   "metadata": {},
   "source": [
    "\n",
    "The Unix-based file system differs from the Windows file system in several ways:\n"
   ]
  },
  {
   "cell_type": "markdown",
   "metadata": {},
   "source": [
    "\n",
    "1. **Path Separator**: Unix-based systems use a forward slash (`/`) as the path separator, while Windows uses a backslash (`\\`).\n",
    "\n",
    "2. **Drive Letters**: Windows assigns drive letters (e.g., C:, D:) to different storage devices, while Unix-based systems have a single unified directory structure starting from the root directory.\n",
    "\n",
    "3. **File Naming Conventions**: Windows is case-insensitive when it comes to file and directory names, while Unix-based systems are case-sensitive.\n",
    "\n",
    "4. **File Permissions**: Unix-based systems use a permission system (read, write, execute) to control access to files and directories, while Windows uses access control lists (ACLs).\n"
   ]
  },
  {
   "cell_type": "markdown",
   "metadata": {},
   "source": [
    "\n",
    "Understanding the Unix-based file system and its differences from Windows will help you navigate and work effectively within the terminal environment.\n"
   ]
  },
  {
   "cell_type": "markdown",
   "metadata": {},
   "source": [
    "\n",
    "Now that we have a good understanding of the file system in Unix-based systems, let's continue exploring the terminal and its commands!\n"
   ]
  }
 ],
 "metadata": {
  "language_info": {
   "name": "python"
  },
  "orig_nbformat": 4
 },
 "nbformat": 4,
 "nbformat_minor": 2
}
