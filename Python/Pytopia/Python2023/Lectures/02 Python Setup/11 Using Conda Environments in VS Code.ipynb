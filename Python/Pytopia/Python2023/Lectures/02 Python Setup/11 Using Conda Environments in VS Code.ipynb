{
 "cells": [
  {
   "attachments": {},
   "cell_type": "markdown",
   "metadata": {},
   "source": [
    "<img src=\"./images/banner.png\" width=\"800\">"
   ]
  },
  {
   "cell_type": "markdown",
   "metadata": {},
   "source": [
    "#  Using Conda Environments in VS Code\n"
   ]
  },
  {
   "cell_type": "markdown",
   "metadata": {},
   "source": [
    "\n",
    "In this section, we will explore how to leverage Conda environments within Visual Studio Code (VS Code) for Python development. Conda environments allow us to isolate our project dependencies, ensuring consistency and reproducibility across different development environments. Let's get started!\n"
   ]
  },
  {
   "cell_type": "markdown",
   "metadata": {},
   "source": [
    "**Table of contents**<a id='toc0_'></a>    \n",
    "- [Installing the VS Code Extension](#toc1_)    \n",
    "- [Selecting a Conda Environment in VS Code](#toc2_)    \n",
    "- [Activating a Conda Environment in the Integrated Terminal](#toc3_)    \n",
    "\n",
    "<!-- vscode-jupyter-toc-config\n",
    "\tnumbering=false\n",
    "\tanchor=true\n",
    "\tflat=false\n",
    "\tminLevel=2\n",
    "\tmaxLevel=6\n",
    "\t/vscode-jupyter-toc-config -->\n",
    "<!-- THIS CELL WILL BE REPLACED ON TOC UPDATE. DO NOT WRITE YOUR TEXT IN THIS CELL -->"
   ]
  },
  {
   "cell_type": "markdown",
   "metadata": {},
   "source": [
    "\n",
    "## <a id='toc1_'></a>[Installing the VS Code Extension](#toc0_)\n"
   ]
  },
  {
   "cell_type": "markdown",
   "metadata": {},
   "source": [
    "\n",
    "Before we begin, make sure you have Visual Studio Code installed on your machine. Once you have VS Code installed, follow these steps to install the necessary extension for working with Conda environments:\n",
    "\n",
    "1. Launch VS Code.\n",
    "2. Go to the Extensions view by clicking on the square icon in the left sidebar or using the shortcut `Ctrl+Shift+X`.\n",
    "3. In the search bar, type \"Python\" and press Enter.\n",
    "4. Look for the \"Python\" extension by Microsoft and click on the \"Install\" button.\n"
   ]
  },
  {
   "cell_type": "markdown",
   "metadata": {},
   "source": [
    "<img src=\"./images/vscode-python-ext.png\" width=\"800\">"
   ]
  },
  {
   "cell_type": "markdown",
   "metadata": {},
   "source": [
    "\n",
    "## <a id='toc2_'></a>[Selecting a Conda Environment in VS Code](#toc0_)\n"
   ]
  },
  {
   "cell_type": "markdown",
   "metadata": {},
   "source": [
    "Once you have the Python extension installed, you can choose the desired Conda environment for your project within VS Code. When selecting an interpreter, you will see a list of available interpreters, including both global and Conda interpreters, depending on the environment managers you have chosen to work with.\n",
    "\n",
    "- **Global Interpreters:** These interpreters are the ones that come pre-installed with your operating system. They are shared across all projects and are typically located in standard system directories.\n",
    "\n",
    "- **Conda Interpreters:** These interpreters are created by Conda, a popular package and environment manager for Python. Conda environments allow us to isolate our project dependencies, ensuring consistency and reproducibility across different development environments."
   ]
  },
  {
   "cell_type": "markdown",
   "metadata": {},
   "source": [
    "\n",
    "Here's how to choose the interpreter for your project:\n",
    "\n",
    "1. Open your Python project in VS Code.\n",
    "2. At the bottom right corner of the window, click on the Python interpreter version. It may display the default interpreter or another interpreter you previously selected.\n",
    "3. In the list that appears, select an interpreter from the list or select \"Enter interpreter path...\" to enter the path to a specific interpreter. If selected, you will be prompted to enter the path to the desired interpreter. For example, if you are using Anaconda on Linux, the path to the base environment would be `/home/<username>/anaconda3/bin/python`:\n",
    "   - Choose the \"Find...\" option.\n",
    "   - Search for the Conda environment you want to use, typically located in the `envs` directory within your Anaconda installation directory.\n",
    "4. Select the desired interpreter from the list, whether it's a global interpreter that came with your operating system or a Conda interpreter you created for this project.\n"
   ]
  },
  {
   "cell_type": "markdown",
   "metadata": {},
   "source": [
    "<img src=\"./images/1-show-python-interpreter-list.png\" width=\"800\">"
   ]
  },
  {
   "cell_type": "markdown",
   "metadata": {},
   "source": [
    "<img src=\"./images/2-select-python-interpreter.png\" width=\"800\">"
   ]
  },
  {
   "cell_type": "markdown",
   "metadata": {},
   "source": [
    "\n",
    "Once you select an interpreter, VS Code will use that environment for executing Python code and managing dependencies within your project.\n"
   ]
  },
  {
   "cell_type": "markdown",
   "metadata": {},
   "source": [
    "\n",
    "This way, you can easily switch between different interpreters, enabling you to work on various projects with different dependencies and Python versions.\n"
   ]
  },
  {
   "cell_type": "markdown",
   "metadata": {},
   "source": [
    "\n",
    "## <a id='toc3_'></a>[Activating a Conda Environment in the Integrated Terminal](#toc0_)\n"
   ]
  },
  {
   "cell_type": "markdown",
   "metadata": {},
   "source": [
    "\n",
    "To activate the selected Conda environment within the integrated terminal in VS Code, follow these steps:\n",
    "\n",
    "1. Open the integrated terminal in VS Code by selecting \"View\" -> \"Terminal\" or using the shortcut `Ctrl+` backtick (`).\n",
    "2. In the terminal, you will see the current Conda environment name displayed on the left side of the command prompt (e.g., `(myenv) user@machine:~$`).\n",
    "3. If the correct Conda environment is not activated, use the following command to activate it:\n",
    "```bash\n",
    "conda activate myenv\n",
    "```"
   ]
  },
  {
   "cell_type": "markdown",
   "metadata": {},
   "source": [
    "<img src=\"./images/vscode-terminal-env.png\" width=\"800\">"
   ]
  }
 ],
 "metadata": {
  "language_info": {
   "name": "python"
  },
  "orig_nbformat": 4
 },
 "nbformat": 4,
 "nbformat_minor": 2
}
