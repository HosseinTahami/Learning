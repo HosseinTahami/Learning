{
 "cells": [
  {
   "cell_type": "markdown",
   "metadata": {},
   "source": [
    "<img src=\"./images/banner.png\" width=\"800\">"
   ]
  },
  {
   "cell_type": "markdown",
   "metadata": {},
   "source": [
    "# Understanding Classes and Objects in Python"
   ]
  },
  {
   "cell_type": "markdown",
   "metadata": {},
   "source": [
    "At the heart of Object-Oriented Programming (OOP) in Python lie two fundamental concepts: classes and objects. Grasping these concepts is essential for understanding how OOP facilitates the creation and management of complex software systems. Let's delve into what classes and objects entail and explore their relationship.\n"
   ]
  },
  {
   "cell_type": "markdown",
   "metadata": {},
   "source": [
    "**Classes as Blueprints**\n",
    "\n",
    "Imagine you are an architect. Before a building is constructed, you draft a detailed blueprint defining its structure, dimensions, functionalities, and the materials needed. Similarly, in OOP, a **class** serves as a blueprint or template from which objects are created. It outlines a specific set of attributes (data) and methods (functions) that the objects based on this blueprint will possess.\n",
    "\n",
    "A class defines properties common to all objects of that type but doesn't allocate any resources or memory for itself. It specifies what an object of that class should know (attributes) and what it can do (methods) without being tied to the specifics of any one object.\n"
   ]
  },
  {
   "cell_type": "markdown",
   "metadata": {},
   "source": [
    "**Objects as Instances**\n",
    "\n",
    "Following our architecture analogy, if a class is the blueprint, an **object** is the actual building constructed from that blueprint. An object is a specific instance of a class; it embodies the structured data and behaviors defined by its class but with concrete values. Each object holds its state (data) and can perform actions (methods) defined by its class.\n",
    "\n",
    "Objects are independent entities with their characteristics. Although two objects of the same class share the class's structure and behavior, they encapsulate their own set of data. For example, if `Dog` is a class representing the concept of a dog, each `Dog` object created from that class can have its name, age, breed, etc.\n"
   ]
  },
  {
   "cell_type": "markdown",
   "metadata": {},
   "source": [
    "<img src=\"./images/class-objects.png\" width=\"400\">"
   ]
  },
  {
   "cell_type": "markdown",
   "metadata": {},
   "source": [
    "**Relationship between Classes and Objects**\n",
    "\n",
    "The relationship between classes and objects can be summed up in the idea that classes create a framework under which individual objects operate. Classes provide the structure - the set of rules and behaviors - but without creating any specific instance on their own. When an object is instantiated, it fills out the framework provided by its class with actual, specific data.\n",
    "\n",
    "This relationship allows for a significant degree of flexibility and reusability in programming. By defining a class once, you can create numerous objects from it, each with different attributes. This concept not only helps in organizing code by categorizing data and behaviors into logical units but also in scaling software development by allowing new objects to be created with minimal additional code.\n"
   ]
  },
  {
   "cell_type": "markdown",
   "metadata": {},
   "source": [
    "In summary, classes and objects are the core of OOP in Python. Classes act as detailed plans defining the characteristics and capabilities that their instantiated objects will have. Objects, being instances of these classes, are the concrete manifestations carrying actual data. Understanding this relationship is crucial for leveraging the full power of OOP to create well-organized, efficient, and reusable software."
   ]
  },
  {
   "cell_type": "markdown",
   "metadata": {},
   "source": [
    "**Table of contents**<a id='toc0_'></a>    \n",
    "- [Defining a Simple Class in Python](#toc1_)    \n",
    "  - [Introducing  Methods](#toc1_1_)    \n",
    "  - [Instantiate an Object from the Class](#toc1_2_)    \n",
    "  - [Clarifying the Necessity of Passing `obj` to Methods](#toc1_3_)    \n",
    "- [Instance Methods and the Use of `self`](#toc2_)    \n",
    "  - [Understanding `self`](#toc2_1_)    \n",
    "  - [Practical Code Examples Using `self`](#toc2_2_)    \n",
    "  - [Why `self` is Necessary](#toc2_3_)    \n",
    "- [The Role of `__init__` Method in Python Classes](#toc3_)    \n",
    "  - [Modifying the Car Class to Include the `__init__` Method](#toc3_1_)    \n",
    "- [Classes vs. Instances Attributes](#toc4_)    \n",
    "  - [Class Attributes](#toc4_1_)    \n",
    "  - [Instance Attributes](#toc4_2_)    \n",
    "- [Instantiating Objects](#toc5_)    \n",
    "  - [Creating Objects from a Class](#toc5_1_)    \n",
    "  - [Accessing Attributes and Invoking Methods](#toc5_2_)    \n",
    "  - [Maintaining Unique State](#toc5_3_)    \n",
    "- [Practical Example: Enhancing the Car Class](#toc6_)    \n",
    "- [Exercise: Building and Enhancing a `Book` Class](#toc7_)    \n",
    "  - [Solution](#toc7_1_)    \n",
    "\n",
    "<!-- vscode-jupyter-toc-config\n",
    "\tnumbering=false\n",
    "\tanchor=true\n",
    "\tflat=false\n",
    "\tminLevel=2\n",
    "\tmaxLevel=6\n",
    "\t/vscode-jupyter-toc-config -->\n",
    "<!-- THIS CELL WILL BE REPLACED ON TOC UPDATE. DO NOT WRITE YOUR TEXT IN THIS CELL -->"
   ]
  },
  {
   "cell_type": "markdown",
   "metadata": {},
   "source": [
    "## <a id='toc1_'></a>[Defining a Simple Class in Python](#toc0_)"
   ]
  },
  {
   "cell_type": "markdown",
   "metadata": {},
   "source": [
    "In Python's Object-Oriented Programming, defining a class and creating instances from it allows for modular, scalable coding practices. A class serves as a blueprint for objects, while instances (objects) are the concrete realization of the class. Let’s explore this concept further by defining a simple class, like a `Car` class, and demonstrate how objects maintain their unique state and why methods need to operate on specific instances."
   ]
  },
  {
   "cell_type": "markdown",
   "metadata": {},
   "source": [
    "A class is defined in Python using the `class` keyword, followed by the class name and a colon. Conventionally, class names follow PascalCase notation.\n"
   ]
  },
  {
   "cell_type": "code",
   "execution_count": 1,
   "metadata": {},
   "outputs": [],
   "source": [
    "class Car:\n",
    "    wheels = 4"
   ]
  },
  {
   "cell_type": "markdown",
   "metadata": {},
   "source": [
    "Here, `Car` is our class, and `wheels` is a class attribute, signifying that each car has four wheels, a property shared by all instances.\n"
   ]
  },
  {
   "cell_type": "markdown",
   "metadata": {},
   "source": [
    "### <a id='toc1_1_'></a>[Introducing  Methods](#toc0_)\n"
   ]
  },
  {
   "cell_type": "markdown",
   "metadata": {},
   "source": [
    "Methods within a class define the behaviors or actions that the objects of the class can perform. They are essentially functions that belong to the class.\n"
   ]
  },
  {
   "cell_type": "code",
   "execution_count": 2,
   "metadata": {},
   "outputs": [],
   "source": [
    "class Car:\n",
    "    wheels = 4\n",
    "\n",
    "    def honk(self):\n",
    "        return \"Honk! Honk!\""
   ]
  },
  {
   "cell_type": "markdown",
   "metadata": {},
   "source": [
    "The `honk` method allows a `Car` object to perform an action, signifying the car honking. The first parameter `self` in the method definition represents the instance upon which the method is called, crucial for accessing instance attributes and methods.\n"
   ]
  },
  {
   "cell_type": "markdown",
   "metadata": {},
   "source": [
    "### <a id='toc1_2_'></a>[Instantiate an Object from the Class](#toc0_)\n"
   ]
  },
  {
   "cell_type": "markdown",
   "metadata": {},
   "source": [
    "Creating an instance (object) from our `Car` class:\n"
   ]
  },
  {
   "cell_type": "code",
   "execution_count": 3,
   "metadata": {},
   "outputs": [],
   "source": [
    "obj = Car()"
   ]
  },
  {
   "cell_type": "markdown",
   "metadata": {},
   "source": [
    "`obj` is now an instance of the `Car` class.\n"
   ]
  },
  {
   "cell_type": "markdown",
   "metadata": {},
   "source": [
    "### <a id='toc1_3_'></a>[Clarifying the Necessity of Passing `obj` to Methods](#toc0_)\n"
   ]
  },
  {
   "cell_type": "markdown",
   "metadata": {},
   "source": [
    "To illustrate why it's essential to pass the object to its methods, let’s examine two different ways to invoke the `honk` method on our `obj` instance, focusing on the role of `self`.\n"
   ]
  },
  {
   "cell_type": "markdown",
   "metadata": {},
   "source": [
    "**Method Call on the Instance:**\n"
   ]
  },
  {
   "cell_type": "markdown",
   "metadata": {},
   "source": [
    "Typically, we call a method using the dot notation which implicitly passes the instance to the method:\n"
   ]
  },
  {
   "cell_type": "code",
   "execution_count": 4,
   "metadata": {},
   "outputs": [
    {
     "data": {
      "text/plain": [
       "'Honk! Honk!'"
      ]
     },
     "execution_count": 4,
     "metadata": {},
     "output_type": "execute_result"
    }
   ],
   "source": [
    "result = obj.honk()\n",
    "result"
   ]
  },
  {
   "cell_type": "markdown",
   "metadata": {},
   "source": [
    "**Explicit Method Call via the Class:**\n"
   ]
  },
  {
   "cell_type": "markdown",
   "metadata": {},
   "source": [
    "Alternatively, we can explicitly call the method on the class, thereby needing to pass the instance (`obj`) as an argument:\n"
   ]
  },
  {
   "cell_type": "code",
   "execution_count": 5,
   "metadata": {},
   "outputs": [
    {
     "data": {
      "text/plain": [
       "'Honk! Honk!'"
      ]
     },
     "execution_count": 5,
     "metadata": {},
     "output_type": "execute_result"
    }
   ],
   "source": [
    "result = Car.honk(obj)\n",
    "result"
   ]
  },
  {
   "cell_type": "markdown",
   "metadata": {},
   "source": [
    "The explicit call `Car.honk(obj)` makes evident why `self` (or the instance in this context) is essential: the class itself is just a blueprint, which means it doesn’t hold any specific state or data related to an individual object. Each object created from the class has its unique data. Therefore, when we wish to apply updates or actions to an object, we must specify which object (instance) we're referring to. The method needs to know on which particular instance to act, hence the necessity of passing `obj` to it. This operation is implicitly handled in Python when calling methods using the dot notation but understanding this mechanism is key to grasping how data and behavior are encapsulated within objects.\n"
   ]
  },
  {
   "cell_type": "markdown",
   "metadata": {},
   "source": [
    "Understanding this process elucidates the object-oriented nature of Python and clarifies how classes blueprint the structure and behaviors that their instances—objects with unique states—can exhibit. This foundational knowledge sets the stage for more advanced discussions on object initialization and manipulation within Python OOP."
   ]
  },
  {
   "cell_type": "markdown",
   "metadata": {},
   "source": [
    "## <a id='toc2_'></a>[Instance Methods and the Use of `self`](#toc0_)"
   ]
  },
  {
   "cell_type": "markdown",
   "metadata": {},
   "source": [
    "In Python's Object-Oriented Programming (OOP), instance methods are key to defining the behaviors that objects of a class can exhibit. These methods are integral to interacting with an object's data — modifying and accessing the attributes that belong to each specific instance of a class. The `self` parameter plays a crucial role in this process, acting as a reference to the current instance of the class. Let's delve into instance methods and the pivotal role of `self`, using a `Car` class with a `honk()` method as our example.\n"
   ]
  },
  {
   "cell_type": "markdown",
   "metadata": {},
   "source": [
    "Instance methods in a class need a reference to the specific object instance they are meant to operate on. This is where `self` comes into play. It's the first parameter of any instance method in Python classes, and it provides a way for that method to access the attributes and other methods of the class.\n"
   ]
  },
  {
   "cell_type": "markdown",
   "metadata": {},
   "source": [
    "Let's define a simple `Car` class with a `honk` instance method:\n"
   ]
  },
  {
   "cell_type": "code",
   "execution_count": 6,
   "metadata": {},
   "outputs": [],
   "source": [
    "class Car:\n",
    "    def honk(self):\n",
    "        return \"Honk! Honk!\""
   ]
  },
  {
   "cell_type": "markdown",
   "metadata": {},
   "source": [
    "Here, `honk` is an instance method that, when called, represents the action of the car honking. The method doesn't need any external data to perform its action; it's a behavior that any car instance can exhibit by simply being a car.\n"
   ]
  },
  {
   "cell_type": "markdown",
   "metadata": {},
   "source": [
    "### <a id='toc2_1_'></a>[Understanding `self`](#toc0_)\n"
   ]
  },
  {
   "cell_type": "markdown",
   "metadata": {},
   "source": [
    "The `self` parameter in the `honk` method is a reference to the instance upon which the method is called. This mechanism allows each object (instance of a class) to keep track of its own state and data. Essentially, `self` is the way we differentiate between one instance of a class and another.\n"
   ]
  },
  {
   "cell_type": "code",
   "execution_count": 7,
   "metadata": {},
   "outputs": [
    {
     "data": {
      "text/plain": [
       "'Honk! Honk!'"
      ]
     },
     "execution_count": 7,
     "metadata": {},
     "output_type": "execute_result"
    }
   ],
   "source": [
    "my_car = Car()\n",
    "my_car.honk()"
   ]
  },
  {
   "cell_type": "markdown",
   "metadata": {},
   "source": [
    "In the above code, when `honk()` is called on `my_car`, Python automatically passes the `my_car` object to the `honk()` method as the `self` parameter. This is why within class method definitions, `self` is used to access other attributes and methods of the same object.\n"
   ]
  },
  {
   "cell_type": "markdown",
   "metadata": {},
   "source": [
    "### <a id='toc2_2_'></a>[Practical Code Examples Using `self`](#toc0_)\n"
   ]
  },
  {
   "cell_type": "markdown",
   "metadata": {},
   "source": [
    "Let's expand our `Car` class to include an attribute `color`, which we want to refer to within our `honk` method:\n"
   ]
  },
  {
   "cell_type": "code",
   "execution_count": 8,
   "metadata": {},
   "outputs": [],
   "source": [
    "class Car:\n",
    "    def __init__(self, color):\n",
    "        self.color = color\n",
    "\n",
    "    def honk(self):\n",
    "        return f\"The {self.color} car says Honk! Honk!\""
   ]
  },
  {
   "cell_type": "markdown",
   "metadata": {},
   "source": [
    "When creating a new car instance, you can now specify its color:\n"
   ]
  },
  {
   "cell_type": "code",
   "execution_count": 9,
   "metadata": {},
   "outputs": [
    {
     "data": {
      "text/plain": [
       "'The blue car says Honk! Honk!'"
      ]
     },
     "execution_count": 9,
     "metadata": {},
     "output_type": "execute_result"
    }
   ],
   "source": [
    "blue_car = Car(\"blue\")\n",
    "blue_car.honk()"
   ]
  },
  {
   "cell_type": "markdown",
   "metadata": {},
   "source": [
    "In the expanded `Car` class, the `__init__` method introduces an instance attribute `color` that stores the color of the car. In the `honk` method, we use `self.color` to access this attribute. The reference to `self.color` signifies that we're accessing the `color` attribute of the specific instance `blue_car`.\n"
   ]
  },
  {
   "cell_type": "markdown",
   "metadata": {},
   "source": [
    "### <a id='toc2_3_'></a>[Why `self` is Necessary](#toc0_)\n"
   ]
  },
  {
   "cell_type": "markdown",
   "metadata": {},
   "source": [
    "Without `self`, there would be no clear way to refer to the data belonging to a specific object. `self` provides the context needed for instance methods to not only operate on the data they encapsulate but also to interact with other methods within the same object scope. It ensures that each object instance can maintain its unique state and behaviors, distinct from other instances of the same class.\n"
   ]
  },
  {
   "cell_type": "markdown",
   "metadata": {},
   "source": [
    "Through these practical examples, it's evident how `self` serves as the bridge between class definitions and the individual instances of those classes, enabling precise, object-specific interactions within Python's OOP framework."
   ]
  },
  {
   "cell_type": "markdown",
   "metadata": {},
   "source": [
    "## <a id='toc3_'></a>[The Role of `__init__` Method in Python Classes](#toc0_)"
   ]
  },
  {
   "cell_type": "markdown",
   "metadata": {},
   "source": [
    "As we dive deeper into the fundamentals of Object-Oriented Programming (OOP) in Python, understanding the `__init__` method is paramount. This method plays a critical role in class definitions, acting as the initializer or constructor for new instances of a class. Building upon our grasp of the `self` parameter in instance methods, the `__init__` method offers a clear demonstration of `self` in action, highlighting its use for setting up object attributes upon instantiation.\n"
   ]
  },
  {
   "cell_type": "markdown",
   "metadata": {},
   "source": [
    "In Python, the `__init__` method is automatically invoked when a new instance of a class is created. This special method, often referred to as the constructor in other programming languages, is used to initialize the newly created object's state. By defining an `__init__` method in a class, we can specify the initial conditions of our objects, providing the necessary data at the time of their creation.\n"
   ]
  },
  {
   "cell_type": "markdown",
   "metadata": {},
   "source": [
    "The `__init__` method allows for the initialization of object attributes and the execution of any other startup procedures necessary for the new object. Like other instance methods, it takes `self` as its first parameter to refer to the instance being initialized, followed by any other parameters necessary for setting up the object. \n"
   ]
  },
  {
   "cell_type": "markdown",
   "metadata": {},
   "source": [
    "### <a id='toc3_1_'></a>[Modifying the Car Class to Include the `__init__` Method](#toc0_)\n"
   ]
  },
  {
   "cell_type": "markdown",
   "metadata": {},
   "source": [
    "Let's revisit our `Car` class and introduce an `__init__` method to handle initialization, specifically to set each car's color and model upon creation:\n"
   ]
  },
  {
   "cell_type": "code",
   "execution_count": 10,
   "metadata": {},
   "outputs": [],
   "source": [
    "class Car:\n",
    "    def __init__(self, color, model):\n",
    "        self.color = color\n",
    "        self.model = model\n",
    "\n",
    "    def honk(self):\n",
    "        return f\"The {self.color} {self.model} car says Honk! Honk!\""
   ]
  },
  {
   "cell_type": "markdown",
   "metadata": {},
   "source": [
    "In this modified version of the `Car` class, the `__init__` method takes three parameters: `self`, `color`, and `model`. The method defines two attributes (`color` and `model`) and assigns them to the instance using the values provided during instantiation. This ensures that every `Car` object can have its own unique color and model.\n"
   ]
  },
  {
   "cell_type": "markdown",
   "metadata": {},
   "source": [
    "Now, with the `__init__` method in place, we can create `Car` objects by providing the required information (color and model) at the time of their creation:\n"
   ]
  },
  {
   "cell_type": "code",
   "execution_count": 11,
   "metadata": {},
   "outputs": [
    {
     "data": {
      "text/plain": [
       "'The red Toyota car says Honk! Honk!'"
      ]
     },
     "execution_count": 11,
     "metadata": {},
     "output_type": "execute_result"
    }
   ],
   "source": [
    "my_car = Car(\"red\", \"Toyota\")\n",
    "my_car.honk()"
   ]
  },
  {
   "cell_type": "markdown",
   "metadata": {},
   "source": [
    "This example shows how the `__init__` method is utilized to initialize the `my_car` instance with specific attributes (a red color and Toyota model). When `my_car` calls the `honk` method, it has access to its `color` and `model` attributes through `self`, demonstrating how `self` facilitates attribute access within class methods.\n"
   ]
  },
  {
   "cell_type": "markdown",
   "metadata": {},
   "source": [
    "The introduction of the `__init__` method in class definitions is foundational for leveraging Python's OOP capabilities. It ensures that each object starts its life cycle with a defined state, making objects more predictable and easier to manage. It exemplifies how Python's OOP features, especially `self` and instance attributes, are designed to model real-world entities in a structured and intuitive manner. Through initialization, objects become more than mere instances of classes—they embody specific characteristics and behaviors suited to the tasks for which they are created."
   ]
  },
  {
   "cell_type": "markdown",
   "metadata": {},
   "source": [
    "## <a id='toc4_'></a>[Classes vs. Instances Attributes](#toc0_)"
   ]
  },
  {
   "cell_type": "markdown",
   "metadata": {},
   "source": [
    "A fundamental aspect of Python's Object-Oriented Programming (OOP) is the distinction between classes and instances. This distinction is pivotal when working with attributes, as it determines whether a piece of data applies universally to all instances (class attributes) or uniquely to each instance (instance attributes). Grasping the nature of class and instance attributes, as well as the role of `self` in differentiating between them, is crucial for effective OOP in Python.\n"
   ]
  },
  {
   "cell_type": "markdown",
   "metadata": {},
   "source": [
    "### <a id='toc4_1_'></a>[Class Attributes](#toc0_)\n"
   ]
  },
  {
   "cell_type": "markdown",
   "metadata": {},
   "source": [
    "Class attributes are associated with the class itself rather than any individual instance. They are shared across all instances of the class, meaning that changing the value of a class attribute affects all objects of that class simultaneously. Class attributes are defined directly in the body of the class, outside of any methods.\n"
   ]
  },
  {
   "cell_type": "markdown",
   "metadata": {},
   "source": [
    "Consider a hypothetical `Animal` class with a class attribute `kingdom`:\n"
   ]
  },
  {
   "cell_type": "code",
   "execution_count": 12,
   "metadata": {},
   "outputs": [],
   "source": [
    "class Animal:\n",
    "    kingdom = 'Animalia'\n",
    "\n",
    "    def __init__(self, species):\n",
    "        self.species = species"
   ]
  },
  {
   "cell_type": "markdown",
   "metadata": {},
   "source": [
    "Here, `kingdom` is a property common to all animals, making it a fitting class attribute. No matter how many `Animal` instances you create, they will all share the same `kingdom`.\n"
   ]
  },
  {
   "cell_type": "markdown",
   "metadata": {},
   "source": [
    "### <a id='toc4_2_'></a>[Instance Attributes](#toc0_)\n"
   ]
  },
  {
   "cell_type": "markdown",
   "metadata": {},
   "source": [
    "Instance attributes, on the other hand, are specific to the objects instantiated from a class. Each object has its own set of data represented by instance attributes, which are typically defined within the `__init__` method using `self`. These attributes allow for individual instances to carry unique state and behavior.\n"
   ]
  },
  {
   "cell_type": "markdown",
   "metadata": {},
   "source": [
    "Using the `Animal` example, the `species` attribute in the `__init__` method is an instance attribute:\n"
   ]
  },
  {
   "cell_type": "code",
   "execution_count": 13,
   "metadata": {},
   "outputs": [],
   "source": [
    "dog = Animal('Canis lupus')\n",
    "fish = Animal('Paracheirodon innesi')"
   ]
  },
  {
   "cell_type": "markdown",
   "metadata": {},
   "source": [
    "`dog` and `fish` have their unique `species` attributes reflecting their respective species. Changing the `species` of `dog` would not affect `fish` in any way because `species` is an instance attribute.\n"
   ]
  },
  {
   "cell_type": "markdown",
   "metadata": {},
   "source": [
    "The keyword `self` plays an indispensable role in distinguishing between class attributes and instance attributes. `self` refers to the current instance and is the first parameter in instance methods, including the `__init__` method. It allows for the definition and manipulation of attributes that are specific to each instance, enabling you to access these attributes within class methods.\n"
   ]
  },
  {
   "cell_type": "markdown",
   "metadata": {},
   "source": [
    "When you use `self.attribute_name`, you're accessing or modifying an attribute that belongs to the particular instance represented by `self`, rather than modifying a class-level attribute. This mechanism ensures that instance-specific data and behaviors are encapsulated within individual objects, adhering to the principles of encapsulation and abstraction in OOP.\n"
   ]
  },
  {
   "cell_type": "markdown",
   "metadata": {},
   "source": [
    "Understanding the distinction between class attributes and instance attributes is fundamental in Python OOP, as it influences how data is stored, shared, and modified across different objects. `self` is the linchpin in managing instance-specific attributes and methods, ensuring that each object retains its unique state and behaviors. Grasping these concepts will greatly enhance your proficiency in Python OOP, enabling you to create more flexible, efficient, and maintainable code."
   ]
  },
  {
   "cell_type": "markdown",
   "metadata": {},
   "source": [
    "## <a id='toc5_'></a>[Instantiating Objects](#toc0_)"
   ]
  },
  {
   "cell_type": "markdown",
   "metadata": {},
   "source": [
    "In Python's Object-Oriented Programming (OOP), instantiating objects is the process of creating individual instances of a class. Each of these instances is a separate object with its own identity, state, and behavior. This process is crucial for realizing the practical applications of the classes we define. Let’s walk through how to create objects from a class, access their attributes, and invoke methods, emphasizing how each object maintains its unique state.\n"
   ]
  },
  {
   "cell_type": "markdown",
   "metadata": {},
   "source": [
    "### <a id='toc5_1_'></a>[Creating Objects from a Class](#toc0_)\n"
   ]
  },
  {
   "cell_type": "markdown",
   "metadata": {},
   "source": [
    "To instantiate an object, you simply call the class as if it were a function, passing any arguments that its `__init__` method requires. Here's how you create objects from a previously defined `Car` class:\n"
   ]
  },
  {
   "cell_type": "code",
   "execution_count": 14,
   "metadata": {},
   "outputs": [],
   "source": [
    "class Car:\n",
    "    def __init__(self, color, model):\n",
    "        self.color = color\n",
    "        self.model = model\n",
    "\n",
    "    def honk(self):\n",
    "        return f\"{self.model} says: Honk! Honk!\"\n"
   ]
  },
  {
   "cell_type": "code",
   "execution_count": 15,
   "metadata": {},
   "outputs": [],
   "source": [
    "# Instantiate two Car objects\n",
    "car1 = Car(\"red\", \"Honda\")\n",
    "car2 = Car(\"blue\", \"Toyota\")"
   ]
  },
  {
   "cell_type": "markdown",
   "metadata": {},
   "source": [
    "In this example, `car1` and `car2` are instances (objects) of the `Car` class, each initialized with its own `color` and `model` data.\n"
   ]
  },
  {
   "cell_type": "markdown",
   "metadata": {},
   "source": [
    "### <a id='toc5_2_'></a>[Accessing Attributes and Invoking Methods](#toc0_)\n"
   ]
  },
  {
   "cell_type": "markdown",
   "metadata": {},
   "source": [
    "Once you have instantiated objects, you can access their attributes and call their methods using dot notation. This notation allows you to interact with the object's properties and behaviors as defined in its class:\n"
   ]
  },
  {
   "cell_type": "code",
   "execution_count": 16,
   "metadata": {},
   "outputs": [
    {
     "data": {
      "text/plain": [
       "'red'"
      ]
     },
     "execution_count": 16,
     "metadata": {},
     "output_type": "execute_result"
    }
   ],
   "source": [
    "# Access attributes\n",
    "car1.color"
   ]
  },
  {
   "cell_type": "code",
   "execution_count": 17,
   "metadata": {},
   "outputs": [
    {
     "data": {
      "text/plain": [
       "'Toyota'"
      ]
     },
     "execution_count": 17,
     "metadata": {},
     "output_type": "execute_result"
    }
   ],
   "source": [
    "car2.model"
   ]
  },
  {
   "cell_type": "code",
   "execution_count": 18,
   "metadata": {},
   "outputs": [
    {
     "data": {
      "text/plain": [
       "'Honda says: Honk! Honk!'"
      ]
     },
     "execution_count": 18,
     "metadata": {},
     "output_type": "execute_result"
    }
   ],
   "source": [
    "# Invoke methods\n",
    "car1.honk()"
   ]
  },
  {
   "cell_type": "markdown",
   "metadata": {},
   "source": [
    "Accessing attributes directly and invoking methods through objects demonstrate how interactions with an object occur through its interface (public methods and properties).\n"
   ]
  },
  {
   "cell_type": "markdown",
   "metadata": {},
   "source": [
    "### <a id='toc5_3_'></a>[Maintaining Unique State](#toc0_)\n"
   ]
  },
  {
   "cell_type": "markdown",
   "metadata": {},
   "source": [
    "Despite being instances of the same class, `car1` and `car2` each maintain a unique state. This uniqueness is a fundamental characteristic of objects in OOP and is facilitated by the fact that each object has its own separate memory allocation:\n"
   ]
  },
  {
   "cell_type": "code",
   "execution_count": 19,
   "metadata": {},
   "outputs": [],
   "source": [
    "car1.color = \"green\"  # Changing the color of car1"
   ]
  },
  {
   "cell_type": "code",
   "execution_count": 20,
   "metadata": {},
   "outputs": [
    {
     "data": {
      "text/plain": [
       "('green', 'blue')"
      ]
     },
     "execution_count": 20,
     "metadata": {},
     "output_type": "execute_result"
    }
   ],
   "source": [
    "# car1's color has changed, but car2's color remains the same\n",
    "car1.color, car2.color"
   ]
  },
  {
   "cell_type": "markdown",
   "metadata": {},
   "source": [
    "Changing the `color` attribute of `car1` does not affect `car2`. This isolation ensures that actions performed on one instance do not inadvertently impact others, crucial for managing data integrity and predictability in larger systems.\n"
   ]
  },
  {
   "cell_type": "markdown",
   "metadata": {},
   "source": [
    "Instantiating objects in Python is a straightforward process that breathes life into class definitions, turning them into working components of software applications. By interacting with these instances through their attributes and methods, programmers can harness the full power of OOP to build complex, modular, and maintainable systems. The ability of objects to maintain a unique state is central to this paradigm, allowing for the creation of diverse functionalities and behaviors within a single framework."
   ]
  },
  {
   "cell_type": "markdown",
   "metadata": {},
   "source": [
    "## <a id='toc6_'></a>[Practical Example: Enhancing the Car Class](#toc0_)"
   ]
  },
  {
   "cell_type": "markdown",
   "metadata": {},
   "source": [
    "To further illustrate Object-Oriented Programming (OOP) concepts in Python, let's enhance our `Car` class by adding more attributes and methods. This will demonstrate the versatility of classes in defining complex behavior and the ease of interacting with objects through their attributes and methods.\n"
   ]
  },
  {
   "cell_type": "markdown",
   "metadata": {},
   "source": [
    "We'll add attributes to our `Car` class for the car's year of manufacture, make, and whether it's electric. Additionally, we'll introduce a method to display detailed information about the car and a method to simulate starting the car.\n"
   ]
  },
  {
   "cell_type": "code",
   "execution_count": 21,
   "metadata": {},
   "outputs": [],
   "source": [
    "class Car:\n",
    "    def __init__(self, color, model, year, make, is_electric):\n",
    "        self.color = color\n",
    "        self.model = model\n",
    "        self.year = year\n",
    "        self.make = make\n",
    "        self.is_electric = is_electric\n",
    "\n",
    "    def display_info(self):\n",
    "        electric_status = \"Electric\" if self.is_electric else \"Gasoline\"\n",
    "        return f\"{self.year} {self.make} {self.model} ({electric_status}), Color: {self.color}\"\n",
    "\n",
    "    def start_engine(self):\n",
    "        return f\"The {self.make} {self.model}'s engine has started!\""
   ]
  },
  {
   "cell_type": "markdown",
   "metadata": {},
   "source": [
    "Here, the `__init__` method initializes the car with its color, model, year, make, and electric status. The `display_info` method returns a string with all these details, and the `start_engine` method simulates the action of starting the car's engine.\n"
   ]
  },
  {
   "cell_type": "markdown",
   "metadata": {},
   "source": [
    "Let’s instantiate a `Car` object and interact with its attributes and methods to see these enhancements in action.\n"
   ]
  },
  {
   "cell_type": "code",
   "execution_count": 22,
   "metadata": {},
   "outputs": [],
   "source": [
    "# Create a Car object\n",
    "my_car = Car(\"Blue\", \"Model S\", 2020, \"Tesla\", True)"
   ]
  },
  {
   "cell_type": "code",
   "execution_count": 23,
   "metadata": {},
   "outputs": [
    {
     "data": {
      "text/plain": [
       "'Blue'"
      ]
     },
     "execution_count": 23,
     "metadata": {},
     "output_type": "execute_result"
    }
   ],
   "source": [
    "# Access attributes\n",
    "my_car.color"
   ]
  },
  {
   "cell_type": "code",
   "execution_count": 24,
   "metadata": {},
   "outputs": [
    {
     "data": {
      "text/plain": [
       "True"
      ]
     },
     "execution_count": 24,
     "metadata": {},
     "output_type": "execute_result"
    }
   ],
   "source": [
    "my_car.is_electric"
   ]
  },
  {
   "cell_type": "code",
   "execution_count": 25,
   "metadata": {},
   "outputs": [
    {
     "data": {
      "text/plain": [
       "'2020 Tesla Model S (Electric), Color: Blue'"
      ]
     },
     "execution_count": 25,
     "metadata": {},
     "output_type": "execute_result"
    }
   ],
   "source": [
    "# Invoke methods\n",
    "my_car.display_info()"
   ]
  },
  {
   "cell_type": "code",
   "execution_count": 26,
   "metadata": {},
   "outputs": [
    {
     "data": {
      "text/plain": [
       "\"The Tesla Model S's engine has started!\""
      ]
     },
     "execution_count": 26,
     "metadata": {},
     "output_type": "execute_result"
    }
   ],
   "source": [
    "my_car.start_engine()"
   ]
  },
  {
   "cell_type": "markdown",
   "metadata": {},
   "source": [
    "In this interactive example, after creating a `Car` object named `my_car`, we access its `color` and `is_electric` attributes directly. Then, we call the `display_info` method to get a detailed description of the car and the `start_engine` method to simulate starting the car's engine. Each of these interactions showcases how objects encapsulate data and behavior, providing a clear interface for working with the complexities of real-world entities.\n"
   ]
  },
  {
   "cell_type": "markdown",
   "metadata": {},
   "source": [
    "Through this practical example of enhancing the `Car` class, we see how Python's OOP features streamline the representation of real-world entities in code. By adding more attributes, we enrich the state of our objects, and by defining additional methods, we expand the actions our objects can perform. This encapsulation of related data and behavior is central to OOP, making it an incredibly powerful tool for structuring applications. The ability to interact with objects through attribute access and method invocation further demonstrates the intuitiveness and flexibility of OOP in modeling complex systems."
   ]
  },
  {
   "cell_type": "markdown",
   "metadata": {},
   "source": [
    "<img src=\"../images/exercise-banner.gif\" width=\"800\">"
   ]
  },
  {
   "cell_type": "markdown",
   "metadata": {},
   "source": [
    "## <a id='toc7_'></a>[Exercise: Building and Enhancing a `Book` Class](#toc0_)"
   ]
  },
  {
   "cell_type": "markdown",
   "metadata": {},
   "source": [
    "For this exercise, you will define a simple `Book` class to encapsulate the properties and behaviors associated with a book. This exercise is designed to apply the concepts covered in the lecture, such as defining classes, working with methods, using the `self` keyword, initializing objects, and distinguishing between class and instance attributes.\n"
   ]
  },
  {
   "cell_type": "markdown",
   "metadata": {},
   "source": [
    "**Tasks:**\n",
    "\n",
    "1. **Define a Simple `Book` Class**:\n",
    "   - Create a `Book` class with instance attributes for `title`, `author`, and `pages`.\n",
    "   - Define an instance method `description` that prints a description of the book including its title, author, and number of pages.\n",
    "\n",
    "2. **Instantiate an Object from the `Book` Class**:\n",
    "   - Create an instance of the `Book` class with the title \"Python Programming\", author \"John Doe\", and page count of 350.\n",
    "   - Call the `description` method on this instance to print the book's details.\n",
    "\n",
    "3. **Use of `self`**:\n",
    "   - Explain, through comments in your code, why the `self` keyword is necessary in the `description` method of the `Book` class.\n",
    "\n",
    "4. **Incorporate the `__init__` Method**:\n",
    "   - Modify the `Book` class to include the `__init__` method for initializing new instances with the title, author, and pages attributes.\n",
    "\n",
    "5. **Class vs. Instance Attributes**:\n",
    "   - Add a class attribute `book_count` to keep track of the total number of book instances created.\n",
    "   - Increment the `book_count` inside the `__init__` method every time a new `Book` instance is created.\n",
    "\n",
    "6. **Instantiating Multiple Objects**:\n",
    "   - Create two additional `Book` instances with different titles, authors, and page counts.\n",
    "   - Print out the `book_count` to show the total number of books created.\n",
    "\n",
    "7. **Practical Example: Enhancing the `Book` Class**:\n",
    "   - Add a method `is_long` to the `Book` class that returns `True` if the book has more than 500 pages and `False` otherwise.\n",
    "   - Create a new `Book` instance with more than 500 pages and use the `is_long` method to check if the book is considered long.\n"
   ]
  },
  {
   "cell_type": "markdown",
   "metadata": {},
   "source": [
    "**Sample Output:**\n",
    "```\n",
    "Title: Python Programming, Author: John Doe, Pages: 350\n",
    "Total number of books created: 3\n",
    "This book is considered long: False\n",
    "```\n"
   ]
  },
  {
   "cell_type": "markdown",
   "metadata": {},
   "source": [
    "This exercise will reinforce your understanding of how to define and work with classes in Python, the importance of the `self` keyword, the role of the `__init__` method, and the difference between class and instance attributes. It will also show you how to create multiple instances of a class and how to maintain each instance's unique state."
   ]
  },
  {
   "cell_type": "markdown",
   "metadata": {},
   "source": [
    "### <a id='toc7_1_'></a>[Solution](#toc0_)"
   ]
  },
  {
   "cell_type": "markdown",
   "metadata": {},
   "source": [
    "Here's the solution to the exercise, encompassing all the tasks from defining the `Book` class to enhancing it with additional functionality.\n"
   ]
  },
  {
   "cell_type": "code",
   "execution_count": 27,
   "metadata": {},
   "outputs": [],
   "source": [
    "# Task 1: Define a Simple `Book` Class\n",
    "class Book:\n",
    "    # Task 5: Class attribute to keep track of the total number of book instances\n",
    "    book_count = 0\n",
    "\n",
    "    # Task 4: Incorporate the `__init__` Method\n",
    "    def __init__(self, title, author, pages):\n",
    "        self.title = title\n",
    "        self.author = author\n",
    "        self.pages = pages\n",
    "        Book.book_count += 1  # Increment the book_count class attribute\n",
    "\n",
    "    # Instance method to print a description of the book\n",
    "    def description(self):\n",
    "        print(f\"Title: {self.title}, Author: {self.author}, Pages: {self.pages}\")\n",
    "\n",
    "    # Task 7: Add a method `is_long`\n",
    "    def is_long(self):\n",
    "        return self.pages > 500"
   ]
  },
  {
   "cell_type": "code",
   "execution_count": 28,
   "metadata": {},
   "outputs": [
    {
     "name": "stdout",
     "output_type": "stream",
     "text": [
      "Title: Python Programming, Author: John Doe, Pages: 350\n"
     ]
    }
   ],
   "source": [
    "# Task 2: Instantiate an Object from the `Book` Class\n",
    "python_book = Book(\"Python Programming\", \"John Doe\", 350)\n",
    "\n",
    "# Call the `description` method on this instance\n",
    "python_book.description()"
   ]
  },
  {
   "cell_type": "code",
   "execution_count": 29,
   "metadata": {},
   "outputs": [],
   "source": [
    "# Task 3: Use of `self`\n",
    "# The `self` keyword is used to refer to the instance upon which the method is\n",
    "# being called. It allows access to the instance's attributes and methods.\n",
    "# Without `self`, the method would not have access to the instance's `title`,\n",
    "# `author`, and `pages` attributes.\n"
   ]
  },
  {
   "cell_type": "code",
   "execution_count": 30,
   "metadata": {},
   "outputs": [
    {
     "name": "stdout",
     "output_type": "stream",
     "text": [
      "Total number of books created: 3\n"
     ]
    }
   ],
   "source": [
    "# Task 6: Instantiate Multiple Objects\n",
    "book1 = Book(\"Learning Python\", \"Mark Lutz\", 624)\n",
    "book2 = Book(\"Automate the Boring Stuff\", \"Al Sweigart\", 504)\n",
    "\n",
    "# Print out the book_count to show the total number of books created\n",
    "print(f\"Total number of books created: {Book.book_count}\")"
   ]
  },
  {
   "cell_type": "code",
   "execution_count": 31,
   "metadata": {},
   "outputs": [
    {
     "name": "stdout",
     "output_type": "stream",
     "text": [
      "This book is considered long: True\n"
     ]
    }
   ],
   "source": [
    "# Task 7: Use the `is_long` method to check if the book is considered long\n",
    "print(f\"This book is considered long: {book1.is_long()}\")"
   ]
  },
  {
   "cell_type": "markdown",
   "metadata": {},
   "source": [
    "This code defines the `Book` class and includes the `__init__` method to initialize new instances with their respective attributes. It also demonstrates the use of class attributes to keep track of the total number of book instances and introduces an instance method `is_long` that assesses the length of the book. The comments within the code provide further explanation of the `self` keyword and its role in accessing instance attributes and methods. The final print statements will output the required sample output, verifying the total number of books and whether a particular book is considered long."
   ]
  }
 ],
 "metadata": {
  "kernelspec": {
   "display_name": "py310",
   "language": "python",
   "name": "python3"
  },
  "language_info": {
   "codemirror_mode": {
    "name": "ipython",
    "version": 3
   },
   "file_extension": ".py",
   "mimetype": "text/x-python",
   "name": "python",
   "nbconvert_exporter": "python",
   "pygments_lexer": "ipython3",
   "version": "3.10.12"
  }
 },
 "nbformat": 4,
 "nbformat_minor": 2
}
