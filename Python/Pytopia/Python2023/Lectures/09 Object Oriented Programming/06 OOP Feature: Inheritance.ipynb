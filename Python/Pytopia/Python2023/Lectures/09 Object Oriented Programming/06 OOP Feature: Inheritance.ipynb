{
 "cells": [
  {
   "cell_type": "markdown",
   "metadata": {},
   "source": [
    "<img src=\"./images/banner.png\" width=\"800\">"
   ]
  },
  {
   "cell_type": "markdown",
   "metadata": {},
   "source": [
    "# Understanding Inheritance in Python"
   ]
  },
  {
   "cell_type": "markdown",
   "metadata": {},
   "source": [
    "Inheritance is a fundamental concept in object-oriented programming (OOP) that allows for the creation of a new class that inherits the attributes and methods of an existing class. This new class, commonly referred to as a child or subclass, can add new attributes and methods or modify existing ones inherited from the parent or base class. This mechanism promotes code reusability and establishes a natural hierarchy within the code, making it more organized and manageable.\n"
   ]
  },
  {
   "cell_type": "markdown",
   "metadata": {},
   "source": [
    "<img src=\"./images/single-inheritance.png\" width=\"400\">"
   ]
  },
  {
   "cell_type": "markdown",
   "metadata": {},
   "source": [
    "Python, as a powerful and versatile programming language, supports inheritance, enabling developers to build complex and efficient software systems. Understanding how to effectively use inheritance in Python can significantly enhance your coding practices, facilitating the development of robust, scalable, and maintainable applications.\n"
   ]
  },
  {
   "cell_type": "markdown",
   "metadata": {},
   "source": [
    "Before diving into the technicalities, let's first understand the rationale behind using inheritance in software development:\n",
    "\n",
    "1. **Code Reusability**: Inheritance allows you to reuse the code of the base class without having to rewrite it in the subclass. This not only saves time but also ensures consistency across different parts of the application.\n",
    "\n",
    "2. **Maintainability**: When changes are required, updating the base class automatically reflects in all subclasses, making maintenance easier and reducing the risk of errors.\n",
    "\n",
    "3. **Extensibility**: Inheritance makes it straightforward to extend the functionalities of existing classes. By inheriting from a base class, new classes can add distinct features or modify existing behaviors while keeping the core functionalities intact.\n",
    "\n",
    "4. **Hierarchical Organization**: It naturally leads to a hierarchical classification of classes, making the architecture of larger software systems easier to understand at a glance.\n"
   ]
  },
  {
   "cell_type": "markdown",
   "metadata": {},
   "source": [
    "Imagine you're designing a software system for a vehicle rental service. You might start with a general `Vehicle` class that includes attributes and methods common to all types of vehicles, such as `make`, `model`, `year`, `start()`, and `stop()`. However, different categories of vehicles, like cars, bikes, and trucks, have their unique characteristics and functionalities.\n"
   ]
  },
  {
   "cell_type": "markdown",
   "metadata": {},
   "source": [
    "Here's where inheritance shines. Instead of creating completely separate classes for each type of vehicle from scratch, you can create subclasses like `Car`, `Bike`, and `Truck` that inherit the common functionalities from the `Vehicle` class and then add or modify features specific to each vehicle type. For example, the `Car` class might include additional methods like `open_trunk()`.\n"
   ]
  },
  {
   "cell_type": "markdown",
   "metadata": {},
   "source": [
    "<img src=\"./images/inheritance.png\" width=\"500\">"
   ]
  },
  {
   "cell_type": "markdown",
   "metadata": {},
   "source": [
    "This approach drastically simplifies the development process, ensuring code reusability, ease of maintenance, and a clear, hierarchical structure of classes. \n"
   ]
  },
  {
   "cell_type": "markdown",
   "metadata": {},
   "source": [
    "In the next sections, we'll dive deeper into how to inherit classes in Python, explore the `super()` function, and understand method overriding to leverage the full power of inheritance in your projects."
   ]
  },
  {
   "cell_type": "markdown",
   "metadata": {},
   "source": [
    "**Table of contents**<a id='toc0_'></a>    \n",
    "- [The Basics of Inheriting Classes](#toc1_)    \n",
    "  - [Adding and Overriding Methods](#toc1_1_)    \n",
    "- [The `super()` Function and Method Overriding](#toc2_)    \n",
    "- [Exercise: Crafting an Employee Inheritance Structure](#toc3_)    \n",
    "  - [Solution](#toc3_1_)    \n",
    "\n",
    "<!-- vscode-jupyter-toc-config\n",
    "\tnumbering=false\n",
    "\tanchor=true\n",
    "\tflat=false\n",
    "\tminLevel=2\n",
    "\tmaxLevel=6\n",
    "\t/vscode-jupyter-toc-config -->\n",
    "<!-- THIS CELL WILL BE REPLACED ON TOC UPDATE. DO NOT WRITE YOUR TEXT IN THIS CELL -->"
   ]
  },
  {
   "cell_type": "markdown",
   "metadata": {},
   "source": [
    "## <a id='toc1_'></a>[The Basics of Inheriting Classes](#toc0_)"
   ]
  },
  {
   "cell_type": "markdown",
   "metadata": {},
   "source": [
    "Inheritance in Python is straightforward yet powerful, allowing developers to create a new class that takes on the attributes and methods of an existing class. The class being inherited from is called the parent, superclass, or base class, while the class that inherits is known as the child, subclass, or derived class. This section will explore how to inherit from classes in Python, set the foundation for utilizing inheritance effectively.\n"
   ]
  },
  {
   "cell_type": "markdown",
   "metadata": {},
   "source": [
    "Inheriting from a class in Python involves defining a new class and specifying the name of the class to inherit from within parentheses following the class name. Here’s a simple example:\n"
   ]
  },
  {
   "cell_type": "code",
   "execution_count": 1,
   "metadata": {},
   "outputs": [],
   "source": [
    "class Vehicle:  # This is the base class\n",
    "    def __init__(self, make, model, year):\n",
    "        self.make = make\n",
    "        self.model = model\n",
    "        self.year = year\n",
    "\n",
    "    def display_info(self):\n",
    "        print(f\"{self.year} {self.make} {self.model}\")"
   ]
  },
  {
   "cell_type": "code",
   "execution_count": 2,
   "metadata": {},
   "outputs": [],
   "source": [
    "# Inheriting from Vehicle\n",
    "class Car(Vehicle):  # Car is the derived class that inherits from Vehicle\n",
    "    pass\n"
   ]
  },
  {
   "cell_type": "code",
   "execution_count": 3,
   "metadata": {},
   "outputs": [],
   "source": [
    "# Creating an instance of Car\n",
    "my_car = Car(\"Toyota\", \"Corolla\", 2021)"
   ]
  },
  {
   "cell_type": "code",
   "execution_count": 4,
   "metadata": {},
   "outputs": [
    {
     "name": "stdout",
     "output_type": "stream",
     "text": [
      "2021 Toyota Corolla\n"
     ]
    }
   ],
   "source": [
    "my_car.display_info()  # Outputs: 2021 Toyota Corolla"
   ]
  },
  {
   "cell_type": "markdown",
   "metadata": {},
   "source": [
    "In this example, `Car` inherits from `Vehicle`, meaning it automatically has access to the methods and attributes of `Vehicle` class, demonstrated by how the instance `my_car` can call the `display_info` method defined in `Vehicle`.\n"
   ]
  },
  {
   "cell_type": "markdown",
   "metadata": {},
   "source": [
    "### <a id='toc1_1_'></a>[Adding and Overriding Methods](#toc0_)\n"
   ]
  },
  {
   "cell_type": "markdown",
   "metadata": {},
   "source": [
    "While inheritance allows a subclass to inherit methods and attributes from a base class, it also enables the subclass to define its own methods or override inherited ones:\n"
   ]
  },
  {
   "cell_type": "code",
   "execution_count": 5,
   "metadata": {},
   "outputs": [],
   "source": [
    "class Car(Vehicle):\n",
    "    def __init__(self, make, model, year, trunk_capacity):\n",
    "        super().__init__(make, model, year)  # Calls the __init__ of Vehicle\n",
    "        self.trunk_capacity = trunk_capacity  # New attribute specific to Car\n",
    "\n",
    "    def display_car_info(self):  # New method specific to Car\n",
    "        print(f\"{self.year} {self.make} {self.model} with trunk capacity: {self.trunk_capacity} liters\")\n",
    "\n",
    "    # Overriding an inherited method\n",
    "    def display_info(self):\n",
    "        print(f\"This is a {self.year} {self.make} {self.model}.\")"
   ]
  },
  {
   "cell_type": "code",
   "execution_count": 6,
   "metadata": {},
   "outputs": [],
   "source": [
    "# Creating an instance of Car and using its methods\n",
    "my_car = Car(\"Honda\", \"Civic\", 2020, 450)"
   ]
  },
  {
   "cell_type": "code",
   "execution_count": 7,
   "metadata": {},
   "outputs": [
    {
     "name": "stdout",
     "output_type": "stream",
     "text": [
      "2020 Honda Civic with trunk capacity: 450 liters\n"
     ]
    }
   ],
   "source": [
    "my_car.display_car_info()  # Outputs: 2020 Honda Civic with trunk capacity: 450 liters"
   ]
  },
  {
   "cell_type": "code",
   "execution_count": 8,
   "metadata": {},
   "outputs": [
    {
     "name": "stdout",
     "output_type": "stream",
     "text": [
      "This is a 2020 Honda Civic.\n"
     ]
    }
   ],
   "source": [
    "my_car.display_info()  # Outputs: This is a 2020 Honda Civic."
   ]
  },
  {
   "cell_type": "markdown",
   "metadata": {},
   "source": [
    "The `super()` function is a critical part of working with inheritance, especially when overriding methods. It allows the subclass to call methods of the superclass, facilitating cooperation between the parent and child class. In the `Car` class `__init__` method, `super().__init__(make, model, year)` is called to ensure the `Vehicle` class's `__init__` method is executed, allowing `Car` to initialize the inherited attributes before adding or modifying any specific to the subclass.\n"
   ]
  },
  {
   "cell_type": "markdown",
   "metadata": {},
   "source": [
    "Inheritance is a cornerstone of object-oriented programming, enhancing code reusability, maintainability, and the logical organization of code. With these basics, you're ready to explore more advanced topics in inheritance, such as multiple inheritance, method resolution order, and polymorphism in Python."
   ]
  },
  {
   "cell_type": "markdown",
   "metadata": {},
   "source": [
    "## <a id='toc2_'></a>[The `super()` Function and Method Overriding](#toc0_)"
   ]
  },
  {
   "cell_type": "markdown",
   "metadata": {},
   "source": [
    "Inheritance allows subclasses to inherit properties and methods from their parent classes, but what if a subclass needs to modify these methods or call a method in the parent class in addition to performing its own operations? This is where the `super()` function and method overriding become indispensable tools in the Python developer's arsenal.\n"
   ]
  },
  {
   "cell_type": "markdown",
   "metadata": {},
   "source": [
    "The `super()` function is used to give access to methods and properties of a parent or sibling class. It is commonly used in the initialization of subclasses where you want to use the functionality of the parent class and then extend it. The `super()` function returns a temporary object of the superclass that allows the subclass to call its methods.\n"
   ]
  },
  {
   "cell_type": "markdown",
   "metadata": {},
   "source": [
    "This approach is not only cleaner but also more maintainable, as it ensures that the parent class's initialization code is executed and makes the child class easier to update, especially in the face of changing requirements or class hierarchies.\n"
   ]
  },
  {
   "cell_type": "code",
   "execution_count": 9,
   "metadata": {},
   "outputs": [],
   "source": [
    "class Vehicle:\n",
    "    def __init__(self, make, model):\n",
    "        self.make = make\n",
    "        self.model = model\n",
    "\n",
    "class Car(Vehicle):\n",
    "    def __init__(self, make, model, trunk_capacity):\n",
    "        super().__init__(make, model)\n",
    "        self.trunk_capacity = trunk_capacity"
   ]
  },
  {
   "cell_type": "markdown",
   "metadata": {},
   "source": [
    "In the example above, the `Car` class uses `super()` to call the `__init__` method of the `Vehicle` class. This ensures that the `make` and `model` attributes are initialized in the `Car` instance.\n"
   ]
  },
  {
   "cell_type": "markdown",
   "metadata": {},
   "source": [
    "Method overriding occurs when a method in a subclass has the same name, parameters, or signature as a method in the parent class. When you override a method, the version in the subclass will be executed instead of the one in the parent class when called from an instance of the subclass. This allows a subclass to provide a specific implementation of a method that is already defined by one of its superclasses.\n"
   ]
  },
  {
   "cell_type": "markdown",
   "metadata": {},
   "source": [
    "Method overriding is crucial for the subclass to alter or extend the behaviors of the parent class methods to suit its own needs.\n"
   ]
  },
  {
   "cell_type": "code",
   "execution_count": 10,
   "metadata": {},
   "outputs": [],
   "source": [
    "class Vehicle:\n",
    "    def display_info(self):\n",
    "        print(\"This is a Vehicle\")\n",
    "\n",
    "class Car(Vehicle):\n",
    "    def display_info(self):\n",
    "        print(\"This is a Car\")"
   ]
  },
  {
   "cell_type": "markdown",
   "metadata": {},
   "source": [
    "In this example, `Car` overrides the `display_info` method of the `Vehicle` class. When an instance of `Car` calls the `display_info()` method, \"This is a Car\" is printed instead of \"This is a Vehicle\", demonstrating how `Car` can provide its own behavior for the `display_info` method.\n"
   ]
  },
  {
   "cell_type": "markdown",
   "metadata": {},
   "source": [
    "These two concepts can be combined when you want to extend the functionality of a parent class method rather than entirely replace it. By overriding a method and then calling the same method from the parent class using `super()`, you can add additional behaviors to the existing ones.\n"
   ]
  },
  {
   "cell_type": "code",
   "execution_count": 11,
   "metadata": {},
   "outputs": [],
   "source": [
    "class Vehicle:\n",
    "    def display_info(self):\n",
    "        print(\"This is a Vehicle\")\n",
    "\n",
    "class Car(Vehicle):\n",
    "    def display_info(self):\n",
    "        super().display_info()  # Calls display_info from Vehicle\n",
    "        print(\"and more specifically, this is a Car\")"
   ]
  },
  {
   "cell_type": "markdown",
   "metadata": {},
   "source": [
    "Creating an instance of `Car` and calling `display_info()` will now execute the method defined in `Vehicle` (\"This is a Vehicle\") and then extend it with additional behavior defined in `Car` (\"and more specifically, this is a Car\"), showcasing how both inheritance and method overriding can be seamlessly combined for powerful and flexible class hierarchies.\n"
   ]
  },
  {
   "cell_type": "markdown",
   "metadata": {},
   "source": [
    "The usage of `super()` and proper method overriding are pivotal in making inheritance a powerful feature in Python, allowing for extendible and maintainable code that leverages existing functionalities while providing the freedom to customize and extend as needed."
   ]
  },
  {
   "cell_type": "markdown",
   "metadata": {},
   "source": [
    "<img src=\"../images/exercise-banner.gif\" width=\"800\">"
   ]
  },
  {
   "cell_type": "markdown",
   "metadata": {},
   "source": [
    "## <a id='toc3_'></a>[Exercise: Crafting an Employee Inheritance Structure](#toc0_)"
   ]
  },
  {
   "cell_type": "markdown",
   "metadata": {},
   "source": [
    "In this exercise, you will demonstrate your understanding of basic class inheritance, method addition, and method overriding by creating a class hierarchy for employees in a company. The exercise will help you grasp how inheritance allows for code reuse and behavior specialization in subclasses.\n"
   ]
  },
  {
   "cell_type": "markdown",
   "metadata": {},
   "source": [
    "**Scenario:**\n",
    "A company has a simple employee structure consisting of general employees and managers. Both types of employees share some common attributes but also have some specific to their role.\n"
   ]
  },
  {
   "cell_type": "markdown",
   "metadata": {},
   "source": [
    "**Tasks:**\n",
    "\n",
    "1. **Define the Base Class**:\n",
    "   Create a base class called `Employee` with the following:\n",
    "   - Instance attributes: `name` and `email`.\n",
    "   - An `__init__` method that initializes the `name` and `email` attributes.\n",
    "   - A method called `get_info()` that prints the employee's name and email in a neat format.\n",
    "\n",
    "2. **Define a Subclass for Managers**:\n",
    "   Create a subclass called `Manager` that inherits from `Employee`. Add the following to the `Manager` class:\n",
    "   - An additional attribute called `department`.\n",
    "   - An overridden `__init__` method that initializes the `name`, `email`, and `department` using the `super()` function to initialize `name` and `email`.\n",
    "   - An overridden `get_info()` method that prints the manager's information, including the department.\n",
    "\n",
    "3. **Instantiate and Test Classes**:\n",
    "   Create instances of both `Employee` and `Manager`, and call their `get_info()` methods to ensure they display the information correctly.\n"
   ]
  },
  {
   "cell_type": "markdown",
   "metadata": {},
   "source": [
    "**Expected Output:**\n",
    "```\n",
    "Employee Name: Alice Smith\n",
    "Employee Email: alice@example.com\n",
    "\n",
    "Employee Name: Bob Johnson\n",
    "Employee Email: bob@example.com\n",
    "Department: Engineering\n",
    "```\n"
   ]
  },
  {
   "cell_type": "markdown",
   "metadata": {},
   "source": [
    "This exercise will allow you to practice designing classes that share common attributes and behaviors while also providing specialized functionality for different types of objects within the class hierarchy. Remember to use the `super()` function appropriately when initializing subclasses to ensure that inherited attributes are set up correctly."
   ]
  },
  {
   "cell_type": "markdown",
   "metadata": {},
   "source": [
    "### <a id='toc3_1_'></a>[Solution](#toc0_)"
   ]
  },
  {
   "cell_type": "code",
   "execution_count": 12,
   "metadata": {},
   "outputs": [],
   "source": [
    "# Define the base class 'Employee'\n",
    "class Employee:\n",
    "    def __init__(self, name, email):\n",
    "        self.name = name\n",
    "        self.email = email\n",
    "\n",
    "    def get_info(self):\n",
    "        print(f\"Employee Name: {self.name}\")\n",
    "        print(f\"Employee Email: {self.email}\")"
   ]
  },
  {
   "cell_type": "code",
   "execution_count": 13,
   "metadata": {},
   "outputs": [],
   "source": [
    "# Define the subclass 'Manager' which inherits from 'Employee'\n",
    "class Manager(Employee):\n",
    "    def __init__(self, name, email, department):\n",
    "        super().__init__(name, email) # Use super() to call the __init__ method of the parent class\n",
    "        self.department = department\n",
    "\n",
    "    def get_info(self):\n",
    "        # Override the get_info() method to include department information\n",
    "        super().get_info() # Call the get_info() method from the parent class\n",
    "        print(f\"Department: {self.department}\")\n"
   ]
  },
  {
   "cell_type": "code",
   "execution_count": 14,
   "metadata": {},
   "outputs": [
    {
     "name": "stdout",
     "output_type": "stream",
     "text": [
      "Employee Name: Alice Smith\n",
      "Employee Email: alice@example.com\n"
     ]
    }
   ],
   "source": [
    "# Instantiate and Test Classes\n",
    "\n",
    "# Create an instance of 'Employee'\n",
    "alice = Employee(\"Alice Smith\", \"alice@example.com\")\n",
    "# Call get_info() method to display 'Employee' information\n",
    "alice.get_info()"
   ]
  },
  {
   "cell_type": "code",
   "execution_count": 15,
   "metadata": {},
   "outputs": [
    {
     "name": "stdout",
     "output_type": "stream",
     "text": [
      "Employee Name: Bob Johnson\n",
      "Employee Email: bob@example.com\n",
      "Department: Engineering\n"
     ]
    }
   ],
   "source": [
    "# Create an instance of 'Manager'\n",
    "bob = Manager(\"Bob Johnson\", \"bob@example.com\", \"Engineering\")\n",
    "# Call get_info() method to display 'Manager' information\n",
    "bob.get_info()"
   ]
  },
  {
   "cell_type": "markdown",
   "metadata": {},
   "source": [
    "When you run this code, it will create an `Employee` object and a `Manager` object, and then call their `get_info()` methods. The `Manager` class demonstrates how to override a method from the parent class `Employee` and how to call the overridden method using `super()` to include additional behavior. The output will match the expected output provided in the exercise instructions."
   ]
  }
 ],
 "metadata": {
  "kernelspec": {
   "display_name": "py310",
   "language": "python",
   "name": "python3"
  },
  "language_info": {
   "codemirror_mode": {
    "name": "ipython",
    "version": 3
   },
   "file_extension": ".py",
   "mimetype": "text/x-python",
   "name": "python",
   "nbconvert_exporter": "python",
   "pygments_lexer": "ipython3",
   "version": "3.10.12"
  }
 },
 "nbformat": 4,
 "nbformat_minor": 2
}
