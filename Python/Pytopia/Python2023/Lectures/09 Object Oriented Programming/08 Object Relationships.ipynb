{
 "cells": [
  {
   "cell_type": "markdown",
   "metadata": {},
   "source": [
    "<img src=\"./images/banner.png\" width=\"800\">"
   ]
  },
  {
   "cell_type": "markdown",
   "metadata": {},
   "source": [
    "# Object Relationships"
   ]
  },
  {
   "cell_type": "markdown",
   "metadata": {},
   "source": [
    "In the realm of object-oriented programming (OOP), the way objects and classes interact and relate to one another is foundational to designing effective software systems. Four primary types of relationships help clarify these interactions and dependencies: Association, Aggregation, Composition, and Inheritance. Understanding these relationships is critical for designing OOP systems that are robust, flexible, and maintainable. While inheritance establishes hierarchical relationships based on what objects *are*, association, aggregation, and composition deal with how objects *interact* and relate to each other, each serving different purposes in the design of an application.\n"
   ]
  },
  {
   "cell_type": "markdown",
   "metadata": {},
   "source": [
    "**Association:**\n",
    "\n",
    "- Association is a broad term that encompasses any relationship between instances of two or more classes. It represents a \"uses-a\" relationship where objects of one class may use or have objects of another class, but without implying ownership or a parent-child relationship. \n",
    "- Example: Consider the relationship between a `Doctor` and a `Stethoscope`. A `Doctor` uses a `Stethoscope`, but the existence and functionality of both are independent of each other. The `Doctor` can use other tools, and the `Stethoscope` can be used by other doctors, illustrating a flexible association between them.\n"
   ]
  },
  {
   "cell_type": "markdown",
   "metadata": {},
   "source": [
    "**Aggregation:**\n",
    "- Aggregation is a specialized form of association that represents a \"has-a\" relationship, where the part can exist independently of the whole. It's a weaker relationship than composition, as it does not imply ownership of the parts by the whole.\n",
    "- Example: A `Team` and `Player` relationship serves as an example of aggregation. While a team consists of multiple players, and players are part of the team, each player retains their independent identity and can exist without the team.\n"
   ]
  },
  {
   "cell_type": "markdown",
   "metadata": {},
   "source": [
    "**Composition:**\n",
    "- Composition is a strong form of association with a strict \"part-a\" relationship, implying ownership and lifecycle dependency between the whole and its parts. In composition, parts do not exist independently from the whole—if the whole is destroyed, its parts are also destroyed.\n",
    "- Example: A `Computer` class and its components (`Processor`, `Memory`, `HardDrive`) exemplify composition. Each component is integral to the computer; they are created with the computer and do not exist or function independently outside of it.\n"
   ]
  },
  {
   "cell_type": "markdown",
   "metadata": {},
   "source": [
    "**Inheritance:**\n",
    "- Inheritance describes a hierarchical \"is-a\" relationship between a base class (superclass) and one or more derived classes (subclasses). It allows a subclass to inherit properties and methods from a superclass, establishing a clear, hierarchical classification of types.\n",
    "- Example: Considering a base class `Animal` and a derived class `Bird`, inheritance implies that every `Bird` is an `Animal`, inheriting its characteristics and behaviors, but it may also have additional characteristics that make it distinct.\n"
   ]
  },
  {
   "cell_type": "markdown",
   "metadata": {},
   "source": [
    "<img src=\"./images/object-relationships.png\" width=\"600\">"
   ]
  },
  {
   "cell_type": "markdown",
   "metadata": {},
   "source": [
    "In OOP, designing effective systems heavily relies on understanding and appropriately applying these four types of relationships. Inheritance creates a direct hierarchy and enables polymorphism, making software more modular and reusable. In contrast, association, and its specific cases, aggregation, and composition delineate how objects across the system are connected, interact, and rely on each other, defining the structure and dynamics of object collaborations. These relationships help manage complexity by allowing developers to think about systems in terms of real-world interactions and hierarchies."
   ]
  },
  {
   "cell_type": "markdown",
   "metadata": {},
   "source": [
    "**Table of contents**<a id='toc0_'></a>    \n",
    "- [Association in Object-Oriented Programming](#toc1_)    \n",
    "  - [Example 1: The Doctor and Stethoscope Relationship](#toc1_1_)    \n",
    "  - [Example 2: The Owner and Dog Relationship](#toc1_2_)    \n",
    "- [Aggregation: Understanding \"Whole-Part\" Relationships](#toc2_)    \n",
    "  - [Example: The Team and Player Relationship](#toc2_1_)    \n",
    "  - [Example: The Dog and Its Collar Relationship](#toc2_2_)    \n",
    "- [Composition: Navigating Strong \"Whole-Part\" Relationships](#toc3_)    \n",
    "  - [How Composition Differs from Aggregation](#toc3_1_)    \n",
    "  - [Example: The Computer, Processor, Memory, and HardDrive Relationship](#toc3_2_)    \n",
    "  - [Additional Example: The Dog and Its Tail](#toc3_3_)    \n",
    "- [Inheritance: Building Hierarchies in OOP](#toc4_)    \n",
    "  - [Example: The Pet and Dog Hierarchical Relationship](#toc4_1_)    \n",
    "  - [Inheritance vs. Association: Clarifying the Distinctions](#toc4_2_)    \n",
    "- [Practical Applications of Relationship Types: When to Use Association, Aggregation, Composition, and Inheritance](#toc5_)    \n",
    "  - [When to Use Association](#toc5_1_)    \n",
    "  - [When to Use Aggregation](#toc5_2_)    \n",
    "  - [When to Use Composition](#toc5_3_)    \n",
    "  - [When to Use Inheritance](#toc5_4_)    \n",
    "  - [Decision Making](#toc5_5_)    \n",
    "- [Designing with Object Relationships](#toc6_)    \n",
    "  - [Best Practices for Implementing OOP Relationships](#toc6_1_)    \n",
    "  - [Avoiding Common Pitfalls in Designing Relationships](#toc6_2_)    \n",
    "- [Exercise: Implementing Object Relationships in a Zoological Simulation](#toc7_)    \n",
    "  - [Solution](#toc7_1_)    \n",
    "\n",
    "<!-- vscode-jupyter-toc-config\n",
    "\tnumbering=false\n",
    "\tanchor=true\n",
    "\tflat=false\n",
    "\tminLevel=2\n",
    "\tmaxLevel=6\n",
    "\t/vscode-jupyter-toc-config -->\n",
    "<!-- THIS CELL WILL BE REPLACED ON TOC UPDATE. DO NOT WRITE YOUR TEXT IN THIS CELL -->"
   ]
  },
  {
   "cell_type": "markdown",
   "metadata": {},
   "source": [
    "## <a id='toc1_'></a>[Association in Object-Oriented Programming](#toc0_)"
   ]
  },
  {
   "cell_type": "markdown",
   "metadata": {},
   "source": [
    "<img src=\"./images/association.png\" width=\"500\">"
   ]
  },
  {
   "cell_type": "markdown",
   "metadata": {},
   "source": [
    "Association represents a relationship between two classes in object-oriented programming (OOP) that allows instances of one class to know about or utilize services from instances of another class. This encompasses a broad range of interactions, from simple acquaintances to deeply interconnected operations, allowing significant flexibility in how objects collaborate to perform tasks. Unlike aggregation or composition, association doesn't imply a strong ownership or parent-child relationship but rather describes a “uses-a” or “has-a” interaction, where objects can remain entirely independent or have lifecycles that aren’t tightly coupled.\n"
   ]
  },
  {
   "cell_type": "markdown",
   "metadata": {},
   "source": [
    "### <a id='toc1_1_'></a>[Example 1: The Doctor and Stethoscope Relationship](#toc0_)\n"
   ]
  },
  {
   "cell_type": "markdown",
   "metadata": {},
   "source": [
    "<img src=\"./images/doctor.png\" width=\"500\">"
   ]
  },
  {
   "cell_type": "markdown",
   "metadata": {},
   "source": [
    "An exemplary case of an association in Python is the relationship between a `Doctor` and a `Stethoscope`. This example reflects a situation where a doctor uses a stethoscope, but the existence and function of the stethoscope do not depend on any specific doctor.\n"
   ]
  },
  {
   "cell_type": "code",
   "execution_count": 1,
   "metadata": {},
   "outputs": [],
   "source": [
    "class Stethoscope:\n",
    "    def __init__(self, brand):\n",
    "        self.brand = brand\n",
    "\n",
    "    def use(self):\n",
    "        print(f\"Using {self.brand} stethoscope.\")\n",
    "\n",
    "class Doctor:\n",
    "    def __init__(self, name):\n",
    "        self.name = name\n",
    "\n",
    "    def check_patient(self, stethoscope):\n",
    "        print(f\"{self.name} is checking the patient.\")\n",
    "        stethoscope.use()"
   ]
  },
  {
   "cell_type": "code",
   "execution_count": 2,
   "metadata": {},
   "outputs": [],
   "source": [
    "# Example usage\n",
    "my_stethoscope = Stethoscope(\"Littmann\")\n",
    "dr_jones = Doctor(\"Dr. Jones\")"
   ]
  },
  {
   "cell_type": "code",
   "execution_count": 3,
   "metadata": {},
   "outputs": [
    {
     "name": "stdout",
     "output_type": "stream",
     "text": [
      "Dr. Jones is checking the patient.\n",
      "Using Littmann stethoscope.\n"
     ]
    }
   ],
   "source": [
    "dr_jones.check_patient(my_stethoscope)"
   ]
  },
  {
   "cell_type": "markdown",
   "metadata": {},
   "source": [
    "In this example, `Doctor` and `Stethoscope` are associated through the `check_patient` method, considering that the doctor uses (but does not own) the stethoscope. The objects are independent, showcasing the flexibility and independence characteristic of association.\n"
   ]
  },
  {
   "cell_type": "markdown",
   "metadata": {},
   "source": [
    "### <a id='toc1_2_'></a>[Example 2: The Owner and Dog Relationship](#toc0_)\n"
   ]
  },
  {
   "cell_type": "markdown",
   "metadata": {},
   "source": [
    "Another illustration of association in Python could be the relationship between an `Owner` and a `Dog`. This relationship showcases both the concepts of care (the owner taking care of the dog) and ownership (in a more colloquial sense than strict OOP ownership implied by composition).\n"
   ]
  },
  {
   "cell_type": "code",
   "execution_count": 4,
   "metadata": {},
   "outputs": [],
   "source": [
    "class Dog:\n",
    "    def __init__(self, name):\n",
    "        self.name = name\n",
    "\n",
    "    def play(self):\n",
    "        print(f\"{self.name} is playing.\")\n",
    "\n",
    "class Owner:\n",
    "    def __init__(self, name):\n",
    "        self.name = name\n",
    "        self.dogs = []  # This can hold multiple Dog objects\n",
    "\n",
    "    def add_dog(self, dog):\n",
    "        self.dogs.append(dog)\n",
    "\n",
    "    def play_with_dogs(self):\n",
    "        print(f\"{self.name} is playing with their dogs.\")\n",
    "        for dog in self.dogs:\n",
    "            dog.play()\n"
   ]
  },
  {
   "cell_type": "code",
   "execution_count": 5,
   "metadata": {},
   "outputs": [],
   "source": [
    "# Example usage\n",
    "buddy = Dog(\"Buddy\")\n",
    "rover = Dog(\"Rover\")\n",
    "jane = Owner(\"Jane\")"
   ]
  },
  {
   "cell_type": "code",
   "execution_count": 6,
   "metadata": {},
   "outputs": [],
   "source": [
    "jane.add_dog(buddy)\n",
    "jane.add_dog(rover)"
   ]
  },
  {
   "cell_type": "code",
   "execution_count": 7,
   "metadata": {},
   "outputs": [
    {
     "name": "stdout",
     "output_type": "stream",
     "text": [
      "Jane is playing with their dogs.\n",
      "Buddy is playing.\n",
      "Rover is playing.\n"
     ]
    }
   ],
   "source": [
    "jane.play_with_dogs()"
   ]
  },
  {
   "cell_type": "markdown",
   "metadata": {},
   "source": [
    "Here, the `Owner` class is associated with the `Dog` class through `dogs`, a list that can contain multiple `Dog` instances. This illustrates a one-to-many association since one owner can have many dogs. The `add_dog` method associates a `Dog` instance with an `Owner` instance, and the `play_with_dogs` method iterates through all associated `Dog` instances to invoke their `play` method.\n"
   ]
  },
  {
   "cell_type": "markdown",
   "metadata": {},
   "source": [
    "Both examples demonstrate how association allows for flexible and loosely coupled designs in software systems, enabling objects to interact and collaborate without rigid dependencies or ownership constraints."
   ]
  },
  {
   "cell_type": "markdown",
   "metadata": {},
   "source": [
    "## <a id='toc2_'></a>[Aggregation: Understanding \"Whole-Part\" Relationships](#toc0_)"
   ]
  },
  {
   "cell_type": "markdown",
   "metadata": {},
   "source": [
    "<img src=\"./images/aggregation.png\" width=\"500\">"
   ]
  },
  {
   "cell_type": "markdown",
   "metadata": {},
   "source": [
    "Aggregation is a specialized form of association that represents a \"whole-part\" relationship between the aggregate (the whole) and its constituents (the parts). Unlike Composition, where parts cannot exist independently of the whole, Aggregation allows for constituents to have their life cycles and can exist independently of the aggregate. This relationship is a key concept in designing systems that reflect real-world scenarios accurately and efficiently.\n"
   ]
  },
  {
   "cell_type": "markdown",
   "metadata": {},
   "source": [
    "Aggregation is defined as a relationship where one object (the whole) contains one or more objects (the parts), but where the parts can exist independently of the whole. It signifies a relationship that is looser than composition, embodying a has-a relationship but without strong ownership. For example, a library contains books, but the books are not inherently tied to that one library; they can exist without it, illustrating the essence of aggregation.\n"
   ]
  },
  {
   "cell_type": "markdown",
   "metadata": {},
   "source": [
    "Characteristics of aggregation include:\n",
    "- **Existential Independence:** The most defining characteristic of aggregation is the independence of the parts. The aggregate object doesn't manage the lifecycle of the constituent objects—creation, destruction, or persistence.\n",
    "- **Shared Ownership:** Parts in an aggregation relationship can be associated with more than one object at a time. Consider an employee who works for multiple departments; each department does not exclusively own the employee.\n",
    "- **Loose Coupling:** Aggregation allows for a design that's less tightly coupled. Changes to the whole do not necessarily affect the parts, providing flexibility in how the system can grow and evolve over time.\n"
   ]
  },
  {
   "cell_type": "markdown",
   "metadata": {},
   "source": [
    "### <a id='toc2_1_'></a>[Example: The Team and Player Relationship](#toc0_)\n"
   ]
  },
  {
   "cell_type": "markdown",
   "metadata": {},
   "source": [
    "To illustrate aggregation, consider the relationship between a `Team` and its `Players`. A team consists of multiple players, making the players the constituents of the team aggregate. However, each player has an existence outside the team context—they can join another team, retire, and so forth, without affecting the existence of the \"Team\" object itself.\n"
   ]
  },
  {
   "cell_type": "code",
   "execution_count": 8,
   "metadata": {},
   "outputs": [],
   "source": [
    "class Player:\n",
    "    def __init__(self, name):\n",
    "        self.name = name\n",
    "\n",
    "class Team:\n",
    "    def __init__(self, name):\n",
    "        self.name = name\n",
    "        self.players = []  # This is where the aggregation relationship is established\n",
    "\n",
    "    def add_player(self, player):\n",
    "        self.players.append(player)\n",
    "\n",
    "    def remove_player(self, player):\n",
    "        self.players.remove(player)"
   ]
  },
  {
   "cell_type": "code",
   "execution_count": 9,
   "metadata": {},
   "outputs": [],
   "source": [
    "# The existence of Player objects is not tied to the lifecycle of a Team object\n",
    "player1 = Player(\"Alex\")\n",
    "team = Team(\"Sharks\")\n",
    "team.add_player(player1)\n",
    "# Here, 'player1' can equally be part of another team or none, signifying the independence characteristic of aggregation."
   ]
  },
  {
   "cell_type": "markdown",
   "metadata": {},
   "source": [
    "In this context, `Team` acts as the whole, and `Player` instances are the parts. The `Team` object contains `Player` instances but does not have exclusive control over their lifespan. Players can come and go (be added to or removed from the team), and their existence does not depend on the `Team`'s existence. This models real-world scenarios where individuals or components operate within aggregates but retain their independence, illustrating the practical applicability and the essence of aggregation in object-oriented design."
   ]
  },
  {
   "cell_type": "markdown",
   "metadata": {},
   "source": [
    "### <a id='toc2_2_'></a>[Example: The Dog and Its Collar Relationship](#toc0_)"
   ]
  },
  {
   "cell_type": "markdown",
   "metadata": {},
   "source": [
    "Another intuitive example of aggregation in object-oriented programming (OOP) is the relationship between a `Dog` and its `Collar`. In this scenario, a dog can have a collar, but the collar's existence is not strictly tied to the dog. If the dog no longer wears the collar, the collar still exists and can be used by another dog. Similarly, the dog's existence and identity are not dependent on wearing a specific collar. This relationship highlights the key aspects of aggregation, where the parts (the collars) can exist independently of the whole (the dog).\n"
   ]
  },
  {
   "cell_type": "markdown",
   "metadata": {},
   "source": [
    "In this example, we illustrate how a `Dog` object can aggregate a `Collar` object, but both can exist independently of each other:\n"
   ]
  },
  {
   "cell_type": "code",
   "execution_count": 10,
   "metadata": {},
   "outputs": [],
   "source": [
    "class Collar:\n",
    "    def __init__(self, color):\n",
    "        self.color = color\n",
    "\n",
    "class Dog:\n",
    "    def __init__(self, name):\n",
    "        self.name = name\n",
    "        self.collar = None  # Initially, the dog might not have a collar\n",
    "\n",
    "    def add_collar(self, collar):\n",
    "        self.collar = collar\n",
    "\n",
    "    def remove_collar(self):\n",
    "        self.collar = None"
   ]
  },
  {
   "cell_type": "code",
   "execution_count": 11,
   "metadata": {},
   "outputs": [],
   "source": [
    "# Create a Collar object\n",
    "blue_collar = Collar(\"blue\")"
   ]
  },
  {
   "cell_type": "code",
   "execution_count": 12,
   "metadata": {},
   "outputs": [],
   "source": [
    "# Create a Dog object and associate it with the Collar\n",
    "buddy = Dog(\"Buddy\")\n",
    "buddy.add_collar(blue_collar)"
   ]
  },
  {
   "cell_type": "code",
   "execution_count": 13,
   "metadata": {},
   "outputs": [],
   "source": [
    "# The Dog has a Collar, establishing an aggregation relationship\n",
    "# The Collar can be removed, emphasizing its independence\n",
    "buddy.remove_collar()"
   ]
  },
  {
   "cell_type": "code",
   "execution_count": 14,
   "metadata": {},
   "outputs": [],
   "source": [
    "# The Collar still exists and can potentially be used by another Dog\n",
    "rover = Dog(\"Rover\")\n",
    "rover.add_collar(blue_collar)"
   ]
  },
  {
   "cell_type": "markdown",
   "metadata": {},
   "source": [
    "\n",
    "In this context:\n",
    "- The `Dog` class contains an attribute `collar` which can hold a `Collar` object, demonstrating the aggregate part (the `Dog`) has a relationship with its constituent part (the `Collar`).\n",
    "- The implementation allows for a collar to be added to or removed from a dog, reflecting the loose coupling and existential independence of aggregation. The collar is associated with the dog, but its existence is not tied to any particular dog.\n"
   ]
  },
  {
   "cell_type": "markdown",
   "metadata": {},
   "source": [
    "  \n",
    "This example elucidates the concept of aggregation by showing how a collar can be associated with different dogs over time, emphasizing the non-exclusive and independent nature of the relationship. The dog can exist without the collar, and the collar can exist without the dog, perfectly illustrating the aggregative link between them."
   ]
  },
  {
   "cell_type": "markdown",
   "metadata": {},
   "source": [
    "## <a id='toc3_'></a>[Composition: Navigating Strong \"Whole-Part\" Relationships](#toc0_)"
   ]
  },
  {
   "cell_type": "markdown",
   "metadata": {},
   "source": [
    "<img src=\"./images/composition.png\" width=\"500\">"
   ]
  },
  {
   "cell_type": "markdown",
   "metadata": {},
   "source": [
    "Composition is a strong form of association that depicts a whole-part relationship between objects, implying a strong ownership and a direct lifecycle dependency between the composite (whole) and its components (parts). Unlike aggregation, in composition, the components of the composite object cannot exist independently; they are created and destroyed with the composite.\n"
   ]
  },
  {
   "cell_type": "markdown",
   "metadata": {},
   "source": [
    "In composition, the whole and its parts share a \"death\" relationship. This means if the whole is destroyed, its parts are destroyed too. Composition is used when the parts should not exist without the whole. This relationship models a strong ownership where the whole is directly responsible for the creation and lifecycle management of its parts, ensuring they function as a cohesive unit.\n"
   ]
  },
  {
   "cell_type": "markdown",
   "metadata": {},
   "source": [
    "### <a id='toc3_1_'></a>[How Composition Differs from Aggregation](#toc0_)\n"
   ]
  },
  {
   "cell_type": "markdown",
   "metadata": {},
   "source": [
    "While both aggregation and composition describe whole-part relationships, the key difference lies in the lifecycle and ownership:\n",
    "\n",
    "- **Aggregation** implies a weak relationship where the parts can exist independently of the whole. It denotes a \"has-a\" relationship with shared ownership, and the deletion of the whole does not necessarily affect the parts.\n",
    "- **Composition**, conversely, implies a strong relationship where the parts cannot exist without the whole. It signifies an exclusive \"owns-a\" relationship with no shared ownership, and the deletion of the whole leads to the deletion of the parts.\n"
   ]
  },
  {
   "cell_type": "markdown",
   "metadata": {},
   "source": [
    "### <a id='toc3_2_'></a>[Example: The Computer, Processor, Memory, and HardDrive Relationship](#toc0_)\n"
   ]
  },
  {
   "cell_type": "markdown",
   "metadata": {},
   "source": [
    "An exemplary case of composition is the relationship between a `Computer` and its components such as `Processor`, `Memory`, and `HardDrive`:\n"
   ]
  },
  {
   "cell_type": "code",
   "execution_count": 15,
   "metadata": {},
   "outputs": [],
   "source": [
    "class Processor:\n",
    "    def __init__(self, name):\n",
    "        self.name = name"
   ]
  },
  {
   "cell_type": "code",
   "execution_count": 16,
   "metadata": {},
   "outputs": [],
   "source": [
    "class Memory:\n",
    "    def __init__(self, size):\n",
    "        self.size = size"
   ]
  },
  {
   "cell_type": "code",
   "execution_count": 17,
   "metadata": {},
   "outputs": [],
   "source": [
    "class HardDrive:\n",
    "    def __init__(self, capacity):\n",
    "        self.capacity = capacity"
   ]
  },
  {
   "cell_type": "code",
   "execution_count": 18,
   "metadata": {},
   "outputs": [],
   "source": [
    "class Computer:\n",
    "    def __init__(self):\n",
    "        self.processor = Processor(\"Intel i7\")\n",
    "        self.memory = Memory(16)  # in GB\n",
    "        self.hard_drive = HardDrive(1)  # in TB\n",
    "\n",
    "    def describe(self):\n",
    "        print(f\"Computer with {self.processor.name} processor, {self.memory.size}GB RAM, and {self.hard_drive.capacity}TB storage.\")"
   ]
  },
  {
   "cell_type": "code",
   "execution_count": 19,
   "metadata": {},
   "outputs": [
    {
     "name": "stdout",
     "output_type": "stream",
     "text": [
      "Computer with Intel i7 processor, 16GB RAM, and 1TB storage.\n"
     ]
    }
   ],
   "source": [
    "# When a Computer instance is created, the Processor, Memory, and HardDrive instances are also created, and their lifecycle is tied to the Computer.\n",
    "my_computer = Computer()\n",
    "my_computer.describe()\n",
    "# Deleting 'my_computer' will also 'delete' its Processor, Memory, and HardDrive, demonstrating composition's strong whole-part relationship."
   ]
  },
  {
   "cell_type": "markdown",
   "metadata": {},
   "source": [
    "### <a id='toc3_3_'></a>[Additional Example: The Dog and Its Tail](#toc0_)\n"
   ]
  },
  {
   "cell_type": "markdown",
   "metadata": {},
   "source": [
    "Another example of composition can be seen in the relationship between a `Dog` and its `Tail`. A dog's tail is an integral part of the dog and cannot logically exist without the dog. This relationship encapsulates the essence of composition—strong ownership and shared lifecycles.\n"
   ]
  },
  {
   "cell_type": "code",
   "execution_count": 20,
   "metadata": {},
   "outputs": [],
   "source": [
    "class Tail:\n",
    "    def __init__(self, length):\n",
    "        self.length = length  # Length in cm\n",
    "\n",
    "    def wag(self):\n",
    "        print(\"The tail is wagging.\")"
   ]
  },
  {
   "cell_type": "code",
   "execution_count": 21,
   "metadata": {},
   "outputs": [],
   "source": [
    "class Dog:\n",
    "    def __init__(self, name):\n",
    "        self.name = name\n",
    "        self.tail = Tail(20)  # Assuming every dog has a tail of length 20 cm\n",
    "\n",
    "    def wag_tail(self):\n",
    "        print(f\"{self.name} is happy!\")\n",
    "        self.tail.wag()"
   ]
  },
  {
   "cell_type": "code",
   "execution_count": 22,
   "metadata": {},
   "outputs": [
    {
     "name": "stdout",
     "output_type": "stream",
     "text": [
      "Buddy is happy!\n",
      "The tail is wagging.\n"
     ]
    }
   ],
   "source": [
    "# When a Dog instance is created, a Tail instance is also created as an integral part of the Dog.\n",
    "buddy = Dog(\"Buddy\")\n",
    "buddy.wag_tail()\n",
    "# Here, 'buddy's tail is intrinsically linked to him, exemplifying composition's inseparable whole-part dynamic."
   ]
  },
  {
   "cell_type": "markdown",
   "metadata": {},
   "source": [
    "In both examples, the integral components—whether a `Processor`, `Memory`, `HardDrive` for a `Computer`, or a `Tail` for a `Dog`—are bound to their composite objects by creation and existence, clearly illustrating the principles and implications of composition in object-oriented design."
   ]
  },
  {
   "cell_type": "markdown",
   "metadata": {},
   "source": [
    "## <a id='toc4_'></a>[Inheritance: Building Hierarchies in OOP](#toc0_)"
   ]
  },
  {
   "cell_type": "markdown",
   "metadata": {},
   "source": [
    "<img src=\"./images/inheritance.png\" width=\"500\">"
   ]
  },
  {
   "cell_type": "markdown",
   "metadata": {},
   "source": [
    "Inheritance is a cornerstone concept in object-oriented programming (OOP) that enables new classes to derive properties and behaviors from existing classes. This mechanism fosters code reuse, simplifies maintenance, and allows for the hierarchical organization of classes, making it easier to create and manage complex systems.\n"
   ]
  },
  {
   "cell_type": "markdown",
   "metadata": {},
   "source": [
    "Inheritance models an \"is-a\" relationship between a base (or parent) class and one or more derived (or child) classes. The derived class inherits attributes and methods from the base class, meaning it automatically acquires the base class's public and protected properties and behaviors. This relationship allows the derived class to use and extend the functionalities defined by the base class.\n"
   ]
  },
  {
   "cell_type": "markdown",
   "metadata": {},
   "source": [
    "Types of inheritance and their uses include:\n",
    "1. **Single Inheritance:** Where a class inherits from only one parent class. This is straightforward and the most common use case in many programming languages, including Python.\n",
    "\n",
    "2. **Multiple Inheritance:** Where a class inherits from more than one parent class. This allows a class to combine multiple behaviors from different classes.\n",
    "\n",
    "3. **Multilevel Inheritance:** A form of inheritance where a class is derived from another derived class, forming a \"grandparent-parent-child\" relationship. This setup facilitates additional layers of abstraction and specificity.\n",
    "\n",
    "4. **Hierarchical Inheritance:** Occurs when multiple classes are derived from a single parent class, enabling different child classes to inherit common functionality from the parent while introducing their unique behaviors.\n"
   ]
  },
  {
   "cell_type": "markdown",
   "metadata": {},
   "source": [
    "<img src=\"./images/inheritance-types.png\" width=\"800\">"
   ]
  },
  {
   "cell_type": "markdown",
   "metadata": {},
   "source": [
    "### <a id='toc4_1_'></a>[Example: The Pet and Dog Hierarchical Relationship](#toc0_)\n"
   ]
  },
  {
   "cell_type": "markdown",
   "metadata": {},
   "source": [
    "Consider the hierarchical relationship between a `Pet` class and a `Dog` class, where `Dog` is a more specialized version of `Pet`.\n"
   ]
  },
  {
   "cell_type": "code",
   "execution_count": 23,
   "metadata": {},
   "outputs": [],
   "source": [
    "class Pet:\n",
    "    def __init__(self, name):\n",
    "        self.name = name\n",
    "\n",
    "    def show_affection(self):\n",
    "        print(f\"{self.name} shows affection.\")\n",
    "\n",
    "class Dog(Pet):  # Dog inherits from Pet\n",
    "    def __init__(self, name, breed):\n",
    "        super().__init__(name)  # Call the constructor of the base class\n",
    "        self.breed = breed\n",
    "\n",
    "    def bark(self):\n",
    "        print(f\"{self.name}, the {self.breed}, barks.\")"
   ]
  },
  {
   "cell_type": "code",
   "execution_count": 24,
   "metadata": {},
   "outputs": [
    {
     "name": "stdout",
     "output_type": "stream",
     "text": [
      "Buddy shows affection.\n"
     ]
    }
   ],
   "source": [
    "# Usage\n",
    "my_pet = Pet(\"Buddy\")\n",
    "my_pet.show_affection()"
   ]
  },
  {
   "cell_type": "code",
   "execution_count": 25,
   "metadata": {},
   "outputs": [],
   "source": [
    "my_dog = Dog(\"Max\", \"Golden Retriever\")"
   ]
  },
  {
   "cell_type": "code",
   "execution_count": 26,
   "metadata": {},
   "outputs": [
    {
     "name": "stdout",
     "output_type": "stream",
     "text": [
      "Max shows affection.\n"
     ]
    }
   ],
   "source": [
    "my_dog.show_affection()  # Inherited method"
   ]
  },
  {
   "cell_type": "code",
   "execution_count": 27,
   "metadata": {},
   "outputs": [
    {
     "name": "stdout",
     "output_type": "stream",
     "text": [
      "Max, the Golden Retriever, barks.\n"
     ]
    }
   ],
   "source": [
    "my_dog.bark()  # Dog-specific method"
   ]
  },
  {
   "cell_type": "markdown",
   "metadata": {},
   "source": [
    "In this example, `Dog` inherits from `Pet`, meaning that every `Dog` is a `Pet`, but it also introduces additional attributes and methods (`breed` and `bark`), showcasing specialization. \n"
   ]
  },
  {
   "cell_type": "markdown",
   "metadata": {},
   "source": [
    "### <a id='toc4_2_'></a>[Inheritance vs. Association: Clarifying the Distinctions](#toc0_)\n"
   ]
  },
  {
   "cell_type": "markdown",
   "metadata": {},
   "source": [
    "While inheritance represents an \"is-a\" relationship and focuses on what objects are (a hierarchical classification), association — including aggregation and composition — details how objects interact and relate, embodying \"has-a\" or \"uses-a\" relationships that define object collaboration and structure without creating a hierarchical classification.\n",
    "\n",
    "- **Inheritance** is about extending or specializing existing classes, creating a clear hierarchy (e.g., a `Dog` is a special type of `Pet`).\n",
    "- **Association** deals with the connections between objects, often across different classes, without implying a parent-child relationship (e.g., a `Doctor` uses a `Stethoscope`).\n"
   ]
  },
  {
   "cell_type": "markdown",
   "metadata": {},
   "source": [
    "Understanding when to use inheritance versus association (or its specific types, aggregation and composition) is crucial for designing cohesive, flexible, and maintainable software systems. Each relationship type serves different purposes in OOP and offers distinct benefits and considerations for structuring and organizing code."
   ]
  },
  {
   "cell_type": "markdown",
   "metadata": {},
   "source": [
    "## <a id='toc5_'></a>[Practical Applications of Relationship Types: When to Use Association, Aggregation, Composition, and Inheritance](#toc0_)"
   ]
  },
  {
   "cell_type": "markdown",
   "metadata": {},
   "source": [
    "Understanding when to use different types of relationships such as association, aggregation, composition, and inheritance is key to effective object-oriented design. These relationships help define how objects and classes interact, share data, and extend functionality. Below, we discuss practical applications and real-world scenarios that guide decision-making on when to use each type.\n"
   ]
  },
  {
   "cell_type": "markdown",
   "metadata": {},
   "source": [
    "### <a id='toc5_1_'></a>[When to Use Association](#toc0_)\n"
   ]
  },
  {
   "cell_type": "markdown",
   "metadata": {},
   "source": [
    "**Use association** when you need a flexible relationship between two or more classes without strong lifecycle dependency. This relationship is ideal for cases where objects need to interact with each other but maintain independence. \n",
    "\n",
    "- **Real-World Scenario:** Consider an e-commerce platform where a `Customer` can make `Purchase`. The `Customer` and `Purchase` have an association relationship because while customers make purchases, the existence of a purchase isn't tied to the specific customer beyond the transaction.\n"
   ]
  },
  {
   "cell_type": "markdown",
   "metadata": {},
   "source": [
    "### <a id='toc5_2_'></a>[When to Use Aggregation](#toc0_)\n"
   ]
  },
  {
   "cell_type": "markdown",
   "metadata": {},
   "source": [
    "**Use aggregation** for a “has-a” relationship with a slight degree of dependence, yet where components can exist independently from the whole. This suits scenarios depicting collections or situations where entities should remain distinct despite being part of a group.\n",
    "\n",
    "- **Real-World Scenario:** An airline’s `Fleet` and `Airplane` relationship is a classical example of aggregation. While an airline owns and operates many airplanes as part of its fleet, these airplanes exist independently and can be transferred to or operated by other airlines.\n"
   ]
  },
  {
   "cell_type": "markdown",
   "metadata": {},
   "source": [
    "### <a id='toc5_3_'></a>[When to Use Composition](#toc0_)\n"
   ]
  },
  {
   "cell_type": "markdown",
   "metadata": {},
   "source": [
    "**Use composition** for a stronger “has-a” relationship, where the whole and the parts share a lifecycle. This fits scenarios where components don’t meaningfully exist on their own without the aggregate entity.\n",
    "\n",
    "- **Real-World Scenario:** A `House` made up of `Rooms` illustrates composition perfectly. Rooms (parts) do not exist separately from the house (whole); if the house is demolished, the rooms cease to exist as well.\n"
   ]
  },
  {
   "cell_type": "markdown",
   "metadata": {},
   "source": [
    "### <a id='toc5_4_'></a>[When to Use Inheritance](#toc0_)\n"
   ]
  },
  {
   "cell_type": "markdown",
   "metadata": {},
   "source": [
    "**Use inheritance** to establish an “is-a” relationship, implying a hierarchy between a more general class and a more specialized one. It’s beneficial for extending functionality, promoting code reuse, and implementing polymorphism.\n",
    "\n",
    "- **Real-World Scenario:** A university system might have a `Person` class from which `Student` and `Instructor` classes are derived. Both students and instructors are persons, sharing some characteristics (e.g., name, ID), while also possessing specific attributes and behaviors.\n"
   ]
  },
  {
   "cell_type": "markdown",
   "metadata": {},
   "source": [
    "### <a id='toc5_5_'></a>[Decision Making](#toc0_)\n"
   ]
  },
  {
   "cell_type": "markdown",
   "metadata": {},
   "source": [
    "The choice between these relationship types depends greatly on the particular design scenario and the desired system flexibility, scalability, and maintainability.\n",
    "\n",
    "1. **Flexibility:** Association and aggregation offer more flexibility as they allow objects to remain independent from one another, facilitating easier changes and extensions.\n",
    "\n",
    "2. **Control and Lifecycle Management:** Composition gives you more control over the parts since their lifecycle is tightly coupled with the whole. This is useful for strictly bounded entities but less flexible.\n",
    "\n",
    "3. **Code Reuse and Specialization:** Inheritance shines in scenarios requiring code reuse and specialization. It allows for defining a common interface for related objects while also customizing or extending their behavior.\n"
   ]
  },
  {
   "cell_type": "markdown",
   "metadata": {},
   "source": [
    "In essence, the application of these relationships should be dictated by the nature and requirements of the objects you are modeling. Scaling these relationships correctly significantly enhances the design's clarity, efficacy, and adaptability, ensuring a solid foundation for your software architecture."
   ]
  },
  {
   "cell_type": "markdown",
   "metadata": {},
   "source": [
    "## <a id='toc6_'></a>[Designing with Object Relationships](#toc0_)\n"
   ]
  },
  {
   "cell_type": "markdown",
   "metadata": {},
   "source": [
    "Designing effective relationships between objects is a cornerstone of object-oriented programming (OOP) that ensures your software is flexible, maintainable, and scalable. Understanding how to correctly implement association, aggregation, composition, and inheritance is critical. Below are best practices for implementing OOP relationships along with advice on avoiding common pitfalls.\n"
   ]
  },
  {
   "cell_type": "markdown",
   "metadata": {},
   "source": [
    "### <a id='toc6_1_'></a>[Best Practices for Implementing OOP Relationships](#toc0_)\n",
    "\n",
    "1. **Clearly Define Relationship Needs:** Before deciding on a relationship type, understand the nature of the interaction between objects. Distinguish between \"uses-a,\" \"has-a,\" and \"is-a\" relationships to choose between association, aggregation/composition, and inheritance, respectively.\n",
    "\n",
    "2. **Prefer Composition Over Inheritance:** When possible, use composition to build classes from reusable components rather than relying on inheritance. This encourages encapsulation, leads to more flexible designs, and reduces tight coupling.\n",
    "\n",
    "3. **Use Aggregation for Shared Lifecycles:** When you need a whole-part relationship without strictly binding the lifecycle of the parts to the whole, opt for aggregation. This provides clarity and aligns with real-world relationships where parts can exist independently from the whole.\n",
    "\n",
    "4. **Implement Inheritance for True Hierarchical Relationships:** Employ inheritance for cases where a clear \"is-a\" relationship exists, ensuring that subclasses genuinely specialize the superclass. Leverage polymorphism to interchange objects of related classes seamlessly.\n",
    "\n",
    "5. **Encapsulate Properly:** Ensure that objects encapsulate their data well and expose only necessary methods to other objects. Proper encapsulation hides complexity and keeps relationships clear and manageable.\n",
    "\n",
    "6. **Maintain Low Coupling:** Design systems where objects are as independent as possible. This allows changes to one part of the system with minimal impact on others, fostering easier maintenance and scalability.\n"
   ]
  },
  {
   "cell_type": "markdown",
   "metadata": {},
   "source": [
    "### <a id='toc6_2_'></a>[Avoiding Common Pitfalls in Designing Relationships](#toc0_)\n",
    "\n",
    "1. **Overusing Inheritance:** A common mistake is using inheritance where composition would suffice or be more appropriate. This can lead to fragile designs where changes to the base class cascade unnecessarily into subclasses.\n",
    "\n",
    "2. **Misinterpreting Aggregation and Composition:** Failing to distinguish between when a part should exist independently from the whole (aggregation) versus when it shouldn’t (composition) tends to complicate the object lifecycle and dependencies.\n",
    "\n",
    "3. **Neglecting Interface Segregation:** Avoid implementing large, monolithic interfaces that subclasses must inherit, even if they don't use all the methods. Favor smaller, more specific interfaces that classes can implement as needed.\n",
    "\n",
    "4. **Circular Dependencies:** Be cautious of creating circular dependencies where two classes are dependent on each other. This complicates the system and makes it harder to understand and maintain.\n",
    "\n",
    "5. **Ignoring Design Principles:** Principles like SOLID (especially the Liskov Substitution Principle for inheritance) guide effective OOP design. Ignoring these principles can lead to designs that are hard to extend or maintain.\n",
    "\n",
    "6. **Excessive Use of Public Attributes and Methods:** This can lead to a higher degree of coupling between classes, making the system more rigid and less encapsulated. Aim for minimal necessary interaction exposure.\n"
   ]
  },
  {
   "cell_type": "markdown",
   "metadata": {},
   "source": [
    "By following these best practices and avoiding common pitfalls, you can effectively harness the power of object relationships in OOP to create robust, flexible, and maintainable software. Remember, the goal of using these relationships is not just to model real-world scenarios accurately but also to simplify development and future maintenance efforts."
   ]
  },
  {
   "cell_type": "markdown",
   "metadata": {},
   "source": [
    "<img src=\"../images/exercise-banner.gif\" width=\"800\">"
   ]
  },
  {
   "cell_type": "markdown",
   "metadata": {},
   "source": [
    "## <a id='toc7_'></a>[Exercise: Implementing Object Relationships in a Zoological Simulation](#toc0_)"
   ]
  },
  {
   "cell_type": "markdown",
   "metadata": {},
   "source": [
    "In this exercise, you will apply the concepts of association, aggregation, composition, and inheritance to design and implement a simple zoological simulation. Your simulation will include various entities like animals, habitats, and zookeepers, each with their own relationships and behaviors.\n"
   ]
  },
  {
   "cell_type": "markdown",
   "metadata": {},
   "source": [
    "**Scenario:**\n",
    "You are tasked with developing a small system for a zoo that simulates the relationships between different entities in the zoo. Here are the elements you'll need to work with:\n",
    "\n",
    "- **Zookeepers** who care for the animals.\n",
    "- **Animals** of different species.\n",
    "- **Habitats** where animals live.\n",
    "- **Tools** that zookeepers use to care for animals.\n"
   ]
  },
  {
   "cell_type": "markdown",
   "metadata": {},
   "source": [
    "**Tasks:**\n",
    "\n",
    "1. **Association: Zookeeper and Tools**\n",
    "   - Model the relationship between a Zookeeper and their Tools (e.g., broom, food bucket). \n",
    "   - Demonstrate how a zookeeper can use different tools, but tools can be used by different zookeepers as well.\n",
    "\n",
    "2. **Aggregation: Habitat and Animals**\n",
    "   - Implement the \"Whole-Part\" relationship between a Habitat and the Animals that live in it.\n",
    "   - Show how animals can be moved between habitats without being tightly coupled to a specific habitat.\n",
    "\n",
    "3. **Composition: Zoo and Habitats**\n",
    "   - Design the strong \"Whole-Part\" relationship between the Zoo and its Habitats.\n",
    "   - Ensure that when a Zoo is shut down, all associated Habitat objects are also removed.\n",
    "\n",
    "4. **Inheritance: Species and Animals**\n",
    "   - Use inheritance to model the relationship between different species (e.g., Lion, Penguin) and the base class Animal.\n",
    "   - Implement common behaviors in the Animal class and specific behaviors in the derived species classes.\n",
    "\n",
    "5. **Practical Application: Decision Making**\n",
    "   - Given a new feature \"Veterinary Care Records,\" decide whether it should be implemented using association, aggregation, composition, or inheritance with respect to the Animals or Zookeeper class.\n",
    "   - Justify your decision.\n",
    "\n",
    "6. **Designing with Object Relationships**\n",
    "   - Discuss the best practices for implementing the relationships between the various entities in your zoo simulation.\n",
    "   - Highlight potential pitfalls to avoid in the design of your simulation.\n"
   ]
  },
  {
   "cell_type": "markdown",
   "metadata": {},
   "source": [
    "**Deliverables:**\n",
    "\n",
    "- Implement classes with methods in your favorite programming language or pseudocode.\n",
    "- Code snippets that demonstrate each OOP relationship, with clear comments explaining the relationships between objects.\n",
    "- A brief explanation in comments for the decision made in Task 5 about implementing \"Veterinary Care Records.\"\n",
    "- Comments discussing the best practices for implementing OOP relationships and potential pitfalls to avoid.\n"
   ]
  },
  {
   "cell_type": "markdown",
   "metadata": {},
   "source": [
    "Through this exercise, you will practice designing a system using OOP principles and making decisions about the types of relationships to implement. This will help you understand the importance of choosing the right relationship for the right scenario, leading to a more robust and maintainable codebase."
   ]
  },
  {
   "cell_type": "markdown",
   "metadata": {},
   "source": [
    "### <a id='toc7_1_'></a>[Solution](#toc0_)"
   ]
  },
  {
   "cell_type": "markdown",
   "metadata": {},
   "source": [
    "Let's create a Python solution for the Zoological Park Management System, illustrating the use of association, aggregation, composition, and inheritance."
   ]
  },
  {
   "cell_type": "code",
   "execution_count": 28,
   "metadata": {},
   "outputs": [
    {
     "name": "stdout",
     "output_type": "stream",
     "text": [
      "Jane is now \n",
      "Using the tool: broom\n",
      "Alex roars loudly!\n",
      "Marty swims gracefully.\n",
      "Leo the Lion has a care record for: Annual vaccination.\n"
     ]
    }
   ],
   "source": [
    "# Task 1: Association - Zookeeper and Tools\n",
    "class Tool:\n",
    "    def __init__(self, name):\n",
    "        self.name = name\n",
    "\n",
    "    def use(self):\n",
    "        print(f\"Using the tool: {self.name}\")\n",
    "\n",
    "class Zookeeper:\n",
    "    def __init__(self, name):\n",
    "        self.name = name\n",
    "\n",
    "    def use_tool(self, tool):\n",
    "        print(f\"{self.name} is now \")\n",
    "        tool.use()\n",
    "\n",
    "# Task 2: Aggregation - Habitat and Animals\n",
    "class Animal:\n",
    "    def __init__(self, name):\n",
    "        self.name = name\n",
    "\n",
    "class Habitat:\n",
    "    def __init__(self):\n",
    "        self.animals = []\n",
    "\n",
    "    def add_animal(self, animal):\n",
    "        self.animals.append(animal)\n",
    "\n",
    "    def remove_animal(self, animal):\n",
    "        self.animals.remove(animal)\n",
    "\n",
    "# Task 3: Composition - Zoo and Habitats\n",
    "class Zoo:\n",
    "    def __init__(self):\n",
    "        self.habitats = []\n",
    "\n",
    "    def add_habitat(self, habitat):\n",
    "        self.habitats.append(habitat)\n",
    "\n",
    "    def __del__(self):\n",
    "        print(\"Closing the zoo and removing all habitats.\")\n",
    "        del self.habitats\n",
    "\n",
    "# Task 4: Inheritance - Species and Animals\n",
    "class Lion(Animal):\n",
    "    def roar(self):\n",
    "        print(f\"{self.name} roars loudly!\")\n",
    "\n",
    "class Penguin(Animal):\n",
    "    def swim(self):\n",
    "        print(f\"{self.name} swims gracefully.\")\n",
    "\n",
    "# Task 5: Practical Application - Decision Making\n",
    "# Assuming a veterinary care record is specific to each animal and doesn't make sense without an animal\n",
    "# Association is chosen because a care record should not solely exist within the scope of an animal or a zookeeper\n",
    "class VeterinaryCareRecord:\n",
    "    def __init__(self, animal, description):\n",
    "        self.animal = animal\n",
    "        self.description = description\n",
    "\n",
    "# Demonstration of the code\n",
    "# Task 1\n",
    "broom = Tool(\"broom\")\n",
    "zookeeper_jane = Zookeeper(\"Jane\")\n",
    "zookeeper_jane.use_tool(broom)\n",
    "\n",
    "# Task 2\n",
    "lion_habitat = Habitat()\n",
    "zebra_habitat = Habitat()\n",
    "leo = Animal(\"Leo the Lion\")\n",
    "lion_habitat.add_animal(leo)\n",
    "# Later, Leo is moved to a different habitat\n",
    "lion_habitat.remove_animal(leo)\n",
    "zebra_habitat.add_animal(leo)\n",
    "\n",
    "# Task 4\n",
    "alex = Lion(\"Alex\")\n",
    "marty = Penguin(\"Marty\")\n",
    "alex.roar()\n",
    "marty.swim()\n",
    "\n",
    "# Task 5\n",
    "leo_care_record = VeterinaryCareRecord(leo, \"Annual vaccination.\")\n",
    "print(f\"{leo_care_record.animal.name} has a care record for: {leo_care_record.description}\")\n",
    "\n",
    "# Comments for Task 6 are included inline with the code above."
   ]
  },
  {
   "cell_type": "markdown",
   "metadata": {},
   "source": [
    "In this code, we have implemented a simple version of the system described in the exercise. The use of comments is essential for explaining the relationships and decisions made, which is particularly important given the instructional context of the exercise.\n"
   ]
  },
  {
   "cell_type": "markdown",
   "metadata": {},
   "source": [
    "Each task is demonstrated with a snippet of code that can be run to see the relationships in action. The `VeterinaryCareRecord` class at the end exemplifies the decision-making process for the practical application of association, as care records are related to but independent of both the `Animal` and `Zookeeper` classes."
   ]
  }
 ],
 "metadata": {
  "kernelspec": {
   "display_name": "py310",
   "language": "python",
   "name": "python3"
  },
  "language_info": {
   "codemirror_mode": {
    "name": "ipython",
    "version": 3
   },
   "file_extension": ".py",
   "mimetype": "text/x-python",
   "name": "python",
   "nbconvert_exporter": "python",
   "pygments_lexer": "ipython3",
   "version": "3.10.12"
  }
 },
 "nbformat": 4,
 "nbformat_minor": 2
}
