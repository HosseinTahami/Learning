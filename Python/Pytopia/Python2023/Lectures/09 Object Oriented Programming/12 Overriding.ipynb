{
 "cells": [
  {
   "cell_type": "markdown",
   "metadata": {},
   "source": [
    "<img src=\"./images/banner.png\" width=\"800\">"
   ]
  },
  {
   "cell_type": "markdown",
   "metadata": {},
   "source": [
    "# Method Overriding"
   ]
  },
  {
   "cell_type": "markdown",
   "metadata": {},
   "source": [
    "Before diving into method overriding, let’s quickly refresh two fundamental object-oriented programming (OOP) concepts: inheritance and polymorphism. \n"
   ]
  },
  {
   "cell_type": "markdown",
   "metadata": {},
   "source": [
    "**Inheritance** is the mechanism by which a class (referred to as the subclass or child class) can inherit properties and methods from another class (known as the superclass or parent class). This relationship allows subclasses to reuse, extend, or modify the behavior defined in superclasses.\n"
   ]
  },
  {
   "cell_type": "markdown",
   "metadata": {},
   "source": [
    "**Polymorphism** is a concept that stems from the Greek words for \"many shapes.\" It allows objects of different classes to be treated as objects of a common superclass. The most direct way of achieving polymorphism is through method overriding, where a method in a subclass operates in a different manner from the same method in its superclass.\n"
   ]
  },
  {
   "cell_type": "markdown",
   "metadata": {},
   "source": [
    "**Method overriding** is an OOP feature that allows a subclass to provide a specific implementation of a method that is already defined in its superclass. This capability is crucial for achieving runtime polymorphism. The overriding method in the subclass must have the same name as the method in the superclass it overrides.\n"
   ]
  },
  {
   "cell_type": "code",
   "execution_count": 1,
   "metadata": {},
   "outputs": [],
   "source": [
    "class Animal:\n",
    "    def speak(self):\n",
    "        print(\"This animal speaks in a generic way.\")\n",
    "\n",
    "class Dog(Animal):\n",
    "    def speak(self):\n",
    "        print(\"Bark! Bark!\")"
   ]
  },
  {
   "cell_type": "markdown",
   "metadata": {},
   "source": [
    "In the example above, the `Dog` class overrides the behavior of the `speak` method defined in the `Animal` class. When you call the `speak` method on an object of the `Dog` class, it exhibits the behavior defined in `Dog`, not `Animal`.\n"
   ]
  },
  {
   "cell_type": "markdown",
   "metadata": {},
   "source": [
    "Method overriding is foundational to OOP for several reasons, focusing predominantly on the customization and extension of inherited behavior:\n",
    "\n",
    "1. **Customization**: It permits subclasses to define how they should behave in a manner specific to them, even when a general implementation exists in the superclass. For instance, while a generic `draw` method in a `Shape` class might suffice for some shapes, a `Circle` class can override `draw` to implement drawing logic specific to circles.\n",
    "\n",
    "2. **Extension**: Through overriding, subclasses can enhance or extend the functionality of inherited methods. This is often done by invoking the superclass's version of the method using `super().method_name()` within the overriding method, then adding any additional behavior desired.\n",
    "\n",
    "3. **Runtime Polymorphism**: Overriding enables runtime polymorphism, where the method to be executed is determined at runtime based on the object's class. This capability is pivotal in many design patterns and allows for more flexible and maintainable code.\n"
   ]
  },
  {
   "cell_type": "markdown",
   "metadata": {},
   "source": [
    "In summary, method overriding is a powerful feature of OOP that enables more dynamic and versatile software design. By allowing for the customization and extension of inherited behaviors, overriding helps keep code DRY (Don't Repeat Yourself) while also providing the flexibility to define class-specific behaviors where necessary."
   ]
  },
  {
   "cell_type": "markdown",
   "metadata": {},
   "source": [
    "**Table of contents**<a id='toc0_'></a>    \n",
    "- [Basic Example of Method Overriding](#toc1_)    \n",
    "- [The `super()` Function](#toc2_)    \n",
    "  - [Example 1: Extending Functionality with `super()`](#toc2_1_)    \n",
    "  - [Example 2: Using `super()` in the `__init__` Method](#toc2_2_)    \n",
    "- [Overriding Special Methods](#toc3_)    \n",
    "  - [Overriding `__str__` for Custom String Representation](#toc3_1_)    \n",
    "  - [Overriding `__repr__` for Unambiguous Representations](#toc3_2_)    \n",
    "  - [Overriding `__eq__` for Custom Equality Checking](#toc3_3_)    \n",
    "  - [Customizing Behavior of Built-in Operations and Functions](#toc3_4_)    \n",
    "- [Method Overriding Best Practices](#toc4_)    \n",
    "  - [When to Use Method Overriding](#toc4_1_)    \n",
    "    - [Best Practices](#toc4_1_1_)    \n",
    "  - [Common Pitfalls](#toc4_2_)    \n",
    "\n",
    "<!-- vscode-jupyter-toc-config\n",
    "\tnumbering=false\n",
    "\tanchor=true\n",
    "\tflat=false\n",
    "\tminLevel=2\n",
    "\tmaxLevel=6\n",
    "\t/vscode-jupyter-toc-config -->\n",
    "<!-- THIS CELL WILL BE REPLACED ON TOC UPDATE. DO NOT WRITE YOUR TEXT IN THIS CELL -->"
   ]
  },
  {
   "cell_type": "markdown",
   "metadata": {},
   "source": [
    "## <a id='toc1_'></a>[Basic Example of Method Overriding](#toc0_)"
   ]
  },
  {
   "cell_type": "markdown",
   "metadata": {},
   "source": [
    "To illustrate the concept of method overriding in a new and refreshing context, let's consider a scenario involving a `Painter` base class and a `WatercolorPainter` subclass. In this example, both classes will have a `paint` method. The `Paint` method in the `Painter` class provides a general description of the painting process, while the `WatercolorPainter` subclass will override this method to offer a specific technique related to watercolor painting.\n"
   ]
  },
  {
   "cell_type": "markdown",
   "metadata": {},
   "source": [
    "**The `Painter` Base Class:**\n"
   ]
  },
  {
   "cell_type": "code",
   "execution_count": 2,
   "metadata": {},
   "outputs": [],
   "source": [
    "class Painter:\n",
    "    def paint(self):\n",
    "        print(\"Starts painting on a canvas with available tools.\")"
   ]
  },
  {
   "cell_type": "markdown",
   "metadata": {},
   "source": [
    "**The `WatercolorPainter` Subclass:**"
   ]
  },
  {
   "cell_type": "code",
   "execution_count": 3,
   "metadata": {},
   "outputs": [],
   "source": [
    "class WatercolorPainter(Painter):\n",
    "    def paint(self):\n",
    "        print(\"Prepares watercolors and uses wet-on-wet technique on watercolor paper.\")"
   ]
  },
  {
   "cell_type": "markdown",
   "metadata": {},
   "source": [
    "In this setup, the `Painter` class could represent any kind of painter, providing a general approach to painting. However, the `WatercolorPainter` class, as a subclass, focuses specifically on techniques peculiar to watercolor painting, thus overriding the `paint` method.\n"
   ]
  },
  {
   "cell_type": "markdown",
   "metadata": {},
   "source": [
    "Now, let's see how these classes work in practice with some simple demonstration code:"
   ]
  },
  {
   "cell_type": "code",
   "execution_count": 4,
   "metadata": {},
   "outputs": [
    {
     "name": "stdout",
     "output_type": "stream",
     "text": [
      "Starts painting on a canvas with available tools.\n"
     ]
    }
   ],
   "source": [
    "generic_painter = Painter()\n",
    "generic_painter.paint()"
   ]
  },
  {
   "cell_type": "code",
   "execution_count": 5,
   "metadata": {},
   "outputs": [
    {
     "name": "stdout",
     "output_type": "stream",
     "text": [
      "Prepares watercolors and uses wet-on-wet technique on watercolor paper.\n"
     ]
    }
   ],
   "source": [
    "watercolor_artist = WatercolorPainter()\n",
    "watercolor_artist.paint()"
   ]
  },
  {
   "cell_type": "markdown",
   "metadata": {},
   "source": [
    "When you create an instance of `Painter` and call the `paint` method, you get a general description of painting. However, when you create an instance of `WatercolorPainter` and call the `paint` method on it, you see a description specific to watercolor painting, demonstrating how `WatercolorPainter` has overridden the `paint` method.\n"
   ]
  },
  {
   "cell_type": "markdown",
   "metadata": {},
   "source": [
    "**How Python determines which method to call?**\n",
    "\n",
    "Python determines which `paint` method to execute based on the object’s class. When you call a method on an object, Python looks up the method in the object’s class. If it finds the method, Python executes it. If the method is not found in the class, Python looks up the method in the superclass, then its superclass, and so on up the method resolution order until it finds the method or raises an AttributeError if the method cannot be found.\n"
   ]
  },
  {
   "cell_type": "markdown",
   "metadata": {},
   "source": [
    "This dynamic method resolution is crucial for implementing polymorphism in Python. In our example, because the `WatercolorPainter` class has its implementation of `paint`, calling `paint` on an instance of `WatercolorPainter` invokes the overriding method defined in `WatercolorPainter` rather than the one in `Painter`.\n"
   ]
  },
  {
   "cell_type": "markdown",
   "metadata": {},
   "source": [
    "This example not only demonstrates the mechanics of method overriding but also showcases Python's flexible and dynamic method resolution process that supports polymorphism and allows for extendable and customizable object behavior."
   ]
  },
  {
   "cell_type": "markdown",
   "metadata": {},
   "source": [
    "## <a id='toc2_'></a>[The `super()` Function](#toc0_)"
   ]
  },
  {
   "cell_type": "markdown",
   "metadata": {},
   "source": [
    "In the context of object-oriented programming (OOP) in Python, the `super()` function is essential, particularly when it comes to method overriding. It allows subclasses to access methods from their superclass, which is incredibly useful for both extending existing methods' functionality and for initializing subclass properties using the superclass's `__init__` method.\n"
   ]
  },
  {
   "cell_type": "markdown",
   "metadata": {},
   "source": [
    "The `super()` function returns a temporary object of the superclass, enabling you to call its methods. This is especially useful in method overriding: you might want to enhance the behavior of a method from the superclass without discarding its original functionality. `super()` lets you call the overridden method to execute its base behavior and then add any subclass-specific behavior.\n"
   ]
  },
  {
   "cell_type": "markdown",
   "metadata": {},
   "source": [
    "`super()` helps to avoid the complete redefinition of a method in a subclass, thereby preventing code duplication from the superclass method, enhancing maintainability, and reducing the risk of bugs. It's a cornerstone of promoting code reuse in an inheritance hierarchy.\n"
   ]
  },
  {
   "cell_type": "markdown",
   "metadata": {},
   "source": [
    "### <a id='toc2_1_'></a>[Example 1: Extending Functionality with `super()`](#toc0_)\n"
   ]
  },
  {
   "cell_type": "markdown",
   "metadata": {},
   "source": [
    "Consider we have an `Employee` class with a `work` method. We aim to override this method in a `SoftwareEngineer` subclass to add specific tasks, while also retaining the general workflow defined in the superclass.\n"
   ]
  },
  {
   "cell_type": "markdown",
   "metadata": {},
   "source": [
    "**The `Employee` Superclass:**\n"
   ]
  },
  {
   "cell_type": "code",
   "execution_count": 6,
   "metadata": {},
   "outputs": [],
   "source": [
    "class Employee:\n",
    "    def work(self):\n",
    "        print(\"Completing tasks assigned by the manager.\")"
   ]
  },
  {
   "cell_type": "markdown",
   "metadata": {},
   "source": [
    "**The `SoftwareEngineer` Subclass Using `super()`:**\n"
   ]
  },
  {
   "cell_type": "code",
   "execution_count": 7,
   "metadata": {},
   "outputs": [],
   "source": [
    "class SoftwareEngineer(Employee):\n",
    "    def work(self):\n",
    "        super().work()  # Call the work method from Employee\n",
    "        print(\"Writing code and fixing bugs.\")  # Additional behavior for SoftwareEngineer"
   ]
  },
  {
   "cell_type": "markdown",
   "metadata": {},
   "source": [
    "**Demonstration:**\n"
   ]
  },
  {
   "cell_type": "code",
   "execution_count": 8,
   "metadata": {},
   "outputs": [
    {
     "name": "stdout",
     "output_type": "stream",
     "text": [
      "Completing tasks assigned by the manager.\n",
      "Writing code and fixing bugs.\n"
     ]
    }
   ],
   "source": [
    "jane = SoftwareEngineer()\n",
    "jane.work()"
   ]
  },
  {
   "cell_type": "markdown",
   "metadata": {},
   "source": [
    "Here, through `super().work()`, the `SoftwareEngineer` subclass calls the `work` method from the `Employee` superclass to maintain its original behavior, then adds specific actions relevant to software engineering.\n"
   ]
  },
  {
   "cell_type": "markdown",
   "metadata": {},
   "source": [
    "### <a id='toc2_2_'></a>[Example 2: Using `super()` in the `__init__` Method](#toc0_)\n"
   ]
  },
  {
   "cell_type": "markdown",
   "metadata": {},
   "source": [
    "Beyond method overriding, `super()` is also highly useful in initializing subclasses that extend properties of their superclass. Let's illustrate this with a `Person` superclass and a `Student` subclass that introduces additional properties.\n"
   ]
  },
  {
   "cell_type": "markdown",
   "metadata": {},
   "source": [
    "**The `Person` Superclass:**\n"
   ]
  },
  {
   "cell_type": "code",
   "execution_count": 9,
   "metadata": {},
   "outputs": [],
   "source": [
    "class Person:\n",
    "    def __init__(self, name, age):\n",
    "        self.name = name\n",
    "        self.age = age"
   ]
  },
  {
   "cell_type": "markdown",
   "metadata": {},
   "source": [
    "**The `Student` Subclass Using `super()` in `__init__`:**\n"
   ]
  },
  {
   "cell_type": "code",
   "execution_count": 10,
   "metadata": {},
   "outputs": [],
   "source": [
    "class Student(Person):\n",
    "    def __init__(self, name, age, student_id):\n",
    "        super().__init__(name, age)  # Initialize properties from the Person class\n",
    "        self.student_id = student_id  # Additional property for Student"
   ]
  },
  {
   "cell_type": "markdown",
   "metadata": {},
   "source": [
    "**Demonstration:**\n"
   ]
  },
  {
   "cell_type": "code",
   "execution_count": 11,
   "metadata": {},
   "outputs": [
    {
     "data": {
      "text/plain": [
       "'Alice, 20, S12345'"
      ]
     },
     "execution_count": 11,
     "metadata": {},
     "output_type": "execute_result"
    }
   ],
   "source": [
    "alice = Student(\"Alice\", 20, \"S12345\")\n",
    "f\"{alice.name}, {alice.age}, {alice.student_id}\""
   ]
  },
  {
   "cell_type": "markdown",
   "metadata": {},
   "source": [
    "In this example, `super().__init__(name, age)` is used in the `Student`'s `__init__` method to call the `Person` superclass's `__init__`, ensuring that `name` and `age` are initialized according to the superclass's method. The `Student` class then introduces an additional property, `student_id`, specific to the `Student` subclass.\n"
   ]
  },
  {
   "cell_type": "markdown",
   "metadata": {},
   "source": [
    "By using `super()`, Python allows for an elegant and efficient way to extend or customize the behavior of superclass methods and to ensure proper initialization of subclass instances, fostering code reuse and maintainability within class hierarchies."
   ]
  },
  {
   "cell_type": "markdown",
   "metadata": {},
   "source": [
    "## <a id='toc3_'></a>[Overriding Special Methods](#toc0_)"
   ]
  },
  {
   "cell_type": "markdown",
   "metadata": {},
   "source": [
    "In Python, special (or \"magic\") methods are predefined methods with names bracketed by double underscores (`__`). These methods allow your custom classes to integrate seamlessly with built-in Python operations and functionality, such as arithmetic operations (`__add__`, `__mul__`), representation methods (`__str__`, `__repr__`), and comparison operations (`__eq__`, `__lt__`). By defining or overriding these special methods in your own classes, you create objects that behave like standard Python data types, enhancing both the intuitiveness and the flexibility of your code.\n"
   ]
  },
  {
   "cell_type": "markdown",
   "metadata": {},
   "source": [
    "Python's special methods enable user-defined objects to customize and extend built-in behaviors and operations. For example, by implementing the `__str__` and `__repr__` methods, you determine how your instances are represented as strings, which is handy for printing objects or debugging.\n"
   ]
  },
  {
   "cell_type": "markdown",
   "metadata": {},
   "source": [
    "### <a id='toc3_1_'></a>[Overriding `__str__` for Custom String Representation](#toc0_)\n"
   ]
  },
  {
   "cell_type": "markdown",
   "metadata": {},
   "source": [
    "Overriding the `__str__` method provides a way to define a meaningful string representation of class instances. This is particularly helpful for enhancing the readability of your objects and is often used to produce output that is friendly to end users.\n"
   ]
  },
  {
   "cell_type": "code",
   "execution_count": 12,
   "metadata": {},
   "outputs": [],
   "source": [
    "class Book:\n",
    "    def __init__(self, title, author):\n",
    "        self.title = title\n",
    "        self.author = author\n",
    "\n",
    "    def __str__(self):\n",
    "        return f\"'{self.title}' by {self.author}\""
   ]
  },
  {
   "cell_type": "code",
   "execution_count": 13,
   "metadata": {},
   "outputs": [],
   "source": [
    "# Creating an instance of Book\n",
    "book = Book(\"The Catcher in the Rye\", \"J.D. Salinger\")"
   ]
  },
  {
   "cell_type": "code",
   "execution_count": 15,
   "metadata": {},
   "outputs": [
    {
     "name": "stdout",
     "output_type": "stream",
     "text": [
      "'The Catcher in the Rye' by J.D. Salinger\n"
     ]
    }
   ],
   "source": [
    "# Printing the book\n",
    "print(book)"
   ]
  },
  {
   "cell_type": "markdown",
   "metadata": {},
   "source": [
    "### <a id='toc3_2_'></a>[Overriding `__repr__` for Unambiguous Representations](#toc0_)\n"
   ]
  },
  {
   "cell_type": "markdown",
   "metadata": {},
   "source": [
    "While `__str__` is aimed at providing readable, user-friendly representations of objects, `__repr__` is intended to produce unambiguous representations that, when possible, can be used to recreate the object. Overriding `__repr__` is especially useful for debugging and logging purposes, ensuring that developers have a precise way to understand the state of an object.\n"
   ]
  },
  {
   "cell_type": "code",
   "execution_count": 16,
   "metadata": {},
   "outputs": [],
   "source": [
    "class Book:\n",
    "    def __init__(self, title, author):\n",
    "        self.title = title\n",
    "        self.author = author\n",
    "\n",
    "    def __repr__(self):\n",
    "        return f\"Book({self.title!r}, {self.author!r})\""
   ]
  },
  {
   "cell_type": "code",
   "execution_count": 17,
   "metadata": {},
   "outputs": [],
   "source": [
    "# Creating an instance of Book\n",
    "book = Book(\"The Catcher in the Rye\", \"J.D. Salinger\")"
   ]
  },
  {
   "cell_type": "code",
   "execution_count": 18,
   "metadata": {},
   "outputs": [
    {
     "name": "stdout",
     "output_type": "stream",
     "text": [
      "Book('The Catcher in the Rye', 'J.D. Salinger')\n"
     ]
    }
   ],
   "source": [
    "# Using the representation of a book\n",
    "print(repr(book))  # Output: Book('The Catcher in the Rye', 'J.D. Salinger')"
   ]
  },
  {
   "cell_type": "code",
   "execution_count": 19,
   "metadata": {},
   "outputs": [
    {
     "data": {
      "text/plain": [
       "Book('The Catcher in the Rye', 'J.D. Salinger')"
      ]
     },
     "execution_count": 19,
     "metadata": {},
     "output_type": "execute_result"
    }
   ],
   "source": [
    "# Executing the variable in a notebook cell displays the __repr__ representation; no need to call print(repr(book)).\n",
    "book"
   ]
  },
  {
   "cell_type": "markdown",
   "metadata": {},
   "source": [
    "### <a id='toc3_3_'></a>[Overriding `__eq__` for Custom Equality Checking](#toc0_)\n"
   ]
  },
  {
   "cell_type": "markdown",
   "metadata": {},
   "source": [
    "Defining custom equality logic with `__eq__` allows you to specify how instances of your class are compared using the equality operator (`==`). This method empowers developers to implement meaningful comparisons between objects based on their attributes.\n"
   ]
  },
  {
   "cell_type": "code",
   "execution_count": 24,
   "metadata": {},
   "outputs": [],
   "source": [
    "class Point:\n",
    "    def __init__(self, x, y):\n",
    "        self.x = x\n",
    "        self.y = y\n",
    "\n",
    "    def __eq__(self, other):\n",
    "        return self.x == other.x and self.y == other.y"
   ]
  },
  {
   "cell_type": "code",
   "execution_count": 21,
   "metadata": {},
   "outputs": [],
   "source": [
    "# Creating instances of Point\n",
    "point1 = Point(1, 2)\n",
    "point2 = Point(1, 2)\n",
    "point3 = Point(3, 4)"
   ]
  },
  {
   "cell_type": "code",
   "execution_count": 22,
   "metadata": {},
   "outputs": [
    {
     "data": {
      "text/plain": [
       "True"
      ]
     },
     "execution_count": 22,
     "metadata": {},
     "output_type": "execute_result"
    }
   ],
   "source": [
    "# Comparing points\n",
    "point1 == point2"
   ]
  },
  {
   "cell_type": "code",
   "execution_count": 23,
   "metadata": {},
   "outputs": [
    {
     "data": {
      "text/plain": [
       "False"
      ]
     },
     "execution_count": 23,
     "metadata": {},
     "output_type": "execute_result"
    }
   ],
   "source": [
    "point1 == point3"
   ]
  },
  {
   "cell_type": "markdown",
   "metadata": {},
   "source": [
    "### <a id='toc3_4_'></a>[Customizing Behavior of Built-in Operations and Functions](#toc0_)\n"
   ]
  },
  {
   "cell_type": "markdown",
   "metadata": {},
   "source": [
    "By overriding these special methods, such as `__str__`, `__repr__`, and `__eq__`, you enable your classes to behave more like native Python objects, integrating fluently with Python's built-in features. This does not only make your classes more Pythonic but also allows them to interface effectively with Python's data model, including use in collections, iterations, and more.\n"
   ]
  },
  {
   "cell_type": "markdown",
   "metadata": {},
   "source": [
    "In summary, overriding special methods unlocks powerful capabilities for customizing the behavior of your classes, making them functionally rich and intuitive. Whether it's crafting specific logic for equality checks with `__eq__`, defining string representations with `__str__` and `__repr__`, or customizing other aspects of Python's built-in operations, special methods offer a versatile toolkit for enhancing your objects within the Python ecosystem. You will learn more about these special methods in the upcoming lectures."
   ]
  },
  {
   "cell_type": "markdown",
   "metadata": {},
   "source": [
    "## <a id='toc4_'></a>[Method Overriding Best Practices](#toc0_)"
   ]
  },
  {
   "cell_type": "markdown",
   "metadata": {},
   "source": [
    "Method overriding is a powerful feature of object-oriented programming that allows a subclass to provide a specific implementation of a method that is already defined in its superclass. It's crucial in enabling polymorphism, a core concept in OOP that allows objects of different classes to be treated as objects of a common superclass. While highly beneficial, method overriding should be used judiciously, following certain best practices to avoid common pitfalls.\n"
   ]
  },
  {
   "cell_type": "markdown",
   "metadata": {},
   "source": [
    "### <a id='toc4_1_'></a>[When to Use Method Overriding](#toc0_)\n"
   ]
  },
  {
   "cell_type": "markdown",
   "metadata": {},
   "source": [
    "1. **Customizing or Extending Behavior:** Use method overriding when you need the subclass to perform a different or an extended version of a task than what is defined in the superclass. This is particularly useful in situations where the superclass provides a generic method that the subclass needs to specialize based on its context.\n",
    "\n",
    "2. **Implementing Abstract Methods:** In cases where the superclass defines an abstract method (a method that is declared but not implemented), subclasses are required to override these methods to provide a concrete implementation. This pattern is common in frameworks and libraries, where abstract classes serve as templates for behavior.\n",
    "\n",
    "3. **Enhancing Functionality:** Method overriding can be used to enhance the functionality of existing methods in the superclass. This might include adding logging, modifying input parameters, or augmenting the method's result before returning it.\n"
   ]
  },
  {
   "cell_type": "markdown",
   "metadata": {},
   "source": [
    "#### <a id='toc4_1_1_'></a>[Best Practices](#toc0_)\n"
   ]
  },
  {
   "cell_type": "markdown",
   "metadata": {},
   "source": [
    "- **Maintain the Original Signature:** When overriding a method, ensure that the overriding method in the subclass has the same signature as the method in the superclass. This includes the method name, number, and types of parameters, and the return type.\n",
    "\n",
    "- **Use `super()` Appropriately:** It's often advisable to call the overridden method using `super()` to ensure that the base class functionality is preserved. This is particularly important when you're extending (rather than completely replacing) a method's behavior.\n"
   ]
  },
  {
   "cell_type": "markdown",
   "metadata": {},
   "source": [
    "### <a id='toc4_2_'></a>[Common Pitfalls](#toc0_)\n"
   ]
  },
  {
   "cell_type": "markdown",
   "metadata": {},
   "source": [
    "- **Forgetting to Invoke the Superclass Method:** A common mistake is forgetting to call the superclass method using `super()` when extending a method's behavior. Neglecting to do this can lead to incomplete or incorrect behavior if the superclass's method was meant to perform essential tasks.\n",
    "\n",
    "- **Overuse Leading to Tight Coupling:** Overriding too many methods or doing it unnecessarily can lead to tight coupling between the subclass and its superclass, making the code harder to maintain and refactor. Always consider if composition could serve as a better alternative to inheritance in these cases.\n"
   ]
  },
  {
   "cell_type": "markdown",
   "metadata": {},
   "source": [
    "Method overriding is indispensable for expressing variations in behavior across different classes in a hierarchy. By adhering to best practices and avoiding the common pitfalls, developers can leverage it to create flexible, maintainable, and robust object-oriented designs. Remember that with great power comes great responsibility: use method overriding thoughtfully to ensure that your code remains clean, understandable, and adaptable."
   ]
  }
 ],
 "metadata": {
  "kernelspec": {
   "display_name": "py310",
   "language": "python",
   "name": "python3"
  },
  "language_info": {
   "codemirror_mode": {
    "name": "ipython",
    "version": 3
   },
   "file_extension": ".py",
   "mimetype": "text/x-python",
   "name": "python",
   "nbconvert_exporter": "python",
   "pygments_lexer": "ipython3",
   "version": "3.10.13"
  }
 },
 "nbformat": 4,
 "nbformat_minor": 2
}
