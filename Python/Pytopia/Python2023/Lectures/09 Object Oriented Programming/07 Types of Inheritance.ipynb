{
 "cells": [
  {
   "cell_type": "markdown",
   "metadata": {},
   "source": [
    "<img src=\"./images/banner.png\" width=\"800\">"
   ]
  },
  {
   "cell_type": "markdown",
   "metadata": {},
   "source": [
    "# Types of Inheritance in Python"
   ]
  },
  {
   "cell_type": "markdown",
   "metadata": {},
   "source": [
    "Inheritance is a cornerstone of object-oriented programming in Python, allowing classes to inherit attributes and methods from one or more classes. This fundamental concept not only promotes code reuse but also enables a logical and hierarchical organization of code, making it easier to understand, maintain, and extend. Inheritance models the \"is a\" relationship between a child class and its parent class or classes, reflecting real-world relationships and facilitating the implementation of abstract behaviors into concrete actions.\n"
   ]
  },
  {
   "cell_type": "markdown",
   "metadata": {},
   "source": [
    "Python supports various types of inheritance, each catering to different programming needs and scenarios. Understanding these types and when to use them can significantly enhance your ability to design robust and scalable software systems. This lecture will guide you through the different types of inheritance supported by Python, providing insight into their functionality and application.\n"
   ]
  },
  {
   "cell_type": "markdown",
   "metadata": {},
   "source": [
    "<img src=\"./images/inheritance-types.png\" width=\"800\">"
   ]
  },
  {
   "cell_type": "markdown",
   "metadata": {},
   "source": [
    "**Single Inheritance:**\n",
    "\n",
    "Single inheritance occurs when a child class inherits from only one parent class. This is the simplest and most straightforward form of inheritance, facilitating a direct and clear inheritance path.\n"
   ]
  },
  {
   "cell_type": "markdown",
   "metadata": {},
   "source": [
    "**Multiple Inheritance:**\n",
    "\n",
    "Multiple inheritance is a powerful feature of Python that allows a class to inherit attributes and methods from more than one parent class. This type of inheritance enables the creation of complex classes that combine the functionalities of multiple base classes, but it also requires careful design to avoid conflicts and ambiguities.\n"
   ]
  },
  {
   "cell_type": "markdown",
   "metadata": {},
   "source": [
    "**Multilevel Inheritance:**\n",
    "\n",
    "Multilevel inheritance refers to a scenario where a class inherits from a parent class, which in turn inherits from another parent class, creating a chain of inheritance. This type enables the creation of a class hierarchy where functionalities are added or extended at each level.\n"
   ]
  },
  {
   "cell_type": "markdown",
   "metadata": {},
   "source": [
    "**Hierarchical Inheritance:**\n",
    "\n",
    "Hierarchical inheritance occurs when multiple classes inherit from a single parent class. This form of inheritance is useful for creating a base class that provides common functionality to a variety of derived classes, each adding its specific features or behaviors.\n"
   ]
  },
  {
   "cell_type": "markdown",
   "metadata": {},
   "source": [
    "**Hybrid Inheritance:**\n",
    "\n",
    "Hybrid inheritance is a combination of two or more types of inheritance. It is used to design complex inheritance hierarchies and can involve combinations of single, multiple, multilevel, and hierarchical inheritance. Care must be taken to manage complexity and avoid the diamond problem, a scenario where a class inherits the same method from multiple parent classes, leading to ambiguity."
   ]
  },
  {
   "cell_type": "markdown",
   "metadata": {},
   "source": [
    "In this lecture, we'll delve into the intricacies of each inheritance type, provide examples to illuminate their practical applications, and discuss best practices to navigate the complexities they might introduce. By the end of this lecture, you'll have a deeper understanding of how to leverage various types of inheritance in Python to design flexible and efficient class hierarchies."
   ]
  },
  {
   "cell_type": "markdown",
   "metadata": {},
   "source": [
    "**Table of contents**<a id='toc0_'></a>    \n",
    "- [Single Inheritance: Basics and Benefits](#toc1_)    \n",
    "- [Multilevel Inheritance: Advantages and Challenges](#toc2_)    \n",
    "- [Hierarchical Inheritance: Structure and Scenarios](#toc3_)    \n",
    "- [Multiple Inheritance: Concepts and Complexities (Optional)](#toc4_)    \n",
    "- [Exercise: Exploring Inheritance in Python](#toc5_)    \n",
    "  - [Solution](#toc5_1_)    \n",
    "\n",
    "<!-- vscode-jupyter-toc-config\n",
    "\tnumbering=false\n",
    "\tanchor=true\n",
    "\tflat=false\n",
    "\tminLevel=2\n",
    "\tmaxLevel=6\n",
    "\t/vscode-jupyter-toc-config -->\n",
    "<!-- THIS CELL WILL BE REPLACED ON TOC UPDATE. DO NOT WRITE YOUR TEXT IN THIS CELL -->"
   ]
  },
  {
   "cell_type": "markdown",
   "metadata": {},
   "source": [
    "## <a id='toc1_'></a>[Single Inheritance: Basics and Benefits](#toc0_)"
   ]
  },
  {
   "cell_type": "markdown",
   "metadata": {},
   "source": [
    "<img src=\"./images/single-inheritance.png\" width=\"400\">"
   ]
  },
  {
   "cell_type": "markdown",
   "metadata": {},
   "source": [
    "Single inheritance is a fundamental concept in object-oriented programming where a class (known as a child or subclass) inherits the properties and methods of another class (known as a parent or base class). This form of inheritance creates a straightforward and unambiguous hierarchy, allowing for clear and logical class structures which can significantly reduce code duplication and increase reusability. Here, we explore the basics of single inheritance in Python and highlight its key benefits, accompanied by practical examples for a better understanding.\n"
   ]
  },
  {
   "cell_type": "markdown",
   "metadata": {},
   "source": [
    "In single inheritance, the subclass inherits from only one superclass, gaining access to its public and protected attributes and methods. This allows the subclass to extend or modify the behaviors defined in the superclass.\n"
   ]
  },
  {
   "cell_type": "markdown",
   "metadata": {},
   "source": [
    "**Syntax:**\n",
    "\n",
    "```python\n",
    "class ParentClass:\n",
    "    # Parent class methods and properties\n",
    "\n",
    "class ChildClass(ParentClass):\n",
    "    # Additional or overriding methods and properties\n",
    "```\n"
   ]
  },
  {
   "cell_type": "markdown",
   "metadata": {},
   "source": [
    "Let's consider a practical example to understand single inheritance better. Suppose we are building a software for managing university personnel and we wish to start with a general `Person` class that holds attributes common to all people in the university (e.g., name, age, ID).\n"
   ]
  },
  {
   "cell_type": "code",
   "execution_count": 14,
   "metadata": {},
   "outputs": [],
   "source": [
    "class Person:\n",
    "    def __init__(self, name, age, ID):\n",
    "        self.name = name\n",
    "        self.age = age\n",
    "        self.ID = ID\n",
    "\n",
    "    def display_info(self):\n",
    "        print(f\"Name: {self.name}, Age: {self.age}, ID: {self.ID}\")"
   ]
  },
  {
   "cell_type": "markdown",
   "metadata": {},
   "source": [
    "Next, we may want to create a `Student` class that inherits from `Person` but also includes student-specific details like `studentID` and a method to display their enrolled courses.\n"
   ]
  },
  {
   "cell_type": "code",
   "execution_count": 15,
   "metadata": {},
   "outputs": [],
   "source": [
    "class Student(Person):\n",
    "    def __init__(self, name, age, ID, studentID):\n",
    "        super().__init__(name, age, ID)\n",
    "        self.studentID = studentID\n",
    "        self.courses = []\n",
    "\n",
    "    def enroll_course(self, course_name):\n",
    "        self.courses.append(course_name)\n",
    "        print(f\"{self.name} has enrolled in {course_name}\")\n",
    "\n",
    "    def display_courses(self):\n",
    "        print(f\"{self.name}'s Courses: {', '.join(self.courses)}\")"
   ]
  },
  {
   "cell_type": "markdown",
   "metadata": {},
   "source": [
    "In this example, `Student` inherits from `Person` and utilizes `super()` to invoke the `__init__` method of the parent class, ensuring that the `name`, `age`, and `ID` attributes are appropriately initialized. The `Student` class extends the functionality by adding a `studentID` attribute, a method to enroll in courses (`enroll_course`), and another method to display the enrolled courses (`display_courses`).\n"
   ]
  },
  {
   "cell_type": "markdown",
   "metadata": {},
   "source": [
    "Key Benefits:\n",
    "\n",
    "- **Code Reusability**: Single inheritance promotes code reusability by allowing subclasses to use the functionality of their parent class without code duplication. This saves time and effort and ensures that changes in the parent class automatically reflect in subclasses, enhancing maintainability.\n",
    "\n",
    "- **Simplicity**: It provides a simple and clear inheritance path, making the code easy to understand and debug. Each class has only one parent, avoiding the complexity and potential ambiguities that can arise with multiple inheritance.\n",
    "\n",
    "- **Extensibility**: Through inheritance, new functionalities can be easily added to the subclass while maintaining the existing behaviors inherited from the parent class. This makes software easier to expand and adapt to new requirements.\n"
   ]
  },
  {
   "cell_type": "markdown",
   "metadata": {},
   "source": [
    "Single inheritance in Python enables developers to build efficient and manageable code structures by relying on the principle of reusability. It forms the backbone of class hierarchies in many object-oriented programs, helping developers manage complexity and enhance the extensibility of their software. By grasping this foundational concept, you're better equipped to leverage the power of object-oriented programming in Python to create versatile and robust applications."
   ]
  },
  {
   "cell_type": "markdown",
   "metadata": {},
   "source": [
    "## <a id='toc2_'></a>[Multilevel Inheritance: Advantages and Challenges](#toc0_)"
   ]
  },
  {
   "cell_type": "markdown",
   "metadata": {},
   "source": [
    "<img src=\"./images/multi-level-inheritance.png\" width=\"400\">"
   ]
  },
  {
   "cell_type": "markdown",
   "metadata": {},
   "source": [
    "Multilevel inheritance is a form of inheritance hierarchy in object-oriented programming where a class (referred to as the child class) inherits from another class (the parent class), which in turn inherits from another class (the grandparent class), and so on. This creates a multi-tier inheritance structure, allowing for a complex but organized distribution of functionalities across different levels of the hierarchy.\n"
   ]
  },
  {
   "cell_type": "markdown",
   "metadata": {},
   "source": [
    "In multilevel inheritance, classes are linked in a linear manner where attributes and methods from the top of the hierarchy are passed down to the lowest level, allowing for incremental modifications or extensions at each level.\n"
   ]
  },
  {
   "cell_type": "markdown",
   "metadata": {},
   "source": [
    "**Syntax Example:**\n",
    "\n",
    "```python\n",
    "class GrandparentClass:\n",
    "    # Base class methods and properties\n",
    "\n",
    "class ParentClass(GrandparentClass):\n",
    "    # Inherits from GrandparentClass,\n",
    "    # additional methods and properties\n",
    "\n",
    "class ChildClass(ParentClass):\n",
    "    # Inherits from ParentClass,\n",
    "    # more additional methods or overriding properties\n",
    "```\n"
   ]
  },
  {
   "cell_type": "markdown",
   "metadata": {},
   "source": [
    "Consider a scenario where you're building a software system to represent an organization's personnel structure. At the base, you have a `Person` class, which might hold basic details relevant to all individuals in the organization.\n"
   ]
  },
  {
   "cell_type": "code",
   "execution_count": 16,
   "metadata": {},
   "outputs": [],
   "source": [
    "class Person:\n",
    "    def __init__(self, name, age):\n",
    "        self.name = name\n",
    "        self.age = age\n",
    "\n",
    "    def display_info(self):\n",
    "        print(f\"Name: {self.name}, Age: {self.age}\")"
   ]
  },
  {
   "cell_type": "markdown",
   "metadata": {},
   "source": [
    "Expanding on this, you create an `Employee` class that inherits from `Person` but also includes job-related information.\n"
   ]
  },
  {
   "cell_type": "code",
   "execution_count": 17,
   "metadata": {},
   "outputs": [],
   "source": [
    "class Employee(Person):\n",
    "    def __init__(self, name, age, employee_id):\n",
    "        super().__init__(name, age)\n",
    "        self.employee_id = employee_id\n",
    "\n",
    "    def display_employee_info(self):\n",
    "        print(f\"Employee ID: {self.employee_id}\")\n",
    "        self.display_info()"
   ]
  },
  {
   "cell_type": "markdown",
   "metadata": {},
   "source": [
    "Finally, you might have specific types of employees, such as `Manager`, that need further specialization. A `Manager` class could inherit from `Employee`, adding managerial-specific attributes or methods.\n"
   ]
  },
  {
   "cell_type": "code",
   "execution_count": 18,
   "metadata": {},
   "outputs": [],
   "source": [
    "class Manager(Employee):\n",
    "    def __init__(self, name, age, employee_id, department):\n",
    "        super().__init__(name, age, employee_id)\n",
    "        self.department = department\n",
    "\n",
    "    def display_manager_info(self):\n",
    "        print(f\"Department: {self.department}\")\n",
    "        self.display_employee_info()"
   ]
  },
  {
   "cell_type": "markdown",
   "metadata": {},
   "source": [
    "In this multilevel inheritance structure, `Person` is the grandparent class, `Employee` is the parent class, and `Manager` is the child class. Each level extends the previous one, adding specificity as needed.\n"
   ]
  },
  {
   "cell_type": "markdown",
   "metadata": {},
   "source": [
    "**Advantages:**\n",
    "\n",
    "- **Organized Structure**: Multilevel inheritance provides a clear and hierarchical organization of classes, where each class is an extension of the one above it. This mirrors real-world relationships and hierarchies, making the model intuitive to understand.\n",
    "\n",
    "- **Incremental Enhancement**: It allows for incremental additions or changes, with each class in the hierarchy focusing on extending or customizing the functionality of its parent class. This leads to code that is easier to manage and extend.\n",
    "\n",
    "- **Reusability and Efficiency**: Similar to single inheritance, multilevel inheritance promotes the reuse of code. The functionalities defined in upper-level classes are readily available to lower-level classes, reducing redundancy and increasing efficiency.\n"
   ]
  },
  {
   "cell_type": "markdown",
   "metadata": {},
   "source": [
    "**Challenges:**\n",
    "\n",
    "- **Increased Complexity**: As the inheritance chain grows, maintaining and understanding the codebase can become challenging. Long inheritance chains might introduce difficulties in tracing the flow of logic or in debugging.\n",
    "\n",
    "- **Coupling**: Classes within a multilevel inheritance hierarchy are tightly coupled, meaning a change in a parent class can have rippling effects down the hierarchy. Careful design is needed to minimize unwanted side effects.\n",
    "\n",
    "- **Risk of Overriding Issues**: With multiple levels of inheritance, there's an increased risk of accidentally overriding methods in a way that could break functionality or alter behaviors unexpectedly.\n"
   ]
  },
  {
   "cell_type": "markdown",
   "metadata": {},
   "source": [
    "Multilevel inheritance in Python can be a powerful tool for organizing and structuring your code in a logical and hierarchical manner. It enables the incremental development and specialization of classes. However, it requires careful planning and consideration to manage the complexities and dependencies that arise with deeper inheritance chains. By judiciously applying multilevel inheritance, developers can build sophisticated and scalable systems that effectively model complex relationships and behaviors."
   ]
  },
  {
   "cell_type": "markdown",
   "metadata": {},
   "source": [
    "## <a id='toc3_'></a>[Hierarchical Inheritance: Structure and Scenarios](#toc0_)"
   ]
  },
  {
   "cell_type": "markdown",
   "metadata": {},
   "source": [
    "<img src=\"./images/hierarchical-inheritance.png\" width=\"400\">"
   ]
  },
  {
   "cell_type": "markdown",
   "metadata": {},
   "source": [
    "Hierarchical inheritance is a form of inheritance mechanism in object-oriented programming where one parent (base) class is inherited by multiple child (derived) classes. This type of inheritance creates a tree-like structure of classes, allowing for a single base class to provide fundamental functionalities to a variety of derived classes, each extending the base class in a unique manner. Hierarchical inheritance is particularly useful in organizing code in a way that minimizes redundancy while maximizing reusability and clarity.\n"
   ]
  },
  {
   "cell_type": "markdown",
   "metadata": {},
   "source": [
    "In a hierarchical inheritance model, the parent class serves as a foundation, establishing a common set of properties and methods that are relevant to all its subclasses. The subclasses, in turn, differentiate themselves by adding unique attributes or behaviors, or by overriding inherited ones to suit their specific needs.\n"
   ]
  },
  {
   "cell_type": "markdown",
   "metadata": {},
   "source": [
    "**Syntax Example:**\n",
    "\n",
    "```python\n",
    "class ParentClass:\n",
    "    # Base class methods and properties\n",
    "\n",
    "class ChildClass1(ParentClass):\n",
    "    # Inherits from ParentClass,\n",
    "    # additional or overriding methods and properties\n",
    "\n",
    "class ChildClass2(ParentClass):\n",
    "    # Inherits from ParentClass,\n",
    "    # different additional or overriding methods and properties\n",
    "```\n"
   ]
  },
  {
   "cell_type": "markdown",
   "metadata": {},
   "source": [
    "Imagine you are developing a system for a vehicle dealership that handles different types of vehicles. At the most basic level, you might have a `Vehicle` class that includes attributes and methods common to all vehicles, such as `make`, `model`, and `year`, along with a method to display this information.\n"
   ]
  },
  {
   "cell_type": "code",
   "execution_count": 19,
   "metadata": {},
   "outputs": [],
   "source": [
    "class Vehicle:\n",
    "    def __init__(self, make, model, year):\n",
    "        self.make = make\n",
    "        self.model = model\n",
    "        self.year = year\n",
    "\n",
    "    def display_info(self):\n",
    "        print(f\"{self.year} {self.make} {self.model}\")"
   ]
  },
  {
   "cell_type": "markdown",
   "metadata": {},
   "source": [
    "From here, you can use hierarchical inheritance to derive specific vehicle classes such as `Car`, `Truck`, and `Motorcycle`, each inheriting from `Vehicle` but also including their unique attributes or methods.\n"
   ]
  },
  {
   "cell_type": "code",
   "execution_count": 20,
   "metadata": {},
   "outputs": [],
   "source": [
    "class Car(Vehicle):\n",
    "    def __init__(self, make, model, year, doors):\n",
    "        super().__init__(make, model, year)\n",
    "        self.doors = doors\n",
    "\n",
    "class Truck(Vehicle):\n",
    "    def __init__(self, make, model, year, payload):\n",
    "        super().__init__(make, model, year)\n",
    "        self.payload = payload\n",
    "\n",
    "class Motorcycle(Vehicle):\n",
    "    def __init__(self, make, model, year, cc):\n",
    "        super().__init__(make, model, year)\n",
    "        self.cc = cc"
   ]
  },
  {
   "cell_type": "markdown",
   "metadata": {},
   "source": [
    "In this example, `Vehicle` acts as a parent class for `Car`, `Truck`, and `Motorcycle`, each of which inherits the base properties while introducing its specific characteristics (`doors` for `Car`, `payload` for `Truck`, and `cc` for `Motorcycle`).\n"
   ]
  },
  {
   "cell_type": "markdown",
   "metadata": {},
   "source": [
    "**Scenarios and Benefits:**\n",
    "\n",
    "- **Code Reusability and Efficiency**: Hierarchical inheritance excels in scenarios where multiple classes share a set of common features but also require their specialized behaviors. It promotes code reusability by allowing shared functionality to be written once in the parent class and shared among all subclasses.\n",
    "\n",
    "- **Ease of Maintenance**: Changes to common functionality need to be made only once in the base class, automatically reflecting across all subclasses. This makes maintaining and updating the codebase simpler and less error-prone.\n",
    "\n",
    "- **Organizational Clarity**: The hierarchical structure helps in organizing classes in a clear and logical manner, making the code easier to understand and navigate. It mirrors real-world categorizations, aiding in conceptual modeling.\n"
   ]
  },
  {
   "cell_type": "markdown",
   "metadata": {},
   "source": [
    "**Challenges:**\n",
    "\n",
    "- **Potential for Code Duplication**: While hierarchical inheritance aims to minimize redundancy, care must be taken to ensure that subclass-specific methods are not unnecessarily duplicated across multiple subclasses.\n",
    "\n",
    "- **Increased Complexity with Deep Hierarchies**: In cases where the hierarchy becomes too deep or branched, managing relationships between classes can become complicated, particularly when dealing with large and complex codebases.\n"
   ]
  },
  {
   "cell_type": "markdown",
   "metadata": {},
   "source": [
    "Hierarchical inheritance provides a powerful paradigm for structuring code in object-oriented programming, enabling efficient reuse of code and clear organizational structures. By understanding and properly applying this form of inheritance, developers can create scalable and maintainable software systems that effectively model real-world entities and their relationships."
   ]
  },
  {
   "cell_type": "markdown",
   "metadata": {},
   "source": [
    "## <a id='toc4_'></a>[Multiple Inheritance: Concepts and Complexities (Optional)](#toc0_)"
   ]
  },
  {
   "cell_type": "markdown",
   "metadata": {},
   "source": [
    "<img src=\"./images/multiple-inheritance.png\" width=\"400\">"
   ]
  },
  {
   "cell_type": "markdown",
   "metadata": {},
   "source": [
    "Multiple inheritance is a feature of some object-oriented programming languages, including Python, where a class can inherit attributes and methods from more than one parent class. This allows for the creation of a new class that combines the functionalities of several base classes, enabling a high degree of flexibility and reuse in code design. However, while multiple inheritance can be powerful, it also introduces certain complexities and challenges that need to be managed carefully to avoid common pitfalls.\n"
   ]
  },
  {
   "cell_type": "markdown",
   "metadata": {},
   "source": [
    "In multiple inheritance, a subclass is defined with more than one base class, separated by commas within the parentheses in the class definition. The subclass then inherits the non-private attributes and methods of all these base classes.\n"
   ]
  },
  {
   "cell_type": "markdown",
   "metadata": {},
   "source": [
    "**Syntax Example:**\n",
    "\n",
    "```python\n",
    "class BaseClass1:\n",
    "    # Base class 1 methods and properties\n",
    "\n",
    "class BaseClass2:\n",
    "    # Base class 2 methods and properties\n",
    "\n",
    "class SubClass(BaseClass1, BaseClass2):\n",
    "    # Inherits from BaseClass1 and BaseClass2\n",
    "    # Additional or overriding methods and properties\n",
    "```\n"
   ]
  },
  {
   "cell_type": "markdown",
   "metadata": {},
   "source": [
    "Let's consider a practical example to illustrate multiple inheritance. Suppose we are creating a software system for a wildlife sanctuary that includes various aspects of animals' behavior, such as walking and swimming.\n"
   ]
  },
  {
   "cell_type": "code",
   "execution_count": 21,
   "metadata": {},
   "outputs": [],
   "source": [
    "class Walker:\n",
    "    def walk(self):\n",
    "        print(\"This animal walks\")\n",
    "\n",
    "class Swimmer:\n",
    "    def swim(self):\n",
    "        print(\"This animal swims\")\n",
    "\n",
    "class Alligator(Walker, Swimmer):\n",
    "    pass"
   ]
  },
  {
   "cell_type": "code",
   "execution_count": 22,
   "metadata": {},
   "outputs": [],
   "source": [
    "# Creating an instance of Alligator\n",
    "ally = Alligator()"
   ]
  },
  {
   "cell_type": "code",
   "execution_count": 23,
   "metadata": {},
   "outputs": [
    {
     "name": "stdout",
     "output_type": "stream",
     "text": [
      "This animal walks\n"
     ]
    }
   ],
   "source": [
    "ally.walk()"
   ]
  },
  {
   "cell_type": "code",
   "execution_count": 24,
   "metadata": {},
   "outputs": [
    {
     "name": "stdout",
     "output_type": "stream",
     "text": [
      "This animal swims\n"
     ]
    }
   ],
   "source": [
    "ally.swim()"
   ]
  },
  {
   "cell_type": "markdown",
   "metadata": {},
   "source": [
    "In this simple example, `Alligator` inherits from both `Walker` and `Swimmer`, enabling it to perform both actions through inheritance. This showcases the fundamental concept of multiple inheritance—combining behaviors from multiple base classes.\n",
    "\n",
    "While multiple inheritance offers compelling benefits, it introduces **certain complexities**:\n",
    "\n",
    "- **The Diamond Problem**: This occurs in some inheritance structures where a subclass inherits from two classes that both derive from the same base class. Python addresses this issue through the C3 Linearization (or Method Resolution Order - MRO), ensuring a consistent and predictable order in which methods are resolved.\n",
    "\n",
    "- **Method Resolution Order (MRO)**: Python uses MRO to determine the order in which base classes are searched when executing a method. This order can be inspected using the `__mro__` attribute or the `mro()` method on a class."
   ]
  },
  {
   "cell_type": "code",
   "execution_count": 25,
   "metadata": {},
   "outputs": [
    {
     "data": {
      "text/plain": [
       "(__main__.Alligator, __main__.Walker, __main__.Swimmer, object)"
      ]
     },
     "execution_count": 25,
     "metadata": {},
     "output_type": "execute_result"
    }
   ],
   "source": [
    "# Outputs the MRO, showing the order in which methods will be searched\n",
    "Alligator.__mro__"
   ]
  },
  {
   "cell_type": "markdown",
   "metadata": {},
   "source": [
    "- **Conflicting Methods**: When multiple base classes contain methods with the same name, the method resolution order determines which method will be called. Developers need to be mindful of this order to ensure the expected method is invoked.\n"
   ]
  },
  {
   "cell_type": "markdown",
   "metadata": {},
   "source": [
    "To effectively leverage multiple inheritance while managing its complexities, consider the following **best practices**:\n",
    "\n",
    "- **Keep Hierarchies Simple**: Avoid overly complex inheritance structures. If a hierarchy becomes too convoluted, consider refactoring into simpler relationships or using composition over inheritance.\n",
    "\n",
    "- **Explicitly Use `super()`**: Use `super()` to ensure that base class methods are called in an order that respects the MRO, facilitating proper initialization and method calling.\n",
    "\n",
    "- **Be Mindful of Method Names**: Avoid naming conflicts by being careful with method names across classes that might be combined through multiple inheritance.\n"
   ]
  },
  {
   "cell_type": "markdown",
   "metadata": {},
   "source": [
    "Multiple inheritance in Python offers a flexible way to compose classes with diverse functionalities drawn from multiple sources. However, its power comes with the responsibility of managing the additional complexity it introduces. By understanding the principles of MRO and adhering to best practices, developers can harness the benefits of multiple inheritance to create well-structured, efficient, and maintainable code."
   ]
  },
  {
   "cell_type": "markdown",
   "metadata": {},
   "source": [
    "<img src=\"../images/exercise-banner.gif\" width=\"800\">"
   ]
  },
  {
   "cell_type": "markdown",
   "metadata": {},
   "source": [
    "## <a id='toc5_'></a>[Exercise: Exploring Inheritance in Python](#toc0_)"
   ]
  },
  {
   "cell_type": "markdown",
   "metadata": {},
   "source": [
    "In this exercise, you will apply the concepts of single, multilevel, and hierarchical inheritance to a university context. By implementing a simple class hierarchy involving persons and university members, you will demonstrate the basics and benefits of each inheritance type.\n"
   ]
  },
  {
   "cell_type": "markdown",
   "metadata": {},
   "source": [
    "**Tasks:**\n"
   ]
  },
  {
   "cell_type": "markdown",
   "metadata": {},
   "source": [
    "1. **Implement Single Inheritance**:\n",
    "   - Create a base class named `Person` with attributes `name` and `age` and a method `introduce_self()` that prints out a greeting containing the person's name and age.\n",
    "   - Create a subclass named `UniversityMember` that inherits from `Person`. Add an attribute `university_name` and override the `introduce_self()` method to include the university name in the greeting.\n",
    "\n",
    "2. **Implement Multilevel Inheritance**:\n",
    "   - Create two subclasses of `UniversityMember`: `Student` and `Instructor`. For `Student`, add an attribute `student_id`, and for `Instructor`, add an attribute `employee_id`.\n",
    "   - Override the `introduce_self()` method in each subclass to include their respective ID along with the inherited attributes.\n",
    "\n",
    "3. **Implement Hierarchical Inheritance**:\n",
    "   - Demonstrate hierarchical inheritance by showing how `Student` and `Instructor` classes inherit from the same parent (`UniversityMember`) but represent different entities.\n",
    "   - Instantiate objects of `Student` and `Instructor`, set their attributes, and call their `introduce_self()` methods to see the different outputs.\n"
   ]
  },
  {
   "cell_type": "markdown",
   "metadata": {},
   "source": [
    "**Sample Output:**\n",
    "```\n",
    "Hello! My name is Alice, and I am 24 years old. I am a member of XYZ University.\n",
    "Hello! My name is Bob, and I am 21 years old. I am a student with ID: S123 at XYZ University.\n",
    "Hello! My name is Carol, and I am 35 years old. I am an instructor with ID: E456 at XYZ University.\n",
    "```\n"
   ]
  },
  {
   "cell_type": "markdown",
   "metadata": {},
   "source": [
    "In this exercise, you will be practicing the OOP concepts of inheritance in a real-world scenario. You will see how inheritance allows for code reuse, better organization, and scalability. Remember to use appropriate access modifiers (public, protected, private) for attributes based on the design requirements. Enjoy coding your university hierarchy!"
   ]
  },
  {
   "cell_type": "markdown",
   "metadata": {},
   "source": [
    "### <a id='toc5_1_'></a>[Solution](#toc0_)"
   ]
  },
  {
   "cell_type": "markdown",
   "metadata": {},
   "source": [
    "Below is a solution for the exercise, implementing a class hierarchy using the principles of single, multilevel, and hierarchical inheritance in Python:"
   ]
  },
  {
   "cell_type": "code",
   "execution_count": 10,
   "metadata": {},
   "outputs": [],
   "source": [
    "# Task 1: Implement Single Inheritance\n",
    "class Person:\n",
    "    def __init__(self, name, age):\n",
    "        self.name = name\n",
    "        self.age = age\n",
    "\n",
    "    def introduce_self(self):\n",
    "        print(f\"Hello! My name is {self.name}, and I am {self.age} years old.\")"
   ]
  },
  {
   "cell_type": "code",
   "execution_count": 11,
   "metadata": {},
   "outputs": [],
   "source": [
    "class UniversityMember(Person):\n",
    "    def __init__(self, name, age, university_name):\n",
    "        super().__init__(name, age)\n",
    "        self.university_name = university_name\n",
    "\n",
    "    def introduce_self(self):\n",
    "        super().introduce_self()\n",
    "        print(f\"I am a member of {self.university_name}.\")"
   ]
  },
  {
   "cell_type": "code",
   "execution_count": 12,
   "metadata": {},
   "outputs": [],
   "source": [
    "# Task 2: Implement Multilevel Inheritance\n",
    "class Student(UniversityMember):\n",
    "    def __init__(self, name, age, university_name, student_id):\n",
    "        super().__init__(name, age, university_name)\n",
    "        self.student_id = student_id\n",
    "\n",
    "    def introduce_self(self):\n",
    "        super().introduce_self()\n",
    "        print(f\"I am a student with ID: {self.student_id}.\")"
   ]
  },
  {
   "cell_type": "code",
   "execution_count": 13,
   "metadata": {},
   "outputs": [],
   "source": [
    "class Instructor(UniversityMember):\n",
    "    def __init__(self, name, age, university_name, employee_id):\n",
    "        super().__init__(name, age, university_name)\n",
    "        self.employee_id = employee_id\n",
    "\n",
    "    def introduce_self(self):\n",
    "        super().introduce_self()\n",
    "        print(f\"I am an instructor with ID: {self.employee_id}.\")"
   ]
  },
  {
   "cell_type": "code",
   "execution_count": 15,
   "metadata": {},
   "outputs": [],
   "source": [
    "# Task 3: Implement Hierarchical Inheritance\n",
    "# Instantiate objects with different universities\n",
    "alice = Student(name=\"Alice\", age=24, university_name=\"XYZ University\", student_id=\"S123\")\n",
    "bob = Instructor(name=\"Bob\", age=35, university_name=\"ABC University\", employee_id=\"E456\")"
   ]
  },
  {
   "cell_type": "code",
   "execution_count": 16,
   "metadata": {},
   "outputs": [
    {
     "name": "stdout",
     "output_type": "stream",
     "text": [
      "Hello! My name is Alice, and I am 24 years old.\n",
      "I am a member of XYZ University.\n",
      "I am a student with ID: S123.\n",
      "Hello! My name is Bob, and I am 35 years old.\n",
      "I am a member of ABC University.\n",
      "I am an instructor with ID: E456.\n"
     ]
    }
   ],
   "source": [
    "# Demonstrate hierarchical inheritance outputs\n",
    "alice.introduce_self()\n",
    "bob.introduce_self()"
   ]
  },
  {
   "cell_type": "markdown",
   "metadata": {},
   "source": [
    "This code defines the classes `Person`, `UniversityMember`, `Student`, and `Instructor`, and demonstrates single, multilevel, and hierarchical inheritance. The `introduce_self()` method is overridden in subclasses to provide additional information specific to each type. The bonus task adds a class method to `UniversityMember` that allows the `university_name` to be changed for all instances of its subclasses. When you run this code, you will see the different greetings printed for each object, showing how inheritance can be used to extend and customize class behavior in Python."
   ]
  }
 ],
 "metadata": {
  "kernelspec": {
   "display_name": "py310",
   "language": "python",
   "name": "python3"
  },
  "language_info": {
   "codemirror_mode": {
    "name": "ipython",
    "version": 3
   },
   "file_extension": ".py",
   "mimetype": "text/x-python",
   "name": "python",
   "nbconvert_exporter": "python",
   "pygments_lexer": "ipython3",
   "version": "3.10.12"
  }
 },
 "nbformat": 4,
 "nbformat_minor": 2
}
