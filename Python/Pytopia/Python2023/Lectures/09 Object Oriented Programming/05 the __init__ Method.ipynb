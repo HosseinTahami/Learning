{
 "cells": [
  {
   "cell_type": "markdown",
   "metadata": {},
   "source": [
    "<img src=\"./images/banner.png\" width=\"800\">"
   ]
  },
  {
   "cell_type": "markdown",
   "metadata": {},
   "source": [
    "# Object Initialization with the `__init__` Method"
   ]
  },
  {
   "cell_type": "markdown",
   "metadata": {},
   "source": [
    "Understanding object initialization is key to mastering Python's Object-Oriented Programming (OOP). Object initialization is the process where an object obtains its initial state from its class blueprint. This stage in an object’s lifecycle is crucial, as it sets the foundation for how the object will behave and interact within a program. Let’s explore the object lifecycle in Python, the role of the `__init__` method in this process, and how it differs from other methods in a class.\n"
   ]
  },
  {
   "cell_type": "markdown",
   "metadata": {},
   "source": [
    "In Python, the object lifecycle consists of creation, manipulation, and destruction. The creation phase involves defining a class and then instantiating objects from that class. During the manipulation phase, the object’s state can be modified through methods and interactions with other objects. Finally, the destruction phase occurs when an object is no longer needed, and Python’s garbage collector reclaims the memory allocated to it.\n"
   ]
  },
  {
   "cell_type": "markdown",
   "metadata": {},
   "source": [
    "The `__init__` method plays a pivotal role in the creation phase of an object’s lifecycle. It's the first step toward bringing a class definition to life by initializing a new instance of the class. When you create a new object, Python automatically calls the `__init__` method for the newly created object. This special method serves as the constructor for a class and is used to set initial values for the object's attributes and perform any setup necessary for the object’s operations.\n"
   ]
  },
  {
   "cell_type": "code",
   "execution_count": 1,
   "metadata": {},
   "outputs": [],
   "source": [
    "class Car:\n",
    "    def __init__(self, color, model):\n",
    "        self.color = color\n",
    "        self.model = model"
   ]
  },
  {
   "cell_type": "markdown",
   "metadata": {},
   "source": [
    "In this `Car` class example, the `__init__` method initializes each new `Car` object with specific `color` and `model` attributes, ensuring that each car has these fundamental properties from the moment it is created.\n"
   ]
  },
  {
   "cell_type": "markdown",
   "metadata": {},
   "source": [
    "While the `__init__` method is used for initializing new objects, other methods in a class define the behaviors or actions those objects can perform. The key difference lies in their purpose:\n",
    "\n",
    "- **`__init__` Method:** It's automatically invoked during the creation of an object. Its sole purpose is to initialize the object’s state by setting attribute values and performing any preliminary setup. It doesn't return any value and is only called once per object lifecycle.\n",
    "\n",
    "- **Other Methods:** These methods can be called multiple times throughout an object’s lifecycle, whenever a specific action needs to be performed. They can accept arguments, perform operations, and return values. These methods are used to modify an object's state or perform computations based on the object's attributes.\n"
   ]
  },
  {
   "cell_type": "code",
   "execution_count": 2,
   "metadata": {},
   "outputs": [],
   "source": [
    "class Car:\n",
    "    def __init__(self, color, model):\n",
    "        self.color = color\n",
    "        self.model = model\n",
    "\n",
    "    def display_description(self):\n",
    "        return f\"This is a {self.color} {self.model}.\""
   ]
  },
  {
   "cell_type": "markdown",
   "metadata": {},
   "source": [
    "In this enhanced `Car` class, `display_description` is an example of an ordinary method which, unlike `__init__`, focuses on behaviors (`displaying a description`) rather than initial state setup.\n"
   ]
  },
  {
   "cell_type": "markdown",
   "metadata": {},
   "source": [
    "The `__init__` method is a fundamental aspect of defining classes in Python, allowing for the precise initialization of newly created objects. By distinguishing it from other methods in a class, developers can ensure that objects are born with a well-defined state, ready to take on the specific roles assigned to them within the application. Understanding this distinction is essential for effective object-oriented design and programming in Python."
   ]
  },
  {
   "cell_type": "markdown",
   "metadata": {},
   "source": [
    "**Table of contents**<a id='toc0_'></a>    \n",
    "- [Anatomy of the `__init__` Method](#toc1_)    \n",
    "  - [Basic Syntax and Structure](#toc1_1_)    \n",
    "  - [The Significance of the `self` Parameter](#toc1_2_)    \n",
    "  - [Parameters and Arguments in `__init__`](#toc1_3_)    \n",
    "- [Initializing Object Attributes with `__init__`](#toc2_)    \n",
    "- [Practical Example](#toc3_)    \n",
    "- [Exercise: Building and Initializing a Classroom](#toc4_)    \n",
    "  - [Solution](#toc4_1_)    \n",
    "\n",
    "<!-- vscode-jupyter-toc-config\n",
    "\tnumbering=false\n",
    "\tanchor=true\n",
    "\tflat=false\n",
    "\tminLevel=2\n",
    "\tmaxLevel=6\n",
    "\t/vscode-jupyter-toc-config -->\n",
    "<!-- THIS CELL WILL BE REPLACED ON TOC UPDATE. DO NOT WRITE YOUR TEXT IN THIS CELL -->"
   ]
  },
  {
   "cell_type": "markdown",
   "metadata": {},
   "source": [
    "## <a id='toc1_'></a>[Anatomy of the `__init__` Method](#toc0_)"
   ]
  },
  {
   "cell_type": "markdown",
   "metadata": {},
   "source": [
    "The `__init__` method is a cornerstone in Python's Object-Oriented Programming, enabling developers to define how instances of a class are initialized. Its anatomy, encompassing syntax, structure, and the functionality of its parameters, forms the framework within which objects acquire their initial state. Let’s dissect the anatomy of the `__init__` method to understand its role and capabilities better.\n"
   ]
  },
  {
   "cell_type": "markdown",
   "metadata": {},
   "source": [
    "### <a id='toc1_1_'></a>[Basic Syntax and Structure](#toc0_)\n"
   ]
  },
  {
   "cell_type": "markdown",
   "metadata": {},
   "source": [
    "The `__init__` method is defined within a class using the `def` keyword, similar to any other method. However, it is a special method, recognized by its leading and trailing double underscores (`__`). This naming convention in Python denotes special methods that Python calls automatically under certain circumstances - `__init__` being invoked when a new instance of the class is created.\n"
   ]
  },
  {
   "cell_type": "code",
   "execution_count": 3,
   "metadata": {},
   "outputs": [],
   "source": [
    "class MyClass:\n",
    "    def __init__(self, param1, param2):\n",
    "        self.param1 = param1\n",
    "        self.param2 = param2"
   ]
  },
  {
   "cell_type": "markdown",
   "metadata": {},
   "source": [
    "In this basic structure, `__init__` takes `self` as its first parameter, followed by any number of additional parameters. Inside the method, these parameters are typically used to initialize instance attributes.\n"
   ]
  },
  {
   "cell_type": "markdown",
   "metadata": {},
   "source": [
    "### <a id='toc1_2_'></a>[The Significance of the `self` Parameter](#toc0_)\n"
   ]
  },
  {
   "cell_type": "markdown",
   "metadata": {},
   "source": [
    "The `self` parameter is pivotal in Python OOP; it represents the instance of the class being created or manipulated. When Python creates a new instance of a class, it automatically passes the instance as the first argument to the `__init__` method - this argument is caught by the `self` parameter. Thus, `self` serves as a reference to the current object, allowing access to the class attributes and methods from within.\n"
   ]
  },
  {
   "cell_type": "markdown",
   "metadata": {},
   "source": [
    "Using `self`, attributes set within `__init__` are made instance attributes, meaning each instance of the class can hold different values for these attributes.\n"
   ]
  },
  {
   "cell_type": "markdown",
   "metadata": {},
   "source": [
    "### <a id='toc1_3_'></a>[Parameters and Arguments in `__init__`](#toc0_)\n"
   ]
  },
  {
   "cell_type": "markdown",
   "metadata": {},
   "source": [
    "Beyond `self`, the `__init__` method can accept any number of additional parameters. These parameters allow data to be passed into the method during instance creation, setting the stage for each object's unique state.\n"
   ]
  },
  {
   "cell_type": "code",
   "execution_count": 4,
   "metadata": {},
   "outputs": [],
   "source": [
    "my_object = MyClass(\"value1\", \"value2\")"
   ]
  },
  {
   "cell_type": "markdown",
   "metadata": {},
   "source": [
    "In this instantiation of `MyClass`, `\"value1\"` and `\"value2\"` are arguments passed to `__init__`, aligning with `param1` and `param2`, respectively. This practice makes object initialization flexible and dynamic, allowing for the customization of each instance right at the moment of its creation.\n"
   ]
  },
  {
   "cell_type": "markdown",
   "metadata": {},
   "source": [
    "Parameters can be given default values, making them optional during instantiation:\n"
   ]
  },
  {
   "cell_type": "code",
   "execution_count": 5,
   "metadata": {},
   "outputs": [],
   "source": [
    "class MyClass:\n",
    "    def __init__(self, param1, param2=\"default\"):\n",
    "        self.param1 = param1\n",
    "        self.param2 = param2"
   ]
  },
  {
   "cell_type": "markdown",
   "metadata": {},
   "source": [
    "Here, `param2` is optional; if not provided, it defaults to `\"default\"`. This feature further enhances the versatility and user-friendliness of class instantiation.\n"
   ]
  },
  {
   "cell_type": "markdown",
   "metadata": {},
   "source": [
    "The `__init__` method's syntax and structure are foundational for initializing new instances in Python's OOP paradigm, bridging the gap between class blueprints and functional, stateful objects. By understanding `self` and how to effectively use parameters in `__init__`, developers gain the ability to craft nuanced, responsive classes whose instances are as varied and complex as needed for the application at hand. This deep dive into the `__init__` method's anatomy underscores its critical role in Python OOP, empowering developers to design with precision and intent."
   ]
  },
  {
   "cell_type": "markdown",
   "metadata": {},
   "source": [
    "## <a id='toc2_'></a>[Initializing Object Attributes with `__init__`](#toc0_)"
   ]
  },
  {
   "cell_type": "markdown",
   "metadata": {},
   "source": [
    "In Python's Object-Oriented Programming (OOP), the `__init__` method provides the perfect opportunity to breathe life into an object by initializing its attributes. This initialization phase is crucial, as it sets the foundational state of each object right at the moment of its creation. Let's delve into how instance attributes can be defined during object creation, the role of `__init__` in setting up an object's essential properties, and best practices for naming and defining these attributes.\n"
   ]
  },
  {
   "cell_type": "markdown",
   "metadata": {},
   "source": [
    "Instance attributes are the characteristics of an object that make it unique from other objects of the same class. Whereas class attributes are shared across all instances, instance attributes are specific to, and vary with, each instance:\n"
   ]
  },
  {
   "cell_type": "code",
   "execution_count": 6,
   "metadata": {},
   "outputs": [],
   "source": [
    "class Car:\n",
    "    def __init__(self, color, model):\n",
    "        self.color = color\n",
    "        self.model = model"
   ]
  },
  {
   "cell_type": "markdown",
   "metadata": {},
   "source": [
    "In the `Car` class, `color` and `model` are instance attributes set during the object creation process via the `__init__` method. When a new `Car` object is instantiated, it is required to specify these attributes:\n"
   ]
  },
  {
   "cell_type": "code",
   "execution_count": 7,
   "metadata": {},
   "outputs": [],
   "source": [
    "my_car = Car(\"red\", \"Tesla Model S\")"
   ]
  },
  {
   "cell_type": "markdown",
   "metadata": {},
   "source": [
    "Here, `\"red\"` and `\"Tesla Model S\"` are passed as arguments to `__init__`, which initializes the new `my_car` object with a unique color and model.\n"
   ]
  },
  {
   "cell_type": "markdown",
   "metadata": {},
   "source": [
    "The `__init__` method acts as the constructor for a Python class and is the ideal place to establish an object's essential properties:\n",
    "\n",
    "- **Immediate Initialization**: `__init__` ensures attributes are assigned to an object as soon as it is created, preventing the use of objects in an uninitialized or invalid state.\n",
    "- **Attribute Initialization with Input**: It allows for dynamic attribute values that can be passed in from external input at the moment of object creation, enhancing flexibility and reusability of the class.\n"
   ]
  },
  {
   "cell_type": "code",
   "execution_count": 8,
   "metadata": {},
   "outputs": [],
   "source": [
    "class User:\n",
    "    def __init__(self, username, email):\n",
    "        self.username = username\n",
    "        self.email = email"
   ]
  },
  {
   "cell_type": "markdown",
   "metadata": {},
   "source": [
    "This `User` class illustrates how `__init__` can be used to immediately establish crucial properties (username and email) of an object, ensuring the `User` instance is functional from the outset.\n"
   ]
  },
  {
   "cell_type": "markdown",
   "metadata": {},
   "source": [
    "Follow these best practices to ensure clarity, maintainability, and effectiveness in your Python OOP code:\n",
    "\n",
    "- **Descriptive Names**: Choose clear, descriptive names for attributes. Names should instantly convey the attribute's purpose or the kind of data it holds, such as `email_address` instead of just `email` or `e`.\n",
    "- **Consistent Naming Convention**: Stick to a consistent naming convention, such as `snake_case` for instance attributes, to maintain readability and structure within your code.\n",
    "- **Encapsulation**: Consider encapsulating object data by making attributes private (prefixing with `__`) and providing public getter and setter methods if external access or modification is needed. This encapsulation protects the object's state from unintended changes and adheres to the principle of information hiding.\n",
    "- **Minimal Initialization Logic in `__init__`**: Keep `__init__` focused on attribute initialization. Avoid including complex logic or operations that might better belong in separate methods, ensuring the constructor’s primary role as an initializer is preserved and easily understood.\n"
   ]
  },
  {
   "cell_type": "code",
   "execution_count": 9,
   "metadata": {},
   "outputs": [],
   "source": [
    "class Product:\n",
    "    def __init__(self, name, price):\n",
    "        self.name = name\n",
    "        self.set_price(price)\n",
    "\n",
    "    def set_price(self, price):\n",
    "        if price < 0:\n",
    "            raise ValueError(\"Price cannot be negative\")\n",
    "        self.__price = price"
   ]
  },
  {
   "cell_type": "markdown",
   "metadata": {},
   "source": [
    "In this `Product` class example, the `set_price` method encapsulates validation logic for the `price` attribute, demonstrating a clear separation between attribute initialization and more complex operations.\n"
   ]
  },
  {
   "cell_type": "markdown",
   "metadata": {},
   "source": [
    "Effectively using the `__init__` method to initialize object attributes is a cornerstone of Python OOP. Properly defined and initialized attributes ensure that each object begins its lifecycle with a clear, valid state, making your classes both more powerful and easier to manage. Adhering to best practices in attribute naming and definition further enhances the robustness and readability of your OOP code."
   ]
  },
  {
   "cell_type": "markdown",
   "metadata": {},
   "source": [
    "## <a id='toc3_'></a>[Practical Example](#toc0_)"
   ]
  },
  {
   "cell_type": "markdown",
   "metadata": {},
   "source": [
    "The ability to define classes with a comprehensive `__init__` method is essential for leveraging the full power of Python's Object-Oriented Programming (OOP). Through practical examples and exercises, you can solidify your understanding of object initialization and attribute management. Let's walk through a detailed example, explore some common and edge use cases, and embark on interactive exercises designed to enhance your skills in crafting `__init__` methods.\n"
   ]
  },
  {
   "cell_type": "markdown",
   "metadata": {},
   "source": [
    "**Example: A `Book` Class**\n"
   ]
  },
  {
   "cell_type": "markdown",
   "metadata": {},
   "source": [
    "Our goal is to create a `Book` class where each book instance will have `title`, `author`, `publisher`, and `year_published` as attributes.\n"
   ]
  },
  {
   "cell_type": "code",
   "execution_count": 10,
   "metadata": {},
   "outputs": [],
   "source": [
    "class Book:\n",
    "    def __init__(self, title, author, publisher, year_published):\n",
    "        self.title = title\n",
    "        self.author = author\n",
    "        self.publisher = publisher\n",
    "        self.year_published = year_published"
   ]
  },
  {
   "cell_type": "code",
   "execution_count": 11,
   "metadata": {},
   "outputs": [],
   "source": [
    "# Create a Book instance\n",
    "my_favorite_book = Book(\"Python Programming\", \"Jane Doe\", \"Tech Publishing\", 2020)"
   ]
  },
  {
   "cell_type": "code",
   "execution_count": 12,
   "metadata": {},
   "outputs": [
    {
     "data": {
      "text/plain": [
       "'Python Programming'"
      ]
     },
     "execution_count": 12,
     "metadata": {},
     "output_type": "execute_result"
    }
   ],
   "source": [
    "my_favorite_book.title"
   ]
  },
  {
   "cell_type": "markdown",
   "metadata": {},
   "source": [
    "Here, the `__init__` method initializes each `Book` instance with four attributes. This allows each `Book` object to have its unique state directly from the point of creation.\n"
   ]
  },
  {
   "cell_type": "markdown",
   "metadata": {},
   "source": [
    "**Common Use Case: Default Attributes**\n"
   ]
  },
  {
   "cell_type": "markdown",
   "metadata": {},
   "source": [
    "Consider a scenario where most books in your collection are published by \"Tech Publishing\". You can set a default value for the `publisher` attribute.\n"
   ]
  },
  {
   "cell_type": "code",
   "execution_count": 13,
   "metadata": {},
   "outputs": [],
   "source": [
    "class Book:\n",
    "    def __init__(self, title, author, year_published, publisher=\"Tech Publishing\"):\n",
    "        self.title = title\n",
    "        self.author = author\n",
    "        self.publisher = publisher\n",
    "        self.year_published = year_published"
   ]
  },
  {
   "cell_type": "code",
   "execution_count": 14,
   "metadata": {},
   "outputs": [],
   "source": [
    "# Create a Book instance with the default publisher\n",
    "python_book = Book(\"Learn Python\", \"John Smith\", year_published=2021)"
   ]
  },
  {
   "cell_type": "markdown",
   "metadata": {},
   "source": [
    "**Edge Case: Validating Attribute Values**\n"
   ]
  },
  {
   "cell_type": "markdown",
   "metadata": {},
   "source": [
    "Validate `year_published` to ensure it's not in the future.\n"
   ]
  },
  {
   "cell_type": "code",
   "execution_count": 15,
   "metadata": {},
   "outputs": [],
   "source": [
    "from datetime import datetime\n",
    "\n",
    "class Book:\n",
    "    def __init__(self, title, author, year_published, publisher=\"Tech Publishing\"):\n",
    "        self.title = title\n",
    "        self.author = author\n",
    "        self.publisher = publisher\n",
    "        if year_published > datetime.now().year:\n",
    "            # You will learn how to raise exceptions later\n",
    "            # For now, just know that this line raises an exception/error\n",
    "            raise ValueError(\"Year published cannot be in the future\")\n",
    "        self.year_published = year_published"
   ]
  },
  {
   "cell_type": "markdown",
   "metadata": {},
   "source": [
    "<img src=\"../images/exercise-banner.gif\" width=\"800\">"
   ]
  },
  {
   "cell_type": "markdown",
   "metadata": {},
   "source": [
    "## <a id='toc4_'></a>[Exercise: Building and Initializing a Classroom](#toc0_)"
   ]
  },
  {
   "cell_type": "markdown",
   "metadata": {},
   "source": [
    "In this exercise, you will create a `Classroom` class that initializes with various attributes using the `__init__` method. This will reinforce your understanding of the `__init__` method's anatomy, its syntax, the significance of the `self` parameter, and how to handle additional parameters within `__init__`.\n"
   ]
  },
  {
   "cell_type": "markdown",
   "metadata": {},
   "source": [
    "**Tasks:**\n",
    "\n",
    "1. **Define the Classroom Class**:\n",
    "   Create a class named `Classroom` with an `__init__` method. Within the `__init__` method, define the following attributes:\n",
    "   - `teacher`: A string representing the name of the teacher.\n",
    "   - `students`: A list of strings representing the names of the students.\n",
    "   - `subject`: A string representing the subject being taught.\n",
    "   - `room_number`: An integer representing the classroom number.\n",
    "\n",
    "   Ensure that each of these attributes is passed as a parameter to the `__init__` method (besides `self`).\n",
    "\n",
    "2. **Instantiate the Classroom**:\n",
    "   Create an instance of the `Classroom` class, passing in appropriate arguments for the teacher, students, subject, and room number. Assign this instance to a variable named `my_class`.\n",
    "\n",
    "3. **Print Object Attributes**:\n",
    "   Write a method within the `Classroom` class that prints out all the attributes in a user-friendly format. Call this method `display_info` and invoke it on the `my_class` instance to display the details of your classroom.\n",
    "\n",
    "4. **Bonus: Dynamic Student List**:\n",
    "   Modify the `__init__` method to accept any number of student names using *args, and initialize the `students` attribute with these names. Test this feature by creating another instance of `Classroom` with a variable number of students.\n"
   ]
  },
  {
   "cell_type": "markdown",
   "metadata": {},
   "source": [
    "**Sample Output:**\n",
    "```\n",
    "Teacher: Mr. Smith\n",
    "Students: ['Alice', 'Bob', 'Charlie', 'Diana']\n",
    "Subject: Mathematics\n",
    "Room Number: 101\n",
    "```\n"
   ]
  },
  {
   "cell_type": "markdown",
   "metadata": {},
   "source": [
    "This exercise will test your understanding of object initialization in Python and how to create instances of a class with specific attributes. Remember to apply best practices for class definitions and instance creation, including using descriptive names and following the Python style guide (PEP 8). Enjoy crafting your virtual classroom!"
   ]
  },
  {
   "cell_type": "markdown",
   "metadata": {},
   "source": [
    "### <a id='toc4_1_'></a>[Solution](#toc0_)"
   ]
  },
  {
   "cell_type": "markdown",
   "metadata": {},
   "source": [
    "Below is a solution for the exercise that involves creating a `Classroom` class and initializing it with specific attributes using the `__init__` method:"
   ]
  },
  {
   "cell_type": "code",
   "execution_count": 16,
   "metadata": {},
   "outputs": [],
   "source": [
    "# Task 1: Define the Classroom Class\n",
    "class Classroom:\n",
    "    def __init__(self, teacher, students, subject, room_number):\n",
    "        self.teacher = teacher\n",
    "        self.students = students\n",
    "        self.subject = subject\n",
    "        self.room_number = room_number\n",
    "\n",
    "    def display_info(self):\n",
    "        print(f\"Teacher: {self.teacher}\")\n",
    "        print(f\"Students: {self.students}\")\n",
    "        print(f\"Subject: {self.subject}\")\n",
    "        print(f\"Room Number: {self.room_number}\")"
   ]
  },
  {
   "cell_type": "code",
   "execution_count": 17,
   "metadata": {},
   "outputs": [],
   "source": [
    "# Task 2: Instantiate the Classroom\n",
    "my_class = Classroom(\n",
    "    teacher=\"Mr. Smith\",\n",
    "    students=[\"Alice\", \"Bob\", \"Charlie\", \"Diana\"],\n",
    "    subject=\"Mathematics\",\n",
    "    room_number=101\n",
    ")"
   ]
  },
  {
   "cell_type": "code",
   "execution_count": 18,
   "metadata": {},
   "outputs": [
    {
     "name": "stdout",
     "output_type": "stream",
     "text": [
      "Teacher: Mr. Smith\n",
      "Students: ['Alice', 'Bob', 'Charlie', 'Diana']\n",
      "Subject: Mathematics\n",
      "Room Number: 101\n"
     ]
    }
   ],
   "source": [
    "# Task 3: Print Object Attributes\n",
    "my_class.display_info()"
   ]
  },
  {
   "cell_type": "code",
   "execution_count": 19,
   "metadata": {},
   "outputs": [],
   "source": [
    "# Bonus: Dynamic Student List\n",
    "class ClassroomWithDynamicStudents:\n",
    "    def __init__(self, teacher, *students, subject, room_number):\n",
    "        self.teacher = teacher\n",
    "        self.students = list(students)\n",
    "        self.subject = subject\n",
    "        self.room_number = room_number\n",
    "\n",
    "    def display_info(self):\n",
    "        print(f\"Teacher: {self.teacher}\")\n",
    "        print(f\"Students: {self.students}\")\n",
    "        print(f\"Subject: {self.subject}\")\n",
    "        print(f\"Room Number: {self.room_number}\")"
   ]
  },
  {
   "cell_type": "code",
   "execution_count": 20,
   "metadata": {},
   "outputs": [],
   "source": [
    "# Bonus Task: Test Dynamic Student List\n",
    "bonus_class = ClassroomWithDynamicStudents(\n",
    "    \"Ms. Johnson\",\n",
    "    \"Eva\", \"Frank\", \"Grace\", \"Henry\",\n",
    "    subject=\"Science\",\n",
    "    room_number=102\n",
    ")\n"
   ]
  },
  {
   "cell_type": "code",
   "execution_count": 21,
   "metadata": {},
   "outputs": [
    {
     "name": "stdout",
     "output_type": "stream",
     "text": [
      "Teacher: Ms. Johnson\n",
      "Students: ['Eva', 'Frank', 'Grace', 'Henry']\n",
      "Subject: Science\n",
      "Room Number: 102\n"
     ]
    }
   ],
   "source": [
    "bonus_class.display_info()"
   ]
  },
  {
   "cell_type": "markdown",
   "metadata": {},
   "source": [
    "When you run this code, it will define a `Classroom` class, create an instance with the given attributes, and print those attributes using the `display_info` method. The bonus part demonstrates how to use variable arguments (*args) to accept a dynamic list of student names during class initialization. This feature is tested by creating another instance of the `ClassroomWithDynamicStudents` class with a varying number of students."
   ]
  },
  {
   "cell_type": "markdown",
   "metadata": {},
   "source": [
    "> **Note**: You will learn about `__str__` later which is used to define the string representation of an object. For now, we are using a separate method `display_info` to print the object attributes but in practice, you can use `__str__` for this purpose."
   ]
  }
 ],
 "metadata": {
  "kernelspec": {
   "display_name": "py310",
   "language": "python",
   "name": "python3"
  },
  "language_info": {
   "codemirror_mode": {
    "name": "ipython",
    "version": 3
   },
   "file_extension": ".py",
   "mimetype": "text/x-python",
   "name": "python",
   "nbconvert_exporter": "python",
   "pygments_lexer": "ipython3",
   "version": "3.10.12"
  }
 },
 "nbformat": 4,
 "nbformat_minor": 2
}
