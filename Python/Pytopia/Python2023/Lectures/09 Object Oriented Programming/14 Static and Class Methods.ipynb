{
 "cells": [
  {
   "cell_type": "markdown",
   "metadata": {},
   "source": [
    "<img src=\"./images/banner.png\" width=\"800\">"
   ]
  },
  {
   "cell_type": "markdown",
   "metadata": {},
   "source": [
    "# Introduction to Method Types in Python"
   ]
  },
  {
   "cell_type": "markdown",
   "metadata": {},
   "source": [
    "Welcome to this lecture on Python's method types. As we dive into this topic, it's crucial to understand the backbone of Python programming - the Object-Oriented Programming (OOP) concepts that you're already familiar with, including classes, objects, methods, and the pillars of OOP such as polymorphism, encapsulation, inheritance, and abstraction. Today, we'll focus on a somewhat nuanced, yet fundamental aspect of OOP in Python - the different types of methods you can define within a class: instance methods, static methods, and class methods.\n"
   ]
  },
  {
   "cell_type": "markdown",
   "metadata": {},
   "source": [
    "In OOP, **methods** are functions defined inside a class that describe the behaviors of an object. They are essential for any class-based code as they help objects to interact with each other and with their environment in a structured way. Prior discussions have introduced how methods can manipulate object data, embody functionalities, and contribute to the class's overall behavior. Methods are powerful, allowing us to model real-world entities by combining them with attributes (data) inside classes.\n"
   ]
  },
  {
   "cell_type": "markdown",
   "metadata": {},
   "source": [
    "In Python classes, not all methods are created equal. There are three primary types you'll encounter:\n",
    "\n",
    "1. **Instance Methods**: The most common type, these methods operate on an instance of the class (an object). They take at least one parameter: `self`, which represents the instance through which the method is called. Instance methods can access and modify the object's state since they have access to `self`.\n",
    "\n",
    "2. **Static Methods**: Defined within a class, static methods are not linked to any instance. They do not take `self` or `cls` as the first argument. They are utility methods that do not access instance or class variables directly. Static methods are marked with the `@staticmethod` decorator to tell Python that they are static. We use them when a method in a class doesn't use or modify the class or its instances.\n",
    "\n",
    "3. **Class Methods**: Similar to static methods but with a twist, class methods work with the class itself rather than its instances. They take `cls` as their first parameter, allowing them to modify class state that applies across all instances. Class methods are decorated with `@classmethod`.\n"
   ]
  },
  {
   "cell_type": "markdown",
   "metadata": {},
   "source": [
    "Understanding the distinction between these method types is paramount for any Python developer aiming to write clean, efficient, and scalable code. Each type serves a unique purpose:\n",
    "\n",
    "- **Instance methods** are your go-to for most functionality affecting individual objects.\n",
    "- **Static methods** help organize utility functions related to a class but that don't necessarily need access to its instances or class attributes.\n",
    "- **Class methods** are powerful tools for modifying class attributes - hence affecting all instances, and can also serve as alternative constructors.\n"
   ]
  },
  {
   "cell_type": "markdown",
   "metadata": {},
   "source": [
    "Knowing when and how to use each can vastly improve your ability to design and implement Python classes effectively. It allows for more readable, maintainable, and organized code - especially in complex projects. Moreover, these method types embody fundamental OOP principles, enabling you to model real-world problems more accurately within your software.\n"
   ]
  },
  {
   "cell_type": "markdown",
   "metadata": {},
   "source": [
    "Throughout this lecture, we'll explore each method type in detail, providing you with the knowledge and confidence to utilize them appropriately in your Python projects."
   ]
  },
  {
   "cell_type": "markdown",
   "metadata": {},
   "source": [
    "**Table of contents**<a id='toc0_'></a>    \n",
    "- [Instance Methods](#toc1_)    \n",
    "- [Static Methods](#toc2_)    \n",
    "  - [Syntax](#toc2_1_)    \n",
    "  - [Practical Exercise: Enhance a Class by Integrating a Static Method](#toc2_2_)    \n",
    "- [Understanding Class Methods](#toc3_)    \n",
    "  - [Syntax](#toc3_1_)    \n",
    "  - [Practical Exercise: Implement a Class Method to Modify Class State](#toc3_2_)    \n",
    "- [Comparison between Instance, Static, and Class Methods](#toc4_)    \n",
    "  - [When to Use Each Type](#toc4_1_)    \n",
    "  - [Key Differences in Their Signatures and Effects](#toc4_2_)    \n",
    "  - [Real-world Application Scenarios](#toc4_3_)    \n",
    "\n",
    "<!-- vscode-jupyter-toc-config\n",
    "\tnumbering=false\n",
    "\tanchor=true\n",
    "\tflat=false\n",
    "\tminLevel=2\n",
    "\tmaxLevel=6\n",
    "\t/vscode-jupyter-toc-config -->\n",
    "<!-- THIS CELL WILL BE REPLACED ON TOC UPDATE. DO NOT WRITE YOUR TEXT IN THIS CELL -->"
   ]
  },
  {
   "cell_type": "markdown",
   "metadata": {},
   "source": [
    "## <a id='toc1_'></a>[Instance Methods](#toc0_)"
   ]
  },
  {
   "cell_type": "markdown",
   "metadata": {},
   "source": [
    "Instance methods form the backbone of object-oriented programming in Python. They are the most commonly used type of method, pivotal for interacting with class instances. Let’s explore these methods in detail.\n"
   ]
  },
  {
   "cell_type": "markdown",
   "metadata": {},
   "source": [
    "An **instance method** operates on an instance of a class, using the instance's data and attributes to perform operations or calculations. This type of method can modify the state of an instance, access its attributes, and even call other instance methods. It's here where the core behavior of an object is defined, embodying the principle that objects encapsulate both data and behaviors related to that data.\n"
   ]
  },
  {
   "cell_type": "markdown",
   "metadata": {},
   "source": [
    "Every instance method takes at least one parameter — traditionally named `self` — which represents the instance on which the method is called. This is implicit; you don't pass `self` when you call an instance method on an object, but Python passes the object to the method behind the scenes. The syntax looks like this:\n",
    "\n",
    "```python\n",
    "class MyClass:\n",
    "    def my_instance_method(self, other_parameters):\n",
    "        # Operations using 'self' and other parameters\n",
    "```\n"
   ]
  },
  {
   "cell_type": "markdown",
   "metadata": {},
   "source": [
    "Why does `self` matter? Because it's how your method knows which object it's operating on. This allows instance methods to access other attributes and methods associated with that object, enabling you to maintain and modify the object's state, where the state refers to the data held by an object’s attributes.\n"
   ]
  },
  {
   "cell_type": "markdown",
   "metadata": {},
   "source": [
    "Consider the classic example of a `Dog` class. Each `Dog` instance has attributes like `name` and `age`, and we can define an instance method to describe the `bark` behavior.\n"
   ]
  },
  {
   "cell_type": "code",
   "execution_count": 1,
   "metadata": {},
   "outputs": [],
   "source": [
    "class Dog:\n",
    "    def __init__(self, name, age):\n",
    "        self.name = name\n",
    "        self.age = age\n",
    "\n",
    "    def bark(self):\n",
    "        return f\"{self.name} says woof!\""
   ]
  },
  {
   "cell_type": "code",
   "execution_count": 2,
   "metadata": {},
   "outputs": [],
   "source": [
    "# Creating an instance of Dog\n",
    "my_dog = Dog(\"Buddy\", 4)"
   ]
  },
  {
   "cell_type": "code",
   "execution_count": 3,
   "metadata": {},
   "outputs": [
    {
     "data": {
      "text/plain": [
       "'Buddy says woof!'"
      ]
     },
     "execution_count": 3,
     "metadata": {},
     "output_type": "execute_result"
    }
   ],
   "source": [
    "# Calling an instance method\n",
    "my_dog.bark()"
   ]
  },
  {
   "cell_type": "markdown",
   "metadata": {},
   "source": [
    "Here, `bark` is an instance method that accesses the `name` attribute of the `Dog` instance through `self` to produce a behavior."
   ]
  },
  {
   "cell_type": "markdown",
   "metadata": {},
   "source": [
    "## <a id='toc2_'></a>[Static Methods](#toc0_)"
   ]
  },
  {
   "cell_type": "markdown",
   "metadata": {},
   "source": [
    "In Python, static methods are a distinctive type of method that, unlike instance methods, do not require an instance reference. They do not modify the instance or class state and are generally used to perform utility tasks related to the class. Let's delve deeper into static methods and see how they can be effectively used.\n"
   ]
  },
  {
   "cell_type": "markdown",
   "metadata": {},
   "source": [
    "A **static method** is a method that belongs to a class but does not use any object or class-specific data. It is *static* because its effect does not depend on the state of the instance or the class itself. These methods can neither access nor modify class or instance state, making them somewhat independent from the class's other functionalities.\n"
   ]
  },
  {
   "cell_type": "markdown",
   "metadata": {},
   "source": [
    "Static methods are marked with a special decorator, `@staticmethod`, indicating to Python that this is a method that should not expect the `self` (the instance) or `cls` (the class) as the first parameter. However, for the purposes of this overview, we won't delve deeply into decorators or their syntax.\n"
   ]
  },
  {
   "cell_type": "markdown",
   "metadata": {},
   "source": [
    "For now just remember that Tthe `@staticmethod` you will see in a method definition is actually a decorator. In Python, decorators are a powerful and advanced feature that allows us to alter the behavior of functions or methods. By using @staticmethod, we're telling Python, \"This method is not tied to any instance or class; treat it as a regular function that happens to live inside a class.\""
   ]
  },
  {
   "cell_type": "markdown",
   "metadata": {},
   "source": [
    "Decorators and their underlying mechanics are a sophisticated topic, requiring a good grasp of several Python concepts. They're powerful tools in a developer's toolkit, offering the ability to write cleaner, more readable, and more efficient code. Given their complexity, we'll delve into decorators in detail in the Advanced Python course. For now, it's enough to know that by using `@staticmethod`, we're leveraging decorators to modify how our method behaves regarding the class and its instances."
   ]
  },
  {
   "cell_type": "markdown",
   "metadata": {},
   "source": [
    "### <a id='toc2_1_'></a>[Syntax](#toc0_)\n"
   ]
  },
  {
   "cell_type": "markdown",
   "metadata": {},
   "source": [
    "Here is a basic representation of a static method within a class:\n",
    "\n",
    "```python\n",
    "class MyClass:\n",
    "\n",
    "    @staticmethod\n",
    "    def my_static_method(parameters):\n",
    "        # operations\n",
    "```\n"
   ]
  },
  {
   "cell_type": "markdown",
   "metadata": {},
   "source": [
    "Note that `parameters` do not include `self`. This is the key distinction between static and instance methods. Static methods are not tied to any instance or class state, and they are not able to access or modify instance or class attributes directly.\n"
   ]
  },
  {
   "cell_type": "markdown",
   "metadata": {},
   "source": [
    "Static methods shine in scenarios where you need to perform a function that's related to the class but doesn't necessarily interact with class-specific data. For example:\n",
    "\n",
    "- **Utility tasks:** Functions that perform a common task, not dependent on instance or class variables.\n",
    "- **Independent functionality:** When a method is logically related to the class but does not use its attributes or other methods.\n",
    "- **Grouping classes:** When you want to group several classes with functionalities that make sense being together but do not require class or instance data.\n"
   ]
  },
  {
   "cell_type": "markdown",
   "metadata": {},
   "source": [
    "Consider a `MathOperations` class with methods related to mathematical operations. A method to calculate the square root can be a static method since it performs a generic calculation not tied to an instance or class state.\n"
   ]
  },
  {
   "cell_type": "code",
   "execution_count": 4,
   "metadata": {},
   "outputs": [],
   "source": [
    "class MathOperations:\n",
    "    @staticmethod\n",
    "    def calculate_square_root(number):\n",
    "        return number ** 0.5"
   ]
  },
  {
   "cell_type": "markdown",
   "metadata": {},
   "source": [
    "To use this static method, you don't need an instance of `MathOperations`:\n"
   ]
  },
  {
   "cell_type": "code",
   "execution_count": 5,
   "metadata": {},
   "outputs": [
    {
     "data": {
      "text/plain": [
       "3.0"
      ]
     },
     "execution_count": 5,
     "metadata": {},
     "output_type": "execute_result"
    }
   ],
   "source": [
    "result = MathOperations.calculate_square_root(9)\n",
    "result"
   ]
  },
  {
   "cell_type": "markdown",
   "metadata": {},
   "source": [
    "### <a id='toc2_2_'></a>[Practical Exercise: Enhance a Class by Integrating a Static Method](#toc0_)\n"
   ]
  },
  {
   "cell_type": "markdown",
   "metadata": {},
   "source": [
    "Add a static method to a `TemperatureConverter` class that converts Celsius to Fahrenheit, a calculation independent of any class or instance state.\n"
   ]
  },
  {
   "cell_type": "markdown",
   "metadata": {},
   "source": [
    "1. **Define the `TemperatureConverter` Class**\n"
   ]
  },
  {
   "cell_type": "markdown",
   "metadata": {},
   "source": [
    "First, we start with a simple class definition:\n"
   ]
  },
  {
   "cell_type": "code",
   "execution_count": 7,
   "metadata": {},
   "outputs": [],
   "source": [
    "class TemperatureConverter:\n",
    "    # Class definition here\n",
    "    pass"
   ]
  },
  {
   "cell_type": "markdown",
   "metadata": {},
   "source": [
    "2. **Add a Static Method for Conversion**\n"
   ]
  },
  {
   "cell_type": "markdown",
   "metadata": {},
   "source": [
    "Implement the static method for converting Celsius to Fahrenheit. The formula for the conversion is `(celsius * 9/5) + 32`:\n"
   ]
  },
  {
   "cell_type": "code",
   "execution_count": 8,
   "metadata": {},
   "outputs": [],
   "source": [
    "class TemperatureConverter:\n",
    "    @staticmethod\n",
    "    def celsius_to_fahrenheit(celsius):\n",
    "        return (celsius * 9/5) + 32"
   ]
  },
  {
   "cell_type": "markdown",
   "metadata": {},
   "source": [
    "3. **Test the Static Method**\n"
   ]
  },
  {
   "cell_type": "markdown",
   "metadata": {},
   "source": [
    "Now, let's use this static method without creating an instance of `TemperatureConverter`:\n"
   ]
  },
  {
   "cell_type": "code",
   "execution_count": 9,
   "metadata": {},
   "outputs": [
    {
     "data": {
      "text/plain": [
       "'25°C is equal to 77.0°F'"
      ]
     },
     "execution_count": 9,
     "metadata": {},
     "output_type": "execute_result"
    }
   ],
   "source": [
    "celsius_temp = 25\n",
    "fahrenheit_temp = TemperatureConverter.celsius_to_fahrenheit(celsius_temp)\n",
    "f\"{celsius_temp}°C is equal to {fahrenheit_temp}°F\""
   ]
  },
  {
   "cell_type": "markdown",
   "metadata": {},
   "source": [
    "This exercise demonstrates the utility of static methods for performing operations that are related to the class conceptually but do not interact with class or instance-specific data. By completing it, you further your understanding of how and when to utilize static methods in your Python projects.w"
   ]
  },
  {
   "cell_type": "markdown",
   "metadata": {},
   "source": [
    "## <a id='toc3_'></a>[Class Methods](#toc0_)"
   ]
  },
  {
   "cell_type": "markdown",
   "metadata": {},
   "source": [
    "In the landscape of Python programming, **class methods** stand out as a powerful means for interacting with class-wide data. They bridge the gap between the instance-focused world of instance methods and the state-independent utility of static methods. This section ventures into the realm of class methods, exploring their unique characteristics and practical applications.\n"
   ]
  },
  {
   "cell_type": "markdown",
   "metadata": {},
   "source": [
    "Class methods are akin to instance methods, with the key distinction being their operating domain. While instance methods modify or interact with individual object instances, class methods influence the class itself. This difference in focus allows class methods to affect all instances of the class at once, since they operate on class-wide data.\n"
   ]
  },
  {
   "cell_type": "markdown",
   "metadata": {},
   "source": [
    "### <a id='toc3_1_'></a>[Syntax](#toc0_)\n"
   ]
  },
  {
   "cell_type": "markdown",
   "metadata": {},
   "source": [
    "To define a class method, we use the `@classmethod` decorator. This signals to Python that the following method is not just any method but one that should automatically receive the class itself as the first argument instead of an instance. This first parameter is conventionally named `cls`, denoting 'class'. Here's the basic syntax:\n"
   ]
  },
  {
   "cell_type": "markdown",
   "metadata": {},
   "source": [
    "```python\n",
    "class MyClass:\n",
    "    @classmethod\n",
    "    def my_class_method(cls, other_parameters):\n",
    "        # Operations using 'cls' and other parameters\n",
    "```\n"
   ]
  },
  {
   "cell_type": "markdown",
   "metadata": {},
   "source": [
    "Notice how `cls` gives us access to the class attributes, enabling us to modify class state or even spawn new instances.\n"
   ]
  },
  {
   "cell_type": "markdown",
   "metadata": {},
   "source": [
    "Class methods shine in scenarios that demand modifications to the class state or require operations that pertain to the class as a whole rather than individual instances. \n"
   ]
  },
  {
   "cell_type": "markdown",
   "metadata": {},
   "source": [
    "Consider the need for a class that only ever has one instance — a common design pattern known as Singleton. We can use a class method to manage this constraint by checking and returning an existing instance or creating a new one if none exists.\n"
   ]
  },
  {
   "cell_type": "code",
   "execution_count": 10,
   "metadata": {},
   "outputs": [],
   "source": [
    "class Singleton:\n",
    "\n",
    "    _instance = None\n",
    "\n",
    "    def __new__(cls):\n",
    "        if cls._instance is None:\n",
    "            print(\"Creating the Singleton instance\")\n",
    "            cls._instance = super(Singleton, cls).__new__(cls)\n",
    "        return cls._instance\n",
    "\n",
    "    @classmethod\n",
    "    def get_instance(cls):\n",
    "        if not cls._instance:\n",
    "            cls()\n",
    "        return cls._instance"
   ]
  },
  {
   "cell_type": "code",
   "execution_count": 12,
   "metadata": {},
   "outputs": [],
   "source": [
    "obj1 = Singleton()"
   ]
  },
  {
   "cell_type": "code",
   "execution_count": 13,
   "metadata": {},
   "outputs": [],
   "source": [
    "obj2 = Singleton()"
   ]
  },
  {
   "cell_type": "code",
   "execution_count": 14,
   "metadata": {},
   "outputs": [
    {
     "data": {
      "text/plain": [
       "True"
      ]
     },
     "execution_count": 14,
     "metadata": {},
     "output_type": "execute_result"
    }
   ],
   "source": [
    "obj1 is obj2"
   ]
  },
  {
   "cell_type": "markdown",
   "metadata": {},
   "source": [
    "### <a id='toc3_2_'></a>[Practical Exercise: Implement a Class Method to Modify Class State](#toc0_)\n"
   ]
  },
  {
   "cell_type": "markdown",
   "metadata": {},
   "source": [
    "Write an `Inventory` class by integrating a class method that can adjust the discount rate applicable to all products in the inventory.\n"
   ]
  },
  {
   "cell_type": "markdown",
   "metadata": {},
   "source": [
    "1. **Define the `Inventory` Class**\n"
   ]
  },
  {
   "cell_type": "markdown",
   "metadata": {},
   "source": [
    "Start with an `Inventory` class containing a class attribute `discount_rate` and some instance attributes like `product_name` and `product_price`.\n"
   ]
  },
  {
   "cell_type": "code",
   "execution_count": 15,
   "metadata": {},
   "outputs": [],
   "source": [
    "class Inventory:\n",
    "    discount_rate = 10  # percent\n",
    "\n",
    "    def __init__(self, product_name, product_price):\n",
    "        self.product_name = product_name\n",
    "        self.product_price = product_price"
   ]
  },
  {
   "cell_type": "markdown",
   "metadata": {},
   "source": [
    "2. **Add a Class Method to Change the Discount Rate**\n"
   ]
  },
  {
   "cell_type": "markdown",
   "metadata": {},
   "source": [
    "Implement a class method to modify the `discount_rate` class attribute, affecting all inventory items.\n"
   ]
  },
  {
   "cell_type": "code",
   "execution_count": 16,
   "metadata": {},
   "outputs": [],
   "source": [
    "class Inventory:\n",
    "    discount_rate = 10  # percent\n",
    "\n",
    "    def __init__(self, product_name, product_price):\n",
    "        self.product_name = product_name\n",
    "        self.product_price = product_price\n",
    "\n",
    "    @classmethod\n",
    "    def set_discount_rate(cls, new_rate):\n",
    "        cls.discount_rate = new_rate"
   ]
  },
  {
   "cell_type": "markdown",
   "metadata": {},
   "source": [
    "3. **Test the Class Method**\n"
   ]
  },
  {
   "cell_type": "markdown",
   "metadata": {},
   "source": [
    "Demonstrate the effect of changing the class-wide discount rate:\n"
   ]
  },
  {
   "cell_type": "code",
   "execution_count": 17,
   "metadata": {},
   "outputs": [
    {
     "name": "stdout",
     "output_type": "stream",
     "text": [
      "Initial discount rate: 10\n"
     ]
    }
   ],
   "source": [
    "# Initial discount rate\n",
    "print(\"Initial discount rate:\", Inventory.discount_rate)"
   ]
  },
  {
   "cell_type": "code",
   "execution_count": 18,
   "metadata": {},
   "outputs": [
    {
     "name": "stdout",
     "output_type": "stream",
     "text": [
      "New discount rate: 15\n"
     ]
    }
   ],
   "source": [
    "# Changing the discount rate with a class method\n",
    "Inventory.set_discount_rate(15)\n",
    "print(\"New discount rate:\", Inventory.discount_rate)"
   ]
  },
  {
   "cell_type": "markdown",
   "metadata": {},
   "source": [
    "This exercise underscores the utility of class methods in managing and mutating class-level information, thereby impacting all instances of the class uniformly. By completing it, you gain insight into the strategic application of class methods for scenarios requiring class-wide data manipulation."
   ]
  },
  {
   "cell_type": "markdown",
   "metadata": {},
   "source": [
    "## <a id='toc4_'></a>[Comparison between Instance, Static, and Class Methods](#toc0_)"
   ]
  },
  {
   "cell_type": "markdown",
   "metadata": {},
   "source": [
    "In Python's object-oriented programming paradigm, understanding the distinctions between instance methods, static methods, and class methods is pivotal for writing efficient and maintainable code. Each method type has its specific use case, parameters, and effects on the class or its instances. This section provides a comparative overview to clarify when to use each method type, highlighting their key differences and real-world application scenarios.\n"
   ]
  },
  {
   "cell_type": "markdown",
   "metadata": {},
   "source": [
    "### <a id='toc4_1_'></a>[When to Use Each Type](#toc0_)\n"
   ]
  },
  {
   "cell_type": "markdown",
   "metadata": {},
   "source": [
    "1. **Instance Methods** are the default choice for most class functionalities. Use them when:\n",
    "   - The method needs to access or modify the state of an individual instance.\n",
    "   - The method functionality is closely tied to the object's properties.\n",
    "\n",
    "2. **Static Methods** come into play when:\n",
    "   - The method's functionality is related to the class but does not require access to class or instance-specific data.\n",
    "   - You need a utility function that remains within the class's namespace for readability and organizational purposes.\n",
    "\n",
    "3. **Class Methods** are best utilized when:\n",
    "   - The method needs to modify the class state that would be applicable across all instances.\n",
    "   - You need factory methods that can return class instances in a different way than the constructor might allow.\n"
   ]
  },
  {
   "cell_type": "markdown",
   "metadata": {},
   "source": [
    "### <a id='toc4_2_'></a>[Key Differences in Their Signatures and Effects](#toc0_)\n"
   ]
  },
  {
   "cell_type": "markdown",
   "metadata": {},
   "source": [
    "- **Instance Methods**:\n",
    "  - Signature includes `self` as the first parameter, automatically passed by Python to refer to the instance calling the method.\n",
    "  - Directly access and modify the attributes and other methods of the instance through `self`.\n",
    "\n",
    "- **Static Methods**:\n",
    "  - Do not include `self` or `cls` as parameters. They operate independently of instance or class states.\n",
    "  - Defined using the `@staticmethod` decorator, distinguishing them from other method types in the class body.\n",
    "\n",
    "- **Class Methods**:\n",
    "  - Include `cls` as the first parameter, representing the class itself, instead of an instance of the class.\n",
    "  - Defined with the `@classmethod` decorator, allowing them to modify class state that affects all instances.\n"
   ]
  },
  {
   "cell_type": "markdown",
   "metadata": {},
   "source": [
    "### <a id='toc4_3_'></a>[Real-world Application Scenarios](#toc0_)\n"
   ]
  },
  {
   "cell_type": "markdown",
   "metadata": {},
   "source": [
    "**Instance Methods:**\n",
    "\n",
    "Imagine a `BankAccount` class where each instance represents a user's bank account. Instance methods could include actions like `deposit` or `withdraw`, which are specific to each account.\n"
   ]
  },
  {
   "cell_type": "code",
   "execution_count": 19,
   "metadata": {},
   "outputs": [],
   "source": [
    "class BankAccount:\n",
    "    def __init__(self, balance):\n",
    "        self.balance = balance\n",
    "\n",
    "    def deposit(self, amount):\n",
    "        self.balance += amount"
   ]
  },
  {
   "cell_type": "markdown",
   "metadata": {},
   "source": [
    "**Static Methods:**\n",
    "\n",
    "Consider a `MathHelper` class that provides general math utilities like calculating the area of a circle. These utilities do not depend on any instance or class state.\n"
   ]
  },
  {
   "cell_type": "code",
   "execution_count": 20,
   "metadata": {},
   "outputs": [],
   "source": [
    "class MathHelper:\n",
    "\n",
    "    @staticmethod\n",
    "    def area_of_circle(radius):\n",
    "        return 3.14 * radius * radius"
   ]
  },
  {
   "cell_type": "markdown",
   "metadata": {},
   "source": [
    "**Class Methods:**\n",
    "\n",
    "For a class `Employee`, you might use a class method as a factory to create employees from a string (e.g., \"John-Doe-50000\") representing their name and salary.\n"
   ]
  },
  {
   "cell_type": "code",
   "execution_count": 21,
   "metadata": {},
   "outputs": [],
   "source": [
    "class Employee:\n",
    "    def __init__(self, name, salary):\n",
    "        self.name = name\n",
    "        self.salary = salary\n",
    "\n",
    "    @classmethod\n",
    "    def from_string(cls, employee_str):\n",
    "        name, salary = employee_str.split('-')\n",
    "        return cls(name, int(salary))"
   ]
  },
  {
   "cell_type": "code",
   "execution_count": 22,
   "metadata": {},
   "outputs": [],
   "source": [
    "emp = Employee.from_string(\"John-5000\")"
   ]
  },
  {
   "cell_type": "code",
   "execution_count": 24,
   "metadata": {},
   "outputs": [
    {
     "data": {
      "text/plain": [
       "('John', 5000)"
      ]
     },
     "execution_count": 24,
     "metadata": {},
     "output_type": "execute_result"
    }
   ],
   "source": [
    "emp.name, emp.salary"
   ]
  },
  {
   "cell_type": "markdown",
   "metadata": {},
   "source": [
    "In summary, the choice between instance, static, and class methods hinges on whether your method needs to access or modify the object's instance data, work independently of any specific instance or class data, or manipulate class state for all instances, respectively. Understanding these differences enables Python developers to more effectively model real-world problems and solutions within their code, leading to clearer, more logical, and easily maintainable OOP practices."
   ]
  }
 ],
 "metadata": {
  "kernelspec": {
   "display_name": "py310",
   "language": "python",
   "name": "python3"
  },
  "language_info": {
   "codemirror_mode": {
    "name": "ipython",
    "version": 3
   },
   "file_extension": ".py",
   "mimetype": "text/x-python",
   "name": "python",
   "nbconvert_exporter": "python",
   "pygments_lexer": "ipython3",
   "version": "3.10.13"
  }
 },
 "nbformat": 4,
 "nbformat_minor": 2
}
