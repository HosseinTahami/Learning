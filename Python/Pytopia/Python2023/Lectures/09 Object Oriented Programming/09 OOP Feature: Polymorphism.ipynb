{
 "cells": [
  {
   "cell_type": "markdown",
   "metadata": {},
   "source": [
    "<img src=\"./images/banner.png\" width=\"800\">"
   ]
  },
  {
   "cell_type": "markdown",
   "metadata": {},
   "source": [
    "# Polymorphism and Inheritance"
   ]
  },
  {
   "cell_type": "markdown",
   "metadata": {},
   "source": [
    "Polymorphism, from the Greek words \"poly\" (many) and \"morph\" (form), is a concept in object-oriented programming (OOP) that allows objects of different classes to be treated as objects of a common super class. It is a core principle that enables Python developers to write functions and implement features that are applicable to a wide variety of class objects, enhancing flexibility and scalability in software designs.\n"
   ]
  },
  {
   "cell_type": "markdown",
   "metadata": {},
   "source": [
    "In Python, polymorphism manifests itself in several ways, reflecting the language's dynamic and flexible nature. At its core, polymorphism allows for the expression of a single interface for entities of different types. This is best illustrated through two primary aspects:\n",
    "\n",
    "1. **Method Overriding**: This occurs in the context of inheritance, where a method in a subclass has the same name, and parameters as a method in its superclass, but the implementation differs. This characteristic of polymorphism allows a subclass to customize or completely replace the behavior of a method defined in its superclass.\n",
    "\n",
    "2. **Duck Typing**: Python is known for its \"duck typing\" philosophy, encapsulated in the saying, \"If it looks like a duck and quacks like a duck, it's a duck.\" This means that the suitability of an object for a particular operation is determined by the presence of certain methods and properties, rather than the object's type itself being of primary concern. This trait allows for a more flexible and intuitive way to apply polymorphism.\n"
   ]
  },
  {
   "cell_type": "markdown",
   "metadata": {},
   "source": [
    "Consider a simple example to demonstrate polymorphism in action—one that involves different types of vehicles, similar to our previous discussions about inheritance.\n"
   ]
  },
  {
   "cell_type": "markdown",
   "metadata": {},
   "source": [
    "Imagine we have a base class named `Vehicle` with a method called `display_info()` that prints general information about the vehicle. We then have several subclasses, such as `Car` and `Motorcycle`, each with their own implementation of the `display_info()` method:"
   ]
  },
  {
   "cell_type": "code",
   "execution_count": 1,
   "metadata": {},
   "outputs": [],
   "source": [
    "class Vehicle:\n",
    "    def display_info(self):\n",
    "        print(\"This is a vehicle\")\n",
    "\n",
    "class Car(Vehicle):\n",
    "    def display_info(self):\n",
    "        print(\"This is a car\")\n",
    "\n",
    "class Motorcycle(Vehicle):\n",
    "    def display_info(self):\n",
    "        print(\"This is a motorcycle\")"
   ]
  },
  {
   "cell_type": "code",
   "execution_count": 2,
   "metadata": {},
   "outputs": [],
   "source": [
    "# Function that takes any vehicle and calls its display_info method\n",
    "def vehicle_info(vehicle):\n",
    "    vehicle.display_info()"
   ]
  },
  {
   "cell_type": "code",
   "execution_count": 3,
   "metadata": {},
   "outputs": [],
   "source": [
    "# Create instances\n",
    "car = Car()\n",
    "motorcycle = Motorcycle()"
   ]
  },
  {
   "cell_type": "code",
   "execution_count": 4,
   "metadata": {},
   "outputs": [
    {
     "name": "stdout",
     "output_type": "stream",
     "text": [
      "This is a car\n"
     ]
    }
   ],
   "source": [
    "# Demonstrating polymorphism\n",
    "vehicle_info(car)"
   ]
  },
  {
   "cell_type": "code",
   "execution_count": 5,
   "metadata": {},
   "outputs": [
    {
     "name": "stdout",
     "output_type": "stream",
     "text": [
      "This is a motorcycle\n"
     ]
    }
   ],
   "source": [
    "vehicle_info(motorcycle)"
   ]
  },
  {
   "cell_type": "markdown",
   "metadata": {},
   "source": [
    "In this example, the `vehicle_info` function demonstrates polymorphism by interacting with any object that has a `display_info` method, regardless of its specific class. This means that the function is designed to work with a generic `Vehicle` type but can dynamically adapt to the specific type of vehicle it encounters, thanks to the polymorphic nature of Python.\n"
   ]
  },
  {
   "cell_type": "markdown",
   "metadata": {},
   "source": [
    "Polymorphism is crucial in Python for creating flexible and reusable code. It allows developers to design functions and methods that can operate on objects of different types, provided they share a certain interface. This capability is particularly valuable in large and complex software systems, where maintainability, scalability, and readability are paramount. By embracing polymorphism, Python developers can write less code, reduce duplication, and ensure their applications are easy to extend and adapt to new requirements."
   ]
  },
  {
   "cell_type": "markdown",
   "metadata": {},
   "source": [
    "**Table of contents**<a id='toc0_'></a>    \n",
    "- [Implementing Polymorphism in Inheritance](#toc1_)    \n",
    "- [Dynamic Typing and Polymorphic Behavior](#toc2_)    \n",
    "  - [Dynamic Typing in Action](#toc2_1_)    \n",
    "  - [Advantages and Pitfalls of Dynamic Typing and Polymorphism](#toc2_2_)    \n",
    "- [Exercise: Polymorphism and Dynamic Typing in Python](#toc3_)    \n",
    "  - [Solution](#toc3_1_)    \n",
    "\n",
    "<!-- vscode-jupyter-toc-config\n",
    "\tnumbering=false\n",
    "\tanchor=true\n",
    "\tflat=false\n",
    "\tminLevel=2\n",
    "\tmaxLevel=6\n",
    "\t/vscode-jupyter-toc-config -->\n",
    "<!-- THIS CELL WILL BE REPLACED ON TOC UPDATE. DO NOT WRITE YOUR TEXT IN THIS CELL -->"
   ]
  },
  {
   "cell_type": "markdown",
   "metadata": {},
   "source": [
    "## <a id='toc1_'></a>[Implementing Polymorphism in Inheritance](#toc0_)"
   ]
  },
  {
   "cell_type": "markdown",
   "metadata": {},
   "source": [
    "Polymorphism, when combined with inheritance, opens up a multitude of possibilities in object-oriented programming (OOP) by allowing subclasses to have different implementations of methods that are defined in their superclass. This not only enhances flexibility but also promotes a more logical and hierarchical structure in code design. In this section, we will dive into how polymorphism is implemented in Python through inheritance, providing versatility and power to your programming concepts.\n"
   ]
  },
  {
   "cell_type": "markdown",
   "metadata": {},
   "source": [
    "One of the central tenets of implementing polymorphism in inheritance is through the concept of method overriding. Method overriding allows a subclass to provide a specific implementation of a method that is already defined in its superclass. This means that the subclass can redefine how the method works, tailoring it to fit its unique requirements, while still maintaining the same method signature.\n"
   ]
  },
  {
   "cell_type": "markdown",
   "metadata": {},
   "source": [
    "Consider a scenario where you are building a software system for an animal shelter. You might start with a base class `Animal` that contains a method `speak()`. The default behavior might be quite simple, but certainly, different animals will have different sounds:\n"
   ]
  },
  {
   "cell_type": "code",
   "execution_count": 6,
   "metadata": {},
   "outputs": [],
   "source": [
    "class Animal:\n",
    "    def speak(self):\n",
    "        return \"This animal does not have a sound\"\n",
    "\n",
    "class Dog(Animal):\n",
    "    def speak(self):\n",
    "        return \"Woof!\"\n",
    "\n",
    "class Cat(Animal):\n",
    "    def speak(self):\n",
    "        return \"Meow\""
   ]
  },
  {
   "cell_type": "code",
   "execution_count": 7,
   "metadata": {},
   "outputs": [],
   "source": [
    "# Instantiate objects\n",
    "dog = Dog()\n",
    "cat = Cat()"
   ]
  },
  {
   "cell_type": "code",
   "execution_count": 8,
   "metadata": {},
   "outputs": [
    {
     "data": {
      "text/plain": [
       "'Woof!'"
      ]
     },
     "execution_count": 8,
     "metadata": {},
     "output_type": "execute_result"
    }
   ],
   "source": [
    "# Utilizing polymorphism\n",
    "dog.speak()"
   ]
  },
  {
   "cell_type": "code",
   "execution_count": 9,
   "metadata": {},
   "outputs": [
    {
     "data": {
      "text/plain": [
       "'Meow'"
      ]
     },
     "execution_count": 9,
     "metadata": {},
     "output_type": "execute_result"
    }
   ],
   "source": [
    "cat.speak()"
   ]
  },
  {
   "cell_type": "markdown",
   "metadata": {},
   "source": [
    "In this example, both `Dog` and `Cat` classes override the `speak()` method of their superclass `Animal`, providing their specific implementations that reflect their unique sounds. This overriding is a clear demonstration of polymorphism, as the method's behavior changes depending on which subclass is invoking it.\n"
   ]
  },
  {
   "cell_type": "markdown",
   "metadata": {},
   "source": [
    "Polymorphism allows for writing code that operates on superclass references but can execute methods specific to subclasses, leading to more flexible and dynamically adaptable code. \n"
   ]
  },
  {
   "cell_type": "markdown",
   "metadata": {},
   "source": [
    "Consider the following example where we have a list of `Animal` objects, and we call the `speak()` method on each, not needing to know the specific type of Animal at runtime:\n"
   ]
  },
  {
   "cell_type": "code",
   "execution_count": 10,
   "metadata": {},
   "outputs": [],
   "source": [
    "# List of animal objects\n",
    "animals = [Dog(), Cat()]"
   ]
  },
  {
   "cell_type": "code",
   "execution_count": 11,
   "metadata": {},
   "outputs": [
    {
     "name": "stdout",
     "output_type": "stream",
     "text": [
      "Woof!\n",
      "Meow\n"
     ]
    }
   ],
   "source": [
    "for animal in animals:\n",
    "    print(animal.speak())"
   ]
  },
  {
   "cell_type": "markdown",
   "metadata": {},
   "source": [
    "This design pattern becomes especially powerful in larger applications, where functions or methods might need to operate on a diverse set of objects without knowing their exact class types beforehand. It allows developers to add new classes that conform to the expected interface (in this case, having a `speak` method) without modifying the functions that operate on them.\n"
   ]
  },
  {
   "cell_type": "markdown",
   "metadata": {},
   "source": [
    "Polymorphism through inheritance is not just a tool for overriding methods; it is also a cornerstone in many design patterns. It allows for the design of flexible interfaces and the implementation of behaviors that can vary at runtime, depending on the object's class. Design patterns like the Strategy pattern, Factory pattern, and Observer pattern heavily rely on polymorphism to achieve their flexible and dynamic nature.\n"
   ]
  },
  {
   "cell_type": "markdown",
   "metadata": {},
   "source": [
    "To sum up, implementing polymorphism in inheritance is a critical skill in Python programming, enhancing the adaptability and scalability of applications. Through method overriding and the dynamic nature of Python, you can create robust systems that are easily extendible and maintainable, following best practices and design principles that lie at the heart of object-oriented programming."
   ]
  },
  {
   "cell_type": "markdown",
   "metadata": {},
   "source": [
    "## <a id='toc2_'></a>[Dynamic Typing and Polymorphic Behavior](#toc0_)"
   ]
  },
  {
   "cell_type": "markdown",
   "metadata": {},
   "source": [
    "Dynamic typing and polymorphism are two cornerstone concepts in Python that significantly contribute to the language's flexibility and ease of use. These concepts allow developers to write more general, reusable code that can operate on objects of multiple types, enhancing the language's capability to handle a wide variety of programming paradigms efficiently.\n"
   ]
  },
  {
   "cell_type": "markdown",
   "metadata": {},
   "source": [
    "Dynamic typing refers to Python's approach to variable types. In Python, variables do not have a fixed type; instead, the type is associated with the object to which the variable currently refers, and this association can change over time as a variable is reassigned to objects of different types. This flexibility is a double-edged sword—it allows for rapid development and ease of use but requires careful attention to manage type-related errors.\n"
   ]
  },
  {
   "cell_type": "markdown",
   "metadata": {},
   "source": [
    "Polymorphic behavior in Python leverages dynamic typing by allowing functions and methods to operate on objects of various types without the need for the code to explicitly check or enforce type compatibility. This is possible because of Python's adherence to the \"duck typing\" principle—if an object behaves like a duck (exhibits the expected behavior/methods), Python treats it as a duck, regardless of its underlying type.\n"
   ]
  },
  {
   "cell_type": "markdown",
   "metadata": {},
   "source": [
    "### <a id='toc2_1_'></a>[Dynamic Typing in Action](#toc0_)\n"
   ]
  },
  {
   "cell_type": "markdown",
   "metadata": {},
   "source": [
    "Consider a simple function that takes an argument and attempts to execute a common operation, like fetching an item:\n"
   ]
  },
  {
   "cell_type": "code",
   "execution_count": 12,
   "metadata": {},
   "outputs": [],
   "source": [
    "def fetch_item(collection, position):\n",
    "    return collection[position]"
   ]
  },
  {
   "cell_type": "code",
   "execution_count": 13,
   "metadata": {},
   "outputs": [
    {
     "data": {
      "text/plain": [
       "2"
      ]
     },
     "execution_count": 13,
     "metadata": {},
     "output_type": "execute_result"
    }
   ],
   "source": [
    "# This function can operate on various types, thanks to dynamic typing\n",
    "fetch_item([1, 2, 3], 1)"
   ]
  },
  {
   "cell_type": "code",
   "execution_count": 14,
   "metadata": {},
   "outputs": [
    {
     "data": {
      "text/plain": [
       "2"
      ]
     },
     "execution_count": 14,
     "metadata": {},
     "output_type": "execute_result"
    }
   ],
   "source": [
    "fetch_item({'a': 1, 'b': 2}, 'b')"
   ]
  },
  {
   "cell_type": "code",
   "execution_count": 15,
   "metadata": {},
   "outputs": [
    {
     "data": {
      "text/plain": [
       "'h'"
      ]
     },
     "execution_count": 15,
     "metadata": {},
     "output_type": "execute_result"
    }
   ],
   "source": [
    "fetch_item(\"Python\", 3)"
   ]
  },
  {
   "cell_type": "markdown",
   "metadata": {},
   "source": [
    "In each call to `fetch_item`, the type of `collection` is different, yet the function performs as expected, demonstrating Python's dynamic typing and its ability to work polymorphically across different object types.\n"
   ]
  },
  {
   "cell_type": "markdown",
   "metadata": {},
   "source": [
    "### <a id='toc2_2_'></a>[Advantages and Pitfalls of Dynamic Typing and Polymorphism](#toc0_)\n"
   ]
  },
  {
   "cell_type": "markdown",
   "metadata": {},
   "source": [
    "The combination of dynamic typing and polymorphic behavior in Python offers several advantages:\n",
    "\n",
    "- **Flexibility and Ease of Development**: Developers can write functions that work on a wide variety of object types, making the code more reusable and reducing the overall codebase size.\n",
    "- **Enhanced Prototyping Speed**: The need for less boilerplate code and type declarations means that prototypes and working programs can be developed quickly.\n",
    "- **Simplification of Complex Systems**: By abstracting away type-specific details, complex systems can be simplified, making them easier to understand and maintain.\n"
   ]
  },
  {
   "cell_type": "markdown",
   "metadata": {},
   "source": [
    "While dynamic typing and polymorphism bring significant benefits, they also require a careful approach to avoid common pitfalls:\n",
    "\n",
    "- **Runtime Errors**: Because type errors are caught at runtime rather than compile-time, applications may face unexpected crashes. Utilizing tools like type hinting and extensive testing can mitigate these issues.\n",
    "- **Readability and Maintainability**: Overuse of dynamic typing and polymorphism might make the code harder to read and maintain by obscuring the expected types of objects. Clear documentation and sensible use of type hinting can help maintain clarity.\n"
   ]
  },
  {
   "cell_type": "markdown",
   "metadata": {},
   "source": [
    "In conclusion, dynamic typing and polymorphic behavior are essential elements of Python's design philosophy, offering a foundation for writing concise, flexible, and powerful code. By understanding and leveraging these concepts appropriately, developers can harness the full potential of Python in creating diverse and effective software solutions."
   ]
  },
  {
   "cell_type": "markdown",
   "metadata": {},
   "source": [
    "<img src=\"../images/exercise-banner.gif\" width=\"800\">"
   ]
  },
  {
   "cell_type": "markdown",
   "metadata": {},
   "source": [
    "## <a id='toc3_'></a>[Exercise: Polymorphism and Dynamic Typing in Python](#toc0_)"
   ]
  },
  {
   "cell_type": "markdown",
   "metadata": {},
   "source": [
    "In this exercise, you will utilize the concepts of polymorphism and dynamic typing to create a simple Python program that handles different types of document files. You will create classes that represent different document types and demonstrate how they can be used interchangeably through a common interface.\n"
   ]
  },
  {
   "cell_type": "markdown",
   "metadata": {},
   "source": [
    "**Scenario:**\n",
    "Imagine you are working on a software tool that handles various document types such as PDFs, Word documents, and Spreadsheets. Each document can be displayed on the screen, but the method of display may vary depending on the document type.\n"
   ]
  },
  {
   "cell_type": "markdown",
   "metadata": {},
   "source": [
    "**Tasks:**\n",
    "\n",
    "1. **Implement a Superclass and Subclasses**:\n",
    "   - Create a superclass called `Document` with a method `display()`. This method should simply print \"Displaying a document.\" as a placeholder.\n",
    "   - Create three subclasses of `Document`: `PDF`, `Word`, and `Spreadsheet`. Each subclass should override the `display()` method with a print statement specific to the document type (e.g., \"Displaying PDF document.\").\n",
    "\n",
    "2. **Demonstrate Polymorphism**:\n",
    "   - Create a function called `display_document` that takes a `Document` object as a parameter and calls its `display()` method.\n",
    "   - Instantiate objects of `PDF`, `Word`, and `Spreadsheet` classes and store them in a list.\n",
    "   - Loop through the list and pass each document object to the `display_document` function to demonstrate polymorphism.\n",
    "\n",
    "3. **Explore Dynamic Typing**:\n",
    "   - Write a function called `change_document_type` that takes a `Document` object and a new class type (e.g., `PDF`, `Word`, or `Spreadsheet`) and returns a new instance of the specified class type.\n",
    "   - Create an instance of one document type and then use `change_document_type` to create a new instance of a different type. Use `display()` to show that the document has changed type.\n",
    "\n",
    "4. **Reflection**:\n",
    "   - Reflect on the use of polymorphism and dynamic typing in the code. Consider how these concepts contribute to the flexibility and scalability of your application.\n"
   ]
  },
  {
   "cell_type": "markdown",
   "metadata": {},
   "source": [
    "This exercise will help you practice object-oriented programming principles, specifically polymorphism and dynamic typing, to see how they allow for more generic and flexible code structures. Remember to test your code to ensure it works as expected and reflects the principles you've learned."
   ]
  },
  {
   "cell_type": "markdown",
   "metadata": {},
   "source": [
    "### <a id='toc3_1_'></a>[Solution](#toc0_)"
   ]
  },
  {
   "cell_type": "markdown",
   "metadata": {},
   "source": [
    "Here is a complete solution to the exercise that demonstrates polymorphism and dynamic typing in Python:"
   ]
  },
  {
   "cell_type": "code",
   "execution_count": 16,
   "metadata": {},
   "outputs": [
    {
     "name": "stdout",
     "output_type": "stream",
     "text": [
      "Displaying PDF document.\n",
      "Displaying Word document.\n",
      "Displaying Spreadsheet document.\n",
      "Displaying Word document.\n",
      "Displaying PDF document.\n"
     ]
    }
   ],
   "source": [
    "# Superclass\n",
    "class Document:\n",
    "    def display(self):\n",
    "        print(\"Displaying a document.\")\n",
    "\n",
    "# Subclasses\n",
    "class PDF(Document):\n",
    "    def display(self):\n",
    "        print(\"Displaying PDF document.\")\n",
    "\n",
    "class Word(Document):\n",
    "    def display(self):\n",
    "        print(\"Displaying Word document.\")\n",
    "\n",
    "class Spreadsheet(Document):\n",
    "    def display(self):\n",
    "        print(\"Displaying Spreadsheet document.\")\n",
    "\n",
    "# Task 2: Demonstrate Polymorphism\n",
    "def display_document(document):\n",
    "    document.display()\n",
    "\n",
    "# Create instances of each document type\n",
    "pdf = PDF()\n",
    "word = Word()\n",
    "spreadsheet = Spreadsheet()\n",
    "\n",
    "# Store the document instances in a list\n",
    "documents = [pdf, word, spreadsheet]\n",
    "\n",
    "# Loop through the list and display each document\n",
    "for document in documents:\n",
    "    display_document(document)\n",
    "\n",
    "# Task 3: Explore Dynamic Typing\n",
    "def change_document_type(document, new_type):\n",
    "    # Create a new instance of the specified type\n",
    "    return new_type()\n",
    "\n",
    "# Initially, create a Word document\n",
    "current_document = Word()\n",
    "current_document.display()  # Should print \"Displaying Word document.\"\n",
    "\n",
    "# Change the document type to PDF\n",
    "current_document = change_document_type(current_document, PDF)\n",
    "current_document.display()  # Should print \"Displaying PDF document.\"\n",
    "\n",
    "# Reflection (Task 4):\n",
    "# Polymorphism allows the `display_document` function to call the `display` method on any object that is a subclass of Document.\n",
    "# This means that the function can work with an object of any derived class without needing to know its specific type.\n",
    "# Dynamic typing enables changing the type of `current_document` at runtime, allowing for flexible and easily changeable code.\n",
    "\n",
    "# The code above provides a simple demonstration of these concepts. In more complex systems, these features can greatly\n",
    "# enhance the ability to extend and maintain the software. However, it's also important to use these features judiciously\n",
    "# to avoid confusion and ensure type safety in your applications."
   ]
  },
  {
   "cell_type": "markdown",
   "metadata": {},
   "source": [
    "By running the code above, you will observe how polymorphism enables the `display_document` function to operate on any subclass of `Document` without knowing the specific type of document it's working with. Additionally, you'll see dynamic typing in action as the `current_document` changes its type from `Word` to `PDF`. The reflection comments provide a brief overview of the advantages of using these concepts in your code."
   ]
  }
 ],
 "metadata": {
  "kernelspec": {
   "display_name": "py310",
   "language": "python",
   "name": "python3"
  },
  "language_info": {
   "codemirror_mode": {
    "name": "ipython",
    "version": 3
   },
   "file_extension": ".py",
   "mimetype": "text/x-python",
   "name": "python",
   "nbconvert_exporter": "python",
   "pygments_lexer": "ipython3",
   "version": "3.10.12"
  }
 },
 "nbformat": 4,
 "nbformat_minor": 2
}
