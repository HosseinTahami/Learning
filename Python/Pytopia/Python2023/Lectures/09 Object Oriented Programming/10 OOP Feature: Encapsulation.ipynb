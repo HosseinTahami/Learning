{
 "cells": [
  {
   "cell_type": "markdown",
   "metadata": {},
   "source": [
    "<img src=\"./images/banner.png\" width=\"800\">"
   ]
  },
  {
   "cell_type": "markdown",
   "metadata": {},
   "source": [
    "# Introduction to Encapsulation"
   ]
  },
  {
   "cell_type": "markdown",
   "metadata": {},
   "source": [
    "Encapsulation is a cornerstone concept in object-oriented programming (OOP), pivotal for achieving a modular, maintainable, and well-structured codebase. It involves bundling the data (attributes) and behaviors (methods) that operate on the data into a single unit, known as a class. Additionally, encapsulation controls access to the internal state of an object to protect it from unintended modification or misuse from the outside world. This principle enhances data integrity, security, and abstraction, allowing developers to create more reliable and scalable software systems.\n"
   ]
  },
  {
   "cell_type": "markdown",
   "metadata": {},
   "source": [
    "In the landscape of OOP, encapsulation serves as the mechanism by which the details of an object's implementation are hidden from the outside world. This means that objects interact with each other through interfaces—defined sets of methods—without needing to understand the complexities behind those interactions. It's through encapsulation that objects are seen as black boxes that expose only what is necessary for their use, making the rest private and shielded from outside interference.\n"
   ]
  },
  {
   "cell_type": "markdown",
   "metadata": {},
   "source": [
    "Unlike statically typed languages such as Java and C++, Python approaches encapsulation and access modification with a philosophy rooted in trust and responsibility, often summarized by the Pythonic mantra \"We are all consenting adults here.\" This reflects the idea that Python developers are expected to exercise discipline and respect the intended use of attributes and methods, even though the language does not enforce strict access controls.\n"
   ]
  },
  {
   "cell_type": "markdown",
   "metadata": {},
   "source": [
    "In languages like **C++** and **Java**, encapsulation is managed through access specifiers like `public`, `private`, and `protected`. These specifiers explicitly define how class members (attributes and methods) can be accessed and modified:\n",
    "\n",
    "- `private` members are accessible only within the class defining them.\n",
    "- `protected` members are accessible within the class and by derived classes (subclasses).\n",
    "- `public` members are accessible from any part of the code.\n"
   ]
  },
  {
   "cell_type": "markdown",
   "metadata": {},
   "source": [
    "These access specifiers enforce a rigid level of control over how data is accessed and modified, ensuring that objects have complete control over their internal state.\n"
   ]
  },
  {
   "cell_type": "markdown",
   "metadata": {},
   "source": [
    "**Python**, on the other hand, does not have built-in support for these access specifiers. Instead, it uses naming conventions to hint at the intended level of access:\n",
    "\n",
    "- **Public Attributes/Methods**: By default, all members of a Python class are public, meaning they can be accessed from anywhere in the code.\n",
    "- **Protected Attributes/Methods**: Indicated by a single underscore prefix `_`, these are intended for internal use by the class and its subclasses. This is more of a convention than a strict rule and serves as a hint to other developers.\n",
    "- **Private Attributes/Methods**: Denoted by a double underscore prefix `__`, these members are name-mangled to make them harder (but not impossible) to access from outside the class. This mechanism doesn't fully prevent access from outside but acts as a stronger suggestion that such members are intended for internal use only.\n"
   ]
  },
  {
   "cell_type": "markdown",
   "metadata": {},
   "source": [
    "<img src=\"./images/access-modification-python.png\" width=\"800\">"
   ]
  },
  {
   "cell_type": "markdown",
   "metadata": {},
   "source": [
    "Python's approach, while seemingly more relaxed, aligns with its dynamic nature and philosophy of simplicity and transparency. It encourages developers to make conscious decisions about the visibility and accessibility of class members based on the principle of \"responsible use\" rather than enforced restrictions. This design choice promotes flexibility but requires a disciplined understanding of when and how to expose class internals responsibly.\n"
   ]
  },
  {
   "cell_type": "markdown",
   "metadata": {},
   "source": [
    "In summary, encapsulation in Python, though conceptually aligned with other OOP languages, is uniquely characterized by a combination of conventions and language features that respect the developer's judgement. Understanding how to effectively implement encapsulation and access controls in Python is essential for crafting robust, secure, and maintainable object-oriented applications."
   ]
  },
  {
   "cell_type": "markdown",
   "metadata": {},
   "source": [
    "**Table of contents**<a id='toc0_'></a>    \n",
    "- [The Foundations of Encapsulation](#toc1_)    \n",
    "- [Public Attributes and Methods](#toc2_)    \n",
    "  - [Defining and Accessing Public Members in Python](#toc2_1_)    \n",
    "- [Protected Attributes and Methods](#toc3_)    \n",
    "  - [Defining and Accessing Protected Members in Python](#toc3_1_)    \n",
    "- [Private Attributes and Methods](#toc4_)    \n",
    "  - [Defining and Accessing Private Members in Python](#toc4_1_)    \n",
    "- [Summary](#toc5_)    \n",
    "  - [Name Mangling in Python](#toc5_1_)    \n",
    "- [Practical Examples: Modifying Access to Class Members](#toc6_)    \n",
    "  - [A Simple Class Example: A Blog Post System](#toc6_1_)    \n",
    "  - [Choosing the Appropriate Access Level](#toc6_2_)    \n",
    "  - [Advantages of Using Access Modifiers](#toc6_3_)    \n",
    "\n",
    "<!-- vscode-jupyter-toc-config\n",
    "\tnumbering=false\n",
    "\tanchor=true\n",
    "\tflat=false\n",
    "\tminLevel=2\n",
    "\tmaxLevel=6\n",
    "\t/vscode-jupyter-toc-config -->\n",
    "<!-- THIS CELL WILL BE REPLACED ON TOC UPDATE. DO NOT WRITE YOUR TEXT IN THIS CELL -->"
   ]
  },
  {
   "cell_type": "markdown",
   "metadata": {},
   "source": [
    "## <a id='toc1_'></a>[The Foundations of Encapsulation](#toc0_)"
   ]
  },
  {
   "cell_type": "markdown",
   "metadata": {},
   "source": [
    "Encapsulation stands as one of the four fundamental principles of object-oriented programming (OOP), alongside inheritance, polymorphism, and abstraction. This essential principle profoundly influences the design and structure of robust and efficient software systems by emphasizing the importance of how data and operations on data are bundled and interact with the outside world.\n"
   ]
  },
  {
   "cell_type": "markdown",
   "metadata": {},
   "source": [
    "The **significance of encapsulation in OOP** cannot be overstated. It not only dictates how classes are designed but also defines the interaction between objects and the rest of the programming environment. Here's a closer look at why encapsulation is considered a foundational aspect of OOP:\n",
    "\n",
    "- **Maintains Integrity and Trust**: Encapsulation ensures that objects manage their own state, with state changes happening only through well-defined interfaces (i.e., methods). This guards against unauthorized or unintended modifications, preserving the integrity of the data.\n",
    "- **Simplifies Complexity**: By hiding the internal workings of objects, encapsulation reduces system complexity for the users of those objects. Developers need to understand only the public interface of an object to use it, without needing to dive into its complex internals.\n",
    "- **Promotes Modularity**: Encapsulation supports modularity by enabling objects to be developed, tested, and modified independently. This independence fosters a more organized and systematic development process, where changes in one part of a system have minimal impact on other parts.\n",
    "- **Enhances Reusability**: Well-encapsulated objects can be easily reused across different parts of a program or even in different projects. This is because the encapsulated object's public interface defines a clear contract for use, making it straightforward to incorporate the object wherever needed without concern for its internal implementation.\n"
   ]
  },
  {
   "cell_type": "markdown",
   "metadata": {},
   "source": [
    "**The Roles of Encapsulation:**\n",
    "\n",
    "- **Data Hiding**: One of the key roles of encapsulation is data hiding. By restricting direct access to an object's internal state (its attributes), encapsulation keeps the object's data safe from inadvertent or malicious modifications. Data hiding ensures that object manipulation can only be performed in ways defined by the object's methods, thus enforcing integrity and consistency.\n",
    "\n",
    "- **Data Protection**: Encapsulation naturally protects an object's data by controlling access to it. This protection mechanism is crucial in programming environments where maintaining data integrity and security is paramount. Through encapsulation, an object exposes only what is necessary for its use, keeping everything else, including sensitive data, under wraps.\n",
    "\n",
    "- **Abstraction**: Encapsulation contributes to the broader principle of abstraction by allowing complex systems to be simplified from the user's perspective. Users interact with a clean, understandable interface without needing knowledge of the underlying complexities. This separation of concerns not only makes systems easier to understand and use but also facilitates their design and implementation.\n"
   ]
  },
  {
   "cell_type": "markdown",
   "metadata": {},
   "source": [
    "In essence, encapsulation lays the foundation upon which robust and maintainable OOP systems are built. Its emphasis on data hiding, protection, and abstraction makes it a vital principle, enabling developers to create systems that are secure, reliable, and easy to manage. By adhering to encapsulation practices, developers ensure that their software remains adaptable and resilient against the challenges posed by evolving requirements and technological advancements."
   ]
  },
  {
   "cell_type": "markdown",
   "metadata": {},
   "source": [
    "## <a id='toc2_'></a>[Public Attributes and Methods](#toc0_)"
   ]
  },
  {
   "cell_type": "markdown",
   "metadata": {},
   "source": [
    "In the world of object-oriented programming (OOP), particularly in Python, attributes and methods of a class can be broadly categorized based on their accessibility. Of these, public attributes and methods are the most accessible, being readily available for interaction from outside the class. This openness makes them one of the fundamental tools in the developer's toolkit, facilitating interaction with the class's functionalities and properties.\n"
   ]
  },
  {
   "cell_type": "markdown",
   "metadata": {},
   "source": [
    "**Public attributes and methods** are those class members intended to be directly accessible from outside the class. They are part of the class's interface with the outside world, allowing data to be retrieved and functionality to be executed from outside the class. In Python, by default, all attributes and methods are public, indicating that no special syntax is required to define them. The public members form the expected way of interacting with an instance of a class, designed with the intention of being safely and effectively used by external code.\n"
   ]
  },
  {
   "cell_type": "markdown",
   "metadata": {},
   "source": [
    "The design philosophy behind public members is straightforward: they are meant to be accessed and used. This contrasts with protected and private members, which are designed to restrict access in order to safeguard the internal state of an object or to prevent unintended use of methods that could disrupt the internal logic of the class.\n"
   ]
  },
  {
   "cell_type": "markdown",
   "metadata": {},
   "source": [
    "### <a id='toc2_1_'></a>[Defining and Accessing Public Members in Python](#toc0_)\n"
   ]
  },
  {
   "cell_type": "markdown",
   "metadata": {},
   "source": [
    "In Python, defining public attributes and methods is done without any special annotations or keywords—simply define them as you would any method or attribute within a class. Here’s an example to illustrate this:\n"
   ]
  },
  {
   "cell_type": "code",
   "execution_count": 1,
   "metadata": {},
   "outputs": [],
   "source": [
    "class Vehicle:\n",
    "    def __init__(self, make, model):\n",
    "        self.make = make  # Public attribute\n",
    "        self.model = model  # Public attribute\n",
    "\n",
    "    def display_info(self):  # Public method\n",
    "        print(f\"This vehicle is a {self.make} {self.model}.\")\n"
   ]
  },
  {
   "cell_type": "code",
   "execution_count": 2,
   "metadata": {},
   "outputs": [],
   "source": [
    "# Creating an instance of Vehicle\n",
    "my_car = Vehicle(\"Toyota\", \"Camry\")"
   ]
  },
  {
   "cell_type": "code",
   "execution_count": 3,
   "metadata": {},
   "outputs": [
    {
     "data": {
      "text/plain": [
       "'Toyota'"
      ]
     },
     "execution_count": 3,
     "metadata": {},
     "output_type": "execute_result"
    }
   ],
   "source": [
    "# Accessing public attributes directly\n",
    "my_car.make"
   ]
  },
  {
   "cell_type": "code",
   "execution_count": 4,
   "metadata": {},
   "outputs": [
    {
     "data": {
      "text/plain": [
       "'Camry'"
      ]
     },
     "execution_count": 4,
     "metadata": {},
     "output_type": "execute_result"
    }
   ],
   "source": [
    "my_car.model"
   ]
  },
  {
   "cell_type": "code",
   "execution_count": 5,
   "metadata": {},
   "outputs": [
    {
     "name": "stdout",
     "output_type": "stream",
     "text": [
      "This vehicle is a Toyota Camry.\n"
     ]
    }
   ],
   "source": [
    "# Calling a public method\n",
    "my_car.display_info()"
   ]
  },
  {
   "cell_type": "markdown",
   "metadata": {},
   "source": [
    "In the `Vehicle` class, `make` and `model` are defined as attributes that are intended to be publicly accessible. Similarly, `display_info` is a public method that can be called on an instance of `Vehicle`. When `my_car`, an instance of `Vehicle`, is created, both the attributes and the method are accessed directly from outside the class without any restrictions.\n"
   ]
  },
  {
   "cell_type": "markdown",
   "metadata": {},
   "source": [
    "While public members are essential for enabling interaction with classes, it's crucial to use them judiciously. Not all methods and data should be public as this could expose internal details that should be kept private for security and integrity reasons. Distinguishing between what should be public and what should remain protected or private is key to designing a robust and secure OOP system.\n"
   ]
  },
  {
   "cell_type": "markdown",
   "metadata": {},
   "source": [
    "In sum, public attributes and methods are foundational to realizing the interactions and functionalities of classes in Python. They are designed to be accessible and usable from outside the class, providing the necessary interface for external code to engage with class instances. Being mindful of their usage is paramount to creating clear, maintainable, and secure software."
   ]
  },
  {
   "cell_type": "markdown",
   "metadata": {},
   "source": [
    "## <a id='toc3_'></a>[Protected Attributes and Methods](#toc0_)"
   ]
  },
  {
   "cell_type": "markdown",
   "metadata": {},
   "source": [
    "Within the framework of object-oriented programming (OOP), particularly in Python, the concept of protected attributes and methods plays a crucial role in structuring class hierarchies and managing access levels. These members are designated for use within a class and its subclasses, making them an integral part of inheritance and internal class design.\n"
   ]
  },
  {
   "cell_type": "markdown",
   "metadata": {},
   "source": [
    "**Protected attributes and methods** in Python are defined by a single underscore prefix `_` before their name. This naming convention does not enforce strict access control as seen in languages like Java or C++; rather, it serves as a hint to developers that these members are intended for internal use within the class and its subclasses. It's a convention respected by the Python community, indicating that such members should not be accessed from outside the class hierarchy, even though the language itself does not prevent it.\n"
   ]
  },
  {
   "cell_type": "markdown",
   "metadata": {},
   "source": [
    "The purpose behind protected members is to allow a class to share some of its internals with its subclasses, thereby facilitating an inherited class to fine-tune or extend the functionalities of its parent class. This level of accessibility strikes a balance between complete openness and strict encapsulation, providing a degree of protection while still supporting a flexible class architecture.\n"
   ]
  },
  {
   "cell_type": "markdown",
   "metadata": {},
   "source": [
    "### <a id='toc3_1_'></a>[Defining and Accessing Protected Members in Python](#toc0_)"
   ]
  },
  {
   "cell_type": "markdown",
   "metadata": {},
   "source": [
    "Let's demonstrate protected members with an updated example:\n"
   ]
  },
  {
   "cell_type": "code",
   "execution_count": 6,
   "metadata": {},
   "outputs": [],
   "source": [
    "class Vehicle:\n",
    "    def __init__(self, make, fuel_capacity):\n",
    "        self.make = make  # Vehicle's make as a public attribute\n",
    "        self._fuel_capacity = fuel_capacity  # Protected attribute\n",
    "        self._fuel_level = fuel_capacity  # Protected attribute: starts full\n",
    "\n",
    "    def _consume_fuel(self, amount):  # Protected method\n",
    "        self._fuel_level -= amount\n",
    "        if self._fuel_level < 0:\n",
    "            self._fuel_level = 0\n",
    "        print(f\"Fuel left in {self.make}: {self._fuel_level} liters\")"
   ]
  },
  {
   "cell_type": "code",
   "execution_count": 7,
   "metadata": {},
   "outputs": [],
   "source": [
    "class Sedan(Vehicle):\n",
    "    def drive(self, distance):\n",
    "        print(f\"Driving the sedan for {distance} miles.\")\n",
    "        fuel_consumption_rate = 0.04  # Example: Consumes 0.04 liters per mile\n",
    "        self._consume_fuel(distance * fuel_consumption_rate)\n"
   ]
  },
  {
   "cell_type": "code",
   "execution_count": 8,
   "metadata": {},
   "outputs": [],
   "source": [
    "class SUV(Vehicle):\n",
    "    def drive(self, distance):\n",
    "        print(f\"Driving the SUV for {distance} miles.\")\n",
    "        fuel_consumption_rate = 0.07  # Example: Consumes 0.07 liters per mile\n",
    "        self._consume_fuel(distance * fuel_consumption_rate)\n"
   ]
  },
  {
   "cell_type": "code",
   "execution_count": 9,
   "metadata": {},
   "outputs": [],
   "source": [
    "# Creating instances\n",
    "toyota_camry = Sedan(\"Toyota Camry\", 60)\n",
    "ford_explorer = SUV(\"Ford Explorer\", 70)"
   ]
  },
  {
   "cell_type": "code",
   "execution_count": 10,
   "metadata": {},
   "outputs": [
    {
     "name": "stdout",
     "output_type": "stream",
     "text": [
      "Driving the sedan for 200 miles.\n",
      "Fuel left in Toyota Camry: 52.0 liters\n"
     ]
    }
   ],
   "source": [
    "# Driving the cars\n",
    "toyota_camry.drive(200)"
   ]
  },
  {
   "cell_type": "code",
   "execution_count": 11,
   "metadata": {},
   "outputs": [
    {
     "name": "stdout",
     "output_type": "stream",
     "text": [
      "Driving the SUV for 200 miles.\n",
      "Fuel left in Ford Explorer: 56.0 liters\n"
     ]
    }
   ],
   "source": [
    "ford_explorer.drive(200)"
   ]
  },
  {
   "cell_type": "markdown",
   "metadata": {},
   "source": [
    "In this example, the `Vehicle` class has two protected attributes, `_fuel_capacity` and `_fuel_level`, as well as a protected method, `_consume_fuel`. These protected members are accessible within the class and by its subclasses, `Sedan` and `SUV`, which use the protected method `_consume_fuel` to simulate the driving process and fuel consumption. This highlights how protected members facilitate subclass customization and functionality expansion, building upon the foundational behaviors defined in the parent class.\n"
   ]
  },
  {
   "cell_type": "markdown",
   "metadata": {},
   "source": [
    "While the underscore prefix `_` in Python does not stop external code from accessing protected members, it serves as a clear indicator to developers that such access is discouraged. Adhering to this convention is a key aspect of writing Pythonic and maintainable code.\n"
   ]
  },
  {
   "cell_type": "markdown",
   "metadata": {},
   "source": [
    "It's important to understand that Python's use of protected members relies on a mutual understanding among developers to respect access levels as dictated by the underscore prefix. This approach underscores the Python philosophy that \"We are all consenting adults here\", emphasizing responsibility and mutual trust in accessing class internals.\n"
   ]
  },
  {
   "cell_type": "markdown",
   "metadata": {},
   "source": [
    "Protected attributes and methods, signified by a single underscore prefix, play a pivotal role in the design of class hierarchies in Python, offering a middle ground in access control. They exemplify how Python's flexible and dynamic nature accommodates different levels of encapsulation while fostering a culture of responsible coding practices. Understanding and using protected members effectively is key to creating extensible, maintainable, and Pythonic object-oriented applications."
   ]
  },
  {
   "cell_type": "markdown",
   "metadata": {},
   "source": [
    "## <a id='toc4_'></a>[Private Attributes and Methods](#toc0_)"
   ]
  },
  {
   "cell_type": "markdown",
   "metadata": {},
   "source": [
    "Private attributes and methods are the essence of encapsulation. These class members are intended to be completely hidden from outside access, serving the class’s internal mechanisms and logic. Private members are crucial for protecting the class's internal state and ensuring that its public interface remains clean and uncluttered.\n"
   ]
  },
  {
   "cell_type": "markdown",
   "metadata": {},
   "source": [
    "**Private attributes and methods** are defined in Python by prefixing their names with a double underscore `__`. This naming convention is more than a mere suggestion; it activates a name mangling process that makes it challenging (though not impossible) for these members to be accessed from outside the class. The inclusion of private members in a class is a design choice aimed at safeguarding the class's sensitive data and operations, ensuring that they cannot be tampered with or wrongly invoked from external code. "
   ]
  },
  {
   "cell_type": "markdown",
   "metadata": {},
   "source": [
    "### <a id='toc4_1_'></a>[Defining and Accessing Private Members in Python](#toc0_)\n"
   ]
  },
  {
   "cell_type": "markdown",
   "metadata": {},
   "source": [
    "\n",
    "In Python, when you define a class member with a double underscore prefix, you are signaling to the Python interpreter that it should apply name mangling. This means the interpreter changes the name of the attribute in a way that makes it less accessible from outside the class. Here’s how you can define private members:\n"
   ]
  },
  {
   "cell_type": "code",
   "execution_count": 12,
   "metadata": {},
   "outputs": [],
   "source": [
    "class Account:\n",
    "    def __init__(self, owner, balance):\n",
    "        self.owner = owner             # Public attribute\n",
    "        self.__balance = balance       # Private attribute\n",
    "\n",
    "    def __update_balance(self, amount):  # Private method\n",
    "        self.__balance += amount\n",
    "        return self.__balance\n",
    "\n",
    "    def deposit(self, amount):\n",
    "        if amount > 0:\n",
    "            new_balance = self.__update_balance(amount)\n",
    "            print(f\"Deposit successful. New balance: {new_balance}\")\n",
    "        else:\n",
    "            print(\"Deposit amount must be positive.\")"
   ]
  },
  {
   "cell_type": "code",
   "execution_count": 13,
   "metadata": {},
   "outputs": [],
   "source": [
    "# Creating an instance of Account\n",
    "my_account = Account(\"John Doe\", 1000)"
   ]
  },
  {
   "cell_type": "code",
   "execution_count": 14,
   "metadata": {},
   "outputs": [
    {
     "ename": "AttributeError",
     "evalue": "'Account' object has no attribute '__balance'",
     "output_type": "error",
     "traceback": [
      "\u001b[0;31m---------------------------------------------------------------------------\u001b[0m",
      "\u001b[0;31mAttributeError\u001b[0m                            Traceback (most recent call last)",
      "Cell \u001b[0;32mIn[14], line 2\u001b[0m\n\u001b[1;32m      1\u001b[0m \u001b[38;5;66;03m# Trying to access private members from outside the class\u001b[39;00m\n\u001b[0;32m----> 2\u001b[0m \u001b[43mmy_account\u001b[49m\u001b[38;5;241;43m.\u001b[39;49m\u001b[43m__balance\u001b[49m  \u001b[38;5;66;03m# This will raise an AttributeError\u001b[39;00m\n",
      "\u001b[0;31mAttributeError\u001b[0m: 'Account' object has no attribute '__balance'"
     ]
    }
   ],
   "source": [
    "# Trying to access private members from outside the class\n",
    "my_account.__balance  # This will raise an AttributeError"
   ]
  },
  {
   "cell_type": "code",
   "execution_count": null,
   "metadata": {},
   "outputs": [],
   "source": [
    "my_account.deposit(500)  # This works as intended"
   ]
  },
  {
   "cell_type": "markdown",
   "metadata": {},
   "source": [
    "In this example, the `Account` class has a private attribute `__balance` and a private method `__update_balance`, which are essential to the internal workings of the class but should not be accessible or modifiable from outside the class. The `deposit` method acts as a public interface, allowing controlled interaction with the class's sensitive operations.\n"
   ]
  },
  {
   "cell_type": "markdown",
   "metadata": {},
   "source": [
    "## <a id='toc5_'></a>[Summary](#toc0_)"
   ]
  },
  {
   "cell_type": "markdown",
   "metadata": {},
   "source": [
    "In Python, access modification is a fundamental concept that pertains to the encapsulation principle in object-oriented programming (OOP). Encapsulation helps in restricting access to methods and variables in order to prevent data from being modified by accident and is vital in the software development process for maintaining code. Python doesn't have explicit access modifiers (like `public`, `protected`, or `private` in other OOP languages) but follows a naming convention to control the access levels of class members i.e., methods and variables. These levels are broadly classified into public, protected, and private, each serving different accessibilities:\n"
   ]
  },
  {
   "cell_type": "markdown",
   "metadata": {},
   "source": [
    "- **Public Members**: In Python, members declared in a class without any leading underscores are public by default. These members can be freely accessed from anywhere outside the class, making them easily accessible but also vulnerable to accidental modifications.\n",
    "\n",
    "- **Protected Members**: Members prefixed with a single underscore `_` are treated as protected. This is more of a convention than a strict rule enforced by Python. Protected members are accessible within the class and its derived classes (subclasses), suggesting that they should be used only internally or by an inherited class.\n",
    "\n",
    "- **Private Members**: When members are prefixed with double underscores `__`, they become private. Python performs name mangling on these members, making it harder to access them from outside their class. They are accessible within the class but not outside of it, including by derived classes, strictly enforcing encapsulation.\n"
   ]
  },
  {
   "cell_type": "markdown",
   "metadata": {},
   "source": [
    "<img src=\"./images/access-modification-python.png\" width=\"800\">"
   ]
  },
  {
   "cell_type": "markdown",
   "metadata": {},
   "source": [
    "> **Note:** Protected and private members are technically accessible from an object or derived class (since Python does not enforce access restrictions strictly like other languages), but by convention, they should not be accessed directly."
   ]
  },
  {
   "cell_type": "markdown",
   "metadata": {},
   "source": [
    "### <a id='toc5_1_'></a>[Name Mangling in Python](#toc0_)\n"
   ]
  },
  {
   "cell_type": "markdown",
   "metadata": {},
   "source": [
    "Name mangling is Python’s approach to transforming the name of a private member in a way that makes it less accessible from \"outside\" the class. For a member named `__something` in a class named `SomeClass`, the mangled name would be `_SomeClass__something`. This transformation doesn’t make the member truly private (in an inaccessible sense) but does make it harder to access accidentally or improperly from outside the class.\n"
   ]
  },
  {
   "cell_type": "markdown",
   "metadata": {},
   "source": [
    "For example, to access the `__balance` attribute from outside the `Account` class (though not recommended), you would need to use its mangled name:\n"
   ]
  },
  {
   "cell_type": "code",
   "execution_count": null,
   "metadata": {},
   "outputs": [
    {
     "data": {
      "text/plain": [
       "1500"
      ]
     },
     "execution_count": 18,
     "metadata": {},
     "output_type": "execute_result"
    }
   ],
   "source": [
    "my_account._Account__balance  # Accessing the mangled name directly"
   ]
  },
  {
   "cell_type": "markdown",
   "metadata": {},
   "source": [
    "Private attributes and methods are fundamental to implementing solid encapsulation in Python. They ensure that a class’s internal state and behaviors are shielded from external interference, maintaining the integrity and reliability of the class's operations. While Python's name mangling for private members doesn’t make them truly inaccessible, it strongly discourages direct access, aligning with the language's philosophy that emphasizes developer responsibility and the protection of internal class mechanisms."
   ]
  },
  {
   "cell_type": "markdown",
   "metadata": {},
   "source": [
    "<img src=\"../images/exercise-banner.gif\" width=\"800\">"
   ]
  },
  {
   "cell_type": "markdown",
   "metadata": {},
   "source": [
    "## <a id='toc6_'></a>[Practical Examples: Modifying Access to Class Members](#toc0_)"
   ]
  },
  {
   "cell_type": "markdown",
   "metadata": {},
   "source": [
    "The use of access modifiers to control visibility and accessibility of class members is central to object-oriented programming (OOP). Through a simple class example, we can illustrate how public, protected, and private members contribute to a well-structured and secure codebase.\n"
   ]
  },
  {
   "cell_type": "markdown",
   "metadata": {},
   "source": [
    "### <a id='toc6_1_'></a>[A Simple Class Example: A Blog Post System](#toc0_)\n"
   ]
  },
  {
   "cell_type": "markdown",
   "metadata": {},
   "source": [
    "Consider a class `BlogPost` that represents a blog post in a content management system. It includes attributes for the post's title, content, and status (published or draft), along with methods to edit the content and publish the post.\n"
   ]
  },
  {
   "cell_type": "code",
   "execution_count": null,
   "metadata": {},
   "outputs": [],
   "source": [
    "class BlogPost:\n",
    "    def __init__(self, title, content):\n",
    "        self.title = title  # Public attribute\n",
    "        self._content = content  # Protected attribute\n",
    "        self.__status = \"draft\"  # Private attribute\n",
    "\n",
    "    def edit_content(self, new_content):  # Public method\n",
    "        self._content = new_content\n",
    "        print(\"The content has been updated.\")\n",
    "\n",
    "    def __publish(self):  # Private method\n",
    "        self.__status = \"published\"\n",
    "        print(\"The post has been published.\")\n",
    "\n",
    "    def make_public(self):  # Public method\n",
    "        if self.__can_publish():\n",
    "            self.__publish()\n",
    "        else:\n",
    "            print(\"Cannot publish the post.\")\n",
    "\n",
    "    def __can_publish(self):  # Private method\n",
    "        return len(self._content) > 100  # Example condition for publishing"
   ]
  },
  {
   "cell_type": "code",
   "execution_count": null,
   "metadata": {},
   "outputs": [],
   "source": [
    "# Creating an instance of BlogPost\n",
    "my_post = BlogPost(\"My First Post\", \"This is the initial content of the post.\")"
   ]
  },
  {
   "cell_type": "markdown",
   "metadata": {},
   "source": [
    "In `BlogPost`, the attribute `title` is public, meaning it can be accessed and modified directly. The `_content` attribute is protected, indicating it should not be accessed outside of `BlogPost` or its subclasses, except for valid reasons such as content updates via designated methods (`edit_content`). The `__status` attribute and the `__publish` method are private, tightly controlling the publishing process to ensure that posts can only be published through the proper workflow (`make_public`).\n"
   ]
  },
  {
   "cell_type": "markdown",
   "metadata": {},
   "source": [
    "**Impact of Different Access Levels on Usability and Security**:\n",
    "\n",
    "- **Public Members**: Easily accessible, these members facilitate interaction with the class. However, unrestricted access may lead to accidental misuse or manipulation.\n",
    "- **Protected Members**: They signal that these members are intended for internal use within the class or subclass hierarchy, protecting them from external interference while still allowing flexibility for subclass modifications.\n",
    "- **Private Members**: These provide the highest level of security by restricting access to the class's internal logic, ensuring that sensitive operations and data are safeguarded from external manipulation.\n"
   ]
  },
  {
   "cell_type": "markdown",
   "metadata": {},
   "source": [
    "### <a id='toc6_2_'></a>[Choosing the Appropriate Access Level](#toc0_)\n"
   ]
  },
  {
   "cell_type": "markdown",
   "metadata": {},
   "source": [
    "The principle of least privilege dictates that class members should only expose the minimal necessary access level for their intended function. This approach minimizes potential points of failure or security breaches by:\n",
    "- Protecting the class's internal state from unwanted changes.\n",
    "- Encapsulating complex logic that shouldn't be exposed.\n",
    "- Preserving the integrity of critical operations like publishing in the `BlogPost` class.\n"
   ]
  },
  {
   "cell_type": "markdown",
   "metadata": {},
   "source": [
    "### <a id='toc6_3_'></a>[Advantages of Using Access Modifiers](#toc0_)\n"
   ]
  },
  {
   "cell_type": "markdown",
   "metadata": {},
   "source": [
    "Employing access modifiers to enforce encapsulation in Python brings several benefits to software design and architecture:\n",
    "\n",
    "- **Better Software Design and Architecture**: By clearly delineating which parts of a class are available for use and which are restricted, developers can create a predictable and coherent interface for each class.\n",
    "- **Promoting Safe Usage of Class Members**: Access modifiers guide developers on how to interact with a class, ensuring that only intended operations are performed, thus reducing the risk of unintended side effects.\n",
    "- **Preventing Accidental Modification of Internal State**: By restricting access to sensitive class members, the integrity of an object's internal state is preserved, maintaining data consistency and reliability.\n"
   ]
  },
  {
   "cell_type": "markdown",
   "metadata": {},
   "source": [
    "In summary, the thoughtful application of access modifiers shapes the backbone of secure, maintainable, and robust OOP designs. By leveraging public, protected, and private access levels appropriately, developers can craft classes that encapsulate complexity, safeguard their internal state, and expose only what is necessary for the outside world, aligning with the principles of effective software engineering."
   ]
  }
 ],
 "metadata": {
  "kernelspec": {
   "display_name": "py310",
   "language": "python",
   "name": "python3"
  },
  "language_info": {
   "codemirror_mode": {
    "name": "ipython",
    "version": 3
   },
   "file_extension": ".py",
   "mimetype": "text/x-python",
   "name": "python",
   "nbconvert_exporter": "python",
   "pygments_lexer": "ipython3",
   "version": "3.10.13"
  }
 },
 "nbformat": 4,
 "nbformat_minor": 2
}
