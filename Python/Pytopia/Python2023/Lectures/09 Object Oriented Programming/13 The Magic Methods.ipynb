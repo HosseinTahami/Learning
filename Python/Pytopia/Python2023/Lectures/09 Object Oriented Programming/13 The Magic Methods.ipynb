{
 "cells": [
  {
   "cell_type": "markdown",
   "metadata": {},
   "source": [
    "<img src=\"./images/banner.png\" width=\"800\">"
   ]
  },
  {
   "cell_type": "markdown",
   "metadata": {},
   "source": [
    "# The Magic Methods"
   ]
  },
  {
   "cell_type": "markdown",
   "metadata": {},
   "source": [
    "Magic methods in Python, often referred to as special methods, are a set of predefined methods you can use to enrich your classes. They are easily recognizable by their double underscore prefixes and suffixes (e.g., `__init__`, `__str__`, `__add__`). Despite being called \"magic,\" there's no actual magic involved; instead, they represent the Python data model's hooks. These methods allow you to emulate the behavior of built-in types, perform operator overloading, and interact with Python's most fundamental features.\n"
   ]
  },
  {
   "cell_type": "markdown",
   "metadata": {},
   "source": [
    "The primary purpose of magic methods is to allow your custom objects to implement and interact with the core Python language features such as:\n",
    "\n",
    "- **Object initialization and destruction** (e.g., `__init__`, `__del__`)\n",
    "- **String representation** (e.g., `__str__`, `__repr__`)\n",
    "- **Arithmetic operations** (e.g., `__add__`, `__mul__`)\n",
    "- **Comparison operations** (e.g., `__eq__`, `__lt__`)\n"
   ]
  },
  {
   "cell_type": "markdown",
   "metadata": {},
   "source": [
    "Magic methods provide a way to use Python's built-in functions (like `len`, `str`, and `iter`) with your objects. For example, by defining `__len__` in your class, you can use the `len()` function on instances of your class.\n"
   ]
  },
  {
   "cell_type": "markdown",
   "metadata": {},
   "source": [
    "Moreover, these special methods are not called directly by your code (you don't do `my_object.__str__()`), but by Python itself. When you attempt to turn an object into a string, Python will automatically look for a `__str__` method and use it if available. This implicit behavior is what gives these methods a feel of \"magic,\" enriching the standard protocol for how objects behave within the Python ecosystem.\n"
   ]
  },
  {
   "cell_type": "markdown",
   "metadata": {},
   "source": [
    "Magic methods exemplify the principle of \"Pythonic\" design, offering a set of powerful tools for integrating custom objects with Python's built-in features. Understanding and utilizing these methods allows developers to create objects that work seamlessly with Python itself, promoting code that is both elegant and idiomatic. By embracing magic methods, you unlock a deeper level of interaction with the language, enhancing both the functionality and interoperability of your custom classes."
   ]
  },
  {
   "cell_type": "markdown",
   "metadata": {},
   "source": [
    "**Table of contents**<a id='toc0_'></a>    \n",
    "- [Representing Objects as Strings: `__str__` and `__repr__`](#toc1_)    \n",
    "  - [`__str__`: User-Friendly String Representation](#toc1_1_)    \n",
    "  - [`__repr__`: Unambiguous Representation for Debugging](#toc1_2_)    \n",
    "- [Getting the Length of an Object: `__len__`](#toc2_)    \n",
    "- [Numeric Operations Magic Methods: Enabling Arithmetic in Custom Objects](#toc3_)    \n",
    "  - [Arithmetic Magic Methods Overview](#toc3_1_)    \n",
    "  - [Example: Implementing Arithmetic Operations in a Custom Class](#toc3_2_)    \n",
    "- [Comparison Magic Methods: Enabling Rich Comparisons Between Objects](#toc4_)    \n",
    "  - [Equality and Inequality: `__eq__` and `__ne__`](#toc4_1_)    \n",
    "  - [Ordering: `__lt__`, `__le__`, `__gt__`, `__ge__`](#toc4_2_)    \n",
    "- [Object Initialization and Destruction: `__init__` and `__del__` Magic Methods](#toc5_)    \n",
    "  - [`__init__`: Initializing Objects](#toc5_1_)    \n",
    "  - [`__del__`: Cleaning Up Objects](#toc5_2_)    \n",
    "- [Emulating Container Types: `__getitem__` and `__setitem__`](#toc6_)    \n",
    "  - [`__getitem__`: Accessing Items](#toc6_1_)    \n",
    "  - [`__setitem__`: Setting Items](#toc6_2_)    \n",
    "- [Making Objects Callable: `__call__`](#toc7_)    \n",
    "\n",
    "<!-- vscode-jupyter-toc-config\n",
    "\tnumbering=false\n",
    "\tanchor=true\n",
    "\tflat=false\n",
    "\tminLevel=2\n",
    "\tmaxLevel=6\n",
    "\t/vscode-jupyter-toc-config -->\n",
    "<!-- THIS CELL WILL BE REPLACED ON TOC UPDATE. DO NOT WRITE YOUR TEXT IN THIS CELL -->"
   ]
  },
  {
   "cell_type": "markdown",
   "metadata": {},
   "source": [
    "## <a id='toc1_'></a>[Representing Objects as Strings: `__str__` and `__repr__`](#toc0_)"
   ]
  },
  {
   "cell_type": "markdown",
   "metadata": {},
   "source": [
    "In Python, making sense of objects through textual representation is both a necessity and a convenience, aiding in debugging, logging, and displaying object information in a human-readable form. This need is addressed by two special or \"magic\" methods: `__str__` and `__repr__`. These methods allow you to define how your objects are converted into strings, providing insights into their states and behaviors.\n"
   ]
  },
  {
   "cell_type": "markdown",
   "metadata": {},
   "source": [
    "### <a id='toc1_1_'></a>[`__str__`: User-Friendly String Representation](#toc0_)\n"
   ]
  },
  {
   "cell_type": "markdown",
   "metadata": {},
   "source": [
    "The `__str__` method is designed to return a string that is understandable for end-users. It's the method that is invoked by the built-in `str()` function and indirectly by the `print()` function when you attempt to convert your object into a string. The goal here is to return a pleasantly formatted string, ideally making it meaningful and intuitive for the user.\n"
   ]
  },
  {
   "cell_type": "markdown",
   "metadata": {},
   "source": [
    "**When to Use `__str__`**:\n",
    "- When you need to provide a readable representation of your object.\n",
    "- In contexts where the object is being presented to end-users (e.g., in the user interface).\n"
   ]
  },
  {
   "cell_type": "markdown",
   "metadata": {},
   "source": [
    "**Example Usage of `__str__`**:"
   ]
  },
  {
   "cell_type": "code",
   "execution_count": 10,
   "metadata": {},
   "outputs": [],
   "source": [
    "class Book:\n",
    "    def __init__(self, title, author):\n",
    "        self.title = title\n",
    "        self.author = author\n",
    "\n",
    "    def __str__(self):\n",
    "        return f\"'{self.title}' by {self.author}\""
   ]
  },
  {
   "cell_type": "code",
   "execution_count": 13,
   "metadata": {},
   "outputs": [],
   "source": [
    "# Creating a Book instance\n",
    "book = Book(\"Python Programming\", \"Jane Doe\")"
   ]
  },
  {
   "cell_type": "code",
   "execution_count": 14,
   "metadata": {},
   "outputs": [
    {
     "name": "stdout",
     "output_type": "stream",
     "text": [
      "'Python Programming' by Jane Doe\n"
     ]
    }
   ],
   "source": [
    "print(str(book))  # Explicitly calling __str__ method"
   ]
  },
  {
   "cell_type": "code",
   "execution_count": 15,
   "metadata": {},
   "outputs": [
    {
     "name": "stdout",
     "output_type": "stream",
     "text": [
      "'Python Programming' by Jane Doe\n"
     ]
    }
   ],
   "source": [
    "print(book)  # Implicitly calls __str__"
   ]
  },
  {
   "cell_type": "markdown",
   "metadata": {},
   "source": [
    "### <a id='toc1_2_'></a>[`__repr__`: Unambiguous Representation for Debugging](#toc0_)\n"
   ]
  },
  {
   "cell_type": "markdown",
   "metadata": {},
   "source": [
    "While `__str__` focuses on readability, `__repr__` aims at unambiguity. It is intended primarily for developers and debugging. The output of `__repr__` should, as much as possible, be a valid Python expression that could be used to recreate the object, or at least provide a detailed description to help identify the object.\n"
   ]
  },
  {
   "cell_type": "markdown",
   "metadata": {},
   "source": [
    "**When to Use `__repr__`**:\n",
    "- To create an unambiguous string representation of an object for debugging and development.\n",
    "- When you need an expression that, when fed back into Python, would help in recreating the object or understanding its state.\n"
   ]
  },
  {
   "cell_type": "markdown",
   "metadata": {},
   "source": [
    "**Example Usage of `__repr__`**:"
   ]
  },
  {
   "cell_type": "code",
   "execution_count": 16,
   "metadata": {},
   "outputs": [],
   "source": [
    "class Book:\n",
    "    def __init__(self, title, author):\n",
    "        self.title = title\n",
    "        self.author = author\n",
    "\n",
    "    def __repr__(self):\n",
    "        return f\"Book({self.title!r}, {self.author!r})\""
   ]
  },
  {
   "cell_type": "code",
   "execution_count": 17,
   "metadata": {},
   "outputs": [],
   "source": [
    "# Creating a Book instance\n",
    "book = Book(\"Python Programming\", \"Jane Doe\")"
   ]
  },
  {
   "cell_type": "code",
   "execution_count": 18,
   "metadata": {},
   "outputs": [
    {
     "name": "stdout",
     "output_type": "stream",
     "text": [
      "Book('Python Programming', 'Jane Doe')\n"
     ]
    }
   ],
   "source": [
    "repr(book)  # Explicitly calling __repr__ method"
   ]
  },
  {
   "cell_type": "code",
   "execution_count": 19,
   "metadata": {},
   "outputs": [
    {
     "data": {
      "text/plain": [
       "Book('Python Programming', 'Jane Doe')"
      ]
     },
     "execution_count": 19,
     "metadata": {},
     "output_type": "execute_result"
    }
   ],
   "source": [
    "book  # Implicitly calls __repr__"
   ]
  },
  {
   "cell_type": "markdown",
   "metadata": {},
   "source": [
    "In a Jupyter Notebook or interactive Python session, typing an object's variable name by itself defaults to displaying the `__repr__` of the object. This method offers a more detailed, developer-oriented view, which can be particularly useful when logging or debugging."
   ]
  },
  {
   "cell_type": "markdown",
   "metadata": {},
   "source": [
    "> **Note:** If you only define `__repr__`, and not `__str__`, Python will use `__repr__` as a fallback for `__str__`."
   ]
  },
  {
   "cell_type": "markdown",
   "metadata": {},
   "source": [
    "Properly implementing `__str__` and `__repr__` in your Python classes enchants your objects with meaningful textual representations, greatly enhancing the debugging process and overall understanding of your objects' states. While `__str__` caters to end-users by providing a user-friendly description, `__repr__` serves developers by offering a clear, unambiguous representation. Collectively, they symbolize Python's elegance and emphasis on readability, making the language and its ecosystem more accessible and enjoyable to work with."
   ]
  },
  {
   "cell_type": "markdown",
   "metadata": {},
   "source": [
    "## <a id='toc2_'></a>[Getting the Length of an Object: `__len__`](#toc0_)"
   ]
  },
  {
   "cell_type": "markdown",
   "metadata": {},
   "source": [
    "The `__len__` magic method allows you to define how the built-in `len()` function behaves when applied to instances of your class. It is used to determine the length or size of an object.\n"
   ]
  },
  {
   "cell_type": "markdown",
   "metadata": {},
   "source": [
    "**Syntax and Usage:**\n",
    "```python\n",
    "class MyClass:\n",
    "    def __len__(self):\n",
    "        return length\n",
    "```\n"
   ]
  },
  {
   "cell_type": "markdown",
   "metadata": {},
   "source": [
    "In this example, when you call `len(my_instance)`, Python invokes the `__len__` method of the class, and it should return the length or size of the object."
   ]
  },
  {
   "cell_type": "markdown",
   "metadata": {},
   "source": [
    "**Example:**\n"
   ]
  },
  {
   "cell_type": "code",
   "execution_count": 17,
   "metadata": {},
   "outputs": [],
   "source": [
    "class CustomList:\n",
    "    def __init__(self, items):\n",
    "        self.items = items\n",
    "\n",
    "    def __len__(self):\n",
    "        return len(self.items)"
   ]
  },
  {
   "cell_type": "code",
   "execution_count": 18,
   "metadata": {},
   "outputs": [],
   "source": [
    "my_list = CustomList([1, 2, 3, 4, 5])\n"
   ]
  },
  {
   "cell_type": "code",
   "execution_count": 19,
   "metadata": {},
   "outputs": [
    {
     "data": {
      "text/plain": [
       "5"
      ]
     },
     "execution_count": 19,
     "metadata": {},
     "output_type": "execute_result"
    }
   ],
   "source": [
    "len(my_list)  # Calls __len__\n"
   ]
  },
  {
   "cell_type": "markdown",
   "metadata": {},
   "source": [
    "In this example, the `CustomList` class is defined with an `__init__` method that initializes the `items` attribute with a list of items. The `__len__` method is implemented to return the length of the `items` list using the built-in `len()` function.\n"
   ]
  },
  {
   "cell_type": "markdown",
   "metadata": {},
   "source": [
    "When `len(my_list)` is called, it invokes the `__len__` method of the `CustomList` class, which returns the length of the `items` list.\n"
   ]
  },
  {
   "cell_type": "markdown",
   "metadata": {},
   "source": [
    "By implementing the `__len__` magic method, you can make your custom objects compatible with the `len()` function, providing a way to determine their length or size.\n"
   ]
  },
  {
   "cell_type": "markdown",
   "metadata": {},
   "source": [
    "**Practical Example: A Inventory Class**"
   ]
  },
  {
   "cell_type": "markdown",
   "metadata": {},
   "source": [
    "Let's create an `Inventory` class that represents a collection of items and allows us to get the total count of items using the `len()` function.\n"
   ]
  },
  {
   "cell_type": "code",
   "execution_count": 20,
   "metadata": {},
   "outputs": [],
   "source": [
    "class Inventory:\n",
    "    def __init__(self):\n",
    "        self.items = {}\n",
    "\n",
    "    def add_item(self, item, quantity):\n",
    "        if item in self.items:\n",
    "            self.items[item] += quantity\n",
    "        else:\n",
    "            self.items[item] = quantity\n",
    "\n",
    "    def remove_item(self, item, quantity):\n",
    "        if item in self.items:\n",
    "            if self.items[item] <= quantity:\n",
    "                del self.items[item]\n",
    "            else:\n",
    "                self.items[item] -= quantity\n",
    "\n",
    "    def __len__(self):\n",
    "        return sum(self.items.values())"
   ]
  },
  {
   "cell_type": "code",
   "execution_count": 21,
   "metadata": {},
   "outputs": [],
   "source": [
    "inventory = Inventory()\n",
    "inventory.add_item('apple', 5)\n",
    "inventory.add_item('banana', 3)\n",
    "inventory.add_item('orange', 2)"
   ]
  },
  {
   "cell_type": "code",
   "execution_count": 22,
   "metadata": {},
   "outputs": [
    {
     "data": {
      "text/plain": [
       "10"
      ]
     },
     "execution_count": 22,
     "metadata": {},
     "output_type": "execute_result"
    }
   ],
   "source": [
    "len(inventory)  # Output: 10"
   ]
  },
  {
   "cell_type": "code",
   "execution_count": 23,
   "metadata": {},
   "outputs": [],
   "source": [
    "inventory.remove_item('banana', 2)"
   ]
  },
  {
   "cell_type": "code",
   "execution_count": 24,
   "metadata": {},
   "outputs": [
    {
     "data": {
      "text/plain": [
       "8"
      ]
     },
     "execution_count": 24,
     "metadata": {},
     "output_type": "execute_result"
    }
   ],
   "source": [
    "len(inventory)  # Output: 8"
   ]
  },
  {
   "cell_type": "markdown",
   "metadata": {},
   "source": [
    "In this example, the `Inventory` class maintains a dictionary `items` to store the items and their quantities. The `add_item` method adds an item to the inventory or increases its quantity if it already exists. The `remove_item` method removes a specified quantity of an item from the inventory or deletes the item if the remaining quantity becomes zero.\n"
   ]
  },
  {
   "cell_type": "markdown",
   "metadata": {},
   "source": [
    "The `__len__` method is implemented to return the total count of items in the inventory by summing up the values of the `items` dictionary using the `sum()` function.\n"
   ]
  },
  {
   "cell_type": "markdown",
   "metadata": {},
   "source": [
    "By calling `len(inventory)`, we can easily retrieve the total count of items in the inventory object. This provides a convenient way to determine the size of the inventory using the familiar `len()` function.\n"
   ]
  },
  {
   "cell_type": "markdown",
   "metadata": {},
   "source": [
    "The `__len__` magic method allows you to integrate your custom objects seamlessly with Python's built-in `len()` function, providing a natural and intuitive way to determine the length or size of your objects."
   ]
  },
  {
   "cell_type": "markdown",
   "metadata": {},
   "source": [
    "## <a id='toc3_'></a>[Numeric Operations Magic Methods: Enabling Arithmetic in Custom Objects](#toc0_)"
   ]
  },
  {
   "cell_type": "markdown",
   "metadata": {},
   "source": [
    "Numeric operations are fundamental to almost every programming task, from simple counters in a loop to complex mathematical modeling. In Python, the ability to perform arithmetic operations isn't limited to built-in numeric types like integers and floats. Thanks to magic methods, you can design custom classes whose instances can partake in arithmetic operations just as naturally as their built-in counterparts. This capability is crucial for creating objects that model real-world entities and mathematical constructs seamlessly.\n"
   ]
  },
  {
   "cell_type": "markdown",
   "metadata": {},
   "source": [
    "### <a id='toc3_1_'></a>[Arithmetic Magic Methods Overview](#toc0_)\n"
   ]
  },
  {
   "cell_type": "markdown",
   "metadata": {},
   "source": [
    "Python provides a set of special methods (often called \"magic methods\") to implement arithmetic operations. These include, but are not limited to, methods for addition (`__add__`), subtraction (`__sub__`), multiplication (`__mul__`), and more. By defining these methods in your class, you enable instances of your class to interact using the standard arithmetic operators (`+`, `-`, `*`, etc.).\n",
    "\n",
    "**Addition with `__add__`**:\n",
    "- The `__add__` method allows an object to be added to another object using the `+` operator. It should return a new object that represents the sum.\n",
    "\n",
    "**Subtraction with `__sub__`**:\n",
    "- The `__sub__` method enables subtraction between two objects using the `-` operator. It should return a new object representing the difference.\n",
    "\n",
    "**Multiplication with `__mul__`**:\n",
    "- Through the `__mul__` method, objects can be multiplied together using the `*` operator, producing and returning a new object that represents the product.\n"
   ]
  },
  {
   "cell_type": "markdown",
   "metadata": {},
   "source": [
    "Arithmetic magic methods are essential for several reasons:\n",
    "1. **Natural Syntax**: Enabling arithmetic operations on custom objects using standard operators (`+`, `-`, `*`) makes code more readable and intuitive. It aligns with the principle of writing clean, \"Pythonic\" code.\n",
    "\n",
    "2. **Modeling Real-world Entities**: Many real-world entities and concepts (like vectors in physics, complex numbers, or financial transactions) can be represented as objects that naturally support arithmetic operations. Implementing these operations in your classes allows for a more accurate and convenient model of these entities.\n",
    "\n",
    "3. **Interoperability**: Defining arithmetic operations for your objects ensures they can interact seamlessly not only among themselves but also with built-in types or other custom objects (assuming you handle type checking and compatibility within your methods).\n"
   ]
  },
  {
   "cell_type": "markdown",
   "metadata": {},
   "source": [
    "### <a id='toc3_2_'></a>[Example: Implementing Arithmetic Operations in a Custom Class](#toc0_)\n"
   ]
  },
  {
   "cell_type": "markdown",
   "metadata": {},
   "source": [
    "Consider a simple `Vector` class that models mathematical vectors and supports addition and scalar multiplication:\n"
   ]
  },
  {
   "cell_type": "code",
   "execution_count": 24,
   "metadata": {},
   "outputs": [],
   "source": [
    "class Vector:\n",
    "    def __init__(self, x, y):\n",
    "        self.x = x\n",
    "        self.y = y\n",
    "\n",
    "    def __add__(self, other):\n",
    "        if isinstance(other, Vector):\n",
    "            return Vector(self.x + other.x, self.y + other.y)\n",
    "        else:\n",
    "            raise ValueError(\"Operand must be an instance of Vector\")\n",
    "\n",
    "    def __mul__(self, scalar):\n",
    "        if isinstance(scalar, (float, int)):\n",
    "            return Vector(self.x * scalar, self.y * scalar)\n",
    "        else:\n",
    "            raise ValueError(\"Scalar must be a float or an integer\")\n",
    "\n",
    "    def __repr__(self):\n",
    "        return f\"Vector({self.x}, {self.y})\""
   ]
  },
  {
   "cell_type": "code",
   "execution_count": 25,
   "metadata": {},
   "outputs": [],
   "source": [
    "# Vector addition\n",
    "v1 = Vector(1, 2)\n",
    "v2 = Vector(3, 4)"
   ]
  },
  {
   "cell_type": "code",
   "execution_count": 26,
   "metadata": {},
   "outputs": [],
   "source": [
    "v3 = v1 + v2"
   ]
  },
  {
   "cell_type": "code",
   "execution_count": 27,
   "metadata": {},
   "outputs": [
    {
     "data": {
      "text/plain": [
       "Vector(4, 6)"
      ]
     },
     "execution_count": 27,
     "metadata": {},
     "output_type": "execute_result"
    }
   ],
   "source": [
    "v3"
   ]
  },
  {
   "cell_type": "code",
   "execution_count": 28,
   "metadata": {},
   "outputs": [],
   "source": [
    "# Vector scalar multiplication\n",
    "v4 = v1 * 3"
   ]
  },
  {
   "cell_type": "code",
   "execution_count": 31,
   "metadata": {},
   "outputs": [
    {
     "data": {
      "text/plain": [
       "Vector(3, 6)"
      ]
     },
     "execution_count": 31,
     "metadata": {},
     "output_type": "execute_result"
    }
   ],
   "source": [
    "v4"
   ]
  },
  {
   "cell_type": "markdown",
   "metadata": {},
   "source": [
    "Arithmetic magic methods (`__add__`, `__sub__`, `__mul__`, etc.) play a pivotal role in the design of expressive and intuitive classes that represent entities capable of participating in arithmetic operations. By carefully implementing these methods, you can create objects that not only encapsulate state and behavior but also seamlessly integrate into Python's rich ecosystem of numeric types and operations. This integration empowers developers to craft solutions that are both elegant and straightforward, closely mirroring the concepts they are intended to represent."
   ]
  },
  {
   "cell_type": "markdown",
   "metadata": {},
   "source": [
    "While we've discussed the implementation and significance of `__add__`, `__sub__`, and `__mul__` magic methods, Python supports a wide range of arithmetic operations through special methods. These enable your custom objects to partake in a variety of mathematical operations beyond addition, subtraction, and multiplication. Here's a list of additional arithmetic magic methods that you might find useful for further reading and exploration:\n",
    "\n",
    "- **Division**:\n",
    "  - `__truediv__(self, other)` for the division operation `/`\n",
    "  - `__floordiv__(self, other)` for floor division `//`\n",
    "\n",
    "- **Modulus and Exponentiation**:\n",
    "  - `__mod__(self, other)` for modulus or remainder operation `%`\n",
    "  - `__divmod__(self, other)` for built-in `divmod()` function, performing division and modulus in a single operation\n",
    "  - `__pow__(self, other[, modulo])` for exponentiation `**`, optionally modulo a number\n",
    "\n",
    "- **Reflected Arithmetic Operations**:\n",
    "  - These are called if the right operand’s type is a subclass of the left operand’s type and the operation is not supported.\n",
    "  - `__radd__`, `__rsub__`, `__rmul__`, `__rtruediv__`, `__rfloordiv__`, `__rmod__`, `__rpow__`\n",
    "\n",
    "- **Augmented Assignment Operations**:\n",
    "  - These methods are used for compound assignment operations that combine a binary operation and an assignment.\n",
    "  - `__iadd__(self, other)` for `+=`\n",
    "  - `__isub__(self, other)` for `-=`\n",
    "  - `__imul__(self, other)` for `*=`\n",
    "  - `__itruediv__(self, other)` for `/=`\n",
    "  - `__ifloordiv__(self, other)` for `//=`\n",
    "  - `__imod__(self, other)` for `%=`\n",
    "  - `__ipow__(self, other[, modulo])` for `**=`\n",
    "\n",
    "- **Unary Operations**:\n",
    "  - `__neg__(self)` for negation `-`\n",
    "  - `__pos__(self)` for unary plus `+`\n",
    "  - `__abs__(self)` for the absolute value `abs()`\n",
    "  - `__invert__(self)` for bitwise negation `~`"
   ]
  },
  {
   "cell_type": "markdown",
   "metadata": {},
   "source": [
    "\n",
    "Each of these magic methods provides a way to further customize the behavior of your classes and allows instances to interact with Python's built-in arithmetic operations naturally. Implementing these methods can extend the utility and expressiveness of your custom types, opening the door to more sophisticated mathematical modeling and operations."
   ]
  },
  {
   "cell_type": "markdown",
   "metadata": {},
   "source": [
    "## <a id='toc4_'></a>[Comparison Magic Methods: Enabling Rich Comparisons Between Objects](#toc0_)"
   ]
  },
  {
   "cell_type": "markdown",
   "metadata": {},
   "source": [
    "In Python, comparison operations are not solely confined to primitive data types like integers and strings. Custom objects can also partake in comparison through a suite of special methods designed explicitly for this purpose. By defining behavior for standard comparison operators (`==`, `!=`, `<`, `<=`, `>`, `>=`) within your classes, you grant them comprehensive comparison capabilities. This inclusion allows for sorting, ordering, and logical evaluations of objects based on custom criteria, integral to nuanced data handling and operations.\n"
   ]
  },
  {
   "cell_type": "markdown",
   "metadata": {},
   "source": [
    "### <a id='toc4_1_'></a>[Equality and Inequality: `__eq__` and `__ne__`](#toc0_)\n"
   ]
  },
  {
   "cell_type": "markdown",
   "metadata": {},
   "source": [
    "**Equality (`__eq__`)**:\n",
    "The `__eq__` method empowers you to define how instances of your class should respond to the equality operator `==`. It should return `True` when objects are considered equivalent, and `False` otherwise.\n"
   ]
  },
  {
   "cell_type": "code",
   "execution_count": 32,
   "metadata": {},
   "outputs": [],
   "source": [
    "class Book:\n",
    "    def __init__(self, title, author):\n",
    "        self.title = title\n",
    "        self.author = author\n",
    "\n",
    "    def __eq__(self, other):\n",
    "        if not isinstance(other, Book):\n",
    "            return NotImplemented\n",
    "        return (self.title == other.title) and (self.author == other.author)"
   ]
  },
  {
   "cell_type": "code",
   "execution_count": 33,
   "metadata": {},
   "outputs": [
    {
     "data": {
      "text/plain": [
       "True"
      ]
     },
     "execution_count": 33,
     "metadata": {},
     "output_type": "execute_result"
    }
   ],
   "source": [
    "book1 = Book(\"Python Programming\", \"Jane Doe\")\n",
    "book2 = Book(\"Python Programming\", \"Jane Doe\")\n",
    "\n",
    "book1 == book2"
   ]
  },
  {
   "cell_type": "code",
   "execution_count": 34,
   "metadata": {},
   "outputs": [
    {
     "data": {
      "text/plain": [
       "False"
      ]
     },
     "execution_count": 34,
     "metadata": {},
     "output_type": "execute_result"
    }
   ],
   "source": [
    "book1 = Book(\"Python Programming\", \"Jane Doe\")\n",
    "book2 = Book(\"Python Programming\", \"John Smith\")\n",
    "\n",
    "book1 == book2"
   ]
  },
  {
   "cell_type": "markdown",
   "metadata": {},
   "source": [
    "**Inequality (`__ne__`)**:\n",
    "The `__ne__` method serves to delineate the behavior for inequality operator `!=`. Although Python can automatically infer inequality from equality (if `__ne__` is undefined) by inverting the result of `__eq__`, explicitly defining `__ne__` enhances clarity and can potentially optimize performance.\n"
   ]
  },
  {
   "cell_type": "markdown",
   "metadata": {},
   "source": [
    "```python\n",
    "    def __ne__(self, other):\n",
    "        return not self.__eq__(other)\n",
    "```\n"
   ]
  },
  {
   "cell_type": "markdown",
   "metadata": {},
   "source": [
    "### <a id='toc4_2_'></a>[Ordering: `__lt__`, `__le__`, `__gt__`, `__ge__`](#toc0_)\n"
   ]
  },
  {
   "cell_type": "markdown",
   "metadata": {},
   "source": [
    "To facilitate rich comparisons that involve ordering, Python offers four additional magic methods. While `__eq__` and `__ne__` are generally more commonly used, these ordering methods are crucial for objects that inherently possess a natural order, such as those representing numerical values, sizes, or chronological sequences.\n"
   ]
  },
  {
   "cell_type": "markdown",
   "metadata": {},
   "source": [
    "**Less Than (`__lt__`)** and **Less Than or Equal (`__le__`)**:\n",
    "These methods establish behavior for the `<` and `<=` operators, respectively. Implemented correctly, they return `True` if the left-hand object is considered to be less than (or equal to) the right-hand object, based on your defined criteria.\n"
   ]
  },
  {
   "cell_type": "markdown",
   "metadata": {},
   "source": [
    "**Greater Than (`__gt__`)** and **Greater Than or Equal (`__ge__`)**:\n",
    "Conversely, `__gt__` and `__ge__` shape the behavior of `>` and `>=` operators. Including these methods in your class definition allows objects to be evaluated for greater than or greater/equivalent comparisons.\n"
   ]
  },
  {
   "cell_type": "code",
   "execution_count": 35,
   "metadata": {},
   "outputs": [],
   "source": [
    "class Vector:\n",
    "    def __init__(self, x, y):\n",
    "        self.x = x\n",
    "        self.y = y\n",
    "\n",
    "    def __lt__(self, other):\n",
    "        return (self.x ** 2 + self.y ** 2) < (other.x ** 2 + other.y ** 2)\n",
    "\n",
    "    def __le__(self, other):\n",
    "        return (self.x ** 2 + self.y ** 2) <= (other.x ** 2 + other.y ** 2)\n",
    "\n",
    "    def __gt__(self, other):\n",
    "        return (self.x ** 2 + self.y ** 2) > (other.x ** 2 + other.y ** 2)\n",
    "\n",
    "    def __ge__(self, other):\n",
    "        return (self.x ** 2 + self.y ** 2) >= (other.x ** 2 + other.y ** 2)"
   ]
  },
  {
   "cell_type": "code",
   "execution_count": 36,
   "metadata": {},
   "outputs": [],
   "source": [
    "v1 = Vector(1, 2)\n",
    "v2 = Vector(3, 4)"
   ]
  },
  {
   "cell_type": "code",
   "execution_count": 37,
   "metadata": {},
   "outputs": [
    {
     "data": {
      "text/plain": [
       "True"
      ]
     },
     "execution_count": 37,
     "metadata": {},
     "output_type": "execute_result"
    }
   ],
   "source": [
    "v1 < v2"
   ]
  },
  {
   "cell_type": "code",
   "execution_count": 38,
   "metadata": {},
   "outputs": [
    {
     "data": {
      "text/plain": [
       "False"
      ]
     },
     "execution_count": 38,
     "metadata": {},
     "output_type": "execute_result"
    }
   ],
   "source": [
    "v1 > v2"
   ]
  },
  {
   "cell_type": "code",
   "execution_count": 39,
   "metadata": {},
   "outputs": [
    {
     "data": {
      "text/plain": [
       "True"
      ]
     },
     "execution_count": 39,
     "metadata": {},
     "output_type": "execute_result"
    }
   ],
   "source": [
    "v1 <= v2"
   ]
  },
  {
   "cell_type": "code",
   "execution_count": 40,
   "metadata": {},
   "outputs": [
    {
     "data": {
      "text/plain": [
       "False"
      ]
     },
     "execution_count": 40,
     "metadata": {},
     "output_type": "execute_result"
    }
   ],
   "source": [
    "v1 >= v2"
   ]
  },
  {
   "cell_type": "markdown",
   "metadata": {},
   "source": [
    "By implementing comparison magic methods in your classes, you unlock the ability to compare objects in an intuitive, Pythonic manner. This practice allows your objects to not only be compared for equality and inequality but also to be ordered and evaluated logically based on custom criteria. Crafting clear and meaningful comparisons for the instances of your class amplifies their expressiveness and utility, fitting them seamlessly into Python's broader comparison model."
   ]
  },
  {
   "cell_type": "markdown",
   "metadata": {},
   "source": [
    "## <a id='toc5_'></a>[Object Initialization and Destruction: `__init__` and `__del__` Magic Methods](#toc0_)"
   ]
  },
  {
   "cell_type": "markdown",
   "metadata": {},
   "source": [
    "Understanding the lifecycle of objects in Python is crucial for effective object-oriented programming. Two fundamental aspects of this lifecycle are initialization and destruction, managed through the magic methods `__init__` and `__del__`. These methods allow you to define how your objects are set up when they are created and what happens when they are about to be destroyed.\n"
   ]
  },
  {
   "cell_type": "markdown",
   "metadata": {},
   "source": [
    "### <a id='toc5_1_'></a>[`__init__`: Initializing Objects](#toc0_)\n"
   ]
  },
  {
   "cell_type": "markdown",
   "metadata": {},
   "source": [
    "The `__init__` method is the constructor of a class in Python. It's called when an object is created from a class. This method allows the class to initialize the object's attributes and to perform any other necessary initialization steps.\n"
   ]
  },
  {
   "cell_type": "markdown",
   "metadata": {},
   "source": [
    "**Syntax and Usage:**"
   ]
  },
  {
   "cell_type": "code",
   "execution_count": 4,
   "metadata": {},
   "outputs": [],
   "source": [
    "class MyClass:\n",
    "    def __init__(self, value):\n",
    "        self.attribute = value"
   ]
  },
  {
   "cell_type": "markdown",
   "metadata": {},
   "source": [
    "In the example above, when `MyClass` is instantiated, the `__init__` method is automatically called with the given arguments. Here, `value` is an argument passed during object creation and is used to initialize the `attribute` of the object.\n"
   ]
  },
  {
   "cell_type": "markdown",
   "metadata": {},
   "source": [
    "**Example:**"
   ]
  },
  {
   "cell_type": "code",
   "execution_count": 5,
   "metadata": {},
   "outputs": [],
   "source": [
    "class Car:\n",
    "    def __init__(self, make, model):\n",
    "        self.make = make\n",
    "        self.model = model"
   ]
  },
  {
   "cell_type": "code",
   "execution_count": 7,
   "metadata": {},
   "outputs": [
    {
     "data": {
      "text/plain": [
       "'My car is a Toyota Corolla.'"
      ]
     },
     "execution_count": 7,
     "metadata": {},
     "output_type": "execute_result"
    }
   ],
   "source": [
    "my_car = Car(\"Toyota\", \"Corolla\")\n",
    "f\"My car is a {my_car.make} {my_car.model}.\""
   ]
  },
  {
   "cell_type": "markdown",
   "metadata": {},
   "source": [
    "This creates a `Car` object with `make` and `model` attributes and prints out a description of the car.\n"
   ]
  },
  {
   "cell_type": "markdown",
   "metadata": {},
   "source": [
    "### <a id='toc5_2_'></a>[`__del__`: Cleaning Up Objects](#toc0_)\n"
   ]
  },
  {
   "cell_type": "markdown",
   "metadata": {},
   "source": [
    "The `__del__` method, known as the destructor, is called when an object’s reference count reaches zero, and Python is about to destroy it. This method is less commonly used than `__init__` because Python has an efficient garbage collector that handles memory management. However, `__del__` can be useful for performing clean-up activities, such as closing files or network connections.\n"
   ]
  },
  {
   "cell_type": "markdown",
   "metadata": {},
   "source": [
    "**Syntax and Usage:**\n",
    "```python\n",
    "class MyClass:\n",
    "    def __del__(self):\n",
    "        print(\"MyClass instance is being destroyed.\")\n",
    "```"
   ]
  },
  {
   "cell_type": "markdown",
   "metadata": {},
   "source": [
    "**Note of Caution:**\n",
    "Relying on `__del__` for crucial clean-up tasks is generally discouraged because the exact timing of its execution is uncertain. Instead, for managing resources, it's better to use context managers and the `with` statement.\n"
   ]
  },
  {
   "cell_type": "markdown",
   "metadata": {},
   "source": [
    "**Example:**"
   ]
  },
  {
   "cell_type": "code",
   "execution_count": 9,
   "metadata": {},
   "outputs": [
    {
     "name": "stdout",
     "output_type": "stream",
     "text": [
      "Resource is being freed.\n"
     ]
    }
   ],
   "source": [
    "class Resource:\n",
    "    def __del__(self):\n",
    "        print(\"Resource is being freed.\")\n",
    "\n",
    "resource_instance = Resource()\n",
    "del resource_instance  # Triggers __del__"
   ]
  },
  {
   "cell_type": "markdown",
   "metadata": {},
   "source": [
    "In this example, explicitly deleting `resource_instance` or when it goes out of scope, triggers the `__del__` method, indicating that the `Resource` instance is being cleaned up.\n"
   ]
  },
  {
   "cell_type": "markdown",
   "metadata": {},
   "source": [
    "When you run `del resource_instance`, you're instructing Python to remove the name `resource_instance` from the namespace where it was defined, effectively removing its reference to the object it was associated with. The `del` statement is a way to delete references to objects. It's important to note that `del` doesn't delete objects directly but rather removes references to them. The actual object deletion happens as part of Python's garbage collection process."
   ]
  },
  {
   "cell_type": "markdown",
   "metadata": {},
   "source": [
    "Here's a step-by-step breakdown of what happens:\n",
    "\n",
    "1. **Reference Counting**: Python primarily uses reference counting as part of its memory management and garbage collection scheme. Each object keeps track of how many references exist to it. When you create an object and assign it to a variable, its reference count becomes 1. If you create another variable that references the same object or pass the object into a function, the reference count increases.\n",
    "\n",
    "2. **Deleting References with `del`**: When you use `del resource_instance`, Python reduces the reference count of the object that `resource_instance` was pointing to by 1. If `resource_instance` was the only reference to that object (making the reference count zero), Python knows that the object is no longer accessible or needed.\n",
    "\n",
    "3. **Invoking `__del__`**: If the reference count of an object reaches zero, indicating no more references to the object exist, the `__del__` method (if defined) is triggered. It's Python's way of telling you that the object is about to be destroyed. This is where you can place any clean-up code, like closing files or network connections associated with the object.\n",
    "\n",
    "4. **Garbage Collection and Object Deletion**: After `__del__` has been executed (or if it wasn't defined, after the reference count reaches zero), the garbage collector removes the object from memory. This step is handled automatically by Python, and you usually don't need to intervene or worry about it. \n"
   ]
  },
  {
   "cell_type": "markdown",
   "metadata": {},
   "source": [
    "It's also worth mentioning that Python has a more complex garbage collector beyond just reference counting to handle specific scenarios (like circular references that reference counting alone can't resolve). This garbage collector runs periodically and cleans up objects that are no longer accessible even if their reference counts aren't zero due to referencing each other.\n"
   ]
  },
  {
   "cell_type": "markdown",
   "metadata": {},
   "source": [
    "In summary, `del resource_instance` reduces the reference count, possibly triggering the `__del__` method if the count reaches zero, and then Python's garbage collector handles the actual object deletion from memory. This process is mostly transparent to the developer, with Python taking care of the memory management details."
   ]
  },
  {
   "cell_type": "markdown",
   "metadata": {},
   "source": [
    "Both `__init__` and `__del__` magic methods serve as critical bookends to an object's lifecycle in Python, offering you control over how your objects are born and how they bid farewell to the world of computation. Properly leveraging these methods allows for more robust, predictable, and maintainable object-oriented programming patterns in Python."
   ]
  },
  {
   "cell_type": "markdown",
   "metadata": {},
   "source": [
    "## <a id='toc6_'></a>[Emulating Container Types: `__getitem__` and `__setitem__`](#toc0_)"
   ]
  },
  {
   "cell_type": "markdown",
   "metadata": {},
   "source": [
    "Python's `__getitem__` and `__setitem__` magic methods allow you to emulate the behavior of container types, such as lists and dictionaries, in your custom classes. These methods enable you to define how your objects respond to square bracket notation for accessing and assigning values.\n"
   ]
  },
  {
   "cell_type": "markdown",
   "metadata": {},
   "source": [
    "### <a id='toc6_1_'></a>[`__getitem__`: Accessing Items](#toc0_)\n"
   ]
  },
  {
   "cell_type": "markdown",
   "metadata": {},
   "source": [
    "The `__getitem__` method is called when you use square brackets `[]` to access an item in an object, similar to accessing elements in a list or values in a dictionary using a key.\n"
   ]
  },
  {
   "cell_type": "markdown",
   "metadata": {},
   "source": [
    "**Syntax and Usage:**\n",
    "```python\n",
    "class MyClass:\n",
    "    def __getitem__(self, key):\n",
    "        return self.data[key]\n",
    "```\n"
   ]
  },
  {
   "cell_type": "markdown",
   "metadata": {},
   "source": [
    "In this example, when you use `my_instance[key]`, Python calls the `__getitem__` method with the `key` argument, and it should return the corresponding value.\n"
   ]
  },
  {
   "cell_type": "markdown",
   "metadata": {},
   "source": [
    "**Example:**"
   ]
  },
  {
   "cell_type": "code",
   "execution_count": 1,
   "metadata": {},
   "outputs": [],
   "source": [
    "class CustomDict:\n",
    "    def __init__(self):\n",
    "        self.data = {}\n",
    "\n",
    "    def __getitem__(self, key):\n",
    "        return self.data[key]"
   ]
  },
  {
   "cell_type": "code",
   "execution_count": 2,
   "metadata": {},
   "outputs": [],
   "source": [
    "my_dict = CustomDict()\n",
    "my_dict.data = {'a': 1, 'b': 2}"
   ]
  },
  {
   "cell_type": "code",
   "execution_count": 3,
   "metadata": {},
   "outputs": [
    {
     "data": {
      "text/plain": [
       "1"
      ]
     },
     "execution_count": 3,
     "metadata": {},
     "output_type": "execute_result"
    }
   ],
   "source": [
    "my_dict['a']  # Calls __getitem__"
   ]
  },
  {
   "cell_type": "markdown",
   "metadata": {},
   "source": [
    "### <a id='toc6_2_'></a>[`__setitem__`: Setting Items](#toc0_)"
   ]
  },
  {
   "cell_type": "markdown",
   "metadata": {},
   "source": [
    "The `__setitem__` method is called when you use square brackets `[]` to assign a value to an item in an object, similar to setting elements in a list or values in a dictionary using a key.\n"
   ]
  },
  {
   "cell_type": "markdown",
   "metadata": {},
   "source": [
    "**Syntax and Usage:**\n",
    "```python\n",
    "class MyClass:\n",
    "    def __setitem__(self, key, value):\n",
    "        self.data[key] = value\n",
    "```\n"
   ]
  },
  {
   "cell_type": "markdown",
   "metadata": {},
   "source": [
    "In this example, when you use `my_instance[key] = value`, Python calls the `__setitem__` method with the `key` and `value` arguments, and it should set the corresponding value in the object.\n"
   ]
  },
  {
   "cell_type": "markdown",
   "metadata": {},
   "source": [
    "**Example:**"
   ]
  },
  {
   "cell_type": "code",
   "execution_count": 4,
   "metadata": {},
   "outputs": [],
   "source": [
    "class CustomDict:\n",
    "    def __init__(self):\n",
    "        self.data = {}\n",
    "\n",
    "    def __setitem__(self, key, value):\n",
    "        self.data[key] = value"
   ]
  },
  {
   "cell_type": "code",
   "execution_count": 5,
   "metadata": {},
   "outputs": [],
   "source": [
    "my_dict = CustomDict()\n",
    "my_dict['a'] = 1  # Calls __setitem__\n",
    "my_dict['b'] = 2"
   ]
  },
  {
   "cell_type": "code",
   "execution_count": 6,
   "metadata": {},
   "outputs": [
    {
     "data": {
      "text/plain": [
       "{'a': 1, 'b': 2}"
      ]
     },
     "execution_count": 6,
     "metadata": {},
     "output_type": "execute_result"
    }
   ],
   "source": [
    "my_dict.data"
   ]
  },
  {
   "cell_type": "markdown",
   "metadata": {},
   "source": [
    "## <a id='toc7_'></a>[Making Objects Callable: `__call__`](#toc0_)"
   ]
  },
  {
   "cell_type": "markdown",
   "metadata": {},
   "source": [
    "The `__call__` magic method allows instances of your class to be called like functions. When an object is followed by parentheses `()`, the `__call__` method of the object is invoked.\n"
   ]
  },
  {
   "cell_type": "markdown",
   "metadata": {},
   "source": [
    "**Syntax and Usage:**\n",
    "```python\n",
    "class MyClass:\n",
    "    def __call__(self, *args, **kwargs):\n",
    "        # Perform some action\n",
    "        return result\n",
    "```"
   ]
  },
  {
   "cell_type": "markdown",
   "metadata": {},
   "source": [
    "In this example, when you use `my_instance(*args, **kwargs)`, Python calls the `__call__` method with the provided arguments and keyword arguments.\n"
   ]
  },
  {
   "cell_type": "markdown",
   "metadata": {},
   "source": [
    "**Example:**"
   ]
  },
  {
   "cell_type": "code",
   "execution_count": 7,
   "metadata": {},
   "outputs": [],
   "source": [
    "class Adder:\n",
    "    def __init__(self, initial_value):\n",
    "        self.total = initial_value\n",
    "\n",
    "    def __call__(self, value):\n",
    "        self.total += value\n",
    "        return self.total"
   ]
  },
  {
   "cell_type": "code",
   "execution_count": 8,
   "metadata": {},
   "outputs": [],
   "source": [
    "adder = Adder(10)"
   ]
  },
  {
   "cell_type": "code",
   "execution_count": 9,
   "metadata": {},
   "outputs": [
    {
     "data": {
      "text/plain": [
       "15"
      ]
     },
     "execution_count": 9,
     "metadata": {},
     "output_type": "execute_result"
    }
   ],
   "source": [
    "adder(5)  # Calls __call__"
   ]
  },
  {
   "cell_type": "code",
   "execution_count": 10,
   "metadata": {},
   "outputs": [
    {
     "data": {
      "text/plain": [
       "18"
      ]
     },
     "execution_count": 10,
     "metadata": {},
     "output_type": "execute_result"
    }
   ],
   "source": [
    "adder(3)"
   ]
  },
  {
   "cell_type": "markdown",
   "metadata": {},
   "source": [
    "In this example, the `Adder` class is initialized with an initial value, and each time the `adder` instance is called with a value, it adds that value to the running total and returns the updated total.\n"
   ]
  },
  {
   "cell_type": "markdown",
   "metadata": {},
   "source": [
    "**Example 2: A Counter Class**"
   ]
  },
  {
   "cell_type": "markdown",
   "metadata": {},
   "source": [
    "Let's create a counter class that keeps track of the count and allows incrementing the count by calling an instance of the class.\n"
   ]
  },
  {
   "cell_type": "code",
   "execution_count": 11,
   "metadata": {},
   "outputs": [],
   "source": [
    "class Counter:\n",
    "    def __init__(self, initial_count=0):\n",
    "        self.count = initial_count\n",
    "\n",
    "    def __call__(self, increment=1):\n",
    "        self.count += increment\n",
    "        return self.count"
   ]
  },
  {
   "cell_type": "code",
   "execution_count": 12,
   "metadata": {},
   "outputs": [],
   "source": [
    "counter = Counter()"
   ]
  },
  {
   "cell_type": "code",
   "execution_count": 13,
   "metadata": {},
   "outputs": [
    {
     "data": {
      "text/plain": [
       "1"
      ]
     },
     "execution_count": 13,
     "metadata": {},
     "output_type": "execute_result"
    }
   ],
   "source": [
    "counter()"
   ]
  },
  {
   "cell_type": "code",
   "execution_count": 14,
   "metadata": {},
   "outputs": [
    {
     "data": {
      "text/plain": [
       "2"
      ]
     },
     "execution_count": 14,
     "metadata": {},
     "output_type": "execute_result"
    }
   ],
   "source": [
    "counter()"
   ]
  },
  {
   "cell_type": "code",
   "execution_count": 15,
   "metadata": {},
   "outputs": [
    {
     "data": {
      "text/plain": [
       "7"
      ]
     },
     "execution_count": 15,
     "metadata": {},
     "output_type": "execute_result"
    }
   ],
   "source": [
    "counter(5)"
   ]
  },
  {
   "cell_type": "code",
   "execution_count": 16,
   "metadata": {},
   "outputs": [
    {
     "data": {
      "text/plain": [
       "8"
      ]
     },
     "execution_count": 16,
     "metadata": {},
     "output_type": "execute_result"
    }
   ],
   "source": [
    "counter()"
   ]
  },
  {
   "cell_type": "markdown",
   "metadata": {},
   "source": [
    "In this example, the `Counter` class has an `__init__` method that initializes the `count` attribute with an optional `initial_count` (default is 0). The `__call__` method allows incrementing the count by a specified `increment` (default is 1) each time an instance of the class is called. It updates the `count` attribute and returns the current count.\n"
   ]
  },
  {
   "cell_type": "markdown",
   "metadata": {},
   "source": [
    "By making an instance of the `Counter` class callable, we can easily increment the count by invoking the instance directly. This provides a clean and intuitive way to interact with the counter object.\n"
   ]
  },
  {
   "cell_type": "markdown",
   "metadata": {},
   "source": [
    "The `__call__` method is particularly useful when you want to create objects that encapsulate a single action or computation, allowing them to be invoked directly as if they were functions."
   ]
  }
 ],
 "metadata": {
  "kernelspec": {
   "display_name": "py310",
   "language": "python",
   "name": "python3"
  },
  "language_info": {
   "codemirror_mode": {
    "name": "ipython",
    "version": 3
   },
   "file_extension": ".py",
   "mimetype": "text/x-python",
   "name": "python",
   "nbconvert_exporter": "python",
   "pygments_lexer": "ipython3",
   "version": "3.10.12"
  }
 },
 "nbformat": 4,
 "nbformat_minor": 2
}
