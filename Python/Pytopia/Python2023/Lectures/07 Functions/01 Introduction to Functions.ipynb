{
 "cells": [
  {
   "cell_type": "markdown",
   "metadata": {},
   "source": [
    "<img src=\"./images/banner.png\" width=\"800\">"
   ]
  },
  {
   "cell_type": "markdown",
   "metadata": {},
   "source": [
    "# Introduction to Functions"
   ]
  },
  {
   "cell_type": "markdown",
   "metadata": {},
   "source": [
    "Welcome to the exciting world of functions in Python! As you embark on this journey, you'll discover that functions are the building blocks of reusable, organized, and efficient code. They are a fundamental concept in programming, much like their counterparts in mathematics. However, the functions we use in programming go beyond the simple input-output mapping you might have encountered in math class.\n"
   ]
  },
  {
   "cell_type": "markdown",
   "metadata": {},
   "source": [
    "Let's consider the mathematical function where `y = f(x)`. This notation describes a relationship where `f` transforms inputs `x` into an output `y`. Similarly, in programming, a function can take inputs (known as parameters), perform operations, and return an output. But that's just the beginning. Programming functions can do infinitely more—they can execute complex blocks of code, handle various tasks, and create abstractions that make software development more modular and error-free.\n"
   ]
  },
  {
   "cell_type": "markdown",
   "metadata": {},
   "source": [
    "<img src=\"./images/math-function.png\" width=\"600\">"
   ]
  },
  {
   "cell_type": "markdown",
   "metadata": {},
   "source": [
    "Functions concept is not limited to math or programming. Functions describe a wide range of processes in the real world. For example, a coffee machine is a function that takes an input (coffee beans and water), performs a series of operations (grinding, heating, and brewing), and produces an output (a cup of coffee). Similarly, a factory is a function that takes raw materials as input, performs various operations (cutting, shaping, assembling, etc.), and produces finished products as output. In the same way, a function in programming takes inputs, performs operations, and produces outputs."
   ]
  },
  {
   "cell_type": "markdown",
   "metadata": {},
   "source": [
    "<img src=\"./images/vending-function.png\" width=\"600\">"
   ]
  },
  {
   "cell_type": "markdown",
   "metadata": {},
   "source": [
    "For example, in Python, you've already seen some built-in functions like `id()`, which returns a unique identifier for an object, or `len()`, which tells you how many items are in a container. These functions encapsulate specific tasks that you can leverage without needing to know the intricacies of their internal workings.\n"
   ]
  },
  {
   "cell_type": "code",
   "execution_count": 1,
   "metadata": {},
   "outputs": [
    {
     "name": "stdout",
     "output_type": "stream",
     "text": [
      "4397044464\n"
     ]
    }
   ],
   "source": [
    "s = 'foobar'\n",
    "print(id(s))  # Outputs the unique identifier for the string object 's'"
   ]
  },
  {
   "cell_type": "code",
   "execution_count": 2,
   "metadata": {},
   "outputs": [
    {
     "name": "stdout",
     "output_type": "stream",
     "text": [
      "4\n"
     ]
    }
   ],
   "source": [
    "a = ['foo', 'bar', 'baz', 'qux']\n",
    "print(len(a))  # Outputs the number of items in the list 'a'"
   ]
  },
  {
   "cell_type": "markdown",
   "metadata": {},
   "source": [
    "These built-in functions are just a peek into the utility of functions. As you learn to define your own functions, you'll gain control over the modularity and reusability of your code. You'll write functions that can be called from anywhere within your program, passing data in and out, and facilitating a smooth workflow.\n"
   ]
  },
  {
   "cell_type": "markdown",
   "metadata": {},
   "source": [
    "By the end of this lecture, you will have a solid understanding of what functions are, why they're indispensable, and how to begin using them in your Python programs. Whether it's for a simple task like computing the area of a rectangle or more complex operations, functions will become an essential tool in your programming arsenal. Let's dive in and explore the power of functions in Python!"
   ]
  },
  {
   "cell_type": "markdown",
   "metadata": {},
   "source": [
    "What this video on how functions describe the world: [Functions in the Real World](https://www.youtube.com/watch?v=PAZTIAfaNr8)"
   ]
  },
  {
   "cell_type": "markdown",
   "metadata": {},
   "source": [
    "**Table of contents**<a id='toc0_'></a>    \n",
    "- [What is a Function?](#toc1_)    \n",
    "- [The Importance of Python Functions](#toc2_)    \n",
    "  - [Abstraction and Reusability](#toc2_1_)    \n",
    "  - [Modularity](#toc2_2_)    \n",
    "  - [Namespace Separation](#toc2_3_)    \n",
    "- [Creating Your First Function](#toc3_)    \n",
    "  - [Function Definition Syntax](#toc3_1_)    \n",
    "  - [Function Calling Syntax](#toc3_2_)    \n",
    "  - [Your First Function](#toc3_3_)    \n",
    "  - [Using Parameters](#toc3_4_)    \n",
    "  - [Placeholder Functions with `pass`](#toc3_5_)    \n",
    "\n",
    "<!-- vscode-jupyter-toc-config\n",
    "\tnumbering=false\n",
    "\tanchor=true\n",
    "\tflat=false\n",
    "\tminLevel=2\n",
    "\tmaxLevel=6\n",
    "\t/vscode-jupyter-toc-config -->\n",
    "<!-- THIS CELL WILL BE REPLACED ON TOC UPDATE. DO NOT WRITE YOUR TEXT IN THIS CELL -->"
   ]
  },
  {
   "cell_type": "markdown",
   "metadata": {},
   "source": [
    "## <a id='toc1_'></a>[What is a Function?](#toc0_)"
   ]
  },
  {
   "cell_type": "markdown",
   "metadata": {},
   "source": [
    "A function in programming is a reusable block of code that performs a specific task. Functions take in data, process it, and return a result. In Python, functions help organize your code and make it more readable and manageable. They allow you to write code once and use it multiple times throughout your program, which is a fundamental aspect of the **DRY (Don't Repeat Yourself)** principle.\n"
   ]
  },
  {
   "cell_type": "markdown",
   "metadata": {},
   "source": [
    "<img src=\"./images/math-function-input-output.png\" width=\"600\">"
   ]
  },
  {
   "cell_type": "markdown",
   "metadata": {},
   "source": [
    "## <a id='toc2_'></a>[The Importance of Python Functions](#toc0_)"
   ]
  },
  {
   "cell_type": "markdown",
   "metadata": {},
   "source": [
    "Functions are one of the fundamental building blocks in Python, as they are in many programming languages. Their importance stems from their ability to promote several key aspects of good software design: abstraction, reusability, modularity, and namespace separation. Let's explore each of these concepts and understand why they are crucial when working with Python.\n"
   ]
  },
  {
   "cell_type": "markdown",
   "metadata": {},
   "source": [
    "### <a id='toc2_1_'></a>[Abstraction and Reusability](#toc0_)\n"
   ]
  },
  {
   "cell_type": "markdown",
   "metadata": {},
   "source": [
    "Consider a scenario where you have crafted a snippet of code that calculates the average of a list of numbers. As your codebase grows, you find yourself calculating averages in various parts of your application. Copying and pasting this code everywhere is tempting, but it comes with a high maintenance cost. When a change is necessary, it requires updating the logic at every occurrence, risking inconsistency and bugs.\n"
   ]
  },
  {
   "cell_type": "markdown",
   "metadata": {},
   "source": [
    "The elegant solution is to encapsulate the average-calculation logic within a function:\n"
   ]
  },
  {
   "cell_type": "markdown",
   "metadata": {},
   "source": [
    "```python\n",
    "def calculate_average(numbers):\n",
    "    return sum(numbers) / len(numbers)\n",
    "```\n"
   ]
  },
  {
   "cell_type": "markdown",
   "metadata": {},
   "source": [
    "Now, whenever you need to calculate an average, you can call `calculate_average(numbers)`, and you're done. Any future modifications to this logic only need to be made in one place. This abstraction encourages reusability and adheres to the DRY (Don't Repeat Yourself) principle, saving time and reducing errors.\n"
   ]
  },
  {
   "cell_type": "markdown",
   "metadata": {},
   "source": [
    "### <a id='toc2_2_'></a>[Modularity](#toc0_)\n"
   ]
  },
  {
   "cell_type": "markdown",
   "metadata": {},
   "source": [
    "Modularity is about breaking down a complex system into manageable, interchangeable components. Just as you might approach a physical task like organizing a room by breaking it down into steps, you can structure programs into modules, each with a specific responsibility.\n"
   ]
  },
  {
   "cell_type": "markdown",
   "metadata": {},
   "source": [
    "Let's consider the file processing example mentioned earlier. Refactoring it into functions not only makes the code cleaner but also enhances comprehension and maintainability:\n"
   ]
  },
  {
   "cell_type": "markdown",
   "metadata": {},
   "source": [
    "```python\n",
    "def read_file(filepath):\n",
    "    # Logic to read from a file\n",
    "    pass\n",
    "\n",
    "def process_data(data):\n",
    "    # Transform data\n",
    "    pass\n",
    "\n",
    "def write_file(filepath, data):\n",
    "    # Write processed data to a file\n",
    "    pass\n",
    "\n",
    "# Main program flow\n",
    "file_contents = read_file('input.txt')\n",
    "processed_data = process_data(file_contents)\n",
    "write_file('output.txt', processed_data)\n",
    "```\n"
   ]
  },
  {
   "cell_type": "markdown",
   "metadata": {},
   "source": [
    "Each function handles a distinct aspect of the program, simplifying the development and debugging process.\n"
   ]
  },
  {
   "cell_type": "markdown",
   "metadata": {},
   "source": [
    "### <a id='toc2_3_'></a>[Namespace Separation](#toc0_)\n"
   ]
  },
  {
   "cell_type": "markdown",
   "metadata": {},
   "source": [
    "In Python, every function defines its own namespace, which means that variables declared inside a function are local to that function and separate from variables with the same name outside the function. This isolation prevents variable name conflicts and makes the code more predictable and less error-prone.\n"
   ]
  },
  {
   "cell_type": "markdown",
   "metadata": {},
   "source": [
    "Consider two functions, each defining a variable named `temp`:\n"
   ]
  },
  {
   "cell_type": "markdown",
   "metadata": {},
   "source": [
    "```python\n",
    "def function_a():\n",
    "    temp = \"I'm local to function_a\"\n",
    "    return temp\n",
    "\n",
    "def function_b():\n",
    "    temp = \"I'm local to function_b\"\n",
    "    return temp\n",
    "\n",
    "# No interference occurs between the two 'temp' variables\n",
    "print(function_a())  # Output: I'm local to function_a\n",
    "print(function_b())  # Output: I'm local to function_b\n",
    "```\n"
   ]
  },
  {
   "cell_type": "markdown",
   "metadata": {},
   "source": [
    "This separation allows developers to write functions with clean and self-contained logic, knowing that their local variables will not affect or be affected by the rest of the program.\n"
   ]
  },
  {
   "cell_type": "markdown",
   "metadata": {},
   "source": [
    "Understanding and leveraging these principles will help your students write Python functions that are clear, maintainable, and efficient. With this foundation, they will be prepared to tackle more advanced topics and build complex Python applications with confidence."
   ]
  },
  {
   "cell_type": "markdown",
   "metadata": {},
   "source": [
    "> You will learn more about namespaces and scope later in Advanced Topics section."
   ]
  },
  {
   "cell_type": "markdown",
   "metadata": {},
   "source": [
    "## <a id='toc3_'></a>[Creating Your First Function](#toc0_)\n"
   ]
  },
  {
   "cell_type": "markdown",
   "metadata": {},
   "source": [
    "Creating a function in Python is a straightforward process that allows you to encapsulate code for reuse and organization. Let's dive into the syntax and build your first simple function step by step.\n"
   ]
  },
  {
   "cell_type": "markdown",
   "metadata": {},
   "source": [
    "### <a id='toc3_1_'></a>[Function Definition Syntax](#toc0_)\n"
   ]
  },
  {
   "cell_type": "markdown",
   "metadata": {},
   "source": [
    "To define a function in Python, you use the following structure:\n"
   ]
  },
  {
   "cell_type": "markdown",
   "metadata": {},
   "source": [
    "```python\n",
    "def function_name(parameters):\n",
    "    statements\n",
    "```\n"
   ]
  },
  {
   "cell_type": "markdown",
   "metadata": {},
   "source": [
    "Here's a breakdown of what each part of this syntax represents:\n"
   ]
  },
  {
   "cell_type": "markdown",
   "metadata": {},
   "source": [
    "- `def`: A keyword that tells Python a function is about to be defined.\n",
    "- **Function Name**: A name you give to your function. It should be descriptive and follow standard Python naming conventions.\n",
    "- **Parameters**: These are optional variables that you can pass to the function. They are placeholders for the actual values (arguments) that the function will work with when it is called.\n",
    "- **Body**: The indented block of code that will execute each time the function is called. This is the function's body, where the magic happens.\n"
   ]
  },
  {
   "cell_type": "markdown",
   "metadata": {},
   "source": [
    "<img src=\"./images/function-parts.png\" width=\"600\">"
   ]
  },
  {
   "cell_type": "markdown",
   "metadata": {},
   "source": [
    "### <a id='toc3_2_'></a>[Function Calling Syntax](#toc0_)\n"
   ]
  },
  {
   "cell_type": "markdown",
   "metadata": {},
   "source": [
    "When you want to use your function, you call it by its name followed by parentheses, like so:\n"
   ]
  },
  {
   "cell_type": "markdown",
   "metadata": {},
   "source": [
    "```python\n",
    "function_name(arguments)\n",
    "```\n"
   ]
  },
  {
   "cell_type": "markdown",
   "metadata": {},
   "source": [
    "If your function requires parameters, you'll include the corresponding arguments inside the parentheses. If no parameters are needed, you still use the parentheses, but you'll leave them empty.\n"
   ]
  },
  {
   "cell_type": "markdown",
   "metadata": {},
   "source": [
    "### <a id='toc3_3_'></a>[Your First Function](#toc0_)\n"
   ]
  },
  {
   "cell_type": "markdown",
   "metadata": {},
   "source": [
    "Let's create a simple function named `greet` that prints a greeting message:\n"
   ]
  },
  {
   "cell_type": "code",
   "execution_count": 2,
   "metadata": {},
   "outputs": [],
   "source": [
    "def greet():\n",
    "    print(\"Hello there, welcome to Python functions!\")"
   ]
  },
  {
   "cell_type": "markdown",
   "metadata": {},
   "source": [
    "To call this function, you simply write:\n"
   ]
  },
  {
   "cell_type": "code",
   "execution_count": 3,
   "metadata": {},
   "outputs": [
    {
     "name": "stdout",
     "output_type": "stream",
     "text": [
      "Hello there, welcome to Python functions!\n"
     ]
    }
   ],
   "source": [
    "greet()"
   ]
  },
  {
   "cell_type": "markdown",
   "metadata": {},
   "source": [
    "When you run the above code, you'll see the greeting message printed to the console.\n"
   ]
  },
  {
   "cell_type": "markdown",
   "metadata": {},
   "source": [
    "### <a id='toc3_4_'></a>[Using Parameters](#toc0_)\n"
   ]
  },
  {
   "cell_type": "markdown",
   "metadata": {},
   "source": [
    "Now, let's enhance your function by adding a parameter so you can greet someone by name:\n"
   ]
  },
  {
   "cell_type": "code",
   "execution_count": 4,
   "metadata": {},
   "outputs": [],
   "source": [
    "def greet(name):\n",
    "    print(f\"Hello, {name}! Welcome to Python functions!\")"
   ]
  },
  {
   "cell_type": "markdown",
   "metadata": {},
   "source": [
    "Calling this function with an argument looks like this:\n"
   ]
  },
  {
   "cell_type": "code",
   "execution_count": 5,
   "metadata": {},
   "outputs": [
    {
     "name": "stdout",
     "output_type": "stream",
     "text": [
      "Hello, Alice! Welcome to Python functions!\n"
     ]
    }
   ],
   "source": [
    "greet(\"Alice\")"
   ]
  },
  {
   "cell_type": "markdown",
   "metadata": {},
   "source": [
    "And the output will be:\n"
   ]
  },
  {
   "cell_type": "markdown",
   "metadata": {},
   "source": [
    "```\n",
    "Hello, Alice! Welcome to Python functions!\n",
    "```\n"
   ]
  },
  {
   "cell_type": "markdown",
   "metadata": {},
   "source": [
    "### <a id='toc3_5_'></a>[Placeholder Functions with `pass`](#toc0_)\n"
   ]
  },
  {
   "cell_type": "markdown",
   "metadata": {},
   "source": [
    "Sometimes, you may want to define the structure of a function but delay writing its content. In Python, the `pass` statement can be used for this purpose:\n"
   ]
  },
  {
   "cell_type": "code",
   "execution_count": 6,
   "metadata": {},
   "outputs": [],
   "source": [
    "def future_function():\n",
    "    pass"
   ]
  },
  {
   "cell_type": "markdown",
   "metadata": {},
   "source": [
    "The `future_function` can be called, but it won't do anything yet:\n"
   ]
  },
  {
   "cell_type": "code",
   "execution_count": 7,
   "metadata": {},
   "outputs": [],
   "source": [
    "future_function()  # Does nothing for now"
   ]
  },
  {
   "cell_type": "markdown",
   "metadata": {},
   "source": [
    "In the next section, you'll learn more about each of these concepts and how to use them to create more complex and useful functions."
   ]
  }
 ],
 "metadata": {
  "kernelspec": {
   "display_name": "py310",
   "language": "python",
   "name": "python3"
  },
  "language_info": {
   "codemirror_mode": {
    "name": "ipython",
    "version": 3
   },
   "file_extension": ".py",
   "mimetype": "text/x-python",
   "name": "python",
   "nbconvert_exporter": "python",
   "pygments_lexer": "ipython3",
   "version": "3.10.12"
  }
 },
 "nbformat": 4,
 "nbformat_minor": 2
}
