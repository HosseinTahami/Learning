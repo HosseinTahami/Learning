{
 "cells": [
  {
   "cell_type": "markdown",
   "metadata": {},
   "source": [
    "<img src=\"./images/banner.png\" width=\"800\">"
   ]
  },
  {
   "cell_type": "markdown",
   "metadata": {},
   "source": [
    "# Function Variable-Length Argument in Python"
   ]
  },
  {
   "cell_type": "markdown",
   "metadata": {},
   "source": [
    "In the journey of mastering Python, one of the powerful features you'll encounter is the ability to handle variable-length arguments in functions. This feature allows functions to accept an arbitrary number of arguments, providing the flexibility to deal with situations where the number of inputs may vary. Understanding this concept is crucial for writing versatile and efficient code, especially when the exact number of arguments cannot be predetermined.\n"
   ]
  },
  {
   "cell_type": "markdown",
   "metadata": {},
   "source": [
    "Python achieves this flexibility through several mechanisms: argument tuple packing, argument tuple unpacking, argument dictionary packing, and argument dictionary unpacking. Each of these techniques serves a unique purpose and applies to different scenarios, from collecting any number of arguments into a single parameter to spreading a collection of values across the function's parameters.\n",
    "\n",
    "- **Argument Tuple Packing** lets a function receive any number of arguments as a tuple, making it incredibly useful for functions that can operate on a variable number of inputs.\n",
    "- **Argument Tuple Unpacking** allows a tuple or list of values to be unpacked and passed as individual arguments to a function, simplifying the process of calling functions with sequences of data.\n",
    "- **Argument Dictionary Packing** captures keyword arguments into a dictionary, providing a way to handle functions that accept various named parameters.\n",
    "- **Argument Dictionary Unpacking** enables a dictionary of key-value pairs to be passed to a function as keyword arguments, facilitating dynamic function calls based on variable data.\n"
   ]
  },
  {
   "cell_type": "markdown",
   "metadata": {},
   "source": [
    "As we dive into the details of each technique, we'll explore how they can be combined and utilized in practical scenarios, including handling multiple unpackings in a single function call. This exploration will equip you with the tools to write functions that are not only flexible and powerful but also clear and concise.\n"
   ]
  },
  {
   "cell_type": "markdown",
   "metadata": {},
   "source": [
    "Prepare to expand your Python toolkit with these advanced argument handling techniques, which will open up new possibilities for solving programming challenges more elegantly and effectively."
   ]
  },
  {
   "cell_type": "markdown",
   "metadata": {},
   "source": [
    "**Table of contents**<a id='toc0_'></a>    \n",
    "- [Argument Tuple Packing](#toc1_)    \n",
    "- [Argument Tuple Unpacking](#toc2_)    \n",
    "  - [Unpacking Various Iterable Types](#toc2_1_)    \n",
    "  - [Combining Packing and Unpacking](#toc2_2_)    \n",
    "- [Argument Dictionary Packing](#toc3_)    \n",
    "  - [Combining with Positional Arguments](#toc3_1_)    \n",
    "- [Argument Dictionary Unpacking](#toc4_)    \n",
    "- [Best Practices and Common Mistakes](#toc5_)    \n",
    "  - [Argument Tuple Packing](#toc5_1_)    \n",
    "  - [Argument Tuple Unpacking](#toc5_2_)    \n",
    "  - [Argument Dictionary Packing](#toc5_3_)    \n",
    "  - [Argument Dictionary Unpacking](#toc5_4_)    \n",
    "- [Practice Exercise: Organizing a Coding Workshop](#toc6_)    \n",
    "  - [Solution](#toc6_1_)    \n",
    "\n",
    "<!-- vscode-jupyter-toc-config\n",
    "\tnumbering=false\n",
    "\tanchor=true\n",
    "\tflat=false\n",
    "\tminLevel=2\n",
    "\tmaxLevel=6\n",
    "\t/vscode-jupyter-toc-config -->\n",
    "<!-- THIS CELL WILL BE REPLACED ON TOC UPDATE. DO NOT WRITE YOUR TEXT IN THIS CELL -->"
   ]
  },
  {
   "cell_type": "markdown",
   "metadata": {},
   "source": [
    "## <a id='toc1_'></a>[Argument Tuple Packing](#toc0_)"
   ]
  },
  {
   "cell_type": "markdown",
   "metadata": {},
   "source": [
    "In Python, functions can be designed to accept a variable number of arguments, a feature that significantly enhances their flexibility and applicability in diverse situations. This capability is known as **argument tuple packing**. It allows a function to receive any number of positional arguments, which are then accessible as a tuple within the function. Let's dive into this concept with practical examples to understand its utility and implementation better.\n"
   ]
  },
  {
   "cell_type": "markdown",
   "metadata": {},
   "source": [
    "When defining a function, prefixing a parameter with an asterisk (`*`) enables tuple packing. This special parameter can then hold an arbitrary number of arguments passed to the function, packing them into a tuple. Although any parameter name can be used, `*args` is a widely adopted convention.\n"
   ]
  },
  {
   "cell_type": "markdown",
   "metadata": {},
   "source": [
    "Consider a real-world scenario where you need to calculate the average of varying numbers of test scores:\n"
   ]
  },
  {
   "cell_type": "code",
   "execution_count": 1,
   "metadata": {},
   "outputs": [],
   "source": [
    "def calculate_average(*scores):\n",
    "    if scores:\n",
    "        return sum(scores) / len(scores)\n",
    "    else:\n",
    "        return 0"
   ]
  },
  {
   "cell_type": "code",
   "execution_count": 2,
   "metadata": {},
   "outputs": [
    {
     "data": {
      "text/plain": [
       "90.0"
      ]
     },
     "execution_count": 2,
     "metadata": {},
     "output_type": "execute_result"
    }
   ],
   "source": [
    "# Calculate the average of three scores\n",
    "calculate_average(85, 90, 95)"
   ]
  },
  {
   "cell_type": "code",
   "execution_count": 3,
   "metadata": {},
   "outputs": [
    {
     "data": {
      "text/plain": [
       "80.0"
      ]
     },
     "execution_count": 3,
     "metadata": {},
     "output_type": "execute_result"
    }
   ],
   "source": [
    "# Calculate the average of five scores\n",
    "calculate_average(70, 75, 80, 85, 90)"
   ]
  },
  {
   "cell_type": "markdown",
   "metadata": {},
   "source": [
    "In this example, `*scores` allows `calculate_average` to accept any number of scores and calculate their average, demonstrating the versatility of argument tuple packing in adapting to the varying number of inputs.\n"
   ]
  },
  {
   "cell_type": "markdown",
   "metadata": {},
   "source": [
    "Another practical use case is concatenating an arbitrary number of strings with a specified separator:\n"
   ]
  },
  {
   "cell_type": "code",
   "execution_count": 4,
   "metadata": {},
   "outputs": [],
   "source": [
    "def concatenate_strings(separator, *args):\n",
    "    return separator.join(args)"
   ]
  },
  {
   "cell_type": "code",
   "execution_count": 5,
   "metadata": {},
   "outputs": [
    {
     "data": {
      "text/plain": [
       "'Python is awesome'"
      ]
     },
     "execution_count": 5,
     "metadata": {},
     "output_type": "execute_result"
    }
   ],
   "source": [
    "# Concatenate with a space separator\n",
    "concatenate_strings(\" \", \"Python\", \"is\", \"awesome\")"
   ]
  },
  {
   "cell_type": "code",
   "execution_count": 6,
   "metadata": {},
   "outputs": [
    {
     "data": {
      "text/plain": [
       "'2023-04-21'"
      ]
     },
     "execution_count": 6,
     "metadata": {},
     "output_type": "execute_result"
    }
   ],
   "source": [
    "# Concatenate with a hyphen separator\n",
    "concatenate_strings(\"-\", \"2023\", \"04\", \"21\")"
   ]
  },
  {
   "cell_type": "markdown",
   "metadata": {},
   "source": [
    "This function, `concatenate_strings`, takes a separator and an arbitrary number of strings, then concatenates them using the given separator. This example showcases how tuple packing can cater to functions needing to process a variable list of arguments, enhancing their adaptability to different scenarios.\n"
   ]
  },
  {
   "cell_type": "markdown",
   "metadata": {},
   "source": [
    "By following these principles and employing argument tuple packing wisely, you can make your Python functions more dynamic, flexible, and suited to a broader range of applications."
   ]
  },
  {
   "cell_type": "markdown",
   "metadata": {},
   "source": [
    "## <a id='toc2_'></a>[Argument Tuple Unpacking](#toc0_)"
   ]
  },
  {
   "cell_type": "markdown",
   "metadata": {},
   "source": [
    "Just as Python allows us to pack a variable number of arguments into a tuple when defining a function, it also offers a complementary feature: **argument tuple unpacking**. This feature enables us to take a collection of items and unpack them as individual arguments when calling a function. This technique is incredibly useful when we already have data in a structured form (like a list or tuple) and want to pass it to a function expecting separate positional arguments.\n"
   ]
  },
  {
   "cell_type": "markdown",
   "metadata": {},
   "source": [
    "To understand how tuple unpacking works, consider a function designed to print details about a book:\n"
   ]
  },
  {
   "cell_type": "code",
   "execution_count": 7,
   "metadata": {},
   "outputs": [],
   "source": [
    "def print_book_info(title, author, year):\n",
    "    print(f\"Title: {title}, Author: {author}, Year: {year}\")"
   ]
  },
  {
   "cell_type": "markdown",
   "metadata": {},
   "source": [
    "Normally, you would call this function by passing individual arguments for the title, author, and year. However, if this information is stored in a tuple or list, you can use tuple unpacking to pass the elements as separate arguments:\n"
   ]
  },
  {
   "cell_type": "code",
   "execution_count": 8,
   "metadata": {},
   "outputs": [],
   "source": [
    "book_details = ('The Great Gatsby', 'F. Scott Fitzgerald', 1925)"
   ]
  },
  {
   "cell_type": "code",
   "execution_count": 9,
   "metadata": {},
   "outputs": [
    {
     "name": "stdout",
     "output_type": "stream",
     "text": [
      "Title: The Great Gatsby, Author: F. Scott Fitzgerald, Year: 1925\n"
     ]
    }
   ],
   "source": [
    "# Unpack the tuple directly into the function call\n",
    "print_book_info(*book_details)"
   ]
  },
  {
   "cell_type": "markdown",
   "metadata": {},
   "source": [
    "### <a id='toc2_1_'></a>[Unpacking Various Iterable Types](#toc0_)\n"
   ]
  },
  {
   "cell_type": "markdown",
   "metadata": {},
   "source": [
    "The beauty of argument tuple unpacking is that it's not limited to tuples; it works with any iterable, including lists and sets. Here's how it looks with a list:\n"
   ]
  },
  {
   "cell_type": "code",
   "execution_count": 10,
   "metadata": {},
   "outputs": [],
   "source": [
    "book_list = ['To Kill a Mockingbird', 'Harper Lee', 1960]"
   ]
  },
  {
   "cell_type": "code",
   "execution_count": 11,
   "metadata": {},
   "outputs": [
    {
     "name": "stdout",
     "output_type": "stream",
     "text": [
      "Title: To Kill a Mockingbird, Author: Harper Lee, Year: 1960\n"
     ]
    }
   ],
   "source": [
    "# Unpack the list into the function call\n",
    "print_book_info(*book_list)"
   ]
  },
  {
   "cell_type": "markdown",
   "metadata": {},
   "source": [
    "And with a set:\n"
   ]
  },
  {
   "cell_type": "code",
   "execution_count": 12,
   "metadata": {},
   "outputs": [],
   "source": [
    "book_set = {'1984', 'George Orwell', 1949}"
   ]
  },
  {
   "cell_type": "code",
   "execution_count": 13,
   "metadata": {},
   "outputs": [
    {
     "name": "stdout",
     "output_type": "stream",
     "text": [
      "Title: George Orwell, Author: 1984, Year: 1949\n"
     ]
    }
   ],
   "source": [
    "# Note: Sets are unordered, so this might not work as expected\n",
    "print_book_info(*book_set)"
   ]
  },
  {
   "cell_type": "markdown",
   "metadata": {},
   "source": [
    "Remember, since sets are unordered, unpacking a set into a function expecting ordered data might not always yield the correct results.\n"
   ]
  },
  {
   "cell_type": "markdown",
   "metadata": {},
   "source": [
    "### <a id='toc2_2_'></a>[Combining Packing and Unpacking](#toc0_)\n"
   ]
  },
  {
   "cell_type": "markdown",
   "metadata": {},
   "source": [
    "Python's flexibility shines when you combine both packing and unpacking in function calls:\n"
   ]
  },
  {
   "cell_type": "code",
   "execution_count": 14,
   "metadata": {},
   "outputs": [],
   "source": [
    "def print_authors(*authors):\n",
    "    for author in authors:\n",
    "        print(author)"
   ]
  },
  {
   "cell_type": "code",
   "execution_count": 15,
   "metadata": {},
   "outputs": [],
   "source": [
    "author_list = ['J.K. Rowling', 'George R.R. Martin', 'J.R.R. Tolkien']"
   ]
  },
  {
   "cell_type": "code",
   "execution_count": 16,
   "metadata": {},
   "outputs": [
    {
     "name": "stdout",
     "output_type": "stream",
     "text": [
      "J.K. Rowling\n",
      "George R.R. Martin\n",
      "J.R.R. Tolkien\n"
     ]
    }
   ],
   "source": [
    "# The list is unpacked into individual arguments, then packed into a tuple\n",
    "print_authors(*author_list)"
   ]
  },
  {
   "cell_type": "markdown",
   "metadata": {},
   "source": [
    "This combination allows for highly dynamic code where data can be collected, transformed, and passed around without being tightly coupled to the number of items it contains.\n"
   ]
  },
  {
   "cell_type": "markdown",
   "metadata": {},
   "source": [
    "Argument tuple unpacking is a powerful feature in Python that simplifies working with collections of data. By enabling you to pass iterables as separate arguments to functions, it enhances code readability and flexibility. Whether dealing with lists, tuples, or sets, unpacking allows functions to seamlessly handle data in various structured forms, making your code more elegant and expressive."
   ]
  },
  {
   "cell_type": "markdown",
   "metadata": {},
   "source": [
    "## <a id='toc3_'></a>[Argument Dictionary Packing](#toc0_)"
   ]
  },
  {
   "cell_type": "markdown",
   "metadata": {},
   "source": [
    "Python's **argument dictionary packing** is a versatile feature that leverages the double asterisk (`**`) operator, allowing functions to accept an arbitrary number of keyword arguments. These key-value pairs are then packed into a dictionary, providing a flexible way to handle functions that require a wide range of named parameters. This method is particularly useful when you want your function to be adaptable to various named inputs without predetermining the exact parameters.\n"
   ]
  },
  {
   "cell_type": "markdown",
   "metadata": {},
   "source": [
    "Let's examine how this works with a simple, intuitive example that demonstrates the power and flexibility of dictionary packing:\n"
   ]
  },
  {
   "cell_type": "code",
   "execution_count": 17,
   "metadata": {},
   "outputs": [],
   "source": [
    "def introduce_yourself(**kwargs):\n",
    "    for key, value in kwargs.items():\n",
    "        print(f\"{key}: {value}\")"
   ]
  },
  {
   "cell_type": "code",
   "execution_count": 18,
   "metadata": {},
   "outputs": [
    {
     "name": "stdout",
     "output_type": "stream",
     "text": [
      "name: Alice\n",
      "age: 30\n",
      "profession: Engineer\n"
     ]
    }
   ],
   "source": [
    "# Introducing a person with multiple attributes\n",
    "introduce_yourself(name=\"Alice\", age=30, profession=\"Engineer\")"
   ]
  },
  {
   "cell_type": "markdown",
   "metadata": {},
   "source": [
    "Here, `**kwargs` acts as a container for any number of named arguments passed to the `introduce_yourself` function. This approach allows the function to handle varying attributes of a person's introduction without needing to specify each possible parameter upfront.\n"
   ]
  },
  {
   "cell_type": "markdown",
   "metadata": {},
   "source": [
    "Argument dictionary packing is invaluable in scenarios where the specifics of the input data might vary significantly, such as configuring settings, specifying attributes of an object, or defining parameters for an API request. It offers the flexibility needed to write functions that can elegantly adapt to different requirements.\n"
   ]
  },
  {
   "cell_type": "markdown",
   "metadata": {},
   "source": [
    "### <a id='toc3_1_'></a>[Combining with Positional Arguments](#toc0_)\n"
   ]
  },
  {
   "cell_type": "markdown",
   "metadata": {},
   "source": [
    "Combining argument dictionary packing with positional arguments enhances the function's flexibility, enabling it to accept both a fixed set of arguments and an arbitrary number of keyword arguments:\n"
   ]
  },
  {
   "cell_type": "code",
   "execution_count": 19,
   "metadata": {},
   "outputs": [],
   "source": [
    "def create_profile(name, age, **details):\n",
    "    print(f\"Profile: {name}, Age: {age}\")\n",
    "    for detail, value in details.items():\n",
    "        print(f\"{detail}: {value}\")"
   ]
  },
  {
   "cell_type": "code",
   "execution_count": 20,
   "metadata": {},
   "outputs": [
    {
     "name": "stdout",
     "output_type": "stream",
     "text": [
      "Profile: Alice, Age: 30\n",
      "occupation: Engineer\n",
      "city: New York\n"
     ]
    }
   ],
   "source": [
    "# Creating a profile with additional details\n",
    "create_profile(\"Alice\", 30, occupation=\"Engineer\", city=\"New York\")"
   ]
  },
  {
   "cell_type": "markdown",
   "metadata": {},
   "source": [
    "This function call demonstrates how you can specify essential information (name and age) using positional arguments while allowing for additional, flexible details through dictionary packing with `**details`. This method is incredibly effective for functions that require a base set of information plus optional, variable attributes.\n"
   ]
  },
  {
   "cell_type": "markdown",
   "metadata": {},
   "source": [
    "The `**` operator for argument dictionary packing is a staple feature for Python programmers, enabling the creation of highly flexible and adaptable functions. By packing keyword arguments into a dictionary, these functions can conveniently handle a wide range of inputs, making your code more dynamic and capable of addressing diverse programming challenges. Whether you're capturing user details, configuring settings, or sending requests to a web service, argument dictionary packing offers a robust solution for managing named parameters elegantly."
   ]
  },
  {
   "cell_type": "markdown",
   "metadata": {},
   "source": [
    "## <a id='toc4_'></a>[Argument Dictionary Unpacking](#toc0_)"
   ]
  },
  {
   "cell_type": "markdown",
   "metadata": {},
   "source": [
    "While argument dictionary packing allows a function to accept an arbitrary number of keyword arguments, **argument dictionary unpacking** does the opposite. It enables a dictionary of key-value pairs to be unpacked and passed as keyword arguments to a function. This technique, marked by the double asterisk (`**`), enhances the flexibility of function calls, especially when dealing with dynamic data structures or configurations.\n"
   ]
  },
  {
   "cell_type": "markdown",
   "metadata": {},
   "source": [
    "To illustrate dictionary unpacking, let's start with a function that requires three keyword arguments:\n"
   ]
  },
  {
   "cell_type": "code",
   "execution_count": 21,
   "metadata": {},
   "outputs": [],
   "source": [
    "def display_info(name, age, profession):\n",
    "    print(f\"Name: {name}, Age: {age}, Profession: {profession}\")"
   ]
  },
  {
   "cell_type": "markdown",
   "metadata": {},
   "source": [
    "Now, suppose we have this information stored in a dictionary and we want to pass it to our function:\n"
   ]
  },
  {
   "cell_type": "code",
   "execution_count": 22,
   "metadata": {},
   "outputs": [],
   "source": [
    "person_info = {'name': 'Alice', 'age': 30, 'profession': 'Engineer'}"
   ]
  },
  {
   "cell_type": "code",
   "execution_count": 23,
   "metadata": {},
   "outputs": [
    {
     "name": "stdout",
     "output_type": "stream",
     "text": [
      "Name: Alice, Age: 30, Profession: Engineer\n"
     ]
    }
   ],
   "source": [
    "# Unpacking the dictionary and passing as keyword arguments\n",
    "display_info(**person_info)"
   ]
  },
  {
   "cell_type": "markdown",
   "metadata": {},
   "source": [
    "By using `**person_info`, we unpack the dictionary so that each key-value pair is passed as a separate keyword argument to the `display_info` function. This approach is particularly useful for functions that require a flexible set of parameters.\n"
   ]
  },
  {
   "cell_type": "markdown",
   "metadata": {},
   "source": [
    "Consider a scenario where you're loading configuration settings for an application from a file, and these settings need to be passed to a configuration function:\n"
   ]
  },
  {
   "cell_type": "code",
   "execution_count": 24,
   "metadata": {},
   "outputs": [],
   "source": [
    "def configure_app(**settings):\n",
    "    for setting, value in settings.items():\n",
    "        print(f\"Setting {setting} to {value}\")"
   ]
  },
  {
   "cell_type": "code",
   "execution_count": 25,
   "metadata": {},
   "outputs": [],
   "source": [
    "app_settings = {'theme': 'Dark', 'notifications_enabled': True, 'version': '1.0.4'}"
   ]
  },
  {
   "cell_type": "code",
   "execution_count": 26,
   "metadata": {},
   "outputs": [
    {
     "name": "stdout",
     "output_type": "stream",
     "text": [
      "Setting theme to Dark\n",
      "Setting notifications_enabled to True\n",
      "Setting version to 1.0.4\n"
     ]
    }
   ],
   "source": [
    "# Applying settings to the app\n",
    "configure_app(**app_settings)"
   ]
  },
  {
   "cell_type": "markdown",
   "metadata": {},
   "source": [
    "This example demonstrates how dictionary unpacking can be seamlessly used to pass a set of configuration settings to a function, making the code cleaner and more intuitive.\n"
   ]
  },
  {
   "cell_type": "markdown",
   "metadata": {},
   "source": [
    "Argument dictionary unpacking is a potent feature that simplifies the process of passing dynamic, named data to functions. By converting dictionaries into keyword arguments, it enables concise and readable function calls, making it easier to work with complex data structures or configurations. Whether you're initializing objects, configuring applications, or simply passing a large number of named parameters, dictionary unpacking can make your code more efficient and expressive."
   ]
  },
  {
   "cell_type": "markdown",
   "metadata": {},
   "source": [
    "## <a id='toc5_'></a>[Best Practices and Common Mistakes](#toc0_)"
   ]
  },
  {
   "cell_type": "markdown",
   "metadata": {},
   "source": [
    "Effectively using Python's capabilities for handling variable-length arguments—both packing and unpacking tuples and dictionaries—can significantly enhance the flexibility and readability of your code. However, with great power comes great responsibility. Let's explore some best practices to ensure these features are used effectively and responsibly.\n"
   ]
  },
  {
   "cell_type": "markdown",
   "metadata": {},
   "source": [
    "### <a id='toc5_1_'></a>[Argument Tuple Packing](#toc0_)\n"
   ]
  },
  {
   "cell_type": "markdown",
   "metadata": {},
   "source": [
    "**Best Practice:** Use tuple packing sparingly and only when the function genuinely benefits from accepting an arbitrary number of positional arguments.\n"
   ]
  },
  {
   "cell_type": "code",
   "execution_count": 27,
   "metadata": {},
   "outputs": [],
   "source": [
    "# Best Practice\n",
    "def log_messages(*messages):\n",
    "    for message in messages:\n",
    "        print(message)"
   ]
  },
  {
   "cell_type": "markdown",
   "metadata": {},
   "source": [
    "This function makes good use of tuple packing, as it's designed to log an arbitrary number of messages.\n"
   ]
  },
  {
   "cell_type": "code",
   "execution_count": 28,
   "metadata": {},
   "outputs": [],
   "source": [
    "# Bad Practice\n",
    "def process_user_data(*data):\n",
    "    # Assuming the first two are name and age, rest are addresses\n",
    "    name, age = data[0], data[1]\n",
    "    addresses = data[2:]"
   ]
  },
  {
   "cell_type": "markdown",
   "metadata": {},
   "source": [
    "This misuse complicates the function's interface and makes it prone to errors. It's better to use explicit parameters or keyword arguments for clarity.\n"
   ]
  },
  {
   "cell_type": "markdown",
   "metadata": {},
   "source": [
    "### <a id='toc5_2_'></a>[Argument Tuple Unpacking](#toc0_)\n"
   ]
  },
  {
   "cell_type": "markdown",
   "metadata": {},
   "source": [
    "**Best Practice:** Ensure the iterable being unpacked matches the function's expected signature in terms of the number and type of arguments.\n"
   ]
  },
  {
   "cell_type": "code",
   "execution_count": 29,
   "metadata": {},
   "outputs": [],
   "source": [
    "# Best Practice\n",
    "def set_coordinates(x, y):\n",
    "    print(f\"X: {x}, Y: {y}\")"
   ]
  },
  {
   "cell_type": "code",
   "execution_count": 30,
   "metadata": {},
   "outputs": [
    {
     "name": "stdout",
     "output_type": "stream",
     "text": [
      "X: 12, Y: 5\n"
     ]
    }
   ],
   "source": [
    "coords = (12, 5)\n",
    "set_coordinates(*coords)"
   ]
  },
  {
   "cell_type": "markdown",
   "metadata": {},
   "source": [
    "This example correctly matches the function's expectations with the unpacked tuple.\n"
   ]
  },
  {
   "cell_type": "code",
   "execution_count": 31,
   "metadata": {},
   "outputs": [
    {
     "ename": "TypeError",
     "evalue": "set_coordinates() takes 2 positional arguments but 3 were given",
     "output_type": "error",
     "traceback": [
      "\u001b[0;31m---------------------------------------------------------------------------\u001b[0m",
      "\u001b[0;31mTypeError\u001b[0m                                 Traceback (most recent call last)",
      "Cell \u001b[0;32mIn[31], line 3\u001b[0m\n\u001b[1;32m      1\u001b[0m \u001b[38;5;66;03m# Common Mistake - Unpacking a tuple with more elements than expected\u001b[39;00m\n\u001b[1;32m      2\u001b[0m coords \u001b[38;5;241m=\u001b[39m [\u001b[38;5;241m12\u001b[39m, \u001b[38;5;241m5\u001b[39m, \u001b[38;5;241m8\u001b[39m]\n\u001b[0;32m----> 3\u001b[0m \u001b[43mset_coordinates\u001b[49m\u001b[43m(\u001b[49m\u001b[38;5;241;43m*\u001b[39;49m\u001b[43mcoords\u001b[49m\u001b[43m)\u001b[49m\n",
      "\u001b[0;31mTypeError\u001b[0m: set_coordinates() takes 2 positional arguments but 3 were given"
     ]
    }
   ],
   "source": [
    "# Common Mistake - Unpacking a tuple with more elements than expected\n",
    "coords = [12, 5, 8]\n",
    "set_coordinates(*coords)"
   ]
  },
  {
   "cell_type": "markdown",
   "metadata": {},
   "source": [
    "This call fails because `set_coordinates` expects exactly two arguments, not three.\n"
   ]
  },
  {
   "cell_type": "markdown",
   "metadata": {},
   "source": [
    "### <a id='toc5_3_'></a>[Argument Dictionary Packing](#toc0_)\n"
   ]
  },
  {
   "cell_type": "markdown",
   "metadata": {},
   "source": [
    "**Best Practice:** Use dictionary packing when the function needs to handle a wide variety of named parameters that cannot be predetermined.\n"
   ]
  },
  {
   "cell_type": "code",
   "execution_count": 32,
   "metadata": {},
   "outputs": [],
   "source": [
    "# Best Practice\n",
    "def create_user(**user_details):\n",
    "    print(f\"Creating user: {user_details.get('username')}\")\n",
    "    # Additional processing using user_details"
   ]
  },
  {
   "cell_type": "markdown",
   "metadata": {},
   "source": [
    "This function benefits from dictionary packing, allowing it to flexibly handle various user details.\n"
   ]
  },
  {
   "cell_type": "code",
   "execution_count": 33,
   "metadata": {},
   "outputs": [],
   "source": [
    "# Bad Practice\n",
    "def update_user_profile(**details):\n",
    "    # Assume only updating email and address\n",
    "    email, address = details['email'], details['address']"
   ]
  },
  {
   "cell_type": "markdown",
   "metadata": {},
   "source": [
    "If the function only needs a few specific details, explicitly naming them in the function's parameters is clearer and safer.\n"
   ]
  },
  {
   "cell_type": "markdown",
   "metadata": {},
   "source": [
    "### <a id='toc5_4_'></a>[Argument Dictionary Unpacking](#toc0_)\n"
   ]
  },
  {
   "cell_type": "markdown",
   "metadata": {},
   "source": [
    "**Best Practice:** Verify that the dictionary keys align with the function's parameter names when using dictionary unpacking.\n"
   ]
  },
  {
   "cell_type": "code",
   "execution_count": 34,
   "metadata": {},
   "outputs": [],
   "source": [
    "# Best Practice\n",
    "def display_book(title, author):\n",
    "    print(f\"{title} by {author}\")"
   ]
  },
  {
   "cell_type": "code",
   "execution_count": 35,
   "metadata": {},
   "outputs": [
    {
     "name": "stdout",
     "output_type": "stream",
     "text": [
      "1984 by George Orwell\n"
     ]
    }
   ],
   "source": [
    "book_info = {'title': '1984', 'author': 'George Orwell'}\n",
    "display_book(**book_info)"
   ]
  },
  {
   "cell_type": "markdown",
   "metadata": {},
   "source": [
    "This approach ensures that the function receives the correct named arguments from the dictionary.\n"
   ]
  },
  {
   "cell_type": "code",
   "execution_count": 36,
   "metadata": {},
   "outputs": [
    {
     "ename": "TypeError",
     "evalue": "display_book() got an unexpected keyword argument 'book_title'",
     "output_type": "error",
     "traceback": [
      "\u001b[0;31m---------------------------------------------------------------------------\u001b[0m",
      "\u001b[0;31mTypeError\u001b[0m                                 Traceback (most recent call last)",
      "Cell \u001b[0;32mIn[36], line 3\u001b[0m\n\u001b[1;32m      1\u001b[0m \u001b[38;5;66;03m# Common Mistake: Passing an incorrect key to the function can lead to unexpected behavior or errors.\u001b[39;00m\n\u001b[1;32m      2\u001b[0m book_info \u001b[38;5;241m=\u001b[39m {\u001b[38;5;124m'\u001b[39m\u001b[38;5;124mbook_title\u001b[39m\u001b[38;5;124m'\u001b[39m: \u001b[38;5;124m'\u001b[39m\u001b[38;5;124m1984\u001b[39m\u001b[38;5;124m'\u001b[39m, \u001b[38;5;124m'\u001b[39m\u001b[38;5;124mbook_author\u001b[39m\u001b[38;5;124m'\u001b[39m: \u001b[38;5;124m'\u001b[39m\u001b[38;5;124mGeorge Orwell\u001b[39m\u001b[38;5;124m'\u001b[39m}\n\u001b[0;32m----> 3\u001b[0m \u001b[43mdisplay_book\u001b[49m\u001b[43m(\u001b[49m\u001b[38;5;241;43m*\u001b[39;49m\u001b[38;5;241;43m*\u001b[39;49m\u001b[43mbook_info\u001b[49m\u001b[43m)\u001b[49m\n",
      "\u001b[0;31mTypeError\u001b[0m: display_book() got an unexpected keyword argument 'book_title'"
     ]
    }
   ],
   "source": [
    "# Common Mistake: Passing an incorrect key to the function can lead to unexpected behavior or errors.\n",
    "book_info = {'book_title': '1984', 'book_author': 'George Orwell'}\n",
    "display_book(**book_info)"
   ]
  },
  {
   "cell_type": "markdown",
   "metadata": {},
   "source": [
    "This call results in an error because the dictionary's keys do not match the function's parameter names.\n"
   ]
  },
  {
   "cell_type": "markdown",
   "metadata": {},
   "source": [
    "When used appropriately, Python's variable-length argument handling features offer unparalleled flexibility, making your functions more adaptable and your code more Pythonic. By adhering to these best practices, you can avoid common pitfalls and ensure your code remains clear, maintainable, and robust."
   ]
  },
  {
   "cell_type": "markdown",
   "metadata": {},
   "source": [
    "<img src=\"../images/exercise-banner.gif\" width=\"800\">"
   ]
  },
  {
   "cell_type": "markdown",
   "metadata": {},
   "source": [
    "## <a id='toc6_'></a>[Practice Exercise: Organizing a Coding Workshop](#toc0_)"
   ]
  },
  {
   "cell_type": "markdown",
   "metadata": {},
   "source": [
    "You are organizing a coding workshop that covers various programming languages and tools. The workshop will have multiple sessions, and each session can cover different topics and have various numbers of speakers. You want to create a Python program to help organize the sessions more effectively, leveraging functions that can handle variable numbers of arguments.\n"
   ]
  },
  {
   "cell_type": "markdown",
   "metadata": {},
   "source": [
    "**Tasks:**\n",
    "\n",
    "1. Write a function named `plan_session` that uses tuple packing to accept a variable number of topics for a single session. The function should print out a list of topics planned for that session.\n",
    "\n",
    "2. Write a function named `session_details` that uses dictionary packing to accept various details about the session like the session's name, number of attendees, and room number. The function should print out all the details provided.\n",
    "\n",
    "3. Use argument tuple unpacking to call `plan_session` with a list of topics stored in a tuple for the session \"Web Development Basics\".\n",
    "\n",
    "4. Use argument dictionary unpacking to call `session_details` with details stored in a dictionary for the session \"Web Development Basics\".\n",
    "\n",
    "5. Combine both packing and unpacking techniques to organize a session named \"Advanced Python\", which includes unpacking a list of topics and unpacking session details from a dictionary.\n"
   ]
  },
  {
   "cell_type": "markdown",
   "metadata": {},
   "source": [
    "**Expected Output:**\n",
    "\n",
    "```sh\n",
    "Topics planned for this session: ['Python Basics', 'Data Types Fundamentals', 'Functions']\n",
    "Session Details:\n",
    "Name: Python Development Basics\n",
    "Attendees: 40\n",
    "Room: 105\n",
    "\n",
    "Topics planned for this session: ['Object Oriented Programming', 'Modules']\n",
    "Session Details:\n",
    "Name: Advanced Python\n",
    "Attendees: 25\n",
    "Room: 203\n",
    "```\n"
   ]
  },
  {
   "cell_type": "markdown",
   "metadata": {},
   "source": [
    "This exercise will help you practice the use of variable-length argument handling in Python, including both packing and unpacking techniques, in the context of a practical scenario. By completing these tasks, you will gain a deeper understanding of how to utilize these features to make your functions more flexible and adaptable to various inputs."
   ]
  },
  {
   "cell_type": "markdown",
   "metadata": {},
   "source": [
    "### <a id='toc6_1_'></a>[Solution](#toc0_)"
   ]
  },
  {
   "cell_type": "markdown",
   "metadata": {},
   "source": [
    "Below is a solution for the exercise \"Organizing a Coding Workshop\". This solution includes the implementation of the functions and their calls as per the tasks described."
   ]
  },
  {
   "cell_type": "code",
   "execution_count": 37,
   "metadata": {},
   "outputs": [],
   "source": [
    "# Task 1: Function using tuple packing for session topics\n",
    "def plan_session(*topics):\n",
    "    print(\"Topics planned for this session:\", list(topics))"
   ]
  },
  {
   "cell_type": "code",
   "execution_count": 38,
   "metadata": {},
   "outputs": [],
   "source": [
    "# Task 2: Function using dictionary packing for session details\n",
    "def session_details(**details):\n",
    "    print(\"Session Details:\")\n",
    "    for key, value in details.items():\n",
    "        print(f\"{key.capitalize()}: {value}\")"
   ]
  },
  {
   "cell_type": "code",
   "execution_count": 39,
   "metadata": {},
   "outputs": [
    {
     "name": "stdout",
     "output_type": "stream",
     "text": [
      "Topics planned for this session: ['Python Basics', 'Data Types Fundamentals', 'Functions']\n"
     ]
    }
   ],
   "source": [
    "# Task 3: Calling plan_session with tuple unpacking\n",
    "web_dev_topics = ('Python Basics', 'Data Types Fundamentals', 'Functions')\n",
    "plan_session(*web_dev_topics)"
   ]
  },
  {
   "cell_type": "code",
   "execution_count": 40,
   "metadata": {},
   "outputs": [],
   "source": [
    "# Task 4: Calling session_details with dictionary unpacking\n",
    "web_dev_details = {\n",
    "    'Name': 'Web Development Basics',\n",
    "    'Attendees': 40,\n",
    "    'Room': 105\n",
    "}"
   ]
  },
  {
   "cell_type": "code",
   "execution_count": 41,
   "metadata": {},
   "outputs": [
    {
     "name": "stdout",
     "output_type": "stream",
     "text": [
      "Session Details:\n",
      "Name: Web Development Basics\n",
      "Attendees: 40\n",
      "Room: 105\n"
     ]
    }
   ],
   "source": [
    "session_details(**web_dev_details)"
   ]
  },
  {
   "cell_type": "code",
   "execution_count": 42,
   "metadata": {},
   "outputs": [],
   "source": [
    "# Task 5: Combining both for another session\n",
    "advanced_python_topics = ['Object Oriented Programming', 'Modules']\n",
    "advanced_python_details = {\n",
    "    'Name': 'Advanced Python',\n",
    "    'Attendees': 25,\n",
    "    'Room': 203\n",
    "}"
   ]
  },
  {
   "cell_type": "code",
   "execution_count": 43,
   "metadata": {},
   "outputs": [
    {
     "name": "stdout",
     "output_type": "stream",
     "text": [
      "Topics planned for this session: ['Object Oriented Programming', 'Modules']\n"
     ]
    }
   ],
   "source": [
    "# Unpacking topics list and details dictionary\n",
    "plan_session(*advanced_python_topics)"
   ]
  },
  {
   "cell_type": "code",
   "execution_count": 44,
   "metadata": {},
   "outputs": [
    {
     "name": "stdout",
     "output_type": "stream",
     "text": [
      "Session Details:\n",
      "Name: Advanced Python\n",
      "Attendees: 25\n",
      "Room: 203\n"
     ]
    }
   ],
   "source": [
    "session_details(**advanced_python_details)"
   ]
  },
  {
   "cell_type": "markdown",
   "metadata": {},
   "source": [
    "**Explanation:**\n",
    "\n",
    "- In `plan_session`, the `*topics` parameter uses tuple packing to accept any number of topics. These are printed as a list to show what's planned for the session.\n",
    "- In `session_details`, the `**details` parameter uses dictionary packing to accept various named details about the session. These details are iterated over and printed.\n",
    "- When calling `plan_session` for \"Web Development Basics\", the `*` operator is used to unpack `web_dev_topics` tuple as individual arguments to the function.\n",
    "- Similarly, `session_details` is called with `**web_dev_details` to unpack the dictionary into keyword arguments for the function.\n",
    "- Finally, for \"Advanced Python\", both techniques are combined to demonstrate the flexibility of using packing and unpacking for organizing sessions with variable input types and lengths.\n"
   ]
  },
  {
   "cell_type": "markdown",
   "metadata": {},
   "source": [
    "This solution demonstrates how Python's variable-length argument handling can be effectively used in practical scenarios, making your functions adaptable to a wide range of inputs."
   ]
  }
 ],
 "metadata": {
  "kernelspec": {
   "display_name": "py310",
   "language": "python",
   "name": "python3"
  },
  "language_info": {
   "codemirror_mode": {
    "name": "ipython",
    "version": 3
   },
   "file_extension": ".py",
   "mimetype": "text/x-python",
   "name": "python",
   "nbconvert_exporter": "python",
   "pygments_lexer": "ipython3",
   "version": "3.10.12"
  }
 },
 "nbformat": 4,
 "nbformat_minor": 2
}
