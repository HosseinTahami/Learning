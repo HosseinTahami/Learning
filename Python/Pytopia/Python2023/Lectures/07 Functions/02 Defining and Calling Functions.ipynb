{
 "cells": [
  {
   "cell_type": "markdown",
   "metadata": {},
   "source": [
    "<img src=\"./images/banner.png\" width=\"800\">"
   ]
  },
  {
   "cell_type": "markdown",
   "metadata": {},
   "source": [
    "# Defining and Calling Functions"
   ]
  },
  {
   "cell_type": "markdown",
   "metadata": {},
   "source": [
    "Welcome to the second lecture of our Python course, where we focus on one of the most powerful tools in programming: functions. Functions allow us to encapsulate a task in a reusable block of code. By learning functions, you'll be able to write code that is cleaner, more efficient, and easier to debug. They are fundamental to avoiding repetition and making complex programs more manageable.\n"
   ]
  },
  {
   "cell_type": "markdown",
   "metadata": {},
   "source": [
    "Imagine you're writing a program that needs to greet users multiple times. Instead of writing the print statement every time you want to greet someone, you can define a function and call it whenever you need it, like this:\n"
   ]
  },
  {
   "cell_type": "code",
   "execution_count": 1,
   "metadata": {},
   "outputs": [],
   "source": [
    "def greet():\n",
    "    print(\"Hello, User!\")"
   ]
  },
  {
   "cell_type": "code",
   "execution_count": 2,
   "metadata": {},
   "outputs": [
    {
     "name": "stdout",
     "output_type": "stream",
     "text": [
      "Hello, User!\n"
     ]
    }
   ],
   "source": [
    "greet()  # Outputs: Hello, User!"
   ]
  },
  {
   "cell_type": "code",
   "execution_count": 3,
   "metadata": {},
   "outputs": [
    {
     "name": "stdout",
     "output_type": "stream",
     "text": [
      "Hello, User!\n"
     ]
    }
   ],
   "source": [
    "greet()  # Outputs: Hello, User!"
   ]
  },
  {
   "cell_type": "markdown",
   "metadata": {},
   "source": [
    "By defining the `greet` function, we now have a simple way to greet a user as many times as we want without rewriting the same code. This is a basic example, but it illustrates the core of why functions are so valuable. As we progress, you'll learn how to make functions even more powerful by passing them data and getting results back.\n"
   ]
  },
  {
   "cell_type": "markdown",
   "metadata": {},
   "source": [
    "By the end of this lecture, you will have a solid foundation in defining and calling your own functions in Python. Let's get started and unlock the full potential of functions in your coding toolbox."
   ]
  },
  {
   "cell_type": "markdown",
   "metadata": {},
   "source": [
    "**Table of contents**<a id='toc0_'></a>    \n",
    "- [What is a Function?](#toc1_)    \n",
    "  - [The DRY Principle](#toc1_1_)    \n",
    "- [Defining a Function](#toc2_)    \n",
    "  - [Syntax of Defining a Function](#toc2_1_)    \n",
    "  - [Naming Conventions for Functions](#toc2_2_)    \n",
    "  - [Creating a Simple Function Example](#toc2_3_)    \n",
    "- [Calling a Function](#toc3_)    \n",
    "  - [Flow of Execution When a Function is Called](#toc3_1_)    \n",
    "- [Parameters and Arguments](#toc4_)    \n",
    "- [The `return` Statement](#toc5_)    \n",
    "- [Practice Exercise](#toc6_)    \n",
    "  - [Solution](#toc6_1_)    \n",
    "\n",
    "<!-- vscode-jupyter-toc-config\n",
    "\tnumbering=false\n",
    "\tanchor=true\n",
    "\tflat=false\n",
    "\tminLevel=2\n",
    "\tmaxLevel=6\n",
    "\t/vscode-jupyter-toc-config -->\n",
    "<!-- THIS CELL WILL BE REPLACED ON TOC UPDATE. DO NOT WRITE YOUR TEXT IN THIS CELL -->"
   ]
  },
  {
   "cell_type": "markdown",
   "metadata": {},
   "source": [
    "## <a id='toc1_'></a>[What is a Function?](#toc0_)"
   ]
  },
  {
   "cell_type": "markdown",
   "metadata": {},
   "source": [
    "In Python, a function is a named sequence of statements that performs a computation or task. When you define a function, you specify the name and the sequence of statements. Later, you can \"call\" the function by name to execute the statements it contains. Functions are the primary way to compartmentalize your code into logical groups.\n"
   ]
  },
  {
   "cell_type": "markdown",
   "metadata": {},
   "source": [
    "The role of functions is multifaceted:\n",
    "- **Reusability**: Once a function is defined, it can be used repeatedly throughout your program.\n",
    "- **Modularity**: Functions allow you to break down complex processes into smaller, manageable pieces.\n",
    "- **Readability**: A well-named function can make code more readable by abstracting away complex logic.\n",
    "- **Maintainability**: With functions, making changes in one place can affect all the related parts of your program that use the function.\n",
    "- **Testing**: Functions can be tested independently from the rest of the program.\n"
   ]
  },
  {
   "cell_type": "markdown",
   "metadata": {},
   "source": [
    "### <a id='toc1_1_'></a>[The DRY Principle](#toc0_)"
   ]
  },
  {
   "cell_type": "markdown",
   "metadata": {},
   "source": [
    "<img src=\"./images/dry.png\" width=\"800\">"
   ]
  },
  {
   "cell_type": "markdown",
   "metadata": {},
   "source": [
    "DRY stands for \"Don't Repeat Yourself,\" a principle of software development aimed at reducing repetition of software patterns. The idea is to avoid redundancy in code to minimize the potential for errors and to improve maintainability. Functions are a key way to adhere to the DRY principle because they allow you to encapsulate operations that are used frequently throughout your code.\n"
   ]
  },
  {
   "cell_type": "markdown",
   "metadata": {},
   "source": [
    "Let's consider an example where we want to calculate the square of different numbers:\n"
   ]
  },
  {
   "cell_type": "code",
   "execution_count": 4,
   "metadata": {},
   "outputs": [],
   "source": [
    "# Without functions\n",
    "square_of_2 = 2 * 2"
   ]
  },
  {
   "cell_type": "code",
   "execution_count": 5,
   "metadata": {},
   "outputs": [],
   "source": [
    "square_of_3 = 3 * 3"
   ]
  },
  {
   "cell_type": "code",
   "execution_count": 6,
   "metadata": {},
   "outputs": [],
   "source": [
    "square_of_4 = 4 * 4"
   ]
  },
  {
   "cell_type": "code",
   "execution_count": 7,
   "metadata": {},
   "outputs": [],
   "source": [
    "# With a function\n",
    "def square(number):\n",
    "    return number * number"
   ]
  },
  {
   "cell_type": "code",
   "execution_count": 8,
   "metadata": {},
   "outputs": [
    {
     "data": {
      "text/plain": [
       "(4, 9, 16)"
      ]
     },
     "execution_count": 8,
     "metadata": {},
     "output_type": "execute_result"
    }
   ],
   "source": [
    "square(2), square(3), square(4)"
   ]
  },
  {
   "cell_type": "markdown",
   "metadata": {},
   "source": [
    "In the second example, we've defined a `square` function that takes a single argument, `number`, and returns its square. This not only reduces repetition but also makes the code easier to understand and modify. If we decide to change the way we calculate squares (perhaps to accommodate complex numbers), we only have to change the code in one place: the body of the `square` function.\n"
   ]
  },
  {
   "cell_type": "markdown",
   "metadata": {},
   "source": [
    "In summary, functions are a fundamental concept in Python that allow you to organize and reuse your code effectively. By embracing functions and the DRY principle, you'll write code that is more maintainable, readable, and less prone to errors."
   ]
  },
  {
   "cell_type": "markdown",
   "metadata": {},
   "source": [
    "## <a id='toc2_'></a>[Defining a Function](#toc0_)"
   ]
  },
  {
   "cell_type": "markdown",
   "metadata": {},
   "source": [
    "Creating a function in Python involves defining it with a specific syntax. This process is known as \"function definition.\" Let's look at the key components and the syntax used to define a function.\n"
   ]
  },
  {
   "cell_type": "markdown",
   "metadata": {},
   "source": [
    "### <a id='toc2_1_'></a>[Syntax of Defining a Function](#toc0_)\n"
   ]
  },
  {
   "cell_type": "markdown",
   "metadata": {},
   "source": [
    "<img src=\"./images/function-parts.png\" width=\"600\">"
   ]
  },
  {
   "cell_type": "markdown",
   "metadata": {},
   "source": [
    "The syntax for defining a function in Python is as follows:\n"
   ]
  },
  {
   "cell_type": "markdown",
   "metadata": {},
   "source": [
    "```python\n",
    "def function_name(parameters):\n",
    "    \"\"\"Docstring (optional but recommended)\"\"\"\n",
    "    # Function body\n",
    "    # ...\n",
    "    return result  # optional\n",
    "```"
   ]
  },
  {
   "cell_type": "markdown",
   "metadata": {},
   "source": [
    "Here's what each part means:\n",
    "- `def`: The keyword that starts the definition of a function.\n",
    "- `function_name`: The name of the function, which follows the same naming rules as variables (should begin with a letter or underscore, and can be followed by letters, digits, or underscores).\n",
    "- `parameters`: A comma-separated list of parameters (also known as arguments) that can be passed to the function. Parameters are optional; a function may have none.\n",
    "- `\"\"\"\"Docstring\"\"\"\"`: Also optional, this is a string literal that describes what the function does. Although it's optional, it is highly encouraged to include a docstring for better code documentation.\n",
    "- Function body: This is the block of code that performs the task. It is indented relative to the `def` keyword.\n",
    "- `return`: This keyword is used to exit a function and pass back a value to the caller. If there is no `return` statement, the function returns `None` by default.\n"
   ]
  },
  {
   "cell_type": "markdown",
   "metadata": {},
   "source": [
    "### <a id='toc2_2_'></a>[Naming Conventions for Functions](#toc0_)\n"
   ]
  },
  {
   "cell_type": "markdown",
   "metadata": {},
   "source": [
    "When naming functions, it is important to use descriptive names that make it clear what the function does. The naming conventions are as follows:\n",
    "- Use lowercase letters.\n",
    "- Words should be separated by underscores to improve readability (snake_case).\n",
    "- Avoid using names that are too general or too wordy.\n",
    "- Function names should be verbs if the function performs an action, and nouns if they return a certain type of data.\n"
   ]
  },
  {
   "cell_type": "markdown",
   "metadata": {},
   "source": [
    "### <a id='toc2_3_'></a>[Creating a Simple Function Example](#toc0_)\n"
   ]
  },
  {
   "cell_type": "markdown",
   "metadata": {},
   "source": [
    "Let's put this into practice by creating a simple function that adds two numbers together:\n"
   ]
  },
  {
   "cell_type": "code",
   "execution_count": 9,
   "metadata": {},
   "outputs": [],
   "source": [
    "def add_numbers(a, b):\n",
    "    \"\"\"Add two numbers and return the result.\"\"\"\n",
    "    result = a + b\n",
    "    return result"
   ]
  },
  {
   "cell_type": "code",
   "execution_count": 10,
   "metadata": {},
   "outputs": [
    {
     "data": {
      "text/plain": [
       "8"
      ]
     },
     "execution_count": 10,
     "metadata": {},
     "output_type": "execute_result"
    }
   ],
   "source": [
    "# Now we can use the add_numbers function\n",
    "add_numbers(5, 3)"
   ]
  },
  {
   "cell_type": "markdown",
   "metadata": {},
   "source": [
    "In this example, we defined a function called `add_numbers` that takes two parameters, `a` and `b`. The function adds these two numbers and returns the result with the `return` statement. We then call the function with the arguments `5` and `3` and print out the result, which is `8`.\n"
   ]
  },
  {
   "cell_type": "markdown",
   "metadata": {},
   "source": [
    "This simple function demonstrates the principles of defining a function in Python, using appropriate naming conventions, and encapsulating functionality for reuse throughout your code."
   ]
  },
  {
   "cell_type": "markdown",
   "metadata": {},
   "source": [
    "## <a id='toc3_'></a>[Calling a Function](#toc0_)"
   ]
  },
  {
   "cell_type": "markdown",
   "metadata": {},
   "source": [
    "<img src=\"./images/puppet-func.png\" width=\"600\">"
   ]
  },
  {
   "cell_type": "markdown",
   "metadata": {},
   "source": [
    "After defining a function, the next step is to \"call\" or \"invoke\" it. To do this, you simply use the function's name followed by parentheses, including any necessary arguments within them. When you call a function, you're telling Python to execute the sequence of statements that make up the function body.\n"
   ]
  },
  {
   "cell_type": "markdown",
   "metadata": {},
   "source": [
    "The syntax to call a function is straightforward:\n",
    "```python\n",
    "function_name(arguments)\n",
    "```"
   ]
  },
  {
   "cell_type": "markdown",
   "metadata": {},
   "source": [
    "Here's what each part means:\n",
    "- `function_name`: The name of the function you want to call, which should match the name you used when you defined it.\n",
    "- `arguments`: The values you pass into the function's parameters. These correspond to the parameters you specified when defining the function.\n"
   ]
  },
  {
   "cell_type": "markdown",
   "metadata": {},
   "source": [
    "If the function requires no arguments, you would still use parentheses, but leave them empty.\n"
   ]
  },
  {
   "cell_type": "markdown",
   "metadata": {},
   "source": [
    "### <a id='toc3_1_'></a>[Flow of Execution When a Function is Called](#toc0_)\n"
   ]
  },
  {
   "cell_type": "markdown",
   "metadata": {},
   "source": [
    "When a function is called, Python stops the current flow of the program and jumps to the first line of the called function. It executes each statement in the function body sequentially and, if the function includes a `return` statement, it returns the specified value back to the caller. After the function is executed (or returns a value), the flow of execution returns to the point where the function was called and continues with the next statement.\n"
   ]
  },
  {
   "cell_type": "markdown",
   "metadata": {},
   "source": [
    ">‌**It's important to note that defining a function does not execute it. Defining is like creating a recipe; calling the function is like actually cooking the dish.**"
   ]
  },
  {
   "cell_type": "markdown",
   "metadata": {},
   "source": [
    "Let's use the `add_numbers` function we defined earlier as an example of how to call a function:\n"
   ]
  },
  {
   "cell_type": "code",
   "execution_count": 11,
   "metadata": {},
   "outputs": [],
   "source": [
    "def add_numbers(a, b):\n",
    "    \"\"\"Add two numbers and return the result.\"\"\"\n",
    "    result = a + b\n",
    "    return result"
   ]
  },
  {
   "cell_type": "code",
   "execution_count": 12,
   "metadata": {},
   "outputs": [
    {
     "data": {
      "text/plain": [
       "8"
      ]
     },
     "execution_count": 12,
     "metadata": {},
     "output_type": "execute_result"
    }
   ],
   "source": [
    "# Calling the function with arguments 5 and 3\n",
    "add_numbers(5, 3)"
   ]
  },
  {
   "cell_type": "code",
   "execution_count": 13,
   "metadata": {},
   "outputs": [
    {
     "data": {
      "text/plain": [
       "25"
      ]
     },
     "execution_count": 13,
     "metadata": {},
     "output_type": "execute_result"
    }
   ],
   "source": [
    "# Calling the function with different arguments\n",
    "add_numbers(10, 15)"
   ]
  },
  {
   "cell_type": "markdown",
   "metadata": {},
   "source": [
    "In this example, the `add_numbers` function is called twice with different sets of arguments. The first call uses `5` and `3` as arguments, and the result is stored in the variable `sum_result`, which is then printed. The second call directly prints the return value from the function when called with `10` and `15` as arguments.\n"
   ]
  },
  {
   "cell_type": "markdown",
   "metadata": {},
   "source": [
    "Remember, each time you call a function, you can pass different arguments to it, which makes functions extremely flexible and powerful for writing dynamic and reusable code."
   ]
  },
  {
   "cell_type": "markdown",
   "metadata": {},
   "source": [
    "## <a id='toc4_'></a>[Parameters and Arguments](#toc0_)"
   ]
  },
  {
   "cell_type": "markdown",
   "metadata": {},
   "source": [
    "<img src=\"./images/parameters-arguments.png\" width=\"600\">"
   ]
  },
  {
   "cell_type": "markdown",
   "metadata": {},
   "source": [
    "In the context of functions, the terms \"parameters\" and \"arguments\" are often used interchangeably, but there is a subtle difference between them that is important to understand.\n"
   ]
  },
  {
   "cell_type": "markdown",
   "metadata": {},
   "source": [
    "**Parameters** are the variables that are defined by the function that receives values when the function is called. Think of parameters as placeholders within the function definition. They define the kind of data the function expects to receive when it's called. Parameters are part of the function's signature and are used within the function body to refer to the passed-in values.\n"
   ]
  },
  {
   "cell_type": "markdown",
   "metadata": {},
   "source": [
    "**Arguments**, on the other hand, are the actual values that are passed to the function when it is called. They are the \"real\" data that you want the function to process. Arguments can be constants, variables, expressions, or even other functions. When you call a function, you provide arguments that \"fill in\" the parameters defined by the function.\n"
   ]
  },
  {
   "cell_type": "markdown",
   "metadata": {},
   "source": [
    "To clarify the difference:\n",
    "- **Parameters** are used when defining a function. They are the names created in the function definition.\n",
    "- **Arguments** are used when calling a function. They are the values you pass into the function's parameters.\n"
   ]
  },
  {
   "cell_type": "markdown",
   "metadata": {},
   "source": [
    "It's also important to note that the names of parameters and arguments do not need to match. The parameter names are used within the function to refer to the values passed in.\n"
   ]
  },
  {
   "cell_type": "markdown",
   "metadata": {},
   "source": [
    "Here's a function with parameters that demonstrates their usage:\n"
   ]
  },
  {
   "cell_type": "code",
   "execution_count": 14,
   "metadata": {},
   "outputs": [],
   "source": [
    "# Function definition with parameters 'x' and 'y'\n",
    "def multiply_numbers(x, y):\n",
    "    \"\"\"Multiply two numbers and return the result.\"\"\"\n",
    "    result = x * y\n",
    "    return result"
   ]
  },
  {
   "cell_type": "markdown",
   "metadata": {},
   "source": [
    "Now, let's call the `multiply_numbers` function with arguments:\n"
   ]
  },
  {
   "cell_type": "code",
   "execution_count": 15,
   "metadata": {},
   "outputs": [
    {
     "data": {
      "text/plain": [
       "42"
      ]
     },
     "execution_count": 15,
     "metadata": {},
     "output_type": "execute_result"
    }
   ],
   "source": [
    "# Calling the function with arguments 6 and 7\n",
    "multiply_numbers(6, 7)"
   ]
  },
  {
   "cell_type": "code",
   "execution_count": 16,
   "metadata": {},
   "outputs": [
    {
     "data": {
      "text/plain": [
       "80"
      ]
     },
     "execution_count": 16,
     "metadata": {},
     "output_type": "execute_result"
    }
   ],
   "source": [
    "# Calling the function with variables as arguments\n",
    "number_one = 8\n",
    "number_two = 10\n",
    "multiply_numbers(number_one, number_two)"
   ]
  },
  {
   "cell_type": "markdown",
   "metadata": {},
   "source": [
    "In the first call, we directly provide the numbers `6` and `7` as arguments, which are passed to the parameters `x` and `y` respectively. The function then uses these values to calculate the result.\n"
   ]
  },
  {
   "cell_type": "markdown",
   "metadata": {},
   "source": [
    "In the second call, we first assign values to variables `number_one` and `number_two` and then pass these variables as arguments to the function. Inside the function, the values of `number_one` and `number_two` are assigned to `x` and `y`, respectively, and used to perform the multiplication.\n"
   ]
  },
  {
   "cell_type": "markdown",
   "metadata": {},
   "source": [
    "This demonstrates that the names of the arguments (`number_one` and `number_two`) do not need to match the names of the parameters (`x` and `y`). What matters is the position of the arguments; the first argument gets assigned to the first parameter, the second to the second, and so on. This is known as positional argument passing, which will be covered in more detail in the following lecture."
   ]
  },
  {
   "cell_type": "markdown",
   "metadata": {},
   "source": [
    "## <a id='toc5_'></a>[The `return` Statement](#toc0_)\n"
   ]
  },
  {
   "cell_type": "markdown",
   "metadata": {},
   "source": [
    "<img src=\"./images/not-function-output.png\" width=\"600\">"
   ]
  },
  {
   "cell_type": "markdown",
   "metadata": {},
   "source": [
    "<img src=\"./images/function-output.png\" width=\"600\">"
   ]
  },
  {
   "cell_type": "markdown",
   "metadata": {},
   "source": [
    "One of the key aspects of functions in Python is the `return` statement. The `return` statement is used within a function to exit it and pass back a value to the place where the function was called.\n"
   ]
  },
  {
   "cell_type": "markdown",
   "metadata": {},
   "source": [
    "When a `return` statement is reached, the function terminates immediately. If an expression is given after the `return` keyword, the value of that expression is passed back to the caller as the result of the function. If there is no expression, or the `return` statement is omitted entirely, the function will return `None`, which is the default return value.\n"
   ]
  },
  {
   "cell_type": "markdown",
   "metadata": {},
   "source": [
    "The `return` statement is often used to send back the result of a computation or indicate that a task has been completed. For example, a function that calculates the area of a rectangle might return the area, while a function that sends an email might return `True` if the email was sent successfully or `False` if it failed.\n"
   ]
  },
  {
   "cell_type": "markdown",
   "metadata": {},
   "source": [
    "Here's an example of a function that uses a `return` statement to return a calculated value:\n"
   ]
  },
  {
   "cell_type": "code",
   "execution_count": 17,
   "metadata": {},
   "outputs": [],
   "source": [
    "def calculate_area(width, height):\n",
    "    \"\"\"Calculate the area of a rectangle.\"\"\"\n",
    "    area = width * height\n",
    "    return area"
   ]
  },
  {
   "cell_type": "code",
   "execution_count": 18,
   "metadata": {},
   "outputs": [
    {
     "name": "stdout",
     "output_type": "stream",
     "text": [
      "50\n"
     ]
    }
   ],
   "source": [
    "# Using the function and storing its return value in a variable\n",
    "rect_area = calculate_area(10, 5)\n",
    "print(rect_area)  # Outputs: 50"
   ]
  },
  {
   "cell_type": "markdown",
   "metadata": {},
   "source": [
    "In this example, `calculate_area` returns the area of a rectangle, which is then printed.\n"
   ]
  },
  {
   "cell_type": "markdown",
   "metadata": {},
   "source": [
    "Now, let's look at a function without an explicit `return` statement:\n"
   ]
  },
  {
   "cell_type": "code",
   "execution_count": 19,
   "metadata": {},
   "outputs": [],
   "source": [
    "def print_welcome_message(username):\n",
    "    \"\"\"Print a welcome message to the user.\"\"\"\n",
    "    print(f\"Welcome, {username}!\")"
   ]
  },
  {
   "cell_type": "code",
   "execution_count": 20,
   "metadata": {},
   "outputs": [
    {
     "name": "stdout",
     "output_type": "stream",
     "text": [
      "Welcome, Alice!\n"
     ]
    }
   ],
   "source": [
    "# Using the function\n",
    "print_welcome_message(\"Alice\")  # Outputs: Welcome, Alice!"
   ]
  },
  {
   "cell_type": "markdown",
   "metadata": {},
   "source": [
    "In the second example, `print_welcome_message` prints a welcome message directly and does not return a value. Since there is no `return` statement, the function implicitly returns `None` when its execution is completed. If you attempt to capture the return value, as shown below, you'll see that it is `None`:\n"
   ]
  },
  {
   "cell_type": "code",
   "execution_count": 21,
   "metadata": {},
   "outputs": [
    {
     "name": "stdout",
     "output_type": "stream",
     "text": [
      "Welcome, Alice!\n",
      "None\n"
     ]
    }
   ],
   "source": [
    "result = print_welcome_message(\"Alice\")\n",
    "print(result)  # Outputs: None"
   ]
  },
  {
   "cell_type": "markdown",
   "metadata": {},
   "source": [
    "Using the `return` statement appropriately will depend on the purpose of your function. If you need to use the result of a function elsewhere in your program, you should include a `return` statement that provides the necessary value. If your function is intended to perform an action without needing to pass back data, then you can omit the `return` statement or use it without an expression to exit the function early if needed."
   ]
  },
  {
   "cell_type": "markdown",
   "metadata": {},
   "source": [
    "<img src=\"../images/exercise-banner.gif\" width=\"800\">"
   ]
  },
  {
   "cell_type": "markdown",
   "metadata": {},
   "source": [
    "## <a id='toc6_'></a>[Practice Exercise](#toc0_)"
   ]
  },
  {
   "cell_type": "markdown",
   "metadata": {},
   "source": [
    "In this exercise, you will apply what you've learned about Python functions from this lecture. By defining and calling your own functions, you will practice creating modular and reusable code blocks. Functions are a fundamental aspect of Python programming, helping you adhere to the DRY (Don't Repeat Yourself) principle.\n"
   ]
  },
  {
   "cell_type": "markdown",
   "metadata": {},
   "source": [
    "**Tasks:**\n",
    "\n",
    "1. **Defining and Calling a Simple Function**:\n",
    "   Define a function named `greet` that prints \"Hello, World!\" to the console. Then, call this function to see the greeting printed out.\n",
    "\n",
    "2. **Creating a Function with Parameters**:\n",
    "   Define a function called `personalize_greeting` that takes a name as a parameter and prints a personalized greeting, \"Hello, [name]!\". Replace `[name]` with the actual name provided. Call this function with your name as an argument.\n",
    "\n",
    "3. **Calculating the Area of a Circle**:\n",
    "   Define a function named `circle_area` that takes the radius of a circle as a parameter and returns the area of the circle. Use the formula `area = π * radius^2` for the calculation (`π` can be approximated as `3.14159`). Call this function with a radius of `5` and print the result.\n",
    "\n",
    "4. **Using Multiple Parameters**:\n",
    "   Define a function called `add_numbers` that takes two parameters and returns their sum. Call this function with two numbers of your choice and print the result.\n",
    "\n",
    "5. **No Return Statement**:\n",
    "   Define a function called `print_menu` that prints a list of food items to the console but does not return anything. Call this function to display the menu.\n",
    "\n",
    "6. **Bonus: A Function that Returns Multiple Values**:\n",
    "   Define a function called `min_max` that takes a list of numbers as a parameter and returns both the minimum and maximum numbers in the list. Call this function with a list of numbers and unpack the results into two variables, then print those variables.\n"
   ]
  },
  {
   "cell_type": "markdown",
   "metadata": {},
   "source": [
    "**Expected Output:**\n",
    "```bash\n",
    "Hello, World!\n",
    "Hello, Alice!\n",
    "The area of the circle with radius 5 is 78.53975.\n",
    "The sum of 3 and 7 is 10.\n",
    "Menu: Pizza, Salad, Soup\n",
    "Minimum: 2, Maximum: 10\n",
    "```\n"
   ]
  },
  {
   "cell_type": "markdown",
   "metadata": {},
   "source": [
    "These tasks will reinforce the concepts covered in the lecture and help you become more familiar with defining and using functions in Python. Remember to use descriptive names for your functions and follow Python's naming conventions. Good luck, and enjoy writing your functions!"
   ]
  },
  {
   "cell_type": "markdown",
   "metadata": {},
   "source": [
    "### <a id='toc6_1_'></a>[Solution](#toc0_)"
   ]
  },
  {
   "cell_type": "markdown",
   "metadata": {},
   "source": [
    "Here are the solutions for each task in the exercise, demonstrating how to define and use functions in Python:"
   ]
  },
  {
   "cell_type": "code",
   "execution_count": 22,
   "metadata": {},
   "outputs": [],
   "source": [
    "# Task 1: Defining and Calling a Simple Function\n",
    "def greet():\n",
    "    print(\"Hello, World!\")"
   ]
  },
  {
   "cell_type": "code",
   "execution_count": 23,
   "metadata": {},
   "outputs": [
    {
     "name": "stdout",
     "output_type": "stream",
     "text": [
      "Hello, World!\n"
     ]
    }
   ],
   "source": [
    "# Call the function\n",
    "greet()"
   ]
  },
  {
   "cell_type": "code",
   "execution_count": 24,
   "metadata": {},
   "outputs": [],
   "source": [
    "# Task 2: Creating a Function with Parameters\n",
    "def personalize_greeting(name):\n",
    "    print(f\"Hello, {name}!\")"
   ]
  },
  {
   "cell_type": "code",
   "execution_count": 25,
   "metadata": {},
   "outputs": [
    {
     "name": "stdout",
     "output_type": "stream",
     "text": [
      "Hello, Alice!\n"
     ]
    }
   ],
   "source": [
    "# Call the function with your name\n",
    "personalize_greeting(\"Alice\")"
   ]
  },
  {
   "cell_type": "code",
   "execution_count": 26,
   "metadata": {},
   "outputs": [],
   "source": [
    "# Task 3: Calculating the Area of a Circle\n",
    "def circle_area(radius):\n",
    "    pi = 3.14159\n",
    "    return pi * radius ** 2"
   ]
  },
  {
   "cell_type": "code",
   "execution_count": 27,
   "metadata": {},
   "outputs": [
    {
     "name": "stdout",
     "output_type": "stream",
     "text": [
      "The area of the circle with radius 5 is 78.53975.\n"
     ]
    }
   ],
   "source": [
    "# Call the function with radius 5 and print the result\n",
    "area = circle_area(5)\n",
    "print(f\"The area of the circle with radius 5 is {area}.\")"
   ]
  },
  {
   "cell_type": "code",
   "execution_count": 28,
   "metadata": {},
   "outputs": [],
   "source": [
    "# Task 4: Using Multiple Parameters\n",
    "def add_numbers(num1, num2):\n",
    "    return num1 + num2"
   ]
  },
  {
   "cell_type": "code",
   "execution_count": 29,
   "metadata": {},
   "outputs": [
    {
     "name": "stdout",
     "output_type": "stream",
     "text": [
      "The sum of 3 and 7 is 10.\n"
     ]
    }
   ],
   "source": [
    "# Call the function with two numbers and print the result\n",
    "sum_of_numbers = add_numbers(3, 7)\n",
    "print(f\"The sum of 3 and 7 is {sum_of_numbers}.\")"
   ]
  },
  {
   "cell_type": "code",
   "execution_count": 30,
   "metadata": {},
   "outputs": [],
   "source": [
    "# Task 5: No Return Statement\n",
    "def print_menu():\n",
    "    menu_items = [\"Pizza\", \"Salad\", \"Soup\"]\n",
    "    print(\"Menu:\", \", \".join(menu_items))"
   ]
  },
  {
   "cell_type": "code",
   "execution_count": 31,
   "metadata": {},
   "outputs": [
    {
     "name": "stdout",
     "output_type": "stream",
     "text": [
      "Menu: Pizza, Salad, Soup\n"
     ]
    }
   ],
   "source": [
    "# Call the function to display the menu\n",
    "print_menu()"
   ]
  },
  {
   "cell_type": "code",
   "execution_count": 32,
   "metadata": {},
   "outputs": [],
   "source": [
    "# Bonus: A Function that Returns Multiple Values\n",
    "def min_max(numbers):\n",
    "    return min(numbers), max(numbers)"
   ]
  },
  {
   "cell_type": "code",
   "execution_count": 33,
   "metadata": {},
   "outputs": [
    {
     "name": "stdout",
     "output_type": "stream",
     "text": [
      "Minimum: 2, Maximum: 11\n"
     ]
    }
   ],
   "source": [
    "# Call the function with a list of numbers and unpack the results\n",
    "min_number, max_number = min_max([2, 3, 5, 7, 11, 2, 10])\n",
    "print(f\"Minimum: {min_number}, Maximum: {max_number}\")"
   ]
  },
  {
   "cell_type": "markdown",
   "metadata": {},
   "source": [
    "Running this code will execute the defined functions and produce the expected output. These tasks demonstrate the basics of creating functions with and without parameters, calling functions, and using the return statement to provide output from functions. The bonus task shows how a function can return multiple values by packing them into a tuple."
   ]
  }
 ],
 "metadata": {
  "kernelspec": {
   "display_name": "py310",
   "language": "python",
   "name": "python3"
  },
  "language_info": {
   "codemirror_mode": {
    "name": "ipython",
    "version": 3
   },
   "file_extension": ".py",
   "mimetype": "text/x-python",
   "name": "python",
   "nbconvert_exporter": "python",
   "pygments_lexer": "ipython3",
   "version": "3.10.12"
  }
 },
 "nbformat": 4,
 "nbformat_minor": 2
}
