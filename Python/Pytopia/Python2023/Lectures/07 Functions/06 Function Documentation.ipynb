{
 "cells": [
  {
   "cell_type": "markdown",
   "metadata": {},
   "source": [
    "<img src=\"./images/banner.png\" width=\"800\">"
   ]
  },
  {
   "cell_type": "markdown",
   "metadata": {},
   "source": [
    "# Function Documentation"
   ]
  },
  {
   "cell_type": "markdown",
   "metadata": {},
   "source": [
    "Welcome to the lecture on Function Documentation. In this section, we will delve into an often-overlooked, yet critical aspect of writing maintainable and readable code: the practice of documenting functions. As you have learned to create functions that perform various tasks, it is now time to understand how to effectively communicate the purpose and usage of those functions to others, including your future self.\n"
   ]
  },
  {
   "cell_type": "markdown",
   "metadata": {},
   "source": [
    "Documenting functions is crucial in software development. Well-documented code not only helps others understand what your code is supposed to do but also aids in debugging and extending the codebase without introducing errors. By the end of this lecture, you will know how to write clear and concise docstrings that describe your functions' behavior, parameters, return values, and any additional notes or examples that might be helpful.\n"
   ]
  },
  {
   "cell_type": "markdown",
   "metadata": {},
   "source": [
    "Throughout this lecture, we will cover:\n",
    "\n",
    "- The importance of documenting functions and how it benefits you and your team.\n",
    "- The syntax and structure of docstrings, the standard way of documenting Python functions.\n",
    "- Best practices for writing effective docstrings that are informative and easy to understand.\n",
    "- How to access and make use of docstrings in your code and while using the Python interactive shell.\n",
    "- Different styles and conventions that can be adopted for writing docstrings and how to choose one that best fits your needs or those of your project.\n",
    "- Tools that can help you generate documentation websites from your docstrings or check for docstring consistency and coverage.\n"
   ]
  },
  {
   "cell_type": "markdown",
   "metadata": {},
   "source": [
    "By learning to document your functions properly, you will take a significant step towards becoming a proficient Python programmer who writes code that is as easy to read as it is to write. Let's get started on this journey to producing high-quality, self-explanatory Python code!"
   ]
  },
  {
   "cell_type": "markdown",
   "metadata": {},
   "source": [
    "**Table of contents**<a id='toc0_'></a>    \n",
    "- [The Importance of Documenting Functions](#toc1_)    \n",
    "- [Docstrings: The Basics](#toc2_)    \n",
    "- [Writing Effective Docstrings](#toc3_)    \n",
    "  - [Style](#toc3_1_)    \n",
    "  - [Example](#toc3_2_)    \n",
    "- [Accessing Docstrings](#toc4_)    \n",
    "  - [Using the help() Function](#toc4_1_)    \n",
    "  - [Using the .__doc__ Attribute](#toc4_2_)    \n",
    "  - [Practical Example](#toc4_3_)    \n",
    "  - [Interactive Environments](#toc4_4_)    \n",
    "- [Docstring Styles](#toc5_)    \n",
    "  - [Google Style](#toc5_1_)    \n",
    "  - [NumPy/SciPy Style](#toc5_2_)    \n",
    "  - [reStructuredText (reST)](#toc5_3_)    \n",
    "  - [Epytext](#toc5_4_)    \n",
    "  - [Choosing a Style](#toc5_5_)    \n",
    "- [Annotations and Type Hints](#toc6_)    \n",
    "  - [Syntax](#toc6_1_)    \n",
    "  - [Benefits](#toc6_2_)    \n",
    "  - [Using Type Hints with Docstrings](#toc6_3_)    \n",
    "- [Practice Exercise](#toc7_)    \n",
    "  - [Solution](#toc7_1_)    \n",
    "\n",
    "<!-- vscode-jupyter-toc-config\n",
    "\tnumbering=false\n",
    "\tanchor=true\n",
    "\tflat=false\n",
    "\tminLevel=2\n",
    "\tmaxLevel=6\n",
    "\t/vscode-jupyter-toc-config -->\n",
    "<!-- THIS CELL WILL BE REPLACED ON TOC UPDATE. DO NOT WRITE YOUR TEXT IN THIS CELL -->"
   ]
  },
  {
   "cell_type": "markdown",
   "metadata": {},
   "source": [
    "## <a id='toc1_'></a>[The Importance of Documenting Functions](#toc0_)"
   ]
  },
  {
   "cell_type": "markdown",
   "metadata": {},
   "source": [
    "In programming, the functionality of your code is only as valuable as the ability of others (and yourself) to understand and use it effectively. Documenting functions plays a pivotal role in ensuring that your code can be read, understood, and maintained over time. Here are several key reasons why function documentation should not be an afterthought:\n",
    "\n",
    "- **Readability:**\n",
    "    - The primary goal of function documentation is to enhance the readability of your code. When a developer encounters a function, the documentation should immediately convey the function's purpose without the need to decipher the code itself. Well-documented functions allow developers to grasp the logic quickly, saving time and reducing cognitive load.\n",
    "\n",
    "- **Maintenance:**\n",
    "    - Code maintenance is a significant part of the software development lifecycle. Over the course of a project, code is modified, refactored, and extended. Documentation acts as a guidepost for future maintainers, providing them with the necessary context to make changes confidently. When the original author of the code is no longer available, good documentation is often the only source of insight into the design decisions that were made.\n",
    "\n",
    "- **Onboarding:**\n",
    "    - When new developers join a project, they often face a steep learning curve. Comprehensive function documentation can significantly ease this process, allowing newcomers to get up to speed more quickly. Instead of relying solely on direct communication with the existing team, new developers can rely on documentation to understand how to use various parts of the codebase.\n",
    "\n",
    "- **Collaboration:**\n",
    "    - In team environments, where multiple developers work on the same codebase, clear documentation is critical for collaboration. It helps in aligning understanding and ensures that everyone is on the same page regarding how functions are supposed to work, what inputs they expect, and what outputs they produce.\n",
    "\n",
    "- **Debugging:**\n",
    "    - When something goes wrong, well-documented functions can be a lifesaver. Debugging involves tracing through the code to find where things are breaking. Documentation can provide immediate hints about what a function was intended to do, which can be compared against its actual behavior to identify bugs.\n",
    "\n",
    "- **Reusability:**\n",
    "    - Software development often involves building on existing solutions. When functions are well-documented, they can be more easily reused in different parts of the application, or even in different projects, because their functionality is clearly described and their interfaces are well-defined.\n"
   ]
  },
  {
   "cell_type": "markdown",
   "metadata": {},
   "source": [
    "In essence, the documentation is not just about explaining what the code does; it's about facilitating all aspects of the software development process. By investing a little extra time to document your functions, you are creating a more accessible, maintainable, and user-friendly codebase. This practice is a hallmark of a seasoned developer and contributes to the overall quality and longevity of your software projects."
   ]
  },
  {
   "cell_type": "markdown",
   "metadata": {},
   "source": [
    "## <a id='toc2_'></a>[Docstrings: The Basics](#toc0_)"
   ]
  },
  {
   "cell_type": "markdown",
   "metadata": {},
   "source": [
    "Before we dive into the specifics of writing effective documentation, let's begin with the fundamentals of docstrings in Python. A **docstring** is a literal string used to document a Python module, class, method, or function. It is an integral part of the code that explains what a piece of code does, and it's enclosed within triple quotes. The Python interpreter assigns these strings to the `__doc__` attribute of the corresponding object.\n"
   ]
  },
  {
   "cell_type": "markdown",
   "metadata": {},
   "source": [
    "Here is the basic syntax for a function docstring:\n"
   ]
  },
  {
   "cell_type": "code",
   "execution_count": 1,
   "metadata": {},
   "outputs": [],
   "source": [
    "def my_function():\n",
    "    \"\"\"This is a docstring that describes what the my_function() does.\"\"\"\n",
    "    # Function body goes here"
   ]
  },
  {
   "cell_type": "markdown",
   "metadata": {},
   "source": [
    "The triple quotes can be triple single quotes (`'''`) or triple double quotes (`\"\"\"`), and Python treats both forms as completely equivalent. However, the convention is to use triple double quotes for consistency and to differentiate from single-line strings.\n"
   ]
  },
  {
   "cell_type": "markdown",
   "metadata": {},
   "source": [
    "A docstring should be placed immediately following the function definition line, before the code in the body of the function begins. This makes the docstring clearly associated with the function.\n"
   ]
  },
  {
   "cell_type": "markdown",
   "metadata": {},
   "source": [
    "Docstrings are accessible from the code at runtime. This means that they can be retrieved by the user of the function, providing help about the function's purpose and usage without the need to read the source code. You can access the docstring of a function by using the `help()` built-in function or by printing `my_function.__doc__`.\n"
   ]
  },
  {
   "cell_type": "markdown",
   "metadata": {},
   "source": [
    "Here is an example of a simple function with a docstring:\n"
   ]
  },
  {
   "cell_type": "code",
   "execution_count": 2,
   "metadata": {},
   "outputs": [],
   "source": [
    "def greet(name):\n",
    "    \"\"\"\n",
    "    Greets a person with a hello message.\n",
    "\n",
    "    Args:\n",
    "        name (str): The name of the person to greet.\n",
    "\n",
    "    Returns:\n",
    "        None\n",
    "    \"\"\"\n",
    "    print(f\"Hello, {name}!\")"
   ]
  },
  {
   "cell_type": "markdown",
   "metadata": {},
   "source": [
    "In this example, the docstring provides a clear description of what the function does, the argument it expects (`name`), and what it returns (`None`).\n"
   ]
  },
  {
   "cell_type": "markdown",
   "metadata": {},
   "source": [
    "Docstrings are a key part of Python's approach to documentation and self-documenting code. They provide a convenient way of associating documentation with functions and other objects at the time they are defined. The use of docstrings is deeply ingrained in the Python community, and it's a best practice that contributes to clear, maintainable, and easily navigable code.\n"
   ]
  },
  {
   "cell_type": "markdown",
   "metadata": {},
   "source": [
    "By understanding and using docstrings effectively, you will be able to create documentation that lives with your code and can be easily accessed by any developer who uses your functions. This is the first step towards building well-documented software that stands the test of time."
   ]
  },
  {
   "cell_type": "markdown",
   "metadata": {},
   "source": [
    "## <a id='toc3_'></a>[Writing Effective Docstrings](#toc0_)"
   ]
  },
  {
   "cell_type": "markdown",
   "metadata": {},
   "source": [
    "Creating a docstring is more than just throwing in a line or two of text explaining what the code does; it's about providing clear, concise, and relevant information that will be helpful to anyone reading the code later. Effective docstrings enhance understanding and usability, enabling developers to interact with the code more efficiently. Let's go through the key elements that make a docstring effective.\n"
   ]
  },
  {
   "cell_type": "markdown",
   "metadata": {},
   "source": [
    "- **Brief Description**\n",
    "  - Start with a brief, yet descriptive, summary of the function's purpose. This summary should be concise—often a single line is sufficient. It should give the reader an immediate understanding of what the function does without having to read the rest of the docstring or inspect the code.\n",
    "- **Parameters**\n",
    "  - After the initial description, document each parameter the function takes. Include the name, type, and a short explanation of what each parameter represents and how it is used by the function. This information is invaluable when trying to understand the inputs that the function expects.\n",
    "- **Return Values**\n",
    "  - If the function returns a value, describe what the value is, along with its type. If a function can return multiple types of values or raises exceptions, this should be clearly documented so that users of the function can write code that handles the output appropriately.\n",
    "- **Other Sections**\n",
    "  - **Example Usage:** Providing a code snippet showing how to call the function can be very helpful, especially for complex or less intuitive functions.\n",
    "  - **Raises:** Detail any exceptions that the function may raise, along with the conditions under which they are raised.\n",
    "  - **Notes:** Include any additional information or context that could be useful, such as performance considerations, side effects, or limitations of the function.\n",
    "  - **See Also:** Mention related functions or resources that might be of interest to someone using the function."
   ]
  },
  {
   "cell_type": "markdown",
   "metadata": {},
   "source": [
    "### <a id='toc3_1_'></a>[Style](#toc0_)"
   ]
  },
  {
   "cell_type": "markdown",
   "metadata": {},
   "source": [
    "While the content of a docstring is crucial, the style and formatting are also important. Consistency helps make the documentation easier to read and maintain. You may adopt a particular style guide, such as NumPy, Google, or Sphinx, which prescribes specific ways to document parameters, return values, and other information. Following a common style guide can also facilitate the use of tools that generate formatted documentation automatically.\n"
   ]
  },
  {
   "cell_type": "markdown",
   "metadata": {},
   "source": [
    "### <a id='toc3_2_'></a>[Example](#toc0_)\n"
   ]
  },
  {
   "cell_type": "markdown",
   "metadata": {},
   "source": [
    "Here's an example of a well-documented function with all the essential elements of an effective docstring:\n"
   ]
  },
  {
   "cell_type": "code",
   "execution_count": 1,
   "metadata": {},
   "outputs": [],
   "source": [
    "def calculate_area(radius):\n",
    "    \"\"\"\n",
    "    Calculate the area of a circle given its radius.\n",
    "\n",
    "    Args:\n",
    "        radius (float): The radius of the circle.\n",
    "\n",
    "    Returns:\n",
    "        float: The area of the circle.\n",
    "\n",
    "    Raises:\n",
    "        ValueError: If the radius is negative.\n",
    "\n",
    "    Examples:\n",
    "        >>> calculate_area(5)\n",
    "        78.53981633974483\n",
    "\n",
    "    Note:\n",
    "        The area is calculated using the formula pi * radius^2.\n",
    "    \"\"\"\n",
    "    if radius < 0:\n",
    "        raise ValueError(\"The radius cannot be negative.\")\n",
    "    return 3.141592653589793 * radius ** 2"
   ]
  },
  {
   "cell_type": "markdown",
   "metadata": {},
   "source": [
    "In the example above, the docstring provides a clear description, parameter explanation, return value, potential exception, an example of how to use the function, and an additional note explaining the formula used.\n"
   ]
  },
  {
   "cell_type": "markdown",
   "metadata": {},
   "source": [
    "By incorporating these elements into your docstrings, you'll produce documentation that is not only helpful and informative but also standardized and professional. Remember, the goal is to make your codebase as user-friendly as possible, and effective docstrings are a significant step in that direction."
   ]
  },
  {
   "cell_type": "markdown",
   "metadata": {},
   "source": [
    "## <a id='toc4_'></a>[Accessing Docstrings](#toc0_)"
   ]
  },
  {
   "cell_type": "markdown",
   "metadata": {},
   "source": [
    "Once you have written docstrings for your functions, it's important to know how to access this documentation. After all, the primary goal of a docstring is to provide information to anyone who may use the function in the future. Python provides built-in ways to access docstrings, ensuring that the information is readily available when needed.\n"
   ]
  },
  {
   "cell_type": "markdown",
   "metadata": {},
   "source": [
    "### <a id='toc4_1_'></a>[Using the help() Function](#toc0_)\n"
   ]
  },
  {
   "cell_type": "markdown",
   "metadata": {},
   "source": [
    "The `help()` function is an interactive utility that provides detailed information about Python modules, classes, functions, and more. It's built into the Python interpreter and can be used in any Python environment, including the command line and Jupyter notebooks.\n"
   ]
  },
  {
   "cell_type": "markdown",
   "metadata": {},
   "source": [
    "To see a function's docstring using the `help()` function, simply pass the function as an argument to `help()`. For example:\n"
   ]
  },
  {
   "cell_type": "markdown",
   "metadata": {},
   "source": [
    "```python\n",
    "def my_function():\n",
    "    \"\"\"This is a simple docstring.\"\"\"\n",
    "    pass\n",
    "\n",
    "help(my_function)\n",
    "```\n"
   ]
  },
  {
   "cell_type": "markdown",
   "metadata": {},
   "source": [
    "When you run the above code, Python will display the docstring of `my_function`. This is particularly useful when you are working interactively and want to quickly retrieve the documentation of a function you are about to use.\n"
   ]
  },
  {
   "cell_type": "markdown",
   "metadata": {},
   "source": [
    "### <a id='toc4_2_'></a>[Using the .__doc__ Attribute](#toc0_)\n"
   ]
  },
  {
   "cell_type": "markdown",
   "metadata": {},
   "source": [
    "Every function in Python has a special attribute named `__doc__` which holds the contents of the function's docstring. This attribute can be accessed directly to retrieve or print the docstring.\n"
   ]
  },
  {
   "cell_type": "markdown",
   "metadata": {},
   "source": [
    "Here's how you can access a function's docstring using the `__doc__` attribute:\n"
   ]
  },
  {
   "cell_type": "code",
   "execution_count": 4,
   "metadata": {},
   "outputs": [],
   "source": [
    "def my_function():\n",
    "    \"\"\"This is a simple docstring.\"\"\"\n",
    "    pass\n"
   ]
  },
  {
   "cell_type": "code",
   "execution_count": 5,
   "metadata": {},
   "outputs": [
    {
     "data": {
      "text/plain": [
       "'This is a simple docstring.'"
      ]
     },
     "execution_count": 5,
     "metadata": {},
     "output_type": "execute_result"
    }
   ],
   "source": [
    "my_function.__doc__"
   ]
  },
  {
   "cell_type": "markdown",
   "metadata": {},
   "source": [
    "When you run the above code, the output will be the string \"This is a simple docstring.\"\n"
   ]
  },
  {
   "cell_type": "markdown",
   "metadata": {},
   "source": [
    "Let's consider a more practical example with a real function:\n"
   ]
  },
  {
   "cell_type": "code",
   "execution_count": 6,
   "metadata": {},
   "outputs": [],
   "source": [
    "def calculate_area(radius):\n",
    "    \"\"\"\n",
    "    Calculate the area of a circle given its radius.\n",
    "\n",
    "    Args:\n",
    "        radius (float): The radius of the circle.\n",
    "\n",
    "    Returns:\n",
    "        float: The area of the circle.\n",
    "    \"\"\"\n",
    "    return 3.141592653589793 * radius ** 2"
   ]
  },
  {
   "cell_type": "code",
   "execution_count": 7,
   "metadata": {},
   "outputs": [
    {
     "name": "stdout",
     "output_type": "stream",
     "text": [
      "Help on function calculate_area in module __main__:\n",
      "\n",
      "calculate_area(radius)\n",
      "    Calculate the area of a circle given its radius.\n",
      "    \n",
      "    Args:\n",
      "        radius (float): The radius of the circle.\n",
      "    \n",
      "    Returns:\n",
      "        float: The area of the circle.\n",
      "\n"
     ]
    }
   ],
   "source": [
    "# Using help()\n",
    "help(calculate_area)"
   ]
  },
  {
   "cell_type": "code",
   "execution_count": 8,
   "metadata": {},
   "outputs": [
    {
     "name": "stdout",
     "output_type": "stream",
     "text": [
      "\n",
      "    Calculate the area of a circle given its radius.\n",
      "\n",
      "    Args:\n",
      "        radius (float): The radius of the circle.\n",
      "\n",
      "    Returns:\n",
      "        float: The area of the circle.\n",
      "    \n"
     ]
    }
   ],
   "source": [
    "# Using __doc__\n",
    "print(calculate_area.__doc__)\n"
   ]
  },
  {
   "cell_type": "markdown",
   "metadata": {},
   "source": [
    "Both methods will output the docstring of the `calculate_area` function, showing the information provided about the function's purpose, its argument, and its return value.\n"
   ]
  },
  {
   "cell_type": "markdown",
   "metadata": {},
   "source": [
    "### <a id='toc4_4_'></a>[Interactive Environments](#toc0_)\n"
   ]
  },
  {
   "cell_type": "markdown",
   "metadata": {},
   "source": [
    "In interactive environments like IPython and Jupyter notebooks, you can also use the `?` operator to access docstrings. Simply appending a question mark to the function name will display its docstring:\n"
   ]
  },
  {
   "cell_type": "code",
   "execution_count": 9,
   "metadata": {},
   "outputs": [
    {
     "name": "stdout",
     "output_type": "stream",
     "text": [
      "\u001b[0;31mSignature:\u001b[0m \u001b[0mcalculate_area\u001b[0m\u001b[0;34m(\u001b[0m\u001b[0mradius\u001b[0m\u001b[0;34m)\u001b[0m\u001b[0;34m\u001b[0m\u001b[0;34m\u001b[0m\u001b[0m\n",
      "\u001b[0;31mDocstring:\u001b[0m\n",
      "Calculate the area of a circle given its radius.\n",
      "\n",
      "Args:\n",
      "    radius (float): The radius of the circle.\n",
      "\n",
      "Returns:\n",
      "    float: The area of the circle.\n",
      "\u001b[0;31mFile:\u001b[0m      /var/folders/g_/1vbng5jn1nv9ztt7z6_k8lg00000gn/T/ipykernel_95425/777152004.py\n",
      "\u001b[0;31mType:\u001b[0m      function"
     ]
    }
   ],
   "source": [
    "calculate_area?"
   ]
  },
  {
   "cell_type": "markdown",
   "metadata": {},
   "source": [
    "This will bring up a separate pane with the docstring if you're in a Jupyter notebook, or display it inline if you're using IPython in a terminal.\n"
   ]
  },
  {
   "cell_type": "markdown",
   "metadata": {},
   "source": [
    "By familiarizing yourself with these tools to access docstrings, you ensure that the valuable information they contain is always at your fingertips, facilitating a smoother development workflow and better understanding of your codebase. Whether you're debugging, exploring a new library, or just need a quick reminder of how a function works, these techniques are indispensable tools in your Python arsenal."
   ]
  },
  {
   "cell_type": "markdown",
   "metadata": {},
   "source": [
    "## <a id='toc5_'></a>[Docstring Styles](#toc0_)"
   ]
  },
  {
   "cell_type": "markdown",
   "metadata": {},
   "source": [
    "While the Python language has conventions for docstrings, there are several popular styles for writing them. The choice of style can depend on personal preference, team agreement, or the requirements of tools used to generate documentation. Below, we provide an overview of some of the most common docstring styles.\n"
   ]
  },
  {
   "cell_type": "markdown",
   "metadata": {},
   "source": [
    "### <a id='toc5_1_'></a>[Google Style](#toc0_)\n"
   ]
  },
  {
   "cell_type": "markdown",
   "metadata": {},
   "source": [
    "The Google style for docstrings is characterized by its use of indentation to separate sections and its readability in plain text form. This style is user-friendly and easy to write and read.\n"
   ]
  },
  {
   "cell_type": "markdown",
   "metadata": {},
   "source": [
    "Example:\n"
   ]
  },
  {
   "cell_type": "code",
   "execution_count": 10,
   "metadata": {},
   "outputs": [],
   "source": [
    "def function(arg1, arg2):\n",
    "    \"\"\"Description of the function.\n",
    "\n",
    "    Args:\n",
    "        arg1 (int): Description of arg1.\n",
    "        arg2 (str): Description of arg2.\n",
    "\n",
    "    Returns:\n",
    "        bool: Description of the return value.\n",
    "    \"\"\""
   ]
  },
  {
   "cell_type": "markdown",
   "metadata": {},
   "source": [
    "### <a id='toc5_2_'></a>[NumPy/SciPy Style](#toc0_)\n"
   ]
  },
  {
   "cell_type": "markdown",
   "metadata": {},
   "source": [
    "The NumPy/SciPy docstring style is widely used in the scientific Python community. It is very detailed and is especially suited for documenting complex functions and classes. This style uses a more structured approach with field names and types presented in a consistent format.\n"
   ]
  },
  {
   "cell_type": "markdown",
   "metadata": {},
   "source": [
    "Example:\n"
   ]
  },
  {
   "cell_type": "code",
   "execution_count": 11,
   "metadata": {},
   "outputs": [],
   "source": [
    "def function(arg1, arg2):\n",
    "    \"\"\"\n",
    "    Description of the function.\n",
    "\n",
    "    Parameters\n",
    "    ----------\n",
    "    arg1 : int\n",
    "        Description of arg1.\n",
    "    arg2 : str\n",
    "        Description of arg2.\n",
    "\n",
    "    Returns\n",
    "    -------\n",
    "    bool\n",
    "        Description of the return value.\n",
    "    \"\"\""
   ]
  },
  {
   "cell_type": "markdown",
   "metadata": {},
   "source": [
    "### <a id='toc5_3_'></a>[reStructuredText (reST)](#toc0_)\n"
   ]
  },
  {
   "cell_type": "markdown",
   "metadata": {},
   "source": [
    "reStructuredText is a markup syntax that is particularly favored in the Python community because it is the standard format for Python documentation. It can be used with Sphinx, a documentation generator, to create well-formatted and comprehensive documentation.\n"
   ]
  },
  {
   "cell_type": "markdown",
   "metadata": {},
   "source": [
    "Example:\n"
   ]
  },
  {
   "cell_type": "code",
   "execution_count": 12,
   "metadata": {},
   "outputs": [],
   "source": [
    "def function(arg1, arg2):\n",
    "    \"\"\"\n",
    "    Description of the function.\n",
    "\n",
    "    :param arg1: Description of arg1.\n",
    "    :type arg1: int\n",
    "    :param arg2: Description of arg2.\n",
    "    :type arg2: str\n",
    "    :returns: Description of the return value.\n",
    "    :rtype: bool\n",
    "    \"\"\""
   ]
  },
  {
   "cell_type": "markdown",
   "metadata": {},
   "source": [
    "### <a id='toc5_4_'></a>[Epytext](#toc0_)\n"
   ]
  },
  {
   "cell_type": "markdown",
   "metadata": {},
   "source": [
    "Epytext is a Javadoc-like format that was used in the Epydoc documentation generation tool for Python. Although it's less common today, some projects that started with Epydoc continue to use this style for consistency.\n"
   ]
  },
  {
   "cell_type": "markdown",
   "metadata": {},
   "source": [
    "Example:\n"
   ]
  },
  {
   "cell_type": "code",
   "execution_count": 13,
   "metadata": {},
   "outputs": [],
   "source": [
    "def function(arg1, arg2):\n",
    "    \"\"\"\n",
    "    Description of the function.\n",
    "\n",
    "    @param arg1: Description of arg1.\n",
    "    @type arg1: int\n",
    "    @param arg2: Description of arg2.\n",
    "    @type arg2: str\n",
    "    @return: Description of the return value.\n",
    "    @rtype: bool\n",
    "    \"\"\""
   ]
  },
  {
   "cell_type": "markdown",
   "metadata": {},
   "source": [
    "### <a id='toc5_5_'></a>[Choosing a Style](#toc0_)\n"
   ]
  },
  {
   "cell_type": "markdown",
   "metadata": {},
   "source": [
    "When choosing a docstring style for your project, consider the following factors:\n"
   ]
  },
  {
   "cell_type": "markdown",
   "metadata": {},
   "source": [
    "- **Consistency:** Choose a style that you can use consistently across your entire codebase.\n",
    "- **Tooling:** Some styles are better suited for use with specific documentation generation tools. For example, reST is ideal for Sphinx, and NumPy/SciPy style has great support for scientific tools.\n",
    "- **Community:** Adopting the style that is most common in the community around the programming language or type of software you are working on can make it easier for others to contribute to your project.\n",
    "- **Readability:** Consider how readable the docstring is, both in source code form and when processed by documentation tools.\n"
   ]
  },
  {
   "cell_type": "markdown",
   "metadata": {},
   "source": [
    "Once you've selected a style, stick with it throughout your project to maintain a coherent and professional look to your code documentation. Remember that the goal of a docstring is to clearly communicate the purpose and usage of your code, so choose the style that best facilitates that goal."
   ]
  },
  {
   "cell_type": "markdown",
   "metadata": {},
   "source": [
    "## <a id='toc6_'></a>[Annotations and Type Hints](#toc0_)"
   ]
  },
  {
   "cell_type": "markdown",
   "metadata": {},
   "source": [
    "With the introduction of Python 3.5, a new feature called *type hinting* was added to the Python language. Type hints provide a way to explicitly state the expected data types of function arguments and the return type. These hints are not enforced at runtime, meaning Python remains a dynamically typed language, but they can be used by static type checkers, IDEs, linters, and documentation generators to ensure that the types are correct and consistent. Type hints complement documentation by providing a clear and concise way to indicate the types of variables, which helps developers understand the code more quickly and can catch type-related errors early in the development process.\n"
   ]
  },
  {
   "cell_type": "markdown",
   "metadata": {},
   "source": [
    "### <a id='toc6_1_'></a>[Syntax](#toc0_)\n"
   ]
  },
  {
   "cell_type": "markdown",
   "metadata": {},
   "source": [
    "Type hints are added using a colon `:` after the parameter name followed by the type, and the return type is indicated with an arrow `->` followed by the type before the colon ending the function definition.\n"
   ]
  },
  {
   "cell_type": "markdown",
   "metadata": {},
   "source": [
    "Example:\n"
   ]
  },
  {
   "cell_type": "code",
   "execution_count": 14,
   "metadata": {},
   "outputs": [],
   "source": [
    "def greeting(name: str) -> str:\n",
    "    return f\"Hello, {name}\""
   ]
  },
  {
   "cell_type": "markdown",
   "metadata": {},
   "source": [
    "In this example, the `name` parameter is expected to be a `str` (string), and the function is also expected to return a `str`.\n"
   ]
  },
  {
   "cell_type": "markdown",
   "metadata": {},
   "source": [
    "### <a id='toc6_2_'></a>[Benefits](#toc0_)\n"
   ]
  },
  {
   "cell_type": "markdown",
   "metadata": {},
   "source": [
    "Type hints can make your code more readable and maintainable by clearly stating what types of values are expected. This can be particularly useful in larger codebases or when working in a team where clear communication about function interfaces is crucial.\n"
   ]
  },
  {
   "cell_type": "markdown",
   "metadata": {},
   "source": [
    "Type hints also enable better static analysis and can catch bugs related to incorrect types before the code is even run. Many modern IDEs utilize type hints to provide improved code completion, function signature information, and error detection.\n"
   ]
  },
  {
   "cell_type": "markdown",
   "metadata": {},
   "source": [
    "Additionally, they serve as a form of live documentation. Unlike docstrings, which may become outdated if not maintained, type hints are more likely to be updated along with the code since they are part of the function signature.\n"
   ]
  },
  {
   "cell_type": "markdown",
   "metadata": {},
   "source": [
    "### <a id='toc6_3_'></a>[Using Type Hints with Docstrings](#toc0_)\n"
   ]
  },
  {
   "cell_type": "markdown",
   "metadata": {},
   "source": [
    "Type hints and docstrings can work together to provide a complete picture of a function's behavior. While type hints provide a quick reference to the types of arguments and return values, docstrings can include more descriptive information about the purpose of the function, more detailed descriptions of the parameters and return value, and any additional notes or examples.\n"
   ]
  },
  {
   "cell_type": "markdown",
   "metadata": {},
   "source": [
    "Example with both type hints and docstring:\n"
   ]
  },
  {
   "cell_type": "code",
   "execution_count": 15,
   "metadata": {},
   "outputs": [],
   "source": [
    "def calculate_area(radius: float) -> float:\n",
    "    \"\"\"\n",
    "    Calculate the area of a circle given its radius.\n",
    "\n",
    "    The calculation is based on the formula: pi * radius^2.\n",
    "\n",
    "    Args:\n",
    "        radius: The radius of the circle.\n",
    "\n",
    "    Returns:\n",
    "        The area of the circle.\n",
    "    \"\"\"\n",
    "    return 3.141592653589793 * radius ** 2"
   ]
  },
  {
   "cell_type": "markdown",
   "metadata": {},
   "source": [
    "In this example, the type hints quickly inform the reader about the function's interface, while the docstring provides a more detailed explanation of what the function does and how it works.\n"
   ]
  },
  {
   "cell_type": "markdown",
   "metadata": {},
   "source": [
    "Annotations and type hints are powerful tools that, when combined with comprehensive docstrings, provide a robust framework for documenting your Python code. They convey at a glance the function's expected input and output types, improving code clarity and reliability. As you write Python code, consider using both type hints and docstrings to create a self-documenting and error-resistant codebase."
   ]
  },
  {
   "cell_type": "markdown",
   "metadata": {},
   "source": [
    "<img src=\"../images/exercise-banner.gif\" width=\"800\">"
   ]
  },
  {
   "cell_type": "markdown",
   "metadata": {},
   "source": [
    "## <a id='toc7_'></a>[Practice Exercise](#toc0_)"
   ]
  },
  {
   "cell_type": "markdown",
   "metadata": {},
   "source": [
    "For this exercise, you will practice writing a well-documented function in Python. This includes creating a comprehensive docstring and using type hints to enhance the clarity and usability of your code. By doing so, you will help future developers—or your future self—understand the purpose and use of your function quickly and easily.\n"
   ]
  },
  {
   "cell_type": "markdown",
   "metadata": {},
   "source": [
    "**Scenario:**\n",
    "Imagine you have written a function that calculates the area of a rectangle. Your task is to document this function properly using a docstring that includes a description of the function, its parameters, return value, and any additional information you think is relevant. You will also use type hints to indicate the expected data types for the function's parameters and return value.\n"
   ]
  },
  {
   "cell_type": "markdown",
   "metadata": {},
   "source": [
    "**Tasks:**\n",
    "\n",
    "1. **Write the Function**:\n",
    "   Define a function named `calculate_rectangle_area` that takes two parameters, `width` and `height`, which represent the dimensions of a rectangle.\n",
    "\n",
    "2. **Add a Docstring**:\n",
    "   Write a docstring for the `calculate_rectangle_area` function. Make sure to include:\n",
    "   - A brief description of what the function does.\n",
    "   - Descriptions of the parameters `width` and `height`.\n",
    "   - The expected return value description.\n",
    "\n",
    "3. **Include Type Hints**:\n",
    "   Add type hints to the function's parameters and return value. Assume the dimensions will be passed as floating-point numbers and the function will return the area as a floating-point number.\n",
    "\n",
    "4. **Access the Docstring**:\n",
    "   Write code that prints the docstring of the `calculate_rectangle_area` function using both the `help()` function and the `.__doc__` attribute.\n",
    "\n",
    "5. **Bonus: Explore Docstring Styles**:\n",
    "   Choose one of the docstring styles mentioned in the lecture (Google, NumPy/SciPy, reStructuredText, Epytext) and rewrite the docstring of your function to match that style.\n"
   ]
  },
  {
   "cell_type": "markdown",
   "metadata": {},
   "source": [
    "Complete these tasks to ensure that your `calculate_rectangle_area` function is well-documented and that anyone reading the code can understand how to use it. Remember, good documentation is as important as writing good code!"
   ]
  },
  {
   "cell_type": "markdown",
   "metadata": {},
   "source": [
    "### <a id='toc7_1_'></a>[Solution](#toc0_)"
   ]
  },
  {
   "cell_type": "markdown",
   "metadata": {},
   "source": [
    "Certainly! Below is a solution for the exercise, including the definition of the `calculate_rectangle_area` function with docstrings and type hints, as well as code to access and print the docstrings.\n"
   ]
  },
  {
   "cell_type": "code",
   "execution_count": 16,
   "metadata": {},
   "outputs": [],
   "source": [
    "# Task 1, 2, 3: Write the Function, add Docstring, and Type Annotations\n",
    "def calculate_rectangle_area(width: float, height: float) -> float:\n",
    "    \"\"\"\n",
    "    Calculate the area of a rectangle.\n",
    "\n",
    "    Parameters:\n",
    "    width (float): The width of the rectangle in units.\n",
    "    height (float): The height of the rectangle in units.\n",
    "\n",
    "    Returns:\n",
    "    float: The area of the rectangle in square units.\n",
    "    \"\"\"\n",
    "    return width * height\n"
   ]
  },
  {
   "cell_type": "code",
   "execution_count": 17,
   "metadata": {},
   "outputs": [
    {
     "name": "stdout",
     "output_type": "stream",
     "text": [
      "Using .__doc__ attribute:\n"
     ]
    }
   ],
   "source": [
    "# Task 4: Access the Docstring\n",
    "print(\"Using .__doc__ attribute:\")"
   ]
  },
  {
   "cell_type": "code",
   "execution_count": 18,
   "metadata": {},
   "outputs": [
    {
     "name": "stdout",
     "output_type": "stream",
     "text": [
      "\n",
      "    Calculate the area of a rectangle.\n",
      "\n",
      "    Parameters:\n",
      "    width (float): The width of the rectangle in units.\n",
      "    height (float): The height of the rectangle in units.\n",
      "\n",
      "    Returns:\n",
      "    float: The area of the rectangle in square units.\n",
      "    \n"
     ]
    }
   ],
   "source": [
    "print(calculate_rectangle_area.__doc__)"
   ]
  },
  {
   "cell_type": "code",
   "execution_count": 19,
   "metadata": {},
   "outputs": [
    {
     "name": "stdout",
     "output_type": "stream",
     "text": [
      "Using help() function:\n",
      "Help on function calculate_rectangle_area in module __main__:\n",
      "\n",
      "calculate_rectangle_area(width: float, height: float) -> float\n",
      "    Calculate the area of a rectangle.\n",
      "    \n",
      "    Parameters:\n",
      "    width (float): The width of the rectangle in units.\n",
      "    height (float): The height of the rectangle in units.\n",
      "    \n",
      "    Returns:\n",
      "    float: The area of the rectangle in square units.\n",
      "\n"
     ]
    }
   ],
   "source": [
    "print(\"Using help() function:\")\n",
    "help(calculate_rectangle_area)"
   ]
  },
  {
   "cell_type": "code",
   "execution_count": 20,
   "metadata": {},
   "outputs": [],
   "source": [
    "# Bonus Task: Explore Docstring Styles\n",
    "# Here's an example of the Google docstring style:\n",
    "def calculate_rectangle_area(width: float, height: float) -> float:\n",
    "    \"\"\"\n",
    "    Calculate the area of a rectangle.\n",
    "\n",
    "    Args:\n",
    "        width (float): The width of the rectangle in units.\n",
    "        height (float): The height of the rectangle in units.\n",
    "\n",
    "    Returns:\n",
    "        The area of the rectangle in square units.\n",
    "    \"\"\"\n",
    "    return width * height\n"
   ]
  },
  {
   "cell_type": "markdown",
   "metadata": {},
   "source": [
    "Executing the code will define the `calculate_rectangle_area` function with an appropriate docstring and type hints. It also includes code to print the docstring using the `.__doc__` attribute and display detailed help information with the `help()` function. The bonus task demonstrates how to write the docstring following the Google style guide for Python docstrings.\n"
   ]
  },
  {
   "cell_type": "markdown",
   "metadata": {},
   "source": [
    "By completing this exercise, you'll have practiced writing clear and informative documentation for a Python function, which is a vital part of writing maintainable and readable code."
   ]
  }
 ],
 "metadata": {
  "kernelspec": {
   "display_name": "py310",
   "language": "python",
   "name": "python3"
  },
  "language_info": {
   "codemirror_mode": {
    "name": "ipython",
    "version": 3
   },
   "file_extension": ".py",
   "mimetype": "text/x-python",
   "name": "python",
   "nbconvert_exporter": "python",
   "pygments_lexer": "ipython3",
   "version": "3.10.12"
  }
 },
 "nbformat": 4,
 "nbformat_minor": 2
}
