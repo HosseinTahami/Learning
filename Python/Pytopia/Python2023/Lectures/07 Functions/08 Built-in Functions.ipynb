{
 "cells": [
  {
   "cell_type": "markdown",
   "metadata": {},
   "source": [
    "<img src=\"./images/banner.png\" width=\"800\">"
   ]
  },
  {
   "cell_type": "markdown",
   "metadata": {},
   "source": [
    "#  Built-in Functions in Python"
   ]
  },
  {
   "cell_type": "markdown",
   "metadata": {},
   "source": [
    "Welcome to the lecture on Built-in Functions in Python! In this session, we will dive into the rich set of functions that Python provides right out of the box. These built-in functions are an integral part of Python programming and are readily available for you to use without the need to import any additional modules or define your own functions.\n"
   ]
  },
  {
   "cell_type": "markdown",
   "metadata": {},
   "source": [
    "Built-in functions are a core feature of Python that can help you perform common tasks efficiently and effectively. They are implemented in the Python language at a low level, offering optimized performance and reliability. By mastering these functions, you will be able to write code that is not only faster to execute but also more concise and easier to read. This can lead to significant time savings in both coding and debugging."
   ]
  },
  {
   "cell_type": "markdown",
   "metadata": {},
   "source": [
    "Built-in functions cover a wide range of functionalities, from type conversion and data aggregation to complex mathematical calculations. They are designed to work with Python's data types and data structures, providing a seamless coding experience. Knowing when and how to use these functions will greatly enhance your ability to solve programming problems and allow you to fully leverage Python's capabilities as a programming language.\n"
   ]
  },
  {
   "cell_type": "markdown",
   "metadata": {},
   "source": [
    "Throughout this lecture, we will explore some of the most commonly used built-in functions in Python. You will learn how to:\n",
    "\n",
    "- Manipulate numerical data with functions like `abs()`, `sum()`, `min()`, `max()`, and `round()`.\n",
    "- Work with iterable data types using functions such as `len()`, `range()`, `sorted()`, `filter()`, and `map()`.\n",
    "- Convert between different data types with conversion functions like `int()`, `float()`, `str()`, and `list()`.\n",
    "- Interact with the underlying Python environment using functions such as `input()`, `print()`, and `help()`.\n"
   ]
  },
  {
   "cell_type": "markdown",
   "metadata": {},
   "source": [
    "By the end of this lecture, you will have a solid understanding of these functions and be equipped to use them in a variety of programming contexts. With practical examples and exercises, you will gain the confidence to apply these built-in functions to solve real-world problems in your Python projects. Let's get started and unlock the power of Python's built-in functions!"
   ]
  },
  {
   "cell_type": "markdown",
   "metadata": {},
   "source": [
    "**Table of contents**<a id='toc0_'></a>    \n",
    "- [Common Types of Built-in Functions](#toc1_)    \n",
    "  - [Numeric Functions](#toc1_1_)    \n",
    "  - [String Functions](#toc1_2_)    \n",
    "  - [Iteration Functions](#toc1_3_)    \n",
    "- [Best Practices When Using Built-in Functions](#toc2_)    \n",
    "  - [Efficiency Considerations](#toc2_1_)    \n",
    "  - [Readability and Maintainability](#toc2_2_)    \n",
    "- [Practice Exercise](#toc3_)    \n",
    "  - [Solution](#toc3_1_)    \n",
    "\n",
    "<!-- vscode-jupyter-toc-config\n",
    "\tnumbering=false\n",
    "\tanchor=true\n",
    "\tflat=false\n",
    "\tminLevel=2\n",
    "\tmaxLevel=6\n",
    "\t/vscode-jupyter-toc-config -->\n",
    "<!-- THIS CELL WILL BE REPLACED ON TOC UPDATE. DO NOT WRITE YOUR TEXT IN THIS CELL -->"
   ]
  },
  {
   "cell_type": "markdown",
   "metadata": {},
   "source": [
    "## <a id='toc1_'></a>[Common Types of Built-in Functions](#toc0_)"
   ]
  },
  {
   "cell_type": "markdown",
   "metadata": {},
   "source": [
    "Python's built-in functions can be categorized based on the types of operations they perform and the data types they typically interact with. In this section, we will discuss three fundamental categories: Numeric Functions, String Functions, and Iteration Functions.\n"
   ]
  },
  {
   "cell_type": "markdown",
   "metadata": {},
   "source": [
    "### <a id='toc1_1_'></a>[Numeric Functions](#toc0_)\n"
   ]
  },
  {
   "cell_type": "markdown",
   "metadata": {},
   "source": [
    "Python offers a variety of built-in functions designed to handle numerical data, making it easy to perform mathematical operations and calculations. Understanding these functions is crucial for any Python programmer, especially when dealing with data analysis, scientific computing, or any task that requires mathematical computation.\n"
   ]
  },
  {
   "cell_type": "markdown",
   "metadata": {},
   "source": [
    "Some of the key numeric functions include:\n",
    "\n",
    "- `abs()`: Returns the absolute value of a number, which is the number's distance from zero on the number line.\n",
    "- `sum()`: Calculates the total sum of all items in an iterable, such as a list or a tuple.\n",
    "- `min()` and `max()`: Return the smallest and largest items in an iterable, respectively.\n",
    "- `round()`: Rounds a floating-point number to a specified number of decimal places, or to the nearest integer if no number of places is specified.\n",
    "- `pow()`: Raises a number to the power of another number, similar to the exponentiation operator (`**`).\n"
   ]
  },
  {
   "cell_type": "markdown",
   "metadata": {},
   "source": [
    "Here's an example of using some numeric functions in Python:\n"
   ]
  },
  {
   "cell_type": "code",
   "execution_count": 1,
   "metadata": {},
   "outputs": [],
   "source": [
    "numbers = [2, -5, 3.5, 4]"
   ]
  },
  {
   "cell_type": "code",
   "execution_count": 2,
   "metadata": {},
   "outputs": [
    {
     "data": {
      "text/plain": [
       "[2, 5, 3.5, 4]"
      ]
     },
     "execution_count": 2,
     "metadata": {},
     "output_type": "execute_result"
    }
   ],
   "source": [
    "# Get the absolute value of each number\n",
    "[abs(num) for num in numbers]"
   ]
  },
  {
   "cell_type": "code",
   "execution_count": 3,
   "metadata": {},
   "outputs": [
    {
     "data": {
      "text/plain": [
       "4.5"
      ]
     },
     "execution_count": 3,
     "metadata": {},
     "output_type": "execute_result"
    }
   ],
   "source": [
    "# Sum all numbers\n",
    "sum(numbers)"
   ]
  },
  {
   "cell_type": "code",
   "execution_count": 4,
   "metadata": {},
   "outputs": [
    {
     "data": {
      "text/plain": [
       "(-5, 4)"
      ]
     },
     "execution_count": 4,
     "metadata": {},
     "output_type": "execute_result"
    }
   ],
   "source": [
    "# Find the smallest and largest numbers\n",
    "min(numbers), max(numbers)"
   ]
  },
  {
   "cell_type": "code",
   "execution_count": 5,
   "metadata": {},
   "outputs": [
    {
     "data": {
      "text/plain": [
       "[2, -5, 4, 4]"
      ]
     },
     "execution_count": 5,
     "metadata": {},
     "output_type": "execute_result"
    }
   ],
   "source": [
    "# Round each number to the nearest integer\n",
    "[round(num) for num in numbers]"
   ]
  },
  {
   "cell_type": "markdown",
   "metadata": {},
   "source": [
    "### <a id='toc1_2_'></a>[String Functions](#toc0_)\n"
   ]
  },
  {
   "cell_type": "markdown",
   "metadata": {},
   "source": [
    "Python also includes built-in functions that are specifically designed for string manipulation. These functions make it easy to format, modify, and query string data.\n"
   ]
  },
  {
   "cell_type": "markdown",
   "metadata": {},
   "source": [
    "Important string functions include:\n",
    "\n",
    "- `len()`: Returns the length of a string, which is the number of characters it contains.\n",
    "- `str()`: Converts an object to its string representation.\n"
   ]
  },
  {
   "cell_type": "markdown",
   "metadata": {},
   "source": [
    "Here's an example of using string functions:\n"
   ]
  },
  {
   "cell_type": "code",
   "execution_count": 6,
   "metadata": {},
   "outputs": [],
   "source": [
    "text = \"Hello, Python!\""
   ]
  },
  {
   "cell_type": "code",
   "execution_count": 7,
   "metadata": {},
   "outputs": [
    {
     "data": {
      "text/plain": [
       "14"
      ]
     },
     "execution_count": 7,
     "metadata": {},
     "output_type": "execute_result"
    }
   ],
   "source": [
    "# Get the length of the string\n",
    "len(text)"
   ]
  },
  {
   "cell_type": "code",
   "execution_count": 8,
   "metadata": {},
   "outputs": [
    {
     "data": {
      "text/plain": [
       "'42'"
      ]
     },
     "execution_count": 8,
     "metadata": {},
     "output_type": "execute_result"
    }
   ],
   "source": [
    "# Convert a number to a string\n",
    "str(42)"
   ]
  },
  {
   "cell_type": "markdown",
   "metadata": {},
   "source": [
    "### <a id='toc1_3_'></a>[Iteration Functions](#toc0_)\n"
   ]
  },
  {
   "cell_type": "markdown",
   "metadata": {},
   "source": [
    "When working with iterable objects like lists, tuples, and dictionaries, Python provides several functions to facilitate iteration and data manipulation.\n"
   ]
  },
  {
   "cell_type": "markdown",
   "metadata": {},
   "source": [
    "Some of these iteration functions are:\n",
    "\n",
    "- `range()`: Generates a sequence of numbers, which is often used in for-loops for iteration.\n",
    "- `sorted()`: Returns a new sorted list from the elements of any iterable.\n",
    "- `filter()`: Constructs an iterator from elements of an iterable for which a function returns true.\n",
    "- `map()`: Applies a given function to each item of an iterable and returns a list of the results.\n",
    "- `zip()`: Combines elements from multiple iterables into tuples.\n"
   ]
  },
  {
   "cell_type": "markdown",
   "metadata": {},
   "source": [
    "An example of iteration functions in action:\n"
   ]
  },
  {
   "cell_type": "code",
   "execution_count": 11,
   "metadata": {},
   "outputs": [],
   "source": [
    "# Generate a range of numbers from 0 to 9\n",
    "numbers = range(10)"
   ]
  },
  {
   "cell_type": "code",
   "execution_count": 12,
   "metadata": {},
   "outputs": [
    {
     "data": {
      "text/plain": [
       "[9, 8, 7, 6, 5, 4, 3, 2, 1, 0]"
      ]
     },
     "execution_count": 12,
     "metadata": {},
     "output_type": "execute_result"
    }
   ],
   "source": [
    "# Sort a list of numbers in descending order\n",
    "sorted(numbers, reverse=True)\n"
   ]
  },
  {
   "cell_type": "code",
   "execution_count": 13,
   "metadata": {},
   "outputs": [
    {
     "data": {
      "text/plain": [
       "[6, 7, 8, 9]"
      ]
     },
     "execution_count": 13,
     "metadata": {},
     "output_type": "execute_result"
    }
   ],
   "source": [
    "# Filter out numbers greater than 5\n",
    "list(filter(lambda x: x > 5, numbers))\n"
   ]
  },
  {
   "cell_type": "code",
   "execution_count": 14,
   "metadata": {},
   "outputs": [
    {
     "data": {
      "text/plain": [
       "[0, 1, 4, 9, 16, 25, 36, 49, 64, 81]"
      ]
     },
     "execution_count": 14,
     "metadata": {},
     "output_type": "execute_result"
    }
   ],
   "source": [
    "# Square each number using map\n",
    "list(map(lambda x: x**2, numbers))\n"
   ]
  },
  {
   "cell_type": "code",
   "execution_count": 15,
   "metadata": {},
   "outputs": [],
   "source": [
    "# Combine two lists into a list of tuples\n",
    "names = ['Alice', 'Bob', 'Charlie']\n",
    "ages = [25, 30, 35]\n",
    "combined = zip(names, ages)"
   ]
  },
  {
   "cell_type": "code",
   "execution_count": 16,
   "metadata": {},
   "outputs": [
    {
     "data": {
      "text/plain": [
       "[('Alice', 25), ('Bob', 30), ('Charlie', 35)]"
      ]
     },
     "execution_count": 16,
     "metadata": {},
     "output_type": "execute_result"
    }
   ],
   "source": [
    "list(combined)"
   ]
  },
  {
   "cell_type": "markdown",
   "metadata": {},
   "source": [
    "Understanding these common types of built-in functions will enable you to handle a wide range of programming tasks more effectively. In the following sections, we will delve deeper into how these functions can be used with different data types and in various scenarios."
   ]
  },
  {
   "cell_type": "markdown",
   "metadata": {},
   "source": [
    "## <a id='toc2_'></a>[Best Practices When Using Built-in Functions](#toc0_)"
   ]
  },
  {
   "cell_type": "markdown",
   "metadata": {},
   "source": [
    "Python's built-in functions are powerful tools, but like any tool, they should be used thoughtfully to maximize their effectiveness. Here are some best practices to consider when incorporating built-in functions into your code, particularly focusing on efficiency and the readability and maintainability of your code.\n"
   ]
  },
  {
   "cell_type": "markdown",
   "metadata": {},
   "source": [
    "### <a id='toc2_1_'></a>[Efficiency Considerations](#toc0_)\n"
   ]
  },
  {
   "cell_type": "markdown",
   "metadata": {},
   "source": [
    "Efficiency in programming can refer to the speed of execution, the memory usage, or the overall performance of the code. When using built-in functions, keep the following in mind:\n",
    "\n",
    "- **Use the Right Tool for the Job**: Built-in functions are optimized for specific tasks. Using them appropriately can lead to significant performance gains. For example, `sorted()` is efficient for sorting, while `min()` and `max()` are efficient for finding the smallest and largest items.\n",
    "\n",
    "- **Leverage Lazy Evaluation**: Functions like `map()` and `filter()` return iterators, which are lazily evaluated. This means that data is processed on-the-fly as you iterate, which can save memory when dealing with large datasets.\n",
    "\n",
    "- **Beware of Unnecessary Copies**: Some functions return new objects, which can be inefficient if the original object is large. For instance, `sorted()` returns a new list, unlike the `.sort()` method which sorts a list in place.\n",
    "\n",
    "- **Combine Functions Judiciously**: Chaining multiple functions can be powerful, but it can also lead to reduced performance if not done carefully. Always consider if there is a simpler, more direct way to achieve the same result.\n"
   ]
  },
  {
   "cell_type": "markdown",
   "metadata": {},
   "source": [
    "### <a id='toc2_2_'></a>[Readability and Maintainability](#toc0_)\n"
   ]
  },
  {
   "cell_type": "markdown",
   "metadata": {},
   "source": [
    "The clarity of your code affects not only your ability to understand and modify it, but also the ease with which others can collaborate with you.\n",
    "\n",
    "- **Prefer Readable Code Over Clever Code**: While it might be tempting to write compact code using a clever combination of functions, prioritize readability. Clear code is easier to maintain and debug.\n",
    "\n",
    "- **Use Built-in Functions to Simplify Code**: Many built-in functions can replace more complex loops and conditional logic, leading to more concise and readable code. For example, using `any()` or `all()` can often make code easier to understand than a complex series of `if` statements.\n",
    "\n",
    "- **Follow the Principle of Least Surprise**: Write code that uses built-in functions in expected ways. Unconventional use of these functions can lead to confusion and errors.\n",
    "\n",
    "- **Document Non-Obvious Uses of Functions**: If you use a built-in function in a non-standard way, or if the reason for its use isn’t immediately clear, add a comment explaining why it was necessary.\n"
   ]
  },
  {
   "cell_type": "markdown",
   "metadata": {},
   "source": [
    "Here's an example of applying these best practices in Python:\n"
   ]
  },
  {
   "cell_type": "code",
   "execution_count": 17,
   "metadata": {},
   "outputs": [],
   "source": [
    "# Example: Combine elements from two lists if they are not None\n",
    "names = [\"Alice\", None, \"Charlie\", \"Diana\"]\n",
    "ages = [25, 30, None, 22]"
   ]
  },
  {
   "cell_type": "code",
   "execution_count": 18,
   "metadata": {},
   "outputs": [],
   "source": [
    "# Clear and readable use of zip() and a list comprehension\n",
    "combined_list = [(name, age) for name, age in zip(names, ages) if name is not None and age is not None]"
   ]
  },
  {
   "cell_type": "code",
   "execution_count": 19,
   "metadata": {},
   "outputs": [
    {
     "data": {
      "text/plain": [
       "[('Alice', 25), ('Diana', 22)]"
      ]
     },
     "execution_count": 19,
     "metadata": {},
     "output_type": "execute_result"
    }
   ],
   "source": [
    "combined_list"
   ]
  },
  {
   "cell_type": "markdown",
   "metadata": {},
   "source": [
    "In this example, `zip()` is used to combine the lists, and a list comprehension with clear conditions ensures that only valid pairs are included. The code is efficient, readable, and maintainable.\n"
   ]
  },
  {
   "cell_type": "markdown",
   "metadata": {},
   "source": [
    "By keeping efficiency and readability in mind, you'll write Python code that not only performs well but also stands the test of time as a clean, robust, and collaborative project."
   ]
  },
  {
   "cell_type": "markdown",
   "metadata": {},
   "source": [
    "<img src=\"../images/exercise-banner.gif\" width=\"800\">"
   ]
  },
  {
   "cell_type": "markdown",
   "metadata": {},
   "source": [
    "## <a id='toc3_'></a>[Practice Exercise](#toc0_)"
   ]
  },
  {
   "cell_type": "markdown",
   "metadata": {},
   "source": [
    "In this exercise, you will apply the knowledge you've gained about Python's built-in functions. Python provides a variety of built-in functions that can perform common tasks on various data types, such as strings, numbers, and lists. These functions are always available and do not require any additional imports, making them highly convenient for everyday coding tasks.\n"
   ]
  },
  {
   "cell_type": "markdown",
   "metadata": {},
   "source": [
    "Your challenge is to use the appropriate built-in functions to handle different data types and achieve specific outcomes. Below are the tasks that will test your understanding and ability to apply built-in functions effectively.\n"
   ]
  },
  {
   "cell_type": "markdown",
   "metadata": {},
   "source": [
    "**Given Data:**\n"
   ]
  },
  {
   "cell_type": "code",
   "execution_count": 20,
   "metadata": {},
   "outputs": [],
   "source": [
    "text = \"The quick brown fox jumps over the lazy dog\"\n",
    "numbers_list = [8, 23, 45, 12, 78]\n",
    "mixed_list = [\"hello\", 10, \"world\", 42]"
   ]
  },
  {
   "cell_type": "markdown",
   "metadata": {},
   "source": [
    "**Tasks:**\n",
    "\n",
    "1. **String Analysis**:\n",
    "   - Find and print the number of characters in the `text` string using a built-in function.\n",
    "   - Convert the `text` string to uppercase and print the result.\n",
    "\n",
    "2. **Numeric Calculations**:\n",
    "   - Calculate and print the sum of all the numbers in `numbers_list`.\n",
    "   - Find and print the maximum and minimum numbers in `numbers_list`.\n",
    "\n",
    "3. **List Manipulation**:\n",
    "   - Use a built-in function to count the number of times the number `10` appears in `mixed_list`.\n",
    "   - Print a sorted version of `numbers_list` in descending order without modifying the original list.\n",
    "\n",
    "4. **Iterating with Built-in Functions**:\n",
    "   - Use a built-in function to iterate over `text` and print each word, but only if the word is not \"the\".\n",
    "   - Apply a built-in function to `numbers_list` to create a new list where each number is squared (i.e., number^2). Print the new list.\n"
   ]
  },
  {
   "cell_type": "markdown",
   "metadata": {},
   "source": [
    "**Expected Output:**\n",
    "```bash\n",
    "Number of characters: 43\n",
    "Uppercase text: THE QUICK BROWN FOX JUMPS OVER THE LAZY DOG\n",
    "Sum of numbers: 166\n",
    "Maximum number: 78\n",
    "Minimum number: 8\n",
    "Occurrences of 10: 1\n",
    "Sorted numbers (descending): [78, 45, 23, 12, 8]\n",
    "Iterated words (excluding 'the'): quick, brown, fox, jumps, over, lazy, dog\n",
    "Squared numbers: [64, 529, 2025, 144, 6084]\n",
    "```\n"
   ]
  },
  {
   "cell_type": "markdown",
   "metadata": {},
   "source": [
    "Use this exercise to strengthen your understanding of when and how to use built-in functions in Python. Remember, built-in functions are designed to make your code more readable and efficient. Make sure to test your code after you write it to ensure it produces the correct output."
   ]
  },
  {
   "cell_type": "markdown",
   "metadata": {},
   "source": [
    "### <a id='toc3_1_'></a>[Solution](#toc0_)\n",
    "\n",
    "Here's a solution for the exercise, demonstrating how to use various built-in functions in Python to accomplish the tasks provided:"
   ]
  },
  {
   "cell_type": "code",
   "execution_count": 21,
   "metadata": {},
   "outputs": [],
   "source": [
    "# Given data\n",
    "text = \"The quick brown fox jumps over the lazy dog\"\n",
    "numbers_list = [8, 23, 45, 12, 78]\n",
    "mixed_list = [\"hello\", 10, \"world\", 42]"
   ]
  },
  {
   "cell_type": "code",
   "execution_count": 22,
   "metadata": {},
   "outputs": [
    {
     "name": "stdout",
     "output_type": "stream",
     "text": [
      "Number of characters: 43\n",
      "Uppercase text: THE QUICK BROWN FOX JUMPS OVER THE LAZY DOG\n"
     ]
    }
   ],
   "source": [
    "# Task 1: String Analysis\n",
    "# Find and print the number of characters in the text string\n",
    "print(f\"Number of characters: {len(text)}\")\n",
    "\n",
    "# Convert the text string to uppercase and print the result\n",
    "print(f\"Uppercase text: {text.upper()}\")"
   ]
  },
  {
   "cell_type": "code",
   "execution_count": 23,
   "metadata": {},
   "outputs": [
    {
     "name": "stdout",
     "output_type": "stream",
     "text": [
      "Sum of numbers: 166\n",
      "Maximum number: 78\n",
      "Minimum number: 8\n"
     ]
    }
   ],
   "source": [
    "# Task 2: Numeric Calculations\n",
    "# Calculate and print the sum of all the numbers in numbers_list\n",
    "print(f\"Sum of numbers: {sum(numbers_list)}\")\n",
    "\n",
    "# Find and print the maximum and minimum numbers in numbers_list\n",
    "print(f\"Maximum number: {max(numbers_list)}\")\n",
    "print(f\"Minimum number: {min(numbers_list)}\")"
   ]
  },
  {
   "cell_type": "code",
   "execution_count": 24,
   "metadata": {},
   "outputs": [
    {
     "name": "stdout",
     "output_type": "stream",
     "text": [
      "Occurrences of 10: 1\n",
      "Sorted numbers (descending): [78, 45, 23, 12, 8]\n"
     ]
    }
   ],
   "source": [
    "# Task 3: List Manipulation\n",
    "# Use a built-in function to count the number of times the number 10 appears in mixed_list\n",
    "print(f\"Occurrences of 10: {mixed_list.count(10)}\")\n",
    "\n",
    "# Print a sorted version of numbers_list in descending order without modifying the original list\n",
    "print(f\"Sorted numbers (descending): {sorted(numbers_list, reverse=True)}\")"
   ]
  },
  {
   "cell_type": "code",
   "execution_count": 25,
   "metadata": {},
   "outputs": [
    {
     "name": "stdout",
     "output_type": "stream",
     "text": [
      "Iterated words (excluding 'the'): quick, brown, fox, jumps, over, lazy, dog, \n",
      "Squared numbers: [64, 529, 2025, 144, 6084]\n"
     ]
    }
   ],
   "source": [
    "# Task 4: Iterating with Built-in Functions\n",
    "# Use a built-in function to iterate over text and print each word, but only if the word is not \"the\"\n",
    "print(\"Iterated words (excluding 'the'):\", end=\" \")\n",
    "for word in filter(lambda w: w.lower() != \"the\", text.split()):\n",
    "    print(word, end=\", \")\n",
    "print()\n",
    "\n",
    "# Apply a built-in function to numbers_list to create a new list where each number is squared\n",
    "squared_numbers = list(map(lambda x: x**2, numbers_list))\n",
    "print(f\"Squared numbers: {squared_numbers}\")"
   ]
  },
  {
   "cell_type": "markdown",
   "metadata": {},
   "source": [
    "When you run this code, it will use built-in functions such as `len`, `sum`, `max`, `min`, `count`, `sorted`, `filter`, and `map` to perform the operations specified in the tasks. Test each task to verify that the output matches the expected results in the exercise prompt."
   ]
  }
 ],
 "metadata": {
  "kernelspec": {
   "display_name": "py310",
   "language": "python",
   "name": "python3"
  },
  "language_info": {
   "codemirror_mode": {
    "name": "ipython",
    "version": 3
   },
   "file_extension": ".py",
   "mimetype": "text/x-python",
   "name": "python",
   "nbconvert_exporter": "python",
   "pygments_lexer": "ipython3",
   "version": "3.10.12"
  }
 },
 "nbformat": 4,
 "nbformat_minor": 2
}
