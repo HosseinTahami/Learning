{
 "cells": [
  {
   "cell_type": "markdown",
   "metadata": {},
   "source": [
    "<img src=\"./images/banner.png\" width=\"800\">"
   ]
  },
  {
   "cell_type": "markdown",
   "metadata": {},
   "source": [
    "# Function Return Values in Python"
   ]
  },
  {
   "cell_type": "markdown",
   "metadata": {},
   "source": [
    "Imagine you're organizing a small library at home. You have a function `find_book` that looks for a book by its title and returns whether you own the book. This scenario perfectly illustrates the power of function return values in Python: enabling us to use the output of a function to make decisions, perform further operations, or communicate results to the user.\n"
   ]
  },
  {
   "cell_type": "markdown",
   "metadata": {},
   "source": [
    "Let's dive into a simple Python example to bring this concept to life:\n"
   ]
  },
  {
   "cell_type": "code",
   "execution_count": 1,
   "metadata": {},
   "outputs": [],
   "source": [
    "def find_book(title):\n",
    "    # Simulating a list of books we own\n",
    "    my_books = ['Python Basics', 'Advanced Python', 'Data Science with Python']\n",
    "    if title in my_books:\n",
    "        return True\n",
    "    else:\n",
    "        return False"
   ]
  },
  {
   "cell_type": "code",
   "execution_count": 2,
   "metadata": {},
   "outputs": [
    {
     "name": "stdout",
     "output_type": "stream",
     "text": [
      "The book 'Python Basics' is on the shelf.\n"
     ]
    }
   ],
   "source": [
    "# Using the functions\n",
    "book_title = 'Python Basics'\n",
    "if find_book(book_title):\n",
    "    print(f\"The book '{book_title}' is on the shelf.\")\n",
    "else:\n",
    "    print(f\"The book '{book_title}' is not in our collection.\")"
   ]
  },
  {
   "cell_type": "markdown",
   "metadata": {},
   "source": [
    "In this example, the `find_book` function searches for a book title in a list of books we own. It returns a boolean value: `True` if the book is found and `False` otherwise. We then use the return value to print a message to the user.\n"
   ]
  },
  {
   "cell_type": "markdown",
   "metadata": {},
   "source": [
    "This lecture will explore how to efficiently exit functions, return data to the caller, handle functions with multiple return statements, return multiple values, and understand the default return value of a function. Through these concepts, you'll learn how to craft functions that not only perform specific tasks but also communicate outcomes effectively, enhancing the interactivity and functionality of your Python programs."
   ]
  },
  {
   "cell_type": "markdown",
   "metadata": {},
   "source": [
    "**Table of contents**<a id='toc0_'></a>    \n",
    "- [Returning Data to the Caller](#toc1_)    \n",
    "  - [Returning a Single Value](#toc1_1_)    \n",
    "  - [Returning Multiple Values](#toc1_2_)    \n",
    "  - [Default Return Value](#toc1_3_)    \n",
    "  - [Printing vs. Returning a Value](#toc1_4_)    \n",
    "- [Exiting a Function](#toc2_)    \n",
    "  - [Immediate Exit with `return`](#toc2_1_)    \n",
    "  - [Using `return` for Control Flow](#toc2_2_)    \n",
    "  - [Functions with Multiple Return Statements](#toc2_3_)    \n",
    "- [Best Practices and Common Mistakes](#toc3_)    \n",
    "- [Practice Exercise: Temperature Conversion Tool with Data Validation](#toc4_)    \n",
    "  - [Solution](#toc4_1_)    \n",
    "\n",
    "<!-- vscode-jupyter-toc-config\n",
    "\tnumbering=false\n",
    "\tanchor=true\n",
    "\tflat=false\n",
    "\tminLevel=2\n",
    "\tmaxLevel=6\n",
    "\t/vscode-jupyter-toc-config -->\n",
    "<!-- THIS CELL WILL BE REPLACED ON TOC UPDATE. DO NOT WRITE YOUR TEXT IN THIS CELL -->"
   ]
  },
  {
   "cell_type": "markdown",
   "metadata": {},
   "source": [
    "## <a id='toc1_'></a>[Returning Data to the Caller](#toc0_)"
   ]
  },
  {
   "cell_type": "markdown",
   "metadata": {},
   "source": [
    "Functions in Python are mechanisms not only for grouping and executing operations but also for communicating results back to the caller. This communication is facilitated through the use of the `return` statement. Let's dive deeper into returning data from functions, including the pivotal difference between printing and returning values.\n"
   ]
  },
  {
   "cell_type": "markdown",
   "metadata": {},
   "source": [
    "### <a id='toc1_1_'></a>[Returning a Single Value](#toc0_)\n"
   ]
  },
  {
   "cell_type": "markdown",
   "metadata": {},
   "source": [
    "A function can directly return a single value. This value can be of any type: a number, a string, a list, etc.\n"
   ]
  },
  {
   "cell_type": "markdown",
   "metadata": {},
   "source": [
    "**Example 1: Returning a simple string**\n"
   ]
  },
  {
   "cell_type": "code",
   "execution_count": 3,
   "metadata": {},
   "outputs": [],
   "source": [
    "def get_greeting(name):\n",
    "    return f\"Hello, {name}!\""
   ]
  },
  {
   "cell_type": "code",
   "execution_count": 4,
   "metadata": {},
   "outputs": [
    {
     "data": {
      "text/plain": [
       "'Hello, John!'"
      ]
     },
     "execution_count": 4,
     "metadata": {},
     "output_type": "execute_result"
    }
   ],
   "source": [
    "greeting = get_greeting(\"John\")\n",
    "greeting"
   ]
  },
  {
   "cell_type": "markdown",
   "metadata": {},
   "source": [
    "**Example 2: Returning the sum of two numbers**\n"
   ]
  },
  {
   "cell_type": "code",
   "execution_count": 5,
   "metadata": {},
   "outputs": [],
   "source": [
    "def add_numbers(a, b):\n",
    "    return a + b\n"
   ]
  },
  {
   "cell_type": "code",
   "execution_count": 6,
   "metadata": {},
   "outputs": [
    {
     "data": {
      "text/plain": [
       "8"
      ]
     },
     "execution_count": 6,
     "metadata": {},
     "output_type": "execute_result"
    }
   ],
   "source": [
    "sum_result = add_numbers(5, 3)\n",
    "sum_result"
   ]
  },
  {
   "cell_type": "markdown",
   "metadata": {},
   "source": [
    "### <a id='toc1_2_'></a>[Returning Multiple Values](#toc0_)\n"
   ]
  },
  {
   "cell_type": "markdown",
   "metadata": {},
   "source": [
    "Python uniquely allows returning multiple values from a function. These values are packaged into a tuple, enabling you to unpack them into separate variables.\n"
   ]
  },
  {
   "cell_type": "markdown",
   "metadata": {},
   "source": [
    "**Example 1: Returning multiple string values**\n"
   ]
  },
  {
   "cell_type": "code",
   "execution_count": 7,
   "metadata": {},
   "outputs": [],
   "source": [
    "def get_first_last_name(name):\n",
    "    first_name, last_name = name.split(\" \")\n",
    "    return first_name, last_name"
   ]
  },
  {
   "cell_type": "code",
   "execution_count": 8,
   "metadata": {},
   "outputs": [
    {
     "data": {
      "text/plain": [
       "('Jane', 'Doe')"
      ]
     },
     "execution_count": 8,
     "metadata": {},
     "output_type": "execute_result"
    }
   ],
   "source": [
    "first, last = get_first_last_name(\"Jane\", \"Doe\")\n",
    "first, last"
   ]
  },
  {
   "cell_type": "markdown",
   "metadata": {},
   "source": [
    "**Example 2: Calculating and returning multiple operations**\n"
   ]
  },
  {
   "cell_type": "code",
   "execution_count": 9,
   "metadata": {},
   "outputs": [],
   "source": [
    "def arithmetic_operations(a, b):\n",
    "    return a+b, a-b, a*b, a/b"
   ]
  },
  {
   "cell_type": "code",
   "execution_count": 10,
   "metadata": {},
   "outputs": [
    {
     "name": "stdout",
     "output_type": "stream",
     "text": [
      "Add: 12, Subtract: 8, Multiply: 20, Divide: 5.0\n"
     ]
    }
   ],
   "source": [
    "add, subtract, multiply, divide = arithmetic_operations(10, 2)\n",
    "print(f\"Add: {add}, Subtract: {subtract}, Multiply: {multiply}, Divide: {divide}\")"
   ]
  },
  {
   "cell_type": "markdown",
   "metadata": {},
   "source": [
    "### <a id='toc1_3_'></a>[Default Return Value](#toc0_)\n"
   ]
  },
  {
   "cell_type": "markdown",
   "metadata": {},
   "source": [
    "If a function exits without hitting a `return` statement, or if it uses a `return` with no value, Python implicitly returns `None`.\n"
   ]
  },
  {
   "cell_type": "markdown",
   "metadata": {},
   "source": [
    "**Example: A function without a return value**\n"
   ]
  },
  {
   "cell_type": "code",
   "execution_count": 11,
   "metadata": {},
   "outputs": [],
   "source": [
    "def say_hello(name):\n",
    "    print(f\"Hello, {name}!\")"
   ]
  },
  {
   "cell_type": "code",
   "execution_count": 12,
   "metadata": {},
   "outputs": [
    {
     "name": "stdout",
     "output_type": "stream",
     "text": [
      "Hello, Alice!\n"
     ]
    }
   ],
   "source": [
    "result = say_hello(\"Alice\")\n",
    "# The function does not return anything, so the result is None\n",
    "# Note that print is not a return statement, it just prints to the console"
   ]
  },
  {
   "cell_type": "code",
   "execution_count": 13,
   "metadata": {},
   "outputs": [
    {
     "name": "stdout",
     "output_type": "stream",
     "text": [
      "None\n"
     ]
    }
   ],
   "source": [
    "print(result)"
   ]
  },
  {
   "cell_type": "markdown",
   "metadata": {},
   "source": [
    "### <a id='toc1_4_'></a>[Printing vs. Returning a Value](#toc0_)\n"
   ]
  },
  {
   "cell_type": "markdown",
   "metadata": {},
   "source": [
    "Understanding the difference between printing and returning a value is crucial. Printing displays the value to the console, but does not \"send\" the value back to the caller. Returning, on the other hand, sends the value back to the caller, allowing the returned data to be further manipulated or used by the program.\n"
   ]
  },
  {
   "cell_type": "markdown",
   "metadata": {},
   "source": [
    "**Example of Printing**\n"
   ]
  },
  {
   "cell_type": "code",
   "execution_count": 14,
   "metadata": {},
   "outputs": [
    {
     "name": "stdout",
     "output_type": "stream",
     "text": [
      "Hello, World!\n"
     ]
    }
   ],
   "source": [
    "def print_hello():\n",
    "    print(\"Hello, World!\")\n",
    "\n",
    "print_hello()\n",
    "# The function itself does not return anything"
   ]
  },
  {
   "cell_type": "code",
   "execution_count": 15,
   "metadata": {},
   "outputs": [
    {
     "name": "stdout",
     "output_type": "stream",
     "text": [
      "Hello, World!\n"
     ]
    }
   ],
   "source": [
    "output = print_hello()"
   ]
  },
  {
   "cell_type": "code",
   "execution_count": 16,
   "metadata": {},
   "outputs": [
    {
     "name": "stdout",
     "output_type": "stream",
     "text": [
      "None\n"
     ]
    }
   ],
   "source": [
    "print(output)"
   ]
  },
  {
   "cell_type": "markdown",
   "metadata": {},
   "source": [
    "**Example of Returning**\n"
   ]
  },
  {
   "cell_type": "code",
   "execution_count": 17,
   "metadata": {},
   "outputs": [
    {
     "name": "stdout",
     "output_type": "stream",
     "text": [
      "Hello, World!\n"
     ]
    }
   ],
   "source": [
    "def return_hello():\n",
    "    return \"Hello, World!\"\n",
    "\n",
    "greeting = return_hello()\n",
    "print(greeting)\n",
    "# The greeting variable holds the returned value"
   ]
  },
  {
   "cell_type": "markdown",
   "metadata": {},
   "source": [
    "> **Key Difference**: When you `print` something, it is simply written on the console, and the function returns `None` by default. When you `return` something, it sends that value back to the code that called the function, allowing further interaction with the returned data.\n"
   ]
  },
  {
   "cell_type": "markdown",
   "metadata": {},
   "source": [
    "Returning data from functions allows for dynamic and interactive coding patterns. Whether returning a single value, multiple values, or understanding the implicit return of `None`, grasping these concepts is fundamental. Moreover, distinguishing between printing and returning is essential for effective function design, ensuring that your functions can not only perform operations but also communicate results for further processing."
   ]
  },
  {
   "cell_type": "markdown",
   "metadata": {},
   "source": [
    "## <a id='toc2_'></a>[Exiting a Function](#toc0_)"
   ]
  },
  {
   "cell_type": "markdown",
   "metadata": {},
   "source": [
    "In Python, the `return` statement is not merely a way to send data back to the caller; it also serves as a control tool within the function itself. Understanding how and when to exit a function is crucial for writing clean, efficient, and error-free code.\n"
   ]
  },
  {
   "cell_type": "markdown",
   "metadata": {},
   "source": [
    "### <a id='toc2_1_'></a>[Immediate Exit with `return`](#toc0_)\n"
   ]
  },
  {
   "cell_type": "markdown",
   "metadata": {},
   "source": [
    "A `return` statement, when executed, immediately terminates the function's execution and transfers control back to the caller. This can happen regardless of where the `return` statement is placed within the function body.\n"
   ]
  },
  {
   "cell_type": "markdown",
   "metadata": {},
   "source": [
    "Consider a simple function that demonstrates an immediate exit:\n"
   ]
  },
  {
   "cell_type": "code",
   "execution_count": 18,
   "metadata": {},
   "outputs": [],
   "source": [
    "def print_messages():\n",
    "    print('Start of messages')\n",
    "    return\n",
    "    print('End of messages')"
   ]
  },
  {
   "cell_type": "code",
   "execution_count": 19,
   "metadata": {},
   "outputs": [
    {
     "name": "stdout",
     "output_type": "stream",
     "text": [
      "Start of messages\n"
     ]
    }
   ],
   "source": [
    "print_messages()"
   ]
  },
  {
   "cell_type": "markdown",
   "metadata": {},
   "source": [
    "In this example, `print('End of messages')` is never reached due to the `return` statement causing an early exit from the function. This illustrates how `return` can effectively end a function's execution at any point.\n"
   ]
  },
  {
   "cell_type": "markdown",
   "metadata": {},
   "source": [
    "### <a id='toc2_2_'></a>[Using `return` for Control Flow](#toc0_)\n"
   ]
  },
  {
   "cell_type": "markdown",
   "metadata": {},
   "source": [
    "`return` statements are versatile and can be strategically placed to control the flow of execution within a function, especially for conditions such as error checking or validating inputs.\n"
   ]
  },
  {
   "cell_type": "markdown",
   "metadata": {},
   "source": [
    "**Example: Validating Input**\n"
   ]
  },
  {
   "cell_type": "markdown",
   "metadata": {},
   "source": [
    "Consider a function designed to process only positive numbers:\n"
   ]
  },
  {
   "cell_type": "code",
   "execution_count": 20,
   "metadata": {},
   "outputs": [],
   "source": [
    "def process_number(number):\n",
    "    if number < 0:\n",
    "        return \"Invalid input: Number is negative.\"\n",
    "    # Further processing for valid input\n",
    "    return f\"Processing number: {number}\""
   ]
  },
  {
   "cell_type": "code",
   "execution_count": 21,
   "metadata": {},
   "outputs": [
    {
     "data": {
      "text/plain": [
       "'Invalid input: Number is negative.'"
      ]
     },
     "execution_count": 21,
     "metadata": {},
     "output_type": "execute_result"
    }
   ],
   "source": [
    "process_number(-5)"
   ]
  },
  {
   "cell_type": "code",
   "execution_count": 22,
   "metadata": {},
   "outputs": [
    {
     "data": {
      "text/plain": [
       "'Processing number: 10'"
      ]
     },
     "execution_count": 22,
     "metadata": {},
     "output_type": "execute_result"
    }
   ],
   "source": [
    "process_number(10)"
   ]
  },
  {
   "cell_type": "markdown",
   "metadata": {},
   "source": [
    "In this scenario, the function checks if the input is negative. If so, it immediately exits, returning a message indicating invalid input. Otherwise, it proceeds with the intended processing.\n"
   ]
  },
  {
   "cell_type": "markdown",
   "metadata": {},
   "source": [
    "### <a id='toc2_3_'></a>[Functions with Multiple Return Statements](#toc0_)\n"
   ]
  },
  {
   "cell_type": "markdown",
   "metadata": {},
   "source": [
    "Functions can have multiple `return` statements, often used in conjunction with conditional logic to return different outcomes based on various conditions.\n"
   ]
  },
  {
   "cell_type": "markdown",
   "metadata": {},
   "source": [
    "**Example: Classifying Age Groups**\n"
   ]
  },
  {
   "cell_type": "code",
   "execution_count": 23,
   "metadata": {},
   "outputs": [],
   "source": [
    "def classify_age(age):\n",
    "    if age < 13:\n",
    "        return \"Child\"\n",
    "    elif age < 20:\n",
    "        return \"Teenager\"\n",
    "    elif age < 60:\n",
    "        return \"Adult\"\n",
    "    else:\n",
    "        return \"Senior\""
   ]
  },
  {
   "cell_type": "code",
   "execution_count": 24,
   "metadata": {},
   "outputs": [
    {
     "data": {
      "text/plain": [
       "'Child'"
      ]
     },
     "execution_count": 24,
     "metadata": {},
     "output_type": "execute_result"
    }
   ],
   "source": [
    "classify_age(12)"
   ]
  },
  {
   "cell_type": "code",
   "execution_count": 25,
   "metadata": {},
   "outputs": [
    {
     "data": {
      "text/plain": [
       "'Teenager'"
      ]
     },
     "execution_count": 25,
     "metadata": {},
     "output_type": "execute_result"
    }
   ],
   "source": [
    "classify_age(18)"
   ]
  },
  {
   "cell_type": "code",
   "execution_count": 26,
   "metadata": {},
   "outputs": [
    {
     "data": {
      "text/plain": [
       "'Adult'"
      ]
     },
     "execution_count": 26,
     "metadata": {},
     "output_type": "execute_result"
    }
   ],
   "source": [
    "classify_age(30)"
   ]
  },
  {
   "cell_type": "code",
   "execution_count": 27,
   "metadata": {},
   "outputs": [
    {
     "data": {
      "text/plain": [
       "'Senior'"
      ]
     },
     "execution_count": 27,
     "metadata": {},
     "output_type": "execute_result"
    }
   ],
   "source": [
    "classify_age(70)"
   ]
  },
  {
   "cell_type": "markdown",
   "metadata": {},
   "source": [
    "Each `return` statement corresponds to a different condition, allowing the function to exit as soon as a matching condition is found.\n"
   ]
  },
  {
   "cell_type": "markdown",
   "metadata": {},
   "source": [
    "Understanding how to effectively utilize the `return` statement for both exiting a function and controlling its flow is a fundamental aspect of Python programming. Not only does it enable you to write functions that can adapt to different inputs and conditions, but it also ensures that your functions can exit gracefully in scenarios where continuing execution is unnecessary or could lead to errors. By judiciously employing `return` statements, you can enhance the readability, maintainability, and reliability of your code."
   ]
  },
  {
   "cell_type": "markdown",
   "metadata": {},
   "source": [
    "## <a id='toc3_'></a>[Best Practices and Common Mistakes](#toc0_)"
   ]
  },
  {
   "cell_type": "markdown",
   "metadata": {},
   "source": [
    "Understanding how to manage function return values and control the exit points of a function is crucial for writing clean, efficient, and understandable Python code. Here's a guide on best practices, illustrated with examples.\n"
   ]
  },
  {
   "cell_type": "markdown",
   "metadata": {},
   "source": [
    "**1. Use `return` instead of `print` to communicate a value**\n",
    "It's a common mistake to use `print` instead of `return` to communicate a value from a function. While `print` simply displays the value on the console, `return` sends the value back to the caller, allowing further interaction with the returned data. Here's an example of the difference between the two:\n"
   ]
  },
  {
   "cell_type": "code",
   "execution_count": 28,
   "metadata": {},
   "outputs": [],
   "source": [
    "# Common mistake: Using print instead of return\n",
    "def add(a, b):\n",
    "    print(a + b)  # This prints the sum but doesn't return it."
   ]
  },
  {
   "cell_type": "code",
   "execution_count": 29,
   "metadata": {},
   "outputs": [
    {
     "name": "stdout",
     "output_type": "stream",
     "text": [
      "8\n"
     ]
    }
   ],
   "source": [
    "result = add(5, 3)"
   ]
  },
  {
   "cell_type": "code",
   "execution_count": 30,
   "metadata": {},
   "outputs": [
    {
     "name": "stdout",
     "output_type": "stream",
     "text": [
      "None\n"
     ]
    }
   ],
   "source": [
    "print(result)  # This will print 'None'."
   ]
  },
  {
   "cell_type": "code",
   "execution_count": 31,
   "metadata": {},
   "outputs": [],
   "source": [
    "# Good practice: Using return to communicate a value\n",
    "def add(a, b):\n",
    "    return a + b"
   ]
  },
  {
   "cell_type": "code",
   "execution_count": 32,
   "metadata": {},
   "outputs": [],
   "source": [
    "result = add(5, 3)"
   ]
  },
  {
   "cell_type": "code",
   "execution_count": 33,
   "metadata": {},
   "outputs": [
    {
     "name": "stdout",
     "output_type": "stream",
     "text": [
      "8\n"
     ]
    }
   ],
   "source": [
    "print(result)  # This will print '8'."
   ]
  },
  {
   "cell_type": "markdown",
   "metadata": {},
   "source": [
    "**2. Use `return` statements judiciously for control flow**\n"
   ]
  },
  {
   "cell_type": "markdown",
   "metadata": {},
   "source": [
    "While `return` statements are powerful for controlling the flow of a function, using them indiscriminately can lead to code that is hard to follow.\n"
   ]
  },
  {
   "cell_type": "code",
   "execution_count": 34,
   "metadata": {},
   "outputs": [],
   "source": [
    "# This function has Excesive and unnecessary use of return\n",
    "def process_user_input(input):\n",
    "    if not input:\n",
    "        return \"No input\"\n",
    "    if input == \"exit\":\n",
    "        return \"Exiting\"\n",
    "    return \"Input received\""
   ]
  },
  {
   "cell_type": "code",
   "execution_count": 35,
   "metadata": {},
   "outputs": [],
   "source": [
    "# This function uses return appropriately for control flow\n",
    "def process_user_input(input):\n",
    "    if not input or input == \"exit\":\n",
    "        return None\n",
    "    # Process the input here\n",
    "    return \"Input processed\""
   ]
  },
  {
   "cell_type": "markdown",
   "metadata": {},
   "source": [
    "**3. Early exits for error handling or input validation**\n"
   ]
  },
  {
   "cell_type": "markdown",
   "metadata": {},
   "source": [
    "Using early `return` statements to handle errors or validate inputs at the start of a function can make the rest of the function's logic simpler and clearer.\n"
   ]
  },
  {
   "cell_type": "code",
   "execution_count": 36,
   "metadata": {},
   "outputs": [],
   "source": [
    "# Bad Practice: Nested if-else for input validation\n",
    "def analyze_data(data):\n",
    "    if data is not None:\n",
    "        if len(data) > 0:\n",
    "            # Long block of processing code\n",
    "            pass\n",
    "        else:\n",
    "            return \"Empty data\"\n",
    "    else:\n",
    "        return \"No data\""
   ]
  },
  {
   "cell_type": "code",
   "execution_count": 37,
   "metadata": {},
   "outputs": [],
   "source": [
    "# Early exit for validation\n",
    "def analyze_data(data):\n",
    "    if data is None or len(data) == 0:\n",
    "        return \"No or empty data\"\n",
    "    # Proceed with processing knowing data is valid"
   ]
  },
  {
   "cell_type": "markdown",
   "metadata": {},
   "source": [
    "Following these best practices helps ensure that your functions are predictable, maintainable, and easy to understand. Explicitly managing return values and strategically using return statements for control flow contribute significantly to the clarity and efficiency of your Python code. Remember, the goal is to write code that not only works but is also clean and clear to anyone who might read it, including your future self."
   ]
  },
  {
   "cell_type": "markdown",
   "metadata": {},
   "source": [
    "<img src=\"../images/exercise-banner.gif\" width=\"800\">"
   ]
  },
  {
   "cell_type": "markdown",
   "metadata": {},
   "source": [
    "## <a id='toc4_'></a>[Practice Exercise: Temperature Conversion Tool with Data Validation](#toc0_)"
   ]
  },
  {
   "cell_type": "markdown",
   "metadata": {},
   "source": [
    "You're tasked with improving your temperature conversion tool. Your objective is to add input validation to each function, ensuring that they handle incorrect or unexpected input gracefully by printing an error message and returning `None`. This added robustness will make your tool more user-friendly and reliable.\n"
   ]
  },
  {
   "cell_type": "markdown",
   "metadata": {},
   "source": [
    "**Tasks:**\n",
    "\n",
    "1. Update the function `celsius_to_fahrenheit` to check if the input is either an integer or a float. If the input is not a number, print an error message and return `None`. Otherwise, calculate and return the equivalent temperature in Fahrenheit using the formula: Fahrenheit = (Celsius * 9/5) + 32.\n",
    "\n",
    "2. Revise the function `fahrenheit_to_celsius` in the same manner to validate the input. If the input is valid, use the formula: Celsius = (Fahrenheit - 32) * 5/9 to calculate and return the equivalent temperature in Celsius.\n",
    "\n",
    "3. Modify the function `water_state` to ensure the input is a number (either an integer or a float). The function should return \"Solid\" if the temperature is below 0, \"Liquid\" if the temperature is between 0 and 100 inclusive, and \"Gas\" if the temperature is above 100. For non-numeric inputs, print an error message and return `None`.\n",
    "\n",
    "4. Call `celsius_to_fahrenheit` with a valid value (e.g., 100) and an invalid value (e.g., \"hot\") and print the results.\n",
    "\n",
    "5. Call `fahrenheit_to_celsius` with a valid value (e.g., 32) and an invalid value (e.g., \"cold\") and print the results.\n",
    "\n",
    "6. Call `water_state` with a valid value (e.g., 25) and an invalid value (e.g., \"warm\") and print the results.\n"
   ]
  },
  {
   "cell_type": "markdown",
   "metadata": {},
   "source": [
    "**Expected Output:**\n",
    "\n",
    "```sh\n",
    "100 Celsius is 212.0 Fahrenheit.\n",
    "Error: Invalid input. Please enter a numeric value.\n",
    "32 Fahrenheit is 0.0 Celsius.\n",
    "Error: Invalid input. Please enter a numeric value.\n",
    "At 25 Celsius, water is in a Liquid state.\n",
    "Error: Invalid input. Please enter a numeric value.\n",
    "```\n"
   ]
  },
  {
   "cell_type": "markdown",
   "metadata": {},
   "source": [
    "**Hint:**\n",
    "- To check if a value is a number, you can use the condition `(type(value) == int) or (type(value) == float)`.\n",
    "- Ensure to display a user-friendly error message whenever you encounter invalid input, and then return `None`.\n"
   ]
  },
  {
   "cell_type": "markdown",
   "metadata": {},
   "source": [
    "This exercise encourages you to practice implementing functions with return values while also focusing on input validation, making your functions more robust and enhancing the user experience by preventing and handling errors gracefully."
   ]
  },
  {
   "cell_type": "markdown",
   "metadata": {},
   "source": [
    "### <a id='toc4_1_'></a>[Solution](#toc0_)"
   ]
  },
  {
   "cell_type": "markdown",
   "metadata": {},
   "source": [
    "Below is a solution for the Temperature Conversion Tool with Data Validation exercise. This solution includes the implementation of input validation as described in the tasks."
   ]
  },
  {
   "cell_type": "code",
   "execution_count": 38,
   "metadata": {},
   "outputs": [],
   "source": [
    "# Task 1: Function to convert Celsius to Fahrenheit with data validation\n",
    "def celsius_to_fahrenheit(temp):\n",
    "    # Check for invalid input first\n",
    "    if not (type(temp) == int or type(temp) == float):\n",
    "        print(\"Error: Invalid input. Please enter a numeric value.\")\n",
    "        return None\n",
    "    return (temp * 9/5) + 32"
   ]
  },
  {
   "cell_type": "code",
   "execution_count": 39,
   "metadata": {},
   "outputs": [],
   "source": [
    "# Task 2: Function to convert Fahrenheit to Celsius with data validation\n",
    "def fahrenheit_to_celsius(temp):\n",
    "    # Check for invalid input first\n",
    "    if not (type(temp) == int or type(temp) == float):\n",
    "        print(\"Error: Invalid input. Please enter a numeric value.\")\n",
    "        return None\n",
    "    return (temp - 32) * 5/9"
   ]
  },
  {
   "cell_type": "code",
   "execution_count": 40,
   "metadata": {},
   "outputs": [],
   "source": [
    "# Task 3: Function to determine the state of water based on temperature in Celsius with data validation\n",
    "def water_state(temp):\n",
    "    # Check for invalid input first\n",
    "    if not (type(temp) == int or type(temp) == float):\n",
    "        print(\"Error: Invalid input. Please enter a numeric value.\")\n",
    "        return None\n",
    "    if temp < 0:\n",
    "        return \"Solid\"\n",
    "    elif temp <= 100:\n",
    "        return \"Liquid\"\n",
    "    else:\n",
    "        return \"Gas\""
   ]
  },
  {
   "cell_type": "code",
   "execution_count": 41,
   "metadata": {},
   "outputs": [
    {
     "name": "stdout",
     "output_type": "stream",
     "text": [
      "100 Celsius is 212.0 Fahrenheit.\n"
     ]
    }
   ],
   "source": [
    "# Task 4: Valid input for celsius_to_fahrenheit\n",
    "print(f\"100 Celsius is {celsius_to_fahrenheit(100)} Fahrenheit.\")"
   ]
  },
  {
   "cell_type": "code",
   "execution_count": 42,
   "metadata": {},
   "outputs": [
    {
     "name": "stdout",
     "output_type": "stream",
     "text": [
      "Error: Invalid input. Please enter a numeric value.\n"
     ]
    }
   ],
   "source": [
    "# Invalid input for celsius_to_fahrenheit\n",
    "celsius_to_fahrenheit(\"hot\")"
   ]
  },
  {
   "cell_type": "code",
   "execution_count": 43,
   "metadata": {},
   "outputs": [
    {
     "name": "stdout",
     "output_type": "stream",
     "text": [
      "32 Fahrenheit is 0.0 Celsius.\n"
     ]
    }
   ],
   "source": [
    "# Task 5: Valid input for fahrenheit_to_celsius\n",
    "print(f\"32 Fahrenheit is {fahrenheit_to_celsius(32)} Celsius.\")"
   ]
  },
  {
   "cell_type": "code",
   "execution_count": 44,
   "metadata": {},
   "outputs": [
    {
     "name": "stdout",
     "output_type": "stream",
     "text": [
      "Error: Invalid input. Please enter a numeric value.\n"
     ]
    }
   ],
   "source": [
    "# Invalid input for fahrenheit_to_celsius\n",
    "fahrenheit_to_celsius(\"cold\")"
   ]
  },
  {
   "cell_type": "code",
   "execution_count": 45,
   "metadata": {},
   "outputs": [
    {
     "name": "stdout",
     "output_type": "stream",
     "text": [
      "At 25 Celsius, water is in a Liquid state.\n"
     ]
    }
   ],
   "source": [
    "# Task 6: Valid input for water_state\n",
    "print(f\"At 25 Celsius, water is in a {water_state(25)} state.\")"
   ]
  },
  {
   "cell_type": "code",
   "execution_count": 46,
   "metadata": {},
   "outputs": [
    {
     "name": "stdout",
     "output_type": "stream",
     "text": [
      "Error: Invalid input. Please enter a numeric value.\n"
     ]
    }
   ],
   "source": [
    "# Invalid input for water_state\n",
    "water_state(\"warm\")"
   ]
  },
  {
   "cell_type": "markdown",
   "metadata": {},
   "source": [
    "This solution defines three functions as requested, each incorporating input validation to ensure that they receive numeric inputs. If the input is not numeric, the functions print an error message and return `None`, as instructed. The valid calls to the functions demonstrate their intended behavior, while the invalid calls show the error handling in action."
   ]
  }
 ],
 "metadata": {
  "kernelspec": {
   "display_name": "py310",
   "language": "python",
   "name": "python3"
  },
  "language_info": {
   "codemirror_mode": {
    "name": "ipython",
    "version": 3
   },
   "file_extension": ".py",
   "mimetype": "text/x-python",
   "name": "python",
   "nbconvert_exporter": "python",
   "pygments_lexer": "ipython3",
   "version": "3.10.12"
  }
 },
 "nbformat": 4,
 "nbformat_minor": 2
}
