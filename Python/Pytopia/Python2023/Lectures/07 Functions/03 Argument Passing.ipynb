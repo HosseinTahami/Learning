{
 "cells": [
  {
   "cell_type": "markdown",
   "metadata": {},
   "source": [
    "<img src=\"./images/banner.png\" width=\"800\">"
   ]
  },
  {
   "cell_type": "markdown",
   "metadata": {},
   "source": [
    "# Argument Passing in Python Functions"
   ]
  },
  {
   "cell_type": "markdown",
   "metadata": {},
   "source": [
    "Function arguments are essential in Python, as they allow functions to operate on different data inputs, thus making the functions more general and versatile. When you define a function, you specify the parameters it can accept. When you call a function, you pass arguments to it. The arguments are assigned to the parameters in the function definition.\n"
   ]
  },
  {
   "cell_type": "markdown",
   "metadata": {},
   "source": [
    "<img src=\"./images/parameters-arguments.png\" width=\"600\">"
   ]
  },
  {
   "cell_type": "markdown",
   "metadata": {},
   "source": [
    "The significance of passing data to functions cannot be overstated. It allows for the customization of the function's behavior without altering the underlying code. This means you can write a single function to perform a calculation, format text, or manipulate data, and then use it in various contexts by passing in different arguments. This not only enhances flexibility but also reduces redundancy, making your code more efficient and easier to maintain.\n"
   ]
  },
  {
   "cell_type": "markdown",
   "metadata": {},
   "source": [
    "By the end of this lecture, you should have a solid understanding of how to:\n",
    "\n",
    "- Use positional arguments to pass mandatory information to functions.\n",
    "- Leverage keyword arguments to improve code readability and provide default values.\n",
    "- Define functions with default arguments to make them more versatile.\n"
   ]
  },
  {
   "cell_type": "markdown",
   "metadata": {},
   "source": [
    "Moreover, we will explore best practices to ensure your use of function arguments is clear and maintainable. With these tools at your disposal, you will be able to create flexible and powerful Python functions that can handle a wide array of tasks.\n"
   ]
  },
  {
   "cell_type": "markdown",
   "metadata": {},
   "source": [
    "**Table of contents**<a id='toc0_'></a>    \n",
    "- [Positional Arguments](#toc1_)    \n",
    "- [Keyword Arguments](#toc2_)    \n",
    "- [Default Parameters](#toc3_)    \n",
    "- [Best Practices for Function Arguments in Python](#toc4_)    \n",
    "  - [Positional Arguments](#toc4_1_)    \n",
    "  - [Keyword Arguments](#toc4_2_)    \n",
    "  - [Default Parameters](#toc4_3_)    \n",
    "- [Practice Exercise: A Day at the Zoo](#toc5_)    \n",
    "  - [Solution](#toc5_1_)    \n",
    "\n",
    "<!-- vscode-jupyter-toc-config\n",
    "\tnumbering=false\n",
    "\tanchor=true\n",
    "\tflat=false\n",
    "\tminLevel=2\n",
    "\tmaxLevel=6\n",
    "\t/vscode-jupyter-toc-config -->\n",
    "<!-- THIS CELL WILL BE REPLACED ON TOC UPDATE. DO NOT WRITE YOUR TEXT IN THIS CELL -->"
   ]
  },
  {
   "cell_type": "markdown",
   "metadata": {},
   "source": [
    "## <a id='toc1_'></a>[Positional Arguments](#toc0_)"
   ]
  },
  {
   "cell_type": "markdown",
   "metadata": {},
   "source": [
    "Positional arguments are the most basic way to pass information to functions in Python. They rely on the order of the arguments you provide to match them with the parameters defined in the function. Let's look at a simple and intuitive example to grasp this concept better.\n"
   ]
  },
  {
   "cell_type": "markdown",
   "metadata": {},
   "source": [
    "Imagine you're creating a function to print a message for a birthday invitation:\n"
   ]
  },
  {
   "cell_type": "code",
   "execution_count": 1,
   "metadata": {},
   "outputs": [],
   "source": [
    "def create_invitation(name, age, date):\n",
    "    print(f\"Dear {name}, you're invited to a birthday party celebrating {age} years on {date}!\")"
   ]
  },
  {
   "cell_type": "markdown",
   "metadata": {},
   "source": [
    "Here, `name`, `age`, and `date` are the parameters that your function expects. When you call the function, you need to provide arguments in the exact order these parameters are listed:\n"
   ]
  },
  {
   "cell_type": "code",
   "execution_count": 2,
   "metadata": {},
   "outputs": [
    {
     "name": "stdout",
     "output_type": "stream",
     "text": [
      "Dear Alice, you're invited to a birthday party celebrating 10 years on April 21st!\n"
     ]
    }
   ],
   "source": [
    "create_invitation('Alice', 10, 'April 21st')"
   ]
  },
  {
   "cell_type": "markdown",
   "metadata": {},
   "source": [
    "In this example, the order of arguments is crucial for the message to make sense. The first argument `'Alice'` is used for `name`, the second `10` for `age`, and the third `'April 21st'` for `date`.\n"
   ]
  },
  {
   "cell_type": "markdown",
   "metadata": {},
   "source": [
    "If you accidentally swap the order of these values, the invitation message will not convey what you intended:\n"
   ]
  },
  {
   "cell_type": "code",
   "execution_count": 3,
   "metadata": {},
   "outputs": [
    {
     "name": "stdout",
     "output_type": "stream",
     "text": [
      "Dear 10, you're invited to a birthday party celebrating April 21st years on Alice!\n"
     ]
    }
   ],
   "source": [
    "create_invitation(10, 'April 21st', 'Alice')"
   ]
  },
  {
   "cell_type": "markdown",
   "metadata": {},
   "source": [
    "As seen above, mixing up the order results in a nonsensical invitation.\n"
   ]
  },
  {
   "cell_type": "markdown",
   "metadata": {},
   "source": [
    "\n",
    "Note that when using positional arguments:\n",
    "1. **Order Is Key**: The order in which you pass the arguments must align with the order of parameters in the function definition. An incorrect sequence can lead to confusing results or errors.\n",
    "\n",
    "2. **Exact Number of Arguments**: You must provide the same number of arguments as there are parameters. If you provide too many or too few, Python will throw an error.\n"
   ]
  },
  {
   "cell_type": "markdown",
   "metadata": {},
   "source": [
    "For example, if an argument is missing:\n"
   ]
  },
  {
   "cell_type": "code",
   "execution_count": 4,
   "metadata": {},
   "outputs": [
    {
     "ename": "TypeError",
     "evalue": "create_invitation() missing 1 required positional argument: 'date'",
     "output_type": "error",
     "traceback": [
      "\u001b[0;31m---------------------------------------------------------------------------\u001b[0m",
      "\u001b[0;31mTypeError\u001b[0m                                 Traceback (most recent call last)",
      "Cell \u001b[0;32mIn[4], line 1\u001b[0m\n\u001b[0;32m----> 1\u001b[0m \u001b[43mcreate_invitation\u001b[49m\u001b[43m(\u001b[49m\u001b[38;5;124;43m'\u001b[39;49m\u001b[38;5;124;43mAlice\u001b[39;49m\u001b[38;5;124;43m'\u001b[39;49m\u001b[43m,\u001b[49m\u001b[43m \u001b[49m\u001b[38;5;241;43m10\u001b[39;49m\u001b[43m)\u001b[49m\n\u001b[1;32m      2\u001b[0m \u001b[38;5;66;03m# Error: missing 1 required positional argument: 'date'\u001b[39;00m\n",
      "\u001b[0;31mTypeError\u001b[0m: create_invitation() missing 1 required positional argument: 'date'"
     ]
    }
   ],
   "source": [
    "create_invitation('Alice', 10)\n",
    "# Error: missing 1 required positional argument: 'date'"
   ]
  },
  {
   "cell_type": "markdown",
   "metadata": {},
   "source": [
    "Or if there's an extra argument:\n"
   ]
  },
  {
   "cell_type": "code",
   "execution_count": 5,
   "metadata": {},
   "outputs": [
    {
     "ename": "TypeError",
     "evalue": "create_invitation() takes 3 positional arguments but 4 were given",
     "output_type": "error",
     "traceback": [
      "\u001b[0;31m---------------------------------------------------------------------------\u001b[0m",
      "\u001b[0;31mTypeError\u001b[0m                                 Traceback (most recent call last)",
      "Cell \u001b[0;32mIn[5], line 1\u001b[0m\n\u001b[0;32m----> 1\u001b[0m \u001b[43mcreate_invitation\u001b[49m\u001b[43m(\u001b[49m\u001b[38;5;124;43m'\u001b[39;49m\u001b[38;5;124;43mAlice\u001b[39;49m\u001b[38;5;124;43m'\u001b[39;49m\u001b[43m,\u001b[49m\u001b[43m \u001b[49m\u001b[38;5;241;43m10\u001b[39;49m\u001b[43m,\u001b[49m\u001b[43m \u001b[49m\u001b[38;5;124;43m'\u001b[39;49m\u001b[38;5;124;43mApril 21st\u001b[39;49m\u001b[38;5;124;43m'\u001b[39;49m\u001b[43m,\u001b[49m\u001b[43m \u001b[49m\u001b[38;5;124;43m'\u001b[39;49m\u001b[38;5;124;43m2 PM\u001b[39;49m\u001b[38;5;124;43m'\u001b[39;49m\u001b[43m)\u001b[49m\n\u001b[1;32m      2\u001b[0m \u001b[38;5;66;03m# Error: takes 3 positional arguments but 4 were given\u001b[39;00m\n",
      "\u001b[0;31mTypeError\u001b[0m: create_invitation() takes 3 positional arguments but 4 were given"
     ]
    }
   ],
   "source": [
    "create_invitation('Alice', 10, 'April 21st', '2 PM')\n",
    "# Error: takes 3 positional arguments but 4 were given"
   ]
  },
  {
   "cell_type": "markdown",
   "metadata": {},
   "source": [
    "Using positional arguments is straightforward but demands careful attention to the sequence and number of arguments you provide. This foundational concept is essential for learning more advanced ways to pass arguments to functions, which offer greater flexibility and error prevention."
   ]
  },
  {
   "cell_type": "markdown",
   "metadata": {},
   "source": [
    "## <a id='toc2_'></a>[Keyword Arguments](#toc0_)"
   ]
  },
  {
   "cell_type": "markdown",
   "metadata": {},
   "source": [
    "In Python, besides the straightforward positional arguments, there's another flexible way to pass data to functions: keyword arguments. This method allows you to specify arguments by explicitly naming each one, giving you the freedom to order them as you wish. Let's explore this concept with an example that builds on what we've learned so far.\n"
   ]
  },
  {
   "cell_type": "markdown",
   "metadata": {},
   "source": [
    "Imagine we have a function for printing out details of a book purchase:\n"
   ]
  },
  {
   "cell_type": "code",
   "execution_count": 6,
   "metadata": {},
   "outputs": [],
   "source": [
    "def print_purchase(book_title, author, price):\n",
    "    print(f\"Purchased book: {book_title} by {author} for ${price}\")"
   ]
  },
  {
   "cell_type": "markdown",
   "metadata": {},
   "source": [
    "With keyword arguments, you can specify which parameter each argument corresponds to, using the syntax `<keyword>=<value>`:\n"
   ]
  },
  {
   "cell_type": "code",
   "execution_count": 7,
   "metadata": {},
   "outputs": [
    {
     "name": "stdout",
     "output_type": "stream",
     "text": [
      "Purchased book: The Great Gatsby by F. Scott Fitzgerald for $12.99\n"
     ]
    }
   ],
   "source": [
    "print_purchase(book_title='The Great Gatsby', author='F. Scott Fitzgerald', price=12.99)"
   ]
  },
  {
   "cell_type": "markdown",
   "metadata": {},
   "source": [
    "One of the significant advantages of keyword arguments is the flexibility they offer in argument order. You can rearrange the order of arguments, and Python will still understand which is which based on the keywords:\n"
   ]
  },
  {
   "cell_type": "code",
   "execution_count": 8,
   "metadata": {},
   "outputs": [
    {
     "name": "stdout",
     "output_type": "stream",
     "text": [
      "Purchased book: The Great Gatsby by F. Scott Fitzgerald for $12.99\n"
     ]
    }
   ],
   "source": [
    "print_purchase(price=12.99, book_title='The Great Gatsby', author='F. Scott Fitzgerald')"
   ]
  },
  {
   "cell_type": "markdown",
   "metadata": {},
   "source": [
    "This will give the same output as before, showcasing the flexibility of keyword arguments.\n"
   ]
  },
  {
   "cell_type": "markdown",
   "metadata": {},
   "source": [
    "However, attempting to use a keyword that doesn't correspond to any parameter in the function definition will lead to an error:\n"
   ]
  },
  {
   "cell_type": "code",
   "execution_count": 9,
   "metadata": {},
   "outputs": [
    {
     "ename": "TypeError",
     "evalue": "print_purchase() got an unexpected keyword argument 'writer'",
     "output_type": "error",
     "traceback": [
      "\u001b[0;31m---------------------------------------------------------------------------\u001b[0m",
      "\u001b[0;31mTypeError\u001b[0m                                 Traceback (most recent call last)",
      "Cell \u001b[0;32mIn[9], line 1\u001b[0m\n\u001b[0;32m----> 1\u001b[0m \u001b[43mprint_purchase\u001b[49m\u001b[43m(\u001b[49m\u001b[43mbook_title\u001b[49m\u001b[38;5;241;43m=\u001b[39;49m\u001b[38;5;124;43m'\u001b[39;49m\u001b[38;5;124;43mThe Great Gatsby\u001b[39;49m\u001b[38;5;124;43m'\u001b[39;49m\u001b[43m,\u001b[49m\u001b[43m \u001b[49m\u001b[43mwriter\u001b[49m\u001b[38;5;241;43m=\u001b[39;49m\u001b[38;5;124;43m'\u001b[39;49m\u001b[38;5;124;43mF. Scott Fitzgerald\u001b[39;49m\u001b[38;5;124;43m'\u001b[39;49m\u001b[43m,\u001b[49m\u001b[43m \u001b[49m\u001b[43mprice\u001b[49m\u001b[38;5;241;43m=\u001b[39;49m\u001b[38;5;241;43m12.99\u001b[39;49m\u001b[43m)\u001b[49m\n\u001b[1;32m      2\u001b[0m \u001b[38;5;66;03m# Error: got an unexpected keyword argument 'writer'\u001b[39;00m\n",
      "\u001b[0;31mTypeError\u001b[0m: print_purchase() got an unexpected keyword argument 'writer'"
     ]
    }
   ],
   "source": [
    "print_purchase(book_title='The Great Gatsby', writer='F. Scott Fitzgerald', price=12.99)\n",
    "# Error: got an unexpected keyword argument 'writer'"
   ]
  },
  {
   "cell_type": "markdown",
   "metadata": {},
   "source": [
    "Even though keyword arguments add flexibility in order, the rule about matching the number of arguments to the number of parameters still applies. Forgetting an argument will result in an error:\n"
   ]
  },
  {
   "cell_type": "code",
   "execution_count": 10,
   "metadata": {},
   "outputs": [
    {
     "ename": "TypeError",
     "evalue": "print_purchase() missing 1 required positional argument: 'price'",
     "output_type": "error",
     "traceback": [
      "\u001b[0;31m---------------------------------------------------------------------------\u001b[0m",
      "\u001b[0;31mTypeError\u001b[0m                                 Traceback (most recent call last)",
      "Cell \u001b[0;32mIn[10], line 1\u001b[0m\n\u001b[0;32m----> 1\u001b[0m \u001b[43mprint_purchase\u001b[49m\u001b[43m(\u001b[49m\u001b[43mbook_title\u001b[49m\u001b[38;5;241;43m=\u001b[39;49m\u001b[38;5;124;43m'\u001b[39;49m\u001b[38;5;124;43mThe Great Gatsby\u001b[39;49m\u001b[38;5;124;43m'\u001b[39;49m\u001b[43m,\u001b[49m\u001b[43m \u001b[49m\u001b[43mauthor\u001b[49m\u001b[38;5;241;43m=\u001b[39;49m\u001b[38;5;124;43m'\u001b[39;49m\u001b[38;5;124;43mF. Scott Fitzgerald\u001b[39;49m\u001b[38;5;124;43m'\u001b[39;49m\u001b[43m)\u001b[49m\n\u001b[1;32m      2\u001b[0m \u001b[38;5;66;03m# Error: missing 1 required positional argument: 'price'\u001b[39;00m\n",
      "\u001b[0;31mTypeError\u001b[0m: print_purchase() missing 1 required positional argument: 'price'"
     ]
    }
   ],
   "source": [
    "print_purchase(book_title='The Great Gatsby', author='F. Scott Fitzgerald')\n",
    "# Error: missing 1 required positional argument: 'price'"
   ]
  },
  {
   "cell_type": "markdown",
   "metadata": {},
   "source": [
    "Interestingly, Python allows mixing positional and keyword arguments in a single function call, providing even more flexibility:\n"
   ]
  },
  {
   "cell_type": "code",
   "execution_count": 11,
   "metadata": {},
   "outputs": [
    {
     "name": "stdout",
     "output_type": "stream",
     "text": [
      "Purchased book: The Great Gatsby by F. Scott Fitzgerald for $12.99\n"
     ]
    }
   ],
   "source": [
    "print_purchase('The Great Gatsby', price=12.99, author='F. Scott Fitzgerald')"
   ]
  },
  {
   "cell_type": "markdown",
   "metadata": {},
   "source": [
    "However, once you've used a keyword argument, you cannot go back to positional arguments. All positional arguments must come before any keyword arguments:\n"
   ]
  },
  {
   "cell_type": "code",
   "execution_count": 12,
   "metadata": {},
   "outputs": [
    {
     "ename": "SyntaxError",
     "evalue": "positional argument follows keyword argument (3041803314.py, line 1)",
     "output_type": "error",
     "traceback": [
      "\u001b[0;36m  Cell \u001b[0;32mIn[12], line 1\u001b[0;36m\u001b[0m\n\u001b[0;31m    print_purchase('The Great Gatsby', author='F. Scott Fitzgerald', 12.99)\u001b[0m\n\u001b[0m                                                                          ^\u001b[0m\n\u001b[0;31mSyntaxError\u001b[0m\u001b[0;31m:\u001b[0m positional argument follows keyword argument\n"
     ]
    }
   ],
   "source": [
    "print_purchase('The Great Gatsby', author='F. Scott Fitzgerald', 12.99)\n",
    "# SyntaxError: positional argument follows keyword argument"
   ]
  },
  {
   "cell_type": "markdown",
   "metadata": {},
   "source": [
    "In summary, keyword arguments in Python enhance the flexibility and readability of function calls by allowing you to specify arguments out of order and by name. This feature is particularly useful in functions with many parameters, or when you want to make the purpose of each argument clearer to someone reading your code."
   ]
  },
  {
   "cell_type": "markdown",
   "metadata": {},
   "source": [
    "## <a id='toc3_'></a>[Default Parameters](#toc0_)"
   ]
  },
  {
   "cell_type": "markdown",
   "metadata": {},
   "source": [
    "Default parameters are a convenient feature in Python, allowing functions to have parameters with preset values. These defaults make function calls more flexible, as you can choose to omit certain arguments if you're happy with their default values. To illustrate this concept further, let's use a different example involving a function that creates a simple profile for a user.\n"
   ]
  },
  {
   "cell_type": "markdown",
   "metadata": {},
   "source": [
    "Imagine a function designed to display information about a user, where some details might not always be provided:\n"
   ]
  },
  {
   "cell_type": "code",
   "execution_count": 13,
   "metadata": {},
   "outputs": [],
   "source": [
    "def create_profile(name, age, country='Unknown', language='English'):\n",
    "    print(f\"Name: {name}, Age: {age}, Country: {country}, Language: {language}\")"
   ]
  },
  {
   "cell_type": "markdown",
   "metadata": {},
   "source": [
    "In this function, `country` and `language` have default values of `'Unknown'` and `'English'`, respectively. This setup allows for various function calls depending on the information available:\n"
   ]
  },
  {
   "cell_type": "code",
   "execution_count": 14,
   "metadata": {},
   "outputs": [
    {
     "name": "stdout",
     "output_type": "stream",
     "text": [
      "Name: Albert Einstein, Age: 76, Country: Unknown, Language: English\n"
     ]
    }
   ],
   "source": [
    "create_profile('Albert Einstein', 76)"
   ]
  },
  {
   "cell_type": "code",
   "execution_count": 15,
   "metadata": {},
   "outputs": [
    {
     "name": "stdout",
     "output_type": "stream",
     "text": [
      "Name: Marie Curie, Age: 66, Country: Poland, Language: English\n"
     ]
    }
   ],
   "source": [
    "create_profile('Marie Curie', 66, 'Poland')"
   ]
  },
  {
   "cell_type": "code",
   "execution_count": 16,
   "metadata": {},
   "outputs": [
    {
     "name": "stdout",
     "output_type": "stream",
     "text": [
      "Name: Nikola Tesla, Age: 86, Country: Unknown, Language: Serbian\n"
     ]
    }
   ],
   "source": [
    "create_profile('Nikola Tesla', 86, language='Serbian')"
   ]
  },
  {
   "cell_type": "code",
   "execution_count": 17,
   "metadata": {},
   "outputs": [
    {
     "name": "stdout",
     "output_type": "stream",
     "text": [
      "Name: Isaac Newton, Age: 84, Country: England, Language: English\n"
     ]
    }
   ],
   "source": [
    "create_profile('Isaac Newton', 84, 'England', 'English')"
   ]
  },
  {
   "cell_type": "code",
   "execution_count": 18,
   "metadata": {},
   "outputs": [
    {
     "name": "stdout",
     "output_type": "stream",
     "text": [
      "Name: Ada Lovelace, Age: 36, Country: England, Language: English\n"
     ]
    }
   ],
   "source": [
    "create_profile(name='Ada Lovelace', age=36, country='England')"
   ]
  },
  {
   "cell_type": "markdown",
   "metadata": {},
   "source": [
    "Note that default parameters must follow non-default parameters in the function definition. Attempting to define a default parameter before a non-default one will result in a syntax error:"
   ]
  },
  {
   "cell_type": "code",
   "execution_count": 19,
   "metadata": {},
   "outputs": [
    {
     "ename": "SyntaxError",
     "evalue": "non-default argument follows default argument (807339484.py, line 1)",
     "output_type": "error",
     "traceback": [
      "\u001b[0;36m  Cell \u001b[0;32mIn[19], line 1\u001b[0;36m\u001b[0m\n\u001b[0;31m    def user_profile(country='Unknown', name, language='English'):\u001b[0m\n\u001b[0m                                        ^\u001b[0m\n\u001b[0;31mSyntaxError\u001b[0m\u001b[0;31m:\u001b[0m non-default argument follows default argument\n"
     ]
    }
   ],
   "source": [
    "def user_profile(country='Unknown', name, language='English'):\n",
    "    print(f\"Name: {name}, Country: {country}, Language: {language}\")"
   ]
  },
  {
   "cell_type": "markdown",
   "metadata": {},
   "source": [
    "This example demonstrates several ways to use default parameters effectively:\n",
    "- Calling the function with only the required arguments (`name` and `age`) uses the default values for any others.\n",
    "- You can override default values by providing additional positional arguments in the order they appear in the function definition.\n",
    "- Specifying arguments using keywords (e.g., `language='Mandarin'`) allows you to skip over default parameters you don't need to change.\n",
    "- The order of keyword arguments doesn't matter, offering further flexibility in how you call the function.\n"
   ]
  },
  {
   "cell_type": "markdown",
   "metadata": {},
   "source": [
    "Key points to remember about default parameters include:\n",
    "- They make some arguments optional by providing a predefined value that is used if no argument is passed for that parameter.\n",
    "- Default parameters must follow any required parameters in the function definition to avoid syntax errors.\n",
    "- When calling functions, positional arguments must precede keyword arguments. This rule prevents confusion and ensures clarity in which value corresponds to which parameter.\n"
   ]
  },
  {
   "cell_type": "markdown",
   "metadata": {},
   "source": [
    "Using default parameters can significantly streamline function calls, especially in cases where most arguments have common or expected values. It's a powerful feature that enhances both the flexibility and readability of your Python code."
   ]
  },
  {
   "cell_type": "markdown",
   "metadata": {},
   "source": [
    "## <a id='toc4_'></a>[Best Practices for Function Arguments in Python](#toc0_)"
   ]
  },
  {
   "cell_type": "markdown",
   "metadata": {},
   "source": [
    "Adopting best practices for using positional arguments, keyword arguments, and default parameters is key to writing clear, efficient, and maintainable Python code. Let’s delve into some essential guidelines and illustrate them with improved examples, including how to call these functions properly.\n"
   ]
  },
  {
   "cell_type": "markdown",
   "metadata": {},
   "source": [
    "### <a id='toc4_1_'></a>[Positional Arguments](#toc0_)\n"
   ]
  },
  {
   "cell_type": "markdown",
   "metadata": {},
   "source": [
    "**Best Practice:** Use positional arguments for required parameters that have a clear and logical ordering. Descriptive parameter names enhance readability and self-documentation of your function.\n"
   ]
  },
  {
   "cell_type": "code",
   "execution_count": 20,
   "metadata": {},
   "outputs": [
    {
     "data": {
      "text/plain": [
       "200"
      ]
     },
     "execution_count": 20,
     "metadata": {},
     "output_type": "execute_result"
    }
   ],
   "source": [
    "# Good practice\n",
    "def calculate_area(length, width):\n",
    "    return length * width\n",
    "\n",
    "# Clear and logical call\n",
    "area = calculate_area(10, 20)\n",
    "area"
   ]
  },
  {
   "cell_type": "markdown",
   "metadata": {},
   "source": [
    "This example is straightforward because it naturally follows that a rectangle's area is calculated using its length and width in that order.\n"
   ]
  },
  {
   "cell_type": "code",
   "execution_count": 21,
   "metadata": {},
   "outputs": [
    {
     "data": {
      "text/plain": [
       "200"
      ]
     },
     "execution_count": 21,
     "metadata": {},
     "output_type": "execute_result"
    }
   ],
   "source": [
    "# Bad practice\n",
    "def calculate_area(a, b):\n",
    "    return a * b\n",
    "\n",
    "# Confusing call\n",
    "area = calculate_area(20, 10)\n",
    "area"
   ]
  },
  {
   "cell_type": "markdown",
   "metadata": {},
   "source": [
    "Using non-descriptive parameter names (`a` and `b`) makes it unclear what specific dimensions the function expects without additional context.\n"
   ]
  },
  {
   "cell_type": "markdown",
   "metadata": {},
   "source": [
    "### <a id='toc4_2_'></a>[Keyword Arguments](#toc0_)\n"
   ]
  },
  {
   "cell_type": "markdown",
   "metadata": {},
   "source": [
    "**Best Practice:** Utilize keyword arguments to enhance clarity when a function has multiple parameters or when the purpose of arguments might not be immediately clear from the context alone. Descriptive names are crucial.\n"
   ]
  },
  {
   "cell_type": "code",
   "execution_count": 22,
   "metadata": {},
   "outputs": [],
   "source": [
    "# Good practice\n",
    "def create_email(to, subject, body, cc=None, bcc=None):\n",
    "    # Function body here\n",
    "    pass\n",
    "\n",
    "# Clear and flexible call\n",
    "create_email(to=\"user@example.com\", subject=\"Welcome!\", body=\"Hello, welcome to our service!\", cc=\"manager@example.com\")"
   ]
  },
  {
   "cell_type": "markdown",
   "metadata": {},
   "source": [
    "This approach makes the function call very readable, with each argument's purpose clearly indicated by its keyword.\n"
   ]
  },
  {
   "cell_type": "code",
   "execution_count": 23,
   "metadata": {},
   "outputs": [],
   "source": [
    "# Bad practice\n",
    "def create_email(a, b, c, d=None, e=None):\n",
    "    # Function body here\n",
    "    pass\n",
    "\n",
    "# Confusing call\n",
    "create_email(\"user@example.com\", \"Welcome!\", \"Hello, welcome to our service!\", \"manager@example.com\")"
   ]
  },
  {
   "cell_type": "markdown",
   "metadata": {},
   "source": [
    "Without descriptive parameter names or the use of keywords, it's challenging to understand what each argument represents.\n"
   ]
  },
  {
   "cell_type": "markdown",
   "metadata": {},
   "source": [
    "### <a id='toc4_3_'></a>[Default Parameters](#toc0_)\n"
   ]
  },
  {
   "cell_type": "markdown",
   "metadata": {},
   "source": [
    "**Best Practice:** Wisely choose default values for parameters based on what makes sense and is practical for the common use cases of the function. It's not always beneficial to define default values for every parameter, especially if it could lead to confusion or misuse of the function. Descriptive names combined with judicious defaults enhance usability and clarity.\n"
   ]
  },
  {
   "cell_type": "code",
   "execution_count": 24,
   "metadata": {},
   "outputs": [],
   "source": [
    "# Good practice\n",
    "def prepare_tea(type='black', sugar_level='medium', milk=False):\n",
    "    milk_str = \"with milk\" if milk else \"without milk\"\n",
    "    print(f\"Preparing a cup of {type} tea, {sugar_level} sugar, {milk_str}.\")"
   ]
  },
  {
   "cell_type": "code",
   "execution_count": 25,
   "metadata": {},
   "outputs": [
    {
     "name": "stdout",
     "output_type": "stream",
     "text": [
      "Preparing a cup of black tea, medium sugar, without milk.\n"
     ]
    }
   ],
   "source": [
    "# Ideal for a common request\n",
    "prepare_tea()"
   ]
  },
  {
   "cell_type": "code",
   "execution_count": 26,
   "metadata": {},
   "outputs": [
    {
     "name": "stdout",
     "output_type": "stream",
     "text": [
      "Preparing a cup of black tea, low sugar, with milk.\n"
     ]
    }
   ],
   "source": [
    "# Custom request specifying only what's different from the default\n",
    "prepare_tea(sugar_level='low', milk=True)"
   ]
  },
  {
   "cell_type": "markdown",
   "metadata": {},
   "source": [
    "Here, the function `prepare_tea` is designed with defaults that represent a typical order. Not every parameter needs a default; for example, specifying whether milk is added allows for a binary choice that enhances the function's flexibility without assuming too much about the user's preference.\n"
   ]
  },
  {
   "cell_type": "markdown",
   "metadata": {},
   "source": [
    "However, in the example below, the function attempts to anticipate too many details with defaults, potentially straying far from what a typical user might want. This approach not only makes the function less intuitive but also requires users to override too many defaults for most orders, negating the benefit of having default parameters.\n"
   ]
  },
  {
   "cell_type": "code",
   "execution_count": 27,
   "metadata": {},
   "outputs": [],
   "source": [
    "# Bad practice\n",
    "def prepare_tea(type='green', sugar_level='', milk=True, temperature='hot', cup_size='medium'):\n",
    "    print(f\"Preparing a {temperature}, {cup_size} cup of {type} tea, {sugar_level} sugar, with{'out' if not milk else ''} milk.\")"
   ]
  },
  {
   "cell_type": "code",
   "execution_count": 28,
   "metadata": {},
   "outputs": [
    {
     "name": "stdout",
     "output_type": "stream",
     "text": [
      "Preparing a hot, medium cup of green tea,  sugar, with milk.\n"
     ]
    }
   ],
   "source": [
    "# Overwhelming default parameters may not suit most users' needs\n",
    "prepare_tea()"
   ]
  },
  {
   "cell_type": "code",
   "execution_count": 29,
   "metadata": {},
   "outputs": [
    {
     "name": "stdout",
     "output_type": "stream",
     "text": [
      "Preparing a warm, large cup of black tea, no sugar, without milk.\n"
     ]
    }
   ],
   "source": [
    "# The function call becomes unnecessarily complicated\n",
    "prepare_tea('black', 'no', False, 'warm', 'large')"
   ]
  },
  {
   "cell_type": "markdown",
   "metadata": {},
   "source": [
    "<img src=\"../images/exercise-banner.gif\" width=\"800\">"
   ]
  },
  {
   "cell_type": "markdown",
   "metadata": {},
   "source": [
    "## <a id='toc5_'></a>[Practice Exercise: A Day at the Zoo](#toc0_)"
   ]
  },
  {
   "cell_type": "markdown",
   "metadata": {},
   "source": [
    "You are planning a visit to the local zoo with a group of students. The zoo has several sections for different kinds of animals, and each section has feeding times, special shows, and educational talks. To maximize the visit, you decide to write a Python program that helps organize the day's activities based on the group's preferences.\n"
   ]
  },
  {
   "cell_type": "markdown",
   "metadata": {},
   "source": [
    "**Tasks:**\n",
    "\n",
    "1. Write a function named `schedule_visit` that takes three parameters: `section` (the section of the zoo to visit, e.g., \"Reptiles\", \"Birds\"), `time` (the time you plan to visit that section), and `activity` with a default value of \"Feeding\". The function should print a message summarizing the visit plan for that section.\n",
    "\n",
    "2. Call the `schedule_visit` function for the \"Reptiles\" section at \"10:00 AM\" without specifying an activity to use the default value.\n",
    "\n",
    "3. Call the `schedule_visit` function for the \"Birds\" section at \"1:00 PM\" with the activity \"Educational Talk\".\n",
    "\n",
    "4. Write a function named `add_special_request` that takes two parameters: `section` and `request` with a default value of \"None\". This function should print a message indicating any special requests for the visit to that section. If no special request is made, the function should print that no special requests have been made for this section.\n",
    "\n",
    "5. Call the `add_special_request` function for the \"Reptiles\" section without specifying a request.\n",
    "\n",
    "6. Call the `add_special_request` function for the \"Mammals\" section with a special request of \"Wheelchair Access\".\n"
   ]
  },
  {
   "cell_type": "markdown",
   "metadata": {},
   "source": [
    "**Expected Output:**\n",
    "\n",
    "```sh\n",
    "Planning to visit Reptiles section at 10:00 AM for a Feeding activity.\n",
    "Planning to visit Birds section at 1:00 PM for an Educational Talk activity.\n",
    "No special requests have been made for the Reptiles section.\n",
    "Special request for the Mammals section: Wheelchair Access.\n",
    "```\n"
   ]
  },
  {
   "cell_type": "markdown",
   "metadata": {},
   "source": [
    "This exercise engages you in applying the concepts of default parameters and function calls with both positional and keyword arguments. It is designed to reflect a practical scenario where such programming techniques can organize information efficiently and flexibly."
   ]
  },
  {
   "cell_type": "markdown",
   "metadata": {},
   "source": [
    "### <a id='toc5_1_'></a>[Solution](#toc0_)"
   ]
  },
  {
   "cell_type": "markdown",
   "metadata": {},
   "source": [
    "Here's a solution to the exercise \"A Day at the Zoo\":"
   ]
  },
  {
   "cell_type": "code",
   "execution_count": 30,
   "metadata": {},
   "outputs": [],
   "source": [
    "# Task 1: Function to schedule a visit to a zoo section\n",
    "def schedule_visit(section, time, activity='Feeding'):\n",
    "    print(f\"Planning to visit {section} section at {time} for a {activity} activity.\")"
   ]
  },
  {
   "cell_type": "code",
   "execution_count": 31,
   "metadata": {},
   "outputs": [
    {
     "name": "stdout",
     "output_type": "stream",
     "text": [
      "Planning to visit Reptiles section at 10:00 AM for a Feeding activity.\n"
     ]
    }
   ],
   "source": [
    "# Task 2: Schedule visit to Reptiles section using the default activity\n",
    "schedule_visit('Reptiles', '10:00 AM')"
   ]
  },
  {
   "cell_type": "code",
   "execution_count": 32,
   "metadata": {},
   "outputs": [
    {
     "name": "stdout",
     "output_type": "stream",
     "text": [
      "Planning to visit Birds section at 1:00 PM for a Educational Talk activity.\n"
     ]
    }
   ],
   "source": [
    "# Task 3: Schedule visit to Birds section with a specified activity\n",
    "schedule_visit('Birds', '1:00 PM', 'Educational Talk')"
   ]
  },
  {
   "cell_type": "code",
   "execution_count": 33,
   "metadata": {},
   "outputs": [],
   "source": [
    "# Task 4: Function to add a special request for a zoo section visit\n",
    "def add_special_request(section, request=None):\n",
    "    if request:\n",
    "        print(f\"Special request for the {section} section: {request}.\")\n",
    "    else:\n",
    "        print(f\"No special requests have been made for the {section} section.\")"
   ]
  },
  {
   "cell_type": "code",
   "execution_count": 34,
   "metadata": {},
   "outputs": [
    {
     "name": "stdout",
     "output_type": "stream",
     "text": [
      "No special requests have been made for the Reptiles section.\n"
     ]
    }
   ],
   "source": [
    "# Task 5: Add no special request for the Reptiles section\n",
    "add_special_request('Reptiles')"
   ]
  },
  {
   "cell_type": "code",
   "execution_count": 35,
   "metadata": {},
   "outputs": [
    {
     "name": "stdout",
     "output_type": "stream",
     "text": [
      "Special request for the Mammals section: Wheelchair Access.\n"
     ]
    }
   ],
   "source": [
    "# Task 6: Add a special request for the Mammals section\n",
    "add_special_request('Mammals', 'Wheelchair Access')"
   ]
  },
  {
   "cell_type": "markdown",
   "metadata": {},
   "source": [
    "**Explanation:**\n",
    "\n",
    "- The `schedule_visit` function accepts three parameters. The `section` and `time` need to be provided, while `activity` defaults to \"Feeding\" if not specified. This design allows for flexibility in planning activities without the need to specify common activities every time.\n",
    "  \n",
    "- The `add_special_request` function is designed to handle special requests for each zoo section visit. If no specific request is made (using the default parameter value \"None\"), it informs that no special requests have been made for that section. This approach makes it convenient to handle situations where additional accommodations are not necessary.\n"
   ]
  },
  {
   "cell_type": "markdown",
   "metadata": {},
   "source": [
    "By executing the code, you can see how default parameters and the use of both positional and keyword arguments enable you to handle various scenarios with minimal function calls, making the code efficient and easy to read. This solution directly applies the concepts learned in the chapter and provides a practical example of how these programming techniques can be used in real-life situations."
   ]
  }
 ],
 "metadata": {
  "kernelspec": {
   "display_name": "py310",
   "language": "python",
   "name": "python3"
  },
  "language_info": {
   "codemirror_mode": {
    "name": "ipython",
    "version": 3
   },
   "file_extension": ".py",
   "mimetype": "text/x-python",
   "name": "python",
   "nbconvert_exporter": "python",
   "pygments_lexer": "ipython3",
   "version": "3.10.12"
  }
 },
 "nbformat": 4,
 "nbformat_minor": 2
}
