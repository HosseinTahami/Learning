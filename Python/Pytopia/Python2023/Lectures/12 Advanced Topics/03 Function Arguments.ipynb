{
 "cells": [
  {
   "cell_type": "markdown",
   "metadata": {},
   "source": [
    "# Function Arguments"
   ]
  },
  {
   "cell_type": "markdown",
   "metadata": {},
   "source": [
    "Function arguments are essential in Python, as they allow functions to operate on different data inputs, thus making the functions more general and versatile. When you define a function, you specify the parameters it can accept. When you call a function, you pass arguments to it. The arguments are assigned to the parameters in the function definition.\n"
   ]
  },
  {
   "cell_type": "markdown",
   "metadata": {},
   "source": [
    "<img src=\"./images/parameters-arguments.png\" width=\"600\">"
   ]
  },
  {
   "cell_type": "markdown",
   "metadata": {},
   "source": [
    "The significance of passing data to functions cannot be overstated. It allows for the customization of the function's behavior without altering the underlying code. This means you can write a single function to perform a calculation, format text, or manipulate data, and then use it in various contexts by passing in different arguments. This not only enhances flexibility but also reduces redundancy, making your code more efficient and easier to maintain.\n"
   ]
  },
  {
   "cell_type": "markdown",
   "metadata": {},
   "source": [
    "During this lecture, we will embark on a journey through the different types of function arguments available in Python. We will start with the basics, such as positional and keyword arguments, and then delve into more complex topics like variable-length arguments (*args and **kwargs). We will also learn how to unpack arguments, which is especially useful when dealing with sequences and dictionaries.\n"
   ]
  },
  {
   "cell_type": "markdown",
   "metadata": {},
   "source": [
    "By the end of this lecture, you should have a solid understanding of how to:\n",
    "\n",
    "- Use positional arguments to pass mandatory information to functions.\n",
    "- Leverage keyword arguments to improve code readability and provide default values.\n",
    "- Utilize variable-length arguments to accept an arbitrary number of inputs.\n",
    "- Unpack arguments effectively when calling functions.\n"
   ]
  },
  {
   "cell_type": "markdown",
   "metadata": {},
   "source": [
    "Moreover, we will explore best practices to ensure your use of function arguments is clear and maintainable. With these tools at your disposal, you will be able to create flexible and powerful Python functions that can handle a wide array of tasks.\n"
   ]
  },
  {
   "cell_type": "markdown",
   "metadata": {},
   "source": [
    "Get ready to unlock the full potential of Python functions with the proper use of arguments!"
   ]
  },
  {
   "cell_type": "markdown",
   "metadata": {},
   "source": [
    "**Table of contents**<a id='toc0_'></a>    \n",
    "- [Positional Arguments](#toc1_)    \n",
    "- [Keyword Arguments](#toc2_)    \n",
    "- [Unpacking Arguments](#toc3_)    \n",
    "  - [Unpacking Iterables with `*`](#toc3_1_)    \n",
    "  - [Unpacking Dictionaries with `**`](#toc3_2_)    \n",
    "- [Best Practices for Using Function Arguments](#toc4_)    \n",
    "  - [Descriptive Argument Names](#toc4_1_)    \n",
    "  - [Use Keyword Arguments to Enhance Readability](#toc4_2_)    \n",
    "  - [Consistent Ordering of Arguments](#toc4_3_)    \n",
    "- [Practice Exercise](#toc5_)    \n",
    "  - [Solution](#toc5_1_)    \n",
    "\n",
    "<!-- vscode-jupyter-toc-config\n",
    "\tnumbering=false\n",
    "\tanchor=true\n",
    "\tflat=false\n",
    "\tminLevel=2\n",
    "\tmaxLevel=6\n",
    "\t/vscode-jupyter-toc-config -->\n",
    "<!-- THIS CELL WILL BE REPLACED ON TOC UPDATE. DO NOT WRITE YOUR TEXT IN THIS CELL -->"
   ]
  },
  {
   "cell_type": "markdown",
   "metadata": {},
   "source": [
    "## <a id='toc1_'></a>[Positional Arguments](#toc0_)\n"
   ]
  },
  {
   "cell_type": "markdown",
   "metadata": {},
   "source": [
    "Positional arguments are the most straightforward way to pass data to functions in Python. These arguments are based on the position of the input values; that is, the first argument in the function call matches the first parameter in the function definition, the second argument matches the second parameter, and so on. The order in which you specify the arguments when calling the function is crucial, as it determines how the values are assigned within the function.\n"
   ]
  },
  {
   "cell_type": "markdown",
   "metadata": {},
   "source": [
    "When using positional arguments, you must pass the same number of arguments as there are parameters in the function definition. If the number of arguments provided does not match the number of parameters, Python will raise a `TypeError`.\n"
   ]
  },
  {
   "cell_type": "markdown",
   "metadata": {},
   "source": [
    "Let's take a look at some simple examples to illustrate positional arguments:\n"
   ]
  },
  {
   "cell_type": "markdown",
   "metadata": {},
   "source": [
    "**Example 1: A Function to Add Two Numbers**\n"
   ]
  },
  {
   "cell_type": "code",
   "execution_count": 1,
   "metadata": {},
   "outputs": [],
   "source": [
    "def add(a, b):\n",
    "    return a + b"
   ]
  },
  {
   "cell_type": "code",
   "execution_count": 2,
   "metadata": {},
   "outputs": [
    {
     "data": {
      "text/plain": [
       "8"
      ]
     },
     "execution_count": 2,
     "metadata": {},
     "output_type": "execute_result"
    }
   ],
   "source": [
    "# Calling the function with positional arguments\n",
    "result = add(5, 3)\n",
    "result\n"
   ]
  },
  {
   "cell_type": "markdown",
   "metadata": {},
   "source": [
    "In this example, the function `add` takes two parameters, `a` and `b`. When we call `add(5, 3)`, `5` is assigned to `a` because it is the first argument, and `3` is assigned to `b` as the second argument. The function adds these two numbers and returns the result.\n"
   ]
  },
  {
   "cell_type": "markdown",
   "metadata": {},
   "source": [
    "**Example 2: A Function to Greet a User**\n"
   ]
  },
  {
   "cell_type": "code",
   "execution_count": 3,
   "metadata": {},
   "outputs": [],
   "source": [
    "def greet(name, greeting):\n",
    "    return f\"{greeting}, {name}!\"\n"
   ]
  },
  {
   "cell_type": "code",
   "execution_count": 4,
   "metadata": {},
   "outputs": [
    {
     "data": {
      "text/plain": [
       "'Hello, Alice!'"
      ]
     },
     "execution_count": 4,
     "metadata": {},
     "output_type": "execute_result"
    }
   ],
   "source": [
    "# Calling the function with positional arguments\n",
    "message = greet('Alice', 'Hello')\n",
    "message"
   ]
  },
  {
   "cell_type": "markdown",
   "metadata": {},
   "source": [
    "In the `greet` function, `name` and `greeting` are positional parameters. Calling `greet('Alice', 'Hello')` results in `name` being 'Alice' and `greeting` being 'Hello'. The order is important here; reversing the arguments would change the meaning of the message.\n"
   ]
  },
  {
   "cell_type": "markdown",
   "metadata": {},
   "source": [
    "**Example 3: A Function to Calculate Area of a Rectangle**\n"
   ]
  },
  {
   "cell_type": "code",
   "execution_count": 5,
   "metadata": {},
   "outputs": [],
   "source": [
    "def calculate_area(length, width):\n",
    "    return length * width\n"
   ]
  },
  {
   "cell_type": "code",
   "execution_count": 6,
   "metadata": {},
   "outputs": [
    {
     "data": {
      "text/plain": [
       "50"
      ]
     },
     "execution_count": 6,
     "metadata": {},
     "output_type": "execute_result"
    }
   ],
   "source": [
    "# Calling the function with positional arguments\n",
    "area = calculate_area(10, 5)\n",
    "area"
   ]
  },
  {
   "cell_type": "markdown",
   "metadata": {},
   "source": [
    "Here, `calculate_area` has two parameters: `length` and `width`. When we call `calculate_area(10, 5)`, the `length` is set to `10` and the `width` to `5`. The function multiplies these values to compute the area of a rectangle.\n"
   ]
  },
  {
   "cell_type": "markdown",
   "metadata": {},
   "source": [
    "**Example 4: A Function to Concatenate Strings**\n"
   ]
  },
  {
   "cell_type": "code",
   "execution_count": 7,
   "metadata": {},
   "outputs": [],
   "source": [
    "def concatenate_strings(string1, string2):\n",
    "    return string1 + string2\n"
   ]
  },
  {
   "cell_type": "code",
   "execution_count": 8,
   "metadata": {},
   "outputs": [
    {
     "data": {
      "text/plain": [
       "'HelloWorld'"
      ]
     },
     "execution_count": 8,
     "metadata": {},
     "output_type": "execute_result"
    }
   ],
   "source": [
    "# Calling the function with positional arguments\n",
    "full_string = concatenate_strings('Hello', 'World')\n",
    "full_string"
   ]
  },
  {
   "cell_type": "markdown",
   "metadata": {},
   "source": [
    "The `concatenate_strings` function requires two strings, `string1` and `string2`, and concatenates them in the order they are given. The call `concatenate_strings('Hello', 'World')` returns 'HelloWorld'.\n"
   ]
  },
  {
   "cell_type": "markdown",
   "metadata": {},
   "source": [
    "As you can see from these examples, positional arguments are a fundamental aspect of Python functions, allowing you to pass the necessary information in a specific order. This order must be respected both when defining the function and when calling it."
   ]
  },
  {
   "cell_type": "markdown",
   "metadata": {},
   "source": [
    "## <a id='toc2_'></a>[Keyword Arguments](#toc0_)"
   ]
  },
  {
   "cell_type": "markdown",
   "metadata": {},
   "source": [
    "Keyword arguments in Python are a way to pass values to functions using the names of the parameters, regardless of their position in the function definition. This means you can specify which parameter each argument should be assigned to by name, making your function calls more explicit and flexible.\n"
   ]
  },
  {
   "cell_type": "markdown",
   "metadata": {},
   "source": [
    "The advantages of using keyword arguments are numerous:\n",
    "\n",
    "1. **Readability**: Keyword arguments make your code more readable by explicitly stating what each argument represents in the function call.\n",
    "2. **Flexibility**: You can reorder arguments in the function call, which can be convenient if a function has many parameters.\n",
    "3. **Default Values**: Functions with keyword arguments can have default values, allowing you to call the function with fewer arguments than defined parameters.\n"
   ]
  },
  {
   "cell_type": "markdown",
   "metadata": {},
   "source": [
    "Let's look at some examples to see how keyword arguments are used:\n"
   ]
  },
  {
   "cell_type": "markdown",
   "metadata": {},
   "source": [
    "**Example 1: A Function to Introduce a Person**\n"
   ]
  },
  {
   "cell_type": "code",
   "execution_count": 9,
   "metadata": {},
   "outputs": [],
   "source": [
    "def introduce_person(name, age, occupation):\n",
    "    return f\"My name is {name}, I am {age} years old and I work as an {occupation}.\"\n"
   ]
  },
  {
   "cell_type": "code",
   "execution_count": 10,
   "metadata": {},
   "outputs": [
    {
     "data": {
      "text/plain": [
       "'My name is John, I am 30 years old and I work as an engineer.'"
      ]
     },
     "execution_count": 10,
     "metadata": {},
     "output_type": "execute_result"
    }
   ],
   "source": [
    "# Using keyword arguments\n",
    "introduction = introduce_person(age=30, name=\"John\", occupation=\"engineer\")\n",
    "introduction"
   ]
  },
  {
   "cell_type": "markdown",
   "metadata": {},
   "source": [
    "In the `introduce_person` function, the order of the arguments in the call does not matter because each argument is passed by its keyword. This enhances clarity, especially in functions with many parameters or when the value of an argument is not self-evident.\n"
   ]
  },
  {
   "cell_type": "markdown",
   "metadata": {},
   "source": [
    "**Example 2: A Function with Default Values**\n"
   ]
  },
  {
   "cell_type": "code",
   "execution_count": 11,
   "metadata": {},
   "outputs": [],
   "source": [
    "def create_email(to, subject, body, cc=None, bcc=None):\n",
    "    email = f\"To: {to}\\nSubject: {subject}\\nBody: {body}\"\n",
    "    if cc:\n",
    "        email += f\"\\nCC: {cc}\"\n",
    "    if bcc:\n",
    "        email += f\"\\nBCC: {bcc}\"\n",
    "    return email\n",
    "\n",
    "# Using keyword arguments with default values\n",
    "email_message = create_email(to=\"alice@example.com\", subject=\"Meeting Update\", body=\"Please find the updated meeting schedule attached.\")"
   ]
  },
  {
   "cell_type": "code",
   "execution_count": 12,
   "metadata": {},
   "outputs": [
    {
     "name": "stdout",
     "output_type": "stream",
     "text": [
      "To: alice@example.com\n",
      "Subject: Meeting Update\n",
      "Body: Please find the updated meeting schedule attached.\n"
     ]
    }
   ],
   "source": [
    "print(email_message)"
   ]
  },
  {
   "cell_type": "markdown",
   "metadata": {},
   "source": [
    "The `create_email` function has optional parameters `cc` and `bcc` that have default values of `None`. By using keyword arguments, we can easily skip these optional parameters, and the function will still work as expected. Keyword arguments combined with default values add a layer of versatility to function parameter handling.\n"
   ]
  },
  {
   "cell_type": "markdown",
   "metadata": {},
   "source": [
    "Using keyword arguments is particularly useful for functions that require many parameters or have optional parameters. They allow for more expressive and maintainable code, as well as provide flexibility in how functions are called."
   ]
  },
  {
   "cell_type": "markdown",
   "metadata": {},
   "source": [
    "But be careful, when you are calling a function, any keyword arguments must come after all the positional arguments. This is a rule in Python because once a keyword argument is used, the interpreter expects that all subsequent arguments will also be named. If a keyword argument is placed before positional arguments, it causes a syntax error."
   ]
  },
  {
   "cell_type": "markdown",
   "metadata": {},
   "source": [
    "Here's an example that demonstrates the correct order of positional and keyword arguments:\n"
   ]
  },
  {
   "cell_type": "code",
   "execution_count": 13,
   "metadata": {},
   "outputs": [],
   "source": [
    "def register_user(username, email, password, is_active=True, last_login=None):\n",
    "    user_info = {\n",
    "        'username': username,\n",
    "        'email': email,\n",
    "        'password': password,\n",
    "        'is_active': is_active,\n",
    "        'last_login': last_login\n",
    "    }\n",
    "    # Assume we do something with user_info here, like save it to a database\n",
    "    return user_info\n"
   ]
  },
  {
   "cell_type": "code",
   "execution_count": 14,
   "metadata": {},
   "outputs": [
    {
     "data": {
      "text/plain": [
       "{'username': 'john_doe',\n",
       " 'email': 'john@example.com',\n",
       " 'password': 's3cr3tp@ssw0rd',\n",
       " 'is_active': True,\n",
       " 'last_login': '2023-01-01'}"
      ]
     },
     "execution_count": 14,
     "metadata": {},
     "output_type": "execute_result"
    }
   ],
   "source": [
    "# Correct use of positional followed by keyword arguments\n",
    "user = register_user('john_doe', 'john@example.com', 's3cr3tp@ssw0rd', last_login='2023-01-01')\n",
    "user"
   ]
  },
  {
   "cell_type": "markdown",
   "metadata": {},
   "source": [
    "In this example, `username`, `email`, and `password` are positional arguments, while `last_login` is a keyword argument. Note that the keyword argument `last_login` comes after the positional arguments.\n"
   ]
  },
  {
   "cell_type": "markdown",
   "metadata": {},
   "source": [
    "If you were to place a keyword argument before a positional argument, like this:\n"
   ]
  },
  {
   "cell_type": "code",
   "execution_count": 15,
   "metadata": {},
   "outputs": [
    {
     "ename": "SyntaxError",
     "evalue": "positional argument follows keyword argument (2835788125.py, line 2)",
     "output_type": "error",
     "traceback": [
      "\u001b[0;36m  Cell \u001b[0;32mIn[15], line 2\u001b[0;36m\u001b[0m\n\u001b[0;31m    user = register_user(username='john_doe', 'john@example.com', 's3cr3tp@ssw0rd')\u001b[0m\n\u001b[0m                                                                                  ^\u001b[0m\n\u001b[0;31mSyntaxError\u001b[0m\u001b[0;31m:\u001b[0m positional argument follows keyword argument\n"
     ]
    }
   ],
   "source": [
    "# Incorrect use of keyword before positional arguments - will raise a syntax error\n",
    "user = register_user(username='john_doe', 'john@example.com', 's3cr3tp@ssw0rd')"
   ]
  },
  {
   "cell_type": "markdown",
   "metadata": {},
   "source": [
    "Python would raise a `SyntaxError` because it does not expect to encounter a positional argument after a keyword argument has been specified.\n"
   ]
  },
  {
   "cell_type": "markdown",
   "metadata": {},
   "source": [
    "Always remember to place keyword arguments after positional arguments to adhere to Python's syntax rules and to avoid any unexpected errors."
   ]
  },
  {
   "cell_type": "markdown",
   "metadata": {},
   "source": [
    "## <a id='toc3_'></a>[Unpacking Arguments](#toc0_)"
   ]
  },
  {
   "cell_type": "markdown",
   "metadata": {},
   "source": [
    "In Python, you can use the unpacking operators `*` and `**` to pass multiple arguments to a function in a more flexible way. This feature is particularly useful when you have a sequence (like a list or a tuple) or a dictionary of arguments that you need to pass to a function. Unpacking allows you to take these collections and \"unpack\" them into separate arguments within the function call.\n"
   ]
  },
  {
   "cell_type": "markdown",
   "metadata": {},
   "source": [
    "### <a id='toc3_1_'></a>[Unpacking Iterables with `*`](#toc0_)\n"
   ]
  },
  {
   "cell_type": "markdown",
   "metadata": {},
   "source": [
    "The `*` operator can be used to unpack an iterable, such as a list or a tuple, into positional arguments.\n"
   ]
  },
  {
   "cell_type": "markdown",
   "metadata": {},
   "source": [
    "Here's an example to illustrate this concept:\n"
   ]
  },
  {
   "cell_type": "code",
   "execution_count": 16,
   "metadata": {},
   "outputs": [],
   "source": [
    "def sum_numbers(a, b, c):\n",
    "    return a + b + c"
   ]
  },
  {
   "cell_type": "code",
   "execution_count": 17,
   "metadata": {},
   "outputs": [],
   "source": [
    "# A list of numbers\n",
    "numbers = [1, 2, 3]"
   ]
  },
  {
   "cell_type": "code",
   "execution_count": 18,
   "metadata": {},
   "outputs": [
    {
     "data": {
      "text/plain": [
       "6"
      ]
     },
     "execution_count": 18,
     "metadata": {},
     "output_type": "execute_result"
    }
   ],
   "source": [
    "# Unpacking the list into the function call\n",
    "result = sum_numbers(*numbers)\n",
    "result"
   ]
  },
  {
   "cell_type": "markdown",
   "metadata": {},
   "source": [
    "In this example, the `sum_numbers` function expects three arguments. By placing a `*` before the list `numbers`, each element of the list is passed as a separate positional argument to the function. This unpacks the list so that `1` is assigned to `a`, `2` to `b`, and `3` to `c`.\n"
   ]
  },
  {
   "cell_type": "markdown",
   "metadata": {},
   "source": [
    "### <a id='toc3_2_'></a>[Unpacking Dictionaries with `**`](#toc0_)\n"
   ]
  },
  {
   "cell_type": "markdown",
   "metadata": {},
   "source": [
    "The `**` operator is used to unpack a dictionary into keyword arguments. The keys of the dictionary become the parameter names, and the values become the corresponding arguments.\n"
   ]
  },
  {
   "cell_type": "markdown",
   "metadata": {},
   "source": [
    "Consider the following example:\n"
   ]
  },
  {
   "cell_type": "code",
   "execution_count": 19,
   "metadata": {},
   "outputs": [],
   "source": [
    "def create_profile(name, age, profession):\n",
    "    return f\"{name} is a {age}-year-old {profession}.\""
   ]
  },
  {
   "cell_type": "code",
   "execution_count": 20,
   "metadata": {},
   "outputs": [],
   "source": [
    "# A dictionary of information\n",
    "profile_info = {'name': 'Alice', 'age': 30, 'profession': 'developer'}"
   ]
  },
  {
   "cell_type": "code",
   "execution_count": 21,
   "metadata": {},
   "outputs": [
    {
     "data": {
      "text/plain": [
       "'Alice is a 30-year-old developer.'"
      ]
     },
     "execution_count": 21,
     "metadata": {},
     "output_type": "execute_result"
    }
   ],
   "source": [
    "# Unpacking the dictionary into the function call\n",
    "profile = create_profile(**profile_info)\n",
    "profile"
   ]
  },
  {
   "cell_type": "markdown",
   "metadata": {},
   "source": [
    "In this case, `create_profile` requires three keyword arguments: `name`, `age`, and `profession`. Using the `**` operator before the dictionary `profile_info` unpacks it, so the function call effectively becomes `create_profile(name='Alice', age=30, profession='developer')`.\n"
   ]
  },
  {
   "cell_type": "markdown",
   "metadata": {},
   "source": [
    "Unpacking arguments can greatly enhance the flexibility of function calls, especially when dealing with a variable number of arguments or when manipulating argument lists or dictionaries programmatically. It's a powerful feature that can lead to more concise and readable code."
   ]
  },
  {
   "cell_type": "markdown",
   "metadata": {},
   "source": [
    "## <a id='toc4_'></a>[Best Practices for Using Function Arguments](#toc0_)"
   ]
  },
  {
   "cell_type": "markdown",
   "metadata": {},
   "source": [
    "Writing clear and maintainable code is crucial for long-term project success and collaboration among developers. When it comes to using function arguments in Python, adhering to best practices can significantly enhance code readability and reduce the likelihood of bugs. Here are some guidelines to follow:\n"
   ]
  },
  {
   "cell_type": "markdown",
   "metadata": {},
   "source": [
    "### <a id='toc4_1_'></a>[Descriptive Argument Names](#toc0_)\n"
   ]
  },
  {
   "cell_type": "markdown",
   "metadata": {},
   "source": [
    "Choose argument names that are descriptive and provide insight into the kind of data that should be passed to the function. This makes the function's purpose clearer to anyone reading the code.\n"
   ]
  },
  {
   "cell_type": "code",
   "execution_count": 22,
   "metadata": {},
   "outputs": [],
   "source": [
    "# Good practice\n",
    "def send_email(recipient, subject, message_body):\n",
    "    pass\n",
    "\n",
    "# Avoid vague names\n",
    "def send_email(a, b, c):\n",
    "    pass"
   ]
  },
  {
   "cell_type": "markdown",
   "metadata": {},
   "source": [
    "### <a id='toc4_2_'></a>[Use Keyword Arguments to Enhance Readability](#toc0_)\n"
   ]
  },
  {
   "cell_type": "markdown",
   "metadata": {},
   "source": [
    "Employ keyword arguments for functions with more than two or three parameters, especially if the arguments include boolean flags or other values that might not be clear from context alone.\n"
   ]
  },
  {
   "cell_type": "code",
   "execution_count": 23,
   "metadata": {},
   "outputs": [],
   "source": [
    "# Good practice\n",
    "def set_permissions(read=False, write=False, delete=False):\n",
    "    pass\n",
    "\n",
    "set_permissions(read=True, delete=True)"
   ]
  },
  {
   "cell_type": "markdown",
   "metadata": {},
   "source": [
    "### <a id='toc4_3_'></a>[Consistent Ordering of Arguments](#toc0_)\n"
   ]
  },
  {
   "cell_type": "markdown",
   "metadata": {},
   "source": [
    "When defining functions that are similar or related, keep a consistent ordering of the arguments. This predictability makes it easier to remember the correct order when calling the functions.\n"
   ]
  },
  {
   "cell_type": "code",
   "execution_count": 24,
   "metadata": {},
   "outputs": [],
   "source": [
    "# Good practice\n",
    "def process_data(input_data, output_format, verbose=False):\n",
    "    pass\n",
    "\n",
    "def transform_data(input_data, transformation_type, verbose=False):\n",
    "    pass"
   ]
  },
  {
   "cell_type": "markdown",
   "metadata": {},
   "source": [
    "Following these best practices for using function arguments will contribute to code that is easier to understand and maintain, and it will help prevent common pitfalls that can lead to errors in your programs."
   ]
  },
  {
   "cell_type": "markdown",
   "metadata": {},
   "source": [
    "<img src=\"../images/exercise-banner.gif\" width=\"800\">"
   ]
  },
  {
   "cell_type": "markdown",
   "metadata": {},
   "source": [
    "## <a id='toc5_'></a>[Practice Exercise](#toc0_)"
   ]
  },
  {
   "cell_type": "markdown",
   "metadata": {},
   "source": [
    "You are tasked with creating a command-line tool that processes user data for a small software application. The tool will need to take user information, validate it, and then output a formatted summary. This exercise will test your understanding of function arguments, including how to use positional, keyword, and unpacking arguments effectively.\n"
   ]
  },
  {
   "cell_type": "markdown",
   "metadata": {},
   "source": [
    "**Tasks:**\n",
    "\n",
    "1. Define a function named `validate_user` that takes three positional arguments: `username`, `email`, and `age`. The function should check if the `username` is a non-empty string, the `email` contains an \"@\" symbol, and the `age` is a positive integer. The function should return `True` if all checks pass, or `False` otherwise.\n",
    "\n",
    "2. Define a function named `format_user_data` that takes three keyword arguments: `username`, `email`, and `age`. The function should return a string formatted as \"Username: {username}, Email: {email}, Age: {age}\".\n",
    "\n",
    "3. Write a main function named `process_user_data` that takes an unpacked list of user data. Within this function, call `validate_user` to ensure that the data is correct. If the data is valid, call `format_user_data` and print the output. If the data is invalid, print \"Invalid user data provided.\"\n",
    "\n",
    "4. Call the `process_user_data` function twice: first with a valid list of user data and then with an invalid list. Use the unpacking operator to pass the list of data to the function.\n",
    "\n",
    "5. Modify the `process_user_data` function to also accept and correctly handle keyword arguments for user data.\n",
    "\n",
    "6. Call the `process_user_data` function with keyword arguments to demonstrate that it works with both positional and keyword arguments.\n"
   ]
  },
  {
   "cell_type": "markdown",
   "metadata": {},
   "source": [
    "**Expected Output:**\n"
   ]
  },
  {
   "cell_type": "markdown",
   "metadata": {},
   "source": [
    "For the three calls to `process_user_data`, you should see the following outputs (assuming the first call is valid, the second is invalid, and the third is valid with keyword arguments):\n",
    "\n",
    "```sh\n",
    "Username: johndoe, Email: johndoe@example.com, Age: 28\n",
    "Invalid user data provided.\n",
    "Username: janedoe, Email: janedoe@example.com, Age: 32\n",
    "```\n"
   ]
  },
  {
   "cell_type": "markdown",
   "metadata": {},
   "source": [
    "\n",
    "**Hints:**\n",
    "\n",
    "- Remember to use type hints to clarify what types of arguments your functions should accept.\n",
    "- Think about how you can use if statements to perform the validation checks in the `validate_user` function.\n",
    "- Consider using f-strings to create the formatted string in the `format_user_data` function.\n",
    "- Use conditional logic in the `process_user_data` function to determine whether to unpack the arguments as positional or keyword arguments.\n"
   ]
  },
  {
   "cell_type": "markdown",
   "metadata": {},
   "source": [
    "This exercise should help reinforce your understanding of how to handle various types of function arguments and how to use them to create clear, maintainable code. Good luck!"
   ]
  },
  {
   "cell_type": "markdown",
   "metadata": {},
   "source": [
    "### <a id='toc5_1_'></a>[Solution](#toc0_)"
   ]
  },
  {
   "cell_type": "markdown",
   "metadata": {},
   "source": [
    "Here is a solution to the exercise, with comments indicating which task each part addresses:"
   ]
  },
  {
   "cell_type": "code",
   "execution_count": 25,
   "metadata": {},
   "outputs": [],
   "source": [
    "# Task 1: Define the validate_user function\n",
    "def validate_user(username, email, age):\n",
    "    # Check if the username is a non-empty string\n",
    "    if type(username) != str or not username.strip():\n",
    "        return False\n",
    "    # Check if the email contains an '@' symbol\n",
    "    if '@' not in email or type(email) != str:\n",
    "        return False\n",
    "    # Check if the age is a positive integer\n",
    "    if type(age) != int or age <= 0:\n",
    "        return False\n",
    "    return True\n"
   ]
  },
  {
   "cell_type": "code",
   "execution_count": 26,
   "metadata": {},
   "outputs": [],
   "source": [
    "# Task 2: Define the format_user_data function\n",
    "def format_user_data(username, email, age):\n",
    "    return f\"Username: {username}, Email: {email}, Age: {age}\"\n"
   ]
  },
  {
   "cell_type": "code",
   "execution_count": 27,
   "metadata": {},
   "outputs": [],
   "source": [
    "# Task 3 and 5: Write the process_user_data function to handle both *args and **kwargs\n",
    "def process_user_data(*args, **kwargs):\n",
    "    is_valid = False\n",
    "    if args:\n",
    "        is_valid = validate_user(*args)\n",
    "    elif kwargs:\n",
    "        is_valid = validate_user(**kwargs)\n",
    "\n",
    "    if is_valid:\n",
    "        user_data = \"\"\n",
    "        if args:\n",
    "            user_data = format_user_data(*args)\n",
    "        elif kwargs:\n",
    "            user_data = format_user_data(**kwargs)\n",
    "        print(user_data)\n",
    "    else:\n",
    "        print(\"Invalid user data provided.\")\n"
   ]
  },
  {
   "cell_type": "code",
   "execution_count": 28,
   "metadata": {},
   "outputs": [
    {
     "name": "stdout",
     "output_type": "stream",
     "text": [
      "Username: johndoe, Email: johndoe@example.com, Age: 28\n"
     ]
    }
   ],
   "source": [
    "# Task 4: Call the process_user_data function with a valid list of user data\n",
    "valid_user_data = ['johndoe', 'johndoe@example.com', 28]\n",
    "process_user_data(*valid_user_data)\n"
   ]
  },
  {
   "cell_type": "code",
   "execution_count": 29,
   "metadata": {},
   "outputs": [
    {
     "name": "stdout",
     "output_type": "stream",
     "text": [
      "Invalid user data provided.\n"
     ]
    }
   ],
   "source": [
    "# Task 4: Call the process_user_data function with an invalid list of user data\n",
    "invalid_user_data = ['', 'johndoeexample.com', 'twenty-eight']\n",
    "process_user_data(*invalid_user_data)"
   ]
  },
  {
   "cell_type": "code",
   "execution_count": 30,
   "metadata": {},
   "outputs": [
    {
     "name": "stdout",
     "output_type": "stream",
     "text": [
      "Username: janedoe, Email: janedoe@example.com, Age: 32\n"
     ]
    }
   ],
   "source": [
    "# Task 6: Call the process_user_data function with keyword arguments\n",
    "process_user_data(username='janedoe', email='janedoe@example.com', age=32)"
   ]
  },
  {
   "cell_type": "markdown",
   "metadata": {},
   "source": [
    "When you run this code, you should see the expected output:\n",
    "\n",
    "```sh\n",
    "Username: johndoe, Email: johndoe@example.com, Age: 28\n",
    "Invalid user data provided.\n",
    "Username: janedoe, Email: janedoe@example.com, Age: 32\n",
    "```\n"
   ]
  },
  {
   "cell_type": "markdown",
   "metadata": {},
   "source": [
    "> **Note**\n",
    "> In the `validate_user` function, we used the `type` function to check the type of the argument. This is a simple way to ensure that the argument is of the expected data type. For example, `type(username) == str` checks that `username` is indeed a string. Later in your studies, you will learn about the `isinstance()` function, which is a more flexible way to perform type checking. It allows you to check if an object is an instance of a class or a subclass thereof. For instance, `isinstance(username, str)` would be the more idiomatic way to check if `username` is a string."
   ]
  }
 ],
 "metadata": {
  "kernelspec": {
   "display_name": "py310",
   "language": "python",
   "name": "python3"
  },
  "language_info": {
   "codemirror_mode": {
    "name": "ipython",
    "version": 3
   },
   "file_extension": ".py",
   "mimetype": "text/x-python",
   "name": "python",
   "nbconvert_exporter": "python",
   "pygments_lexer": "ipython3",
   "version": "3.10.12"
  }
 },
 "nbformat": 4,
 "nbformat_minor": 2
}
