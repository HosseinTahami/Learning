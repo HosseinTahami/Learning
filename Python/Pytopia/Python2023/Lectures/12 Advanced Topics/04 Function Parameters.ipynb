{
 "cells": [
  {
   "cell_type": "markdown",
   "metadata": {},
   "source": [
    "<img src=\"./images/banner.png\" width=\"800\">"
   ]
  },
  {
   "cell_type": "markdown",
   "metadata": {},
   "source": [
    "# Understanding Function Parameters"
   ]
  },
  {
   "cell_type": "markdown",
   "metadata": {},
   "source": [
    "When writing functions, one of the most crucial concepts to grasp is the use of parameters. Function parameters are the variables listed inside the parentheses in the function definition. They act as placeholders for the values that the function can accept when it is called, allowing the function to process different inputs and perform its task.\n"
   ]
  },
  {
   "cell_type": "markdown",
   "metadata": {},
   "source": [
    "Parameters are fundamental to the functionality of functions because they provide the means to pass data into functions. This makes functions incredibly flexible, as the same function can operate on different pieces of data each time it is called. Consider a function as a machine in a factory; the parameters are like the slots where the machine takes different materials to produce customized products.\n"
   ]
  },
  {
   "cell_type": "markdown",
   "metadata": {},
   "source": [
    "<img src=\"./images/parameters-arguments.png\" width=\"600\">"
   ]
  },
  {
   "cell_type": "markdown",
   "metadata": {},
   "source": [
    "By using parameters, functions become modular. Modularity refers to the concept of creating distinct, independent blocks of code that can be reused and combined in various ways. Each function with well-defined parameters can serve as a self-contained module that can be easily understood, tested, debugged, and integrated into larger applications. This design principle not only enhances reusability but also improves the maintainability of the codebase.\n"
   ]
  },
  {
   "cell_type": "markdown",
   "metadata": {},
   "source": [
    "For instance, a `print_greeting` function might take a `name` parameter and use it to print a personalized greeting. Here's how it looks in practice:\n"
   ]
  },
  {
   "cell_type": "code",
   "execution_count": 1,
   "metadata": {},
   "outputs": [],
   "source": [
    "def print_greeting(name):\n",
    "    \"\"\"Print a personalized greeting message.\"\"\"\n",
    "    print(f\"Hello, {name}! Welcome to the course.\")\n"
   ]
  },
  {
   "cell_type": "code",
   "execution_count": 2,
   "metadata": {},
   "outputs": [
    {
     "name": "stdout",
     "output_type": "stream",
     "text": [
      "Hello, Alice! Welcome to the course.\n",
      "Hello, Bob! Welcome to the course.\n"
     ]
    }
   ],
   "source": [
    "# Calling the function with the 'name' parameter\n",
    "print_greeting(\"Alice\")  # Outputs: Hello, Alice! Welcome to the course.\n",
    "print_greeting(\"Bob\")    # Outputs: Hello, Bob! Welcome to the course."
   ]
  },
  {
   "cell_type": "markdown",
   "metadata": {},
   "source": [
    "In this simple example, the `print_greeting` function is designed to work with any name passed to it. The `name` parameter inside the function definition is a placeholder that is replaced by the actual argument, `\"Alice\"` or `\"Bob\"`, when the function is called. This illustrates how parameters contribute to the flexibility and modularity of functions, enabling one function to serve many different use cases."
   ]
  },
  {
   "cell_type": "markdown",
   "metadata": {},
   "source": [
    "**Table of contents**<a id='toc0_'></a>    \n",
    "- [Types of Parameters](#toc1_)    \n",
    "  - [Positional Parameters](#toc1_1_)    \n",
    "  - [Keyword Parameters](#toc1_2_)    \n",
    "  - [Default Parameters](#toc1_3_)    \n",
    "  - [Variable-Length Parameters](#toc1_4_)    \n",
    "  - [Best Practices for Using `*args` and `**kwargs`](#toc1_5_)    \n",
    "- [Mixing Different Types of Parameters](#toc2_)    \n",
    "  - [Rules and Syntax for Mixing Parameter Types](#toc2_1_)    \n",
    "  - [Practical Examples Demonstrating Mixed Parameter Types](#toc2_2_)    \n",
    "- [Best Practices for Defining Parameters](#toc3_)    \n",
    "  - [Tips for Naming and Ordering Parameters](#toc3_1_)    \n",
    "  - [Guidelines for Using Different Types of Parameters](#toc3_2_)    \n",
    "  - [Examples](#toc3_3_)    \n",
    "- [Practice Exercise](#toc4_)    \n",
    "    - [Tasks:](#toc4_1_1_)    \n",
    "    - [Sample Calls and Expected Outputs:](#toc4_1_2_)    \n",
    "  - [Solution](#toc4_2_)    \n",
    "\n",
    "<!-- vscode-jupyter-toc-config\n",
    "\tnumbering=false\n",
    "\tanchor=true\n",
    "\tflat=false\n",
    "\tminLevel=2\n",
    "\tmaxLevel=6\n",
    "\t/vscode-jupyter-toc-config -->\n",
    "<!-- THIS CELL WILL BE REPLACED ON TOC UPDATE. DO NOT WRITE YOUR TEXT IN THIS CELL -->"
   ]
  },
  {
   "cell_type": "markdown",
   "metadata": {},
   "source": [
    "## <a id='toc1_'></a>[Types of Parameters](#toc0_)"
   ]
  },
  {
   "cell_type": "markdown",
   "metadata": {},
   "source": [
    "In Python, functions can have various types of parameters:\n",
    "- Positional\n",
    "- Keyword\n",
    "- Default\n",
    "- Variable-length parameters\n",
    "\n",
    "Each type serves a different purpose and gives you the flexibility to create functions that can handle a wide variety of input scenarios.\n"
   ]
  },
  {
   "cell_type": "markdown",
   "metadata": {},
   "source": [
    "### <a id='toc1_1_'></a>[Positional Parameters](#toc0_)\n"
   ]
  },
  {
   "cell_type": "markdown",
   "metadata": {},
   "source": [
    "Positional parameters are the most common and are defined by the order in which they appear in the function definition. When calling a function, you must pass arguments to positional parameters in the same order that the parameters were defined.\n"
   ]
  },
  {
   "cell_type": "markdown",
   "metadata": {},
   "source": [
    "```python\n",
    "def greet(first_name, last_name):\n",
    "    print(f\"Hello, {first_name} {last_name}!\")\n",
    "\n",
    "greet(\"Jane\", \"Doe\")  # Correct order of arguments\n",
    "```\n"
   ]
  },
  {
   "cell_type": "markdown",
   "metadata": {},
   "source": [
    "In the example above, `first_name` and `last_name` are positional parameters. When calling `greet`, the first argument `\"Jane\"` is assigned to `first_name`, and the second argument `\"Doe\"` is assigned to `last_name`.\n"
   ]
  },
  {
   "cell_type": "markdown",
   "metadata": {},
   "source": [
    "### <a id='toc1_2_'></a>[Keyword Parameters](#toc0_)\n"
   ]
  },
  {
   "cell_type": "markdown",
   "metadata": {},
   "source": [
    "Keyword parameters allow you to pass arguments to a function by explicitly stating which parameter each argument corresponds to in the function call. This can make your code more readable and allows you to ignore the order of the parameters as they were defined.\n"
   ]
  },
  {
   "cell_type": "markdown",
   "metadata": {},
   "source": [
    "```python\n",
    "def register_user(email, username):\n",
    "    print(f\"User {username} registered with email {email}.\")\n",
    "\n",
    "register_user(username=\"johndoe\", email=\"john@example.com\")  # Using keyword arguments\n",
    "```\n"
   ]
  },
  {
   "cell_type": "markdown",
   "metadata": {},
   "source": [
    "Here, `email` and `username` are keyword parameters. In the `register_user` call, the arguments are specified using the names of the parameters, making it clear which argument corresponds to which parameter, regardless of their order.\n"
   ]
  },
  {
   "cell_type": "markdown",
   "metadata": {},
   "source": [
    "### <a id='toc1_3_'></a>[Default Parameters](#toc0_)\n"
   ]
  },
  {
   "cell_type": "markdown",
   "metadata": {},
   "source": [
    "Default parameters allow you to specify a default value for a parameter that will be used if no argument is passed for that parameter.\n"
   ]
  },
  {
   "cell_type": "code",
   "execution_count": 3,
   "metadata": {},
   "outputs": [],
   "source": [
    "def make_coffee(size, coffee_type=\"espresso\"):\n",
    "    print(f\"Making a {size} cup of {coffee_type}.\")\n"
   ]
  },
  {
   "cell_type": "code",
   "execution_count": 4,
   "metadata": {},
   "outputs": [
    {
     "name": "stdout",
     "output_type": "stream",
     "text": [
      "Making a large cup of espresso.\n"
     ]
    }
   ],
   "source": [
    "make_coffee(\"large\")  # Only providing the 'size' argument, 'coffee_type' defaults to \"espresso\""
   ]
  },
  {
   "cell_type": "markdown",
   "metadata": {},
   "source": [
    "In the `make_coffee` function, `size` is a positional parameter, while `coffee_type` has a default value of `\"espresso\"`. When only the size is provided, `coffee_type` will automatically use the default value.\n"
   ]
  },
  {
   "cell_type": "markdown",
   "metadata": {},
   "source": [
    "### <a id='toc1_4_'></a>[Variable-Length Parameters](#toc0_)\n"
   ]
  },
  {
   "cell_type": "markdown",
   "metadata": {},
   "source": [
    "Variable-length parameters allow a function to accept an arbitrary number of arguments. The two types are `*args` for positional arguments and `**kwargs` for keyword arguments.\n"
   ]
  },
  {
   "cell_type": "markdown",
   "metadata": {},
   "source": [
    "- `*args` is used to pass a variable number of non-keyworded arguments list to the function. Inside the function, `args` is a tuple containing all of the arguments passed."
   ]
  },
  {
   "cell_type": "code",
   "execution_count": 5,
   "metadata": {},
   "outputs": [],
   "source": [
    "def sum_numbers(*args):\n",
    "    return sum(args)\n"
   ]
  },
  {
   "cell_type": "code",
   "execution_count": 6,
   "metadata": {},
   "outputs": [
    {
     "name": "stdout",
     "output_type": "stream",
     "text": [
      "10\n"
     ]
    }
   ],
   "source": [
    "print(sum_numbers(1, 2, 3, 4))  # Outputs: 10"
   ]
  },
  {
   "cell_type": "markdown",
   "metadata": {},
   "source": [
    "- `**kwargs` allows you to pass a variable number of keyword arguments dictionary to the function. Within the function, `kwargs` is a dictionary containing the names and values of the arguments.\n"
   ]
  },
  {
   "cell_type": "code",
   "execution_count": 7,
   "metadata": {},
   "outputs": [],
   "source": [
    "def print_pet_names(**kwargs):\n",
    "    for pet, name in kwargs.items():\n",
    "        print(f\"{pet}: {name}\")\n"
   ]
  },
  {
   "cell_type": "code",
   "execution_count": 8,
   "metadata": {},
   "outputs": [
    {
     "name": "stdout",
     "output_type": "stream",
     "text": [
      "dog: Rex\n",
      "cat: Whiskers\n",
      "fish: Bubbles\n"
     ]
    }
   ],
   "source": [
    "print_pet_names(dog=\"Rex\", cat=\"Whiskers\", fish=\"Bubbles\")"
   ]
  },
  {
   "cell_type": "markdown",
   "metadata": {},
   "source": [
    "In the examples above, `*args` collects any number of positional arguments into a tuple, while `**kwargs` collects any number of keyword arguments into a dictionary. These are especially useful when you want your function to be able to handle a flexible number of inputs.\n"
   ]
  },
  {
   "cell_type": "markdown",
   "metadata": {},
   "source": [
    "Understanding these different types of parameters allows you to design functions with a variety of behaviors and interfaces, making your code more dynamic and easier to use."
   ]
  },
  {
   "cell_type": "markdown",
   "metadata": {},
   "source": [
    "### <a id='toc1_5_'></a>[Best Practices for Using `*args` and `**kwargs`](#toc0_)\n"
   ]
  },
  {
   "cell_type": "markdown",
   "metadata": {},
   "source": [
    "Here are some best practices to follow when using `*args` and `**kwargs`:\n"
   ]
  },
  {
   "cell_type": "markdown",
   "metadata": {},
   "source": [
    "- Always name regular parameters before `*args` and `**kwargs`.\n",
    "- Use `*args` and `**kwargs` when you genuinely need the flexibility they offer. Do not use them if you know the exact number of arguments your function should accept, as they can complicate the function's interface and usage.\n",
    "- When using `*args` and `**kwargs`, make sure to document the function well. Clearly state the expected arguments and provide examples to help users understand how to call the function.\n",
    "- These parameters should be used to make functions easier to maintain and use, not to create functions with an overly complex or unpredictable interface.\n"
   ]
  },
  {
   "cell_type": "code",
   "execution_count": 19,
   "metadata": {},
   "outputs": [],
   "source": [
    "def create_menu(item, *sides, **drinks):\n",
    "    \"\"\"Create a menu with a main item, a list of sides, and a dictionary of drinks.\"\"\"\n",
    "    print(f\"Main item: {item}\")\n",
    "    print(\"Sides:\", \", \".join(sides))\n",
    "    if drinks:\n",
    "        print(\"Drinks:\")\n",
    "        for name, size in drinks.items():\n",
    "            print(f\"  {name}: {size}\")\n"
   ]
  },
  {
   "cell_type": "code",
   "execution_count": 20,
   "metadata": {},
   "outputs": [
    {
     "name": "stdout",
     "output_type": "stream",
     "text": [
      "Main item: Burger\n",
      "Sides: Fries, Coleslaw\n",
      "Drinks:\n",
      "  soda: Large\n",
      "  water: Small\n"
     ]
    }
   ],
   "source": [
    "# Example usage of create_menu\n",
    "create_menu(\"Burger\", \"Fries\", \"Coleslaw\", soda=\"Large\", water=\"Small\")"
   ]
  },
  {
   "cell_type": "markdown",
   "metadata": {},
   "source": [
    "In the `create_menu` function, `item` is a regular parameter, `*sides` captures any additional sides as a tuple, and `**drinks` captures drink options as a dictionary. This allows for a flexible menu creation where the number of sides and drinks can vary.\n"
   ]
  },
  {
   "cell_type": "markdown",
   "metadata": {},
   "source": [
    "By understanding and correctly utilizing `*args` and `**kwargs`, you can create functions that are adaptable to a variety of input scenarios, enhancing their utility and scalability."
   ]
  },
  {
   "cell_type": "markdown",
   "metadata": {},
   "source": [
    "## <a id='toc2_'></a>[Mixing Different Types of Parameters](#toc0_)"
   ]
  },
  {
   "cell_type": "markdown",
   "metadata": {},
   "source": [
    "In Python, it's common to mix different types of parameters within a single function definition to leverage the strengths of each. However, there's a specific order that must be followed to ensure the function definition is valid and the behavior is as expected.\n"
   ]
  },
  {
   "cell_type": "markdown",
   "metadata": {},
   "source": [
    "### <a id='toc2_1_'></a>[Rules and Syntax for Mixing Parameter Types](#toc0_)\n"
   ]
  },
  {
   "cell_type": "markdown",
   "metadata": {},
   "source": [
    "The order in which you define parameters in a function is important. When mixing different types of parameters, follow this sequence:\n",
    "\n",
    "1. Standard positional parameters\n",
    "2. Default parameters (positional parameters with default values)\n",
    "3. Variable-length positional parameters (`*args`)\n",
    "4. Keyword-only parameters (parameters following `*args` or `*`)\n",
    "5. Variable-length keyword parameters (`**kwargs`)\n"
   ]
  },
  {
   "cell_type": "markdown",
   "metadata": {},
   "source": [
    "Here is a template illustrating the order of parameters in a function definition:\n"
   ]
  },
  {
   "cell_type": "code",
   "execution_count": 21,
   "metadata": {},
   "outputs": [],
   "source": [
    "def function_name(pos1, pos2, /, pos_or_kwd, *, kwd1, kwd2, **kwargs):\n",
    "    pass"
   ]
  },
  {
   "cell_type": "markdown",
   "metadata": {},
   "source": [
    "- `pos1` and `pos2` are positional-only parameters.\n",
    "- `pos_or_kwd` can be positional or keyword.\n",
    "- `kwd1` and `kwd2` are keyword-only parameters.\n",
    "- `**kwargs` captures all additional keyword parameters.\n"
   ]
  },
  {
   "cell_type": "markdown",
   "metadata": {},
   "source": [
    "The `/` symbol is used to indicate that the parameters preceding it are positional-only. The `*` symbol is used to indicate that the following parameters are keyword-only.\n"
   ]
  },
  {
   "cell_type": "markdown",
   "metadata": {},
   "source": [
    "### <a id='toc2_2_'></a>[Practical Examples Demonstrating Mixed Parameter Types](#toc0_)\n"
   ]
  },
  {
   "cell_type": "markdown",
   "metadata": {},
   "source": [
    "Here's a function that uses a combination of parameter types:\n"
   ]
  },
  {
   "cell_type": "code",
   "execution_count": 22,
   "metadata": {},
   "outputs": [],
   "source": [
    "def create_event(title, date, *attendees, host=None, **additional_info):\n",
    "    print(f\"Event: {title}\")\n",
    "    print(f\"Date: {date}\")\n",
    "    print(f\"Attendees: {', '.join(attendees)}\")\n",
    "    print(f\"Host: {host if host else 'Not specified'}\")\n",
    "    for key, value in additional_info.items():\n",
    "        print(f\"{key}: {value}\")\n"
   ]
  },
  {
   "cell_type": "code",
   "execution_count": 23,
   "metadata": {},
   "outputs": [
    {
     "name": "stdout",
     "output_type": "stream",
     "text": [
      "Event: Python Workshop\n",
      "Date: 2023-04-01\n",
      "Attendees: Alice, Bob, Charlie\n",
      "Host: Tech Co.\n",
      "location: Conference Room B\n",
      "duration: 2 hours\n"
     ]
    }
   ],
   "source": [
    "# Example usage\n",
    "create_event(\n",
    "    \"Python Workshop\",\n",
    "    \"2023-04-01\",\n",
    "    \"Alice\", \"Bob\", \"Charlie\",\n",
    "    host=\"Tech Co.\",\n",
    "    location=\"Conference Room B\",\n",
    "    duration=\"2 hours\"\n",
    ")"
   ]
  },
  {
   "cell_type": "markdown",
   "metadata": {},
   "source": [
    "In this `create_event` function:\n",
    "\n",
    "- `title` and `date` are standard positional parameters.\n",
    "- `*attendees` is a variable-length positional parameter that captures any number of attendees.\n",
    "- `host` is a keyword parameter with a default value of `None`. It is also a keyword-only parameter because it follows the `*attendees` variable-length positional parameter.\n",
    "- `**additional_info` captures all other keyword arguments that provide additional information about the event.\n"
   ]
  },
  {
   "cell_type": "markdown",
   "metadata": {},
   "source": [
    "When calling `create_event`, you must provide the `title` and `date`. You can list as many attendees as needed. The `host` parameter is optional, but if provided, it must be specified as a keyword argument. Any other keyword arguments will be included in `additional_info`.\n"
   ]
  },
  {
   "cell_type": "markdown",
   "metadata": {},
   "source": [
    "By mixing parameter types, you create a function that can handle a variety of calling conventions, from simple positional arguments to more complex scenarios with optional and arbitrary keyword arguments. This flexibility allows you to write clear and concise functions that can serve a wide range of purposes."
   ]
  },
  {
   "cell_type": "markdown",
   "metadata": {},
   "source": [
    "## <a id='toc3_'></a>[Best Practices for Defining Parameters](#toc0_)\n"
   ]
  },
  {
   "cell_type": "markdown",
   "metadata": {},
   "source": [
    "When defining function parameters, it’s important to follow best practices to ensure that your code is readable, maintainable, and easy to use. Thoughtful naming, ordering, and usage of parameters can make a significant difference in the clarity and functionality of your functions.\n"
   ]
  },
  {
   "cell_type": "markdown",
   "metadata": {},
   "source": [
    "### <a id='toc3_1_'></a>[Tips for Naming and Ordering Parameters](#toc0_)\n"
   ]
  },
  {
   "cell_type": "markdown",
   "metadata": {},
   "source": [
    "**Descriptive Naming:**\n",
    "- Choose meaningful and descriptive names for parameters to clearly communicate their purpose.\n",
    "- Avoid single letters or vague terms, unless the function is trivial or the meaning is widely understood.\n"
   ]
  },
  {
   "cell_type": "markdown",
   "metadata": {},
   "source": [
    "**Ordering:**\n",
    "- Start with mandatory positional parameters that are essential for the function’s operation.\n",
    "- Follow with optional parameters that have default values.\n",
    "- Place `*args` next, if your function requires a variable number of positional arguments.\n",
    "- After `*args`, include keyword-only parameters, which can also have default values.\n",
    "- End with `**kwargs` if your function needs to accept arbitrary keyword arguments.\n"
   ]
  },
  {
   "cell_type": "markdown",
   "metadata": {},
   "source": [
    "**Grouping:**\n",
    "- Group similar parameters together to make the function signature easier to understand.\n",
    "- For instance, if you have several parameters related to user information, place them in sequence.\n"
   ]
  },
  {
   "cell_type": "markdown",
   "metadata": {},
   "source": [
    "### <a id='toc3_2_'></a>[Guidelines for Using Different Types of Parameters](#toc0_)\n"
   ]
  },
  {
   "cell_type": "markdown",
   "metadata": {},
   "source": [
    "**When to Use Positional Parameters:**\n",
    "- Use positional parameters for the most essential elements of your function, which should be supplied every time the function is called.\n",
    "- Ensure that the order of positional parameters is logical and follows a natural sequence that users would expect.\n"
   ]
  },
  {
   "cell_type": "markdown",
   "metadata": {},
   "source": [
    "**When to Use Default Parameters:**\n",
    "- Employ default parameters for options that have a common default setting that most users would not need to change.\n",
    "- Remember that once you introduce a default parameter in the function definition, all subsequent parameters must also have default values or be keyword-only.\n"
   ]
  },
  {
   "cell_type": "markdown",
   "metadata": {},
   "source": [
    "**When to Use `*args` and `**kwargs`:**\n",
    "- Use `*args` when your function needs flexibility in the number of positional arguments, such as in functions that aggregate or iterate over the inputs.\n",
    "- Use `**kwargs` when you want to support additional options that may vary from one function call to another, especially when those options are passed on to other functions or methods.\n"
   ]
  },
  {
   "cell_type": "markdown",
   "metadata": {},
   "source": [
    "**Explicit is Better Than Implicit:**\n",
    "- Be explicit about what your function expects; don’t rely on `*args` and `**kwargs` unless necessary.\n",
    "- If a function can work with a specific set of named parameters, prefer that over a catch-all approach.\n"
   ]
  },
  {
   "cell_type": "markdown",
   "metadata": {},
   "source": [
    "### <a id='toc3_3_'></a>[Examples](#toc0_)\n"
   ]
  },
  {
   "cell_type": "markdown",
   "metadata": {},
   "source": [
    "Here's an example of a well-defined function using these best practices:\n"
   ]
  },
  {
   "cell_type": "code",
   "execution_count": 24,
   "metadata": {},
   "outputs": [],
   "source": [
    "def send_email(sender, recipient, subject, message, cc=None, bcc=None, attachments=None):\n",
    "    \"\"\"Send an email with the given details.\"\"\"\n",
    "    # Function body ...\n",
    "    pass\n"
   ]
  },
  {
   "cell_type": "code",
   "execution_count": 25,
   "metadata": {},
   "outputs": [],
   "source": [
    "# Usage\n",
    "send_email(\n",
    "    sender=\"noreply@example.com\",\n",
    "    recipient=\"user@example.com\",\n",
    "    subject=\"Welcome!\",\n",
    "    message=\"Thank you for signing up.\",\n",
    "    cc=[\"team@example.com\", \"support@example.com\"]\n",
    ")"
   ]
  },
  {
   "cell_type": "markdown",
   "metadata": {},
   "source": [
    "In this `send_email` function:\n",
    "- The names of the parameters are clear and descriptive.\n",
    "- The most important parameters are positional and mandatory.\n",
    "- Optional parameters like `cc`, `bcc`, and `attachments` have default values set to `None`, making them optional.\n",
    "- The function signature is explicit and easy to understand, which helps users know what information is required and what is optional.\n"
   ]
  },
  {
   "cell_type": "markdown",
   "metadata": {},
   "source": [
    "By adhering to these best practices when defining function parameters, you create a codebase that is easier to work with and maintain, and you help other developers (and your future self) to use your functions correctly and effectively."
   ]
  },
  {
   "cell_type": "markdown",
   "metadata": {},
   "source": [
    "<img src=\"../images/exercise-banner.gif\" width=\"800\">"
   ]
  },
  {
   "cell_type": "markdown",
   "metadata": {},
   "source": [
    "## <a id='toc4_'></a>[Practice Exercise](#toc0_)"
   ]
  },
  {
   "cell_type": "markdown",
   "metadata": {},
   "source": [
    "In the previous lecture, we covered the different types of function parameters in Python and their importance in writing flexible and modular code. Now, it is time to apply your knowledge through a set of practical exercises that involve writing functions with a variety of parameter types.\n"
   ]
  },
  {
   "cell_type": "markdown",
   "metadata": {},
   "source": [
    "#### <a id='toc4_1_1_'></a>[Tasks:](#toc0_)\n"
   ]
  },
  {
   "cell_type": "markdown",
   "metadata": {},
   "source": [
    "1. **Positional Parameters Function**:\n",
    "   Write a function named `describe_pet` that accepts two positional parameters: `animal_type` and `pet_name`. The function should print a simple sentence such as \"I have a dog named Bruno.\" Call the function with different animal types and names.\n",
    "\n",
    "2. **Keyword Parameters Function**:\n",
    "   Modify the `describe_pet` function so that it now expects keyword arguments for the parameters. Call the function using keyword arguments to ensure it still behaves the same.\n",
    "\n",
    "3. **Default Parameter Function**:\n",
    "   Adjust the `describe_pet` function to give the `animal_type` parameter a default value of `'dog'`. Call the function only passing the `pet_name` to see the default behavior in action. Then call the function with both parameters to override the default.\n",
    "\n",
    "4. **Variable-Length Positional Parameters**:\n",
    "   Write a function `make_sandwich` that accepts a variable number of ingredients using `*args`. The function should print a sentence listing all the ingredients included in the sandwich. For example, \"Your sandwich includes: ham, cheese, and lettuce.\"\n",
    "\n",
    "5. **Variable-Length Keyword Parameters**:\n",
    "   Create a function `build_profile` that accepts a first name and a last name, and then an arbitrary number of keyword arguments (`**kwargs`). The function should return a dictionary with the first and last names and, additionally, everything provided through `**kwargs`.\n",
    "\n",
    "6. **Combining Parameter Types**:\n",
    "   Combine different parameter types in a function `create_user`. It should accept a first name (positional parameter), a last name (keyword parameter with a default value), and an arbitrary number of keyword attributes (`**kwargs`) that could include information like age, occupation, or city. Return a dictionary representing the user's information.\n",
    "\n",
    "7. **Best Practices Implementation**:\n",
    "   Review the functions you've written and adjust the naming, order of parameters, and the way you're using different types of parameters to follow best practices. Ensure your functions are readable and maintainable.\n"
   ]
  },
  {
   "cell_type": "markdown",
   "metadata": {},
   "source": [
    "#### <a id='toc4_1_2_'></a>[Sample Calls and Expected Outputs:](#toc0_)\n"
   ]
  },
  {
   "cell_type": "markdown",
   "metadata": {},
   "source": [
    "```python\n",
    "# For Task 1\n",
    "describe_pet('hamster', 'Harry')\n",
    "# Expected Output: I have a hamster named Harry.\n",
    "\n",
    "# For Task 3\n",
    "describe_pet(pet_name='Willow')\n",
    "# Expected Output: I have a dog named Willow.\n",
    "\n",
    "# For Task 4\n",
    "make_sandwich('turkey', 'avocado', 'tomato', 'mustard')\n",
    "# Expected Output: Your sandwich includes: turkey, avocado, tomato, and mustard.\n",
    "\n",
    "# For Task 5\n",
    "profile = build_profile('Albert', 'Einstein', location='Princeton', field='Physics')\n",
    "print(profile)\n",
    "# Expected Output: {'first_name': 'Albert', 'last_name': 'Einstein', 'location': 'Princeton', 'field': 'Physics'}\n",
    "\n",
    "# For Task 6\n",
    "user = create_user('Jane', city='New York', age=28, occupation='Engineer')\n",
    "print(user)\n",
    "# Expected Output: {'first_name': 'Jane', 'last_name': 'Doe', 'city': 'New York', 'age': 28, 'occupation': 'Engineer'}\n",
    "```\n"
   ]
  },
  {
   "cell_type": "markdown",
   "metadata": {},
   "source": [
    "Use these tasks to practice writing functions with different types of parameters, and remember to follow the best practices discussed in the lecture. Happy coding!"
   ]
  },
  {
   "cell_type": "markdown",
   "metadata": {},
   "source": [
    "### <a id='toc4_2_'></a>[Solution](#toc0_)\n",
    "Below are solutions for each task in the exercise, with functions that demonstrate the use of various parameter types.\n"
   ]
  },
  {
   "cell_type": "code",
   "execution_count": 26,
   "metadata": {},
   "outputs": [],
   "source": [
    "# Task 1: Positional Parameters Function\n",
    "def describe_pet(animal_type, pet_name):\n",
    "    print(f\"I have a {animal_type} named {pet_name}.\")\n"
   ]
  },
  {
   "cell_type": "code",
   "execution_count": 27,
   "metadata": {},
   "outputs": [
    {
     "name": "stdout",
     "output_type": "stream",
     "text": [
      "I have a hamster named Harry.\n"
     ]
    }
   ],
   "source": [
    "# Sample call for Task 1\n",
    "describe_pet('hamster', 'Harry')\n"
   ]
  },
  {
   "cell_type": "code",
   "execution_count": 28,
   "metadata": {},
   "outputs": [
    {
     "name": "stdout",
     "output_type": "stream",
     "text": [
      "I have a hamster named Harry.\n"
     ]
    }
   ],
   "source": [
    "# Task 2: Keyword Parameters Function\n",
    "# The same function can be used with keyword arguments\n",
    "describe_pet(animal_type='hamster', pet_name='Harry')\n"
   ]
  },
  {
   "cell_type": "code",
   "execution_count": 29,
   "metadata": {},
   "outputs": [],
   "source": [
    "# Task 3: Default Parameter Function\n",
    "def describe_pet(pet_name, animal_type='dog'):\n",
    "    print(f\"I have a {animal_type} named {pet_name}.\")\n"
   ]
  },
  {
   "cell_type": "code",
   "execution_count": 30,
   "metadata": {},
   "outputs": [
    {
     "name": "stdout",
     "output_type": "stream",
     "text": [
      "I have a dog named Willow.\n",
      "I have a parrot named Sparky.\n"
     ]
    }
   ],
   "source": [
    "# Sample calls for Task 3\n",
    "describe_pet(pet_name='Willow')\n",
    "describe_pet(pet_name='Sparky', animal_type='parrot')\n"
   ]
  },
  {
   "cell_type": "code",
   "execution_count": 31,
   "metadata": {},
   "outputs": [],
   "source": [
    "# Task 4: Variable-Length Positional Parameters\n",
    "def make_sandwich(*ingredients):\n",
    "    print(\"Your sandwich includes: \" + \", \".join(ingredients) + \".\")\n"
   ]
  },
  {
   "cell_type": "code",
   "execution_count": 32,
   "metadata": {},
   "outputs": [
    {
     "name": "stdout",
     "output_type": "stream",
     "text": [
      "Your sandwich includes: turkey, avocado, tomato, mustard.\n"
     ]
    }
   ],
   "source": [
    "# Sample call for Task 4\n",
    "make_sandwich('turkey', 'avocado', 'tomato', 'mustard')\n"
   ]
  },
  {
   "cell_type": "code",
   "execution_count": 33,
   "metadata": {},
   "outputs": [],
   "source": [
    "# Task 5: Variable-Length Keyword Parameters\n",
    "def build_profile(first_name, last_name, **kwargs):\n",
    "    profile = {'first_name': first_name, 'last_name': last_name}\n",
    "    for key, value in kwargs.items():\n",
    "        profile[key] = value\n",
    "    return profile\n"
   ]
  },
  {
   "cell_type": "code",
   "execution_count": 34,
   "metadata": {},
   "outputs": [
    {
     "name": "stdout",
     "output_type": "stream",
     "text": [
      "{'first_name': 'Albert', 'last_name': 'Einstein', 'location': 'Princeton', 'field': 'Physics'}\n"
     ]
    }
   ],
   "source": [
    "# Sample call for Task 5\n",
    "profile = build_profile('Albert', 'Einstein', location='Princeton', field='Physics')\n",
    "print(profile)\n"
   ]
  },
  {
   "cell_type": "code",
   "execution_count": 35,
   "metadata": {},
   "outputs": [],
   "source": [
    "# Task 6: Combining Parameter Types\n",
    "def create_user(first_name, last_name='Doe', **kwargs):\n",
    "    user_info = {'first_name': first_name, 'last_name': last_name}\n",
    "    for key, value in kwargs.items():\n",
    "        user_info[key] = value\n",
    "    return user_info\n"
   ]
  },
  {
   "cell_type": "code",
   "execution_count": 36,
   "metadata": {},
   "outputs": [
    {
     "name": "stdout",
     "output_type": "stream",
     "text": [
      "{'first_name': 'Jane', 'last_name': 'Doe', 'city': 'New York', 'age': 28, 'occupation': 'Engineer'}\n"
     ]
    }
   ],
   "source": [
    "# Sample call for Task 6\n",
    "user = create_user('Jane', city='New York', age=28, occupation='Engineer')\n",
    "print(user)\n"
   ]
  },
  {
   "cell_type": "code",
   "execution_count": 37,
   "metadata": {},
   "outputs": [],
   "source": [
    "# Task 7: Best Practices Implementation\n",
    "# The functions above are already following best practices with clear naming and proper parameter ordering.\n",
    "# For example, in `create_user`, the positional parameter `first_name` comes first,\n",
    "# followed by the keyword parameter `last_name` with a default value,\n",
    "# and finally `**kwargs` to capture additional keyword parameters."
   ]
  }
 ],
 "metadata": {
  "kernelspec": {
   "display_name": "py310",
   "language": "python",
   "name": "python3"
  },
  "language_info": {
   "codemirror_mode": {
    "name": "ipython",
    "version": 3
   },
   "file_extension": ".py",
   "mimetype": "text/x-python",
   "name": "python",
   "nbconvert_exporter": "python",
   "pygments_lexer": "ipython3",
   "version": "3.10.12"
  }
 },
 "nbformat": 4,
 "nbformat_minor": 2
}
