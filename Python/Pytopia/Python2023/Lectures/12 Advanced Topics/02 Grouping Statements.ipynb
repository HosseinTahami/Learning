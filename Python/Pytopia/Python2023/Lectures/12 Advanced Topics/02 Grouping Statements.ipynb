{
 "cells": [
  {
   "cell_type": "markdown",
   "metadata": {},
   "source": [
    "<img src=\"./images/banner.png\" width=\"800\">"
   ]
  },
  {
   "cell_type": "markdown",
   "metadata": {},
   "source": [
    "# Grouping Statements: Indentation and Blocks"
   ]
  },
  {
   "cell_type": "markdown",
   "metadata": {},
   "source": [
    "In Python, the way we group statements into larger chunks of code, known as blocks, is fundamental to creating structured and readable programs. Blocks allow us to do more than one thing when a particular condition is true, or when we want to repeat a set of actions multiple times.\n"
   ]
  },
  {
   "cell_type": "markdown",
   "metadata": {},
   "source": [
    "For example, consider this everyday scenario represented in pseudocode:\n",
    "\n",
    "```\n",
    "If the weather is nice, then I will:\n",
    "    Mow the lawn\n",
    "    Weed the garden\n",
    "    Take the dog for a walk\n",
    "```\n"
   ]
  },
  {
   "cell_type": "markdown",
   "metadata": {},
   "source": [
    "Here, if the weather isn't nice, none of these actions will be taken."
   ]
  },
  {
   "cell_type": "markdown",
   "metadata": {},
   "source": [
    "In Python, a block of code is defined by its indentation level. This is known as the \"off-side rule,\" a term derived from the sport of football, which describes how Python uses indentation to denote block structures.\n"
   ]
  },
  {
   "cell_type": "markdown",
   "metadata": {},
   "source": [
    "In this lecture, we take a closer look at Python's approach to blocks and indentation, and how we can use them to create more complex programs."
   ]
  },
  {
   "cell_type": "markdown",
   "metadata": {},
   "source": [
    "**Table of contents**<a id='toc0_'></a>    \n",
    "- [The Importance of Indentation](#toc1_)    \n",
    "- [No Explicit Block Delimiters](#toc2_)    \n",
    "- [Nested Blocks](#toc3_)    \n",
    "- [The Debate Over Indentation](#toc4_)    \n",
    "- [Summary](#toc5_)    \n",
    "\n",
    "<!-- vscode-jupyter-toc-config\n",
    "\tnumbering=false\n",
    "\tanchor=true\n",
    "\tflat=false\n",
    "\tminLevel=2\n",
    "\tmaxLevel=6\n",
    "\t/vscode-jupyter-toc-config -->\n",
    "<!-- THIS CELL WILL BE REPLACED ON TOC UPDATE. DO NOT WRITE YOUR TEXT IN THIS CELL -->"
   ]
  },
  {
   "cell_type": "markdown",
   "metadata": {},
   "source": [
    "## <a id='toc1_'></a>[The Importance of Indentation](#toc0_)\n"
   ]
  },
  {
   "cell_type": "markdown",
   "metadata": {},
   "source": [
    "Python uses indentation to define blocks, where contiguous statements indented to the same level form a compound statement or suite. This indentation provides a clear visual structure to your code, making it more readable and maintainable."
   ]
  },
  {
   "cell_type": "markdown",
   "metadata": {},
   "source": [
    "<img src=\"./images/if-condition.png\" width=\"400\">"
   ]
  },
  {
   "cell_type": "markdown",
   "metadata": {},
   "source": [
    "In this structure, all the statements with the same indentation level (lines 2 to 5) are considered part of the same block, executed if `<expr>` is true. After the block is executed or skipped, the program continues with `<following_statement>`.\n"
   ]
  },
  {
   "cell_type": "markdown",
   "metadata": {},
   "source": [
    "In C, the `if` statement is used with curly braces `{}` to define the scope of the conditional block. The braces are required to group multiple statements within the block.\n",
    "\n",
    "```c\n",
    "// C if statement example\n",
    "#include <stdio.h>\n",
    "\n",
    "int main() {\n",
    "    int x = 10;\n",
    "    if (x > 5) {\n",
    "        printf(\"x is greater than 5\\n\");\n",
    "        printf(\"This will print if the condition is true\\n\");\n",
    "    }\n",
    "    // This will print regardless of the condition\n",
    "    printf(\"This is outside the if block\\n\");\n",
    "    return 0;\n",
    "}\n",
    "```"
   ]
  },
  {
   "cell_type": "markdown",
   "metadata": {},
   "source": [
    "In this C code, the printf statements within the curly braces `{}` will only execute if `x` is greater than 5. The last printf statement is outside the `if` block and will execute regardless of the condition."
   ]
  },
  {
   "cell_type": "markdown",
   "metadata": {},
   "source": [
    "## <a id='toc2_'></a>[No Explicit Block Delimiters](#toc0_)\n"
   ]
  },
  {
   "cell_type": "markdown",
   "metadata": {},
   "source": [
    "Unlike many other programming languages that use specific characters (like `{}` in C, C++, and Java) to define blocks, Python's block delimiters are implicit with indentation levels. The end of a block is simply indicated by a dedent to a lower level of indentation.\n"
   ]
  },
  {
   "cell_type": "markdown",
   "metadata": {},
   "source": [
    "## <a id='toc3_'></a>[Nested Blocks](#toc0_)\n"
   ]
  },
  {
   "cell_type": "markdown",
   "metadata": {},
   "source": [
    "Blocks can be nested within other blocks in Python, allowing for complex decision-making and code organization.\n"
   ]
  },
  {
   "cell_type": "code",
   "execution_count": 1,
   "metadata": {},
   "outputs": [
    {
     "name": "stdout",
     "output_type": "stream",
     "text": [
      "Outer condition is true\n",
      "Between inner conditions\n",
      "Inner condition 2\n",
      "End of outer condition\n",
      "After outer condition\n"
     ]
    }
   ],
   "source": [
    "# Does line execute?                        Yes    No\n",
    "#                                           ---    --\n",
    "if 'foo' in ['foo', 'bar', 'baz']:        #  x\n",
    "    print('Outer condition is true')      #  x\n",
    "\n",
    "    if 10 > 20:                           #  x\n",
    "        print('Inner condition 1')        #        x\n",
    "\n",
    "    print('Between inner conditions')     #  x\n",
    "\n",
    "    if 10 < 20:                           #  x\n",
    "        print('Inner condition 2')        #  x\n",
    "\n",
    "    print('End of outer condition')       #  x\n",
    "print('After outer condition')            #  x"
   ]
  },
  {
   "cell_type": "markdown",
   "metadata": {},
   "source": [
    "## <a id='toc4_'></a>[The Debate Over Indentation](#toc0_)\n"
   ]
  },
  {
   "cell_type": "markdown",
   "metadata": {},
   "source": [
    "Programmers have strong opinions about indentation. Those in favor of Python's approach argue that it enforces readability and consistency. Critics may dislike being forced into a particular style, or they may encounter issues with mixed spaces and tabs. However, many who were initially skeptical of Python's indentation have grown to prefer it.\n"
   ]
  },
  {
   "cell_type": "markdown",
   "metadata": {},
   "source": [
    "## <a id='toc5_'></a>[Summary](#toc0_)\n"
   ]
  },
  {
   "cell_type": "markdown",
   "metadata": {},
   "source": [
    "In Python, indentation is not just a matter of style but a core aspect of the language syntax. It defines how we group statements into blocks, which in turn dictate the flow and structure of our code. As we proceed with learning Python, you'll see how indentation plays a critical role in various control structures.\n"
   ]
  },
  {
   "cell_type": "markdown",
   "metadata": {},
   "source": [
    "Let's embrace Python's clean and intuitive way of structuring code and enjoy the benefits it brings to readability and maintainability."
   ]
  }
 ],
 "metadata": {
  "kernelspec": {
   "display_name": "py310",
   "language": "python",
   "name": "python3"
  },
  "language_info": {
   "codemirror_mode": {
    "name": "ipython",
    "version": 3
   },
   "file_extension": ".py",
   "mimetype": "text/x-python",
   "name": "python",
   "nbconvert_exporter": "python",
   "pygments_lexer": "ipython3",
   "version": "3.10.12"
  }
 },
 "nbformat": 4,
 "nbformat_minor": 2
}
