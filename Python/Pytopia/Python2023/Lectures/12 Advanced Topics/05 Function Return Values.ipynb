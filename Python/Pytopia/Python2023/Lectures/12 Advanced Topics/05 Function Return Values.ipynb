{
 "cells": [
  {
   "cell_type": "markdown",
   "metadata": {},
   "source": [
    "<img src=\"./images/banner.png\" width=\"800\">"
   ]
  },
  {
   "cell_type": "markdown",
   "metadata": {},
   "source": [
    "# The `return` Statement in Python"
   ]
  },
  {
   "cell_type": "markdown",
   "metadata": {},
   "source": [
    "In the realm of programming, functions are fundamental constructs that enable developers to encapsulate code, perform tasks, and compute values. A critical aspect of functions in Python and many other programming languages is the `return` statement. This statement is pivotal for managing what a function outputs and when it stops executing. Understanding the `return` statement is essential for controlling the flow of your program and ensuring that functions interact correctly with the rest of your code.\n"
   ]
  },
  {
   "cell_type": "markdown",
   "metadata": {},
   "source": [
    "The `return` statement serves two main purposes:\n",
    "1. It immediately terminates the function's execution and hands control back to the line of code that called the function.\n",
    "2. It provides a mechanism for the function to output a value to the caller.\n"
   ]
  },
  {
   "cell_type": "markdown",
   "metadata": {},
   "source": [
    "When a function reaches a `return` statement, any further code within the function is not executed. This behavior is particularly useful for controlling the flow of a program: you can direct the execution path by using `return` statements conditionally, thus allowing your functions to respond to different inputs or situations in specific ways.\n"
   ]
  },
  {
   "cell_type": "markdown",
   "metadata": {},
   "source": [
    "The importance of the `return` statement cannot be overstated. It is a powerful tool that, when used correctly, can help you build efficient and maintainable code. Functions that return values make it possible to write modular code where the output of one function can be used as the input to another. This chain of input and output is the backbone of functional programming and can lead to code that is both cleaner and easier to debug.\n"
   ]
  },
  {
   "cell_type": "markdown",
   "metadata": {},
   "source": [
    "Consider a simple function that calculates the product of two numbers:\n"
   ]
  },
  {
   "cell_type": "code",
   "execution_count": 1,
   "metadata": {},
   "outputs": [],
   "source": [
    "def multiply(x, y):\n",
    "    return x * y"
   ]
  },
  {
   "cell_type": "markdown",
   "metadata": {},
   "source": [
    "By using the `return` statement, `multiply` not only performs a calculation but also provides the result back to the caller. This makes it possible to use the function in a variety of contexts, like storing the result in a variable or using it directly in expressions:\n"
   ]
  },
  {
   "cell_type": "code",
   "execution_count": 2,
   "metadata": {},
   "outputs": [
    {
     "data": {
      "text/plain": [
       "20"
      ]
     },
     "execution_count": 2,
     "metadata": {},
     "output_type": "execute_result"
    }
   ],
   "source": [
    "# Storing the result in a variable\n",
    "product = multiply(4, 5)\n",
    "product"
   ]
  },
  {
   "cell_type": "code",
   "execution_count": 3,
   "metadata": {},
   "outputs": [
    {
     "data": {
      "text/plain": [
       "40"
      ]
     },
     "execution_count": 3,
     "metadata": {},
     "output_type": "execute_result"
    }
   ],
   "source": [
    "# Using the result directly in an expression\n",
    "2 * multiply(4, 5)"
   ]
  },
  {
   "cell_type": "markdown",
   "metadata": {},
   "source": [
    "In both examples above, the `multiply` function returns a value that is then further utilized in the program. By the end of this lecture, you will have a deeper understanding of how to control your functions' execution and output using the `return` statement, a skill that will greatly enhance the functionality and effectiveness of your Python code."
   ]
  },
  {
   "cell_type": "markdown",
   "metadata": {},
   "source": [
    "**Table of contents**<a id='toc0_'></a>    \n",
    "- [Understanding the `return` Statement](#toc1_)    \n",
    "  - [How the `return` Statement Affects the Function Execution and Program Flow](#toc1_1_)    \n",
    "    - [Returning a Value](#toc1_1_1_)    \n",
    "    - [Exiting a Function Early](#toc1_1_2_)    \n",
    "    - [No `return` Statement](#toc1_1_3_)    \n",
    "- [Returning Values from a Function](#toc2_)    \n",
    "  - [The Difference Between Printing a Value and Returning It](#toc2_1_)    \n",
    "  - [Examples of Functions That Return Values](#toc2_2_)    \n",
    "- [Functions with Multiple `return` Statements](#toc3_)    \n",
    "  - [Examples of Functions with Multiple Return Paths](#toc3_1_)    \n",
    "- [The Default `return` Value](#toc4_)    \n",
    "  - [The Implicit `return None` Behavior of Functions](#toc4_1_)    \n",
    "- [Returning Multiple Values](#toc5_)    \n",
    "  - [Using Tuples to Return Multiple Values](#toc5_1_)    \n",
    "  - [Using Lists to Return Multiple Values](#toc5_2_)    \n",
    "  - [Using Dictionaries to Return Multiple Values](#toc5_3_)    \n",
    "- [Best Practices for Using `return`](#toc6_)    \n",
    "- [Conclusion](#toc7_)    \n",
    "- [Practice Exercise](#toc8_)    \n",
    "  - [Solution](#toc8_1_)    \n",
    "\n",
    "<!-- vscode-jupyter-toc-config\n",
    "\tnumbering=false\n",
    "\tanchor=true\n",
    "\tflat=false\n",
    "\tminLevel=2\n",
    "\tmaxLevel=6\n",
    "\t/vscode-jupyter-toc-config -->\n",
    "<!-- THIS CELL WILL BE REPLACED ON TOC UPDATE. DO NOT WRITE YOUR TEXT IN THIS CELL -->"
   ]
  },
  {
   "cell_type": "markdown",
   "metadata": {},
   "source": [
    "## <a id='toc1_'></a>[Understanding the `return` Statement](#toc0_)"
   ]
  },
  {
   "cell_type": "markdown",
   "metadata": {},
   "source": [
    "The `return` statement is used within a function to exit that function and optionally pass an expression back to the caller. The statement ends the execution of the function, and the expression provided with `return` determines the value that the function outputs. If the function does not need to return a value or if no expression is specified, the function will return `None`, which is the default return value in Python.\n"
   ]
  },
  {
   "cell_type": "markdown",
   "metadata": {},
   "source": [
    "The syntax for using the `return` statement is as follows:\n",
    "\n",
    "```python\n",
    "def function_name(parameters):\n",
    "    # Some code here\n",
    "    return expression  # Optional\n",
    "```\n"
   ]
  },
  {
   "cell_type": "markdown",
   "metadata": {},
   "source": [
    "- `function_name`: The name of the function.\n",
    "- `parameters`: The parameters or inputs to the function (optional).\n",
    "- `return`: The keyword that signifies the end of the function execution.\n",
    "- `expression`: The value or variable that the function will return (optional).\n"
   ]
  },
  {
   "cell_type": "markdown",
   "metadata": {},
   "source": [
    "### <a id='toc1_1_'></a>[How the `return` Statement Affects the Function Execution and Program Flow](#toc0_)\n"
   ]
  },
  {
   "cell_type": "markdown",
   "metadata": {},
   "source": [
    "The `return` statement has a significant impact on both the function execution and the overall flow of the program. When a `return` statement is encountered, the current function is exited, and execution resumes at the point in the program where the function was called. This can be used to:\n"
   ]
  },
  {
   "cell_type": "markdown",
   "metadata": {},
   "source": [
    "- Provide the result of a computation.\n",
    "- Indicate completion of a task.\n",
    "- Signal that a certain condition has been met.\n"
   ]
  },
  {
   "cell_type": "markdown",
   "metadata": {},
   "source": [
    "Here are some ways the `return` statement can be used:\n"
   ]
  },
  {
   "cell_type": "markdown",
   "metadata": {},
   "source": [
    "#### <a id='toc1_1_1_'></a>[Returning a Value](#toc0_)\n"
   ]
  },
  {
   "cell_type": "markdown",
   "metadata": {},
   "source": [
    "A function can process data and then `return` the result. This is perhaps the most common use of the `return` statement.\n"
   ]
  },
  {
   "cell_type": "code",
   "execution_count": 4,
   "metadata": {},
   "outputs": [],
   "source": [
    "def get_remainder(dividend, divisor):\n",
    "    remainder = dividend % divisor\n",
    "    return remainder\n"
   ]
  },
  {
   "cell_type": "code",
   "execution_count": 5,
   "metadata": {},
   "outputs": [
    {
     "data": {
      "text/plain": [
       "1"
      ]
     },
     "execution_count": 5,
     "metadata": {},
     "output_type": "execute_result"
    }
   ],
   "source": [
    "# The function returns the remainder of the division\n",
    "get_remainder(10, 3)"
   ]
  },
  {
   "cell_type": "markdown",
   "metadata": {},
   "source": [
    "#### <a id='toc1_1_2_'></a>[Exiting a Function Early](#toc0_)\n"
   ]
  },
  {
   "cell_type": "markdown",
   "metadata": {},
   "source": [
    "Sometimes, you may want to terminate the function before all the code has run, such as when a certain condition is met. In such cases, a `return` statement can be used to exit the function early.\n"
   ]
  },
  {
   "cell_type": "code",
   "execution_count": 6,
   "metadata": {},
   "outputs": [],
   "source": [
    "def check_positive(number):\n",
    "    if number <= 0:\n",
    "        return \"Number is not positive.\"\n",
    "    # The return statement above will exit the function before reaching this point if the condition is met\n",
    "    return \"Number is positive.\"\n"
   ]
  },
  {
   "cell_type": "code",
   "execution_count": 7,
   "metadata": {},
   "outputs": [
    {
     "data": {
      "text/plain": [
       "'Number is not positive.'"
      ]
     },
     "execution_count": 7,
     "metadata": {},
     "output_type": "execute_result"
    }
   ],
   "source": [
    "check_positive(-5)"
   ]
  },
  {
   "cell_type": "code",
   "execution_count": 8,
   "metadata": {},
   "outputs": [
    {
     "data": {
      "text/plain": [
       "'Number is positive.'"
      ]
     },
     "execution_count": 8,
     "metadata": {},
     "output_type": "execute_result"
    }
   ],
   "source": [
    "check_positive(5)"
   ]
  },
  {
   "cell_type": "markdown",
   "metadata": {},
   "source": [
    "#### <a id='toc1_1_3_'></a>[No `return` Statement](#toc0_)\n"
   ]
  },
  {
   "cell_type": "markdown",
   "metadata": {},
   "source": [
    "If there is no `return` statement in a function, Python will automatically return `None` at the end of the function.\n"
   ]
  },
  {
   "cell_type": "code",
   "execution_count": 9,
   "metadata": {},
   "outputs": [],
   "source": [
    "def print_message(message):\n",
    "    print(f\"Message: {message}\")\n",
    "    # No return statement\n"
   ]
  },
  {
   "cell_type": "code",
   "execution_count": 10,
   "metadata": {},
   "outputs": [
    {
     "name": "stdout",
     "output_type": "stream",
     "text": [
      "Message: Hello, World!\n"
     ]
    }
   ],
   "source": [
    "# This function prints the message but returns None\n",
    "result = print_message(\"Hello, World!\")\n",
    "result"
   ]
  },
  {
   "cell_type": "markdown",
   "metadata": {},
   "source": [
    "Understanding how to use the `return` statement effectively will allow you to write functions that are more flexible and powerful, giving you greater control over the behavior of your code. In the upcoming sections, we will explore various scenarios and best practices involving the `return` statement to deepen your grasp of this fundamental concept."
   ]
  },
  {
   "cell_type": "markdown",
   "metadata": {},
   "source": [
    "## <a id='toc2_'></a>[Returning Values from a Function](#toc0_)"
   ]
  },
  {
   "cell_type": "markdown",
   "metadata": {},
   "source": [
    "When you want a function to send data back to the part of the program that called it, you use the `return` statement. This feature is what makes functions particularly versatile and useful in programming, as it enables them to produce output that can then be used as input elsewhere in your code.\n"
   ]
  },
  {
   "cell_type": "markdown",
   "metadata": {},
   "source": [
    "To pass back data, you simply place the `return` keyword followed by the value or expression you wish to return. When the function is called, it processes its block of code and returns the resulting value.\n"
   ]
  },
  {
   "cell_type": "markdown",
   "metadata": {},
   "source": [
    "Here's a simple example:\n"
   ]
  },
  {
   "cell_type": "code",
   "execution_count": 11,
   "metadata": {},
   "outputs": [],
   "source": [
    "def square(number):\n",
    "    return number * number"
   ]
  },
  {
   "cell_type": "code",
   "execution_count": 12,
   "metadata": {},
   "outputs": [
    {
     "data": {
      "text/plain": [
       "16"
      ]
     },
     "execution_count": 12,
     "metadata": {},
     "output_type": "execute_result"
    }
   ],
   "source": [
    "# Call the function and store the returned value\n",
    "squared_number = square(4)\n",
    "squared_number"
   ]
  },
  {
   "cell_type": "markdown",
   "metadata": {},
   "source": [
    "In this example, the function `square` takes an argument `number`, computes its square, and returns the result. The returned value is then stored in the variable `squared_number` for later use.\n"
   ]
  },
  {
   "cell_type": "markdown",
   "metadata": {},
   "source": [
    "### <a id='toc2_1_'></a>[The Difference Between Printing a Value and Returning It](#toc0_)\n"
   ]
  },
  {
   "cell_type": "markdown",
   "metadata": {},
   "source": [
    "It's important to distinguish between printing a value and returning it. Printing a value simply displays it to the console, but does not allow the printed value to be used elsewhere in the program. Returning a value, however, sends it back to the caller, allowing the program to store and manipulate that value as needed.\n"
   ]
  },
  {
   "cell_type": "markdown",
   "metadata": {},
   "source": [
    "Here's an illustration of the difference:\n"
   ]
  },
  {
   "cell_type": "code",
   "execution_count": 13,
   "metadata": {},
   "outputs": [],
   "source": [
    "def print_value(value):\n",
    "    print(f\"The value is {value}\")\n",
    "\n",
    "def return_value(value):\n",
    "    return f\"The value is {value}\""
   ]
  },
  {
   "cell_type": "code",
   "execution_count": 14,
   "metadata": {},
   "outputs": [
    {
     "name": "stdout",
     "output_type": "stream",
     "text": [
      "The value is 10\n"
     ]
    }
   ],
   "source": [
    "# Calling the print_value function\n",
    "print_value(10)  # This will print \"The value is 10\" to the console but you cannot use the text elsewhere.\n"
   ]
  },
  {
   "cell_type": "code",
   "execution_count": 15,
   "metadata": {},
   "outputs": [],
   "source": [
    "# Calling the return_value function\n",
    "returned_text = return_value(10)"
   ]
  },
  {
   "cell_type": "code",
   "execution_count": 16,
   "metadata": {},
   "outputs": [
    {
     "data": {
      "text/plain": [
       "'The value is 10'"
      ]
     },
     "execution_count": 16,
     "metadata": {},
     "output_type": "execute_result"
    }
   ],
   "source": [
    "returned_text  # This will print \"The value is 10\" to the console and you can use the returned_text variable elsewhere."
   ]
  },
  {
   "cell_type": "markdown",
   "metadata": {},
   "source": [
    "In the first function, `print_value`, the value is printed but not returned, so it cannot be captured or used. In the second function, `return_value`, the value is returned and stored in the variable `returned_text`, which can then be printed or used for other purposes.\n"
   ]
  },
  {
   "cell_type": "markdown",
   "metadata": {},
   "source": [
    "### <a id='toc2_2_'></a>[Examples of Functions That Return Values](#toc0_)\n"
   ]
  },
  {
   "cell_type": "markdown",
   "metadata": {},
   "source": [
    "Functions can return any type of data, including numbers, strings, lists, dictionaries, and even other functions or objects. Here are a couple more examples:\n"
   ]
  },
  {
   "cell_type": "code",
   "execution_count": 17,
   "metadata": {},
   "outputs": [],
   "source": [
    "def get_max_value(numbers):\n",
    "    return max(numbers)\n"
   ]
  },
  {
   "cell_type": "code",
   "execution_count": 18,
   "metadata": {},
   "outputs": [
    {
     "data": {
      "text/plain": [
       "5"
      ]
     },
     "execution_count": 18,
     "metadata": {},
     "output_type": "execute_result"
    }
   ],
   "source": [
    "# Using the function to find the maximum value in a list\n",
    "max_value = get_max_value([1, 2, 3, 4, 5])\n",
    "max_value"
   ]
  },
  {
   "cell_type": "code",
   "execution_count": 19,
   "metadata": {},
   "outputs": [],
   "source": [
    "def create_full_name(first_name, last_name):\n",
    "    return f\"{first_name} {last_name}\"\n"
   ]
  },
  {
   "cell_type": "code",
   "execution_count": 20,
   "metadata": {},
   "outputs": [
    {
     "data": {
      "text/plain": [
       "'Jane Doe'"
      ]
     },
     "execution_count": 20,
     "metadata": {},
     "output_type": "execute_result"
    }
   ],
   "source": [
    "# Using the function to create a full name\n",
    "full_name = create_full_name(\"Jane\", \"Doe\")\n",
    "full_name"
   ]
  },
  {
   "cell_type": "markdown",
   "metadata": {},
   "source": [
    "In the `get_max_value` function, a list of numbers is passed in, and the `max` function is used to find and return the largest number in that list. In the `create_full_name` function, two strings representing a first name and a last name are concatenated and returned as a full name.\n"
   ]
  },
  {
   "cell_type": "markdown",
   "metadata": {},
   "source": [
    "By returning values from functions, you can build complex expressions that chain function calls together, and you can store the results of function calls for later use. This makes your code more modular and easier to read and maintain."
   ]
  },
  {
   "cell_type": "markdown",
   "metadata": {},
   "source": [
    "## <a id='toc3_'></a>[Functions with Multiple `return` Statements](#toc0_)"
   ]
  },
  {
   "cell_type": "markdown",
   "metadata": {},
   "source": [
    "It's possible for a function to have more than one `return` statement. Having multiple `return` statements can be useful for exiting a function under different conditions. The function will terminate as soon as it hits a `return` statement, so only one `return` statement is ever executed during a single call to the function.\n"
   ]
  },
  {
   "cell_type": "markdown",
   "metadata": {},
   "source": [
    "Multiple `return` statements are often used in conjunction with conditional logic. Depending on the outcome of certain tests within the function, different `return` statements may be executed. This is a way to provide different outcomes based on input values or other conditions encountered during the function's execution.\n"
   ]
  },
  {
   "cell_type": "markdown",
   "metadata": {},
   "source": [
    "When combined with `if` statements or other conditional expressions, `return` can provide a clear and concise way to handle multiple potential outcomes in a function. This pattern is especially common in functions that validate input or need to perform checks that might lead to early termination.\n"
   ]
  },
  {
   "cell_type": "markdown",
   "metadata": {},
   "source": [
    "### <a id='toc3_1_'></a>[Examples of Functions with Multiple Return Paths](#toc0_)\n"
   ]
  },
  {
   "cell_type": "markdown",
   "metadata": {},
   "source": [
    "Here's an example of a function that checks if a number is within a certain range and returns different messages based on the result:\n"
   ]
  },
  {
   "cell_type": "code",
   "execution_count": 21,
   "metadata": {},
   "outputs": [],
   "source": [
    "def check_range(number):\n",
    "    if number < 0:\n",
    "        return \"Number is less than 0.\"\n",
    "    elif number > 10:\n",
    "        return \"Number is greater than 10.\"\n",
    "    else:\n",
    "        return \"Number is between 0 and 10.\"\n"
   ]
  },
  {
   "cell_type": "code",
   "execution_count": 22,
   "metadata": {},
   "outputs": [
    {
     "data": {
      "text/plain": [
       "'Number is less than 0.'"
      ]
     },
     "execution_count": 22,
     "metadata": {},
     "output_type": "execute_result"
    }
   ],
   "source": [
    "check_range(-5)"
   ]
  },
  {
   "cell_type": "code",
   "execution_count": 23,
   "metadata": {},
   "outputs": [
    {
     "data": {
      "text/plain": [
       "'Number is between 0 and 10.'"
      ]
     },
     "execution_count": 23,
     "metadata": {},
     "output_type": "execute_result"
    }
   ],
   "source": [
    "check_range(5)"
   ]
  },
  {
   "cell_type": "code",
   "execution_count": 24,
   "metadata": {},
   "outputs": [
    {
     "data": {
      "text/plain": [
       "'Number is greater than 10.'"
      ]
     },
     "execution_count": 24,
     "metadata": {},
     "output_type": "execute_result"
    }
   ],
   "source": [
    "check_range(15)"
   ]
  },
  {
   "cell_type": "markdown",
   "metadata": {},
   "source": [
    "In this function, there are three separate `return` statements. Each one corresponds to a different condition in the `if-elif-else` block.\n"
   ]
  },
  {
   "cell_type": "markdown",
   "metadata": {},
   "source": [
    "Here's another example using a function that determines the type of a triangle based on its side lengths:\n"
   ]
  },
  {
   "cell_type": "code",
   "execution_count": 25,
   "metadata": {},
   "outputs": [],
   "source": [
    "def triangle_type(a, b, c):\n",
    "    if a == b == c:\n",
    "        return \"Equilateral triangle\"\n",
    "    elif a == b or b == c or a == c:\n",
    "        return \"Isosceles triangle\"\n",
    "    else:\n",
    "        return \"Scalene triangle\""
   ]
  },
  {
   "cell_type": "code",
   "execution_count": 26,
   "metadata": {},
   "outputs": [
    {
     "data": {
      "text/plain": [
       "'Equilateral triangle'"
      ]
     },
     "execution_count": 26,
     "metadata": {},
     "output_type": "execute_result"
    }
   ],
   "source": [
    "triangle_type(3, 3, 3)"
   ]
  },
  {
   "cell_type": "code",
   "execution_count": 27,
   "metadata": {},
   "outputs": [
    {
     "data": {
      "text/plain": [
       "'Isosceles triangle'"
      ]
     },
     "execution_count": 27,
     "metadata": {},
     "output_type": "execute_result"
    }
   ],
   "source": [
    "triangle_type(3, 3, 4)"
   ]
  },
  {
   "cell_type": "code",
   "execution_count": 28,
   "metadata": {},
   "outputs": [
    {
     "data": {
      "text/plain": [
       "'Scalene triangle'"
      ]
     },
     "execution_count": 28,
     "metadata": {},
     "output_type": "execute_result"
    }
   ],
   "source": [
    "triangle_type(3, 4, 5)"
   ]
  },
  {
   "cell_type": "markdown",
   "metadata": {},
   "source": [
    "In `triangle_type`, the function checks for equality between the sides and returns a string describing the type of triangle. Once a `return` statement executes, the function exits, and no further code is run.\n"
   ]
  },
  {
   "cell_type": "markdown",
   "metadata": {},
   "source": [
    "Using multiple `return` statements can be a powerful technique for making functions more readable and efficient by avoiding unnecessary computation once a result is ready to be returned. However, it is essential to ensure that the function's logic is clear and that all possible execution paths are considered to prevent logic errors."
   ]
  },
  {
   "cell_type": "markdown",
   "metadata": {},
   "source": [
    "## <a id='toc4_'></a>[The Default `return` Value](#toc0_)"
   ]
  },
  {
   "cell_type": "markdown",
   "metadata": {},
   "source": [
    "When writing functions in Python, it's not mandatory to include a `return` statement. Functions that don't explicitly return a value actually do return a default value. Understanding this default behavior is important for writing functions that behave as expected.\n"
   ]
  },
  {
   "cell_type": "markdown",
   "metadata": {},
   "source": [
    "In Python, if a function doesn't explicitly return a value using the `return` statement, it implicitly returns `None`. `None` is a special data type in Python that represents the absence of a value. It is similar to `null` in other programming languages.\n"
   ]
  },
  {
   "cell_type": "markdown",
   "metadata": {},
   "source": [
    "This implicit return of `None` means that every function in Python will return a value whether you choose to specify it or not. The absence of a `return` statement, or a `return` statement without any value specified, will result in the function ending quietly when the end of the function block is reached and returning `None` to the caller.\n"
   ]
  },
  {
   "cell_type": "markdown",
   "metadata": {},
   "source": [
    "### <a id='toc4_1_'></a>[The Implicit `return None` Behavior of Functions](#toc0_)\n"
   ]
  },
  {
   "cell_type": "markdown",
   "metadata": {},
   "source": [
    "Here's an example of a function that implicitly returns `None`:\n"
   ]
  },
  {
   "cell_type": "code",
   "execution_count": 29,
   "metadata": {},
   "outputs": [],
   "source": [
    "def print_greeting(name):\n",
    "    print(f\"Hello, {name}!\")\n"
   ]
  },
  {
   "cell_type": "code",
   "execution_count": 30,
   "metadata": {},
   "outputs": [
    {
     "name": "stdout",
     "output_type": "stream",
     "text": [
      "Hello, Alice!\n"
     ]
    }
   ],
   "source": [
    "# Calling the function\n",
    "result = print_greeting(\"Alice\")\n",
    "result"
   ]
  },
  {
   "cell_type": "markdown",
   "metadata": {},
   "source": [
    "Although the `print_greeting` function executes the print statement and outputs the greeting to the console, it does not explicitly return a value. Therefore, when we print the `result`, we see `None` outputted, indicating that the function implicitly returned `None`.\n"
   ]
  },
  {
   "cell_type": "markdown",
   "metadata": {},
   "source": [
    "This behavior can sometimes lead to confusion, especially for those new to Python or programming in general. It might be expected that the `print` statement's output would be the function's return value, but that is not the case. The `print` function and the `return` statement serve different purposes: `print` outputs to the console, while `return` provides a value back to the function's caller.\n"
   ]
  },
  {
   "cell_type": "markdown",
   "metadata": {},
   "source": [
    "Here's another example:"
   ]
  },
  {
   "cell_type": "code",
   "execution_count": 31,
   "metadata": {},
   "outputs": [],
   "source": [
    "def no_return():\n",
    "    pass  # The 'pass' statement is just a placeholder that does nothing."
   ]
  },
  {
   "cell_type": "code",
   "execution_count": 32,
   "metadata": {},
   "outputs": [],
   "source": [
    "# Calling the function\n",
    "result = no_return()\n",
    "result"
   ]
  },
  {
   "cell_type": "markdown",
   "metadata": {},
   "source": [
    "In this `no_return` function, there's not even a print statement—just a `pass` statement, which is a no-operation action in Python. Since there is no `return` statement either, the function defaults to returning `None`.\n"
   ]
  },
  {
   "cell_type": "markdown",
   "metadata": {},
   "source": [
    "Understanding that functions always return a value in Python, even if it's just `None`, is crucial. It can affect the logic of your program, especially in conditional statements where the returned value might be tested for truthiness. Functions that return `None` can be used for their side effects (such as printing to the console or modifying a data structure), but if you need to use the result of a function computation, make sure you explicitly return the desired value."
   ]
  },
  {
   "cell_type": "markdown",
   "metadata": {},
   "source": [
    "## <a id='toc5_'></a>[Returning Multiple Values](#toc0_)"
   ]
  },
  {
   "cell_type": "markdown",
   "metadata": {},
   "source": [
    "Python functions are not limited to returning just one value. They can return multiple values by using tuples, lists, dictionaries, or even instances of custom classes. This capability allows for greater flexibility and can be particularly useful when a function needs to provide more than one result.\n"
   ]
  },
  {
   "cell_type": "markdown",
   "metadata": {},
   "source": [
    "### <a id='toc5_1_'></a>[Using Tuples to Return Multiple Values](#toc0_)\n"
   ]
  },
  {
   "cell_type": "markdown",
   "metadata": {},
   "source": [
    "Tuples are a common way to return multiple values from a function. By placing multiple values in a comma-separated list, Python automatically packs them into a tuple. The caller of the function can then unpack the tuple into separate variables.\n"
   ]
  },
  {
   "cell_type": "markdown",
   "metadata": {},
   "source": [
    "Here's an example of a function that calculates both the area and the perimeter of a rectangle and returns both values:\n"
   ]
  },
  {
   "cell_type": "code",
   "execution_count": 33,
   "metadata": {},
   "outputs": [],
   "source": [
    "def rectangle_properties(width, height):\n",
    "    area = width * height\n",
    "    perimeter = 2 * (width + height)\n",
    "    return area, perimeter  # This is implicitly returned as a tuple (area, perimeter)\n"
   ]
  },
  {
   "cell_type": "code",
   "execution_count": 34,
   "metadata": {},
   "outputs": [
    {
     "data": {
      "text/plain": [
       "'Area: 12, Perimeter: 14'"
      ]
     },
     "execution_count": 34,
     "metadata": {},
     "output_type": "execute_result"
    }
   ],
   "source": [
    "# Calling the function and unpacking the results\n",
    "rect_area, rect_perimeter = rectangle_properties(3, 4)\n",
    "f\"Area: {rect_area}, Perimeter: {rect_perimeter}\""
   ]
  },
  {
   "cell_type": "markdown",
   "metadata": {},
   "source": [
    "### <a id='toc5_2_'></a>[Using Lists to Return Multiple Values](#toc0_)\n"
   ]
  },
  {
   "cell_type": "markdown",
   "metadata": {},
   "source": [
    "Just like tuples, lists can also be used to return multiple values. Lists are mutable, so they might be a preferred choice if the returned values need to be changed later.\n"
   ]
  },
  {
   "cell_type": "code",
   "execution_count": 35,
   "metadata": {},
   "outputs": [],
   "source": [
    "def get_even_and_odd(numbers):\n",
    "    even = [num for num in numbers if num % 2 == 0]\n",
    "    odd = [num for num in numbers if num % 2 != 0]\n",
    "    return [even, odd]  # Returning a list containing two lists\n"
   ]
  },
  {
   "cell_type": "code",
   "execution_count": 36,
   "metadata": {},
   "outputs": [
    {
     "data": {
      "text/plain": [
       "'Even: [0, 2, 4, 6, 8], Odd: [1, 3, 5, 7, 9]'"
      ]
     },
     "execution_count": 36,
     "metadata": {},
     "output_type": "execute_result"
    }
   ],
   "source": [
    "# Calling the function\n",
    "even_numbers, odd_numbers = get_even_and_odd(range(10))\n",
    "f\"Even: {even_numbers}, Odd: {odd_numbers}\""
   ]
  },
  {
   "cell_type": "markdown",
   "metadata": {},
   "source": [
    "### <a id='toc5_3_'></a>[Using Dictionaries to Return Multiple Values](#toc0_)\n"
   ]
  },
  {
   "cell_type": "markdown",
   "metadata": {},
   "source": [
    "Dictionaries can be especially useful when you want to return multiple named values. This makes the code more readable and the purpose of each returned value clearer.\n"
   ]
  },
  {
   "cell_type": "code",
   "execution_count": 37,
   "metadata": {},
   "outputs": [],
   "source": [
    "def analyze_text(text):\n",
    "    words = text.split()\n",
    "    word_count = len(words)\n",
    "    unique_words = set(words)\n",
    "    unique_word_count = len(unique_words)\n",
    "    return {'word_count': word_count, 'unique_word_count': unique_word_count, 'unique_words': unique_words}\n"
   ]
  },
  {
   "cell_type": "code",
   "execution_count": 38,
   "metadata": {},
   "outputs": [
    {
     "data": {
      "text/plain": [
       "'Word Count: 3, Unique Word Count: 2'"
      ]
     },
     "execution_count": 38,
     "metadata": {},
     "output_type": "execute_result"
    }
   ],
   "source": [
    "# Calling the function\n",
    "analysis = analyze_text(\"hello world hello\")\n",
    "f\"Word Count: {analysis['word_count']}, Unique Word Count: {analysis['unique_word_count']}\""
   ]
  },
  {
   "cell_type": "markdown",
   "metadata": {},
   "source": [
    "In the `analyze_text` function, a dictionary is returned with named entries for the word count and unique word count, as well as a set of unique words. This allows the caller to refer to each result by a clear name.\n"
   ]
  },
  {
   "cell_type": "markdown",
   "metadata": {},
   "source": [
    "Returning multiple values can be very convenient, but use it judiciously. While it keeps related return values together, it can also complicate the function's interface if overused. It's important to consider the clarity of your function's return values to ensure that your code remains understandable and maintainable."
   ]
  },
  {
   "cell_type": "markdown",
   "metadata": {},
   "source": [
    "## <a id='toc6_'></a>[Best Practices for Using `return`](#toc0_)"
   ]
  },
  {
   "cell_type": "markdown",
   "metadata": {},
   "source": [
    "Proper usage of the `return` statement is essential for creating readable and maintainable Python code. Here are several best practices to consider when utilizing `return` in your functions:\n"
   ]
  },
  {
   "cell_type": "markdown",
   "metadata": {},
   "source": [
    "**Readability and Predictability of `return` Statements:**\n",
    "- **Consistency**:\n",
    "  Aim for a consistent structure in your returns. If a function returns multiple values, consider always returning them in the same format (e.g., as a tuple, list, or dictionary), even if some of the values are `None` at times.\n",
    "\n",
    "- **Explicit Returns**:\n",
    "  Even if a function doesn't return any value, it can be helpful to include an explicit `return None` to make this clear, rather than relying on the implicit return behavior.\n",
    "\n",
    "- **Single Exit Point**:\n",
    "  While multiple return statements can be useful, they can also make it hard to follow the flow of a function. Whenever possible, strive to have a single exit point from your functions. It can make your code more predictable and easier to debug.\n",
    "\n",
    "- **Documentation**:\n",
    "  Clearly document what your function returns, especially if it's returning multiple values or a complex structure. This helps other developers understand what to expect when they use your function.\n",
    "\n",
    "- **Avoiding Side Effects**:\n",
    "  If your function is intended to return a value, try to avoid causing side effects, such as modifying global variables or input parameters. Functions should ideally perform a single task or computation and then return a result.\n",
    "\n"
   ]
  },
  {
   "cell_type": "markdown",
   "metadata": {},
   "source": [
    "**When to Use a Simple `return` Versus a More Complex Structure:**\n",
    "- **Simple Scalar Values**:\n",
    "  When a function's purpose is to compute and return a single value, such as a number or a string, use a simple `return`.\n",
    "\n",
    "- **Multiple Related Values**:\n",
    "  If a function calculates several related values that make sense to group together, return those values as a tuple for easy unpacking.\n",
    "\n",
    "- **Named Data**:\n",
    "  When returning multiple values that benefit from labeling (e.g., the results of a complex calculation), consider using a dictionary with clear keys. This can greatly enhance readability.\n",
    "\n",
    "- **Mutable Results**:\n",
    "  If the returned values need to be mutable or modified after the function call, use a list or dictionary.\n",
    "\n",
    "- **Complex Data Structures**:\n",
    "  For complex data or a large number of related results, consider defining a custom class or namedtuple to encapsulate the returned data. This approach can improve clarity and provide additional context.\n"
   ]
  },
  {
   "cell_type": "markdown",
   "metadata": {},
   "source": [
    "Here is an example that demonstrate these best practices:\n"
   ]
  },
  {
   "cell_type": "code",
   "execution_count": 39,
   "metadata": {},
   "outputs": [],
   "source": [
    "def find_root(a, b, c):\n",
    "    \"\"\"Calculate the root of a quadratic equation ax^2 + bx + c = 0.\"\"\"\n",
    "    discriminant = b**2 - 4*a*c\n",
    "    if discriminant >= 0:\n",
    "        root1 = (-b + discriminant**0.5) / (2*a)\n",
    "        root2 = (-b - discriminant**0.5) / (2*a)\n",
    "        return root1, root2  # Returning a tuple of roots\n",
    "    else:\n",
    "        return None  # Explicitly returning None for no real roots"
   ]
  },
  {
   "cell_type": "markdown",
   "metadata": {},
   "source": [
    "By following these best practices, developers can ensure their functions are intuitive and their `return` statements contribute to the overall quality and maintainability of their Python code."
   ]
  },
  {
   "cell_type": "markdown",
   "metadata": {},
   "source": [
    "## <a id='toc7_'></a>[Conclusion](#toc0_)\n"
   ]
  },
  {
   "cell_type": "markdown",
   "metadata": {},
   "source": [
    "Throughout this lecture, we've explored the critical role that the `return` statement plays in Python functions. We've seen how it allows functions to send results back to the caller, enabling the creation of modular, reusable code that can be tested and maintained more easily. The `return` statement is a fundamental aspect of Python that provides control over a function's output and its execution flow.\n"
   ]
  },
  {
   "cell_type": "markdown",
   "metadata": {},
   "source": [
    "To recap the key points:\n",
    "- The `return` statement is used to exit a function and, optionally, to pass an expression back to where the function was called.\n",
    "- Functions can return any type of data, and they can return multiple values using tuples, lists, dictionaries, or custom objects.\n",
    "- The absence of a `return` statement, or a `return` without an expression, results in a function that returns `None`.\n",
    "- Employing best practices for using `return` statements, such as maintaining consistency, using explicit returns, and documenting expected return values, contributes to clearer and more maintainable code.\n"
   ]
  },
  {
   "cell_type": "markdown",
   "metadata": {},
   "source": [
    "As you continue to develop your Python programming skills, it's important to experiment with the `return` statement. Try writing functions that perform various tasks, such as processing data, performing calculations, or handling complex logic with multiple return paths. Experiment with returning different types of data structures and observe how these can be utilized in different parts of your programs.\n"
   ]
  },
  {
   "cell_type": "markdown",
   "metadata": {},
   "source": [
    "There is often more than one way to achieve the same result, and part of becoming a proficient Python programmer is learning which patterns and practices work best for your particular use case. As you write more functions and become comfortable with the `return` statement, you'll develop an intuitive sense for how best to structure your function's outputs to make your code more effective and easier to understand.\n"
   ]
  },
  {
   "cell_type": "markdown",
   "metadata": {},
   "source": [
    "Embrace the power of the `return` statement and use it to craft functions that not only do their job well but also contribute to the elegance and clarity of your overall codebase. Happy coding!"
   ]
  },
  {
   "cell_type": "markdown",
   "metadata": {},
   "source": [
    "<img src=\"../images/exercise-banner.gif\" width=\"800\">"
   ]
  },
  {
   "cell_type": "markdown",
   "metadata": {},
   "source": [
    "## <a id='toc8_'></a>[Practice Exercise](#toc0_)"
   ]
  },
  {
   "cell_type": "markdown",
   "metadata": {},
   "source": [
    "In this exercise, you will put into practice your understanding of the `return` statement in Python functions. You will write functions to perform various tasks, demonstrating how to return values, exit functions early, and utilize multiple return paths.\n"
   ]
  },
  {
   "cell_type": "markdown",
   "metadata": {},
   "source": [
    "**Tasks:**\n",
    "\n",
    "1. **Simple Return Value**:\n",
    "   Write a function named `square` that takes a single argument `x` and returns the square of that number. Call the function and print the result.\n",
    "\n",
    "2. **Exiting a Function Early**:\n",
    "   Write a function named `greet` that takes a string `name`. If the name is an empty string, return the string \"No name provided\" immediately. Otherwise, return a greeting in the form \"Hello, [name]!\".\n",
    "\n",
    "3. **Function Without `return`**:\n",
    "   Write a function named `print_even` that takes a list of numbers and prints each even number in the list. Since this function is only meant to print values, it does not need a `return` statement.\n",
    "\n",
    "4. **Multiple Return Paths**:\n",
    "   Write a function named `is_adult` that takes an age and returns `True` if the age is 18 or higher, and `False` otherwise. This function should have two return statements.\n",
    "\n",
    "5. **Conditional Return with Default Value**:\n",
    "   Write a function named `classify_grade` that takes a grade number and returns \"Fail\" if the grade is less than 60, \"Pass\" if it's 60 or higher, and \"Excellent\" if it's 90 or higher. If no grade is provided, it should return \"No grade\".\n",
    "\n",
    "6. **Returning Multiple Values**:\n",
    "   Write a function named `min_max` that takes a list of numbers and returns both the minimum and maximum numbers in the list as a tuple.\n",
    "\n",
    "7. **Bonus: Returning Complex Data**:\n",
    "   Write a function named `analyze_scores` that takes a list of scores and returns a dictionary with the keys \"max\", \"min\", and \"average\", corresponding to the maximum score, minimum score, and average score from the list, respectively.\n"
   ]
  },
  {
   "cell_type": "markdown",
   "metadata": {},
   "source": [
    "**Expected Output:**\n",
    "```bash\n",
    "The square of 4 is 16.\n",
    "Hello, Alice!\n",
    "Even numbers: 2, 4\n",
    "Is 20 an adult? True\n",
    "The grade 85 is classified as Pass.\n",
    "The min and max of [1, 2, 3, 4, 5] are (1, 5).\n",
    "Score analysis: {'max': 92, 'min': 61, 'average': 76.5}\n",
    "```\n"
   ]
  },
  {
   "cell_type": "markdown",
   "metadata": {},
   "source": [
    "These tasks will help you understand the nuances of the `return` statement and how to use it effectively in your functions. Remember to test each function by calling it with appropriate arguments and printing the results to verify that your implementation is correct. Happy coding!"
   ]
  },
  {
   "cell_type": "markdown",
   "metadata": {},
   "source": [
    "### <a id='toc8_1_'></a>[Solution](#toc0_)"
   ]
  },
  {
   "cell_type": "markdown",
   "metadata": {},
   "source": [
    "Below is the solution for each task in the exercise:\n"
   ]
  },
  {
   "cell_type": "code",
   "execution_count": 40,
   "metadata": {},
   "outputs": [
    {
     "name": "stdout",
     "output_type": "stream",
     "text": [
      "The square of 4 is 16.\n"
     ]
    }
   ],
   "source": [
    "# Task 1: Simple Return Value\n",
    "def square(x):\n",
    "    return x * x\n",
    "\n",
    "result = square(4)\n",
    "print(f\"The square of 4 is {result}.\")\n"
   ]
  },
  {
   "cell_type": "code",
   "execution_count": 41,
   "metadata": {},
   "outputs": [
    {
     "name": "stdout",
     "output_type": "stream",
     "text": [
      "No name provided\n",
      "Hello, Alice!\n"
     ]
    }
   ],
   "source": [
    "# Task 2: Exiting a Function Early\n",
    "def greet(name):\n",
    "    if not name:  # Checks if the name string is empty\n",
    "        return \"No name provided\"\n",
    "    return f\"Hello, {name}!\"\n",
    "\n",
    "print(greet(\"\"))  # Should return \"No name provided\"\n",
    "print(greet(\"Alice\"))  # Should return \"Hello, Alice!\"\n"
   ]
  },
  {
   "cell_type": "code",
   "execution_count": 42,
   "metadata": {},
   "outputs": [
    {
     "name": "stdout",
     "output_type": "stream",
     "text": [
      "Even numbers: 2 4 "
     ]
    }
   ],
   "source": [
    "# Task 3: Function Without `return`\n",
    "def print_even(numbers):\n",
    "    print(\"Even numbers:\", end=\" \")\n",
    "    for num in numbers:\n",
    "        if num % 2 == 0:\n",
    "            print(num, end=\" \")\n",
    "\n",
    "print_even([1, 2, 3, 4])  # Should print 2 and 4\n"
   ]
  },
  {
   "cell_type": "code",
   "execution_count": 43,
   "metadata": {},
   "outputs": [
    {
     "name": "stdout",
     "output_type": "stream",
     "text": [
      "Is 20 an adult? True\n"
     ]
    }
   ],
   "source": [
    "# Task 4: Multiple Return Paths\n",
    "def is_adult(age):\n",
    "    if age >= 18:\n",
    "        return True\n",
    "    else:\n",
    "        return False\n",
    "\n",
    "print(f\"Is 20 an adult? {is_adult(20)}\")  # Should return True\n"
   ]
  },
  {
   "cell_type": "code",
   "execution_count": 44,
   "metadata": {},
   "outputs": [
    {
     "name": "stdout",
     "output_type": "stream",
     "text": [
      "The grade 85 is classified as Pass.\n",
      "No grade\n"
     ]
    }
   ],
   "source": [
    "# Task 5: Conditional Return with Default Value\n",
    "def classify_grade(grade=None):\n",
    "    if grade is None:\n",
    "        return \"No grade\"\n",
    "    elif grade < 60:\n",
    "        return \"Fail\"\n",
    "    elif grade >= 90:\n",
    "        return \"Excellent\"\n",
    "    else:\n",
    "        return \"Pass\"\n",
    "\n",
    "print(f\"The grade 85 is classified as {classify_grade(85)}.\")  # Should return \"Pass\"\n",
    "print(classify_grade())  # Should return \"No grade\"\n"
   ]
  },
  {
   "cell_type": "code",
   "execution_count": 45,
   "metadata": {},
   "outputs": [
    {
     "name": "stdout",
     "output_type": "stream",
     "text": [
      "The min and max of [1, 2, 3, 4, 5] are (1, 5).\n"
     ]
    }
   ],
   "source": [
    "# Task 6: Returning Multiple Values\n",
    "def min_max(numbers):\n",
    "    return min(numbers), max(numbers)\n",
    "\n",
    "min_num, max_num = min_max([1, 2, 3, 4, 5])\n",
    "print(f\"The min and max of [1, 2, 3, 4, 5] are {min_num, max_num}.\")\n"
   ]
  },
  {
   "cell_type": "code",
   "execution_count": 46,
   "metadata": {},
   "outputs": [
    {
     "name": "stdout",
     "output_type": "stream",
     "text": [
      "Score analysis: {'max': 92, 'min': 61, 'average': 82.0}\n"
     ]
    }
   ],
   "source": [
    "# Bonus: Returning Complex Data\n",
    "def analyze_scores(scores):\n",
    "    max_score = max(scores)\n",
    "    min_score = min(scores)\n",
    "    average_score = sum(scores) / len(scores)\n",
    "    return {\n",
    "        \"max\": max_score,\n",
    "        \"min\": min_score,\n",
    "        \"average\": average_score\n",
    "    }\n",
    "\n",
    "scores_data = analyze_scores([88, 92, 78, 90, 89, 76, 61])\n",
    "print(f\"Score analysis: {scores_data}\")\n"
   ]
  },
  {
   "cell_type": "markdown",
   "metadata": {},
   "source": [
    "This code includes a solution for each specified task. Each function demonstrates different uses of the `return` statement, including returning values, exiting functions early, having multiple return paths, and returning complex data types such as tuples and dictionaries. The functions are tested with print statements to display the expected outputs and verify their correctness.\n"
   ]
  }
 ],
 "metadata": {
  "kernelspec": {
   "display_name": "py310",
   "language": "python",
   "name": "python3"
  },
  "language_info": {
   "codemirror_mode": {
    "name": "ipython",
    "version": 3
   },
   "file_extension": ".py",
   "mimetype": "text/x-python",
   "name": "python",
   "nbconvert_exporter": "python",
   "pygments_lexer": "ipython3",
   "version": "3.10.12"
  }
 },
 "nbformat": 4,
 "nbformat_minor": 2
}
