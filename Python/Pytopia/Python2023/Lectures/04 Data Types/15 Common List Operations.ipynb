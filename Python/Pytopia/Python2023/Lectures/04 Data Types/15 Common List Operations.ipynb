{
 "cells": [
  {
   "cell_type": "markdown",
   "metadata": {},
   "source": [
    "<img src=\"./images/composite-data-types-banner.png\" width=\"800\">"
   ]
  },
  {
   "cell_type": "markdown",
   "metadata": {},
   "source": [
    "# Common List Operations"
   ]
  },
  {
   "cell_type": "markdown",
   "metadata": {},
   "source": [
    "Python lists are equipped with a variety of built-in operations that make them both versatile and powerful for everyday tasks. From basic concatenation to couting and sorting, common list operations enable developers to manipulate and utilize lists effectively. Let's dive into some of these essential operations and how to apply them.\n"
   ]
  },
  {
   "cell_type": "markdown",
   "metadata": {},
   "source": [
    "**Table of contents**<a id='toc0_'></a>    \n",
    "- [List Concatenation and Replication](#toc1_)    \n",
    "- [Membership Testing](#toc2_)    \n",
    "- [Finding the Index of an Element](#toc3_)    \n",
    "- [Counting the Number of Occurrences of an Element](#toc4_)    \n",
    "- [Reversing the Order of a List](#toc5_)    \n",
    "- [Sorting a List](#toc6_)    \n",
    "- [Conclusion](#toc7_)    \n",
    "- [Summary](#toc8_)    \n",
    "- [Practice Exercises](#toc9_)    \n",
    "  - [Exercise 1: Create and Modify List](#toc9_1_)    \n",
    "  - [Exercise 2: Access and Slice](#toc9_2_)    \n",
    "  - [Exercise 3: List Membership Testing](#toc9_3_)    \n",
    "  - [Exercise 4: Concatenation and Repetition](#toc9_4_)    \n",
    "  - [Exercise 5: Iterating and Counting](#toc9_5_)    \n",
    "\n",
    "<!-- vscode-jupyter-toc-config\n",
    "\tnumbering=false\n",
    "\tanchor=true\n",
    "\tflat=false\n",
    "\tminLevel=2\n",
    "\tmaxLevel=6\n",
    "\t/vscode-jupyter-toc-config -->\n",
    "<!-- THIS CELL WILL BE REPLACED ON TOC UPDATE. DO NOT WRITE YOUR TEXT IN THIS CELL -->"
   ]
  },
  {
   "cell_type": "markdown",
   "metadata": {},
   "source": [
    "## <a id='toc1_'></a>[List Concatenation and Replication](#toc0_)\n"
   ]
  },
  {
   "cell_type": "markdown",
   "metadata": {},
   "source": [
    "Lists can be concatenated, or joined together, using the `+` operator. This operation merges two lists into a new one:\n"
   ]
  },
  {
   "cell_type": "code",
   "execution_count": 5,
   "metadata": {},
   "outputs": [],
   "source": [
    "list_one = [1, 2, 3]\n",
    "list_two = [4, 5, 6]\n",
    "combined_list = list_one + list_two"
   ]
  },
  {
   "cell_type": "code",
   "execution_count": 6,
   "metadata": {},
   "outputs": [
    {
     "data": {
      "text/plain": [
       "[1, 2, 3, 4, 5, 6]"
      ]
     },
     "execution_count": 6,
     "metadata": {},
     "output_type": "execute_result"
    }
   ],
   "source": [
    "combined_list"
   ]
  },
  {
   "cell_type": "markdown",
   "metadata": {},
   "source": [
    "Replication of lists is performed using the `*` operator, which repeats the list a specified number of times:\n"
   ]
  },
  {
   "cell_type": "code",
   "execution_count": 7,
   "metadata": {},
   "outputs": [
    {
     "data": {
      "text/plain": [
       "[1, 2, 3, 1, 2, 3, 1, 2, 3]"
      ]
     },
     "execution_count": 7,
     "metadata": {},
     "output_type": "execute_result"
    }
   ],
   "source": [
    "repeated_list = list_one * 3\n",
    "repeated_list"
   ]
  },
  {
   "cell_type": "markdown",
   "metadata": {},
   "source": [
    "## <a id='toc2_'></a>[Membership Testing](#toc0_)\n"
   ]
  },
  {
   "cell_type": "markdown",
   "metadata": {},
   "source": [
    "To check if an item exists within a list, Python offers the `in` and `not in` operators for membership testing:\n"
   ]
  },
  {
   "cell_type": "code",
   "execution_count": 8,
   "metadata": {},
   "outputs": [],
   "source": [
    "pets = ['dog', 'cat', 'bird']"
   ]
  },
  {
   "cell_type": "code",
   "execution_count": 9,
   "metadata": {},
   "outputs": [
    {
     "data": {
      "text/plain": [
       "True"
      ]
     },
     "execution_count": 9,
     "metadata": {},
     "output_type": "execute_result"
    }
   ],
   "source": [
    "# Check if 'cat' is in the list\n",
    "'cat' in pets  # Returns True"
   ]
  },
  {
   "cell_type": "code",
   "execution_count": 10,
   "metadata": {},
   "outputs": [
    {
     "data": {
      "text/plain": [
       "True"
      ]
     },
     "execution_count": 10,
     "metadata": {},
     "output_type": "execute_result"
    }
   ],
   "source": [
    "# Check if 'fish' is not in the list\n",
    "'fish' not in pets  # Returns True"
   ]
  },
  {
   "cell_type": "markdown",
   "metadata": {},
   "source": [
    "These operations are very efficient, especially for checking conditions or filtering items.\n"
   ]
  },
  {
   "cell_type": "markdown",
   "metadata": {},
   "source": [
    "## <a id='toc3_'></a>[Finding the Index of an Element](#toc0_)\n"
   ]
  },
  {
   "cell_type": "markdown",
   "metadata": {},
   "source": [
    "The `.index()` method can be used when you need to find the index of a particular item. It returns the first index at which the item appears:\n"
   ]
  },
  {
   "cell_type": "code",
   "execution_count": 11,
   "metadata": {},
   "outputs": [
    {
     "data": {
      "text/plain": [
       "1"
      ]
     },
     "execution_count": 11,
     "metadata": {},
     "output_type": "execute_result"
    }
   ],
   "source": [
    "# Get the index of 'cat'\n",
    "pets.index('cat')"
   ]
  },
  {
   "cell_type": "markdown",
   "metadata": {},
   "source": [
    "Calling `pets.index('cat')` will return `1`, since 'cat' is at index `1`.\n"
   ]
  },
  {
   "cell_type": "markdown",
   "metadata": {},
   "source": [
    "## <a id='toc4_'></a>[Counting the Number of Occurrences of an Element](#toc0_)"
   ]
  },
  {
   "cell_type": "markdown",
   "metadata": {},
   "source": [
    "The `.count()` method can be used to count the number of times an item appears in a list:"
   ]
  },
  {
   "cell_type": "code",
   "execution_count": 20,
   "metadata": {},
   "outputs": [
    {
     "data": {
      "text/plain": [
       "1"
      ]
     },
     "execution_count": 20,
     "metadata": {},
     "output_type": "execute_result"
    }
   ],
   "source": [
    "# Get the count of 'cat'\n",
    "pets.count('cat')"
   ]
  },
  {
   "cell_type": "code",
   "execution_count": 21,
   "metadata": {},
   "outputs": [
    {
     "data": {
      "text/plain": [
       "0"
      ]
     },
     "execution_count": 21,
     "metadata": {},
     "output_type": "execute_result"
    }
   ],
   "source": [
    "# Get the count of 'fish'\n",
    "pets.count('fish')"
   ]
  },
  {
   "cell_type": "markdown",
   "metadata": {},
   "source": [
    "## <a id='toc5_'></a>[Reversing the Order of a List](#toc0_)\n"
   ]
  },
  {
   "cell_type": "markdown",
   "metadata": {},
   "source": [
    "The `.reverse()` method flips the order of the elements in the list, modifying the list in place:\n"
   ]
  },
  {
   "cell_type": "code",
   "execution_count": 12,
   "metadata": {},
   "outputs": [],
   "source": [
    "numbers = [1, 2, 3, 4, 5]\n",
    "\n",
    "# Reverse the numbers list\n",
    "numbers.reverse()"
   ]
  },
  {
   "cell_type": "code",
   "execution_count": 13,
   "metadata": {},
   "outputs": [
    {
     "data": {
      "text/plain": [
       "[5, 4, 3, 2, 1]"
      ]
     },
     "execution_count": 13,
     "metadata": {},
     "output_type": "execute_result"
    }
   ],
   "source": [
    "numbers"
   ]
  },
  {
   "cell_type": "markdown",
   "metadata": {},
   "source": [
    "After this call, `numbers` will be `[2, 4, 2, 3, 2, 1]`. Note that **the original list is modified** and the method does not return a new list. If you want to create a new list with the elements in reverse order, you can use the `reversed()` function instead. Note that this function returns an iterator, so you need to convert it to a list. You will learn more about iterators in the later sections.\n"
   ]
  },
  {
   "cell_type": "code",
   "execution_count": 14,
   "metadata": {},
   "outputs": [
    {
     "data": {
      "text/plain": [
       "[1, 2, 3, 4, 5]"
      ]
     },
     "execution_count": 14,
     "metadata": {},
     "output_type": "execute_result"
    }
   ],
   "source": [
    "list(reversed(numbers))"
   ]
  },
  {
   "cell_type": "markdown",
   "metadata": {},
   "source": [
    "## <a id='toc6_'></a>[Sorting a List](#toc0_)\n"
   ]
  },
  {
   "cell_type": "markdown",
   "metadata": {},
   "source": [
    "With the `.sort()` method, you can sort the elements in a list in ascending or descending order:"
   ]
  },
  {
   "cell_type": "code",
   "execution_count": 15,
   "metadata": {},
   "outputs": [],
   "source": [
    "# Sort the list in ascending order\n",
    "numbers.sort()"
   ]
  },
  {
   "cell_type": "code",
   "execution_count": 16,
   "metadata": {},
   "outputs": [
    {
     "data": {
      "text/plain": [
       "[1, 2, 3, 4, 5]"
      ]
     },
     "execution_count": 16,
     "metadata": {},
     "output_type": "execute_result"
    }
   ],
   "source": [
    "numbers"
   ]
  },
  {
   "cell_type": "code",
   "execution_count": 17,
   "metadata": {},
   "outputs": [],
   "source": [
    "# Sort the list in descending order\n",
    "numbers.sort(reverse=True)"
   ]
  },
  {
   "cell_type": "code",
   "execution_count": 18,
   "metadata": {},
   "outputs": [
    {
     "data": {
      "text/plain": [
       "[5, 4, 3, 2, 1]"
      ]
     },
     "execution_count": 18,
     "metadata": {},
     "output_type": "execute_result"
    }
   ],
   "source": [
    "numbers"
   ]
  },
  {
   "cell_type": "markdown",
   "metadata": {},
   "source": [
    "The `.sort()` method sorts `numbers` in place, while the `sorted()` built-in function can be used to return a new sorted list without altering the original.\n"
   ]
  },
  {
   "cell_type": "code",
   "execution_count": 19,
   "metadata": {},
   "outputs": [
    {
     "data": {
      "text/plain": [
       "[1, 2, 3, 4, 5]"
      ]
     },
     "execution_count": 19,
     "metadata": {},
     "output_type": "execute_result"
    }
   ],
   "source": [
    "sorted(numbers)"
   ]
  },
  {
   "cell_type": "markdown",
   "metadata": {},
   "source": [
    "## <a id='toc7_'></a>[Conclusion](#toc0_)\n"
   ]
  },
  {
   "cell_type": "markdown",
   "metadata": {},
   "source": [
    "These common list operations provide a strong foundation for managing and manipulating lists in Python. Understanding and using these operations effectively can allow for more concise and readable code. Whether you're combining lists, searching for specific elements, iterating thoughtfully, or organizing data, these operations are a gateway to improved list handling in everyday programming tasks.\n"
   ]
  },
  {
   "cell_type": "markdown",
   "metadata": {},
   "source": [
    "In the following sections, we'll further explore the intricacies of list manipulations and learn to employ them judiciously for efficient data processing and analysis. Armed with these techniques, you’ll be well-placed to tackle a variety of problems using lists."
   ]
  },
  {
   "cell_type": "markdown",
   "metadata": {},
   "source": [
    "## <a id='toc8_'></a>[Summary](#toc0_)"
   ]
  },
  {
   "cell_type": "markdown",
   "metadata": {},
   "source": [
    "Throughout the previous sessions on list, we've introduced the list data type and explored fundamental operations that are essential to working with lists in Python. Let's recap the points we’ve discussed:\n",
    "\n",
    "- **Lists** are mutable, ordered collections of items that can contain elements of various data types.\n",
    "- **Creating Lists** involves using square brackets or the `list()` constructor, and you can even generate lists with repetitive elements using the multiplication operator.\n",
    "- **Accessing Elements** can be done using indexing and slicing, which allow you to retrieve individual items or sublists.\n",
    "- **Adding Elements** to lists is a versatile process, with methods such as `.append()` for single items, `.extend()` for multiple items, and `.insert()` for adding items at a specific position.\n",
    "- **Common Operations** on lists include list concatenation via the `+` operator, membership testing with `in` and `not in`, as well as sorting and reversing lists.\n"
   ]
  },
  {
   "cell_type": "markdown",
   "metadata": {},
   "source": [
    "By revisiting these concepts and employing the operations and methods we've covered, you will be able to handle lists proficiently—the first step in becoming proficient with Python’s collections.\n"
   ]
  },
  {
   "cell_type": "markdown",
   "metadata": {},
   "source": [
    "<img src=\"../images/exercise-banner.gif\" width=\"800\">"
   ]
  },
  {
   "cell_type": "markdown",
   "metadata": {},
   "source": [
    "## <a id='toc9_'></a>[Practice Exercises](#toc0_)\n"
   ]
  },
  {
   "cell_type": "markdown",
   "metadata": {},
   "source": [
    "Now that we've covered the basics of lists and some fundamental operations, let's reinforce our understanding with a few exercises.\n"
   ]
  },
  {
   "cell_type": "markdown",
   "metadata": {},
   "source": [
    "### <a id='toc9_1_'></a>[Exercise 1: Create and Modify List](#toc0_)\n",
    "Create a list named `colors` containing 'red', 'green', 'blue', and 'yellow'. Then, change 'blue' to 'aqua' and append a new color, 'purple', to the list.\n"
   ]
  },
  {
   "cell_type": "markdown",
   "metadata": {},
   "source": [
    "### <a id='toc9_2_'></a>[Exercise 2: Access and Slice](#toc0_)\n",
    "Given the list `nums = [0, 1, 2, 3, 4, 5, 6, 7, 8, 9]`, access and print the fifth element in `nums`, and create a slice of `nums` that contains only the even numbers.\n"
   ]
  },
  {
   "cell_type": "markdown",
   "metadata": {},
   "source": [
    "### <a id='toc9_3_'></a>[Exercise 3: List Membership Testing](#toc0_)\n",
    "Create a list containing your five favorite food items, then write a small script that checks if 'pizza' is among your favorites and prints an appropriate message whether it is found or not.\n"
   ]
  },
  {
   "cell_type": "markdown",
   "metadata": {},
   "source": [
    "### <a id='toc9_4_'></a>[Exercise 4: Concatenation and Repetition](#toc0_)\n",
    "Concatenate the following two lists `list_a = [1, 2, 3]` and `list_b = [4, 5, 6]` and create a third list that contains three repetitions of the concatenated list.\n"
   ]
  }
 ],
 "metadata": {
  "kernelspec": {
   "display_name": "py310",
   "language": "python",
   "name": "python3"
  },
  "language_info": {
   "codemirror_mode": {
    "name": "ipython",
    "version": 3
   },
   "file_extension": ".py",
   "mimetype": "text/x-python",
   "name": "python",
   "nbconvert_exporter": "python",
   "pygments_lexer": "ipython3",
   "version": "3.10.12"
  }
 },
 "nbformat": 4,
 "nbformat_minor": 2
}
