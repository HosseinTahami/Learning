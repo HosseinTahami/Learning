{
 "cells": [
  {
   "cell_type": "markdown",
   "metadata": {},
   "source": [
    "<img src=\"./images/composite-data-types-banner.png\" width=\"800\">"
   ]
  },
  {
   "cell_type": "markdown",
   "metadata": {},
   "source": [
    "# Set in Python"
   ]
  },
  {
   "cell_type": "markdown",
   "metadata": {},
   "source": [
    "What Are Sets? Sets are a data type in Python that store unordered collections of unique items. They are similar to sets in mathematics and are useful when the existence of an item in a collection is more important than the order of items or their frequency."
   ]
  },
  {
   "cell_type": "markdown",
   "metadata": {},
   "source": [
    "**Characteristics of Sets:**\n",
    "- **Unique Elements**: Sets enforce uniqueness; no two elements can be the same. Duplicate items are automatically merged.\n",
    "- **Mutable**: You can add and remove items from a set.\n",
    "- **Unordered**: The items in a set do not have a defined order; sets are not sequence data types.\n",
    "- **Unindexed**: Unlike lists or tuples, sets do not support indexing or slicing.\n"
   ]
  },
  {
   "cell_type": "markdown",
   "metadata": {},
   "source": [
    "<img src=\"./images/set.png\" width=\"600\">"
   ]
  },
  {
   "cell_type": "markdown",
   "metadata": {},
   "source": [
    "**Sets vs. Lists vs. Dictionaries:**\n",
    "- **Lists** are ordered collections of items which can contain duplicates and support indexing.\n",
    "- **Dictionaries** hold key-value pairs and are indexed by keys, which must be unique.\n",
    "- **Sets**, on the other hand, are used when the order is unimportant, and you need to ensure that there are no duplicates in the collection.\n"
   ]
  },
  {
   "cell_type": "markdown",
   "metadata": {},
   "source": [
    "**When to Use a Set?**\n",
    "\n",
    "Use a set when you have a collection of unique items and you want to perform operations like checking for membership, eliminating duplicates from a list, or performing mathematical set operations like unions and intersections.\n",
    "\n",
    "Sets are particularly useful when dealing with data where the representation of a mathematical set is needed, such as groups, selections, or pool of unique items where it's essential to know whether an item is present or not without caring about the order.\n",
    "\n",
    "In summary, Python sets are simple yet powerful. Understanding their properties and how they differ from other data types like lists and dictionaries is crucial as it allows you to select the right tool for your data manipulation tasks.\n",
    "\n",
    "In the coming sections, we'll dive into how to create and manipulate sets and take a closer look at the types of operations that can be performed with them. By the end of these sections, you should have a good grasp of when and how to use sets in your Python programs."
   ]
  },
  {
   "cell_type": "markdown",
   "metadata": {},
   "source": [
    "**Table of contents**<a id='toc0_'></a>    \n",
    "- [Creating Sets in Python](#toc1_)    \n",
    "  - [Set Creation Syntax](#toc1_1_)    \n",
    "  - [Creating an Empty Set](#toc1_2_)    \n",
    "  - [Creating a Set from an Iterable](#toc1_3_)    \n",
    "  - [Sets from Strings](#toc1_4_)    \n",
    "  - [Handling Duplicates](#toc1_5_)    \n",
    "  - [Conclusion](#toc1_6_)    \n",
    "- [Accessing Set Elements in Python](#toc2_)    \n",
    "  - [Membership Testing](#toc2_1_)    \n",
    "  - [Accessing Elements Indirectly](#toc2_2_)    \n",
    "  - [Conclusion](#toc2_3_)    \n",
    "- [Adding and Updating Sets in Python](#toc3_)    \n",
    "  - [Adding Elements to a Set](#toc3_1_)    \n",
    "  - [The Uniqueness Constraint](#toc3_2_)    \n",
    "  - [Updating a Set with Multiple Elements](#toc3_3_)    \n",
    "  - [Duplicates in `.update()`](#toc3_4_)    \n",
    "  - [Using `|=`](#toc3_5_)    \n",
    "  - [Conclusion](#toc3_6_)    \n",
    "- [Removing Items from a Set in Python](#toc4_)    \n",
    "  - [Using `.remove()` Method](#toc4_1_)    \n",
    "  - [Using `.discard()` Method](#toc4_2_)    \n",
    "  - [Using `.pop()` Method](#toc4_3_)    \n",
    "  - [Clearing a Set](#toc4_4_)    \n",
    "  - [Conclusion](#toc4_5_)    \n",
    "- [A Note on Set Elements Limitation](#toc5_)    \n",
    "- [Summary and Exercise](#toc6_)    \n",
    "\n",
    "<!-- vscode-jupyter-toc-config\n",
    "\tnumbering=false\n",
    "\tanchor=true\n",
    "\tflat=false\n",
    "\tminLevel=2\n",
    "\tmaxLevel=6\n",
    "\t/vscode-jupyter-toc-config -->\n",
    "<!-- THIS CELL WILL BE REPLACED ON TOC UPDATE. DO NOT WRITE YOUR TEXT IN THIS CELL -->"
   ]
  },
  {
   "cell_type": "markdown",
   "metadata": {},
   "source": [
    "## <a id='toc1_'></a>[Creating Sets in Python](#toc0_)"
   ]
  },
  {
   "cell_type": "markdown",
   "metadata": {},
   "source": [
    "Creating sets in Python could not be more straightforward. Whether you're starting with a group of elements or an existing iterable, Python's set creation syntax is simple and efficient.\n"
   ]
  },
  {
   "cell_type": "markdown",
   "metadata": {},
   "source": [
    "### <a id='toc1_1_'></a>[Set Creation Syntax](#toc0_)\n"
   ]
  },
  {
   "cell_type": "markdown",
   "metadata": {},
   "source": [
    "The primary way to create a set is to use curly braces `{}` with comma-separated elements within. Here is a basic example:\n"
   ]
  },
  {
   "cell_type": "code",
   "execution_count": 10,
   "metadata": {},
   "outputs": [],
   "source": [
    "my_set = {1, 2, 3, 4, 5}"
   ]
  },
  {
   "cell_type": "markdown",
   "metadata": {},
   "source": [
    "In this example, `my_set` is a set of integers from 1 to 5.\n"
   ]
  },
  {
   "cell_type": "markdown",
   "metadata": {},
   "source": [
    "### <a id='toc1_2_'></a>[Creating an Empty Set](#toc0_)\n"
   ]
  },
  {
   "cell_type": "markdown",
   "metadata": {},
   "source": [
    "Curiously, because empty curly braces `{}` are used to define an empty dictionary, sets have their own syntax for an empty set using the `set()` constructor with no arguments:\n"
   ]
  },
  {
   "cell_type": "code",
   "execution_count": 11,
   "metadata": {},
   "outputs": [],
   "source": [
    "empty_set = set()"
   ]
  },
  {
   "cell_type": "markdown",
   "metadata": {},
   "source": [
    "It is important to use the `set()` constructor for creating an empty set because writing `{}` creates an empty dictionary instead.\n"
   ]
  },
  {
   "cell_type": "markdown",
   "metadata": {},
   "source": [
    "### <a id='toc1_3_'></a>[Creating a Set from an Iterable](#toc0_)\n"
   ]
  },
  {
   "cell_type": "markdown",
   "metadata": {},
   "source": [
    "You can create a set from any iterable, such as a list or a tuple, by passing it to the `set()` constructor. This is particularly useful for removing duplicates from a list, as sets cannot contain duplicate elements:\n"
   ]
  },
  {
   "cell_type": "code",
   "execution_count": 12,
   "metadata": {},
   "outputs": [],
   "source": [
    "# Creating a set from a list\n",
    "list_with_duplicates = [1, 2, 2, 3, 4, 4, 5]\n",
    "unique_set = set(list_with_duplicates)"
   ]
  },
  {
   "cell_type": "code",
   "execution_count": 13,
   "metadata": {},
   "outputs": [
    {
     "data": {
      "text/plain": [
       "{1, 2, 3, 4, 5}"
      ]
     },
     "execution_count": 13,
     "metadata": {},
     "output_type": "execute_result"
    }
   ],
   "source": [
    "unique_set"
   ]
  },
  {
   "cell_type": "markdown",
   "metadata": {},
   "source": [
    "After this operation, `unique_set` would be `{1, 2, 3, 4, 5}`, where the duplicates `2` and `4` have been removed automatically.\n"
   ]
  },
  {
   "cell_type": "markdown",
   "metadata": {},
   "source": [
    "### <a id='toc1_4_'></a>[Sets from Strings](#toc0_)\n"
   ]
  },
  {
   "cell_type": "markdown",
   "metadata": {},
   "source": [
    "Since a string is an iterable of characters, passing a string to the `set()` constructor will produce a set of its characters:\n"
   ]
  },
  {
   "cell_type": "code",
   "execution_count": 14,
   "metadata": {},
   "outputs": [],
   "source": [
    "# Creating a set from a string\n",
    "char_set = set('hello')"
   ]
  },
  {
   "cell_type": "code",
   "execution_count": 15,
   "metadata": {},
   "outputs": [
    {
     "data": {
      "text/plain": [
       "{'e', 'h', 'l', 'o'}"
      ]
     },
     "execution_count": 15,
     "metadata": {},
     "output_type": "execute_result"
    }
   ],
   "source": [
    "char_set"
   ]
  },
  {
   "cell_type": "markdown",
   "metadata": {},
   "source": [
    "This results in `char_set` being `{'e', 'h', 'l', 'o'}`, where the duplicate 'l' character from the string 'hello' is eliminated.\n"
   ]
  },
  {
   "cell_type": "markdown",
   "metadata": {},
   "source": [
    "### <a id='toc1_5_'></a>[Handling Duplicates](#toc0_)\n"
   ]
  },
  {
   "cell_type": "markdown",
   "metadata": {},
   "source": [
    "When you create a set, Python automatically removes any duplicate elements:\n"
   ]
  },
  {
   "cell_type": "code",
   "execution_count": 16,
   "metadata": {},
   "outputs": [],
   "source": [
    "# Duplicates are automatically removed\n",
    "duplicate_set = {1, 2, 2, 3, 3, 3}"
   ]
  },
  {
   "cell_type": "code",
   "execution_count": 17,
   "metadata": {},
   "outputs": [
    {
     "data": {
      "text/plain": [
       "{1, 2, 3}"
      ]
     },
     "execution_count": 17,
     "metadata": {},
     "output_type": "execute_result"
    }
   ],
   "source": [
    "duplicate_set"
   ]
  },
  {
   "cell_type": "markdown",
   "metadata": {},
   "source": [
    "The `duplicate_set` will result in `{1, 2, 3}`, demonstrating that sets cannot have multiple instances of the same element.\n"
   ]
  },
  {
   "cell_type": "markdown",
   "metadata": {},
   "source": [
    "### <a id='toc1_6_'></a>[Conclusion](#toc0_)\n"
   ]
  },
  {
   "cell_type": "markdown",
   "metadata": {},
   "source": [
    "Creating sets in Python is a task that can be tailored for various contexts, whether you need a blank slate with an empty set, a unique collection from an existing list, or a quick conversion from another iterable type. The simplicity of creating sets and the automatic handling of duplicates make them a valuable addition to any Python programmer's toolkit.\n"
   ]
  },
  {
   "cell_type": "markdown",
   "metadata": {},
   "source": [
    "In the coming sections, we'll explore how to access elements in a set and perform a range of modifications to sets, expanding our understanding of this powerful collection type."
   ]
  },
  {
   "cell_type": "markdown",
   "metadata": {},
   "source": [
    "## <a id='toc2_'></a>[Accessing Set Elements in Python](#toc0_)"
   ]
  },
  {
   "cell_type": "markdown",
   "metadata": {},
   "source": [
    "Unlike lists or dictionaries, sets in Python are unordered collections, and hence, they do not support indexing. This means individual elements of a set cannot be accessed using indices like you would with a list. However, sets provide other ways to work with their elements, such as membership testing and iteration.\n"
   ]
  },
  {
   "cell_type": "markdown",
   "metadata": {},
   "source": [
    "### <a id='toc2_1_'></a>[Membership Testing](#toc0_)\n"
   ]
  },
  {
   "cell_type": "markdown",
   "metadata": {},
   "source": [
    "One of the most common operations you'll perform on a set is to check whether it contains a specific item. This is called membership testing and is done using the `in` keyword.\n"
   ]
  },
  {
   "cell_type": "markdown",
   "metadata": {},
   "source": [
    "Here's an example of how you can perform a membership test:\n"
   ]
  },
  {
   "cell_type": "code",
   "execution_count": 18,
   "metadata": {},
   "outputs": [],
   "source": [
    "my_set = {1, 2, 3, 4, 5}"
   ]
  },
  {
   "cell_type": "code",
   "execution_count": 19,
   "metadata": {},
   "outputs": [
    {
     "data": {
      "text/plain": [
       "True"
      ]
     },
     "execution_count": 19,
     "metadata": {},
     "output_type": "execute_result"
    }
   ],
   "source": [
    "# Check if 3 is in the set\n",
    "3 in my_set"
   ]
  },
  {
   "cell_type": "code",
   "execution_count": 20,
   "metadata": {},
   "outputs": [
    {
     "data": {
      "text/plain": [
       "True"
      ]
     },
     "execution_count": 20,
     "metadata": {},
     "output_type": "execute_result"
    }
   ],
   "source": [
    "# Check if 6 is not in the set\n",
    "6 not in my_set"
   ]
  },
  {
   "cell_type": "markdown",
   "metadata": {},
   "source": [
    "Both expressions will return boolean values, `True` if the item is in the set and `False` if it is not.\n"
   ]
  },
  {
   "cell_type": "markdown",
   "metadata": {},
   "source": [
    "> Remember that because sets are unordered, any time you deal with a set, the concept of \"the first element\" or \"the last element\" does not apply as it would with a list or a tuple.\n"
   ]
  },
  {
   "cell_type": "markdown",
   "metadata": {},
   "source": [
    "### <a id='toc2_2_'></a>[Accessing Elements Indirectly](#toc0_)\n"
   ]
  },
  {
   "cell_type": "markdown",
   "metadata": {},
   "source": [
    "While you can’t access set elements by index directly, there are ways to retrieve elements indirectly:\n",
    "\n",
    "- **Converting a Set to a List**: When order and direct access are needed, and it's okay for the values to have duplicates, you can convert a set to a list:\n"
   ]
  },
  {
   "cell_type": "code",
   "execution_count": 21,
   "metadata": {},
   "outputs": [
    {
     "data": {
      "text/plain": [
       "[1, 2, 3, 4, 5]"
      ]
     },
     "execution_count": 21,
     "metadata": {},
     "output_type": "execute_result"
    }
   ],
   "source": [
    "ordered_elements = list(my_set)\n",
    "ordered_elements"
   ]
  },
  {
   "cell_type": "markdown",
   "metadata": {},
   "source": [
    "- **Using the `pop()` Method**: This method can remove and return an arbitrary element from the set, but it is not reliable for accessing a known element:\n"
   ]
  },
  {
   "cell_type": "code",
   "execution_count": 22,
   "metadata": {},
   "outputs": [],
   "source": [
    "popped_element = my_set.pop()"
   ]
  },
  {
   "cell_type": "code",
   "execution_count": 23,
   "metadata": {},
   "outputs": [
    {
     "data": {
      "text/plain": [
       "1"
      ]
     },
     "execution_count": 23,
     "metadata": {},
     "output_type": "execute_result"
    }
   ],
   "source": [
    "popped_element"
   ]
  },
  {
   "cell_type": "markdown",
   "metadata": {},
   "source": [
    "### <a id='toc2_3_'></a>[Conclusion](#toc0_)\n"
   ]
  },
  {
   "cell_type": "markdown",
   "metadata": {},
   "source": [
    "Sets are designed to be collections without order, which is an essential feature when considering set performance and typical use cases such as membership testing and deduplication. To work with individual elements, you'll use iteration and membership testing instead of direct access as you would with lists or dictionaries.\n"
   ]
  },
  {
   "cell_type": "markdown",
   "metadata": {},
   "source": [
    "In the next section, we'll look at how to modify the contents of sets by adding, updating, and removing elements, allowing for dynamic and efficient set manipulation."
   ]
  },
  {
   "cell_type": "markdown",
   "metadata": {},
   "source": [
    "## <a id='toc3_'></a>[Adding and Updating Sets in Python](#toc0_)\n"
   ]
  },
  {
   "cell_type": "markdown",
   "metadata": {},
   "source": [
    "While sets do not support indexing, which eliminates any direct assignment of values like in a list, you can add or update a set’s contents using built-in methods. Let's explore how to introduce new elements to a set and how to combine another collection with an existing set.\n"
   ]
  },
  {
   "cell_type": "markdown",
   "metadata": {},
   "source": [
    "### <a id='toc3_1_'></a>[Adding Elements to a Set](#toc0_)\n"
   ]
  },
  {
   "cell_type": "markdown",
   "metadata": {},
   "source": [
    "To add a single element to a set, use the `.add()` method, which takes a single argument and adds that element to the set if it is not already present:\n"
   ]
  },
  {
   "cell_type": "code",
   "execution_count": 24,
   "metadata": {},
   "outputs": [],
   "source": [
    "my_set = {1, 2, 3}"
   ]
  },
  {
   "cell_type": "code",
   "execution_count": 25,
   "metadata": {},
   "outputs": [
    {
     "data": {
      "text/plain": [
       "{1, 2, 3, 4}"
      ]
     },
     "execution_count": 25,
     "metadata": {},
     "output_type": "execute_result"
    }
   ],
   "source": [
    "# Adding an element to the set\n",
    "my_set.add(4)\n",
    "my_set"
   ]
  },
  {
   "cell_type": "markdown",
   "metadata": {},
   "source": [
    "After this operation, `my_set` will be `{1, 2, 3, 4}`.\n"
   ]
  },
  {
   "cell_type": "markdown",
   "metadata": {},
   "source": [
    "### <a id='toc3_2_'></a>[The Uniqueness Constraint](#toc0_)\n"
   ]
  },
  {
   "cell_type": "markdown",
   "metadata": {},
   "source": [
    "The highlight of sets is that they contain unique items—no duplicates. If an attempt is made to add a duplicate element with `.add()`, the set remains unchanged:\n"
   ]
  },
  {
   "cell_type": "code",
   "execution_count": 26,
   "metadata": {},
   "outputs": [],
   "source": [
    "# Attempting to add a duplicate element\n",
    "my_set.add(2)"
   ]
  },
  {
   "cell_type": "code",
   "execution_count": 27,
   "metadata": {},
   "outputs": [
    {
     "data": {
      "text/plain": [
       "{1, 2, 3, 4}"
      ]
     },
     "execution_count": 27,
     "metadata": {},
     "output_type": "execute_result"
    }
   ],
   "source": [
    "my_set"
   ]
  },
  {
   "cell_type": "markdown",
   "metadata": {},
   "source": [
    "The set will still be `{1, 2, 3, 4}` even after trying to add the duplicate `2`.\n"
   ]
  },
  {
   "cell_type": "markdown",
   "metadata": {},
   "source": [
    "### <a id='toc3_3_'></a>[Updating a Set with Multiple Elements](#toc0_)\n"
   ]
  },
  {
   "cell_type": "markdown",
   "metadata": {},
   "source": [
    "If you have multiple new elements to add—not just one—you can use the `.update()` method. The `.update()` method can take tuples, lists, strings, or even other sets, and add all their elements to the original set:\n"
   ]
  },
  {
   "cell_type": "code",
   "execution_count": 28,
   "metadata": {},
   "outputs": [
    {
     "data": {
      "text/plain": [
       "{1, 2, 3, 4, 5, 6}"
      ]
     },
     "execution_count": 28,
     "metadata": {},
     "output_type": "execute_result"
    }
   ],
   "source": [
    "# Using update with a list\n",
    "my_set.update([5, 6])\n",
    "my_set"
   ]
  },
  {
   "cell_type": "code",
   "execution_count": 29,
   "metadata": {},
   "outputs": [
    {
     "data": {
      "text/plain": [
       "{1, 2, 3, 4, 5, 6, 7, 8}"
      ]
     },
     "execution_count": 29,
     "metadata": {},
     "output_type": "execute_result"
    }
   ],
   "source": [
    "# Using update with another set\n",
    "another_set = {6, 7, 8}\n",
    "my_set.update(another_set)\n",
    "my_set"
   ]
  },
  {
   "cell_type": "markdown",
   "metadata": {},
   "source": [
    "Both `.add()` and `.update()` modify the set in place, meaning they don't create a new set but change the existing one.\n"
   ]
  },
  {
   "cell_type": "markdown",
   "metadata": {},
   "source": [
    "### <a id='toc3_4_'></a>[Duplicates in `.update()`](#toc0_)\n"
   ]
  },
  {
   "cell_type": "markdown",
   "metadata": {},
   "source": [
    "Just like with `.add()`, if any of the elements provided to `.update()` are duplicates, they will be ignored, and only unique elements will be added:\n"
   ]
  },
  {
   "cell_type": "code",
   "execution_count": 30,
   "metadata": {},
   "outputs": [
    {
     "data": {
      "text/plain": [
       "{1, 2, 3, 4, 5, 6, 7, 8}"
      ]
     },
     "execution_count": 30,
     "metadata": {},
     "output_type": "execute_result"
    }
   ],
   "source": [
    "# Adding duplicates to the set with update\n",
    "my_set.update([5, 5, 6, 7])\n",
    "my_set"
   ]
  },
  {
   "cell_type": "markdown",
   "metadata": {},
   "source": [
    "In the above code snippet, only the first occurrence of `5` and `6` need to be considered since `5` and `6` are already in the set.\n"
   ]
  },
  {
   "cell_type": "markdown",
   "metadata": {},
   "source": [
    "### <a id='toc3_5_'></a>[Using `|=`](#toc0_)\n"
   ]
  },
  {
   "cell_type": "markdown",
   "metadata": {},
   "source": [
    "Python also provides the union assignment operator `|=` which can be used in place of the `.update()` method:\n"
   ]
  },
  {
   "cell_type": "code",
   "execution_count": 31,
   "metadata": {},
   "outputs": [
    {
     "data": {
      "text/plain": [
       "{1, 2, 3, 4, 5, 6, 7, 8, 9, 10}"
      ]
     },
     "execution_count": 31,
     "metadata": {},
     "output_type": "execute_result"
    }
   ],
   "source": [
    "# Using |= operator with a list\n",
    "my_set |= {9, 10}\n",
    "my_set"
   ]
  },
  {
   "cell_type": "markdown",
   "metadata": {},
   "source": [
    "This operation will result in the set being `{1, 2, 3, 4, 5, 6, 7, 8, 9, 10}`.\n"
   ]
  },
  {
   "cell_type": "markdown",
   "metadata": {},
   "source": [
    "### <a id='toc3_6_'></a>[Conclusion](#toc0_)\n"
   ]
  },
  {
   "cell_type": "markdown",
   "metadata": {},
   "source": [
    "The methods `.add()` and `.update()` provide a way to dynamically grow a set. They preserve the set's defining property – uniqueness of its elements – automatically preventing duplicate entries. As such, sets can be very convenient when you deal with unsorted unique data, need to ensure no duplicates, or efficiently manage groups of items in your Python programs.\n"
   ]
  },
  {
   "cell_type": "markdown",
   "metadata": {},
   "source": [
    "In the following sections, we'll learn how to remove items from a set, perform various set operations, and understand the real-world scenarios where sets shine the most."
   ]
  },
  {
   "cell_type": "markdown",
   "metadata": {},
   "source": [
    "## <a id='toc4_'></a>[Removing Items from a Set in Python](#toc0_)"
   ]
  },
  {
   "cell_type": "markdown",
   "metadata": {},
   "source": [
    "In Python, sets not only allow you to add elements but also to remove them in different ways. This can be helpful when you are working with dynamic collections where items need to be excluded based on certain conditions or user actions. Let's explore the methodologies provided by Python to remove elements from sets.\n"
   ]
  },
  {
   "cell_type": "markdown",
   "metadata": {},
   "source": [
    "### <a id='toc4_1_'></a>[Using `.remove()` Method](#toc0_)\n"
   ]
  },
  {
   "cell_type": "markdown",
   "metadata": {},
   "source": [
    "To remove a specific element from a set, you can use the `.remove()` method and pass the value you wish to remove as an argument. If the element is present in the set, the `.remove()` method removes it:\n"
   ]
  },
  {
   "cell_type": "code",
   "execution_count": 39,
   "metadata": {},
   "outputs": [],
   "source": [
    "my_set = {1, 2, 3, 4, 5}"
   ]
  },
  {
   "cell_type": "code",
   "execution_count": 40,
   "metadata": {},
   "outputs": [
    {
     "data": {
      "text/plain": [
       "{1, 2, 4, 5}"
      ]
     },
     "execution_count": 40,
     "metadata": {},
     "output_type": "execute_result"
    }
   ],
   "source": [
    "# Remove the element 3 from the set\n",
    "my_set.remove(3)\n",
    "my_set"
   ]
  },
  {
   "cell_type": "markdown",
   "metadata": {},
   "source": [
    "After this operation, `my_set` will be `{1, 2, 4, 5}`.\n"
   ]
  },
  {
   "cell_type": "markdown",
   "metadata": {},
   "source": [
    "However, if the specified element doesn’t exist in the set, `.remove()` will raise a `KeyError`:\n"
   ]
  },
  {
   "cell_type": "code",
   "execution_count": 41,
   "metadata": {},
   "outputs": [
    {
     "ename": "KeyError",
     "evalue": "6",
     "output_type": "error",
     "traceback": [
      "\u001b[0;31m---------------------------------------------------------------------------\u001b[0m",
      "\u001b[0;31mKeyError\u001b[0m                                  Traceback (most recent call last)",
      "\u001b[1;32m/Users/hejazizo/PERSONAL_DIR/pytopia/content/Python-Programming/Lectures/04 Data Types/20 Sets.ipynb Cell 120\u001b[0m line \u001b[0;36m1\n\u001b[0;32m----> <a href='vscode-notebook-cell:/Users/hejazizo/PERSONAL_DIR/pytopia/content/Python-Programming/Lectures/04%20Data%20Types/20%20Sets.ipynb#Y224sZmlsZQ%3D%3D?line=0'>1</a>\u001b[0m my_set\u001b[39m.\u001b[39;49mremove(\u001b[39m6\u001b[39;49m)  \u001b[39m# This will raise a KeyError\u001b[39;00m\n",
      "\u001b[0;31mKeyError\u001b[0m: 6"
     ]
    }
   ],
   "source": [
    "my_set.remove(6)  # This will raise a KeyError"
   ]
  },
  {
   "cell_type": "markdown",
   "metadata": {},
   "source": [
    "### <a id='toc4_2_'></a>[Using `.discard()` Method](#toc0_)\n"
   ]
  },
  {
   "cell_type": "markdown",
   "metadata": {},
   "source": [
    "`.discard()` is similar to `.remove()` but does not raise an error if the element is not present in the set. It's a \"safe remove\" method, so to speak:\n"
   ]
  },
  {
   "cell_type": "code",
   "execution_count": 42,
   "metadata": {},
   "outputs": [
    {
     "data": {
      "text/plain": [
       "{1, 4, 5}"
      ]
     },
     "execution_count": 42,
     "metadata": {},
     "output_type": "execute_result"
    }
   ],
   "source": [
    "# Discard the element 2 from the set\n",
    "my_set.discard(2)\n",
    "my_set"
   ]
  },
  {
   "cell_type": "code",
   "execution_count": 43,
   "metadata": {},
   "outputs": [
    {
     "data": {
      "text/plain": [
       "{1, 4, 5}"
      ]
     },
     "execution_count": 43,
     "metadata": {},
     "output_type": "execute_result"
    }
   ],
   "source": [
    "# Attempt to discard an element not present in the set\n",
    "my_set.discard(6)  # No error is raised\n",
    "my_set"
   ]
  },
  {
   "cell_type": "markdown",
   "metadata": {},
   "source": [
    "The `.discard()` method allows for attempts to remove elements without the need to check for their presence first or to handle potential exceptions.\n"
   ]
  },
  {
   "cell_type": "markdown",
   "metadata": {},
   "source": [
    "### <a id='toc4_3_'></a>[Using `.pop()` Method](#toc0_)\n"
   ]
  },
  {
   "cell_type": "markdown",
   "metadata": {},
   "source": [
    "The `.pop()` method removes and returns an arbitrary element from the set. As sets are unordered, you cannot determine which element will be popped, making this method somewhat unpredictable:\n"
   ]
  },
  {
   "cell_type": "code",
   "execution_count": 44,
   "metadata": {},
   "outputs": [],
   "source": [
    "# Pop an arbitrary element from the set\n",
    "popped_element = my_set.pop()"
   ]
  },
  {
   "cell_type": "markdown",
   "metadata": {},
   "source": [
    "If the set is empty, calling `.pop()` will raise a `KeyError`.\n"
   ]
  },
  {
   "cell_type": "markdown",
   "metadata": {},
   "source": [
    "### <a id='toc4_4_'></a>[Clearing a Set](#toc0_)\n"
   ]
  },
  {
   "cell_type": "markdown",
   "metadata": {},
   "source": [
    "If you want to remove all items from a set, you can use the `.clear()` method, which empties the set:\n"
   ]
  },
  {
   "cell_type": "code",
   "execution_count": 45,
   "metadata": {},
   "outputs": [
    {
     "data": {
      "text/plain": [
       "set()"
      ]
     },
     "execution_count": 45,
     "metadata": {},
     "output_type": "execute_result"
    }
   ],
   "source": [
    "my_set.clear()\n",
    "my_set"
   ]
  },
  {
   "cell_type": "markdown",
   "metadata": {},
   "source": [
    "Now `my_set` is an empty set `{}`.\n"
   ]
  },
  {
   "cell_type": "markdown",
   "metadata": {},
   "source": [
    "### <a id='toc4_5_'></a>[Conclusion](#toc0_)\n"
   ]
  },
  {
   "cell_type": "markdown",
   "metadata": {},
   "source": [
    "When it comes to removing elements from sets, Python offers flexible options. You can use `.remove()` for when you're certain the element exists, `.discard()` to avoid errors if the element might not be present, or `.pop()` if you simply need to remove any element. Additionally, `.clear()` is useful when you need to reset the set entirely.\n"
   ]
  },
  {
   "cell_type": "markdown",
   "metadata": {},
   "source": [
    "These methods help maintain the dynamic nature of sets, allowing programmers to easily add and remove elements as needed while enforcing uniqueness among the items.\n"
   ]
  },
  {
   "cell_type": "markdown",
   "metadata": {},
   "source": [
    "## <a id='toc5_'></a>[A Note on Set Elements Limitation](#toc0_)"
   ]
  },
  {
   "cell_type": "markdown",
   "metadata": {},
   "source": [
    "Note that set elements must be immutable types, which means you cannot use mutable types such as lists or other dictionaries inside a set. However, you can use tuples as keys if they contain only immutable elements themselves. This is because tuples are immutable and hashable, but lists are mutable and not hashable.\n",
    "\n",
    "This is similar to the limitation of dictionary keys, which must also be immutable and hashable. The reason for this is that sets and dictionaries use hash tables internally to store their elements, and hash tables require that keys are hashable. We won't go into the details of hash tables here and how they work, but will cover them in a advanced topics.\n",
    "\n",
    "The following code snippet will raise a `TypeError` because lists are mutable and cannot be hashed:"
   ]
  },
  {
   "cell_type": "code",
   "execution_count": 1,
   "metadata": {},
   "outputs": [
    {
     "ename": "TypeError",
     "evalue": "unhashable type: 'list'",
     "output_type": "error",
     "traceback": [
      "\u001b[0;31m---------------------------------------------------------------------------\u001b[0m",
      "\u001b[0;31mTypeError\u001b[0m                                 Traceback (most recent call last)",
      "Cell \u001b[0;32mIn[1], line 1\u001b[0m\n\u001b[0;32m----> 1\u001b[0m s \u001b[38;5;241m=\u001b[39m {[\u001b[38;5;241m1\u001b[39m, \u001b[38;5;241m2\u001b[39m, \u001b[38;5;241m3\u001b[39m], \u001b[38;5;241m4\u001b[39m, \u001b[38;5;241m5\u001b[39m}\n",
      "\u001b[0;31mTypeError\u001b[0m: unhashable type: 'list'"
     ]
    }
   ],
   "source": [
    "s = {[1, 2, 3], 4, 5}"
   ]
  },
  {
   "cell_type": "markdown",
   "metadata": {},
   "source": [
    "But the following code snippet will work because tuples are immutable and hashable:"
   ]
  },
  {
   "cell_type": "code",
   "execution_count": 2,
   "metadata": {},
   "outputs": [],
   "source": [
    "s = {(1, 2, 3), 4, 5}"
   ]
  },
  {
   "cell_type": "markdown",
   "metadata": {},
   "source": [
    "<img src=\"../images/exercise-banner.gif\" width=\"800\">"
   ]
  },
  {
   "cell_type": "markdown",
   "metadata": {},
   "source": [
    "## <a id='toc6_'></a>[Practice Exercise](#toc0_)"
   ]
  },
  {
   "cell_type": "markdown",
   "metadata": {},
   "source": [
    "In today's lecture, we embarked on our journey into the world of Python sets. We established the foundational knowledge required to work with this unique and powerful data type.\n"
   ]
  },
  {
   "cell_type": "markdown",
   "metadata": {},
   "source": [
    "Here’s what we covered:\n",
    "\n",
    "- We defined what sets are in Python and highlighted their key characteristics: unordered, mutable, and no duplicate elements.\n",
    "- We distinguished sets from other data types like lists and dictionaries and discussed the scenarios in which sets are particularly useful.\n",
    "- We walked through creating sets using literal syntax with curly braces `{}` and the `set()` constructor, as well as converting other iterables to sets.\n",
    "- We discussed the crucial aspect of set uniqueness and how attempting to add duplicate elements to a set does not change its composition.\n",
    "- We demonstrated how to add elements to a set using `.add()` and how to add multiple elements from any iterable using `.update()`.\n",
    "- We learned how to remove elements using `.remove()`, `.discard()`, and `.pop()`, as well as how to clear a set with `.clear()`.\n"
   ]
  },
  {
   "cell_type": "markdown",
   "metadata": {},
   "source": [
    "By now, you should feel comfortable creating sets, adding or removing items, and performing basic checks for membership."
   ]
  },
  {
   "cell_type": "markdown",
   "metadata": {},
   "source": [
    "Let's put into practice what we've learned about Python sets. The following exercises are designed to help you reinforce your understanding of set creation, manipulation, and the innate handling of unique items within sets.\n",
    "\n",
    "- **Exercise 1:** Set Creation and Membership\n",
    "Create a set named `colors` that contains the colors 'red', 'green', 'blue', and 'yellow'. Verify if 'purple' is in the `colors` set. Add 'purple' to the set and check again.\n",
    "\n",
    "- **Exercise 2:** Unique Elements\n",
    "Given the list `numbers_list = [1, 2, 3, 4, 3, 2, 1, 5, 6, 5, 4]`, create a set named `unique_numbers` from this list. Determine how many unique numbers are in `numbers_list` by checking the size of `unique_numbers`.\n",
    "\n",
    "- **Exercise 3:** Adding Multiple Elements\n",
    "You have a set `flavors` containing 'chocolate', 'vanilla', and 'strawberry'. Update `flavors` to include 'mint' and 'bubble gum' using a single command.\n",
    "\n",
    "- **Exercise 4:** Removing Elements\n",
    "There is a set `tools` with elements 'hammer', 'wrench', 'screwdriver', and 'pliers'. Remove 'wrench' from `tools` using `.remove()`. Then, using `.discard()`, attempt to remove 'saw' from `tools`.\n",
    "\n",
    "- **Exercise 5:** Safe Element Removal\n",
    "Create a set `planets` including 'earth', 'jupiter', and 'mars'. Safely remove 'venus' from the set `planets` using a method that will not raise an error even if the item does not exist.\n",
    "\n",
    "- **Exercise 6:** Clearing a Set\n",
    "Take the `planets` set and clear all of its elements, ensuring that it is emptied completely."
   ]
  }
 ],
 "metadata": {
  "kernelspec": {
   "display_name": "py310",
   "language": "python",
   "name": "python3"
  },
  "language_info": {
   "codemirror_mode": {
    "name": "ipython",
    "version": 3
   },
   "file_extension": ".py",
   "mimetype": "text/x-python",
   "name": "python",
   "nbconvert_exporter": "python",
   "pygments_lexer": "ipython3",
   "version": "3.10.12"
  }
 },
 "nbformat": 4,
 "nbformat_minor": 2
}
