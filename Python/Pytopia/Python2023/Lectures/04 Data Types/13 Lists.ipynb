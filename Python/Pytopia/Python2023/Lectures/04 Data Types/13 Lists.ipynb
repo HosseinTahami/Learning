{
 "cells": [
  {
   "cell_type": "markdown",
   "metadata": {},
   "source": [
    "<img src=\"./images/composite-data-types-banner.png\" width=\"800\">"
   ]
  },
  {
   "cell_type": "markdown",
   "metadata": {},
   "source": [
    "# Lists in Python"
   ]
  },
  {
   "cell_type": "markdown",
   "metadata": {},
   "source": [
    "Welcome to our exploration of Python lists, one of the most versatile and commonly used data structures in Python programming. In this section, we'll introduce what lists are, describe their characteristics, and discuss various scenarios where lists are particularly useful.\n"
   ]
  },
  {
   "cell_type": "markdown",
   "metadata": {},
   "source": [
    "**What Is a List in Python?**\n",
    "\n",
    "Well, think about a shopping list. When you go to the grocery store, you tend to list all the things you need to buy, right? In this list, you could have a variety of items - apples, milk, cereal, etc., all written down in one place. A List in Python is just like that shopping list. It's a collection where you can save different types of items - numbers, words, other lists, and more. Unlike a shopping list though, a Python list is saved in your computer's memory.\n",
    "\n",
    "\n",
    "In Python, Lists are defined by having elements between square brackets `[ ]`, and they can be indexed, sliced, and manipulated. This flexibility makes them a foundational data structure for Python developers.\n"
   ]
  },
  {
   "cell_type": "markdown",
   "metadata": {},
   "source": [
    "Characteristics of Lists:\n",
    "- **Ordered**: Lists maintain the order of elements as they were added. Each element has a specific position, or index, which you can use to access it.\n",
    "- **Mutable**: You can add, remove, and modify elements in a list.\n",
    "- **Heterogeneous**: Lists can contain elements of different data types—integers, strings, float, and even other lists or complex objects.\n"
   ]
  },
  {
   "cell_type": "markdown",
   "metadata": {},
   "source": [
    "<img src=\"./images/list.png\" width=\"800\">"
   ]
  },
  {
   "cell_type": "markdown",
   "metadata": {},
   "source": [
    "**When to Use Lists?**\n",
    "\n",
    "Lists are an excellent choice when you need an ordered sequence of items that you expect to modify or access by position. Here's when to opt for a list:\n",
    "\n",
    "- **Variable Data**: When working with a collection of items that can change over time, a list is a suitable option because of its mutable nature.\n",
    "- **Accessible by Index**: If you need to access elements by an index, lists provide this functionality, allowing you to retrieve or update items efficiently.\n",
    "- **Mixed Data Types**: When you have a collection of items of different types, lists handle this without any issue.\n",
    "- **Simple Iteration**: For tasks where you want to iterate over the elements in order, using a list is straightforward because of its ordered nature.\n"
   ]
  },
  {
   "cell_type": "markdown",
   "metadata": {},
   "source": [
    "In summary, Python lists are an indispensable tool—whether you're just beginning or are an experienced programmer, understanding how to effectively use lists is key to Python proficiency. They allow you to organize and manipulate data in a way that's not only intuitive but also extremely powerful in a wide array of applications.\n"
   ]
  },
  {
   "cell_type": "markdown",
   "metadata": {},
   "source": [
    "As we dive deeper into the capabilities and functionalities of lists, you'll gain the knowledge to leverage them to their full potential, whether you're managing a simple sequence of numbers or a complex array of objects.\n"
   ]
  },
  {
   "cell_type": "markdown",
   "metadata": {},
   "source": [
    "In the next sections, we'll look at how to create lists, perform various operations and manipulations, and understand where lists fit best when compared to other data types like tuples or dictionaries."
   ]
  },
  {
   "cell_type": "markdown",
   "metadata": {},
   "source": [
    "**Table of contents**<a id='toc0_'></a>    \n",
    "- [Creating Lists](#toc1_)    \n",
    "  - [Syntax for List Creation](#toc1_1_)    \n",
    "  - [Creating Empty Lists](#toc1_2_)    \n",
    "  - [Lists From Other Data Types](#toc1_3_)    \n",
    "  - [Creating Lists with `*` Operator](#toc1_4_)    \n",
    "  - [Creating Lists with Range](#toc1_5_)    \n",
    "- [Using Built-in Functions with Lists](#toc2_)    \n",
    "  - [`len()`](#toc2_1_)    \n",
    "  - [`max()` and `min()`](#toc2_2_)    \n",
    "  - [`sum()`](#toc2_3_)    \n",
    "- [Conclusion](#toc3_)    \n",
    "\n",
    "<!-- vscode-jupyter-toc-config\n",
    "\tnumbering=false\n",
    "\tanchor=true\n",
    "\tflat=false\n",
    "\tminLevel=2\n",
    "\tmaxLevel=6\n",
    "\t/vscode-jupyter-toc-config -->\n",
    "<!-- THIS CELL WILL BE REPLACED ON TOC UPDATE. DO NOT WRITE YOUR TEXT IN THIS CELL -->"
   ]
  },
  {
   "cell_type": "markdown",
   "metadata": {},
   "source": [
    "## <a id='toc1_'></a>[Creating Lists](#toc0_)"
   ]
  },
  {
   "cell_type": "markdown",
   "metadata": {},
   "source": [
    "Creating lists in Python is a straightforward process. Python’s lists are mutable sequences, which means they can change their content after they’ve been created. They are defined with elements enclosed in square brackets `[]`, separated by commas. Let’s learn how to create and initialize lists in a variety of ways.\n"
   ]
  },
  {
   "cell_type": "markdown",
   "metadata": {},
   "source": [
    "### <a id='toc1_1_'></a>[Syntax for List Creation](#toc0_)\n"
   ]
  },
  {
   "cell_type": "markdown",
   "metadata": {},
   "source": [
    "To create a list, you can simply place the elements you want to include in the list within square brackets `[]`:\n"
   ]
  },
  {
   "cell_type": "code",
   "execution_count": 1,
   "metadata": {},
   "outputs": [
    {
     "data": {
      "text/plain": [
       "[1, 2, 3, 4, 5]"
      ]
     },
     "execution_count": 1,
     "metadata": {},
     "output_type": "execute_result"
    }
   ],
   "source": [
    "# A list of integers\n",
    "numbers = [1, 2, 3, 4, 5]\n",
    "numbers"
   ]
  },
  {
   "cell_type": "code",
   "execution_count": 2,
   "metadata": {},
   "outputs": [
    {
     "data": {
      "text/plain": [
       "[1, 'Python', 3.14, [2, 4, 6]]"
      ]
     },
     "execution_count": 2,
     "metadata": {},
     "output_type": "execute_result"
    }
   ],
   "source": [
    "# A list containing mixed data types\n",
    "mixed_list = [1, 'Python', 3.14, [2, 4, 6]]\n",
    "mixed_list"
   ]
  },
  {
   "cell_type": "markdown",
   "metadata": {},
   "source": [
    "This is the most direct way to create a list with data.\n"
   ]
  },
  {
   "cell_type": "markdown",
   "metadata": {},
   "source": [
    "### <a id='toc1_2_'></a>[Creating Empty Lists](#toc0_)\n"
   ]
  },
  {
   "cell_type": "markdown",
   "metadata": {},
   "source": [
    "There might be cases where you want to start with an empty list and add elements later. To create an empty list, use empty square brackets or the `list()` constructor with no arguments:\n"
   ]
  },
  {
   "cell_type": "code",
   "execution_count": 3,
   "metadata": {},
   "outputs": [
    {
     "data": {
      "text/plain": [
       "[]"
      ]
     },
     "execution_count": 3,
     "metadata": {},
     "output_type": "execute_result"
    }
   ],
   "source": [
    "empty_list = []\n",
    "empty_list"
   ]
  },
  {
   "cell_type": "code",
   "execution_count": 4,
   "metadata": {},
   "outputs": [
    {
     "data": {
      "text/plain": [
       "[]"
      ]
     },
     "execution_count": 4,
     "metadata": {},
     "output_type": "execute_result"
    }
   ],
   "source": [
    "empty_list = list()\n",
    "empty_list"
   ]
  },
  {
   "cell_type": "markdown",
   "metadata": {},
   "source": [
    "Both methods create an empty list, which is a common pattern for initializing lists when the number of elements or their values are not known upfront.\n"
   ]
  },
  {
   "cell_type": "markdown",
   "metadata": {},
   "source": [
    "### <a id='toc1_3_'></a>[Lists From Other Data Types](#toc0_)\n"
   ]
  },
  {
   "cell_type": "markdown",
   "metadata": {},
   "source": [
    "Python makes it simple to create lists from other iterables like strings, tuples, and even sets using the `list()` constructor. You will learn more about these data types in the next sections, but for now, let’s see how to create lists from them:\n"
   ]
  },
  {
   "cell_type": "code",
   "execution_count": 5,
   "metadata": {},
   "outputs": [
    {
     "data": {
      "text/plain": [
       "['h', 'e', 'l', 'l', 'o']"
      ]
     },
     "execution_count": 5,
     "metadata": {},
     "output_type": "execute_result"
    }
   ],
   "source": [
    "# From a string - creates a list of characters\n",
    "character_list = list('hello')\n",
    "character_list"
   ]
  },
  {
   "cell_type": "code",
   "execution_count": 6,
   "metadata": {},
   "outputs": [
    {
     "data": {
      "text/plain": [
       "[1, 2, 3]"
      ]
     },
     "execution_count": 6,
     "metadata": {},
     "output_type": "execute_result"
    }
   ],
   "source": [
    "# From a tuple\n",
    "tuple_to_list = list((1, 2, 3))\n",
    "tuple_to_list"
   ]
  },
  {
   "cell_type": "code",
   "execution_count": 7,
   "metadata": {},
   "outputs": [
    {
     "data": {
      "text/plain": [
       "[1, 2, 3]"
      ]
     },
     "execution_count": 7,
     "metadata": {},
     "output_type": "execute_result"
    }
   ],
   "source": [
    "# From a set - order of elements will be arbitrary\n",
    "set_to_list = list({3, 1, 2})\n",
    "set_to_list"
   ]
  },
  {
   "cell_type": "markdown",
   "metadata": {},
   "source": [
    "### <a id='toc1_4_'></a>[Creating Lists with `*` Operator](#toc0_)\n"
   ]
  },
  {
   "cell_type": "markdown",
   "metadata": {},
   "source": [
    "Python also allows list initialization with repetitive elements using the multiplication, or `*`, operator:\n"
   ]
  },
  {
   "cell_type": "code",
   "execution_count": 8,
   "metadata": {},
   "outputs": [],
   "source": [
    "# A list of ten zeroes\n",
    "zero_list = [0] * 10"
   ]
  },
  {
   "cell_type": "markdown",
   "metadata": {},
   "source": [
    "This creates a list where the number `0` is repeated ten times.\n"
   ]
  },
  {
   "cell_type": "markdown",
   "metadata": {},
   "source": [
    "A useful application of this is to create a list of None values, which is a common pattern in Python. It can be used to initialize a list of a specific size, which you can then populate with other values. For example, if you want to initialize a list of ten elements, you can do so with the following code:"
   ]
  },
  {
   "cell_type": "code",
   "execution_count": 9,
   "metadata": {},
   "outputs": [
    {
     "data": {
      "text/plain": [
       "[None, None, None, None, None, None, None, None, None, None]"
      ]
     },
     "execution_count": 9,
     "metadata": {},
     "output_type": "execute_result"
    }
   ],
   "source": [
    "# A list of 10 None values\n",
    "none_list = [None] * 10\n",
    "none_list"
   ]
  },
  {
   "cell_type": "markdown",
   "metadata": {},
   "source": [
    "> Under the hood, Python lists are dynamic arrays. They don't have fixed sizes and can grow or shrink on demand. When you initialize a list as shown above, Python allocates a chunk of memory sufficient to hold the list's initial contents. This is more efficient than appending items one by one, especially for large lists, as it minimizes the need for memory reallocations. You will learn more about this in the advanced topics. For now, focus on the fact that this is a common pattern in Python and a useful way to initialize lists."
   ]
  },
  {
   "cell_type": "markdown",
   "metadata": {},
   "source": [
    "### <a id='toc1_5_'></a>[Creating Lists with Range](#toc0_)\n"
   ]
  },
  {
   "cell_type": "markdown",
   "metadata": {},
   "source": [
    "The `range()` function can be used in combination with the `list()` constructor to create lists of numbers that follow a specific pattern. You will learn more about the `range()` function in the next sections, but for now, let’s see how to create lists with it:\n"
   ]
  },
  {
   "cell_type": "code",
   "execution_count": 10,
   "metadata": {},
   "outputs": [
    {
     "data": {
      "text/plain": [
       "[0, 1, 2, 3, 4, 5, 6, 7, 8, 9]"
      ]
     },
     "execution_count": 10,
     "metadata": {},
     "output_type": "execute_result"
    }
   ],
   "source": [
    "# A list of consecutive numbers\n",
    "consecutive_numbers = list(range(10))\n",
    "consecutive_numbers"
   ]
  },
  {
   "cell_type": "markdown",
   "metadata": {},
   "source": [
    "The `range` function is particularly useful for generating lists of integers.\n"
   ]
  },
  {
   "cell_type": "markdown",
   "metadata": {},
   "source": [
    "## <a id='toc2_'></a>[Using Built-in Functions with Lists](#toc0_)"
   ]
  },
  {
   "cell_type": "markdown",
   "metadata": {},
   "source": [
    "Python comes with a set of built-in functions that can be used with lists to perform common tasks. These functions are an integral part of the language and provide a concise, readable way to work with list data. Let's explore some of these functions and how they apply to list operations.\n"
   ]
  },
  {
   "cell_type": "markdown",
   "metadata": {},
   "source": [
    "### <a id='toc2_1_'></a>[`len()`](#toc0_)"
   ]
  },
  {
   "cell_type": "markdown",
   "metadata": {},
   "source": [
    "The `len()` function returns the total number of elements in the list. It is one of the most commonly used built-in functions with lists."
   ]
  },
  {
   "cell_type": "code",
   "execution_count": 11,
   "metadata": {},
   "outputs": [],
   "source": [
    "fruits = ['apple', 'banana', 'cherry', 'orange']"
   ]
  },
  {
   "cell_type": "code",
   "execution_count": 12,
   "metadata": {},
   "outputs": [
    {
     "data": {
      "text/plain": [
       "4"
      ]
     },
     "execution_count": 12,
     "metadata": {},
     "output_type": "execute_result"
    }
   ],
   "source": [
    "len(fruits)"
   ]
  },
  {
   "cell_type": "markdown",
   "metadata": {},
   "source": [
    "### <a id='toc2_2_'></a>[`max()` and `min()`](#toc0_)"
   ]
  },
  {
   "cell_type": "markdown",
   "metadata": {},
   "source": [
    "The `max()` function returns the item with the highest value in the list, and the `min()` function returns the item with the lowest value. For lists containing numeric values, these functions find the maximum and minimum number, respectively. For lists of strings, these functions return the item that is highest or lowest in lexicographical order.\n"
   ]
  },
  {
   "cell_type": "code",
   "execution_count": 13,
   "metadata": {},
   "outputs": [],
   "source": [
    "numbers = [3, 5, 1, 2, 4]"
   ]
  },
  {
   "cell_type": "code",
   "execution_count": 14,
   "metadata": {},
   "outputs": [
    {
     "data": {
      "text/plain": [
       "5"
      ]
     },
     "execution_count": 14,
     "metadata": {},
     "output_type": "execute_result"
    }
   ],
   "source": [
    "max(numbers)"
   ]
  },
  {
   "cell_type": "code",
   "execution_count": 15,
   "metadata": {},
   "outputs": [
    {
     "data": {
      "text/plain": [
       "1"
      ]
     },
     "execution_count": 15,
     "metadata": {},
     "output_type": "execute_result"
    }
   ],
   "source": [
    "min(numbers)"
   ]
  },
  {
   "cell_type": "markdown",
   "metadata": {},
   "source": [
    "### <a id='toc2_3_'></a>[`sum()`](#toc0_)"
   ]
  },
  {
   "cell_type": "markdown",
   "metadata": {},
   "source": [
    "The `sum()` function calculates the sum of the items in the list. The list must contain numeric values.\n"
   ]
  },
  {
   "cell_type": "code",
   "execution_count": 16,
   "metadata": {},
   "outputs": [
    {
     "data": {
      "text/plain": [
       "15"
      ]
     },
     "execution_count": 16,
     "metadata": {},
     "output_type": "execute_result"
    }
   ],
   "source": [
    "sum(numbers)"
   ]
  },
  {
   "cell_type": "markdown",
   "metadata": {},
   "source": [
    "## <a id='toc3_'></a>[Conclusion](#toc0_)\n"
   ]
  },
  {
   "cell_type": "markdown",
   "metadata": {},
   "source": [
    "Creating lists in Python is a fundamental skill and understanding these basics will serve you well for more advanced list manipulations. Lists are a flexible way to work with collections of items in Python, and they form an integral part of almost every Python application.\n"
   ]
  },
  {
   "cell_type": "markdown",
   "metadata": {},
   "source": [
    "In the coming sections, we will explore more advanced topics such as accessing and updating list elements, adding or removing items from lists, and the various operations that can be performed with lists. Having seen how easily we can create lists, we'll delve into how we can work with them effectively."
   ]
  }
 ],
 "metadata": {
  "kernelspec": {
   "display_name": "py310",
   "language": "python",
   "name": "python3"
  },
  "language_info": {
   "codemirror_mode": {
    "name": "ipython",
    "version": 3
   },
   "file_extension": ".py",
   "mimetype": "text/x-python",
   "name": "python",
   "nbconvert_exporter": "python",
   "pygments_lexer": "ipython3",
   "version": "3.10.12"
  }
 },
 "nbformat": 4,
 "nbformat_minor": 2
}
