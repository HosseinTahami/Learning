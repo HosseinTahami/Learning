{
 "cells": [
  {
   "cell_type": "markdown",
   "metadata": {},
   "source": [
    "<img src=\"./images/composite-data-types-banner.png\" width=\"800\">"
   ]
  },
  {
   "cell_type": "markdown",
   "metadata": {},
   "source": [
    "# Frozensets in Python"
   ]
  },
  {
   "cell_type": "markdown",
   "metadata": {},
   "source": [
    "In this lecture, we are going to dive into a specialized set data type in Python known as the `frozenset`. We'll start with a comprehensive overview of what `frozenset` is, how it contrasts with the regular `set` type, and in what situations it can be particularly useful."
   ]
  },
  {
   "cell_type": "markdown",
   "metadata": {},
   "source": [
    "**What Is a Frozen Set?**\n",
    "\n",
    "A `frozenset` is much like a regular set in that it represents an unordered collection of unique elements. However, the key characteristic that distinguishes a `frozenset` from a `set` is immutability. Once created, the elements within a `frozenset` cannot be changed, added, or removed. This immutability gives `frozenset` its unique properties and suitability for different scenarios compared to the mutable `set`.\n"
   ]
  },
  {
   "cell_type": "markdown",
   "metadata": {},
   "source": [
    "**Differences Between Set and Frozen Set:**\n",
    "\n",
    "- **Mutability**: A regular `set` is mutable, meaning you can change its contents after creation. A `frozenset` is immutable; after it's created, it cannot be altered.\n",
    "\n",
    "- **Hashability**: Because it is immutable, a `frozenset` can be used as a key in a dictionary or as an element in another set, which is not possible with a regular `set`. You will learn more about hashability in advanced topics.\n",
    "\n",
    "- **Available Methods**: While a `frozenset` offers most of the same methods as a `set` for operations like unions and intersections, methods for adding or removing elements are not available for a `frozenset`.\n"
   ]
  },
  {
   "cell_type": "markdown",
   "metadata": {},
   "source": [
    "<img src=\"./images/frozenset.png\" width=\"600\">"
   ]
  },
  {
   "cell_type": "markdown",
   "metadata": {},
   "source": [
    "**Use Cases for Frozen Sets:**\n",
    "\n",
    "`frozenset` is particularly useful in situations where you need a collection of unique elements that must not change throughout the program's execution. Examples include:\n",
    "\n",
    "- Dictionary keys: When you want to use a set as a dictionary key, you must use a `frozenset` because dictionary keys require immutability.\n",
    "\n",
    "- Set of sets: If you need a set that contains other sets, inner sets must be `frozenset` to be hashable.\n",
    "\n",
    "- Constants: If your application logic relies on constant sets that shouldn’t be modified during runtime, `frozenset` would be the ideal choice.\n",
    "\n",
    "- Safe Shared Data: Using `frozenset` to share data between functions or threads ensures that the data cannot be changed inadvertently.\n"
   ]
  },
  {
   "cell_type": "markdown",
   "metadata": {},
   "source": [
    "In Summary, A `frozenset` extends the concept of a traditional set with the assurance of immutability, which can be valuable both for maintaining data integrity and for leveraging sets in contexts where a fixed, unchanging group of elements is needed.\n"
   ]
  },
  {
   "cell_type": "markdown",
   "metadata": {},
   "source": [
    "In the sections that follow, we will delve deeper into creating `frozenset` instances, accessing their content, performing operations on them, and understanding their significance through practical examples and applications. With `frozenset` in our Python toolkit, we'll be equipped to tackle problems that require fixed collections of unique elements."
   ]
  },
  {
   "cell_type": "markdown",
   "metadata": {},
   "source": [
    "**Table of contents**<a id='toc0_'></a>    \n",
    "- [Creating Frozen Sets in Python](#toc1_)    \n",
    "  - [Syntax for Creating a `frozenset`](#toc1_1_)    \n",
    "  - [Converting Other Iterables into Frozen Sets](#toc1_2_)    \n",
    "  - [Unique Elements in Frozen Sets](#toc1_3_)    \n",
    "  - [Immutable Sets vs. Mutable Sets](#toc1_4_)    \n",
    "  - [Conclusion](#toc1_5_)    \n",
    "- [Accessing Frozen Set Elements](#toc2_)    \n",
    "  - [Membership Testing](#toc2_1_)    \n",
    "  - [Unordered Nature](#toc2_2_)    \n",
    "  - [Conversion to Ordered Sequence](#toc2_3_)    \n",
    "  - [Conclusion](#toc2_4_)    \n",
    "- [Operations on Frozen Sets in Python](#toc3_)    \n",
    "  - [Immutable Nature and Implications](#toc3_1_)    \n",
    "  - [Set Operations with `frozenset`](#toc3_2_)    \n",
    "  - [Using Operators with `frozenset`](#toc3_3_)    \n",
    "    - [Combining `frozenset` with Other Sets](#toc3_3_1_)    \n",
    "  - [Immutable Results](#toc3_4_)    \n",
    "  - [Conclusion](#toc3_5_)    \n",
    "- [Practical Applications of Frozen Sets](#toc4_)    \n",
    "  - [Frozen Sets as Dictionary Keys](#toc4_1_)    \n",
    "  - [Frozen Sets in Other Data Structures](#toc4_2_)    \n",
    "  - [Frozen Sets for Constant Set Definitions](#toc4_3_)    \n",
    "  - [Frozen Sets for Safe Data Sharing](#toc4_4_)    \n",
    "  - [Conclusion](#toc4_5_)    \n",
    "- [Performance Considerations for Frozen Sets](#toc5_)    \n",
    "  - [Conclusion](#toc5_1_)    \n",
    "- [Conclusion](#toc6_)    \n",
    "- [Practice Exercise](#toc7_)    \n",
    "\n",
    "<!-- vscode-jupyter-toc-config\n",
    "\tnumbering=false\n",
    "\tanchor=true\n",
    "\tflat=false\n",
    "\tminLevel=2\n",
    "\tmaxLevel=6\n",
    "\t/vscode-jupyter-toc-config -->\n",
    "<!-- THIS CELL WILL BE REPLACED ON TOC UPDATE. DO NOT WRITE YOUR TEXT IN THIS CELL -->"
   ]
  },
  {
   "cell_type": "markdown",
   "metadata": {},
   "source": [
    "## <a id='toc1_'></a>[Creating Frozen Sets in Python](#toc0_)"
   ]
  },
  {
   "cell_type": "markdown",
   "metadata": {},
   "source": [
    "The `frozenset` is a built-in Python data type that, like its mutable counterpart the `set`, is comprised of a collection of unique elements. However, once a `frozenset` is created, it cannot be modified, which is what we mean when we say it is immutable. Let's explore how we can create a `frozenset` and what we can do with it once it is created.\n"
   ]
  },
  {
   "cell_type": "markdown",
   "metadata": {},
   "source": [
    "### <a id='toc1_1_'></a>[Syntax for Creating a `frozenset`](#toc0_)\n"
   ]
  },
  {
   "cell_type": "markdown",
   "metadata": {},
   "source": [
    "Creating a `frozenset` is a simple task in Python. You can transform any iterable into a `frozenset` using the `frozenset()` function. Here's what the basic syntax looks like:\n"
   ]
  },
  {
   "cell_type": "code",
   "execution_count": 1,
   "metadata": {},
   "outputs": [],
   "source": [
    "# Creating an empty frozenset\n",
    "empty_frozen_set = frozenset()"
   ]
  },
  {
   "cell_type": "code",
   "execution_count": 3,
   "metadata": {},
   "outputs": [
    {
     "data": {
      "text/plain": [
       "frozenset({1, 2, 3, 4, 5})"
      ]
     },
     "execution_count": 3,
     "metadata": {},
     "output_type": "execute_result"
    }
   ],
   "source": [
    "# Creating a frozenset with elements\n",
    "frozenset([1, 2, 3, 4, 5])"
   ]
  },
  {
   "cell_type": "markdown",
   "metadata": {},
   "source": [
    "### <a id='toc1_2_'></a>[Converting Other Iterables into Frozen Sets](#toc0_)\n"
   ]
  },
  {
   "cell_type": "markdown",
   "metadata": {},
   "source": [
    "Any iterable, such as a list, set, dictionary, or tuple, can be converted into a `frozenset`:\n"
   ]
  },
  {
   "cell_type": "code",
   "execution_count": 5,
   "metadata": {},
   "outputs": [
    {
     "data": {
      "text/plain": [
       "frozenset({1, 2, 3, 6})"
      ]
     },
     "execution_count": 5,
     "metadata": {},
     "output_type": "execute_result"
    }
   ],
   "source": [
    "# From a list\n",
    "frozenset([6, 1, 2, 3])"
   ]
  },
  {
   "cell_type": "code",
   "execution_count": 6,
   "metadata": {},
   "outputs": [
    {
     "data": {
      "text/plain": [
       "frozenset({3, 4, 5})"
      ]
     },
     "execution_count": 6,
     "metadata": {},
     "output_type": "execute_result"
    }
   ],
   "source": [
    "# From a set\n",
    "regular_set = {3, 4, 5}\n",
    "frozenset(regular_set)"
   ]
  },
  {
   "cell_type": "code",
   "execution_count": 7,
   "metadata": {},
   "outputs": [
    {
     "data": {
      "text/plain": [
       "frozenset({1, 2, 3})"
      ]
     },
     "execution_count": 7,
     "metadata": {},
     "output_type": "execute_result"
    }
   ],
   "source": [
    "# From a tuple\n",
    "frozenset((1, 2, 3))"
   ]
  },
  {
   "cell_type": "code",
   "execution_count": 8,
   "metadata": {},
   "outputs": [
    {
     "data": {
      "text/plain": [
       "frozenset({'e', 'h', 'l', 'o'})"
      ]
     },
     "execution_count": 8,
     "metadata": {},
     "output_type": "execute_result"
    }
   ],
   "source": [
    "# Even from a string\n",
    "frozenset(\"hello\")"
   ]
  },
  {
   "cell_type": "markdown",
   "metadata": {},
   "source": [
    "### <a id='toc1_3_'></a>[Unique Elements in Frozen Sets](#toc0_)\n"
   ]
  },
  {
   "cell_type": "markdown",
   "metadata": {},
   "source": [
    "Similar to sets, `frozenset`s also maintain only unique elements. This means that if you try to create a `frozenset` from an iterable that contains duplicates, the resulting `frozenset` will automatically contain only one instance of each element:\n"
   ]
  },
  {
   "cell_type": "code",
   "execution_count": 9,
   "metadata": {},
   "outputs": [
    {
     "data": {
      "text/plain": [
       "frozenset({1, 2, 3})"
      ]
     },
     "execution_count": 9,
     "metadata": {},
     "output_type": "execute_result"
    }
   ],
   "source": [
    "# Creating a frozenset with duplicate elements in the list\n",
    "frozenset([1, 2, 2, 3, 3, 3])"
   ]
  },
  {
   "cell_type": "markdown",
   "metadata": {},
   "source": [
    "The `unique_frozen` will result in `frozenset({1, 2, 3})`, with duplicates removed.\n"
   ]
  },
  {
   "cell_type": "markdown",
   "metadata": {},
   "source": [
    "### <a id='toc1_4_'></a>[Immutable Sets vs. Mutable Sets](#toc0_)\n"
   ]
  },
  {
   "cell_type": "markdown",
   "metadata": {},
   "source": [
    "While both `frozenset` and `set` can perform non-modifying operations like checking membership or taking unions, only a mutable set can use operations that alter the set, such as `add` or `remove`. `frozenset`s do not support such operations:\n"
   ]
  },
  {
   "cell_type": "code",
   "execution_count": 10,
   "metadata": {},
   "outputs": [
    {
     "ename": "AttributeError",
     "evalue": "'frozenset' object has no attribute 'add'",
     "output_type": "error",
     "traceback": [
      "\u001b[0;31m---------------------------------------------------------------------------\u001b[0m",
      "\u001b[0;31mAttributeError\u001b[0m                            Traceback (most recent call last)",
      "\u001b[1;32m/Users/hejazizo/PERSONAL_DIR/pytopia/content/Python-2023/Lectures/04 Data Types/18.1 Frozensets.ipynb Cell 27\u001b[0m line \u001b[0;36m2\n\u001b[1;32m      <a href='vscode-notebook-cell:/Users/hejazizo/PERSONAL_DIR/pytopia/content/Python-2023/Lectures/04%20Data%20Types/18.1%20Frozensets.ipynb#X51sZmlsZQ%3D%3D?line=0'>1</a>\u001b[0m immutable_set \u001b[39m=\u001b[39m \u001b[39mfrozenset\u001b[39m([\u001b[39m1\u001b[39m, \u001b[39m2\u001b[39m, \u001b[39m3\u001b[39m, \u001b[39m4\u001b[39m, \u001b[39m5\u001b[39m])\n\u001b[0;32m----> <a href='vscode-notebook-cell:/Users/hejazizo/PERSONAL_DIR/pytopia/content/Python-2023/Lectures/04%20Data%20Types/18.1%20Frozensets.ipynb#X51sZmlsZQ%3D%3D?line=1'>2</a>\u001b[0m immutable_set\u001b[39m.\u001b[39;49madd(\u001b[39m6\u001b[39m)  \u001b[39m# This will raise an AttributeError\u001b[39;00m\n",
      "\u001b[0;31mAttributeError\u001b[0m: 'frozenset' object has no attribute 'add'"
     ]
    }
   ],
   "source": [
    "immutable_set = frozenset([1, 2, 3, 4, 5])\n",
    "immutable_set.add(6)  # This will raise an AttributeError"
   ]
  },
  {
   "cell_type": "markdown",
   "metadata": {},
   "source": [
    "### <a id='toc1_5_'></a>[Conclusion](#toc0_)\n"
   ]
  },
  {
   "cell_type": "markdown",
   "metadata": {},
   "source": [
    "A `frozenset` in Python is a powerful and, more importantly, a reliable way to create truly immutable sets. Their predictability makes them suitable as dictionary keys or as items in other sets, which will see more of in practical examples later on.\n"
   ]
  },
  {
   "cell_type": "markdown",
   "metadata": {},
   "source": [
    "As we progress, you'll learn how to work with `frozenset`s to perform a variety of tasks and calculations, just as you can with regular sets, without worrying about accidental modifications. In the upcoming sections, we'll look at accessing and performing operations on `frozenset` instances and discuss when to use them effectively in real-world applications."
   ]
  },
  {
   "cell_type": "markdown",
   "metadata": {},
   "source": [
    "## <a id='toc2_'></a>[Accessing Frozen Set Elements](#toc0_)"
   ]
  },
  {
   "cell_type": "markdown",
   "metadata": {},
   "source": [
    "While `frozenset` elements cannot be modified after creation, we can still perform non-modifying operations on them. Accessing elements within a `frozenset` is limited to operations that do not imply an order or index, much like with regular sets. Let's explore how we can work with the items in a frozen set.\n"
   ]
  },
  {
   "cell_type": "markdown",
   "metadata": {},
   "source": [
    "### <a id='toc2_1_'></a>[Membership Testing](#toc0_)\n"
   ]
  },
  {
   "cell_type": "markdown",
   "metadata": {},
   "source": [
    "The primary way to access elements in a `frozenset` is to perform a membership test using the `in` and `not in` operators. This allows you to check for the presence of an item within the `frozenset`:\n"
   ]
  },
  {
   "cell_type": "code",
   "execution_count": 11,
   "metadata": {},
   "outputs": [],
   "source": [
    "# Initialize a frozenset\n",
    "frozen_nums = frozenset([1, 2, 3, 4, 5])"
   ]
  },
  {
   "cell_type": "code",
   "execution_count": 12,
   "metadata": {},
   "outputs": [
    {
     "data": {
      "text/plain": [
       "True"
      ]
     },
     "execution_count": 12,
     "metadata": {},
     "output_type": "execute_result"
    }
   ],
   "source": [
    "3 in frozen_nums"
   ]
  },
  {
   "cell_type": "code",
   "execution_count": 13,
   "metadata": {},
   "outputs": [
    {
     "data": {
      "text/plain": [
       "True"
      ]
     },
     "execution_count": 13,
     "metadata": {},
     "output_type": "execute_result"
    }
   ],
   "source": [
    "6 not in frozen_nums"
   ]
  },
  {
   "cell_type": "markdown",
   "metadata": {},
   "source": [
    "Membership testing is a constant-time operation, or O(1), which means it is very efficient even for large `frozenset`s.\n"
   ]
  },
  {
   "cell_type": "markdown",
   "metadata": {},
   "source": [
    "### <a id='toc2_2_'></a>[Unordered Nature](#toc0_)\n"
   ]
  },
  {
   "cell_type": "markdown",
   "metadata": {},
   "source": [
    "Since `frozenset`s, like `set`s, are unordered, there is no \"first\" or \"last\" element. This means common sequence operations like slicing or indexing are not possible:\n"
   ]
  },
  {
   "cell_type": "code",
   "execution_count": 14,
   "metadata": {},
   "outputs": [
    {
     "ename": "TypeError",
     "evalue": "'frozenset' object is not subscriptable",
     "output_type": "error",
     "traceback": [
      "\u001b[0;31m---------------------------------------------------------------------------\u001b[0m",
      "\u001b[0;31mTypeError\u001b[0m                                 Traceback (most recent call last)",
      "\u001b[1;32m/Users/hejazizo/PERSONAL_DIR/pytopia/content/Python-2023/Lectures/04 Data Types/18.1 Frozensets.ipynb Cell 42\u001b[0m line \u001b[0;36m1\n\u001b[0;32m----> <a href='vscode-notebook-cell:/Users/hejazizo/PERSONAL_DIR/pytopia/content/Python-2023/Lectures/04%20Data%20Types/18.1%20Frozensets.ipynb#Y141sZmlsZQ%3D%3D?line=0'>1</a>\u001b[0m frozen_nums[\u001b[39m0\u001b[39;49m]  \u001b[39m# Raises TypeError because frozenset is not subscriptable\u001b[39;00m\n",
      "\u001b[0;31mTypeError\u001b[0m: 'frozenset' object is not subscriptable"
     ]
    }
   ],
   "source": [
    "frozen_nums[0]  # Raises TypeError because frozenset is not subscriptable"
   ]
  },
  {
   "cell_type": "markdown",
   "metadata": {},
   "source": [
    "### <a id='toc2_3_'></a>[Conversion to Ordered Sequence](#toc0_)\n"
   ]
  },
  {
   "cell_type": "markdown",
   "metadata": {},
   "source": [
    "Although you cannot directly access the items of a `frozenset` by an index, you can convert the `frozenset` to a list or tuple if you need to work with ordered elements:\n"
   ]
  },
  {
   "cell_type": "code",
   "execution_count": 15,
   "metadata": {},
   "outputs": [
    {
     "data": {
      "text/plain": [
       "[1, 2, 3, 4, 5]"
      ]
     },
     "execution_count": 15,
     "metadata": {},
     "output_type": "execute_result"
    }
   ],
   "source": [
    "ordered_list = list(frozen_nums)\n",
    "ordered_list"
   ]
  },
  {
   "cell_type": "code",
   "execution_count": 16,
   "metadata": {},
   "outputs": [
    {
     "data": {
      "text/plain": [
       "(1, 2, 3, 4, 5)"
      ]
     },
     "execution_count": 16,
     "metadata": {},
     "output_type": "execute_result"
    }
   ],
   "source": [
    "ordered_tuple = tuple(frozen_nums)\n",
    "ordered_tuple"
   ]
  },
  {
   "cell_type": "markdown",
   "metadata": {},
   "source": [
    "Remember, though, that the order in the new list or tuple is arbitrary and not determined by the `frozenset`.\n"
   ]
  },
  {
   "cell_type": "markdown",
   "metadata": {},
   "source": [
    "### <a id='toc2_4_'></a>[Conclusion](#toc0_)\n"
   ]
  },
  {
   "cell_type": "markdown",
   "metadata": {},
   "source": [
    "Accessing elements within a `frozenset` in Python is limited to non-modifying operations due to their immutable nature. Membership testing and iteration are key methods for examining `frozenset` contents, and although direct access via indexing is not supported, conversion to other data types like lists or tuples can bypass this limitation when necessary.\n"
   ]
  },
  {
   "cell_type": "markdown",
   "metadata": {},
   "source": [
    "In the following sections, we delve into these operations further by exploring the set functions available for use with `frozenset`s and how to apply them. Despite their immutability, `frozenset`s remain a versatile and valuable part of Python set operations."
   ]
  },
  {
   "cell_type": "markdown",
   "metadata": {},
   "source": [
    "## <a id='toc3_'></a>[Operations on Frozen Sets in Python](#toc0_)\n"
   ]
  },
  {
   "cell_type": "markdown",
   "metadata": {},
   "source": [
    "`frozenset`s in Python are immutable, meaning that their content cannot be changed once they are created. However, this doesn't mean they are not useful. On the contrary, `frozenset`s can still participate in a variety of set operations that do not modify the sets themselves but rather produce new sets. Here we explore those operations that are available for `frozenset`.\n"
   ]
  },
  {
   "cell_type": "markdown",
   "metadata": {},
   "source": [
    "### <a id='toc3_1_'></a>[Immutable Nature and Implications](#toc0_)\n"
   ]
  },
  {
   "cell_type": "markdown",
   "metadata": {},
   "source": [
    "The immutable nature of `frozenset` means that you're unable to add, remove, or update elements. This restriction is purposeful because it ensures that `frozenset`s can be safely used as keys in dictionaries or as elements in other sets. Because `frozenset` cannot change, its hash value remains constant throughout its lifetime (more on hashability in advanced topics). For now, just remember that `frozenset`s are immutable and hashable which makes them suitable for use as dictionary keys or set elements.\n"
   ]
  },
  {
   "cell_type": "markdown",
   "metadata": {},
   "source": [
    "### <a id='toc3_2_'></a>[Set Operations with `frozenset`](#toc0_)\n"
   ]
  },
  {
   "cell_type": "markdown",
   "metadata": {},
   "source": [
    "`frozenset`s support all of the non-modifying operations that regular sets support. This includes methods to perform unions, intersections, differences, and symmetric differences.\n"
   ]
  },
  {
   "cell_type": "markdown",
   "metadata": {},
   "source": [
    "- **Union**: Combines all the unique elements from the `frozenset` and another set.\n"
   ]
  },
  {
   "cell_type": "code",
   "execution_count": 18,
   "metadata": {},
   "outputs": [
    {
     "data": {
      "text/plain": [
       "frozenset({1, 2, 3, 4, 5})"
      ]
     },
     "execution_count": 18,
     "metadata": {},
     "output_type": "execute_result"
    }
   ],
   "source": [
    "a = frozenset([1, 2, 3])\n",
    "b = frozenset([3, 4, 5])\n",
    "a.union(b)"
   ]
  },
  {
   "cell_type": "markdown",
   "metadata": {},
   "source": [
    "- **Intersection**: Produces a new set with only the elements common to both sets.\n"
   ]
  },
  {
   "cell_type": "code",
   "execution_count": 19,
   "metadata": {},
   "outputs": [
    {
     "data": {
      "text/plain": [
       "frozenset({3})"
      ]
     },
     "execution_count": 19,
     "metadata": {},
     "output_type": "execute_result"
    }
   ],
   "source": [
    "a.intersection(b)"
   ]
  },
  {
   "cell_type": "markdown",
   "metadata": {},
   "source": [
    "- **Difference**: Creates a set containing elements in the `frozenset` that are not in the other set.\n"
   ]
  },
  {
   "cell_type": "code",
   "execution_count": 21,
   "metadata": {},
   "outputs": [
    {
     "data": {
      "text/plain": [
       "frozenset({1, 2})"
      ]
     },
     "execution_count": 21,
     "metadata": {},
     "output_type": "execute_result"
    }
   ],
   "source": [
    "a.difference(b)"
   ]
  },
  {
   "cell_type": "markdown",
   "metadata": {},
   "source": [
    "- **Symmetric Difference**: Yields a set with elements that are in one of the sets but not both.\n"
   ]
  },
  {
   "cell_type": "code",
   "execution_count": 22,
   "metadata": {},
   "outputs": [
    {
     "data": {
      "text/plain": [
       "frozenset({1, 2, 4, 5})"
      ]
     },
     "execution_count": 22,
     "metadata": {},
     "output_type": "execute_result"
    }
   ],
   "source": [
    "a.symmetric_difference(b)"
   ]
  },
  {
   "cell_type": "markdown",
   "metadata": {},
   "source": [
    "It is important to note that none of these operations change the original `frozenset`s `a` or `b`; they all return a new set as a result.\n"
   ]
  },
  {
   "cell_type": "markdown",
   "metadata": {},
   "source": [
    "### <a id='toc3_3_'></a>[Using Operators with `frozenset`](#toc0_)\n"
   ]
  },
  {
   "cell_type": "markdown",
   "metadata": {},
   "source": [
    "In addition to the above methods, `frozenset`s also support using operators to perform set operations, offering a syntactically different but functionally equivalent way to achieve the same results.\n"
   ]
  },
  {
   "cell_type": "markdown",
   "metadata": {},
   "source": [
    "- **Union (`|`)**\n"
   ]
  },
  {
   "cell_type": "code",
   "execution_count": 23,
   "metadata": {},
   "outputs": [
    {
     "data": {
      "text/plain": [
       "frozenset({1, 2, 3, 4, 5})"
      ]
     },
     "execution_count": 23,
     "metadata": {},
     "output_type": "execute_result"
    }
   ],
   "source": [
    "a | b"
   ]
  },
  {
   "cell_type": "markdown",
   "metadata": {},
   "source": [
    "- **Intersection (`&`)**\n"
   ]
  },
  {
   "cell_type": "code",
   "execution_count": 25,
   "metadata": {},
   "outputs": [
    {
     "data": {
      "text/plain": [
       "frozenset({3})"
      ]
     },
     "execution_count": 25,
     "metadata": {},
     "output_type": "execute_result"
    }
   ],
   "source": [
    "a & b"
   ]
  },
  {
   "cell_type": "markdown",
   "metadata": {},
   "source": [
    "- **Difference (`-`)**\n"
   ]
  },
  {
   "cell_type": "code",
   "execution_count": 26,
   "metadata": {},
   "outputs": [
    {
     "data": {
      "text/plain": [
       "frozenset({1, 2})"
      ]
     },
     "execution_count": 26,
     "metadata": {},
     "output_type": "execute_result"
    }
   ],
   "source": [
    "a - b"
   ]
  },
  {
   "cell_type": "markdown",
   "metadata": {},
   "source": [
    "- **Symmetric Difference (`^`)**\n"
   ]
  },
  {
   "cell_type": "code",
   "execution_count": 27,
   "metadata": {},
   "outputs": [
    {
     "data": {
      "text/plain": [
       "frozenset({1, 2, 4, 5})"
      ]
     },
     "execution_count": 27,
     "metadata": {},
     "output_type": "execute_result"
    }
   ],
   "source": [
    "a ^ b"
   ]
  },
  {
   "cell_type": "markdown",
   "metadata": {},
   "source": [
    "#### <a id='toc3_3_1_'></a>[Combining `frozenset` with Other Sets](#toc0_)\n"
   ]
  },
  {
   "cell_type": "markdown",
   "metadata": {},
   "source": [
    "You can also perform operations between `frozenset` and regular `set` objects, or even combine `frozenset` with other iterables like lists or tuples by first converting them into sets.\n"
   ]
  },
  {
   "cell_type": "markdown",
   "metadata": {},
   "source": [
    "### <a id='toc3_4_'></a>[Immutable Results](#toc0_)\n"
   ]
  },
  {
   "cell_type": "markdown",
   "metadata": {},
   "source": [
    "The result of operations on `frozenset`s is another `frozenset`, ensuring the immutability is maintained:\n"
   ]
  },
  {
   "cell_type": "code",
   "execution_count": 28,
   "metadata": {},
   "outputs": [],
   "source": [
    "c = {5, 6, 7}"
   ]
  },
  {
   "cell_type": "code",
   "execution_count": 31,
   "metadata": {},
   "outputs": [],
   "source": [
    "result = a.union(c)"
   ]
  },
  {
   "cell_type": "code",
   "execution_count": 32,
   "metadata": {},
   "outputs": [
    {
     "data": {
      "text/plain": [
       "frozenset"
      ]
     },
     "execution_count": 32,
     "metadata": {},
     "output_type": "execute_result"
    }
   ],
   "source": [
    "type(result)  # The type will be 'frozenset', not 'set'"
   ]
  },
  {
   "cell_type": "markdown",
   "metadata": {},
   "source": [
    "### <a id='toc3_5_'></a>[Conclusion](#toc0_)\n"
   ]
  },
  {
   "cell_type": "markdown",
   "metadata": {},
   "source": [
    "While `frozenset`s are immutable and some methods of the `set` class are not available to them, they can still be used to perform a variety of set operations. This preserves their utility in cases requiring the use of immutable sets. These operations allow you to use `frozenset` effectively in functional programming patterns, where immutable data types are preferred.\n"
   ]
  },
  {
   "cell_type": "markdown",
   "metadata": {},
   "source": [
    "In our next discussion, we will examine practical use cases where `frozenset` shines, demonstrating how they can be applied in real-world programming scenarios. Armed with the ability to perform non-modifying operations, `frozenset` can be an invaluable asset in Python development."
   ]
  },
  {
   "cell_type": "markdown",
   "metadata": {},
   "source": [
    "## <a id='toc4_'></a>[Practical Applications of Frozen Sets](#toc0_)"
   ]
  },
  {
   "cell_type": "markdown",
   "metadata": {},
   "source": [
    "While the `frozenset` in Python is immutable and therefore might seem less versatile than its mutable counterpart `set`, there are various practical applications where its use is not just beneficial but necessary. Let's examine some of the scenarios where `frozenset` is the ideal choice.\n"
   ]
  },
  {
   "cell_type": "markdown",
   "metadata": {},
   "source": [
    "### <a id='toc4_1_'></a>[Frozen Sets as Dictionary Keys](#toc0_)\n"
   ]
  },
  {
   "cell_type": "markdown",
   "metadata": {},
   "source": [
    "One of the most common uses of `frozenset` is to serve as a key in a dictionary. Since dictionary keys must be immutable, a regular set cannot fulfill this role. However, `frozenset`s work perfectly. This is especially useful for complex keys that must represent multiple values, such as composite keys in databases:\n"
   ]
  },
  {
   "cell_type": "code",
   "execution_count": 33,
   "metadata": {},
   "outputs": [],
   "source": [
    "# Using frozenset as dictionary keys\n",
    "complex_key_dict = {\n",
    "    frozenset(['key1', 'key2']): 'Value1',\n",
    "    frozenset(['key3', 'key4']): 'Value2',\n",
    "}"
   ]
  },
  {
   "cell_type": "markdown",
   "metadata": {},
   "source": [
    "### <a id='toc4_2_'></a>[Frozen Sets in Other Data Structures](#toc0_)\n"
   ]
  },
  {
   "cell_type": "markdown",
   "metadata": {},
   "source": [
    "Since `frozenset`s are hashable, you can use them within other sets too. This is handy when you need to perform operations on sets of sets, which would not be possible with mutable sets:\n"
   ]
  },
  {
   "cell_type": "code",
   "execution_count": 35,
   "metadata": {},
   "outputs": [
    {
     "data": {
      "text/plain": [
       "{frozenset({3, 4}), frozenset({1, 2})}"
      ]
     },
     "execution_count": 35,
     "metadata": {},
     "output_type": "execute_result"
    }
   ],
   "source": [
    "set_of_frozensets = {frozenset([1, 2]), frozenset([3, 4])}\n",
    "set_of_frozensets"
   ]
  },
  {
   "cell_type": "markdown",
   "metadata": {},
   "source": [
    "### <a id='toc4_3_'></a>[Frozen Sets for Constant Set Definitions](#toc0_)\n"
   ]
  },
  {
   "cell_type": "markdown",
   "metadata": {},
   "source": [
    "Often in programs, we use constant sets that we don't want to change accidentally. Using `frozenset` can prevent such inadvertent modification and clearly communicates the intent of the code:\n"
   ]
  },
  {
   "cell_type": "code",
   "execution_count": 36,
   "metadata": {},
   "outputs": [
    {
     "data": {
      "text/plain": [
       "frozenset({'.gif', '.jpeg', '.jpg', '.png'})"
      ]
     },
     "execution_count": 36,
     "metadata": {},
     "output_type": "execute_result"
    }
   ],
   "source": [
    "# Constants\n",
    "ALLOWED_EXTENSIONS = frozenset(['.jpg', '.jpeg', '.png', '.gif'])\n",
    "ALLOWED_EXTENSIONS"
   ]
  },
  {
   "cell_type": "markdown",
   "metadata": {},
   "source": [
    "### <a id='toc4_4_'></a>[Frozen Sets for Safe Data Sharing](#toc0_)\n"
   ]
  },
  {
   "cell_type": "markdown",
   "metadata": {},
   "source": [
    "In applications or scenarios where data integrity is critical, `frozenset` ensures that data isn't changed by one function while another is using it. This can prevent difficult-to-trace bugs:\n"
   ]
  },
  {
   "cell_type": "code",
   "execution_count": 37,
   "metadata": {},
   "outputs": [
    {
     "data": {
      "text/plain": [
       "frozenset({'enable_log', 'verbose_mode'})"
      ]
     },
     "execution_count": 37,
     "metadata": {},
     "output_type": "execute_result"
    }
   ],
   "source": [
    "# Immutable set shared between threads or functions\n",
    "SHARED_OPTIONS = frozenset(['enable_log', 'verbose_mode'])\n",
    "SHARED_OPTIONS"
   ]
  },
  {
   "cell_type": "markdown",
   "metadata": {},
   "source": [
    "### <a id='toc4_5_'></a>[Conclusion](#toc0_)"
   ]
  },
  {
   "cell_type": "markdown",
   "metadata": {},
   "source": [
    "The practical applications for `frozenset` in Python are substantial and varied. From using them as dictionary keys to safeguarding data integrity across threads, `frozenset` adds an immutable touch to the versatile operation of sets. It becomes apparent that `frozenset` is not merely a stunted version of `set`, but rather a crucial data type for situations where immutability is essential.\n"
   ]
  },
  {
   "cell_type": "markdown",
   "metadata": {},
   "source": [
    "As we've seen in this section, the `frozenset` facilitates secure, reliable, and semantically clear programming patterns. In contexts that require fixed collections of items that ensure data consistency, the `frozenset` is an invaluable tool within the developer's toolkit."
   ]
  },
  {
   "cell_type": "markdown",
   "metadata": {},
   "source": [
    "## <a id='toc5_'></a>[Performance Considerations for Frozen Sets](#toc0_)"
   ]
  },
  {
   "cell_type": "markdown",
   "metadata": {},
   "source": [
    "When choosing between using a `frozenset` and a regular `set` in Python, it's important to consider not just the immutability of `frozenset` but also its performance implications. Let's take a look at some of the performance characteristics and trade-offs involved in using `frozenset`.\n"
   ]
  },
  {
   "cell_type": "markdown",
   "metadata": {},
   "source": [
    "- **Data Integrity and Copying**\n",
    "\n",
    "`frozenset` ensures data integrity, as its elements cannot be inadvertently altered. This can save processing time and computational resources that would otherwise be needed to make defensive copies to protect against unintended modifications.\n"
   ]
  },
  {
   "cell_type": "markdown",
   "metadata": {},
   "source": [
    "- **Cost of Immutability**\n",
    "\n",
    "While immutability grants certain benefits, it also comes at a cost. Every time you need a new collection that reflects an updated state (which would require modifications in a mutable set), you need to create a new `frozenset` instance. This can potentially lead to increased processing overhead, especially if updates are frequent.\n"
   ]
  },
  {
   "cell_type": "markdown",
   "metadata": {},
   "source": [
    "- **When to Opt for Frozen Sets**\n",
    "\n",
    "Given that `frozenset` utilizes more memory and can potentially lead to higher computational overhead due to the immutability constraint, it is best to use `frozenset` when:\n",
    "\n",
    "- The set will not need to be frequently updated.\n",
    "- The set must be immutable (hashable) because it is used as a key in a dictionary or as an element in another set.\n",
    "- The integrity of the data is of utmost importance, and accidental modifications must be avoided.\n",
    "- The performance gains from avoiding defensive copying outweigh the costs associated with immutable structures.\n"
   ]
  },
  {
   "cell_type": "markdown",
   "metadata": {},
   "source": [
    "### <a id='toc5_1_'></a>[Conclusion](#toc0_)"
   ]
  },
  {
   "cell_type": "markdown",
   "metadata": {},
   "source": [
    "Performance considerations when choosing `frozenset` over `set` include understanding the memory footprint, the computational cost of immutability, and the circumstances under which the benefits of using an immutable set outweigh its drawbacks. The choice should be made based on the specific use case and its performance requirements. Always consider testing and profiling your code under realistic scenarios to make the most informed decision regarding the use of `frozenset` in your Python applications."
   ]
  },
  {
   "cell_type": "markdown",
   "metadata": {},
   "source": [
    "## <a id='toc6_'></a>[Conclusion](#toc0_)"
   ]
  },
  {
   "cell_type": "markdown",
   "metadata": {},
   "source": [
    "In summary, `frozenset` is a powerful and sometimes underutilized feature of Python that can play an important role in creating immutable, hashable sets. Understanding when and how to use `frozenset` adds another dimension to your Python programming capabilities by allowing you to create static, secure collections that can be used in a variety of contexts where mutability and duplication need to be controlled.\n"
   ]
  },
  {
   "cell_type": "markdown",
   "metadata": {},
   "source": [
    "We have traversed the creation and application of `frozenset`s, compared their operations with mutable sets, and discussed the performance and best practices around their use. By now, you should feel comfortable utilizing `frozenset`s in your Python projects, appreciating the circumstances under which their immutability becomes an asset rather than a limitation. \n"
   ]
  },
  {
   "cell_type": "markdown",
   "metadata": {},
   "source": [
    "Remember that while `frozenset`s are immutable, they still support all the non-destructive operations available to mutable sets, allowing you to leverage set theory to its full extent.\n"
   ]
  },
  {
   "cell_type": "markdown",
   "metadata": {},
   "source": [
    "<img src=\"../images/exercise-banner.gif\" width=\"800\">"
   ]
  },
  {
   "cell_type": "markdown",
   "metadata": {},
   "source": [
    "## <a id='toc7_'></a>[Practice Exercise](#toc0_)\n"
   ]
  },
  {
   "cell_type": "markdown",
   "metadata": {},
   "source": [
    "To further solidify your understanding and skill in working with `frozenset`, here are some practical exercises to test your knowledge:\n"
   ]
  },
  {
   "cell_type": "markdown",
   "metadata": {},
   "source": [
    "- **Exercise 1: Creating and Using `frozenset`**\n",
    "\n",
    "Create a `frozenset` named `permissions` that contains the strings 'read', 'write', and 'execute'. Then, check to see if the permission 'delete' is included in the `permissions` set.\n"
   ]
  },
  {
   "cell_type": "markdown",
   "metadata": {},
   "source": [
    "- **Exercise 2: Set Operations with `frozenset`**\n",
    "\n",
    "Given `frozenset` A as `{1, 2, 3}` and `frozenset` B as `{2, 3, 4}`:\n",
    "- Find the union of A and B.\n",
    "- Determine the intersection.\n",
    "- Calculate the difference between A and B.\n"
   ]
  },
  {
   "cell_type": "markdown",
   "metadata": {},
   "source": [
    "- **Exercise 3: Using `frozenset` as a Dictionary Key**\n",
    "\n",
    "Create a dictionary `graph` where each key is a `frozenset` representing an edge in a graph, and the value is the weight of that edge. Here's an example edge: a `frozenset` of nodes (1, 2) with an edge weight of 10. Add at least two more edges with different weights.\n"
   ]
  },
  {
   "cell_type": "markdown",
   "metadata": {},
   "source": [
    "- **Exercise 4: Converting to `frozenset`**\n",
    "\n",
    "Take the list `['apple', 'banana', 'apple', 'cherry']` and convert it into a `frozenset` named `unique_fruits`. Verify that duplicates have been removed by converting the `frozenset` back to a list and checking its contents.\n"
   ]
  }
 ],
 "metadata": {
  "kernelspec": {
   "display_name": "py310",
   "language": "python",
   "name": "python3"
  },
  "language_info": {
   "codemirror_mode": {
    "name": "ipython",
    "version": 3
   },
   "file_extension": ".py",
   "mimetype": "text/x-python",
   "name": "python",
   "nbconvert_exporter": "python",
   "pygments_lexer": "ipython3",
   "version": "3.10.12"
  }
 },
 "nbformat": 4,
 "nbformat_minor": 2
}
