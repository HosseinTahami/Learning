{
 "cells": [
  {
   "cell_type": "markdown",
   "metadata": {},
   "source": [
    "<img src=\"./images/composite-data-types-banner.png\" width=\"800\">"
   ]
  },
  {
   "cell_type": "markdown",
   "metadata": {},
   "source": [
    "# Set Operations"
   ]
  },
  {
   "cell_type": "markdown",
   "metadata": {},
   "source": [
    "Welcome to our lecture on set operations in Python. In our previous discussions, we’ve introduced sets, covered how to create them, and gone through the basics of adding and removing elements. Now, we're ready to delve deeper into the power of sets; we will explore the basic set operations that are foundational to working with sets in a Pythonic way.\n"
   ]
  },
  {
   "cell_type": "markdown",
   "metadata": {},
   "source": [
    "Sets are heavily inspired by their mathematical counterparts, and Python provides us with rich functionality that closely mirrors set theory from mathematics. Understanding these operations will equip you with the tools to perform complex data manipulation tasks more intuitively and with greater efficiency.\n"
   ]
  },
  {
   "cell_type": "markdown",
   "metadata": {},
   "source": [
    "In this session, we will cover the four fundamental set operations—union, intersection, difference, and symmetric difference—and explain two alternative ways to perform each operation: using methods and using operators. We'll also discuss the subtle differences between these approaches and when to use one over the other.\n"
   ]
  },
  {
   "cell_type": "markdown",
   "metadata": {},
   "source": [
    "<img src=\"./images/set-operations.png\" width=\"400\">"
   ]
  },
  {
   "cell_type": "markdown",
   "metadata": {},
   "source": [
    "By the end of this lecture, you’ll have a comprehensive understanding of these operations, allowing you to leverage sets to solve problems that involve grouping, membership, and the blending or partitioning of data."
   ]
  },
  {
   "cell_type": "markdown",
   "metadata": {},
   "source": [
    "**Table of contents**<a id='toc0_'></a>    \n",
    "- [Set Operations Basics](#toc1_)    \n",
    "  - [Union](#toc1_1_)    \n",
    "  - [Intersection](#toc1_2_)    \n",
    "  - [Difference](#toc1_3_)    \n",
    "  - [Symmetric Difference](#toc1_4_)    \n",
    "  - [Subset, Superset, and Disjoint](#toc1_5_)    \n",
    "  - [Conclusion](#toc1_6_)    \n",
    "- [Differences Between Set Methods and Set Operators](#toc2_)    \n",
    "  - [Union: `|` vs. `.union()`](#toc2_1_)    \n",
    "  - [Intersection: `&` vs. `.intersection()`](#toc2_2_)    \n",
    "  - [Difference: `-` vs. `.difference()`](#toc2_3_)    \n",
    "  - [Symmetric Difference: `^` vs. `.symmetric_difference()`](#toc2_4_)    \n",
    "  - [Considerations for Choice](#toc2_5_)    \n",
    "- [Conclusion](#toc3_)    \n",
    "- [Practice Exercise](#toc4_)    \n",
    "\n",
    "<!-- vscode-jupyter-toc-config\n",
    "\tnumbering=false\n",
    "\tanchor=true\n",
    "\tflat=false\n",
    "\tminLevel=2\n",
    "\tmaxLevel=6\n",
    "\t/vscode-jupyter-toc-config -->\n",
    "<!-- THIS CELL WILL BE REPLACED ON TOC UPDATE. DO NOT WRITE YOUR TEXT IN THIS CELL -->"
   ]
  },
  {
   "cell_type": "markdown",
   "metadata": {},
   "source": [
    "## <a id='toc1_'></a>[Set Operations Basics](#toc0_)"
   ]
  },
  {
   "cell_type": "markdown",
   "metadata": {},
   "source": [
    "Python sets offer a range of operations that allow you to compare sets and create new sets from existing ones based on their contents. These operations are based on the mathematical concept of sets, which many of us are familiar with from school. Here, we'll discuss the basics: union, intersection, difference, and symmetric difference.\n"
   ]
  },
  {
   "cell_type": "markdown",
   "metadata": {},
   "source": [
    "### <a id='toc1_1_'></a>[Union](#toc0_)"
   ]
  },
  {
   "cell_type": "markdown",
   "metadata": {},
   "source": [
    "The union of two sets is a set containing all the distinct elements from both sets. In Python, you can use the `|` operator or the `.union()` method:\n"
   ]
  },
  {
   "cell_type": "code",
   "execution_count": 31,
   "metadata": {},
   "outputs": [],
   "source": [
    "set_a = {1, 2, 3}\n",
    "set_b = {3, 4, 5}"
   ]
  },
  {
   "cell_type": "code",
   "execution_count": 50,
   "metadata": {},
   "outputs": [
    {
     "data": {
      "text/plain": [
       "{1, 2, 3, 4, 5}"
      ]
     },
     "execution_count": 50,
     "metadata": {},
     "output_type": "execute_result"
    }
   ],
   "source": [
    "# Using the | operator\n",
    "set_a | set_b"
   ]
  },
  {
   "cell_type": "code",
   "execution_count": 51,
   "metadata": {},
   "outputs": [
    {
     "data": {
      "text/plain": [
       "{1, 2, 3, 4, 5}"
      ]
     },
     "execution_count": 51,
     "metadata": {},
     "output_type": "execute_result"
    }
   ],
   "source": [
    "# Using the .union() method\n",
    "set_a.union(set_b)"
   ]
  },
  {
   "cell_type": "markdown",
   "metadata": {},
   "source": [
    "\n",
    "### <a id='toc1_2_'></a>[Intersection](#toc0_)\n"
   ]
  },
  {
   "cell_type": "markdown",
   "metadata": {},
   "source": [
    "\n",
    "The intersection of two sets is a set containing only the elements common to both sets. Use the `&` operator or the `.intersection()` method:\n"
   ]
  },
  {
   "cell_type": "code",
   "execution_count": 52,
   "metadata": {},
   "outputs": [
    {
     "data": {
      "text/plain": [
       "{3}"
      ]
     },
     "execution_count": 52,
     "metadata": {},
     "output_type": "execute_result"
    }
   ],
   "source": [
    "# Using the & operator\n",
    "set_a & set_b"
   ]
  },
  {
   "cell_type": "code",
   "execution_count": 53,
   "metadata": {},
   "outputs": [
    {
     "data": {
      "text/plain": [
       "{3}"
      ]
     },
     "execution_count": 53,
     "metadata": {},
     "output_type": "execute_result"
    }
   ],
   "source": [
    "# Using the .intersection() method\n",
    "set_a.intersection(set_b)"
   ]
  },
  {
   "cell_type": "markdown",
   "metadata": {},
   "source": [
    "\n",
    "### <a id='toc1_3_'></a>[Difference](#toc0_)\n"
   ]
  },
  {
   "cell_type": "markdown",
   "metadata": {},
   "source": [
    "\n",
    "The difference between two sets is a set containing elements in the first set but not in the second. The `-` operator or the `.difference()` method achieves this:\n"
   ]
  },
  {
   "cell_type": "code",
   "execution_count": 54,
   "metadata": {},
   "outputs": [
    {
     "data": {
      "text/plain": [
       "{1, 2}"
      ]
     },
     "execution_count": 54,
     "metadata": {},
     "output_type": "execute_result"
    }
   ],
   "source": [
    "# Using the - operator\n",
    "set_a - set_b"
   ]
  },
  {
   "cell_type": "code",
   "execution_count": 55,
   "metadata": {},
   "outputs": [
    {
     "data": {
      "text/plain": [
       "{1, 2}"
      ]
     },
     "execution_count": 55,
     "metadata": {},
     "output_type": "execute_result"
    }
   ],
   "source": [
    "# Using the .difference() method\n",
    "set_a.difference(set_b)"
   ]
  },
  {
   "cell_type": "markdown",
   "metadata": {},
   "source": [
    "\n",
    "Both `difference_set` and `difference_set_method` will yield `{1, 2}`, which are the items unique to `set_a`.\n"
   ]
  },
  {
   "cell_type": "markdown",
   "metadata": {},
   "source": [
    "\n",
    "### <a id='toc1_4_'></a>[Symmetric Difference](#toc0_)\n"
   ]
  },
  {
   "cell_type": "markdown",
   "metadata": {},
   "source": [
    "\n",
    "The symmetric difference of two sets is a set containing elements that are in either of the two sets but not in both. It's like a union minus the intersection. Use the `^` operator or the `.symmetric_difference()` method:\n"
   ]
  },
  {
   "cell_type": "code",
   "execution_count": 56,
   "metadata": {},
   "outputs": [
    {
     "data": {
      "text/plain": [
       "{1, 2, 4, 5}"
      ]
     },
     "execution_count": 56,
     "metadata": {},
     "output_type": "execute_result"
    }
   ],
   "source": [
    "# Using the ^ operator\n",
    "set_a ^ set_b"
   ]
  },
  {
   "cell_type": "code",
   "execution_count": 57,
   "metadata": {},
   "outputs": [
    {
     "data": {
      "text/plain": [
       "{1, 2, 4, 5}"
      ]
     },
     "execution_count": 57,
     "metadata": {},
     "output_type": "execute_result"
    }
   ],
   "source": [
    "# Using the .symmetric_difference() method\n",
    "set_a.symmetric_difference(set_b)"
   ]
  },
  {
   "cell_type": "markdown",
   "metadata": {},
   "source": [
    "\n",
    "### <a id='toc1_5_'></a>[Subset, Superset, and Disjoint](#toc0_)\n"
   ]
  },
  {
   "cell_type": "markdown",
   "metadata": {},
   "source": [
    "\n",
    "In addition to the above, you may occasionally want to test the relationship between two sets:\n",
    "\n",
    "- **Subset**: Determine whether all elements of one set are present in another with `.issubset()` or the `<=` operator.\n",
    "- **Superset**: Test if one set contains all elements of another with `.issuperset()` or the `>=` operator.\n",
    "- **Disjoint**: Check if two sets have no elements in common using `.isdisjoint()`.\n"
   ]
  },
  {
   "cell_type": "markdown",
   "metadata": {},
   "source": [
    "Here are examples for these relations:"
   ]
  },
  {
   "cell_type": "code",
   "execution_count": 47,
   "metadata": {},
   "outputs": [
    {
     "data": {
      "text/plain": [
       "True"
      ]
     },
     "execution_count": 47,
     "metadata": {},
     "output_type": "execute_result"
    }
   ],
   "source": [
    "# Subset\n",
    "{1, 2}.issubset(set_a)  # Returns True"
   ]
  },
  {
   "cell_type": "code",
   "execution_count": 48,
   "metadata": {},
   "outputs": [
    {
     "data": {
      "text/plain": [
       "True"
      ]
     },
     "execution_count": 48,
     "metadata": {},
     "output_type": "execute_result"
    }
   ],
   "source": [
    "# Superset\n",
    "set_b.issuperset({5})   # Returns True"
   ]
  },
  {
   "cell_type": "code",
   "execution_count": 49,
   "metadata": {},
   "outputs": [
    {
     "data": {
      "text/plain": [
       "True"
      ]
     },
     "execution_count": 49,
     "metadata": {},
     "output_type": "execute_result"
    }
   ],
   "source": [
    "# Disjoint\n",
    "set_a.isdisjoint({6, 7})  # Returns True"
   ]
  },
  {
   "cell_type": "markdown",
   "metadata": {},
   "source": [
    "\n",
    "### <a id='toc1_6_'></a>[Conclusion](#toc0_)\n"
   ]
  },
  {
   "cell_type": "markdown",
   "metadata": {},
   "source": [
    "\n",
    "These set operations are fundamental tools in Python for managing collections of items, especially when dealing with complex criteria for inclusion or exclusion. By employing these operations, developers can easily model and solve problems related to sets and perform tasks that require operations like merging, intersection, differentiation, and exclusion on collections of data.\n"
   ]
  },
  {
   "cell_type": "markdown",
   "metadata": {},
   "source": [
    "\n",
    "Understanding these basic operations prepares you to effectively use sets in practical situations, leveraging their mathematical properties to write cleaner, more efficient Python code. In the next sections, we'll dive deeper into set iteration and comprehensions, as well as real-world applications and performance considerations."
   ]
  },
  {
   "cell_type": "markdown",
   "metadata": {},
   "source": [
    "## <a id='toc2_'></a>[Differences Between Set Methods and Set Operators](#toc0_)"
   ]
  },
  {
   "cell_type": "markdown",
   "metadata": {},
   "source": [
    "In Python, there are generally two ways to perform basic set operations: by using methods such as `.union()`, `.intersection()`, `.difference()`, and `.symmetric_difference()`, or by using their corresponding operators `|`, `&`, `-`, and `^`. Understanding the differences between these can help you decide which to use in various scenarios.\n"
   ]
  },
  {
   "cell_type": "markdown",
   "metadata": {},
   "source": [
    "### <a id='toc2_1_'></a>[Union: `|` vs. `.union()`](#toc0_)\n"
   ]
  },
  {
   "cell_type": "markdown",
   "metadata": {},
   "source": [
    "- The `|` operator can only take a single set as its right-hand operand, while `.union()` can take an iterable like lists, tuples in addition to sets."
   ]
  },
  {
   "cell_type": "code",
   "execution_count": 60,
   "metadata": {},
   "outputs": [
    {
     "data": {
      "text/plain": [
       "{1, 2, 3, 4, 5}"
      ]
     },
     "execution_count": 60,
     "metadata": {},
     "output_type": "execute_result"
    }
   ],
   "source": [
    "set_a | set_b"
   ]
  },
  {
   "cell_type": "code",
   "execution_count": 62,
   "metadata": {},
   "outputs": [
    {
     "data": {
      "text/plain": [
       "{1, 2, 3, 4, 5, 6, 7}"
      ]
     },
     "execution_count": 62,
     "metadata": {},
     "output_type": "execute_result"
    }
   ],
   "source": [
    "set_a.union(set_b, [6, 7])"
   ]
  },
  {
   "cell_type": "markdown",
   "metadata": {},
   "source": [
    "### <a id='toc2_2_'></a>[Intersection: `&` vs. `.intersection()`](#toc0_)\n"
   ]
  },
  {
   "cell_type": "markdown",
   "metadata": {},
   "source": [
    "- The `&` operator requires both operands to be sets, while `.intersection()` can take any iterable."
   ]
  },
  {
   "cell_type": "code",
   "execution_count": 63,
   "metadata": {},
   "outputs": [
    {
     "data": {
      "text/plain": [
       "{3}"
      ]
     },
     "execution_count": 63,
     "metadata": {},
     "output_type": "execute_result"
    }
   ],
   "source": [
    "set_a & set_b"
   ]
  },
  {
   "cell_type": "code",
   "execution_count": 64,
   "metadata": {},
   "outputs": [
    {
     "data": {
      "text/plain": [
       "{3}"
      ]
     },
     "execution_count": 64,
     "metadata": {},
     "output_type": "execute_result"
    }
   ],
   "source": [
    "set_a.intersection(set_b, [3, 4])"
   ]
  },
  {
   "cell_type": "markdown",
   "metadata": {},
   "source": [
    "### <a id='toc2_3_'></a>[Difference: `-` vs. `.difference()`](#toc0_)\n"
   ]
  },
  {
   "cell_type": "markdown",
   "metadata": {},
   "source": [
    "- The `-` operator can only be used between two sets, while `.difference()` can take multiple iterables."
   ]
  },
  {
   "cell_type": "code",
   "execution_count": 65,
   "metadata": {},
   "outputs": [
    {
     "data": {
      "text/plain": [
       "{1, 2}"
      ]
     },
     "execution_count": 65,
     "metadata": {},
     "output_type": "execute_result"
    }
   ],
   "source": [
    "set_a - set_b"
   ]
  },
  {
   "cell_type": "code",
   "execution_count": 66,
   "metadata": {},
   "outputs": [
    {
     "data": {
      "text/plain": [
       "{1, 2}"
      ]
     },
     "execution_count": 66,
     "metadata": {},
     "output_type": "execute_result"
    }
   ],
   "source": [
    "set_a.difference(set_b, {5})"
   ]
  },
  {
   "cell_type": "markdown",
   "metadata": {},
   "source": [
    "### <a id='toc2_4_'></a>[Symmetric Difference: `^` vs. `.symmetric_difference()`](#toc0_)\n"
   ]
  },
  {
   "cell_type": "markdown",
   "metadata": {},
   "source": [
    "- The `^` operator requires both operands to be sets, while `.symmetric_difference()` can operate with any iterable."
   ]
  },
  {
   "cell_type": "code",
   "execution_count": 67,
   "metadata": {},
   "outputs": [
    {
     "data": {
      "text/plain": [
       "{1, 2, 4, 5}"
      ]
     },
     "execution_count": 67,
     "metadata": {},
     "output_type": "execute_result"
    }
   ],
   "source": [
    "set_a ^ set_b"
   ]
  },
  {
   "cell_type": "code",
   "execution_count": 68,
   "metadata": {},
   "outputs": [
    {
     "data": {
      "text/plain": [
       "{1, 2, 4, 5}"
      ]
     },
     "execution_count": 68,
     "metadata": {},
     "output_type": "execute_result"
    }
   ],
   "source": [
    "set_a.symmetric_difference([3, 4, 5])"
   ]
  },
  {
   "cell_type": "markdown",
   "metadata": {},
   "source": [
    "\n",
    "\n",
    "- Like the other operators, `^` is not suitable for chaining with other iterables that are not sets.\n"
   ]
  },
  {
   "cell_type": "markdown",
   "metadata": {},
   "source": [
    "### <a id='toc2_5_'></a>[Considerations for Choice](#toc0_)\n"
   ]
  },
  {
   "cell_type": "markdown",
   "metadata": {},
   "source": [
    "While the functionality of these operators and methods is similar, the key difference lies in their flexibility and the types of arguments they can handle.\n"
   ]
  },
  {
   "cell_type": "markdown",
   "metadata": {},
   "source": [
    "In practice, the choice between using set methods and operators often boils down to the context of their use:\n",
    "- Use methods when you need to operate on a variety of iterables, or when you're chaining multiple operations that involve non-set iterables.\n",
    "- Use the set operators when working solely with sets for clarity, conciseness, and situations where precedence of operations is beneficial.\n"
   ]
  },
  {
   "cell_type": "markdown",
   "metadata": {},
   "source": [
    "Both approaches are efficient, and both modify the sets in place, but choosing the right one can lead to more readable and maintainable code."
   ]
  },
  {
   "cell_type": "markdown",
   "metadata": {},
   "source": [
    "## <a id='toc3_'></a>[Conclusion](#toc0_)"
   ]
  },
  {
   "cell_type": "markdown",
   "metadata": {},
   "source": [
    "As we wrap up our lecture on set operations and the nuances between using methods and operators in Python, let's take a moment to reflect on the key points we've covered:\n",
    "\n",
    "- We established how sets in Python allow for performing union, intersection, difference, and symmetric difference operations that align closely with mathematical set theory.\n",
    "- We explored both the operator and method versions of these set operations (`|` vs. `.union()`, `&` vs. `.intersection()`, `-` vs. `.difference()`, `^` vs. `.symmetric_difference()`) and discussed their respective uses.\n",
    "- We learned about the flexibility of methods that can handle a variety of iterables and the concise, expressive nature of operators used strictly with sets.\n"
   ]
  },
  {
   "cell_type": "markdown",
   "metadata": {},
   "source": [
    "This understanding equips you with the ability to choose the most appropriate tool for your tasks, ensuring that your code is not just functional, but also clear and optimal.\n"
   ]
  },
  {
   "cell_type": "markdown",
   "metadata": {},
   "source": [
    "<img src=\"../images/exercise-banner.gif\" width=\"800\">"
   ]
  },
  {
   "cell_type": "markdown",
   "metadata": {},
   "source": [
    "## <a id='toc4_'></a>[Practice Exercise](#toc0_)\n"
   ]
  },
  {
   "cell_type": "markdown",
   "metadata": {},
   "source": [
    "Now it's time to apply what you've learned about set operations. Here’s an exercise that will help reinforce the differences between set methods and operators:\n"
   ]
  },
  {
   "cell_type": "markdown",
   "metadata": {},
   "source": [
    "Given the following sets:"
   ]
  },
  {
   "cell_type": "code",
   "execution_count": null,
   "metadata": {},
   "outputs": [],
   "source": [
    "set_x = {10, 20, 30, 40, 50}\n",
    "set_y = {30, 40, 50, 60, 70}\n",
    "set_z = {5, 15, 25, 35}"
   ]
  },
  {
   "cell_type": "markdown",
   "metadata": {},
   "source": [
    "Perform the following operations:\n",
    "\n",
    "1. Find the union of `set_x` and `set_y` using both the `.union()` method and the `|` operator. Verify that the result is the same.\n",
    "\n",
    "2. Compute the intersection of `set_x`, `set_y`, and `set_z` using the `.intersection()` method. \n",
    "\n",
    "3. Determine the symmetric difference between `set_y` and `set_z` using both the `.symmetric_difference()` method and the `^` operator. Check if the outcomes match.\n",
    "\n",
    "4. Use the difference operator `-` to find elements in `set_x` that are not in `set_y`.\n",
    "\n",
    "5. Attempt to perform an operation that combines all three sets, `set_x`, `set_y`, and `set_z`, into a new set containing elements shared by at least two of the sets. Hint: You may need to use method chaining or additional parentheses with operators to achieve this."
   ]
  }
 ],
 "metadata": {
  "kernelspec": {
   "display_name": "py310",
   "language": "python",
   "name": "python3"
  },
  "language_info": {
   "codemirror_mode": {
    "name": "ipython",
    "version": 3
   },
   "file_extension": ".py",
   "mimetype": "text/x-python",
   "name": "python",
   "nbconvert_exporter": "python",
   "pygments_lexer": "ipython3",
   "version": "3.10.12"
  }
 },
 "nbformat": 4,
 "nbformat_minor": 2
}
