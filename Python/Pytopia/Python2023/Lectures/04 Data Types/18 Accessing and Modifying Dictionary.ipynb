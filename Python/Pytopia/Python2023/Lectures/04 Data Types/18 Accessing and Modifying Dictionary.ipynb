{
 "cells": [
  {
   "cell_type": "markdown",
   "metadata": {},
   "source": [
    "<img src=\"./images/composite-data-types-banner.png\" width=\"800\">"
   ]
  },
  {
   "cell_type": "markdown",
   "metadata": {},
   "source": [
    "# Accessing and Modifying Dictionary Items"
   ]
  },
  {
   "cell_type": "markdown",
   "metadata": {},
   "source": [
    "This section will take you on a detailed journey through the functionalities of Python dictionaries. Dictionaries are a fundamental data structure in Python that store data as key-value pairs and are commonly used for efficient data manipulation and retrieval. Whether you are a beginner or an experienced developer, mastering dictionaries is an essential skill that will significantly enhance your coding capabilities.\n"
   ]
  },
  {
   "cell_type": "markdown",
   "metadata": {},
   "source": [
    "The objective of this notebook is to provide in-depth coverage of the various operations you can perform with Python dictionaries. By the end of this tutorial, you will have a robust understanding of accessing, adding, updating, and removing items in dictionaries, along with hands-on practice exercises to consolidate your knowledge."
   ]
  },
  {
   "cell_type": "markdown",
   "metadata": {},
   "source": [
    "**Table of contents**<a id='toc0_'></a>    \n",
    "- [Accessing Dictionary Values in Python](#toc1_)    \n",
    "  - [Accessing Values Using Keys](#toc1_1_)    \n",
    "  - [Handling Missing Keys with .get()](#toc1_2_)    \n",
    "  - [Using .get() Without a Default Value](#toc1_3_)    \n",
    "  - [Accessing All Keys or Values](#toc1_4_)    \n",
    "  - [Conclusion](#toc1_5_)    \n",
    "- [Adding and Updating Dictionary Items in Python](#toc2_)    \n",
    "  - [Adding New Key-Value Pairs](#toc2_1_)    \n",
    "  - [Updating Existing Values](#toc2_2_)    \n",
    "  - [Using the `.update()` Method](#toc2_3_)    \n",
    "  - [Conclusion](#toc2_4_)    \n",
    "- [Removing Items from a Dictionary in Python](#toc3_)    \n",
    "  - [Using the `del` Statement](#toc3_1_)    \n",
    "  - [Using the `.pop()` Method](#toc3_2_)    \n",
    "  - [Using the `.popitem()` Method](#toc3_3_)    \n",
    "  - [Clearing All Items](#toc3_4_)    \n",
    "  - [Conclusion](#toc3_5_)    \n",
    "- [Practice Exercise](#toc4_)    \n",
    "\n",
    "<!-- vscode-jupyter-toc-config\n",
    "\tnumbering=false\n",
    "\tanchor=true\n",
    "\tflat=false\n",
    "\tminLevel=2\n",
    "\tmaxLevel=6\n",
    "\t/vscode-jupyter-toc-config -->\n",
    "<!-- THIS CELL WILL BE REPLACED ON TOC UPDATE. DO NOT WRITE YOUR TEXT IN THIS CELL -->"
   ]
  },
  {
   "cell_type": "markdown",
   "metadata": {},
   "source": [
    "## <a id='toc1_'></a>[Accessing Dictionary Values in Python](#toc0_)"
   ]
  },
  {
   "cell_type": "markdown",
   "metadata": {},
   "source": [
    "Once we have created a dictionary, the next step is to be able to access the data it holds. Python allows you to access the values stored within a dictionary using its corresponding keys. This operation is very efficient in Python, making dictionaries a favored choice when it comes to retrieving values quickly.\n"
   ]
  },
  {
   "cell_type": "markdown",
   "metadata": {},
   "source": [
    "### <a id='toc1_1_'></a>[Accessing Values Using Keys](#toc0_)\n"
   ]
  },
  {
   "cell_type": "markdown",
   "metadata": {},
   "source": [
    "Each value stored in a dictionary is associated with a unique key. You can retrieve a value by using square brackets `[]` along with the key:\n"
   ]
  },
  {
   "cell_type": "code",
   "execution_count": 9,
   "metadata": {},
   "outputs": [],
   "source": [
    "# Let's consider the following dictionary:\n",
    "person_info = {'name': 'Alice', 'age': 30, 'city': 'New York'}"
   ]
  },
  {
   "cell_type": "code",
   "execution_count": 10,
   "metadata": {},
   "outputs": [
    {
     "data": {
      "text/plain": [
       "'Alice'"
      ]
     },
     "execution_count": 10,
     "metadata": {},
     "output_type": "execute_result"
    }
   ],
   "source": [
    "# Accessing the value associated with the key 'name'\n",
    "person_info['name']"
   ]
  },
  {
   "cell_type": "markdown",
   "metadata": {},
   "source": [
    "When you use a key to retrieve its value, Python looks up the key in the dictionary and returns the value associated with it. If the key does not exist within the dictionary, Python raises a `KeyError`.\n"
   ]
  },
  {
   "cell_type": "markdown",
   "metadata": {},
   "source": [
    "### <a id='toc1_2_'></a>[Handling Missing Keys with .get()](#toc0_)\n"
   ]
  },
  {
   "cell_type": "markdown",
   "metadata": {},
   "source": [
    "To avoid `KeyError` exceptions, dictionaries have a `get()` method that allows you to access values with an option to define a default value if the key is not found:\n"
   ]
  },
  {
   "cell_type": "code",
   "execution_count": 11,
   "metadata": {},
   "outputs": [
    {
     "data": {
      "text/plain": [
       "'Not specified'"
      ]
     },
     "execution_count": 11,
     "metadata": {},
     "output_type": "execute_result"
    }
   ],
   "source": [
    "# Using get() to retrieve a value\n",
    "occupation = person_info.get('occupation', 'Not specified')\n",
    "occupation"
   ]
  },
  {
   "cell_type": "markdown",
   "metadata": {},
   "source": [
    "In the example above, `'occupation'` is not a key in `person_info`. Instead of raising an error, `get()` returns the default value `'Not specified'`.\n"
   ]
  },
  {
   "cell_type": "markdown",
   "metadata": {},
   "source": [
    "### <a id='toc1_3_'></a>[Using .get() Without a Default Value](#toc0_)\n"
   ]
  },
  {
   "cell_type": "markdown",
   "metadata": {},
   "source": [
    "If you use the `get()` method without a second argument and the key does not exist, it will return `None` instead of raising an error:\n"
   ]
  },
  {
   "cell_type": "code",
   "execution_count": 12,
   "metadata": {},
   "outputs": [],
   "source": [
    "hobby = person_info.get('hobby')"
   ]
  },
  {
   "cell_type": "code",
   "execution_count": 13,
   "metadata": {},
   "outputs": [],
   "source": [
    "hobby # None, because the key 'hobby' doesn't exist"
   ]
  },
  {
   "cell_type": "code",
   "execution_count": 14,
   "metadata": {},
   "outputs": [
    {
     "name": "stdout",
     "output_type": "stream",
     "text": [
      "None\n"
     ]
    }
   ],
   "source": [
    "print(hobby)\n",
    "# print returns None while simply typing the variable name doesn't.\n",
    "# This is because print() is a function that explicitly returns None\n",
    "# while the interpreter doesn't return anything when you simply type a variable name."
   ]
  },
  {
   "cell_type": "markdown",
   "metadata": {},
   "source": [
    "### <a id='toc1_4_'></a>[Accessing All Keys or Values](#toc0_)\n"
   ]
  },
  {
   "cell_type": "markdown",
   "metadata": {},
   "source": [
    "There are times you may want to access all keys, all values, or all key-value pairs in a dictionary. Python dictionaries provide methods for these operations:\n"
   ]
  },
  {
   "cell_type": "markdown",
   "metadata": {},
   "source": [
    "- `keys()`: This method returns a new view of the dictionary's keys.\n",
    "- `values()`: This method returns a new view of the dictionary's values.\n",
    "- `items()`: This method returns a new view of the dictionary's items (key-value pairs).\n"
   ]
  },
  {
   "cell_type": "code",
   "execution_count": 15,
   "metadata": {},
   "outputs": [
    {
     "data": {
      "text/plain": [
       "dict_keys(['name', 'age', 'city'])"
      ]
     },
     "execution_count": 15,
     "metadata": {},
     "output_type": "execute_result"
    }
   ],
   "source": [
    "# Accessing all keys\n",
    "keys = person_info.keys()\n",
    "keys"
   ]
  },
  {
   "cell_type": "code",
   "execution_count": 16,
   "metadata": {},
   "outputs": [
    {
     "data": {
      "text/plain": [
       "dict_values(['Alice', 30, 'New York'])"
      ]
     },
     "execution_count": 16,
     "metadata": {},
     "output_type": "execute_result"
    }
   ],
   "source": [
    "# Accessing all values\n",
    "values = person_info.values()\n",
    "values"
   ]
  },
  {
   "cell_type": "code",
   "execution_count": 17,
   "metadata": {},
   "outputs": [
    {
     "data": {
      "text/plain": [
       "dict_items([('name', 'Alice'), ('age', 30), ('city', 'New York')])"
      ]
     },
     "execution_count": 17,
     "metadata": {},
     "output_type": "execute_result"
    }
   ],
   "source": [
    "# Accessing all items\n",
    "items = person_info.items()\n",
    "items"
   ]
  },
  {
   "cell_type": "markdown",
   "metadata": {},
   "source": [
    "Remember that the view objects returned by `keys()`, `values()`, and `items()` methods reflect the dictionary's current state and will update if the dictionary changes.\n"
   ]
  },
  {
   "cell_type": "markdown",
   "metadata": {},
   "source": [
    "### <a id='toc1_5_'></a>[Conclusion](#toc0_)\n"
   ]
  },
  {
   "cell_type": "markdown",
   "metadata": {},
   "source": [
    "That's how you access values in a Python dictionary! Critical to remember are the brackets `[]` for direct access and the `get()` method for safer retrieval. Using these tools will let you effectively retrieve the information you need without encountering errors due to non-existent keys.\n"
   ]
  },
  {
   "cell_type": "markdown",
   "metadata": {},
   "source": [
    "In the upcoming sections, we will discuss how to extend and modify the contents of a dictionary, which is equally essential in managing this versatile data structure."
   ]
  },
  {
   "cell_type": "markdown",
   "metadata": {},
   "source": [
    "## <a id='toc2_'></a>[Adding and Updating Dictionary Items in Python](#toc0_)"
   ]
  },
  {
   "cell_type": "markdown",
   "metadata": {},
   "source": [
    "Dictionaries in Python are not only efficient for data retrieval but also provide flexible methods for modifying the data they contain. You can add new items to a dictionary, or update the values for existing keys with ease.\n"
   ]
  },
  {
   "cell_type": "markdown",
   "metadata": {},
   "source": [
    "### <a id='toc2_1_'></a>[Adding New Key-Value Pairs](#toc0_)\n"
   ]
  },
  {
   "cell_type": "markdown",
   "metadata": {},
   "source": [
    "To add an item to a dictionary, you can use the assignment operator (`=`) with a new key and the value that you want to associate with it. If the key doesn't already exist in the dictionary, then a new key-value pair is added:\n"
   ]
  },
  {
   "cell_type": "code",
   "execution_count": 18,
   "metadata": {},
   "outputs": [],
   "source": [
    "# Starting with an empty dictionary\n",
    "portfolio = {}"
   ]
  },
  {
   "cell_type": "code",
   "execution_count": 19,
   "metadata": {},
   "outputs": [],
   "source": [
    "# Adding a new key-value pair\n",
    "portfolio['AAPL'] = 100  # Add a new item with key 'AAPL' and value 100"
   ]
  },
  {
   "cell_type": "code",
   "execution_count": 20,
   "metadata": {},
   "outputs": [
    {
     "data": {
      "text/plain": [
       "{'AAPL': 100}"
      ]
     },
     "execution_count": 20,
     "metadata": {},
     "output_type": "execute_result"
    }
   ],
   "source": [
    "portfolio"
   ]
  },
  {
   "cell_type": "code",
   "execution_count": 21,
   "metadata": {},
   "outputs": [],
   "source": [
    "# Adding another item\n",
    "portfolio['GOOG'] = 25  # Add another item"
   ]
  },
  {
   "cell_type": "code",
   "execution_count": 22,
   "metadata": {},
   "outputs": [
    {
     "data": {
      "text/plain": [
       "{'AAPL': 100, 'GOOG': 25}"
      ]
     },
     "execution_count": 22,
     "metadata": {},
     "output_type": "execute_result"
    }
   ],
   "source": [
    "portfolio"
   ]
  },
  {
   "cell_type": "markdown",
   "metadata": {},
   "source": [
    "Each assignment with a new key adds a unique item to the dictionary.\n"
   ]
  },
  {
   "cell_type": "markdown",
   "metadata": {},
   "source": [
    "### <a id='toc2_2_'></a>[Updating Existing Values](#toc0_)\n"
   ]
  },
  {
   "cell_type": "markdown",
   "metadata": {},
   "source": [
    "If the key already exists in the dictionary, assigning a new value to it will replace the previous value:\n"
   ]
  },
  {
   "cell_type": "code",
   "execution_count": 23,
   "metadata": {},
   "outputs": [],
   "source": [
    "# Updating the value of an existing key\n",
    "portfolio['AAPL'] = 150  # Update the value associated with key 'AAPL'\n"
   ]
  },
  {
   "cell_type": "code",
   "execution_count": 24,
   "metadata": {},
   "outputs": [
    {
     "data": {
      "text/plain": [
       "{'AAPL': 150, 'GOOG': 25}"
      ]
     },
     "execution_count": 24,
     "metadata": {},
     "output_type": "execute_result"
    }
   ],
   "source": [
    "portfolio"
   ]
  },
  {
   "cell_type": "markdown",
   "metadata": {},
   "source": [
    "The value for the key 'AAPL' has been updated from 100 to 150.\n"
   ]
  },
  {
   "cell_type": "markdown",
   "metadata": {},
   "source": [
    "### <a id='toc2_3_'></a>[Using the `.update()` Method](#toc0_)\n"
   ]
  },
  {
   "cell_type": "markdown",
   "metadata": {},
   "source": [
    "The `update()` method offers an alternative way to add new items or update existing ones. This method accepts either another dictionary object, an iterable of key-value pairs, or keyword arguments to perform the update:\n"
   ]
  },
  {
   "cell_type": "code",
   "execution_count": 25,
   "metadata": {},
   "outputs": [],
   "source": [
    "# Using another dictionary to update\n",
    "portfolio.update({'TSLA': 50, 'AAPL': 200})  # Updates 'AAPL' and adds 'TSLA'"
   ]
  },
  {
   "cell_type": "code",
   "execution_count": 26,
   "metadata": {},
   "outputs": [
    {
     "data": {
      "text/plain": [
       "{'AAPL': 200, 'GOOG': 25, 'TSLA': 50}"
      ]
     },
     "execution_count": 26,
     "metadata": {},
     "output_type": "execute_result"
    }
   ],
   "source": [
    "portfolio"
   ]
  },
  {
   "cell_type": "code",
   "execution_count": 27,
   "metadata": {},
   "outputs": [],
   "source": [
    "# Using an iterable of key-value pairs\n",
    "portfolio.update([('MSFT', 80), ('AMZN', 15)])  # Adds 'MSFT' and 'AMZN'"
   ]
  },
  {
   "cell_type": "code",
   "execution_count": 28,
   "metadata": {},
   "outputs": [
    {
     "data": {
      "text/plain": [
       "{'AAPL': 200, 'GOOG': 25, 'TSLA': 50, 'MSFT': 80, 'AMZN': 15}"
      ]
     },
     "execution_count": 28,
     "metadata": {},
     "output_type": "execute_result"
    }
   ],
   "source": [
    "portfolio"
   ]
  },
  {
   "cell_type": "code",
   "execution_count": 29,
   "metadata": {},
   "outputs": [],
   "source": [
    "# Using keyword arguments\n",
    "portfolio.update(IBM=10)  # Adds 'IBM' as a new entry"
   ]
  },
  {
   "cell_type": "code",
   "execution_count": 30,
   "metadata": {},
   "outputs": [
    {
     "data": {
      "text/plain": [
       "{'AAPL': 200, 'GOOG': 25, 'TSLA': 50, 'MSFT': 80, 'AMZN': 15, 'IBM': 10}"
      ]
     },
     "execution_count": 30,
     "metadata": {},
     "output_type": "execute_result"
    }
   ],
   "source": [
    "portfolio"
   ]
  },
  {
   "cell_type": "markdown",
   "metadata": {},
   "source": [
    "The `update()` method is particularly useful when you need to merge two dictionaries or when you want to update several items at once.\n"
   ]
  },
  {
   "cell_type": "markdown",
   "metadata": {},
   "source": [
    "### <a id='toc2_4_'></a>[Conclusion](#toc0_)\n"
   ]
  },
  {
   "cell_type": "markdown",
   "metadata": {},
   "source": [
    "Adding and updating dictionary items are straightforward operations in Python. Whether you're using direct assignment for a single item, or the `update()` method for multiple items, you can modify dictionaries with minimal hassle.\n"
   ]
  },
  {
   "cell_type": "markdown",
   "metadata": {},
   "source": [
    "By mastering these operations, you can maintain and manipulate a dictionary's content effectively, ensuring that your data structures remain current and accurate as your program evolves. Remember, dictionaries are mutable, so these operations do change the original dictionary.\n"
   ]
  },
  {
   "cell_type": "markdown",
   "metadata": {},
   "source": [
    "In the next section, we'll explore how to remove items from a dictionary, allowing you to declutter or adjust its contents according to your requirements."
   ]
  },
  {
   "cell_type": "markdown",
   "metadata": {},
   "source": [
    "## <a id='toc3_'></a>[Removing Items from a Dictionary in Python](#toc0_)"
   ]
  },
  {
   "cell_type": "markdown",
   "metadata": {},
   "source": [
    "While the ability to add and update items in dictionaries is important, so too is the ability to remove them. Python provides several methods to remove items from a dictionary, effectively managing its content and size. Let's look at the different ways to remove individual or multiple items.\n"
   ]
  },
  {
   "cell_type": "markdown",
   "metadata": {},
   "source": [
    "### <a id='toc3_1_'></a>[Using the `del` Statement](#toc0_)\n"
   ]
  },
  {
   "cell_type": "markdown",
   "metadata": {},
   "source": [
    "The `del` statement is used to delete items from a dictionary by specifying the key. After the removal, the key and its associated value are no longer present in the dictionary. Attempting to access a key after it has been deleted will raise a `KeyError`.\n"
   ]
  },
  {
   "cell_type": "code",
   "execution_count": 31,
   "metadata": {},
   "outputs": [],
   "source": [
    "# Consider the following dictionary\n",
    "grade_book = {'math': 95, 'science': 90, 'history': 85, 'english': 80}"
   ]
  },
  {
   "cell_type": "code",
   "execution_count": 32,
   "metadata": {},
   "outputs": [],
   "source": [
    "# Removing an item with a specific key\n",
    "del grade_book['history']"
   ]
  },
  {
   "cell_type": "code",
   "execution_count": 33,
   "metadata": {},
   "outputs": [
    {
     "data": {
      "text/plain": [
       "{'math': 95, 'science': 90, 'english': 80}"
      ]
     },
     "execution_count": 33,
     "metadata": {},
     "output_type": "execute_result"
    }
   ],
   "source": [
    "grade_book"
   ]
  },
  {
   "cell_type": "markdown",
   "metadata": {},
   "source": [
    "### <a id='toc3_2_'></a>[Using the `.pop()` Method](#toc0_)\n"
   ]
  },
  {
   "cell_type": "markdown",
   "metadata": {},
   "source": [
    "If you need to remove an item and also obtain its value, you can use the `pop()` method. This method removes the item with the given key and returns the value. If the key is not found and a default value is provided, it returns the default value instead. Without a default and a missing key, it will raise a `KeyError`.\n"
   ]
  },
  {
   "cell_type": "code",
   "execution_count": 34,
   "metadata": {},
   "outputs": [],
   "source": [
    "# Removing an item and getting the value back\n",
    "science_grade = grade_book.pop('science', None)"
   ]
  },
  {
   "cell_type": "code",
   "execution_count": 35,
   "metadata": {},
   "outputs": [
    {
     "data": {
      "text/plain": [
       "90"
      ]
     },
     "execution_count": 35,
     "metadata": {},
     "output_type": "execute_result"
    }
   ],
   "source": [
    "science_grade"
   ]
  },
  {
   "cell_type": "code",
   "execution_count": 36,
   "metadata": {},
   "outputs": [
    {
     "data": {
      "text/plain": [
       "{'math': 95, 'english': 80}"
      ]
     },
     "execution_count": 36,
     "metadata": {},
     "output_type": "execute_result"
    }
   ],
   "source": [
    "grade_book"
   ]
  },
  {
   "cell_type": "markdown",
   "metadata": {},
   "source": [
    "In the example above, the default value `None` is passed to `pop()`, which means that if the key 'science' did not exist, `None` would have been returned instead of raising an error.\n"
   ]
  },
  {
   "cell_type": "markdown",
   "metadata": {},
   "source": [
    "### <a id='toc3_3_'></a>[Using the `.popitem()` Method](#toc0_)\n"
   ]
  },
  {
   "cell_type": "markdown",
   "metadata": {},
   "source": [
    "The `popitem()` method removes and returns the last key-value pair in a dictionary. This behavior is in line with the last-in-first-out (LIFO) principle. It can be useful when you're not concerned about which item is removed but want to reduce the dictionary size by one. Prior to Python 3.7, `.popitem()` removed a random item since dictionaries were unordered until Python 3.6.\n"
   ]
  },
  {
   "cell_type": "code",
   "execution_count": 37,
   "metadata": {},
   "outputs": [],
   "source": [
    "# Removing the last added key-value pair\n",
    "last_item = grade_book.popitem()"
   ]
  },
  {
   "cell_type": "code",
   "execution_count": 38,
   "metadata": {},
   "outputs": [
    {
     "data": {
      "text/plain": [
       "('english', 80)"
      ]
     },
     "execution_count": 38,
     "metadata": {},
     "output_type": "execute_result"
    }
   ],
   "source": [
    "last_item"
   ]
  },
  {
   "cell_type": "code",
   "execution_count": 39,
   "metadata": {},
   "outputs": [
    {
     "data": {
      "text/plain": [
       "{'math': 95}"
      ]
     },
     "execution_count": 39,
     "metadata": {},
     "output_type": "execute_result"
    }
   ],
   "source": [
    "grade_book"
   ]
  },
  {
   "cell_type": "markdown",
   "metadata": {},
   "source": [
    "### <a id='toc3_4_'></a>[Clearing All Items](#toc0_)\n"
   ]
  },
  {
   "cell_type": "markdown",
   "metadata": {},
   "source": [
    "To remove all items from a dictionary, effectively resetting it to an empty dictionary, you can use the `.clear()` method:\n"
   ]
  },
  {
   "cell_type": "code",
   "execution_count": 40,
   "metadata": {},
   "outputs": [],
   "source": [
    "# Clearing all items from the dictionary\n",
    "grade_book.clear()"
   ]
  },
  {
   "cell_type": "code",
   "execution_count": 41,
   "metadata": {},
   "outputs": [
    {
     "data": {
      "text/plain": [
       "{}"
      ]
     },
     "execution_count": 41,
     "metadata": {},
     "output_type": "execute_result"
    }
   ],
   "source": [
    "grade_book"
   ]
  },
  {
   "cell_type": "markdown",
   "metadata": {},
   "source": [
    "After calling `.clear()`, the `grade_book` dictionary is empty, but the dictionary object itself still exists.\n"
   ]
  },
  {
   "cell_type": "markdown",
   "metadata": {},
   "source": [
    "### <a id='toc3_5_'></a>[Conclusion](#toc0_)\n"
   ]
  },
  {
   "cell_type": "markdown",
   "metadata": {},
   "source": [
    "Manipulating the contents of a dictionary includes not only adding and updating but also the ability to remove items. Whether you're removing single items using `del` or `.pop()`, extracting the last item using `.popitem()`, or clearing the entire dictionary with `.clear()`, these tools are essential in managing collections of data in Python.\n"
   ]
  },
  {
   "cell_type": "markdown",
   "metadata": {},
   "source": [
    "Now that we've explored the fundamental manipulation techniques for dictionaries, the ability to manage this dynamic data type in Python will be greatly enhanced. In upcoming sections, we will delve further into more advanced operations and best practices for using dictionaries."
   ]
  },
  {
   "cell_type": "markdown",
   "metadata": {},
   "source": [
    "<img src=\"../images/exercise-banner.gif\" width=\"800\">"
   ]
  },
  {
   "cell_type": "markdown",
   "metadata": {},
   "source": [
    "## <a id='toc4_'></a>[Practice Exercise](#toc0_)\n",
    "\n",
    "To reinforce the concepts we've covered about dictionaries in Python, let's work through an exercise. These will test your understanding of dictionary creation, manipulation, and data retrieval.\n",
    "\n",
    "1. **Create a Dictionary**:\n",
    "   - Instantiate a dictionary `book_genre` that maps book titles to their respective genres. Add at least three key-value pairs to it.\n",
    "   - Example: One pair could be \"To Kill a Mockingbird\": \"Classic Fiction\".\n",
    "\n",
    "2. **Retrieve and Print**:\n",
    "   - Given the `book_genre` dictionary, print the genre of \"To Kill a Mockingbird\". What happens if you try to print the genre of a book not present in your dictionary?\n",
    "\n",
    "3. **Updating Dictionary Values**:\n",
    "   - For the `book_genre` dictionary, update the genre of one of your books to \"Literary Fiction\".\n",
    "   - Add a new book and its genre to the dictionary.\n",
    "\n",
    "4. **Remove Items**:\n",
    "   - From the `book_genre` dictionary, remove a book of your choice using the `pop()` method and display the removed genre.\n",
    "   - Use the `del` statement to remove another book. Try using the `del` statement with a non-existent key and handle the `KeyError` with a try-except block.\n",
    "\n",
    "5. **Iterating Over a Dictionary**:\n",
    "   - Create and print a list of all book titles (keys) in the `book_genre` dictionary.\n",
    "   - Create and print a list of all genres (values) in the `book_genre` dictionary without any duplicates.\n",
    "\n",
    "6. **Dictionary Comprehension**:\n",
    "   - Create a dictionary `squared_numbers` using dictionary comprehension that maps numbers (1-10) to their squares.\n",
    "\n",
    "7. **Nested Dictionaries**:\n",
    "   - Create a nested dictionary `library` where each key is a genre and each value is a dictionary of books of that genre. Add at least two genres, each with at least two books.\n",
    "\n",
    "8. **Clearing a Dictionary**:\n",
    "   - Clear all contents of the `book_genre` dictionary and print its contents to confirm it's empty."
   ]
  }
 ],
 "metadata": {
  "kernelspec": {
   "display_name": "py310",
   "language": "python",
   "name": "python3"
  },
  "language_info": {
   "codemirror_mode": {
    "name": "ipython",
    "version": 3
   },
   "file_extension": ".py",
   "mimetype": "text/x-python",
   "name": "python",
   "nbconvert_exporter": "python",
   "pygments_lexer": "ipython3",
   "version": "3.10.12"
  }
 },
 "nbformat": 4,
 "nbformat_minor": 2
}
