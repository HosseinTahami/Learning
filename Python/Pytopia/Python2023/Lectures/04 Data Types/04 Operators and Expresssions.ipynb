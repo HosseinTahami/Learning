{
 "cells": [
  {
   "cell_type": "markdown",
   "metadata": {},
   "source": [
    "<img src=\"./images/banner.png\" width=\"800\">"
   ]
  },
  {
   "cell_type": "markdown",
   "metadata": {},
   "source": [
    "# Operators and Expressions"
   ]
  },
  {
   "cell_type": "markdown",
   "metadata": {},
   "source": [
    "In the world of programming, operators and expressions are fundamental building blocks that allow us to perform operations on data and evaluate results. Just as in mathematics, where we use symbols like `+`, `-`, and `=` to perform operations and derive results, in programming, we use operators to manipulate data and derive outcomes."
   ]
  },
  {
   "cell_type": "markdown",
   "metadata": {},
   "source": [
    "**Operators** are special symbols in Python that carry out arithmetic, logical, or relational computations. They act as a bridge, connecting values and variables to produce a desired result."
   ]
  },
  {
   "cell_type": "markdown",
   "metadata": {},
   "source": [
    "**Expressions**, on the other hand, are combinations of values, variables, and operators that, when evaluated, produce a result. Think of them as mathematical equations that the computer solves to give us an answer."
   ]
  },
  {
   "cell_type": "markdown",
   "metadata": {},
   "source": [
    "For example, in the expression `3 + 4`, `3` and `4` are values, `+` is an operator, and the whole equation is an expression that evaluates to `7`."
   ]
  },
  {
   "cell_type": "markdown",
   "metadata": {},
   "source": [
    "Throughout this lecture, we will dive deep into the various types of operators available in Python, understand their functionalities, and learn how to craft meaningful expressions to solve real-world problems. Whether you're calculating the total price of items in a shopping cart, comparing data values, or checking conditions to make decisions in your code, understanding operators and expressions is crucial.\n"
   ]
  },
  {
   "cell_type": "markdown",
   "metadata": {},
   "source": [
    "So, let's embark on this exciting journey and unravel the power of operators and expressions in Python!\n"
   ]
  },
  {
   "cell_type": "markdown",
   "metadata": {},
   "source": [
    "**Table of contents**<a id='toc0_'></a>    \n",
    "- [Basic Arithmetic Operators](#toc1_)    \n",
    "- [Comparison Operators](#toc2_)    \n",
    "- [Logical Operators](#toc3_)    \n",
    "- [Assignment Operators](#toc4_)    \n",
    "- [Membership Operators](#toc5_)    \n",
    "- [(Optional) Bitwise Operators](#toc6_)    \n",
    "- [Operator Precedence and Associativity](#toc7_)    \n",
    "  - [Operator Precedence](#toc7_1_)    \n",
    "  - [Associativity](#toc7_2_)    \n",
    "- [Building Complex Expressions](#toc8_)    \n",
    "  - [1. Start Simple](#toc8_1_)    \n",
    "  - [2 Use Parentheses](#toc8_2_)    \n",
    "  - [Avoid Overcomplicating](#toc8_3_)    \n",
    "  - [Use Descriptive Variable Names](#toc8_4_)    \n",
    "  - [Test Each Part](#toc8_5_)    \n",
    "  - [Comment Your Code](#toc8_6_)    \n",
    "  - [Stay Updated with Language Features](#toc8_7_)    \n",
    "- [Conclusion](#toc9_)    \n",
    "\n",
    "<!-- vscode-jupyter-toc-config\n",
    "\tnumbering=false\n",
    "\tanchor=true\n",
    "\tflat=false\n",
    "\tminLevel=2\n",
    "\tmaxLevel=6\n",
    "\t/vscode-jupyter-toc-config -->\n",
    "<!-- THIS CELL WILL BE REPLACED ON TOC UPDATE. DO NOT WRITE YOUR TEXT IN THIS CELL -->"
   ]
  },
  {
   "cell_type": "markdown",
   "metadata": {},
   "source": [
    "## <a id='toc1_'></a>[Basic Arithmetic Operators](#toc0_)"
   ]
  },
  {
   "cell_type": "markdown",
   "metadata": {},
   "source": [
    "\n",
    "Arithmetic operators are the most commonly used operators in programming. They allow us to perform basic mathematical operations, just like we do in everyday math.\n"
   ]
  },
  {
   "cell_type": "markdown",
   "metadata": {},
   "source": [
    "\n",
    "Here's a breakdown of the basic arithmetic operators available in Python:\n",
    "\n",
    "1. **Addition (`+`)**:\n",
    "   - Adds values on either side of the operator.\n",
    "   - Example: `5 + 3` results in `8`.\n",
    "\n",
    "2. **Subtraction (`-`)**:\n",
    "   - Subtracts the right-hand operand from the left-hand operand.\n",
    "   - Example: `9 - 4` results in `5`.\n",
    "\n",
    "3. **Multiplication (`*`)**:\n",
    "   - Multiplies values on either side of the operator.\n",
    "   - Example: `6 * 7` results in `42`.\n",
    "\n",
    "4. **Division (`/`)**:\n",
    "   - Divides the left-hand operand by the right-hand operand.\n",
    "   - Example: `8 / 2` results in `4.0`.\n",
    "\n",
    "5. **Floor Division (`//`)**:\n",
    "   - Divides the left operand by the right operand, rounding down the result to the nearest whole number.\n",
    "   - Example: `7 // 3` results in `2`.\n",
    "\n",
    "6. **Modulus (`%`)**:\n",
    "   - Returns the remainder of the division of the left operand by the right operand.\n",
    "   - Example: `7 % 3` results in `1`.\n",
    "\n",
    "7. **Exponentiation (`**`)**:\n",
    "   - Raises the left operand to the power of the right operand.\n",
    "   - Example: `3 ** 2` results in `9`.\n",
    "\n",
    "8. **Unary Minus (`-`)**:\n",
    "   - Negates the value of the operand.\n",
    "   - Example: `-5` results in `-5`.\n"
   ]
  },
  {
   "cell_type": "code",
   "execution_count": 1,
   "metadata": {},
   "outputs": [
    {
     "data": {
      "text/plain": [
       "8"
      ]
     },
     "execution_count": 1,
     "metadata": {},
     "output_type": "execute_result"
    }
   ],
   "source": [
    "5 + 3"
   ]
  },
  {
   "cell_type": "code",
   "execution_count": 2,
   "metadata": {},
   "outputs": [
    {
     "data": {
      "text/plain": [
       "5"
      ]
     },
     "execution_count": 2,
     "metadata": {},
     "output_type": "execute_result"
    }
   ],
   "source": [
    "9 - 4"
   ]
  },
  {
   "cell_type": "code",
   "execution_count": 3,
   "metadata": {},
   "outputs": [
    {
     "data": {
      "text/plain": [
       "42"
      ]
     },
     "execution_count": 3,
     "metadata": {},
     "output_type": "execute_result"
    }
   ],
   "source": [
    "6 * 7"
   ]
  },
  {
   "cell_type": "code",
   "execution_count": 4,
   "metadata": {},
   "outputs": [
    {
     "data": {
      "text/plain": [
       "4.0"
      ]
     },
     "execution_count": 4,
     "metadata": {},
     "output_type": "execute_result"
    }
   ],
   "source": [
    "8 / 2"
   ]
  },
  {
   "cell_type": "code",
   "execution_count": 5,
   "metadata": {},
   "outputs": [
    {
     "data": {
      "text/plain": [
       "1"
      ]
     },
     "execution_count": 5,
     "metadata": {},
     "output_type": "execute_result"
    }
   ],
   "source": [
    "10 % 3"
   ]
  },
  {
   "cell_type": "code",
   "execution_count": 6,
   "metadata": {},
   "outputs": [
    {
     "data": {
      "text/plain": [
       "9"
      ]
     },
     "execution_count": 6,
     "metadata": {},
     "output_type": "execute_result"
    }
   ],
   "source": [
    "3 ** 2"
   ]
  },
  {
   "cell_type": "code",
   "execution_count": 7,
   "metadata": {},
   "outputs": [
    {
     "data": {
      "text/plain": [
       "2"
      ]
     },
     "execution_count": 7,
     "metadata": {},
     "output_type": "execute_result"
    }
   ],
   "source": [
    "7 // 3"
   ]
  },
  {
   "cell_type": "markdown",
   "metadata": {},
   "source": [
    "\n",
    "These operators provide the foundation for performing mathematical calculations in our programs. Whether you're building a simple calculator app, analyzing data, or solving complex problems, understanding and using these operators effectively is essential.\n"
   ]
  },
  {
   "cell_type": "markdown",
   "metadata": {},
   "source": [
    "## <a id='toc2_'></a>[Comparison Operators](#toc0_)"
   ]
  },
  {
   "cell_type": "markdown",
   "metadata": {},
   "source": [
    "\n",
    "Comparison operators, as the name suggests, allow us to compare two values. They are fundamental in decision-making processes in programming, as they help determine the flow of a program based on certain conditions. The result of a comparison is always a Boolean value, either `True` or `False`.\n"
   ]
  },
  {
   "cell_type": "markdown",
   "metadata": {},
   "source": [
    "\n",
    "Here's an overview of the comparison operators in Python:\n",
    "\n",
    "1. **Equal to (`==`)**:\n",
    "   - Checks if the values of two operands are equal.\n",
    "   - Example: `5 == 5` returns `True`, while `5 == 4` returns `False`.\n",
    "\n",
    "2. **Not equal to (`!=`)**:\n",
    "   - Checks if the values of two operands are not equal.\n",
    "   - Example: `3 != 4` returns `True`, while `7 != 7` returns `False`.\n",
    "\n",
    "3. **Greater than (`>`)**:\n",
    "   - Checks if the value of the left operand is greater than the value of the right operand.\n",
    "   - Example: `9 > 6` returns `True`, while `4 > 5` returns `False`.\n",
    "\n",
    "4. **Less than (`<`)**:\n",
    "   - Checks if the value of the left operand is less than the value of the right operand.\n",
    "   - Example: `2 < 8` returns `True`, while `7 < 3` returns `False`.\n",
    "\n",
    "5. **Greater than or equal to (`>=`)**:\n",
    "   - Checks if the value of the left operand is greater than or equal to the value of the right operand.\n",
    "   - Example: `6 >= 6` returns `True`, while `5 >= 7` returns `False`.\n",
    "\n",
    "6. **Less than or equal to (`<=`)**:\n",
    "   - Checks if the value of the left operand is less than or equal to the value of the right operand.\n",
    "   - Example: `3 <= 4` returns `True`, while `8 <= 7` returns `False`.\n"
   ]
  },
  {
   "cell_type": "code",
   "execution_count": 8,
   "metadata": {},
   "outputs": [
    {
     "data": {
      "text/plain": [
       "False"
      ]
     },
     "execution_count": 8,
     "metadata": {},
     "output_type": "execute_result"
    }
   ],
   "source": [
    "5 == 4"
   ]
  },
  {
   "cell_type": "code",
   "execution_count": 10,
   "metadata": {},
   "outputs": [
    {
     "data": {
      "text/plain": [
       "True"
      ]
     },
     "execution_count": 10,
     "metadata": {},
     "output_type": "execute_result"
    }
   ],
   "source": [
    "3 != 4"
   ]
  },
  {
   "cell_type": "code",
   "execution_count": 11,
   "metadata": {},
   "outputs": [
    {
     "data": {
      "text/plain": [
       "True"
      ]
     },
     "execution_count": 11,
     "metadata": {},
     "output_type": "execute_result"
    }
   ],
   "source": [
    "9 > 6"
   ]
  },
  {
   "cell_type": "code",
   "execution_count": 12,
   "metadata": {},
   "outputs": [
    {
     "data": {
      "text/plain": [
       "True"
      ]
     },
     "execution_count": 12,
     "metadata": {},
     "output_type": "execute_result"
    }
   ],
   "source": [
    "2 < 8"
   ]
  },
  {
   "cell_type": "code",
   "execution_count": 13,
   "metadata": {},
   "outputs": [
    {
     "data": {
      "text/plain": [
       "True"
      ]
     },
     "execution_count": 13,
     "metadata": {},
     "output_type": "execute_result"
    }
   ],
   "source": [
    "6 >= 6"
   ]
  },
  {
   "cell_type": "code",
   "execution_count": 14,
   "metadata": {},
   "outputs": [
    {
     "data": {
      "text/plain": [
       "True"
      ]
     },
     "execution_count": 14,
     "metadata": {},
     "output_type": "execute_result"
    }
   ],
   "source": [
    "3 <= 4"
   ]
  },
  {
   "cell_type": "markdown",
   "metadata": {},
   "source": [
    "\n",
    "Comparison operators play a crucial role in control structures like `if`, `elif`, and `else` statements, as well as loops. They enable our programs to make decisions and take different actions based on specific conditions, making our code dynamic and responsive to different scenarios.\n"
   ]
  },
  {
   "cell_type": "markdown",
   "metadata": {},
   "source": [
    "## <a id='toc3_'></a>[Logical Operators](#toc0_)"
   ]
  },
  {
   "cell_type": "markdown",
   "metadata": {},
   "source": [
    "Logical operators are used to combine multiple conditions and determine the truth value of an expression. They are essential for making complex decisions in our code based on multiple criteria.\n"
   ]
  },
  {
   "cell_type": "markdown",
   "metadata": {},
   "source": [
    "Here's a breakdown of the logical operators in Python:\n",
    "\n",
    "1. **AND (`and`)**:\n",
    "   - Returns `True` if both the operands are true.\n",
    "   - Example: `(5 > 3) and (6 < 9)` returns `True`.\n",
    "\n",
    "2. **OR (`or`)**:\n",
    "   - Returns `True` if at least one of the operands is true.\n",
    "   - Example: `(5 < 3) or (6 < 9)` returns `True`.\n",
    "\n",
    "3. **NOT (`not`)**:\n",
    "   - Inverts the truth value of the operand.\n",
    "   - Example: `not(5 > 3)` returns `False`.\n"
   ]
  },
  {
   "cell_type": "markdown",
   "metadata": {},
   "source": [
    "Here are some key points to remember about logical operators:\n",
    "\n",
    "- The `and` operator evaluates the left operand first. If it's `False`, the whole expression is `False`, and the right operand is not evaluated. This is known as short-circuit evaluation.\n",
    "  \n",
    "- Similarly, the `or` operator evaluates the left operand first. If it's `True`, the whole expression is `True`, and the right operand is not evaluated.\n",
    "\n",
    "- The `not` operator has the highest precedence among logical operators, followed by `and`, and then `or`.\n"
   ]
  },
  {
   "cell_type": "code",
   "execution_count": 16,
   "metadata": {},
   "outputs": [
    {
     "data": {
      "text/plain": [
       "True"
      ]
     },
     "execution_count": 16,
     "metadata": {},
     "output_type": "execute_result"
    }
   ],
   "source": [
    "(5 > 3) and (6 < 9)"
   ]
  },
  {
   "cell_type": "code",
   "execution_count": 17,
   "metadata": {},
   "outputs": [
    {
     "data": {
      "text/plain": [
       "True"
      ]
     },
     "execution_count": 17,
     "metadata": {},
     "output_type": "execute_result"
    }
   ],
   "source": [
    "(5 < 3 ) or (6 < 9)"
   ]
  },
  {
   "cell_type": "code",
   "execution_count": 18,
   "metadata": {},
   "outputs": [
    {
     "data": {
      "text/plain": [
       "False"
      ]
     },
     "execution_count": 18,
     "metadata": {},
     "output_type": "execute_result"
    }
   ],
   "source": [
    "not (5 > 3)"
   ]
  },
  {
   "cell_type": "markdown",
   "metadata": {},
   "source": [
    "Logical operators are crucial for building complex conditions in our code. They allow us to combine multiple conditions and make decisions based on the combined result. This capability is especially useful in conditional statements, loops, and filtering data based on multiple criteria\n"
   ]
  },
  {
   "cell_type": "markdown",
   "metadata": {},
   "source": [
    "## <a id='toc4_'></a>[Assignment Operators](#toc0_)"
   ]
  },
  {
   "cell_type": "markdown",
   "metadata": {},
   "source": [
    "\n",
    "Assignment operators are used to assign values to variables. They can also perform certain operations and simultaneously update the value of a variable. This makes our code more concise and easier to read.\n"
   ]
  },
  {
   "cell_type": "markdown",
   "metadata": {},
   "source": [
    "\n",
    "Here's a summary of the assignment operators in Python:\n",
    "\n",
    "1. **Equal (`=`)**:\n",
    "   - Assigns the value of the right operand to the left operand.\n",
    "   - Example: `x = 5` assigns the value `5` to the variable `x`.\n",
    "\n",
    "2. **Add and assign (`+=`)**:\n",
    "   - Adds the right operand to the left operand and assigns the result to the left operand.\n",
    "   - Example: `x += 3` is equivalent to `x = x + 3`.\n",
    "\n",
    "3. **Subtract and assign (`-=`)**:\n",
    "   - Subtracts the right operand from the left operand and assigns the result to the left operand.\n",
    "   - Example: `x -= 2` is equivalent to `x = x - 2`.\n",
    "\n",
    "4. **Multiply and assign (`*=`)**:\n",
    "   - Multiplies the left operand by the right operand and assigns the result to the left operand.\n",
    "   - Example: `x *= 4` is equivalent to `x = x * 4`.\n",
    "\n",
    "5. **Divide and assign (`/=`)**:\n",
    "   - Divides the left operand by the right operand and assigns the result to the left operand.\n",
    "   - Example: `x /= 2` is equivalent to `x = x / 2`.\n",
    "\n",
    "6. **Floor divide and assign (`//=`)**:\n",
    "   - Performs floor division on operands and assigns the result to the left operand.\n",
    "   - Example: `x //= 3` is equivalent to `x = x // 3`.\n",
    "\n",
    "7. **Modulus and assign (`%=`)**:\n",
    "   - Takes the modulus of the left operand by the right operand and assigns the result to the left operand.\n",
    "   - Example: `x %= 4` is equivalent to `x = x % 4`.\n",
    "\n",
    "8. **Exponent and assign (`**=`)**:\n",
    "   - Raises the left operand to the power of the right operand and assigns the result to the left operand.\n",
    "   - Example: `x **= 2` is equivalent to `x = x ** 2`.\n"
   ]
  },
  {
   "cell_type": "code",
   "execution_count": 32,
   "metadata": {},
   "outputs": [],
   "source": [
    "x = 5"
   ]
  },
  {
   "cell_type": "code",
   "execution_count": 33,
   "metadata": {},
   "outputs": [],
   "source": [
    "x += 3"
   ]
  },
  {
   "cell_type": "code",
   "execution_count": 34,
   "metadata": {},
   "outputs": [
    {
     "data": {
      "text/plain": [
       "8"
      ]
     },
     "execution_count": 34,
     "metadata": {},
     "output_type": "execute_result"
    }
   ],
   "source": [
    "x"
   ]
  },
  {
   "cell_type": "code",
   "execution_count": 35,
   "metadata": {},
   "outputs": [],
   "source": [
    "x -= 2"
   ]
  },
  {
   "cell_type": "code",
   "execution_count": 36,
   "metadata": {},
   "outputs": [
    {
     "data": {
      "text/plain": [
       "6"
      ]
     },
     "execution_count": 36,
     "metadata": {},
     "output_type": "execute_result"
    }
   ],
   "source": [
    "x"
   ]
  },
  {
   "cell_type": "code",
   "execution_count": 37,
   "metadata": {},
   "outputs": [],
   "source": [
    "x *= 4"
   ]
  },
  {
   "cell_type": "code",
   "execution_count": 38,
   "metadata": {},
   "outputs": [
    {
     "data": {
      "text/plain": [
       "24"
      ]
     },
     "execution_count": 38,
     "metadata": {},
     "output_type": "execute_result"
    }
   ],
   "source": [
    "x"
   ]
  },
  {
   "cell_type": "code",
   "execution_count": 39,
   "metadata": {},
   "outputs": [],
   "source": [
    "x /= 2"
   ]
  },
  {
   "cell_type": "code",
   "execution_count": 40,
   "metadata": {},
   "outputs": [
    {
     "data": {
      "text/plain": [
       "12.0"
      ]
     },
     "execution_count": 40,
     "metadata": {},
     "output_type": "execute_result"
    }
   ],
   "source": [
    "x"
   ]
  },
  {
   "cell_type": "code",
   "execution_count": 41,
   "metadata": {},
   "outputs": [],
   "source": [
    "x //= 3"
   ]
  },
  {
   "cell_type": "code",
   "execution_count": 42,
   "metadata": {},
   "outputs": [
    {
     "data": {
      "text/plain": [
       "4.0"
      ]
     },
     "execution_count": 42,
     "metadata": {},
     "output_type": "execute_result"
    }
   ],
   "source": [
    "x"
   ]
  },
  {
   "cell_type": "code",
   "execution_count": 43,
   "metadata": {},
   "outputs": [],
   "source": [
    "x %= 4"
   ]
  },
  {
   "cell_type": "code",
   "execution_count": 44,
   "metadata": {},
   "outputs": [
    {
     "data": {
      "text/plain": [
       "0.0"
      ]
     },
     "execution_count": 44,
     "metadata": {},
     "output_type": "execute_result"
    }
   ],
   "source": [
    "x"
   ]
  },
  {
   "cell_type": "code",
   "execution_count": 45,
   "metadata": {},
   "outputs": [],
   "source": [
    "x **= 2"
   ]
  },
  {
   "cell_type": "code",
   "execution_count": 46,
   "metadata": {},
   "outputs": [
    {
     "data": {
      "text/plain": [
       "0.0"
      ]
     },
     "execution_count": 46,
     "metadata": {},
     "output_type": "execute_result"
    }
   ],
   "source": [
    "x"
   ]
  },
  {
   "cell_type": "markdown",
   "metadata": {},
   "source": [
    "\n",
    "Assignment operators simplify our code by allowing us to perform operations and update variable values in a single step. They are especially useful in loops and repetitive tasks where variables need frequent updates.\n"
   ]
  },
  {
   "cell_type": "markdown",
   "metadata": {},
   "source": [
    "## <a id='toc5_'></a>[Membership Operators](#toc0_)"
   ]
  },
  {
   "cell_type": "markdown",
   "metadata": {},
   "source": [
    "Membership operators are used to test whether a value is a member of a sequence, such as a list, tuple, string, or set. They allow us to quickly check for the presence or absence of a specific value in a collection.\n"
   ]
  },
  {
   "cell_type": "markdown",
   "metadata": {},
   "source": [
    "Here's an overview of the membership operators in Python:\n",
    "\n",
    "1. **`in`**:\n",
    "   - Returns `True` if a value is found in the sequence.\n",
    "   - Example: `'a' in 'hello'` returns `False`.\n",
    "\n",
    "2. **`not in`**:\n",
    "   - Returns `True` if a value is not found in the sequence.\n",
    "   - Example: `'h' not in 'hello'` returns `False`.\n"
   ]
  },
  {
   "cell_type": "markdown",
   "metadata": {},
   "source": [
    "Here are some key points to remember about membership operators:\n",
    "\n",
    "- Membership operators are especially useful in conditional statements to make decisions based on the presence or absence of specific values in collections.\n",
    "\n",
    "- They provide a concise way to check for membership without the need for loops or other more complex methods.\n"
   ]
  },
  {
   "cell_type": "code",
   "execution_count": 47,
   "metadata": {},
   "outputs": [
    {
     "data": {
      "text/plain": [
       "False"
      ]
     },
     "execution_count": 47,
     "metadata": {},
     "output_type": "execute_result"
    }
   ],
   "source": [
    "'a' in 'hello'"
   ]
  },
  {
   "cell_type": "code",
   "execution_count": 48,
   "metadata": {},
   "outputs": [
    {
     "data": {
      "text/plain": [
       "False"
      ]
     },
     "execution_count": 48,
     "metadata": {},
     "output_type": "execute_result"
    }
   ],
   "source": [
    "'h' not in 'hello'"
   ]
  },
  {
   "cell_type": "markdown",
   "metadata": {},
   "source": [
    "In summary, membership operators offer a straightforward way to test for the presence of specific values in collections, making our code more readable and efficient.\n"
   ]
  },
  {
   "cell_type": "markdown",
   "metadata": {},
   "source": [
    "## <a id='toc6_'></a>[(Optional) Bitwise Operators](#toc0_)"
   ]
  },
  {
   "cell_type": "markdown",
   "metadata": {},
   "source": [
    "\n",
    "Bitwise operators act on numbers (integers) at the binary level. This means they operate on the individual bits of a number, making them essential for low-level programming tasks, such as systems programming or embedded systems.\n"
   ]
  },
  {
   "cell_type": "markdown",
   "metadata": {},
   "source": [
    "\n",
    "Here's a breakdown of the bitwise operators in Python:\n",
    "\n",
    "1. **Bitwise AND (`&`)**:\n",
    "   - Performs a binary AND operation on the corresponding bits of two integers.\n",
    "   - Example: `5 & 3` (in binary: `101 & 011`) results in `1` (in binary: `001`).\n",
    "\n",
    "2. **Bitwise OR (`|`)**:\n",
    "   - Performs a binary OR operation on the corresponding bits of two integers.\n",
    "   - Example: `5 | 3` (in binary: `101 | 011`) results in `7` (in binary: `111`).\n",
    "\n",
    "3. **Bitwise XOR (`^`)**:\n",
    "   - Performs a binary XOR operation on the corresponding bits of two integers.\n",
    "   - Example: `5 ^ 3` (in binary: `101 ^ 011`) results in `6` (in binary: `110`).\n",
    "\n",
    "4. **Bitwise NOT (`~`)**:\n",
    "   - Inverts all the bits of the integer.\n",
    "   - Example: `~5` (in binary: `~101`) results in `-6` (in binary: `-110`).\n",
    "\n",
    "5. **Left Shift (`<<`)**:\n",
    "   - Shifts the bits of the number to the left by the specified number of positions.\n",
    "   - Example: `5 << 1` (in binary: `101 << 1`) results in `10` (in binary: `1010`).\n",
    "\n",
    "6. **Right Shift (`>>`)**:\n",
    "   - Shifts the bits of the number to the right by the specified number of positions.\n",
    "   - Example: `5 >> 1` (in binary: `101 >> 1`) results in `2` (in binary: `10`).\n"
   ]
  },
  {
   "cell_type": "markdown",
   "metadata": {},
   "source": [
    "\n",
    "Understanding bitwise operators can be a bit challenging if you're not familiar with binary arithmetic. However, they are powerful tools for tasks that require direct manipulation of bits, such as cryptography, network protocols, or hardware interfacing. While they might not be used frequently in high-level application development, having a grasp of how they work can be beneficial in specific scenarios.\n"
   ]
  },
  {
   "cell_type": "markdown",
   "metadata": {},
   "source": [
    "## <a id='toc7_'></a>[Operator Precedence and Associativity](#toc0_)"
   ]
  },
  {
   "cell_type": "markdown",
   "metadata": {},
   "source": [
    "In Python, as in many programming languages, not all operators are created equal. Some operators have higher precedence than others, meaning they are evaluated before others in an expression. Understanding operator precedence and associativity is crucial to correctly interpret and write expressions, especially complex ones.\n"
   ]
  },
  {
   "cell_type": "markdown",
   "metadata": {},
   "source": [
    "### <a id='toc7_1_'></a>[Operator Precedence](#toc0_)\n"
   ]
  },
  {
   "cell_type": "markdown",
   "metadata": {},
   "source": [
    "Operator precedence determines the order in which operators are evaluated in an expression. Operators with higher precedence are evaluated before those with lower precedence. Here's a general order of operator precedence in Python, from highest to lowest:\n",
    "\n",
    "1. Parentheses `()`\n",
    "2. Exponentiation `**`\n",
    "3. Unary operators `+`, `-` (positive, negative)\n",
    "4. Multiplication, Division, Floor Division, and Modulus `*`, `/`, `//`, `%`\n",
    "5. Addition and Subtraction `+`, `-`\n",
    "6. Relational Operators `==`, `!=`, `<`, `<=`, `>`, `>=`\n",
    "7. Membership Operators `in`, `not in`\n",
    "8. Identity Operators `is`, `is not`\n",
    "9. Logical NOT `not`\n",
    "10. Logical AND `and`\n",
    "11. Logical OR `or`\n"
   ]
  },
  {
   "cell_type": "markdown",
   "metadata": {},
   "source": [
    "### <a id='toc7_2_'></a>[Associativity](#toc0_)"
   ]
  },
  {
   "cell_type": "markdown",
   "metadata": {},
   "source": [
    "Associativity determines the order in which operators of the same precedence are evaluated. Most operators in Python are left-associative, meaning they are evaluated from left to right. However, there are exceptions:\n",
    "\n",
    "- The exponentiation operator `**` is right-associative. For example, in the expression `2 ** 3 ** 2`, the rightmost `**` is evaluated first, resulting in `2 ** 9`, which equals `512`.\n"
   ]
  },
  {
   "cell_type": "markdown",
   "metadata": {},
   "source": [
    "Here are some key points to remember:\n",
    "\n",
    "- Always use parentheses `()` to make the order of operations explicit in complex expressions. This not only ensures the correct evaluation but also makes the code more readable.\n",
    "\n",
    "- While it's essential to know the precedence and associativity rules, relying too much on them without using parentheses can make the code harder to understand for others (and even for you after some time).\n",
    "\n",
    "- When in doubt, use parentheses!\n"
   ]
  },
  {
   "cell_type": "markdown",
   "metadata": {},
   "source": [
    "In summary, understanding operator precedence and associativity is vital for writing and interpreting expressions correctly. It ensures that operations are carried out in the intended order, leading to the expected results.\n"
   ]
  },
  {
   "cell_type": "markdown",
   "metadata": {},
   "source": [
    "## <a id='toc8_'></a>[Building Complex Expressions](#toc0_)"
   ]
  },
  {
   "cell_type": "markdown",
   "metadata": {},
   "source": [
    "\n",
    "In Python, expressions are combinations of values, variables, operators, and function calls that can be evaluated to produce a single value. As you delve deeper into programming, you'll often find the need to construct more intricate expressions to achieve specific outcomes. Building complex expressions requires a good understanding of operator precedence, associativity, and the judicious use of parentheses.\n"
   ]
  },
  {
   "cell_type": "markdown",
   "metadata": {},
   "source": [
    "### <a id='toc8_1_'></a>[1. Start Simple](#toc0_)\n",
    "- Begin by breaking down the problem into smaller, more manageable parts. Write simple expressions for each part and test them individually.\n"
   ]
  },
  {
   "cell_type": "markdown",
   "metadata": {},
   "source": [
    "### <a id='toc8_2_'></a>[2 Use Parentheses](#toc0_)\n",
    "- Always use parentheses `()` to group parts of your expression. This ensures that operations are carried out in the intended order and makes your expression easier to read.\n"
   ]
  },
  {
   "cell_type": "code",
   "execution_count": 51,
   "metadata": {},
   "outputs": [],
   "source": [
    "# Instead of:\n",
    "x = 5 + 3 * 2 - 8 / 4\n",
    "\n",
    "# Use:\n",
    "x = 5 + (3 * 2) - (8 / 4)"
   ]
  },
  {
   "cell_type": "markdown",
   "metadata": {},
   "source": [
    "### <a id='toc8_3_'></a>[Avoid Overcomplicating](#toc0_)"
   ]
  },
  {
   "cell_type": "markdown",
   "metadata": {},
   "source": [
    "\n",
    "While it's possible to write very complex one-liners, it's often better to split your expression into multiple lines or statements for clarity."
   ]
  },
  {
   "cell_type": "code",
   "execution_count": 53,
   "metadata": {},
   "outputs": [],
   "source": [
    "a, b, c, d, e, f, g = 1, 2, 3, 4, 5, 6, 7\n",
    "# Instead of:\n",
    "result = a + b * c / d - e ** f\n",
    "\n",
    "# Use:\n",
    "temp1 = b * c / d\n",
    "temp2 = e ** f\n",
    "result = a + temp1 - temp2"
   ]
  },
  {
   "cell_type": "markdown",
   "metadata": {},
   "source": [
    "### <a id='toc8_4_'></a>[Use Descriptive Variable Names](#toc0_)"
   ]
  },
  {
   "cell_type": "markdown",
   "metadata": {},
   "source": [
    "\n",
    "If you're breaking down your expression and storing intermediate results in variables, give those variables descriptive names. This makes your code self-documenting."
   ]
  },
  {
   "cell_type": "code",
   "execution_count": 54,
   "metadata": {},
   "outputs": [],
   "source": [
    "# Instead of:\n",
    "t1 = a * b\n",
    "t2 = c + d\n",
    "\n",
    "# Use:\n",
    "area = a * b\n",
    "perimeter = c + d"
   ]
  },
  {
   "cell_type": "markdown",
   "metadata": {},
   "source": [
    "### <a id='toc8_5_'></a>[Test Each Part](#toc0_)"
   ]
  },
  {
   "cell_type": "markdown",
   "metadata": {},
   "source": [
    "\n",
    "As you build your complex expression, test each part separately. This helps in catching errors early and ensures that each component works as expected."
   ]
  },
  {
   "cell_type": "markdown",
   "metadata": {},
   "source": [
    "### <a id='toc8_6_'></a>[Comment Your Code](#toc0_)"
   ]
  },
  {
   "cell_type": "markdown",
   "metadata": {},
   "source": [
    "If a particular part of your expression is not straightforward, add a comment explaining what it does. This helps others (and your future self) understand your code better. Comments start with the `#` symbol and are ignored by the Python interpreter. For example:\n",
    "\n",
    "```python\n",
    "# Calculate the total price of items in a shopping cart\n",
    "subtotal = 100\n",
    "tax = 5\n",
    "shipping = 10\n",
    "total = subtotal + tax + shipping\n",
    "```"
   ]
  },
  {
   "cell_type": "markdown",
   "metadata": {},
   "source": [
    "### <a id='toc8_7_'></a>[Stay Updated with Language Features](#toc0_)"
   ]
  },
  {
   "cell_type": "markdown",
   "metadata": {},
   "source": [
    "\n",
    "Python and other programming languages often introduce new operators or functions that can simplify complex expressions. Stay updated with the language's documentation."
   ]
  },
  {
   "cell_type": "markdown",
   "metadata": {},
   "source": [
    "\n",
    "Building complex expressions is an art. While it's essential to get the desired result, it's equally important to write expressions that are readable and maintainable. Always prioritize clarity over cleverness."
   ]
  },
  {
   "cell_type": "markdown",
   "metadata": {},
   "source": [
    "## <a id='toc9_'></a>[Conclusion](#toc0_)"
   ]
  },
  {
   "cell_type": "markdown",
   "metadata": {},
   "source": [
    "Throughout this lecture, we explored the diverse range of operators available in Python. These operators are the building blocks that allow us to perform various operations, make decisions, and manipulate data in our programs. Let's recap what we've learned:\n",
    "\n",
    "- **Basic Arithmetic Operators**: These are the foundational operators for performing mathematical calculations. From simple addition and subtraction to more complex operations like exponentiation, they are essential for any numerical computation.\n",
    "\n",
    "- **Comparison Operators**: These operators allow us to compare two values and determine their relationship. They are crucial for making decisions in our code and controlling the flow of our programs.\n",
    "\n",
    "- **Logical Operators**: Logical operators like `and`, `or`, and `not` enable us to combine multiple conditions and make decisions based on multiple criteria. They are vital for complex conditional statements.\n",
    "\n",
    "- **Assignment Operators**: Beyond the basic assignment (`=`), we have compound assignment operators like `+=` and `*=` that allow us to update variable values in a concise manner.\n",
    "\n",
    "- **Membership Operators**: With `in` and `not in`, we can check for the presence of a value within a collection, such as a list or a string. These operators are especially useful when working with data structures.\n"
   ]
  },
  {
   "cell_type": "markdown",
   "metadata": {},
   "source": [
    "In summary, understanding and effectively using these operators is key to writing efficient and clear Python code. As you continue your Python journey, practice and experimentation will deepen your grasp of these concepts, enabling you to tackle more complex problems with ease.\n"
   ]
  }
 ],
 "metadata": {
  "kernelspec": {
   "display_name": "py310",
   "language": "python",
   "name": "python3"
  },
  "language_info": {
   "codemirror_mode": {
    "name": "ipython",
    "version": 3
   },
   "file_extension": ".py",
   "mimetype": "text/x-python",
   "name": "python",
   "nbconvert_exporter": "python",
   "pygments_lexer": "ipython3",
   "version": "3.10.12"
  },
  "orig_nbformat": 4
 },
 "nbformat": 4,
 "nbformat_minor": 2
}
