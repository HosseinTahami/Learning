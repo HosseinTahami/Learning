{
 "cells": [
  {
   "cell_type": "markdown",
   "metadata": {},
   "source": [
    "<img src=\"./images/composite-data-types-banner.png\" width=\"800\">"
   ]
  },
  {
   "cell_type": "markdown",
   "metadata": {},
   "source": [
    "# Dictionary in Python"
   ]
  },
  {
   "cell_type": "markdown",
   "metadata": {},
   "source": [
    "\n",
    "Welcome to this section of our Python programming lecture where we will dive into one of the most powerful data types available in the language: dictionaries. In this introduction, we will understand what dictionaries are, how they work, and what sets them apart from other data structures you may already be familiar with.\n"
   ]
  },
  {
   "cell_type": "markdown",
   "metadata": {},
   "source": [
    "A dictionary in Python is an unordered collection of items. While other compound data types like lists and tuples use integers as indices, dictionaries use a key-value pairing system. This key-value pair forms the fundamental aspect of the dictionary, where the key acts as the unique identifier for accessing the associated value.\n"
   ]
  },
  {
   "cell_type": "markdown",
   "metadata": {},
   "source": [
    "<img src=\"./images/dict.png\" width=\"600\">"
   ]
  },
  {
   "cell_type": "markdown",
   "metadata": {},
   "source": [
    "**Table of contents**<a id='toc0_'></a>    \n",
    "- [Characteristics of Python Dictionaries](#toc1_)    \n",
    "- [Dictionaries vs Lists](#toc2_)    \n",
    "- [Why Use Dictionaries?](#toc3_)    \n",
    "- [Creating Dictionaries in Python](#toc4_)    \n",
    "  - [Basic Syntax for Dictionary Creation](#toc4_1_)    \n",
    "  - [Empty Dictionary](#toc4_2_)    \n",
    "  - [Dictionary Initialization with Values](#toc4_3_)    \n",
    "    - [Using `dict()` Constructor](#toc4_3_1_)    \n",
    "  - [A Note on Keys](#toc4_4_)    \n",
    "- [Conclusion](#toc5_)    \n",
    "\n",
    "<!-- vscode-jupyter-toc-config\n",
    "\tnumbering=false\n",
    "\tanchor=true\n",
    "\tflat=false\n",
    "\tminLevel=2\n",
    "\tmaxLevel=6\n",
    "\t/vscode-jupyter-toc-config -->\n",
    "<!-- THIS CELL WILL BE REPLACED ON TOC UPDATE. DO NOT WRITE YOUR TEXT IN THIS CELL -->"
   ]
  },
  {
   "cell_type": "markdown",
   "metadata": {},
   "source": [
    "## <a id='toc1_'></a>[Characteristics of Python Dictionaries](#toc0_)"
   ]
  },
  {
   "cell_type": "markdown",
   "metadata": {},
   "source": [
    "- **Unordered**: Unlike lists, where items have a defined order, the items in a dictionary are not ordered. The order of insertion does not guarantee the order of the elements when you retrieve them.\n",
    "\n",
    "- **Mutable**: Dictionaries are changeable, meaning you can add, modify, or remove items after the dictionary has been created.\n",
    "\n",
    "- **Dynamic**: They can grow and shrink as needed without any predefined size or restriction.\n",
    "\n",
    "- **Indexed**: They are indexed by keys, which can be any immutable type, typically strings and numbers, but tuples can also be used if they contain only immutable elements.\n",
    "\n",
    "- **Keys are Unique**: No two items in a dictionary can have the same key, ensuring the uniqueness of each piece of data. If you try to use a duplicate key, the old value for that key will be overridden.\n",
    "\n",
    "- **Accessible**: Values in dictionaries can be accessed using their corresponding keys, making data retrieval fast and efficient.\n"
   ]
  },
  {
   "cell_type": "markdown",
   "metadata": {},
   "source": [
    "## <a id='toc2_'></a>[Dictionaries vs Lists](#toc0_)"
   ]
  },
  {
   "cell_type": "markdown",
   "metadata": {},
   "source": [
    "Here are a few points on how dictionaries compare to other Python data structures:\n",
    "\n",
    "- **Lists**: Lists are ordered, indexed by integers, and can contain duplicate items. They are best used when the order of elements matters, and you might need to access them by their position.\n",
    "\n",
    "- **Dictionaries**: Dictionaries, too, preserve the uniqueness of their keys, but they allow attaching a value to each key, creating a pair. Unlike lists, dictionaries are indexed by keys, making them highly efficient for associating data.\n"
   ]
  },
  {
   "cell_type": "markdown",
   "metadata": {},
   "source": [
    "## <a id='toc3_'></a>[Why Use Dictionaries?](#toc0_)"
   ]
  },
  {
   "cell_type": "markdown",
   "metadata": {},
   "source": [
    "Dictionaries are the go-to data structure when you want to store and retrieve data with a meaningful association. They are very flexible and optimized for retrieving data (values) when you know the identifier (key). Common use cases include constructing a phonebook, representing a user’s profile information, managing configuration settings, etc.\n"
   ]
  },
  {
   "cell_type": "markdown",
   "metadata": {},
   "source": [
    "To sum up, dictionaries offer a way to create an associative array of keys and values – think of them as a practical and widely applicable way to store and manage data.\n"
   ]
  },
  {
   "cell_type": "markdown",
   "metadata": {},
   "source": [
    "In the following sections, we will go through how to create dictionaries, manipulate them, and utilize their capabilities to solve real-world problems. Stay tuned as we explore these functionalities through examples and interactive exercises!"
   ]
  },
  {
   "cell_type": "markdown",
   "metadata": {},
   "source": [
    "## <a id='toc4_'></a>[Creating Dictionaries in Python](#toc0_)"
   ]
  },
  {
   "cell_type": "markdown",
   "metadata": {},
   "source": [
    "In this section, we will learn about creating dictionaries in Python. If you already know how to create a list or a tuple, you'll find that creating a dictionary isn't too different—it's quite straightforward once you get the hang of the syntax.\n"
   ]
  },
  {
   "cell_type": "markdown",
   "metadata": {},
   "source": [
    "### <a id='toc4_1_'></a>[Basic Syntax for Dictionary Creation](#toc0_)\n"
   ]
  },
  {
   "cell_type": "markdown",
   "metadata": {},
   "source": [
    "A dictionary in Python is defined with curly braces `{}` containing key-value pairs separated by colons. Each key is followed by a value, and each key-value pair is separated by a comma. Here's the simplest way to create a dictionary:\n"
   ]
  },
  {
   "cell_type": "code",
   "execution_count": 1,
   "metadata": {},
   "outputs": [],
   "source": [
    "# Creating an empty dictionary\n",
    "my_dict = {}"
   ]
  },
  {
   "cell_type": "code",
   "execution_count": 2,
   "metadata": {},
   "outputs": [],
   "source": [
    "# A dictionary with integer keys and string values\n",
    "student_grades = {1: 'A', 2: 'B', 3: 'C'}"
   ]
  },
  {
   "cell_type": "code",
   "execution_count": 3,
   "metadata": {},
   "outputs": [],
   "source": [
    "# A dictionary with mixed key types\n",
    "person_info = {'name': 'Alice', 'age': 30, 1: ['pizza', 'pasta']}"
   ]
  },
  {
   "cell_type": "markdown",
   "metadata": {},
   "source": [
    "Notice that in `person_info`, we mixed strings and an integer as keys and even included a list as one of the values - dictionaries are versatile!\n"
   ]
  },
  {
   "cell_type": "markdown",
   "metadata": {},
   "source": [
    "### <a id='toc4_2_'></a>[Empty Dictionary](#toc0_)\n"
   ]
  },
  {
   "cell_type": "markdown",
   "metadata": {},
   "source": [
    "Creating an empty dictionary can be useful when you need a container to fill up with data later in your program. You can create one using empty curly braces or the `dict()` constructor:\n"
   ]
  },
  {
   "cell_type": "code",
   "execution_count": 4,
   "metadata": {},
   "outputs": [],
   "source": [
    "empty_dict = {}"
   ]
  },
  {
   "cell_type": "code",
   "execution_count": 5,
   "metadata": {},
   "outputs": [],
   "source": [
    "empty_dict = dict()"
   ]
  },
  {
   "cell_type": "markdown",
   "metadata": {},
   "source": [
    "### <a id='toc4_3_'></a>[Dictionary Initialization with Values](#toc0_)\n"
   ]
  },
  {
   "cell_type": "markdown",
   "metadata": {},
   "source": [
    "If you know the pairs in advance, initialize the dictionary directly with key-value pairs:\n"
   ]
  },
  {
   "cell_type": "code",
   "execution_count": 6,
   "metadata": {},
   "outputs": [],
   "source": [
    "# Direct initialization with key-value pairs\n",
    "credentials = {'username': 'user123', 'password': 'securepass'}"
   ]
  },
  {
   "cell_type": "markdown",
   "metadata": {},
   "source": [
    "#### <a id='toc4_3_1_'></a>[Using `dict()` Constructor](#toc0_)\n"
   ]
  },
  {
   "cell_type": "markdown",
   "metadata": {},
   "source": [
    "Another way to create a dictionary is by using the built-in `dict()` function. This function is versatile: it can create dictionaries from a sequence of key-value pairs or from keyword arguments.\n"
   ]
  },
  {
   "cell_type": "code",
   "execution_count": 7,
   "metadata": {},
   "outputs": [],
   "source": [
    "# Using a sequence of tuples with the dict() constructor\n",
    "fruit_prices = dict([('apple', 0.45), ('banana', 0.30), ('cherry', 0.95)])"
   ]
  },
  {
   "cell_type": "code",
   "execution_count": 8,
   "metadata": {},
   "outputs": [],
   "source": [
    "# Using keyword arguments\n",
    "color_codes = dict(red='#FF0000', blue='#0000FF', green='#00FF00')"
   ]
  },
  {
   "cell_type": "markdown",
   "metadata": {},
   "source": [
    "There are also other ways to create dictionaries, such as using dictionary comprehensions or the `fromkeys()` method. We will cover these in a later section.\n"
   ]
  },
  {
   "cell_type": "markdown",
   "metadata": {},
   "source": [
    "### <a id='toc4_4_'></a>[A Note on Keys](#toc0_)\n"
   ]
  },
  {
   "cell_type": "markdown",
   "metadata": {},
   "source": [
    "Remember that dictionary keys must be immutable types, which means you cannot use mutable types such as lists or other dictionaries as keys. However, you can use tuples as keys if they contain only immutable elements."
   ]
  },
  {
   "cell_type": "code",
   "execution_count": 43,
   "metadata": {},
   "outputs": [
    {
     "ename": "TypeError",
     "evalue": "unhashable type: 'list'",
     "output_type": "error",
     "traceback": [
      "\u001b[0;31m---------------------------------------------------------------------------\u001b[0m",
      "\u001b[0;31mTypeError\u001b[0m                                 Traceback (most recent call last)",
      "\u001b[1;32m/Users/hejazizo/PERSONAL_DIR/pytopia/content/Python-2023/Lectures/04 Data Types/15 Dictionary.ipynb Cell 37\u001b[0m line \u001b[0;36m2\n\u001b[1;32m      <a href='vscode-notebook-cell:/Users/hejazizo/PERSONAL_DIR/pytopia/content/Python-2023/Lectures/04%20Data%20Types/15%20Dictionary.ipynb#Y445sZmlsZQ%3D%3D?line=0'>1</a>\u001b[0m \u001b[39m# This will raise a TypeError as lists are not immutable\u001b[39;00m\n\u001b[0;32m----> <a href='vscode-notebook-cell:/Users/hejazizo/PERSONAL_DIR/pytopia/content/Python-2023/Lectures/04%20Data%20Types/15%20Dictionary.ipynb#Y445sZmlsZQ%3D%3D?line=1'>2</a>\u001b[0m my_dict \u001b[39m=\u001b[39m {[\u001b[39m1\u001b[39m, \u001b[39m2\u001b[39m, \u001b[39m3\u001b[39m]: \u001b[39m'\u001b[39m\u001b[39mabc\u001b[39m\u001b[39m'\u001b[39m}\n",
      "\u001b[0;31mTypeError\u001b[0m: unhashable type: 'list'"
     ]
    }
   ],
   "source": [
    "# This will raise a TypeError as lists are not immutable\n",
    "my_dict = {[1, 2, 3]: 'abc'}"
   ]
  },
  {
   "cell_type": "code",
   "execution_count": 44,
   "metadata": {},
   "outputs": [],
   "source": [
    "# This is fine as tuples are immutable\n",
    "my_dict = {(1, 2, 3): 'abc'}"
   ]
  },
  {
   "cell_type": "markdown",
   "metadata": {},
   "source": [
    "## <a id='toc5_'></a>[Conclusion](#toc0_)\n"
   ]
  },
  {
   "cell_type": "markdown",
   "metadata": {},
   "source": [
    "As you've seen, creating dictionaries in Python is quite simple and flexible. Dictionaries are an incredibly powerful way to associate pairs of information and will become an indispensable part of your Python programming toolkit.\n"
   ]
  },
  {
   "cell_type": "markdown",
   "metadata": {},
   "source": [
    "In our next section, we'll dive into how we can access and modify the items stored within these dictionaries, enabling you to manage and manipulate data effectively."
   ]
  }
 ],
 "metadata": {
  "kernelspec": {
   "display_name": "py310",
   "language": "python",
   "name": "python3"
  },
  "language_info": {
   "codemirror_mode": {
    "name": "ipython",
    "version": 3
   },
   "file_extension": ".py",
   "mimetype": "text/x-python",
   "name": "python",
   "nbconvert_exporter": "python",
   "pygments_lexer": "ipython3",
   "version": "3.10.12"
  }
 },
 "nbformat": 4,
 "nbformat_minor": 2
}
