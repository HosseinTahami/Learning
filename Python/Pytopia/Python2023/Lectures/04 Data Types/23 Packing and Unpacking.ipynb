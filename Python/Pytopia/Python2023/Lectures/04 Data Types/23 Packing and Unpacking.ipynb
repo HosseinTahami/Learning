{
 "cells": [
  {
   "cell_type": "markdown",
   "metadata": {},
   "source": [
    "<img src=\"./images/composite-data-types-banner.png\" width=\"800\">"
   ]
  },
  {
   "cell_type": "markdown",
   "metadata": {},
   "source": [
    "# Packing and Unpacking in Python"
   ]
  },
  {
   "cell_type": "markdown",
   "metadata": {},
   "source": [
    "Imagine you're working with coordinates in a three-dimensional space, where each point can be represented by three values: the x, y, and z coordinates. In Python, you can group these values into a single entity known as a tuple. This process is called packing. For instance, when you execute a statement like `point = x, y, z`, you're packing the values of x, y, and z into a tuple named `point`. This is an elegant and powerful way to create new tuple objects in Python.\n"
   ]
  },
  {
   "cell_type": "markdown",
   "metadata": {},
   "source": [
    "But what if you have a tuple and you want to extract its individual elements? This is where unpacking comes into play. Python allows you to do the reverse operation—taking a tuple and extracting its values into separate variables. Here's a practical example that demonstrates this concept:\n"
   ]
  },
  {
   "cell_type": "code",
   "execution_count": 1,
   "metadata": {},
   "outputs": [],
   "source": [
    "# Packing values into a tuple\n",
    "point = (7, 14, 21)\n"
   ]
  },
  {
   "cell_type": "code",
   "execution_count": 2,
   "metadata": {},
   "outputs": [],
   "source": [
    "# Unpacking the tuple into variables\n",
    "x, y, z = point\n"
   ]
  },
  {
   "cell_type": "code",
   "execution_count": 3,
   "metadata": {},
   "outputs": [
    {
     "name": "stdout",
     "output_type": "stream",
     "text": [
      "The x coordinate is: 7\n",
      "The y coordinate is: 14\n",
      "The z coordinate is: 21\n"
     ]
    }
   ],
   "source": [
    "# Accessing the values\n",
    "print(\"The x coordinate is:\", x)\n",
    "print(\"The y coordinate is:\", y)\n",
    "print(\"The z coordinate is:\", z)"
   ]
  },
  {
   "cell_type": "markdown",
   "metadata": {},
   "source": [
    "The line `x, y, z = point` is performing the unpacking. It assigns the first value of the tuple `point` to `x`, the second to `y`, and the third to `z`. The order is crucial; each variable gets its corresponding value from the tuple based on its position.\n"
   ]
  },
  {
   "cell_type": "markdown",
   "metadata": {},
   "source": [
    "By learning packing and unpacking, you will gain a deeper understanding of how to work with tuples and other data structures in Python. This lecture will teach you how to handle these operations with ease, making your code more concise, readable, and expressive. Whether you are managing coordinates in a game, handling data in a scientific application, or simply grouping related pieces of information, mastering packing and unpacking will be an invaluable addition to your Python toolkit."
   ]
  },
  {
   "cell_type": "markdown",
   "metadata": {},
   "source": [
    "**Table of contents**<a id='toc0_'></a>    \n",
    "- [Introduction to Packing and Unpacking](#toc1_)    \n",
    "  - [Packing in Python](#toc1_1_)    \n",
    "  - [Unpacking in Python](#toc1_2_)    \n",
    "- [Unpacking Sequences](#toc2_)    \n",
    "  - [Unpacking Tuples](#toc2_1_)    \n",
    "  - [Unpacking Lists](#toc2_2_)    \n",
    "- [Extended Unpacking in Python 3](#toc3_)    \n",
    "  - [The `*` Operator in Unpacking](#toc3_1_)    \n",
    "  - [Using `*` with Lists](#toc3_2_)    \n",
    "- [Unpacking Dictionaries](#toc4_)    \n",
    "  - [The `**` Operator and Dictionaries](#toc4_1_)    \n",
    "  - [Unpacking Keys](#toc4_2_)    \n",
    "- [Best Practices and Common Pitfalls](#toc5_)    \n",
    "  - [Best Practices](#toc5_1_)    \n",
    "  - [Common Pitfalls](#toc5_2_)    \n",
    "- [Practice Exercise](#toc6_)    \n",
    "  - [Solution](#toc6_1_)    \n",
    "\n",
    "<!-- vscode-jupyter-toc-config\n",
    "\tnumbering=false\n",
    "\tanchor=true\n",
    "\tflat=false\n",
    "\tminLevel=2\n",
    "\tmaxLevel=6\n",
    "\t/vscode-jupyter-toc-config -->\n",
    "<!-- THIS CELL WILL BE REPLACED ON TOC UPDATE. DO NOT WRITE YOUR TEXT IN THIS CELL -->"
   ]
  },
  {
   "cell_type": "markdown",
   "metadata": {},
   "source": [
    "## <a id='toc1_'></a>[Introduction to Packing and Unpacking](#toc0_)"
   ]
  },
  {
   "cell_type": "markdown",
   "metadata": {},
   "source": [
    "Packing and unpacking are not just limited to tuples; these concepts extend to other data structures like lists and dictionaries. But before we dive into the broader applications, let's solidify our understanding of these concepts with tuples, as they form the basis of packing and unpacking in Python.\n"
   ]
  },
  {
   "cell_type": "markdown",
   "metadata": {},
   "source": [
    "### <a id='toc1_1_'></a>[Packing in Python](#toc0_)\n"
   ]
  },
  {
   "cell_type": "markdown",
   "metadata": {},
   "source": [
    "Packing refers to the process of combining multiple values into a single compound data structure. In the case of tuples, packing is often implicit. When you group multiple values or variables separated by commas, Python automatically creates a tuple from those values. This is a convenient way to bundle together related pieces of information without the verbosity of constructing a tuple explicitly using parentheses.\n"
   ]
  },
  {
   "cell_type": "markdown",
   "metadata": {},
   "source": [
    "Here's an example of tuple packing:\n"
   ]
  },
  {
   "cell_type": "code",
   "execution_count": 4,
   "metadata": {},
   "outputs": [
    {
     "name": "stdout",
     "output_type": "stream",
     "text": [
      "Packed tuple: (3, 4, 5)\n"
     ]
    }
   ],
   "source": [
    "# Packing integers into a tuple\n",
    "coordinates = 3, 4, 5\n",
    "print(\"Packed tuple:\", coordinates)"
   ]
  },
  {
   "cell_type": "markdown",
   "metadata": {},
   "source": [
    "Notice how Python has created a tuple named `coordinates` that contains the values 3, 4, and 5.\n"
   ]
  },
  {
   "cell_type": "markdown",
   "metadata": {},
   "source": [
    "### <a id='toc1_2_'></a>[Unpacking in Python](#toc0_)\n"
   ]
  },
  {
   "cell_type": "markdown",
   "metadata": {},
   "source": [
    "Unpacking is the process that complements packing. It allows us to take a compound data structure, like a tuple, and distribute its contents into individual variables. This operation makes it easier to manipulate and access specific elements without indexing into the tuple.\n"
   ]
  },
  {
   "cell_type": "markdown",
   "metadata": {},
   "source": [
    "Continuing with the tuple example, let's see how unpacking works:\n"
   ]
  },
  {
   "cell_type": "code",
   "execution_count": 5,
   "metadata": {},
   "outputs": [],
   "source": [
    "# A packed tuple of coordinates\n",
    "coordinates = (3, 4, 5)"
   ]
  },
  {
   "cell_type": "code",
   "execution_count": 6,
   "metadata": {},
   "outputs": [
    {
     "name": "stdout",
     "output_type": "stream",
     "text": [
      "Unpacked values: 3 4 5\n"
     ]
    }
   ],
   "source": [
    "# Unpacking the tuple into variables\n",
    "x, y, z = coordinates\n",
    "\n",
    "print(\"Unpacked values:\", x, y, z)"
   ]
  },
  {
   "cell_type": "markdown",
   "metadata": {},
   "source": [
    "When unpacking, the number of variables on the left side of the assignment must match the number of elements in the tuple. If there's a mismatch, Python will raise an error.\n"
   ]
  },
  {
   "cell_type": "markdown",
   "metadata": {},
   "source": [
    "Understanding packing and unpacking is fundamental as it teaches us to think about how data can be grouped and separated in Python. It also introduces us to the versatility of Python's syntax and prepares us for more complex scenarios where such techniques can significantly simplify code and enhance readability.\n"
   ]
  },
  {
   "cell_type": "markdown",
   "metadata": {},
   "source": [
    "In the next sections, we'll explore how to apply these concepts to lists and dictionaries and look at some practical examples that demonstrate the power of packing and unpacking in Python."
   ]
  },
  {
   "cell_type": "markdown",
   "metadata": {},
   "source": [
    "> **Note**\n",
    "> The concept of packing and unpacking is not exclusive to tuples and lists but extends to any iterable in Python. This includes more complex data structures that you will encounter later in your Python journey, such as NumPy arrays and Pandas Series. These structures can also be packed and unpacked, offering powerful ways to handle data in scientific computing and data analysis tasks.\n",
    "> \n",
    "> For example, in a NumPy array, you can pack data like this:\n",
    "> \n",
    "> ```python\n",
    "> import numpy as np\n",
    "> \n",
    "> # Packing data into a NumPy array\n",
    "> data_array = np.array([1, 2, 3, 4, 5])\n",
    "> print(\"Packed NumPy array:\", data_array)\n",
    "> ```\n",
    "> "
   ]
  },
  {
   "cell_type": "markdown",
   "metadata": {},
   "source": [
    "## <a id='toc2_'></a>[Unpacking Sequences](#toc0_)"
   ]
  },
  {
   "cell_type": "markdown",
   "metadata": {},
   "source": [
    "Unpacking is the process by which we extract values from sequences, such as tuples and lists, and assign them to individual variables. This technique is particularly useful when you want to work with specific elements of a sequence separately or when you need to pass these elements into a function as separate arguments.\n"
   ]
  },
  {
   "cell_type": "markdown",
   "metadata": {},
   "source": [
    "### <a id='toc2_1_'></a>[Unpacking Tuples](#toc0_)\n"
   ]
  },
  {
   "cell_type": "markdown",
   "metadata": {},
   "source": [
    "To unpack a tuple, you assign the tuple to a comma-separated list of variables that correspond in number and order to the elements within the tuple. Python then assigns each value in the tuple to its respective variable. \n"
   ]
  },
  {
   "cell_type": "markdown",
   "metadata": {},
   "source": [
    "Here's a clear demonstration of tuple unpacking:\n"
   ]
  },
  {
   "cell_type": "code",
   "execution_count": 7,
   "metadata": {},
   "outputs": [],
   "source": [
    "# A tuple of coordinates\n",
    "coordinates = (10, -3, 15)"
   ]
  },
  {
   "cell_type": "code",
   "execution_count": 8,
   "metadata": {},
   "outputs": [],
   "source": [
    "# Unpacking the tuple into variables\n",
    "x, y, z = coordinates"
   ]
  },
  {
   "cell_type": "code",
   "execution_count": 9,
   "metadata": {},
   "outputs": [
    {
     "name": "stdout",
     "output_type": "stream",
     "text": [
      "x coordinate: 10\n",
      "y coordinate: -3\n",
      "z coordinate: 15\n"
     ]
    }
   ],
   "source": [
    "print(\"x coordinate:\", x)\n",
    "print(\"y coordinate:\", y)\n",
    "print(\"z coordinate:\", z)"
   ]
  },
  {
   "cell_type": "markdown",
   "metadata": {},
   "source": [
    "In this example, the tuple `coordinates` contains three integer elements. By using the unpacking syntax `x, y, z = coordinates`, we assign each element to a corresponding variable.\n"
   ]
  },
  {
   "cell_type": "markdown",
   "metadata": {},
   "source": [
    "### <a id='toc2_2_'></a>[Unpacking Lists](#toc0_)\n"
   ]
  },
  {
   "cell_type": "markdown",
   "metadata": {},
   "source": [
    "Unpacking lists works in the same way as unpacking tuples. You match a list with a series of variables on the left side of the assignment operator to extract its values.\n"
   ]
  },
  {
   "cell_type": "markdown",
   "metadata": {},
   "source": [
    "Here's an example of list unpacking:\n"
   ]
  },
  {
   "cell_type": "code",
   "execution_count": 10,
   "metadata": {},
   "outputs": [],
   "source": [
    "# A list of student information\n",
    "student_info = ['Emma', 22, 'Computer Science']"
   ]
  },
  {
   "cell_type": "code",
   "execution_count": 11,
   "metadata": {},
   "outputs": [],
   "source": [
    "# Unpacking the list into variables\n",
    "name, age, major = student_info"
   ]
  },
  {
   "cell_type": "code",
   "execution_count": 12,
   "metadata": {},
   "outputs": [
    {
     "name": "stdout",
     "output_type": "stream",
     "text": [
      "Student Name: Emma\n",
      "Age: 22\n",
      "Major: Computer Science\n"
     ]
    }
   ],
   "source": [
    "print(\"Student Name:\", name)\n",
    "print(\"Age:\", age)\n",
    "print(\"Major:\", major)"
   ]
  },
  {
   "cell_type": "markdown",
   "metadata": {},
   "source": [
    "By unpacking the list `student_info` into the variables `name`, `age`, and `major`, we've effectively extracted each piece of information into a named variable, making the data easier to handle and read in the code that follows.\n"
   ]
  },
  {
   "cell_type": "markdown",
   "metadata": {},
   "source": [
    "It's important to note that the number of variables used to unpack a sequence must match the number of elements in the sequence. If they do not match, Python will raise a `ValueError`. \n"
   ]
  },
  {
   "cell_type": "markdown",
   "metadata": {},
   "source": [
    "Unpacking sequences is a powerful feature in Python that can lead to cleaner, more readable, and more efficient code. It allows programmers to quickly and straightforwardly extract and manipulate data contained within sequences."
   ]
  },
  {
   "cell_type": "markdown",
   "metadata": {},
   "source": [
    "## <a id='toc3_'></a>[Extended Unpacking in Python 3](#toc0_)"
   ]
  },
  {
   "cell_type": "markdown",
   "metadata": {},
   "source": [
    "Python 3 introduced an enhancement to the unpacking syntax, known as extended unpacking, which provides even more flexibility when dealing with sequences. This new syntax uses the `*` operator to capture multiple items from a sequence. This feature is particularly useful when you want to unpack parts of a sequence into variables but either don't need all of the sequence's elements or want to capture a subset of elements in a list.\n"
   ]
  },
  {
   "cell_type": "markdown",
   "metadata": {},
   "source": [
    "### <a id='toc3_1_'></a>[The `*` Operator in Unpacking](#toc0_)\n"
   ]
  },
  {
   "cell_type": "markdown",
   "metadata": {},
   "source": [
    "The `*` operator can be used in conjunction with variable names to unpack parts of a sequence and assign the remaining elements to a list. This operator can only be used once in the unpacking assignment.\n"
   ]
  },
  {
   "cell_type": "markdown",
   "metadata": {},
   "source": [
    "Here's how the extended unpacking syntax can be used with tuples:\n"
   ]
  },
  {
   "cell_type": "code",
   "execution_count": 13,
   "metadata": {},
   "outputs": [],
   "source": [
    "# A tuple with several values\n",
    "numbers = (1, 2, 3, 4, 5, 6)"
   ]
  },
  {
   "cell_type": "code",
   "execution_count": 14,
   "metadata": {},
   "outputs": [],
   "source": [
    "# Unpacking the first two and the last value, capturing the rest in the middle\n",
    "first, second, *middle, last = numbers"
   ]
  },
  {
   "cell_type": "code",
   "execution_count": 15,
   "metadata": {},
   "outputs": [
    {
     "name": "stdout",
     "output_type": "stream",
     "text": [
      "First: 1\n",
      "Second: 2\n",
      "Middle: [3, 4, 5]\n",
      "Last: 6\n"
     ]
    }
   ],
   "source": [
    "print(\"First:\", first)\n",
    "print(\"Second:\", second)\n",
    "print(\"Middle:\", middle)\n",
    "print(\"Last:\", last)"
   ]
  },
  {
   "cell_type": "markdown",
   "metadata": {},
   "source": [
    "In the example above, `first` and `second` are assigned to the first two elements of the tuple, `middle` is assigned a list of the remaining middle elements, and `last` captures the final element.\n"
   ]
  },
  {
   "cell_type": "markdown",
   "metadata": {},
   "source": [
    "### <a id='toc3_2_'></a>[Using `*` with Lists](#toc0_)\n"
   ]
  },
  {
   "cell_type": "markdown",
   "metadata": {},
   "source": [
    "The extended unpacking syntax works just as well with lists as it does with tuples:\n"
   ]
  },
  {
   "cell_type": "code",
   "execution_count": 16,
   "metadata": {},
   "outputs": [],
   "source": [
    "# A list containing elements\n",
    "fruits = ['apple', 'banana', 'cherry', 'date', 'elderberry']"
   ]
  },
  {
   "cell_type": "code",
   "execution_count": 17,
   "metadata": {},
   "outputs": [],
   "source": [
    "# Unpacking specific elements and capturing the rest\n",
    "head, *tail = fruits"
   ]
  },
  {
   "cell_type": "code",
   "execution_count": 18,
   "metadata": {},
   "outputs": [
    {
     "name": "stdout",
     "output_type": "stream",
     "text": [
      "Head: apple\n",
      "Tail: ['banana', 'cherry', 'date', 'elderberry']\n"
     ]
    }
   ],
   "source": [
    "print(\"Head:\", head)\n",
    "print(\"Tail:\", tail)"
   ]
  },
  {
   "cell_type": "markdown",
   "metadata": {},
   "source": [
    "In this case, `head` is assigned the first item of the list, and `tail` captures the rest of the elements in a new list.\n"
   ]
  },
  {
   "cell_type": "markdown",
   "metadata": {},
   "source": [
    "The extended unpacking syntax can also be used to ignore certain parts of a sequence when you're not interested in them:\n"
   ]
  },
  {
   "cell_type": "code",
   "execution_count": 19,
   "metadata": {},
   "outputs": [],
   "source": [
    "# A list of values\n",
    "values = [1, 2, 3, 4, 5, 6, 7, 8, 9]"
   ]
  },
  {
   "cell_type": "code",
   "execution_count": 20,
   "metadata": {},
   "outputs": [],
   "source": [
    "# Ignoring the middle values\n",
    "first, *_, last = values"
   ]
  },
  {
   "cell_type": "code",
   "execution_count": 21,
   "metadata": {},
   "outputs": [
    {
     "name": "stdout",
     "output_type": "stream",
     "text": [
      "First: 1\n",
      "Last: 9\n"
     ]
    }
   ],
   "source": [
    "print(\"First:\", first)\n",
    "print(\"Last:\", last)"
   ]
  },
  {
   "cell_type": "markdown",
   "metadata": {},
   "source": [
    "Here, the underscore `_` is used as a throwaway variable, a common Python convention to indicate that we want to ignore these unpacked values.\n"
   ]
  },
  {
   "cell_type": "markdown",
   "metadata": {},
   "source": [
    "Extended unpacking is a handy tool that can greatly simplify your code, especially when dealing with sequences of varying lengths or when only certain elements are of interest. It allows for more expressive assignments and can help keep the code concise and readable."
   ]
  },
  {
   "cell_type": "markdown",
   "metadata": {},
   "source": [
    "## <a id='toc4_'></a>[Unpacking Dictionaries](#toc0_)"
   ]
  },
  {
   "cell_type": "markdown",
   "metadata": {},
   "source": [
    "When working with dictionaries in Python, unpacking refers to the operation of extracting keys, values, or both from a dictionary. While dictionaries don't support the same unpacking concept as lists and tuples due to their key-value nature, you can still perform similar operations using the `*` operator to work with keys and the `**` operator to work with key-value pairs.\n"
   ]
  },
  {
   "cell_type": "markdown",
   "metadata": {},
   "source": [
    "### <a id='toc4_1_'></a>[The `**` Operator and Dictionaries](#toc0_)\n"
   ]
  },
  {
   "cell_type": "markdown",
   "metadata": {},
   "source": [
    "The `**` operator has a special meaning when it comes to dictionaries. It is used to 'unpack' a dictionary's key-value pairs. One common use case for the `**` operator with dictionaries is merging two or more dictionaries into a single new dictionary.\n"
   ]
  },
  {
   "cell_type": "markdown",
   "metadata": {},
   "source": [
    "Here's an example of how to merge two dictionaries using the `**` operator in Python 3.5+:\n"
   ]
  },
  {
   "cell_type": "code",
   "execution_count": 22,
   "metadata": {},
   "outputs": [],
   "source": [
    "# Two dictionaries representing two different students' grades\n",
    "student_grades_1 = {'Math': 90, 'English': 92}\n",
    "student_grades_2 = {'Science': 88, 'History': 94}"
   ]
  },
  {
   "cell_type": "code",
   "execution_count": 23,
   "metadata": {},
   "outputs": [],
   "source": [
    "# Merging both dictionaries into a new one\n",
    "combined_grades = {**student_grades_1, **student_grades_2}"
   ]
  },
  {
   "cell_type": "code",
   "execution_count": 24,
   "metadata": {},
   "outputs": [
    {
     "name": "stdout",
     "output_type": "stream",
     "text": [
      "Combined Grade Book: {'Math': 90, 'English': 92, 'Science': 88, 'History': 94}\n"
     ]
    }
   ],
   "source": [
    "print(\"Combined Grade Book:\", combined_grades)"
   ]
  },
  {
   "cell_type": "markdown",
   "metadata": {},
   "source": [
    "In this example, the `**` operator is used to unpack the contents of `student_grades_1` and `student_grades_2`. The unpacked key-value pairs are then used to create a new dictionary, `combined_grades`, which contains all the entries from both original dictionaries. This operation is also known as dictionary unpacking.\n"
   ]
  },
  {
   "cell_type": "markdown",
   "metadata": {},
   "source": [
    "### <a id='toc4_2_'></a>[Unpacking Keys](#toc0_)\n"
   ]
  },
  {
   "cell_type": "markdown",
   "metadata": {},
   "source": [
    "To extract only the keys from a dictionary, you can use the `*` operator in a similar fashion as you would with sequences. This will create a list of keys from the dictionary.\n"
   ]
  },
  {
   "cell_type": "markdown",
   "metadata": {},
   "source": [
    "Here's an example of how to extract keys from a dictionary:\n"
   ]
  },
  {
   "cell_type": "code",
   "execution_count": 25,
   "metadata": {},
   "outputs": [],
   "source": [
    "# A dictionary of a student's courses and grades\n",
    "grades = {'Math': 95, 'Physics': 90, 'Chemistry': 85}"
   ]
  },
  {
   "cell_type": "code",
   "execution_count": 26,
   "metadata": {},
   "outputs": [],
   "source": [
    "# Unpacking the keys of the dictionary\n",
    "course_names = [*grades]"
   ]
  },
  {
   "cell_type": "code",
   "execution_count": 27,
   "metadata": {},
   "outputs": [
    {
     "name": "stdout",
     "output_type": "stream",
     "text": [
      "Courses: ['Math', 'Physics', 'Chemistry']\n"
     ]
    }
   ],
   "source": [
    "print(\"Courses:\", course_names)"
   ]
  },
  {
   "cell_type": "markdown",
   "metadata": {},
   "source": [
    "In this code snippet, the `*` operator is used to unpack the keys from the `grades` dictionary and store them in the `course_names` list. This is a straightforward way to access all the keys of a dictionary without needing to use a loop or other iterative methods.\n"
   ]
  },
  {
   "cell_type": "markdown",
   "metadata": {},
   "source": [
    "Unpacking dictionaries using the `**` and `*` operators provides a concise and readable way to manipulate dictionaries, especially when you need to merge multiple dictionaries or extract their keys or values. This technique can lead to more efficient and cleaner code, and it's an important concept to understand for working effectively with dictionaries in Python."
   ]
  },
  {
   "cell_type": "markdown",
   "metadata": {},
   "source": [
    "## <a id='toc5_'></a>[Best Practices and Common Pitfalls](#toc0_)"
   ]
  },
  {
   "cell_type": "markdown",
   "metadata": {},
   "source": [
    "While packing and unpacking are powerful features in Python that can make your code more concise and expressive, there are certain best practices to follow and pitfalls to avoid. Adhering to these guidelines will help you use these features effectively and avoid common errors.\n"
   ]
  },
  {
   "cell_type": "markdown",
   "metadata": {},
   "source": [
    "### <a id='toc5_1_'></a>[Best Practices](#toc0_)\n"
   ]
  },
  {
   "cell_type": "markdown",
   "metadata": {},
   "source": [
    "Know When to Use Packing and Unpacking:\n",
    "- Use packing when you need to group related data together logically, making the code cleaner and more organized.\n",
    "- Use unpacking when you need to access or manipulate individual elements from a sequence or a set of key-value pairs from a dictionary.\n",
    "\n",
    "Maintain Readability:\n",
    "- Unpacking can improve readability by reducing the need for indexing; however, excessively using unpacking can make the code less readable, especially if it's not clear what each unpacked variable represents.\n",
    "- Limit the use of unpacking to scenarios where the variables being created have meaningful names that clearly indicate what data they hold.\n",
    "\n",
    "Match Unpacking with Sequence Length:\n",
    "- Ensure the number of variables matches the length of the sequence when unpacking to avoid `ValueError`. If you only need a subset of the sequence, consider using extended unpacking with the `*` operator.\n",
    "\n",
    "Use Extended Unpacking Judiciously:\n",
    "- Extended unpacking is useful for capturing excess items into a list, but it can make the code unclear if overused or used with sequences of unpredictable lengths.\n",
    "- When using extended unpacking, the `*` operator should be placed on the variable that is expected to hold multiple values, which is typically the most logical place within the sequence.\n"
   ]
  },
  {
   "cell_type": "markdown",
   "metadata": {},
   "source": [
    "### <a id='toc5_2_'></a>[Common Pitfalls](#toc0_)\n"
   ]
  },
  {
   "cell_type": "markdown",
   "metadata": {},
   "source": [
    "Ignoring the Order of Unpacking:\n",
    "- When unpacking sequences, the order is crucial. Always ensure that you unpack in the correct order, with each variable corresponding to the right position in the sequence.\n",
    "\n",
    "Modifying Sequences During Unpacking:\n",
    "- Avoid modifying a list or dictionary while it is being unpacked, as this can lead to unexpected behavior and errors.\n",
    "\n",
    "Overlooking Dictionary Unpacking Restrictions:\n",
    "- Remember that you cannot unpack dictionary keys directly into a list of variables as you would with tuples or lists. Instead, use the `*` operator to get the keys or the `**` operator within a context that accepts key-value pairs (like creating a new dictionary).\n",
    "\n",
    "Misusing Underscore with Extended Unpacking:\n",
    "- The underscore `_` is often used as a throwaway variable in extended unpacking. However, it should not be used when the values are needed, as `_` is a valid variable name and using it for multiple throwaway values can lead to confusion.\n",
    "\n",
    "By following these best practices and avoiding the common pitfalls, you can use packing and unpacking to write cleaner and more efficient Python code. These techniques, when applied correctly, can greatly simplify the handling of data structures and make your code more Pythonic."
   ]
  },
  {
   "cell_type": "markdown",
   "metadata": {},
   "source": [
    "<img src=\"../images/exercise-banner.gif\" width=\"800\">"
   ]
  },
  {
   "cell_type": "markdown",
   "metadata": {},
   "source": [
    "## <a id='toc6_'></a>[Practice Exercise](#toc0_)"
   ]
  },
  {
   "cell_type": "markdown",
   "metadata": {},
   "source": [
    "In this exercise, you will practice using packing and unpacking techniques to work with Python's data types and collections. By manipulating lists, tuples, and dictionaries, you will gain hands-on experience with these methods and understand how they can be used to simplify data handling.\n"
   ]
  },
  {
   "cell_type": "markdown",
   "metadata": {},
   "source": [
    "**Tasks:**\n",
    "1. **Packing into Tuples**:\n",
    "   Create a tuple called `student_info` by packing the following individual variables: `name`, `age`, `grade`, and `subject`, which hold a student's name, age, grade (as a letter), and favorite subject, respectively.\n",
    "\n",
    "2. **Unpacking from Tuples**:\n",
    "   Given a tuple `coordinates` with three elements representing x, y, and z coordinates, unpack these values into separate variables called `x`, `y`, and `z`. Print the variables.\n",
    "\n",
    "3. **Unpacking from Lists**:\n",
    "   Suppose you have a list of scores `[72, 85, 90]`. Unpack the scores into variables `math_score`, `science_score`, and `english_score`, respectively. Then, print these variables.\n",
    "\n",
    "4. **Unpacking Dictionaries**:\n",
    "   Given a dictionary `student`, with keys `name`, `age`, and `email`, unpack the values of this dictionary into variables `student_name`, `student_age`, and `student_email`. Print the variables.\n",
    "\n",
    "5. **Extended Unpacking with Lists**:\n",
    "   You have a list of numbers `[1, 2, 3, 4, 5, 6, 7, 8]`. Use extended unpacking to get the first two numbers into variables `first_num` and `second_num`, and the rest of the numbers into a list called `remaining_numbers`.\n",
    "\n",
    "6. **Bonus: Swapping Values**:\n",
    "   Without using a temporary variable, swap the values of two variables `a` and `b` using packing and unpacking.\n"
   ]
  },
  {
   "cell_type": "markdown",
   "metadata": {},
   "source": [
    "**Sample Data:**"
   ]
  },
  {
   "cell_type": "code",
   "execution_count": 28,
   "metadata": {},
   "outputs": [],
   "source": [
    "# For Task 1\n",
    "name = \"Alice\"\n",
    "age = 17\n",
    "grade = \"A\"\n",
    "subject = \"Mathematics\""
   ]
  },
  {
   "cell_type": "code",
   "execution_count": 29,
   "metadata": {},
   "outputs": [],
   "source": [
    "# For Task 2\n",
    "coordinates = (4, 5, 6)"
   ]
  },
  {
   "cell_type": "code",
   "execution_count": 30,
   "metadata": {},
   "outputs": [],
   "source": [
    "# For Task 4\n",
    "student = {\n",
    "    \"name\": \"Bob\",\n",
    "    \"age\": 20,\n",
    "    \"email\": \"bob@example.com\"\n",
    "}"
   ]
  },
  {
   "cell_type": "markdown",
   "metadata": {},
   "source": [
    "**Expected Output:**\n",
    "```bash\n",
    "# For Task 2\n",
    "x: 4, y: 5, z: 6\n",
    "\n",
    "# For Task 3\n",
    "Math score: 72, Science score: 85, English score: 90\n",
    "\n",
    "# For Task 4\n",
    "Student Name: Bob, Student Age: 20, Student Email: bob@example.com\n",
    "\n",
    "# For Task 5\n",
    "First number: 1, Second number: 2, Remaining numbers: [3, 4, 5, 6, 7, 8]\n",
    "```\n"
   ]
  },
  {
   "cell_type": "markdown",
   "metadata": {},
   "source": [
    "Use this exercise to practice and become comfortable with packing and unpacking values in Python. These techniques are powerful and can greatly streamline the process of working with variables and collections. Remember to keep your code neat and include comments explaining your logic. Happy coding!"
   ]
  },
  {
   "cell_type": "markdown",
   "metadata": {},
   "source": [
    "### <a id='toc6_1_'></a>[Solution](#toc0_)"
   ]
  },
  {
   "cell_type": "markdown",
   "metadata": {},
   "source": [
    "Here are the solutions for each task in the exercise, demonstrating how to use packing and unpacking with tuples, lists, and dictionaries in Python:"
   ]
  },
  {
   "cell_type": "code",
   "execution_count": 31,
   "metadata": {},
   "outputs": [
    {
     "name": "stdout",
     "output_type": "stream",
     "text": [
      "Student Info: ('Alice', 17, 'A', 'Mathematics')\n"
     ]
    }
   ],
   "source": [
    "# Task 1: Packing into Tuples\n",
    "name = \"Alice\"\n",
    "age = 17\n",
    "grade = \"A\"\n",
    "subject = \"Mathematics\"\n",
    "student_info = (name, age, grade, subject)  # Packing into a tuple\n",
    "\n",
    "print(f\"Student Info: {student_info}\")"
   ]
  },
  {
   "cell_type": "code",
   "execution_count": 32,
   "metadata": {},
   "outputs": [
    {
     "name": "stdout",
     "output_type": "stream",
     "text": [
      "x: 4, y: 5, z: 6\n"
     ]
    }
   ],
   "source": [
    "# Task 2: Unpacking from Tuples\n",
    "coordinates = (4, 5, 6)\n",
    "x, y, z = coordinates  # Unpacking the tuple into variables\n",
    "\n",
    "print(f\"x: {x}, y: {y}, z: {z}\")"
   ]
  },
  {
   "cell_type": "code",
   "execution_count": 33,
   "metadata": {},
   "outputs": [
    {
     "name": "stdout",
     "output_type": "stream",
     "text": [
      "Math score: 72, Science score: 85, English score: 90\n"
     ]
    }
   ],
   "source": [
    "# Task 3: Unpacking from Lists\n",
    "scores = [72, 85, 90]\n",
    "math_score, science_score, english_score = scores  # Unpacking the list into variables\n",
    "\n",
    "print(f\"Math score: {math_score}, Science score: {science_score}, English score: {english_score}\")"
   ]
  },
  {
   "cell_type": "code",
   "execution_count": 34,
   "metadata": {},
   "outputs": [
    {
     "name": "stdout",
     "output_type": "stream",
     "text": [
      "Student Name: Bob, Student Age: 20, Student Email: bob@example.com\n"
     ]
    }
   ],
   "source": [
    "# Task 4: Unpacking Dictionaries\n",
    "student = {\n",
    "    \"name\": \"Bob\",\n",
    "    \"age\": 20,\n",
    "    \"email\": \"bob@example.com\"\n",
    "}\n",
    "student_name, student_age, student_email = student.values()  # Unpacking dictionary values into variables\n",
    "\n",
    "print(f\"Student Name: {student_name}, Student Age: {student_age}, Student Email: {student_email}\")"
   ]
  },
  {
   "cell_type": "code",
   "execution_count": 35,
   "metadata": {},
   "outputs": [
    {
     "name": "stdout",
     "output_type": "stream",
     "text": [
      "First number: 1, Second number: 2, Remaining numbers: [3, 4, 5, 6, 7, 8]\n"
     ]
    }
   ],
   "source": [
    "# Task 5: Extended Unpacking with Lists\n",
    "numbers = [1, 2, 3, 4, 5, 6, 7, 8]\n",
    "first_num, second_num, *remaining_numbers = numbers  # Extended unpacking\n",
    "\n",
    "print(f\"First number: {first_num}, Second number: {second_num}, Remaining numbers: {remaining_numbers}\")"
   ]
  },
  {
   "cell_type": "code",
   "execution_count": 36,
   "metadata": {},
   "outputs": [
    {
     "name": "stdout",
     "output_type": "stream",
     "text": [
      "After swapping: a = 10, b = 5\n"
     ]
    }
   ],
   "source": [
    "# Bonus: Swapping Values\n",
    "a = 5\n",
    "b = 10\n",
    "a, b = b, a  # Swapping values using unpacking\n",
    "\n",
    "print(f\"After swapping: a = {a}, b = {b}\")"
   ]
  },
  {
   "cell_type": "markdown",
   "metadata": {},
   "source": [
    "Running this code will output the results as described in the expected output of the exercise. Each task utilizes packing and unpacking to simplify handling multiple values at once, demonstrating the versatility and convenience of these features in Python."
   ]
  }
 ],
 "metadata": {
  "kernelspec": {
   "display_name": "py310",
   "language": "python",
   "name": "python3"
  },
  "language_info": {
   "codemirror_mode": {
    "name": "ipython",
    "version": 3
   },
   "file_extension": ".py",
   "mimetype": "text/x-python",
   "name": "python",
   "nbconvert_exporter": "python",
   "pygments_lexer": "ipython3",
   "version": "3.10.12"
  }
 },
 "nbformat": 4,
 "nbformat_minor": 2
}
