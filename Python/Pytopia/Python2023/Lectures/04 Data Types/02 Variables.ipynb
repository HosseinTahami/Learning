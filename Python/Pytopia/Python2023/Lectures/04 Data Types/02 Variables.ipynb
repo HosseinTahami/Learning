{
 "cells": [
  {
   "cell_type": "markdown",
   "metadata": {},
   "source": [
    "<img src=\"./images/banner.png\" width=\"800\">"
   ]
  },
  {
   "cell_type": "markdown",
   "metadata": {},
   "source": [
    "# Variables"
   ]
  },
  {
   "cell_type": "markdown",
   "metadata": {},
   "source": [
    "\n",
    "In our last lesson about Basic Data Types in Python, we looked at simple values. For example, when we did:"
   ]
  },
  {
   "cell_type": "code",
   "execution_count": 5,
   "metadata": {},
   "outputs": [
    {
     "data": {
      "text/plain": [
       "5.3"
      ]
     },
     "execution_count": 5,
     "metadata": {},
     "output_type": "execute_result"
    }
   ],
   "source": [
    "5.3"
   ]
  },
  {
   "cell_type": "markdown",
   "metadata": {},
   "source": [
    "\n",
    "This value, `5.3`, doesn't change. It's like a fact that always stays the same.\n"
   ]
  },
  {
   "cell_type": "markdown",
   "metadata": {},
   "source": [
    "\n",
    "But when we make bigger programs, we need values that can change based on what the program is doing.\n"
   ]
  },
  {
   "cell_type": "markdown",
   "metadata": {},
   "source": [
    "\n",
    "In this lesson, we'll learn about two important things:\n",
    "- **Objects**: Think of this as a box that can hold any type of data.\n",
    "- **Variables**: These are like labels for our boxes. They help us know and use what's inside the box.\n"
   ]
  },
  {
   "cell_type": "markdown",
   "metadata": {},
   "source": [
    "\n",
    "By the end, you'll know how to use these boxes and labels to store and work with different kinds of data in Python. Let's dive in!\n"
   ]
  },
  {
   "cell_type": "markdown",
   "metadata": {},
   "source": [
    "<img src=\"./images/variables.webp\" width=\"400\">"
   ]
  },
  {
   "cell_type": "markdown",
   "metadata": {},
   "source": [
    "**Table of contents**<a id='toc0_'></a>    \n",
    "- [Variable Assignment](#toc1_)    \n",
    "- [Variable Types in Python](#toc2_)    \n",
    "- [Variable Names](#toc3_)    \n",
    "  - [PEP 8](#toc3_1_)    \n",
    "- [Reserved Words (Keywords)](#toc4_)    \n",
    "- [Constants in Python](#toc5_)    \n",
    "  - [Naming Convention](#toc5_1_)    \n",
    "- [Conclusion](#toc6_)    \n",
    "- [Practice Exercises](#toc7_)    \n",
    "\n",
    "<!-- vscode-jupyter-toc-config\n",
    "\tnumbering=false\n",
    "\tanchor=true\n",
    "\tflat=false\n",
    "\tminLevel=2\n",
    "\tmaxLevel=6\n",
    "\t/vscode-jupyter-toc-config -->\n",
    "<!-- THIS CELL WILL BE REPLACED ON TOC UPDATE. DO NOT WRITE YOUR TEXT IN THIS CELL -->"
   ]
  },
  {
   "cell_type": "markdown",
   "metadata": {},
   "source": [
    "## <a id='toc1_'></a>[Variable Assignment](#toc0_)"
   ]
  },
  {
   "cell_type": "markdown",
   "metadata": {},
   "source": [
    "In Python, think of a variable as a label attached to a specific object. Unlike many other programming languages where you need to declare or define a variable in advance, Python offers a more flexible approach. To create a variable in Python, you simply assign a value to it and then you can start using it immediately. The assignment operation is performed using a single equals sign (`=`).\n",
    "\n",
    "For instance:"
   ]
  },
  {
   "cell_type": "code",
   "execution_count": 2,
   "metadata": {},
   "outputs": [],
   "source": [
    "n = 300"
   ]
  },
  {
   "cell_type": "markdown",
   "metadata": {},
   "source": [
    "This can be interpreted as \"n is assigned the value 300.\" Once you've made this assignment, you can use n in any statement or expression, and Python will replace it with its assigned value:"
   ]
  },
  {
   "cell_type": "code",
   "execution_count": 5,
   "metadata": {},
   "outputs": [
    {
     "data": {
      "text/plain": [
       "300"
      ]
     },
     "execution_count": 5,
     "metadata": {},
     "output_type": "execute_result"
    }
   ],
   "source": [
    "n"
   ]
  },
  {
   "cell_type": "markdown",
   "metadata": {},
   "source": [
    "Variables in Python are dynamic, meaning you can change their value anytime in your program. If you modify the value of `n` and use it again, Python will use the updated value:"
   ]
  },
  {
   "cell_type": "code",
   "execution_count": 6,
   "metadata": {},
   "outputs": [],
   "source": [
    "n = 1000"
   ]
  },
  {
   "cell_type": "code",
   "execution_count": 9,
   "metadata": {},
   "outputs": [
    {
     "data": {
      "text/plain": [
       "1000"
      ]
     },
     "execution_count": 9,
     "metadata": {},
     "output_type": "execute_result"
    }
   ],
   "source": [
    "n"
   ]
  },
  {
   "cell_type": "markdown",
   "metadata": {},
   "source": [
    "Python also supports chained assignment, a feature that allows you to assign a single value to multiple variables simultaneously:"
   ]
  },
  {
   "cell_type": "code",
   "execution_count": 10,
   "metadata": {},
   "outputs": [],
   "source": [
    "a = b = c = 300"
   ]
  },
  {
   "cell_type": "code",
   "execution_count": 12,
   "metadata": {},
   "outputs": [
    {
     "data": {
      "text/plain": [
       "(300, 300, 300)"
      ]
     },
     "execution_count": 12,
     "metadata": {},
     "output_type": "execute_result"
    }
   ],
   "source": [
    "a, b, c"
   ]
  },
  {
   "cell_type": "markdown",
   "metadata": {},
   "source": [
    "> **Note:** In Python, you can print multiple variables in a single print statement by separating them with commas. For instance, `print(n, m)` will print the values of `n` and `m` separated by a space. When you execute multiple variables separated by comma in a REPL, Python will print them in a tuple format. For instance, if you execute `n, m` in a REPL, the output will be `(300, 400)`. We'll explore tuples in detail in a later tutorial."
   ]
  },
  {
   "cell_type": "markdown",
   "metadata": {},
   "source": [
    "In the example above, the value 300 is assigned to the variables `a`, `b`, and `c` at the same time. This is a testament to Python's flexibility and power in handling variable assignments."
   ]
  },
  {
   "cell_type": "markdown",
   "metadata": {},
   "source": [
    "## <a id='toc2_'></a>[Variable Types in Python](#toc0_)"
   ]
  },
  {
   "cell_type": "markdown",
   "metadata": {},
   "source": [
    "In many computer languages, once you say a variable is a certain type (like a number or text), it can only be that type. But Python is different. In Python, you can change the type of a variable anytime you want.\n",
    "\n",
    "Look at this example:"
   ]
  },
  {
   "cell_type": "code",
   "execution_count": 13,
   "metadata": {},
   "outputs": [],
   "source": [
    "var = 23.5"
   ]
  },
  {
   "cell_type": "code",
   "execution_count": 14,
   "metadata": {},
   "outputs": [
    {
     "data": {
      "text/plain": [
       "23.5"
      ]
     },
     "execution_count": 14,
     "metadata": {},
     "output_type": "execute_result"
    }
   ],
   "source": [
    "var"
   ]
  },
  {
   "cell_type": "code",
   "execution_count": 15,
   "metadata": {},
   "outputs": [],
   "source": [
    "var = \"I am text now\""
   ]
  },
  {
   "cell_type": "code",
   "execution_count": 16,
   "metadata": {},
   "outputs": [
    {
     "data": {
      "text/plain": [
       "'I am text now'"
      ]
     },
     "execution_count": 16,
     "metadata": {},
     "output_type": "execute_result"
    }
   ],
   "source": [
    "var"
   ]
  },
  {
   "cell_type": "markdown",
   "metadata": {},
   "source": [
    "This shows that in Python, variables are flexible. You can change their type easily."
   ]
  },
  {
   "cell_type": "markdown",
   "metadata": {},
   "source": [
    "## <a id='toc3_'></a>[Variable Names](#toc0_)"
   ]
  },
  {
   "cell_type": "markdown",
   "metadata": {},
   "source": [
    "So far, we've seen simple variable names like `m` and `n`. But we can use longer names too. Long names can be helpful because they tell us more about what the variable is for."
   ]
  },
  {
   "cell_type": "markdown",
   "metadata": {},
   "source": [
    "\n",
    "In Python, variable names can:\n",
    "- Be as long as you want.\n",
    "- Use both small and capital letters (a-z, A-Z).\n",
    "- Have numbers (0-9), but not at the start.\n",
    "- Use the underscore (_) character.\n"
   ]
  },
  {
   "cell_type": "markdown",
   "metadata": {},
   "source": [
    "For example, these are all good variable names:"
   ]
  },
  {
   "cell_type": "code",
   "execution_count": 23,
   "metadata": {},
   "outputs": [],
   "source": [
    "name = \"Nika\"\n",
    "Age = 16\n",
    "has_W2 = True"
   ]
  },
  {
   "cell_type": "code",
   "execution_count": 24,
   "metadata": {},
   "outputs": [
    {
     "data": {
      "text/plain": [
       "('Nika', 16, True)"
      ]
     },
     "execution_count": 24,
     "metadata": {},
     "output_type": "execute_result"
    }
   ],
   "source": [
    "name, Age, has_W2"
   ]
  },
  {
   "cell_type": "markdown",
   "metadata": {},
   "source": [
    "But this one isn't good because it starts with a number:"
   ]
  },
  {
   "cell_type": "code",
   "execution_count": 22,
   "metadata": {},
   "outputs": [
    {
     "ename": "SyntaxError",
     "evalue": "invalid decimal literal (1068749700.py, line 1)",
     "output_type": "error",
     "traceback": [
      "\u001b[0;36m  Cell \u001b[0;32mIn[22], line 1\u001b[0;36m\u001b[0m\n\u001b[0;31m    1401_protests\u001b[0m\n\u001b[0m        ^\u001b[0m\n\u001b[0;31mSyntaxError\u001b[0m\u001b[0;31m:\u001b[0m invalid decimal literal\n"
     ]
    }
   ],
   "source": [
    "1401_protests"
   ]
  },
  {
   "cell_type": "markdown",
   "metadata": {},
   "source": [
    "Remember, `age` and `Age` are different because Python cares about small and capital letters. The underscore (`_`) is also important. So, all these are different variables:"
   ]
  },
  {
   "cell_type": "code",
   "execution_count": 25,
   "metadata": {},
   "outputs": [],
   "source": [
    "age = 1\n",
    "Age = 2\n",
    "aGe = 3\n",
    "AGE = 4\n",
    "a_g_e = 5\n",
    "_age = 6\n",
    "age_ = 7\n",
    "_AGE_ = 8"
   ]
  },
  {
   "cell_type": "markdown",
   "metadata": {},
   "source": [
    "It's a good idea to give a variable a clear name. For example, if you're counting people who finished college, you could use:"
   ]
  },
  {
   "cell_type": "code",
   "execution_count": null,
   "metadata": {},
   "outputs": [],
   "source": [
    "number_of_college_graduates = 2500"
   ]
  },
  {
   "cell_type": "markdown",
   "metadata": {},
   "source": [
    "This is better than just `n` or `ncg`. It tells us what the number is about."
   ]
  },
  {
   "cell_type": "markdown",
   "metadata": {},
   "source": [
    "There are different ways to write long names:\n",
    "\n",
    "- `Camel Case`: Only the first letter of each word is capital, like numberOfCollegeGraduates.\n",
    "- `Pascal Case`: The first letter of every word is capital, like NumberOfCollegeGraduates.\n",
    "- `Snake Case`: Words are separated by underscores, like number_of_college_graduates."
   ]
  },
  {
   "cell_type": "markdown",
   "metadata": {},
   "source": [
    "There's a style guide for Python called PEP 8. It gives advice on naming:\n",
    "\n",
    "- Use Snake Case for variables and functions.\n",
    "- Use Pascal Case for class names."
   ]
  },
  {
   "cell_type": "markdown",
   "metadata": {},
   "source": [
    "\n",
    "Using the right style makes your code easier to read. For example, look at these two variables:\n",
    "- `numberOfCollegeGraduates`\n",
    "- `number_of_college_graduates`"
   ]
  },
  {
   "cell_type": "markdown",
   "metadata": {},
   "source": [
    "\n",
    "The second one is easier to read because the words are separated by underscores. This is why we use Snake Case for variables. It's also a good idea to use meaningful names. For example, `numberOfCollegeGraduates` is better than `n`. It's easier to understand what the variable is for."
   ]
  },
  {
   "cell_type": "markdown",
   "metadata": {},
   "source": [
    "\n",
    "Classes are a way to group functions and variables. However, classes are not covered in this tutorial, so we won't talk about them here. Classes are covered in the sections on Object-Oriented Programming in Python."
   ]
  },
  {
   "cell_type": "markdown",
   "metadata": {},
   "source": [
    "### <a id='toc3_1_'></a>[PEP 8](#toc0_)\n",
    "\n",
    "PEP 8 is the official style guide for Python code. It's a set of rules that Python developers follow to make their code more readable and consistent. By following PEP 8, it's easier for other developers to understand and work with your code.\n",
    "\n",
    "Some things PEP 8 talks about are:\n",
    "- How to format your code (like spaces and indentation).\n",
    "- How to name variables, functions, and classes.\n",
    "- How to organize your code and comments.\n",
    "\n",
    "It's not a must to follow PEP 8, but it's a good idea, especially if you're working with others. It helps everyone write code in a similar style, making teamwork smoother.\n",
    "\n",
    "We won't talk about PEP 8 in detail here, but you can [read it online](https://peps.python.org/pep-0008/) if you want to learn more."
   ]
  },
  {
   "cell_type": "markdown",
   "metadata": {},
   "source": [
    "## <a id='toc4_'></a>[Reserved Words (Keywords)](#toc0_)"
   ]
  },
  {
   "cell_type": "markdown",
   "metadata": {},
   "source": [
    "In Python, there are some special words that have a fixed meaning. These words are called \"reserved words\" or \"keywords\". We can't use these words as names for our variables, functions, or any other objects."
   ]
  },
  {
   "cell_type": "markdown",
   "metadata": {},
   "source": [
    "Here's a list of these reserved words in Python 3.10:\n",
    "\n",
    "|Keywords|       |       |       |\n",
    "|-------|-------|-------|-------|\n",
    "| `False` | `await` | `else`  | `import`|\n",
    "| `None`  | `break` | `except`| `in`    |\n",
    "| `True`  | `class` | `finally`| `is`   |\n",
    "| `and`   | `continue`| `for`  | `lambda`|\n",
    "| `as`    | `def`   | `from`  | `nonlocal`|\n",
    "| `assert`| `del`   | `global`| `not`   |\n",
    "| `async` | `elif`  | `if`    | `or`    |\n",
    "| `pass`  | `raise` | `return`| `try`   |\n",
    "| `while` | `with`  | `yield` | `match` |\n",
    "| `case`  |       |       |       |"
   ]
  },
  {
   "cell_type": "markdown",
   "metadata": {},
   "source": [
    "If you ever forget these words, you can see the list by typing `help(\"keywords\")` in Python."
   ]
  },
  {
   "cell_type": "markdown",
   "metadata": {},
   "source": [
    "\n",
    "All these words are in small letters, except for `False`, `None`, and `True`.\n"
   ]
  },
  {
   "cell_type": "markdown",
   "metadata": {},
   "source": [
    "\n",
    "If you try to use any of these words as a name, Python will give an error. For example:"
   ]
  },
  {
   "cell_type": "code",
   "execution_count": 1,
   "metadata": {},
   "outputs": [
    {
     "ename": "SyntaxError",
     "evalue": "invalid syntax (191355952.py, line 1)",
     "output_type": "error",
     "traceback": [
      "\u001b[0;36m  Cell \u001b[0;32mIn[1], line 1\u001b[0;36m\u001b[0m\n\u001b[0;31m    for = 3\u001b[0m\n\u001b[0m        ^\u001b[0m\n\u001b[0;31mSyntaxError\u001b[0m\u001b[0;31m:\u001b[0m invalid syntax\n"
     ]
    }
   ],
   "source": [
    "for = 3"
   ]
  },
  {
   "cell_type": "markdown",
   "metadata": {},
   "source": [
    "This will show an error because for is a reserved word."
   ]
  },
  {
   "cell_type": "markdown",
   "metadata": {},
   "source": [
    "## <a id='toc5_'></a>[Constants in Python](#toc0_)"
   ]
  },
  {
   "cell_type": "markdown",
   "metadata": {},
   "source": [
    "\n",
    "In many programming languages, there's a concept of \"constants\". These are values that don't change once they're set. Python doesn't have built-in support for constants, but there's a convention that we follow to indicate that a value shouldn't be changed.\n"
   ]
  },
  {
   "cell_type": "markdown",
   "metadata": {},
   "source": [
    "\n",
    "### <a id='toc5_1_'></a>[Naming Convention](#toc0_)\n"
   ]
  },
  {
   "cell_type": "markdown",
   "metadata": {},
   "source": [
    "In python, by convention, constants are written in all capital letters and underscores separating the words. For example:\n"
   ]
  },
  {
   "cell_type": "code",
   "execution_count": 2,
   "metadata": {},
   "outputs": [],
   "source": [
    "PI = 3.14159\n",
    "MAX_SIZE = 100"
   ]
  },
  {
   "cell_type": "markdown",
   "metadata": {},
   "source": [
    "By seeing the all-caps variable names, developers know they shouldn't change these values."
   ]
  },
  {
   "cell_type": "markdown",
   "metadata": {},
   "source": [
    "> **Note:**\n",
    "> Even though we call them \"constants\", **these values can technically still be changed in Python**. The all-caps naming is just a convention to tell other developers that they shouldn't change it. It's up to the developers to respect this convention and not modify the constant values."
   ]
  },
  {
   "cell_type": "markdown",
   "metadata": {},
   "source": [
    "## <a id='toc6_'></a>[Conclusion](#toc0_)"
   ]
  },
  {
   "cell_type": "markdown",
   "metadata": {},
   "source": [
    "\n",
    "In this tutorial, we delved deep into the world of Python variables. We learned about their dynamic nature, how to name them appropriately, the significance of reserved keywords, and the convention for defining constants. \n"
   ]
  },
  {
   "cell_type": "markdown",
   "metadata": {},
   "source": [
    "\n",
    "Python's flexibility with variables is one of its strengths, allowing developers to write code more intuitively and without excessive constraints. However, with this flexibility comes the responsibility to use meaningful names and adhere to conventions, ensuring that the code remains readable and maintainable.\n"
   ]
  },
  {
   "cell_type": "markdown",
   "metadata": {},
   "source": [
    "\n",
    "As you continue your Python journey, always remember the importance of clear and consistent code. It not only benefits others who might read your code but also your future self. Happy coding!"
   ]
  },
  {
   "cell_type": "markdown",
   "metadata": {},
   "source": [
    "## <a id='toc7_'></a>[Practice Exercises](#toc0_)"
   ]
  },
  {
   "cell_type": "markdown",
   "metadata": {},
   "source": [
    "\n",
    "Here are some exercises to help you practice what you've learned about variables, constants, and reserved keywords in Python:\n"
   ]
  },
  {
   "cell_type": "markdown",
   "metadata": {},
   "source": [
    "\n",
    "1. **Simple Assignment**\n",
    "   - Create a variable named `fruit` and assign it the value \"apple\".\n",
    "   - Print the value of `fruit`.\n",
    "   - Change the value of `fruit` to \"banana\" and print it again.\n"
   ]
  },
  {
   "cell_type": "markdown",
   "metadata": {},
   "source": [
    "\n",
    "2. **Using Constants**\n",
    "   - Make a constant named `MAX_SCORE` and set its value to 100.\n",
    "   - Try to change the value of `MAX_SCORE` to 90 and see what happens. Can you change it? Why?\n"
   ]
  },
  {
   "cell_type": "markdown",
   "metadata": {},
   "source": [
    "\n",
    "3. **Variable Names**\n",
    "   - Create three variables: `myAge`, `my_name`, and `MyHeight`.\n",
    "   - Assign any values to these variables and print them.\n"
   ]
  },
  {
   "cell_type": "markdown",
   "metadata": {},
   "source": [
    "4. **Reserved Keywords**\n",
    "   - Try to create a variable with the name `while`. What happens?\n",
    "   - Rename the variable to something that's not a reserved keyword and print its value.\n"
   ]
  },
  {
   "cell_type": "markdown",
   "metadata": {},
   "source": [
    "5. **Multiple Assignments**\n",
    "   - Assign values to three variables `x`, `y`, and `z` in a single line.\n",
    "   - Print the values of `x`, `y`, and `z`.\n"
   ]
  }
 ],
 "metadata": {
  "kernelspec": {
   "display_name": "py310",
   "language": "python",
   "name": "python3"
  },
  "language_info": {
   "codemirror_mode": {
    "name": "ipython",
    "version": 3
   },
   "file_extension": ".py",
   "mimetype": "text/x-python",
   "name": "python",
   "nbconvert_exporter": "python",
   "pygments_lexer": "ipython3",
   "version": "3.10.12"
  },
  "orig_nbformat": 4
 },
 "nbformat": 4,
 "nbformat_minor": 2
}
