{
 "cells": [
  {
   "cell_type": "markdown",
   "metadata": {},
   "source": [
    "<img src=\"./images/banner.png\" width=\"800\">"
   ]
  },
  {
   "cell_type": "markdown",
   "metadata": {},
   "source": [
    "# Strings"
   ]
  },
  {
   "cell_type": "markdown",
   "metadata": {},
   "source": [
    "\n",
    "In our journey through Python's basic data types, we briefly encountered strings. Before we delve deeper, let's take a moment to revisit and reinforce our understanding of this fundamental data type.\n"
   ]
  },
  {
   "cell_type": "markdown",
   "metadata": {},
   "source": [
    "Strings are one of the most commonly used data types in programming. Whether you're displaying messages to users, reading input, or processing text files, strings play a pivotal role in many programming tasks. In the previous lecture on basic data types, we touched upon strings briefly. Now, we'll delve deeper to understand the intricacies of this essential data type."
   ]
  },
  {
   "cell_type": "markdown",
   "metadata": {},
   "source": [
    "\n",
    "In our daily lives, we deal with text all the time: messages, names, addresses, and more. Similarly, in the digital world, text data is represented using strings. This lecture aims to provide you with a solid foundation on how strings are created, accessed, and some of their fundamental properties.\n"
   ]
  },
  {
   "cell_type": "markdown",
   "metadata": {},
   "source": [
    "\n",
    "By the end of this lecture, you'll have a clear understanding of the basics of strings, preparing you for more advanced topics in the future. Let's embark on this textual journey!"
   ]
  },
  {
   "cell_type": "markdown",
   "metadata": {},
   "source": [
    "**Table of contents**<a id='toc0_'></a>    \n",
    "- [Why are Strings Important?](#toc1_)    \n",
    "- [What is a string?](#toc2_)    \n",
    "- [Creating and Assigning Strings in Python](#toc3_)    \n",
    "- [Multiline Strings](#toc4_)    \n",
    "\n",
    "<!-- vscode-jupyter-toc-config\n",
    "\tnumbering=false\n",
    "\tanchor=true\n",
    "\tflat=false\n",
    "\tminLevel=2\n",
    "\tmaxLevel=6\n",
    "\t/vscode-jupyter-toc-config -->\n",
    "<!-- THIS CELL WILL BE REPLACED ON TOC UPDATE. DO NOT WRITE YOUR TEXT IN THIS CELL -->"
   ]
  },
  {
   "cell_type": "markdown",
   "metadata": {},
   "source": [
    "## <a id='toc1_'></a>[Why are Strings Important?](#toc0_)\n"
   ]
  },
  {
   "cell_type": "markdown",
   "metadata": {},
   "source": [
    "Imagine a world without text. No books, no messages, no names. Hard to picture, right? In the realm of programming, strings serve as our primary means of representing and manipulating text data. From simple messages displayed on a screen to vast databases storing names and addresses, strings are everywhere.\n"
   ]
  },
  {
   "cell_type": "markdown",
   "metadata": {},
   "source": [
    "Strings play a pivotal role in programming for various reasons:\n",
    "\n",
    "1. **Text Representation**: Most of the data we encounter in real-world applications, such as names, addresses, descriptions, and more, are text-based, and strings are the go-to datatype for such representations.\n",
    "\n",
    "2. **Data Storage and Retrieval**: Strings are widely used in storing data in databases, reading data from files, and more.\n",
    "\n",
    "3. **Communication**: When dealing with web services or APIs, we often send and receive data in string formats, such as JSON or XML.\n",
    "\n",
    "4. **User Interaction**: In most applications, the interaction between the user and the system happens through strings, whether it's input via a keyboard or output displayed on a screen."
   ]
  },
  {
   "cell_type": "markdown",
   "metadata": {},
   "source": [
    "\n",
    "## <a id='toc2_'></a>[What is a string?](#toc0_)\n"
   ]
  },
  {
   "cell_type": "markdown",
   "metadata": {},
   "source": [
    "At its core, a string is a sequence of characters. In Python, characters can be alphabets, numbers, punctuation, or even spaces. Essentially, any key you can type on a keyboard can be part of a string.\n"
   ]
  },
  {
   "cell_type": "markdown",
   "metadata": {},
   "source": [
    "<img src=\"./images/string.png\" width=\"800\">"
   ]
  },
  {
   "cell_type": "markdown",
   "metadata": {},
   "source": [
    "## <a id='toc3_'></a>[Creating and Assigning Strings in Python](#toc0_)"
   ]
  },
  {
   "cell_type": "markdown",
   "metadata": {},
   "source": [
    "In Python, you can create strings by enclosing characters in quotes. Python treats both single quotes (`'`) and double quotes (`\"`) as the same, meaning you can use either based on your preference and the scenario."
   ]
  },
  {
   "cell_type": "code",
   "execution_count": 1,
   "metadata": {},
   "outputs": [],
   "source": [
    "name = \"Minoo Majidi\""
   ]
  },
  {
   "cell_type": "code",
   "execution_count": 2,
   "metadata": {},
   "outputs": [
    {
     "data": {
      "text/plain": [
       "'Minoo Majidi'"
      ]
     },
     "execution_count": 2,
     "metadata": {},
     "output_type": "execute_result"
    }
   ],
   "source": [
    "name"
   ]
  },
  {
   "cell_type": "code",
   "execution_count": 3,
   "metadata": {},
   "outputs": [],
   "source": [
    "message = 'Welcome to Python!'"
   ]
  },
  {
   "cell_type": "code",
   "execution_count": 4,
   "metadata": {},
   "outputs": [
    {
     "data": {
      "text/plain": [
       "'Welcome to Python!'"
      ]
     },
     "execution_count": 4,
     "metadata": {},
     "output_type": "execute_result"
    }
   ],
   "source": [
    "message"
   ]
  },
  {
   "cell_type": "markdown",
   "metadata": {},
   "source": [
    "However, when you want to include a quote character within the string, you need to be cautious. Let's understand this with an example:"
   ]
  },
  {
   "cell_type": "code",
   "execution_count": 5,
   "metadata": {},
   "outputs": [
    {
     "ename": "SyntaxError",
     "evalue": "invalid syntax (<ipython-input-5-8ad2acd58c79>, line 2)",
     "output_type": "error",
     "traceback": [
      "\u001b[0;36m  File \u001b[0;32m\"<ipython-input-5-8ad2acd58c79>\"\u001b[0;36m, line \u001b[0;32m2\u001b[0m\n\u001b[0;31m    'It's a beautiful day!'\u001b[0m\n\u001b[0m        ^\u001b[0m\n\u001b[0;31mSyntaxError\u001b[0m\u001b[0;31m:\u001b[0m invalid syntax\n"
     ]
    }
   ],
   "source": [
    "# This will cause a syntax error\n",
    "'It's a beautiful day!'"
   ]
  },
  {
   "cell_type": "code",
   "execution_count": 6,
   "metadata": {},
   "outputs": [
    {
     "data": {
      "text/plain": [
       "\"It's a beautiful day!\""
      ]
     },
     "execution_count": 6,
     "metadata": {},
     "output_type": "execute_result"
    }
   ],
   "source": [
    "# Correct way:\n",
    "\"It's a beautiful day!\"  # Using double quotes if the string contains single quotes"
   ]
  },
  {
   "cell_type": "code",
   "execution_count": 7,
   "metadata": {},
   "outputs": [
    {
     "data": {
      "text/plain": [
       "'He said, \"Hello!\"'"
      ]
     },
     "execution_count": 7,
     "metadata": {},
     "output_type": "execute_result"
    }
   ],
   "source": [
    "'He said, \"Hello!\"'  # Using single quotes if the string contains double quotes"
   ]
  },
  {
   "cell_type": "markdown",
   "metadata": {},
   "source": [
    "## <a id='toc4_'></a>[Multiline Strings](#toc0_)"
   ]
  },
  {
   "cell_type": "markdown",
   "metadata": {},
   "source": [
    "Sometimes, you might want to represent a string that spans multiple lines. Python provides a way to define such strings using triple quotes (`'''` or `\"\"\"`)."
   ]
  },
  {
   "cell_type": "code",
   "execution_count": 8,
   "metadata": {},
   "outputs": [],
   "source": [
    "message = \"\"\"\n",
    "Hello,\n",
    "This is a multiline string in Python.\n",
    "Have a great day!\n",
    "\"\"\""
   ]
  },
  {
   "cell_type": "code",
   "execution_count": 9,
   "metadata": {},
   "outputs": [
    {
     "data": {
      "text/plain": [
       "'\\nHello,\\nThis is a multiline string in Python.\\nHave a great day!\\n'"
      ]
     },
     "execution_count": 9,
     "metadata": {},
     "output_type": "execute_result"
    }
   ],
   "source": [
    "message"
   ]
  },
  {
   "cell_type": "code",
   "execution_count": 10,
   "metadata": {},
   "outputs": [
    {
     "name": "stdout",
     "output_type": "stream",
     "text": [
      "\n",
      "Hello,\n",
      "This is a multiline string in Python.\n",
      "Have a great day!\n",
      "\n"
     ]
    }
   ],
   "source": [
    "# The difference between print and just typing the variable name is that print will print the value of the variable, but not the quotes around it.\n",
    "# also print displays the string new line character as a new line.\n",
    "# The difference will be more clear when you learn about repr and str in Python.\n",
    "print(message)"
   ]
  },
  {
   "cell_type": "markdown",
   "metadata": {},
   "source": [
    "Triple quotes are also commonly used for docstrings in Python to provide documentation for functions, classes, and modules. We'll learn more about docstrings in later lectures."
   ]
  }
 ],
 "metadata": {
  "kernelspec": {
   "display_name": "py38",
   "language": "python",
   "name": "python3"
  },
  "language_info": {
   "codemirror_mode": {
    "name": "ipython",
    "version": 3
   },
   "file_extension": ".py",
   "mimetype": "text/x-python",
   "name": "python",
   "nbconvert_exporter": "python",
   "pygments_lexer": "ipython3",
   "version": "3.10.12"
  },
  "orig_nbformat": 4
 },
 "nbformat": 4,
 "nbformat_minor": 2
}
