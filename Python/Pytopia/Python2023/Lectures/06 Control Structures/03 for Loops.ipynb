{
 "cells": [
  {
   "cell_type": "markdown",
   "metadata": {},
   "source": [
    "<img src=\"./images/banner.png\" width=\"800\">"
   ]
  },
  {
   "cell_type": "markdown",
   "metadata": {},
   "source": [
    "# Looping Constructs in Python: `for` Loops"
   ]
  },
  {
   "cell_type": "markdown",
   "metadata": {},
   "source": [
    "Welcome to the lecture on Looping Constructs in Python. Loops play a critical role in programming by allowing us to execute a block of code repeatedly. This repetition is a fundamental concept that enables automation of repetitive tasks, iteration over data structures, and the construction of more complex algorithms."
   ]
  },
  {
   "cell_type": "markdown",
   "metadata": {},
   "source": [
    "In this section, we will explore the two primary types of loops available in Python:\n",
    "\n",
    "1. **The `for` Loop**: A `for` loop is used for iterating over a sequence, such as lists, tuples, dictionaries, sets, or strings. It is the go-to loop for a known number of iterations and is often employed in data processing and repetitive task execution.\n",
    "\n",
    "2. **The `while` Loop**: A `while` loop repeatedly executes a target statement as long as a given condition remains true. It is useful for scenarios where the number of iterations is not known in advance and for maintaining a loop under certain conditions."
   ]
  },
  {
   "cell_type": "markdown",
   "metadata": {},
   "source": [
    "Understanding these looping constructs will provide you with the tools to manipulate data, automate tasks, and implement solutions to a wide array of programming problems."
   ]
  },
  {
   "cell_type": "markdown",
   "metadata": {},
   "source": [
    "In this section, we will focus exclusively on the for loop, exploring its syntax, usages, and various forms, including iterating over different types of sequences, using the `range()` function, and employing nested loops."
   ]
  },
  {
   "cell_type": "markdown",
   "metadata": {},
   "source": [
    "**Table of contents**<a id='toc0_'></a>    \n",
    "- [Definite Iteration in Programming](#toc1_)    \n",
    "  - [Numeric Range Loop](#toc1_1_)    \n",
    "  - [Three-Expression Loop](#toc1_2_)    \n",
    "  - [Collection-Based or Iterator-Based Loop](#toc1_3_)    \n",
    "- [The `for` Loop in Python](#toc2_)    \n",
    "  - [Iterating Over Sequences](#toc2_1_)    \n",
    "    - [Lists](#toc2_1_1_)    \n",
    "    - [Tuples](#toc2_1_2_)    \n",
    "    - [Dictionaries](#toc2_1_3_)    \n",
    "    - [Sets](#toc2_1_4_)    \n",
    "    - [Strings](#toc2_1_5_)    \n",
    "- [Using `range()`](#toc3_)    \n",
    "- [Additional Functions in For Loops](#toc4_)    \n",
    "  - [The `enumerate()` Function](#toc4_1_)    \n",
    "  - [The `sorted()` Function](#toc4_2_)    \n",
    "- [Nested Loops](#toc5_)    \n",
    "- [Conclusion](#toc6_)    \n",
    "- [Exercise: Processing and Analyzing Temperature Data](#toc7_)    \n",
    "  - [Solution](#toc7_1_)    \n",
    "\n",
    "<!-- vscode-jupyter-toc-config\n",
    "\tnumbering=false\n",
    "\tanchor=true\n",
    "\tflat=false\n",
    "\tminLevel=2\n",
    "\tmaxLevel=6\n",
    "\t/vscode-jupyter-toc-config -->\n",
    "<!-- THIS CELL WILL BE REPLACED ON TOC UPDATE. DO NOT WRITE YOUR TEXT IN THIS CELL -->"
   ]
  },
  {
   "cell_type": "markdown",
   "metadata": {},
   "source": []
  },
  {
   "cell_type": "markdown",
   "metadata": {},
   "source": [
    "## <a id='toc1_'></a>[Definite Iteration in Programming](#toc0_)"
   ]
  },
  {
   "cell_type": "markdown",
   "metadata": {},
   "source": [
    "Before we delve into the Python-specific for loop, let's take a moment to recognize the different types of for loops that exist across programming languages.\n"
   ]
  },
  {
   "cell_type": "markdown",
   "metadata": {},
   "source": [
    "Definite iteration, commonly known as a `for` loop, is a mechanism in programming where a block of code is repeatedly executed for a specified number of times. The keyword `for` is used to introduce this type of loop in most programming languages, including Python.\n"
   ]
  },
  {
   "cell_type": "markdown",
   "metadata": {},
   "source": [
    "Historically, there have been various forms of `for` loops provided by different languages. Below are brief descriptions of some of these styles:\n"
   ]
  },
  {
   "cell_type": "markdown",
   "metadata": {},
   "source": [
    "### <a id='toc1_1_'></a>[Numeric Range Loop](#toc0_)"
   ]
  },
  {
   "cell_type": "markdown",
   "metadata": {},
   "source": [
    "One of the simplest forms of the `for` loop is the numeric range loop, where the loop iterates over a sequence of numbers between a start and end value. It typically looks like this in languages such as BASIC, Algol, and Pascal:\n"
   ]
  },
  {
   "cell_type": "markdown",
   "metadata": {},
   "source": [
    "```pascal\n",
    "for i := 1 to 10 do\n",
    "    <loop body>\n",
    "```\n"
   ]
  },
  {
   "cell_type": "markdown",
   "metadata": {},
   "source": [
    "In this structure, the loop body is executed ten times, with the variable `i` taking on values from 1 to 10, incrementing by 1 with each iteration.\n"
   ]
  },
  {
   "cell_type": "markdown",
   "metadata": {},
   "source": [
    "### <a id='toc1_2_'></a>[Three-Expression Loop](#toc0_)"
   ]
  },
  {
   "cell_type": "markdown",
   "metadata": {},
   "source": [
    "Made popular by the C programming language, this form of `for` loop consists of three components:\n",
    "\n",
    "- An initialization statement.\n",
    "- A test expression that determines when the loop should terminate.\n",
    "- An iteration expression that updates the loop variable.\n"
   ]
  },
  {
   "cell_type": "markdown",
   "metadata": {},
   "source": [
    "```c\n",
    "for (i = 0; i < 10; i++) {\n",
    "    <loop body>\n",
    "}\n",
    "```\n"
   ]
  },
  {
   "cell_type": "markdown",
   "metadata": {},
   "source": [
    "Here's how this loop works:\n",
    "\n",
    "1. Initialize `i` to 0.\n",
    "2. Continue looping as long as `i < 10`.\n",
    "3. Increment `i` by 1 after each loop iteration.\n"
   ]
  },
  {
   "cell_type": "markdown",
   "metadata": {},
   "source": [
    "The flexibility of the expressions in the three-expression `for` loop makes it powerful. Similar constructs are found in C++, Java, PHP, and Perl.\n"
   ]
  },
  {
   "cell_type": "markdown",
   "metadata": {},
   "source": [
    "### <a id='toc1_3_'></a>[Collection-Based or Iterator-Based Loop](#toc0_)"
   ]
  },
  {
   "cell_type": "markdown",
   "metadata": {},
   "source": [
    "This variant of the `for` loop iterates over a collection of objects or an iterator, rather than working with numerical ranges or conditions directly:\n"
   ]
  },
  {
   "cell_type": "markdown",
   "metadata": {},
   "source": [
    "```python\n",
    "for item in collection:\n",
    "    <loop body>\n",
    "```\n"
   ]
  },
  {
   "cell_type": "markdown",
   "metadata": {},
   "source": [
    "In each iteration, the variable `item` is assigned the next value from the collection. This abstract form of looping is highly versatile and is used in various languages. Perl and PHP use a similar construct called `foreach`.\n"
   ]
  },
  {
   "cell_type": "markdown",
   "metadata": {},
   "source": [
    "For more information on the various implementations and history of the `for` loop across programming languages, you may visit the [For loop Wikipedia page](https://en.wikipedia.org/wiki/For_loop).\n"
   ]
  },
  {
   "cell_type": "markdown",
   "metadata": {},
   "source": [
    "In our exploration of the `for` loop in Python, we will see how Python's approach allows for clear and concise iteration over collections and ranges, making it a powerful tool in a programmer's arsenal."
   ]
  },
  {
   "cell_type": "markdown",
   "metadata": {},
   "source": [
    "## <a id='toc2_'></a>[The `for` Loop in Python](#toc0_)"
   ]
  },
  {
   "cell_type": "markdown",
   "metadata": {},
   "source": [
    "The `for` loop in Python is a versatile and powerful tool for iterating over the elements of a sequence or any iterable object. This includes built-in data types like lists, tuples, dictionaries, sets, and strings. Let's explore how to use the `for` loop with these different data types and other useful constructs such as `range()` and nested loops.\n"
   ]
  },
  {
   "cell_type": "markdown",
   "metadata": {},
   "source": [
    "### <a id='toc2_1_'></a>[Iterating Over Sequences](#toc0_)\n"
   ]
  },
  {
   "cell_type": "markdown",
   "metadata": {},
   "source": [
    "#### <a id='toc2_1_1_'></a>[Lists](#toc0_)\n",
    "A list in Python is an ordered collection of items. You can iterate over each item in a list using a `for` loop.\n"
   ]
  },
  {
   "cell_type": "code",
   "execution_count": 1,
   "metadata": {},
   "outputs": [
    {
     "name": "stdout",
     "output_type": "stream",
     "text": [
      "apple\n",
      "banana\n",
      "cherry\n"
     ]
    }
   ],
   "source": [
    "fruits = [\"apple\", \"banana\", \"cherry\"]\n",
    "for fruit in fruits:\n",
    "    print(fruit)"
   ]
  },
  {
   "cell_type": "markdown",
   "metadata": {},
   "source": [
    "#### <a id='toc2_1_2_'></a>[Tuples](#toc0_)"
   ]
  },
  {
   "cell_type": "markdown",
   "metadata": {},
   "source": [
    "Tuples are similar to lists but are immutable. Iteration over a tuple is done in the same way as with a list.\n"
   ]
  },
  {
   "cell_type": "code",
   "execution_count": 2,
   "metadata": {},
   "outputs": [
    {
     "name": "stdout",
     "output_type": "stream",
     "text": [
      "1\n",
      "2\n",
      "3\n"
     ]
    }
   ],
   "source": [
    "coordinates = (1, 2, 3)\n",
    "for coordinate in coordinates:\n",
    "    print(coordinate)"
   ]
  },
  {
   "cell_type": "markdown",
   "metadata": {},
   "source": [
    "#### <a id='toc2_1_3_'></a>[Dictionaries](#toc0_)\n",
    "Dictionaries store key-value pairs. You can iterate over the keys, values, or key-value pairs in a dictionary.\n"
   ]
  },
  {
   "cell_type": "code",
   "execution_count": 3,
   "metadata": {},
   "outputs": [
    {
     "name": "stdout",
     "output_type": "stream",
     "text": [
      "name\n",
      "age\n",
      "gender\n",
      "Alice\n",
      "25\n",
      "Female\n",
      "name: Alice\n",
      "age: 25\n",
      "gender: Female\n"
     ]
    }
   ],
   "source": [
    "person = {\"name\": \"Alice\", \"age\": 25, \"gender\": \"Female\"}\n",
    "# Iterating over keys\n",
    "for key in person:\n",
    "    print(key)\n",
    "\n",
    "# Iterating over values\n",
    "for value in person.values():\n",
    "    print(value)\n",
    "\n",
    "# Iterating over key-value pairs\n",
    "for key, value in person.items():\n",
    "    print(f\"{key}: {value}\")"
   ]
  },
  {
   "cell_type": "markdown",
   "metadata": {},
   "source": [
    "#### <a id='toc2_1_4_'></a>[Sets](#toc0_)"
   ]
  },
  {
   "cell_type": "markdown",
   "metadata": {},
   "source": [
    "Sets are unordered collections of unique elements. Iterating over a set is similar to iterating over a list.\n"
   ]
  },
  {
   "cell_type": "code",
   "execution_count": 4,
   "metadata": {},
   "outputs": [
    {
     "name": "stdout",
     "output_type": "stream",
     "text": [
      "1\n",
      "2\n",
      "3\n",
      "4\n",
      "5\n"
     ]
    }
   ],
   "source": [
    "numbers_set = {1, 2, 3, 4, 5}\n",
    "for number in numbers_set:\n",
    "    print(number)"
   ]
  },
  {
   "cell_type": "markdown",
   "metadata": {},
   "source": [
    "#### <a id='toc2_1_5_'></a>[Strings](#toc0_)\n",
    "Strings are sequences of characters, and you can iterate over each character using a `for` loop.\n"
   ]
  },
  {
   "cell_type": "code",
   "execution_count": 5,
   "metadata": {},
   "outputs": [
    {
     "name": "stdout",
     "output_type": "stream",
     "text": [
      "H\n",
      "e\n",
      "l\n",
      "l\n",
      "o\n"
     ]
    }
   ],
   "source": [
    "greeting = \"Hello\"\n",
    "for letter in greeting:\n",
    "    print(letter)"
   ]
  },
  {
   "cell_type": "markdown",
   "metadata": {},
   "source": [
    "## <a id='toc3_'></a>[Using `range()`](#toc0_)\n",
    "The `range()` function generates a sequence of numbers, which is often used for looping a specific number of times in `for` loops.\n"
   ]
  },
  {
   "cell_type": "code",
   "execution_count": 6,
   "metadata": {},
   "outputs": [
    {
     "name": "stdout",
     "output_type": "stream",
     "text": [
      "0\n",
      "1\n",
      "2\n",
      "3\n",
      "4\n"
     ]
    }
   ],
   "source": [
    "# Using range to iterate over a sequence of numbers\n",
    "for i in range(5):  # Will iterate over 0, 1, 2, 3, 4\n",
    "    print(i)"
   ]
  },
  {
   "cell_type": "code",
   "execution_count": 7,
   "metadata": {},
   "outputs": [
    {
     "name": "stdout",
     "output_type": "stream",
     "text": [
      "2\n",
      "4\n",
      "6\n",
      "8\n"
     ]
    }
   ],
   "source": [
    "# Using range with start, stop, and step arguments\n",
    "for i in range(2, 10, 2):  # Will iterate over 2, 4, 6, 8\n",
    "    print(i)"
   ]
  },
  {
   "cell_type": "markdown",
   "metadata": {},
   "source": [
    "## <a id='toc4_'></a>[Additional Functions in For Loops](#toc0_)"
   ]
  },
  {
   "cell_type": "markdown",
   "metadata": {},
   "source": [
    "In addition to iterating over simple sequences, Python provides several built-in functions that can be used to extend the functionality of `for` loops. These functions can help you write more concise and readable code. We will explore some of these functions, including `enumerate()` and `sorted()`. You will learn more functions later in the course.\n"
   ]
  },
  {
   "cell_type": "markdown",
   "metadata": {},
   "source": [
    "### <a id='toc4_1_'></a>[The `enumerate()` Function](#toc0_)"
   ]
  },
  {
   "cell_type": "markdown",
   "metadata": {},
   "source": [
    "The `enumerate()` function is commonly used when you need a counter along with the value from the iterable. It adds a counter to an iterable and returns it as an `enumerate` object, which can be easily converted into a list of tuples. The `enumerate()` function takes two arguments: the iterable and the starting index of the counter.\n",
    "\n",
    "```python\n",
    "enumerate(iterable, start=0)\n",
    "```\n"
   ]
  },
  {
   "cell_type": "markdown",
   "metadata": {},
   "source": [
    "For example, let's say you have a list of colors and you want to print the index of each color along with the color name. You can do this using the `enumerate()` function as follows:"
   ]
  },
  {
   "cell_type": "code",
   "execution_count": 10,
   "metadata": {},
   "outputs": [
    {
     "name": "stdout",
     "output_type": "stream",
     "text": [
      "0 red\n",
      "1 green\n",
      "2 blue\n",
      "3 yellow\n"
     ]
    }
   ],
   "source": [
    "colors = ['red', 'green', 'blue', 'yellow']\n",
    "for index, color in enumerate(colors):\n",
    "    print(index, color)"
   ]
  },
  {
   "cell_type": "markdown",
   "metadata": {},
   "source": [
    "### <a id='toc4_2_'></a>[The `sorted()` Function](#toc0_)"
   ]
  },
  {
   "cell_type": "markdown",
   "metadata": {},
   "source": [
    "The `sorted()` function returns a new sorted list from the elements of any iterable. It also takes a `reverse` argument that can be set to `True` to sort the iterable in reverse order.\n",
    "\n",
    "```python\n",
    "sorted(iterable, reverse=False)\n",
    "```"
   ]
  },
  {
   "cell_type": "markdown",
   "metadata": {},
   "source": [
    "For example, let's say you have a list of numbers and you want to print them in ascending order. You can do this using the `sorted()` function as follows:"
   ]
  },
  {
   "cell_type": "code",
   "execution_count": 11,
   "metadata": {},
   "outputs": [
    {
     "name": "stdout",
     "output_type": "stream",
     "text": [
      "1\n",
      "1\n",
      "2\n",
      "3\n",
      "4\n",
      "5\n",
      "5\n",
      "6\n",
      "9\n"
     ]
    }
   ],
   "source": [
    "numbers = [3, 1, 4, 1, 5, 9, 2, 6, 5]\n",
    "for number in sorted(numbers):\n",
    "    print(number)"
   ]
  },
  {
   "cell_type": "markdown",
   "metadata": {},
   "source": [
    "## <a id='toc5_'></a>[Nested Loops](#toc0_)"
   ]
  },
  {
   "cell_type": "markdown",
   "metadata": {},
   "source": [
    "A nested loop is a loop inside the body of another loop. It's useful when dealing with multi-dimensional data structures.\n"
   ]
  },
  {
   "cell_type": "code",
   "execution_count": 8,
   "metadata": {},
   "outputs": [],
   "source": [
    "# Example of a nested loop\n",
    "matrix = [\n",
    "    [1, 2, 3],\n",
    "    [4, 5, 6],\n",
    "    [7, 8, 9]\n",
    "]"
   ]
  },
  {
   "cell_type": "code",
   "execution_count": 9,
   "metadata": {},
   "outputs": [
    {
     "name": "stdout",
     "output_type": "stream",
     "text": [
      "1\n",
      "2\n",
      "3\n",
      "4\n",
      "5\n",
      "6\n",
      "7\n",
      "8\n",
      "9\n"
     ]
    }
   ],
   "source": [
    "# Iterate over each row in the matrix\n",
    "for row in matrix:\n",
    "    # Iterate over each element in the row\n",
    "    for element in row:\n",
    "        print(element)"
   ]
  },
  {
   "cell_type": "markdown",
   "metadata": {},
   "source": [
    "Nested loops can be used to perform more complex iterations, and the depth of nesting can be as much as the problem requires.\n"
   ]
  },
  {
   "cell_type": "markdown",
   "metadata": {},
   "source": [
    "## <a id='toc6_'></a>[Conclusion](#toc0_)\n",
    "The `for` loop is an essential construct in Python that helps in iterating over sequences and performing actions on each element in these sequences. By combining `for` loops with `range()` and nested loops, we can tackle a wide range of iterative tasks in a clear and efficient manner. Understanding these concepts is crucial for data manipulation, task automation, and solving complex problems through iteration."
   ]
  },
  {
   "cell_type": "markdown",
   "metadata": {},
   "source": [
    "<img src=\"../images/exercise-banner.gif\" width=\"800\">"
   ]
  },
  {
   "cell_type": "markdown",
   "metadata": {},
   "source": [
    "## <a id='toc7_'></a>[Exercise: Processing and Analyzing Temperature Data](#toc0_)"
   ]
  },
  {
   "cell_type": "markdown",
   "metadata": {},
   "source": [
    "In this exercise, you will work with a list of daily average temperatures (in degrees Celsius) collected over a week. Your task is to use `for` loops to process this data and extract some meaningful insights.\n"
   ]
  },
  {
   "cell_type": "code",
   "execution_count": 1,
   "metadata": {},
   "outputs": [],
   "source": [
    "# Weekly temperature data in degrees Celsius\n",
    "temperatures = [19, 21, 22, 24, 23, 19, 20]"
   ]
  },
  {
   "cell_type": "markdown",
   "metadata": {},
   "source": [
    "**Tasks:**\n",
    "\n",
    "1. **Calculate the Average Temperature of the Week**:\n",
    "   Write a `for` loop that calculates the average temperature for the week and prints it out.\n",
    "\n",
    "2. **Find the Maximum and Minimum Temperatures**:\n",
    "   Use a `for` loop to determine the highest and lowest temperatures recorded during the week. Print both values.\n",
    "\n",
    "3. **Count Warm Days**:\n",
    "   Define a \"warm day\" as having an average temperature of 22 degrees Celsius or higher. Write a `for` loop that counts the number of warm days in the list and prints the count.\n",
    "\n",
    "4. **Create a New List of Temperature Fluctuations**:\n",
    "   Write a `for` loop to create a new list that contains the temperature fluctuations from one day to the next (the difference between each consecutive pair of temperatures). Print the new list.\n",
    "\n",
    "5. **Bonus: Find the Day with the Largest Fluctuation**:\n",
    "   Using the list of temperature fluctuations you created in task 4, write a `for` loop to find out which day had the largest temperature fluctuation. Note that you don't need to consider the first day since there's no previous day to compare it with. Print the day (as an index) and the fluctuation.\n"
   ]
  },
  {
   "cell_type": "markdown",
   "metadata": {},
   "source": [
    "**Sample Output:**\n",
    "```bash\n",
    "The average temperature for the week is: 21.14°C\n",
    "The maximum temperature of the week is: 24°C\n",
    "The minimum temperature of the week is: 19°C\n",
    "Number of warm days: 3\n",
    "Temperature fluctuations: [2, 1, 2, -1, -4, 1]\n",
    "The largest fluctuation was 4°C and occurred from day 4 to day 5.\n",
    "```\n"
   ]
  },
  {
   "cell_type": "markdown",
   "metadata": {},
   "source": [
    "Remember to comment your code to explain the steps you are taking to solve each task. This will not only help you to keep track of your thought process but also make it easier for others to understand your code. Happy coding!"
   ]
  },
  {
   "cell_type": "markdown",
   "metadata": {},
   "source": [
    "### <a id='toc7_1_'></a>[Solution](#toc0_)"
   ]
  },
  {
   "cell_type": "markdown",
   "metadata": {},
   "source": [
    "Below is a solution for each task in the exercise.\n"
   ]
  },
  {
   "cell_type": "code",
   "execution_count": 3,
   "metadata": {},
   "outputs": [],
   "source": [
    "# Weekly temperature data in degrees Celsius\n",
    "temperatures = [19, 21, 22, 24, 23, 19, 20]"
   ]
  },
  {
   "cell_type": "code",
   "execution_count": 4,
   "metadata": {},
   "outputs": [
    {
     "name": "stdout",
     "output_type": "stream",
     "text": [
      "The average temperature for the week is: 21.14°C\n"
     ]
    }
   ],
   "source": [
    "# Task 1: Calculate the Average Temperature of the Week\n",
    "total_temp = 0\n",
    "for temp in temperatures:\n",
    "    total_temp += temp\n",
    "average_temp = total_temp / len(temperatures)\n",
    "\n",
    "print(f\"The average temperature for the week is: {average_temp:.2f}°C\")"
   ]
  },
  {
   "cell_type": "code",
   "execution_count": 5,
   "metadata": {},
   "outputs": [
    {
     "name": "stdout",
     "output_type": "stream",
     "text": [
      "The maximum temperature of the week is: 24°C\n",
      "The minimum temperature of the week is: 19°C\n"
     ]
    }
   ],
   "source": [
    "# Task 2: Find the Maximum and Minimum Temperatures\n",
    "max_temp = temperatures[0]\n",
    "min_temp = temperatures[0]\n",
    "for temp in temperatures:\n",
    "    if temp > max_temp:\n",
    "        max_temp = temp\n",
    "    elif temp < min_temp:\n",
    "        min_temp = temp\n",
    "\n",
    "print(f\"The maximum temperature of the week is: {max_temp}°C\")\n",
    "print(f\"The minimum temperature of the week is: {min_temp}°C\")"
   ]
  },
  {
   "cell_type": "code",
   "execution_count": 6,
   "metadata": {},
   "outputs": [
    {
     "name": "stdout",
     "output_type": "stream",
     "text": [
      "Number of warm days: 3\n"
     ]
    }
   ],
   "source": [
    "# Task 3: Count Warm Days\n",
    "warm_days_count = 0\n",
    "for temp in temperatures:\n",
    "    if temp >= 22:\n",
    "        warm_days_count += 1\n",
    "\n",
    "print(f\"Number of warm days: {warm_days_count}\")"
   ]
  },
  {
   "cell_type": "code",
   "execution_count": 7,
   "metadata": {},
   "outputs": [
    {
     "name": "stdout",
     "output_type": "stream",
     "text": [
      "Temperature fluctuations: [2, 1, 2, 1, 4, 1]\n"
     ]
    }
   ],
   "source": [
    "# Task 4: Create a New List of Temperature Fluctuations\n",
    "fluctuations = []\n",
    "for i in range(len(temperatures) - 1):\n",
    "    fluctuation = abs(temperatures[i+1] - temperatures[i])\n",
    "    fluctuations.append(fluctuation)\n",
    "\n",
    "print(f\"Temperature fluctuations: {fluctuations}\")"
   ]
  },
  {
   "cell_type": "code",
   "execution_count": 8,
   "metadata": {},
   "outputs": [
    {
     "name": "stdout",
     "output_type": "stream",
     "text": [
      "The largest fluctuation was 4°C and occurred from day 4 to day 5.\n"
     ]
    }
   ],
   "source": [
    "# Task 5: Bonus: Find the Day with the Largest Fluctuation\n",
    "largest_fluctuation = 0\n",
    "day_of_largest_fluctuation = 0\n",
    "for i in range(1, len(fluctuations)):\n",
    "    if fluctuations[i] > largest_fluctuation:\n",
    "        largest_fluctuation = fluctuations[i]\n",
    "        day_of_largest_fluctuation = i + 1  # Adding 1 to convert from index to day\n",
    "\n",
    "print(f\"The largest fluctuation was {largest_fluctuation}°C and occurred from day {day_of_largest_fluctuation - 1} to day {day_of_largest_fluctuation}.\")"
   ]
  }
 ],
 "metadata": {
  "kernelspec": {
   "display_name": "py310",
   "language": "python",
   "name": "python3"
  },
  "language_info": {
   "codemirror_mode": {
    "name": "ipython",
    "version": 3
   },
   "file_extension": ".py",
   "mimetype": "text/x-python",
   "name": "python",
   "nbconvert_exporter": "python",
   "pygments_lexer": "ipython3",
   "version": "3.10.12"
  }
 },
 "nbformat": 4,
 "nbformat_minor": 2
}
