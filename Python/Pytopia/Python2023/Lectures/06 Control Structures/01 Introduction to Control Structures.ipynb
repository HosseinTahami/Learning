{
 "cells": [
  {
   "cell_type": "markdown",
   "metadata": {},
   "source": [
    "<img src=\"./images/banner.png\" width=\"800\">"
   ]
  },
  {
   "cell_type": "markdown",
   "metadata": {},
   "source": [
    "# Introduction to Control Structures in Python"
   ]
  },
  {
   "cell_type": "markdown",
   "metadata": {},
   "source": [
    "Control structures in programming are constructs that dictate the flow of control in a program. They enable a program to make decisions, execute code blocks conditionally, and perform tasks repeatedly. Python, like most programming languages, offers a variety of control structures that can be classified into three main categories: sequential, selection, and iteration.\n"
   ]
  },
  {
   "cell_type": "markdown",
   "metadata": {},
   "source": [
    "**Table of contents**<a id='toc0_'></a>    \n",
    "- [Sequential Control Structure](#toc1_)    \n",
    "- [Selection Control Structures](#toc2_)    \n",
    "  - [The `if` Statement](#toc2_1_)    \n",
    "  - [The `else` and `elif` Statements](#toc2_2_)    \n",
    "  - [Nested Conditionals](#toc2_3_)    \n",
    "- [Iteration Control Structures](#toc3_)    \n",
    "  - [The `for` Loop](#toc3_1_)    \n",
    "  - [The `while` Loop](#toc3_2_)    \n",
    "- [Conclusion](#toc4_)    \n",
    "\n",
    "<!-- vscode-jupyter-toc-config\n",
    "\tnumbering=false\n",
    "\tanchor=true\n",
    "\tflat=false\n",
    "\tminLevel=2\n",
    "\tmaxLevel=6\n",
    "\t/vscode-jupyter-toc-config -->\n",
    "<!-- THIS CELL WILL BE REPLACED ON TOC UPDATE. DO NOT WRITE YOUR TEXT IN THIS CELL -->"
   ]
  },
  {
   "cell_type": "markdown",
   "metadata": {},
   "source": [
    "## <a id='toc1_'></a>[Sequential Control Structure](#toc0_)\n"
   ]
  },
  {
   "cell_type": "markdown",
   "metadata": {},
   "source": [
    "The default mode of program execution is sequential. The interpreter executes Python code line by line, from the top of the file to the bottom. Each statement is executed in the order it appears, and this is the simplest form of control flow.\n"
   ]
  },
  {
   "cell_type": "code",
   "execution_count": 1,
   "metadata": {},
   "outputs": [
    {
     "name": "stdout",
     "output_type": "stream",
     "text": [
      "Hello, World!\n",
      "15\n"
     ]
    }
   ],
   "source": [
    "# Sequential execution example\n",
    "print(\"Hello, World!\")  # Executed first\n",
    "x = 10                 # Executed second\n",
    "y = x + 5              # Executed third\n",
    "print(y)               # Executed fourth"
   ]
  },
  {
   "cell_type": "markdown",
   "metadata": {},
   "source": [
    "## <a id='toc2_'></a>[Selection Control Structures](#toc0_)\n"
   ]
  },
  {
   "cell_type": "markdown",
   "metadata": {},
   "source": [
    "Selection control structures, also known as conditional statements or decision-making structures, allow a program to execute different code blocks based on certain conditions. Python provides `if`, `elif`, and `else` statements for this purpose.\n"
   ]
  },
  {
   "cell_type": "markdown",
   "metadata": {},
   "source": [
    "### <a id='toc2_1_'></a>[The `if` Statement](#toc0_)\n"
   ]
  },
  {
   "cell_type": "markdown",
   "metadata": {},
   "source": [
    "The `if` statement is the most basic form of selection control structure. It executes a block of code only if a specified condition is true.\n"
   ]
  },
  {
   "cell_type": "code",
   "execution_count": 2,
   "metadata": {},
   "outputs": [
    {
     "name": "stdout",
     "output_type": "stream",
     "text": [
      "You are an adult.\n"
     ]
    }
   ],
   "source": [
    "# if statement example\n",
    "age = 20\n",
    "if age >= 18:\n",
    "    print(\"You are an adult.\")"
   ]
  },
  {
   "cell_type": "markdown",
   "metadata": {},
   "source": [
    "### <a id='toc2_2_'></a>[The `else` and `elif` Statements](#toc0_)\n"
   ]
  },
  {
   "cell_type": "markdown",
   "metadata": {},
   "source": [
    "The `else` statement is used to execute a block of code when the condition in the `if` statement is false. The `elif` (short for 'else if') statement can be used to check multiple conditions sequentially."
   ]
  },
  {
   "cell_type": "code",
   "execution_count": 3,
   "metadata": {},
   "outputs": [
    {
     "name": "stdout",
     "output_type": "stream",
     "text": [
      "You are a teenager.\n"
     ]
    }
   ],
   "source": [
    "# if-elif-else statement example\n",
    "age = 16\n",
    "if age >= 18:\n",
    "    print(\"You are an adult.\")\n",
    "elif age >= 13:\n",
    "    print(\"You are a teenager.\")\n",
    "else:\n",
    "    print(\"You are a child.\")"
   ]
  },
  {
   "cell_type": "markdown",
   "metadata": {},
   "source": [
    "### <a id='toc2_3_'></a>[Nested Conditionals](#toc0_)\n"
   ]
  },
  {
   "cell_type": "markdown",
   "metadata": {},
   "source": [
    "Conditional statements can be nested within one another to create complex decision trees.\n"
   ]
  },
  {
   "cell_type": "code",
   "execution_count": 4,
   "metadata": {},
   "outputs": [
    {
     "name": "stdout",
     "output_type": "stream",
     "text": [
      "Grade: A\n"
     ]
    }
   ],
   "source": [
    "# Nested conditionals example\n",
    "score = 85\n",
    "if score >= 60:\n",
    "    if score >= 70:\n",
    "        if score >= 80:\n",
    "            print(\"Grade: A\")\n",
    "        else:\n",
    "            print(\"Grade: B\")\n",
    "    else:\n",
    "        print(\"Grade: C\")\n",
    "else:\n",
    "    print(\"Grade: F\")"
   ]
  },
  {
   "cell_type": "markdown",
   "metadata": {},
   "source": [
    "## <a id='toc3_'></a>[Iteration Control Structures](#toc0_)\n"
   ]
  },
  {
   "cell_type": "markdown",
   "metadata": {},
   "source": [
    "Iteration control structures, or loops, allow a block of code to be executed repeatedly based on a condition. Python provides two loop constructs: the `for` loop and the `while` loop.\n"
   ]
  },
  {
   "cell_type": "markdown",
   "metadata": {},
   "source": [
    "### <a id='toc3_1_'></a>[The `for` Loop](#toc0_)\n"
   ]
  },
  {
   "cell_type": "markdown",
   "metadata": {},
   "source": [
    "The `for` loop is used to iterate over a sequence (such as a list, tuple, string, or range).\n"
   ]
  },
  {
   "cell_type": "code",
   "execution_count": 5,
   "metadata": {},
   "outputs": [
    {
     "name": "stdout",
     "output_type": "stream",
     "text": [
      "I like apple.\n",
      "I like banana.\n",
      "I like cherry.\n"
     ]
    }
   ],
   "source": [
    "# for loop example\n",
    "fruits = [\"apple\", \"banana\", \"cherry\"]\n",
    "for fruit in fruits:\n",
    "    print(f\"I like {fruit}.\")"
   ]
  },
  {
   "cell_type": "markdown",
   "metadata": {},
   "source": [
    "### <a id='toc3_2_'></a>[The `while` Loop](#toc0_)\n"
   ]
  },
  {
   "cell_type": "markdown",
   "metadata": {},
   "source": [
    "The `while` loop repeatedly executes a target statement as long as a given condition is true.\n"
   ]
  },
  {
   "cell_type": "code",
   "execution_count": 6,
   "metadata": {},
   "outputs": [
    {
     "name": "stdout",
     "output_type": "stream",
     "text": [
      "Count: 0\n",
      "Count: 1\n",
      "Count: 2\n",
      "Count: 3\n",
      "Count: 4\n"
     ]
    }
   ],
   "source": [
    "# while loop example\n",
    "count = 0\n",
    "while count < 5:\n",
    "    print(f\"Count: {count}\")\n",
    "    count += 1"
   ]
  },
  {
   "cell_type": "code",
   "execution_count": 1,
   "metadata": {},
   "outputs": [
    {
     "name": "stdout",
     "output_type": "stream",
     "text": [
      "Your number is: 10\n",
      "Your number is: 11\n",
      "Your number is: 20\n"
     ]
    }
   ],
   "source": [
    "# indefinite loop where we don't know how many times it will run\n",
    "user_input = int(input(\"Enter a number: \"))\n",
    "while user_input != 0:\n",
    "    print(f\"Your number is: {user_input}\")\n",
    "    user_input = int(input(\"Enter a number: \"))"
   ]
  },
  {
   "cell_type": "markdown",
   "metadata": {},
   "source": [
    "## <a id='toc4_'></a>[Conclusion](#toc0_)\n"
   ]
  },
  {
   "cell_type": "markdown",
   "metadata": {},
   "source": [
    "Control structures are essential for creating dynamic and responsive programs. By utilizing conditional statements, you can write code that reacts to different inputs and states. Loops enable you to perform repetitive tasks efficiently, reducing the amount of code you have to write. As we delve deeper into each control structure in the following lectures, you will learn how to harness their full potential to write powerful Python programs."
   ]
  }
 ],
 "metadata": {
  "kernelspec": {
   "display_name": "py310",
   "language": "python",
   "name": "python3"
  },
  "language_info": {
   "codemirror_mode": {
    "name": "ipython",
    "version": 3
   },
   "file_extension": ".py",
   "mimetype": "text/x-python",
   "name": "python",
   "nbconvert_exporter": "python",
   "pygments_lexer": "ipython3",
   "version": "3.10.12"
  }
 },
 "nbformat": 4,
 "nbformat_minor": 2
}
