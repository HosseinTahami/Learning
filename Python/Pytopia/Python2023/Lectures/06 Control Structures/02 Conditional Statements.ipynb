{
 "cells": [
  {
   "cell_type": "markdown",
   "metadata": {},
   "source": [
    "<img src=\"./images/banner.png\" width=\"800\">"
   ]
  },
  {
   "cell_type": "markdown",
   "metadata": {},
   "source": [
    "# Conditional Statements in Python"
   ]
  },
  {
   "cell_type": "markdown",
   "metadata": {},
   "source": [
    "Conditional statements, also known as decision-making or branching statements, allow a program to execute certain pieces of code depending on whether a condition is evaluated as true or false. In Python, these are primarily handled with `if`, `elif`, and `else` statements.\n"
   ]
  },
  {
   "cell_type": "markdown",
   "metadata": {},
   "source": [
    "**Table of contents**<a id='toc0_'></a>    \n",
    "- [The `if` Statement](#toc1_)    \n",
    "- [The `else` Statement](#toc2_)    \n",
    "- [The `elif` Statement](#toc3_)    \n",
    "- [Understanding Truthy and Falsy Values in Python](#toc4_)    \n",
    "  - [What is Evaluated as `False`?](#toc4_1_)    \n",
    "- [Nested Conditional Statements](#toc5_)    \n",
    "- [Conditional Expressions (Ternary Operator)](#toc6_)    \n",
    "- [Best Practices](#toc7_)    \n",
    "- [Conclusion](#toc8_)    \n",
    "- [Exercise: Basic Movie Ticket Pricing](#toc9_)    \n",
    "  - [Solution](#toc9_1_)    \n",
    "\n",
    "<!-- vscode-jupyter-toc-config\n",
    "\tnumbering=false\n",
    "\tanchor=true\n",
    "\tflat=false\n",
    "\tminLevel=2\n",
    "\tmaxLevel=6\n",
    "\t/vscode-jupyter-toc-config -->\n",
    "<!-- THIS CELL WILL BE REPLACED ON TOC UPDATE. DO NOT WRITE YOUR TEXT IN THIS CELL -->"
   ]
  },
  {
   "cell_type": "markdown",
   "metadata": {},
   "source": [
    "## <a id='toc1_'></a>[The `if` Statement](#toc0_)\n"
   ]
  },
  {
   "cell_type": "markdown",
   "metadata": {},
   "source": [
    "<img src=\"./images/if-condition.png\" width=\"400\">"
   ]
  },
  {
   "cell_type": "markdown",
   "metadata": {},
   "source": [
    "The `if` statement is the most fundamental conditional control structure in Python. It evaluates a condition and executes a block of code if the condition is true.\n"
   ]
  },
  {
   "cell_type": "code",
   "execution_count": 1,
   "metadata": {},
   "outputs": [
    {
     "name": "stdout",
     "output_type": "stream",
     "text": [
      "x is greater than 5.\n"
     ]
    }
   ],
   "source": [
    "# if statement example\n",
    "x = 10\n",
    "if x > 5:\n",
    "    print(\"x is greater than 5.\")"
   ]
  },
  {
   "cell_type": "markdown",
   "metadata": {},
   "source": [
    "\n",
    "If the condition `x > 5` is true, the print statement is executed. If the condition is false, the block of code under the `if` statement is skipped.\n"
   ]
  },
  {
   "cell_type": "markdown",
   "metadata": {},
   "source": [
    "> **Note:**\n",
    "> - An **expression** is a combination of values, variables, and operators that, when evaluated, produces another value. This means that expressions are units of code that can be reduced to a value.\n",
    "> - A **statement**, on the other hand, is a complete line of code that performs some action. It's an instruction that the program executes."
   ]
  },
  {
   "cell_type": "markdown",
   "metadata": {},
   "source": [
    "## <a id='toc2_'></a>[The `else` Statement](#toc0_)\n"
   ]
  },
  {
   "cell_type": "markdown",
   "metadata": {},
   "source": [
    "The `else` statement complements the `if` statement. An `else` block is executed if the `if` statement's condition is false.\n"
   ]
  },
  {
   "cell_type": "code",
   "execution_count": 2,
   "metadata": {},
   "outputs": [
    {
     "name": "stdout",
     "output_type": "stream",
     "text": [
      "x is less than or equal to 5.\n"
     ]
    }
   ],
   "source": [
    "# if-else statement example\n",
    "x = 3\n",
    "if x > 5:\n",
    "    print(\"x is greater than 5.\")\n",
    "else:\n",
    "    print(\"x is less than or equal to 5.\")\n"
   ]
  },
  {
   "cell_type": "markdown",
   "metadata": {},
   "source": [
    "\n",
    "In this case, since `x` is not greater than 5, the `else` block is executed.\n"
   ]
  },
  {
   "cell_type": "markdown",
   "metadata": {},
   "source": [
    "## <a id='toc3_'></a>[The `elif` Statement](#toc0_)\n"
   ]
  },
  {
   "cell_type": "markdown",
   "metadata": {},
   "source": [
    "The `elif` keyword, short for \"else if,\" allows for more than two possible outcomes. It is used after an `if` statement and before an `else` statement to check additional conditions.\n"
   ]
  },
  {
   "cell_type": "code",
   "execution_count": 3,
   "metadata": {},
   "outputs": [
    {
     "name": "stdout",
     "output_type": "stream",
     "text": [
      "x is less than or equal to 10.\n"
     ]
    }
   ],
   "source": [
    "# if-elif-else statement example\n",
    "x = 10\n",
    "if x > 15:\n",
    "    print(\"x is greater than 15.\")\n",
    "elif x > 10:\n",
    "    print(\"x is greater than 10 but not greater than 15.\")\n",
    "else:\n",
    "    print(\"x is less than or equal to 10.\")"
   ]
  },
  {
   "cell_type": "markdown",
   "metadata": {},
   "source": [
    "\n",
    "Here, `x` is equal to 10, so the last `else` block is executed. If `x` were, say, 12, the `elif` block would execute.\n"
   ]
  },
  {
   "cell_type": "markdown",
   "metadata": {},
   "source": [
    "## <a id='toc4_'></a>[Understanding Truthy and Falsy Values in Python](#toc0_)"
   ]
  },
  {
   "cell_type": "markdown",
   "metadata": {},
   "source": [
    "Python, like many programming languages, uses boolean logic to evaluate conditions. Boolean values are either `True` or `False`. However, when using conditional statements like `if`, `elif`, and `else`, Python evaluates the truthiness or falsiness of the expression provided.\n"
   ]
  },
  {
   "cell_type": "markdown",
   "metadata": {},
   "source": [
    "### <a id='toc4_1_'></a>[What is Evaluated as `False`?](#toc0_)\n"
   ]
  },
  {
   "cell_type": "markdown",
   "metadata": {},
   "source": [
    "Conversely, the following values are considered to be `False`:\n",
    "\n",
    "1. **Boolean `False` Value**: The literal `False` boolean value is always false.\n",
    "2. **Numeric Zero Values**: `0`, `0.0`, `0j` (complex number) are considered false.\n",
    "3. **Empty Sequences and Collections**: `[]` (empty list), `()` (empty tuple), `{}` (empty dictionary), `set()` (empty set), `''` or `\"\"` (empty string), `bytearray()` (empty bytearray), are all considered false.\n",
    "4. **`None`**: The `None` object is considered false.\n",
    "5. **Objects**: Custom class instances can be considered false if the class defines the `__bool__()` method to return `False` or `__len__()` to return `0`.\n"
   ]
  },
  {
   "cell_type": "markdown",
   "metadata": {},
   "source": [
    "All other values are considered to be `True` in Python.\n"
   ]
  },
  {
   "cell_type": "markdown",
   "metadata": {},
   "source": [
    "If you're curious about the truthiness of any other values, you can use the `bool()` function to check:"
   ]
  },
  {
   "cell_type": "code",
   "execution_count": 4,
   "metadata": {},
   "outputs": [
    {
     "data": {
      "text/plain": [
       "(False, False, False)"
      ]
     },
     "execution_count": 4,
     "metadata": {},
     "output_type": "execute_result"
    }
   ],
   "source": [
    "bool(0), bool(0.0), bool(0j)"
   ]
  },
  {
   "cell_type": "code",
   "execution_count": 5,
   "metadata": {},
   "outputs": [
    {
     "data": {
      "text/plain": [
       "(False, False, False)"
      ]
     },
     "execution_count": 5,
     "metadata": {},
     "output_type": "execute_result"
    }
   ],
   "source": [
    "bool([]), bool(()), bool({})\n"
   ]
  },
  {
   "cell_type": "code",
   "execution_count": 6,
   "metadata": {},
   "outputs": [
    {
     "data": {
      "text/plain": [
       "False"
      ]
     },
     "execution_count": 6,
     "metadata": {},
     "output_type": "execute_result"
    }
   ],
   "source": [
    "bool('')"
   ]
  },
  {
   "cell_type": "code",
   "execution_count": 7,
   "metadata": {},
   "outputs": [
    {
     "data": {
      "text/plain": [
       "False"
      ]
     },
     "execution_count": 7,
     "metadata": {},
     "output_type": "execute_result"
    }
   ],
   "source": [
    "bool(None)\n"
   ]
  },
  {
   "cell_type": "code",
   "execution_count": 8,
   "metadata": {},
   "outputs": [
    {
     "data": {
      "text/plain": [
       "False"
      ]
     },
     "execution_count": 8,
     "metadata": {},
     "output_type": "execute_result"
    }
   ],
   "source": [
    "bool(False)\n"
   ]
  },
  {
   "cell_type": "code",
   "execution_count": 9,
   "metadata": {},
   "outputs": [
    {
     "data": {
      "text/plain": [
       "True"
      ]
     },
     "execution_count": 9,
     "metadata": {},
     "output_type": "execute_result"
    }
   ],
   "source": [
    "bool(True)\n"
   ]
  },
  {
   "cell_type": "code",
   "execution_count": 10,
   "metadata": {},
   "outputs": [
    {
     "data": {
      "text/plain": [
       "(True, True, True)"
      ]
     },
     "execution_count": 10,
     "metadata": {},
     "output_type": "execute_result"
    }
   ],
   "source": [
    "bool(1), bool(1.0), bool(1j)"
   ]
  },
  {
   "cell_type": "code",
   "execution_count": 11,
   "metadata": {},
   "outputs": [
    {
     "data": {
      "text/plain": [
       "(True, True, True)"
      ]
     },
     "execution_count": 11,
     "metadata": {},
     "output_type": "execute_result"
    }
   ],
   "source": [
    "bool([1, 2, 3]), bool((1, 2, 3)), bool({1, 2, 3})"
   ]
  },
  {
   "cell_type": "code",
   "execution_count": 12,
   "metadata": {},
   "outputs": [
    {
     "data": {
      "text/plain": [
       "True"
      ]
     },
     "execution_count": 12,
     "metadata": {},
     "output_type": "execute_result"
    }
   ],
   "source": [
    "bool('abc')\n"
   ]
  },
  {
   "cell_type": "code",
   "execution_count": 13,
   "metadata": {},
   "outputs": [
    {
     "data": {
      "text/plain": [
       "(True, True, True)"
      ]
     },
     "execution_count": 13,
     "metadata": {},
     "output_type": "execute_result"
    }
   ],
   "source": [
    "bool('False'), bool('0'), bool('None')\n"
   ]
  },
  {
   "cell_type": "code",
   "execution_count": 14,
   "metadata": {},
   "outputs": [
    {
     "data": {
      "text/plain": [
       "False"
      ]
     },
     "execution_count": 14,
     "metadata": {},
     "output_type": "execute_result"
    }
   ],
   "source": [
    "bool('')"
   ]
  },
  {
   "cell_type": "markdown",
   "metadata": {},
   "source": [
    "Here's how you might use these truthy and falsy concepts in an `if` statement:"
   ]
  },
  {
   "cell_type": "code",
   "execution_count": 15,
   "metadata": {},
   "outputs": [
    {
     "name": "stdout",
     "output_type": "stream",
     "text": [
      "Number is considered False\n"
     ]
    }
   ],
   "source": [
    "number = 0\n",
    "if number:\n",
    "    print(\"Number is considered True\")\n",
    "else:\n",
    "    print(\"Number is considered False\")  # This will be executed\n"
   ]
  },
  {
   "cell_type": "code",
   "execution_count": 16,
   "metadata": {},
   "outputs": [
    {
     "name": "stdout",
     "output_type": "stream",
     "text": [
      "Text is considered True\n"
     ]
    }
   ],
   "source": [
    "text = \"Python\"\n",
    "if text:\n",
    "    print(\"Text is considered True\")  # This will be executed\n",
    "else:\n",
    "    print(\"Text is considered False\")\n"
   ]
  },
  {
   "cell_type": "markdown",
   "metadata": {},
   "source": [
    "\n",
    "Understanding what values are evaluated as true or false is crucial when writing conditional statements in Python. It allows you to write more concise and readable code, as you can rely on the truthiness or falsiness of values directly in conditions without explicit comparison to `True` or `False`."
   ]
  },
  {
   "cell_type": "markdown",
   "metadata": {},
   "source": [
    "## <a id='toc5_'></a>[Nested Conditional Statements](#toc0_)\n"
   ]
  },
  {
   "cell_type": "markdown",
   "metadata": {},
   "source": [
    "Conditional statements can be nested within each other. This allows for complex decision-making processes where the outcome depends on multiple conditions.\n"
   ]
  },
  {
   "cell_type": "code",
   "execution_count": 17,
   "metadata": {},
   "outputs": [
    {
     "name": "stdout",
     "output_type": "stream",
     "text": [
      "x is greater than 20.\n"
     ]
    }
   ],
   "source": [
    "# Nested if statement example\n",
    "x = 25\n",
    "if x > 10:\n",
    "    if x > 20:\n",
    "        print(\"x is greater than 20.\")\n",
    "    else:\n",
    "        print(\"x is greater than 10 but not greater than 20.\")\n",
    "else:\n",
    "    print(\"x is less than or equal to 10.\")\n"
   ]
  },
  {
   "cell_type": "markdown",
   "metadata": {},
   "source": [
    "\n",
    "In this example, there are two levels of decision-making based on the value of `x`.\n"
   ]
  },
  {
   "cell_type": "markdown",
   "metadata": {},
   "source": [
    "## <a id='toc6_'></a>[Conditional Expressions (Ternary Operator)](#toc0_)\n"
   ]
  },
  {
   "cell_type": "markdown",
   "metadata": {},
   "source": [
    "Python supports a condensed way of writing simple `if-else` statements, known as conditional expressions or the ternary operator.\n"
   ]
  },
  {
   "cell_type": "code",
   "execution_count": 18,
   "metadata": {},
   "outputs": [
    {
     "name": "stdout",
     "output_type": "stream",
     "text": [
      "Greater than 5\n"
     ]
    }
   ],
   "source": [
    "# Conditional expression example\n",
    "x = 10\n",
    "result = \"Greater than 5\" if x > 5 else \"Less than or equal to 5\"\n",
    "print(result)"
   ]
  },
  {
   "cell_type": "markdown",
   "metadata": {},
   "source": [
    "\n",
    "This one-liner is often used for simple conditional assignments.\n"
   ]
  },
  {
   "cell_type": "markdown",
   "metadata": {},
   "source": [
    "## <a id='toc7_'></a>[Best Practices](#toc0_)\n"
   ]
  },
  {
   "cell_type": "markdown",
   "metadata": {},
   "source": [
    "When using conditional statements, keep the following best practices in mind:\n",
    "\n",
    "- Keep your conditions simple and readable. Complex conditions can be broken down into multiple simpler `if` statements or by using boolean variables.\n",
    "- Avoid nested conditions when possible. They can make your code hard to read and maintain.\n",
    "- Use the ternary operator for simple conditional assignments to make your code more concise.\n",
    "- Always consider whether your conditional branches cover all possible cases to prevent unexpected behavior.\n"
   ]
  },
  {
   "cell_type": "markdown",
   "metadata": {},
   "source": [
    "## <a id='toc8_'></a>[Conclusion](#toc0_)\n"
   ]
  },
  {
   "cell_type": "markdown",
   "metadata": {},
   "source": [
    "Conditional statements are a powerful part of Python that allow you to control the flow of your program's execution. By using `if`, `elif`, and `else` statements effectively, you can ensure that your code responds appropriately to different conditions. In the next lectures, we'll explore how loops work in Python, further expanding your ability to control the flow of execution in your programs."
   ]
  },
  {
   "cell_type": "markdown",
   "metadata": {},
   "source": [
    "<img src=\"../images/exercise-banner.gif\" width=\"800\">"
   ]
  },
  {
   "cell_type": "markdown",
   "metadata": {},
   "source": [
    "## <a id='toc9_'></a>[Exercise: Basic Movie Ticket Pricing](#toc0_)"
   ]
  },
  {
   "cell_type": "markdown",
   "metadata": {},
   "source": [
    "You are creating a Python program for a movie theater to determine the ticket price based on the customer's age. The pricing rules are as follows:\n",
    "\n",
    "1. The regular ticket price is $10.\n",
    "2. Children under 14 years old get a 50% discount.\n",
    "3. Seniors aged 65 and above get a 30% discount.\n"
   ]
  },
  {
   "cell_type": "markdown",
   "metadata": {},
   "source": [
    "Write a Python program that:\n",
    "\n",
    "1. Asks the user for their age.\n",
    "2. Calculates and prints the ticket price according to the above rules.\n"
   ]
  },
  {
   "cell_type": "markdown",
   "metadata": {},
   "source": [
    "**Instructions:**\n",
    "\n",
    "1. Use the `input()` function to prompt the user for their age.\n",
    "2. Convert the input into an integer using `int()`.\n",
    "3. Determine the ticket price using an `if-elif-else` structure.\n",
    "4. Print out the final ticket price with a message.\n"
   ]
  },
  {
   "cell_type": "markdown",
   "metadata": {},
   "source": [
    "### <a id='toc9_1_'></a>[Solution](#toc0_)"
   ]
  },
  {
   "cell_type": "markdown",
   "metadata": {},
   "source": [
    "Before looking at the solution, try the exercise yourself! If you get stuck or want to check your work, use the solution below."
   ]
  },
  {
   "cell_type": "code",
   "execution_count": 19,
   "metadata": {},
   "outputs": [
    {
     "name": "stdout",
     "output_type": "stream",
     "text": [
      "The ticket price is $10.0\n"
     ]
    }
   ],
   "source": [
    "# Ask for the user's age\n",
    "age = int(input(\"Enter your age: \"))\n",
    "\n",
    "# Regular ticket price\n",
    "ticket_price = 10.00\n",
    "\n",
    "# Check the age and apply discounts if applicable\n",
    "if age < 14:\n",
    "    ticket_price *= 0.5  # Apply 50% discount\n",
    "elif age >= 65:\n",
    "    ticket_price *= 0.7  # Apply 30% discount\n",
    "\n",
    "# Print the final ticket price\n",
    "print(f\"The ticket price is ${ticket_price}\")"
   ]
  },
  {
   "cell_type": "markdown",
   "metadata": {},
   "source": [
    "\n",
    "This solution covers the basic control flow using conditional statements to determine the ticket price based on the user's age. It's a straightforward exercise that helps reinforce the concept of conditional logic in Python."
   ]
  }
 ],
 "metadata": {
  "kernelspec": {
   "display_name": "py310",
   "language": "python",
   "name": "python3"
  },
  "language_info": {
   "codemirror_mode": {
    "name": "ipython",
    "version": 3
   },
   "file_extension": ".py",
   "mimetype": "text/x-python",
   "name": "python",
   "nbconvert_exporter": "python",
   "pygments_lexer": "ipython3",
   "version": "3.10.12"
  }
 },
 "nbformat": 4,
 "nbformat_minor": 2
}
