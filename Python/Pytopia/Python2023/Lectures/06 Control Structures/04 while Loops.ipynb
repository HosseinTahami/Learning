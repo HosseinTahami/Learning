{
 "cells": [
  {
   "cell_type": "markdown",
   "metadata": {},
   "source": [
    "<img src=\"./images/banner.png\" width=\"800\">"
   ]
  },
  {
   "cell_type": "markdown",
   "metadata": {},
   "source": [
    "# Looping Constructs in Python: `while` Loops"
   ]
  },
  {
   "cell_type": "markdown",
   "metadata": {},
   "source": [
    "In Python, the `while` loop is used to execute a block of code repeatedly as long as a given condition is true. Unlike `for` loops, which iterate over a sequence or range, `while` loops are controlled by a conditional expression. Below, we'll explore how to construct `while` loops, avoid common pitfalls such as infinite loops, and use nested loops.\n"
   ]
  },
  {
   "cell_type": "markdown",
   "metadata": {},
   "source": [
    "**Table of contents**<a id='toc0_'></a>    \n",
    "- [Writing `while` Loops with a Control Condition](#toc1_)    \n",
    "- [Infinite Loops and How to Avoid Them](#toc2_)    \n",
    "- [Nested `while` Loops](#toc3_)    \n",
    "- [Conclusion](#toc4_)    \n",
    "- [Exercise: Tracking a Savings Goal with While Loops](#toc5_)    \n",
    "  - [Solution](#toc5_1_)    \n",
    "\n",
    "<!-- vscode-jupyter-toc-config\n",
    "\tnumbering=false\n",
    "\tanchor=true\n",
    "\tflat=false\n",
    "\tminLevel=2\n",
    "\tmaxLevel=6\n",
    "\t/vscode-jupyter-toc-config -->\n",
    "<!-- THIS CELL WILL BE REPLACED ON TOC UPDATE. DO NOT WRITE YOUR TEXT IN THIS CELL -->"
   ]
  },
  {
   "cell_type": "markdown",
   "metadata": {},
   "source": [
    "## <a id='toc1_'></a>[Writing `while` Loops with a Control Condition](#toc0_)\n"
   ]
  },
  {
   "cell_type": "markdown",
   "metadata": {},
   "source": [
    "A `while` loop continuously executes the code block under it until the control condition becomes false. The condition is checked before the execution of the loop body, and if it evaluates to True, the loop body is executed; this process repeats until the condition is no longer true.\n"
   ]
  },
  {
   "cell_type": "code",
   "execution_count": 1,
   "metadata": {},
   "outputs": [
    {
     "name": "stdout",
     "output_type": "stream",
     "text": [
      "The counter is at 0\n",
      "The counter is at 1\n",
      "The counter is at 2\n",
      "The counter is at 3\n",
      "The counter is at 4\n"
     ]
    }
   ],
   "source": [
    "# Basic while loop example\n",
    "counter = 0\n",
    "while counter < 5:\n",
    "    print(f\"The counter is at {counter}\")\n",
    "    counter += 1  # Increment the counter"
   ]
  },
  {
   "cell_type": "markdown",
   "metadata": {},
   "source": [
    "In this example, the loop will run as long as `counter` is less than 5. The statement `counter += 1` ensures that the counter is incremented each time the loop runs, which eventually causes the condition to become false and the loop to terminate.\n"
   ]
  },
  {
   "cell_type": "markdown",
   "metadata": {},
   "source": [
    "## <a id='toc2_'></a>[Infinite Loops and How to Avoid Them](#toc0_)\n"
   ]
  },
  {
   "cell_type": "markdown",
   "metadata": {},
   "source": [
    "An infinite loop occurs when the loop's condition never becomes false. Infinite loops can freeze your program and are typically an error unless intentionally used for a continuously running process.\n"
   ]
  },
  {
   "cell_type": "markdown",
   "metadata": {},
   "source": [
    "To avoid infinite loops, ensure that the condition in a `while` loop will eventually become false. Here are common causes and solutions:\n",
    "\n",
    "- **Forgetting to update the control variable**: Make sure there are statements in the loop that change the value of the control variable.\n",
    "- **Using a condition that always evaluates to True**: Double-check the logic of your condition to ensure it can be false under some circumstances.\n",
    "- **External changes not accounted for**: If your loop relies on external conditions, such as user input or data from a file, ensure the loop can exit if those conditions change.\n"
   ]
  },
  {
   "cell_type": "code",
   "execution_count": 2,
   "metadata": {},
   "outputs": [],
   "source": [
    "# Potential infinite loop example\n",
    "# Uncomment and run at your own risk\n",
    "#while True:\n",
    "#    print(\"This will run forever!\")"
   ]
  },
  {
   "cell_type": "markdown",
   "metadata": {},
   "source": [
    "Remember, you can interrupt an infinite loop in most development environments by using a keyboard interrupt, like Ctrl + C.\n"
   ]
  },
  {
   "cell_type": "markdown",
   "metadata": {},
   "source": [
    "## <a id='toc3_'></a>[Nested `while` Loops](#toc0_)\n"
   ]
  },
  {
   "cell_type": "markdown",
   "metadata": {},
   "source": [
    "Nested loops are a loop inside another loop. In `while` loops, nesting can be used to perform complex tasks that require a loop to run within another loop.\n"
   ]
  },
  {
   "cell_type": "code",
   "execution_count": 3,
   "metadata": {},
   "outputs": [
    {
     "name": "stdout",
     "output_type": "stream",
     "text": [
      "Outer counter: 0, Inner counter: 0\n",
      "Outer counter: 0, Inner counter: 1\n",
      "Outer counter: 1, Inner counter: 0\n",
      "Outer counter: 1, Inner counter: 1\n",
      "Outer counter: 2, Inner counter: 0\n",
      "Outer counter: 2, Inner counter: 1\n"
     ]
    }
   ],
   "source": [
    "# Nested while loop example\n",
    "outer_counter = 0\n",
    "while outer_counter < 3:\n",
    "    inner_counter = 0\n",
    "    while inner_counter < 2:\n",
    "        print(f\"Outer counter: {outer_counter}, Inner counter: {inner_counter}\")\n",
    "        inner_counter += 1\n",
    "    outer_counter += 1"
   ]
  },
  {
   "cell_type": "markdown",
   "metadata": {},
   "source": [
    "This example shows an outer loop that runs three times, and an inner loop that runs twice for each outer loop iteration, resulting in a total of six print statements.\n"
   ]
  },
  {
   "cell_type": "markdown",
   "metadata": {},
   "source": [
    "## <a id='toc4_'></a>[Conclusion](#toc0_)\n"
   ]
  },
  {
   "cell_type": "markdown",
   "metadata": {},
   "source": [
    "The `while` loop is a fundamental control structure in Python that enables the execution of a block of code for an indefinite number of iterations, as long as the condition remains true. It's important to use `while` loops with care to ensure that they do not lead to infinite loops, which can halt your program. By understanding how to control the loop's execution with a condition, and how to properly nest loops, you can harness the power of `while` loops for a wide range of programming tasks."
   ]
  },
  {
   "cell_type": "markdown",
   "metadata": {},
   "source": [
    "<img src=\"../images/exercise-banner.gif\" width=\"800\">"
   ]
  },
  {
   "cell_type": "markdown",
   "metadata": {},
   "source": [
    "## <a id='toc5_'></a>[Exercise: Tracking a Savings Goal with While Loops](#toc0_)"
   ]
  },
  {
   "cell_type": "markdown",
   "metadata": {},
   "source": [
    "In this exercise, you will simulate a savings account balance over time to determine how long it takes to reach a financial goal. You will use a `while` loop to model the account balance as it accumulates interest and receives monthly deposits.\n"
   ]
  },
  {
   "cell_type": "markdown",
   "metadata": {},
   "source": [
    "**Scenario:**\n",
    "Imagine you have a savings account with an initial balance and a goal balance you want to achieve. Each month, you deposit a fixed amount into the account, and the account also earns interest annually.\n"
   ]
  },
  {
   "cell_type": "markdown",
   "metadata": {},
   "source": [
    "**Given Data:**"
   ]
  },
  {
   "cell_type": "code",
   "execution_count": 4,
   "metadata": {},
   "outputs": [],
   "source": [
    "initial_balance = 1000  # The starting balance in the account.\n",
    "monthly_deposit = 100   # The fixed amount deposited into the account each month.\n",
    "annual_interest_rate = 0.05  # The annual interest rate as a decimal (5% here).\n",
    "savings_goal = 2000     # The target balance you want to reach."
   ]
  },
  {
   "cell_type": "markdown",
   "metadata": {},
   "source": [
    "**Tasks:**\n",
    "\n",
    "1. **Calculate the Number of Months to Reach the Savings Goal**:\n",
    "   Using a `while` loop, calculate how many months it will take for the account balance to reach or exceed the savings goal. Assume that the interest is applied annually (i.e., the balance increases by the annual interest rate once every 12 months). Print the number of months needed.\n",
    "\n",
    "2. **Print the Account Balance at the End of Each Year**:\n",
    "   Modify the `while` loop from Task 1 to print the account balance at the end of each year until the savings goal is reached.\n",
    "\n",
    "3. **Bonus: Adjust for Different Interest Application Frequencies**:\n",
    "   Adjust the `while` loop to apply interest on a different frequency (e.g., monthly, quarterly). The frequency can be a variable that you define. Print the number of months needed to reach the savings goal with this new interest application frequency.\n"
   ]
  },
  {
   "cell_type": "markdown",
   "metadata": {},
   "source": [
    "**Sample Output:**\n",
    "```bash\n",
    "It will take 10 months to reach the savings goal.\n",
    "Account balance at the end of year 1: $1300.00\n",
    "Account balance at the end of year 2: $1630.00\n",
    "(Bonus) Monthly interest applied: It will take 9 months to reach the savings goal.\n",
    "```"
   ]
  },
  {
   "cell_type": "markdown",
   "metadata": {},
   "source": [
    "Remember to include comments in your code to explain the logic behind your `while` loop and any calculations you perform. This practice will not only help you understand your own code better but also assist others in following your reasoning. Good luck, and enjoy your financial modeling exercise."
   ]
  },
  {
   "cell_type": "markdown",
   "metadata": {},
   "source": [
    "### <a id='toc5_1_'></a>[Solution](#toc0_)"
   ]
  },
  {
   "cell_type": "markdown",
   "metadata": {},
   "source": [
    "Below is a solution for the exercise that uses `while` loops to model the savings account balance as it grows over time."
   ]
  },
  {
   "cell_type": "code",
   "execution_count": 5,
   "metadata": {},
   "outputs": [],
   "source": [
    "# Given data\n",
    "initial_balance = 1000  # The starting balance in the account.\n",
    "monthly_deposit = 100   # The fixed amount deposited into the account each month.\n",
    "annual_interest_rate = 0.05  # The annual interest rate as a decimal (5% here).\n",
    "savings_goal = 4000     # The target balance you want to reach."
   ]
  },
  {
   "cell_type": "code",
   "execution_count": 6,
   "metadata": {},
   "outputs": [
    {
     "name": "stdout",
     "output_type": "stream",
     "text": [
      "It will take 28 months to reach the savings goal.\n"
     ]
    }
   ],
   "source": [
    "# Task 1: Calculate the Number of Months to Reach the Savings Goal\n",
    "balance = initial_balance\n",
    "months = 0\n",
    "\n",
    "while balance < savings_goal:\n",
    "    # Add monthly deposit to balance\n",
    "    balance += monthly_deposit\n",
    "    # Check if a year has passed and apply interest\n",
    "    if months % 12 == 0 and months > 0:\n",
    "        balance += balance * annual_interest_rate\n",
    "    # Increment the month count\n",
    "    months += 1\n",
    "\n",
    "print(f\"It will take {months} months to reach the savings goal.\")\n"
   ]
  },
  {
   "cell_type": "code",
   "execution_count": 7,
   "metadata": {},
   "outputs": [
    {
     "name": "stdout",
     "output_type": "stream",
     "text": [
      "Account balance at the end of year 1: $2310.00\n",
      "Account balance at the end of year 2: $3685.50\n"
     ]
    }
   ],
   "source": [
    "# Task 2: Print the Account Balance at the End of Each Year\n",
    "balance = initial_balance\n",
    "months = 0\n",
    "\n",
    "while balance < savings_goal:\n",
    "    # Add monthly deposit to balance\n",
    "    balance += monthly_deposit\n",
    "    # Increment the month count\n",
    "    months += 1\n",
    "    # Check if a year has passed and apply interest\n",
    "    if months % 12 == 0:\n",
    "        balance += balance * annual_interest_rate\n",
    "        print(f\"Account balance at the end of year {months // 12}: ${balance:.2f}\")\n"
   ]
  },
  {
   "cell_type": "code",
   "execution_count": 8,
   "metadata": {},
   "outputs": [
    {
     "name": "stdout",
     "output_type": "stream",
     "text": [
      "Interest applied every 12 months: It will take 28 months to reach the savings goal.\n"
     ]
    }
   ],
   "source": [
    "# Bonus: Adjust for Different Interest Application Frequencies\n",
    "balance = initial_balance\n",
    "months = 0\n",
    "interest_frequency = 12  # Monthly interest\n",
    "\n",
    "while balance < savings_goal:\n",
    "    # Add monthly deposit to balance\n",
    "    balance += monthly_deposit\n",
    "    # Apply interest based on the specified frequency\n",
    "    if months % interest_frequency == 0 and months > 0:\n",
    "        balance += balance * (annual_interest_rate / (12 / interest_frequency))\n",
    "    # Increment the month count\n",
    "    months += 1\n",
    "\n",
    "print(f\"Interest applied every {interest_frequency} months: It will take {months} months to reach the savings goal.\")"
   ]
  },
  {
   "cell_type": "markdown",
   "metadata": {},
   "source": [
    "When you run this code, you will see how many months it takes to reach the savings goal under different conditions, including the application of annual interest and adjusted interest frequencies. This exercise demonstrates the practical use of `while` loops in financial modeling scenarios."
   ]
  }
 ],
 "metadata": {
  "kernelspec": {
   "display_name": "py310",
   "language": "python",
   "name": "python3"
  },
  "language_info": {
   "codemirror_mode": {
    "name": "ipython",
    "version": 3
   },
   "file_extension": ".py",
   "mimetype": "text/x-python",
   "name": "python",
   "nbconvert_exporter": "python",
   "pygments_lexer": "ipython3",
   "version": "3.10.12"
  }
 },
 "nbformat": 4,
 "nbformat_minor": 2
}
