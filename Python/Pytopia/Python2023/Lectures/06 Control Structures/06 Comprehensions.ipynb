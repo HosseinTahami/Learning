{
 "cells": [
  {
   "cell_type": "markdown",
   "metadata": {},
   "source": [
    "<img src=\"./images/banner.png\" width=\"800\">"
   ]
  },
  {
   "cell_type": "markdown",
   "metadata": {},
   "source": [
    "# Comprehensions"
   ]
  },
  {
   "cell_type": "markdown",
   "metadata": {},
   "source": [
    "Comprehensions in Python are a compact, readable way to create new sequences (such as lists, sets, or dictionaries) by applying an expression to each item in an iterable. Iterables are objects that Python can loop over, such as lists, tuples, dictionaries, sets, and strings.\n"
   ]
  },
  {
   "cell_type": "markdown",
   "metadata": {},
   "source": [
    "The general form of a comprehension is:\n",
    "- For lists: `[expression for item in iterable]`\n",
    "- For sets: `{expression for item in iterable}`\n",
    "- For dictionaries: `{key_expression: value_expression for item in iterable}`\n"
   ]
  },
  {
   "cell_type": "markdown",
   "metadata": {},
   "source": [
    "A simple list comprehension looks like this:"
   ]
  },
  {
   "cell_type": "code",
   "execution_count": 1,
   "metadata": {},
   "outputs": [
    {
     "data": {
      "text/plain": [
       "[0, 1, 4, 9, 16, 25, 36, 49, 64, 81]"
      ]
     },
     "execution_count": 1,
     "metadata": {},
     "output_type": "execute_result"
    }
   ],
   "source": [
    "squares = [x**2 for x in range(10)]\n",
    "squares"
   ]
  },
  {
   "cell_type": "markdown",
   "metadata": {},
   "source": [
    "This creates a list of the squares of numbers from 0 to 9."
   ]
  },
  {
   "cell_type": "markdown",
   "metadata": {},
   "source": [
    "Advantages of Using Comprehensions:\n",
    "\n",
    "1. **Conciseness**: Comprehensions reduce the amount of boilerplate code needed to create a new sequence, often fitting the entire operation onto a single line.\n",
    "\n",
    "2. **Clarity**: They can be easier to read and understand at a glance, especially for simple transformations and filtering.\n",
    "\n",
    "3. **Performance**: Comprehensions can be faster than equivalent code written with a loop due to Python's behind-the-scenes optimizations.\n",
    "\n",
    "4. **Versatility**: Beyond lists, comprehensions can also be used to create sets and dictionaries, making them a powerful tool in a variety of situations.\n"
   ]
  },
  {
   "cell_type": "markdown",
   "metadata": {},
   "source": [
    "Remember, while comprehensions can be more efficient and readable, they should be used judiciously. Overly complex comprehensions can lead to code that's difficult to understand and maintain. Use them when they make your code cleaner and avoid them when they detract from readability."
   ]
  },
  {
   "cell_type": "markdown",
   "metadata": {},
   "source": [
    "**Table of contents**<a id='toc0_'></a>    \n",
    "- [List Comprehensions](#toc1_)    \n",
    "- [Set Comprehensions](#toc2_)    \n",
    "- [Dictionary Comprehensions](#toc3_)    \n",
    "- [Best Practices and Pitfalls](#toc4_)    \n",
    "  - [When to Use and When Not to Use Comprehensions](#toc4_1_)    \n",
    "  - [Keeping Comprehensions Readable and Maintainable](#toc4_2_)    \n",
    "- [Exercise: Transforming and Filtering Data with Comprehensions](#toc5_)    \n",
    "    - [Solution](#toc5_1_1_)    \n",
    "- [Exercise: Mastering Comprehensions in Python](#toc6_)    \n",
    "  - [Solution](#toc6_1_)    \n",
    "\n",
    "<!-- vscode-jupyter-toc-config\n",
    "\tnumbering=false\n",
    "\tanchor=true\n",
    "\tflat=false\n",
    "\tminLevel=2\n",
    "\tmaxLevel=6\n",
    "\t/vscode-jupyter-toc-config -->\n",
    "<!-- THIS CELL WILL BE REPLACED ON TOC UPDATE. DO NOT WRITE YOUR TEXT IN THIS CELL -->"
   ]
  },
  {
   "cell_type": "markdown",
   "metadata": {},
   "source": [
    "## <a id='toc1_'></a>[List Comprehensions](#toc0_)"
   ]
  },
  {
   "cell_type": "markdown",
   "metadata": {},
   "source": [
    "**Basic syntax: `[expression for item in iterable]`**\n",
    "\n",
    "List comprehensions provide a concise way to create lists. The basic syntax is a square-bracketed expression followed by a `for` clause. Here's a simple example that creates a list of squares from 0 to 9:\n"
   ]
  },
  {
   "cell_type": "code",
   "execution_count": 2,
   "metadata": {},
   "outputs": [
    {
     "data": {
      "text/plain": [
       "[0, 1, 4, 9, 16, 25, 36, 49, 64, 81]"
      ]
     },
     "execution_count": 2,
     "metadata": {},
     "output_type": "execute_result"
    }
   ],
   "source": [
    "squares = [x**2 for x in range(10)]\n",
    "squares"
   ]
  },
  {
   "cell_type": "markdown",
   "metadata": {},
   "source": [
    "**Using conditionals: `[expression for item in iterable if condition]`**\n",
    "\n",
    "You can also add a conditional to the list comprehension to filter the items. For example, to get only the squares of even numbers:"
   ]
  },
  {
   "cell_type": "code",
   "execution_count": 3,
   "metadata": {},
   "outputs": [
    {
     "data": {
      "text/plain": [
       "[0, 4, 16, 36, 64]"
      ]
     },
     "execution_count": 3,
     "metadata": {},
     "output_type": "execute_result"
    }
   ],
   "source": [
    "even_squares = [x**2 for x in range(10) if x % 2 == 0]\n",
    "even_squares"
   ]
  },
  {
   "cell_type": "markdown",
   "metadata": {},
   "source": [
    "**Nested loops in list comprehensions**\n",
    "\n",
    "List comprehensions can also contain nested loops. An example is creating a flattened list from a matrix (a list of lists):"
   ]
  },
  {
   "cell_type": "code",
   "execution_count": 4,
   "metadata": {},
   "outputs": [
    {
     "data": {
      "text/plain": [
       "[1, 2, 3, 4, 5, 6, 7, 8, 9]"
      ]
     },
     "execution_count": 4,
     "metadata": {},
     "output_type": "execute_result"
    }
   ],
   "source": [
    "matrix = [[1, 2, 3], [4, 5, 6], [7, 8, 9]]\n",
    "flattened = [num for row in matrix for num in row]\n",
    "flattened"
   ]
  },
  {
   "cell_type": "markdown",
   "metadata": {},
   "source": [
    "**Practical examples and exercises**\n",
    "- Create a list of the first 10 cube numbers.\n",
    "- Use a list comprehension to extract all the vowels from a given string.\n",
    "- Use a list comprehension to convert a list of temperatures in Celsius to Fahrenheit.\n"
   ]
  },
  {
   "cell_type": "markdown",
   "metadata": {},
   "source": [
    "## <a id='toc2_'></a>[Set Comprehensions](#toc0_)"
   ]
  },
  {
   "cell_type": "markdown",
   "metadata": {},
   "source": [
    "**Basic syntax: `{expression for item in iterable}`**\n"
   ]
  },
  {
   "cell_type": "markdown",
   "metadata": {},
   "source": [
    "Set comprehensions are similar to list comprehensions but use curly braces. They automatically remove any duplicate values. Here's an example that creates a set of squares from 0 to 9:\n"
   ]
  },
  {
   "cell_type": "code",
   "execution_count": 5,
   "metadata": {},
   "outputs": [
    {
     "data": {
      "text/plain": [
       "{0, 1, 4, 9, 16, 25, 36, 49, 64, 81}"
      ]
     },
     "execution_count": 5,
     "metadata": {},
     "output_type": "execute_result"
    }
   ],
   "source": [
    "squares = {x**2 for x in range(10)}\n",
    "squares"
   ]
  },
  {
   "cell_type": "markdown",
   "metadata": {},
   "source": [
    "**Set comprehensions with conditions**\n",
    "\n",
    "You can include conditions in a set comprehension just like in list comprehensions. For example, creating a set of only the squares of even numbers:\n"
   ]
  },
  {
   "cell_type": "code",
   "execution_count": 6,
   "metadata": {},
   "outputs": [
    {
     "data": {
      "text/plain": [
       "{0, 4, 16, 36, 64}"
      ]
     },
     "execution_count": 6,
     "metadata": {},
     "output_type": "execute_result"
    }
   ],
   "source": [
    "even_squares = {x**2 for x in range(10) if x % 2 == 0}\n",
    "even_squares"
   ]
  },
  {
   "cell_type": "markdown",
   "metadata": {},
   "source": [
    "**Differences between list and set comprehensions**\n",
    "\n",
    "The key difference is that sets do not allow duplicate values and are unordered, while lists can contain duplicates and maintain order."
   ]
  },
  {
   "cell_type": "markdown",
   "metadata": {},
   "source": [
    "**Practical examples and exercises**\n",
    "- Create a set of all the first letters from a list of words.\n",
    "- Use a set comprehension to find all the unique characters in a string.\n",
    "- Use a set comprehension to generate all possible pairs `(a, b)` where `a` and `b` are numbers from 1 to 5 and `a` is less than `b`.\n"
   ]
  },
  {
   "cell_type": "markdown",
   "metadata": {},
   "source": [
    "## <a id='toc3_'></a>[Dictionary Comprehensions](#toc0_)\n"
   ]
  },
  {
   "cell_type": "markdown",
   "metadata": {},
   "source": [
    "**Basic syntax: `{key_expression: value_expression for item in iterable}`**\n",
    "\n",
    "Dictionary comprehensions are similar to list and set comprehensions but create a dictionary. The syntax uses curly braces with a colon separating the key and value expressions:\n"
   ]
  },
  {
   "cell_type": "code",
   "execution_count": 7,
   "metadata": {},
   "outputs": [
    {
     "data": {
      "text/plain": [
       "{0: 0, 1: 1, 2: 4, 3: 9, 4: 16, 5: 25, 6: 36, 7: 49, 8: 64, 9: 81}"
      ]
     },
     "execution_count": 7,
     "metadata": {},
     "output_type": "execute_result"
    }
   ],
   "source": [
    "squared_dict = {x: x**2 for x in range(10)}\n",
    "squared_dict"
   ]
  },
  {
   "cell_type": "markdown",
   "metadata": {},
   "source": [
    "**Dictionary comprehensions with conditions**\n"
   ]
  },
  {
   "cell_type": "markdown",
   "metadata": {},
   "source": [
    "You can also filter the items in a dictionary comprehension with a conditional expression:\n"
   ]
  },
  {
   "cell_type": "code",
   "execution_count": 8,
   "metadata": {},
   "outputs": [
    {
     "data": {
      "text/plain": [
       "{0: 0, 2: 4, 4: 16, 6: 36, 8: 64}"
      ]
     },
     "execution_count": 8,
     "metadata": {},
     "output_type": "execute_result"
    }
   ],
   "source": [
    "even_squares_dict = {x: x**2 for x in range(10) if x % 2 == 0}\n",
    "even_squares_dict"
   ]
  },
  {
   "cell_type": "markdown",
   "metadata": {},
   "source": [
    "**Iterating over keys, values, or items in a dictionary**\n",
    "Dictionary comprehensions can iterate over keys, values, or items of an existing dictionary. Here's an example of inverting a dictionary:\n"
   ]
  },
  {
   "cell_type": "code",
   "execution_count": 9,
   "metadata": {},
   "outputs": [
    {
     "data": {
      "text/plain": [
       "{1: 'a', 2: 'b', 3: 'c'}"
      ]
     },
     "execution_count": 9,
     "metadata": {},
     "output_type": "execute_result"
    }
   ],
   "source": [
    "my_dict = {'a': 1, 'b': 2, 'c': 3}\n",
    "inverted_dict = {value: key for key, value in my_dict.items()}\n",
    "inverted_dict"
   ]
  },
  {
   "cell_type": "markdown",
   "metadata": {},
   "source": [
    "**Practical examples and exercises**\n",
    "- Create a dictionary that maps numbers to their squares for numbers from 1 to 5.\n",
    "- Use a dictionary comprehension to count the frequency of each character in a given string.\n",
    "- Use a dictionary comprehension to create a dictionary of words and their lengths from a list of words."
   ]
  },
  {
   "cell_type": "markdown",
   "metadata": {},
   "source": [
    "## <a id='toc4_'></a>[Best Practices and Pitfalls](#toc0_)"
   ]
  },
  {
   "cell_type": "markdown",
   "metadata": {},
   "source": [
    "### <a id='toc4_1_'></a>[When to Use and When Not to Use Comprehensions](#toc0_)\n"
   ]
  },
  {
   "cell_type": "markdown",
   "metadata": {},
   "source": [
    "**When to Use Comprehensions:**\n",
    "- When you need a concise and clear way to transform one iterable into another.\n",
    "- When the transformation logic is simple and can be expressed in a single line.\n",
    "- When applying a function to each item in an iterable.\n",
    "- When you need to filter items from a sequence based on a condition.\n",
    "- When you want to leverage the speed and efficiency benefits provided by comprehensions.\n"
   ]
  },
  {
   "cell_type": "markdown",
   "metadata": {},
   "source": [
    "**When Not to Use Comprehensions:**\n",
    "- When the logic is too complex and would lead to a comprehension that is difficult to understand. In such cases, a traditional loop might be more readable.\n",
    "- When the comprehension would span multiple lines and reduce clarity. Readability counts.\n",
    "- When the expression involves side effects, such as modifying external variables or performing I/O operations. Comprehensions should be used for their return values, not for side effects.\n",
    "- When you need to debug the transformation process, as comprehensions can be less straightforward to step through with a debugger.\n"
   ]
  },
  {
   "cell_type": "markdown",
   "metadata": {},
   "source": [
    "### <a id='toc4_2_'></a>[Keeping Comprehensions Readable and Maintainable](#toc0_)\n"
   ]
  },
  {
   "cell_type": "markdown",
   "metadata": {},
   "source": [
    "- **Simplicity**: Keep the expressions in comprehensions simple. If the logic gets too complicated, consider using a function or breaking down the problem differently.\n",
    "- **Line Length**: Follow the PEP 8 recommendation of a maximum line length (79 characters is the default). If a comprehension is too long, it might be less readable.\n",
    "- **Nested Comprehensions**: Use nested comprehensions sparingly, as they can quickly become difficult to read. If you have nested comprehensions, ensure that each one is simple.\n",
    "- **Variable Names**: Use descriptive variable names for the items in the iterable, so it's clear what each part of the comprehension is doing.\n"
   ]
  },
  {
   "cell_type": "markdown",
   "metadata": {},
   "source": [
    "By following these best practices and being mindful of the potential pitfalls, you can leverage the power of comprehensions in Python effectively while maintaining clean, readable, and efficient code."
   ]
  },
  {
   "cell_type": "markdown",
   "metadata": {},
   "source": [
    "## <a id='toc5_'></a>[Exercise: Transforming and Filtering Data with Comprehensions](#toc0_)"
   ]
  },
  {
   "cell_type": "markdown",
   "metadata": {},
   "source": [
    "Imagine you have a list of dictionaries representing various products in a store. Each dictionary contains the product name, category, and price. Your task is to use comprehensions to perform the following operations:\n",
    "\n",
    "1. Generate a list of product names that are in the category \"Electronics\".\n",
    "2. Create a dictionary that maps product names to their prices, but only for products that cost more than $50.\n",
    "3. Compute the average price of all the products in the \"Books\" category."
   ]
  },
  {
   "cell_type": "markdown",
   "metadata": {},
   "source": [
    "Here's the list of products you will work with:"
   ]
  },
  {
   "cell_type": "code",
   "execution_count": 10,
   "metadata": {},
   "outputs": [],
   "source": [
    "products = [\n",
    "    {\"name\": \"Laptop\", \"category\": \"Electronics\", \"price\": 999.99},\n",
    "    {\"name\": \"Smartphone\", \"category\": \"Electronics\", \"price\": 699.99},\n",
    "    {\"name\": \"Book: The Alchemist\", \"category\": \"Books\", \"price\": 14.99},\n",
    "    {\"name\": \"Book: Harry Potter\", \"category\": \"Books\", \"price\": 29.99},\n",
    "    {\"name\": \"Bluetooth Headphones\", \"category\": \"Electronics\", \"price\": 199.99},\n",
    "    {\"name\": \"Monitor\", \"category\": \"Electronics\", \"price\": 149.99},\n",
    "    {\"name\": \"Book: Python Programming\", \"category\": \"Books\", \"price\": 49.99},\n",
    "    {\"name\": \"Desk Lamp\", \"category\": \"Furniture\", \"price\": 24.99},\n",
    "    {\"name\": \"Mousepad\", \"category\": \"Accessories\", \"price\": 5.99},\n",
    "    {\"name\": \"Stylus Pen\", \"category\": \"Accessories\", \"price\": 12.99},\n",
    "]"
   ]
  },
  {
   "cell_type": "markdown",
   "metadata": {},
   "source": [
    "#### <a id='toc5_1_1_'></a>[Solution](#toc0_)"
   ]
  },
  {
   "cell_type": "code",
   "execution_count": 11,
   "metadata": {},
   "outputs": [
    {
     "name": "stdout",
     "output_type": "stream",
     "text": [
      "Electronics Products: ['Laptop', 'Smartphone', 'Bluetooth Headphones', 'Monitor']\n"
     ]
    }
   ],
   "source": [
    "# 1. Generate a list of product names that are in the category \"Electronics\".\n",
    "electronics_names = [product[\"name\"] for product in products if product[\"category\"] == \"Electronics\"]\n",
    "print(\"Electronics Products:\", electronics_names)"
   ]
  },
  {
   "cell_type": "code",
   "execution_count": 12,
   "metadata": {},
   "outputs": [
    {
     "name": "stdout",
     "output_type": "stream",
     "text": [
      "Products over $50: {'Laptop': 999.99, 'Smartphone': 699.99, 'Bluetooth Headphones': 199.99, 'Monitor': 149.99}\n"
     ]
    }
   ],
   "source": [
    "# 2. Create a dictionary that maps product names to their prices, but only for products that cost more than $50.\n",
    "products_over_50 = {product[\"name\"]: product[\"price\"] for product in products if product[\"price\"] > 50}\n",
    "print(\"Products over $50:\", products_over_50)"
   ]
  },
  {
   "cell_type": "code",
   "execution_count": 13,
   "metadata": {},
   "outputs": [
    {
     "name": "stdout",
     "output_type": "stream",
     "text": [
      "Average Price of Books: 31.656666666666666\n"
     ]
    }
   ],
   "source": [
    "# 3. Compute the average price of all the products in the \"Books\" category.\n",
    "books_prices = [product[\"price\"] for product in products if product[\"category\"] == \"Books\"]\n",
    "average_price_books = sum(books_prices) / len(books_prices) if books_prices else 0\n",
    "print(\"Average Price of Books:\", average_price_books)"
   ]
  },
  {
   "cell_type": "markdown",
   "metadata": {},
   "source": [
    "This exercise provides a practical application of list and dictionary comprehensions, as well as the use of conditionals within them. It also incorporates the use of built-in functions like `sum()` to perform calculations on the resulting list from a comprehension."
   ]
  },
  {
   "cell_type": "markdown",
   "metadata": {},
   "source": [
    "<img src=\"../images/exercise-banner.gif\" width=\"800\">"
   ]
  },
  {
   "cell_type": "markdown",
   "metadata": {},
   "source": [
    "## <a id='toc6_'></a>[Exercise: Mastering Comprehensions in Python](#toc0_)"
   ]
  },
  {
   "cell_type": "markdown",
   "metadata": {},
   "source": [
    "Python comprehensions provide a concise way to create lists, sets, and dictionaries from other iterables. In this exercise, you will practice using list, set, and dictionary comprehensions to transform and filter data efficiently.\n"
   ]
  },
  {
   "cell_type": "markdown",
   "metadata": {},
   "source": [
    "**Given Data:**"
   ]
  },
  {
   "cell_type": "code",
   "execution_count": 14,
   "metadata": {},
   "outputs": [],
   "source": [
    "words = [\"apple\", \"banana\", \"cherry\", \"date\", \"elderberry\", \"fig\", \"grape\"]\n",
    "scores = [88, 92, 78, 90, 89, 76, 61]\n"
   ]
  },
  {
   "cell_type": "markdown",
   "metadata": {},
   "source": [
    "**Tasks:**\n",
    "1. **List Comprehension - Select Long Words**:\n",
    "   Use a list comprehension to create a new list that contains only the words with more than 5 characters from the `words` list. Print the new list.\n",
    "\n",
    "2. **Set Comprehension - Unique Word Lengths**:\n",
    "   Use a set comprehension to create a set that contains the lengths of each word in the `words` list. This will give you a set of unique word lengths. Print the resulting set.\n",
    "\n",
    "3. **Dictionary Comprehension - Word to Length Mapping**:\n",
    "   Use a dictionary comprehension to create a dictionary where each word in the `words` list is a key, and its corresponding value is the length of the word. Print the dictionary.\n",
    "\n",
    "4. **List Comprehension with Conditional - Grade Categories**:\n",
    "   Use a list comprehension with a conditional to create a new list of strings that categorize each score in the `scores` list as 'Pass' if the score is 75 or higher and 'Fail' if the score is lower than 75. Print the list of grade categories.\n",
    "\n",
    "5. **Bonus: Nested Comprehensions - Matrix Transposition**:\n",
    "   Given a matrix (a list of lists), use a nested list comprehension to transpose the matrix (swap rows and columns). Print the transposed matrix.\n"
   ]
  },
  {
   "cell_type": "markdown",
   "metadata": {},
   "source": [
    "**Sample Data for Bonus Task:**"
   ]
  },
  {
   "cell_type": "code",
   "execution_count": 15,
   "metadata": {},
   "outputs": [],
   "source": [
    "matrix = [\n",
    "    [1, 2, 3],\n",
    "    [4, 5, 6],\n",
    "    [7, 8, 9]\n",
    "]"
   ]
  },
  {
   "cell_type": "markdown",
   "metadata": {},
   "source": [
    "**Expected Output:**\n",
    "```bash\n",
    "Long words: ['banana', 'cherry', 'elderberry']\n",
    "Unique word lengths: {4, 5, 6, 7, 10}\n",
    "Word to length: {'apple': 5, 'banana': 6, 'cherry': 6, 'date': 4, 'elderberry': 10, 'fig': 3, 'grape': 5}\n",
    "Grade categories: ['Pass', 'Pass', 'Pass', 'Pass', 'Pass', 'Pass', 'Fail']\n",
    "Transposed matrix: [[1, 4, 7], [2, 5, 8], [3, 6, 9]]\n",
    "```\n"
   ]
  },
  {
   "cell_type": "markdown",
   "metadata": {},
   "source": [
    "Use this exercise to practice and become comfortable with the syntax and logic behind comprehensions in Python. Remember that comprehensions are not only about writing less code—they often result in highly readable and expressive constructs. Happy coding!"
   ]
  },
  {
   "cell_type": "markdown",
   "metadata": {},
   "source": [
    "### <a id='toc6_1_'></a>[Solution](#toc0_)"
   ]
  },
  {
   "cell_type": "markdown",
   "metadata": {},
   "source": [
    "Here's a solution for each of the tasks in the exercise using list, set, and dictionary comprehensions:"
   ]
  },
  {
   "cell_type": "code",
   "execution_count": 16,
   "metadata": {},
   "outputs": [],
   "source": [
    "# Given data\n",
    "words = [\"apple\", \"banana\", \"cherry\", \"date\", \"elderberry\", \"fig\", \"grape\"]\n",
    "scores = [88, 92, 78, 90, 89, 76, 61]"
   ]
  },
  {
   "cell_type": "code",
   "execution_count": 17,
   "metadata": {},
   "outputs": [
    {
     "name": "stdout",
     "output_type": "stream",
     "text": [
      "Long words: ['banana', 'cherry', 'elderberry']\n"
     ]
    }
   ],
   "source": [
    "# Task 1: List Comprehension - Select Long Words\n",
    "long_words = [word for word in words if len(word) > 5]\n",
    "print(f\"Long words: {long_words}\")"
   ]
  },
  {
   "cell_type": "code",
   "execution_count": 18,
   "metadata": {},
   "outputs": [
    {
     "name": "stdout",
     "output_type": "stream",
     "text": [
      "Unique word lengths: {3, 4, 5, 6, 10}\n"
     ]
    }
   ],
   "source": [
    "# Task 2: Set Comprehension - Unique Word Lengths\n",
    "unique_word_lengths = {len(word) for word in words}\n",
    "print(f\"Unique word lengths: {unique_word_lengths}\")"
   ]
  },
  {
   "cell_type": "code",
   "execution_count": 19,
   "metadata": {},
   "outputs": [
    {
     "name": "stdout",
     "output_type": "stream",
     "text": [
      "Word to length: {'apple': 5, 'banana': 6, 'cherry': 6, 'date': 4, 'elderberry': 10, 'fig': 3, 'grape': 5}\n"
     ]
    }
   ],
   "source": [
    "# Task 3: Dictionary Comprehension - Word to Length Mapping\n",
    "word_to_length = {word: len(word) for word in words}\n",
    "print(f\"Word to length: {word_to_length}\")"
   ]
  },
  {
   "cell_type": "code",
   "execution_count": 20,
   "metadata": {},
   "outputs": [
    {
     "name": "stdout",
     "output_type": "stream",
     "text": [
      "Grade categories: ['Pass', 'Pass', 'Pass', 'Pass', 'Pass', 'Pass', 'Fail']\n"
     ]
    }
   ],
   "source": [
    "# Task 4: List Comprehension with Conditional - Grade Categories\n",
    "grade_categories = [\"Pass\" if score >= 75 else \"Fail\" for score in scores]\n",
    "print(f\"Grade categories: {grade_categories}\")"
   ]
  },
  {
   "cell_type": "code",
   "execution_count": 21,
   "metadata": {},
   "outputs": [
    {
     "name": "stdout",
     "output_type": "stream",
     "text": [
      "Transposed matrix: [[1, 4, 7], [2, 5, 8], [3, 6, 9]]\n"
     ]
    }
   ],
   "source": [
    "# Bonus: Nested Comprehensions - Matrix Transposition\n",
    "matrix = [\n",
    "    [1, 2, 3],\n",
    "    [4, 5, 6],\n",
    "    [7, 8, 9]\n",
    "]\n",
    "\n",
    "transposed_matrix = [[row[i] for row in matrix] for i in range(len(matrix[0]))]\n",
    "print(f\"Transposed matrix: {transposed_matrix}\")"
   ]
  },
  {
   "cell_type": "markdown",
   "metadata": {},
   "source": [
    "Running this code will create and print the new structures using comprehensions as described in the tasks. It demonstrates the power and conciseness of comprehensions in Python for creating new lists, sets, and dictionaries from existing iterables. The bonus task shows how to use nested list comprehensions to transpose a matrix, showcasing the versatility of comprehensions for more complex data manipulations."
   ]
  }
 ],
 "metadata": {
  "kernelspec": {
   "display_name": "py310",
   "language": "python",
   "name": "python3"
  },
  "language_info": {
   "codemirror_mode": {
    "name": "ipython",
    "version": 3
   },
   "file_extension": ".py",
   "mimetype": "text/x-python",
   "name": "python",
   "nbconvert_exporter": "python",
   "pygments_lexer": "ipython3",
   "version": "3.10.12"
  }
 },
 "nbformat": 4,
 "nbformat_minor": 2
}
