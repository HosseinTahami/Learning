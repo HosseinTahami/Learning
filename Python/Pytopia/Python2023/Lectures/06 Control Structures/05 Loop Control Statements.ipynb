{
 "cells": [
  {
   "cell_type": "markdown",
   "metadata": {},
   "source": [
    "<img src=\"./images/banner.png\" width=\"800\">"
   ]
  },
  {
   "cell_type": "markdown",
   "metadata": {},
   "source": [
    "# Loop Control Statements"
   ]
  },
  {
   "cell_type": "markdown",
   "metadata": {},
   "source": [
    "In this section of our Python course, we introduce loop control statements: `break`, `continue`, and `pass`. These statements are used to alter the behavior of Python's loop constructs (`for` and `while` loops) during their execution. Understanding how to control the flow of loops is crucial for writing efficient and effective code.\n"
   ]
  },
  {
   "cell_type": "markdown",
   "metadata": {},
   "source": [
    "- The `break` statement provides a way to exit a loop prematurely when a certain condition is met.\n",
    "- The `continue` statement allows you to skip the rest of the current loop iteration and move on to the next one.\n",
    "- The `pass` statement acts as a placeholder and does nothing; it is used syntactically where a statement is required but no action is needed.\n"
   ]
  },
  {
   "cell_type": "markdown",
   "metadata": {},
   "source": [
    "By mastering these loop control statements, you will gain finer control over your loops' execution paths, enabling you to handle complex scenarios with ease. Let's explore each of these statements in more detail in the following sections."
   ]
  },
  {
   "cell_type": "markdown",
   "metadata": {},
   "source": [
    "**Table of contents**<a id='toc0_'></a>    \n",
    "- [Loop Control Statements](#toc1_)    \n",
    "  - [The `break` Statement](#toc1_1_)    \n",
    "  - [The `continue` Statement](#toc1_2_)    \n",
    "  - [The `pass` Statement](#toc1_3_)    \n",
    "- [Best Practices](#toc2_)    \n",
    "- [Conclusion](#toc3_)    \n",
    "- [Exercise: Controlling Loop Execution with `break`, `continue`, and `pass`](#toc4_)    \n",
    "  - [Solution](#toc4_1_)    \n",
    "\n",
    "<!-- vscode-jupyter-toc-config\n",
    "\tnumbering=false\n",
    "\tanchor=true\n",
    "\tflat=false\n",
    "\tminLevel=2\n",
    "\tmaxLevel=6\n",
    "\t/vscode-jupyter-toc-config -->\n",
    "<!-- THIS CELL WILL BE REPLACED ON TOC UPDATE. DO NOT WRITE YOUR TEXT IN THIS CELL -->"
   ]
  },
  {
   "cell_type": "markdown",
   "metadata": {},
   "source": [
    "## <a id='toc1_'></a>[Loop Control Statements](#toc0_)"
   ]
  },
  {
   "cell_type": "markdown",
   "metadata": {},
   "source": [
    "Loops are used in programming to repeat a block of code multiple times. Python provides several loop control statements that change the execution from its normal sequence. When execution leaves a scope, all automatic objects that were created in that scope are destroyed. Python supports the following control statements.\n"
   ]
  },
  {
   "cell_type": "markdown",
   "metadata": {},
   "source": [
    "### <a id='toc1_1_'></a>[The `break` Statement](#toc0_)\n"
   ]
  },
  {
   "cell_type": "markdown",
   "metadata": {},
   "source": [
    "The `break` statement is used to terminate the loop entirely. When a `break` statement is encountered inside a loop, the loop is immediately terminated and the program control resumes at the next statement following the loop.\n"
   ]
  },
  {
   "cell_type": "markdown",
   "metadata": {},
   "source": [
    "Example of `break`:\n"
   ]
  },
  {
   "cell_type": "code",
   "execution_count": 1,
   "metadata": {},
   "outputs": [
    {
     "name": "stdout",
     "output_type": "stream",
     "text": [
      "1\n",
      "2\n",
      "3\n",
      "4\n",
      "Loop ended.\n"
     ]
    }
   ],
   "source": [
    "# Using 'break' to exit a loop\n",
    "for i in range(1, 10):\n",
    "    if i == 5:\n",
    "        break\n",
    "    print(i)\n",
    "print(\"Loop ended.\")"
   ]
  },
  {
   "cell_type": "markdown",
   "metadata": {},
   "source": [
    "In this example, the loop will terminate when `i` equals 5, and \"Loop ended.\" will be printed to the console.\n"
   ]
  },
  {
   "cell_type": "markdown",
   "metadata": {},
   "source": [
    "### <a id='toc1_2_'></a>[The `continue` Statement](#toc0_)\n"
   ]
  },
  {
   "cell_type": "markdown",
   "metadata": {},
   "source": [
    "The `continue` statement is used to skip the rest of the code inside a loop for the current iteration only. The loop does not terminate but continues on with the next iteration.\n"
   ]
  },
  {
   "cell_type": "markdown",
   "metadata": {},
   "source": [
    "Example of `continue`:\n"
   ]
  },
  {
   "cell_type": "code",
   "execution_count": 2,
   "metadata": {},
   "outputs": [
    {
     "name": "stdout",
     "output_type": "stream",
     "text": [
      "1\n",
      "2\n",
      "3\n",
      "4\n",
      "6\n",
      "7\n",
      "8\n",
      "9\n",
      "Loop ended.\n"
     ]
    }
   ],
   "source": [
    "# Using 'continue' to skip an iteration\n",
    "for i in range(1, 10):\n",
    "    if i == 5:\n",
    "        continue\n",
    "    print(i)\n",
    "print(\"Loop ended.\")"
   ]
  },
  {
   "cell_type": "markdown",
   "metadata": {},
   "source": [
    "Here, the number 5 is not printed because when `i` is equal to 5, the `continue` statement causes the loop to skip the rest of its body for that iteration.\n"
   ]
  },
  {
   "cell_type": "markdown",
   "metadata": {},
   "source": [
    "### <a id='toc1_3_'></a>[The `pass` Statement](#toc0_)\n"
   ]
  },
  {
   "cell_type": "markdown",
   "metadata": {},
   "source": [
    "The `pass` statement is a null operation; nothing happens when it executes. It is used as a placeholder in a code block where a statement is syntactically required, but you do not want any command or code to execute.\n"
   ]
  },
  {
   "cell_type": "markdown",
   "metadata": {},
   "source": [
    "Example of `pass`:\n"
   ]
  },
  {
   "cell_type": "code",
   "execution_count": 3,
   "metadata": {},
   "outputs": [
    {
     "name": "stdout",
     "output_type": "stream",
     "text": [
      "1\n",
      "2\n",
      "3\n",
      "4\n",
      "5\n",
      "6\n",
      "7\n",
      "8\n",
      "9\n",
      "Loop ended.\n"
     ]
    }
   ],
   "source": [
    "# Using 'pass' as a placeholder\n",
    "for i in range(1, 10):\n",
    "    if i == 5:\n",
    "        pass  # TODO: Add logic for when i is 5\n",
    "    print(i)\n",
    "print(\"Loop ended.\")"
   ]
  },
  {
   "cell_type": "markdown",
   "metadata": {},
   "source": [
    "In this example, the `pass` statement does nothing when `i` equals 5, but it allows the loop to continue running and print all numbers from 1 to 9.\n"
   ]
  },
  {
   "cell_type": "markdown",
   "metadata": {},
   "source": [
    "## <a id='toc2_'></a>[Best Practices](#toc0_)\n"
   ]
  },
  {
   "cell_type": "markdown",
   "metadata": {},
   "source": [
    "When using loop control statements, keep the following in mind:\n",
    "\n",
    "- Use the `break` statement sparingly. It can make loops less predictable and harder to understand.\n",
    "- Use the `continue` statement when you need to skip over part of a loop for a certain condition.\n",
    "- Use the `pass` statement as a placeholder for future code. It reminds you or indicates to others that a piece of code is intentionally left blank at the moment.\n"
   ]
  },
  {
   "cell_type": "markdown",
   "metadata": {},
   "source": [
    "## <a id='toc3_'></a>[Conclusion](#toc0_)\n"
   ]
  },
  {
   "cell_type": "markdown",
   "metadata": {},
   "source": [
    "Loop control statements are essential for managing the flow of loops beyond their basic operation. The `break` statement allows you to stop a loop prematurely, the `continue` statement lets you skip certain iterations, and the `pass` statement acts as a syntactic placeholder. Understanding these control statements is crucial for writing efficient and effective loops in Python. In the next lectures, we'll explore other aspects of control structures, providing you with a strong foundation for building complex and robust Python programs."
   ]
  },
  {
   "cell_type": "markdown",
   "metadata": {},
   "source": [
    "<img src=\"../images/exercise-banner.gif\" width=\"800\">"
   ]
  },
  {
   "cell_type": "markdown",
   "metadata": {},
   "source": [
    "## <a id='toc4_'></a>[Exercise: Controlling Loop Execution with `break`, `continue`, and `pass`](#toc0_)"
   ]
  },
  {
   "cell_type": "markdown",
   "metadata": {},
   "source": [
    "In this exercise, you'll be working with a list of integers to practice using the `break`, `continue`, and `pass` statements within `for` or `while` loops in Python. These control statements alter the flow of a loop: `break` terminates the loop, `continue` skips to the next iteration, and `pass` does nothing and serves as a placeholder.\n"
   ]
  },
  {
   "cell_type": "markdown",
   "metadata": {},
   "source": [
    "**Given Data:**"
   ]
  },
  {
   "cell_type": "code",
   "execution_count": 1,
   "metadata": {},
   "outputs": [],
   "source": [
    "numbers = [7, 8, 0, 4, 3, 0, 5, 6, 0, 1]"
   ]
  },
  {
   "cell_type": "markdown",
   "metadata": {},
   "source": [
    "**Tasks:**\n",
    "\n",
    "1. **Find and Print the First Zero**:\n",
    "   Use a `for` loop to iterate through the list and print the first zero you encounter. Use the `break` statement to exit the loop once the zero is found.\n",
    "\n",
    "2. **Print Non-Zero Numbers**:\n",
    "   Write another `for` loop that prints all the numbers in the list except for the zeros. Use the `continue` statement to skip printing zeros.\n",
    "\n",
    "3. **Use `pass` as a Placeholder**:\n",
    "   Suppose you want to iterate over the list and process non-zero numbers in the future, but the processing code isn't ready yet. Use a `for` loop with the `pass` statement as a placeholder for non-zero numbers and print \"Zero found\" for zeros.\n",
    "\n",
    "4. **Bonus: Implement a Retry Mechanism**: (Optional, this may be challenging)\n",
    "   Simulate a simple retry mechanism using a `while` loop. You are trying to connect to a server, and the connection attempts are represented by the list of numbers. A zero means the connection failed, and any non-zero number represents a successful connection. Use a `for` loop inside a `while` loop to iterate through the connection attempts. If a connection is successful (`non-zero`), print \"Connected\" and use the `break` statement to exit both loops. If all connection attempts fail after iterating through the whole list, print \"All connection attempts failed. Retrying...\" and start the connection attempts again. Limit the number of retries to 3 to avoid an infinite loop.\n"
   ]
  },
  {
   "cell_type": "markdown",
   "metadata": {},
   "source": [
    "**Sample Output:**\n",
    "```bash\n",
    "First zero found at index 2\n",
    "8\n",
    "7\n",
    "4\n",
    "3\n",
    "5\n",
    "6\n",
    "1\n",
    "Zero found\n",
    "Zero found\n",
    "Zero found\n",
    "Connected\n",
    "```\n"
   ]
  },
  {
   "cell_type": "markdown",
   "metadata": {},
   "source": [
    "These tasks will help you understand and practice how to control the execution of loops using `break`, `continue`, and `pass`. Remember to include comments in your code to explain the purpose of each control statement you use. Happy coding!"
   ]
  },
  {
   "cell_type": "markdown",
   "metadata": {},
   "source": [
    "### <a id='toc4_1_'></a>[Solution](#toc0_)"
   ]
  },
  {
   "cell_type": "markdown",
   "metadata": {},
   "source": [
    "Here's a solution for each of the tasks in the exercise."
   ]
  },
  {
   "cell_type": "code",
   "execution_count": 2,
   "metadata": {},
   "outputs": [],
   "source": [
    "# Given data\n",
    "numbers = [7, 8, 0, 4, 3, 0, 5, 6, 0, 1]"
   ]
  },
  {
   "cell_type": "code",
   "execution_count": 3,
   "metadata": {},
   "outputs": [
    {
     "name": "stdout",
     "output_type": "stream",
     "text": [
      "First zero found at index 2\n"
     ]
    }
   ],
   "source": [
    "# Task 1: Find and Print the First Zero\n",
    "for index, number in enumerate(numbers):\n",
    "    if number == 0:\n",
    "        print(f\"First zero found at index {index}\")\n",
    "        break  # Exit the loop after the first zero is found."
   ]
  },
  {
   "cell_type": "code",
   "execution_count": 4,
   "metadata": {},
   "outputs": [
    {
     "name": "stdout",
     "output_type": "stream",
     "text": [
      "7\n",
      "8\n",
      "4\n",
      "3\n",
      "5\n",
      "6\n",
      "1\n"
     ]
    }
   ],
   "source": [
    "# Task 2: Print Non-Zero Numbers\n",
    "for number in numbers:\n",
    "    if number == 0:\n",
    "        continue  # Skip the rest of the loop and continue with the next iteration.\n",
    "    print(number)"
   ]
  },
  {
   "cell_type": "code",
   "execution_count": 5,
   "metadata": {},
   "outputs": [
    {
     "name": "stdout",
     "output_type": "stream",
     "text": [
      "Zero found\n",
      "Zero found\n",
      "Zero found\n"
     ]
    }
   ],
   "source": [
    "# Task 3: Use `pass` as a Placeholder\n",
    "for number in numbers:\n",
    "    if number == 0:\n",
    "        print(\"Zero found\")\n",
    "    else:\n",
    "        # Placeholder for future code to process non-zero numbers.\n",
    "        pass"
   ]
  },
  {
   "cell_type": "code",
   "execution_count": 6,
   "metadata": {},
   "outputs": [
    {
     "name": "stdout",
     "output_type": "stream",
     "text": [
      "Connected\n"
     ]
    }
   ],
   "source": [
    "# Task 4: Bonus: Implement a Retry Mechanism\n",
    "max_retries = 3\n",
    "retries = 0\n",
    "while retries < max_retries:\n",
    "    for number in numbers:\n",
    "        if number != 0:\n",
    "            print(\"Connected\")\n",
    "            break  # Exit the for loop if connected.\n",
    "    else:\n",
    "        # The 'else' block executes if the 'for' loop was not terminated by 'break'.\n",
    "        print(\"All connection attempts failed. Retrying...\")\n",
    "        retries += 1\n",
    "        continue  # Continue with the next iteration of the while loop.\n",
    "    break  # Exit the while loop if connected."
   ]
  },
  {
   "cell_type": "markdown",
   "metadata": {},
   "source": [
    "\n",
    "This code should provide the expected output for each task. The use of `break`, `continue`, and `pass` demonstrates how to control the flow of the loops in different scenarios. The `break` statement is used to exit loops early, `continue` skips to the next iteration, and `pass` acts as a no-operation placeholder. The retry mechanism in Task 4 illustrates how you can use nested loops and control statements to implement more complex logic."
   ]
  }
 ],
 "metadata": {
  "kernelspec": {
   "display_name": "py310",
   "language": "python",
   "name": "python3"
  },
  "language_info": {
   "codemirror_mode": {
    "name": "ipython",
    "version": 3
   },
   "file_extension": ".py",
   "mimetype": "text/x-python",
   "name": "python",
   "nbconvert_exporter": "python",
   "pygments_lexer": "ipython3",
   "version": "3.10.12"
  }
 },
 "nbformat": 4,
 "nbformat_minor": 2
}
