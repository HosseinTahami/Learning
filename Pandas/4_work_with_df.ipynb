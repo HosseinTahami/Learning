{
 "cells": [
  {
   "cell_type": "markdown",
   "metadata": {},
   "source": [
    "<h1 align=center style=\"line-height:200%;font-family:vazir;color:#0099cc\">\n",
    "<font face=\"vazir\" color=\"#0099cc\">\n",
    "کار با دیتافریم\n",
    "</font>\n",
    "</h1>"
   ]
  },
  {
   "cell_type": "markdown",
   "metadata": {},
   "source": [
    "<p dir=rtl style=\"direction: rtl;text-align: right;line-height:200%;font-family:vazir;font-size:medium\">\n",
    "<font face=\"vazir\" size=3>\n",
    "در درسنامه‌های قبلی با داده‌ساختار‌های سری و فریم در پانداس آشنا شدیم. همان‌طور که دیدید، هر سطر یا ستون دیتافریم، به عنوان یک سری شناخته می‌شود. در این درس، قصد داریم روش‌های نمایه‌سازی دیتافریم در پانداز را با هم مقایسه کرده و با روش‌های پیشرفته‌تر آن آشنا شویم.\n",
    "    </font>\n",
    "</p>"
   ]
  },
  {
   "cell_type": "code",
   "execution_count": 1,
   "metadata": {},
   "outputs": [
    {
     "data": {
      "text/html": [
       "<div>\n",
       "<style scoped>\n",
       "    .dataframe tbody tr th:only-of-type {\n",
       "        vertical-align: middle;\n",
       "    }\n",
       "\n",
       "    .dataframe tbody tr th {\n",
       "        vertical-align: top;\n",
       "    }\n",
       "\n",
       "    .dataframe thead th {\n",
       "        text-align: right;\n",
       "    }\n",
       "</style>\n",
       "<table border=\"1\" class=\"dataframe\">\n",
       "  <thead>\n",
       "    <tr style=\"text-align: right;\">\n",
       "      <th></th>\n",
       "      <th>Color</th>\n",
       "      <th>HP</th>\n",
       "      <th>Weight (KG)</th>\n",
       "      <th>price</th>\n",
       "    </tr>\n",
       "  </thead>\n",
       "  <tbody>\n",
       "    <tr>\n",
       "      <th>Peykan</th>\n",
       "      <td>Red</td>\n",
       "      <td>48</td>\n",
       "      <td>990</td>\n",
       "      <td>33</td>\n",
       "    </tr>\n",
       "    <tr>\n",
       "      <th>BMW X6</th>\n",
       "      <td>White</td>\n",
       "      <td>335</td>\n",
       "      <td>2320</td>\n",
       "      <td>2400</td>\n",
       "    </tr>\n",
       "    <tr>\n",
       "      <th>Peugeot 206</th>\n",
       "      <td>Black</td>\n",
       "      <td>105</td>\n",
       "      <td>1025</td>\n",
       "      <td>105</td>\n",
       "    </tr>\n",
       "    <tr>\n",
       "      <th>Tiba</th>\n",
       "      <td>White</td>\n",
       "      <td>87</td>\n",
       "      <td>1027</td>\n",
       "      <td>120</td>\n",
       "    </tr>\n",
       "    <tr>\n",
       "      <th>Nissan Junior</th>\n",
       "      <td>Blue</td>\n",
       "      <td>93</td>\n",
       "      <td>1540</td>\n",
       "      <td>230</td>\n",
       "    </tr>\n",
       "    <tr>\n",
       "      <th>Peykan Vanet</th>\n",
       "      <td>Red</td>\n",
       "      <td>80</td>\n",
       "      <td>960</td>\n",
       "      <td>68</td>\n",
       "    </tr>\n",
       "    <tr>\n",
       "      <th>renault 5</th>\n",
       "      <td>Silver</td>\n",
       "      <td>48</td>\n",
       "      <td>850</td>\n",
       "      <td>38</td>\n",
       "    </tr>\n",
       "  </tbody>\n",
       "</table>\n",
       "</div>"
      ],
      "text/plain": [
       "                Color   HP  Weight (KG)  price\n",
       "Peykan            Red   48          990     33\n",
       "BMW X6          White  335         2320   2400\n",
       "Peugeot 206     Black  105         1025    105\n",
       "Tiba            White   87         1027    120\n",
       "Nissan Junior    Blue   93         1540    230\n",
       "Peykan Vanet      Red   80          960     68\n",
       "renault 5      Silver   48          850     38"
      ]
     },
     "execution_count": 1,
     "metadata": {},
     "output_type": "execute_result"
    }
   ],
   "source": [
    "import pandas as pd\n",
    "import numpy as np\n",
    "\n",
    "cars_dictionary = {\n",
    "    \"Color\" :[\"Red\", \"White\", \"Black\", \"White\", \"Blue\", \"Red\", \"Silver\"],\n",
    "    \"HP\" :[48, 335, 105, 87, 93, 80, 48],\n",
    "    \"Weight (KG)\": [990, 2320, 1025, 1027, 1540, 960, 850],\n",
    "    \"price\" :[33, 2400, 105, 120, 230, 68, 38]\n",
    "}\n",
    "\n",
    "df = pd.DataFrame(cars_dictionary , index = [ \"Peykan\", \"BMW X6\", \"Peugeot 206\", \"Tiba\", \"Nissan Junior\", \"Peykan Vanet\", \"renault 5\"])\n",
    "\n",
    "df"
   ]
  },
  {
   "cell_type": "markdown",
   "metadata": {},
   "source": [
    "<p dir=rtl style=\"direction: rtl;text-align: right;line-height:200%;font-family:vazir;font-size:medium\">\n",
    "<font face=\"vazir\" size=3>\n",
    "دقت کنید که در این حالت، مدل ماشین‌ها به عنوان نمایه در نظر گرفته شده است و ستون اولی که می‌بینید، همان نمایه‌های دیتافریم هستند.\n",
    "    </font>\n",
    "</p>\n"
   ]
  },
  {
   "cell_type": "markdown",
   "metadata": {},
   "source": [
    "<h2 align=right style=\"line-height:200%;font-family:vazir;color:#0099cc\">\n",
    "<font face=\"vazir\" color=\"#0099cc\">\n",
    "نمایه‌سازی ستون‌ها\n",
    "    </font>\n",
    "</h2>\n"
   ]
  },
  {
   "cell_type": "code",
   "execution_count": 2,
   "metadata": {},
   "outputs": [
    {
     "data": {
      "text/plain": [
       "['Red', 'White', 'Black', 'White', 'Blue', 'Red', 'Silver']"
      ]
     },
     "execution_count": 2,
     "metadata": {},
     "output_type": "execute_result"
    }
   ],
   "source": [
    "cars_dictionary[\"Color\"]"
   ]
  },
  {
   "cell_type": "markdown",
   "metadata": {},
   "source": [
    "<p dir=rtl style=\"direction: rtl;text-align: right;line-height:200%;font-family:vazir;font-size:medium\">\n",
    "<font face=\"vazir\" size=3>\n",
    "با استفاده از کلید <code>\"Color\"</code>، به لیستی از تمامی رنگ‌های دیکشنری دسترسی پیدا کردیم.\n",
    "    </font>\n",
    "</p>"
   ]
  },
  {
   "cell_type": "code",
   "execution_count": 3,
   "metadata": {},
   "outputs": [
    {
     "data": {
      "text/plain": [
       "Peykan              Red\n",
       "BMW X6            White\n",
       "Peugeot 206       Black\n",
       "Tiba              White\n",
       "Nissan Junior      Blue\n",
       "Peykan Vanet        Red\n",
       "renault 5        Silver\n",
       "Name: Color, dtype: object"
      ]
     },
     "execution_count": 3,
     "metadata": {},
     "output_type": "execute_result"
    }
   ],
   "source": [
    "df[\"Color\"]"
   ]
  },
  {
   "cell_type": "markdown",
   "metadata": {},
   "source": [
    "\n",
    "<p dir=rtl style=\"direction: rtl;text-align: right;line-height:200%;font-family:vazir;font-size:medium\">\n",
    "<font face=\"vazir\" size=3>\n",
    "در کد بالا، به یک ستون دیتافریم با استفاده از نام ستون دسترسی پیدا کردیم. \n",
    "<br>\n",
    "برعکس دیکشنری که یک لیست ساده را به عنوان خروجی چاپ می‌کرد، در این جا، این ستون به صورت سری با نمایه‌های مساوی با  دیتافریم <code>df</code> چاپ شده است.\n",
    "    </font>\n",
    "</p>"
   ]
  },
  {
   "cell_type": "code",
   "execution_count": 4,
   "metadata": {},
   "outputs": [
    {
     "data": {
      "text/plain": [
       "Peykan              Red\n",
       "BMW X6            White\n",
       "Peugeot 206       Black\n",
       "Tiba              White\n",
       "Nissan Junior      Blue\n",
       "Peykan Vanet        Red\n",
       "renault 5        Silver\n",
       "Name: Color, dtype: object"
      ]
     },
     "execution_count": 4,
     "metadata": {},
     "output_type": "execute_result"
    }
   ],
   "source": [
    "df.Color"
   ]
  },
  {
   "cell_type": "markdown",
   "metadata": {},
   "source": [
    "\n",
    "<p dir=rtl style=\"direction: rtl;text-align: right;line-height:200%;font-family:vazir;font-size:medium\">\n",
    "<font face=\"vazir\" size=3>\n",
    "راه دوم برای دسترسی به ستون‌های یک دیتافریم.\n",
    "<br>\n",
    "دقت کنید که این روش، تنها در حالت‌هایی که نام ستون بدون فاصله است قابل استفاده می‌باشد.\n",
    "    </font>\n",
    "</p>"
   ]
  },
  {
   "cell_type": "code",
   "execution_count": 5,
   "metadata": {},
   "outputs": [
    {
     "name": "stdout",
     "output_type": "stream",
     "text": [
      "Color\n",
      "7\n",
      "HP\n",
      "7\n",
      "Weight (KG)\n",
      "7\n",
      "price\n",
      "7\n"
     ]
    }
   ],
   "source": [
    "for c in df.columns:\n",
    "    print(c)\n",
    "    print(df[c].count())"
   ]
  },
  {
   "cell_type": "markdown",
   "metadata": {},
   "source": [
    "<p dir=rtl style=\"direction: rtl;text-align: right;line-height:200%;font-family:vazir;font-size:medium\">\n",
    "<font face=\"vazir\" size=3>\n",
    "در این کد با استفاده از <code>df[c]</code> به تک تک ستون‌ها دسترسی پیدا کرده و عملیات شمارش را روی آن‌ها اعمال کردیم.\n",
    "    </font>\n",
    "</p>"
   ]
  },
  {
   "cell_type": "code",
   "execution_count": 6,
   "metadata": {},
   "outputs": [
    {
     "data": {
      "text/html": [
       "<div>\n",
       "<style scoped>\n",
       "    .dataframe tbody tr th:only-of-type {\n",
       "        vertical-align: middle;\n",
       "    }\n",
       "\n",
       "    .dataframe tbody tr th {\n",
       "        vertical-align: top;\n",
       "    }\n",
       "\n",
       "    .dataframe thead th {\n",
       "        text-align: right;\n",
       "    }\n",
       "</style>\n",
       "<table border=\"1\" class=\"dataframe\">\n",
       "  <thead>\n",
       "    <tr style=\"text-align: right;\">\n",
       "      <th></th>\n",
       "      <th>Color</th>\n",
       "      <th>price</th>\n",
       "    </tr>\n",
       "  </thead>\n",
       "  <tbody>\n",
       "    <tr>\n",
       "      <th>Peykan</th>\n",
       "      <td>Red</td>\n",
       "      <td>33</td>\n",
       "    </tr>\n",
       "    <tr>\n",
       "      <th>BMW X6</th>\n",
       "      <td>White</td>\n",
       "      <td>2400</td>\n",
       "    </tr>\n",
       "    <tr>\n",
       "      <th>Peugeot 206</th>\n",
       "      <td>Black</td>\n",
       "      <td>105</td>\n",
       "    </tr>\n",
       "    <tr>\n",
       "      <th>Tiba</th>\n",
       "      <td>White</td>\n",
       "      <td>120</td>\n",
       "    </tr>\n",
       "    <tr>\n",
       "      <th>Nissan Junior</th>\n",
       "      <td>Blue</td>\n",
       "      <td>230</td>\n",
       "    </tr>\n",
       "    <tr>\n",
       "      <th>Peykan Vanet</th>\n",
       "      <td>Red</td>\n",
       "      <td>68</td>\n",
       "    </tr>\n",
       "    <tr>\n",
       "      <th>renault 5</th>\n",
       "      <td>Silver</td>\n",
       "      <td>38</td>\n",
       "    </tr>\n",
       "  </tbody>\n",
       "</table>\n",
       "</div>"
      ],
      "text/plain": [
       "                Color  price\n",
       "Peykan            Red     33\n",
       "BMW X6          White   2400\n",
       "Peugeot 206     Black    105\n",
       "Tiba            White    120\n",
       "Nissan Junior    Blue    230\n",
       "Peykan Vanet      Red     68\n",
       "renault 5      Silver     38"
      ]
     },
     "execution_count": 6,
     "metadata": {},
     "output_type": "execute_result"
    }
   ],
   "source": [
    "df[[\"Color\" , \"price\"]]"
   ]
  },
  {
   "cell_type": "markdown",
   "metadata": {},
   "source": [
    "\n",
    "<p dir=rtl style=\"direction: rtl;text-align: right;line-height:200%;font-family:vazir;font-size:medium\">\n",
    "<font face=\"vazir\" size=3>\n",
    "همان‌طور که گفتیم، دسترسی به یک ستون دیتافریم، به ما یک سری را برمی‌گرداند؛ اما می‌بینید که در حالتی که به چند ستون دسترسی پیدا می‌کنیم، خروجی به صورت یک دیتافریم است.\n",
    "    </font>\n",
    "</p>"
   ]
  },
  {
   "cell_type": "markdown",
   "metadata": {},
   "source": [
    "<h2 align=right style=\"line-height:200%;font-family:vazir;color:#0099cc\">\n",
    "<font face=\"vazir\" color=\"#0099cc\">\n",
    "نمایه‌سازی سطرها\n",
    "    </font>\n",
    "</h2>\n"
   ]
  },
  {
   "cell_type": "code",
   "execution_count": 7,
   "metadata": {},
   "outputs": [
    {
     "data": {
      "text/plain": [
       "Color          Black\n",
       "HP               105\n",
       "Weight (KG)     1025\n",
       "price            105\n",
       "Name: Peugeot 206, dtype: object"
      ]
     },
     "execution_count": 7,
     "metadata": {},
     "output_type": "execute_result"
    }
   ],
   "source": [
    "df.iloc[2]"
   ]
  },
  {
   "cell_type": "markdown",
   "metadata": {},
   "source": [
    "<p dir=rtl style=\"direction: rtl;text-align: right;line-height:200%;font-family:vazir;font-size:medium\">\n",
    "<font face=\"vazir\" size=3>\n",
    "در کد بالا، به سطر دوم دیتافریم، مانند نامپای، دسترسی پیدا می‌کنیم.\n",
    "    </font>\n",
    "</p>"
   ]
  },
  {
   "cell_type": "code",
   "execution_count": 8,
   "metadata": {},
   "outputs": [
    {
     "data": {
      "text/plain": [
       "Color          White\n",
       "HP                87\n",
       "Weight (KG)     1027\n",
       "price            120\n",
       "Name: Tiba, dtype: object"
      ]
     },
     "execution_count": 8,
     "metadata": {},
     "output_type": "execute_result"
    }
   ],
   "source": [
    "df.loc[\"Tiba\"]"
   ]
  },
  {
   "cell_type": "markdown",
   "metadata": {},
   "source": [
    "<p dir=rtl style=\"direction: rtl;text-align: right;line-height:200%;font-family:vazir;font-size:medium\">\n",
    "<font face=\"vazir\" size=3>\n",
    "در کد بالا، به سطری که نام نمایه‌ی آن <code>\"Tiba\"</code> است، دسترسی پیدا می‌کنیم.\n",
    "    </font>\n",
    "</p>"
   ]
  },
  {
   "cell_type": "code",
   "execution_count": 9,
   "metadata": {},
   "outputs": [
    {
     "data": {
      "text/html": [
       "<div>\n",
       "<style scoped>\n",
       "    .dataframe tbody tr th:only-of-type {\n",
       "        vertical-align: middle;\n",
       "    }\n",
       "\n",
       "    .dataframe tbody tr th {\n",
       "        vertical-align: top;\n",
       "    }\n",
       "\n",
       "    .dataframe thead th {\n",
       "        text-align: right;\n",
       "    }\n",
       "</style>\n",
       "<table border=\"1\" class=\"dataframe\">\n",
       "  <thead>\n",
       "    <tr style=\"text-align: right;\">\n",
       "      <th></th>\n",
       "      <th>Color</th>\n",
       "      <th>HP</th>\n",
       "      <th>Weight (KG)</th>\n",
       "      <th>price</th>\n",
       "    </tr>\n",
       "  </thead>\n",
       "  <tbody>\n",
       "    <tr>\n",
       "      <th>0</th>\n",
       "      <td>Red</td>\n",
       "      <td>48</td>\n",
       "      <td>990</td>\n",
       "      <td>33</td>\n",
       "    </tr>\n",
       "    <tr>\n",
       "      <th>1</th>\n",
       "      <td>White</td>\n",
       "      <td>335</td>\n",
       "      <td>2320</td>\n",
       "      <td>2400</td>\n",
       "    </tr>\n",
       "    <tr>\n",
       "      <th>2</th>\n",
       "      <td>Black</td>\n",
       "      <td>105</td>\n",
       "      <td>1025</td>\n",
       "      <td>105</td>\n",
       "    </tr>\n",
       "    <tr>\n",
       "      <th>3</th>\n",
       "      <td>White</td>\n",
       "      <td>87</td>\n",
       "      <td>1027</td>\n",
       "      <td>120</td>\n",
       "    </tr>\n",
       "    <tr>\n",
       "      <th>4</th>\n",
       "      <td>Blue</td>\n",
       "      <td>93</td>\n",
       "      <td>1540</td>\n",
       "      <td>230</td>\n",
       "    </tr>\n",
       "    <tr>\n",
       "      <th>5</th>\n",
       "      <td>Red</td>\n",
       "      <td>80</td>\n",
       "      <td>960</td>\n",
       "      <td>68</td>\n",
       "    </tr>\n",
       "    <tr>\n",
       "      <th>6</th>\n",
       "      <td>Silver</td>\n",
       "      <td>48</td>\n",
       "      <td>850</td>\n",
       "      <td>38</td>\n",
       "    </tr>\n",
       "  </tbody>\n",
       "</table>\n",
       "</div>"
      ],
      "text/plain": [
       "    Color   HP  Weight (KG)  price\n",
       "0     Red   48          990     33\n",
       "1   White  335         2320   2400\n",
       "2   Black  105         1025    105\n",
       "3   White   87         1027    120\n",
       "4    Blue   93         1540    230\n",
       "5     Red   80          960     68\n",
       "6  Silver   48          850     38"
      ]
     },
     "execution_count": 9,
     "metadata": {},
     "output_type": "execute_result"
    }
   ],
   "source": [
    "cars_dictionary = {\n",
    "    \"Color\" :[\"Red\", \"White\", \"Black\", \"White\", \"Blue\", \"Red\", \"Silver\"],\n",
    "    \"HP\" :[48, 335, 105, 87, 93, 80, 48],\n",
    "    \"Weight (KG)\": [990, 2320, 1025, 1027, 1540, 960, 850],\n",
    "    \"price\" :[33, 2400, 105, 120, 230, 68, 38]\n",
    "}\n",
    "\n",
    "df2 = pd.DataFrame(cars_dictionary )\n",
    "\n",
    "df2"
   ]
  },
  {
   "cell_type": "markdown",
   "metadata": {},
   "source": [
    "\n",
    "<p dir=rtl style=\"direction: rtl;text-align: right;line-height:200%;font-family:vazir;font-size:medium\">\n",
    "<font face=\"vazir\" size=3>\n",
    "دیتافریم <code>df2</code> را، بدون مقداردهی نمایه‌ها می‌سازیم تا تفاوت دستوهای <code>loc</code> و <code>iloc</code> را بررسی کنیم.\n",
    "    </font>\n",
    "</p>"
   ]
  },
  {
   "cell_type": "code",
   "execution_count": 23,
   "metadata": {},
   "outputs": [
    {
     "data": {
      "text/plain": [
       "Color          White\n",
       "HP                87\n",
       "Weight (KG)     1027\n",
       "price            120\n",
       "Name: 3, dtype: object"
      ]
     },
     "execution_count": 23,
     "metadata": {},
     "output_type": "execute_result"
    }
   ],
   "source": [
    "df2.loc[3]"
   ]
  },
  {
   "cell_type": "markdown",
   "metadata": {},
   "source": [
    "\n",
    "<p dir=rtl style=\"direction: rtl;text-align: right;line-height:200%;font-family:vazir;font-size:medium\">\n",
    "<font face=\"vazir\" size=3>\n",
    "می‌بینیم که در این حالت، شماره‌ی نمایه‌ها با نام آن‌ها کاملا برابر است و می‌توان از دستور <code>loc</code>، برای نمایه‌سازی استفاده کرد.\n",
    "    </font>\n",
    "</p>"
   ]
  },
  {
   "cell_type": "markdown",
   "metadata": {},
   "source": [
    "<h2 align=right style=\"line-height:200%;font-family:vazir;color:#0099cc\">\n",
    "<font face=\"vazir\" color=\"#0099cc\">\n",
    "نمایه‌سازی با دیدگاه مبتنی بر آرایه‌ی دوبعدی\n",
    "    </font>\n",
    "</h2>\n"
   ]
  },
  {
   "cell_type": "code",
   "execution_count": 11,
   "metadata": {},
   "outputs": [
    {
     "data": {
      "text/plain": [
       "array([[ 0,  1,  2,  3],\n",
       "       [ 4,  5,  6,  7],\n",
       "       [ 8,  9, 10, 11],\n",
       "       [12, 13, 14, 15]])"
      ]
     },
     "execution_count": 11,
     "metadata": {},
     "output_type": "execute_result"
    }
   ],
   "source": [
    "arr = np.arange(16).reshape(4, 4)\n",
    "arr"
   ]
  },
  {
   "cell_type": "markdown",
   "metadata": {},
   "source": [
    "<p dir=rtl style=\"direction: rtl;text-align: right;line-height:200%;font-family:vazir;font-size:medium\">\n",
    "<font face=\"vazir\" size=3>\n",
    "در کد بالا، یک آرایه‌ی نامپای ۴ در ۴ می‌سازیم.\n",
    "    </font>\n",
    "</p>\n"
   ]
  },
  {
   "cell_type": "code",
   "execution_count": 24,
   "metadata": {},
   "outputs": [
    {
     "data": {
      "text/plain": [
       "11"
      ]
     },
     "execution_count": 24,
     "metadata": {},
     "output_type": "execute_result"
    }
   ],
   "source": [
    "arr[2,3]"
   ]
  },
  {
   "cell_type": "markdown",
   "metadata": {},
   "source": [
    "\n",
    "<p dir=rtl style=\"direction: rtl;text-align: right;line-height:200%;font-family:vazir;font-size:medium\">\n",
    "<font face=\"vazir\" size=3>\n",
    "مانند آنچه در فصل نامپای یاد گرفتیم، برای دسترسی به عنصر سطر دوم و ستون سوم آرایه، می‌توانیم از کد بالا استفاده کنیم.\n",
    "<br>\n",
    "قالب کلی این نوع نمایه‌سازی را به خاطر بسپارید، برای نمایه‌سازی در پانداز نیز، می‌توانیم از روشی مشابه استفاده کنیم.\n",
    "    </font>\n",
    "</p>"
   ]
  },
  {
   "cell_type": "code",
   "execution_count": 13,
   "metadata": {},
   "outputs": [
    {
     "data": {
      "text/html": [
       "<div>\n",
       "<style scoped>\n",
       "    .dataframe tbody tr th:only-of-type {\n",
       "        vertical-align: middle;\n",
       "    }\n",
       "\n",
       "    .dataframe tbody tr th {\n",
       "        vertical-align: top;\n",
       "    }\n",
       "\n",
       "    .dataframe thead th {\n",
       "        text-align: right;\n",
       "    }\n",
       "</style>\n",
       "<table border=\"1\" class=\"dataframe\">\n",
       "  <thead>\n",
       "    <tr style=\"text-align: right;\">\n",
       "      <th></th>\n",
       "      <th>Color</th>\n",
       "      <th>HP</th>\n",
       "      <th>Weight (KG)</th>\n",
       "      <th>price</th>\n",
       "    </tr>\n",
       "  </thead>\n",
       "  <tbody>\n",
       "    <tr>\n",
       "      <th>Peykan</th>\n",
       "      <td>Red</td>\n",
       "      <td>48</td>\n",
       "      <td>990</td>\n",
       "      <td>33</td>\n",
       "    </tr>\n",
       "    <tr>\n",
       "      <th>BMW X6</th>\n",
       "      <td>White</td>\n",
       "      <td>335</td>\n",
       "      <td>2320</td>\n",
       "      <td>2400</td>\n",
       "    </tr>\n",
       "    <tr>\n",
       "      <th>Peugeot 206</th>\n",
       "      <td>Black</td>\n",
       "      <td>105</td>\n",
       "      <td>1025</td>\n",
       "      <td>105</td>\n",
       "    </tr>\n",
       "    <tr>\n",
       "      <th>Tiba</th>\n",
       "      <td>White</td>\n",
       "      <td>87</td>\n",
       "      <td>1027</td>\n",
       "      <td>120</td>\n",
       "    </tr>\n",
       "    <tr>\n",
       "      <th>Nissan Junior</th>\n",
       "      <td>Blue</td>\n",
       "      <td>93</td>\n",
       "      <td>1540</td>\n",
       "      <td>230</td>\n",
       "    </tr>\n",
       "    <tr>\n",
       "      <th>Peykan Vanet</th>\n",
       "      <td>Red</td>\n",
       "      <td>80</td>\n",
       "      <td>960</td>\n",
       "      <td>68</td>\n",
       "    </tr>\n",
       "    <tr>\n",
       "      <th>renault 5</th>\n",
       "      <td>Silver</td>\n",
       "      <td>48</td>\n",
       "      <td>850</td>\n",
       "      <td>38</td>\n",
       "    </tr>\n",
       "  </tbody>\n",
       "</table>\n",
       "</div>"
      ],
      "text/plain": [
       "                Color   HP  Weight (KG)  price\n",
       "Peykan            Red   48          990     33\n",
       "BMW X6          White  335         2320   2400\n",
       "Peugeot 206     Black  105         1025    105\n",
       "Tiba            White   87         1027    120\n",
       "Nissan Junior    Blue   93         1540    230\n",
       "Peykan Vanet      Red   80          960     68\n",
       "renault 5      Silver   48          850     38"
      ]
     },
     "execution_count": 13,
     "metadata": {},
     "output_type": "execute_result"
    }
   ],
   "source": [
    "df"
   ]
  },
  {
   "cell_type": "markdown",
   "metadata": {},
   "source": [
    "یاآوری عناصر دیتافریم <code>df</code>"
   ]
  },
  {
   "cell_type": "code",
   "execution_count": 31,
   "metadata": {},
   "outputs": [
    {
     "data": {
      "text/plain": [
       "105"
      ]
     },
     "execution_count": 31,
     "metadata": {},
     "output_type": "execute_result"
    }
   ],
   "source": [
    "df.iloc[2,3]"
   ]
  },
  {
   "cell_type": "markdown",
   "metadata": {},
   "source": [
    "<p dir=rtl style=\"direction: rtl;text-align: right;line-height:200%;font-family:vazir;font-size:medium\">\n",
    "<font face=\"vazir\" size=3>\n",
    "با دستور <code>iloc</code>ِ، دقیقا مانند آرایه‌ی نامپای، به عنصر سطر دوم و ستون سوم دیتافریم دسترسی پیدا می‌کنیم.\n",
    "    </font>\n",
    "</p>"
   ]
  },
  {
   "cell_type": "code",
   "execution_count": 15,
   "metadata": {},
   "outputs": [
    {
     "data": {
      "text/html": [
       "<div>\n",
       "<style scoped>\n",
       "    .dataframe tbody tr th:only-of-type {\n",
       "        vertical-align: middle;\n",
       "    }\n",
       "\n",
       "    .dataframe tbody tr th {\n",
       "        vertical-align: top;\n",
       "    }\n",
       "\n",
       "    .dataframe thead th {\n",
       "        text-align: right;\n",
       "    }\n",
       "</style>\n",
       "<table border=\"1\" class=\"dataframe\">\n",
       "  <thead>\n",
       "    <tr style=\"text-align: right;\">\n",
       "      <th></th>\n",
       "      <th>HP</th>\n",
       "      <th>Weight (KG)</th>\n",
       "    </tr>\n",
       "  </thead>\n",
       "  <tbody>\n",
       "    <tr>\n",
       "      <th>Peugeot 206</th>\n",
       "      <td>105</td>\n",
       "      <td>1025</td>\n",
       "    </tr>\n",
       "    <tr>\n",
       "      <th>Tiba</th>\n",
       "      <td>87</td>\n",
       "      <td>1027</td>\n",
       "    </tr>\n",
       "  </tbody>\n",
       "</table>\n",
       "</div>"
      ],
      "text/plain": [
       "              HP  Weight (KG)\n",
       "Peugeot 206  105         1025\n",
       "Tiba          87         1027"
      ]
     },
     "execution_count": 15,
     "metadata": {},
     "output_type": "execute_result"
    }
   ],
   "source": [
    "df.iloc[[2,3], 1:3] "
   ]
  },
  {
   "cell_type": "markdown",
   "metadata": {},
   "source": [
    "\n",
    "<p dir=rtl style=\"direction: rtl;text-align: right;line-height:200%;font-family:vazir;font-size:medium\">\n",
    "<font face=\"vazir\" size=3>\n",
    "به راحتی می‌توان از یک لیست برای آدرس‌دهی یا علامت دونقطه استفاده کرد.\n",
    "<br>\n",
    "در این حالت ستون‌های اول و دوم (با شروع از صفر) در خروجی ظاهر می‌شوند.\n",
    "    </font>\n",
    "</p>"
   ]
  },
  {
   "cell_type": "code",
   "execution_count": 34,
   "metadata": {},
   "outputs": [
    {
     "data": {
      "text/plain": [
       "105"
      ]
     },
     "execution_count": 34,
     "metadata": {},
     "output_type": "execute_result"
    }
   ],
   "source": [
    "df.loc[\"Peugeot 206\", \"price\"]"
   ]
  },
  {
   "cell_type": "code",
   "execution_count": 40,
   "metadata": {},
   "outputs": [
    {
     "data": {
      "text/plain": [
       "Peykan     33\n",
       "Tiba      120\n",
       "Name: price, dtype: int64"
      ]
     },
     "execution_count": 40,
     "metadata": {},
     "output_type": "execute_result"
    }
   ],
   "source": [
    "df.loc[[\"Peykan\",\"Tiba\"],\"price\"]"
   ]
  },
  {
   "cell_type": "code",
   "execution_count": 41,
   "metadata": {},
   "outputs": [
    {
     "data": {
      "text/plain": [
       "Peykan           33\n",
       "BMW X6         2400\n",
       "Peugeot 206     105\n",
       "Tiba            120\n",
       "Name: price, dtype: int64"
      ]
     },
     "execution_count": 41,
     "metadata": {},
     "output_type": "execute_result"
    }
   ],
   "source": [
    "df.loc[\"Peykan\":\"Tiba\", \"price\"]"
   ]
  },
  {
   "cell_type": "markdown",
   "metadata": {},
   "source": [
    "\n",
    "<p dir=rtl style=\"direction: rtl;text-align: right;line-height:200%;font-family:vazir;font-size:medium\">\n",
    "<font face=\"vazir\" size=3>\n",
    "دستور <code>loc</code>، دقیقا مانند <code>iloc</code> عمل کرده؛ اما به جای استفاده از شماره‌ی موقعیت‌ها، از نام نمایه‌ها و ستون‌ها استفاده می‌کنیم.\n",
    "    </font>\n",
    "</p>"
   ]
  },
  {
   "cell_type": "code",
   "execution_count": 36,
   "metadata": {},
   "outputs": [
    {
     "data": {
      "text/html": [
       "<div>\n",
       "<style scoped>\n",
       "    .dataframe tbody tr th:only-of-type {\n",
       "        vertical-align: middle;\n",
       "    }\n",
       "\n",
       "    .dataframe tbody tr th {\n",
       "        vertical-align: top;\n",
       "    }\n",
       "\n",
       "    .dataframe thead th {\n",
       "        text-align: right;\n",
       "    }\n",
       "</style>\n",
       "<table border=\"1\" class=\"dataframe\">\n",
       "  <thead>\n",
       "    <tr style=\"text-align: right;\">\n",
       "      <th></th>\n",
       "      <th>HP</th>\n",
       "      <th>Weight (KG)</th>\n",
       "      <th>price</th>\n",
       "    </tr>\n",
       "  </thead>\n",
       "  <tbody>\n",
       "    <tr>\n",
       "      <th>Peykan</th>\n",
       "      <td>48</td>\n",
       "      <td>990</td>\n",
       "      <td>33</td>\n",
       "    </tr>\n",
       "    <tr>\n",
       "      <th>BMW X6</th>\n",
       "      <td>335</td>\n",
       "      <td>2320</td>\n",
       "      <td>2400</td>\n",
       "    </tr>\n",
       "    <tr>\n",
       "      <th>Peugeot 206</th>\n",
       "      <td>105</td>\n",
       "      <td>1025</td>\n",
       "      <td>105</td>\n",
       "    </tr>\n",
       "    <tr>\n",
       "      <th>Tiba</th>\n",
       "      <td>87</td>\n",
       "      <td>1027</td>\n",
       "      <td>120</td>\n",
       "    </tr>\n",
       "  </tbody>\n",
       "</table>\n",
       "</div>"
      ],
      "text/plain": [
       "              HP  Weight (KG)  price\n",
       "Peykan        48          990     33\n",
       "BMW X6       335         2320   2400\n",
       "Peugeot 206  105         1025    105\n",
       "Tiba          87         1027    120"
      ]
     },
     "execution_count": 36,
     "metadata": {},
     "output_type": "execute_result"
    }
   ],
   "source": [
    "df.loc[[\"Peugeot 206\",\"Tiba\"] , \"HP\":\"price\"]"
   ]
  },
  {
   "cell_type": "markdown",
   "metadata": {},
   "source": [
    "\n",
    "<p dir=rtl style=\"direction: rtl;text-align: right;line-height:200%;font-family:vazir;font-size:medium\">\n",
    "<font face=\"vazir\" size=3>\n",
    "دقیقا عملیاتی که در سلول ۱۵ انجام دادیم را، با <code>loc</code> تکرار کردیم. اما در این حالت، ستون شماره‌ی ۳ یا همان <code>price</code>، در خروجی قرار گرفته است.\n",
    "    </font>\n",
    "</p>"
   ]
  }
 ],
 "metadata": {
  "colab": {
   "collapsed_sections": [],
   "name": "exercise1.ipynb",
   "provenance": []
  },
  "kernelspec": {
   "display_name": "Python 3 (ipykernel)",
   "language": "python",
   "name": "python3"
  },
  "language_info": {
   "codemirror_mode": {
    "name": "ipython",
    "version": 3
   },
   "file_extension": ".py",
   "mimetype": "text/x-python",
   "name": "python",
   "nbconvert_exporter": "python",
   "pygments_lexer": "ipython3",
   "version": "3.10.12"
  }
 },
 "nbformat": 4,
 "nbformat_minor": 4
}
