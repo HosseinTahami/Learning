{
 "cells": [
  {
   "cell_type": "markdown",
   "metadata": {},
   "source": [
    "# Pandas"
   ]
  },
  {
   "cell_type": "code",
   "execution_count": 2,
   "metadata": {},
   "outputs": [],
   "source": [
    "import pandas as pd\n",
    "import numpy as np"
   ]
  },
  {
   "cell_type": "code",
   "execution_count": 3,
   "metadata": {},
   "outputs": [
    {
     "name": "stdout",
     "output_type": "stream",
     "text": [
      "0    20\n",
      "1    17\n",
      "2    13\n",
      "3    18\n",
      "dtype: int64 \n",
      "\n",
      "Values: [20 17 13 18] \n",
      "\n",
      "index RangeIndex(start=0, stop=4, step=1)\n"
     ]
    }
   ],
   "source": [
    "s = pd.Series([20,17,13,18])\n",
    "print(s,\"\\n\")\n",
    "print(\"Values:\",s.values,\"\\n\")\n",
    "print(\"index\",s.index)"
   ]
  },
  {
   "cell_type": "code",
   "execution_count": 4,
   "metadata": {},
   "outputs": [
    {
     "name": "stdout",
     "output_type": "stream",
     "text": [
      "a    20\n",
      "b    17\n",
      "c    13\n",
      "d    18\n",
      "dtype: int64\n",
      "index: Index(['a', 'b', 'c', 'd'], dtype='object')\n",
      "values: [20 17 13 18]\n"
     ]
    }
   ],
   "source": [
    "s.index =['a','b','c','d']\n",
    "print(s)\n",
    "print(\"index:\",s.index)\n",
    "print(\"values:\",s.values)\n"
   ]
  },
  {
   "cell_type": "code",
   "execution_count": 5,
   "metadata": {},
   "outputs": [
    {
     "name": "stdout",
     "output_type": "stream",
     "text": [
      "rose    20\n",
      "tom     17\n",
      "jack    13\n",
      "dick    18\n",
      "dtype: int64\n",
      "Python List: [20, 17, 13, 18]\n"
     ]
    }
   ],
   "source": [
    "s = pd.Series([20,17,13,18], index=['rose','tom', 'jack', 'dick'])\n",
    "print(s)\n",
    "print(\"Python List:\",s.to_list())"
   ]
  },
  {
   "cell_type": "code",
   "execution_count": 6,
   "metadata": {},
   "outputs": [
    {
     "data": {
      "text/plain": [
       "Series([], dtype: object)"
      ]
     },
     "execution_count": 6,
     "metadata": {},
     "output_type": "execute_result"
    }
   ],
   "source": [
    "pd.Series()"
   ]
  },
  {
   "cell_type": "code",
   "execution_count": 7,
   "metadata": {},
   "outputs": [
    {
     "data": {
      "text/plain": [
       "False"
      ]
     },
     "execution_count": 7,
     "metadata": {},
     "output_type": "execute_result"
    }
   ],
   "source": [
    "# values decrease left ot right\n",
    "s.is_monotonic_decreasing"
   ]
  },
  {
   "cell_type": "code",
   "execution_count": 8,
   "metadata": {},
   "outputs": [
    {
     "data": {
      "text/plain": [
       "False"
      ]
     },
     "execution_count": 8,
     "metadata": {},
     "output_type": "execute_result"
    }
   ],
   "source": [
    "# values increase left to right\n",
    "s.is_monotonic_increasing"
   ]
  },
  {
   "cell_type": "code",
   "execution_count": 9,
   "metadata": {},
   "outputs": [
    {
     "data": {
      "text/plain": [
       "True"
      ]
     },
     "execution_count": 9,
     "metadata": {},
     "output_type": "execute_result"
    }
   ],
   "source": [
    "# similarity between values\n",
    "s.is_unique"
   ]
  },
  {
   "cell_type": "code",
   "execution_count": 10,
   "metadata": {},
   "outputs": [
    {
     "name": "stdout",
     "output_type": "stream",
     "text": [
      "Series:\n",
      "0    23\n",
      "1    30\n",
      "2    37\n",
      "3    44\n",
      "4    51\n",
      "5    58\n",
      "6    65\n",
      "dtype: int64\n",
      "\n",
      "Head:\n",
      "0    23\n",
      "1    30\n",
      "2    37\n",
      "3    44\n",
      "4    51\n",
      "dtype: int64\n",
      "\n",
      "Tail:\n",
      "2    37\n",
      "3    44\n",
      "4    51\n",
      "5    58\n",
      "6    65\n",
      "dtype: int64\n",
      "\n"
     ]
    }
   ],
   "source": [
    "sample = pd.Series(range(23,69,7))\n",
    "print(\"Series:\\n\",sample,\"\\n\",sep='')\n",
    "print(\"Head:\\n\",sample.head(),\"\\n\",sep='')\n",
    "print(\"Tail:\\n\",sample.tail(),\"\\n\",sep='')"
   ]
  },
  {
   "cell_type": "code",
   "execution_count": 11,
   "metadata": {},
   "outputs": [
    {
     "data": {
      "text/html": [
       "<div>\n",
       "<style scoped>\n",
       "    .dataframe tbody tr th:only-of-type {\n",
       "        vertical-align: middle;\n",
       "    }\n",
       "\n",
       "    .dataframe tbody tr th {\n",
       "        vertical-align: top;\n",
       "    }\n",
       "\n",
       "    .dataframe thead th {\n",
       "        text-align: right;\n",
       "    }\n",
       "</style>\n",
       "<table border=\"1\" class=\"dataframe\">\n",
       "  <thead>\n",
       "    <tr style=\"text-align: right;\">\n",
       "      <th></th>\n",
       "      <th>model</th>\n",
       "      <th>Color</th>\n",
       "      <th>HP</th>\n",
       "      <th>Weight (KG)</th>\n",
       "      <th>price</th>\n",
       "    </tr>\n",
       "  </thead>\n",
       "  <tbody>\n",
       "    <tr>\n",
       "      <th>0</th>\n",
       "      <td>Pride</td>\n",
       "      <td>Red</td>\n",
       "      <td>48</td>\n",
       "      <td>990</td>\n",
       "      <td>33</td>\n",
       "    </tr>\n",
       "    <tr>\n",
       "      <th>1</th>\n",
       "      <td>BMW X6</td>\n",
       "      <td>White</td>\n",
       "      <td>335</td>\n",
       "      <td>2320</td>\n",
       "      <td>2400</td>\n",
       "    </tr>\n",
       "    <tr>\n",
       "      <th>2</th>\n",
       "      <td>Peugeot 206</td>\n",
       "      <td>Black</td>\n",
       "      <td>105</td>\n",
       "      <td>1025</td>\n",
       "      <td>105</td>\n",
       "    </tr>\n",
       "    <tr>\n",
       "      <th>3</th>\n",
       "      <td>Volvo</td>\n",
       "      <td>White</td>\n",
       "      <td>87</td>\n",
       "      <td>1027</td>\n",
       "      <td>120</td>\n",
       "    </tr>\n",
       "    <tr>\n",
       "      <th>4</th>\n",
       "      <td>Nissan Junior</td>\n",
       "      <td>Blue</td>\n",
       "      <td>93</td>\n",
       "      <td>1540</td>\n",
       "      <td>230</td>\n",
       "    </tr>\n",
       "    <tr>\n",
       "      <th>5</th>\n",
       "      <td>Mercedes</td>\n",
       "      <td>Red</td>\n",
       "      <td>80</td>\n",
       "      <td>960</td>\n",
       "      <td>68</td>\n",
       "    </tr>\n",
       "    <tr>\n",
       "      <th>6</th>\n",
       "      <td>renault 5</td>\n",
       "      <td>Silver</td>\n",
       "      <td>48</td>\n",
       "      <td>850</td>\n",
       "      <td>38</td>\n",
       "    </tr>\n",
       "  </tbody>\n",
       "</table>\n",
       "</div>"
      ],
      "text/plain": [
       "           model   Color   HP  Weight (KG)  price\n",
       "0          Pride     Red   48          990     33\n",
       "1         BMW X6   White  335         2320   2400\n",
       "2    Peugeot 206   Black  105         1025    105\n",
       "3          Volvo   White   87         1027    120\n",
       "4  Nissan Junior    Blue   93         1540    230\n",
       "5       Mercedes     Red   80          960     68\n",
       "6      renault 5  Silver   48          850     38"
      ]
     },
     "execution_count": 11,
     "metadata": {},
     "output_type": "execute_result"
    }
   ],
   "source": [
    "cars_dictionary = {\n",
    "    \"model\" :[ \"Pride\", \"BMW X6\", \"Peugeot 206\", \"Volvo\", \"Nissan Junior\", \"Mercedes\", \"renault 5\"],\n",
    "    \"Color\" :[\"Red\", \"White\", \"Black\", \"White\", \"Blue\", \"Red\", \"Silver\"],\n",
    "    \"HP\" :[48, 335, 105, 87, 93, 80, 48],\n",
    "    \"Weight (KG)\": [990, 2320, 1025, 1027, 1540, 960, 850],\n",
    "    \"price\" :[33, 2400, 105, 120, 230, 68, 38]\n",
    "}\n",
    "\n",
    "df = pd.DataFrame(cars_dictionary)\n",
    "\n",
    "df"
   ]
  },
  {
   "cell_type": "markdown",
   "metadata": {},
   "source": [
    "# iloc\n",
    "<img src=\"https://quera.org/qbox/view/fUQOensQs0/both%20are%20series.gif\" alt=\"...\">"
   ]
  },
  {
   "cell_type": "code",
   "execution_count": 12,
   "metadata": {},
   "outputs": [
    {
     "data": {
      "text/plain": [
       "model          Pride\n",
       "Color            Red\n",
       "HP                48\n",
       "Weight (KG)      990\n",
       "price             33\n",
       "Name: 0, dtype: object"
      ]
     },
     "execution_count": 12,
     "metadata": {},
     "output_type": "execute_result"
    }
   ],
   "source": [
    "df.iloc[0]"
   ]
  },
  {
   "cell_type": "code",
   "execution_count": 13,
   "metadata": {},
   "outputs": [
    {
     "data": {
      "text/plain": [
       "0       Red\n",
       "1     White\n",
       "2     Black\n",
       "3     White\n",
       "4      Blue\n",
       "5       Red\n",
       "6    Silver\n",
       "Name: Color, dtype: object"
      ]
     },
     "execution_count": 13,
     "metadata": {},
     "output_type": "execute_result"
    }
   ],
   "source": [
    "df['Color']"
   ]
  },
  {
   "cell_type": "markdown",
   "metadata": {},
   "source": [
    "# Columns & Index\n",
    "<img src=\"https://quera.org/qbox/view/xAhilaZMRL/col%20and%20index.gif\" alt=\"...\">"
   ]
  },
  {
   "cell_type": "code",
   "execution_count": 14,
   "metadata": {},
   "outputs": [
    {
     "data": {
      "text/plain": [
       "Index(['model', 'Color', 'HP', 'Weight (KG)', 'price'], dtype='object')"
      ]
     },
     "execution_count": 14,
     "metadata": {},
     "output_type": "execute_result"
    }
   ],
   "source": [
    "df.columns"
   ]
  },
  {
   "cell_type": "code",
   "execution_count": 15,
   "metadata": {},
   "outputs": [
    {
     "data": {
      "text/plain": [
       "array(['model', 'Color', 'HP', 'Weight (KG)', 'price'], dtype=object)"
      ]
     },
     "execution_count": 15,
     "metadata": {},
     "output_type": "execute_result"
    }
   ],
   "source": [
    "numpy_columns = df.columns.to_numpy()\n",
    "numpy_columns"
   ]
  },
  {
   "cell_type": "code",
   "execution_count": 16,
   "metadata": {},
   "outputs": [
    {
     "data": {
      "text/plain": [
       "RangeIndex(start=0, stop=7, step=1)"
      ]
     },
     "execution_count": 16,
     "metadata": {},
     "output_type": "execute_result"
    }
   ],
   "source": [
    "cars_index  = df.index\n",
    "cars_index"
   ]
  },
  {
   "cell_type": "code",
   "execution_count": 17,
   "metadata": {},
   "outputs": [
    {
     "data": {
      "text/plain": [
       "array([['Pride', 'Red', 48, 990, 33],\n",
       "       ['BMW X6', 'White', 335, 2320, 2400],\n",
       "       ['Peugeot 206', 'Black', 105, 1025, 105],\n",
       "       ['Volvo', 'White', 87, 1027, 120],\n",
       "       ['Nissan Junior', 'Blue', 93, 1540, 230],\n",
       "       ['Mercedes', 'Red', 80, 960, 68],\n",
       "       ['renault 5', 'Silver', 48, 850, 38]], dtype=object)"
      ]
     },
     "execution_count": 17,
     "metadata": {},
     "output_type": "execute_result"
    }
   ],
   "source": [
    "values = df.values\n",
    "values"
   ]
  },
  {
   "cell_type": "code",
   "execution_count": 18,
   "metadata": {},
   "outputs": [
    {
     "data": {
      "text/plain": [
       "(7, 5)"
      ]
     },
     "execution_count": 18,
     "metadata": {},
     "output_type": "execute_result"
    }
   ],
   "source": [
    "values.shape"
   ]
  },
  {
   "cell_type": "code",
   "execution_count": 19,
   "metadata": {},
   "outputs": [
    {
     "data": {
      "text/html": [
       "<div>\n",
       "<style scoped>\n",
       "    .dataframe tbody tr th:only-of-type {\n",
       "        vertical-align: middle;\n",
       "    }\n",
       "\n",
       "    .dataframe tbody tr th {\n",
       "        vertical-align: top;\n",
       "    }\n",
       "\n",
       "    .dataframe thead th {\n",
       "        text-align: right;\n",
       "    }\n",
       "</style>\n",
       "<table border=\"1\" class=\"dataframe\">\n",
       "  <thead>\n",
       "    <tr style=\"text-align: right;\">\n",
       "      <th></th>\n",
       "      <th>model</th>\n",
       "      <th>Color</th>\n",
       "      <th>HP</th>\n",
       "      <th>Weight (KG)</th>\n",
       "      <th>price</th>\n",
       "    </tr>\n",
       "  </thead>\n",
       "  <tbody>\n",
       "    <tr>\n",
       "      <th>a</th>\n",
       "      <td>Mercedes</td>\n",
       "      <td>Red</td>\n",
       "      <td>48</td>\n",
       "      <td>990</td>\n",
       "      <td>33</td>\n",
       "    </tr>\n",
       "    <tr>\n",
       "      <th>b</th>\n",
       "      <td>BMW X6</td>\n",
       "      <td>White</td>\n",
       "      <td>335</td>\n",
       "      <td>2320</td>\n",
       "      <td>2400</td>\n",
       "    </tr>\n",
       "    <tr>\n",
       "      <th>c</th>\n",
       "      <td>Peugeot 206</td>\n",
       "      <td>Black</td>\n",
       "      <td>105</td>\n",
       "      <td>1025</td>\n",
       "      <td>105</td>\n",
       "    </tr>\n",
       "    <tr>\n",
       "      <th>d</th>\n",
       "      <td>Ferrari</td>\n",
       "      <td>White</td>\n",
       "      <td>87</td>\n",
       "      <td>1027</td>\n",
       "      <td>120</td>\n",
       "    </tr>\n",
       "    <tr>\n",
       "      <th>e</th>\n",
       "      <td>Nissan Junior</td>\n",
       "      <td>Blue</td>\n",
       "      <td>93</td>\n",
       "      <td>1540</td>\n",
       "      <td>230</td>\n",
       "    </tr>\n",
       "    <tr>\n",
       "      <th>f</th>\n",
       "      <td>Nissan Junior</td>\n",
       "      <td>Red</td>\n",
       "      <td>93</td>\n",
       "      <td>1540</td>\n",
       "      <td>186</td>\n",
       "    </tr>\n",
       "    <tr>\n",
       "      <th>g</th>\n",
       "      <td>renault 5</td>\n",
       "      <td>Silver</td>\n",
       "      <td>48</td>\n",
       "      <td>850</td>\n",
       "      <td>38</td>\n",
       "    </tr>\n",
       "  </tbody>\n",
       "</table>\n",
       "</div>"
      ],
      "text/plain": [
       "           model   Color   HP  Weight (KG)  price\n",
       "a       Mercedes     Red   48          990     33\n",
       "b         BMW X6   White  335         2320   2400\n",
       "c    Peugeot 206   Black  105         1025    105\n",
       "d        Ferrari   White   87         1027    120\n",
       "e  Nissan Junior    Blue   93         1540    230\n",
       "f  Nissan Junior     Red   93         1540    186\n",
       "g      renault 5  Silver   48          850     38"
      ]
     },
     "execution_count": 19,
     "metadata": {},
     "output_type": "execute_result"
    }
   ],
   "source": [
    "df2 = pd.DataFrame([['Mercedes', 'Red', 48, 990, 33],\n",
    "       ['BMW X6', 'White', 335, 2320, 2400],\n",
    "       ['Peugeot 206', 'Black', 105, 1025, 105],\n",
    "       ['Ferrari', 'White', 87, 1027, 120],\n",
    "       ['Nissan Junior', 'Blue', 93, 1540, 230],\n",
    "       ['Nissan Junior', 'Red', 93, 1540, 186],\n",
    "       ['renault 5', 'Silver', 48, 850, 38]],\n",
    "       index = ['a','b','c','d','e','f','g'],\n",
    "       columns= ['model' , 'Color' , 'HP', 'Weight (KG)', 'price'])\n",
    "\n",
    "df2"
   ]
  },
  {
   "cell_type": "code",
   "execution_count": 20,
   "metadata": {},
   "outputs": [
    {
     "data": {
      "text/plain": [
       "model          BMW X6\n",
       "Color           White\n",
       "HP                335\n",
       "Weight (KG)      2320\n",
       "price            2400\n",
       "Name: b, dtype: object"
      ]
     },
     "execution_count": 20,
     "metadata": {},
     "output_type": "execute_result"
    }
   ],
   "source": [
    "df2.iloc[1]"
   ]
  },
  {
   "cell_type": "code",
   "execution_count": 21,
   "metadata": {},
   "outputs": [
    {
     "data": {
      "text/plain": [
       "model          Mercedes\n",
       "Color               Red\n",
       "HP                   48\n",
       "Weight (KG)         990\n",
       "price                33\n",
       "Name: a, dtype: object"
      ]
     },
     "execution_count": 21,
     "metadata": {},
     "output_type": "execute_result"
    }
   ],
   "source": [
    "df2.loc['a']"
   ]
  },
  {
   "cell_type": "code",
   "execution_count": 22,
   "metadata": {},
   "outputs": [
    {
     "data": {
      "text/html": [
       "<div>\n",
       "<style scoped>\n",
       "    .dataframe tbody tr th:only-of-type {\n",
       "        vertical-align: middle;\n",
       "    }\n",
       "\n",
       "    .dataframe tbody tr th {\n",
       "        vertical-align: top;\n",
       "    }\n",
       "\n",
       "    .dataframe thead th {\n",
       "        text-align: right;\n",
       "    }\n",
       "</style>\n",
       "<table border=\"1\" class=\"dataframe\">\n",
       "  <thead>\n",
       "    <tr style=\"text-align: right;\">\n",
       "      <th></th>\n",
       "      <th>model</th>\n",
       "      <th>Color</th>\n",
       "      <th>HP</th>\n",
       "      <th>Weight (KG)</th>\n",
       "      <th>price</th>\n",
       "    </tr>\n",
       "  </thead>\n",
       "  <tbody>\n",
       "    <tr>\n",
       "      <th>a</th>\n",
       "      <td>Mercedes</td>\n",
       "      <td>Red</td>\n",
       "      <td>48</td>\n",
       "      <td>990</td>\n",
       "      <td>33</td>\n",
       "    </tr>\n",
       "    <tr>\n",
       "      <th>b</th>\n",
       "      <td>BMW X6</td>\n",
       "      <td>White</td>\n",
       "      <td>335</td>\n",
       "      <td>2320</td>\n",
       "      <td>2400</td>\n",
       "    </tr>\n",
       "  </tbody>\n",
       "</table>\n",
       "</div>"
      ],
      "text/plain": [
       "      model  Color   HP  Weight (KG)  price\n",
       "a  Mercedes    Red   48          990     33\n",
       "b    BMW X6  White  335         2320   2400"
      ]
     },
     "execution_count": 22,
     "metadata": {},
     "output_type": "execute_result"
    }
   ],
   "source": [
    "df2.loc[['a','b']]"
   ]
  },
  {
   "cell_type": "code",
   "execution_count": 23,
   "metadata": {},
   "outputs": [
    {
     "data": {
      "text/plain": [
       "a       Red\n",
       "b     White\n",
       "c     Black\n",
       "d     White\n",
       "e      Blue\n",
       "f       Red\n",
       "g    Silver\n",
       "Name: Color, dtype: object"
      ]
     },
     "execution_count": 23,
     "metadata": {},
     "output_type": "execute_result"
    }
   ],
   "source": [
    "df2['Color']"
   ]
  },
  {
   "cell_type": "code",
   "execution_count": 24,
   "metadata": {},
   "outputs": [
    {
     "data": {
      "text/plain": [
       "Index(['model', 'Color', 'HP', 'Weight (KG)', 'price'], dtype='object')"
      ]
     },
     "execution_count": 24,
     "metadata": {},
     "output_type": "execute_result"
    }
   ],
   "source": [
    "df2.columns"
   ]
  },
  {
   "cell_type": "code",
   "execution_count": 25,
   "metadata": {},
   "outputs": [
    {
     "data": {
      "text/html": [
       "<div>\n",
       "<style scoped>\n",
       "    .dataframe tbody tr th:only-of-type {\n",
       "        vertical-align: middle;\n",
       "    }\n",
       "\n",
       "    .dataframe tbody tr th {\n",
       "        vertical-align: top;\n",
       "    }\n",
       "\n",
       "    .dataframe thead th {\n",
       "        text-align: right;\n",
       "    }\n",
       "</style>\n",
       "<table border=\"1\" class=\"dataframe\">\n",
       "  <thead>\n",
       "    <tr style=\"text-align: right;\">\n",
       "      <th></th>\n",
       "      <th>HP</th>\n",
       "      <th>Weight (KG)</th>\n",
       "      <th>price</th>\n",
       "    </tr>\n",
       "  </thead>\n",
       "  <tbody>\n",
       "    <tr>\n",
       "      <th>count</th>\n",
       "      <td>7.000000</td>\n",
       "      <td>7.000000</td>\n",
       "      <td>7.000000</td>\n",
       "    </tr>\n",
       "    <tr>\n",
       "      <th>mean</th>\n",
       "      <td>115.571429</td>\n",
       "      <td>1327.428571</td>\n",
       "      <td>444.571429</td>\n",
       "    </tr>\n",
       "    <tr>\n",
       "      <th>std</th>\n",
       "      <td>99.354344</td>\n",
       "      <td>516.250539</td>\n",
       "      <td>865.250225</td>\n",
       "    </tr>\n",
       "    <tr>\n",
       "      <th>min</th>\n",
       "      <td>48.000000</td>\n",
       "      <td>850.000000</td>\n",
       "      <td>33.000000</td>\n",
       "    </tr>\n",
       "    <tr>\n",
       "      <th>25%</th>\n",
       "      <td>67.500000</td>\n",
       "      <td>1007.500000</td>\n",
       "      <td>71.500000</td>\n",
       "    </tr>\n",
       "    <tr>\n",
       "      <th>50%</th>\n",
       "      <td>93.000000</td>\n",
       "      <td>1027.000000</td>\n",
       "      <td>120.000000</td>\n",
       "    </tr>\n",
       "    <tr>\n",
       "      <th>75%</th>\n",
       "      <td>99.000000</td>\n",
       "      <td>1540.000000</td>\n",
       "      <td>208.000000</td>\n",
       "    </tr>\n",
       "    <tr>\n",
       "      <th>max</th>\n",
       "      <td>335.000000</td>\n",
       "      <td>2320.000000</td>\n",
       "      <td>2400.000000</td>\n",
       "    </tr>\n",
       "  </tbody>\n",
       "</table>\n",
       "</div>"
      ],
      "text/plain": [
       "               HP  Weight (KG)        price\n",
       "count    7.000000     7.000000     7.000000\n",
       "mean   115.571429  1327.428571   444.571429\n",
       "std     99.354344   516.250539   865.250225\n",
       "min     48.000000   850.000000    33.000000\n",
       "25%     67.500000  1007.500000    71.500000\n",
       "50%     93.000000  1027.000000   120.000000\n",
       "75%     99.000000  1540.000000   208.000000\n",
       "max    335.000000  2320.000000  2400.000000"
      ]
     },
     "execution_count": 25,
     "metadata": {},
     "output_type": "execute_result"
    }
   ],
   "source": [
    "df2.describe()"
   ]
  },
  {
   "cell_type": "code",
   "execution_count": 26,
   "metadata": {},
   "outputs": [
    {
     "name": "stdout",
     "output_type": "stream",
     "text": [
      "<class 'pandas.core.frame.DataFrame'>\n",
      "Index: 7 entries, a to g\n",
      "Data columns (total 5 columns):\n",
      " #   Column       Non-Null Count  Dtype \n",
      "---  ------       --------------  ----- \n",
      " 0   model        7 non-null      object\n",
      " 1   Color        7 non-null      object\n",
      " 2   HP           7 non-null      int64 \n",
      " 3   Weight (KG)  7 non-null      int64 \n",
      " 4   price        7 non-null      int64 \n",
      "dtypes: int64(3), object(2)\n",
      "memory usage: 636.0+ bytes\n"
     ]
    }
   ],
   "source": [
    "df2.info()"
   ]
  },
  {
   "cell_type": "code",
   "execution_count": 27,
   "metadata": {},
   "outputs": [
    {
     "data": {
      "text/plain": [
       "Color\n",
       "Red       2\n",
       "White     2\n",
       "Black     1\n",
       "Blue      1\n",
       "Silver    1\n",
       "Name: count, dtype: int64"
      ]
     },
     "execution_count": 27,
     "metadata": {},
     "output_type": "execute_result"
    }
   ],
   "source": [
    "df2['Color'].value_counts()"
   ]
  },
  {
   "cell_type": "markdown",
   "metadata": {},
   "source": [
    "# Merge In Pandas"
   ]
  },
  {
   "cell_type": "markdown",
   "metadata": {},
   "source": [
    "---\n",
    "```Python\n",
    "pd.merge(\n",
    "    cars_df,\n",
    "    price_with_year_df,\n",
    "    left_on = [\"model\" , \"year\"],\n",
    "    right_on = [\"car model\", \"year\"]\n",
    ")\n",
    "```\n",
    "<img src=\"https://quera.org/qbox/view/EYndiRyaWi/merge2.gif\">\n",
    "\n"
   ]
  },
  {
   "cell_type": "markdown",
   "metadata": {},
   "source": [
    "---\n",
    "```Python\n",
    "pd.merge(\n",
    "    full_cars_df,\n",
    "    full_price_df,\n",
    "    how = \"left\"\n",
    ")\n",
    "```\n",
    "<img src=\"https://quera.org/qbox/view/LNNEr75TC2/merge3.gif\">"
   ]
  },
  {
   "cell_type": "markdown",
   "metadata": {},
   "source": [
    "---\n",
    "```Python\n",
    "staff1_df.combine_first(staff2_df)\n",
    "```\n",
    "<img src=\"https://quera.org/qbox/view/gsYC5w83a9/overlap.gif\">"
   ]
  },
  {
   "cell_type": "code",
   "execution_count": 28,
   "metadata": {},
   "outputs": [
    {
     "data": {
      "text/html": [
       "<div>\n",
       "<style scoped>\n",
       "    .dataframe tbody tr th:only-of-type {\n",
       "        vertical-align: middle;\n",
       "    }\n",
       "\n",
       "    .dataframe tbody tr th {\n",
       "        vertical-align: top;\n",
       "    }\n",
       "\n",
       "    .dataframe thead th {\n",
       "        text-align: right;\n",
       "    }\n",
       "</style>\n",
       "<table border=\"1\" class=\"dataframe\">\n",
       "  <thead>\n",
       "    <tr style=\"text-align: right;\">\n",
       "      <th></th>\n",
       "      <th>model</th>\n",
       "      <th>Color</th>\n",
       "      <th>Weight (KG)</th>\n",
       "      <th>year</th>\n",
       "      <th>price</th>\n",
       "    </tr>\n",
       "  </thead>\n",
       "  <tbody>\n",
       "    <tr>\n",
       "      <th>0</th>\n",
       "      <td>Peykan</td>\n",
       "      <td>Red</td>\n",
       "      <td>990</td>\n",
       "      <td>1346</td>\n",
       "      <td>25</td>\n",
       "    </tr>\n",
       "    <tr>\n",
       "      <th>1</th>\n",
       "      <td>Peykan</td>\n",
       "      <td>White</td>\n",
       "      <td>1000</td>\n",
       "      <td>1357</td>\n",
       "      <td>30</td>\n",
       "    </tr>\n",
       "    <tr>\n",
       "      <th>2</th>\n",
       "      <td>Peykan</td>\n",
       "      <td>Olive</td>\n",
       "      <td>990</td>\n",
       "      <td>1388</td>\n",
       "      <td>48</td>\n",
       "    </tr>\n",
       "    <tr>\n",
       "      <th>3</th>\n",
       "      <td>BMW X6</td>\n",
       "      <td>Black</td>\n",
       "      <td>2320</td>\n",
       "      <td>1391</td>\n",
       "      <td>2200</td>\n",
       "    </tr>\n",
       "    <tr>\n",
       "      <th>4</th>\n",
       "      <td>BMW X6</td>\n",
       "      <td>Ametrine</td>\n",
       "      <td>2320</td>\n",
       "      <td>1393</td>\n",
       "      <td>4800</td>\n",
       "    </tr>\n",
       "    <tr>\n",
       "      <th>5</th>\n",
       "      <td>BMW X6</td>\n",
       "      <td>navy</td>\n",
       "      <td>2220</td>\n",
       "      <td>1393</td>\n",
       "      <td>4800</td>\n",
       "    </tr>\n",
       "    <tr>\n",
       "      <th>6</th>\n",
       "      <td>Nissan Junior</td>\n",
       "      <td>Blue</td>\n",
       "      <td>1540</td>\n",
       "      <td>1375</td>\n",
       "      <td>105</td>\n",
       "    </tr>\n",
       "    <tr>\n",
       "      <th>7</th>\n",
       "      <td>Nissan Junior</td>\n",
       "      <td>White</td>\n",
       "      <td>1540</td>\n",
       "      <td>1383</td>\n",
       "      <td>105</td>\n",
       "    </tr>\n",
       "    <tr>\n",
       "      <th>8</th>\n",
       "      <td>Nissan Junior</td>\n",
       "      <td>Blue</td>\n",
       "      <td>1600</td>\n",
       "      <td>1375</td>\n",
       "      <td>130</td>\n",
       "    </tr>\n",
       "    <tr>\n",
       "      <th>9</th>\n",
       "      <td>Nissan Junior</td>\n",
       "      <td>Red</td>\n",
       "      <td>1540</td>\n",
       "      <td>1389</td>\n",
       "      <td>145</td>\n",
       "    </tr>\n",
       "  </tbody>\n",
       "</table>\n",
       "</div>"
      ],
      "text/plain": [
       "           model     Color  Weight (KG)  year  price\n",
       "0         Peykan       Red          990  1346     25\n",
       "1         Peykan     White         1000  1357     30\n",
       "2         Peykan     Olive          990  1388     48\n",
       "3         BMW X6     Black         2320  1391   2200\n",
       "4         BMW X6  Ametrine         2320  1393   4800\n",
       "5         BMW X6      navy         2220  1393   4800\n",
       "6  Nissan Junior      Blue         1540  1375    105\n",
       "7  Nissan Junior     White         1540  1383    105\n",
       "8  Nissan Junior      Blue         1600  1375    130\n",
       "9  Nissan Junior       Red         1540  1389    145"
      ]
     },
     "execution_count": 28,
     "metadata": {},
     "output_type": "execute_result"
    }
   ],
   "source": [
    "cars_dictionary = {\n",
    "    \"model\" :[\"Peykan\", \"Peykan\", \"Peykan\", \"BMW X6\", \"BMW X6\", \"BMW X6\", \"Nissan Junior\", \"Nissan Junior\", \"Nissan Junior\", \"Nissan Junior\"],\n",
    "    \"Color\" :[\"Red\", \"White\", \"Olive\",  \"Black\", \"Ametrine\", \"navy\", \"Blue\", \"White\", \"Blue\", \"Red\"],\n",
    "    \"Weight (KG)\" :[990, 1000, 990, 2320, 2320, 2220, 1540, 1540, 1600, 1540],\n",
    "    \"year\" :[1346, 1357, 1388, 1391, 1393, 1393, 1375, 1383, 1375, 1389],\n",
    "    \"price\" :[25, 30, 48, 2200, 4800, 4800, 105, 105, 130, 145]\n",
    "}\n",
    "\n",
    "cars_df = pd.DataFrame(cars_dictionary)\n",
    "cars_df"
   ]
  },
  {
   "cell_type": "code",
   "execution_count": 29,
   "metadata": {},
   "outputs": [
    {
     "data": {
      "text/plain": [
       "model\n",
       "BMW X6           3\n",
       "Nissan Junior    4\n",
       "Peykan           3\n",
       "dtype: int64"
      ]
     },
     "execution_count": 29,
     "metadata": {},
     "output_type": "execute_result"
    }
   ],
   "source": [
    "model_groups = cars_df.groupby('model')\n",
    "model_groups.size()"
   ]
  },
  {
   "cell_type": "code",
   "execution_count": 30,
   "metadata": {},
   "outputs": [
    {
     "data": {
      "text/html": [
       "<div>\n",
       "<style scoped>\n",
       "    .dataframe tbody tr th:only-of-type {\n",
       "        vertical-align: middle;\n",
       "    }\n",
       "\n",
       "    .dataframe tbody tr th {\n",
       "        vertical-align: top;\n",
       "    }\n",
       "\n",
       "    .dataframe thead tr th {\n",
       "        text-align: left;\n",
       "    }\n",
       "\n",
       "    .dataframe thead tr:last-of-type th {\n",
       "        text-align: right;\n",
       "    }\n",
       "</style>\n",
       "<table border=\"1\" class=\"dataframe\">\n",
       "  <thead>\n",
       "    <tr>\n",
       "      <th></th>\n",
       "      <th colspan=\"2\" halign=\"left\">price</th>\n",
       "      <th colspan=\"2\" halign=\"left\">year</th>\n",
       "      <th colspan=\"2\" halign=\"left\">Weight (KG)</th>\n",
       "    </tr>\n",
       "    <tr>\n",
       "      <th></th>\n",
       "      <th>min</th>\n",
       "      <th>max</th>\n",
       "      <th>min</th>\n",
       "      <th>max</th>\n",
       "      <th>min</th>\n",
       "      <th>max</th>\n",
       "    </tr>\n",
       "    <tr>\n",
       "      <th>model</th>\n",
       "      <th></th>\n",
       "      <th></th>\n",
       "      <th></th>\n",
       "      <th></th>\n",
       "      <th></th>\n",
       "      <th></th>\n",
       "    </tr>\n",
       "  </thead>\n",
       "  <tbody>\n",
       "    <tr>\n",
       "      <th>BMW X6</th>\n",
       "      <td>2200</td>\n",
       "      <td>4800</td>\n",
       "      <td>1391</td>\n",
       "      <td>1393</td>\n",
       "      <td>2220</td>\n",
       "      <td>2320</td>\n",
       "    </tr>\n",
       "    <tr>\n",
       "      <th>Nissan Junior</th>\n",
       "      <td>105</td>\n",
       "      <td>145</td>\n",
       "      <td>1375</td>\n",
       "      <td>1389</td>\n",
       "      <td>1540</td>\n",
       "      <td>1600</td>\n",
       "    </tr>\n",
       "    <tr>\n",
       "      <th>Peykan</th>\n",
       "      <td>25</td>\n",
       "      <td>48</td>\n",
       "      <td>1346</td>\n",
       "      <td>1388</td>\n",
       "      <td>990</td>\n",
       "      <td>1000</td>\n",
       "    </tr>\n",
       "  </tbody>\n",
       "</table>\n",
       "</div>"
      ],
      "text/plain": [
       "              price        year       Weight (KG)      \n",
       "                min   max   min   max         min   max\n",
       "model                                                  \n",
       "BMW X6         2200  4800  1391  1393        2220  2320\n",
       "Nissan Junior   105   145  1375  1389        1540  1600\n",
       "Peykan           25    48  1346  1388         990  1000"
      ]
     },
     "execution_count": 30,
     "metadata": {},
     "output_type": "execute_result"
    }
   ],
   "source": [
    "model_groups[['price','year','Weight (KG)']].agg(['min','max'])"
   ]
  },
  {
   "cell_type": "code",
   "execution_count": 31,
   "metadata": {},
   "outputs": [
    {
     "data": {
      "text/html": [
       "<div>\n",
       "<style scoped>\n",
       "    .dataframe tbody tr th:only-of-type {\n",
       "        vertical-align: middle;\n",
       "    }\n",
       "\n",
       "    .dataframe tbody tr th {\n",
       "        vertical-align: top;\n",
       "    }\n",
       "\n",
       "    .dataframe thead th {\n",
       "        text-align: right;\n",
       "    }\n",
       "</style>\n",
       "<table border=\"1\" class=\"dataframe\">\n",
       "  <thead>\n",
       "    <tr style=\"text-align: right;\">\n",
       "      <th></th>\n",
       "      <th>model</th>\n",
       "      <th>Color</th>\n",
       "      <th>Weight (KG)</th>\n",
       "      <th>year</th>\n",
       "      <th>price</th>\n",
       "    </tr>\n",
       "  </thead>\n",
       "  <tbody>\n",
       "    <tr>\n",
       "      <th>6</th>\n",
       "      <td>Nissan Junior</td>\n",
       "      <td>Blue</td>\n",
       "      <td>1540</td>\n",
       "      <td>1375</td>\n",
       "      <td>105</td>\n",
       "    </tr>\n",
       "    <tr>\n",
       "      <th>7</th>\n",
       "      <td>Nissan Junior</td>\n",
       "      <td>White</td>\n",
       "      <td>1540</td>\n",
       "      <td>1383</td>\n",
       "      <td>105</td>\n",
       "    </tr>\n",
       "    <tr>\n",
       "      <th>8</th>\n",
       "      <td>Nissan Junior</td>\n",
       "      <td>Blue</td>\n",
       "      <td>1600</td>\n",
       "      <td>1375</td>\n",
       "      <td>130</td>\n",
       "    </tr>\n",
       "    <tr>\n",
       "      <th>9</th>\n",
       "      <td>Nissan Junior</td>\n",
       "      <td>Red</td>\n",
       "      <td>1540</td>\n",
       "      <td>1389</td>\n",
       "      <td>145</td>\n",
       "    </tr>\n",
       "  </tbody>\n",
       "</table>\n",
       "</div>"
      ],
      "text/plain": [
       "           model  Color  Weight (KG)  year  price\n",
       "6  Nissan Junior   Blue         1540  1375    105\n",
       "7  Nissan Junior  White         1540  1383    105\n",
       "8  Nissan Junior   Blue         1600  1375    130\n",
       "9  Nissan Junior    Red         1540  1389    145"
      ]
     },
     "execution_count": 31,
     "metadata": {},
     "output_type": "execute_result"
    }
   ],
   "source": [
    "model_groups.filter(lambda x : len(x) >= 4) "
   ]
  },
  {
   "cell_type": "code",
   "execution_count": 32,
   "metadata": {},
   "outputs": [],
   "source": [
    "cars_df['percent'] = model_groups['price'].transform(lambda x: ((x-x.min())/(x.max()-x.min()))*100)"
   ]
  },
  {
   "cell_type": "code",
   "execution_count": 33,
   "metadata": {},
   "outputs": [
    {
     "data": {
      "text/html": [
       "<div>\n",
       "<style scoped>\n",
       "    .dataframe tbody tr th:only-of-type {\n",
       "        vertical-align: middle;\n",
       "    }\n",
       "\n",
       "    .dataframe tbody tr th {\n",
       "        vertical-align: top;\n",
       "    }\n",
       "\n",
       "    .dataframe thead th {\n",
       "        text-align: right;\n",
       "    }\n",
       "</style>\n",
       "<table border=\"1\" class=\"dataframe\">\n",
       "  <thead>\n",
       "    <tr style=\"text-align: right;\">\n",
       "      <th></th>\n",
       "      <th>model</th>\n",
       "      <th>Color</th>\n",
       "      <th>Weight (KG)</th>\n",
       "      <th>year</th>\n",
       "      <th>price</th>\n",
       "      <th>percent</th>\n",
       "    </tr>\n",
       "  </thead>\n",
       "  <tbody>\n",
       "    <tr>\n",
       "      <th>0</th>\n",
       "      <td>Peykan</td>\n",
       "      <td>Red</td>\n",
       "      <td>990</td>\n",
       "      <td>1346</td>\n",
       "      <td>25</td>\n",
       "      <td>0.00000</td>\n",
       "    </tr>\n",
       "    <tr>\n",
       "      <th>1</th>\n",
       "      <td>Peykan</td>\n",
       "      <td>White</td>\n",
       "      <td>1000</td>\n",
       "      <td>1357</td>\n",
       "      <td>30</td>\n",
       "      <td>21.73913</td>\n",
       "    </tr>\n",
       "    <tr>\n",
       "      <th>2</th>\n",
       "      <td>Peykan</td>\n",
       "      <td>Olive</td>\n",
       "      <td>990</td>\n",
       "      <td>1388</td>\n",
       "      <td>48</td>\n",
       "      <td>100.00000</td>\n",
       "    </tr>\n",
       "    <tr>\n",
       "      <th>3</th>\n",
       "      <td>BMW X6</td>\n",
       "      <td>Black</td>\n",
       "      <td>2320</td>\n",
       "      <td>1391</td>\n",
       "      <td>2200</td>\n",
       "      <td>0.00000</td>\n",
       "    </tr>\n",
       "    <tr>\n",
       "      <th>4</th>\n",
       "      <td>BMW X6</td>\n",
       "      <td>Ametrine</td>\n",
       "      <td>2320</td>\n",
       "      <td>1393</td>\n",
       "      <td>4800</td>\n",
       "      <td>100.00000</td>\n",
       "    </tr>\n",
       "    <tr>\n",
       "      <th>5</th>\n",
       "      <td>BMW X6</td>\n",
       "      <td>navy</td>\n",
       "      <td>2220</td>\n",
       "      <td>1393</td>\n",
       "      <td>4800</td>\n",
       "      <td>100.00000</td>\n",
       "    </tr>\n",
       "    <tr>\n",
       "      <th>6</th>\n",
       "      <td>Nissan Junior</td>\n",
       "      <td>Blue</td>\n",
       "      <td>1540</td>\n",
       "      <td>1375</td>\n",
       "      <td>105</td>\n",
       "      <td>0.00000</td>\n",
       "    </tr>\n",
       "    <tr>\n",
       "      <th>7</th>\n",
       "      <td>Nissan Junior</td>\n",
       "      <td>White</td>\n",
       "      <td>1540</td>\n",
       "      <td>1383</td>\n",
       "      <td>105</td>\n",
       "      <td>0.00000</td>\n",
       "    </tr>\n",
       "    <tr>\n",
       "      <th>8</th>\n",
       "      <td>Nissan Junior</td>\n",
       "      <td>Blue</td>\n",
       "      <td>1600</td>\n",
       "      <td>1375</td>\n",
       "      <td>130</td>\n",
       "      <td>62.50000</td>\n",
       "    </tr>\n",
       "    <tr>\n",
       "      <th>9</th>\n",
       "      <td>Nissan Junior</td>\n",
       "      <td>Red</td>\n",
       "      <td>1540</td>\n",
       "      <td>1389</td>\n",
       "      <td>145</td>\n",
       "      <td>100.00000</td>\n",
       "    </tr>\n",
       "  </tbody>\n",
       "</table>\n",
       "</div>"
      ],
      "text/plain": [
       "           model     Color  Weight (KG)  year  price    percent\n",
       "0         Peykan       Red          990  1346     25    0.00000\n",
       "1         Peykan     White         1000  1357     30   21.73913\n",
       "2         Peykan     Olive          990  1388     48  100.00000\n",
       "3         BMW X6     Black         2320  1391   2200    0.00000\n",
       "4         BMW X6  Ametrine         2320  1393   4800  100.00000\n",
       "5         BMW X6      navy         2220  1393   4800  100.00000\n",
       "6  Nissan Junior      Blue         1540  1375    105    0.00000\n",
       "7  Nissan Junior     White         1540  1383    105    0.00000\n",
       "8  Nissan Junior      Blue         1600  1375    130   62.50000\n",
       "9  Nissan Junior       Red         1540  1389    145  100.00000"
      ]
     },
     "execution_count": 33,
     "metadata": {},
     "output_type": "execute_result"
    }
   ],
   "source": [
    "cars_df"
   ]
  }
 ],
 "metadata": {
  "kernelspec": {
   "display_name": "Pandas-ND4mZ1Wh",
   "language": "python",
   "name": "python3"
  },
  "language_info": {
   "codemirror_mode": {
    "name": "ipython",
    "version": 3
   },
   "file_extension": ".py",
   "mimetype": "text/x-python",
   "name": "python",
   "nbconvert_exporter": "python",
   "pygments_lexer": "ipython3",
   "version": "3.10.12"
  }
 },
 "nbformat": 4,
 "nbformat_minor": 2
}
