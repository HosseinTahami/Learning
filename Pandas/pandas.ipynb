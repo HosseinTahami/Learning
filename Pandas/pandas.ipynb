{
 "cells": [
  {
   "cell_type": "markdown",
   "metadata": {},
   "source": [
    "# Pandas"
   ]
  },
  {
   "cell_type": "code",
   "execution_count": 1,
   "metadata": {},
   "outputs": [],
   "source": [
    "import pandas as pd"
   ]
  },
  {
   "cell_type": "code",
   "execution_count": 21,
   "metadata": {},
   "outputs": [
    {
     "name": "stdout",
     "output_type": "stream",
     "text": [
      "0    20\n",
      "1    17\n",
      "2    13\n",
      "3    18\n",
      "dtype: int64\n",
      "Values: [20 17 13 18]\n",
      "index RangeIndex(start=0, stop=4, step=1)\n"
     ]
    }
   ],
   "source": [
    "s = pd.Series([20,17,13,18])\n",
    "print(s)\n",
    "print(\"Values:\",s.values)\n",
    "print(\"index\",s.index)\n",
    "\n"
   ]
  },
  {
   "cell_type": "code",
   "execution_count": 22,
   "metadata": {},
   "outputs": [
    {
     "name": "stdout",
     "output_type": "stream",
     "text": [
      "a    20\n",
      "b    17\n",
      "c    13\n",
      "d    18\n",
      "dtype: int64\n",
      "index: Index(['a', 'b', 'c', 'd'], dtype='object')\n",
      "values: [20 17 13 18]\n"
     ]
    }
   ],
   "source": [
    "s.index =['a','b','c','d']\n",
    "print(s)\n",
    "print(\"index:\",s.index)\n",
    "print(\"values:\",s.values)\n"
   ]
  },
  {
   "cell_type": "code",
   "execution_count": 23,
   "metadata": {},
   "outputs": [
    {
     "name": "stdout",
     "output_type": "stream",
     "text": [
      "rose    20\n",
      "tom     17\n",
      "jack    13\n",
      "dick    18\n",
      "dtype: int64\n",
      "Python List: [20, 17, 13, 18]\n"
     ]
    }
   ],
   "source": [
    "s = pd.Series([20,17,13,18], index=['rose','tom', 'jack', 'dick'])\n",
    "print(s)\n",
    "print(\"Python List:\",s.to_list())"
   ]
  }
 ],
 "metadata": {
  "kernelspec": {
   "display_name": "Pandas-ND4mZ1Wh",
   "language": "python",
   "name": "python3"
  },
  "language_info": {
   "codemirror_mode": {
    "name": "ipython",
    "version": 3
   },
   "file_extension": ".py",
   "mimetype": "text/x-python",
   "name": "python",
   "nbconvert_exporter": "python",
   "pygments_lexer": "ipython3",
   "version": "3.10.12"
  }
 },
 "nbformat": 4,
 "nbformat_minor": 2
}
