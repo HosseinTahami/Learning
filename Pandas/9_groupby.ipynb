{
 "cells": [
  {
   "cell_type": "markdown",
   "metadata": {},
   "source": [
    "<h1 align=center style=\"line-height:200%;font-family:vazir;color:#0099cc\">\n",
    "<font face=\"vazir\" color=\"#0099cc\">\n",
    "گروه‌بندی\n",
    "    </font>\n",
    "</h1>"
   ]
  },
  {
   "cell_type": "code",
   "execution_count": 1,
   "metadata": {},
   "outputs": [
    {
     "data": {
      "text/html": [
       "<div>\n",
       "<style scoped>\n",
       "    .dataframe tbody tr th:only-of-type {\n",
       "        vertical-align: middle;\n",
       "    }\n",
       "\n",
       "    .dataframe tbody tr th {\n",
       "        vertical-align: top;\n",
       "    }\n",
       "\n",
       "    .dataframe thead th {\n",
       "        text-align: right;\n",
       "    }\n",
       "</style>\n",
       "<table border=\"1\" class=\"dataframe\">\n",
       "  <thead>\n",
       "    <tr style=\"text-align: right;\">\n",
       "      <th></th>\n",
       "      <th>model</th>\n",
       "      <th>Color</th>\n",
       "      <th>Weight (KG)</th>\n",
       "      <th>year</th>\n",
       "      <th>price</th>\n",
       "    </tr>\n",
       "  </thead>\n",
       "  <tbody>\n",
       "    <tr>\n",
       "      <th>0</th>\n",
       "      <td>Peykan</td>\n",
       "      <td>Red</td>\n",
       "      <td>990</td>\n",
       "      <td>1346</td>\n",
       "      <td>25</td>\n",
       "    </tr>\n",
       "    <tr>\n",
       "      <th>1</th>\n",
       "      <td>Peykan</td>\n",
       "      <td>White</td>\n",
       "      <td>1000</td>\n",
       "      <td>1357</td>\n",
       "      <td>30</td>\n",
       "    </tr>\n",
       "    <tr>\n",
       "      <th>2</th>\n",
       "      <td>Peykan</td>\n",
       "      <td>Olive</td>\n",
       "      <td>990</td>\n",
       "      <td>1388</td>\n",
       "      <td>48</td>\n",
       "    </tr>\n",
       "    <tr>\n",
       "      <th>3</th>\n",
       "      <td>BMW X6</td>\n",
       "      <td>Black</td>\n",
       "      <td>2320</td>\n",
       "      <td>1391</td>\n",
       "      <td>2200</td>\n",
       "    </tr>\n",
       "    <tr>\n",
       "      <th>4</th>\n",
       "      <td>BMW X6</td>\n",
       "      <td>Ametrine</td>\n",
       "      <td>2320</td>\n",
       "      <td>1393</td>\n",
       "      <td>4800</td>\n",
       "    </tr>\n",
       "    <tr>\n",
       "      <th>5</th>\n",
       "      <td>BMW X6</td>\n",
       "      <td>navy</td>\n",
       "      <td>2220</td>\n",
       "      <td>1393</td>\n",
       "      <td>4800</td>\n",
       "    </tr>\n",
       "    <tr>\n",
       "      <th>6</th>\n",
       "      <td>Nissan Junior</td>\n",
       "      <td>Blue</td>\n",
       "      <td>1540</td>\n",
       "      <td>1375</td>\n",
       "      <td>105</td>\n",
       "    </tr>\n",
       "    <tr>\n",
       "      <th>7</th>\n",
       "      <td>Nissan Junior</td>\n",
       "      <td>White</td>\n",
       "      <td>1540</td>\n",
       "      <td>1383</td>\n",
       "      <td>105</td>\n",
       "    </tr>\n",
       "    <tr>\n",
       "      <th>8</th>\n",
       "      <td>Nissan Junior</td>\n",
       "      <td>Blue</td>\n",
       "      <td>1600</td>\n",
       "      <td>1375</td>\n",
       "      <td>130</td>\n",
       "    </tr>\n",
       "    <tr>\n",
       "      <th>9</th>\n",
       "      <td>Nissan Junior</td>\n",
       "      <td>Red</td>\n",
       "      <td>1540</td>\n",
       "      <td>1389</td>\n",
       "      <td>145</td>\n",
       "    </tr>\n",
       "  </tbody>\n",
       "</table>\n",
       "</div>"
      ],
      "text/plain": [
       "           model     Color  Weight (KG)  year  price\n",
       "0         Peykan       Red          990  1346     25\n",
       "1         Peykan     White         1000  1357     30\n",
       "2         Peykan     Olive          990  1388     48\n",
       "3         BMW X6     Black         2320  1391   2200\n",
       "4         BMW X6  Ametrine         2320  1393   4800\n",
       "5         BMW X6      navy         2220  1393   4800\n",
       "6  Nissan Junior      Blue         1540  1375    105\n",
       "7  Nissan Junior     White         1540  1383    105\n",
       "8  Nissan Junior      Blue         1600  1375    130\n",
       "9  Nissan Junior       Red         1540  1389    145"
      ]
     },
     "execution_count": 1,
     "metadata": {},
     "output_type": "execute_result"
    }
   ],
   "source": [
    "import pandas as pd\n",
    "import numpy as np\n",
    "cars_dictionary = {\n",
    "    \"model\" :[\"Peykan\", \"Peykan\", \"Peykan\", \"BMW X6\", \"BMW X6\", \"BMW X6\", \"Nissan Junior\", \"Nissan Junior\", \"Nissan Junior\", \"Nissan Junior\"],\n",
    "    \"Color\" :[\"Red\", \"White\", \"Olive\",  \"Black\", \"Ametrine\", \"navy\", \"Blue\", \"White\", \"Blue\", \"Red\"],\n",
    "    \"Weight (KG)\" :[990, 1000, 990, 2320, 2320, 2220, 1540, 1540, 1600, 1540],\n",
    "    \"year\" :[1346, 1357, 1388, 1391, 1393, 1393, 1375, 1383, 1375, 1389],\n",
    "    \"price\" :[25, 30, 48, 2200, 4800, 4800, 105, 105, 130, 145]\n",
    "}\n",
    "\n",
    "cars_df = pd.DataFrame(cars_dictionary)\n",
    "cars_df"
   ]
  },
  {
   "cell_type": "markdown",
   "metadata": {},
   "source": [
    "<p dir=rtl style=\"direction: rtl;text-align: right;line-height:200%;font-family:vazir;font-size:medium\">\n",
    "<font face=\"vazir\" size=3>\n",
    "دیتافریم بالا را برای انجام گروه‌بندی در نظر می‌گیریم.\n",
    "    </font>\n",
    "</p>\n",
    "\n"
   ]
  },
  {
   "cell_type": "code",
   "execution_count": 2,
   "metadata": {},
   "outputs": [
    {
     "data": {
      "text/html": [
       "<div>\n",
       "<style scoped>\n",
       "    .dataframe tbody tr th:only-of-type {\n",
       "        vertical-align: middle;\n",
       "    }\n",
       "\n",
       "    .dataframe tbody tr th {\n",
       "        vertical-align: top;\n",
       "    }\n",
       "\n",
       "    .dataframe thead th {\n",
       "        text-align: right;\n",
       "    }\n",
       "</style>\n",
       "<table border=\"1\" class=\"dataframe\">\n",
       "  <thead>\n",
       "    <tr style=\"text-align: right;\">\n",
       "      <th></th>\n",
       "      <th>model</th>\n",
       "      <th>Color</th>\n",
       "      <th>Weight (KG)</th>\n",
       "      <th>year</th>\n",
       "      <th>price</th>\n",
       "    </tr>\n",
       "  </thead>\n",
       "  <tbody>\n",
       "    <tr>\n",
       "      <th>3</th>\n",
       "      <td>BMW X6</td>\n",
       "      <td>Black</td>\n",
       "      <td>2320</td>\n",
       "      <td>1391</td>\n",
       "      <td>2200</td>\n",
       "    </tr>\n",
       "    <tr>\n",
       "      <th>4</th>\n",
       "      <td>BMW X6</td>\n",
       "      <td>Ametrine</td>\n",
       "      <td>2320</td>\n",
       "      <td>1393</td>\n",
       "      <td>4800</td>\n",
       "    </tr>\n",
       "    <tr>\n",
       "      <th>5</th>\n",
       "      <td>BMW X6</td>\n",
       "      <td>navy</td>\n",
       "      <td>2220</td>\n",
       "      <td>1393</td>\n",
       "      <td>4800</td>\n",
       "    </tr>\n",
       "  </tbody>\n",
       "</table>\n",
       "</div>"
      ],
      "text/plain": [
       "    model     Color  Weight (KG)  year  price\n",
       "3  BMW X6     Black         2320  1391   2200\n",
       "4  BMW X6  Ametrine         2320  1393   4800\n",
       "5  BMW X6      navy         2220  1393   4800"
      ]
     },
     "execution_count": 2,
     "metadata": {},
     "output_type": "execute_result"
    }
   ],
   "source": [
    "df = cars_df[cars_df.model == 'BMW X6']\n",
    "df"
   ]
  },
  {
   "cell_type": "markdown",
   "metadata": {},
   "source": [
    "\n",
    "<p dir=rtl style=\"direction: rtl;text-align: right;line-height:200%;font-family:vazir;font-size:medium\">\n",
    "<font face=\"vazir\" size=3>\n",
    "در کد بالا، تنها نمونه‌هایی که مدل <code>BMW X6</code> بودند را فیلتر کرده و در دیتافریم <code>df</code> ذخیره کرده‌ایم. حال برای محاسبه‌ی میانگین قیمت کافی است تا از کد زیر استفاده کنیم:\n",
    "    </font>\n",
    "</p>"
   ]
  },
  {
   "cell_type": "code",
   "execution_count": 3,
   "metadata": {},
   "outputs": [
    {
     "data": {
      "text/plain": [
       "3933.3333333333335"
      ]
     },
     "execution_count": 3,
     "metadata": {},
     "output_type": "execute_result"
    }
   ],
   "source": [
    "df['price'].mean()"
   ]
  },
  {
   "cell_type": "markdown",
   "metadata": {},
   "source": [
    "\n",
    "<p dir=rtl style=\"direction: rtl;text-align: right;line-height:200%;font-family:vazir;font-size:medium\">\n",
    "<font face=\"vazir\" size=3>\n",
    "همان‌طور که می‌بینید با استفاده از تابع <code>mean()</code>، میانگین قیمت تمام ماشین‌های <code>BMW X6</code> را بدست آوردیم حال برای پیدا کردن میانگین باقی ماشین‌ها نیز می‌توانیم از همین روش استفاده کنیم.\n",
    "    </font>\n",
    "</p>"
   ]
  },
  {
   "cell_type": "code",
   "execution_count": 4,
   "metadata": {},
   "outputs": [
    {
     "data": {
      "text/plain": [
       "pandas.core.groupby.generic.DataFrameGroupBy"
      ]
     },
     "execution_count": 4,
     "metadata": {},
     "output_type": "execute_result"
    }
   ],
   "source": [
    "grouped = cars_df.groupby('model')\n",
    "type(grouped)"
   ]
  },
  {
   "cell_type": "markdown",
   "metadata": {},
   "source": [
    "\n",
    "<p dir=rtl style=\"direction: rtl;text-align: right;line-height:200%;font-family:vazir;font-size:medium\">\n",
    "<font face=\"vazir\" size=3>\n",
    "در خط اول این کد، ستون ‍<code>model</code> دیتافریم، به عنوان کلید گروه‌بندی در نظر گرفته شده و ماشین‌هایی که نام مدل مشابهی دارند در یک دسته قرار می‌گیرند.\n",
    "<br>\n",
    "با بررسی <code>type</code> خروجی این تابع، به داده‌ساختار <code>DataFrameGroupBy</code> می‌رسیم که برای نگه داری اطلاعات گروه‌بندی شده‌ی دیتافریم‌ها به کار می‌رود.\n",
    "    </font>\n",
    "</p>"
   ]
  },
  {
   "cell_type": "markdown",
   "metadata": {},
   "source": [
    "<h2 align=right style=\"line-height:200%;font-family:vazir;color:#0099cc\">\n",
    "<font face=\"vazir\" color=\"#0099cc\">\n",
    "متد‌ها و ویژگی‌های ساختار گروه‌بندی\n",
    "    </font>\n",
    "</h2>\n"
   ]
  },
  {
   "cell_type": "code",
   "execution_count": 5,
   "metadata": {},
   "outputs": [
    {
     "data": {
      "text/plain": [
       "3"
      ]
     },
     "execution_count": 5,
     "metadata": {},
     "output_type": "execute_result"
    }
   ],
   "source": [
    "grouped.ngroups"
   ]
  },
  {
   "cell_type": "markdown",
   "metadata": {},
   "source": [
    "<p dir=rtl style=\"direction: rtl;text-align: right;line-height:200%;font-family:vazir;font-size:medium\">\n",
    "<font face=\"vazir\" size=3>\n",
    "خروجی سلول بالا، عدد ۳ است که به معنای سه گروه با نام مدل‌های BMW X6، Nissan Junior و Peykan که در دیتافریم اولیه وجود داشتند می‌باشد.\n",
    "    </font>\n",
    "</p>"
   ]
  },
  {
   "cell_type": "code",
   "execution_count": 6,
   "metadata": {},
   "outputs": [
    {
     "data": {
      "text/plain": [
       "{'BMW X6': [3, 4, 5], 'Nissan Junior': [6, 7, 8, 9], 'Peykan': [0, 1, 2]}"
      ]
     },
     "execution_count": 6,
     "metadata": {},
     "output_type": "execute_result"
    }
   ],
   "source": [
    "grouped.groups"
   ]
  },
  {
   "cell_type": "markdown",
   "metadata": {},
   "source": [
    "<p dir=rtl style=\"direction: rtl;text-align: right;line-height:200%;font-family:vazir;font-size:medium\">\n",
    "<font face=\"vazir\" size=3>\n",
    "در خروجی سلول بالا، می‌بینید که نام هر مدل به عنوان کلید، و نمایه‌ی سطرهای مربوط به آن گروه روبه‌روی آن‌ها ذکر شده است.\n",
    "    </font>\n",
    "</p>"
   ]
  },
  {
   "cell_type": "code",
   "execution_count": 7,
   "metadata": {},
   "outputs": [
    {
     "data": {
      "text/plain": [
       "model\n",
       "BMW X6           3\n",
       "Nissan Junior    4\n",
       "Peykan           3\n",
       "dtype: int64"
      ]
     },
     "execution_count": 7,
     "metadata": {},
     "output_type": "execute_result"
    }
   ],
   "source": [
    "grouped.size()"
   ]
  },
  {
   "cell_type": "markdown",
   "metadata": {},
   "source": [
    "\n",
    "<p dir=rtl style=\"direction: rtl;text-align: right;line-height:200%;font-family:vazir;font-size:medium\">\n",
    "<font face=\"vazir\" size=3>\n",
    "خروجی سلول بالا به معنی وجود ۳ ماشین BMW X6، ۴ ماشین Nissan Junior و ۳ ماشین Peykan در دیتافریم نمایشگاه است؛ که این دیتافریم بر اساس مدل در متغیر <code>grouped</code> گروه‌بندی شده است.\n",
    "    </font>\n",
    "</p>"
   ]
  },
  {
   "cell_type": "markdown",
   "metadata": {},
   "source": [
    "<h2 align=right style=\"line-height:200%;font-family:vazir;color:#0099cc\">\n",
    "<font face=\"vazir\" color=\"#0099cc\">\n",
    "اعمال توابع روی گروه‌ها\n",
    "    </font>\n",
    "</h2>"
   ]
  },
  {
   "cell_type": "markdown",
   "metadata": {},
   "source": [
    "<h2 align=right style=\"line-height:200%;font-family:vazir;color:#0099cc\">\n",
    "<font face=\"vazir\" color=\"#0099cc\">\n",
    "تجمیع\n",
    "    </font>\n",
    "</h2>"
   ]
  },
  {
   "cell_type": "code",
   "execution_count": 8,
   "metadata": {},
   "outputs": [
    {
     "data": {
      "text/html": [
       "<div>\n",
       "<style scoped>\n",
       "    .dataframe tbody tr th:only-of-type {\n",
       "        vertical-align: middle;\n",
       "    }\n",
       "\n",
       "    .dataframe tbody tr th {\n",
       "        vertical-align: top;\n",
       "    }\n",
       "\n",
       "    .dataframe thead th {\n",
       "        text-align: right;\n",
       "    }\n",
       "</style>\n",
       "<table border=\"1\" class=\"dataframe\">\n",
       "  <thead>\n",
       "    <tr style=\"text-align: right;\">\n",
       "      <th></th>\n",
       "      <th>price</th>\n",
       "      <th>Weight (KG)</th>\n",
       "    </tr>\n",
       "    <tr>\n",
       "      <th>model</th>\n",
       "      <th></th>\n",
       "      <th></th>\n",
       "    </tr>\n",
       "  </thead>\n",
       "  <tbody>\n",
       "    <tr>\n",
       "      <th>BMW X6</th>\n",
       "      <td>3933.333333</td>\n",
       "      <td>2286.666667</td>\n",
       "    </tr>\n",
       "    <tr>\n",
       "      <th>Nissan Junior</th>\n",
       "      <td>121.250000</td>\n",
       "      <td>1555.000000</td>\n",
       "    </tr>\n",
       "    <tr>\n",
       "      <th>Peykan</th>\n",
       "      <td>34.333333</td>\n",
       "      <td>993.333333</td>\n",
       "    </tr>\n",
       "  </tbody>\n",
       "</table>\n",
       "</div>"
      ],
      "text/plain": [
       "                     price  Weight (KG)\n",
       "model                                  \n",
       "BMW X6         3933.333333  2286.666667\n",
       "Nissan Junior   121.250000  1555.000000\n",
       "Peykan           34.333333   993.333333"
      ]
     },
     "execution_count": 8,
     "metadata": {},
     "output_type": "execute_result"
    }
   ],
   "source": [
    "grouped[['price','Weight (KG)']].agg('mean')"
   ]
  },
  {
   "cell_type": "markdown",
   "metadata": {},
   "source": [
    "\n",
    "<p dir=rtl style=\"direction: rtl;text-align: right;line-height:200%;font-family:vazir;font-size:medium\">\n",
    "<font face=\"vazir\" size=3>\n",
    "در سلول بالا، ابتدا دو ستون <code>price</code> و<code> ‌Weight (KG)</code> را که حاوی مقادیر عددی هستند جدا کرده و تابع میانگین (<code>mean</code>) را روی آن‌ها اعمال می‌کنیم. همان‌طور که می‌بینید، این تابع برای هر گروه یک بار محاسبه شده و خروجی آن برای هر ستون کلید نمایش داده ‌می‌شود. با این روش، توانستیم به میانگین وزن و قیمت هر مدل ماشین برسیم.\n",
    "    </font>\n",
    "</p>"
   ]
  },
  {
   "cell_type": "code",
   "execution_count": 9,
   "metadata": {},
   "outputs": [
    {
     "data": {
      "text/html": [
       "<div>\n",
       "<style scoped>\n",
       "    .dataframe tbody tr th:only-of-type {\n",
       "        vertical-align: middle;\n",
       "    }\n",
       "\n",
       "    .dataframe tbody tr th {\n",
       "        vertical-align: top;\n",
       "    }\n",
       "\n",
       "    .dataframe thead th {\n",
       "        text-align: right;\n",
       "    }\n",
       "</style>\n",
       "<table border=\"1\" class=\"dataframe\">\n",
       "  <thead>\n",
       "    <tr style=\"text-align: right;\">\n",
       "      <th></th>\n",
       "      <th>price</th>\n",
       "      <th>Weight (KG)</th>\n",
       "    </tr>\n",
       "    <tr>\n",
       "      <th>model</th>\n",
       "      <th></th>\n",
       "      <th></th>\n",
       "    </tr>\n",
       "  </thead>\n",
       "  <tbody>\n",
       "    <tr>\n",
       "      <th>BMW X6</th>\n",
       "      <td>3933.333333</td>\n",
       "      <td>2286.666667</td>\n",
       "    </tr>\n",
       "    <tr>\n",
       "      <th>Nissan Junior</th>\n",
       "      <td>121.250000</td>\n",
       "      <td>1555.000000</td>\n",
       "    </tr>\n",
       "    <tr>\n",
       "      <th>Peykan</th>\n",
       "      <td>34.333333</td>\n",
       "      <td>993.333333</td>\n",
       "    </tr>\n",
       "  </tbody>\n",
       "</table>\n",
       "</div>"
      ],
      "text/plain": [
       "                     price  Weight (KG)\n",
       "model                                  \n",
       "BMW X6         3933.333333  2286.666667\n",
       "Nissan Junior   121.250000  1555.000000\n",
       "Peykan           34.333333   993.333333"
      ]
     },
     "execution_count": 9,
     "metadata": {},
     "output_type": "execute_result"
    }
   ],
   "source": [
    "grouped[['price','Weight (KG)']].mean()"
   ]
  },
  {
   "cell_type": "markdown",
   "metadata": {},
   "source": [
    "<p dir=rtl style=\"direction: rtl;text-align: right;line-height:200%;font-family:vazir;font-size:medium\">\n",
    "<font face=\"vazir\" size=3>\n",
    "می‌بینید که بدون استفاده از متد <code>agg()</code> و با اعمال مستقیم متد <code>mean()</code>، توانستیم به نتیجه‌ی قبلی برسیم.\n",
    "    </font>\n",
    "</p>"
   ]
  },
  {
   "cell_type": "code",
   "execution_count": 10,
   "metadata": {},
   "outputs": [
    {
     "data": {
      "text/html": [
       "<div>\n",
       "<style scoped>\n",
       "    .dataframe tbody tr th:only-of-type {\n",
       "        vertical-align: middle;\n",
       "    }\n",
       "\n",
       "    .dataframe tbody tr th {\n",
       "        vertical-align: top;\n",
       "    }\n",
       "\n",
       "    .dataframe thead th {\n",
       "        text-align: right;\n",
       "    }\n",
       "</style>\n",
       "<table border=\"1\" class=\"dataframe\">\n",
       "  <thead>\n",
       "    <tr style=\"text-align: right;\">\n",
       "      <th></th>\n",
       "      <th>price</th>\n",
       "      <th>Weight (KG)</th>\n",
       "    </tr>\n",
       "    <tr>\n",
       "      <th>model</th>\n",
       "      <th></th>\n",
       "      <th></th>\n",
       "    </tr>\n",
       "  </thead>\n",
       "  <tbody>\n",
       "    <tr>\n",
       "      <th>BMW X6</th>\n",
       "      <td>2600</td>\n",
       "      <td>100</td>\n",
       "    </tr>\n",
       "    <tr>\n",
       "      <th>Nissan Junior</th>\n",
       "      <td>40</td>\n",
       "      <td>60</td>\n",
       "    </tr>\n",
       "    <tr>\n",
       "      <th>Peykan</th>\n",
       "      <td>23</td>\n",
       "      <td>10</td>\n",
       "    </tr>\n",
       "  </tbody>\n",
       "</table>\n",
       "</div>"
      ],
      "text/plain": [
       "               price  Weight (KG)\n",
       "model                            \n",
       "BMW X6          2600          100\n",
       "Nissan Junior     40           60\n",
       "Peykan            23           10"
      ]
     },
     "execution_count": 10,
     "metadata": {},
     "output_type": "execute_result"
    }
   ],
   "source": [
    " def peak_to_peak(arr):\n",
    "     return arr.max() - arr.min()\n",
    "\n",
    "grouped[['price','Weight (KG)']].agg( peak_to_peak )"
   ]
  },
  {
   "cell_type": "markdown",
   "metadata": {},
   "source": [
    "\n",
    "\n",
    "<p dir=rtl style=\"direction: rtl;text-align: right;line-height:200%;font-family:vazir;font-size:medium\">\n",
    "<font face=\"vazir\" size=3>\n",
    "می‌بینید که در این حالت، برای استفاده از تابعی که خودمان نوشته‌ایم به صورت تجمیعی، کافی است تا نام تابع را به عنوان ورودی به متد <code>agg</code> بدهیم. دقت کنید که در این جا، برعکس حالت‌های قبل، نام تابع به صورت رشته (<code>string</code>) ارسال نمی‌شود.\n",
    "<br>\n",
    "تمام حالت‌هایی که تا به حال بررسی کردیم، تنها یک تابع را به متد <code>agg</code> ارسال می‌کردند؛ حال فرض کنید می‌خواهیم برای هر مدل ماشین، تعداد ماشین‌های موجود را شمرده و میانگین، میانه و فاصله‌ی تغییرات قیمت را محاسبه کنیم:\n",
    "    </font>\n",
    "</p>"
   ]
  },
  {
   "cell_type": "code",
   "execution_count": 11,
   "metadata": {},
   "outputs": [
    {
     "data": {
      "text/html": [
       "<div>\n",
       "<style scoped>\n",
       "    .dataframe tbody tr th:only-of-type {\n",
       "        vertical-align: middle;\n",
       "    }\n",
       "\n",
       "    .dataframe tbody tr th {\n",
       "        vertical-align: top;\n",
       "    }\n",
       "\n",
       "    .dataframe thead th {\n",
       "        text-align: right;\n",
       "    }\n",
       "</style>\n",
       "<table border=\"1\" class=\"dataframe\">\n",
       "  <thead>\n",
       "    <tr style=\"text-align: right;\">\n",
       "      <th></th>\n",
       "      <th>peak_to_peak</th>\n",
       "      <th>count</th>\n",
       "      <th>median</th>\n",
       "      <th>mean</th>\n",
       "    </tr>\n",
       "    <tr>\n",
       "      <th>model</th>\n",
       "      <th></th>\n",
       "      <th></th>\n",
       "      <th></th>\n",
       "      <th></th>\n",
       "    </tr>\n",
       "  </thead>\n",
       "  <tbody>\n",
       "    <tr>\n",
       "      <th>BMW X6</th>\n",
       "      <td>2600</td>\n",
       "      <td>3</td>\n",
       "      <td>4800.0</td>\n",
       "      <td>3933.333333</td>\n",
       "    </tr>\n",
       "    <tr>\n",
       "      <th>Nissan Junior</th>\n",
       "      <td>40</td>\n",
       "      <td>4</td>\n",
       "      <td>117.5</td>\n",
       "      <td>121.250000</td>\n",
       "    </tr>\n",
       "    <tr>\n",
       "      <th>Peykan</th>\n",
       "      <td>23</td>\n",
       "      <td>3</td>\n",
       "      <td>30.0</td>\n",
       "      <td>34.333333</td>\n",
       "    </tr>\n",
       "  </tbody>\n",
       "</table>\n",
       "</div>"
      ],
      "text/plain": [
       "               peak_to_peak  count  median         mean\n",
       "model                                                  \n",
       "BMW X6                 2600      3  4800.0  3933.333333\n",
       "Nissan Junior            40      4   117.5   121.250000\n",
       "Peykan                   23      3    30.0    34.333333"
      ]
     },
     "execution_count": 11,
     "metadata": {},
     "output_type": "execute_result"
    }
   ],
   "source": [
    "grouped['price'].agg(['count', peak_to_peak, 'median', 'mean'])"
   ]
  },
  {
   "cell_type": "markdown",
   "metadata": {},
   "source": [
    "<p dir=rtl style=\"direction: rtl;text-align: right;line-height:200%;font-family:vazir;font-size:medium\">\n",
    "<font face=\"vazir\" size=3>\n",
    "می‌بینید که با استفاده از براکت (<code>[ ]</code>)، می‌توانیم چندین تابع را همزمان استفاده کرده و خروجی هر کدام را به صورت ستونی جداگانه در دیتافریم نهایی دریافت کنیم.\n",
    "    </font>\n",
    "</p>"
   ]
  },
  {
   "cell_type": "markdown",
   "metadata": {},
   "source": [
    "<h2 align=right style=\"line-height:200%;font-family:vazir;color:#0099cc\">\n",
    "<font face=\"vazir\" color=\"#0099cc\">\n",
    "انواع کلید برای گروه‌بندی\n",
    "    </font>\n",
    "</h2>"
   ]
  },
  {
   "cell_type": "markdown",
   "metadata": {},
   "source": [
    "<h2 align=right style=\"line-height:200%;font-family:vazir;color:#0099cc\">\n",
    "<font face=\"vazir\" color=\"#0099cc\">\n",
    "استفاده از آرایه به عنوان کلید\n",
    "    </font>\n",
    "</h2>"
   ]
  },
  {
   "cell_type": "code",
   "execution_count": 12,
   "metadata": {},
   "outputs": [
    {
     "data": {
      "text/html": [
       "<div>\n",
       "<style scoped>\n",
       "    .dataframe tbody tr th:only-of-type {\n",
       "        vertical-align: middle;\n",
       "    }\n",
       "\n",
       "    .dataframe tbody tr th {\n",
       "        vertical-align: top;\n",
       "    }\n",
       "\n",
       "    .dataframe thead th {\n",
       "        text-align: right;\n",
       "    }\n",
       "</style>\n",
       "<table border=\"1\" class=\"dataframe\">\n",
       "  <thead>\n",
       "    <tr style=\"text-align: right;\">\n",
       "      <th></th>\n",
       "      <th>min</th>\n",
       "      <th>max</th>\n",
       "    </tr>\n",
       "  </thead>\n",
       "  <tbody>\n",
       "    <tr>\n",
       "      <th>high</th>\n",
       "      <td>30</td>\n",
       "      <td>2200</td>\n",
       "    </tr>\n",
       "    <tr>\n",
       "      <th>low</th>\n",
       "      <td>25</td>\n",
       "      <td>4800</td>\n",
       "    </tr>\n",
       "    <tr>\n",
       "      <th>medium</th>\n",
       "      <td>48</td>\n",
       "      <td>4800</td>\n",
       "    </tr>\n",
       "  </tbody>\n",
       "</table>\n",
       "</div>"
      ],
      "text/plain": [
       "        min   max\n",
       "high     30  2200\n",
       "low      25  4800\n",
       "medium   48  4800"
      ]
     },
     "execution_count": 12,
     "metadata": {},
     "output_type": "execute_result"
    }
   ],
   "source": [
    "car_impact = ['low', 'high', 'medium', 'high', 'low', 'medium', 'medium', 'low', 'low', 'high']\n",
    "cars_df.groupby(car_impact)['price'].agg(['min', 'max'])"
   ]
  },
  {
   "cell_type": "markdown",
   "metadata": {},
   "source": [
    "\n",
    "<p dir=rtl style=\"direction: rtl;text-align: right;line-height:200%;font-family:vazir;font-size:medium\">\n",
    "<font face=\"vazir\" size=3>\n",
    "همان‌طور که می‌بینید، تابع <code>groupby</code>، هر مقدار آرایه‌ی <code>car_impact</code> را با سطرهای دیتافریم ‍<code>cars_df</code> تناظر داده و بر اساس مقادیر یکتای آرایه گروه‌بندی را انجام می‌دهد. در این حالت، نمایه‌های دیتافریم خروجی مقادیر آرایه‌ی <code>car_impact</code> هستند و بر همین اساس مقادیر کمینه و بیشنیه‌ی قیمت محاسبه می‌شود.\n",
    "    </font>\n",
    "</p>"
   ]
  },
  {
   "cell_type": "markdown",
   "metadata": {},
   "source": [
    "<h2 align=right style=\"line-height:200%;font-family:vazir;color:#0099cc\">\n",
    "<font face=\"vazir\" color=\"#0099cc\">\n",
    "استفاده از تابع به عنوان کلید\n",
    "    </font>\n",
    "</h2>"
   ]
  },
  {
   "cell_type": "code",
   "execution_count": 13,
   "metadata": {},
   "outputs": [
    {
     "data": {
      "text/plain": [
       "array([3, 2, 1, 2, 2, 1, 3, 1, 2, 2])"
      ]
     },
     "execution_count": 13,
     "metadata": {},
     "output_type": "execute_result"
    }
   ],
   "source": [
    "cars_df.index = [3523, 2636, 1031, 2159, 2973, 1083, 3214, 1111, 2525, 2445]\n",
    "\n",
    "def factor_split(number):\n",
    "    return np.array(number/1000).astype(int)\n",
    "\n",
    "factor_split(cars_df.index)"
   ]
  },
  {
   "cell_type": "markdown",
   "metadata": {},
   "source": [
    "\n",
    "<p dir=rtl style=\"direction: rtl;text-align: right;line-height:200%;font-family:vazir;font-size:medium\">\n",
    "<font face=\"vazir\" size=3>\n",
    "تابع factor_split، با تقسیم عدد بر ۱۰۰۰، اولین رقم شماره‌ی فاکتور (نمایه) که نشان دهنده‌ی سال خرید ماشین است را بدست می‌آورد و با تبدیل آن به <code>int</code>، از رقم‌های اعشاری آن خلاص می‌شود. در کد بالا، اعمال این تابع روی نمایه‌های دیتافریم <code>cars_df</code> را می‌بینیم. حال برای انجام گروه‌بندی بر اساس این اعداد، کافی است تا نام تابع را به عنوان کلید گروه‌بندی به تابع <code>groupby</code> بدهیم.\n",
    "    </font>\n",
    "</p>"
   ]
  },
  {
   "cell_type": "code",
   "execution_count": 14,
   "metadata": {},
   "outputs": [
    {
     "data": {
      "text/plain": [
       "1    4953\n",
       "2    7305\n",
       "3     130\n",
       "Name: price, dtype: int64"
      ]
     },
     "execution_count": 14,
     "metadata": {},
     "output_type": "execute_result"
    }
   ],
   "source": [
    "cars_df.groupby(factor_split)['price'].sum()"
   ]
  },
  {
   "cell_type": "markdown",
   "metadata": {},
   "source": [
    "\n",
    "<p dir=rtl style=\"direction: rtl;text-align: right;line-height:200%;font-family:vazir;font-size:medium\">\n",
    "<font face=\"vazir\" size=3>\n",
    "در این حالت، خود تابع <code>groupby</code>، تابع <code>factor_split</code> را روی نمایه‌های دیتافریم اعمال کرده و با توجه به خروجی آن، گروه بندی را انجام می‌دهد. در خروجی سلول بالا، مجموع قیمت ماشین‌ها به صورت گروه بندی شده بر اساس رقم اول فاکتور (سال خرید) را می‌بینیم.\n",
    "    </font>\n",
    "</p>"
   ]
  },
  {
   "cell_type": "markdown",
   "metadata": {},
   "source": [
    "<h2 align=right style=\"line-height:200%;font-family:vazir;color:#0099cc\">\n",
    "<font face=\"vazir\" color=\"#0099cc\">\n",
    "استفاده از چند کلید برای گروه‌بندی\n",
    "    </font>\n",
    "</h2>"
   ]
  },
  {
   "cell_type": "code",
   "execution_count": 15,
   "metadata": {},
   "outputs": [
    {
     "data": {
      "text/plain": [
       "model          year\n",
       "BMW X6         1391    2200.0\n",
       "               1393    4800.0\n",
       "Nissan Junior  1375     117.5\n",
       "               1383     105.0\n",
       "               1389     145.0\n",
       "Peykan         1346      25.0\n",
       "               1357      30.0\n",
       "               1388      48.0\n",
       "Name: price, dtype: float64"
      ]
     },
     "execution_count": 15,
     "metadata": {},
     "output_type": "execute_result"
    }
   ],
   "source": [
    "price_datas = cars_df.groupby(['model', 'year'])['price'].mean()\n",
    "price_datas"
   ]
  },
  {
   "cell_type": "markdown",
   "metadata": {},
   "source": [
    "\n",
    "<p dir=rtl style=\"direction: rtl;text-align: right;line-height:200%;font-family:vazir;font-size:medium\">\n",
    "<font face=\"vazir\" size=3>\n",
    "در خروجی سلول بالا، <code>model</code> و <code>year</code>، همزمان به عنوان نمایه شناخته می‌شوند و برای هر مدل ماشین، سال ساخت‌های موجود نمایش داده شده و میانگین قیمت در آن حالت را مشاهده می‌کنیم. می‌بینید که در این حالت نیز کار با خروجی تابع گروه‌بندی دقیقا مانند حالت‌های قبلی است و برای اعمال توابع می‌توانیم از هر کدام از توابع تجمیع و یا توابعی که در درسنامه‌های آینده با آن آشنا می‌شوید، استفاده کنید.\n",
    "    </font>\n",
    "</p>"
   ]
  },
  {
   "cell_type": "code",
   "execution_count": 16,
   "metadata": {},
   "outputs": [
    {
     "data": {
      "text/html": [
       "<div>\n",
       "<style scoped>\n",
       "    .dataframe tbody tr th:only-of-type {\n",
       "        vertical-align: middle;\n",
       "    }\n",
       "\n",
       "    .dataframe tbody tr th {\n",
       "        vertical-align: top;\n",
       "    }\n",
       "\n",
       "    .dataframe thead th {\n",
       "        text-align: right;\n",
       "    }\n",
       "</style>\n",
       "<table border=\"1\" class=\"dataframe\">\n",
       "  <thead>\n",
       "    <tr style=\"text-align: right;\">\n",
       "      <th>year</th>\n",
       "      <th>1346</th>\n",
       "      <th>1357</th>\n",
       "      <th>1375</th>\n",
       "      <th>1383</th>\n",
       "      <th>1388</th>\n",
       "      <th>1389</th>\n",
       "      <th>1391</th>\n",
       "      <th>1393</th>\n",
       "    </tr>\n",
       "    <tr>\n",
       "      <th>model</th>\n",
       "      <th></th>\n",
       "      <th></th>\n",
       "      <th></th>\n",
       "      <th></th>\n",
       "      <th></th>\n",
       "      <th></th>\n",
       "      <th></th>\n",
       "      <th></th>\n",
       "    </tr>\n",
       "  </thead>\n",
       "  <tbody>\n",
       "    <tr>\n",
       "      <th>BMW X6</th>\n",
       "      <td>NaN</td>\n",
       "      <td>NaN</td>\n",
       "      <td>NaN</td>\n",
       "      <td>NaN</td>\n",
       "      <td>NaN</td>\n",
       "      <td>NaN</td>\n",
       "      <td>2200.0</td>\n",
       "      <td>4800.0</td>\n",
       "    </tr>\n",
       "    <tr>\n",
       "      <th>Nissan Junior</th>\n",
       "      <td>NaN</td>\n",
       "      <td>NaN</td>\n",
       "      <td>117.5</td>\n",
       "      <td>105.0</td>\n",
       "      <td>NaN</td>\n",
       "      <td>145.0</td>\n",
       "      <td>NaN</td>\n",
       "      <td>NaN</td>\n",
       "    </tr>\n",
       "    <tr>\n",
       "      <th>Peykan</th>\n",
       "      <td>25.0</td>\n",
       "      <td>30.0</td>\n",
       "      <td>NaN</td>\n",
       "      <td>NaN</td>\n",
       "      <td>48.0</td>\n",
       "      <td>NaN</td>\n",
       "      <td>NaN</td>\n",
       "      <td>NaN</td>\n",
       "    </tr>\n",
       "  </tbody>\n",
       "</table>\n",
       "</div>"
      ],
      "text/plain": [
       "year           1346  1357   1375   1383  1388   1389    1391    1393\n",
       "model                                                               \n",
       "BMW X6          NaN   NaN    NaN    NaN   NaN    NaN  2200.0  4800.0\n",
       "Nissan Junior   NaN   NaN  117.5  105.0   NaN  145.0     NaN     NaN\n",
       "Peykan         25.0  30.0    NaN    NaN  48.0    NaN     NaN     NaN"
      ]
     },
     "execution_count": 16,
     "metadata": {},
     "output_type": "execute_result"
    }
   ],
   "source": [
    "price_datas.unstack()"
   ]
  },
  {
   "cell_type": "markdown",
   "metadata": {},
   "source": [
    "<p dir=rtl style=\"direction: rtl;text-align: right;line-height:200%;font-family:vazir;font-size:medium\">\n",
    "<font face=\"vazir\" size=3>\n",
    "در این حالت، پانداس به طور خودکار دومین نمایه را به عنوان ستون استفاده کرده تا به شکلی جدولی برسیم و قیمت هر ماشین را به ازای سال ساخت آن راحتتر ببینیم. در حالت‌هایی که دیتافریم بزرگتر باشد و به ازای هر ماشین سال ساخت‌های مختلف را داشته باشیم، این جدول پر تر خواهد بود اما در این‌جا، مقادیری که ناموجود بودند را با <code>NaN</code> نشان می‌دهیم.\n",
    "    </font>\n",
    "</p>"
   ]
  }
 ],
 "metadata": {
  "colab": {
   "collapsed_sections": [],
   "name": "exercise1.ipynb",
   "provenance": []
  },
  "kernelspec": {
   "display_name": "Python 3 (ipykernel)",
   "language": "python",
   "name": "python3"
  },
  "language_info": {
   "codemirror_mode": {
    "name": "ipython",
    "version": 3
   },
   "file_extension": ".py",
   "mimetype": "text/x-python",
   "name": "python",
   "nbconvert_exporter": "python",
   "pygments_lexer": "ipython3",
   "version": "3.7.2"
  }
 },
 "nbformat": 4,
 "nbformat_minor": 4
}
