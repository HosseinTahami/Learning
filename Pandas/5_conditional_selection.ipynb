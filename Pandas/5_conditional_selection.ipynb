{
 "cells": [
  {
   "cell_type": "markdown",
   "metadata": {},
   "source": [
    "<h1 align=center style=\"line-height:200%;font-family:vazir;color:#0099cc\">\n",
    "<font face=\"vazir\" color=\"#0099cc\">\n",
    "انتخاب شرطی\n",
    "    </font>\n",
    "</h1>"
   ]
  },
  {
   "cell_type": "markdown",
   "metadata": {},
   "source": [
    "<p dir=rtl style=\"direction: rtl;text-align: right;line-height:200%;font-family:vazir;font-size:medium\">\n",
    "<font face=\"vazir\" size=3>\n",
    "    حال که با دیتافریم در پانداز و نحوه‌ی نمایه سازی آن آشنا شدید، بیایید نگاهی به انواع روش‌های فیلتر کردن داده‌ها بیاندازیم. بار دیگر دیتافریم ماشین‌ها را در نظر می‌گیریم:\n",
    "    </font>\n",
    "</p>"
   ]
  },
  {
   "cell_type": "code",
   "execution_count": 1,
   "metadata": {},
   "outputs": [
    {
     "data": {
      "text/html": [
       "<div>\n",
       "<style scoped>\n",
       "    .dataframe tbody tr th:only-of-type {\n",
       "        vertical-align: middle;\n",
       "    }\n",
       "\n",
       "    .dataframe tbody tr th {\n",
       "        vertical-align: top;\n",
       "    }\n",
       "\n",
       "    .dataframe thead th {\n",
       "        text-align: right;\n",
       "    }\n",
       "</style>\n",
       "<table border=\"1\" class=\"dataframe\">\n",
       "  <thead>\n",
       "    <tr style=\"text-align: right;\">\n",
       "      <th></th>\n",
       "      <th>Color</th>\n",
       "      <th>HP</th>\n",
       "      <th>Weight (KG)</th>\n",
       "      <th>price</th>\n",
       "    </tr>\n",
       "  </thead>\n",
       "  <tbody>\n",
       "    <tr>\n",
       "      <th>Peykan</th>\n",
       "      <td>Red</td>\n",
       "      <td>48</td>\n",
       "      <td>990</td>\n",
       "      <td>33</td>\n",
       "    </tr>\n",
       "    <tr>\n",
       "      <th>BMW X6</th>\n",
       "      <td>White</td>\n",
       "      <td>335</td>\n",
       "      <td>2320</td>\n",
       "      <td>2400</td>\n",
       "    </tr>\n",
       "    <tr>\n",
       "      <th>Peugeot 206</th>\n",
       "      <td>Black</td>\n",
       "      <td>105</td>\n",
       "      <td>1025</td>\n",
       "      <td>105</td>\n",
       "    </tr>\n",
       "    <tr>\n",
       "      <th>Tiba</th>\n",
       "      <td>White</td>\n",
       "      <td>87</td>\n",
       "      <td>1027</td>\n",
       "      <td>120</td>\n",
       "    </tr>\n",
       "    <tr>\n",
       "      <th>Nissan Junior</th>\n",
       "      <td>Blue</td>\n",
       "      <td>93</td>\n",
       "      <td>1540</td>\n",
       "      <td>230</td>\n",
       "    </tr>\n",
       "    <tr>\n",
       "      <th>Peykan Vanet</th>\n",
       "      <td>Red</td>\n",
       "      <td>80</td>\n",
       "      <td>960</td>\n",
       "      <td>68</td>\n",
       "    </tr>\n",
       "    <tr>\n",
       "      <th>renault 5</th>\n",
       "      <td>Silver</td>\n",
       "      <td>48</td>\n",
       "      <td>850</td>\n",
       "      <td>38</td>\n",
       "    </tr>\n",
       "  </tbody>\n",
       "</table>\n",
       "</div>"
      ],
      "text/plain": [
       "                Color   HP  Weight (KG)  price\n",
       "Peykan            Red   48          990     33\n",
       "BMW X6          White  335         2320   2400\n",
       "Peugeot 206     Black  105         1025    105\n",
       "Tiba            White   87         1027    120\n",
       "Nissan Junior    Blue   93         1540    230\n",
       "Peykan Vanet      Red   80          960     68\n",
       "renault 5      Silver   48          850     38"
      ]
     },
     "execution_count": 1,
     "metadata": {},
     "output_type": "execute_result"
    }
   ],
   "source": [
    "import pandas as pd\n",
    "import numpy as np\n",
    "\n",
    "cars_dictionary = {\n",
    "    \"Color\" :[\"Red\", \"White\", \"Black\", \"White\", \"Blue\", \"Red\", \"Silver\"],\n",
    "    \"HP\" :[48, 335, 105, 87, 93, 80, 48],\n",
    "    \"Weight (KG)\": [990, 2320, 1025, 1027, 1540, 960, 850],\n",
    "    \"price\" :[33, 2400, 105, 120, 230, 68, 38]\n",
    "}\n",
    "\n",
    "df = pd.DataFrame(cars_dictionary , index = [ \"Peykan\", \"BMW X6\", \"Peugeot 206\", \"Tiba\", \"Nissan Junior\", \"Peykan Vanet\", \"renault 5\"])\n",
    "\n",
    "df"
   ]
  },
  {
   "cell_type": "markdown",
   "metadata": {},
   "source": [
    "<p dir=rtl style=\"direction: rtl;text-align: right;line-height:200%;font-family:vazir;font-size:medium\">\n",
    "<font face=\"vazir\" size=3>\n",
    "در کد زیر، ستون price را آدرس‌دهی می‌کنیم.\n",
    "    </font>\n",
    "</p>"
   ]
  },
  {
   "cell_type": "code",
   "execution_count": 2,
   "metadata": {},
   "outputs": [
    {
     "data": {
      "text/plain": [
       "Peykan             33\n",
       "BMW X6           2400\n",
       "Peugeot 206       105\n",
       "Tiba              120\n",
       "Nissan Junior     230\n",
       "Peykan Vanet       68\n",
       "renault 5          38\n",
       "Name: price, dtype: int64"
      ]
     },
     "execution_count": 2,
     "metadata": {},
     "output_type": "execute_result"
    }
   ],
   "source": [
    "df.price"
   ]
  },
  {
   "cell_type": "markdown",
   "metadata": {},
   "source": [
    "\n",
    "\n",
    "<p dir=rtl style=\"direction: rtl;text-align: right;line-height:200%;font-family:vazir;font-size:medium\">\n",
    "<font face=\"vazir\" size=3>\n",
    "می‌بینید که خروجی این کد، به صورت یک سری با نام price و حاوی تمام عناصر این ستون است. بار دیگر به نمایه‌های این سری توجه کنید. می‌دانیم که نمایه‌های آن، همان نمایه‌های دیتافریم هستند.\n",
    "<br>\n",
    "برای ساخت فیلتری با این ستون کافی است مانند کد زیر عمل کنیم:\n",
    "    </font>\n",
    "</p>"
   ]
  },
  {
   "cell_type": "code",
   "execution_count": 3,
   "metadata": {},
   "outputs": [
    {
     "data": {
      "text/plain": [
       "Peykan           False\n",
       "BMW X6            True\n",
       "Peugeot 206      False\n",
       "Tiba              True\n",
       "Nissan Junior     True\n",
       "Peykan Vanet     False\n",
       "renault 5        False\n",
       "Name: price, dtype: bool"
      ]
     },
     "execution_count": 3,
     "metadata": {},
     "output_type": "execute_result"
    }
   ],
   "source": [
    "df.price > 110"
   ]
  },
  {
   "cell_type": "markdown",
   "metadata": {},
   "source": [
    "\n",
    "<p dir=rtl style=\"direction: rtl;text-align: right;line-height:200%;font-family:vazir;font-size:medium\">\n",
    "<font face=\"vazir\" size=3>\n",
    "در این شرط، گفته‌ایم تا بزرگتر بودن قیمت هر ماشین را، از ۱۱۰ میلیون تومان بررسی کند. می‌بینید که در این حالت نیز، نمایه‌ی تمامی ستون‌ها نمایش داده شده است و در صورتی که قیمت آن ماشین، از ۱۱۰ میلیون تومان بیشتر باشد، مقدار آن سطر برابر <code>True</code> در نظر گرفته می‌شود.\n",
    "    </font>\n",
    "</p>"
   ]
  },
  {
   "cell_type": "code",
   "execution_count": 4,
   "metadata": {},
   "outputs": [
    {
     "data": {
      "text/html": [
       "<div>\n",
       "<style scoped>\n",
       "    .dataframe tbody tr th:only-of-type {\n",
       "        vertical-align: middle;\n",
       "    }\n",
       "\n",
       "    .dataframe tbody tr th {\n",
       "        vertical-align: top;\n",
       "    }\n",
       "\n",
       "    .dataframe thead th {\n",
       "        text-align: right;\n",
       "    }\n",
       "</style>\n",
       "<table border=\"1\" class=\"dataframe\">\n",
       "  <thead>\n",
       "    <tr style=\"text-align: right;\">\n",
       "      <th></th>\n",
       "      <th>Color</th>\n",
       "      <th>HP</th>\n",
       "      <th>Weight (KG)</th>\n",
       "      <th>price</th>\n",
       "    </tr>\n",
       "  </thead>\n",
       "  <tbody>\n",
       "    <tr>\n",
       "      <th>BMW X6</th>\n",
       "      <td>White</td>\n",
       "      <td>335</td>\n",
       "      <td>2320</td>\n",
       "      <td>2400</td>\n",
       "    </tr>\n",
       "    <tr>\n",
       "      <th>Tiba</th>\n",
       "      <td>White</td>\n",
       "      <td>87</td>\n",
       "      <td>1027</td>\n",
       "      <td>120</td>\n",
       "    </tr>\n",
       "    <tr>\n",
       "      <th>Nissan Junior</th>\n",
       "      <td>Blue</td>\n",
       "      <td>93</td>\n",
       "      <td>1540</td>\n",
       "      <td>230</td>\n",
       "    </tr>\n",
       "  </tbody>\n",
       "</table>\n",
       "</div>"
      ],
      "text/plain": [
       "               Color   HP  Weight (KG)  price\n",
       "BMW X6         White  335         2320   2400\n",
       "Tiba           White   87         1027    120\n",
       "Nissan Junior   Blue   93         1540    230"
      ]
     },
     "execution_count": 4,
     "metadata": {},
     "output_type": "execute_result"
    }
   ],
   "source": [
    "df[df.price > 110]"
   ]
  },
  {
   "cell_type": "markdown",
   "metadata": {},
   "source": [
    "\n",
    "<p dir=rtl style=\"direction: rtl;text-align: right;line-height:200%;font-family:vazir;font-size:medium\">\n",
    "<font face=\"vazir\" size=3>\n",
    "به دلیل هماهنگ بودن نام نمایه‌ها در سری‌ای که به عنوان فیلتر استفاده کردیم (خروجی سلول ۳) و نمایه‌ها در دیتافریم، توانستیم به راحتی تمامی ستون‌هایی که مقدار آن‌ها True بود را فیلتر کرده و بدست بیاوریم. به طور کلی، برای فیلتر کردن ساده‌ی دیتافریم‌ها، می‌توانیم از همین روش استفاده کنیم.\n",
    "    </font>\n",
    "</p>"
   ]
  },
  {
   "cell_type": "markdown",
   "metadata": {},
   "source": [
    "<h2 align=right style=\"line-height:200%;font-family:vazir;color:#0099cc\">\n",
    "<font face=\"vazir\" color=\"#0099cc\">\n",
    "عملیات منطق بولی\n",
    "    </font>\n",
    "</h2>\n"
   ]
  },
  {
   "cell_type": "code",
   "execution_count": 5,
   "metadata": {},
   "outputs": [
    {
     "data": {
      "text/html": [
       "<div>\n",
       "<style scoped>\n",
       "    .dataframe tbody tr th:only-of-type {\n",
       "        vertical-align: middle;\n",
       "    }\n",
       "\n",
       "    .dataframe tbody tr th {\n",
       "        vertical-align: top;\n",
       "    }\n",
       "\n",
       "    .dataframe thead th {\n",
       "        text-align: right;\n",
       "    }\n",
       "</style>\n",
       "<table border=\"1\" class=\"dataframe\">\n",
       "  <thead>\n",
       "    <tr style=\"text-align: right;\">\n",
       "      <th></th>\n",
       "      <th>Color</th>\n",
       "      <th>HP</th>\n",
       "      <th>Weight (KG)</th>\n",
       "      <th>price</th>\n",
       "    </tr>\n",
       "  </thead>\n",
       "  <tbody>\n",
       "    <tr>\n",
       "      <th>Peykan</th>\n",
       "      <td>Red</td>\n",
       "      <td>48</td>\n",
       "      <td>990</td>\n",
       "      <td>33</td>\n",
       "    </tr>\n",
       "  </tbody>\n",
       "</table>\n",
       "</div>"
      ],
      "text/plain": [
       "       Color  HP  Weight (KG)  price\n",
       "Peykan   Red  48          990     33"
      ]
     },
     "execution_count": 5,
     "metadata": {},
     "output_type": "execute_result"
    }
   ],
   "source": [
    "df[ (df.Color == \"Red\") & (df.price < 50)]"
   ]
  },
  {
   "cell_type": "markdown",
   "metadata": {},
   "source": [
    "<p dir=rtl style=\"direction: rtl;text-align: right;line-height:200%;font-family:vazir;font-size:medium\">\n",
    "<font face=\"vazir\" size=3>\n",
    "با استفاده از <code>وَیِ بیتی</code>، دو شرط مختلف را به هم وصل کرده‌ایم\n",
    "    </font>\n",
    "</p>"
   ]
  },
  {
   "cell_type": "code",
   "execution_count": 6,
   "metadata": {},
   "outputs": [
    {
     "data": {
      "text/html": [
       "<div>\n",
       "<style scoped>\n",
       "    .dataframe tbody tr th:only-of-type {\n",
       "        vertical-align: middle;\n",
       "    }\n",
       "\n",
       "    .dataframe tbody tr th {\n",
       "        vertical-align: top;\n",
       "    }\n",
       "\n",
       "    .dataframe thead th {\n",
       "        text-align: right;\n",
       "    }\n",
       "</style>\n",
       "<table border=\"1\" class=\"dataframe\">\n",
       "  <thead>\n",
       "    <tr style=\"text-align: right;\">\n",
       "      <th></th>\n",
       "      <th>Color</th>\n",
       "      <th>price</th>\n",
       "    </tr>\n",
       "  </thead>\n",
       "  <tbody>\n",
       "    <tr>\n",
       "      <th>BMW X6</th>\n",
       "      <td>White</td>\n",
       "      <td>2400</td>\n",
       "    </tr>\n",
       "    <tr>\n",
       "      <th>Tiba</th>\n",
       "      <td>White</td>\n",
       "      <td>120</td>\n",
       "    </tr>\n",
       "    <tr>\n",
       "      <th>Nissan Junior</th>\n",
       "      <td>Blue</td>\n",
       "      <td>230</td>\n",
       "    </tr>\n",
       "  </tbody>\n",
       "</table>\n",
       "</div>"
      ],
      "text/plain": [
       "               Color  price\n",
       "BMW X6         White   2400\n",
       "Tiba           White    120\n",
       "Nissan Junior   Blue    230"
      ]
     },
     "execution_count": 6,
     "metadata": {},
     "output_type": "execute_result"
    }
   ],
   "source": [
    "df[df.price > 110][[\"Color\" , \"price\"]]"
   ]
  },
  {
   "cell_type": "markdown",
   "metadata": {},
   "source": [
    "<p dir=rtl style=\"direction: rtl;text-align: right;line-height:200%;font-family:vazir;font-size:medium\">\n",
    "<font face=\"vazir\" size=3>\n",
    "در خروجی کد بالا می‌بینید که تنها سطر‌هایی که قیمتی بیشتر از ۱۱۰ میلیون تومان داشته‌اند نمایش داده شده و فقط دو ستون رنگ و قیمت قابل دسترسی هستند.\n",
    "    </font>\n",
    "</p>"
   ]
  },
  {
   "cell_type": "code",
   "execution_count": 7,
   "metadata": {},
   "outputs": [
    {
     "data": {
      "text/html": [
       "<div>\n",
       "<style scoped>\n",
       "    .dataframe tbody tr th:only-of-type {\n",
       "        vertical-align: middle;\n",
       "    }\n",
       "\n",
       "    .dataframe tbody tr th {\n",
       "        vertical-align: top;\n",
       "    }\n",
       "\n",
       "    .dataframe thead th {\n",
       "        text-align: right;\n",
       "    }\n",
       "</style>\n",
       "<table border=\"1\" class=\"dataframe\">\n",
       "  <thead>\n",
       "    <tr style=\"text-align: right;\">\n",
       "      <th></th>\n",
       "      <th>Color</th>\n",
       "      <th>HP</th>\n",
       "      <th>Weight (KG)</th>\n",
       "      <th>price</th>\n",
       "    </tr>\n",
       "  </thead>\n",
       "  <tbody>\n",
       "    <tr>\n",
       "      <th>Peykan</th>\n",
       "      <td>Red</td>\n",
       "      <td>48</td>\n",
       "      <td>990</td>\n",
       "      <td>33</td>\n",
       "    </tr>\n",
       "    <tr>\n",
       "      <th>Tiba</th>\n",
       "      <td>White</td>\n",
       "      <td>87</td>\n",
       "      <td>1027</td>\n",
       "      <td>120</td>\n",
       "    </tr>\n",
       "    <tr>\n",
       "      <th>Peykan Vanet</th>\n",
       "      <td>Red</td>\n",
       "      <td>80</td>\n",
       "      <td>960</td>\n",
       "      <td>68</td>\n",
       "    </tr>\n",
       "  </tbody>\n",
       "</table>\n",
       "</div>"
      ],
      "text/plain": [
       "              Color  HP  Weight (KG)  price\n",
       "Peykan          Red  48          990     33\n",
       "Tiba          White  87         1027    120\n",
       "Peykan Vanet    Red  80          960     68"
      ]
     },
     "execution_count": 7,
     "metadata": {},
     "output_type": "execute_result"
    }
   ],
   "source": [
    "condition_1 = df.Color == \"Red\"\n",
    "condition_2 = df.Color == \"White\"\n",
    "condition_3 = df.HP < 100\n",
    "\n",
    "df[(condition_1) | ((condition_2) & condition_3)]"
   ]
  },
  {
   "cell_type": "markdown",
   "metadata": {},
   "source": [
    "\n",
    "<p dir=rtl style=\"direction: rtl;text-align: right;line-height:200%;font-family:vazir;font-size:medium\">\n",
    "<font face=\"vazir\" size=3>\n",
    "همان‌طور که در سلول ۳ دیدیم، با اعمال یک شرط روی ستون، درواقع دیتاسری بولی‌ای دریافت می‌کنیم که سطر‌هایی که شرط مورد نظر برای آن‌ها برقرار است، مقدار True را دارند؛ همین دیتاسری را می‌توانیم به عنوان یک شرط (condition) ، ذخیره کرده و برای اعمال فیلترهای مختلف استفاده کنیم.\n",
    "    </font>\n",
    "</p>"
   ]
  }
 ],
 "metadata": {
  "colab": {
   "collapsed_sections": [],
   "name": "exercise1.ipynb",
   "provenance": []
  },
  "kernelspec": {
   "display_name": "Python 3 (ipykernel)",
   "language": "python",
   "name": "python3"
  },
  "language_info": {
   "codemirror_mode": {
    "name": "ipython",
    "version": 3
   },
   "file_extension": ".py",
   "mimetype": "text/x-python",
   "name": "python",
   "nbconvert_exporter": "python",
   "pygments_lexer": "ipython3",
   "version": "3.7.2"
  }
 },
 "nbformat": 4,
 "nbformat_minor": 4
}
