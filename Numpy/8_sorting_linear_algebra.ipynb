{
 "cells": [
  {
   "cell_type": "markdown",
   "id": "1f8223a1",
   "metadata": {},
   "source": [
    "<h1 align=center style=\"line-height:200%;font-family:vazir;color:#0099cc\">\n",
    "<font face=\"vazir\" color=\"#0099cc\">\n",
    "    مرتب‌سازی و جبر خطی\n",
    "</font>\n",
    "</h1>"
   ]
  },
  {
   "cell_type": "code",
   "execution_count": 1,
   "id": "7e80691a",
   "metadata": {},
   "outputs": [],
   "source": [
    "import numpy as np\n",
    "np.random.seed(1400)"
   ]
  },
  {
   "cell_type": "markdown",
   "id": "1fa8a296",
   "metadata": {},
   "source": [
    "<h2 align=right style=\"line-height:200%;font-family:vazir;color:#0099cc\">\n",
    "<font face=\"vazir\" color=\"#0099cc\">\n",
    "مرتب‌سازی\n",
    "</font>\n",
    "</h2>\n",
    "<p dir=rtl style=\"direction: rtl;text-align: right;line-height:200%;font-family:vazir;font-size:medium\">\n",
    "<font face=\"vazir\" size=3>\n",
    "    یکی از پایه‌ای ترین مسئله‌های الگوریتمی در علوم کامپیوتر، مسئله مرتب‌سازی یک آرایه از اعداد است. برای این مسئله، الگوریتم‌های جالب و متعددی ارائه شده‌است. برای مثال، کد الگوریتم مرتب‌سازی درجی (insertion sort) در ادامه آمده‌است. در این الگوریتم پس از مرتب کردن عناصر قبل از عنصر i ام، این عنصر تا جایی که کوچکتر از عنصر قبلی خود باشد با آن جابجا می‌شود و به این ترتیب در جای مناسب خود درج می‌شود.\n",
    "</font>\n",
    "</p>"
   ]
  },
  {
   "cell_type": "code",
   "execution_count": 2,
   "id": "22fc21b2",
   "metadata": {},
   "outputs": [],
   "source": [
    "def insertion_sort(a):\n",
    "    for i in range(len(a)):\n",
    "        j = i\n",
    "        while j > 0 and a[j] < a[j-1]:\n",
    "            a[j], a[j-1] = a[j-1], a[j]\n",
    "            j -= 1         "
   ]
  },
  {
   "cell_type": "code",
   "execution_count": 3,
   "id": "e6869689",
   "metadata": {},
   "outputs": [
    {
     "name": "stdout",
     "output_type": "stream",
     "text": [
      "[ 3  5  7 11 13]\n"
     ]
    }
   ],
   "source": [
    "a = np.array([7, 3, 11, 13, 5])\n",
    "insertion_sort(a)\n",
    "print(a)"
   ]
  },
  {
   "cell_type": "markdown",
   "id": "7c7cf99e",
   "metadata": {},
   "source": [
    "<p dir=rtl style=\"direction: rtl;text-align: right;line-height:200%;font-family:vazir;font-size:medium\">\n",
    "<font face=\"vazir\" size=3>\n",
    "    الگوریتم‌های سریع‌تری چون مرتب‌سازی سریع (quick sort) در توابع آماده <code>sort</code> پایتون و نامپای پیاده‌سازی شده‌اند.\n",
    "    <br>\n",
    "    مرتبه زمانی این الگوریتم‌ها از O(nlogn) است.\n",
    "    <br>\n",
    "    به این ترتیب، برای مرتب‌سازی آرایه‌های نامپای از تابع <code>np.sort</code> استفاده می‌کنیم که آرایه را به صورت مرتب خروجی می‌دهد.\n",
    "</font>\n",
    "</p>"
   ]
  },
  {
   "cell_type": "code",
   "execution_count": 4,
   "id": "f674e534",
   "metadata": {},
   "outputs": [
    {
     "data": {
      "text/plain": [
       "array([1, 2, 4, 5, 9])"
      ]
     },
     "execution_count": 4,
     "metadata": {},
     "output_type": "execute_result"
    }
   ],
   "source": [
    "a = np.array([5, 2, 9, 4, 1])\n",
    "np.sort(a)"
   ]
  },
  {
   "cell_type": "code",
   "execution_count": 5,
   "id": "ddbb15a3",
   "metadata": {},
   "outputs": [
    {
     "name": "stdout",
     "output_type": "stream",
     "text": [
      "[1 2 4 5 9]\n"
     ]
    }
   ],
   "source": [
    "a.sort()\n",
    "print(a)"
   ]
  },
  {
   "cell_type": "markdown",
   "id": "94ae87a8",
   "metadata": {},
   "source": [
    "<p dir=rtl style=\"direction: rtl;text-align: right;line-height:200%;font-family:vazir;font-size:medium\">\n",
    "<font face=\"vazir\" size=3>\n",
    "    از قابلیت‌های دیگر این تابع در نامپای، مرتب‌سازی در راستای محوریست که با <code>axis</code> مشخص می‌شود.    \n",
    "</font>\n",
    "</p>"
   ]
  },
  {
   "cell_type": "code",
   "execution_count": 6,
   "id": "1cd8b850",
   "metadata": {},
   "outputs": [
    {
     "name": "stdout",
     "output_type": "stream",
     "text": [
      "[[5 1 7 8 5]\n",
      " [8 1 8 3 8]\n",
      " [9 8 4 1 4]\n",
      " [4 1 7 3 1]]\n"
     ]
    }
   ],
   "source": [
    "a = np.random.randint(0, 10, (4, 5))\n",
    "print(a)"
   ]
  },
  {
   "cell_type": "code",
   "execution_count": 7,
   "id": "2ac4d10b",
   "metadata": {},
   "outputs": [
    {
     "data": {
      "text/plain": [
       "array([[4, 1, 4, 1, 1],\n",
       "       [5, 1, 7, 3, 4],\n",
       "       [8, 1, 7, 3, 5],\n",
       "       [9, 8, 8, 8, 8]])"
      ]
     },
     "execution_count": 7,
     "metadata": {},
     "output_type": "execute_result"
    }
   ],
   "source": [
    "np.sort(a, axis=0)"
   ]
  },
  {
   "cell_type": "code",
   "execution_count": 8,
   "id": "376d4570",
   "metadata": {},
   "outputs": [
    {
     "data": {
      "text/plain": [
       "array([[1, 5, 5, 7, 8],\n",
       "       [1, 3, 8, 8, 8],\n",
       "       [1, 4, 4, 8, 9],\n",
       "       [1, 1, 3, 4, 7]])"
      ]
     },
     "execution_count": 8,
     "metadata": {},
     "output_type": "execute_result"
    }
   ],
   "source": [
    "np.sort(a, axis=1)"
   ]
  },
  {
   "cell_type": "markdown",
   "id": "427a412e",
   "metadata": {},
   "source": [
    "<p dir=rtl style=\"direction: rtl;text-align: right;line-height:200%;font-family:vazir;font-size:medium\">\n",
    "<font face=\"vazir\" size=3>\n",
    "    در اینجا می‌توان به دو تابع مرتبط با مرتب‌سازی در نامپای هم اشاره کرد. تابع <code>np.partition</code> با ورودی گرفتن مقدار k ، آرایه‌ای را خروجی می‌دهد که در آن، k+1 عنصرِ کوچک‌ترِ آرایه، پیش از سایر عناصر آمده‌اند. هم‌چنین تابع <code>np.argsort</code> به جای آرایه مرتب شده، آرایه‌ای بر می‌گرداند که در خانه iم، آن شماره خانه iمین کوچک‌ترین عنصر آرایه قرار دارد.\n",
    "</font>\n",
    "</p>"
   ]
  },
  {
   "cell_type": "code",
   "execution_count": 9,
   "id": "fa5ffa96",
   "metadata": {},
   "outputs": [
    {
     "data": {
      "text/plain": [
       "array([[1, 5, 5, 8, 7],\n",
       "       [1, 3, 8, 8, 8],\n",
       "       [1, 4, 4, 9, 8],\n",
       "       [1, 1, 3, 7, 4]])"
      ]
     },
     "execution_count": 9,
     "metadata": {},
     "output_type": "execute_result"
    }
   ],
   "source": [
    "np.partition(a, 2, axis=1)"
   ]
  },
  {
   "cell_type": "code",
   "execution_count": 10,
   "id": "48fffa10",
   "metadata": {},
   "outputs": [
    {
     "name": "stdout",
     "output_type": "stream",
     "text": [
      "[4 1 3 0 2]\n"
     ]
    }
   ],
   "source": [
    "a = np.array([5, 2, 7, 3, 1])\n",
    "ind = np.argsort(a)\n",
    "print(ind)"
   ]
  },
  {
   "cell_type": "code",
   "execution_count": 11,
   "id": "a3fde6a6",
   "metadata": {},
   "outputs": [],
   "source": [
    "def my_sort(a):\n",
    "    if len(a) == 1:\n",
    "        return\n",
    "    mid = len(a)//2\n",
    "    a.partition(mid)\n",
    "    my_sort(a[:mid])\n",
    "    my_sort(a[mid:])"
   ]
  },
  {
   "cell_type": "code",
   "execution_count": 12,
   "id": "f67cd87b",
   "metadata": {},
   "outputs": [
    {
     "name": "stdout",
     "output_type": "stream",
     "text": [
      "[1 2 3 4 5]\n"
     ]
    }
   ],
   "source": [
    "a = np.array([3, 5, 1, 4, 2])\n",
    "my_sort(a)\n",
    "print(a)"
   ]
  },
  {
   "cell_type": "markdown",
   "id": "37dc328a",
   "metadata": {},
   "source": [
    "<h2 align=right style=\"line-height:200%;font-family:vazir;color:#0099cc\">\n",
    "<font face=\"vazir\" color=\"#0099cc\">\n",
    "جبرخطی\n",
    "</font>\n",
    "</h2>\n",
    "<p dir=rtl style=\"direction: rtl;text-align: right;line-height:200%;font-family:vazir;font-size:medium\">\n",
    "<font face=\"vazir\" size=3>\n",
    "    انجام عملیات‌ عنصر به عنصر، مانند جمع دو ماتریس، با استفاده از توابع عمومی‌ای که پیش از این آموختیم، امکان‌پذیر است. ضرب ماتریسی از اعمال متفاوتی است که برای انجام آن می‌توانیم از توابع <code>np.matmul</code> و <code>np.dot</code> استفاده کنیم. این توابع اگر دو آرایه یک بعدی هم‌اندازه ورودی بگیرند با آن‌ها مثل بردار برخورد می‌کنند و ضرب داخلیشان را در قالب یک عدد خروجی می‌دهند؛ اگر یکی از آرایه‌ها یک بعدی و دیگری دو بعدی باشد، خروجی یک آرایه‌ یک بعدیست که نشان دهنده ضرب بردار و ماتریس متناظر ورودی‌هاست؛ اگر هر دو ورودی دو بعدی باشند، خروجی آرایه دوبعدی‌ای خواهد بود که ماتریس حاصل‌ضرب را نشان می‌دهد (تفاوت کارکرد دو تابع در ازای ورودیِ عدد یا آرایه‌های با ابعاد بالاتر است). نمونه استفاده از آن‌ها را در کدهای زیر مشاهده می‌کنید.\n",
    "</font>\n",
    "</p>"
   ]
  },
  {
   "cell_type": "code",
   "execution_count": 13,
   "id": "1930a33e",
   "metadata": {},
   "outputs": [
    {
     "name": "stdout",
     "output_type": "stream",
     "text": [
      "x = [1 2 3]\n",
      "y = [4 5 6]\n"
     ]
    }
   ],
   "source": [
    "x = np.array([1, 2, 3])\n",
    "y = np.array([4, 5, 6])\n",
    "print('x =', x)\n",
    "print('y =', y)"
   ]
  },
  {
   "cell_type": "code",
   "execution_count": 14,
   "id": "f15f9026",
   "metadata": {},
   "outputs": [
    {
     "data": {
      "text/plain": [
       "32"
      ]
     },
     "execution_count": 14,
     "metadata": {},
     "output_type": "execute_result"
    }
   ],
   "source": [
    "np.matmul(x, y)"
   ]
  },
  {
   "cell_type": "code",
   "execution_count": 15,
   "id": "86a2d924",
   "metadata": {},
   "outputs": [
    {
     "name": "stdout",
     "output_type": "stream",
     "text": [
      "[[4 8]\n",
      " [5 4]\n",
      " [1 3]]\n",
      "[[8 9 9]\n",
      " [7 1 4]]\n"
     ]
    }
   ],
   "source": [
    "a = np.random.randint(1, 10, (3, 2))\n",
    "b = np.random.randint(1, 10, (2, 3))\n",
    "print(a)\n",
    "print(b)"
   ]
  },
  {
   "cell_type": "code",
   "execution_count": 16,
   "id": "06d44d09",
   "metadata": {},
   "outputs": [
    {
     "data": {
      "text/plain": [
       "array([17, 25])"
      ]
     },
     "execution_count": 16,
     "metadata": {},
     "output_type": "execute_result"
    }
   ],
   "source": [
    "np.matmul(x, a)"
   ]
  },
  {
   "cell_type": "code",
   "execution_count": 17,
   "id": "5014f0ba",
   "metadata": {},
   "outputs": [
    {
     "data": {
      "text/plain": [
       "array([53, 21])"
      ]
     },
     "execution_count": 17,
     "metadata": {},
     "output_type": "execute_result"
    }
   ],
   "source": [
    "np.matmul(b, x)"
   ]
  },
  {
   "cell_type": "code",
   "execution_count": 18,
   "id": "4480076f",
   "metadata": {},
   "outputs": [
    {
     "data": {
      "text/plain": [
       "array([[88, 44, 68],\n",
       "       [68, 49, 61],\n",
       "       [29, 12, 21]])"
      ]
     },
     "execution_count": 18,
     "metadata": {},
     "output_type": "execute_result"
    }
   ],
   "source": [
    "np.matmul(a, b)"
   ]
  },
  {
   "cell_type": "code",
   "execution_count": 19,
   "id": "f6dfbd6a",
   "metadata": {},
   "outputs": [
    {
     "name": "stdout",
     "output_type": "stream",
     "text": [
      "32\n",
      "[[88 44 68]\n",
      " [68 49 61]\n",
      " [29 12 21]]\n"
     ]
    }
   ],
   "source": [
    "print(x @ y)\n",
    "print(a.dot(b))"
   ]
  },
  {
   "cell_type": "markdown",
   "id": "bdf8cb09",
   "metadata": {},
   "source": [
    "<p dir=rtl style=\"direction: rtl;text-align: right;line-height:200%;font-family:vazir;font-size:medium\">\n",
    "<font face=\"vazir\" size=3>\n",
    "انجام عملیات‌ جبرخطی روی ماتریس‌ها که با آرایه‌های یک بعدی و دوبعدی نشان داده می‌شوند، به اندازه‌ای کاربردی است که یک زیربخش به نام <code>linalg</code> در نامپای برای گردآوری آن‌ها اختصاص داده شده‌است. برای مثال دو تابع <code>det</code> و <code>inv</code> به ترتیب دترمینان و ماتریس معکوس یک ماتریس مربعی را محاسبه می‌کنند.\n",
    "</font>\n",
    "</p>"
   ]
  },
  {
   "cell_type": "code",
   "execution_count": 20,
   "id": "2eea4f3b",
   "metadata": {},
   "outputs": [
    {
     "name": "stdout",
     "output_type": "stream",
     "text": [
      "[[ 0.287707    0.72095045  2.54237031  1.21466404]\n",
      " [-0.45681235 -0.94863596 -0.65169317  1.08989865]\n",
      " [ 0.79223134 -0.32689059 -0.52634427 -0.32662089]\n",
      " [-2.33822523 -1.77578789  0.05496365  2.50592755]]\n"
     ]
    }
   ],
   "source": [
    "from numpy.linalg import inv, det\n",
    "a = np.random.randn(4, 4)\n",
    "print(a)"
   ]
  },
  {
   "cell_type": "code",
   "execution_count": 21,
   "id": "40eecee8",
   "metadata": {},
   "outputs": [
    {
     "data": {
      "text/plain": [
       "-2.599943720778108"
      ]
     },
     "execution_count": 21,
     "metadata": {},
     "output_type": "execute_result"
    }
   ],
   "source": [
    "det(a)"
   ]
  },
  {
   "cell_type": "code",
   "execution_count": 22,
   "id": "ae2857b1",
   "metadata": {},
   "outputs": [
    {
     "data": {
      "text/plain": [
       "array([[ 0.27535742,  0.56235807,  0.60248102, -0.29952868],\n",
       "       [ 0.03712256,  1.89311229, -2.28358677, -1.13900305],\n",
       "       [ 0.21861554, -1.5079133 ,  1.09542126,  0.69264401],\n",
       "       [ 0.27844123,  1.89932312, -1.08009419, -0.70275918]])"
      ]
     },
     "execution_count": 22,
     "metadata": {},
     "output_type": "execute_result"
    }
   ],
   "source": [
    "inv(a)"
   ]
  }
 ],
 "metadata": {
  "kernelspec": {
   "display_name": "Python 3 (ipykernel)",
   "language": "python",
   "name": "python3"
  },
  "language_info": {
   "codemirror_mode": {
    "name": "ipython",
    "version": 3
   },
   "file_extension": ".py",
   "mimetype": "text/x-python",
   "name": "python",
   "nbconvert_exporter": "python",
   "pygments_lexer": "ipython3",
   "version": "3.10.12"
  }
 },
 "nbformat": 4,
 "nbformat_minor": 5
}
