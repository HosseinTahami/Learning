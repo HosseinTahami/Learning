{
 "cells": [
  {
   "attachments": {},
   "cell_type": "markdown",
   "id": "7bd2d878",
   "metadata": {},
   "source": [
    "<h1 align=center style=\"line-height:200%;font-family:vazir;color:#0099cc\">\n",
    "<font face=\"vazir\" color=\"#0099cc\">\n",
    "    کار با آرایه (۱)\n",
    "</font>\n",
    "</h1>"
   ]
  },
  {
   "cell_type": "code",
   "execution_count": 3,
   "id": "c67c2540",
   "metadata": {},
   "outputs": [],
   "source": [
    "import numpy as np"
   ]
  },
  {
   "cell_type": "code",
   "execution_count": 6,
   "id": "f35679b1",
   "metadata": {},
   "outputs": [],
   "source": [
    "np.random.seed(1400)"
   ]
  },
  {
   "cell_type": "code",
   "execution_count": null,
   "id": "092ff472",
   "metadata": {},
   "outputs": [],
   "source": [
    "a = np.array([0, 1, 2, 3])\n",
    "print(a)\n",
    "print('a[0] =', a[0])\n",
    "print('a[2] =', a[2])\n",
    "print('a[-1] =', a[-1])"
   ]
  },
  {
   "cell_type": "code",
   "execution_count": null,
   "id": "31c62c89",
   "metadata": {},
   "outputs": [],
   "source": [
    "a = np.random.randint(0, 10, (3, 5))\n",
    "print(a)\n",
    "print('a[2, 3] =', a[2, 3])"
   ]
  },
  {
   "cell_type": "code",
   "execution_count": null,
   "id": "ed57288f",
   "metadata": {},
   "outputs": [],
   "source": [
    "a[2, 3] = 10\n",
    "print('a[2, 3] =', a[2, 3])"
   ]
  },
  {
   "cell_type": "code",
   "execution_count": null,
   "id": "385330dd",
   "metadata": {},
   "outputs": [],
   "source": [
    "a[2, 3] = 3.14\n",
    "print('a[2, 3] =', a[2, 3])"
   ]
  },
  {
   "cell_type": "code",
   "execution_count": null,
   "id": "43db39b9",
   "metadata": {},
   "outputs": [],
   "source": [
    "a = np.array([0, 1, 2, 3, 4])\n",
    "print(a[:3])\n",
    "print(a[2:4])\n",
    "print(a[1:5:2])\n",
    "print(a[::-1])"
   ]
  },
  {
   "cell_type": "code",
   "execution_count": null,
   "id": "09e9b004",
   "metadata": {},
   "outputs": [],
   "source": [
    "a = np.array([[0, 1, 2],\n",
    "              [3, 4, 5],\n",
    "              [6, 7, 8],\n",
    "              [9, 10, 11]])\n",
    "print(a[:2, 1:])\n",
    "print(a[1:3, ::2])"
   ]
  },
  {
   "cell_type": "code",
   "execution_count": null,
   "id": "629315bd",
   "metadata": {},
   "outputs": [],
   "source": [
    "print(a[:2, 1])\n",
    "print(a[2, :])\n",
    "print(a[:, 1])\n",
    "print(a[2])"
   ]
  },
  {
   "cell_type": "code",
   "execution_count": null,
   "id": "8e70908b",
   "metadata": {},
   "outputs": [],
   "source": [
    "a = np.array([[0, 1, 2],\n",
    "              [3, 4, 5],\n",
    "              [6, 7, 8]])\n",
    "sub_a = a[1:3, 1:]\n",
    "sub_a[0, 0] = 10\n",
    "print(a)"
   ]
  },
  {
   "cell_type": "code",
   "execution_count": null,
   "id": "236c706b",
   "metadata": {},
   "outputs": [],
   "source": [
    "a = np.array([[0, 1, 2],\n",
    "              [3, 4, 5],\n",
    "              [6, 7, 8]])\n",
    "sub_copy_a = a[2:4, 1:].copy()\n",
    "sub_copy_a[0, 0] = 10\n",
    "print(a)"
   ]
  },
  {
   "cell_type": "code",
   "execution_count": null,
   "id": "fb9009ae",
   "metadata": {},
   "outputs": [],
   "source": [
    "a = np.arange(16)\n",
    "print(a)\n",
    "print(a.reshape(4, 4))"
   ]
  },
  {
   "cell_type": "code",
   "execution_count": null,
   "id": "9ec3cd24",
   "metadata": {},
   "outputs": [],
   "source": [
    "a = np.array([1, 2, 3])\n",
    "print(a.reshape(3, 1))\n",
    "print(a.reshape(1, 3))"
   ]
  },
  {
   "cell_type": "code",
   "execution_count": null,
   "id": "3358a10a",
   "metadata": {},
   "outputs": [],
   "source": [
    "a = np.arange(12)\n",
    "print(a.reshape(2, -1, 3))"
   ]
  },
  {
   "cell_type": "code",
   "execution_count": null,
   "id": "3ce63fd9",
   "metadata": {},
   "outputs": [],
   "source": [
    "a = np.array([[0, 1, 2],\n",
    "              [3, 4, 5],\n",
    "              [6, 7, 8]])\n",
    "print(a.reshape(-1))"
   ]
  }
 ],
 "metadata": {
  "kernelspec": {
   "display_name": "Python 3",
   "language": "python",
   "name": "python3"
  },
  "language_info": {
   "codemirror_mode": {
    "name": "ipython",
    "version": 3
   },
   "file_extension": ".py",
   "mimetype": "text/x-python",
   "name": "python",
   "nbconvert_exporter": "python",
   "pygments_lexer": "ipython3",
   "version": "3.10.12"
  },
  "vscode": {
   "interpreter": {
    "hash": "44e7e1b8fa2096bd5707ed7fd18b1724a2db25f4c565a7673f8b6e7bfc49d25d"
   }
  }
 },
 "nbformat": 4,
 "nbformat_minor": 5
}
