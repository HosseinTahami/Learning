{
 "cells": [
  {
   "cell_type": "markdown",
   "metadata": {},
   "source": [
    "# Numpy\n",
    "\n",
    "- Numpy is Numerical Python !\n",
    "  \n",
    "- As you can see the python list save objects inside itself but the numpy array and all its belongings are whole an object!\n",
    "\n",
    "    <img src=\"https://devopedia.org/images/article/251/4000.1588007216.png\" alt=\"...\" style=\"width:700px;\"/>\n",
    "\n",
    "- Dimensions in numpy arrays:\n",
    "    \n",
    "    <img src=\"https://nustat.github.io/DataScience_Intro_python/Datasets/numpy_image.png\" alt=\"...\" style=\"width:700px;\">\n"
   ]
  },
  {
   "cell_type": "code",
   "execution_count": 1,
   "metadata": {},
   "outputs": [],
   "source": [
    "import numpy as np"
   ]
  },
  {
   "cell_type": "code",
   "execution_count": 2,
   "metadata": {},
   "outputs": [],
   "source": [
    "my_array = np.array([1,2,3])"
   ]
  },
  {
   "cell_type": "code",
   "execution_count": 3,
   "metadata": {},
   "outputs": [
    {
     "data": {
      "text/plain": [
       "numpy.ndarray"
      ]
     },
     "execution_count": 3,
     "metadata": {},
     "output_type": "execute_result"
    }
   ],
   "source": [
    "type(my_array)"
   ]
  },
  {
   "cell_type": "code",
   "execution_count": 4,
   "metadata": {},
   "outputs": [
    {
     "data": {
      "text/plain": [
       "1"
      ]
     },
     "execution_count": 4,
     "metadata": {},
     "output_type": "execute_result"
    }
   ],
   "source": [
    "my_array.ndim"
   ]
  },
  {
   "cell_type": "code",
   "execution_count": 5,
   "metadata": {},
   "outputs": [
    {
     "data": {
      "text/plain": [
       "(3,)"
      ]
     },
     "execution_count": 5,
     "metadata": {},
     "output_type": "execute_result"
    }
   ],
   "source": [
    "my_array.shape"
   ]
  },
  {
   "cell_type": "code",
   "execution_count": 6,
   "metadata": {},
   "outputs": [
    {
     "name": "stdout",
     "output_type": "stream",
     "text": [
      "[1 2 3]\n",
      "each item: 8 bytes\n",
      "total: 24 bytes\n"
     ]
    }
   ],
   "source": [
    "print(my_array)\n",
    "print('each item:', my_array.itemsize, 'bytes')\n",
    "print('total:',my_array.nbytes, 'bytes')"
   ]
  },
  {
   "cell_type": "code",
   "execution_count": 7,
   "metadata": {},
   "outputs": [],
   "source": [
    "my_array = np.array([\n",
    "    [1,2],\n",
    "    [3,4],\n",
    "    [5,6]\n",
    "])"
   ]
  },
  {
   "cell_type": "code",
   "execution_count": 8,
   "metadata": {},
   "outputs": [
    {
     "data": {
      "text/plain": [
       "2"
      ]
     },
     "execution_count": 8,
     "metadata": {},
     "output_type": "execute_result"
    }
   ],
   "source": [
    "my_array.ndim"
   ]
  },
  {
   "cell_type": "code",
   "execution_count": 9,
   "metadata": {},
   "outputs": [
    {
     "data": {
      "text/plain": [
       "(3, 2)"
      ]
     },
     "execution_count": 9,
     "metadata": {},
     "output_type": "execute_result"
    }
   ],
   "source": [
    "my_array.shape"
   ]
  },
  {
   "cell_type": "code",
   "execution_count": 10,
   "metadata": {},
   "outputs": [
    {
     "data": {
      "text/plain": [
       "0"
      ]
     },
     "execution_count": 10,
     "metadata": {},
     "output_type": "execute_result"
    }
   ],
   "source": [
    "my_array = np.array(12)\n",
    "my_array.ndim"
   ]
  },
  {
   "cell_type": "code",
   "execution_count": 11,
   "metadata": {},
   "outputs": [
    {
     "data": {
      "text/plain": [
       "array([[0., 0., 0.],\n",
       "       [0., 0., 0.],\n",
       "       [0., 0., 0.]])"
      ]
     },
     "execution_count": 11,
     "metadata": {},
     "output_type": "execute_result"
    }
   ],
   "source": [
    "np.zeros((3,3))"
   ]
  },
  {
   "cell_type": "code",
   "execution_count": 12,
   "metadata": {},
   "outputs": [
    {
     "data": {
      "text/plain": [
       "array([0., 0., 0., 0., 0., 0., 0., 0., 0., 0.])"
      ]
     },
     "execution_count": 12,
     "metadata": {},
     "output_type": "execute_result"
    }
   ],
   "source": [
    "np.zeros(10)"
   ]
  },
  {
   "cell_type": "code",
   "execution_count": 13,
   "metadata": {},
   "outputs": [
    {
     "data": {
      "text/plain": [
       "array([[[1., 1.],\n",
       "        [1., 1.],\n",
       "        [1., 1.],\n",
       "        [1., 1.],\n",
       "        [1., 1.]],\n",
       "\n",
       "       [[1., 1.],\n",
       "        [1., 1.],\n",
       "        [1., 1.],\n",
       "        [1., 1.],\n",
       "        [1., 1.]],\n",
       "\n",
       "       [[1., 1.],\n",
       "        [1., 1.],\n",
       "        [1., 1.],\n",
       "        [1., 1.],\n",
       "        [1., 1.]]])"
      ]
     },
     "execution_count": 13,
     "metadata": {},
     "output_type": "execute_result"
    }
   ],
   "source": [
    "np.ones((3,5,2))"
   ]
  },
  {
   "cell_type": "code",
   "execution_count": 14,
   "metadata": {},
   "outputs": [
    {
     "data": {
      "text/plain": [
       "array([['#', '#', '#', '#', '#', '#'],\n",
       "       ['#', '#', '#', '#', '#', '#'],\n",
       "       ['#', '#', '#', '#', '#', '#'],\n",
       "       ['#', '#', '#', '#', '#', '#'],\n",
       "       ['#', '#', '#', '#', '#', '#']], dtype='<U1')"
      ]
     },
     "execution_count": 14,
     "metadata": {},
     "output_type": "execute_result"
    }
   ],
   "source": [
    "np.full((5,6), fill_value='#')"
   ]
  },
  {
   "cell_type": "code",
   "execution_count": 15,
   "metadata": {},
   "outputs": [
    {
     "data": {
      "text/plain": [
       "array([ 23,  29,  35,  41,  47,  53,  59,  65,  71,  77,  83,  89,  95,\n",
       "       101, 107, 113, 119, 125, 131, 137, 143, 149, 155, 161, 167, 173,\n",
       "       179, 185, 191, 197, 203, 209, 215, 221, 227, 233, 239, 245, 251,\n",
       "       257, 263, 269, 275, 281, 287, 293, 299, 305, 311, 317, 323, 329,\n",
       "       335, 341, 347, 353, 359, 365, 371, 377, 383, 389, 395, 401, 407,\n",
       "       413, 419, 425, 431, 437, 443, 449])"
      ]
     },
     "execution_count": 15,
     "metadata": {},
     "output_type": "execute_result"
    }
   ],
   "source": [
    "np.arange(23, 455,6)"
   ]
  },
  {
   "cell_type": "code",
   "execution_count": 16,
   "metadata": {},
   "outputs": [
    {
     "data": {
      "text/plain": [
       "array([0, 2, 4, 6, 8], dtype=uint8)"
      ]
     },
     "execution_count": 16,
     "metadata": {},
     "output_type": "execute_result"
    }
   ],
   "source": [
    "np.arange(0, 10,2, dtype=np.uint8)"
   ]
  },
  {
   "cell_type": "code",
   "execution_count": 17,
   "metadata": {},
   "outputs": [
    {
     "data": {
      "text/plain": [
       "array([  0. ,  77.5, 155. ])"
      ]
     },
     "execution_count": 17,
     "metadata": {},
     "output_type": "execute_result"
    }
   ],
   "source": [
    "np.linspace(0,155,3)"
   ]
  },
  {
   "cell_type": "code",
   "execution_count": 18,
   "metadata": {},
   "outputs": [
    {
     "data": {
      "text/plain": [
       "array([  0,  77, 155], dtype=uint8)"
      ]
     },
     "execution_count": 18,
     "metadata": {},
     "output_type": "execute_result"
    }
   ],
   "source": [
    "np.linspace(0,155,3, dtype=np.uint8)"
   ]
  },
  {
   "cell_type": "code",
   "execution_count": 19,
   "metadata": {},
   "outputs": [
    {
     "data": {
      "text/plain": [
       "array([[1., 0., 0., 0., 0.],\n",
       "       [0., 1., 0., 0., 0.],\n",
       "       [0., 0., 1., 0., 0.],\n",
       "       [0., 0., 0., 1., 0.],\n",
       "       [0., 0., 0., 0., 1.]])"
      ]
     },
     "execution_count": 19,
     "metadata": {},
     "output_type": "execute_result"
    }
   ],
   "source": [
    "np.eye(5)"
   ]
  },
  {
   "cell_type": "code",
   "execution_count": 20,
   "metadata": {},
   "outputs": [
    {
     "data": {
      "text/plain": [
       "array([[ True,  True,  True,  True,  True],\n",
       "       [False, False, False, False, False],\n",
       "       [False, False, False, False, False]])"
      ]
     },
     "execution_count": 20,
     "metadata": {},
     "output_type": "execute_result"
    }
   ],
   "source": [
    "np.empty((3,5), dtype=np.bool_)"
   ]
  },
  {
   "cell_type": "code",
   "execution_count": 21,
   "metadata": {},
   "outputs": [
    {
     "name": "stdout",
     "output_type": "stream",
     "text": [
      "each item: 4 bytes\n",
      "total: 20 bytes\n"
     ]
    }
   ],
   "source": [
    "hello = np.array(['h','e','l','l','o'])\n",
    "print('each item:', hello.itemsize, 'bytes')\n",
    "print('total:',hello.nbytes, 'bytes')"
   ]
  },
  {
   "cell_type": "code",
   "execution_count": 22,
   "metadata": {},
   "outputs": [
    {
     "data": {
      "text/plain": [
       "array([[0.59558192, 0.2289994 , 0.00438629],\n",
       "       [0.52524037, 0.08866197, 0.48378234],\n",
       "       [0.2260851 , 0.75056939, 0.997196  ],\n",
       "       [0.8576019 , 0.5606407 , 0.39325732]])"
      ]
     },
     "execution_count": 22,
     "metadata": {},
     "output_type": "execute_result"
    }
   ],
   "source": [
    "np.random.random(size=(4,3))"
   ]
  },
  {
   "cell_type": "code",
   "execution_count": 23,
   "metadata": {},
   "outputs": [
    {
     "data": {
      "text/plain": [
       "array([[[18, 19, 17, 12, 18],\n",
       "        [14, 13, 14, 15, 12],\n",
       "        [13, 17, 17, 15, 15],\n",
       "        [16, 19, 12, 13, 13]],\n",
       "\n",
       "       [[16, 19, 10, 18, 12],\n",
       "        [14, 16, 13, 16, 11],\n",
       "        [16, 12, 18, 18, 11],\n",
       "        [19, 19, 11, 14, 15]]], dtype=uint8)"
      ]
     },
     "execution_count": 23,
     "metadata": {},
     "output_type": "execute_result"
    }
   ],
   "source": [
    "np.random.randint(10,20,(2,4,5), dtype=np.uint8)"
   ]
  },
  {
   "cell_type": "code",
   "execution_count": 24,
   "metadata": {},
   "outputs": [
    {
     "data": {
      "text/plain": [
       "array([[[ 28.65866481, -15.69267419],\n",
       "        [ 18.07876861,  27.6889657 ],\n",
       "        [-12.66199965,  30.52256237],\n",
       "        [  5.19786704,  21.4301482 ]],\n",
       "\n",
       "       [[ 32.97413894,  11.25308355],\n",
       "        [ -4.92390005,   1.96885154],\n",
       "        [  6.96792282,   8.50240278],\n",
       "        [-11.47282233,  10.91484316]],\n",
       "\n",
       "       [[ -6.02009708,  16.72140105],\n",
       "        [ 16.25590144, -23.50036609],\n",
       "        [  8.09899023,  24.17153843],\n",
       "        [  7.92847606,   1.31382803]]])"
      ]
     },
     "execution_count": 24,
     "metadata": {},
     "output_type": "execute_result"
    }
   ],
   "source": [
    "np.random.normal(10,20,(3,4,2))"
   ]
  },
  {
   "cell_type": "code",
   "execution_count": 25,
   "metadata": {},
   "outputs": [
    {
     "data": {
      "text/plain": [
       "array([[[8, 3, 2],\n",
       "        [2, 9, 8],\n",
       "        [8, 1, 4],\n",
       "        [3, 6, 8]],\n",
       "\n",
       "       [[0, 1, 5],\n",
       "        [2, 3, 7],\n",
       "        [3, 4, 2],\n",
       "        [7, 6, 8]]])"
      ]
     },
     "execution_count": 25,
     "metadata": {},
     "output_type": "execute_result"
    }
   ],
   "source": [
    "my_array = np.random.randint(0,10,(2,4,3))\n",
    "my_array"
   ]
  },
  {
   "cell_type": "code",
   "execution_count": 26,
   "metadata": {},
   "outputs": [
    {
     "data": {
      "text/plain": [
       "array([[[3, 3, 3],\n",
       "        [3, 3, 3],\n",
       "        [3, 3, 3],\n",
       "        [3, 3, 3]],\n",
       "\n",
       "       [[3, 3, 3],\n",
       "        [3, 3, 3],\n",
       "        [3, 3, 3],\n",
       "        [3, 3, 3]]])"
      ]
     },
     "execution_count": 26,
     "metadata": {},
     "output_type": "execute_result"
    }
   ],
   "source": [
    "np.full_like(my_array, 3)"
   ]
  },
  {
   "cell_type": "code",
   "execution_count": 27,
   "metadata": {},
   "outputs": [
    {
     "data": {
      "text/plain": [
       "7"
      ]
     },
     "execution_count": 27,
     "metadata": {},
     "output_type": "execute_result"
    }
   ],
   "source": [
    "my_array[1,1,2]"
   ]
  },
  {
   "cell_type": "code",
   "execution_count": 28,
   "metadata": {},
   "outputs": [
    {
     "name": "stdout",
     "output_type": "stream",
     "text": [
      "a:\n",
      " [[0 1 2]\n",
      " [3 4 5]\n",
      " [6 7 8]]\n",
      "sub a:\n",
      " [[4 5]\n",
      " [7 8]]\n",
      "sub a:\n",
      " [[10  5]\n",
      " [ 7  8]]\n",
      "a:\n",
      " [[ 0  1  2]\n",
      " [ 3 10  5]\n",
      " [ 6  7  8]]\n"
     ]
    }
   ],
   "source": [
    "a = np.array([[0, 1, 2],\n",
    "              [3, 4, 5],\n",
    "              [6, 7, 8]])\n",
    "print('a:\\n', a)\n",
    "sub_a = a[1:3, 1:]\n",
    "print('sub a:\\n',sub_a)\n",
    "sub_a[0, 0] = 10\n",
    "print('sub a:\\n', sub_a)\n",
    "print('a:\\n',a)"
   ]
  },
  {
   "cell_type": "code",
   "execution_count": 29,
   "metadata": {},
   "outputs": [
    {
     "name": "stdout",
     "output_type": "stream",
     "text": [
      "a:\n",
      " [[0 1 2]\n",
      " [3 4 5]\n",
      " [6 7 8]]\n",
      "sub a:\n",
      " [[7 8]]\n",
      "sub a:\n",
      " [[10  8]]\n",
      "[[0 1 2]\n",
      " [3 4 5]\n",
      " [6 7 8]]\n"
     ]
    }
   ],
   "source": [
    "a = np.array([[0, 1, 2],\n",
    "              [3, 4, 5],\n",
    "              [6, 7, 8]])\n",
    "print(\"a:\\n\", a)\n",
    "sub_copy_a = a[2:4, 1:].copy()\n",
    "print(\"sub a:\\n\", sub_copy_a)\n",
    "sub_copy_a[0, 0] = 10\n",
    "print(\"sub a:\\n\", sub_copy_a)\n",
    "print(a)"
   ]
  },
  {
   "cell_type": "code",
   "execution_count": 30,
   "metadata": {},
   "outputs": [
    {
     "name": "stdout",
     "output_type": "stream",
     "text": [
      "Before:\n",
      " [ 0  1  3  5  7  9 11 13 15 17 19 21 23 25 27 29]\n",
      "After:\n",
      " [[ 0  1  3  5]\n",
      " [ 7  9 11 13]\n",
      " [15 17 19 21]\n",
      " [23 25 27 29]]\n"
     ]
    }
   ],
   "source": [
    "before = np.linspace(0,29,16,dtype=np.uint8)\n",
    "print(\"Before:\\n\", before)\n",
    "after = before.reshape(4,4)\n",
    "print(\"After:\\n\", after)\n"
   ]
  },
  {
   "cell_type": "code",
   "execution_count": 31,
   "metadata": {},
   "outputs": [
    {
     "name": "stdout",
     "output_type": "stream",
     "text": [
      "Before:\n",
      " [1 2 3 4 5 6 7 8 9]\n",
      "After:\n",
      " [[1 2 3]\n",
      " [4 5 6]\n",
      " [7 8 9]]\n"
     ]
    }
   ],
   "source": [
    "before = np.arange(1,10)\n",
    "print(\"Before:\\n\", before)\n",
    "after = before.reshape(3,3)\n",
    "print(\"After:\\n\", after)"
   ]
  },
  {
   "cell_type": "code",
   "execution_count": 32,
   "metadata": {},
   "outputs": [
    {
     "name": "stdout",
     "output_type": "stream",
     "text": [
      "Before:\n",
      " [ 0  1  2  3  4  5  6  7  8  9 10 11 12 13 14 15 16 17 18 19 20 21 22 23\n",
      " 24 25 26 27 28 29]\n",
      "After:\n",
      " [[[ 0  1  2]\n",
      "  [ 3  4  5]\n",
      "  [ 6  7  8]\n",
      "  [ 9 10 11]\n",
      "  [12 13 14]]\n",
      "\n",
      " [[15 16 17]\n",
      "  [18 19 20]\n",
      "  [21 22 23]\n",
      "  [24 25 26]\n",
      "  [27 28 29]]]\n"
     ]
    }
   ],
   "source": [
    "before = np.arange(30)\n",
    "print(\"Before:\\n\", before)\n",
    "after = before.reshape(2,5,-1)\n",
    "print(\"After:\\n\", after)"
   ]
  },
  {
   "cell_type": "code",
   "execution_count": 33,
   "metadata": {},
   "outputs": [
    {
     "name": "stdout",
     "output_type": "stream",
     "text": [
      "Before:\n",
      " [[[0 0 0]\n",
      "  [0 0 0]\n",
      "  [0 1 1]\n",
      "  [0 0 0]]\n",
      "\n",
      " [[0 1 1]\n",
      "  [0 0 1]\n",
      "  [1 0 1]\n",
      "  [0 1 1]]]\n",
      "After:\n",
      " [0 0 0 0 0 0 0 1 1 0 0 0 0 1 1 0 0 1 1 0 1 0 1 1]\n"
     ]
    }
   ],
   "source": [
    "before = np.random.randint(low=0,high=2,size=(2,4,3))\n",
    "print(\"Before:\\n\", before)\n",
    "after = before.reshape(-1)\n",
    "print(\"After:\\n\", after)"
   ]
  },
  {
   "cell_type": "code",
   "execution_count": 34,
   "metadata": {},
   "outputs": [
    {
     "name": "stdout",
     "output_type": "stream",
     "text": [
      "12\n",
      "(4, 3)\n",
      "2\n",
      "[[1]\n",
      " [4]]\n",
      "[1 4]\n"
     ]
    }
   ],
   "source": [
    "\n",
    "a = np.array([[0, 1, 2],\n",
    "             [3, 4, 5],\n",
    "             [6, 7, 8],\n",
    "             [9, 10, 11]])\n",
    "print(a.size)\n",
    "print(a.shape)\n",
    "print(a.ndim)\n",
    "print(a[:2, 1:2])\n",
    "print(a[:2, 1])"
   ]
  },
  {
   "cell_type": "markdown",
   "metadata": {},
   "source": [
    "## Transpose\n",
    "<img src=\"https://quera.org/qbox/view/xfWkJ9uk6z/transpose.gif\" alt=\"...\">"
   ]
  },
  {
   "cell_type": "code",
   "execution_count": 35,
   "metadata": {},
   "outputs": [
    {
     "name": "stdout",
     "output_type": "stream",
     "text": [
      "[[0 1 2]\n",
      " [3 4 5]] \n",
      "\n",
      "[[0 3]\n",
      " [1 4]\n",
      " [2 5]] \n",
      "\n",
      "[[0 3]\n",
      " [1 4]\n",
      " [2 5]] \n",
      "\n"
     ]
    }
   ],
   "source": [
    "a = np.arange(6).reshape(2,3)\n",
    "print(a,'\\n')\n",
    "print(a.T,'\\n')\n",
    "print(np.transpose(a),'\\n')"
   ]
  },
  {
   "cell_type": "code",
   "execution_count": 36,
   "metadata": {},
   "outputs": [
    {
     "name": "stdout",
     "output_type": "stream",
     "text": [
      "[[[ 0  1  2  3]\n",
      "  [ 4  5  6  7]\n",
      "  [ 8  9 10 11]]\n",
      "\n",
      " [[12 13 14 15]\n",
      "  [16 17 18 19]\n",
      "  [20 21 22 23]]] \n",
      "-----------\n",
      "[[[ 0 12]\n",
      "  [ 1 13]\n",
      "  [ 2 14]\n",
      "  [ 3 15]]\n",
      "\n",
      " [[ 4 16]\n",
      "  [ 5 17]\n",
      "  [ 6 18]\n",
      "  [ 7 19]]\n",
      "\n",
      " [[ 8 20]\n",
      "  [ 9 21]\n",
      "  [10 22]\n",
      "  [11 23]]]\n"
     ]
    }
   ],
   "source": [
    "a = np.arange(24).reshape(2, 3, 4)\n",
    "print(a,'\\n-----------')\n",
    "print(a.transpose(1,2,0))"
   ]
  },
  {
   "cell_type": "code",
   "execution_count": 37,
   "metadata": {},
   "outputs": [
    {
     "name": "stdout",
     "output_type": "stream",
     "text": [
      "[[[ 0  1]\n",
      "  [ 2  3]\n",
      "  [ 4  5]\n",
      "  [ 6  7]]\n",
      "\n",
      " [[ 8  9]\n",
      "  [10 11]\n",
      "  [12 13]\n",
      "  [14 15]]\n",
      "\n",
      " [[16 17]\n",
      "  [18 19]\n",
      "  [20 21]\n",
      "  [22 23]]] \n",
      "-------\n",
      "[[[ 0  1]\n",
      "  [ 8  9]\n",
      "  [16 17]]\n",
      "\n",
      " [[ 2  3]\n",
      "  [10 11]\n",
      "  [18 19]]\n",
      "\n",
      " [[ 4  5]\n",
      "  [12 13]\n",
      "  [20 21]]\n",
      "\n",
      " [[ 6  7]\n",
      "  [14 15]\n",
      "  [22 23]]]\n"
     ]
    }
   ],
   "source": [
    "a = np.arange(24).reshape(3,4,2)\n",
    "print(a,'\\n-------')\n",
    "print(a.swapaxes(0,1)) # zero dimension which is 3 / first dimension which is 4"
   ]
  },
  {
   "cell_type": "code",
   "execution_count": 38,
   "metadata": {},
   "outputs": [
    {
     "name": "stdout",
     "output_type": "stream",
     "text": [
      "[[[ 0  1]\n",
      "  [ 2  3]\n",
      "  [ 4  5]\n",
      "  [ 6  7]]\n",
      "\n",
      " [[ 8  9]\n",
      "  [10 11]\n",
      "  [12 13]\n",
      "  [14 15]]\n",
      "\n",
      " [[16 17]\n",
      "  [18 19]\n",
      "  [20 21]\n",
      "  [22 23]]]\n",
      "-----------\n",
      "[[[ 0  8 16]\n",
      "  [ 2 10 18]\n",
      "  [ 4 12 20]\n",
      "  [ 6 14 22]]\n",
      "\n",
      " [[ 1  9 17]\n",
      "  [ 3 11 19]\n",
      "  [ 5 13 21]\n",
      "  [ 7 15 23]]]\n"
     ]
    }
   ],
   "source": [
    "a = np.arange(24).reshape(3,4,2)\n",
    "print(a)\n",
    "print('-----------')\n",
    "b = a.swapaxes(0,2)\n",
    "print(b)"
   ]
  },
  {
   "cell_type": "markdown",
   "metadata": {},
   "source": [
    "## Concatenate\n",
    "<img src=\"https://quera.org/qbox/view/Yw0nPkHTuR/concatenate.gif\">"
   ]
  },
  {
   "cell_type": "code",
   "execution_count": 39,
   "metadata": {},
   "outputs": [
    {
     "name": "stdout",
     "output_type": "stream",
     "text": [
      "[[ 0  1  2]\n",
      " [ 3  4  5]\n",
      " [ 7  8  9]\n",
      " [10 11 12]]\n",
      "----------\n",
      "[ 0  1  2  3  4  5  7  8  9 10 11 12]\n",
      "----------\n",
      "[[ 0  1  2  7  8  9]\n",
      " [ 3  4  5 10 11 12]]\n",
      "----------\n",
      "[[ 0  1  2]\n",
      " [ 3  4  5]\n",
      " [ 7  8  9]\n",
      " [10 11 12]]\n"
     ]
    }
   ],
   "source": [
    "a = np.arange(6).reshape(2,3)\n",
    "b = np.arange(7,13).reshape(2,3)\n",
    "print(np.concatenate((a,b)))\n",
    "print(\"----------\")\n",
    "print(np.concatenate((a,b), axis=None))\n",
    "print(\"----------\")\n",
    "print(np.concatenate((a,b), axis=1))\n",
    "print(\"----------\")\n",
    "print(np.concatenate((a,b), axis=0))\n"
   ]
  },
  {
   "cell_type": "markdown",
   "metadata": {},
   "source": [
    "## Split\n",
    "\n",
    "<img src=\"https://quera.org/qbox/view/SHhG2Vh91J/split.png\" alt=\"...\" style=\"width:800px;\">"
   ]
  },
  {
   "cell_type": "code",
   "execution_count": 40,
   "metadata": {},
   "outputs": [
    {
     "data": {
      "text/plain": [
       "[array([1, 2, 3, 4, 5]),\n",
       " array([ 6,  7,  8,  9, 10]),\n",
       " array([11, 12, 13, 14, 15]),\n",
       " array([16, 17, 18, 19, 20])]"
      ]
     },
     "execution_count": 40,
     "metadata": {},
     "output_type": "execute_result"
    }
   ],
   "source": [
    "a = np.arange(1,21)\n",
    "np.split(a, [5,10,15])"
   ]
  },
  {
   "cell_type": "code",
   "execution_count": 41,
   "metadata": {},
   "outputs": [
    {
     "name": "stdout",
     "output_type": "stream",
     "text": [
      "[[ 0  1  2  3  4  5]\n",
      " [ 6  7  8  9 10 11]] \n",
      "---------\n",
      " [[12 13 14 15 16 17]\n",
      " [18 19 20 21 22 23]] \n",
      "---------\n",
      "[[ 0  1]\n",
      " [ 6  7]\n",
      " [12 13]\n",
      " [18 19]] \n",
      "---------\n",
      " [[ 2  3]\n",
      " [ 8  9]\n",
      " [14 15]\n",
      " [20 21]] \n",
      "---------\n",
      " [[ 4  5]\n",
      " [10 11]\n",
      " [16 17]\n",
      " [22 23]]\n"
     ]
    }
   ],
   "source": [
    "a = np.arange(24).reshape(4,6)\n",
    "b,c = np.split(a,2,axis=0)\n",
    "d,e,f = np.split(a,3,axis=1)\n",
    "print(b,'\\n---------\\n',c,'\\n---------')\n",
    "print(d,'\\n---------\\n',e,'\\n---------\\n',f)"
   ]
  },
  {
   "cell_type": "code",
   "execution_count": 42,
   "metadata": {},
   "outputs": [
    {
     "name": "stdout",
     "output_type": "stream",
     "text": [
      "a :\n",
      " [[6 1 7 2]\n",
      " [1 2 5 2]\n",
      " [2 9 5 3]]\n",
      "b :\n",
      " [[6 6 7 2]\n",
      " [5 3 8 0]\n",
      " [3 2 4 4]]\n",
      "SUM:\n",
      "[[12  7 14  4]\n",
      " [ 6  5 13  2]\n",
      " [ 5 11  9  7]]\n"
     ]
    }
   ],
   "source": [
    "a = np.random.randint(0, 10, (3,4))\n",
    "b = np.random.randint(0, 10, (3,4)) \n",
    "print('a :\\n', a)\n",
    "print('b :\\n', b)\n",
    "\n",
    "def cal_sum(a, b) :\n",
    "    output = np.empty(a.shape, dtype='int_')\n",
    "    for i in range(len(a)):\n",
    "        output[i] = a[i] + b[i]\n",
    "    return output\n",
    "print(\"SUM:\")\n",
    "print(cal_sum(a, b))"
   ]
  },
  {
   "cell_type": "markdown",
   "metadata": {},
   "source": [
    "## Binary Universal Functions\n",
    "\n",
    "- #### add\n",
    "  ```python\n",
    "  np.add(a,b)\n",
    "  ```\n",
    "- #### subtract\n",
    "    ```python\n",
    "  np.subtract(a,b)\n",
    "  ```\n",
    "- #### multiply\n",
    "    ```python\n",
    "  np.multiply(a,b)\n",
    "  ```\n",
    "- #### divide\n",
    "    ```python\n",
    "  np.divide(a,b)\n",
    "  ```"
   ]
  },
  {
   "cell_type": "code",
   "execution_count": 43,
   "metadata": {},
   "outputs": [
    {
     "name": "stdout",
     "output_type": "stream",
     "text": [
      "[[4 3 5 4 6]\n",
      " [7 4 5 6 1]\n",
      " [8 6 1 0 4]\n",
      " [4 8 7 9 7]]\n",
      "\n",
      "[[ 6  2  7  8 10]\n",
      " [ 2  7  5  6  9]\n",
      " [ 7 10  5  5  1]\n",
      " [ 1  6  6  1  5]]\n",
      "\n",
      "[[10  5 12 12 16]\n",
      " [ 9 11 10 12 10]\n",
      " [15 16  6  5  5]\n",
      " [ 5 14 13 10 12]] \n",
      "--------------\n",
      "[[-2  1 -2 -4 -4]\n",
      " [ 5 -3  0  0 -8]\n",
      " [ 1 -4 -4 -5  3]\n",
      " [ 3  2  1  8  2]] \n",
      "------------\n",
      "[[24  6 35 32 60]\n",
      " [14 28 25 36  9]\n",
      " [56 60  5  0  4]\n",
      " [ 4 48 42  9 35]] \n",
      "------------\n",
      "[[0.6665 1.5    0.7144 0.5    0.6   ]\n",
      " [3.5    0.5713 1.     1.     0.1111]\n",
      " [1.143  0.6    0.2    0.     4.    ]\n",
      " [4.     1.333  1.167  9.     1.4   ]]\n"
     ]
    }
   ],
   "source": [
    "a = np.random.randint(0,11,(4,5))\n",
    "b = np.random.randint(1,11,(4,5))\n",
    " \n",
    "print(a)\n",
    "print()\n",
    "print(b)\n",
    "print()\n",
    "print(np.add(a,b),'\\n--------------')\n",
    "print(np.subtract(a,b),'\\n------------')\n",
    "print(np.multiply(a,b),'\\n------------')\n",
    "print(np.divide(a,b,dtype=np.float16))\n"
   ]
  },
  {
   "cell_type": "markdown",
   "metadata": {},
   "source": [
    "## Unary Universal Functions\n",
    "\n",
    "- #### abs\n",
    "  ```python\n",
    "  np.abs(a)\n",
    "  ```\n",
    "- #### sqrt\n",
    "    ```python\n",
    "  np.sqrt(a)\n",
    "  ```\n",
    "- #### square\n",
    "    ```python\n",
    "  np.square(a)\n",
    "  ```\n",
    "- #### isnan\n",
    "    ```python\n",
    "  np.isnan(a)\n",
    "  ```"
   ]
  },
  {
   "cell_type": "code",
   "execution_count": 44,
   "metadata": {},
   "outputs": [
    {
     "name": "stdout",
     "output_type": "stream",
     "text": [
      "[[ 0 -2 -6]\n",
      " [ 3  4 -5]\n",
      " [ 4  1 -4]]\n",
      "\n",
      "[[ 0  4 36]\n",
      " [ 9 16 25]\n",
      " [16  1 16]] \n",
      "--------------\n",
      "[[0 2 6]\n",
      " [3 4 5]\n",
      " [4 1 4]] \n",
      "------------\n",
      "[[False False False]\n",
      " [False False False]\n",
      " [False False False]] \n",
      "------------\n",
      "[[0.      nan   nan]\n",
      " [1.732 2.      nan]\n",
      " [2.    1.      nan]]\n"
     ]
    }
   ],
   "source": [
    "a = np.random.randint(-10,10,(3,3))\n",
    "print(a)\n",
    "print()\n",
    "print(np.square(a),'\\n--------------')\n",
    "print(np.abs(a),'\\n------------')\n",
    "print(np.isnan(a),'\\n------------')\n",
    "np.seterr(invalid=\"ignore\")\n",
    "print(np.sqrt(a,dtype=np.float16))"
   ]
  },
  {
   "cell_type": "markdown",
   "metadata": {},
   "source": [
    "## Aggregation Functions\n",
    "\n",
    "- #### sum\n",
    "  ```python\n",
    "  np.sum(a)\n",
    "  a.sum()\n",
    "  ```\n",
    "\n",
    "- #### max\n",
    "  ```python\n",
    "  np.max(a)\n",
    "  np.argmax(a)\n",
    "  a.max()\n",
    "  ```\n",
    "\n",
    "- #### min\n",
    "  ```python\n",
    "  np.min(a)\n",
    "  np.argmin(a)\n",
    "  a.min()\n",
    "  ```\n",
    "\n",
    "- #### std (standard deviation)\n",
    "  ```python\n",
    "  np.std(a)\n",
    "  a.std()\n",
    "  ```\n",
    "\n",
    "- #### mean\n",
    "  ```python\n",
    "  np.mean(a)\n",
    "  a.mean()\n",
    "  ```\n",
    "\n",
    "- #### percentile\n",
    "  ```python\n",
    "  np.percentile(a, 0 to 100, axis=...)\n",
    "  ```\n",
    "\n",
    "  <img src=\"https://quera.org/qbox/view/sfVrSgbDvL/sum.gif\" alt=\"...\">"
   ]
  },
  {
   "cell_type": "code",
   "execution_count": 45,
   "metadata": {},
   "outputs": [
    {
     "name": "stdout",
     "output_type": "stream",
     "text": [
      "Iran vs Spain\n",
      "Mean height: [184.63636364 179.63636364]\n",
      "Standard deviation: [4.79152144 8.91650897]\n",
      "------------------\n",
      "Iran vs Spain\n",
      "Mean height: [184.63636364 179.63636364]\n",
      "Standard deviation: [4.79152144 8.91650897]\n"
     ]
    }
   ],
   "source": [
    "heights = np.array([[194, 185, 183, 184, 178, 178, 190, 187, 187, 179, 186], \n",
    "                    [192, 173, 194, 184, 170, 189, 170, 170, 176, 173, 185]])\n",
    "print('Iran vs Spain')\n",
    "print('Mean height:', heights.mean(axis=1))\n",
    "print('Standard deviation:', heights.std(axis=1))\n",
    "print(\"------------------\")\n",
    "new_heights = heights.T\n",
    "print('Iran vs Spain')\n",
    "print('Mean height:', new_heights.mean(axis=0))\n",
    "print('Standard deviation:', new_heights.std(axis=0))"
   ]
  },
  {
   "cell_type": "code",
   "execution_count": 46,
   "metadata": {},
   "outputs": [
    {
     "name": "stdout",
     "output_type": "stream",
     "text": [
      "Min: [178 170]\n",
      "25th percentile: [181.  171.5]\n",
      "Median: [185. 176.]\n",
      "75th percentile: [187. 187.]\n",
      "Max: [194 194]\n"
     ]
    }
   ],
   "source": [
    "print('Min:', np.min(heights, axis=1)) \n",
    "print('25th percentile:', np.percentile(heights, 25, axis=1)) \n",
    "print('Median:', np.median(heights, axis=1))\n",
    "print('75th percentile:', np.percentile(heights, 75, axis=1))\n",
    "print('Max:', np.max(heights, axis=1))"
   ]
  },
  {
   "cell_type": "markdown",
   "metadata": {},
   "source": [
    "## BroadCasting\n",
    "\n",
    "```Python\n",
    "\n",
    "a = np.array([\n",
    "    [3, 5, -4],\n",
    "    [1, 4, 2],\n",
    "    [10, 0, 3]\n",
    "])\n",
    "\n",
    "a * 2\n",
    "```\n",
    "\n",
    "<img src=\"https://quera.org/qbox/view/bwy2GQBjAt/ufunc.gif\" alt=\"...\">\n",
    "\n",
    "```Python\n",
    "a = np.array([\n",
    "    [3, 5, -4],\n",
    "    [1, 4, 2],\n",
    "    [10, 0, 3]\n",
    "])\n",
    "\n",
    "b = np.array([\n",
    "    [3, 1, 5]\n",
    "])\n",
    "\n",
    "a - 2\n",
    "```\n",
    "\n",
    "<img src=\"https://quera.org/qbox/view/2NggXfAdmV/ufunc2.gif\" alt=\"...\">"
   ]
  },
  {
   "cell_type": "code",
   "execution_count": 47,
   "metadata": {},
   "outputs": [
    {
     "data": {
      "text/plain": [
       "array([[False,  True,  True,  True,  True,  True,  True],\n",
       "       [ True,  True,  True,  True,  True,  True,  True],\n",
       "       [ True,  True,  True,  True,  True,  True,  True],\n",
       "       [ True,  True,  True,  True,  True,  True,  True]])"
      ]
     },
     "execution_count": 47,
     "metadata": {},
     "output_type": "execute_result"
    }
   ],
   "source": [
    "temp = np.array([[10, 12, 11, 17, 15, 11, 14],\n",
    "             [13, 15, 18, 21, 19, 18, 17],\n",
    "             [18, 20, 21, 19, 23, 24, 22],\n",
    "             [20, 23, 19, 21, 25, 22, 21]])\n",
    "temp > 10"
   ]
  },
  {
   "cell_type": "code",
   "execution_count": 48,
   "metadata": {},
   "outputs": [
    {
     "name": "stdout",
     "output_type": "stream",
     "text": [
      "Number of Days with temperature: 10\n",
      "Is any day temp higher than 100:  False\n",
      "Is every day temp higher than 9: True\n"
     ]
    }
   ],
   "source": [
    "print(\"Number of Days with temperature:\", np.count_nonzero(temp > 20))\n",
    "print(\"Is any day temp higher than 100: \",np.any(temp>100))\n",
    "print(\"Is every day temp higher than 9:\", np.all(temp>9))"
   ]
  },
  {
   "cell_type": "code",
   "execution_count": 49,
   "metadata": {},
   "outputs": [
    {
     "name": "stdout",
     "output_type": "stream",
     "text": [
      "[[False False False  True  True False False]\n",
      " [False  True  True False  True  True  True]\n",
      " [ True  True False  True False False False]\n",
      " [ True False  True False False False False]]\n"
     ]
    },
    {
     "data": {
      "text/plain": [
       "array([17, 15, 15, 18, 19, 18, 17, 18, 20, 19, 20, 19])"
      ]
     },
     "execution_count": 49,
     "metadata": {},
     "output_type": "execute_result"
    }
   ],
   "source": [
    "condition = (temp >= 15) & (temp <= 20)\n",
    "print(condition)\n",
    "temp[condition]"
   ]
  },
  {
   "cell_type": "code",
   "execution_count": 50,
   "metadata": {},
   "outputs": [
    {
     "name": "stdout",
     "output_type": "stream",
     "text": [
      "Mean Temperature Of days with temp higher than 20: 22.3\n",
      "Median Temperature of days with temp higher than 20: 18.0\n"
     ]
    }
   ],
   "source": [
    "print('Mean Temperature Of days with temp higher than 20:', temp[temp > 20].mean())\n",
    "print('Median Temperature of days with temp higher than 20:', np.median(temp[(temp > 15) & (temp < 20)]))"
   ]
  },
  {
   "cell_type": "code",
   "execution_count": 51,
   "metadata": {},
   "outputs": [
    {
     "name": "stdout",
     "output_type": "stream",
     "text": [
      "Median Temperature of holidays: 19.5\n",
      "Median Temperature fo first 2 weeks: 15.0\n",
      "Median Temperature of holidays in third and fourth weeks: 22.25\n"
     ]
    }
   ],
   "source": [
    "calendar = np.arange(4*7).reshape(4, 7)\n",
    "holidays = (calendar%7 >= 5)\n",
    "first_mid = (calendar < 2*7)\n",
    "print('Median Temperature of holidays:', np.median(temp[holidays]))\n",
    "print('Median Temperature fo first 2 weeks:', np.median(temp[first_mid]))\n",
    "print('Median Temperature of holidays in third and fourth weeks:', np.mean(temp[~first_mid & holidays]))"
   ]
  },
  {
   "cell_type": "markdown",
   "metadata": {},
   "source": [
    "<img src=\"https://quera.org/qbox/view/Wc4NcDdn8s/fancy%20indexing.gif\" alt=\"...\">\n",
    "\n",
    "```python\n",
    "a = np.arange(12).reshape(4, 3)\n",
    "print(a)\n",
    "row = np.array([0, 2, 3, 2])\n",
    "col = np.array([0, 2, 1, 0])\n",
    "a[row, col]\n",
    "```"
   ]
  },
  {
   "cell_type": "code",
   "execution_count": 52,
   "metadata": {},
   "outputs": [
    {
     "name": "stdout",
     "output_type": "stream",
     "text": [
      "[[ 0  1  2]\n",
      " [ 3  4  5]\n",
      " [ 6  7  8]\n",
      " [ 9 10 11]]\n"
     ]
    },
    {
     "data": {
      "text/plain": [
       "array([ 0,  8, 10,  6])"
      ]
     },
     "execution_count": 52,
     "metadata": {},
     "output_type": "execute_result"
    }
   ],
   "source": [
    "a = np.arange(12).reshape(4, 3)\n",
    "print(a)\n",
    "row = np.array([0, 2, 3, 2])\n",
    "col = np.array([0, 2, 1, 0])\n",
    "a[row, col]"
   ]
  },
  {
   "cell_type": "code",
   "execution_count": 53,
   "metadata": {},
   "outputs": [
    {
     "data": {
      "text/plain": [
       "array([[2, 3],\n",
       "       [4, 1]])"
      ]
     },
     "execution_count": 53,
     "metadata": {},
     "output_type": "execute_result"
    }
   ],
   "source": [
    "a = np.arange(12)\n",
    "ind = np.array([[2, 3],\n",
    "               [4, 1]])\n",
    "a[ind]"
   ]
  },
  {
   "cell_type": "code",
   "execution_count": 54,
   "metadata": {},
   "outputs": [
    {
     "name": "stdout",
     "output_type": "stream",
     "text": [
      "[0 2 3 2]\n",
      "[[0]\n",
      " [2]\n",
      " [3]\n",
      " [2]]\n"
     ]
    },
    {
     "data": {
      "text/plain": [
       "array([[ 0,  2,  1,  0],\n",
       "       [ 6,  8,  7,  6],\n",
       "       [ 9, 11, 10,  9],\n",
       "       [ 6,  8,  7,  6]])"
      ]
     },
     "execution_count": 54,
     "metadata": {},
     "output_type": "execute_result"
    }
   ],
   "source": [
    "a = np.arange(12).reshape((4,3))\n",
    "row = np.array([0, 2, 3, 2])\n",
    "col = np.array([0, 2, 1, 0])\n",
    "print(row)\n",
    "print(row.reshape((4,1)))\n",
    "a[row[:, np.newaxis], col] # row[:,np.newaxis] ==> row.reshape(4,1)\n"
   ]
  },
  {
   "cell_type": "markdown",
   "metadata": {},
   "source": [
    "### at\n",
    "\n",
    "- no matter how many time you call an index the change will happen only once!\n",
    "  ```Python\n",
    "  a = np.array([2, 1, 3, 4, 5])\n",
    "  a[[1, 1, 2, 4]] *= 10\n",
    "  print(a)\n",
    "  ```\n",
    "\n",
    "- with **at** every time you call an index the change will happen to it!\n",
    "  ```Python\n",
    "  a = np.array([2, 1, 3, 4, 5])\n",
    "  np.add.at(a, [0, 0, 0, 1, 1, 2], 5)\n",
    "  print(a)\n",
    "  ```"
   ]
  },
  {
   "cell_type": "code",
   "execution_count": 55,
   "metadata": {},
   "outputs": [
    {
     "data": {
      "text/plain": [
       "array([      2,      40,     500, 1000000])"
      ]
     },
     "execution_count": 55,
     "metadata": {},
     "output_type": "execute_result"
    }
   ],
   "source": [
    "a = np.array([2,4,5,1])\n",
    "a[[1,2,3,3,3,3,3,3]]*=10\n",
    "np.multiply.at(a,[2,3,3,3,3,3],10)\n",
    "a"
   ]
  },
  {
   "cell_type": "code",
   "execution_count": 56,
   "metadata": {},
   "outputs": [
    {
     "name": "stdout",
     "output_type": "stream",
     "text": [
      "[ 4  9  7  7  2 10  4  2  7  5]\n",
      "[ 2  2  7  7  4 10  4  9  7  5]\n"
     ]
    }
   ],
   "source": [
    "a = np.array([4 ,9,7,7 ,2 ,10,4,2 ,7 ,5])\n",
    "print(a)\n",
    "print(np.partition(a,1))"
   ]
  },
  {
   "cell_type": "code",
   "execution_count": 57,
   "metadata": {},
   "outputs": [
    {
     "name": "stdout",
     "output_type": "stream",
     "text": [
      "x = [1 2 3]\n",
      "y = [4 5 6]\n"
     ]
    },
    {
     "data": {
      "text/plain": [
       "32"
      ]
     },
     "execution_count": 57,
     "metadata": {},
     "output_type": "execute_result"
    }
   ],
   "source": [
    "x = np.array([1, 2, 3])\n",
    "y = np.array([4, 5, 6])\n",
    "print('x =', x)\n",
    "print('y =', y)\n",
    "np.dot(x,y)"
   ]
  },
  {
   "cell_type": "code",
   "execution_count": 58,
   "metadata": {},
   "outputs": [
    {
     "name": "stdout",
     "output_type": "stream",
     "text": [
      "a =\n",
      " [[8 4 9 5]\n",
      " [7 7 8 5]\n",
      " [8 8 2 7]]\n",
      "--------\n",
      "b =\n",
      " [[ 8  4  3]\n",
      " [ 2  5  5]\n",
      " [ 3 10  7]\n",
      " [ 2  2  9]]\n"
     ]
    },
    {
     "data": {
      "text/plain": [
       "array([[109, 152, 152],\n",
       "       [104, 153, 157],\n",
       "       [100, 106, 141]])"
      ]
     },
     "execution_count": 58,
     "metadata": {},
     "output_type": "execute_result"
    }
   ],
   "source": [
    "a = np.random.randint(0,11,(3,4))\n",
    "b = np.random.randint(0,11,(4,3))\n",
    "print('a =\\n',a)\n",
    "print('--------')\n",
    "print('b =\\n',b)\n",
    "np.matmul(a,b)"
   ]
  },
  {
   "cell_type": "code",
   "execution_count": 59,
   "metadata": {},
   "outputs": [
    {
     "name": "stdout",
     "output_type": "stream",
     "text": [
      "a =\n",
      " [[-1.23433408 -1.64205635  0.96582374  0.35720084]\n",
      " [-0.20323711  0.67498439  0.53068945  0.10756968]\n",
      " [ 1.54111155 -0.99699939 -0.29282806 -0.82640276]\n",
      " [-1.29294018 -1.15561578 -0.39335448  2.01094439]] \n",
      "\n",
      "inv =\n",
      " [[-0.27137914  1.23819478  0.88471653  0.34554751]\n",
      " [-0.28215805  0.33505809 -0.236244   -0.06488876]\n",
      " [ 0.31085649  1.66592095  0.53048173  0.07367224]\n",
      " [-0.27582389  1.31451058  0.53683515  0.69657077]] \n",
      "\n",
      "det =\n",
      " -3.536349736541204 \n",
      "\n"
     ]
    }
   ],
   "source": [
    "from numpy.linalg import inv, det\n",
    "a = np.random.randn(4, 4)\n",
    "print('a =\\n',a,'\\n')\n",
    "print('inv =\\n',inv(a),'\\n')\n",
    "print('det =\\n',det(a),'\\n')"
   ]
  }
 ],
 "metadata": {
  "kernelspec": {
   "display_name": "Python 3 (ipykernel)",
   "language": "python",
   "name": "python3"
  },
  "language_info": {
   "codemirror_mode": {
    "name": "ipython",
    "version": 3
   },
   "file_extension": ".py",
   "mimetype": "text/x-python",
   "name": "python",
   "nbconvert_exporter": "python",
   "pygments_lexer": "ipython3",
   "version": "3.10.12"
  }
 },
 "nbformat": 4,
 "nbformat_minor": 4
}
