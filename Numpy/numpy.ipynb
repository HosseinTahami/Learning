{
 "cells": [
  {
   "cell_type": "markdown",
   "metadata": {},
   "source": [
    "# Numpy\n",
    "\n",
    "- Numpy is Numerical Python !\n",
    "  \n",
    "- As you can see the python list save objects inside itself but the numpy array and all its belongings are whole an object!\n",
    "\n",
    "    <img src=\"https://devopedia.org/images/article/251/4000.1588007216.png\" alt=\"...\" style=\"width:700px;\"/>\n",
    "\n",
    "- Dimensions in numpy arrays:\n",
    "    \n",
    "    <img src=\"https://nustat.github.io/DataScience_Intro_python/Datasets/numpy_image.png\" alt=\"...\" style=\"width:700px;\">\n"
   ]
  },
  {
   "cell_type": "code",
   "execution_count": 2,
   "metadata": {},
   "outputs": [],
   "source": [
    "import numpy as np"
   ]
  },
  {
   "cell_type": "code",
   "execution_count": 2,
   "metadata": {},
   "outputs": [],
   "source": [
    "my_array = np.array([1,2,3])"
   ]
  },
  {
   "cell_type": "code",
   "execution_count": 3,
   "metadata": {},
   "outputs": [
    {
     "data": {
      "text/plain": [
       "numpy.ndarray"
      ]
     },
     "execution_count": 3,
     "metadata": {},
     "output_type": "execute_result"
    }
   ],
   "source": [
    "type(my_array)"
   ]
  },
  {
   "cell_type": "code",
   "execution_count": 4,
   "metadata": {},
   "outputs": [
    {
     "data": {
      "text/plain": [
       "1"
      ]
     },
     "execution_count": 4,
     "metadata": {},
     "output_type": "execute_result"
    }
   ],
   "source": [
    "my_array.ndim"
   ]
  },
  {
   "cell_type": "code",
   "execution_count": 5,
   "metadata": {},
   "outputs": [
    {
     "data": {
      "text/plain": [
       "(3,)"
      ]
     },
     "execution_count": 5,
     "metadata": {},
     "output_type": "execute_result"
    }
   ],
   "source": [
    "my_array.shape"
   ]
  },
  {
   "cell_type": "code",
   "execution_count": 6,
   "metadata": {},
   "outputs": [
    {
     "name": "stdout",
     "output_type": "stream",
     "text": [
      "[1 2 3]\n",
      "each item: 8 bytes\n",
      "total: 24 bytes\n"
     ]
    }
   ],
   "source": [
    "print(my_array)\n",
    "print('each item:', my_array.itemsize, 'bytes')\n",
    "print('total:',my_array.nbytes, 'bytes')"
   ]
  },
  {
   "cell_type": "code",
   "execution_count": 7,
   "metadata": {},
   "outputs": [],
   "source": [
    "my_array = np.array([\n",
    "    [1,2],\n",
    "    [3,4],\n",
    "    [5,6]\n",
    "])"
   ]
  },
  {
   "cell_type": "code",
   "execution_count": 8,
   "metadata": {},
   "outputs": [
    {
     "data": {
      "text/plain": [
       "2"
      ]
     },
     "execution_count": 8,
     "metadata": {},
     "output_type": "execute_result"
    }
   ],
   "source": [
    "my_array.ndim"
   ]
  },
  {
   "cell_type": "code",
   "execution_count": 9,
   "metadata": {},
   "outputs": [
    {
     "data": {
      "text/plain": [
       "(3, 2)"
      ]
     },
     "execution_count": 9,
     "metadata": {},
     "output_type": "execute_result"
    }
   ],
   "source": [
    "my_array.shape"
   ]
  },
  {
   "cell_type": "code",
   "execution_count": 10,
   "metadata": {},
   "outputs": [
    {
     "data": {
      "text/plain": [
       "0"
      ]
     },
     "execution_count": 10,
     "metadata": {},
     "output_type": "execute_result"
    }
   ],
   "source": [
    "my_array = np.array(12)\n",
    "my_array.ndim"
   ]
  },
  {
   "cell_type": "code",
   "execution_count": 11,
   "metadata": {},
   "outputs": [
    {
     "data": {
      "text/plain": [
       "array([[0., 0., 0.],\n",
       "       [0., 0., 0.],\n",
       "       [0., 0., 0.]])"
      ]
     },
     "execution_count": 11,
     "metadata": {},
     "output_type": "execute_result"
    }
   ],
   "source": [
    "np.zeros((3,3))"
   ]
  },
  {
   "cell_type": "code",
   "execution_count": 12,
   "metadata": {},
   "outputs": [
    {
     "data": {
      "text/plain": [
       "array([0., 0., 0., 0., 0., 0., 0., 0., 0., 0.])"
      ]
     },
     "execution_count": 12,
     "metadata": {},
     "output_type": "execute_result"
    }
   ],
   "source": [
    "np.zeros(10)"
   ]
  },
  {
   "cell_type": "code",
   "execution_count": 13,
   "metadata": {},
   "outputs": [
    {
     "data": {
      "text/plain": [
       "array([[[1., 1.],\n",
       "        [1., 1.],\n",
       "        [1., 1.],\n",
       "        [1., 1.],\n",
       "        [1., 1.]],\n",
       "\n",
       "       [[1., 1.],\n",
       "        [1., 1.],\n",
       "        [1., 1.],\n",
       "        [1., 1.],\n",
       "        [1., 1.]],\n",
       "\n",
       "       [[1., 1.],\n",
       "        [1., 1.],\n",
       "        [1., 1.],\n",
       "        [1., 1.],\n",
       "        [1., 1.]]])"
      ]
     },
     "execution_count": 13,
     "metadata": {},
     "output_type": "execute_result"
    }
   ],
   "source": [
    "np.ones((3,5,2))"
   ]
  },
  {
   "cell_type": "code",
   "execution_count": 14,
   "metadata": {},
   "outputs": [
    {
     "data": {
      "text/plain": [
       "array([['#', '#', '#', '#', '#', '#'],\n",
       "       ['#', '#', '#', '#', '#', '#'],\n",
       "       ['#', '#', '#', '#', '#', '#'],\n",
       "       ['#', '#', '#', '#', '#', '#'],\n",
       "       ['#', '#', '#', '#', '#', '#']], dtype='<U1')"
      ]
     },
     "execution_count": 14,
     "metadata": {},
     "output_type": "execute_result"
    }
   ],
   "source": [
    "np.full((5,6), fill_value='#')"
   ]
  },
  {
   "cell_type": "code",
   "execution_count": 15,
   "metadata": {},
   "outputs": [
    {
     "data": {
      "text/plain": [
       "array([ 23,  29,  35,  41,  47,  53,  59,  65,  71,  77,  83,  89,  95,\n",
       "       101, 107, 113, 119, 125, 131, 137, 143, 149, 155, 161, 167, 173,\n",
       "       179, 185, 191, 197, 203, 209, 215, 221, 227, 233, 239, 245, 251,\n",
       "       257, 263, 269, 275, 281, 287, 293, 299, 305, 311, 317, 323, 329,\n",
       "       335, 341, 347, 353, 359, 365, 371, 377, 383, 389, 395, 401, 407,\n",
       "       413, 419, 425, 431, 437, 443, 449])"
      ]
     },
     "execution_count": 15,
     "metadata": {},
     "output_type": "execute_result"
    }
   ],
   "source": [
    "np.arange(23, 455,6)"
   ]
  },
  {
   "cell_type": "code",
   "execution_count": 16,
   "metadata": {},
   "outputs": [
    {
     "data": {
      "text/plain": [
       "array([0, 2, 4, 6, 8], dtype=uint8)"
      ]
     },
     "execution_count": 16,
     "metadata": {},
     "output_type": "execute_result"
    }
   ],
   "source": [
    "np.arange(0, 10,2, dtype=np.uint8)"
   ]
  },
  {
   "cell_type": "code",
   "execution_count": 17,
   "metadata": {},
   "outputs": [
    {
     "data": {
      "text/plain": [
       "array([  0. ,  77.5, 155. ])"
      ]
     },
     "execution_count": 17,
     "metadata": {},
     "output_type": "execute_result"
    }
   ],
   "source": [
    "np.linspace(0,155,3)"
   ]
  },
  {
   "cell_type": "code",
   "execution_count": 18,
   "metadata": {},
   "outputs": [
    {
     "data": {
      "text/plain": [
       "array([  0,  77, 155], dtype=uint8)"
      ]
     },
     "execution_count": 18,
     "metadata": {},
     "output_type": "execute_result"
    }
   ],
   "source": [
    "np.linspace(0,155,3, dtype=np.uint8)"
   ]
  },
  {
   "cell_type": "code",
   "execution_count": 19,
   "metadata": {},
   "outputs": [
    {
     "data": {
      "text/plain": [
       "array([[1., 0., 0., 0., 0.],\n",
       "       [0., 1., 0., 0., 0.],\n",
       "       [0., 0., 1., 0., 0.],\n",
       "       [0., 0., 0., 1., 0.],\n",
       "       [0., 0., 0., 0., 1.]])"
      ]
     },
     "execution_count": 19,
     "metadata": {},
     "output_type": "execute_result"
    }
   ],
   "source": [
    "np.eye(5)"
   ]
  },
  {
   "cell_type": "code",
   "execution_count": 20,
   "metadata": {},
   "outputs": [
    {
     "data": {
      "text/plain": [
       "array([[ True,  True,  True,  True,  True],\n",
       "       [False, False, False, False, False],\n",
       "       [False, False, False, False, False]])"
      ]
     },
     "execution_count": 20,
     "metadata": {},
     "output_type": "execute_result"
    }
   ],
   "source": [
    "np.empty((3,5), dtype=np.bool_)"
   ]
  },
  {
   "cell_type": "code",
   "execution_count": 21,
   "metadata": {},
   "outputs": [
    {
     "name": "stdout",
     "output_type": "stream",
     "text": [
      "each item: 4 bytes\n",
      "total: 20 bytes\n"
     ]
    }
   ],
   "source": [
    "hello = np.array(['h','e','l','l','o'])\n",
    "print('each item:', hello.itemsize, 'bytes')\n",
    "print('total:',hello.nbytes, 'bytes')"
   ]
  },
  {
   "cell_type": "code",
   "execution_count": 22,
   "metadata": {},
   "outputs": [
    {
     "data": {
      "text/plain": [
       "array([[0.80785575, 0.92041256, 0.67416398],\n",
       "       [0.62903168, 0.97738851, 0.30424134],\n",
       "       [0.92768861, 0.05304542, 0.36467473],\n",
       "       [0.22143617, 0.5244219 , 0.45664267]])"
      ]
     },
     "execution_count": 22,
     "metadata": {},
     "output_type": "execute_result"
    }
   ],
   "source": [
    "np.random.random(size=(4,3))"
   ]
  },
  {
   "cell_type": "code",
   "execution_count": 23,
   "metadata": {},
   "outputs": [
    {
     "data": {
      "text/plain": [
       "array([[[14, 14, 12, 13, 13],\n",
       "        [13, 17, 14, 13, 10],\n",
       "        [14, 15, 17, 16, 13],\n",
       "        [10, 16, 14, 13, 14]],\n",
       "\n",
       "       [[16, 13, 19, 10, 13],\n",
       "        [18, 18, 12, 15, 11],\n",
       "        [10, 15, 11, 18, 11],\n",
       "        [13, 15, 11, 12, 13]]], dtype=uint8)"
      ]
     },
     "execution_count": 23,
     "metadata": {},
     "output_type": "execute_result"
    }
   ],
   "source": [
    "np.random.randint(10,20,(2,4,5), dtype=np.uint8)"
   ]
  },
  {
   "cell_type": "code",
   "execution_count": 24,
   "metadata": {},
   "outputs": [
    {
     "data": {
      "text/plain": [
       "array([[[  6.91724044,  30.60603833],\n",
       "        [-11.45485556,  -1.87437116],\n",
       "        [ 51.06110745,  40.73824532],\n",
       "        [ 22.60496762,  31.18595592]],\n",
       "\n",
       "       [[-12.72174091,  14.76509374],\n",
       "        [ 16.92633459,  14.60919513],\n",
       "        [ -5.46091128,  -6.88332456],\n",
       "        [-22.81521041,  14.52245678]],\n",
       "\n",
       "       [[ -2.59748117,  55.39409837],\n",
       "        [  7.22207971,  -2.37797262],\n",
       "        [ -1.50777056,   0.10356204],\n",
       "        [ 33.2545539 ,  -8.29024619]]])"
      ]
     },
     "execution_count": 24,
     "metadata": {},
     "output_type": "execute_result"
    }
   ],
   "source": [
    "np.random.normal(10,20,(3,4,2))"
   ]
  },
  {
   "cell_type": "code",
   "execution_count": 25,
   "metadata": {},
   "outputs": [
    {
     "data": {
      "text/plain": [
       "array([[[2, 5, 3],\n",
       "        [3, 8, 2],\n",
       "        [2, 4, 7],\n",
       "        [3, 8, 5]],\n",
       "\n",
       "       [[8, 8, 8],\n",
       "        [3, 3, 1],\n",
       "        [2, 6, 3],\n",
       "        [8, 7, 2]]])"
      ]
     },
     "execution_count": 25,
     "metadata": {},
     "output_type": "execute_result"
    }
   ],
   "source": [
    "my_array = np.random.randint(0,10,(2,4,3))\n",
    "my_array"
   ]
  },
  {
   "cell_type": "code",
   "execution_count": 26,
   "metadata": {},
   "outputs": [
    {
     "data": {
      "text/plain": [
       "array([[[3, 3, 3],\n",
       "        [3, 3, 3],\n",
       "        [3, 3, 3],\n",
       "        [3, 3, 3]],\n",
       "\n",
       "       [[3, 3, 3],\n",
       "        [3, 3, 3],\n",
       "        [3, 3, 3],\n",
       "        [3, 3, 3]]])"
      ]
     },
     "execution_count": 26,
     "metadata": {},
     "output_type": "execute_result"
    }
   ],
   "source": [
    "np.full_like(my_array, 3)"
   ]
  },
  {
   "cell_type": "code",
   "execution_count": 27,
   "metadata": {},
   "outputs": [
    {
     "data": {
      "text/plain": [
       "1"
      ]
     },
     "execution_count": 27,
     "metadata": {},
     "output_type": "execute_result"
    }
   ],
   "source": [
    "my_array[1,1,2]"
   ]
  },
  {
   "cell_type": "code",
   "execution_count": 28,
   "metadata": {},
   "outputs": [
    {
     "name": "stdout",
     "output_type": "stream",
     "text": [
      "a:\n",
      " [[0 1 2]\n",
      " [3 4 5]\n",
      " [6 7 8]]\n",
      "sub a:\n",
      " [[4 5]\n",
      " [7 8]]\n",
      "sub a:\n",
      " [[10  5]\n",
      " [ 7  8]]\n",
      "a:\n",
      " [[ 0  1  2]\n",
      " [ 3 10  5]\n",
      " [ 6  7  8]]\n"
     ]
    }
   ],
   "source": [
    "a = np.array([[0, 1, 2],\n",
    "              [3, 4, 5],\n",
    "              [6, 7, 8]])\n",
    "print('a:\\n', a)\n",
    "sub_a = a[1:3, 1:]\n",
    "print('sub a:\\n',sub_a)\n",
    "sub_a[0, 0] = 10\n",
    "print('sub a:\\n', sub_a)\n",
    "print('a:\\n',a)"
   ]
  },
  {
   "cell_type": "code",
   "execution_count": 29,
   "metadata": {},
   "outputs": [
    {
     "name": "stdout",
     "output_type": "stream",
     "text": [
      "a:\n",
      " [[0 1 2]\n",
      " [3 4 5]\n",
      " [6 7 8]]\n",
      "sub a:\n",
      " [[7 8]]\n",
      "sub a:\n",
      " [[10  8]]\n",
      "[[0 1 2]\n",
      " [3 4 5]\n",
      " [6 7 8]]\n"
     ]
    }
   ],
   "source": [
    "a = np.array([[0, 1, 2],\n",
    "              [3, 4, 5],\n",
    "              [6, 7, 8]])\n",
    "print(\"a:\\n\", a)\n",
    "sub_copy_a = a[2:4, 1:].copy()\n",
    "print(\"sub a:\\n\", sub_copy_a)\n",
    "sub_copy_a[0, 0] = 10\n",
    "print(\"sub a:\\n\", sub_copy_a)\n",
    "print(a)"
   ]
  },
  {
   "cell_type": "code",
   "execution_count": 30,
   "metadata": {},
   "outputs": [
    {
     "name": "stdout",
     "output_type": "stream",
     "text": [
      "Before:\n",
      " [ 0  1  3  5  7  9 11 13 15 17 19 21 23 25 27 29]\n",
      "After:\n",
      " [[ 0  1  3  5]\n",
      " [ 7  9 11 13]\n",
      " [15 17 19 21]\n",
      " [23 25 27 29]]\n"
     ]
    }
   ],
   "source": [
    "before = np.linspace(0,29,16,dtype=np.uint8)\n",
    "print(\"Before:\\n\", before)\n",
    "after = before.reshape(4,4)\n",
    "print(\"After:\\n\", after)\n"
   ]
  },
  {
   "cell_type": "code",
   "execution_count": 31,
   "metadata": {},
   "outputs": [
    {
     "name": "stdout",
     "output_type": "stream",
     "text": [
      "Before:\n",
      " [1 2 3 4 5 6 7 8 9]\n",
      "After:\n",
      " [[1 2 3]\n",
      " [4 5 6]\n",
      " [7 8 9]]\n"
     ]
    }
   ],
   "source": [
    "before = np.arange(1,10)\n",
    "print(\"Before:\\n\", before)\n",
    "after = before.reshape(3,3)\n",
    "print(\"After:\\n\", after)"
   ]
  },
  {
   "cell_type": "code",
   "execution_count": 32,
   "metadata": {},
   "outputs": [
    {
     "name": "stdout",
     "output_type": "stream",
     "text": [
      "Before:\n",
      " [ 0  1  2  3  4  5  6  7  8  9 10 11 12 13 14 15 16 17 18 19 20 21 22 23\n",
      " 24 25 26 27 28 29]\n",
      "After:\n",
      " [[[ 0  1  2]\n",
      "  [ 3  4  5]\n",
      "  [ 6  7  8]\n",
      "  [ 9 10 11]\n",
      "  [12 13 14]]\n",
      "\n",
      " [[15 16 17]\n",
      "  [18 19 20]\n",
      "  [21 22 23]\n",
      "  [24 25 26]\n",
      "  [27 28 29]]]\n"
     ]
    }
   ],
   "source": [
    "before = np.arange(30)\n",
    "print(\"Before:\\n\", before)\n",
    "after = before.reshape(2,5,-1)\n",
    "print(\"After:\\n\", after)"
   ]
  },
  {
   "cell_type": "code",
   "execution_count": 33,
   "metadata": {},
   "outputs": [
    {
     "name": "stdout",
     "output_type": "stream",
     "text": [
      "Before:\n",
      " [[[0 0 1]\n",
      "  [0 1 1]\n",
      "  [1 1 1]\n",
      "  [0 0 1]]\n",
      "\n",
      " [[1 0 1]\n",
      "  [1 0 1]\n",
      "  [0 1 0]\n",
      "  [0 1 1]]]\n",
      "After:\n",
      " [0 0 1 0 1 1 1 1 1 0 0 1 1 0 1 1 0 1 0 1 0 0 1 1]\n"
     ]
    }
   ],
   "source": [
    "before = np.random.randint(low=0,high=2,size=(2,4,3))\n",
    "print(\"Before:\\n\", before)\n",
    "after = before.reshape(-1)\n",
    "print(\"After:\\n\", after)"
   ]
  },
  {
   "cell_type": "code",
   "execution_count": 34,
   "metadata": {},
   "outputs": [
    {
     "name": "stdout",
     "output_type": "stream",
     "text": [
      "12\n",
      "(4, 3)\n",
      "2\n",
      "[[1]\n",
      " [4]]\n",
      "[1 4]\n"
     ]
    }
   ],
   "source": [
    "\n",
    "a = np.array([[0, 1, 2],\n",
    "             [3, 4, 5],\n",
    "             [6, 7, 8],\n",
    "             [9, 10, 11]])\n",
    "print(a.size)\n",
    "print(a.shape)\n",
    "print(a.ndim)\n",
    "print(a[:2, 1:2])\n",
    "print(a[:2, 1])"
   ]
  },
  {
   "cell_type": "markdown",
   "metadata": {},
   "source": [
    "## Transpose\n",
    "<img src=\"https://quera.org/qbox/view/xfWkJ9uk6z/transpose.gif\" alt=\"...\">"
   ]
  },
  {
   "cell_type": "code",
   "execution_count": 35,
   "metadata": {},
   "outputs": [
    {
     "name": "stdout",
     "output_type": "stream",
     "text": [
      "[[0 1 2]\n",
      " [3 4 5]] \n",
      "\n",
      "[[0 3]\n",
      " [1 4]\n",
      " [2 5]] \n",
      "\n",
      "[[0 3]\n",
      " [1 4]\n",
      " [2 5]] \n",
      "\n"
     ]
    }
   ],
   "source": [
    "a = np.arange(6).reshape(2,3)\n",
    "print(a,'\\n')\n",
    "print(a.T,'\\n')\n",
    "print(np.transpose(a),'\\n')"
   ]
  },
  {
   "cell_type": "code",
   "execution_count": 36,
   "metadata": {},
   "outputs": [
    {
     "name": "stdout",
     "output_type": "stream",
     "text": [
      "[[[ 0  1  2  3]\n",
      "  [ 4  5  6  7]\n",
      "  [ 8  9 10 11]]\n",
      "\n",
      " [[12 13 14 15]\n",
      "  [16 17 18 19]\n",
      "  [20 21 22 23]]] \n",
      "-----------\n",
      "[[[ 0 12]\n",
      "  [ 1 13]\n",
      "  [ 2 14]\n",
      "  [ 3 15]]\n",
      "\n",
      " [[ 4 16]\n",
      "  [ 5 17]\n",
      "  [ 6 18]\n",
      "  [ 7 19]]\n",
      "\n",
      " [[ 8 20]\n",
      "  [ 9 21]\n",
      "  [10 22]\n",
      "  [11 23]]]\n"
     ]
    }
   ],
   "source": [
    "a = np.arange(24).reshape(2, 3, 4)\n",
    "print(a,'\\n-----------')\n",
    "print(a.transpose(1,2,0))"
   ]
  },
  {
   "cell_type": "code",
   "execution_count": 37,
   "metadata": {},
   "outputs": [
    {
     "name": "stdout",
     "output_type": "stream",
     "text": [
      "[[[ 0  1]\n",
      "  [ 2  3]\n",
      "  [ 4  5]\n",
      "  [ 6  7]]\n",
      "\n",
      " [[ 8  9]\n",
      "  [10 11]\n",
      "  [12 13]\n",
      "  [14 15]]\n",
      "\n",
      " [[16 17]\n",
      "  [18 19]\n",
      "  [20 21]\n",
      "  [22 23]]] \n",
      "-------\n",
      "[[[ 0  1]\n",
      "  [ 8  9]\n",
      "  [16 17]]\n",
      "\n",
      " [[ 2  3]\n",
      "  [10 11]\n",
      "  [18 19]]\n",
      "\n",
      " [[ 4  5]\n",
      "  [12 13]\n",
      "  [20 21]]\n",
      "\n",
      " [[ 6  7]\n",
      "  [14 15]\n",
      "  [22 23]]]\n"
     ]
    }
   ],
   "source": [
    "a = np.arange(24).reshape(3,4,2)\n",
    "print(a,'\\n-------')\n",
    "print(a.swapaxes(0,1)) # zero dimension which is 3 / first dimension which is 4"
   ]
  },
  {
   "cell_type": "code",
   "execution_count": 38,
   "metadata": {},
   "outputs": [
    {
     "name": "stdout",
     "output_type": "stream",
     "text": [
      "[[[ 0  1]\n",
      "  [ 2  3]\n",
      "  [ 4  5]\n",
      "  [ 6  7]]\n",
      "\n",
      " [[ 8  9]\n",
      "  [10 11]\n",
      "  [12 13]\n",
      "  [14 15]]\n",
      "\n",
      " [[16 17]\n",
      "  [18 19]\n",
      "  [20 21]\n",
      "  [22 23]]]\n",
      "-----------\n",
      "[[[ 0  8 16]\n",
      "  [ 2 10 18]\n",
      "  [ 4 12 20]\n",
      "  [ 6 14 22]]\n",
      "\n",
      " [[ 1  9 17]\n",
      "  [ 3 11 19]\n",
      "  [ 5 13 21]\n",
      "  [ 7 15 23]]]\n"
     ]
    }
   ],
   "source": [
    "a = np.arange(24).reshape(3,4,2)\n",
    "print(a)\n",
    "print('-----------')\n",
    "b = a.swapaxes(0,2)\n",
    "print(b)"
   ]
  },
  {
   "cell_type": "markdown",
   "metadata": {},
   "source": [
    "## Concatenate\n",
    "<img src=\"https://quera.org/qbox/view/Yw0nPkHTuR/concatenate.gif\">"
   ]
  },
  {
   "cell_type": "code",
   "execution_count": 39,
   "metadata": {},
   "outputs": [
    {
     "name": "stdout",
     "output_type": "stream",
     "text": [
      "[[ 0  1  2]\n",
      " [ 3  4  5]\n",
      " [ 7  8  9]\n",
      " [10 11 12]]\n",
      "----------\n",
      "[ 0  1  2  3  4  5  7  8  9 10 11 12]\n",
      "----------\n",
      "[[ 0  1  2  7  8  9]\n",
      " [ 3  4  5 10 11 12]]\n",
      "----------\n",
      "[[ 0  1  2]\n",
      " [ 3  4  5]\n",
      " [ 7  8  9]\n",
      " [10 11 12]]\n"
     ]
    }
   ],
   "source": [
    "a = np.arange(6).reshape(2,3)\n",
    "b = np.arange(7,13).reshape(2,3)\n",
    "print(np.concatenate((a,b)))\n",
    "print(\"----------\")\n",
    "print(np.concatenate((a,b), axis=None))\n",
    "print(\"----------\")\n",
    "print(np.concatenate((a,b), axis=1))\n",
    "print(\"----------\")\n",
    "print(np.concatenate((a,b), axis=0))\n"
   ]
  },
  {
   "cell_type": "markdown",
   "metadata": {},
   "source": [
    "## Split\n",
    "\n",
    "<img src=\"https://quera.org/qbox/view/SHhG2Vh91J/split.png\" alt=\"...\" style=\"width:800px;\">"
   ]
  },
  {
   "cell_type": "code",
   "execution_count": 40,
   "metadata": {},
   "outputs": [
    {
     "data": {
      "text/plain": [
       "[array([1, 2, 3, 4, 5]),\n",
       " array([ 6,  7,  8,  9, 10]),\n",
       " array([11, 12, 13, 14, 15]),\n",
       " array([16, 17, 18, 19, 20])]"
      ]
     },
     "execution_count": 40,
     "metadata": {},
     "output_type": "execute_result"
    }
   ],
   "source": [
    "a = np.arange(1,21)\n",
    "np.split(a, [5,10,15])"
   ]
  },
  {
   "cell_type": "code",
   "execution_count": 41,
   "metadata": {},
   "outputs": [
    {
     "name": "stdout",
     "output_type": "stream",
     "text": [
      "[[ 0  1  2  3  4  5]\n",
      " [ 6  7  8  9 10 11]] \n",
      "---------\n",
      " [[12 13 14 15 16 17]\n",
      " [18 19 20 21 22 23]] \n",
      "---------\n",
      "[[ 0  1]\n",
      " [ 6  7]\n",
      " [12 13]\n",
      " [18 19]] \n",
      "---------\n",
      " [[ 2  3]\n",
      " [ 8  9]\n",
      " [14 15]\n",
      " [20 21]] \n",
      "---------\n",
      " [[ 4  5]\n",
      " [10 11]\n",
      " [16 17]\n",
      " [22 23]]\n"
     ]
    }
   ],
   "source": [
    "a = np.arange(24).reshape(4,6)\n",
    "b,c = np.split(a,2,axis=0)\n",
    "d,e,f = np.split(a,3,axis=1)\n",
    "print(b,'\\n---------\\n',c,'\\n---------')\n",
    "print(d,'\\n---------\\n',e,'\\n---------\\n',f)"
   ]
  },
  {
   "cell_type": "code",
   "execution_count": 42,
   "metadata": {},
   "outputs": [
    {
     "name": "stdout",
     "output_type": "stream",
     "text": [
      "a :\n",
      " [[0 3 5 3]\n",
      " [4 8 6 7]\n",
      " [4 8 0 0]]\n",
      "b :\n",
      " [[2 2 2 4]\n",
      " [9 5 1 6]\n",
      " [1 1 5 4]]\n",
      "SUM:\n",
      "[[ 2  5  7  7]\n",
      " [13 13  7 13]\n",
      " [ 5  9  5  4]]\n"
     ]
    }
   ],
   "source": [
    "a = np.random.randint(0, 10, (3,4))\n",
    "b = np.random.randint(0, 10, (3,4)) \n",
    "print('a :\\n', a)\n",
    "print('b :\\n', b)\n",
    "\n",
    "def cal_sum(a, b) :\n",
    "    output = np.empty(a.shape, dtype='int_')\n",
    "    for i in range(len(a)):\n",
    "        output[i] = a[i] + b[i]\n",
    "    return output\n",
    "print(\"SUM:\")\n",
    "print(cal_sum(a, b))"
   ]
  },
  {
   "cell_type": "markdown",
   "metadata": {},
   "source": [
    "## Binary Universal Functions\n",
    "\n",
    "- #### add\n",
    "  ```python\n",
    "  np.add(a,b)\n",
    "  ```\n",
    "- #### subtract\n",
    "    ```python\n",
    "  np.subtract(a,b)\n",
    "  ```\n",
    "- #### multiply\n",
    "    ```python\n",
    "  np.multiply(a,b)\n",
    "  ```\n",
    "- #### divide\n",
    "    ```python\n",
    "  np.divide(a,b)\n",
    "  ```"
   ]
  },
  {
   "cell_type": "code",
   "execution_count": 43,
   "metadata": {},
   "outputs": [
    {
     "name": "stdout",
     "output_type": "stream",
     "text": [
      "[[ 5  4  9  5  8]\n",
      " [ 1 10  3  8  0]\n",
      " [ 8  1  9  3  2]\n",
      " [ 3  5  7  8  4]]\n",
      "\n",
      "[[ 1 10  4  3  5]\n",
      " [ 8  3  1  8  3]\n",
      " [10  8 10  4  1]\n",
      " [ 1 10  4  9  5]]\n",
      "\n",
      "[[ 6 14 13  8 13]\n",
      " [ 9 13  4 16  3]\n",
      " [18  9 19  7  3]\n",
      " [ 4 15 11 17  9]] \n",
      "--------------\n",
      "[[ 4 -6  5  2  3]\n",
      " [-7  7  2  0 -3]\n",
      " [-2 -7 -1 -1  1]\n",
      " [ 2 -5  3 -1 -1]] \n",
      "------------\n",
      "[[ 5 40 36 15 40]\n",
      " [ 8 30  3 64  0]\n",
      " [80  8 90 12  2]\n",
      " [ 3 50 28 72 20]] \n",
      "------------\n",
      "[[5.     0.4    2.25   1.667  1.6   ]\n",
      " [0.125  3.334  3.     1.     0.    ]\n",
      " [0.8    0.125  0.9    0.75   2.    ]\n",
      " [3.     0.5    1.75   0.8887 0.8   ]]\n"
     ]
    }
   ],
   "source": [
    "a = np.random.randint(0,11,(4,5))\n",
    "b = np.random.randint(1,11,(4,5))\n",
    " \n",
    "print(a)\n",
    "print()\n",
    "print(b)\n",
    "print()\n",
    "print(np.add(a,b),'\\n--------------')\n",
    "print(np.subtract(a,b),'\\n------------')\n",
    "print(np.multiply(a,b),'\\n------------')\n",
    "print(np.divide(a,b,dtype=np.float16))\n"
   ]
  },
  {
   "cell_type": "markdown",
   "metadata": {},
   "source": [
    "## Unary Universal Functions\n",
    "\n",
    "- #### abs\n",
    "  ```python\n",
    "  np.abs(a)\n",
    "  ```\n",
    "- #### sqrt\n",
    "    ```python\n",
    "  np.sqrt(a)\n",
    "  ```\n",
    "- #### square\n",
    "    ```python\n",
    "  np.square(a)\n",
    "  ```\n",
    "- #### isnan\n",
    "    ```python\n",
    "  np.isnan(a)\n",
    "  ```"
   ]
  },
  {
   "cell_type": "code",
   "execution_count": 2,
   "metadata": {},
   "outputs": [
    {
     "name": "stdout",
     "output_type": "stream",
     "text": [
      "[[  2   9   6]\n",
      " [ -3   3   4]\n",
      " [ -4  -3 -10]]\n",
      "\n",
      "[[  4  81  36]\n",
      " [  9   9  16]\n",
      " [ 16   9 100]] \n",
      "--------------\n",
      "[[ 2  9  6]\n",
      " [ 3  3  4]\n",
      " [ 4  3 10]] \n",
      "------------\n",
      "[[False False False]\n",
      " [False False False]\n",
      " [False False False]] \n",
      "------------\n",
      "[[1.414 3.    2.45 ]\n",
      " [  nan 1.732 2.   ]\n",
      " [  nan   nan   nan]]\n"
     ]
    }
   ],
   "source": [
    "a = np.random.randint(-10,10,(3,3))\n",
    "print(a)\n",
    "print()\n",
    "print(np.square(a),'\\n--------------')\n",
    "print(np.abs(a),'\\n------------')\n",
    "print(np.isnan(a),'\\n------------')\n",
    "np.seterr(invalid=\"ignore\")\n",
    "print(np.sqrt(a,dtype=np.float16))"
   ]
  },
  {
   "cell_type": "markdown",
   "metadata": {},
   "source": [
    "## Aggregation Functions\n",
    "\n",
    "- #### sum\n",
    "  ```python\n",
    "  np.sum(a)\n",
    "\n",
    "  a.sum()\n",
    "  ```\n",
    "- #### max\n",
    "  ```python\n",
    "  np.max(a)\n",
    "\n",
    "  a.max()\n",
    "  ```\n",
    "- #### min\n",
    "  ```python\n",
    "  np.min(a)\n",
    "\n",
    "  a.min()\n",
    "  ```\n",
    "- #### std (standard deviation)\n",
    "  ```python\n",
    "  np.std(a)\n",
    "\n",
    "  a.std()\n",
    "  ```\n",
    "\n",
    "- #### mean\n",
    "  ```python\n",
    "  np.mean(a)\n",
    "\n",
    "  a.mean()\n",
    "  ```\n",
    "\n",
    "- #### percentile\n",
    "  ```python\n",
    "  np.percentile(a, 0 to 100, axis=...)\n",
    "\n",
    "  ```\n",
    "\n",
    "  <img src=\"https://quera.org/qbox/view/sfVrSgbDvL/sum.gif\" alt=\"...\">"
   ]
  },
  {
   "cell_type": "code",
   "execution_count": 10,
   "metadata": {},
   "outputs": [
    {
     "name": "stdout",
     "output_type": "stream",
     "text": [
      "Iran vs Spain\n",
      "Mean height: [184.63636364 179.63636364]\n",
      "Standard deviation: [4.79152144 8.91650897]\n",
      "------------------\n",
      "Iran vs Spain\n",
      "Mean height: [184.63636364 179.63636364]\n",
      "Standard deviation: [4.79152144 8.91650897]\n"
     ]
    }
   ],
   "source": [
    "heights = np.array([[194, 185, 183, 184, 178, 178, 190, 187, 187, 179, 186], \n",
    "                    [192, 173, 194, 184, 170, 189, 170, 170, 176, 173, 185]])\n",
    "print('Iran vs Spain')\n",
    "print('Mean height:', heights.mean(axis=1))\n",
    "print('Standard deviation:', heights.std(axis=1))\n",
    "print(\"------------------\")\n",
    "new_heights = heights.T\n",
    "print('Iran vs Spain')\n",
    "print('Mean height:', new_heights.mean(axis=0))\n",
    "print('Standard deviation:', new_heights.std(axis=0))"
   ]
  },
  {
   "cell_type": "code",
   "execution_count": 11,
   "metadata": {},
   "outputs": [
    {
     "name": "stdout",
     "output_type": "stream",
     "text": [
      "Min: [178 170]\n",
      "25th percentile: [181.  171.5]\n",
      "Median: [185. 176.]\n",
      "75th percentile: [187. 187.]\n",
      "Max: [194 194]\n"
     ]
    }
   ],
   "source": [
    "print('Min:', np.min(heights, axis=1)) \n",
    "print('25th percentile:', np.percentile(heights, 25, axis=1)) \n",
    "print('Median:', np.median(heights, axis=1))\n",
    "print('75th percentile:', np.percentile(heights, 75, axis=1))\n",
    "print('Max:', np.max(heights, axis=1))"
   ]
  }
 ],
 "metadata": {
  "kernelspec": {
   "display_name": "Python 3 (ipykernel)",
   "language": "python",
   "name": "python3"
  },
  "language_info": {
   "codemirror_mode": {
    "name": "ipython",
    "version": 3
   },
   "file_extension": ".py",
   "mimetype": "text/x-python",
   "name": "python",
   "nbconvert_exporter": "python",
   "pygments_lexer": "ipython3",
   "version": "3.10.12"
  }
 },
 "nbformat": 4,
 "nbformat_minor": 4
}
