{
 "cells": [
  {
   "cell_type": "markdown",
   "id": "af208b81",
   "metadata": {},
   "source": [
    "<h1 align=center style=\"line-height:200%;font-family:vazir;color:#0099cc\">\n",
    "<font face=\"vazir\" color=\"#0099cc\">\n",
    "مقایسه و منطق بولی\n",
    "</font>\n",
    "</h1>\n"
   ]
  },
  {
   "cell_type": "code",
   "execution_count": 1,
   "id": "7a28e5fc",
   "metadata": {},
   "outputs": [],
   "source": [
    "import numpy as np"
   ]
  },
  {
   "cell_type": "code",
   "execution_count": null,
   "id": "965cb832",
   "metadata": {},
   "outputs": [],
   "source": [
    "a = np.array([2, 13, -5, -3, 19, -17])\n",
    "a < 7 # سمت راست مقایسه به شکل یک آرایه (,6) با مقادیر 7 در می‌آید"
   ]
  },
  {
   "cell_type": "code",
   "execution_count": null,
   "id": "de3e8539",
   "metadata": {},
   "outputs": [],
   "source": [
    "a == np.sqrt(a ** 2)  # دو سمت مقایسه می‌توانند هم‌نوع نباشند اما مقایسه‌پذیر باشند"
   ]
  },
  {
   "cell_type": "code",
   "execution_count": null,
   "id": "282c01b9",
   "metadata": {},
   "outputs": [],
   "source": [
    "t = np.array([[10, 12, 11, 17, 15, 11, 14],\n",
    "             [13, 15, 18, 21, 19, 18, 17],\n",
    "             [18, 20, 21, 19, 23, 24, 22],\n",
    "             [20, 23, 19, 21, 25, 22, 21]])"
   ]
  },
  {
   "cell_type": "code",
   "execution_count": null,
   "id": "c43deddb",
   "metadata": {},
   "outputs": [],
   "source": [
    "t > 20 # خروجی یک آرایه (7 ,4) با مقادیر بولی است"
   ]
  },
  {
   "cell_type": "code",
   "execution_count": null,
   "id": "7eedfa67",
   "metadata": {},
   "outputs": [],
   "source": [
    "np.count_nonzero(t > 20)"
   ]
  },
  {
   "cell_type": "code",
   "execution_count": null,
   "id": "6875cfb7",
   "metadata": {},
   "outputs": [],
   "source": [
    "np.sum(t > 20, axis=1)"
   ]
  },
  {
   "cell_type": "code",
   "execution_count": null,
   "id": "f1afc503",
   "metadata": {},
   "outputs": [],
   "source": [
    "np.any(t > 30)"
   ]
  },
  {
   "cell_type": "code",
   "execution_count": null,
   "id": "65401c86",
   "metadata": {},
   "outputs": [],
   "source": [
    "np.all(t >= 10)"
   ]
  },
  {
   "cell_type": "code",
   "execution_count": null,
   "id": "c1b6179f",
   "metadata": {},
   "outputs": [],
   "source": [
    "np.sum((t >= 15) & (t <= 20))"
   ]
  },
  {
   "cell_type": "code",
   "execution_count": null,
   "id": "f7d50335",
   "metadata": {},
   "outputs": [],
   "source": [
    "np.sum(~((t < 15) | (t > 20)))"
   ]
  }
 ],
 "metadata": {
  "interpreter": {
   "hash": "23a6b913c5c0dcb48130fb95bc8c7b084c5a812df45cbb14e417b737a9d4ee46"
  },
  "kernelspec": {
   "display_name": "Python 3 (ipykernel)",
   "language": "python",
   "name": "python3"
  },
  "language_info": {
   "codemirror_mode": {
    "name": "ipython",
    "version": 3
   },
   "file_extension": ".py",
   "mimetype": "text/x-python",
   "name": "python",
   "nbconvert_exporter": "python",
   "pygments_lexer": "ipython3",
   "version": "3.10.12"
  }
 },
 "nbformat": 4,
 "nbformat_minor": 5
}
