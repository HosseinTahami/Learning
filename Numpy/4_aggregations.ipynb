{
 "cells": [
  {
   "cell_type": "markdown",
   "id": "df94a6e9",
   "metadata": {},
   "source": [
    "<h1 align=center style=\"line-height:200%;font-family:vazir;color:#0099cc\">\n",
    "<font face=\"vazir\" color=\"#0099cc\">\n",
    "    توابع تجمیعی\n",
    "</font>\n",
    "</h1>"
   ]
  },
  {
   "cell_type": "code",
   "execution_count": 1,
   "id": "f8b13b3d",
   "metadata": {},
   "outputs": [],
   "source": [
    "import numpy as np\n",
    "np.random.seed(1400)"
   ]
  },
  {
   "cell_type": "code",
   "execution_count": 2,
   "id": "467feead",
   "metadata": {},
   "outputs": [
    {
     "name": "stdout",
     "output_type": "stream",
     "text": [
      "[5 1 7 8 5 8 1 8 3 8 9 8 4 1 4 4 1 7 3 1]\n",
      "sum = 96\n",
      "min = 1\n",
      "max = 9\n"
     ]
    }
   ],
   "source": [
    "a = np.random.randint(0, 10, 20)\n",
    "print(a)\n",
    "print('sum =', np.sum(a))\n",
    "print('min =', np.min(a))\n",
    "print('max =', np.max(a))"
   ]
  },
  {
   "cell_type": "code",
   "execution_count": 3,
   "id": "8ed7bd9c",
   "metadata": {},
   "outputs": [
    {
     "name": "stdout",
     "output_type": "stream",
     "text": [
      "1 9 96\n"
     ]
    }
   ],
   "source": [
    "print(a.min(), a.max(), a.sum())"
   ]
  },
  {
   "cell_type": "code",
   "execution_count": 4,
   "id": "0c821b46",
   "metadata": {},
   "outputs": [
    {
     "name": "stdout",
     "output_type": "stream",
     "text": [
      "119 ms ± 23.7 ms per loop (mean ± std. dev. of 7 runs, 10 loops each)\n",
      "454 µs ± 8.79 µs per loop (mean ± std. dev. of 7 runs, 1,000 loops each)\n"
     ]
    }
   ],
   "source": [
    "big_array = np.random.rand(1000*1000)\n",
    "%timeit sum(big_array)\n",
    "%timeit np.sum(big_array)"
   ]
  },
  {
   "cell_type": "code",
   "execution_count": 5,
   "id": "6387886b",
   "metadata": {},
   "outputs": [
    {
     "name": "stdout",
     "output_type": "stream",
     "text": [
      "[[6 5 4 2]\n",
      " [0 1 4 5]\n",
      " [0 3 1 9]]\n"
     ]
    }
   ],
   "source": [
    "a = np.random.randint(0, 10, (3, 4))\n",
    "print(a)"
   ]
  },
  {
   "cell_type": "code",
   "execution_count": 6,
   "id": "88e05b80",
   "metadata": {},
   "outputs": [
    {
     "data": {
      "text/plain": [
       "40"
      ]
     },
     "execution_count": 6,
     "metadata": {},
     "output_type": "execute_result"
    }
   ],
   "source": [
    "a.sum()"
   ]
  },
  {
   "cell_type": "code",
   "execution_count": 7,
   "id": "d1feb9ab",
   "metadata": {},
   "outputs": [
    {
     "data": {
      "text/plain": [
       "array([0, 1, 1, 2])"
      ]
     },
     "execution_count": 7,
     "metadata": {},
     "output_type": "execute_result"
    }
   ],
   "source": [
    "a.min(axis=0)"
   ]
  },
  {
   "cell_type": "code",
   "execution_count": 8,
   "id": "497b8378",
   "metadata": {},
   "outputs": [
    {
     "data": {
      "text/plain": [
       "array([6, 5, 9])"
      ]
     },
     "execution_count": 8,
     "metadata": {},
     "output_type": "execute_result"
    }
   ],
   "source": [
    "a.max(axis=1)"
   ]
  },
  {
   "cell_type": "code",
   "execution_count": 9,
   "id": "43881534",
   "metadata": {},
   "outputs": [
    {
     "name": "stdout",
     "output_type": "stream",
     "text": [
      "Iran vs Spain\n",
      "Mean height: [184.63636364 179.63636364]\n",
      "Standard deviation: [4.79152144 8.91650897]\n"
     ]
    }
   ],
   "source": [
    "heights = np.array([[194, 185, 183, 184, 178, 178, 190, 187, 187, 179, 186], \n",
    "                    [192, 173, 194, 184, 170, 189, 170, 170, 176, 173, 185]])\n",
    "print('Iran vs Spain')\n",
    "print('Mean height:', heights.mean(axis=1))\n",
    "print('Standard deviation:', heights.std(axis=1))"
   ]
  },
  {
   "cell_type": "code",
   "execution_count": 10,
   "id": "29b207c9",
   "metadata": {},
   "outputs": [
    {
     "name": "stdout",
     "output_type": "stream",
     "text": [
      "Min: [178 170]\n",
      "25th percentile: [181.  171.5]\n",
      "Median: [185. 176.]\n",
      "75th percentile: [187. 187.]\n",
      "Max: [194 194]\n"
     ]
    }
   ],
   "source": [
    "print('Min:', np.min(heights, axis=1)) \n",
    "print('25th percentile:', np.percentile(heights, 25, axis=1)) \n",
    "print('Median:', np.median(heights, axis=1))\n",
    "print('75th percentile:', np.percentile(heights, 75, axis=1))\n",
    "print('Max:', np.max(heights, axis=1))"
   ]
  },
  {
   "cell_type": "code",
   "execution_count": 11,
   "id": "af992cd7",
   "metadata": {},
   "outputs": [
    {
     "data": {
      "text/plain": [
       "3"
      ]
     },
     "execution_count": 11,
     "metadata": {},
     "output_type": "execute_result"
    }
   ],
   "source": [
    "b = np.array([8,3,5,9,2,6,4])\n",
    "np.argmax(b)"
   ]
  },
  {
   "cell_type": "code",
   "execution_count": 12,
   "id": "c836a0a4",
   "metadata": {},
   "outputs": [
    {
     "data": {
      "text/plain": [
       "4"
      ]
     },
     "execution_count": 12,
     "metadata": {},
     "output_type": "execute_result"
    }
   ],
   "source": [
    "np.argmin(b)"
   ]
  }
 ],
 "metadata": {
  "kernelspec": {
   "display_name": "Python 3 (ipykernel)",
   "language": "python",
   "name": "python3"
  },
  "language_info": {
   "codemirror_mode": {
    "name": "ipython",
    "version": 3
   },
   "file_extension": ".py",
   "mimetype": "text/x-python",
   "name": "python",
   "nbconvert_exporter": "python",
   "pygments_lexer": "ipython3",
   "version": "3.10.12"
  }
 },
 "nbformat": 4,
 "nbformat_minor": 5
}
