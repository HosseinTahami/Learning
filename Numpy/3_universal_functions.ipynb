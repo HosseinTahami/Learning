{
 "cells": [
  {
   "cell_type": "markdown",
   "id": "a421c817",
   "metadata": {},
   "source": [
    "<h1 align=center style=\"line-height:200%;font-family:vazir;color:#0099cc\">\n",
    "<font face=\"vazir\" color=\"#0099cc\">\n",
    "    توابع عمومی\n",
    "</font>\n",
    "</h1>"
   ]
  },
  {
   "cell_type": "code",
   "execution_count": null,
   "id": "a4b1ce84",
   "metadata": {},
   "outputs": [],
   "source": [
    "import numpy as np\n",
    "np.random.seed(1400)"
   ]
  },
  {
   "cell_type": "code",
   "execution_count": null,
   "id": "7e89ed02",
   "metadata": {},
   "outputs": [],
   "source": [
    "a = np.random.randint(0, 10, 4) # آرایه‌ای شامل 4 عضو تصادفی در بازه 0 تا 9 \n",
    "b = np.random.randint(0, 10, 4) # آرایه‌ای شامل 4 عضو تصادفی در بازه 0 تا 9 \n",
    "print('a =', a)\n",
    "print('b =', b)\n",
    "\n",
    "def cal_sum(a,b) :\n",
    "    output = np.empty(len(a), dtype='int_')\n",
    "    for i in range(len(a)):\n",
    "        output[i] = a[i] + b[i]\n",
    "    return output\n",
    "\n",
    "print(cal_sum(a, b))"
   ]
  },
  {
   "cell_type": "code",
   "execution_count": null,
   "id": "d9a4b298",
   "metadata": {},
   "outputs": [],
   "source": [
    "big_size = 10*1000*1000\n",
    "a = np.random.randint(0, 10, big_size) \n",
    "b = np.random.randint(0, 10, big_size) \n",
    "%timeit cal_sum(a, b)"
   ]
  },
  {
   "cell_type": "code",
   "execution_count": null,
   "id": "15104f11",
   "metadata": {},
   "outputs": [],
   "source": [
    "%timeit np.add(a, b) "
   ]
  },
  {
   "cell_type": "code",
   "execution_count": null,
   "id": "7d69065f",
   "metadata": {},
   "outputs": [],
   "source": [
    "a = np.random.randint(0, 10, 4) \n",
    "b = np.random.randint(0, 10, 4) \n",
    "print(np.add(a, b)) # قالب قبلی\n",
    "print(a + b) # استفاده از عملگر معادل"
   ]
  },
  {
   "cell_type": "code",
   "execution_count": null,
   "id": "06aab359",
   "metadata": {},
   "outputs": [],
   "source": [
    "a = np.array([0, 1, 2, 3])\n",
    "b = np.array([-2, 10, 1, 5])\n",
    "print('a + b =', np.add(a, b)) \n",
    "print('a + b =', a + b) # است a + b معادل np.add(a, b)"
   ]
  },
  {
   "cell_type": "code",
   "execution_count": null,
   "id": "f4f647cd",
   "metadata": {},
   "outputs": [],
   "source": [
    "print('a - b =', np.subtract(a, b)) \n",
    "print('a - b =', a - b) # است a - b معادل np.subtract(a, b)"
   ]
  },
  {
   "cell_type": "code",
   "execution_count": null,
   "id": "a4335035",
   "metadata": {},
   "outputs": [],
   "source": [
    "print('a * b =', np.multiply(a, b)) \n",
    "print('a * b =', a * b) # است a * b معادل np.multiply(a, b)"
   ]
  },
  {
   "cell_type": "code",
   "execution_count": null,
   "id": "353017c4",
   "metadata": {},
   "outputs": [],
   "source": [
    "print('a / b =', np.divide(a, b)) \n",
    "print('a / b =', a / b) # است a / b معادل np.divide(a, b)"
   ]
  },
  {
   "cell_type": "code",
   "execution_count": null,
   "id": "5cd9e992",
   "metadata": {},
   "outputs": [],
   "source": [
    "a = np.random.randint(0, 11, 5) # آرایه‌ای شامل 5 عدد تصادفی در بازه 0 تا 10\n",
    "b = np.random.randint(-10, 11, 5) # آرایه‌ای شامل 5 عدد تصادفی در بازه 10- تا 10\n",
    "print('a =', a)\n",
    "print('b =', b)"
   ]
  },
  {
   "cell_type": "code",
   "execution_count": null,
   "id": "01a8fe4d",
   "metadata": {},
   "outputs": [],
   "source": [
    "print('absolute values of b =', np.abs(b)) "
   ]
  },
  {
   "cell_type": "code",
   "execution_count": null,
   "id": "cd882a2e",
   "metadata": {},
   "outputs": [],
   "source": [
    "print('square values of a =', np.square(a) ) "
   ]
  },
  {
   "cell_type": "code",
   "execution_count": null,
   "id": "6157b4d9",
   "metadata": {},
   "outputs": [],
   "source": [
    "np.seterr(invalid=\"ignore\") # خطای ناشی از عملیات غیرمجاز را نادیده می‌گیرد\n",
    "a = np.array([1 , 2 , -3 , 4, -5])\n",
    "print('a = ', a)\n",
    "print('isnan results for a =', np.isnan(a))\n",
    "print('sqrt(a) = ', np.sqrt(a))\n",
    "print('isnan resultes for sqrt(a) =', np.isnan(np.sqrt(a)))"
   ]
  }
 ],
 "metadata": {
  "kernelspec": {
   "display_name": "Python 3 (ipykernel)",
   "language": "python",
   "name": "python3"
  },
  "language_info": {
   "codemirror_mode": {
    "name": "ipython",
    "version": 3
   },
   "file_extension": ".py",
   "mimetype": "text/x-python",
   "name": "python",
   "nbconvert_exporter": "python",
   "pygments_lexer": "ipython3",
   "version": "3.10.12"
  }
 },
 "nbformat": 4,
 "nbformat_minor": 5
}
