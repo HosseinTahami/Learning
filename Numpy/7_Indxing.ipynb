{
 "cells": [
  {
   "cell_type": "markdown",
   "id": "6a3609dc",
   "metadata": {},
   "source": [
    "<div align=center style=\"line-height:200%;font-family:vazir;font-size:medium;color:#0099cc\">\n",
    "<h1>\n",
    " نمایه‌سازی با آرایه‌ها \n",
    "</h1>\n",
    "</p>\n",
    "</div>\n",
    "\n",
    "\n",
    "\n"
   ]
  },
  {
   "cell_type": "code",
   "execution_count": null,
   "id": "d0e3d676",
   "metadata": {},
   "outputs": [],
   "source": [
    "import numpy as np"
   ]
  },
  {
   "cell_type": "code",
   "execution_count": null,
   "id": "6737658c",
   "metadata": {},
   "outputs": [],
   "source": [
    "t = np.array([[10, 12, 11, 17, 15, 11, 14],\n",
    "              [13, 15, 18, 21, 19, 18, 17],\n",
    "              [18, 20, 21, 19, 23, 24, 22],\n",
    "              [20, 23, 19, 21, 25, 22, 21]])"
   ]
  },
  {
   "cell_type": "code",
   "execution_count": null,
   "id": "d37d95b1",
   "metadata": {},
   "outputs": [],
   "source": [
    "t[(t >= 15) & (t <= 20)]"
   ]
  },
  {
   "cell_type": "code",
   "execution_count": null,
   "id": "449cf823",
   "metadata": {},
   "outputs": [],
   "source": [
    "print('میانگین دمای هوا در روزهای گرم‌تر از ۲۰ درجه:', t[t > 20].mean())\n",
    "print('میانه دمای هوا در روزهای سردتر از ۲۰ و گرم‌تر از ۱۵ درجه:', np.median(t[(t > 15) & (t < 20)]))"
   ]
  },
  {
   "cell_type": "code",
   "execution_count": null,
   "id": "14d3e049",
   "metadata": {},
   "outputs": [],
   "source": [
    "calendar = np.arange(4*7).reshape(4, 7)\n",
    "holidays = (calendar%7 >= 5) # آرایه بولی متناظر روزهای آخر هفته (پنج‌شنبه و جمعه)\n",
    "first_mid = (calendar < 2*7) # آرایه بولی متناظر روزهای دو هفته اول اردیبهشت\n",
    "print('میانه دمای روزهای آخرِ هفته کل ماه:', np.median(t[holidays]))\n",
    "print('میانه دمای دو هفته نخست ماه:', np.median(t[first_mid]))\n",
    "print('میانگین دمای روزهای آخرِ هفته در دو هفته پایانی ماه:', np.mean(t[~first_mid & holidays]))"
   ]
  },
  {
   "cell_type": "code",
   "execution_count": null,
   "id": "f2ce1a64",
   "metadata": {},
   "outputs": [],
   "source": [
    "a = np.array([1, 2, 4, 8, 16, 32])\n",
    "ind = [2, 3, 5]\n",
    "a[ind]"
   ]
  },
  {
   "cell_type": "code",
   "execution_count": null,
   "id": "29ca97b6",
   "metadata": {},
   "outputs": [],
   "source": [
    "ind = np.array([[2, 3],\n",
    "               [4, 1]])\n",
    "a[ind]"
   ]
  },
  {
   "cell_type": "code",
   "execution_count": null,
   "id": "7899b139",
   "metadata": {},
   "outputs": [],
   "source": [
    "a = np.arange(12).reshape(4, 3)\n",
    "print(a)\n",
    "row = np.array([0, 2, 3, 2])\n",
    "col = np.array([0, 2, 1, 0])\n",
    "a[row, col]"
   ]
  },
  {
   "cell_type": "code",
   "execution_count": null,
   "id": "4477bc68",
   "metadata": {},
   "outputs": [],
   "source": [
    "a[row[:, np.newaxis], col]"
   ]
  },
  {
   "cell_type": "code",
   "execution_count": null,
   "id": "ad899d30",
   "metadata": {},
   "outputs": [],
   "source": [
    "a = np.array([2, 1, 3, 4, 5])\n",
    "a[a%2 == 0] *= 10\n",
    "print(a)"
   ]
  },
  {
   "cell_type": "code",
   "execution_count": null,
   "id": "48cf16df",
   "metadata": {},
   "outputs": [],
   "source": [
    "a[[1, 1, 2, 4]] *= 10\n",
    "print(a)"
   ]
  },
  {
   "cell_type": "code",
   "execution_count": null,
   "id": "7b870978",
   "metadata": {},
   "outputs": [],
   "source": [
    "np.add.at(a, [0, 0, 0, 1, 1, 2], 5)\n",
    "print(a)"
   ]
  }
 ],
 "metadata": {
  "kernelspec": {
   "display_name": "Python 3 (ipykernel)",
   "language": "python",
   "name": "python3"
  },
  "language_info": {
   "codemirror_mode": {
    "name": "ipython",
    "version": 3
   },
   "file_extension": ".py",
   "mimetype": "text/x-python",
   "name": "python",
   "nbconvert_exporter": "python",
   "pygments_lexer": "ipython3",
   "version": "3.10.10"
  }
 },
 "nbformat": 4,
 "nbformat_minor": 5
}
