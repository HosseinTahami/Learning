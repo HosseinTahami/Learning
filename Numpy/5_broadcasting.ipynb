{
 "cells": [
  {
   "cell_type": "markdown",
   "id": "ecbce075",
   "metadata": {},
   "source": [
    "<h1 align=center style=\"line-height:200%;font-family:vazir;color:#0099cc\">\n",
    "<font face=\"vazir\" color=\"#0099cc\">\n",
    "پخش آرایه\n",
    "</font>\n",
    "</h1>\n"
   ]
  },
  {
   "cell_type": "code",
   "execution_count": 1,
   "id": "2af4be96",
   "metadata": {},
   "outputs": [],
   "source": [
    "import numpy as np\n",
    "np.random.seed(1400)"
   ]
  },
  {
   "cell_type": "code",
   "execution_count": null,
   "id": "630cbb18",
   "metadata": {},
   "outputs": [],
   "source": [
    "a = np.array([0, 1, 2, 3])\n",
    "b = np.array([2, 2, 2, 2])\n",
    "a * b"
   ]
  },
  {
   "cell_type": "code",
   "execution_count": null,
   "id": "a4a067c1",
   "metadata": {},
   "outputs": [],
   "source": [
    "2 * a"
   ]
  },
  {
   "cell_type": "code",
   "execution_count": null,
   "id": "5f797514",
   "metadata": {},
   "outputs": [],
   "source": [
    "a = np.arange(12).reshape(3, 4)\n",
    "print(a)\n",
    "b = np.array([3, 2, 1, 0])\n",
    "print(b)\n",
    "a + b"
   ]
  },
  {
   "cell_type": "code",
   "execution_count": null,
   "id": "a2bfa9c1",
   "metadata": {},
   "outputs": [],
   "source": [
    "b = np.array([8, 4, 0]).reshape(3, 1)\n",
    "print(b)\n",
    "a + b"
   ]
  },
  {
   "cell_type": "code",
   "execution_count": null,
   "id": "47e64638",
   "metadata": {},
   "outputs": [],
   "source": [
    "a = np.array([1, 2, 3, 4, 5])\n",
    "b = np.array([1, 2, 3, 4]).reshape(4, 1)\n",
    "print(a)\n",
    "print(b)\n",
    "a * b"
   ]
  },
  {
   "cell_type": "code",
   "execution_count": null,
   "id": "f1745a43",
   "metadata": {},
   "outputs": [],
   "source": [
    "a = np.random.normal(5, 1, (4, 5))\n",
    "print(a)"
   ]
  },
  {
   "cell_type": "code",
   "execution_count": null,
   "id": "21f22ad2",
   "metadata": {},
   "outputs": [],
   "source": [
    "col_mean = a.mean(axis=0)\n",
    "print(col_mean)"
   ]
  },
  {
   "cell_type": "code",
   "execution_count": null,
   "id": "5785ca35",
   "metadata": {},
   "outputs": [],
   "source": [
    "a -= col_mean\n",
    "print(a)"
   ]
  },
  {
   "cell_type": "code",
   "execution_count": null,
   "id": "d4cdccc8",
   "metadata": {},
   "outputs": [],
   "source": [
    "a.mean(axis=0)"
   ]
  }
 ],
 "metadata": {
  "interpreter": {
   "hash": "a1a46404003b1888471f66733c8ff43ecbbd22069e04669a0d47e7a2f84d0bb4"
  },
  "kernelspec": {
   "display_name": "Python 3 (ipykernel)",
   "language": "python",
   "name": "python3"
  },
  "language_info": {
   "codemirror_mode": {
    "name": "ipython",
    "version": 3
   },
   "file_extension": ".py",
   "mimetype": "text/x-python",
   "name": "python",
   "nbconvert_exporter": "python",
   "pygments_lexer": "ipython3",
   "version": "3.10.12"
  }
 },
 "nbformat": 4,
 "nbformat_minor": 5
}
